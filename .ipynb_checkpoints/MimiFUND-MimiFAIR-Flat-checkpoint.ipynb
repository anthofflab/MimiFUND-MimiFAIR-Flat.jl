{
 "cells": [
  {
   "cell_type": "markdown",
   "metadata": {},
   "source": [
    "## Implementation of MimiFAIR-MimiFUND"
   ]
  },
  {
   "cell_type": "markdown",
   "metadata": {},
   "source": [
    "This notebook implements a coupling of the MimiFAIR model and the MimiFUND model. At a high-level, the goal here is to use the MimiFAIR model as the climate module, and the MimiFUND model as the socioeconomic and damages modules, although in this case we still allow MimiFUND's climate module to take care of the modeling of non-CO₂ gases like methane.  \n",
    "\n",
    "This is meant to be an instructional example for the use-case of Mimi where a user wishes to couple together existing models.\n",
    "\n",
    "Resources for further inquiries include:\n",
    "\n",
    "- The Mimi framework [website](https://www.mimiframework.org)\n",
    "- The Mimi [forum](https://forum.mimiframework.org) for technical and Mimi-related questions\n",
    "- The model-specific repositories, [MimiFUND](https://github.com/fund-model/MimiFUND.jl) and [MimiFAIR](https://github.com/anthofflab/mimi-fair.jl/) for model-specific inquiries\n",
    "\n",
    "If you wish to follow alone, feel free to download or clone the Github repository, or create a new project on your own machine. If you are new to Mimi, you will probably want to start with our basic Mimi installation process as described in our documentation [here](https://www.mimiframework.org/Mimi.jl/stable/tutorials/tutorial_1/#Tutorial-1:-Install-Mimi-1)."
   ]
  },
  {
   "cell_type": "markdown",
   "metadata": {},
   "source": [
    "### Set up the Environment"
   ]
  },
  {
   "cell_type": "markdown",
   "metadata": {},
   "source": [
    "The first step is to set up the environment with the required packages and versions for this exercise as indicated in the `Manifest.toml` and `Project.toml` files. As you can see from the call to `Pkg.status()`, this work requires a few packages including the `master` branch of `Mimi`, the default (latest tagged) versions of `MimiFAIR` and `MimiFUND` model implementations, and some supporting packages `CSVFiles`, `DataFrames`, and `Vegalite`."
   ]
  },
  {
   "cell_type": "code",
   "execution_count": 1,
   "metadata": {},
   "outputs": [
    {
     "name": "stderr",
     "output_type": "stream",
     "text": [
      "\u001b[32m\u001b[1m  Activating\u001b[22m\u001b[39m environment at `~/JuliaProjects/MimiModels/MimiFUND-MimiFAIR-Flat.jl/Project.toml`\n"
     ]
    },
    {
     "name": "stdout",
     "output_type": "stream",
     "text": [
      "\u001b[32m\u001b[1m      Status\u001b[22m\u001b[39m `~/JuliaProjects/MimiModels/MimiFUND-MimiFAIR-Flat.jl/Project.toml`\n",
      " \u001b[90m [5d742f6a] \u001b[39m\u001b[37mCSVFiles v1.0.1\u001b[39m\n",
      " \u001b[90m [a93c6f00] \u001b[39m\u001b[37mDataFrames v0.22.7\u001b[39m\n",
      " \u001b[90m [e4e893b0] \u001b[39m\u001b[37mMimi v1.2.4-DEV `~/.julia/dev/Mimi`\u001b[39m\n",
      " \u001b[90m [73d86c50] \u001b[39m\u001b[37mMimiFAIR v1.0.1\u001b[39m\n",
      " \u001b[90m [b3ba11de] \u001b[39m\u001b[37mMimiFUND v3.12.2-DEV `https://github.com/fund-model/MimiFUND.jl.git#mcs`\u001b[39m\n",
      " \u001b[90m [112f6efa] \u001b[39m\u001b[37mVegaLite v2.6.0\u001b[39m\n"
     ]
    }
   ],
   "source": [
    "using Pkg\n",
    "Pkg.activate(@__DIR__)\n",
    "Pkg.status()"
   ]
  },
  {
   "cell_type": "markdown",
   "metadata": {},
   "source": [
    "Note that if you are following along on your own machine without downloading this repository, you can recreate this environment by adding each of the packages listed above with `Pkg.add()`."
   ]
  },
  {
   "cell_type": "code",
   "execution_count": 2,
   "metadata": {},
   "outputs": [],
   "source": [
    "# using Pkg\n",
    "# Pkg.add(\"CSVFiles\")\n",
    "# Pkg.add(\"DataFrames\")\n",
    "# Pkg.add(\"Mimi\")\n",
    "# Pkg.add(\"MimiFAIR\")\n",
    "# Pkg.add(\"MimiFUND\")\n",
    "# Pkg.add(\"VegaLite\")\n",
    "\n",
    "# Pkg.status()"
   ]
  },
  {
   "cell_type": "markdown",
   "metadata": {},
   "source": [
    "Next we load the packages whose APIs we will be directly using as well as set some constants to be used in the script."
   ]
  },
  {
   "cell_type": "code",
   "execution_count": 3,
   "metadata": {},
   "outputs": [
    {
     "name": "stderr",
     "output_type": "stream",
     "text": [
      "┌ Info: Precompiling MimiFAIR [73d86c50-c5fa-11e9-3497-c3dc913e627a]\n",
      "└ @ Base loading.jl:1317\n",
      "┌ Info: Precompiling MimiFUND [b3ba11de-429f-11e9-29f7-cb478ab96e7c]\n",
      "└ @ Base loading.jl:1317\n"
     ]
    }
   ],
   "source": [
    "using MimiFAIR\n",
    "using MimiFUND\n",
    "using Mimi"
   ]
  },
  {
   "cell_type": "markdown",
   "metadata": {},
   "source": [
    "### Load Helpers and Set Constants"
   ]
  },
  {
   "cell_type": "markdown",
   "metadata": {},
   "source": [
    "We will now load some helper functions and set some constants, most of which have to do with the difference in time dimensions between FAIR and FUND, which will drive much of our coupling work.\n",
    "\n",
    "\n",
    "The `helper.jl` file defines the `update_MimiFAIR_params!` function with the following signature.  This is copied directly from the source code of `MimiFAIR.jl` and takes care of the calls to `update_param!`, `add_shared_param!`, and `connect_param!` that build up the stand alone MimiFAIR model.\n",
    "\n",
    "\n",
    "```\n",
    "function update_MimiFAIR_params!(m; rcp_scenario::String=\"RCP85\", start_year::Int=1765, end_year::Int=2500, F2x::Float64=3.71, TCR::Float64=1.6, ECS::Float64=2.75, d::Array{Float64,1}=[239.0, 4.1])\n",
    "```\n",
    "\n",
    "In the future we can likely shorten this function by adding `default` values to the scalar parameters of FAIR."
   ]
  },
  {
   "cell_type": "code",
   "execution_count": 4,
   "metadata": {},
   "outputs": [],
   "source": [
    "include(\"src/helper.jl\");"
   ]
  },
  {
   "cell_type": "code",
   "execution_count": 5,
   "metadata": {},
   "outputs": [],
   "source": [
    "rcp = \"RCP85\"\n",
    "\n",
    "FAIR_first = 1765\n",
    "FAIR_last = 2500\n",
    "FAIR_len = length(FAIR_first:FAIR_last)\n",
    "\n",
    "FUND_first = 1950\n",
    "FUND_last = 2500\n",
    "FUND_len = length(FUND_first:FUND_last);"
   ]
  },
  {
   "cell_type": "markdown",
   "metadata": {},
   "source": [
    "### Load Independent (Default) FUND and FAIR Models"
   ]
  },
  {
   "cell_type": "markdown",
   "metadata": {},
   "source": [
    "We begin with the default FUND model as implemented in `MimiFUND.jl`."
   ]
  },
  {
   "cell_type": "code",
   "execution_count": 6,
   "metadata": {},
   "outputs": [
    {
     "data": {
      "text/plain": [
       "Mimi.Model\n",
       "  Module: Mimi\n",
       "  Components:\n",
       "    ComponentId(MimiFUND.scenariouncertainty)\n",
       "    ComponentId(MimiFUND.population)\n",
       "    ComponentId(MimiFUND.geography)\n",
       "    ComponentId(MimiFUND.socioeconomic)\n",
       "    ComponentId(MimiFUND.emissions)\n",
       "    ComponentId(MimiFUND.climateco2cycle)\n",
       "    ComponentId(MimiFUND.climatech4cycle)\n",
       "    ComponentId(MimiFUND.climaten2ocycle)\n",
       "    ComponentId(MimiFUND.climatesf6cycle)\n",
       "    ComponentId(MimiFUND.climateforcing)\n",
       "    ComponentId(MimiFUND.climatedynamics)\n",
       "    ComponentId(MimiFUND.biodiversity)\n",
       "    ComponentId(MimiFUND.climateregional)\n",
       "    ComponentId(MimiFUND.ocean)\n",
       "    ComponentId(MimiFUND.impactagriculture)\n",
       "    ComponentId(MimiFUND.impactbiodiversity)\n",
       "    ComponentId(MimiFUND.impactcardiovascularrespiratory)\n",
       "    ComponentId(MimiFUND.impactcooling)\n",
       "    ComponentId(MimiFUND.impactdiarrhoea)\n",
       "    ComponentId(MimiFUND.impactextratropicalstorms)\n",
       "    ComponentId(MimiFUND.impactforests)\n",
       "    ComponentId(MimiFUND.impactheating)\n",
       "    ComponentId(MimiFUND.impactvectorbornediseases)\n",
       "    ComponentId(MimiFUND.impacttropicalstorms)\n",
       "    ComponentId(MimiFUND.vslvmorb)\n",
       "    ComponentId(MimiFUND.impactdeathmorbidity)\n",
       "    ComponentId(MimiFUND.impactwaterresources)\n",
       "    ComponentId(MimiFUND.impactsealevelrise)\n",
       "    ComponentId(MimiFUND.impactaggregation)\n",
       "  Built: false\n"
      ]
     },
     "execution_count": 6,
     "metadata": {},
     "output_type": "execute_result"
    }
   ],
   "source": [
    "m = MimiFUND.get_model()"
   ]
  },
  {
   "cell_type": "markdown",
   "metadata": {},
   "source": [
    "We will now import each of the individual FAIR components."
   ]
  },
  {
   "cell_type": "code",
   "execution_count": 7,
   "metadata": {},
   "outputs": [],
   "source": [
    "import MimiFAIR: ch4_cycle, n2o_cycle, other_ghg_cycles, co2_cycle, ch4_rf, \n",
    "    n2o_rf, other_ghg_rf, co2_rf, trop_o3_rf, strat_o3_rf, aerosol_direct_rf, \n",
    "    aerosol_indirect_rf, bc_snow_rf, landuse_rf, contrails_rf, total_rf, temperature;"
   ]
  },
  {
   "cell_type": "markdown",
   "metadata": {},
   "source": [
    "### Add and Update Dimensions"
   ]
  },
  {
   "cell_type": "markdown",
   "metadata": {},
   "source": [
    "The first step in building out our coupled model, starting with our default FUND model, is to handle dimensions. Currently the model `m` has two dimensions, `time` and `regions`. "
   ]
  },
  {
   "cell_type": "code",
   "execution_count": 8,
   "metadata": {},
   "outputs": [
    {
     "data": {
      "text/plain": [
       "OrderedCollections.OrderedDict{Symbol, Union{Nothing, Mimi.Dimension}} with 3 entries:\n",
       "  :time       => [1950, 1951, 1952, 1953, 1954, 1955, 1956, 1957, 1958, 1959  ……\n",
       "  :regions    => [\"USA\", \"CAN\", \"WEU\", \"JPK\", \"ANZ\", \"EEU\", \"FSU\", \"MDE\", \"CAM\"…\n",
       "  Symbol(\"5\") => [1, 2, 3, 4, 5]"
      ]
     },
     "execution_count": 8,
     "metadata": {},
     "output_type": "execute_result"
    }
   ],
   "source": [
    "m.md.dim_dict # display the dimensions of the default FUND model"
   ]
  },
  {
   "cell_type": "markdown",
   "metadata": {},
   "source": [
    "We now add two new dimensions to our model `m` that are used by FAIR."
   ]
  },
  {
   "cell_type": "code",
   "execution_count": 9,
   "metadata": {},
   "outputs": [
    {
     "data": {
      "text/plain": [
       "OrderedCollections.OrderedDict{Symbol, Union{Nothing, Mimi.Dimension}} with 5 entries:\n",
       "  :time                       => [1950, 1951, 1952, 1953, 1954, 1955, 1956, 195…\n",
       "  :regions                    => [\"USA\", \"CAN\", \"WEU\", \"JPK\", \"ANZ\", \"EEU\", \"FS…\n",
       "  Symbol(\"5\")                 => [1, 2, 3, 4, 5]\n",
       "  :other_ghg                  => [\"CF4\", \"C2F6\", \"C6F14\", \"HFC23\", \"HFC32\", \"HF…\n",
       "  :ozone_depleting_substances => [\"CFC_11\", \"CFC_12\", \"CFC_113\", \"CFC_114\", \"CF…"
      ]
     },
     "execution_count": 9,
     "metadata": {},
     "output_type": "execute_result"
    }
   ],
   "source": [
    "other_ghg_names = [\"CF4\", \"C2F6\", \"C6F14\", \"HFC23\", \"HFC32\", \"HFC43_10\", \"HFC125\", \"HFC134a\", \"HFC143a\", \"HFC227ea\", \"HFC245fa\", \"SF6\", \"CFC_11\", \"CFC_12\", \"CFC_113\", \"CFC_114\", \"CFC_115\", \"CARB_TET\", \"MCF\", \"HCFC_22\", \"HCFC_141B\", \"HCFC_142B\", \"HALON1211\", \"HALON1202\", \"HALON1301\", \"HALON2402\", \"CH3BR\", \"CH3CL\"]\n",
    "ods_names = [\"CFC_11\", \"CFC_12\", \"CFC_113\", \"CFC_114\", \"CFC_115\", \"CARB_TET\", \"MCF\", \"HCFC_22\", \"HCFC_141B\", \"HCFC_142B\", \"HALON1211\", \"HALON1202\", \"HALON1301\", \"HALON2402\", \"CH3BR\", \"CH3CL\"]\n",
    "\n",
    "set_dimension!(m, :other_ghg, other_ghg_names) # FAIR dims - Set index for Kyoto and ozone ozone-depleting gases.\n",
    "set_dimension!(m, :ozone_depleting_substances, ods_names) # FAIR dims - Set index for Kyoto and ozone ozone-depleting gases.\n",
    "\n",
    "m.md.dim_dict  # display the (augmented) dimensions of the default FUND model's Model Definition"
   ]
  },
  {
   "cell_type": "markdown",
   "metadata": {},
   "source": [
    "The final dimensions-related step is to expand the time dimension of the model.  At this stage, our model runs on FUND's default time dimension 1950 to 3000 (`FUND_first` to `FUND_last`).  FAIR, however, runs from 1765 to 2500 (`FAIR_first` to `FAIR_last`) so we are going to set our model to run from 1765 to 2500.\n",
    "\n",
    "FUND will not start running until 1950, and will not produce an `emissions` value until 1951, so up until 1951 FAIR will use `backup` values pulled from default FUND as we will describe in detail below.\n",
    "\n",
    "**For further details on the effects and restrictions around updating the `time` dimension of a model see the documentation [here](https://www.mimiframework.org/Mimi.jl/dev/howto/howto_5/).**"
   ]
  },
  {
   "cell_type": "code",
   "execution_count": 10,
   "metadata": {},
   "outputs": [
    {
     "data": {
      "text/plain": [
       "OrderedCollections.OrderedDict{Symbol, Union{Nothing, Mimi.Dimension}} with 5 entries:\n",
       "  :time                       => [1765, 1766, 1767, 1768, 1769, 1770, 1771, 177…\n",
       "  :regions                    => [\"USA\", \"CAN\", \"WEU\", \"JPK\", \"ANZ\", \"EEU\", \"FS…\n",
       "  Symbol(\"5\")                 => [1, 2, 3, 4, 5]\n",
       "  :other_ghg                  => [\"CF4\", \"C2F6\", \"C6F14\", \"HFC23\", \"HFC32\", \"HF…\n",
       "  :ozone_depleting_substances => [\"CFC_11\", \"CFC_12\", \"CFC_113\", \"CFC_114\", \"CF…"
      ]
     },
     "execution_count": 10,
     "metadata": {},
     "output_type": "execute_result"
    }
   ],
   "source": [
    "set_dimension!(m, :time, collect(FAIR_first:FAIR_last))\n",
    "\n",
    "m.md.dim_dict # display the (udpated) dimensions of the model"
   ]
  },
  {
   "cell_type": "markdown",
   "metadata": {},
   "source": [
    "### Augment FUND with FAIR Components"
   ]
  },
  {
   "cell_type": "markdown",
   "metadata": {},
   "source": [
    "We now add the FAIR components to our model.  We place them in a contiguous block starting after the FUND `emissions` component, which will feed results into the FAIR components before FAIR feeds back into FUND from its `temperature` component.\n",
    "\n",
    "Also note that since we have updated the time dimension to run from `FAIR_first` to `FAIR_last`, or 1765 to 2500, each of these new components will be set to run from 1765 to 2500, the full model time period, by default."
   ]
  },
  {
   "cell_type": "code",
   "execution_count": 11,
   "metadata": {},
   "outputs": [],
   "source": [
    "add_comp!(m, ch4_cycle; after = :emissions);\n",
    "add_comp!(m, n2o_cycle; after = :ch4_cycle);\n",
    "add_comp!(m, other_ghg_cycles; after = :n2o_cycle);\n",
    "add_comp!(m, co2_cycle; after = :other_ghg_cycles);\n",
    "add_comp!(m, ch4_rf; after = :co2_cycle);\n",
    "add_comp!(m, n2o_rf; after = :ch4_rf);\n",
    "add_comp!(m, other_ghg_rf; after = :n2o_rf);\n",
    "add_comp!(m, co2_rf; after = :other_ghg_rf);\n",
    "add_comp!(m, trop_o3_rf; after = :co2_rf);\n",
    "add_comp!(m, strat_o3_rf; after = :trop_o3_rf);\n",
    "add_comp!(m, aerosol_direct_rf; after = :strat_o3_rf);\n",
    "add_comp!(m, aerosol_indirect_rf; after = :aerosol_direct_rf);\n",
    "add_comp!(m, bc_snow_rf; after = :aerosol_indirect_rf);\n",
    "add_comp!(m, landuse_rf; after = :bc_snow_rf);\n",
    "add_comp!(m, contrails_rf; after = :landuse_rf);\n",
    "add_comp!(m, total_rf; after = :contrails_rf);\n",
    "add_comp!(m, temperature; after = :total_rf);"
   ]
  },
  {
   "cell_type": "markdown",
   "metadata": {},
   "source": [
    "Next we run our helper function to update all the FAIR component parameters and make their internal connections, such that we have added  a fully functional and runnable FAIR model into our FUND model.\n"
   ]
  },
  {
   "cell_type": "code",
   "execution_count": 12,
   "metadata": {},
   "outputs": [],
   "source": [
    "update_MimiFAIR_params!(m)"
   ]
  },
  {
   "cell_type": "markdown",
   "metadata": {},
   "source": [
    "At this point the model `m` is runnable (and in fact none of the steps in this notebook thus far have made an invalid, unrunnable model), but currently `m` will run FUND and FAIR in their default modes and completely disconnected.  The next section describes the steps to couple them together."
   ]
  },
  {
   "cell_type": "markdown",
   "metadata": {},
   "source": [
    "### Couple FUND and FAIR"
   ]
  },
  {
   "cell_type": "markdown",
   "metadata": {},
   "source": [
    "#### FUND Emissions --> Convert Mtons to Gtons --> FAIR CO₂ Cycle"
   ]
  },
  {
   "cell_type": "markdown",
   "metadata": {},
   "source": [
    "We want to connect the FUND `emissions` component's `mco2` variable the FAIR `co2_cycle` component's `E_CO₂` parameter.  In the stand-alone version of FAIR, the `E_CO₂` is exogenously forced by the summation of all `CO₂` sources, as shown in it's source code (and the `helper.jl` file):\n",
    "\n",
    "```\n",
    "rcp_emissions, volcano_forcing, solar_forcing, gas_data, gas_fractions, conversions = MimiFAIR.load_fair_data(start_year, end_year, rcp_scenario)\n",
    "\n",
    "update_param!(m, :co2_cycle, :E_CO₂, rcp_emissions.FossilCO2 .+ rcp_emissions.OtherCO2)\n",
    "```"
   ]
  },
  {
   "cell_type": "markdown",
   "metadata": {},
   "source": [
    "First we need to add a `multiplier` component between FUND's `emissions` component and the FAIR components because FUND outputs Mtons of CO₂ but FAIR expects Gtons of CO₂.\n",
    "\n",
    "Mimi has a few built in components for this type of situation, including `Mimi.multiplier`, as decribed [here](https://www.mimiframework.org/Mimi.jl/stable/tutorials/tutorial_3/#Component-and-Structural-Modifications:-The-API-1).  \n",
    "\n",
    "This small component just needs a connected `input` parameter and a `multiply` parameter to produce an `output` variable. In this case, we connect the `multiplier` component's `input` parameter to the `emissions` component's `mco2` variable and set `multiply` parameter to our unit conversion value of 1/1000. We also set the `multiplier` component to run only while FUND runs by setting `first = FUND_first` and `last = FUND_last`."
   ]
  },
  {
   "cell_type": "code",
   "execution_count": 13,
   "metadata": {},
   "outputs": [],
   "source": [
    "add_comp!(m, Mimi.multiplier; after = :emissions, first = FUND_first, last = FUND_last);\n",
    "update_param!(m, :multiplier, :multiply, fill(1/1000, FAIR_len))\n",
    "connect_param!(m, :multiplier, :input, :emissions, :mco2)"
   ]
  },
  {
   "cell_type": "markdown",
   "metadata": {},
   "source": [
    "Now that we have taken care of unit conversion, we can connect the FAIR `co2_cycle` component's `E_CO₂` parameter to the `multiplier` component's `output` variable.  A few notes on the arguments having to do with backup data are:\n",
    "\n",
    "- Since FAIR runs from 1765 to 1950, but FUND (and the multiplier) only runs from 1950 to 2500, we need to include backup data `FAIR_CO₂_backup` for FAIR to use until FUND can provide a value.  We use the same data that previously exogenously forced FAIR.\n",
    "\n",
    "\n",
    "- We also need to include the `backup_offset` optional argument for the `connect_param!` function, because FUND does not actually produce a value for `mco2` until it's *second* timestep, or in this case 1951, and thus we set `backup_offset = 1`."
   ]
  },
  {
   "cell_type": "code",
   "execution_count": 14,
   "metadata": {},
   "outputs": [],
   "source": [
    "# destination: FAIR component :co2_cycle parameter :E_CO₂\n",
    "# previous source: exogenous parameter\n",
    "# new source: FUND :emissions variable :mco2 (which first runs through the multiplier component)\n",
    "\n",
    "rcp_emissions, volcano_forcing, solar_forcing, gas_data, gas_fractions, conversions = MimiFAIR.load_fair_data(FAIR_first, FAIR_last, rcp);\n",
    "FAIR_CO₂_backup = (rcp_emissions.FossilCO2 .+ rcp_emissions.OtherCO2)\n",
    "connect_param!(m, :co2_cycle, :E_CO₂, :multiplier, :output, FAIR_CO₂_backup, backup_offset = 1)"
   ]
  },
  {
   "cell_type": "markdown",
   "metadata": {},
   "source": [
    "#### FAIR Temperature --> FUND CO₂ Cycle, Biodiversity, Ocean and Regional Climate Components"
   ]
  },
  {
   "cell_type": "markdown",
   "metadata": {},
   "source": [
    "Now we want to connect FAIR's output temperature variable `T` from component `temperature` back into FUND, both to the `temp` parameter of the `climateco2cycle`, `biodiversity`, and `ocean` components and into the `inputtemp` parameter of the `climateregional` component."
   ]
  },
  {
   "cell_type": "code",
   "execution_count": 15,
   "metadata": {},
   "outputs": [],
   "source": [
    "# destination: FUND components :climateco2cycle, :biodiversity, :ocean --> parameter :temp\n",
    "# previous source: FUND component :climatedynamics --> variable :temp\n",
    "# new source: FAIR :temperature --> variable :T\n",
    "\n",
    "connect_param!(m, :climateco2cycle, :temp, :temperature, :T)\n",
    "connect_param!(m, :biodiversity, :temp, :temperature, :T)\n",
    "connect_param!(m, :ocean, :temp, :temperature, :T)"
   ]
  },
  {
   "cell_type": "code",
   "execution_count": 16,
   "metadata": {},
   "outputs": [],
   "source": [
    "# destination: FUND component :climateregional, parameter :inputtemp\n",
    "# previous source: FUND component :climatedynamics --> variable :temp\n",
    "# new source: FAIR component :temperature --> variable :T\n",
    "\n",
    "connect_param!(m, :climateregional, :inputtemp, :temperature, :T)"
   ]
  },
  {
   "cell_type": "markdown",
   "metadata": {},
   "source": [
    "### Run and Visualize"
   ]
  },
  {
   "cell_type": "markdown",
   "metadata": {},
   "source": [
    "Now we can run our coupled model and visualize the results with the `explore`, `plot`, and indexing functions. We will also grab the default FUND and FAIR models for comparisons."
   ]
  },
  {
   "cell_type": "code",
   "execution_count": 25,
   "metadata": {},
   "outputs": [],
   "source": [
    "run(m) # coupled model\n",
    "\n",
    "mfund = MimiFUND.get_model()\n",
    "run(mfund)\n",
    "\n",
    "mfair = MimiFAIR.get_model()\n",
    "run(mfair)"
   ]
  },
  {
   "cell_type": "code",
   "execution_count": 26,
   "metadata": {},
   "outputs": [
    {
     "data": {
      "text/plain": [
       "Electron.Window(Application(Base.PipeEndpoint(RawFD(53) paused, 0 bytes waiting), Process(`\u001b[4m/Users/lisarennels/.julia/artifacts/3ba739a4ed073587d96415faecef10a5ccea63ba/Julia.app/Contents/MacOS/Julia\u001b[24m \u001b[4m/Users/lisarennels/.julia/packages/Electron/ILvWR/src/main.js\u001b[24m \u001b[4m/var/folders/1w/jm1h6fwj0t536vld2gxj7kzr0000gn/T/jlel-0972bdbcac8411eb18573b5a65df567f\u001b[24m \u001b[4m/var/folders/1w/jm1h6fwj0t536vld2gxj7kzr0000gn/T/jlel-sn-0972eeaeac8411eb151d67d4abad404e\u001b[24m \u001b[4mMEKCj092q4U2ATu8It/xAmC1AXBjyFd37HHiiHb7UhhtJnDDncEXx8DBlq9IiAJKjY4jOYh5EXfx/l8VlPKWQ0WiH3/gRJzffgC6vrHRdO3MaOPNTxW9rzuNMxYIk3xqgl6qFUsX0HejJex2WjPkYM2ox8XokfFEcrVR+XYNR8E=\u001b[24m`, ProcessRunning), [1 window]), 1, true, Channel{Any}(128))"
      ]
     },
     "execution_count": 26,
     "metadata": {},
     "output_type": "execute_result"
    }
   ],
   "source": [
    "explore(m)"
   ]
  },
  {
   "cell_type": "markdown",
   "metadata": {},
   "source": [
    "#### Compare Some Time Series"
   ]
  },
  {
   "cell_type": "markdown",
   "metadata": {},
   "source": [
    "One interesting step might be to compare some time series between the different models.  We could use the `Mimi.plot` function (ie. `Mimi.plot(m, :temperature, :T`) but here we will use some custom written plot code with the `VegaLite` package."
   ]
  },
  {
   "cell_type": "code",
   "execution_count": 27,
   "metadata": {},
   "outputs": [],
   "source": [
    "using VegaLite\n",
    "using DataFrames"
   ]
  },
  {
   "cell_type": "markdown",
   "metadata": {},
   "source": [
    "Temperature"
   ]
  },
  {
   "cell_type": "code",
   "execution_count": 28,
   "metadata": {},
   "outputs": [],
   "source": [
    "fairvals = mfair[:temperature, :T]\n",
    "fundfairvals =  m[:temperature, :T]\n",
    "fundvals = vcat(\n",
    "    fill(missing, length(FAIR_first:FUND_first)-1),\n",
    "    mfund[:climateco2cycle, :temp][1:length(FUND_first:FAIR_last),:]\n",
    ")\n",
    "fundvals = fundvals[:,1]; # make a vector"
   ]
  },
  {
   "cell_type": "code",
   "execution_count": 29,
   "metadata": {},
   "outputs": [
    {
     "data": {
      "application/vnd.vegalite.v4+json": {
       "data": {
        "values": [
         {
          "Year": 1765,
          "value": null,
          "variable": "FUND"
         },
         {
          "Year": 1766,
          "value": null,
          "variable": "FUND"
         },
         {
          "Year": 1767,
          "value": null,
          "variable": "FUND"
         },
         {
          "Year": 1768,
          "value": null,
          "variable": "FUND"
         },
         {
          "Year": 1769,
          "value": null,
          "variable": "FUND"
         },
         {
          "Year": 1770,
          "value": null,
          "variable": "FUND"
         },
         {
          "Year": 1771,
          "value": null,
          "variable": "FUND"
         },
         {
          "Year": 1772,
          "value": null,
          "variable": "FUND"
         },
         {
          "Year": 1773,
          "value": null,
          "variable": "FUND"
         },
         {
          "Year": 1774,
          "value": null,
          "variable": "FUND"
         },
         {
          "Year": 1775,
          "value": null,
          "variable": "FUND"
         },
         {
          "Year": 1776,
          "value": null,
          "variable": "FUND"
         },
         {
          "Year": 1777,
          "value": null,
          "variable": "FUND"
         },
         {
          "Year": 1778,
          "value": null,
          "variable": "FUND"
         },
         {
          "Year": 1779,
          "value": null,
          "variable": "FUND"
         },
         {
          "Year": 1780,
          "value": null,
          "variable": "FUND"
         },
         {
          "Year": 1781,
          "value": null,
          "variable": "FUND"
         },
         {
          "Year": 1782,
          "value": null,
          "variable": "FUND"
         },
         {
          "Year": 1783,
          "value": null,
          "variable": "FUND"
         },
         {
          "Year": 1784,
          "value": null,
          "variable": "FUND"
         },
         {
          "Year": 1785,
          "value": null,
          "variable": "FUND"
         },
         {
          "Year": 1786,
          "value": null,
          "variable": "FUND"
         },
         {
          "Year": 1787,
          "value": null,
          "variable": "FUND"
         },
         {
          "Year": 1788,
          "value": null,
          "variable": "FUND"
         },
         {
          "Year": 1789,
          "value": null,
          "variable": "FUND"
         },
         {
          "Year": 1790,
          "value": null,
          "variable": "FUND"
         },
         {
          "Year": 1791,
          "value": null,
          "variable": "FUND"
         },
         {
          "Year": 1792,
          "value": null,
          "variable": "FUND"
         },
         {
          "Year": 1793,
          "value": null,
          "variable": "FUND"
         },
         {
          "Year": 1794,
          "value": null,
          "variable": "FUND"
         },
         {
          "Year": 1795,
          "value": null,
          "variable": "FUND"
         },
         {
          "Year": 1796,
          "value": null,
          "variable": "FUND"
         },
         {
          "Year": 1797,
          "value": null,
          "variable": "FUND"
         },
         {
          "Year": 1798,
          "value": null,
          "variable": "FUND"
         },
         {
          "Year": 1799,
          "value": null,
          "variable": "FUND"
         },
         {
          "Year": 1800,
          "value": null,
          "variable": "FUND"
         },
         {
          "Year": 1801,
          "value": null,
          "variable": "FUND"
         },
         {
          "Year": 1802,
          "value": null,
          "variable": "FUND"
         },
         {
          "Year": 1803,
          "value": null,
          "variable": "FUND"
         },
         {
          "Year": 1804,
          "value": null,
          "variable": "FUND"
         },
         {
          "Year": 1805,
          "value": null,
          "variable": "FUND"
         },
         {
          "Year": 1806,
          "value": null,
          "variable": "FUND"
         },
         {
          "Year": 1807,
          "value": null,
          "variable": "FUND"
         },
         {
          "Year": 1808,
          "value": null,
          "variable": "FUND"
         },
         {
          "Year": 1809,
          "value": null,
          "variable": "FUND"
         },
         {
          "Year": 1810,
          "value": null,
          "variable": "FUND"
         },
         {
          "Year": 1811,
          "value": null,
          "variable": "FUND"
         },
         {
          "Year": 1812,
          "value": null,
          "variable": "FUND"
         },
         {
          "Year": 1813,
          "value": null,
          "variable": "FUND"
         },
         {
          "Year": 1814,
          "value": null,
          "variable": "FUND"
         },
         {
          "Year": 1815,
          "value": null,
          "variable": "FUND"
         },
         {
          "Year": 1816,
          "value": null,
          "variable": "FUND"
         },
         {
          "Year": 1817,
          "value": null,
          "variable": "FUND"
         },
         {
          "Year": 1818,
          "value": null,
          "variable": "FUND"
         },
         {
          "Year": 1819,
          "value": null,
          "variable": "FUND"
         },
         {
          "Year": 1820,
          "value": null,
          "variable": "FUND"
         },
         {
          "Year": 1821,
          "value": null,
          "variable": "FUND"
         },
         {
          "Year": 1822,
          "value": null,
          "variable": "FUND"
         },
         {
          "Year": 1823,
          "value": null,
          "variable": "FUND"
         },
         {
          "Year": 1824,
          "value": null,
          "variable": "FUND"
         },
         {
          "Year": 1825,
          "value": null,
          "variable": "FUND"
         },
         {
          "Year": 1826,
          "value": null,
          "variable": "FUND"
         },
         {
          "Year": 1827,
          "value": null,
          "variable": "FUND"
         },
         {
          "Year": 1828,
          "value": null,
          "variable": "FUND"
         },
         {
          "Year": 1829,
          "value": null,
          "variable": "FUND"
         },
         {
          "Year": 1830,
          "value": null,
          "variable": "FUND"
         },
         {
          "Year": 1831,
          "value": null,
          "variable": "FUND"
         },
         {
          "Year": 1832,
          "value": null,
          "variable": "FUND"
         },
         {
          "Year": 1833,
          "value": null,
          "variable": "FUND"
         },
         {
          "Year": 1834,
          "value": null,
          "variable": "FUND"
         },
         {
          "Year": 1835,
          "value": null,
          "variable": "FUND"
         },
         {
          "Year": 1836,
          "value": null,
          "variable": "FUND"
         },
         {
          "Year": 1837,
          "value": null,
          "variable": "FUND"
         },
         {
          "Year": 1838,
          "value": null,
          "variable": "FUND"
         },
         {
          "Year": 1839,
          "value": null,
          "variable": "FUND"
         },
         {
          "Year": 1840,
          "value": null,
          "variable": "FUND"
         },
         {
          "Year": 1841,
          "value": null,
          "variable": "FUND"
         },
         {
          "Year": 1842,
          "value": null,
          "variable": "FUND"
         },
         {
          "Year": 1843,
          "value": null,
          "variable": "FUND"
         },
         {
          "Year": 1844,
          "value": null,
          "variable": "FUND"
         },
         {
          "Year": 1845,
          "value": null,
          "variable": "FUND"
         },
         {
          "Year": 1846,
          "value": null,
          "variable": "FUND"
         },
         {
          "Year": 1847,
          "value": null,
          "variable": "FUND"
         },
         {
          "Year": 1848,
          "value": null,
          "variable": "FUND"
         },
         {
          "Year": 1849,
          "value": null,
          "variable": "FUND"
         },
         {
          "Year": 1850,
          "value": null,
          "variable": "FUND"
         },
         {
          "Year": 1851,
          "value": null,
          "variable": "FUND"
         },
         {
          "Year": 1852,
          "value": null,
          "variable": "FUND"
         },
         {
          "Year": 1853,
          "value": null,
          "variable": "FUND"
         },
         {
          "Year": 1854,
          "value": null,
          "variable": "FUND"
         },
         {
          "Year": 1855,
          "value": null,
          "variable": "FUND"
         },
         {
          "Year": 1856,
          "value": null,
          "variable": "FUND"
         },
         {
          "Year": 1857,
          "value": null,
          "variable": "FUND"
         },
         {
          "Year": 1858,
          "value": null,
          "variable": "FUND"
         },
         {
          "Year": 1859,
          "value": null,
          "variable": "FUND"
         },
         {
          "Year": 1860,
          "value": null,
          "variable": "FUND"
         },
         {
          "Year": 1861,
          "value": null,
          "variable": "FUND"
         },
         {
          "Year": 1862,
          "value": null,
          "variable": "FUND"
         },
         {
          "Year": 1863,
          "value": null,
          "variable": "FUND"
         },
         {
          "Year": 1864,
          "value": null,
          "variable": "FUND"
         },
         {
          "Year": 1865,
          "value": null,
          "variable": "FUND"
         },
         {
          "Year": 1866,
          "value": null,
          "variable": "FUND"
         },
         {
          "Year": 1867,
          "value": null,
          "variable": "FUND"
         },
         {
          "Year": 1868,
          "value": null,
          "variable": "FUND"
         },
         {
          "Year": 1869,
          "value": null,
          "variable": "FUND"
         },
         {
          "Year": 1870,
          "value": null,
          "variable": "FUND"
         },
         {
          "Year": 1871,
          "value": null,
          "variable": "FUND"
         },
         {
          "Year": 1872,
          "value": null,
          "variable": "FUND"
         },
         {
          "Year": 1873,
          "value": null,
          "variable": "FUND"
         },
         {
          "Year": 1874,
          "value": null,
          "variable": "FUND"
         },
         {
          "Year": 1875,
          "value": null,
          "variable": "FUND"
         },
         {
          "Year": 1876,
          "value": null,
          "variable": "FUND"
         },
         {
          "Year": 1877,
          "value": null,
          "variable": "FUND"
         },
         {
          "Year": 1878,
          "value": null,
          "variable": "FUND"
         },
         {
          "Year": 1879,
          "value": null,
          "variable": "FUND"
         },
         {
          "Year": 1880,
          "value": null,
          "variable": "FUND"
         },
         {
          "Year": 1881,
          "value": null,
          "variable": "FUND"
         },
         {
          "Year": 1882,
          "value": null,
          "variable": "FUND"
         },
         {
          "Year": 1883,
          "value": null,
          "variable": "FUND"
         },
         {
          "Year": 1884,
          "value": null,
          "variable": "FUND"
         },
         {
          "Year": 1885,
          "value": null,
          "variable": "FUND"
         },
         {
          "Year": 1886,
          "value": null,
          "variable": "FUND"
         },
         {
          "Year": 1887,
          "value": null,
          "variable": "FUND"
         },
         {
          "Year": 1888,
          "value": null,
          "variable": "FUND"
         },
         {
          "Year": 1889,
          "value": null,
          "variable": "FUND"
         },
         {
          "Year": 1890,
          "value": null,
          "variable": "FUND"
         },
         {
          "Year": 1891,
          "value": null,
          "variable": "FUND"
         },
         {
          "Year": 1892,
          "value": null,
          "variable": "FUND"
         },
         {
          "Year": 1893,
          "value": null,
          "variable": "FUND"
         },
         {
          "Year": 1894,
          "value": null,
          "variable": "FUND"
         },
         {
          "Year": 1895,
          "value": null,
          "variable": "FUND"
         },
         {
          "Year": 1896,
          "value": null,
          "variable": "FUND"
         },
         {
          "Year": 1897,
          "value": null,
          "variable": "FUND"
         },
         {
          "Year": 1898,
          "value": null,
          "variable": "FUND"
         },
         {
          "Year": 1899,
          "value": null,
          "variable": "FUND"
         },
         {
          "Year": 1900,
          "value": null,
          "variable": "FUND"
         },
         {
          "Year": 1901,
          "value": null,
          "variable": "FUND"
         },
         {
          "Year": 1902,
          "value": null,
          "variable": "FUND"
         },
         {
          "Year": 1903,
          "value": null,
          "variable": "FUND"
         },
         {
          "Year": 1904,
          "value": null,
          "variable": "FUND"
         },
         {
          "Year": 1905,
          "value": null,
          "variable": "FUND"
         },
         {
          "Year": 1906,
          "value": null,
          "variable": "FUND"
         },
         {
          "Year": 1907,
          "value": null,
          "variable": "FUND"
         },
         {
          "Year": 1908,
          "value": null,
          "variable": "FUND"
         },
         {
          "Year": 1909,
          "value": null,
          "variable": "FUND"
         },
         {
          "Year": 1910,
          "value": null,
          "variable": "FUND"
         },
         {
          "Year": 1911,
          "value": null,
          "variable": "FUND"
         },
         {
          "Year": 1912,
          "value": null,
          "variable": "FUND"
         },
         {
          "Year": 1913,
          "value": null,
          "variable": "FUND"
         },
         {
          "Year": 1914,
          "value": null,
          "variable": "FUND"
         },
         {
          "Year": 1915,
          "value": null,
          "variable": "FUND"
         },
         {
          "Year": 1916,
          "value": null,
          "variable": "FUND"
         },
         {
          "Year": 1917,
          "value": null,
          "variable": "FUND"
         },
         {
          "Year": 1918,
          "value": null,
          "variable": "FUND"
         },
         {
          "Year": 1919,
          "value": null,
          "variable": "FUND"
         },
         {
          "Year": 1920,
          "value": null,
          "variable": "FUND"
         },
         {
          "Year": 1921,
          "value": null,
          "variable": "FUND"
         },
         {
          "Year": 1922,
          "value": null,
          "variable": "FUND"
         },
         {
          "Year": 1923,
          "value": null,
          "variable": "FUND"
         },
         {
          "Year": 1924,
          "value": null,
          "variable": "FUND"
         },
         {
          "Year": 1925,
          "value": null,
          "variable": "FUND"
         },
         {
          "Year": 1926,
          "value": null,
          "variable": "FUND"
         },
         {
          "Year": 1927,
          "value": null,
          "variable": "FUND"
         },
         {
          "Year": 1928,
          "value": null,
          "variable": "FUND"
         },
         {
          "Year": 1929,
          "value": null,
          "variable": "FUND"
         },
         {
          "Year": 1930,
          "value": null,
          "variable": "FUND"
         },
         {
          "Year": 1931,
          "value": null,
          "variable": "FUND"
         },
         {
          "Year": 1932,
          "value": null,
          "variable": "FUND"
         },
         {
          "Year": 1933,
          "value": null,
          "variable": "FUND"
         },
         {
          "Year": 1934,
          "value": null,
          "variable": "FUND"
         },
         {
          "Year": 1935,
          "value": null,
          "variable": "FUND"
         },
         {
          "Year": 1936,
          "value": null,
          "variable": "FUND"
         },
         {
          "Year": 1937,
          "value": null,
          "variable": "FUND"
         },
         {
          "Year": 1938,
          "value": null,
          "variable": "FUND"
         },
         {
          "Year": 1939,
          "value": null,
          "variable": "FUND"
         },
         {
          "Year": 1940,
          "value": null,
          "variable": "FUND"
         },
         {
          "Year": 1941,
          "value": null,
          "variable": "FUND"
         },
         {
          "Year": 1942,
          "value": null,
          "variable": "FUND"
         },
         {
          "Year": 1943,
          "value": null,
          "variable": "FUND"
         },
         {
          "Year": 1944,
          "value": null,
          "variable": "FUND"
         },
         {
          "Year": 1945,
          "value": null,
          "variable": "FUND"
         },
         {
          "Year": 1946,
          "value": null,
          "variable": "FUND"
         },
         {
          "Year": 1947,
          "value": null,
          "variable": "FUND"
         },
         {
          "Year": 1948,
          "value": null,
          "variable": "FUND"
         },
         {
          "Year": 1949,
          "value": null,
          "variable": "FUND"
         },
         {
          "Year": 1950,
          "value": 0.2,
          "variable": "FUND"
         },
         {
          "Year": 1951,
          "value": 0.20462523478679887,
          "variable": "FUND"
         },
         {
          "Year": 1952,
          "value": 0.20934819414064887,
          "variable": "FUND"
         },
         {
          "Year": 1953,
          "value": 0.2141801414042669,
          "variable": "FUND"
         },
         {
          "Year": 1954,
          "value": 0.21909736778398906,
          "variable": "FUND"
         },
         {
          "Year": 1955,
          "value": 0.22408520911070826,
          "variable": "FUND"
         },
         {
          "Year": 1956,
          "value": 0.2291199325171179,
          "variable": "FUND"
         },
         {
          "Year": 1957,
          "value": 0.23418549221634344,
          "variable": "FUND"
         },
         {
          "Year": 1958,
          "value": 0.23932391432650915,
          "variable": "FUND"
         },
         {
          "Year": 1959,
          "value": 0.244589579735204,
          "variable": "FUND"
         },
         {
          "Year": 1960,
          "value": 0.2501074079624818,
          "variable": "FUND"
         },
         {
          "Year": 1961,
          "value": 0.25575732560250636,
          "variable": "FUND"
         },
         {
          "Year": 1962,
          "value": 0.261501837433261,
          "variable": "FUND"
         },
         {
          "Year": 1963,
          "value": 0.26740927775621104,
          "variable": "FUND"
         },
         {
          "Year": 1964,
          "value": 0.2734818758491422,
          "variable": "FUND"
         },
         {
          "Year": 1965,
          "value": 0.27973770715175417,
          "variable": "FUND"
         },
         {
          "Year": 1966,
          "value": 0.28618578827251845,
          "variable": "FUND"
         },
         {
          "Year": 1967,
          "value": 0.29278982819960836,
          "variable": "FUND"
         },
         {
          "Year": 1968,
          "value": 0.2995574151235826,
          "variable": "FUND"
         },
         {
          "Year": 1969,
          "value": 0.30656677626845763,
          "variable": "FUND"
         },
         {
          "Year": 1970,
          "value": 0.3139376016399533,
          "variable": "FUND"
         },
         {
          "Year": 1971,
          "value": 0.3216409819792173,
          "variable": "FUND"
         },
         {
          "Year": 1972,
          "value": 0.32948555222866494,
          "variable": "FUND"
         },
         {
          "Year": 1973,
          "value": 0.33741055029039857,
          "variable": "FUND"
         },
         {
          "Year": 1974,
          "value": 0.3454328896266767,
          "variable": "FUND"
         },
         {
          "Year": 1975,
          "value": 0.35353968117280454,
          "variable": "FUND"
         },
         {
          "Year": 1976,
          "value": 0.36172258671009133,
          "variable": "FUND"
         },
         {
          "Year": 1977,
          "value": 0.3699988666778146,
          "variable": "FUND"
         },
         {
          "Year": 1978,
          "value": 0.37844838484609955,
          "variable": "FUND"
         },
         {
          "Year": 1979,
          "value": 0.3871203352760954,
          "variable": "FUND"
         },
         {
          "Year": 1980,
          "value": 0.3958964778638662,
          "variable": "FUND"
         },
         {
          "Year": 1981,
          "value": 0.4047260464928718,
          "variable": "FUND"
         },
         {
          "Year": 1982,
          "value": 0.4136791514220727,
          "variable": "FUND"
         },
         {
          "Year": 1983,
          "value": 0.4227552814272567,
          "variable": "FUND"
         },
         {
          "Year": 1984,
          "value": 0.43199326379795544,
          "variable": "FUND"
         },
         {
          "Year": 1985,
          "value": 0.4414380714813698,
          "variable": "FUND"
         },
         {
          "Year": 1986,
          "value": 0.4510864936820819,
          "variable": "FUND"
         },
         {
          "Year": 1987,
          "value": 0.46090964525801825,
          "variable": "FUND"
         },
         {
          "Year": 1988,
          "value": 0.4709297106607092,
          "variable": "FUND"
         },
         {
          "Year": 1989,
          "value": 0.4811997890753507,
          "variable": "FUND"
         },
         {
          "Year": 1990,
          "value": 0.49177351570476363,
          "variable": "FUND"
         },
         {
          "Year": 1991,
          "value": 0.5026491272505454,
          "variable": "FUND"
         },
         {
          "Year": 1992,
          "value": 0.5137741075424875,
          "variable": "FUND"
         },
         {
          "Year": 1993,
          "value": 0.5251826007958377,
          "variable": "FUND"
         },
         {
          "Year": 1994,
          "value": 0.5369211187740764,
          "variable": "FUND"
         },
         {
          "Year": 1995,
          "value": 0.5490056043273003,
          "variable": "FUND"
         },
         {
          "Year": 1996,
          "value": 0.5614105252495422,
          "variable": "FUND"
         },
         {
          "Year": 1997,
          "value": 0.5738972627695862,
          "variable": "FUND"
         },
         {
          "Year": 1998,
          "value": 0.58630641335356,
          "variable": "FUND"
         },
         {
          "Year": 1999,
          "value": 0.598671242530932,
          "variable": "FUND"
         },
         {
          "Year": 2000,
          "value": 0.610967074138926,
          "variable": "FUND"
         },
         {
          "Year": 2001,
          "value": 0.6233143205493502,
          "variable": "FUND"
         },
         {
          "Year": 2002,
          "value": 0.6358635224614222,
          "variable": "FUND"
         },
         {
          "Year": 2003,
          "value": 0.648618481837006,
          "variable": "FUND"
         },
         {
          "Year": 2004,
          "value": 0.6615883312194372,
          "variable": "FUND"
         },
         {
          "Year": 2005,
          "value": 0.6748692739072023,
          "variable": "FUND"
         },
         {
          "Year": 2006,
          "value": 0.6886268014673141,
          "variable": "FUND"
         },
         {
          "Year": 2007,
          "value": 0.7029340615259811,
          "variable": "FUND"
         },
         {
          "Year": 2008,
          "value": 0.7177887725753266,
          "variable": "FUND"
         },
         {
          "Year": 2009,
          "value": 0.7331867620951575,
          "variable": "FUND"
         },
         {
          "Year": 2010,
          "value": 0.7490586505066515,
          "variable": "FUND"
         },
         {
          "Year": 2011,
          "value": 0.765284834553005,
          "variable": "FUND"
         },
         {
          "Year": 2012,
          "value": 0.7818156445773201,
          "variable": "FUND"
         },
         {
          "Year": 2013,
          "value": 0.7986608399992982,
          "variable": "FUND"
         },
         {
          "Year": 2014,
          "value": 0.8158289590671062,
          "variable": "FUND"
         },
         {
          "Year": 2015,
          "value": 0.8333297562857421,
          "variable": "FUND"
         },
         {
          "Year": 2016,
          "value": 0.8511685759934732,
          "variable": "FUND"
         },
         {
          "Year": 2017,
          "value": 0.8693505114813437,
          "variable": "FUND"
         },
         {
          "Year": 2018,
          "value": 0.8878800002637,
          "variable": "FUND"
         },
         {
          "Year": 2019,
          "value": 0.9067614411448488,
          "variable": "FUND"
         },
         {
          "Year": 2020,
          "value": 0.926016354295343,
          "variable": "FUND"
         },
         {
          "Year": 2021,
          "value": 0.9456827288702244,
          "variable": "FUND"
         },
         {
          "Year": 2022,
          "value": 0.9657814496503231,
          "variable": "FUND"
         },
         {
          "Year": 2023,
          "value": 0.9863131506693547,
          "variable": "FUND"
         },
         {
          "Year": 2024,
          "value": 1.0072788356845246,
          "variable": "FUND"
         },
         {
          "Year": 2025,
          "value": 1.0286788617228486,
          "variable": "FUND"
         },
         {
          "Year": 2026,
          "value": 1.050513888503641,
          "variable": "FUND"
         },
         {
          "Year": 2027,
          "value": 1.0727824308861373,
          "variable": "FUND"
         },
         {
          "Year": 2028,
          "value": 1.0954817969177912,
          "variable": "FUND"
         },
         {
          "Year": 2029,
          "value": 1.1186095100244955,
          "variable": "FUND"
         },
         {
          "Year": 2030,
          "value": 1.1421901649865103,
          "variable": "FUND"
         },
         {
          "Year": 2031,
          "value": 1.1662835028796263,
          "variable": "FUND"
         },
         {
          "Year": 2032,
          "value": 1.190915218367738,
          "variable": "FUND"
         },
         {
          "Year": 2033,
          "value": 1.2160807205001865,
          "variable": "FUND"
         },
         {
          "Year": 2034,
          "value": 1.2417751978537497,
          "variable": "FUND"
         },
         {
          "Year": 2035,
          "value": 1.2679907739943017,
          "variable": "FUND"
         },
         {
          "Year": 2036,
          "value": 1.2947265454032373,
          "variable": "FUND"
         },
         {
          "Year": 2037,
          "value": 1.3219775807112273,
          "variable": "FUND"
         },
         {
          "Year": 2038,
          "value": 1.3497396377311224,
          "variable": "FUND"
         },
         {
          "Year": 2039,
          "value": 1.3780082235435471,
          "variable": "FUND"
         },
         {
          "Year": 2040,
          "value": 1.406767342601891,
          "variable": "FUND"
         },
         {
          "Year": 2041,
          "value": 1.4359990882582692,
          "variable": "FUND"
         },
         {
          "Year": 2042,
          "value": 1.465692598388298,
          "variable": "FUND"
         },
         {
          "Year": 2043,
          "value": 1.4958444486866762,
          "variable": "FUND"
         },
         {
          "Year": 2044,
          "value": 1.5264522237162088,
          "variable": "FUND"
         },
         {
          "Year": 2045,
          "value": 1.5575117016612943,
          "variable": "FUND"
         },
         {
          "Year": 2046,
          "value": 1.5890206531527804,
          "variable": "FUND"
         },
         {
          "Year": 2047,
          "value": 1.620971181335436,
          "variable": "FUND"
         },
         {
          "Year": 2048,
          "value": 1.6533568365058526,
          "variable": "FUND"
         },
         {
          "Year": 2049,
          "value": 1.6861716540461567,
          "variable": "FUND"
         },
         {
          "Year": 2050,
          "value": 1.7193832770350876,
          "variable": "FUND"
         },
         {
          "Year": 2051,
          "value": 1.7529469968950602,
          "variable": "FUND"
         },
         {
          "Year": 2052,
          "value": 1.7868420411416663,
          "variable": "FUND"
         },
         {
          "Year": 2053,
          "value": 1.821070637217023,
          "variable": "FUND"
         },
         {
          "Year": 2054,
          "value": 1.8556349155071905,
          "variable": "FUND"
         },
         {
          "Year": 2055,
          "value": 1.8905369094730344,
          "variable": "FUND"
         },
         {
          "Year": 2056,
          "value": 1.9257751735390507,
          "variable": "FUND"
         },
         {
          "Year": 2057,
          "value": 1.9613455533651136,
          "variable": "FUND"
         },
         {
          "Year": 2058,
          "value": 1.9972443006891274,
          "variable": "FUND"
         },
         {
          "Year": 2059,
          "value": 2.0334690484944913,
          "variable": "FUND"
         },
         {
          "Year": 2060,
          "value": 2.0700089609253425,
          "variable": "FUND"
         },
         {
          "Year": 2061,
          "value": 2.1068518769546456,
          "variable": "FUND"
         },
         {
          "Year": 2062,
          "value": 2.1439887504210655,
          "variable": "FUND"
         },
         {
          "Year": 2063,
          "value": 2.181416614070919,
          "variable": "FUND"
         },
         {
          "Year": 2064,
          "value": 2.21913221397785,
          "variable": "FUND"
         },
         {
          "Year": 2065,
          "value": 2.2571301369234558,
          "variable": "FUND"
         },
         {
          "Year": 2066,
          "value": 2.295410784639326,
          "variable": "FUND"
         },
         {
          "Year": 2067,
          "value": 2.333974609889446,
          "variable": "FUND"
         },
         {
          "Year": 2068,
          "value": 2.3728221039377786,
          "variable": "FUND"
         },
         {
          "Year": 2069,
          "value": 2.4119534439946846,
          "variable": "FUND"
         },
         {
          "Year": 2070,
          "value": 2.4513641166222166,
          "variable": "FUND"
         },
         {
          "Year": 2071,
          "value": 2.4910461248856883,
          "variable": "FUND"
         },
         {
          "Year": 2072,
          "value": 2.530992577171774,
          "variable": "FUND"
         },
         {
          "Year": 2073,
          "value": 2.5712003973402844,
          "variable": "FUND"
         },
         {
          "Year": 2074,
          "value": 2.611666575559193,
          "variable": "FUND"
         },
         {
          "Year": 2075,
          "value": 2.6523871285688174,
          "variable": "FUND"
         },
         {
          "Year": 2076,
          "value": 2.693361726909218,
          "variable": "FUND"
         },
         {
          "Year": 2077,
          "value": 2.734583054594858,
          "variable": "FUND"
         },
         {
          "Year": 2078,
          "value": 2.7760444216347344,
          "variable": "FUND"
         },
         {
          "Year": 2079,
          "value": 2.8177388712980003,
          "variable": "FUND"
         },
         {
          "Year": 2080,
          "value": 2.859669655316074,
          "variable": "FUND"
         },
         {
          "Year": 2081,
          "value": 2.90187086482542,
          "variable": "FUND"
         },
         {
          "Year": 2082,
          "value": 2.9443547312813787,
          "variable": "FUND"
         },
         {
          "Year": 2083,
          "value": 2.987117080201035,
          "variable": "FUND"
         },
         {
          "Year": 2084,
          "value": 3.0301532127814284,
          "variable": "FUND"
         },
         {
          "Year": 2085,
          "value": 3.0734536183456282,
          "variable": "FUND"
         },
         {
          "Year": 2086,
          "value": 3.1170171923486834,
          "variable": "FUND"
         },
         {
          "Year": 2087,
          "value": 3.16083658705907,
          "variable": "FUND"
         },
         {
          "Year": 2088,
          "value": 3.2049029419402553,
          "variable": "FUND"
         },
         {
          "Year": 2089,
          "value": 3.2492091342294196,
          "variable": "FUND"
         },
         {
          "Year": 2090,
          "value": 3.2937260566429556,
          "variable": "FUND"
         },
         {
          "Year": 2091,
          "value": 3.338420578722644,
          "variable": "FUND"
         },
         {
          "Year": 2092,
          "value": 3.3832712855991773,
          "variable": "FUND"
         },
         {
          "Year": 2093,
          "value": 3.428272149113503,
          "variable": "FUND"
         },
         {
          "Year": 2094,
          "value": 3.47341750508177,
          "variable": "FUND"
         },
         {
          "Year": 2095,
          "value": 3.5186962807085322,
          "variable": "FUND"
         },
         {
          "Year": 2096,
          "value": 3.5641085697997044,
          "variable": "FUND"
         },
         {
          "Year": 2097,
          "value": 3.609646310715452,
          "variable": "FUND"
         },
         {
          "Year": 2098,
          "value": 3.655301145587281,
          "variable": "FUND"
         },
         {
          "Year": 2099,
          "value": 3.7010650300798686,
          "variable": "FUND"
         },
         {
          "Year": 2100,
          "value": 3.7469098874027345,
          "variable": "FUND"
         },
         {
          "Year": 2101,
          "value": 3.7928035779128133,
          "variable": "FUND"
         },
         {
          "Year": 2102,
          "value": 3.838727916239025,
          "variable": "FUND"
         },
         {
          "Year": 2103,
          "value": 3.8846773004049897,
          "variable": "FUND"
         },
         {
          "Year": 2104,
          "value": 3.9306457224426574,
          "variable": "FUND"
         },
         {
          "Year": 2105,
          "value": 3.976626655070105,
          "variable": "FUND"
         },
         {
          "Year": 2106,
          "value": 4.022613225000141,
          "variable": "FUND"
         },
         {
          "Year": 2107,
          "value": 4.06859716710797,
          "variable": "FUND"
         },
         {
          "Year": 2108,
          "value": 4.114570493459141,
          "variable": "FUND"
         },
         {
          "Year": 2109,
          "value": 4.160523777169647,
          "variable": "FUND"
         },
         {
          "Year": 2110,
          "value": 4.206448658730107,
          "variable": "FUND"
         },
         {
          "Year": 2111,
          "value": 4.25233525839509,
          "variable": "FUND"
         },
         {
          "Year": 2112,
          "value": 4.298174444183933,
          "variable": "FUND"
         },
         {
          "Year": 2113,
          "value": 4.343955997324282,
          "variable": "FUND"
         },
         {
          "Year": 2114,
          "value": 4.389670151483329,
          "variable": "FUND"
         },
         {
          "Year": 2115,
          "value": 4.435306818975203,
          "variable": "FUND"
         },
         {
          "Year": 2116,
          "value": 4.480855995881325,
          "variable": "FUND"
         },
         {
          "Year": 2117,
          "value": 4.5263069672926886,
          "variable": "FUND"
         },
         {
          "Year": 2118,
          "value": 4.571649507378602,
          "variable": "FUND"
         },
         {
          "Year": 2119,
          "value": 4.616872723697717,
          "variable": "FUND"
         },
         {
          "Year": 2120,
          "value": 4.661965693834251,
          "variable": "FUND"
         },
         {
          "Year": 2121,
          "value": 4.7069183703050905,
          "variable": "FUND"
         },
         {
          "Year": 2122,
          "value": 4.751719846687394,
          "variable": "FUND"
         },
         {
          "Year": 2123,
          "value": 4.796359824920216,
          "variable": "FUND"
         },
         {
          "Year": 2124,
          "value": 4.840827297863936,
          "variable": "FUND"
         },
         {
          "Year": 2125,
          "value": 4.88511165494147,
          "variable": "FUND"
         },
         {
          "Year": 2126,
          "value": 4.929202113859846,
          "variable": "FUND"
         },
         {
          "Year": 2127,
          "value": 4.973088338199881,
          "variable": "FUND"
         },
         {
          "Year": 2128,
          "value": 5.016759929502105,
          "variable": "FUND"
         },
         {
          "Year": 2129,
          "value": 5.060206489537359,
          "variable": "FUND"
         },
         {
          "Year": 2130,
          "value": 5.103418064426247,
          "variable": "FUND"
         },
         {
          "Year": 2131,
          "value": 5.146384356247687,
          "variable": "FUND"
         },
         {
          "Year": 2132,
          "value": 5.189095236523305,
          "variable": "FUND"
         },
         {
          "Year": 2133,
          "value": 5.231541102775193,
          "variable": "FUND"
         },
         {
          "Year": 2134,
          "value": 5.273712049729827,
          "variable": "FUND"
         },
         {
          "Year": 2135,
          "value": 5.315598802185477,
          "variable": "FUND"
         },
         {
          "Year": 2136,
          "value": 5.357192512803146,
          "variable": "FUND"
         },
         {
          "Year": 2137,
          "value": 5.398484042158963,
          "variable": "FUND"
         },
         {
          "Year": 2138,
          "value": 5.439464444751493,
          "variable": "FUND"
         },
         {
          "Year": 2139,
          "value": 5.480124595594422,
          "variable": "FUND"
         },
         {
          "Year": 2140,
          "value": 5.520456311897376,
          "variable": "FUND"
         },
         {
          "Year": 2141,
          "value": 5.560451941065838,
          "variable": "FUND"
         },
         {
          "Year": 2142,
          "value": 5.600103241448274,
          "variable": "FUND"
         },
         {
          "Year": 2143,
          "value": 5.639402729104261,
          "variable": "FUND"
         },
         {
          "Year": 2144,
          "value": 5.678343253057694,
          "variable": "FUND"
         },
         {
          "Year": 2145,
          "value": 5.716917362580153,
          "variable": "FUND"
         },
         {
          "Year": 2146,
          "value": 5.755118879214934,
          "variable": "FUND"
         },
         {
          "Year": 2147,
          "value": 5.792940076564213,
          "variable": "FUND"
         },
         {
          "Year": 2148,
          "value": 5.830374841445317,
          "variable": "FUND"
         },
         {
          "Year": 2149,
          "value": 5.867417514223313,
          "variable": "FUND"
         },
         {
          "Year": 2150,
          "value": 5.904062708593876,
          "variable": "FUND"
         },
         {
          "Year": 2151,
          "value": 5.940304412081585,
          "variable": "FUND"
         },
         {
          "Year": 2152,
          "value": 5.97613727539784,
          "variable": "FUND"
         },
         {
          "Year": 2153,
          "value": 6.011556569571168,
          "variable": "FUND"
         },
         {
          "Year": 2154,
          "value": 6.046558012381597,
          "variable": "FUND"
         },
         {
          "Year": 2155,
          "value": 6.081138042405617,
          "variable": "FUND"
         },
         {
          "Year": 2156,
          "value": 6.115292731327325,
          "variable": "FUND"
         },
         {
          "Year": 2157,
          "value": 6.149018980388554,
          "variable": "FUND"
         },
         {
          "Year": 2158,
          "value": 6.182314210046208,
          "variable": "FUND"
         },
         {
          "Year": 2159,
          "value": 6.215174829093779,
          "variable": "FUND"
         },
         {
          "Year": 2160,
          "value": 6.247599257054738,
          "variable": "FUND"
         },
         {
          "Year": 2161,
          "value": 6.279585401892452,
          "variable": "FUND"
         },
         {
          "Year": 2162,
          "value": 6.3111314563461045,
          "variable": "FUND"
         },
         {
          "Year": 2163,
          "value": 6.3422361538105045,
          "variable": "FUND"
         },
         {
          "Year": 2164,
          "value": 6.372898472236284,
          "variable": "FUND"
         },
         {
          "Year": 2165,
          "value": 6.403117253487319,
          "variable": "FUND"
         },
         {
          "Year": 2166,
          "value": 6.432892157344088,
          "variable": "FUND"
         },
         {
          "Year": 2167,
          "value": 6.46222255777562,
          "variable": "FUND"
         },
         {
          "Year": 2168,
          "value": 6.491108532895891,
          "variable": "FUND"
         },
         {
          "Year": 2169,
          "value": 6.519550174633916,
          "variable": "FUND"
         },
         {
          "Year": 2170,
          "value": 6.547547818361907,
          "variable": "FUND"
         },
         {
          "Year": 2171,
          "value": 6.575101403863795,
          "variable": "FUND"
         },
         {
          "Year": 2172,
          "value": 6.602212739654217,
          "variable": "FUND"
         },
         {
          "Year": 2173,
          "value": 6.628882704359136,
          "variable": "FUND"
         },
         {
          "Year": 2174,
          "value": 6.655112736184142,
          "variable": "FUND"
         },
         {
          "Year": 2175,
          "value": 6.68090392833348,
          "variable": "FUND"
         },
         {
          "Year": 2176,
          "value": 6.706258150544199,
          "variable": "FUND"
         },
         {
          "Year": 2177,
          "value": 6.731177233562627,
          "variable": "FUND"
         },
         {
          "Year": 2178,
          "value": 6.755663182564879,
          "variable": "FUND"
         },
         {
          "Year": 2179,
          "value": 6.779718422449215,
          "variable": "FUND"
         },
         {
          "Year": 2180,
          "value": 6.803345417403866,
          "variable": "FUND"
         },
         {
          "Year": 2181,
          "value": 6.826547114765055,
          "variable": "FUND"
         },
         {
          "Year": 2182,
          "value": 6.849325956161861,
          "variable": "FUND"
         },
         {
          "Year": 2183,
          "value": 6.871685270472842,
          "variable": "FUND"
         },
         {
          "Year": 2184,
          "value": 6.893628006865318,
          "variable": "FUND"
         },
         {
          "Year": 2185,
          "value": 6.915156738303896,
          "variable": "FUND"
         },
         {
          "Year": 2186,
          "value": 6.936275175537805,
          "variable": "FUND"
         },
         {
          "Year": 2187,
          "value": 6.956986493273043,
          "variable": "FUND"
         },
         {
          "Year": 2188,
          "value": 6.977294521376057,
          "variable": "FUND"
         },
         {
          "Year": 2189,
          "value": 6.997202975088083,
          "variable": "FUND"
         },
         {
          "Year": 2190,
          "value": 7.016715678871821,
          "variable": "FUND"
         },
         {
          "Year": 2191,
          "value": 7.035836872996458,
          "variable": "FUND"
         },
         {
          "Year": 2192,
          "value": 7.054569723458843,
          "variable": "FUND"
         },
         {
          "Year": 2193,
          "value": 7.072918709154498,
          "variable": "FUND"
         },
         {
          "Year": 2194,
          "value": 7.09088783339452,
          "variable": "FUND"
         },
         {
          "Year": 2195,
          "value": 7.108481715533686,
          "variable": "FUND"
         },
         {
          "Year": 2196,
          "value": 7.125704395612666,
          "variable": "FUND"
         },
         {
          "Year": 2197,
          "value": 7.142560415508435,
          "variable": "FUND"
         },
         {
          "Year": 2198,
          "value": 7.15905375272802,
          "variable": "FUND"
         },
         {
          "Year": 2199,
          "value": 7.175189301358065,
          "variable": "FUND"
         },
         {
          "Year": 2200,
          "value": 7.190971762004987,
          "variable": "FUND"
         },
         {
          "Year": 2201,
          "value": 7.206408624376984,
          "variable": "FUND"
         },
         {
          "Year": 2202,
          "value": 7.221506816628437,
          "variable": "FUND"
         },
         {
          "Year": 2203,
          "value": 7.236273757302533,
          "variable": "FUND"
         },
         {
          "Year": 2204,
          "value": 7.250716482526928,
          "variable": "FUND"
         },
         {
          "Year": 2205,
          "value": 7.264841970467174,
          "variable": "FUND"
         },
         {
          "Year": 2206,
          "value": 7.278656540932946,
          "variable": "FUND"
         },
         {
          "Year": 2207,
          "value": 7.292167531411467,
          "variable": "FUND"
         },
         {
          "Year": 2208,
          "value": 7.305380568366607,
          "variable": "FUND"
         },
         {
          "Year": 2209,
          "value": 7.318302225019525,
          "variable": "FUND"
         },
         {
          "Year": 2210,
          "value": 7.330938512214868,
          "variable": "FUND"
         },
         {
          "Year": 2211,
          "value": 7.3432953265074605,
          "variable": "FUND"
         },
         {
          "Year": 2212,
          "value": 7.355379238135111,
          "variable": "FUND"
         },
         {
          "Year": 2213,
          "value": 7.36719604729641,
          "variable": "FUND"
         },
         {
          "Year": 2214,
          "value": 7.378751033961166,
          "variable": "FUND"
         },
         {
          "Year": 2215,
          "value": 7.390049495640983,
          "variable": "FUND"
         },
         {
          "Year": 2216,
          "value": 7.40109753115042,
          "variable": "FUND"
         },
         {
          "Year": 2217,
          "value": 7.411900285604442,
          "variable": "FUND"
         },
         {
          "Year": 2218,
          "value": 7.422462905635743,
          "variable": "FUND"
         },
         {
          "Year": 2219,
          "value": 7.432790542454396,
          "variable": "FUND"
         },
         {
          "Year": 2220,
          "value": 7.442887842559555,
          "variable": "FUND"
         },
         {
          "Year": 2221,
          "value": 7.45276026152692,
          "variable": "FUND"
         },
         {
          "Year": 2222,
          "value": 7.462412806900645,
          "variable": "FUND"
         },
         {
          "Year": 2223,
          "value": 7.471849581883025,
          "variable": "FUND"
         },
         {
          "Year": 2224,
          "value": 7.481075617653474,
          "variable": "FUND"
         },
         {
          "Year": 2225,
          "value": 7.490095061506811,
          "variable": "FUND"
         },
         {
          "Year": 2226,
          "value": 7.498912580003138,
          "variable": "FUND"
         },
         {
          "Year": 2227,
          "value": 7.507532808397436,
          "variable": "FUND"
         },
         {
          "Year": 2228,
          "value": 7.515959777179311,
          "variable": "FUND"
         },
         {
          "Year": 2229,
          "value": 7.524197636191766,
          "variable": "FUND"
         },
         {
          "Year": 2230,
          "value": 7.532250152026642,
          "variable": "FUND"
         },
         {
          "Year": 2231,
          "value": 7.540121520416781,
          "variable": "FUND"
         },
         {
          "Year": 2232,
          "value": 7.5478150575346845,
          "variable": "FUND"
         },
         {
          "Year": 2233,
          "value": 7.555334629233222,
          "variable": "FUND"
         },
         {
          "Year": 2234,
          "value": 7.562684581818985,
          "variable": "FUND"
         },
         {
          "Year": 2235,
          "value": 7.569868554763106,
          "variable": "FUND"
         },
         {
          "Year": 2236,
          "value": 7.5768901054233915,
          "variable": "FUND"
         },
         {
          "Year": 2237,
          "value": 7.583752442559996,
          "variable": "FUND"
         },
         {
          "Year": 2238,
          "value": 7.590458640733128,
          "variable": "FUND"
         },
         {
          "Year": 2239,
          "value": 7.597012682496539,
          "variable": "FUND"
         },
         {
          "Year": 2240,
          "value": 7.603417461746791,
          "variable": "FUND"
         },
         {
          "Year": 2241,
          "value": 7.6096760296873995,
          "variable": "FUND"
         },
         {
          "Year": 2242,
          "value": 7.6157914780750495,
          "variable": "FUND"
         },
         {
          "Year": 2243,
          "value": 7.62176684207322,
          "variable": "FUND"
         },
         {
          "Year": 2244,
          "value": 7.627605569171424,
          "variable": "FUND"
         },
         {
          "Year": 2245,
          "value": 7.633310430220983,
          "variable": "FUND"
         },
         {
          "Year": 2246,
          "value": 7.638884149669004,
          "variable": "FUND"
         },
         {
          "Year": 2247,
          "value": 7.644329780872297,
          "variable": "FUND"
         },
         {
          "Year": 2248,
          "value": 7.64965021436897,
          "variable": "FUND"
         },
         {
          "Year": 2249,
          "value": 7.654849041400311,
          "variable": "FUND"
         },
         {
          "Year": 2250,
          "value": 7.659928307808399,
          "variable": "FUND"
         },
         {
          "Year": 2251,
          "value": 7.664890435496482,
          "variable": "FUND"
         },
         {
          "Year": 2252,
          "value": 7.669737991754069,
          "variable": "FUND"
         },
         {
          "Year": 2253,
          "value": 7.674473577790631,
          "variable": "FUND"
         },
         {
          "Year": 2254,
          "value": 7.679099364605515,
          "variable": "FUND"
         },
         {
          "Year": 2255,
          "value": 7.683617963182156,
          "variable": "FUND"
         },
         {
          "Year": 2256,
          "value": 7.688031170582525,
          "variable": "FUND"
         },
         {
          "Year": 2257,
          "value": 7.6923413412929715,
          "variable": "FUND"
         },
         {
          "Year": 2258,
          "value": 7.69655159881741,
          "variable": "FUND"
         },
         {
          "Year": 2259,
          "value": 7.7006637350257,
          "variable": "FUND"
         },
         {
          "Year": 2260,
          "value": 7.704679723381423,
          "variable": "FUND"
         },
         {
          "Year": 2261,
          "value": 7.708601882219818,
          "variable": "FUND"
         },
         {
          "Year": 2262,
          "value": 7.712432100265355,
          "variable": "FUND"
         },
         {
          "Year": 2263,
          "value": 7.716172792756886,
          "variable": "FUND"
         },
         {
          "Year": 2264,
          "value": 7.719825741122546,
          "variable": "FUND"
         },
         {
          "Year": 2265,
          "value": 7.723392521788144,
          "variable": "FUND"
         },
         {
          "Year": 2266,
          "value": 7.726875162386723,
          "variable": "FUND"
         },
         {
          "Year": 2267,
          "value": 7.730275728080363,
          "variable": "FUND"
         },
         {
          "Year": 2268,
          "value": 7.7335954981122725,
          "variable": "FUND"
         },
         {
          "Year": 2269,
          "value": 7.73683658387749,
          "variable": "FUND"
         },
         {
          "Year": 2270,
          "value": 7.740000489335858,
          "variable": "FUND"
         },
         {
          "Year": 2271,
          "value": 7.743089431291942,
          "variable": "FUND"
         },
         {
          "Year": 2272,
          "value": 7.746105096176537,
          "variable": "FUND"
         },
         {
          "Year": 2273,
          "value": 7.749049137790792,
          "variable": "FUND"
         },
         {
          "Year": 2274,
          "value": 7.751923349880195,
          "variable": "FUND"
         },
         {
          "Year": 2275,
          "value": 7.754728670892837,
          "variable": "FUND"
         },
         {
          "Year": 2276,
          "value": 7.757467233812097,
          "variable": "FUND"
         },
         {
          "Year": 2277,
          "value": 7.760140005922925,
          "variable": "FUND"
         },
         {
          "Year": 2278,
          "value": 7.762748606008356,
          "variable": "FUND"
         },
         {
          "Year": 2279,
          "value": 7.765294435300882,
          "variable": "FUND"
         },
         {
          "Year": 2280,
          "value": 7.767779229746011,
          "variable": "FUND"
         },
         {
          "Year": 2281,
          "value": 7.770204313392159,
          "variable": "FUND"
         },
         {
          "Year": 2282,
          "value": 7.772571077253237,
          "variable": "FUND"
         },
         {
          "Year": 2283,
          "value": 7.77488079621828,
          "variable": "FUND"
         },
         {
          "Year": 2284,
          "value": 7.777134905627906,
          "variable": "FUND"
         },
         {
          "Year": 2285,
          "value": 7.779334185637353,
          "variable": "FUND"
         },
         {
          "Year": 2286,
          "value": 7.781480846300726,
          "variable": "FUND"
         },
         {
          "Year": 2287,
          "value": 7.783575390604311,
          "variable": "FUND"
         },
         {
          "Year": 2288,
          "value": 7.7856192481375555,
          "variable": "FUND"
         },
         {
          "Year": 2289,
          "value": 7.787613460930341,
          "variable": "FUND"
         },
         {
          "Year": 2290,
          "value": 7.789559331420212,
          "variable": "FUND"
         },
         {
          "Year": 2291,
          "value": 7.791458303252158,
          "variable": "FUND"
         },
         {
          "Year": 2292,
          "value": 7.793311329054896,
          "variable": "FUND"
         },
         {
          "Year": 2293,
          "value": 7.795119008213035,
          "variable": "FUND"
         },
         {
          "Year": 2294,
          "value": 7.796883184024116,
          "variable": "FUND"
         },
         {
          "Year": 2295,
          "value": 7.798604728514279,
          "variable": "FUND"
         },
         {
          "Year": 2296,
          "value": 7.800284338249128,
          "variable": "FUND"
         },
         {
          "Year": 2297,
          "value": 7.801923070087477,
          "variable": "FUND"
         },
         {
          "Year": 2298,
          "value": 7.803521439115258,
          "variable": "FUND"
         },
         {
          "Year": 2299,
          "value": 7.8050806811422335,
          "variable": "FUND"
         },
         {
          "Year": 2300,
          "value": 7.806601998850255,
          "variable": "FUND"
         },
         {
          "Year": 2301,
          "value": 7.808078463360976,
          "variable": "FUND"
         },
         {
          "Year": 2302,
          "value": 7.809503982453182,
          "variable": "FUND"
         },
         {
          "Year": 2303,
          "value": 7.810873221556565,
          "variable": "FUND"
         },
         {
          "Year": 2304,
          "value": 7.812181532132273,
          "variable": "FUND"
         },
         {
          "Year": 2305,
          "value": 7.813424886698227,
          "variable": "FUND"
         },
         {
          "Year": 2306,
          "value": 7.814599819844153,
          "variable": "FUND"
         },
         {
          "Year": 2307,
          "value": 7.815703374655058,
          "variable": "FUND"
         },
         {
          "Year": 2308,
          "value": 7.81673305402523,
          "variable": "FUND"
         },
         {
          "Year": 2309,
          "value": 7.817686776399774,
          "variable": "FUND"
         },
         {
          "Year": 2310,
          "value": 7.818562835528714,
          "variable": "FUND"
         },
         {
          "Year": 2311,
          "value": 7.819359863860843,
          "variable": "FUND"
         },
         {
          "Year": 2312,
          "value": 7.820076799241794,
          "variable": "FUND"
         },
         {
          "Year": 2313,
          "value": 7.820712854613815,
          "variable": "FUND"
         },
         {
          "Year": 2314,
          "value": 7.821267490444137,
          "variable": "FUND"
         },
         {
          "Year": 2315,
          "value": 7.821740389635044,
          "variable": "FUND"
         },
         {
          "Year": 2316,
          "value": 7.822131434692203,
          "variable": "FUND"
         },
         {
          "Year": 2317,
          "value": 7.822440686948817,
          "variable": "FUND"
         },
         {
          "Year": 2318,
          "value": 7.822668367662073,
          "variable": "FUND"
         },
         {
          "Year": 2319,
          "value": 7.822814840815282,
          "variable": "FUND"
         },
         {
          "Year": 2320,
          "value": 7.822880597474426,
          "variable": "FUND"
         },
         {
          "Year": 2321,
          "value": 7.822866241561636,
          "variable": "FUND"
         },
         {
          "Year": 2322,
          "value": 7.8227724769205205,
          "variable": "FUND"
         },
         {
          "Year": 2323,
          "value": 7.822600095559602,
          "variable": "FUND"
         },
         {
          "Year": 2324,
          "value": 7.822349966970251,
          "variable": "FUND"
         },
         {
          "Year": 2325,
          "value": 7.822023028424791,
          "variable": "FUND"
         },
         {
          "Year": 2326,
          "value": 7.821620276168779,
          "variable": "FUND"
         },
         {
          "Year": 2327,
          "value": 7.8211427574291195,
          "variable": "FUND"
         },
         {
          "Year": 2328,
          "value": 7.820591563166528,
          "variable": "FUND"
         },
         {
          "Year": 2329,
          "value": 7.819967821507163,
          "variable": "FUND"
         },
         {
          "Year": 2330,
          "value": 7.819272691793944,
          "variable": "FUND"
         },
         {
          "Year": 2331,
          "value": 7.818507359203274,
          "variable": "FUND"
         },
         {
          "Year": 2332,
          "value": 7.817673029877601,
          "variable": "FUND"
         },
         {
          "Year": 2333,
          "value": 7.816770926528581,
          "variable": "FUND"
         },
         {
          "Year": 2334,
          "value": 7.815802284469505,
          "variable": "FUND"
         },
         {
          "Year": 2335,
          "value": 7.814768348039268,
          "variable": "FUND"
         },
         {
          "Year": 2336,
          "value": 7.813670367383375,
          "variable": "FUND"
         },
         {
          "Year": 2337,
          "value": 7.812509595560519,
          "variable": "FUND"
         },
         {
          "Year": 2338,
          "value": 7.811287285945912,
          "variable": "FUND"
         },
         {
          "Year": 2339,
          "value": 7.8100046899051145,
          "variable": "FUND"
         },
         {
          "Year": 2340,
          "value": 7.808663054714292,
          "variable": "FUND"
         },
         {
          "Year": 2341,
          "value": 7.807263621704974,
          "variable": "FUND"
         },
         {
          "Year": 2342,
          "value": 7.8058076246132195,
          "variable": "FUND"
         },
         {
          "Year": 2343,
          "value": 7.804296288114869,
          "variable": "FUND"
         },
         {
          "Year": 2344,
          "value": 7.802730826530106,
          "variable": "FUND"
         },
         {
          "Year": 2345,
          "value": 7.80111244268203,
          "variable": "FUND"
         },
         {
          "Year": 2346,
          "value": 7.799442326895225,
          "variable": "FUND"
         },
         {
          "Year": 2347,
          "value": 7.797721656121549,
          "variable": "FUND"
         },
         {
          "Year": 2348,
          "value": 7.79595159318146,
          "variable": "FUND"
         },
         {
          "Year": 2349,
          "value": 7.794133286110182,
          "variable": "FUND"
         },
         {
          "Year": 2350,
          "value": 7.792267867598987,
          "variable": "FUND"
         },
         {
          "Year": 2351,
          "value": 7.7903564545226605,
          "variable": "FUND"
         },
         {
          "Year": 2352,
          "value": 7.788400147545023,
          "variable": "FUND"
         },
         {
          "Year": 2353,
          "value": 7.78640003079508,
          "variable": "FUND"
         },
         {
          "Year": 2354,
          "value": 7.784357171607008,
          "variable": "FUND"
         },
         {
          "Year": 2355,
          "value": 7.782272620317787,
          "variable": "FUND"
         },
         {
          "Year": 2356,
          "value": 7.7801474101168315,
          "variable": "FUND"
         },
         {
          "Year": 2357,
          "value": 7.77798255694245,
          "variable": "FUND"
         },
         {
          "Year": 2358,
          "value": 7.77577905942044,
          "variable": "FUND"
         },
         {
          "Year": 2359,
          "value": 7.773537898840516,
          "variable": "FUND"
         },
         {
          "Year": 2360,
          "value": 7.77126003916666,
          "variable": "FUND"
         },
         {
          "Year": 2361,
          "value": 7.768946427077834,
          "variable": "FUND"
         },
         {
          "Year": 2362,
          "value": 7.766597992035793,
          "variable": "FUND"
         },
         {
          "Year": 2363,
          "value": 7.76421564637704,
          "variable": "FUND"
         },
         {
          "Year": 2364,
          "value": 7.761800285426234,
          "variable": "FUND"
         },
         {
          "Year": 2365,
          "value": 7.759352787628589,
          "variable": "FUND"
         },
         {
          "Year": 2366,
          "value": 7.756874014699031,
          "variable": "FUND"
         },
         {
          "Year": 2367,
          "value": 7.754364811786091,
          "variable": "FUND"
         },
         {
          "Year": 2368,
          "value": 7.751826007648675,
          "variable": "FUND"
         },
         {
          "Year": 2369,
          "value": 7.7492584148440535,
          "variable": "FUND"
         },
         {
          "Year": 2370,
          "value": 7.746662829925529,
          "variable": "FUND"
         },
         {
          "Year": 2371,
          "value": 7.7440400336484165,
          "variable": "FUND"
         },
         {
          "Year": 2372,
          "value": 7.74139079118308,
          "variable": "FUND"
         },
         {
          "Year": 2373,
          "value": 7.738715852333892,
          "variable": "FUND"
         },
         {
          "Year": 2374,
          "value": 7.736015951763092,
          "variable": "FUND"
         },
         {
          "Year": 2375,
          "value": 7.733291809218614,
          "variable": "FUND"
         },
         {
          "Year": 2376,
          "value": 7.730544129765052,
          "variable": "FUND"
         },
         {
          "Year": 2377,
          "value": 7.727773604017003,
          "variable": "FUND"
         },
         {
          "Year": 2378,
          "value": 7.724980908374107,
          "variable": "FUND"
         },
         {
          "Year": 2379,
          "value": 7.72216670525718,
          "variable": "FUND"
         },
         {
          "Year": 2380,
          "value": 7.719331643344877,
          "variable": "FUND"
         },
         {
          "Year": 2381,
          "value": 7.716476357810403,
          "variable": "FUND"
         },
         {
          "Year": 2382,
          "value": 7.7136014705578235,
          "variable": "FUND"
         },
         {
          "Year": 2383,
          "value": 7.710707590457593,
          "variable": "FUND"
         },
         {
          "Year": 2384,
          "value": 7.70779531358093,
          "variable": "FUND"
         },
         {
          "Year": 2385,
          "value": 7.704865223432744,
          "variable": "FUND"
         },
         {
          "Year": 2386,
          "value": 7.701917891182833,
          "variable": "FUND"
         },
         {
          "Year": 2387,
          "value": 7.698953875895103,
          "variable": "FUND"
         },
         {
          "Year": 2388,
          "value": 7.695973724754598,
          "variable": "FUND"
         },
         {
          "Year": 2389,
          "value": 7.69297797329216,
          "variable": "FUND"
         },
         {
          "Year": 2390,
          "value": 7.689967145606536,
          "variable": "FUND"
         },
         {
          "Year": 2391,
          "value": 7.686941754583817,
          "variable": "FUND"
         },
         {
          "Year": 2392,
          "value": 7.683902302114063,
          "variable": "FUND"
         },
         {
          "Year": 2393,
          "value": 7.680849279305028,
          "variable": "FUND"
         },
         {
          "Year": 2394,
          "value": 7.677783166692885,
          "variable": "FUND"
         },
         {
          "Year": 2395,
          "value": 7.67470443444989,
          "variable": "FUND"
         },
         {
          "Year": 2396,
          "value": 7.671613542588919,
          "variable": "FUND"
         },
         {
          "Year": 2397,
          "value": 7.66851094116484,
          "variable": "FUND"
         },
         {
          "Year": 2398,
          "value": 7.665397070472664,
          "variable": "FUND"
         },
         {
          "Year": 2399,
          "value": 7.66227236124248,
          "variable": "FUND"
         },
         {
          "Year": 2400,
          "value": 7.659137234831133,
          "variable": "FUND"
         },
         {
          "Year": 2401,
          "value": 7.655992103410639,
          "variable": "FUND"
         },
         {
          "Year": 2402,
          "value": 7.65283737015335,
          "variable": "FUND"
         },
         {
          "Year": 2403,
          "value": 7.649673429413856,
          "variable": "FUND"
         },
         {
          "Year": 2404,
          "value": 7.646500666907649,
          "variable": "FUND"
         },
         {
          "Year": 2405,
          "value": 7.643319459886545,
          "variable": "FUND"
         },
         {
          "Year": 2406,
          "value": 7.640130177310914,
          "variable": "FUND"
         },
         {
          "Year": 2407,
          "value": 7.636933180018715,
          "variable": "FUND"
         },
         {
          "Year": 2408,
          "value": 7.633728820891388,
          "variable": "FUND"
         },
         {
          "Year": 2409,
          "value": 7.630517445016649,
          "variable": "FUND"
         },
         {
          "Year": 2410,
          "value": 7.6272993898484245,
          "variable": "FUND"
         },
         {
          "Year": 2411,
          "value": 7.624074985363244,
          "variable": "FUND"
         },
         {
          "Year": 2412,
          "value": 7.620844554213536,
          "variable": "FUND"
         },
         {
          "Year": 2413,
          "value": 7.6176084118782175,
          "variable": "FUND"
         },
         {
          "Year": 2414,
          "value": 7.614366866810324,
          "variable": "FUND"
         },
         {
          "Year": 2415,
          "value": 7.611120220581749,
          "variable": "FUND"
         },
         {
          "Year": 2416,
          "value": 7.607868768025113,
          "variable": "FUND"
         },
         {
          "Year": 2417,
          "value": 7.604612797372824,
          "variable": "FUND"
         },
         {
          "Year": 2418,
          "value": 7.601352590393366,
          "variable": "FUND"
         },
         {
          "Year": 2419,
          "value": 7.598088422524856,
          "variable": "FUND"
         },
         {
          "Year": 2420,
          "value": 7.59482056300593,
          "variable": "FUND"
         },
         {
          "Year": 2421,
          "value": 7.591549275003988,
          "variable": "FUND"
         },
         {
          "Year": 2422,
          "value": 7.588274815740847,
          "variable": "FUND"
         },
         {
          "Year": 2423,
          "value": 7.584997436615856,
          "variable": "FUND"
         },
         {
          "Year": 2424,
          "value": 7.581717383326516,
          "variable": "FUND"
         },
         {
          "Year": 2425,
          "value": 7.5784348959866366,
          "variable": "FUND"
         },
         {
          "Year": 2426,
          "value": 7.575150209242096,
          "variable": "FUND"
         },
         {
          "Year": 2427,
          "value": 7.571863552384235,
          "variable": "FUND"
         },
         {
          "Year": 2428,
          "value": 7.568575149460928,
          "variable": "FUND"
         },
         {
          "Year": 2429,
          "value": 7.565285219385394,
          "variable": "FUND"
         },
         {
          "Year": 2430,
          "value": 7.5619939760427615,
          "variable": "FUND"
         },
         {
          "Year": 2431,
          "value": 7.558701628394464,
          "variable": "FUND"
         },
         {
          "Year": 2432,
          "value": 7.555408380580475,
          "variable": "FUND"
         },
         {
          "Year": 2433,
          "value": 7.552114432019455,
          "variable": "FUND"
         },
         {
          "Year": 2434,
          "value": 7.5488199775068345,
          "variable": "FUND"
         },
         {
          "Year": 2435,
          "value": 7.545525207310874,
          "variable": "FUND"
         },
         {
          "Year": 2436,
          "value": 7.542230307266753,
          "variable": "FUND"
         },
         {
          "Year": 2437,
          "value": 7.5389354588687185,
          "variable": "FUND"
         },
         {
          "Year": 2438,
          "value": 7.535640839360329,
          "variable": "FUND"
         },
         {
          "Year": 2439,
          "value": 7.532346621822845,
          "variable": "FUND"
         },
         {
          "Year": 2440,
          "value": 7.5290529752617985,
          "variable": "FUND"
         },
         {
          "Year": 2441,
          "value": 7.525760064691768,
          "variable": "FUND"
         },
         {
          "Year": 2442,
          "value": 7.522468051219414,
          "variable": "FUND"
         },
         {
          "Year": 2443,
          "value": 7.519177092124797,
          "variable": "FUND"
         },
         {
          "Year": 2444,
          "value": 7.515887340941019,
          "variable": "FUND"
         },
         {
          "Year": 2445,
          "value": 7.512598947532227,
          "variable": "FUND"
         },
         {
          "Year": 2446,
          "value": 7.509312058170001,
          "variable": "FUND"
         },
         {
          "Year": 2447,
          "value": 7.506026815608172,
          "variable": "FUND"
         },
         {
          "Year": 2448,
          "value": 7.502743359156097,
          "variable": "FUND"
         },
         {
          "Year": 2449,
          "value": 7.4994618247504174,
          "variable": "FUND"
         },
         {
          "Year": 2450,
          "value": 7.4961823450253515,
          "variable": "FUND"
         },
         {
          "Year": 2451,
          "value": 7.492905049381527,
          "variable": "FUND"
         },
         {
          "Year": 2452,
          "value": 7.489630064053401,
          "variable": "FUND"
         },
         {
          "Year": 2453,
          "value": 7.486357512175291,
          "variable": "FUND"
         },
         {
          "Year": 2454,
          "value": 7.483087513846051,
          "variable": "FUND"
         },
         {
          "Year": 2455,
          "value": 7.479820186192404,
          "variable": "FUND"
         },
         {
          "Year": 2456,
          "value": 7.47655564343098,
          "variable": "FUND"
         },
         {
          "Year": 2457,
          "value": 7.473293996929081,
          "variable": "FUND"
         },
         {
          "Year": 2458,
          "value": 7.470035355264185,
          "variable": "FUND"
         },
         {
          "Year": 2459,
          "value": 7.466779824282245,
          "variable": "FUND"
         },
         {
          "Year": 2460,
          "value": 7.463527507154776,
          "variable": "FUND"
         },
         {
          "Year": 2461,
          "value": 7.460278504434781,
          "variable": "FUND"
         },
         {
          "Year": 2462,
          "value": 7.457032914111526,
          "variable": "FUND"
         },
         {
          "Year": 2463,
          "value": 7.453790831664191,
          "variable": "FUND"
         },
         {
          "Year": 2464,
          "value": 7.450552350114427,
          "variable": "FUND"
         },
         {
          "Year": 2465,
          "value": 7.447317560077829,
          "variable": "FUND"
         },
         {
          "Year": 2466,
          "value": 7.444086549814362,
          "variable": "FUND"
         },
         {
          "Year": 2467,
          "value": 7.440859405277748,
          "variable": "FUND"
         },
         {
          "Year": 2468,
          "value": 7.437636210163852,
          "variable": "FUND"
         },
         {
          "Year": 2469,
          "value": 7.43441704595807,
          "variable": "FUND"
         },
         {
          "Year": 2470,
          "value": 7.4312019919817525,
          "variable": "FUND"
         },
         {
          "Year": 2471,
          "value": 7.427991125437676,
          "variable": "FUND"
         },
         {
          "Year": 2472,
          "value": 7.424784521454591,
          "variable": "FUND"
         },
         {
          "Year": 2473,
          "value": 7.421582253130858,
          "variable": "FUND"
         },
         {
          "Year": 2474,
          "value": 7.418384391577192,
          "variable": "FUND"
         },
         {
          "Year": 2475,
          "value": 7.4151910059585315,
          "variable": "FUND"
         },
         {
          "Year": 2476,
          "value": 7.412002163535066,
          "variable": "FUND"
         },
         {
          "Year": 2477,
          "value": 7.408817929702412,
          "variable": "FUND"
         },
         {
          "Year": 2478,
          "value": 7.405638368030982,
          "variable": "FUND"
         },
         {
          "Year": 2479,
          "value": 7.402463540304545,
          "variable": "FUND"
         },
         {
          "Year": 2480,
          "value": 7.3992935065580046,
          "variable": "FUND"
         },
         {
          "Year": 2481,
          "value": 7.396128325114408,
          "variable": "FUND"
         },
         {
          "Year": 2482,
          "value": 7.392968052621203,
          "variable": "FUND"
         },
         {
          "Year": 2483,
          "value": 7.389812744085754,
          "variable": "FUND"
         },
         {
          "Year": 2484,
          "value": 7.38666245291014,
          "variable": "FUND"
         },
         {
          "Year": 2485,
          "value": 7.383517230925245,
          "variable": "FUND"
         },
         {
          "Year": 2486,
          "value": 7.380377128424153,
          "variable": "FUND"
         },
         {
          "Year": 2487,
          "value": 7.377242194194869,
          "variable": "FUND"
         },
         {
          "Year": 2488,
          "value": 7.374112475552369,
          "variable": "FUND"
         },
         {
          "Year": 2489,
          "value": 7.370988018370011,
          "variable": "FUND"
         },
         {
          "Year": 2490,
          "value": 7.367868867110293,
          "variable": "FUND"
         },
         {
          "Year": 2491,
          "value": 7.364755064855005,
          "variable": "FUND"
         },
         {
          "Year": 2492,
          "value": 7.361646653334751,
          "variable": "FUND"
         },
         {
          "Year": 2493,
          "value": 7.3585436729578895,
          "variable": "FUND"
         },
         {
          "Year": 2494,
          "value": 7.355446162838876,
          "variable": "FUND"
         },
         {
          "Year": 2495,
          "value": 7.352354160826037,
          "variable": "FUND"
         },
         {
          "Year": 2496,
          "value": 7.349267703528777,
          "variable": "FUND"
         },
         {
          "Year": 2497,
          "value": 7.346186826344239,
          "variable": "FUND"
         },
         {
          "Year": 2498,
          "value": 7.343111563483421,
          "variable": "FUND"
         },
         {
          "Year": 2499,
          "value": 7.340041947996771,
          "variable": "FUND"
         },
         {
          "Year": 2500,
          "value": 7.3369780117992525,
          "variable": "FUND"
         },
         {
          "Year": 1765,
          "value": 0.005060849842558356,
          "variable": "FAIR"
         },
         {
          "Year": 1766,
          "value": 0.009262250086953876,
          "variable": "FAIR"
         },
         {
          "Year": 1767,
          "value": 0.013629014530117767,
          "variable": "FAIR"
         },
         {
          "Year": 1768,
          "value": 0.02174959630655503,
          "variable": "FAIR"
         },
         {
          "Year": 1769,
          "value": 0.03118356680643865,
          "variable": "FAIR"
         },
         {
          "Year": 1770,
          "value": 0.041380376126215083,
          "variable": "FAIR"
         },
         {
          "Year": 1771,
          "value": 0.04702286519039267,
          "variable": "FAIR"
         },
         {
          "Year": 1772,
          "value": 0.04680242832072563,
          "variable": "FAIR"
         },
         {
          "Year": 1773,
          "value": 0.04652773104850302,
          "variable": "FAIR"
         },
         {
          "Year": 1774,
          "value": 0.04564694861424956,
          "variable": "FAIR"
         },
         {
          "Year": 1775,
          "value": 0.041973182987268466,
          "variable": "FAIR"
         },
         {
          "Year": 1776,
          "value": 0.038548719106804484,
          "variable": "FAIR"
         },
         {
          "Year": 1777,
          "value": 0.03670268796974257,
          "variable": "FAIR"
         },
         {
          "Year": 1778,
          "value": 0.03587456847031851,
          "variable": "FAIR"
         },
         {
          "Year": 1779,
          "value": 0.03037657437853946,
          "variable": "FAIR"
         },
         {
          "Year": 1780,
          "value": 0.026240728957137378,
          "variable": "FAIR"
         },
         {
          "Year": 1781,
          "value": 0.02497742816893158,
          "variable": "FAIR"
         },
         {
          "Year": 1782,
          "value": 0.026809023998066693,
          "variable": "FAIR"
         },
         {
          "Year": 1783,
          "value": -0.4673815279744426,
          "variable": "FAIR"
         },
         {
          "Year": 1784,
          "value": -0.39590148328014485,
          "variable": "FAIR"
         },
         {
          "Year": 1785,
          "value": -0.31368541276601186,
          "variable": "FAIR"
         },
         {
          "Year": 1786,
          "value": -0.2412102204349267,
          "variable": "FAIR"
         },
         {
          "Year": 1787,
          "value": -0.18093315584579625,
          "variable": "FAIR"
         },
         {
          "Year": 1788,
          "value": -0.13870695165585423,
          "variable": "FAIR"
         },
         {
          "Year": 1789,
          "value": -0.10589474465159922,
          "variable": "FAIR"
         },
         {
          "Year": 1790,
          "value": -0.08041275860629343,
          "variable": "FAIR"
         },
         {
          "Year": 1791,
          "value": -0.059729465002539395,
          "variable": "FAIR"
         },
         {
          "Year": 1792,
          "value": -0.04296574925744332,
          "variable": "FAIR"
         },
         {
          "Year": 1793,
          "value": -0.031049290368038863,
          "variable": "FAIR"
         },
         {
          "Year": 1794,
          "value": -0.031411006012709373,
          "variable": "FAIR"
         },
         {
          "Year": 1795,
          "value": -0.018486151541795226,
          "variable": "FAIR"
         },
         {
          "Year": 1796,
          "value": -0.05777373259604311,
          "variable": "FAIR"
         },
         {
          "Year": 1797,
          "value": -0.04506106419303892,
          "variable": "FAIR"
         },
         {
          "Year": 1798,
          "value": -0.031777721791808766,
          "variable": "FAIR"
         },
         {
          "Year": 1799,
          "value": -0.020602372112138913,
          "variable": "FAIR"
         },
         {
          "Year": 1800,
          "value": -0.012367596042862538,
          "variable": "FAIR"
         },
         {
          "Year": 1801,
          "value": -0.01240793309549049,
          "variable": "FAIR"
         },
         {
          "Year": 1802,
          "value": -0.0047369848086844055,
          "variable": "FAIR"
         },
         {
          "Year": 1803,
          "value": 0.0016052481847335072,
          "variable": "FAIR"
         },
         {
          "Year": 1804,
          "value": -0.007711538136873603,
          "variable": "FAIR"
         },
         {
          "Year": 1805,
          "value": -0.005442517943411778,
          "variable": "FAIR"
         },
         {
          "Year": 1806,
          "value": 0.0007158219121761187,
          "variable": "FAIR"
         },
         {
          "Year": 1807,
          "value": 0.004600170719369283,
          "variable": "FAIR"
         },
         {
          "Year": 1808,
          "value": 0.0071366996294354714,
          "variable": "FAIR"
         },
         {
          "Year": 1809,
          "value": -0.4261008157968298,
          "variable": "FAIR"
         },
         {
          "Year": 1810,
          "value": -0.4732089478239319,
          "variable": "FAIR"
         },
         {
          "Year": 1811,
          "value": -0.42180308916777937,
          "variable": "FAIR"
         },
         {
          "Year": 1812,
          "value": -0.3484994392000069,
          "variable": "FAIR"
         },
         {
          "Year": 1813,
          "value": -0.27826855204151085,
          "variable": "FAIR"
         },
         {
          "Year": 1814,
          "value": -0.21585760605355767,
          "variable": "FAIR"
         },
         {
          "Year": 1815,
          "value": -0.8953579643706454,
          "variable": "FAIR"
         },
         {
          "Year": 1816,
          "value": -0.9857370097497197,
          "variable": "FAIR"
         },
         {
          "Year": 1817,
          "value": -0.923275830107733,
          "variable": "FAIR"
         },
         {
          "Year": 1818,
          "value": -0.7808998373256684,
          "variable": "FAIR"
         },
         {
          "Year": 1819,
          "value": -0.6332534952254815,
          "variable": "FAIR"
         },
         {
          "Year": 1820,
          "value": -0.499258952530642,
          "variable": "FAIR"
         },
         {
          "Year": 1821,
          "value": -0.3922157910403927,
          "variable": "FAIR"
         },
         {
          "Year": 1822,
          "value": -0.30827053895824735,
          "variable": "FAIR"
         },
         {
          "Year": 1823,
          "value": -0.24251037269097175,
          "variable": "FAIR"
         },
         {
          "Year": 1824,
          "value": -0.19000106320062318,
          "variable": "FAIR"
         },
         {
          "Year": 1825,
          "value": -0.14805008756730254,
          "variable": "FAIR"
         },
         {
          "Year": 1826,
          "value": -0.11427710083616739,
          "variable": "FAIR"
         },
         {
          "Year": 1827,
          "value": -0.08527799527021396,
          "variable": "FAIR"
         },
         {
          "Year": 1828,
          "value": -0.06145772726030399,
          "variable": "FAIR"
         },
         {
          "Year": 1829,
          "value": -0.042414540996054226,
          "variable": "FAIR"
         },
         {
          "Year": 1830,
          "value": -0.026566840256544433,
          "variable": "FAIR"
         },
         {
          "Year": 1831,
          "value": -0.11031831649807321,
          "variable": "FAIR"
         },
         {
          "Year": 1832,
          "value": -0.1586807970121226,
          "variable": "FAIR"
         },
         {
          "Year": 1833,
          "value": -0.15888433186595924,
          "variable": "FAIR"
         },
         {
          "Year": 1834,
          "value": -0.1353046035633279,
          "variable": "FAIR"
         },
         {
          "Year": 1835,
          "value": -0.41148981582949995,
          "variable": "FAIR"
         },
         {
          "Year": 1836,
          "value": -0.4054894457663605,
          "variable": "FAIR"
         },
         {
          "Year": 1837,
          "value": -0.3396493741242902,
          "variable": "FAIR"
         },
         {
          "Year": 1838,
          "value": -0.2675470340495245,
          "variable": "FAIR"
         },
         {
          "Year": 1839,
          "value": -0.20521531846733218,
          "variable": "FAIR"
         },
         {
          "Year": 1840,
          "value": -0.1548493595357578,
          "variable": "FAIR"
         },
         {
          "Year": 1841,
          "value": -0.11481265391027426,
          "variable": "FAIR"
         },
         {
          "Year": 1842,
          "value": -0.08372757098095625,
          "variable": "FAIR"
         },
         {
          "Year": 1843,
          "value": -0.06280374563112996,
          "variable": "FAIR"
         },
         {
          "Year": 1844,
          "value": -0.04476081979209465,
          "variable": "FAIR"
         },
         {
          "Year": 1845,
          "value": -0.029848933739870877,
          "variable": "FAIR"
         },
         {
          "Year": 1846,
          "value": -0.021981683322374854,
          "variable": "FAIR"
         },
         {
          "Year": 1847,
          "value": -0.01581413184529993,
          "variable": "FAIR"
         },
         {
          "Year": 1848,
          "value": -0.005813205402638445,
          "variable": "FAIR"
         },
         {
          "Year": 1849,
          "value": 0.008056999285203224,
          "variable": "FAIR"
         },
         {
          "Year": 1850,
          "value": 0.017275401705622015,
          "variable": "FAIR"
         },
         {
          "Year": 1851,
          "value": 0.023811233055713837,
          "variable": "FAIR"
         },
         {
          "Year": 1852,
          "value": 0.02533351339538386,
          "variable": "FAIR"
         },
         {
          "Year": 1853,
          "value": 0.029399639157883038,
          "variable": "FAIR"
         },
         {
          "Year": 1854,
          "value": 0.03136598390819651,
          "variable": "FAIR"
         },
         {
          "Year": 1855,
          "value": 0.03211602957551046,
          "variable": "FAIR"
         },
         {
          "Year": 1856,
          "value": 0.03267243681754452,
          "variable": "FAIR"
         },
         {
          "Year": 1857,
          "value": 0.03416359086370847,
          "variable": "FAIR"
         },
         {
          "Year": 1858,
          "value": 0.03772834015714864,
          "variable": "FAIR"
         },
         {
          "Year": 1859,
          "value": 0.042559263417823914,
          "variable": "FAIR"
         },
         {
          "Year": 1860,
          "value": 0.04795590376063235,
          "variable": "FAIR"
         },
         {
          "Year": 1861,
          "value": 0.0208968611527341,
          "variable": "FAIR"
         },
         {
          "Year": 1862,
          "value": -0.010742940985266406,
          "variable": "FAIR"
         },
         {
          "Year": 1863,
          "value": -0.01021861761061097,
          "variable": "FAIR"
         },
         {
          "Year": 1864,
          "value": 0.0006835059452428988,
          "variable": "FAIR"
         },
         {
          "Year": 1865,
          "value": 0.012174134716270157,
          "variable": "FAIR"
         },
         {
          "Year": 1866,
          "value": 0.021109948830825766,
          "variable": "FAIR"
         },
         {
          "Year": 1867,
          "value": 0.02781487852851473,
          "variable": "FAIR"
         },
         {
          "Year": 1868,
          "value": 0.03453695686279974,
          "variable": "FAIR"
         },
         {
          "Year": 1869,
          "value": 0.04227395902153884,
          "variable": "FAIR"
         },
         {
          "Year": 1870,
          "value": 0.04877996523975826,
          "variable": "FAIR"
         },
         {
          "Year": 1871,
          "value": 0.0553785344273469,
          "variable": "FAIR"
         },
         {
          "Year": 1872,
          "value": 0.05970703336377922,
          "variable": "FAIR"
         },
         {
          "Year": 1873,
          "value": 0.056472291232564774,
          "variable": "FAIR"
         },
         {
          "Year": 1874,
          "value": 0.0589059700350866,
          "variable": "FAIR"
         },
         {
          "Year": 1875,
          "value": 0.059485161796773135,
          "variable": "FAIR"
         },
         {
          "Year": 1876,
          "value": 0.059325056380853045,
          "variable": "FAIR"
         },
         {
          "Year": 1877,
          "value": 0.05889324306443343,
          "variable": "FAIR"
         },
         {
          "Year": 1878,
          "value": 0.05810087264138772,
          "variable": "FAIR"
         },
         {
          "Year": 1879,
          "value": 0.05779292044046298,
          "variable": "FAIR"
         },
         {
          "Year": 1880,
          "value": 0.057571107456811876,
          "variable": "FAIR"
         },
         {
          "Year": 1881,
          "value": 0.06005714518461301,
          "variable": "FAIR"
         },
         {
          "Year": 1882,
          "value": 0.0637411551520291,
          "variable": "FAIR"
         },
         {
          "Year": 1883,
          "value": 0.027144962896952212,
          "variable": "FAIR"
         },
         {
          "Year": 1884,
          "value": -0.09933659773929487,
          "variable": "FAIR"
         },
         {
          "Year": 1885,
          "value": -0.11473344294923511,
          "variable": "FAIR"
         },
         {
          "Year": 1886,
          "value": -0.08471540453512272,
          "variable": "FAIR"
         },
         {
          "Year": 1887,
          "value": -0.06930553150911976,
          "variable": "FAIR"
         },
         {
          "Year": 1888,
          "value": -0.04365286433439475,
          "variable": "FAIR"
         },
         {
          "Year": 1889,
          "value": -0.020176468134449427,
          "variable": "FAIR"
         },
         {
          "Year": 1890,
          "value": -0.01055032908164934,
          "variable": "FAIR"
         },
         {
          "Year": 1891,
          "value": -0.007475179291325783,
          "variable": "FAIR"
         },
         {
          "Year": 1892,
          "value": 0.00841241538039951,
          "variable": "FAIR"
         },
         {
          "Year": 1893,
          "value": 0.02969450327641181,
          "variable": "FAIR"
         },
         {
          "Year": 1894,
          "value": 0.04931105069974063,
          "variable": "FAIR"
         },
         {
          "Year": 1895,
          "value": 0.06252858167002515,
          "variable": "FAIR"
         },
         {
          "Year": 1896,
          "value": 0.06987309675471316,
          "variable": "FAIR"
         },
         {
          "Year": 1897,
          "value": 0.07382599376293537,
          "variable": "FAIR"
         },
         {
          "Year": 1898,
          "value": 0.0761906606447552,
          "variable": "FAIR"
         },
         {
          "Year": 1899,
          "value": 0.07717467315053744,
          "variable": "FAIR"
         },
         {
          "Year": 1900,
          "value": 0.0775805201405333,
          "variable": "FAIR"
         },
         {
          "Year": 1901,
          "value": 0.0770319982044544,
          "variable": "FAIR"
         },
         {
          "Year": 1902,
          "value": 0.05771857266645271,
          "variable": "FAIR"
         },
         {
          "Year": 1903,
          "value": -0.011849581463798997,
          "variable": "FAIR"
         },
         {
          "Year": 1904,
          "value": -0.023364638969901173,
          "variable": "FAIR"
         },
         {
          "Year": 1905,
          "value": -0.005149482805243702,
          "variable": "FAIR"
         },
         {
          "Year": 1906,
          "value": 0.02025234144180951,
          "variable": "FAIR"
         },
         {
          "Year": 1907,
          "value": 0.03643767067435524,
          "variable": "FAIR"
         },
         {
          "Year": 1908,
          "value": 0.05307276017590844,
          "variable": "FAIR"
         },
         {
          "Year": 1909,
          "value": 0.06583783955410275,
          "variable": "FAIR"
         },
         {
          "Year": 1910,
          "value": 0.07482416786397941,
          "variable": "FAIR"
         },
         {
          "Year": 1911,
          "value": 0.08048201892829913,
          "variable": "FAIR"
         },
         {
          "Year": 1912,
          "value": 0.037050727126738785,
          "variable": "FAIR"
         },
         {
          "Year": 1913,
          "value": 0.013210794533689832,
          "variable": "FAIR"
         },
         {
          "Year": 1914,
          "value": 0.021586054061785667,
          "variable": "FAIR"
         },
         {
          "Year": 1915,
          "value": 0.046267149646625365,
          "variable": "FAIR"
         },
         {
          "Year": 1916,
          "value": 0.07239220564493881,
          "variable": "FAIR"
         },
         {
          "Year": 1917,
          "value": 0.0964310656527012,
          "variable": "FAIR"
         },
         {
          "Year": 1918,
          "value": 0.11676092395603148,
          "variable": "FAIR"
         },
         {
          "Year": 1919,
          "value": 0.12947593022499085,
          "variable": "FAIR"
         },
         {
          "Year": 1920,
          "value": 0.13664358927112846,
          "variable": "FAIR"
         },
         {
          "Year": 1921,
          "value": 0.1401937211297418,
          "variable": "FAIR"
         },
         {
          "Year": 1922,
          "value": 0.13753032525247016,
          "variable": "FAIR"
         },
         {
          "Year": 1923,
          "value": 0.1373875997344846,
          "variable": "FAIR"
         },
         {
          "Year": 1924,
          "value": 0.14106162402683667,
          "variable": "FAIR"
         },
         {
          "Year": 1925,
          "value": 0.14733573372769726,
          "variable": "FAIR"
         },
         {
          "Year": 1926,
          "value": 0.1564136351524494,
          "variable": "FAIR"
         },
         {
          "Year": 1927,
          "value": 0.16713182356637118,
          "variable": "FAIR"
         },
         {
          "Year": 1928,
          "value": 0.17289886973125496,
          "variable": "FAIR"
         },
         {
          "Year": 1929,
          "value": 0.17301556423471262,
          "variable": "FAIR"
         },
         {
          "Year": 1930,
          "value": 0.1791763432013271,
          "variable": "FAIR"
         },
         {
          "Year": 1931,
          "value": 0.18181691199957065,
          "variable": "FAIR"
         },
         {
          "Year": 1932,
          "value": 0.17725372892693664,
          "variable": "FAIR"
         },
         {
          "Year": 1933,
          "value": 0.17756615507832121,
          "variable": "FAIR"
         },
         {
          "Year": 1934,
          "value": 0.1805420422102841,
          "variable": "FAIR"
         },
         {
          "Year": 1935,
          "value": 0.18681959707022577,
          "variable": "FAIR"
         },
         {
          "Year": 1936,
          "value": 0.19957048589034818,
          "variable": "FAIR"
         },
         {
          "Year": 1937,
          "value": 0.21069027412509506,
          "variable": "FAIR"
         },
         {
          "Year": 1938,
          "value": 0.21872405761563637,
          "variable": "FAIR"
         },
         {
          "Year": 1939,
          "value": 0.22534289505631427,
          "variable": "FAIR"
         },
         {
          "Year": 1940,
          "value": 0.2288799217099415,
          "variable": "FAIR"
         },
         {
          "Year": 1941,
          "value": 0.2306131467146384,
          "variable": "FAIR"
         },
         {
          "Year": 1942,
          "value": 0.23057492554022996,
          "variable": "FAIR"
         },
         {
          "Year": 1943,
          "value": 0.22914628359304184,
          "variable": "FAIR"
         },
         {
          "Year": 1944,
          "value": 0.2296161327891918,
          "variable": "FAIR"
         },
         {
          "Year": 1945,
          "value": 0.2351258112719096,
          "variable": "FAIR"
         },
         {
          "Year": 1946,
          "value": 0.24242406312825804,
          "variable": "FAIR"
         },
         {
          "Year": 1947,
          "value": 0.2549141085543848,
          "variable": "FAIR"
         },
         {
          "Year": 1948,
          "value": 0.2677979070202285,
          "variable": "FAIR"
         },
         {
          "Year": 1949,
          "value": 0.27708742977255557,
          "variable": "FAIR"
         },
         {
          "Year": 1950,
          "value": 0.28154537317817974,
          "variable": "FAIR"
         },
         {
          "Year": 1951,
          "value": 0.2798660236587981,
          "variable": "FAIR"
         },
         {
          "Year": 1952,
          "value": 0.27862849532177686,
          "variable": "FAIR"
         },
         {
          "Year": 1953,
          "value": 0.2764223526657951,
          "variable": "FAIR"
         },
         {
          "Year": 1954,
          "value": 0.2751120924624984,
          "variable": "FAIR"
         },
         {
          "Year": 1955,
          "value": 0.27801442873200133,
          "variable": "FAIR"
         },
         {
          "Year": 1956,
          "value": 0.28839974909218336,
          "variable": "FAIR"
         },
         {
          "Year": 1957,
          "value": 0.3042701377432247,
          "variable": "FAIR"
         },
         {
          "Year": 1958,
          "value": 0.31846881533622445,
          "variable": "FAIR"
         },
         {
          "Year": 1959,
          "value": 0.3265754757883484,
          "variable": "FAIR"
         },
         {
          "Year": 1960,
          "value": 0.33116501512070146,
          "variable": "FAIR"
         },
         {
          "Year": 1961,
          "value": 0.32953759907499897,
          "variable": "FAIR"
         },
         {
          "Year": 1962,
          "value": 0.31995616457435344,
          "variable": "FAIR"
         },
         {
          "Year": 1963,
          "value": 0.229365171473656,
          "variable": "FAIR"
         },
         {
          "Year": 1964,
          "value": 0.1809914619088806,
          "variable": "FAIR"
         },
         {
          "Year": 1965,
          "value": 0.17107262238743332,
          "variable": "FAIR"
         },
         {
          "Year": 1966,
          "value": 0.2041506194302709,
          "variable": "FAIR"
         },
         {
          "Year": 1967,
          "value": 0.23141048245004933,
          "variable": "FAIR"
         },
         {
          "Year": 1968,
          "value": 0.25955717143986856,
          "variable": "FAIR"
         },
         {
          "Year": 1969,
          "value": 0.2867644701323593,
          "variable": "FAIR"
         },
         {
          "Year": 1970,
          "value": 0.3104100777888771,
          "variable": "FAIR"
         },
         {
          "Year": 1971,
          "value": 0.3237008242163769,
          "variable": "FAIR"
         },
         {
          "Year": 1972,
          "value": 0.31335734771412177,
          "variable": "FAIR"
         },
         {
          "Year": 1973,
          "value": 0.3365620300131723,
          "variable": "FAIR"
         },
         {
          "Year": 1974,
          "value": 0.34711653887971755,
          "variable": "FAIR"
         },
         {
          "Year": 1975,
          "value": 0.34083303623273337,
          "variable": "FAIR"
         },
         {
          "Year": 1976,
          "value": 0.36019758467780294,
          "variable": "FAIR"
         },
         {
          "Year": 1977,
          "value": 0.389873510297612,
          "variable": "FAIR"
         },
         {
          "Year": 1978,
          "value": 0.42511296703959,
          "variable": "FAIR"
         },
         {
          "Year": 1979,
          "value": 0.461202509300426,
          "variable": "FAIR"
         },
         {
          "Year": 1980,
          "value": 0.4894877524170749,
          "variable": "FAIR"
         },
         {
          "Year": 1981,
          "value": 0.5139103927094429,
          "variable": "FAIR"
         },
         {
          "Year": 1982,
          "value": 0.5035598871598926,
          "variable": "FAIR"
         },
         {
          "Year": 1983,
          "value": 0.46367058396616473,
          "variable": "FAIR"
         },
         {
          "Year": 1984,
          "value": 0.46922063613618703,
          "variable": "FAIR"
         },
         {
          "Year": 1985,
          "value": 0.4943105036670707,
          "variable": "FAIR"
         },
         {
          "Year": 1986,
          "value": 0.5186246805339841,
          "variable": "FAIR"
         },
         {
          "Year": 1987,
          "value": 0.5493942520025769,
          "variable": "FAIR"
         },
         {
          "Year": 1988,
          "value": 0.5878689197986597,
          "variable": "FAIR"
         },
         {
          "Year": 1989,
          "value": 0.6330656772043771,
          "variable": "FAIR"
         },
         {
          "Year": 1990,
          "value": 0.6711668969383143,
          "variable": "FAIR"
         },
         {
          "Year": 1991,
          "value": 0.6409769382372059,
          "variable": "FAIR"
         },
         {
          "Year": 1992,
          "value": 0.5235786784833988,
          "variable": "FAIR"
         },
         {
          "Year": 1993,
          "value": 0.5098519216577546,
          "variable": "FAIR"
         },
         {
          "Year": 1994,
          "value": 0.561509449700629,
          "variable": "FAIR"
         },
         {
          "Year": 1995,
          "value": 0.6188104541617376,
          "variable": "FAIR"
         },
         {
          "Year": 1996,
          "value": 0.6713340408551773,
          "variable": "FAIR"
         },
         {
          "Year": 1997,
          "value": 0.7203631455670478,
          "variable": "FAIR"
         },
         {
          "Year": 1998,
          "value": 0.7691409479865292,
          "variable": "FAIR"
         },
         {
          "Year": 1999,
          "value": 0.8160273992725366,
          "variable": "FAIR"
         },
         {
          "Year": 2000,
          "value": 0.8599351324828205,
          "variable": "FAIR"
         },
         {
          "Year": 2001,
          "value": 0.8955912677176359,
          "variable": "FAIR"
         },
         {
          "Year": 2002,
          "value": 0.9277005815442882,
          "variable": "FAIR"
         },
         {
          "Year": 2003,
          "value": 0.9474410067967811,
          "variable": "FAIR"
         },
         {
          "Year": 2004,
          "value": 0.9634530486202842,
          "variable": "FAIR"
         },
         {
          "Year": 2005,
          "value": 0.9735143273778387,
          "variable": "FAIR"
         },
         {
          "Year": 2006,
          "value": 0.9833742746088752,
          "variable": "FAIR"
         },
         {
          "Year": 2007,
          "value": 0.9948689700373211,
          "variable": "FAIR"
         },
         {
          "Year": 2008,
          "value": 1.009315696811124,
          "variable": "FAIR"
         },
         {
          "Year": 2009,
          "value": 1.0238056706661383,
          "variable": "FAIR"
         },
         {
          "Year": 2010,
          "value": 1.046310264214147,
          "variable": "FAIR"
         },
         {
          "Year": 2011,
          "value": 1.0700986658830678,
          "variable": "FAIR"
         },
         {
          "Year": 2012,
          "value": 1.0987543644376176,
          "variable": "FAIR"
         },
         {
          "Year": 2013,
          "value": 1.128871518637771,
          "variable": "FAIR"
         },
         {
          "Year": 2014,
          "value": 1.1571445314177642,
          "variable": "FAIR"
         },
         {
          "Year": 2015,
          "value": 1.1745981954837053,
          "variable": "FAIR"
         },
         {
          "Year": 2016,
          "value": 1.18942903644716,
          "variable": "FAIR"
         },
         {
          "Year": 2017,
          "value": 1.2056204890848703,
          "variable": "FAIR"
         },
         {
          "Year": 2018,
          "value": 1.2237135090303106,
          "variable": "FAIR"
         },
         {
          "Year": 2019,
          "value": 1.2438281066874257,
          "variable": "FAIR"
         },
         {
          "Year": 2020,
          "value": 1.2663664479218768,
          "variable": "FAIR"
         },
         {
          "Year": 2021,
          "value": 1.2948535786878972,
          "variable": "FAIR"
         },
         {
          "Year": 2022,
          "value": 1.3284949276486895,
          "variable": "FAIR"
         },
         {
          "Year": 2023,
          "value": 1.3641675997002276,
          "variable": "FAIR"
         },
         {
          "Year": 2024,
          "value": 1.3998406966741765,
          "variable": "FAIR"
         },
         {
          "Year": 2025,
          "value": 1.4317152473957622,
          "variable": "FAIR"
         },
         {
          "Year": 2026,
          "value": 1.4602815784642174,
          "variable": "FAIR"
         },
         {
          "Year": 2027,
          "value": 1.4863114698430742,
          "variable": "FAIR"
         },
         {
          "Year": 2028,
          "value": 1.5122560310835997,
          "variable": "FAIR"
         },
         {
          "Year": 2029,
          "value": 1.537369932118044,
          "variable": "FAIR"
         },
         {
          "Year": 2030,
          "value": 1.5628424874865987,
          "variable": "FAIR"
         },
         {
          "Year": 2031,
          "value": 1.588994768410093,
          "variable": "FAIR"
         },
         {
          "Year": 2032,
          "value": 1.6171621946139472,
          "variable": "FAIR"
         },
         {
          "Year": 2033,
          "value": 1.6494791887063374,
          "variable": "FAIR"
         },
         {
          "Year": 2034,
          "value": 1.6871923197494523,
          "variable": "FAIR"
         },
         {
          "Year": 2035,
          "value": 1.7250845677822346,
          "variable": "FAIR"
         },
         {
          "Year": 2036,
          "value": 1.7648225687974053,
          "variable": "FAIR"
         },
         {
          "Year": 2037,
          "value": 1.8017185156810627,
          "variable": "FAIR"
         },
         {
          "Year": 2038,
          "value": 1.838677669944837,
          "variable": "FAIR"
         },
         {
          "Year": 2039,
          "value": 1.872737352051126,
          "variable": "FAIR"
         },
         {
          "Year": 2040,
          "value": 1.9047403349770229,
          "variable": "FAIR"
         },
         {
          "Year": 2041,
          "value": 1.9354238135635482,
          "variable": "FAIR"
         },
         {
          "Year": 2042,
          "value": 1.9669701809279856,
          "variable": "FAIR"
         },
         {
          "Year": 2043,
          "value": 2.0003119809330805,
          "variable": "FAIR"
         },
         {
          "Year": 2044,
          "value": 2.036359656141244,
          "variable": "FAIR"
         },
         {
          "Year": 2045,
          "value": 2.0775598070237864,
          "variable": "FAIR"
         },
         {
          "Year": 2046,
          "value": 2.121504288432837,
          "variable": "FAIR"
         },
         {
          "Year": 2047,
          "value": 2.1680454758526695,
          "variable": "FAIR"
         },
         {
          "Year": 2048,
          "value": 2.213733916526609,
          "variable": "FAIR"
         },
         {
          "Year": 2049,
          "value": 2.2556491669641683,
          "variable": "FAIR"
         },
         {
          "Year": 2050,
          "value": 2.2932846748518765,
          "variable": "FAIR"
         },
         {
          "Year": 2051,
          "value": 2.32947071717845,
          "variable": "FAIR"
         },
         {
          "Year": 2052,
          "value": 2.3647188611799863,
          "variable": "FAIR"
         },
         {
          "Year": 2053,
          "value": 2.3998013313463034,
          "variable": "FAIR"
         },
         {
          "Year": 2054,
          "value": 2.43672262852091,
          "variable": "FAIR"
         },
         {
          "Year": 2055,
          "value": 2.477172855982049,
          "variable": "FAIR"
         },
         {
          "Year": 2056,
          "value": 2.5210851262606733,
          "variable": "FAIR"
         },
         {
          "Year": 2057,
          "value": 2.5646534875437768,
          "variable": "FAIR"
         },
         {
          "Year": 2058,
          "value": 2.6084693753908086,
          "variable": "FAIR"
         },
         {
          "Year": 2059,
          "value": 2.6523410048412774,
          "variable": "FAIR"
         },
         {
          "Year": 2060,
          "value": 2.693316121010458,
          "variable": "FAIR"
         },
         {
          "Year": 2061,
          "value": 2.732299310306975,
          "variable": "FAIR"
         },
         {
          "Year": 2062,
          "value": 2.7700843648668774,
          "variable": "FAIR"
         },
         {
          "Year": 2063,
          "value": 2.808110065892435,
          "variable": "FAIR"
         },
         {
          "Year": 2064,
          "value": 2.846714853643651,
          "variable": "FAIR"
         },
         {
          "Year": 2065,
          "value": 2.886787202213956,
          "variable": "FAIR"
         },
         {
          "Year": 2066,
          "value": 2.9307235439526096,
          "variable": "FAIR"
         },
         {
          "Year": 2067,
          "value": 2.977332849519156,
          "variable": "FAIR"
         },
         {
          "Year": 2068,
          "value": 3.024689376410992,
          "variable": "FAIR"
         },
         {
          "Year": 2069,
          "value": 3.0701290901085176,
          "variable": "FAIR"
         },
         {
          "Year": 2070,
          "value": 3.1128447870034752,
          "variable": "FAIR"
         },
         {
          "Year": 2071,
          "value": 3.1524840363681452,
          "variable": "FAIR"
         },
         {
          "Year": 2072,
          "value": 3.191122289983171,
          "variable": "FAIR"
         },
         {
          "Year": 2073,
          "value": 3.2293229768011487,
          "variable": "FAIR"
         },
         {
          "Year": 2074,
          "value": 3.266707155708333,
          "variable": "FAIR"
         },
         {
          "Year": 2075,
          "value": 3.3042965962742534,
          "variable": "FAIR"
         },
         {
          "Year": 2076,
          "value": 3.3420267247406374,
          "variable": "FAIR"
         },
         {
          "Year": 2077,
          "value": 3.3812621785299615,
          "variable": "FAIR"
         },
         {
          "Year": 2078,
          "value": 3.4231201519403753,
          "variable": "FAIR"
         },
         {
          "Year": 2079,
          "value": 3.467213828998504,
          "variable": "FAIR"
         },
         {
          "Year": 2080,
          "value": 3.5123558992526474,
          "variable": "FAIR"
         },
         {
          "Year": 2081,
          "value": 3.557036882259504,
          "variable": "FAIR"
         },
         {
          "Year": 2082,
          "value": 3.6011091988103,
          "variable": "FAIR"
         },
         {
          "Year": 2083,
          "value": 3.643028606146019,
          "variable": "FAIR"
         },
         {
          "Year": 2084,
          "value": 3.684166644103886,
          "variable": "FAIR"
         },
         {
          "Year": 2085,
          "value": 3.7228796112165483,
          "variable": "FAIR"
         },
         {
          "Year": 2086,
          "value": 3.7608744671429717,
          "variable": "FAIR"
         },
         {
          "Year": 2087,
          "value": 3.799654468075113,
          "variable": "FAIR"
         },
         {
          "Year": 2088,
          "value": 3.8393759324230583,
          "variable": "FAIR"
         },
         {
          "Year": 2089,
          "value": 3.8817003841801667,
          "variable": "FAIR"
         },
         {
          "Year": 2090,
          "value": 3.927433110651901,
          "variable": "FAIR"
         },
         {
          "Year": 2091,
          "value": 3.974659081009511,
          "variable": "FAIR"
         },
         {
          "Year": 2092,
          "value": 4.023795799534681,
          "variable": "FAIR"
         },
         {
          "Year": 2093,
          "value": 4.069728560593064,
          "variable": "FAIR"
         },
         {
          "Year": 2094,
          "value": 4.111704129160028,
          "variable": "FAIR"
         },
         {
          "Year": 2095,
          "value": 4.151077824512331,
          "variable": "FAIR"
         },
         {
          "Year": 2096,
          "value": 4.1879542807137895,
          "variable": "FAIR"
         },
         {
          "Year": 2097,
          "value": 4.224548615584207,
          "variable": "FAIR"
         },
         {
          "Year": 2098,
          "value": 4.260917190024994,
          "variable": "FAIR"
         },
         {
          "Year": 2099,
          "value": 4.2990619628913045,
          "variable": "FAIR"
         },
         {
          "Year": 2100,
          "value": 4.340070811786901,
          "variable": "FAIR"
         },
         {
          "Year": 2101,
          "value": 4.383670515898828,
          "variable": "FAIR"
         },
         {
          "Year": 2102,
          "value": 4.425868612924217,
          "variable": "FAIR"
         },
         {
          "Year": 2103,
          "value": 4.466882286456121,
          "variable": "FAIR"
         },
         {
          "Year": 2104,
          "value": 4.505726826146757,
          "variable": "FAIR"
         },
         {
          "Year": 2105,
          "value": 4.541501634535953,
          "variable": "FAIR"
         },
         {
          "Year": 2106,
          "value": 4.575944377376394,
          "variable": "FAIR"
         },
         {
          "Year": 2107,
          "value": 4.609554652754745,
          "variable": "FAIR"
         },
         {
          "Year": 2108,
          "value": 4.643562686032893,
          "variable": "FAIR"
         },
         {
          "Year": 2109,
          "value": 4.678751521856015,
          "variable": "FAIR"
         },
         {
          "Year": 2110,
          "value": 4.716599458227829,
          "variable": "FAIR"
         },
         {
          "Year": 2111,
          "value": 4.759289499931999,
          "variable": "FAIR"
         },
         {
          "Year": 2112,
          "value": 4.800612426476257,
          "variable": "FAIR"
         },
         {
          "Year": 2113,
          "value": 4.840898008623933,
          "variable": "FAIR"
         },
         {
          "Year": 2114,
          "value": 4.8770006587458195,
          "variable": "FAIR"
         },
         {
          "Year": 2115,
          "value": 4.91188882450948,
          "variable": "FAIR"
         },
         {
          "Year": 2116,
          "value": 4.944067490703073,
          "variable": "FAIR"
         },
         {
          "Year": 2117,
          "value": 4.9753662495298,
          "variable": "FAIR"
         },
         {
          "Year": 2118,
          "value": 5.006394160985974,
          "variable": "FAIR"
         },
         {
          "Year": 2119,
          "value": 5.038077655755014,
          "variable": "FAIR"
         },
         {
          "Year": 2120,
          "value": 5.07267453595763,
          "variable": "FAIR"
         },
         {
          "Year": 2121,
          "value": 5.110893054775109,
          "variable": "FAIR"
         },
         {
          "Year": 2122,
          "value": 5.152144667969225,
          "variable": "FAIR"
         },
         {
          "Year": 2123,
          "value": 5.189392936545358,
          "variable": "FAIR"
         },
         {
          "Year": 2124,
          "value": 5.226398914284394,
          "variable": "FAIR"
         },
         {
          "Year": 2125,
          "value": 5.259292038081219,
          "variable": "FAIR"
         },
         {
          "Year": 2126,
          "value": 5.289237094787971,
          "variable": "FAIR"
         },
         {
          "Year": 2127,
          "value": 5.31841153271246,
          "variable": "FAIR"
         },
         {
          "Year": 2128,
          "value": 5.34714822572476,
          "variable": "FAIR"
         },
         {
          "Year": 2129,
          "value": 5.377021936604471,
          "variable": "FAIR"
         },
         {
          "Year": 2130,
          "value": 5.4099125173160125,
          "variable": "FAIR"
         },
         {
          "Year": 2131,
          "value": 5.449057391388913,
          "variable": "FAIR"
         },
         {
          "Year": 2132,
          "value": 5.4877548672379195,
          "variable": "FAIR"
         },
         {
          "Year": 2133,
          "value": 5.5263127991806344,
          "variable": "FAIR"
         },
         {
          "Year": 2134,
          "value": 5.561357432795877,
          "variable": "FAIR"
         },
         {
          "Year": 2135,
          "value": 5.592560974529701,
          "variable": "FAIR"
         },
         {
          "Year": 2136,
          "value": 5.620121963537419,
          "variable": "FAIR"
         },
         {
          "Year": 2137,
          "value": 5.647408403408847,
          "variable": "FAIR"
         },
         {
          "Year": 2138,
          "value": 5.674457711772789,
          "variable": "FAIR"
         },
         {
          "Year": 2139,
          "value": 5.701893071010966,
          "variable": "FAIR"
         },
         {
          "Year": 2140,
          "value": 5.730559038362614,
          "variable": "FAIR"
         },
         {
          "Year": 2141,
          "value": 5.762300688813837,
          "variable": "FAIR"
         },
         {
          "Year": 2142,
          "value": 5.7965070023416665,
          "variable": "FAIR"
         },
         {
          "Year": 2143,
          "value": 5.830391809891288,
          "variable": "FAIR"
         },
         {
          "Year": 2144,
          "value": 5.864224167566798,
          "variable": "FAIR"
         },
         {
          "Year": 2145,
          "value": 5.896935634783661,
          "variable": "FAIR"
         },
         {
          "Year": 2146,
          "value": 5.926913751802124,
          "variable": "FAIR"
         },
         {
          "Year": 2147,
          "value": 5.956718628403747,
          "variable": "FAIR"
         },
         {
          "Year": 2148,
          "value": 5.985116350892916,
          "variable": "FAIR"
         },
         {
          "Year": 2149,
          "value": 6.013080815803552,
          "variable": "FAIR"
         },
         {
          "Year": 2150,
          "value": 6.0411144133935215,
          "variable": "FAIR"
         },
         {
          "Year": 2151,
          "value": 6.069573930191616,
          "variable": "FAIR"
         },
         {
          "Year": 2152,
          "value": 6.100488716523814,
          "variable": "FAIR"
         },
         {
          "Year": 2153,
          "value": 6.135349519943292,
          "variable": "FAIR"
         },
         {
          "Year": 2154,
          "value": 6.1722706312407665,
          "variable": "FAIR"
         },
         {
          "Year": 2155,
          "value": 6.207255267403147,
          "variable": "FAIR"
         },
         {
          "Year": 2156,
          "value": 6.240200115354505,
          "variable": "FAIR"
         },
         {
          "Year": 2157,
          "value": 6.270094739188961,
          "variable": "FAIR"
         },
         {
          "Year": 2158,
          "value": 6.2965565513511805,
          "variable": "FAIR"
         },
         {
          "Year": 2159,
          "value": 6.320813758370242,
          "variable": "FAIR"
         },
         {
          "Year": 2160,
          "value": 6.344376029486285,
          "variable": "FAIR"
         },
         {
          "Year": 2161,
          "value": 6.368805639942332,
          "variable": "FAIR"
         },
         {
          "Year": 2162,
          "value": 6.395912729783897,
          "variable": "FAIR"
         },
         {
          "Year": 2163,
          "value": 6.427369526710176,
          "variable": "FAIR"
         },
         {
          "Year": 2164,
          "value": 6.46200346123889,
          "variable": "FAIR"
         },
         {
          "Year": 2165,
          "value": 6.4933996130162415,
          "variable": "FAIR"
         },
         {
          "Year": 2166,
          "value": 6.524165821449163,
          "variable": "FAIR"
         },
         {
          "Year": 2167,
          "value": 6.549644758631182,
          "variable": "FAIR"
         },
         {
          "Year": 2168,
          "value": 6.572047047685869,
          "variable": "FAIR"
         },
         {
          "Year": 2169,
          "value": 6.592833797030936,
          "variable": "FAIR"
         },
         {
          "Year": 2170,
          "value": 6.6132244965125135,
          "variable": "FAIR"
         },
         {
          "Year": 2171,
          "value": 6.634139651909818,
          "variable": "FAIR"
         },
         {
          "Year": 2172,
          "value": 6.656990729847313,
          "variable": "FAIR"
         },
         {
          "Year": 2173,
          "value": 6.683899354124736,
          "variable": "FAIR"
         },
         {
          "Year": 2174,
          "value": 6.712357683955829,
          "variable": "FAIR"
         },
         {
          "Year": 2175,
          "value": 6.7416842633435605,
          "variable": "FAIR"
         },
         {
          "Year": 2176,
          "value": 6.769836722856543,
          "variable": "FAIR"
         },
         {
          "Year": 2177,
          "value": 6.7948436363921765,
          "variable": "FAIR"
         },
         {
          "Year": 2178,
          "value": 6.81651607985675,
          "variable": "FAIR"
         },
         {
          "Year": 2179,
          "value": 6.836582524197324,
          "variable": "FAIR"
         },
         {
          "Year": 2180,
          "value": 6.855184721477324,
          "variable": "FAIR"
         },
         {
          "Year": 2181,
          "value": 6.873369317322064,
          "variable": "FAIR"
         },
         {
          "Year": 2182,
          "value": 6.891282700108426,
          "variable": "FAIR"
         },
         {
          "Year": 2183,
          "value": 6.909562471070264,
          "variable": "FAIR"
         },
         {
          "Year": 2184,
          "value": 6.928950688827722,
          "variable": "FAIR"
         },
         {
          "Year": 2185,
          "value": 6.950436554456937,
          "variable": "FAIR"
         },
         {
          "Year": 2186,
          "value": 6.975886984215188,
          "variable": "FAIR"
         },
         {
          "Year": 2187,
          "value": 7.000953826100645,
          "variable": "FAIR"
         },
         {
          "Year": 2188,
          "value": 7.0262525998487195,
          "variable": "FAIR"
         },
         {
          "Year": 2189,
          "value": 7.05133592988724,
          "variable": "FAIR"
         },
         {
          "Year": 2190,
          "value": 7.072544107427615,
          "variable": "FAIR"
         },
         {
          "Year": 2191,
          "value": 7.090982254162764,
          "variable": "FAIR"
         },
         {
          "Year": 2192,
          "value": 7.108087509999922,
          "variable": "FAIR"
         },
         {
          "Year": 2193,
          "value": 7.125157208983997,
          "variable": "FAIR"
         },
         {
          "Year": 2194,
          "value": 7.142467324369472,
          "variable": "FAIR"
         },
         {
          "Year": 2195,
          "value": 7.161188849208572,
          "variable": "FAIR"
         },
         {
          "Year": 2196,
          "value": 7.183599603683468,
          "variable": "FAIR"
         },
         {
          "Year": 2197,
          "value": 7.209069393353961,
          "variable": "FAIR"
         },
         {
          "Year": 2198,
          "value": 7.235261446765696,
          "variable": "FAIR"
         },
         {
          "Year": 2199,
          "value": 7.258847167943642,
          "variable": "FAIR"
         },
         {
          "Year": 2200,
          "value": 7.2794895540086255,
          "variable": "FAIR"
         },
         {
          "Year": 2201,
          "value": 7.296410976140436,
          "variable": "FAIR"
         },
         {
          "Year": 2202,
          "value": 7.31221274875014,
          "variable": "FAIR"
         },
         {
          "Year": 2203,
          "value": 7.327388529741854,
          "variable": "FAIR"
         },
         {
          "Year": 2204,
          "value": 7.34133052472371,
          "variable": "FAIR"
         },
         {
          "Year": 2205,
          "value": 7.355346926679005,
          "variable": "FAIR"
         },
         {
          "Year": 2206,
          "value": 7.369252384872234,
          "variable": "FAIR"
         },
         {
          "Year": 2207,
          "value": 7.384547035373434,
          "variable": "FAIR"
         },
         {
          "Year": 2208,
          "value": 7.40241958736391,
          "variable": "FAIR"
         },
         {
          "Year": 2209,
          "value": 7.422527227308519,
          "variable": "FAIR"
         },
         {
          "Year": 2210,
          "value": 7.443732735651594,
          "variable": "FAIR"
         },
         {
          "Year": 2211,
          "value": 7.463813177362606,
          "variable": "FAIR"
         },
         {
          "Year": 2212,
          "value": 7.4828147797592734,
          "variable": "FAIR"
         },
         {
          "Year": 2213,
          "value": 7.499259258835897,
          "variable": "FAIR"
         },
         {
          "Year": 2214,
          "value": 7.514438237297007,
          "variable": "FAIR"
         },
         {
          "Year": 2215,
          "value": 7.526842991617388,
          "variable": "FAIR"
         },
         {
          "Year": 2216,
          "value": 7.5382495631248965,
          "variable": "FAIR"
         },
         {
          "Year": 2217,
          "value": 7.550308852350517,
          "variable": "FAIR"
         },
         {
          "Year": 2218,
          "value": 7.56327741923225,
          "variable": "FAIR"
         },
         {
          "Year": 2219,
          "value": 7.578841154790603,
          "variable": "FAIR"
         },
         {
          "Year": 2220,
          "value": 7.597629989872129,
          "variable": "FAIR"
         },
         {
          "Year": 2221,
          "value": 7.618038534134568,
          "variable": "FAIR"
         },
         {
          "Year": 2222,
          "value": 7.6408657243295925,
          "variable": "FAIR"
         },
         {
          "Year": 2223,
          "value": 7.660268385882976,
          "variable": "FAIR"
         },
         {
          "Year": 2224,
          "value": 7.675753380035022,
          "variable": "FAIR"
         },
         {
          "Year": 2225,
          "value": 7.688507637113714,
          "variable": "FAIR"
         },
         {
          "Year": 2226,
          "value": 7.698514627498797,
          "variable": "FAIR"
         },
         {
          "Year": 2227,
          "value": 7.708533943092666,
          "variable": "FAIR"
         },
         {
          "Year": 2228,
          "value": 7.718057205330993,
          "variable": "FAIR"
         },
         {
          "Year": 2229,
          "value": 7.729656548233418,
          "variable": "FAIR"
         },
         {
          "Year": 2230,
          "value": 7.744659965801274,
          "variable": "FAIR"
         },
         {
          "Year": 2231,
          "value": 7.761299339271748,
          "variable": "FAIR"
         },
         {
          "Year": 2232,
          "value": 7.777606309171018,
          "variable": "FAIR"
         },
         {
          "Year": 2233,
          "value": 7.794303435137687,
          "variable": "FAIR"
         },
         {
          "Year": 2234,
          "value": 7.808623848649866,
          "variable": "FAIR"
         },
         {
          "Year": 2235,
          "value": 7.8211807347393325,
          "variable": "FAIR"
         },
         {
          "Year": 2236,
          "value": 7.830731445197603,
          "variable": "FAIR"
         },
         {
          "Year": 2237,
          "value": 7.839629662887217,
          "variable": "FAIR"
         },
         {
          "Year": 2238,
          "value": 7.848399031206446,
          "variable": "FAIR"
         },
         {
          "Year": 2239,
          "value": 7.85793087236125,
          "variable": "FAIR"
         },
         {
          "Year": 2240,
          "value": 7.869415814797891,
          "variable": "FAIR"
         },
         {
          "Year": 2241,
          "value": 7.8846769349616945,
          "variable": "FAIR"
         },
         {
          "Year": 2242,
          "value": 7.9024663466495415,
          "variable": "FAIR"
         },
         {
          "Year": 2243,
          "value": 7.919165613452238,
          "variable": "FAIR"
         },
         {
          "Year": 2244,
          "value": 7.934166809127591,
          "variable": "FAIR"
         },
         {
          "Year": 2245,
          "value": 7.94567038531358,
          "variable": "FAIR"
         },
         {
          "Year": 2246,
          "value": 7.9543631928201695,
          "variable": "FAIR"
         },
         {
          "Year": 2247,
          "value": 7.962241316286898,
          "variable": "FAIR"
         },
         {
          "Year": 2248,
          "value": 7.96883551634061,
          "variable": "FAIR"
         },
         {
          "Year": 2249,
          "value": 7.975065157855015,
          "variable": "FAIR"
         },
         {
          "Year": 2250,
          "value": 7.981261571154098,
          "variable": "FAIR"
         },
         {
          "Year": 2251,
          "value": 7.988131402991836,
          "variable": "FAIR"
         },
         {
          "Year": 2252,
          "value": 7.996849835206369,
          "variable": "FAIR"
         },
         {
          "Year": 2253,
          "value": 8.008361547391543,
          "variable": "FAIR"
         },
         {
          "Year": 2254,
          "value": 8.022421254387869,
          "variable": "FAIR"
         },
         {
          "Year": 2255,
          "value": 8.036007293282987,
          "variable": "FAIR"
         },
         {
          "Year": 2256,
          "value": 8.04953317097618,
          "variable": "FAIR"
         },
         {
          "Year": 2257,
          "value": 8.061655442430373,
          "variable": "FAIR"
         },
         {
          "Year": 2258,
          "value": 8.071295891858421,
          "variable": "FAIR"
         },
         {
          "Year": 2259,
          "value": 8.079627866477898,
          "variable": "FAIR"
         },
         {
          "Year": 2260,
          "value": 8.085563987442097,
          "variable": "FAIR"
         },
         {
          "Year": 2261,
          "value": 8.0909863978331,
          "variable": "FAIR"
         },
         {
          "Year": 2262,
          "value": 8.097349353847328,
          "variable": "FAIR"
         },
         {
          "Year": 2263,
          "value": 8.104868691667358,
          "variable": "FAIR"
         },
         {
          "Year": 2264,
          "value": 8.115401051134231,
          "variable": "FAIR"
         },
         {
          "Year": 2265,
          "value": 8.129379427226194,
          "variable": "FAIR"
         },
         {
          "Year": 2266,
          "value": 8.145158913281062,
          "variable": "FAIR"
         },
         {
          "Year": 2267,
          "value": 8.162130247084374,
          "variable": "FAIR"
         },
         {
          "Year": 2268,
          "value": 8.17464883151984,
          "variable": "FAIR"
         },
         {
          "Year": 2269,
          "value": 8.184253008695233,
          "variable": "FAIR"
         },
         {
          "Year": 2270,
          "value": 8.190846938172523,
          "variable": "FAIR"
         },
         {
          "Year": 2271,
          "value": 8.196228868680425,
          "variable": "FAIR"
         },
         {
          "Year": 2272,
          "value": 8.200711473265965,
          "variable": "FAIR"
         },
         {
          "Year": 2273,
          "value": 8.206148774166415,
          "variable": "FAIR"
         },
         {
          "Year": 2274,
          "value": 8.214347003326955,
          "variable": "FAIR"
         },
         {
          "Year": 2275,
          "value": 8.225647140318088,
          "variable": "FAIR"
         },
         {
          "Year": 2276,
          "value": 8.238559708704623,
          "variable": "FAIR"
         },
         {
          "Year": 2277,
          "value": 8.25055171101975,
          "variable": "FAIR"
         },
         {
          "Year": 2278,
          "value": 8.26147985717983,
          "variable": "FAIR"
         },
         {
          "Year": 2279,
          "value": 8.270347205377846,
          "variable": "FAIR"
         },
         {
          "Year": 2280,
          "value": 8.276345496618394,
          "variable": "FAIR"
         },
         {
          "Year": 2281,
          "value": 8.281453620627925,
          "variable": "FAIR"
         },
         {
          "Year": 2282,
          "value": 8.286762612657295,
          "variable": "FAIR"
         },
         {
          "Year": 2283,
          "value": 8.292492283388086,
          "variable": "FAIR"
         },
         {
          "Year": 2284,
          "value": 8.300271800172379,
          "variable": "FAIR"
         },
         {
          "Year": 2285,
          "value": 8.311741038145161,
          "variable": "FAIR"
         },
         {
          "Year": 2286,
          "value": 8.326325792240764,
          "variable": "FAIR"
         },
         {
          "Year": 2287,
          "value": 8.34086016488026,
          "variable": "FAIR"
         },
         {
          "Year": 2288,
          "value": 8.354000078144388,
          "variable": "FAIR"
         },
         {
          "Year": 2289,
          "value": 8.361901747387414,
          "variable": "FAIR"
         },
         {
          "Year": 2290,
          "value": 8.368932075437357,
          "variable": "FAIR"
         },
         {
          "Year": 2291,
          "value": 8.37408776748272,
          "variable": "FAIR"
         },
         {
          "Year": 2292,
          "value": 8.37801168757683,
          "variable": "FAIR"
         },
         {
          "Year": 2293,
          "value": 8.381821399791235,
          "variable": "FAIR"
         },
         {
          "Year": 2294,
          "value": 8.387404740651187,
          "variable": "FAIR"
         },
         {
          "Year": 2295,
          "value": 8.396821320776096,
          "variable": "FAIR"
         },
         {
          "Year": 2296,
          "value": 8.408854399785461,
          "variable": "FAIR"
         },
         {
          "Year": 2297,
          "value": 8.423175788963345,
          "variable": "FAIR"
         },
         {
          "Year": 2298,
          "value": 8.436296139839321,
          "variable": "FAIR"
         },
         {
          "Year": 2299,
          "value": 8.445978250845156,
          "variable": "FAIR"
         },
         {
          "Year": 2300,
          "value": 8.451168810396375,
          "variable": "FAIR"
         },
         {
          "Year": 2301,
          "value": 8.456986419056813,
          "variable": "FAIR"
         },
         {
          "Year": 2302,
          "value": 8.46328837031813,
          "variable": "FAIR"
         },
         {
          "Year": 2303,
          "value": 8.469962900388188,
          "variable": "FAIR"
         },
         {
          "Year": 2304,
          "value": 8.476922483996724,
          "variable": "FAIR"
         },
         {
          "Year": 2305,
          "value": 8.484098587522775,
          "variable": "FAIR"
         },
         {
          "Year": 2306,
          "value": 8.49143755605325,
          "variable": "FAIR"
         },
         {
          "Year": 2307,
          "value": 8.49889739090892,
          "variable": "FAIR"
         },
         {
          "Year": 2308,
          "value": 8.506445225364624,
          "variable": "FAIR"
         },
         {
          "Year": 2309,
          "value": 8.51405534908484,
          "variable": "FAIR"
         },
         {
          "Year": 2310,
          "value": 8.52170765307839,
          "variable": "FAIR"
         },
         {
          "Year": 2311,
          "value": 8.529386417431228,
          "variable": "FAIR"
         },
         {
          "Year": 2312,
          "value": 8.53707936083105,
          "variable": "FAIR"
         },
         {
          "Year": 2313,
          "value": 8.544776895036488,
          "variable": "FAIR"
         },
         {
          "Year": 2314,
          "value": 8.552471543317825,
          "variable": "FAIR"
         },
         {
          "Year": 2315,
          "value": 8.560157478363916,
          "variable": "FAIR"
         },
         {
          "Year": 2316,
          "value": 8.56783016680146,
          "variable": "FAIR"
         },
         {
          "Year": 2317,
          "value": 8.575486090369784,
          "variable": "FAIR"
         },
         {
          "Year": 2318,
          "value": 8.583122520266176,
          "variable": "FAIR"
         },
         {
          "Year": 2319,
          "value": 8.590737344589252,
          "variable": "FAIR"
         },
         {
          "Year": 2320,
          "value": 8.5983289422803,
          "variable": "FAIR"
         },
         {
          "Year": 2321,
          "value": 8.605896071282183,
          "variable": "FAIR"
         },
         {
          "Year": 2322,
          "value": 8.613437786944164,
          "variable": "FAIR"
         },
         {
          "Year": 2323,
          "value": 8.620953378895425,
          "variable": "FAIR"
         },
         {
          "Year": 2324,
          "value": 8.62844231575498,
          "variable": "FAIR"
         },
         {
          "Year": 2325,
          "value": 8.63590420912153,
          "variable": "FAIR"
         },
         {
          "Year": 2326,
          "value": 8.643338781239654,
          "variable": "FAIR"
         },
         {
          "Year": 2327,
          "value": 8.650745839649893,
          "variable": "FAIR"
         },
         {
          "Year": 2328,
          "value": 8.658125260163875,
          "variable": "FAIR"
         },
         {
          "Year": 2329,
          "value": 8.66547697199341,
          "variable": "FAIR"
         },
         {
          "Year": 2330,
          "value": 8.672800947417059,
          "variable": "FAIR"
         },
         {
          "Year": 2331,
          "value": 8.680097187516617,
          "variable": "FAIR"
         },
         {
          "Year": 2332,
          "value": 8.687365717821791,
          "variable": "FAIR"
         },
         {
          "Year": 2333,
          "value": 8.694606583735535,
          "variable": "FAIR"
         },
         {
          "Year": 2334,
          "value": 8.70181984593071,
          "variable": "FAIR"
         },
         {
          "Year": 2335,
          "value": 8.709005578371691,
          "variable": "FAIR"
         },
         {
          "Year": 2336,
          "value": 8.716163861318826,
          "variable": "FAIR"
         },
         {
          "Year": 2337,
          "value": 8.723294781981735,
          "variable": "FAIR"
         },
         {
          "Year": 2338,
          "value": 8.730398431491421,
          "variable": "FAIR"
         },
         {
          "Year": 2339,
          "value": 8.737474905006426,
          "variable": "FAIR"
         },
         {
          "Year": 2340,
          "value": 8.74452430135225,
          "variable": "FAIR"
         },
         {
          "Year": 2341,
          "value": 8.751546721181619,
          "variable": "FAIR"
         },
         {
          "Year": 2342,
          "value": 8.758542269378854,
          "variable": "FAIR"
         },
         {
          "Year": 2343,
          "value": 8.765511049687849,
          "variable": "FAIR"
         },
         {
          "Year": 2344,
          "value": 8.772453163348239,
          "variable": "FAIR"
         },
         {
          "Year": 2345,
          "value": 8.779368716259189,
          "variable": "FAIR"
         },
         {
          "Year": 2346,
          "value": 8.786257815375563,
          "variable": "FAIR"
         },
         {
          "Year": 2347,
          "value": 8.793120563551122,
          "variable": "FAIR"
         },
         {
          "Year": 2348,
          "value": 8.799957064878468,
          "variable": "FAIR"
         },
         {
          "Year": 2349,
          "value": 8.806767426186516,
          "variable": "FAIR"
         },
         {
          "Year": 2350,
          "value": 8.813551752052078,
          "variable": "FAIR"
         },
         {
          "Year": 2351,
          "value": 8.820309991923162,
          "variable": "FAIR"
         },
         {
          "Year": 2352,
          "value": 8.827042024470021,
          "variable": "FAIR"
         },
         {
          "Year": 2353,
          "value": 8.833747798400978,
          "variable": "FAIR"
         },
         {
          "Year": 2354,
          "value": 8.840427314234862,
          "variable": "FAIR"
         },
         {
          "Year": 2355,
          "value": 8.847080611251375,
          "variable": "FAIR"
         },
         {
          "Year": 2356,
          "value": 8.853707760117139,
          "variable": "FAIR"
         },
         {
          "Year": 2357,
          "value": 8.860308849024834,
          "variable": "FAIR"
         },
         {
          "Year": 2358,
          "value": 8.866883977847953,
          "variable": "FAIR"
         },
         {
          "Year": 2359,
          "value": 8.873433262295674,
          "variable": "FAIR"
         },
         {
          "Year": 2360,
          "value": 8.879956822340574,
          "variable": "FAIR"
         },
         {
          "Year": 2361,
          "value": 8.88645478268753,
          "variable": "FAIR"
         },
         {
          "Year": 2362,
          "value": 8.89292727328888,
          "variable": "FAIR"
         },
         {
          "Year": 2363,
          "value": 8.899374418333732,
          "variable": "FAIR"
         },
         {
          "Year": 2364,
          "value": 8.905796343899723,
          "variable": "FAIR"
         },
         {
          "Year": 2365,
          "value": 8.91219317909459,
          "variable": "FAIR"
         },
         {
          "Year": 2366,
          "value": 8.918565048805752,
          "variable": "FAIR"
         },
         {
          "Year": 2367,
          "value": 8.924912075728797,
          "variable": "FAIR"
         },
         {
          "Year": 2368,
          "value": 8.931234381156916,
          "variable": "FAIR"
         },
         {
          "Year": 2369,
          "value": 8.93753208441628,
          "variable": "FAIR"
         },
         {
          "Year": 2370,
          "value": 8.943805303037546,
          "variable": "FAIR"
         },
         {
          "Year": 2371,
          "value": 8.950054151953799,
          "variable": "FAIR"
         },
         {
          "Year": 2372,
          "value": 8.956278746757135,
          "variable": "FAIR"
         },
         {
          "Year": 2373,
          "value": 8.962479199479716,
          "variable": "FAIR"
         },
         {
          "Year": 2374,
          "value": 8.968655616829246,
          "variable": "FAIR"
         },
         {
          "Year": 2375,
          "value": 8.974808109028718,
          "variable": "FAIR"
         },
         {
          "Year": 2376,
          "value": 8.980936782960093,
          "variable": "FAIR"
         },
         {
          "Year": 2377,
          "value": 8.987041743032986,
          "variable": "FAIR"
         },
         {
          "Year": 2378,
          "value": 8.993123092344481,
          "variable": "FAIR"
         },
         {
          "Year": 2379,
          "value": 8.999180932365181,
          "variable": "FAIR"
         },
         {
          "Year": 2380,
          "value": 9.005215365936143,
          "variable": "FAIR"
         },
         {
          "Year": 2381,
          "value": 9.011226492669426,
          "variable": "FAIR"
         },
         {
          "Year": 2382,
          "value": 9.017214407148014,
          "variable": "FAIR"
         },
         {
          "Year": 2383,
          "value": 9.023179205814625,
          "variable": "FAIR"
         },
         {
          "Year": 2384,
          "value": 9.02912098733441,
          "variable": "FAIR"
         },
         {
          "Year": 2385,
          "value": 9.035039846730275,
          "variable": "FAIR"
         },
         {
          "Year": 2386,
          "value": 9.040935878395935,
          "variable": "FAIR"
         },
         {
          "Year": 2387,
          "value": 9.046809175005613,
          "variable": "FAIR"
         },
         {
          "Year": 2388,
          "value": 9.052659828938344,
          "variable": "FAIR"
         },
         {
          "Year": 2389,
          "value": 9.05848793186983,
          "variable": "FAIR"
         },
         {
          "Year": 2390,
          "value": 9.064293577030822,
          "variable": "FAIR"
         },
         {
          "Year": 2391,
          "value": 9.070076855213605,
          "variable": "FAIR"
         },
         {
          "Year": 2392,
          "value": 9.075837853311873,
          "variable": "FAIR"
         },
         {
          "Year": 2393,
          "value": 9.081576662716023,
          "variable": "FAIR"
         },
         {
          "Year": 2394,
          "value": 9.087293371763092,
          "variable": "FAIR"
         },
         {
          "Year": 2395,
          "value": 9.092988065315865,
          "variable": "FAIR"
         },
         {
          "Year": 2396,
          "value": 9.09866083277908,
          "variable": "FAIR"
         },
         {
          "Year": 2397,
          "value": 9.104311763801082,
          "variable": "FAIR"
         },
         {
          "Year": 2398,
          "value": 9.109940942784252,
          "variable": "FAIR"
         },
         {
          "Year": 2399,
          "value": 9.115548455106152,
          "variable": "FAIR"
         },
         {
          "Year": 2400,
          "value": 9.121134386153186,
          "variable": "FAIR"
         },
         {
          "Year": 2401,
          "value": 9.12669870457104,
          "variable": "FAIR"
         },
         {
          "Year": 2402,
          "value": 9.13224133780697,
          "variable": "FAIR"
         },
         {
          "Year": 2403,
          "value": 9.137762259410684,
          "variable": "FAIR"
         },
         {
          "Year": 2404,
          "value": 9.143261478148574,
          "variable": "FAIR"
         },
         {
          "Year": 2405,
          "value": 9.148739030066789,
          "variable": "FAIR"
         },
         {
          "Year": 2406,
          "value": 9.154194970580633,
          "variable": "FAIR"
         },
         {
          "Year": 2407,
          "value": 9.159629370139422,
          "variable": "FAIR"
         },
         {
          "Year": 2408,
          "value": 9.165042309609088,
          "variable": "FAIR"
         },
         {
          "Year": 2409,
          "value": 9.170433876653217,
          "variable": "FAIR"
         },
         {
          "Year": 2410,
          "value": 9.175804163883651,
          "variable": "FAIR"
         },
         {
          "Year": 2411,
          "value": 9.181153267120342,
          "variable": "FAIR"
         },
         {
          "Year": 2412,
          "value": 9.186481283863435,
          "variable": "FAIR"
         },
         {
          "Year": 2413,
          "value": 9.19178831498885,
          "variable": "FAIR"
         },
         {
          "Year": 2414,
          "value": 9.197074459663686,
          "variable": "FAIR"
         },
         {
          "Year": 2415,
          "value": 9.202339813087631,
          "variable": "FAIR"
         },
         {
          "Year": 2416,
          "value": 9.207584474553592,
          "variable": "FAIR"
         },
         {
          "Year": 2417,
          "value": 9.212808540264538,
          "variable": "FAIR"
         },
         {
          "Year": 2418,
          "value": 9.218012102159106,
          "variable": "FAIR"
         },
         {
          "Year": 2419,
          "value": 9.223195255402741,
          "variable": "FAIR"
         },
         {
          "Year": 2420,
          "value": 9.228358094655308,
          "variable": "FAIR"
         },
         {
          "Year": 2421,
          "value": 9.233500707899507,
          "variable": "FAIR"
         },
         {
          "Year": 2422,
          "value": 9.238623183470967,
          "variable": "FAIR"
         },
         {
          "Year": 2423,
          "value": 9.243725609405573,
          "variable": "FAIR"
         },
         {
          "Year": 2424,
          "value": 9.248808072566375,
          "variable": "FAIR"
         },
         {
          "Year": 2425,
          "value": 9.253870660743274,
          "variable": "FAIR"
         },
         {
          "Year": 2426,
          "value": 9.258913458330055,
          "variable": "FAIR"
         },
         {
          "Year": 2427,
          "value": 9.263936546073408,
          "variable": "FAIR"
         },
         {
          "Year": 2428,
          "value": 9.268940005289338,
          "variable": "FAIR"
         },
         {
          "Year": 2429,
          "value": 9.273923919599525,
          "variable": "FAIR"
         },
         {
          "Year": 2430,
          "value": 9.278888369498443,
          "variable": "FAIR"
         },
         {
          "Year": 2431,
          "value": 9.283833434176756,
          "variable": "FAIR"
         },
         {
          "Year": 2432,
          "value": 9.288759192675721,
          "variable": "FAIR"
         },
         {
          "Year": 2433,
          "value": 9.293665723154938,
          "variable": "FAIR"
         },
         {
          "Year": 2434,
          "value": 9.298553102166922,
          "variable": "FAIR"
         },
         {
          "Year": 2435,
          "value": 9.303421408630205,
          "variable": "FAIR"
         },
         {
          "Year": 2436,
          "value": 9.308270718530183,
          "variable": "FAIR"
         },
         {
          "Year": 2437,
          "value": 9.313101103687883,
          "variable": "FAIR"
         },
         {
          "Year": 2438,
          "value": 9.317912637778516,
          "variable": "FAIR"
         },
         {
          "Year": 2439,
          "value": 9.32270539462249,
          "variable": "FAIR"
         },
         {
          "Year": 2440,
          "value": 9.3274794503,
          "variable": "FAIR"
         },
         {
          "Year": 2441,
          "value": 9.332234878571882,
          "variable": "FAIR"
         },
         {
          "Year": 2442,
          "value": 9.336971749382252,
          "variable": "FAIR"
         },
         {
          "Year": 2443,
          "value": 9.34169013662281,
          "variable": "FAIR"
         },
         {
          "Year": 2444,
          "value": 9.34639011200539,
          "variable": "FAIR"
         },
         {
          "Year": 2445,
          "value": 9.35107174641559,
          "variable": "FAIR"
         },
         {
          "Year": 2446,
          "value": 9.35573511036918,
          "variable": "FAIR"
         },
         {
          "Year": 2447,
          "value": 9.360380273940624,
          "variable": "FAIR"
         },
         {
          "Year": 2448,
          "value": 9.365007309483016,
          "variable": "FAIR"
         },
         {
          "Year": 2449,
          "value": 9.369616284409984,
          "variable": "FAIR"
         },
         {
          "Year": 2450,
          "value": 9.374207268013459,
          "variable": "FAIR"
         },
         {
          "Year": 2451,
          "value": 9.378780269228997,
          "variable": "FAIR"
         },
         {
          "Year": 2452,
          "value": 9.383335224592011,
          "variable": "FAIR"
         },
         {
          "Year": 2453,
          "value": 9.387872115561388,
          "variable": "FAIR"
         },
         {
          "Year": 2454,
          "value": 9.392390958820297,
          "variable": "FAIR"
         },
         {
          "Year": 2455,
          "value": 9.396891792504777,
          "variable": "FAIR"
         },
         {
          "Year": 2456,
          "value": 9.401374671570979,
          "variable": "FAIR"
         },
         {
          "Year": 2457,
          "value": 9.405839660596373,
          "variable": "FAIR"
         },
         {
          "Year": 2458,
          "value": 9.410286835258637,
          "variable": "FAIR"
         },
         {
          "Year": 2459,
          "value": 9.414716281130936,
          "variable": "FAIR"
         },
         {
          "Year": 2460,
          "value": 9.419128085038125,
          "variable": "FAIR"
         },
         {
          "Year": 2461,
          "value": 9.423522334452649,
          "variable": "FAIR"
         },
         {
          "Year": 2462,
          "value": 9.427899117692377,
          "variable": "FAIR"
         },
         {
          "Year": 2463,
          "value": 9.432258523282437,
          "variable": "FAIR"
         },
         {
          "Year": 2464,
          "value": 9.436600641951687,
          "variable": "FAIR"
         },
         {
          "Year": 2465,
          "value": 9.440925561575158,
          "variable": "FAIR"
         },
         {
          "Year": 2466,
          "value": 9.445233365742576,
          "variable": "FAIR"
         },
         {
          "Year": 2467,
          "value": 9.449524138536127,
          "variable": "FAIR"
         },
         {
          "Year": 2468,
          "value": 9.453797963272123,
          "variable": "FAIR"
         },
         {
          "Year": 2469,
          "value": 9.458054925326195,
          "variable": "FAIR"
         },
         {
          "Year": 2470,
          "value": 9.462295106046035,
          "variable": "FAIR"
         },
         {
          "Year": 2471,
          "value": 9.466518581305824,
          "variable": "FAIR"
         },
         {
          "Year": 2472,
          "value": 9.470725430421968,
          "variable": "FAIR"
         },
         {
          "Year": 2473,
          "value": 9.474915728951483,
          "variable": "FAIR"
         },
         {
          "Year": 2474,
          "value": 9.479089551518797,
          "variable": "FAIR"
         },
         {
          "Year": 2475,
          "value": 9.48324697142749,
          "variable": "FAIR"
         },
         {
          "Year": 2476,
          "value": 9.487388060893469,
          "variable": "FAIR"
         },
         {
          "Year": 2477,
          "value": 9.491512890957619,
          "variable": "FAIR"
         },
         {
          "Year": 2478,
          "value": 9.495621532100564,
          "variable": "FAIR"
         },
         {
          "Year": 2479,
          "value": 9.499714053748594,
          "variable": "FAIR"
         },
         {
          "Year": 2480,
          "value": 9.503790523896852,
          "variable": "FAIR"
         },
         {
          "Year": 2481,
          "value": 9.507851009798356,
          "variable": "FAIR"
         },
         {
          "Year": 2482,
          "value": 9.511895577833435,
          "variable": "FAIR"
         },
         {
          "Year": 2483,
          "value": 9.51592429660836,
          "variable": "FAIR"
         },
         {
          "Year": 2484,
          "value": 9.519937231551662,
          "variable": "FAIR"
         },
         {
          "Year": 2485,
          "value": 9.523934443842533,
          "variable": "FAIR"
         },
         {
          "Year": 2486,
          "value": 9.527915996471233,
          "variable": "FAIR"
         },
         {
          "Year": 2487,
          "value": 9.531881954974539,
          "variable": "FAIR"
         },
         {
          "Year": 2488,
          "value": 9.535832381900267,
          "variable": "FAIR"
         },
         {
          "Year": 2489,
          "value": 9.53976733940847,
          "variable": "FAIR"
         },
         {
          "Year": 2490,
          "value": 9.543686885926224,
          "variable": "FAIR"
         },
         {
          "Year": 2491,
          "value": 9.547591081924017,
          "variable": "FAIR"
         },
         {
          "Year": 2492,
          "value": 9.551479990542097,
          "variable": "FAIR"
         },
         {
          "Year": 2493,
          "value": 9.55535367221456,
          "variable": "FAIR"
         },
         {
          "Year": 2494,
          "value": 9.559212186384752,
          "variable": "FAIR"
         },
         {
          "Year": 2495,
          "value": 9.56305559199042,
          "variable": "FAIR"
         },
         {
          "Year": 2496,
          "value": 9.566883947672883,
          "variable": "FAIR"
         },
         {
          "Year": 2497,
          "value": 9.570697311003556,
          "variable": "FAIR"
         },
         {
          "Year": 2498,
          "value": 9.574495742613577,
          "variable": "FAIR"
         },
         {
          "Year": 2499,
          "value": 9.578279300840403,
          "variable": "FAIR"
         },
         {
          "Year": 2500,
          "value": 9.58204807088276,
          "variable": "FAIR"
         },
         {
          "Year": 1765,
          "value": 0.005060849842558356,
          "variable": "FUNDFAIR"
         },
         {
          "Year": 1766,
          "value": 0.009262250086953876,
          "variable": "FUNDFAIR"
         },
         {
          "Year": 1767,
          "value": 0.013629014530117767,
          "variable": "FUNDFAIR"
         },
         {
          "Year": 1768,
          "value": 0.02174959630655503,
          "variable": "FUNDFAIR"
         },
         {
          "Year": 1769,
          "value": 0.03118356680643865,
          "variable": "FUNDFAIR"
         },
         {
          "Year": 1770,
          "value": 0.041380376126215083,
          "variable": "FUNDFAIR"
         },
         {
          "Year": 1771,
          "value": 0.04702286519039267,
          "variable": "FUNDFAIR"
         },
         {
          "Year": 1772,
          "value": 0.04680242832072563,
          "variable": "FUNDFAIR"
         },
         {
          "Year": 1773,
          "value": 0.04652773104850302,
          "variable": "FUNDFAIR"
         },
         {
          "Year": 1774,
          "value": 0.04564694861424956,
          "variable": "FUNDFAIR"
         },
         {
          "Year": 1775,
          "value": 0.041973182987268466,
          "variable": "FUNDFAIR"
         },
         {
          "Year": 1776,
          "value": 0.038548719106804484,
          "variable": "FUNDFAIR"
         },
         {
          "Year": 1777,
          "value": 0.03670268796974257,
          "variable": "FUNDFAIR"
         },
         {
          "Year": 1778,
          "value": 0.03587456847031851,
          "variable": "FUNDFAIR"
         },
         {
          "Year": 1779,
          "value": 0.03037657437853946,
          "variable": "FUNDFAIR"
         },
         {
          "Year": 1780,
          "value": 0.026240728957137378,
          "variable": "FUNDFAIR"
         },
         {
          "Year": 1781,
          "value": 0.02497742816893158,
          "variable": "FUNDFAIR"
         },
         {
          "Year": 1782,
          "value": 0.026809023998066693,
          "variable": "FUNDFAIR"
         },
         {
          "Year": 1783,
          "value": -0.4673815279744426,
          "variable": "FUNDFAIR"
         },
         {
          "Year": 1784,
          "value": -0.39590148328014485,
          "variable": "FUNDFAIR"
         },
         {
          "Year": 1785,
          "value": -0.31368541276601186,
          "variable": "FUNDFAIR"
         },
         {
          "Year": 1786,
          "value": -0.2412102204349267,
          "variable": "FUNDFAIR"
         },
         {
          "Year": 1787,
          "value": -0.18093315584579625,
          "variable": "FUNDFAIR"
         },
         {
          "Year": 1788,
          "value": -0.13870695165585423,
          "variable": "FUNDFAIR"
         },
         {
          "Year": 1789,
          "value": -0.10589474465159922,
          "variable": "FUNDFAIR"
         },
         {
          "Year": 1790,
          "value": -0.08041275860629343,
          "variable": "FUNDFAIR"
         },
         {
          "Year": 1791,
          "value": -0.059729465002539395,
          "variable": "FUNDFAIR"
         },
         {
          "Year": 1792,
          "value": -0.04296574925744332,
          "variable": "FUNDFAIR"
         },
         {
          "Year": 1793,
          "value": -0.031049290368038863,
          "variable": "FUNDFAIR"
         },
         {
          "Year": 1794,
          "value": -0.031411006012709373,
          "variable": "FUNDFAIR"
         },
         {
          "Year": 1795,
          "value": -0.018486151541795226,
          "variable": "FUNDFAIR"
         },
         {
          "Year": 1796,
          "value": -0.05777373259604311,
          "variable": "FUNDFAIR"
         },
         {
          "Year": 1797,
          "value": -0.04506106419303892,
          "variable": "FUNDFAIR"
         },
         {
          "Year": 1798,
          "value": -0.031777721791808766,
          "variable": "FUNDFAIR"
         },
         {
          "Year": 1799,
          "value": -0.020602372112138913,
          "variable": "FUNDFAIR"
         },
         {
          "Year": 1800,
          "value": -0.012367596042862538,
          "variable": "FUNDFAIR"
         },
         {
          "Year": 1801,
          "value": -0.01240793309549049,
          "variable": "FUNDFAIR"
         },
         {
          "Year": 1802,
          "value": -0.0047369848086844055,
          "variable": "FUNDFAIR"
         },
         {
          "Year": 1803,
          "value": 0.0016052481847335072,
          "variable": "FUNDFAIR"
         },
         {
          "Year": 1804,
          "value": -0.007711538136873603,
          "variable": "FUNDFAIR"
         },
         {
          "Year": 1805,
          "value": -0.005442517943411778,
          "variable": "FUNDFAIR"
         },
         {
          "Year": 1806,
          "value": 0.0007158219121761187,
          "variable": "FUNDFAIR"
         },
         {
          "Year": 1807,
          "value": 0.004600170719369283,
          "variable": "FUNDFAIR"
         },
         {
          "Year": 1808,
          "value": 0.0071366996294354714,
          "variable": "FUNDFAIR"
         },
         {
          "Year": 1809,
          "value": -0.4261008157968298,
          "variable": "FUNDFAIR"
         },
         {
          "Year": 1810,
          "value": -0.4732089478239319,
          "variable": "FUNDFAIR"
         },
         {
          "Year": 1811,
          "value": -0.42180308916777937,
          "variable": "FUNDFAIR"
         },
         {
          "Year": 1812,
          "value": -0.3484994392000069,
          "variable": "FUNDFAIR"
         },
         {
          "Year": 1813,
          "value": -0.27826855204151085,
          "variable": "FUNDFAIR"
         },
         {
          "Year": 1814,
          "value": -0.21585760605355767,
          "variable": "FUNDFAIR"
         },
         {
          "Year": 1815,
          "value": -0.8953579643706454,
          "variable": "FUNDFAIR"
         },
         {
          "Year": 1816,
          "value": -0.9857370097497197,
          "variable": "FUNDFAIR"
         },
         {
          "Year": 1817,
          "value": -0.923275830107733,
          "variable": "FUNDFAIR"
         },
         {
          "Year": 1818,
          "value": -0.7808998373256684,
          "variable": "FUNDFAIR"
         },
         {
          "Year": 1819,
          "value": -0.6332534952254815,
          "variable": "FUNDFAIR"
         },
         {
          "Year": 1820,
          "value": -0.499258952530642,
          "variable": "FUNDFAIR"
         },
         {
          "Year": 1821,
          "value": -0.3922157910403927,
          "variable": "FUNDFAIR"
         },
         {
          "Year": 1822,
          "value": -0.30827053895824735,
          "variable": "FUNDFAIR"
         },
         {
          "Year": 1823,
          "value": -0.24251037269097175,
          "variable": "FUNDFAIR"
         },
         {
          "Year": 1824,
          "value": -0.19000106320062318,
          "variable": "FUNDFAIR"
         },
         {
          "Year": 1825,
          "value": -0.14805008756730254,
          "variable": "FUNDFAIR"
         },
         {
          "Year": 1826,
          "value": -0.11427710083616739,
          "variable": "FUNDFAIR"
         },
         {
          "Year": 1827,
          "value": -0.08527799527021396,
          "variable": "FUNDFAIR"
         },
         {
          "Year": 1828,
          "value": -0.06145772726030399,
          "variable": "FUNDFAIR"
         },
         {
          "Year": 1829,
          "value": -0.042414540996054226,
          "variable": "FUNDFAIR"
         },
         {
          "Year": 1830,
          "value": -0.026566840256544433,
          "variable": "FUNDFAIR"
         },
         {
          "Year": 1831,
          "value": -0.11031831649807321,
          "variable": "FUNDFAIR"
         },
         {
          "Year": 1832,
          "value": -0.1586807970121226,
          "variable": "FUNDFAIR"
         },
         {
          "Year": 1833,
          "value": -0.15888433186595924,
          "variable": "FUNDFAIR"
         },
         {
          "Year": 1834,
          "value": -0.1353046035633279,
          "variable": "FUNDFAIR"
         },
         {
          "Year": 1835,
          "value": -0.41148981582949995,
          "variable": "FUNDFAIR"
         },
         {
          "Year": 1836,
          "value": -0.4054894457663605,
          "variable": "FUNDFAIR"
         },
         {
          "Year": 1837,
          "value": -0.3396493741242902,
          "variable": "FUNDFAIR"
         },
         {
          "Year": 1838,
          "value": -0.2675470340495245,
          "variable": "FUNDFAIR"
         },
         {
          "Year": 1839,
          "value": -0.20521531846733218,
          "variable": "FUNDFAIR"
         },
         {
          "Year": 1840,
          "value": -0.1548493595357578,
          "variable": "FUNDFAIR"
         },
         {
          "Year": 1841,
          "value": -0.11481265391027426,
          "variable": "FUNDFAIR"
         },
         {
          "Year": 1842,
          "value": -0.08372757098095625,
          "variable": "FUNDFAIR"
         },
         {
          "Year": 1843,
          "value": -0.06280374563112996,
          "variable": "FUNDFAIR"
         },
         {
          "Year": 1844,
          "value": -0.04476081979209465,
          "variable": "FUNDFAIR"
         },
         {
          "Year": 1845,
          "value": -0.029848933739870877,
          "variable": "FUNDFAIR"
         },
         {
          "Year": 1846,
          "value": -0.021981683322374854,
          "variable": "FUNDFAIR"
         },
         {
          "Year": 1847,
          "value": -0.01581413184529993,
          "variable": "FUNDFAIR"
         },
         {
          "Year": 1848,
          "value": -0.005813205402638445,
          "variable": "FUNDFAIR"
         },
         {
          "Year": 1849,
          "value": 0.008056999285203224,
          "variable": "FUNDFAIR"
         },
         {
          "Year": 1850,
          "value": 0.017275401705622015,
          "variable": "FUNDFAIR"
         },
         {
          "Year": 1851,
          "value": 0.023811233055713837,
          "variable": "FUNDFAIR"
         },
         {
          "Year": 1852,
          "value": 0.02533351339538386,
          "variable": "FUNDFAIR"
         },
         {
          "Year": 1853,
          "value": 0.029399639157883038,
          "variable": "FUNDFAIR"
         },
         {
          "Year": 1854,
          "value": 0.03136598390819651,
          "variable": "FUNDFAIR"
         },
         {
          "Year": 1855,
          "value": 0.03211602957551046,
          "variable": "FUNDFAIR"
         },
         {
          "Year": 1856,
          "value": 0.03267243681754452,
          "variable": "FUNDFAIR"
         },
         {
          "Year": 1857,
          "value": 0.03416359086370847,
          "variable": "FUNDFAIR"
         },
         {
          "Year": 1858,
          "value": 0.03772834015714864,
          "variable": "FUNDFAIR"
         },
         {
          "Year": 1859,
          "value": 0.042559263417823914,
          "variable": "FUNDFAIR"
         },
         {
          "Year": 1860,
          "value": 0.04795590376063235,
          "variable": "FUNDFAIR"
         },
         {
          "Year": 1861,
          "value": 0.0208968611527341,
          "variable": "FUNDFAIR"
         },
         {
          "Year": 1862,
          "value": -0.010742940985266406,
          "variable": "FUNDFAIR"
         },
         {
          "Year": 1863,
          "value": -0.01021861761061097,
          "variable": "FUNDFAIR"
         },
         {
          "Year": 1864,
          "value": 0.0006835059452428988,
          "variable": "FUNDFAIR"
         },
         {
          "Year": 1865,
          "value": 0.012174134716270157,
          "variable": "FUNDFAIR"
         },
         {
          "Year": 1866,
          "value": 0.021109948830825766,
          "variable": "FUNDFAIR"
         },
         {
          "Year": 1867,
          "value": 0.02781487852851473,
          "variable": "FUNDFAIR"
         },
         {
          "Year": 1868,
          "value": 0.03453695686279974,
          "variable": "FUNDFAIR"
         },
         {
          "Year": 1869,
          "value": 0.04227395902153884,
          "variable": "FUNDFAIR"
         },
         {
          "Year": 1870,
          "value": 0.04877996523975826,
          "variable": "FUNDFAIR"
         },
         {
          "Year": 1871,
          "value": 0.0553785344273469,
          "variable": "FUNDFAIR"
         },
         {
          "Year": 1872,
          "value": 0.05970703336377922,
          "variable": "FUNDFAIR"
         },
         {
          "Year": 1873,
          "value": 0.056472291232564774,
          "variable": "FUNDFAIR"
         },
         {
          "Year": 1874,
          "value": 0.0589059700350866,
          "variable": "FUNDFAIR"
         },
         {
          "Year": 1875,
          "value": 0.059485161796773135,
          "variable": "FUNDFAIR"
         },
         {
          "Year": 1876,
          "value": 0.059325056380853045,
          "variable": "FUNDFAIR"
         },
         {
          "Year": 1877,
          "value": 0.05889324306443343,
          "variable": "FUNDFAIR"
         },
         {
          "Year": 1878,
          "value": 0.05810087264138772,
          "variable": "FUNDFAIR"
         },
         {
          "Year": 1879,
          "value": 0.05779292044046298,
          "variable": "FUNDFAIR"
         },
         {
          "Year": 1880,
          "value": 0.057571107456811876,
          "variable": "FUNDFAIR"
         },
         {
          "Year": 1881,
          "value": 0.06005714518461301,
          "variable": "FUNDFAIR"
         },
         {
          "Year": 1882,
          "value": 0.0637411551520291,
          "variable": "FUNDFAIR"
         },
         {
          "Year": 1883,
          "value": 0.027144962896952212,
          "variable": "FUNDFAIR"
         },
         {
          "Year": 1884,
          "value": -0.09933659773929487,
          "variable": "FUNDFAIR"
         },
         {
          "Year": 1885,
          "value": -0.11473344294923511,
          "variable": "FUNDFAIR"
         },
         {
          "Year": 1886,
          "value": -0.08471540453512272,
          "variable": "FUNDFAIR"
         },
         {
          "Year": 1887,
          "value": -0.06930553150911976,
          "variable": "FUNDFAIR"
         },
         {
          "Year": 1888,
          "value": -0.04365286433439475,
          "variable": "FUNDFAIR"
         },
         {
          "Year": 1889,
          "value": -0.020176468134449427,
          "variable": "FUNDFAIR"
         },
         {
          "Year": 1890,
          "value": -0.01055032908164934,
          "variable": "FUNDFAIR"
         },
         {
          "Year": 1891,
          "value": -0.007475179291325783,
          "variable": "FUNDFAIR"
         },
         {
          "Year": 1892,
          "value": 0.00841241538039951,
          "variable": "FUNDFAIR"
         },
         {
          "Year": 1893,
          "value": 0.02969450327641181,
          "variable": "FUNDFAIR"
         },
         {
          "Year": 1894,
          "value": 0.04931105069974063,
          "variable": "FUNDFAIR"
         },
         {
          "Year": 1895,
          "value": 0.06252858167002515,
          "variable": "FUNDFAIR"
         },
         {
          "Year": 1896,
          "value": 0.06987309675471316,
          "variable": "FUNDFAIR"
         },
         {
          "Year": 1897,
          "value": 0.07382599376293537,
          "variable": "FUNDFAIR"
         },
         {
          "Year": 1898,
          "value": 0.0761906606447552,
          "variable": "FUNDFAIR"
         },
         {
          "Year": 1899,
          "value": 0.07717467315053744,
          "variable": "FUNDFAIR"
         },
         {
          "Year": 1900,
          "value": 0.0775805201405333,
          "variable": "FUNDFAIR"
         },
         {
          "Year": 1901,
          "value": 0.0770319982044544,
          "variable": "FUNDFAIR"
         },
         {
          "Year": 1902,
          "value": 0.05771857266645271,
          "variable": "FUNDFAIR"
         },
         {
          "Year": 1903,
          "value": -0.011849581463798997,
          "variable": "FUNDFAIR"
         },
         {
          "Year": 1904,
          "value": -0.023364638969901173,
          "variable": "FUNDFAIR"
         },
         {
          "Year": 1905,
          "value": -0.005149482805243702,
          "variable": "FUNDFAIR"
         },
         {
          "Year": 1906,
          "value": 0.02025234144180951,
          "variable": "FUNDFAIR"
         },
         {
          "Year": 1907,
          "value": 0.03643767067435524,
          "variable": "FUNDFAIR"
         },
         {
          "Year": 1908,
          "value": 0.05307276017590844,
          "variable": "FUNDFAIR"
         },
         {
          "Year": 1909,
          "value": 0.06583783955410275,
          "variable": "FUNDFAIR"
         },
         {
          "Year": 1910,
          "value": 0.07482416786397941,
          "variable": "FUNDFAIR"
         },
         {
          "Year": 1911,
          "value": 0.08048201892829913,
          "variable": "FUNDFAIR"
         },
         {
          "Year": 1912,
          "value": 0.037050727126738785,
          "variable": "FUNDFAIR"
         },
         {
          "Year": 1913,
          "value": 0.013210794533689832,
          "variable": "FUNDFAIR"
         },
         {
          "Year": 1914,
          "value": 0.021586054061785667,
          "variable": "FUNDFAIR"
         },
         {
          "Year": 1915,
          "value": 0.046267149646625365,
          "variable": "FUNDFAIR"
         },
         {
          "Year": 1916,
          "value": 0.07239220564493881,
          "variable": "FUNDFAIR"
         },
         {
          "Year": 1917,
          "value": 0.0964310656527012,
          "variable": "FUNDFAIR"
         },
         {
          "Year": 1918,
          "value": 0.11676092395603148,
          "variable": "FUNDFAIR"
         },
         {
          "Year": 1919,
          "value": 0.12947593022499085,
          "variable": "FUNDFAIR"
         },
         {
          "Year": 1920,
          "value": 0.13664358927112846,
          "variable": "FUNDFAIR"
         },
         {
          "Year": 1921,
          "value": 0.1401937211297418,
          "variable": "FUNDFAIR"
         },
         {
          "Year": 1922,
          "value": 0.13753032525247016,
          "variable": "FUNDFAIR"
         },
         {
          "Year": 1923,
          "value": 0.1373875997344846,
          "variable": "FUNDFAIR"
         },
         {
          "Year": 1924,
          "value": 0.14106162402683667,
          "variable": "FUNDFAIR"
         },
         {
          "Year": 1925,
          "value": 0.14733573372769726,
          "variable": "FUNDFAIR"
         },
         {
          "Year": 1926,
          "value": 0.1564136351524494,
          "variable": "FUNDFAIR"
         },
         {
          "Year": 1927,
          "value": 0.16713182356637118,
          "variable": "FUNDFAIR"
         },
         {
          "Year": 1928,
          "value": 0.17289886973125496,
          "variable": "FUNDFAIR"
         },
         {
          "Year": 1929,
          "value": 0.17301556423471262,
          "variable": "FUNDFAIR"
         },
         {
          "Year": 1930,
          "value": 0.1791763432013271,
          "variable": "FUNDFAIR"
         },
         {
          "Year": 1931,
          "value": 0.18181691199957065,
          "variable": "FUNDFAIR"
         },
         {
          "Year": 1932,
          "value": 0.17725372892693664,
          "variable": "FUNDFAIR"
         },
         {
          "Year": 1933,
          "value": 0.17756615507832121,
          "variable": "FUNDFAIR"
         },
         {
          "Year": 1934,
          "value": 0.1805420422102841,
          "variable": "FUNDFAIR"
         },
         {
          "Year": 1935,
          "value": 0.18681959707022577,
          "variable": "FUNDFAIR"
         },
         {
          "Year": 1936,
          "value": 0.19957048589034818,
          "variable": "FUNDFAIR"
         },
         {
          "Year": 1937,
          "value": 0.21069027412509506,
          "variable": "FUNDFAIR"
         },
         {
          "Year": 1938,
          "value": 0.21872405761563637,
          "variable": "FUNDFAIR"
         },
         {
          "Year": 1939,
          "value": 0.22534289505631427,
          "variable": "FUNDFAIR"
         },
         {
          "Year": 1940,
          "value": 0.2288799217099415,
          "variable": "FUNDFAIR"
         },
         {
          "Year": 1941,
          "value": 0.2306131467146384,
          "variable": "FUNDFAIR"
         },
         {
          "Year": 1942,
          "value": 0.23057492554022996,
          "variable": "FUNDFAIR"
         },
         {
          "Year": 1943,
          "value": 0.22914628359304184,
          "variable": "FUNDFAIR"
         },
         {
          "Year": 1944,
          "value": 0.2296161327891918,
          "variable": "FUNDFAIR"
         },
         {
          "Year": 1945,
          "value": 0.2351258112719096,
          "variable": "FUNDFAIR"
         },
         {
          "Year": 1946,
          "value": 0.24242406312825804,
          "variable": "FUNDFAIR"
         },
         {
          "Year": 1947,
          "value": 0.2549141085543848,
          "variable": "FUNDFAIR"
         },
         {
          "Year": 1948,
          "value": 0.2677979070202285,
          "variable": "FUNDFAIR"
         },
         {
          "Year": 1949,
          "value": 0.27708742977255557,
          "variable": "FUNDFAIR"
         },
         {
          "Year": 1950,
          "value": 0.28154537317817974,
          "variable": "FUNDFAIR"
         },
         {
          "Year": 1951,
          "value": 0.2794510515981058,
          "variable": "FUNDFAIR"
         },
         {
          "Year": 1952,
          "value": 0.2775638602125095,
          "variable": "FUNDFAIR"
         },
         {
          "Year": 1953,
          "value": 0.2745735704806852,
          "variable": "FUNDFAIR"
         },
         {
          "Year": 1954,
          "value": 0.2723825182821025,
          "variable": "FUNDFAIR"
         },
         {
          "Year": 1955,
          "value": 0.2742314787055805,
          "variable": "FUNDFAIR"
         },
         {
          "Year": 1956,
          "value": 0.2833747664304537,
          "variable": "FUNDFAIR"
         },
         {
          "Year": 1957,
          "value": 0.2978580502068741,
          "variable": "FUNDFAIR"
         },
         {
          "Year": 1958,
          "value": 0.3105614164176684,
          "variable": "FUNDFAIR"
         },
         {
          "Year": 1959,
          "value": 0.317157743979996,
          "variable": "FUNDFAIR"
         },
         {
          "Year": 1960,
          "value": 0.32021804914184576,
          "variable": "FUNDFAIR"
         },
         {
          "Year": 1961,
          "value": 0.31706887508958703,
          "variable": "FUNDFAIR"
         },
         {
          "Year": 1962,
          "value": 0.3059740379490535,
          "variable": "FUNDFAIR"
         },
         {
          "Year": 1963,
          "value": 0.21384240905390756,
          "variable": "FUNDFAIR"
         },
         {
          "Year": 1964,
          "value": 0.16389007963621122,
          "variable": "FUNDFAIR"
         },
         {
          "Year": 1965,
          "value": 0.15235412806798962,
          "variable": "FUNDFAIR"
         },
         {
          "Year": 1966,
          "value": 0.18374601455786943,
          "variable": "FUNDFAIR"
         },
         {
          "Year": 1967,
          "value": 0.20928634009836256,
          "variable": "FUNDFAIR"
         },
         {
          "Year": 1968,
          "value": 0.23570510950730006,
          "variable": "FUNDFAIR"
         },
         {
          "Year": 1969,
          "value": 0.2611265028512838,
          "variable": "FUNDFAIR"
         },
         {
          "Year": 1970,
          "value": 0.2828495096799824,
          "variable": "FUNDFAIR"
         },
         {
          "Year": 1971,
          "value": 0.29417380998825415,
          "variable": "FUNDFAIR"
         },
         {
          "Year": 1972,
          "value": 0.28179653220453493,
          "variable": "FUNDFAIR"
         },
         {
          "Year": 1973,
          "value": 0.30284207803320323,
          "variable": "FUNDFAIR"
         },
         {
          "Year": 1974,
          "value": 0.31121116746657257,
          "variable": "FUNDFAIR"
         },
         {
          "Year": 1975,
          "value": 0.30281537000929704,
          "variable": "FUNDFAIR"
         },
         {
          "Year": 1976,
          "value": 0.3199612662405269,
          "variable": "FUNDFAIR"
         },
         {
          "Year": 1977,
          "value": 0.34732380310630384,
          "variable": "FUNDFAIR"
         },
         {
          "Year": 1978,
          "value": 0.3802129519937702,
          "variable": "FUNDFAIR"
         },
         {
          "Year": 1979,
          "value": 0.41382796700714036,
          "variable": "FUNDFAIR"
         },
         {
          "Year": 1980,
          "value": 0.4396258874924476,
          "variable": "FUNDFAIR"
         },
         {
          "Year": 1981,
          "value": 0.46167311197532845,
          "variable": "FUNDFAIR"
         },
         {
          "Year": 1982,
          "value": 0.4489740115510724,
          "variable": "FUNDFAIR"
         },
         {
          "Year": 1983,
          "value": 0.4067854956382802,
          "variable": "FUNDFAIR"
         },
         {
          "Year": 1984,
          "value": 0.40997866533181754,
          "variable": "FUNDFAIR"
         },
         {
          "Year": 1985,
          "value": 0.4326034887244901,
          "variable": "FUNDFAIR"
         },
         {
          "Year": 1986,
          "value": 0.4543087031242569,
          "variable": "FUNDFAIR"
         },
         {
          "Year": 1987,
          "value": 0.482327517951681,
          "variable": "FUNDFAIR"
         },
         {
          "Year": 1988,
          "value": 0.5178579895605125,
          "variable": "FUNDFAIR"
         },
         {
          "Year": 1989,
          "value": 0.559954081730389,
          "variable": "FUNDFAIR"
         },
         {
          "Year": 1990,
          "value": 0.594972959535256,
          "variable": "FUNDFAIR"
         },
         {
          "Year": 1991,
          "value": 0.5616325469406709,
          "variable": "FUNDFAIR"
         },
         {
          "Year": 1992,
          "value": 0.4412174595680554,
          "variable": "FUNDFAIR"
         },
         {
          "Year": 1993,
          "value": 0.4246406412410194,
          "variable": "FUNDFAIR"
         },
         {
          "Year": 1994,
          "value": 0.47351473931354204,
          "variable": "FUNDFAIR"
         },
         {
          "Year": 1995,
          "value": 0.5280249773031471,
          "variable": "FUNDFAIR"
         },
         {
          "Year": 1996,
          "value": 0.5777739004326032,
          "variable": "FUNDFAIR"
         },
         {
          "Year": 1997,
          "value": 0.6241206749352073,
          "variable": "FUNDFAIR"
         },
         {
          "Year": 1998,
          "value": 0.6704134116201967,
          "variable": "FUNDFAIR"
         },
         {
          "Year": 1999,
          "value": 0.7150271166394521,
          "variable": "FUNDFAIR"
         },
         {
          "Year": 2000,
          "value": 0.7568079155450897,
          "variable": "FUNDFAIR"
         },
         {
          "Year": 2001,
          "value": 0.790494904156267,
          "variable": "FUNDFAIR"
         },
         {
          "Year": 2002,
          "value": 0.8207147922480474,
          "variable": "FUNDFAIR"
         },
         {
          "Year": 2003,
          "value": 0.8384864242207323,
          "variable": "FUNDFAIR"
         },
         {
          "Year": 2004,
          "value": 0.8523056838246916,
          "variable": "FUNDFAIR"
         },
         {
          "Year": 2005,
          "value": 0.8599438971036693,
          "variable": "FUNDFAIR"
         },
         {
          "Year": 2006,
          "value": 0.8671981630524012,
          "variable": "FUNDFAIR"
         },
         {
          "Year": 2007,
          "value": 0.8759307283795206,
          "variable": "FUNDFAIR"
         },
         {
          "Year": 2008,
          "value": 0.8874726026848732,
          "variable": "FUNDFAIR"
         },
         {
          "Year": 2009,
          "value": 0.898920630669874,
          "variable": "FUNDFAIR"
         },
         {
          "Year": 2010,
          "value": 0.9182477631874019,
          "variable": "FUNDFAIR"
         },
         {
          "Year": 2011,
          "value": 0.9386762051645579,
          "variable": "FUNDFAIR"
         },
         {
          "Year": 2012,
          "value": 0.9637626918144371,
          "variable": "FUNDFAIR"
         },
         {
          "Year": 2013,
          "value": 0.9900853452439546,
          "variable": "FUNDFAIR"
         },
         {
          "Year": 2014,
          "value": 1.0143312779564329,
          "variable": "FUNDFAIR"
         },
         {
          "Year": 2015,
          "value": 1.02752448150999,
          "variable": "FUNDFAIR"
         },
         {
          "Year": 2016,
          "value": 1.0378675674547508,
          "variable": "FUNDFAIR"
         },
         {
          "Year": 2017,
          "value": 1.0493506677940665,
          "variable": "FUNDFAIR"
         },
         {
          "Year": 2018,
          "value": 1.0625216518657348,
          "variable": "FUNDFAIR"
         },
         {
          "Year": 2019,
          "value": 1.0775079786014474,
          "variable": "FUNDFAIR"
         },
         {
          "Year": 2020,
          "value": 1.0947197206376207,
          "variable": "FUNDFAIR"
         },
         {
          "Year": 2021,
          "value": 1.1177097959032478,
          "variable": "FUNDFAIR"
         },
         {
          "Year": 2022,
          "value": 1.145703989323596,
          "variable": "FUNDFAIR"
         },
         {
          "Year": 2023,
          "value": 1.175595728634422,
          "variable": "FUNDFAIR"
         },
         {
          "Year": 2024,
          "value": 1.2053688499868376,
          "variable": "FUNDFAIR"
         },
         {
          "Year": 2025,
          "value": 1.231238310732899,
          "variable": "FUNDFAIR"
         },
         {
          "Year": 2026,
          "value": 1.2537057100968048,
          "variable": "FUNDFAIR"
         },
         {
          "Year": 2027,
          "value": 1.2735526829658035,
          "variable": "FUNDFAIR"
         },
         {
          "Year": 2028,
          "value": 1.2932389534668094,
          "variable": "FUNDFAIR"
         },
         {
          "Year": 2029,
          "value": 1.3120260539874389,
          "variable": "FUNDFAIR"
         },
         {
          "Year": 2030,
          "value": 1.331109531424565,
          "variable": "FUNDFAIR"
         },
         {
          "Year": 2031,
          "value": 1.3507764109619185,
          "variable": "FUNDFAIR"
         },
         {
          "Year": 2032,
          "value": 1.3723403226466961,
          "variable": "FUNDFAIR"
         },
         {
          "Year": 2033,
          "value": 1.3979217927180134,
          "variable": "FUNDFAIR"
         },
         {
          "Year": 2034,
          "value": 1.4287584837285618,
          "variable": "FUNDFAIR"
         },
         {
          "Year": 2035,
          "value": 1.4596279838444084,
          "variable": "FUNDFAIR"
         },
         {
          "Year": 2036,
          "value": 1.49219589786384,
          "variable": "FUNDFAIR"
         },
         {
          "Year": 2037,
          "value": 1.5217751121189897,
          "variable": "FUNDFAIR"
         },
         {
          "Year": 2038,
          "value": 1.5512745546203788,
          "variable": "FUNDFAIR"
         },
         {
          "Year": 2039,
          "value": 1.5777356510708331,
          "variable": "FUNDFAIR"
         },
         {
          "Year": 2040,
          "value": 1.6020069248181183,
          "variable": "FUNDFAIR"
         },
         {
          "Year": 2041,
          "value": 1.6248098396117219,
          "variable": "FUNDFAIR"
         },
         {
          "Year": 2042,
          "value": 1.6483173844169907,
          "variable": "FUNDFAIR"
         },
         {
          "Year": 2043,
          "value": 1.6734565578694713,
          "variable": "FUNDFAIR"
         },
         {
          "Year": 2044,
          "value": 1.7011349597335281,
          "variable": "FUNDFAIR"
         },
         {
          "Year": 2045,
          "value": 1.7337981166879164,
          "variable": "FUNDFAIR"
         },
         {
          "Year": 2046,
          "value": 1.7690374318192075,
          "variable": "FUNDFAIR"
         },
         {
          "Year": 2047,
          "value": 1.8067062618037812,
          "variable": "FUNDFAIR"
         },
         {
          "Year": 2048,
          "value": 1.8433568957170958,
          "variable": "FUNDFAIR"
         },
         {
          "Year": 2049,
          "value": 1.8760720308203396,
          "variable": "FUNDFAIR"
         },
         {
          "Year": 2050,
          "value": 1.9043496217617728,
          "variable": "FUNDFAIR"
         },
         {
          "Year": 2051,
          "value": 1.931023843173486,
          "variable": "FUNDFAIR"
         },
         {
          "Year": 2052,
          "value": 1.9566117868944206,
          "variable": "FUNDFAIR"
         },
         {
          "Year": 2053,
          "value": 1.9818924846419677,
          "variable": "FUNDFAIR"
         },
         {
          "Year": 2054,
          "value": 2.0088779649087467,
          "variable": "FUNDFAIR"
         },
         {
          "Year": 2055,
          "value": 2.039265882514638,
          "variable": "FUNDFAIR"
         },
         {
          "Year": 2056,
          "value": 2.0729967082882155,
          "variable": "FUNDFAIR"
         },
         {
          "Year": 2057,
          "value": 2.106271843259812,
          "variable": "FUNDFAIR"
         },
         {
          "Year": 2058,
          "value": 2.1396909478453394,
          "variable": "FUNDFAIR"
         },
         {
          "Year": 2059,
          "value": 2.1730705628899525,
          "variable": "FUNDFAIR"
         },
         {
          "Year": 2060,
          "value": 2.2034669549802475,
          "variable": "FUNDFAIR"
         },
         {
          "Year": 2061,
          "value": 2.2318336319567162,
          "variable": "FUNDFAIR"
         },
         {
          "Year": 2062,
          "value": 2.2590018610720355,
          "variable": "FUNDFAIR"
         },
         {
          "Year": 2063,
          "value": 2.286439551534719,
          "variable": "FUNDFAIR"
         },
         {
          "Year": 2064,
          "value": 2.314507800659355,
          "variable": "FUNDFAIR"
         },
         {
          "Year": 2065,
          "value": 2.344112981809185,
          "variable": "FUNDFAIR"
         },
         {
          "Year": 2066,
          "value": 2.3776657903729537,
          "variable": "FUNDFAIR"
         },
         {
          "Year": 2067,
          "value": 2.413986401903135,
          "variable": "FUNDFAIR"
         },
         {
          "Year": 2068,
          "value": 2.451158458175981,
          "variable": "FUNDFAIR"
         },
         {
          "Year": 2069,
          "value": 2.486526252774811,
          "variable": "FUNDFAIR"
         },
         {
          "Year": 2070,
          "value": 2.5192904528539035,
          "variable": "FUNDFAIR"
         },
         {
          "Year": 2071,
          "value": 2.549138382748418,
          "variable": "FUNDFAIR"
         },
         {
          "Year": 2072,
          "value": 2.5781754111900916,
          "variable": "FUNDFAIR"
         },
         {
          "Year": 2073,
          "value": 2.6069874061081735,
          "variable": "FUNDFAIR"
         },
         {
          "Year": 2074,
          "value": 2.635212304227505,
          "variable": "FUNDFAIR"
         },
         {
          "Year": 2075,
          "value": 2.663884686623984,
          "variable": "FUNDFAIR"
         },
         {
          "Year": 2076,
          "value": 2.6929496373838404,
          "variable": "FUNDFAIR"
         },
         {
          "Year": 2077,
          "value": 2.7237771327023403,
          "variable": "FUNDFAIR"
         },
         {
          "Year": 2078,
          "value": 2.757486349568985,
          "variable": "FUNDFAIR"
         },
         {
          "Year": 2079,
          "value": 2.7936899653207004,
          "variable": "FUNDFAIR"
         },
         {
          "Year": 2080,
          "value": 2.831198408490328,
          "variable": "FUNDFAIR"
         },
         {
          "Year": 2081,
          "value": 2.8685150846564427,
          "variable": "FUNDFAIR"
         },
         {
          "Year": 2082,
          "value": 2.9055002361239093,
          "variable": "FUNDFAIR"
         },
         {
          "Year": 2083,
          "value": 2.9406136729535435,
          "variable": "FUNDFAIR"
         },
         {
          "Year": 2084,
          "value": 2.97522819157028,
          "variable": "FUNDFAIR"
         },
         {
          "Year": 2085,
          "value": 3.0076991822109465,
          "variable": "FUNDFAIR"
         },
         {
          "Year": 2086,
          "value": 3.0397311430478506,
          "variable": "FUNDFAIR"
         },
         {
          "Year": 2087,
          "value": 3.072823654421743,
          "variable": "FUNDFAIR"
         },
         {
          "Year": 2088,
          "value": 3.1071285268186344,
          "variable": "FUNDFAIR"
         },
         {
          "Year": 2089,
          "value": 3.144302217459302,
          "variable": "FUNDFAIR"
         },
         {
          "Year": 2090,
          "value": 3.1851445813543746,
          "variable": "FUNDFAIR"
         },
         {
          "Year": 2091,
          "value": 3.227749906515502,
          "variable": "FUNDFAIR"
         },
         {
          "Year": 2092,
          "value": 3.272541030576931,
          "variable": "FUNDFAIR"
         },
         {
          "Year": 2093,
          "value": 3.3144056314564083,
          "variable": "FUNDFAIR"
         },
         {
          "Year": 2094,
          "value": 3.352590280866826,
          "variable": "FUNDFAIR"
         },
         {
          "Year": 2095,
          "value": 3.3884479638544382,
          "variable": "FUNDFAIR"
         },
         {
          "Year": 2096,
          "value": 3.422079471932558,
          "variable": "FUNDFAIR"
         },
         {
          "Year": 2097,
          "value": 3.455695002257204,
          "variable": "FUNDFAIR"
         },
         {
          "Year": 2098,
          "value": 3.4893454141436933,
          "variable": "FUNDFAIR"
         },
         {
          "Year": 2099,
          "value": 3.5250267707697227,
          "variable": "FUNDFAIR"
         },
         {
          "Year": 2100,
          "value": 3.5638209859535754,
          "variable": "FUNDFAIR"
         },
         {
          "Year": 2101,
          "value": 3.605461426171005,
          "variable": "FUNDFAIR"
         },
         {
          "Year": 2102,
          "value": 3.6459560802705093,
          "variable": "FUNDFAIR"
         },
         {
          "Year": 2103,
          "value": 3.6855174639102843,
          "variable": "FUNDFAIR"
         },
         {
          "Year": 2104,
          "value": 3.7231522971445274,
          "variable": "FUNDFAIR"
         },
         {
          "Year": 2105,
          "value": 3.7579483434252645,
          "variable": "FUNDFAIR"
         },
         {
          "Year": 2106,
          "value": 3.791627446071449,
          "variable": "FUNDFAIR"
         },
         {
          "Year": 2107,
          "value": 3.824670188559725,
          "variable": "FUNDFAIR"
         },
         {
          "Year": 2108,
          "value": 3.8582877377401203,
          "variable": "FUNDFAIR"
         },
         {
          "Year": 2109,
          "value": 3.8932443129857424,
          "variable": "FUNDFAIR"
         },
         {
          "Year": 2110,
          "value": 3.930999770071038,
          "variable": "FUNDFAIR"
         },
         {
          "Year": 2111,
          "value": 3.973719274104065,
          "variable": "FUNDFAIR"
         },
         {
          "Year": 2112,
          "value": 4.015176764967655,
          "variable": "FUNDFAIR"
         },
         {
          "Year": 2113,
          "value": 4.055684870589569,
          "variable": "FUNDFAIR"
         },
         {
          "Year": 2114,
          "value": 4.092080719152806,
          "variable": "FUNDFAIR"
         },
         {
          "Year": 2115,
          "value": 4.127314923906389,
          "variable": "FUNDFAIR"
         },
         {
          "Year": 2116,
          "value": 4.1598748743497005,
          "variable": "FUNDFAIR"
         },
         {
          "Year": 2117,
          "value": 4.191572628900516,
          "variable": "FUNDFAIR"
         },
         {
          "Year": 2118,
          "value": 4.223000211583117,
          "variable": "FUNDFAIR"
         },
         {
          "Year": 2119,
          "value": 4.255067629639308,
          "variable": "FUNDFAIR"
         },
         {
          "Year": 2120,
          "value": 4.2900169950842555,
          "variable": "FUNDFAIR"
         },
         {
          "Year": 2121,
          "value": 4.328541913575695,
          "variable": "FUNDFAIR"
         },
         {
          "Year": 2122,
          "value": 4.370040186522043,
          "variable": "FUNDFAIR"
         },
         {
          "Year": 2123,
          "value": 4.407462407345518,
          "variable": "FUNDFAIR"
         },
         {
          "Year": 2124,
          "value": 4.444556046264842,
          "variable": "FUNDFAIR"
         },
         {
          "Year": 2125,
          "value": 4.477437265162874,
          "variable": "FUNDFAIR"
         },
         {
          "Year": 2126,
          "value": 4.507256695492126,
          "variable": "FUNDFAIR"
         },
         {
          "Year": 2127,
          "value": 4.536177971514729,
          "variable": "FUNDFAIR"
         },
         {
          "Year": 2128,
          "value": 4.564520941449868,
          "variable": "FUNDFAIR"
         },
         {
          "Year": 2129,
          "value": 4.593848141118687,
          "variable": "FUNDFAIR"
         },
         {
          "Year": 2130,
          "value": 4.626028172177471,
          "variable": "FUNDFAIR"
         },
         {
          "Year": 2131,
          "value": 4.664288335789497,
          "variable": "FUNDFAIR"
         },
         {
          "Year": 2132,
          "value": 4.701918215793546,
          "variable": "FUNDFAIR"
         },
         {
          "Year": 2133,
          "value": 4.73921705952815,
          "variable": "FUNDFAIR"
         },
         {
          "Year": 2134,
          "value": 4.77280274208985,
          "variable": "FUNDFAIR"
         },
         {
          "Year": 2135,
          "value": 4.802338957396715,
          "variable": "FUNDFAIR"
         },
         {
          "Year": 2136,
          "value": 4.828015761786803,
          "variable": "FUNDFAIR"
         },
         {
          "Year": 2137,
          "value": 4.853192917225304,
          "variable": "FUNDFAIR"
         },
         {
          "Year": 2138,
          "value": 4.877900390710943,
          "variable": "FUNDFAIR"
         },
         {
          "Year": 2139,
          "value": 4.902754654526733,
          "variable": "FUNDFAIR"
         },
         {
          "Year": 2140,
          "value": 4.928594311921058,
          "variable": "FUNDFAIR"
         },
         {
          "Year": 2141,
          "value": 4.957259265610251,
          "variable": "FUNDFAIR"
         },
         {
          "Year": 2142,
          "value": 4.988134220585726,
          "variable": "FUNDFAIR"
         },
         {
          "Year": 2143,
          "value": 5.018429414519206,
          "variable": "FUNDFAIR"
         },
         {
          "Year": 2144,
          "value": 5.0484106006525495,
          "variable": "FUNDFAIR"
         },
         {
          "Year": 2145,
          "value": 5.07700638941696,
          "variable": "FUNDFAIR"
         },
         {
          "Year": 2146,
          "value": 5.10260164350008,
          "variable": "FUNDFAIR"
         },
         {
          "Year": 2147,
          "value": 5.1277539634002824,
          "variable": "FUNDFAIR"
         },
         {
          "Year": 2148,
          "value": 5.15122742831188,
          "variable": "FUNDFAIR"
         },
         {
          "Year": 2149,
          "value": 5.1739943043086365,
          "variable": "FUNDFAIR"
         },
         {
          "Year": 2150,
          "value": 5.19655583211626,
          "variable": "FUNDFAIR"
         },
         {
          "Year": 2151,
          "value": 5.2193131257008485,
          "variable": "FUNDFAIR"
         },
         {
          "Year": 2152,
          "value": 5.244329748203305,
          "variable": "FUNDFAIR"
         },
         {
          "Year": 2153,
          "value": 5.273123213948274,
          "variable": "FUNDFAIR"
         },
         {
          "Year": 2154,
          "value": 5.303828910959284,
          "variable": "FUNDFAIR"
         },
         {
          "Year": 2155,
          "value": 5.332466595672787,
          "variable": "FUNDFAIR"
         },
         {
          "Year": 2156,
          "value": 5.358945677283361,
          "variable": "FUNDFAIR"
         },
         {
          "Year": 2157,
          "value": 5.382265524975043,
          "variable": "FUNDFAIR"
         },
         {
          "Year": 2158,
          "value": 5.402051085430518,
          "variable": "FUNDFAIR"
         },
         {
          "Year": 2159,
          "value": 5.419536378617096,
          "variable": "FUNDFAIR"
         },
         {
          "Year": 2160,
          "value": 5.436235695882376,
          "variable": "FUNDFAIR"
         },
         {
          "Year": 2161,
          "value": 5.453715157236882,
          "variable": "FUNDFAIR"
         },
         {
          "Year": 2162,
          "value": 5.47378827708362,
          "variable": "FUNDFAIR"
         },
         {
          "Year": 2163,
          "value": 5.498130422416423,
          "variable": "FUNDFAIR"
         },
         {
          "Year": 2164,
          "value": 5.525572084251657,
          "variable": "FUNDFAIR"
         },
         {
          "Year": 2165,
          "value": 5.54970127644405,
          "variable": "FUNDFAIR"
         },
         {
          "Year": 2166,
          "value": 5.573128351688956,
          "variable": "FUNDFAIR"
         },
         {
          "Year": 2167,
          "value": 5.591198341576202,
          "variable": "FUNDFAIR"
         },
         {
          "Year": 2168,
          "value": 5.606123926163576,
          "variable": "FUNDFAIR"
         },
         {
          "Year": 2169,
          "value": 5.619368190455,
          "variable": "FUNDFAIR"
         },
         {
          "Year": 2170,
          "value": 5.632152647331389,
          "variable": "FUNDFAIR"
         },
         {
          "Year": 2171,
          "value": 5.645399944632795,
          "variable": "FUNDFAIR"
         },
         {
          "Year": 2172,
          "value": 5.660523842698813,
          "variable": "FUNDFAIR"
         },
         {
          "Year": 2173,
          "value": 5.679648447100312,
          "variable": "FUNDFAIR"
         },
         {
          "Year": 2174,
          "value": 5.700268631762424,
          "variable": "FUNDFAIR"
         },
         {
          "Year": 2175,
          "value": 5.72170573782343,
          "variable": "FUNDFAIR"
         },
         {
          "Year": 2176,
          "value": 5.741920234538413,
          "variable": "FUNDFAIR"
         },
         {
          "Year": 2177,
          "value": 5.758943504901959,
          "variable": "FUNDFAIR"
         },
         {
          "Year": 2178,
          "value": 5.77258936233631,
          "variable": "FUNDFAIR"
         },
         {
          "Year": 2179,
          "value": 5.784588976035947,
          "variable": "FUNDFAIR"
         },
         {
          "Year": 2180,
          "value": 5.795086838946527,
          "variable": "FUNDFAIR"
         },
         {
          "Year": 2181,
          "value": 5.8051323890278965,
          "variable": "FUNDFAIR"
         },
         {
          "Year": 2182,
          "value": 5.814874885421381,
          "variable": "FUNDFAIR"
         },
         {
          "Year": 2183,
          "value": 5.824954870340385,
          "variable": "FUNDFAIR"
         },
         {
          "Year": 2184,
          "value": 5.836117416518748,
          "variable": "FUNDFAIR"
         },
         {
          "Year": 2185,
          "value": 5.849354813370975,
          "variable": "FUNDFAIR"
         },
         {
          "Year": 2186,
          "value": 5.866537142198666,
          "variable": "FUNDFAIR"
         },
         {
          "Year": 2187,
          "value": 5.883319507641447,
          "variable": "FUNDFAIR"
         },
         {
          "Year": 2188,
          "value": 5.90032065545191,
          "variable": "FUNDFAIR"
         },
         {
          "Year": 2189,
          "value": 5.917096418488779,
          "variable": "FUNDFAIR"
         },
         {
          "Year": 2190,
          "value": 5.929990271862949,
          "variable": "FUNDFAIR"
         },
         {
          "Year": 2191,
          "value": 5.940110438255914,
          "variable": "FUNDFAIR"
         },
         {
          "Year": 2192,
          "value": 5.948897115271603,
          "variable": "FUNDFAIR"
         },
         {
          "Year": 2193,
          "value": 5.957650685565304,
          "variable": "FUNDFAIR"
         },
         {
          "Year": 2194,
          "value": 5.966650180133501,
          "variable": "FUNDFAIR"
         },
         {
          "Year": 2195,
          "value": 5.977069654293586,
          "variable": "FUNDFAIR"
         },
         {
          "Year": 2196,
          "value": 5.991189999542842,
          "variable": "FUNDFAIR"
         },
         {
          "Year": 2197,
          "value": 6.008384112609989,
          "variable": "FUNDFAIR"
         },
         {
          "Year": 2198,
          "value": 6.026318305753957,
          "variable": "FUNDFAIR"
         },
         {
          "Year": 2199,
          "value": 6.04166702303282,
          "variable": "FUNDFAIR"
         },
         {
          "Year": 2200,
          "value": 6.054096229950439,
          "variable": "FUNDFAIR"
         },
         {
          "Year": 2201,
          "value": 6.0628318944719926,
          "variable": "FUNDFAIR"
         },
         {
          "Year": 2202,
          "value": 6.070479301680785,
          "variable": "FUNDFAIR"
         },
         {
          "Year": 2203,
          "value": 6.077536304652139,
          "variable": "FUNDFAIR"
         },
         {
          "Year": 2204,
          "value": 6.083399404894639,
          "variable": "FUNDFAIR"
         },
         {
          "Year": 2205,
          "value": 6.089381095080611,
          "variable": "FUNDFAIR"
         },
         {
          "Year": 2206,
          "value": 6.095300262138309,
          "variable": "FUNDFAIR"
         },
         {
          "Year": 2207,
          "value": 6.102661167735465,
          "variable": "FUNDFAIR"
         },
         {
          "Year": 2208,
          "value": 6.112656500279959,
          "variable": "FUNDFAIR"
         },
         {
          "Year": 2209,
          "value": 6.124947254121031,
          "variable": "FUNDFAIR"
         },
         {
          "Year": 2210,
          "value": 6.138399829130398,
          "variable": "FUNDFAIR"
         },
         {
          "Year": 2211,
          "value": 6.150794713156076,
          "variable": "FUNDFAIR"
         },
         {
          "Year": 2212,
          "value": 6.162181363143599,
          "variable": "FUNDFAIR"
         },
         {
          "Year": 2213,
          "value": 6.171084534121991,
          "variable": "FUNDFAIR"
         },
         {
          "Year": 2214,
          "value": 6.178798710956292,
          "variable": "FUNDFAIR"
         },
         {
          "Year": 2215,
          "value": 6.183817856837016,
          "variable": "FUNDFAIR"
         },
         {
          "Year": 2216,
          "value": 6.187920543664218,
          "variable": "FUNDFAIR"
         },
         {
          "Year": 2217,
          "value": 6.192760042930786,
          "variable": "FUNDFAIR"
         },
         {
          "Year": 2218,
          "value": 6.198595124841908,
          "variable": "FUNDFAIR"
         },
         {
          "Year": 2219,
          "value": 6.207113738859572,
          "variable": "FUNDFAIR"
         },
         {
          "Year": 2220,
          "value": 6.218947716993235,
          "variable": "FUNDFAIR"
         },
         {
          "Year": 2221,
          "value": 6.2324934176271825,
          "variable": "FUNDFAIR"
         },
         {
          "Year": 2222,
          "value": 6.248551400031583,
          "variable": "FUNDFAIR"
         },
         {
          "Year": 2223,
          "value": 6.261279983465095,
          "variable": "FUNDFAIR"
         },
         {
          "Year": 2224,
          "value": 6.270187472661546,
          "variable": "FUNDFAIR"
         },
         {
          "Year": 2225,
          "value": 6.276462195508913,
          "variable": "FUNDFAIR"
         },
         {
          "Year": 2226,
          "value": 6.280088940892394,
          "variable": "FUNDFAIR"
         },
         {
          "Year": 2227,
          "value": 6.283828552667231,
          "variable": "FUNDFAIR"
         },
         {
          "Year": 2228,
          "value": 6.287173807397211,
          "variable": "FUNDFAIR"
         },
         {
          "Year": 2229,
          "value": 6.292697920289036,
          "variable": "FUNDFAIR"
         },
         {
          "Year": 2230,
          "value": 6.301729861946957,
          "variable": "FUNDFAIR"
         },
         {
          "Year": 2231,
          "value": 6.3125023796795015,
          "variable": "FUNDFAIR"
         },
         {
          "Year": 2232,
          "value": 6.323047914252529,
          "variable": "FUNDFAIR"
         },
         {
          "Year": 2233,
          "value": 6.334089800394999,
          "variable": "FUNDFAIR"
         },
         {
          "Year": 2234,
          "value": 6.34286190711279,
          "variable": "FUNDFAIR"
         },
         {
          "Year": 2235,
          "value": 6.34997817627877,
          "variable": "FUNDFAIR"
         },
         {
          "Year": 2236,
          "value": 6.354199172257401,
          "variable": "FUNDFAIR"
         },
         {
          "Year": 2237,
          "value": 6.357881812365452,
          "variable": "FUNDFAIR"
         },
         {
          "Year": 2238,
          "value": 6.3615522620367395,
          "variable": "FUNDFAIR"
         },
         {
          "Year": 2239,
          "value": 6.366103900274915,
          "variable": "FUNDFAIR"
         },
         {
          "Year": 2240,
          "value": 6.37272919776787,
          "variable": "FUNDFAIR"
         },
         {
          "Year": 2241,
          "value": 6.38325309970074,
          "variable": "FUNDFAIR"
         },
         {
          "Year": 2242,
          "value": 6.396429900380195,
          "variable": "FUNDFAIR"
         },
         {
          "Year": 2243,
          "value": 6.408643371435065,
          "variable": "FUNDFAIR"
         },
         {
          "Year": 2244,
          "value": 6.419287226485472,
          "variable": "FUNDFAIR"
         },
         {
          "Year": 2245,
          "value": 6.426563023047411,
          "variable": "FUNDFAIR"
         },
         {
          "Year": 2246,
          "value": 6.431158028029563,
          "variable": "FUNDFAIR"
         },
         {
          "Year": 2247,
          "value": 6.43506832825637,
          "variable": "FUNDFAIR"
         },
         {
          "Year": 2248,
          "value": 6.4378246893284,
          "variable": "FUNDFAIR"
         },
         {
          "Year": 2249,
          "value": 6.440340573761454,
          "variable": "FUNDFAIR"
         },
         {
          "Year": 2250,
          "value": 6.442925491212762,
          "variable": "FUNDFAIR"
         },
         {
          "Year": 2251,
          "value": 6.446264359080382,
          "variable": "FUNDFAIR"
         },
         {
          "Year": 2252,
          "value": 6.451515527787018,
          "variable": "FUNDFAIR"
         },
         {
          "Year": 2253,
          "value": 6.459610852391769,
          "variable": "FUNDFAIR"
         },
         {
          "Year": 2254,
          "value": 6.4702954921301625,
          "variable": "FUNDFAIR"
         },
         {
          "Year": 2255,
          "value": 6.480540737674983,
          "variable": "FUNDFAIR"
         },
         {
          "Year": 2256,
          "value": 6.490753815144874,
          "variable": "FUNDFAIR"
         },
         {
          "Year": 2257,
          "value": 6.4995863944676975,
          "variable": "FUNDFAIR"
         },
         {
          "Year": 2258,
          "value": 6.505956270416194,
          "variable": "FUNDFAIR"
         },
         {
          "Year": 2259,
          "value": 6.5110333484176,
          "variable": "FUNDFAIR"
         },
         {
          "Year": 2260,
          "value": 6.513727410985064,
          "variable": "FUNDFAIR"
         },
         {
          "Year": 2261,
          "value": 6.515919540678223,
          "variable": "FUNDFAIR"
         },
         {
          "Year": 2262,
          "value": 6.519063141504565,
          "variable": "FUNDFAIR"
         },
         {
          "Year": 2263,
          "value": 6.5233735662873205,
          "variable": "FUNDFAIR"
         },
         {
          "Year": 2264,
          "value": 6.530707286392579,
          "variable": "FUNDFAIR"
         },
         {
          "Year": 2265,
          "value": 6.541497628720277,
          "variable": "FUNDFAIR"
         },
         {
          "Year": 2266,
          "value": 6.554100459654162,
          "variable": "FUNDFAIR"
         },
         {
          "Year": 2267,
          "value": 6.567907395740525,
          "variable": "FUNDFAIR"
         },
         {
          "Year": 2268,
          "value": 6.5772747097046675,
          "variable": "FUNDFAIR"
         },
         {
          "Year": 2269,
          "value": 6.583740835635698,
          "variable": "FUNDFAIR"
         },
         {
          "Year": 2270,
          "value": 6.587209634152679,
          "variable": "FUNDFAIR"
         },
         {
          "Year": 2271,
          "value": 6.589478744247918,
          "variable": "FUNDFAIR"
         },
         {
          "Year": 2272,
          "value": 6.590860232573652,
          "variable": "FUNDFAIR"
         },
         {
          "Year": 2273,
          "value": 6.593207561735337,
          "variable": "FUNDFAIR"
         },
         {
          "Year": 2274,
          "value": 6.598326686891472,
          "variable": "FUNDFAIR"
         },
         {
          "Year": 2275,
          "value": 6.606558767213962,
          "variable": "FUNDFAIR"
         },
         {
          "Year": 2276,
          "value": 6.616414963033703,
          "variable": "FUNDFAIR"
         },
         {
          "Year": 2277,
          "value": 6.6253630061507245,
          "variable": "FUNDFAIR"
         },
         {
          "Year": 2278,
          "value": 6.633260075244223,
          "variable": "FUNDFAIR"
         },
         {
          "Year": 2279,
          "value": 6.639109475812695,
          "variable": "FUNDFAIR"
         },
         {
          "Year": 2280,
          "value": 6.642102897806625,
          "variable": "FUNDFAIR"
         },
         {
          "Year": 2281,
          "value": 6.644218847735814,
          "variable": "FUNDFAIR"
         },
         {
          "Year": 2282,
          "value": 6.646547973300677,
          "variable": "FUNDFAIR"
         },
         {
          "Year": 2283,
          "value": 6.649309833765926,
          "variable": "FUNDFAIR"
         },
         {
          "Year": 2284,
          "value": 6.6541334786778075,
          "variable": "FUNDFAIR"
         },
         {
          "Year": 2285,
          "value": 6.662658971868568,
          "variable": "FUNDFAIR"
         },
         {
          "Year": 2286,
          "value": 6.674312736003277,
          "variable": "FUNDFAIR"
         },
         {
          "Year": 2287,
          "value": 6.6859297654388286,
          "variable": "FUNDFAIR"
         },
         {
          "Year": 2288,
          "value": 6.6961666847575465,
          "variable": "FUNDFAIR"
         },
         {
          "Year": 2289,
          "value": 6.701180098727404,
          "variable": "FUNDFAIR"
         },
         {
          "Year": 2290,
          "value": 6.705336591935386,
          "variable": "FUNDFAIR"
         },
         {
          "Year": 2291,
          "value": 6.707632533459337,
          "variable": "FUNDFAIR"
         },
         {
          "Year": 2292,
          "value": 6.708710320179641,
          "variable": "FUNDFAIR"
         },
         {
          "Year": 2293,
          "value": 6.7096870261870105,
          "variable": "FUNDFAIR"
         },
         {
          "Year": 2294,
          "value": 6.712450115644865,
          "variable": "FUNDFAIR"
         },
         {
          "Year": 2295,
          "value": 6.719059143598209,
          "variable": "FUNDFAIR"
         },
         {
          "Year": 2296,
          "value": 6.728297803027301,
          "variable": "FUNDFAIR"
         },
         {
          "Year": 2297,
          "value": 6.739838571514954,
          "variable": "FUNDFAIR"
         },
         {
          "Year": 2298,
          "value": 6.750192904886339,
          "variable": "FUNDFAIR"
         },
         {
          "Year": 2299,
          "value": 6.757124103573069,
          "variable": "FUNDFAIR"
         },
         {
          "Year": 2300,
          "value": 6.759578864399922,
          "variable": "FUNDFAIR"
         },
         {
          "Year": 2301,
          "value": 6.762675024216019,
          "variable": "FUNDFAIR"
         },
         {
          "Year": 2302,
          "value": 6.766269335941529,
          "variable": "FUNDFAIR"
         },
         {
          "Year": 2303,
          "value": 6.77024965460581,
          "variable": "FUNDFAIR"
         },
         {
          "Year": 2304,
          "value": 6.774528185175779,
          "variable": "FUNDFAIR"
         },
         {
          "Year": 2305,
          "value": 6.779036201113423,
          "variable": "FUNDFAIR"
         },
         {
          "Year": 2306,
          "value": 6.783719906706944,
          "variable": "FUNDFAIR"
         },
         {
          "Year": 2307,
          "value": 6.788537197062368,
          "variable": "FUNDFAIR"
         },
         {
          "Year": 2308,
          "value": 6.793455121519672,
          "variable": "FUNDFAIR"
         },
         {
          "Year": 2309,
          "value": 6.798447899565684,
          "variable": "FUNDFAIR"
         },
         {
          "Year": 2310,
          "value": 6.803495359981781,
          "variable": "FUNDFAIR"
         },
         {
          "Year": 2311,
          "value": 6.80858172470394,
          "variable": "FUNDFAIR"
         },
         {
          "Year": 2312,
          "value": 6.813694655839881,
          "variable": "FUNDFAIR"
         },
         {
          "Year": 2313,
          "value": 6.818824508583264,
          "variable": "FUNDFAIR"
         },
         {
          "Year": 2314,
          "value": 6.823963748754116,
          "variable": "FUNDFAIR"
         },
         {
          "Year": 2315,
          "value": 6.829106490247504,
          "variable": "FUNDFAIR"
         },
         {
          "Year": 2316,
          "value": 6.834248139384801,
          "variable": "FUNDFAIR"
         },
         {
          "Year": 2317,
          "value": 6.839385116104901,
          "variable": "FUNDFAIR"
         },
         {
          "Year": 2318,
          "value": 6.844514628437102,
          "variable": "FUNDFAIR"
         },
         {
          "Year": 2319,
          "value": 6.849634500132163,
          "variable": "FUNDFAIR"
         },
         {
          "Year": 2320,
          "value": 6.854743044818022,
          "variable": "FUNDFAIR"
         },
         {
          "Year": 2321,
          "value": 6.859838954379039,
          "variable": "FUNDFAIR"
         },
         {
          "Year": 2322,
          "value": 6.864921217572845,
          "variable": "FUNDFAIR"
         },
         {
          "Year": 2323,
          "value": 6.869989057099893,
          "variable": "FUNDFAIR"
         },
         {
          "Year": 2324,
          "value": 6.875041874489592,
          "variable": "FUNDFAIR"
         },
         {
          "Year": 2325,
          "value": 6.880079214244558,
          "variable": "FUNDFAIR"
         },
         {
          "Year": 2326,
          "value": 6.8851007316400175,
          "variable": "FUNDFAIR"
         },
         {
          "Year": 2327,
          "value": 6.890106167486927,
          "variable": "FUNDFAIR"
         },
         {
          "Year": 2328,
          "value": 6.89509533120151,
          "variable": "FUNDFAIR"
         },
         {
          "Year": 2329,
          "value": 6.900068086012334,
          "variable": "FUNDFAIR"
         },
         {
          "Year": 2330,
          "value": 6.905024338690349,
          "variable": "FUNDFAIR"
         },
         {
          "Year": 2331,
          "value": 6.90996402533648,
          "variable": "FUNDFAIR"
         },
         {
          "Year": 2332,
          "value": 6.914887107066088,
          "variable": "FUNDFAIR"
         },
         {
          "Year": 2333,
          "value": 6.919793565465022,
          "variable": "FUNDFAIR"
         },
         {
          "Year": 2334,
          "value": 6.924683398009217,
          "variable": "FUNDFAIR"
         },
         {
          "Year": 2335,
          "value": 6.929556616102941,
          "variable": "FUNDFAIR"
         },
         {
          "Year": 2336,
          "value": 6.934413238094679,
          "variable": "FUNDFAIR"
         },
         {
          "Year": 2337,
          "value": 6.939253289937099,
          "variable": "FUNDFAIR"
         },
         {
          "Year": 2338,
          "value": 6.944076802162284,
          "variable": "FUNDFAIR"
         },
         {
          "Year": 2339,
          "value": 6.948883809988033,
          "variable": "FUNDFAIR"
         },
         {
          "Year": 2340,
          "value": 6.953674352955021,
          "variable": "FUNDFAIR"
         },
         {
          "Year": 2341,
          "value": 6.958448473083089,
          "variable": "FUNDFAIR"
         },
         {
          "Year": 2342,
          "value": 6.963206217270098,
          "variable": "FUNDFAIR"
         },
         {
          "Year": 2343,
          "value": 6.9679476319134785,
          "variable": "FUNDFAIR"
         },
         {
          "Year": 2344,
          "value": 6.972672761538801,
          "variable": "FUNDFAIR"
         },
         {
          "Year": 2345,
          "value": 6.977381655955025,
          "variable": "FUNDFAIR"
         },
         {
          "Year": 2346,
          "value": 6.982074366641985,
          "variable": "FUNDFAIR"
         },
         {
          "Year": 2347,
          "value": 6.98675094158475,
          "variable": "FUNDFAIR"
         },
         {
          "Year": 2348,
          "value": 6.991411430603923,
          "variable": "FUNDFAIR"
         },
         {
          "Year": 2349,
          "value": 6.996055886843538,
          "variable": "FUNDFAIR"
         },
         {
          "Year": 2350,
          "value": 7.000684361773292,
          "variable": "FUNDFAIR"
         },
         {
          "Year": 2351,
          "value": 7.005296790726268,
          "variable": "FUNDFAIR"
         },
         {
          "Year": 2352,
          "value": 7.009893030532394,
          "variable": "FUNDFAIR"
         },
         {
          "Year": 2353,
          "value": 7.014473002089127,
          "variable": "FUNDFAIR"
         },
         {
          "Year": 2354,
          "value": 7.0190366735247505,
          "variable": "FUNDFAIR"
         },
         {
          "Year": 2355,
          "value": 7.023584048241117,
          "variable": "FUNDFAIR"
         },
         {
          "Year": 2356,
          "value": 7.028115158397027,
          "variable": "FUNDFAIR"
         },
         {
          "Year": 2357,
          "value": 7.032630051719945,
          "variable": "FUNDFAIR"
         },
         {
          "Year": 2358,
          "value": 7.037128786187301,
          "variable": "FUNDFAIR"
         },
         {
          "Year": 2359,
          "value": 7.041611434593005,
          "variable": "FUNDFAIR"
         },
         {
          "Year": 2360,
          "value": 7.0460780732973145,
          "variable": "FUNDFAIR"
         },
         {
          "Year": 2361,
          "value": 7.050528782946588,
          "variable": "FUNDFAIR"
         },
         {
          "Year": 2362,
          "value": 7.054963649183746,
          "variable": "FUNDFAIR"
         },
         {
          "Year": 2363,
          "value": 7.0593827517893075,
          "variable": "FUNDFAIR"
         },
         {
          "Year": 2364,
          "value": 7.0637861724497775,
          "variable": "FUNDFAIR"
         },
         {
          "Year": 2365,
          "value": 7.068173995989153,
          "variable": "FUNDFAIR"
         },
         {
          "Year": 2366,
          "value": 7.072546303187732,
          "variable": "FUNDFAIR"
         },
         {
          "Year": 2367,
          "value": 7.076903172862866,
          "variable": "FUNDFAIR"
         },
         {
          "Year": 2368,
          "value": 7.081244682697666,
          "variable": "FUNDFAIR"
         },
         {
          "Year": 2369,
          "value": 7.08557090870552,
          "variable": "FUNDFAIR"
         },
         {
          "Year": 2370,
          "value": 7.089881925422951,
          "variable": "FUNDFAIR"
         },
         {
          "Year": 2371,
          "value": 7.094177805122648,
          "variable": "FUNDFAIR"
         },
         {
          "Year": 2372,
          "value": 7.098458621080367,
          "variable": "FUNDFAIR"
         },
         {
          "Year": 2373,
          "value": 7.102724443362778,
          "variable": "FUNDFAIR"
         },
         {
          "Year": 2374,
          "value": 7.106975337066718,
          "variable": "FUNDFAIR"
         },
         {
          "Year": 2375,
          "value": 7.1112113711601195,
          "variable": "FUNDFAIR"
         },
         {
          "Year": 2376,
          "value": 7.115432611625819,
          "variable": "FUNDFAIR"
         },
         {
          "Year": 2377,
          "value": 7.1196391223288344,
          "variable": "FUNDFAIR"
         },
         {
          "Year": 2378,
          "value": 7.123830966173706,
          "variable": "FUNDFAIR"
         },
         {
          "Year": 2379,
          "value": 7.128008204787375,
          "variable": "FUNDFAIR"
         },
         {
          "Year": 2380,
          "value": 7.1321709015124535,
          "variable": "FUNDFAIR"
         },
         {
          "Year": 2381,
          "value": 7.136319116803881,
          "variable": "FUNDFAIR"
         },
         {
          "Year": 2382,
          "value": 7.140452906424592,
          "variable": "FUNDFAIR"
         },
         {
          "Year": 2383,
          "value": 7.144572328329426,
          "variable": "FUNDFAIR"
         },
         {
          "Year": 2384,
          "value": 7.148677443023221,
          "variable": "FUNDFAIR"
         },
         {
          "Year": 2385,
          "value": 7.152768307691709,
          "variable": "FUNDFAIR"
         },
         {
          "Year": 2386,
          "value": 7.156844979209902,
          "variable": "FUNDFAIR"
         },
         {
          "Year": 2387,
          "value": 7.160907513047121,
          "variable": "FUNDFAIR"
         },
         {
          "Year": 2388,
          "value": 7.164955964686582,
          "variable": "FUNDFAIR"
         },
         {
          "Year": 2389,
          "value": 7.168990389212642,
          "variable": "FUNDFAIR"
         },
         {
          "Year": 2390,
          "value": 7.17301084356468,
          "variable": "FUNDFAIR"
         },
         {
          "Year": 2391,
          "value": 7.177017382539292,
          "variable": "FUNDFAIR"
         },
         {
          "Year": 2392,
          "value": 7.181010057325786,
          "variable": "FUNDFAIR"
         },
         {
          "Year": 2393,
          "value": 7.184988923896913,
          "variable": "FUNDFAIR"
         },
         {
          "Year": 2394,
          "value": 7.1889540354548025,
          "variable": "FUNDFAIR"
         },
         {
          "Year": 2395,
          "value": 7.192905442005901,
          "variable": "FUNDFAIR"
         },
         {
          "Year": 2396,
          "value": 7.196843198372838,
          "variable": "FUNDFAIR"
         },
         {
          "Year": 2397,
          "value": 7.200767359892349,
          "variable": "FUNDFAIR"
         },
         {
          "Year": 2398,
          "value": 7.2046779769220635,
          "variable": "FUNDFAIR"
         },
         {
          "Year": 2399,
          "value": 7.208575101057644,
          "variable": "FUNDFAIR"
         },
         {
          "Year": 2400,
          "value": 7.2124587841626475,
          "variable": "FUNDFAIR"
         },
         {
          "Year": 2401,
          "value": 7.216329001433534,
          "variable": "FUNDFAIR"
         },
         {
          "Year": 2402,
          "value": 7.220185678549408,
          "variable": "FUNDFAIR"
         },
         {
          "Year": 2403,
          "value": 7.224028780806858,
          "variable": "FUNDFAIR"
         },
         {
          "Year": 2404,
          "value": 7.227858303681746,
          "variable": "FUNDFAIR"
         },
         {
          "Year": 2405,
          "value": 7.231674266028415,
          "variable": "FUNDFAIR"
         },
         {
          "Year": 2406,
          "value": 7.235476703060563,
          "variable": "FUNDFAIR"
         },
         {
          "Year": 2407,
          "value": 7.239265662715322,
          "variable": "FUNDFAIR"
         },
         {
          "Year": 2408,
          "value": 7.243041201584186,
          "variable": "FUNDFAIR"
         },
         {
          "Year": 2409,
          "value": 7.2468033817236215,
          "variable": "FUNDFAIR"
         },
         {
          "Year": 2410,
          "value": 7.250552269142133,
          "variable": "FUNDFAIR"
         },
         {
          "Year": 2411,
          "value": 7.254287932323452,
          "variable": "FUNDFAIR"
         },
         {
          "Year": 2412,
          "value": 7.258010440904453,
          "variable": "FUNDFAIR"
         },
         {
          "Year": 2413,
          "value": 7.2617198675316,
          "variable": "FUNDFAIR"
         },
         {
          "Year": 2414,
          "value": 7.265416282901873,
          "variable": "FUNDFAIR"
         },
         {
          "Year": 2415,
          "value": 7.2690997536019175,
          "variable": "FUNDFAIR"
         },
         {
          "Year": 2416,
          "value": 7.272770350244274,
          "variable": "FUNDFAIR"
         },
         {
          "Year": 2417,
          "value": 7.276428140343278,
          "variable": "FUNDFAIR"
         },
         {
          "Year": 2418,
          "value": 7.280073187186057,
          "variable": "FUNDFAIR"
         },
         {
          "Year": 2419,
          "value": 7.283705557358372,
          "variable": "FUNDFAIR"
         },
         {
          "Year": 2420,
          "value": 7.287325317039212,
          "variable": "FUNDFAIR"
         },
         {
          "Year": 2421,
          "value": 7.2909325258497555,
          "variable": "FUNDFAIR"
         },
         {
          "Year": 2422,
          "value": 7.294527243898507,
          "variable": "FUNDFAIR"
         },
         {
          "Year": 2423,
          "value": 7.298109531140064,
          "variable": "FUNDFAIR"
         },
         {
          "Year": 2424,
          "value": 7.301679446510385,
          "variable": "FUNDFAIR"
         },
         {
          "Year": 2425,
          "value": 7.305237050032536,
          "variable": "FUNDFAIR"
         },
         {
          "Year": 2426,
          "value": 7.308782398498087,
          "variable": "FUNDFAIR"
         },
         {
          "Year": 2427,
          "value": 7.312315545218877,
          "variable": "FUNDFAIR"
         },
         {
          "Year": 2428,
          "value": 7.3158365442447515,
          "variable": "FUNDFAIR"
         },
         {
          "Year": 2429,
          "value": 7.319345452100765,
          "variable": "FUNDFAIR"
         },
         {
          "Year": 2430,
          "value": 7.32284232235458,
          "variable": "FUNDFAIR"
         },
         {
          "Year": 2431,
          "value": 7.326327207439526,
          "variable": "FUNDFAIR"
         },
         {
          "Year": 2432,
          "value": 7.329800159808226,
          "variable": "FUNDFAIR"
         },
         {
          "Year": 2433,
          "value": 7.333261231199354,
          "variable": "FUNDFAIR"
         },
         {
          "Year": 2434,
          "value": 7.336710471910951,
          "variable": "FUNDFAIR"
         },
         {
          "Year": 2435,
          "value": 7.340147934772109,
          "variable": "FUNDFAIR"
         },
         {
          "Year": 2436,
          "value": 7.343573669842472,
          "variable": "FUNDFAIR"
         },
         {
          "Year": 2437,
          "value": 7.346987723179426,
          "variable": "FUNDFAIR"
         },
         {
          "Year": 2438,
          "value": 7.35039014285471,
          "variable": "FUNDFAIR"
         },
         {
          "Year": 2439,
          "value": 7.353780977243704,
          "variable": "FUNDFAIR"
         },
         {
          "Year": 2440,
          "value": 7.3571602771383535,
          "variable": "FUNDFAIR"
         },
         {
          "Year": 2441,
          "value": 7.3605280911666515,
          "variable": "FUNDFAIR"
         },
         {
          "Year": 2442,
          "value": 7.363884464293623,
          "variable": "FUNDFAIR"
         },
         {
          "Year": 2443,
          "value": 7.367229445583698,
          "variable": "FUNDFAIR"
         },
         {
          "Year": 2444,
          "value": 7.3705630820718415,
          "variable": "FUNDFAIR"
         },
         {
          "Year": 2445,
          "value": 7.373885420115508,
          "variable": "FUNDFAIR"
         },
         {
          "Year": 2446,
          "value": 7.377196505849419,
          "variable": "FUNDFAIR"
         },
         {
          "Year": 2447,
          "value": 7.380496385112528,
          "variable": "FUNDFAIR"
         },
         {
          "Year": 2448,
          "value": 7.383785106166368,
          "variable": "FUNDFAIR"
         },
         {
          "Year": 2449,
          "value": 7.387062712475576,
          "variable": "FUNDFAIR"
         },
         {
          "Year": 2450,
          "value": 7.390329249524017,
          "variable": "FUNDFAIR"
         },
         {
          "Year": 2451,
          "value": 7.393584676965995,
          "variable": "FUNDFAIR"
         },
         {
          "Year": 2452,
          "value": 7.396828887681069,
          "variable": "FUNDFAIR"
         },
         {
          "Year": 2453,
          "value": 7.4000618238913916,
          "variable": "FUNDFAIR"
         },
         {
          "Year": 2454,
          "value": 7.4032834665274105,
          "variable": "FUNDFAIR"
         },
         {
          "Year": 2455,
          "value": 7.406493820726613,
          "variable": "FUNDFAIR"
         },
         {
          "Year": 2456,
          "value": 7.4096929106304055,
          "variable": "FUNDFAIR"
         },
         {
          "Year": 2457,
          "value": 7.412880771739633,
          "variable": "FUNDFAIR"
         },
         {
          "Year": 2458,
          "value": 7.416057452044756,
          "variable": "FUNDFAIR"
         },
         {
          "Year": 2459,
          "value": 7.419223010548559,
          "variable": "FUNDFAIR"
         },
         {
          "Year": 2460,
          "value": 7.422377508409408,
          "variable": "FUNDFAIR"
         },
         {
          "Year": 2461,
          "value": 7.425521008170088,
          "variable": "FUNDFAIR"
         },
         {
          "Year": 2462,
          "value": 7.42865357382461,
          "variable": "FUNDFAIR"
         },
         {
          "Year": 2463,
          "value": 7.431775270077152,
          "variable": "FUNDFAIR"
         },
         {
          "Year": 2464,
          "value": 7.43488616425765,
          "variable": "FUNDFAIR"
         },
         {
          "Year": 2465,
          "value": 7.4379863212008654,
          "variable": "FUNDFAIR"
         },
         {
          "Year": 2466,
          "value": 7.441075801764798,
          "variable": "FUNDFAIR"
         },
         {
          "Year": 2467,
          "value": 7.444154667568586,
          "variable": "FUNDFAIR"
         },
         {
          "Year": 2468,
          "value": 7.447222979702677,
          "variable": "FUNDFAIR"
         },
         {
          "Year": 2469,
          "value": 7.450280801529161,
          "variable": "FUNDFAIR"
         },
         {
          "Year": 2470,
          "value": 7.4533281925749275,
          "variable": "FUNDFAIR"
         },
         {
          "Year": 2471,
          "value": 7.456365207070199,
          "variable": "FUNDFAIR"
         },
         {
          "Year": 2472,
          "value": 7.459391902851251,
          "variable": "FUNDFAIR"
         },
         {
          "Year": 2473,
          "value": 7.462408334148536,
          "variable": "FUNDFAIR"
         },
         {
          "Year": 2474,
          "value": 7.465414554405096,
          "variable": "FUNDFAIR"
         },
         {
          "Year": 2475,
          "value": 7.468410615881284,
          "variable": "FUNDFAIR"
         },
         {
          "Year": 2476,
          "value": 7.471396569882274,
          "variable": "FUNDFAIR"
         },
         {
          "Year": 2477,
          "value": 7.474372466665933,
          "variable": "FUNDFAIR"
         },
         {
          "Year": 2478,
          "value": 7.477338356053654,
          "variable": "FUNDFAIR"
         },
         {
          "Year": 2479,
          "value": 7.48029428693283,
          "variable": "FUNDFAIR"
         },
         {
          "Year": 2480,
          "value": 7.483240306877214,
          "variable": "FUNDFAIR"
         },
         {
          "Year": 2481,
          "value": 7.486176462833345,
          "variable": "FUNDFAIR"
         },
         {
          "Year": 2482,
          "value": 7.4891028009878,
          "variable": "FUNDFAIR"
         },
         {
          "Year": 2483,
          "value": 7.492019369863755,
          "variable": "FUNDFAIR"
         },
         {
          "Year": 2484,
          "value": 7.494926214915807,
          "variable": "FUNDFAIR"
         },
         {
          "Year": 2485,
          "value": 7.497823377456797,
          "variable": "FUNDFAIR"
         },
         {
          "Year": 2486,
          "value": 7.500710900716406,
          "variable": "FUNDFAIR"
         },
         {
          "Year": 2487,
          "value": 7.503588830575287,
          "variable": "FUNDFAIR"
         },
         {
          "Year": 2488,
          "value": 7.506457210028897,
          "variable": "FUNDFAIR"
         },
         {
          "Year": 2489,
          "value": 7.509316081787924,
          "variable": "FUNDFAIR"
         },
         {
          "Year": 2490,
          "value": 7.512165484930651,
          "variable": "FUNDFAIR"
         },
         {
          "Year": 2491,
          "value": 7.515005460678193,
          "variable": "FUNDFAIR"
         },
         {
          "Year": 2492,
          "value": 7.517836053019913,
          "variable": "FUNDFAIR"
         },
         {
          "Year": 2493,
          "value": 7.520657303336702,
          "variable": "FUNDFAIR"
         },
         {
          "Year": 2494,
          "value": 7.523469252115617,
          "variable": "FUNDFAIR"
         },
         {
          "Year": 2495,
          "value": 7.526271939434013,
          "variable": "FUNDFAIR"
         },
         {
          "Year": 2496,
          "value": 7.529065405167845,
          "variable": "FUNDFAIR"
         },
         {
          "Year": 2497,
          "value": 7.5318496882174255,
          "variable": "FUNDFAIR"
         },
         {
          "Year": 2498,
          "value": 7.534624830636138,
          "variable": "FUNDFAIR"
         },
         {
          "Year": 2499,
          "value": 7.5373908722764025,
          "variable": "FUNDFAIR"
         },
         {
          "Year": 2500,
          "value": 7.540147879943836,
          "variable": "FUNDFAIR"
         }
        ]
       },
       "encoding": {
        "color": {
         "field": "variable",
         "type": "nominal"
        },
        "x": {
         "field": "Year",
         "type": "quantitative"
        },
        "y": {
         "field": "value",
         "type": "quantitative"
        }
       },
       "mark": "line"
      },
      "image/png": "[encoded data removed]",
      "image/svg+xml": [
       "<?xml version=\"1.0\" encoding=\"utf-8\"?>\n",
       "<!DOCTYPE svg PUBLIC \"-//W3C//DTD SVG 1.1//EN\" \"http://www.w3.org/Graphics/SVG/1.1/DTD/svg11.dtd\">\n",
       "<svg xmlns=\"http://www.w3.org/2000/svg\" xmlns:xlink=\"http://www.w3.org/1999/xlink\" version=\"1.1\" class=\"marks\" width=\"329\" height=\"247\" viewBox=\"0 0 329 247\"><rect width=\"329\" height=\"247\" fill=\"white\"/><g fill=\"none\" stroke-miterlimit=\"10\" transform=\"translate(39,10)\"><g class=\"mark-group role-frame root\" role=\"graphics-object\" aria-roledescription=\"group mark container\"><g transform=\"translate(0,0)\"><path class=\"background\" aria-hidden=\"true\" d=\"M0.5,0.5h200v200h-200Z\" stroke=\"#ddd\"/><g><g class=\"mark-group role-axis\" aria-hidden=\"true\"><g transform=\"translate(0.5,200.5)\"><path class=\"background\" aria-hidden=\"true\" d=\"M0,0h0v0h0Z\" pointer-events=\"none\"/><g><g class=\"mark-rule role-axis-grid\" pointer-events=\"none\"><line transform=\"translate(25,-200)\" x2=\"0\" y2=\"200\" stroke=\"#ddd\" stroke-width=\"1\" opacity=\"1\"/><line transform=\"translate(75,-200)\" x2=\"0\" y2=\"200\" stroke=\"#ddd\" stroke-width=\"1\" opacity=\"1\"/><line transform=\"translate(125,-200)\" x2=\"0\" y2=\"200\" stroke=\"#ddd\" stroke-width=\"1\" opacity=\"1\"/><line transform=\"translate(175,-200)\" x2=\"0\" y2=\"200\" stroke=\"#ddd\" stroke-width=\"1\" opacity=\"1\"/></g></g><path class=\"foreground\" aria-hidden=\"true\" d=\"\" pointer-events=\"none\" display=\"none\"/></g></g><g class=\"mark-group role-axis\" aria-hidden=\"true\"><g transform=\"translate(0.5,0.5)\"><path class=\"background\" aria-hidden=\"true\" d=\"M0,0h0v0h0Z\" pointer-events=\"none\"/><g><g class=\"mark-rule role-axis-grid\" pointer-events=\"none\"><line transform=\"translate(0,182)\" x2=\"200\" y2=\"0\" stroke=\"#ddd\" stroke-width=\"1\" opacity=\"1\"/><line transform=\"translate(0,145)\" x2=\"200\" y2=\"0\" stroke=\"#ddd\" stroke-width=\"1\" opacity=\"1\"/><line transform=\"translate(0,109)\" x2=\"200\" y2=\"0\" stroke=\"#ddd\" stroke-width=\"1\" opacity=\"1\"/><line transform=\"translate(0,73)\" x2=\"200\" y2=\"0\" stroke=\"#ddd\" stroke-width=\"1\" opacity=\"1\"/><line transform=\"translate(0,36)\" x2=\"200\" y2=\"0\" stroke=\"#ddd\" stroke-width=\"1\" opacity=\"1\"/><line transform=\"translate(0,0)\" x2=\"200\" y2=\"0\" stroke=\"#ddd\" stroke-width=\"1\" opacity=\"1\"/></g></g><path class=\"foreground\" aria-hidden=\"true\" d=\"\" pointer-events=\"none\" display=\"none\"/></g></g><g class=\"mark-group role-axis\" role=\"graphics-symbol\" aria-roledescription=\"axis\" aria-label=\"X-axis titled 'Year' for a linear scale with values from 1,700 to 2,500\"><g transform=\"translate(0.5,200.5)\"><path class=\"background\" aria-hidden=\"true\" d=\"M0,0h0v0h0Z\" pointer-events=\"none\"/><g><g class=\"mark-rule role-axis-tick\" pointer-events=\"none\"><line transform=\"translate(25,0)\" x2=\"0\" y2=\"5\" stroke=\"#888\" stroke-width=\"1\" opacity=\"1\"/><line transform=\"translate(75,0)\" x2=\"0\" y2=\"5\" stroke=\"#888\" stroke-width=\"1\" opacity=\"1\"/><line transform=\"translate(125,0)\" x2=\"0\" y2=\"5\" stroke=\"#888\" stroke-width=\"1\" opacity=\"1\"/><line transform=\"translate(175,0)\" x2=\"0\" y2=\"5\" stroke=\"#888\" stroke-width=\"1\" opacity=\"1\"/></g><g class=\"mark-text role-axis-label\" pointer-events=\"none\"><text text-anchor=\"middle\" transform=\"translate(25,15)\" font-family=\"sans-serif\" font-size=\"10px\" fill=\"#000\" opacity=\"1\">1,800</text><text text-anchor=\"middle\" transform=\"translate(75,15)\" font-family=\"sans-serif\" font-size=\"10px\" fill=\"#000\" opacity=\"1\">2,000</text><text text-anchor=\"middle\" transform=\"translate(125,15)\" font-family=\"sans-serif\" font-size=\"10px\" fill=\"#000\" opacity=\"1\">2,200</text><text text-anchor=\"middle\" transform=\"translate(175,15)\" font-family=\"sans-serif\" font-size=\"10px\" fill=\"#000\" opacity=\"1\">2,400</text></g><g class=\"mark-rule role-axis-domain\" pointer-events=\"none\"><line transform=\"translate(0,0)\" x2=\"200\" y2=\"0\" stroke=\"#888\" stroke-width=\"1\" opacity=\"1\"/></g><g class=\"mark-text role-axis-title\" pointer-events=\"none\"><text text-anchor=\"middle\" transform=\"translate(100,30)\" font-family=\"sans-serif\" font-size=\"11px\" font-weight=\"bold\" fill=\"#000\" opacity=\"1\">Year</text></g></g><path class=\"foreground\" aria-hidden=\"true\" d=\"\" pointer-events=\"none\" display=\"none\"/></g></g><g class=\"mark-group role-axis\" role=\"graphics-symbol\" aria-roledescription=\"axis\" aria-label=\"Y-axis titled 'value' for a linear scale with values from −1 to 10\"><g transform=\"translate(0.5,0.5)\"><path class=\"background\" aria-hidden=\"true\" d=\"M0,0h0v0h0Z\" pointer-events=\"none\"/><g><g class=\"mark-rule role-axis-tick\" pointer-events=\"none\"><line transform=\"translate(0,182)\" x2=\"-5\" y2=\"0\" stroke=\"#888\" stroke-width=\"1\" opacity=\"1\"/><line transform=\"translate(0,145)\" x2=\"-5\" y2=\"0\" stroke=\"#888\" stroke-width=\"1\" opacity=\"1\"/><line transform=\"translate(0,109)\" x2=\"-5\" y2=\"0\" stroke=\"#888\" stroke-width=\"1\" opacity=\"1\"/><line transform=\"translate(0,73)\" x2=\"-5\" y2=\"0\" stroke=\"#888\" stroke-width=\"1\" opacity=\"1\"/><line transform=\"translate(0,36)\" x2=\"-5\" y2=\"0\" stroke=\"#888\" stroke-width=\"1\" opacity=\"1\"/><line transform=\"translate(0,0)\" x2=\"-5\" y2=\"0\" stroke=\"#888\" stroke-width=\"1\" opacity=\"1\"/></g><g class=\"mark-text role-axis-label\" pointer-events=\"none\"><text text-anchor=\"end\" transform=\"translate(-7,184.8181818181818)\" font-family=\"sans-serif\" font-size=\"10px\" fill=\"#000\" opacity=\"1\">0</text><text text-anchor=\"end\" transform=\"translate(-7,148.45454545454547)\" font-family=\"sans-serif\" font-size=\"10px\" fill=\"#000\" opacity=\"1\">2</text><text text-anchor=\"end\" transform=\"translate(-7,112.09090909090908)\" font-family=\"sans-serif\" font-size=\"10px\" fill=\"#000\" opacity=\"1\">4</text><text text-anchor=\"end\" transform=\"translate(-7,75.72727272727273)\" font-family=\"sans-serif\" font-size=\"10px\" fill=\"#000\" opacity=\"1\">6</text><text text-anchor=\"end\" transform=\"translate(-7,39.36363636363635)\" font-family=\"sans-serif\" font-size=\"10px\" fill=\"#000\" opacity=\"1\">8</text><text text-anchor=\"end\" transform=\"translate(-7,3)\" font-family=\"sans-serif\" font-size=\"10px\" fill=\"#000\" opacity=\"1\">10</text></g><g class=\"mark-rule role-axis-domain\" pointer-events=\"none\"><line transform=\"translate(0,200)\" x2=\"0\" y2=\"-200\" stroke=\"#888\" stroke-width=\"1\" opacity=\"1\"/></g><g class=\"mark-text role-axis-title\" pointer-events=\"none\"><text text-anchor=\"middle\" transform=\"translate(-23,100) rotate(-90) translate(0,-2)\" font-family=\"sans-serif\" font-size=\"11px\" font-weight=\"bold\" fill=\"#000\" opacity=\"1\">value</text></g></g><path class=\"foreground\" aria-hidden=\"true\" d=\"\" pointer-events=\"none\" display=\"none\"/></g></g><g class=\"mark-group role-scope pathgroup\" role=\"graphics-object\" aria-roledescription=\"group mark container\"><g transform=\"translate(0,0)\"><path class=\"background\" aria-hidden=\"true\" d=\"M0,0h200v200h-200Z\"/><g><g class=\"mark-line role-mark marks\" role=\"graphics-object\" aria-roledescription=\"line mark container\"><path aria-label=\"Year: 1765; value: 0; variable: FUND\" role=\"graphics-symbol\" aria-roledescription=\"line mark\" d=\"M62.5,178.1818181818182L62.74999999999999,178.09772300387638L63,178.01185101562456L63.24999999999999,177.92399742901333L63.5,177.8345933130184L63.74999999999999,177.7439052888962L64,177.65236486332512L64.25,177.56026377788467L64.5,177.4668379213362L64.75,177.371098550269L65,177.27077440068214L65.25,177.16804862540897L65.5,177.06360295575888L65.75,176.95619494988705L66,176.84578407547014L66.25,176.73204168814993L66.5,176.61480384959057L66.75,176.49473039637076L67,176.3716833613894L67.25,176.24424043148258L67.5,176.11022542472813L67.75,175.97016396401423L68,175.82753541402428L68.25,175.68344454017458L68.5,175.53758382496952L68.75,175.39018761503993L69,175.24140751436198L69.25,175.090929696767L69.5,174.93730209370727L69.75,174.77963026770735L70,174.62006403883882L70.25,174.45952642740232L70.5,174.29674270141686L70.75,174.13172215586806L71,173.96375884003717L71.25,173.7920350639751L71.5,173.61660920578032L71.75,173.4380064498542L72,173.25582344253257L72.25,173.06909474408454L72.5,172.8768451690043L72.75,172.6791067772628L73,172.4768344083184L73.25,172.2694072582575L73.5,172.05597965865314L73.75,171.83626173950364L74,171.6107177227356L74.25,171.38368613146207L74.5,171.15806521175344L74.75,170.93325013580122L75,170.70968956111042L75.25,170.48519417183L75.5,170.2570268643378L75.75,170.02511851205443L76,169.7893030687375L76.25,169.5478313835054L76.5,169.29769451877613L76.75,169.03756251770943L77,168.7674768622668L77.25,168.48751341645166L77.5,168.1989336271518L77.75,167.9039120990363L78,167.603351916776L78.25,167.2970756363764L78.5,166.9849280169617L78.75,166.66673170389558L79,166.3423895273914L79.25,166.0118088821574L79.5,165.67490908611455L79.75,165.33161016100274L80,164.98152083099376L80.25,164.62395038417773L80.5,164.25851909726686L80.75,163.88521544237537L81,163.5040211693723L81.25,163.1149297868573L81.5,162.71792929993381L81.75,162.31304671116112L82,161.90033096513105L82.25,161.47982709046371L82.5,161.0510879093362L82.75,160.61302722037044L83,160.1651778478593L83.25,159.70762326363297L83.5,159.24045094811362L83.75,158.7638041091945L84,158.2776991744866L84.25,157.78222580525042L84.5,157.27746113216142L84.75,156.7634868446628L85,156.2405937708747L85.25,155.7091074862133L85.5,155.16922548384912L85.75,154.6210100238786L86,154.06450502334167L86.25,153.49978724252193L86.5,152.926897215404L86.75,152.3459785211739L87,151.75714842716633L87.25,151.16051538097898L87.5,150.55666769027113L87.75,149.9464182382716L88,149.33014470651517L88.25,148.70780659605413L88.5,148.07936517259654L88.75,147.44478346412663L89,146.80408775383543L89.25,146.15735357517977L89.5,145.50464907837952L89.75,144.84601730010016L90,144.18165525590285L90.25,143.51178405537007L90.5,142.83656817416244L90.75,142.15606156234693L91,141.4703233822209L91.25,140.77945205593716L91.5,140.08344027928499L91.75,139.38227982019188L92,138.67596174658584L92.25,137.9644828364603L92.5,137.24792515232335L92.75,136.52643409298747L93,135.80013496051322L93.25,135.0690836847221L93.5,134.33333498983285L93.75,133.59296129874875L94,132.8479686016506L94.25,132.09848991645714L94.5,131.34464687936847L94.75,130.58656597639998L95,129.82418808516226L95.25,129.05689336681056L95.5,128.28445943124765L95.75,127.506962178163L96,126.72448704033768L96.25,125.93720693917038L96.5,125.14514195729667L96.75,124.34842568983511L97,123.54721923744991L97.25,122.74165210491965L97.5,121.93225351558263L97.75,121.11962584140645L98,120.30415844365132L98.25,119.48596092520903L98.5,118.66513627124053L98.75,117.84188580529941L99,117.01620782182356L99.25,116.18824889608268L99.5,115.35816098932217L99.75,114.52609036218419L100,113.69254750176844L100.25,112.85811676522157L100.49999999999999,112.02312879565409L100.75,111.187685447182L101,110.35189595558805L101.25,109.51587899872538L101.49999999999999,108.67975954545197L101.75,107.84368787076417L102,107.0078092098338L102.25,106.17229496055187L102.49999999999999,105.33729711399803L102.75000000000001,104.50299530190748L103,103.66955556029214L103.25,102.83716368501305L103.49999999999999,102.00599724575765L103.75000000000001,101.17623965499631L104,100.34807280215774L104.25,99.5216915037693L104.5,98.69728168402541L104.75000000000001,97.87504138731424L105,97.05516920301362L105.25,96.23784781263471L105.5,95.42327551477466L105.75000000000001,94.61163954690515L106,93.80314003883751L106.25,92.99796991015509L106.5,92.19632520254825L106.74999999999999,91.39839385091125L107,90.60436491814355L107.25,89.81442746295711L107.5,89.02876246497733L107.74999999999999,88.24755715913297L108,87.47099569957628L108.25,86.69925267681468L108.5,85.93250818673042L108.74999999999999,85.17093086935496L109.00000000000001,84.41468158539733L109.25,83.66392650620067L109.5,82.9188282772456L109.74999999999999,82.17955280737415L110.00000000000001,81.44624887459318L110.25,80.71905561698476L110.5,79.99812288275866L110.75,79.28358674355889L111.00000000000001,78.57557721713285L111.25,77.87422977126994L111.5,77.17965674154665L111.75,76.49199860792339L112.00000000000001,75.81136651917606L112.25,75.13786337775794L112.5,74.47158711647499L112.75,73.8126470530621L112.99999999999999,73.161140447312L113.25,72.51715328052421L113.5,71.88076341124369L113.75,71.25203559262513L113.99999999999999,70.6310412485941L114.25,70.01783672020811L114.5,69.41246890825077L114.75,68.81500310738585L114.99999999999999,68.22546805355023L115.25000000000001,67.6439017837736L115.5,67.07033715734356L115.75,66.50479720344538L115.99999999999999,65.94730050479482L116.25000000000001,65.39786811841238L116.5,64.8565062301075L116.75,64.32322622226145L117,63.798026674620175L117.25000000000001,63.28090591574698L117.5,62.77185784796533L117.75,62.270883566112815L118,61.777950188105144L118.25000000000001,61.2930417389248L118.5,60.816132069379236L118.75,60.347201303027646L119,59.886215444650915L119.24999999999999,59.43314120795225L119.5,58.987942135184014L119.75,58.55057413728699L120,58.12099241083879L120.24999999999999,57.69914336790809L120.5,57.28498261523889L120.75,56.878449627766514L121,56.47949078426695L121.24999999999999,56.08805930356553L121.50000000000001,55.70408771749447L121.75,55.32751830412648L122,54.95828142952624L122.24999999999999,54.59630954385304L122.50000000000001,54.24153311142143L122.75,53.89387503642802L123,53.55327775529375L123.25,53.219659833554566L123.50000000000001,52.892948483736L123.75,52.57305971756936L124,52.259920079769714L124.25,51.95344699075575L124.50000000000001,51.65356813221782L124.75,51.36019452076246L125,51.0732406908184L125.25,50.79257046587302L125.49999999999999,50.51805787948296L125.75,50.24956804904483L126,49.986973044964934L126.25,49.730145991505935L126.49999999999999,49.47897198303735L126.75,49.2333176107006L127,48.99308057515262L127.25,48.75814136328136L127.49999999999999,48.52839068700241L127.75000000000001,48.303721336228L128,48.084013852088894L128.25,47.869162776428894L128.5,47.65907210979699L128.75,47.45364553380029L129,47.25277216090147L129.25,47.0563584435556L129.5,46.86431080662283L129.75,46.67653559173828L130,46.49294831709901L130.25,46.31344979041965L130.5,46.13794896544283L130.75,45.96637123849048L131,45.7986251335732L131.25,45.63463524533071L131.5,45.474316727215665L131.75,45.3175853018648L132,45.16436768764889L132.25,45.014588432877L132.5,44.868179054061066L132.75,44.725063265149444L133,44.585180772096656L133.25,44.44846128666868L133.5,44.31482578510937L133.75,44.18420809521626L134,44.05654353775652L134.25,43.93177377163644L134.5,43.809842895761285L134.75,43.690678500062944L135,43.57422796824017L135.25,43.460435823865474L135.5,43.34924585318092L135.75,43.24060287139597L136,43.134444196883216L136.25,43.03071945052756L136.5,42.9293790969272L136.75,42.83036762050367L137,42.73363246601873L137.25,42.63910833817617L137.5,42.54675803984726L137.75,42.45653753642762L138,42.368400149926025L138.25,42.282298585624865L138.5,42.19819337080884L138.75,42.11603703305171L139,42.03579689849954L139.25,41.95743015830962L139.5,41.88088002150161L139.75,41.80611390862366L140,41.7330959385196L140.25,41.661783959639685L140.5,41.592143631539L140.75,41.5241310407839L141,41.45771379777192L141.25,41.39286324021556L141.5,41.3295425020596L141.75,41.267714034902504L142,41.20735457977687L142.25,41.14842574768198L142.5,41.090900193893475L142.75,41.03473761287377L143,40.97990734224479L143.25,40.92637931289469L143.5,40.87412091126921L143.75,40.82311507467566L144,40.77332302159824L144.25,40.72472716503774L144.5,40.67729807257536L144.75,40.631010267256684L145,40.58583218643614L145.25,40.54173975650619L145.5,40.49870768630479L145.75,40.45671279603127L146,40.415728988583496L146.25,40.375742079320865L146.5,40.336711885441346L146.75,40.29862926173982L147,40.26146821568082L147.25,40.225209801266516L147.5,40.189830337814335L147.75,40.15530357723349L148,40.12161219900187L148.25,40.08874530521753L148.5,40.056669381379706L148.75,40.025368572467656L149,39.99483021365222L149.25,39.96503508931861L149.5,39.93597383426803L149.75,39.907623979232135L150,39.87996365726809L150.25,39.85311884798224L150.5,39.82720031903304L150.75,39.80230506260789L151,39.778517597595034L151.25,39.75591115094132L151.5,39.73454873010631L151.75,39.71448409718077L152,39.69576265408674L152.25,39.67842224727682L152.5,39.66249389947796L152.75,39.64800247525739L153,39.634967286512854L153.25,39.6234026433852L153.5,39.61331835556117L153.75,39.60472018845373L154,39.59761027832358L154.25,39.59198751002153L154.5,39.587847860689585L154.75,39.585184712449426L155,39.58398913682861L155.25,39.58425015342479L155.5,39.58595496508146L155.75,39.589089171643636L156,39.59363696417726L156.25,39.59958130136742L156.5,39.60690406965854L156.75,39.61558622856147L157,39.625607942426775L157.25,39.636948699869755L157.5,39.64958742192828L157.75,39.66350255994049L158,39.67867218404364L158.25,39.69507406311672L158.5,39.71268573691808L158.75,39.731484581104226L159,39.751447865756816L159.25,39.77255280799057L159.5,39.79477661916524L159.75,39.81809654717976L160,39.84248991428563L160.25,39.867934150818684L160.5,39.89440682521419L160.75,39.92188567063872L161,39.95034860854354L161.25,39.97977376941763L161.5,40.01013951099593L161.75,40.04142443415366L162,40.073607396700716L162.25,40.10666752526944L162.5,40.14058422547295L162.75,40.17533719049708L163,40.210906408272315L163.25,40.24727216736219L163.5,40.28441506169076L163.75,40.322315994222045L164,40.36095617969395L164.25,40.400317146500896L164.5,40.44038073781018L164.75,40.48112911199062L165,40.52254474242438L165.25,40.56461041676664L165.5,40.607309235712854L165.75,40.650624611326556L166,40.69454026497758L166.25,40.73904022493473L166.5,40.78410882365397L166.75,40.82973069479836L167,40.875890770024114L167.25,40.922574275562674L167.5,40.96976672862673L167.75,41.01745393366514L168,41.06562197848946L168.25,41.11425723029285L168.5,41.16334633158012L168.75,41.212876196025206L169,41.262834004271774L169.25,41.31320719969087L169.5,41.363983484107145L169.75,41.41515081350582L170,41.466697393729525L170.25,41.51861167617448L170.5,41.570882353494135L170.75,41.62349835531649L171,41.676448843983074L171.25,41.72972321031374L171.5,41.783311069403005L171.75,41.83720225645266L172,41.89138682264366L172.25,41.94585503105166L172.5,42.00059735260844L172.75,42.05560446211243L173,42.11086723428976L173.25,42.16637673990855L173.5,42.22212424194753L173.75,42.278101191820184L174,42.33429922565604L174.25,42.390710160639266L174.5,42.4473259914061L174.75,42.50413888650038L175,42.56114118488852L175.25,42.618325392533826L175.5,42.67568417903001L175.75,42.73321037429354L176,42.79089696531548L176.25,42.84873709297192L176.5,42.906724048892485L176.75,42.96485127238698L177,43.023112347429304L177.25,43.0815009996973L177.5,43.14001109366501L177.75,43.1986366297592L178,43.25737174157205L178.25,43.316210693123324L178.5,43.375147876175916L178.75,43.43417780760455L179,43.49329512681612L179.25,43.55249459322139L179.5,43.611771083757L179.75,43.67111959045715L180,43.730535218073996L180.25,43.79001318174567L180.5,43.8495488047119L180.75,43.90913751607535L181,43.968774848608795L181.25,44.028456436606625L181.5,44.088178013780066L181.75,44.147935411195725L182,44.20772455525586L182.25,44.26754146572009L182.5,44.327382253768L182.75,44.38724312010067L183,44.44712035308229L183.25,44.507010326919016L183.5,44.56690949987574L183.75,44.626814412529555L184,44.68672168605905L184.25,44.74662802056877L184.5,44.80653019344856L184.75,44.866425057766435L185,44.92630954069456L185.25,44.98618064196784L185.5,45.04603543237429L185.75,45.105871052276434L186,45.16568471016329L186.25,45.225473681232266L186.5,45.28523530599999L186.75,45.3449669889423L187,45.4046661971619L187.25,45.464330459083314L187.5,45.52395736317543L187.75,45.58354455669951L188,45.64308974448361L188.25,45.70259068772196L188.5,45.76204520279907L188.75,45.82145116013812L189,45.880806483073066L189.25,45.940109146744L189.5,45.99935717701482L189.75,46.05854864941372L190,46.11768168809498L190.25,46.17675446482217L190.5,46.235765197972256L190.75,46.294712151560155L191,46.35359363428313L191.25,46.412407998584925L191.5,46.47115363973888L191.75,46.529828994950016L192,46.588432542475424L192.25,46.646962800762346L192.5,46.705418327604505L192.75,46.763797719315L193,46.82209960991655L193.25,46.88032267034805L193.5,46.93846560768742L193.75,46.996527164390336L194,47.05450611754427L194.25,47.11240127813796L194.5,47.17021149034579L194.75,47.22793563082646L195,47.285572608036276L195.25,47.34312136155623L195.5,47.40058086143266L195.75,47.45795010753176L196,47.51522812890654L196.25,47.57241398317738L196.5,47.62950675592448L196.75,47.68650556009328L197,47.74340953541147L197.25,47.800217847818004L197.5,47.85692968890378L197.75,47.91354427536356L198,47.97006084845905L198.25,48.026478673492925L198.5,48.08279703929315L198.75,48.13901525770843L199,48.19513266311313L199.25,48.25114861192292L199.5,48.3070624821196L199.75,48.362873672786L200,48.41858160364993\" stroke=\"#f58518\" stroke-width=\"2\"/></g></g><path class=\"foreground\" aria-hidden=\"true\" d=\"\" display=\"none\"/></g><g transform=\"translate(0,0)\"><path class=\"background\" aria-hidden=\"true\" d=\"M0,0h200v200h-200Z\"/><g><g class=\"mark-line role-mark marks\" role=\"graphics-object\" aria-roledescription=\"line mark container\"><path aria-label=\"Year: 1765; value: 0.00506084984256; variable: FAIR\" role=\"graphics-symbol\" aria-roledescription=\"line mark\" d=\"M16.25,181.72616636649894L16.5,181.6497772711463L16.75,181.57038155399786L17,181.42273461260808L17.25,181.25120787624658L17.5,181.06581134315974L17.75,180.96322063290197L18,180.9672285759868L18.25,180.9722230718454L18.5,180.98823729792275L18.75,181.05503303659512L19,181.11729601623992L19.25,181.15086021873194L19.5,181.1659169369033L19.75,181.26588046584473L20,181.34107765532477L20.25,181.3640467605649L20.5,181.330745018217L20.75,190.3160277813535L21,189.01639060509353L21.25,187.52155295938203L21.5,186.20382218972594L21.75,185.10787556083267L22,184.3401263937428L22.25,183.74354081184725L22.5,183.28023197465987L22.75,182.90417209095526L23,182.59937725922623L23.25,182.382714370328L23.5,182.3892910184129L23.75,182.15429366439628L24,182.86861331992804L24.25,182.6374738944189L24.5,182.3959585780329L24.75,182.1927704020389L25,182.04304720077934L25.25,182.0437806017362L25.5,181.90430881470334L25.75,181.7889954875503L26,181.9583916024886L26.25,181.9171366898802L26.5,181.80516687432407L26.75,181.73454235055692L27,181.68842364310115L27.250000000000004,189.56546937812416L27.500000000000004,190.42198086952604L27.750000000000004,189.4873288939596L28.000000000000004,188.15453525818197L28.249999999999996,186.8776100371184L28.499999999999996,185.74286556461016L28.749999999999996,198.09741753401173L28.999999999999996,199.74067290454036L29.25,198.6050150928679L29.5,196.0163606786485L29.75,193.3318817313724L30,190.89561731873894L30.25,188.94937801891624L30.5,187.42310070833176L30.75,186.22746132165403L31,185.2727466036477L31.25,184.51000159213277L31.5,183.89594728793034L31.75,183.3686908230948L32,182.93559504109643L32.25,182.58935529083735L32.5,182.30121527739172L32.75,183.82396939087405L33,184.70328721840224L33.25,184.70698785210834L33.5,184.27826551933325L33.75,189.29981483326364L34,189.190717195752L34.25,187.99362498407802L34.5,186.682673346355L34.75,185.54936942667877L35,184.63362471883195L35.25,183.90568461655045L35.5,183.34050129056286L35.75,182.96006810238418L36,182.6320149053108L36.25,182.36088970436128L36.5,182.21784878767954L36.75,182.10571148809635L37,181.92387646186617L37.25,181.6716909220872L37.5,181.50408360535232L37.75,181.38525030807793L38,181.35757248372028L38.25,181.28364292440213L38.5,181.24789120166915L38.75,181.234254007718L39,181.22413751240828L39.25,181.19702562065984L39.5,181.13221199714275L39.75,181.04437702876683L40,180.94625629526124L40.25,181.4382388881321L40.5,182.01350801791395L40.75,182.00397486564748L41,181.8057544373592L41.25,181.59683391424963L41.5,181.43436456671225L41.75,181.312456754027L42,181.19023714794912L42.25,181.04956438142656L42.5,180.93127335927713L42.75,180.81129937404822L43,180.73259939338584L43.25,180.79141288668063L43.5,180.74716418118024L43.75,180.73663342187686L44,180.73954442943904L44.25,180.74739558064667L44.5,180.76180231561113L44.75,180.76740144653704L45,180.77143440987615L45.25,180.72623372391612L45.5,180.65925172450855L45.75,181.32463703823723L46,183.6243017770781L46.25,183.9042444172588L46.5,183.35846190063862L46.75,183.0782823910749L47,182.61187026062535L47.25,182.18502669335362L47.5,182.0100059833027L47.75,181.9540941689332L48,181.66522881126545L48.25,181.2782817586107L48.5,180.9216172600047L48.75,180.68129851509045L49,180.54776187718704L49.25,180.47589102249208L49.5,180.4328970791863L49.75,180.4150059427175L50,180.40762690653577L50.24999999999999,180.41760003264628L50.5,180.7687532242463L50.74999999999999,182.03362875388726L51,182.24299343581637L51.24999999999999,181.91180877827716L51.5,181.44995742833075L51.74999999999999,181.15567871501173L52,180.8532225422562L52.25,180.6211301899254L52.5,180.4577424024731L52.75,180.35487238312183L53,181.14453223405928L53.25,181.57798555393293L53.5,181.42570810796755L53.75,180.9769609155159L54,180.50195989736474L54.25,180.06488971540543L54.50000000000001,179.69525592807216L54.75,179.46407399590925L55.00000000000001,179.33375292234314L55.25,179.26920507036832L55.50000000000001,179.3176304499551L55.75,179.320225459373L56.00000000000001,179.25342501769387L56.25,179.13935029586005L56.49999999999999,178.97429754268273L56.75,178.77942138970235L56.99999999999999,178.67456600488626L57.25,178.6724442866416L57.49999999999999,178.56043012361224L57.75,178.512419781826L57.99999999999999,178.59538674678296L58.25,178.58970627130324L58.5,178.53559923254028L58.75,178.42146187145045L59,178.1896275292664L59.25,177.9874495613619L59.5,177.8413807706248L59.75,177.72103827170338L60,177.65672869618288L60.25,177.6252155142793L60.5,177.6259104447231L60.75000000000001,177.6518857528538L61,177.6433430401965L61.25000000000001,177.54316706778346L61.5,177.41047157948623L61.75000000000001,177.18337984446572L62,176.94912896326858L62.25000000000001,176.7802285495899L62.5,176.699175033124L62.74999999999999,176.72970866074914L63,176.7522091759677L63.24999999999999,176.7923208606219L63.5,176.81614377340912L63.74999999999999,176.76337402305452L64,176.57455001650575L64.25,176.28599749557773L64.5,176.02783972115955L64.75,175.88044589475732L65,175.79699972507817L65.25,175.8265891077273L65.5,176.00079700773904L65.75,177.64790597320626L66,178.52742796529307L66.25,178.70777050204666L66.5,178.1063523739951L66.75,177.6107185009082L67,177.09896051927512L67.25,176.60428236122982L67.5,176.17436222202042L67.75,175.93271228697495L68,176.1207754961069L68.25,175.69887218157868L68.5,175.50697202036878L68.75,175.6212175230412L69,175.26913482403995L69.25,174.72957254004342L69.5,174.08885514473474L69.75,173.43268164908318L70,172.91840450150772L70.25,172.47435649619197L70.5,172.66254750618378L70.75,173.38780756425157L71,173.28689752479661L71.25,172.83071811514418L71.5,172.38864217210937L71.75,171.829195418135L72,171.12965600366073L72.25,170.30789677810222L72.5,169.6151473283943L72.75,170.16405566841445L73,172.29856948212L73.25,172.5481468789499L73.5,171.6089190963522L73.75,170.56708265160475L74,169.61210834808767L74.25,168.72067008059912L74.5,167.83380094569947L74.75,166.98132001322662L75,166.18299759122146L75.25,165.5347042233157L75.5,164.95089851737657L75.75,164.591981694604L76,164.30085366144937L76.25,164.11792132040293L76.5,163.93864955256592L76.75,163.72965509023052L77,163.46698733070684L77.25,163.20353326061567L77.5,162.79435883247007L77.75,162.36184243848967L78,161.84082973749787L78.25,161.29324511567688L78.5,160.77919033785884L78.75,160.46185099120535L79,160.19219933732435L79.25,159.89780928936602L79.5,159.56884529035798L79.75,159.20312533295592L80,158.79333731051133L80.25,158.27538947840188L80.5,157.66372858820566L80.75,157.01513455090495L81,156.36653278774224L81.25,155.78699550189523L81.5,155.26760766428694L81.75,154.7943369119441L82,154.32261761666183L82.25,153.86600123421738L82.5,153.40286386388001L82.75,152.92736784708922L83,152.41523282520095L83.25,151.82765111443024L83.5,151.14195782273723L83.75,150.4530078585048L84,149.7304987491381L84.25,149.0596633512534L84.5,148.38767872827566L84.75,147.7684117808886L85,147.1865393640541L85.25,146.6286579352082L85.5,146.0550876194912L85.75,145.44887307394401L86,144.79346079743195L86.25,144.04436714502208L86.5,143.2453765739484L86.75,142.3991731663151L87,141.56847424497076L87.25,140.80637878246966L87.5,140.122096820875L87.75,139.46416877857365L88,138.82329343309118L88.25,138.18543033915813L88.5,137.51413402689255L88.75,136.77867534578093L89,135.9802704316241L89.25,135.18811840829497L89.5,134.3914659019853L89.75,133.59379991197676L90,132.84879779980986L90.25,132.1400125398732L90.5,131.45301154787495L90.75,130.76163516559208L91,130.0597299337518L91.25,129.33114177792805L91.5,128.53229920086164L91.75,127.6848572814699L92,126.82382951980014L92.25,125.99765290711787L92.5,125.22100387266408L92.75,124.5002902478519L93,123.79777654576051L93.25,123.10321860361549L93.5,122.42350625984848L93.75,121.74006188592266L94,121.05405955017021L94.25,120.3406876630916L94.5,119.57963360108408L94.75,118.77793038184538L95,117.95716546813368L95.25,117.1447839589181L95.5,116.34346911254L95.75,115.58129807007238L96,114.83333374356573L96.25,114.12946161424458L96.5,113.43864605194595L96.75,112.73355512590703L97,112.01134668321711L97.25,111.24181119672426L97.5,110.41030707905635L97.75,109.55165307255434L98,108.65825819027854L98.25,107.82311708012611L98.5,107.05992492436312L98.75,106.34403955432123L99,105.67355853247655L99.25,105.00820698937805L99.5,104.34696018136376L99.75,103.65341885652172L100,102.90780342205635L100.25,102.11508152911222L100.49999999999999,101.34784340137787L100.75,100.60214024625233L101,99.89587588824078L101.25,99.24542482661904L101.49999999999999,98.61919313861102L101.75,98.00809722264101L102,97.3897693448565L102.25,96.74997232989062L102.49999999999999,96.0618280322213L102.75000000000001,95.28564545578185L103,94.5343195186135L103.25,93.80185438865576L103.49999999999999,93.14544256825783L103.75000000000001,92.51111228164584L104,91.92604562358049L104.25,91.35697728127636L104.5,90.79283343661866L104.75000000000001,90.21676989536338L105,89.58773570986128L105.25,88.89285354954349L105.5,88.14282421874138L105.75000000000001,87.46558297190256L106,86.79274701301102L106.25,86.1946902167051L106.5,85.6502346402187L106.74999999999999,85.1197903143189L107,84.59730498682256L107.25,84.05414660719144L107.5,83.45613604879978L107.74999999999999,82.74441106565614L108,82.04082059567419L108.25,81.33976728762482L108.5,80.70259213098406L108.74999999999999,80.1352550085509L109.00000000000001,79.63414611750149L109.25,79.13802902893006L109.5,78.64622342231293L109.74999999999999,78.14739870889153L110.00000000000001,77.62619930249792L110.25,77.04907838520296L110.5,76.4271454119697L110.75,75.81105800197659L111.00000000000001,75.19592422605822L111.25,74.60117027666071L111.5,74.05611360359774L111.75,73.5142067562955L112.00000000000001,72.99788452921972L112.25,72.48943971266269L112.5,71.97973793829962L112.75,71.46229217833424L112.99999999999999,70.90020515411248L113.25,70.26637236466742L113.5,69.59507943198606L113.75,68.9589951381246L113.99999999999999,68.35999790264535L114.25,67.81645928747344L114.5,67.33533542997854L114.75,66.89429530235923L114.99999999999999,66.46589037297663L115.25000000000001,66.02171563741214L115.5,65.5288594584746L115.75,64.95691769617862L115.99999999999999,64.32720979565654L116.25000000000001,63.756370672431984L116.5,63.196985064560685L116.75,62.73373166125125L117,62.32641731480237L117.25000000000001,61.94847641761933L117.5,61.5777364270452L117.75,61.197460874366946L118,60.781986730048864L118.25000000000001,60.292739015913895L118.5,59.77531483716676L118.75,59.24210430284435L119,58.7302414026083L119.24999999999999,58.27557024741496L119.5,57.881525820786365L119.75,57.51668137823047L120,57.17845960950321L120.24999999999999,56.84783059414429L120.5,56.522132725301354L120.75,56.18977325326793L121,55.83726020313231L121.24999999999999,55.44660810078297L121.50000000000001,54.98387301426932L121.75,54.528112252715545L122,54.068134548205094L122.24999999999999,53.61207400205017L122.50000000000001,53.22647077404339L122.75,52.891231742495194L123,52.580227090910505L123.25,52.269868927563714L123.50000000000001,51.95513955691871L123.75,51.61474819620779L124,51.20727993302785L124.25,50.744192848109805L124.50000000000001,50.267973695169154L124.75,49.839142401024695L125,49.46382629075225L125.25,49.156164070173894L125.49999999999999,48.86885911363381L125.75,48.592935822875404L126,48.33944500502347L126.25,48.08460133310901L126.49999999999999,47.83177482050485L126.75,47.55369026593756L127,47.228734775201666L127.25,46.86314132166329L127.49999999999999,46.47758662451649L127.75000000000001,46.112487684316235L128,45.76700400437686L128.25,45.46801347571097L128.5,45.192032049145325L128.75,44.96649106150203L129,44.759098852274604L129.25,44.539839048172425L129.5,44.30404692304999L129.75,44.021069912898135L130,43.679454729597666L130.25,43.308390288462405L130.5,42.89335046673466L130.75,42.540574802127715L131,42.259029453908695L131.25,42.02713387065975L131.5,41.84518859093096L131.75,41.66301921649698L132,41.48986899398195L132.25,41.278971850301495L132.5,41.00618243997685L132.75,40.703648376877325L133,40.4071580150724L133.25,40.10357390658752L133.5,39.84320275182063L133.75,39.61489573201214L134,39.44124645095266L134.25,39.2794606747779L134.5,39.12001761442825L134.75,38.94671141161361L135,38.737894276401974L135.25,38.46041936433282L135.5,38.13697551546289L135.75,37.83335248268658L136,37.560603470407436L136.25,37.3514475397531L136.5,37.19339649417874L136.75,37.05015788569277L137,36.930263339261636L137.25,36.81699712990883L137.5,36.7043350699255L137.75,36.57942903651205L138,36.42091208715692L138.25,36.211608229244675L138.5,35.955977192947856L138.75,35.70895830394569L139,35.46303325497855L139.25,35.24262831944775L139.5,35.06734742075599L139.75,34.91585697312913L140,34.807927501052795L140.25,34.709338221216356L140.5,34.593648111866756L140.75,34.45693287877531L141,34.26543543392307L141.25,34.01128314134192L141.5,33.72438339488979L141.75,33.41581368937503L142,33.18820306327566L142.25,33.01358166008668L142.5,32.89369203322685L142.75,32.795838751264995L143,32.714336849709724L143.25,32.615476833337894L143.5,32.46641812132809L143.75,32.26096108512566L144,32.026187114461415L144.25,31.80815070873182L144.5,31.609457142184905L144.75,31.448232629493724L145,31.339172788756485L145.25,31.246297806765L145.5,31.149770678958276L145.75,31.045594847489344L146,30.904149087774947L146.25,30.69561748826979L146.5,30.430440141077007L146.75,30.1661788203589L147,29.927271306465663L147.25,29.783604592956102L147.5,29.655780446593518L147.75,29.562040591223273L148,29.490696589512176L148.25,29.42142909470482L148.5,29.31991380634207L148.75,29.148703258616425L149,28.929920003900712L149.25,28.66953110975736L149.5,28.430979275648703L149.75,28.254940893724424L150,28.16056708370227L150.25,28.05479238078521L150.5,27.940211448761264L150.75,27.818856356578415L151,27.692318472786837L151.25,27.56184386322227L151.5,27.4284080717591L151.75,27.29277471074689L152,27.15554135700684L152.25,27.017175471184718L152.5,26.878042671301984L152.75,26.738428773977674L153,26.59855707579908L153.25,26.458601908427482L153.5,26.318699212403175L153.75,26.178954938837883L154,26.03945151270073L154.25,25.900252902367548L154.5,25.761408722433153L154.75,25.622957371104516L155,25.484928322176348L155.25,25.34734415850577L155.5,25.21022205556065L155.75,25.07357492917408L156,24.93741244081855L156.25,24.801741652335796L156.5,24.666567613824462L156.75,24.53189382454739L157,24.39772254247501L157.25,24.264055054665267L157.5,24.130891865144388L157.75,23.998232954243328L158,23.866077857785605L158.25,23.73442575026301L158.5,23.603275528532542L158.75,23.47262584778742L159,23.342475248748617L159.25,23.21282214578664L159.5,23.08366488197415L159.75,22.9550017271559L160,22.826830884504545L160.25,22.69915052397058L160.5,22.571958738566302L160.75,22.44525364203911L161,22.319033393668384L161.25,22.193296068014746L161.5,22.06803972044431L161.75,21.94326248088869L162,21.81896245675512L162.25,21.695137705699707L162.5,21.57178632632586L162.75,21.44890923776068L163,21.32650864599961L163.25,21.204585483618587L163.5,21.08313974118432L163.75,20.962170704520467L164,20.841677088779285L164.25,20.721657290457564L164.5,20.60210949367358L164.75,20.483031594624123L165,20.364421411989554L165.25,20.24627667840855L165.5,20.128595031111285L165.75,20.011374212113964L166,19.89461192909594L166.25,19.778305834643817L166.5,19.66245365807724L166.75,19.54705316856733L167,19.432102160783348L167.25,19.317598465158547L167.5,19.203539944771887L167.75,19.089924509930945L168,18.97675005896118L168.25,18.86401455491424L168.5,18.751716057650093L168.75,18.639852563114225L169,18.5284221279983L169.25,18.41742285394572L169.5,18.306852866463984L169.75,18.19671032063306L170,18.086993346615564L170.25,17.97770013328317L170.5,17.868828960945194L170.75,17.760378076097737L171,17.652345684828894L171.25,17.54473005944954L171.5,17.437529483710268L171.75,17.33074227262521L172,17.22436674657557L172.25,17.118401238730364L172.5,17.01284405398504L172.75,16.907693541570822L173,16.802948121602324L173.25,16.698606132435945L173.5,16.59466596794379L173.75,16.491126085166098L174,16.387984858562188L174.25,16.28524065816215L174.5,16.182891949377233L174.75,16.080937179888146L175,15.979374797214806L175.25,15.878205371435627L175.5,15.777430221691446L175.75,15.67704982889666L176,15.577064033662303L176.25,15.477472180603847L176.5,15.378273262170318L176.75,15.279465997465058L177,15.181048916198403L177.25,15.083020424486971L177.5,14.985378838479079L177.75,14.888122415993777L178,14.791249384301185L178.25,14.694757909293642L178.5,14.598646187932985L178.75,14.50291248931579L179,14.407555008116525L179.25,14.312571995190225L179.5,14.217961778925336L179.75,14.123722629041069L180,14.029852824448952L180.25,13.936350765463512L180.5,13.84321484598241L180.75,13.750443465353236L181,13.65803504424774L181.25,13.565987986485917L181.5,13.474300757635383L181.75,13.382971889574403L182,13.29199990383023L182.25,13.201383280008638L182.5,13.111120554573773L182.75,13.02121028769534L183,12.931651042259617L183.25,12.842441397182958L183.5,12.753579960601424L183.75,12.665065297632626L184,12.576896026723938L184.25,12.489070842038497L184.5,12.401588404026986L184.75,12.314447370500181L185,12.22764635818181L185.25,12.141184025965778L185.5,12.055059102140863L185.75,11.96927024322163L186,11.883816145356562L186.25,11.798695519716551L186.5,11.713907084196729L186.75,11.629449564715921L187,11.545321645763362L187.25,11.461522101636646L187.5,11.378049672482572L187.75,11.29490419583641L188,11.212086825599798L188.25,11.129597898883858L188.5,11.04743711235825L188.75,10.96560377264042L189,10.88409688052765L189.25,10.802915261884127L189.5,10.722057540752061L189.75,10.641522161255711L190,10.561307544761366L190.25,10.481412100860933L190.5,10.401834223774964L190.75,10.322572303955702L191,10.243624691787524L191.25,10.164989789542588L191.5,10.086666077407713L191.75,10.008652026615872L192,9.930946122325036L192.25,9.85354681225099L192.5,9.77645261734481L192.75,9.699662158075938L193,9.62317399232786L193.25,9.546986746336671L193.5,9.471099063294597L193.75,9.39550961040927L194,9.320217074664194L194.25,9.24522016440692L194.5,9.170517598171557L194.75,9.096108113661927L195,9.021990474602703L195.25,8.948163458211699L195.5,8.874625857573903L195.75,8.801376425302564L196,8.728413971787962L196.25,8.655737384681217L196.5,8.583345518704855L196.75,8.511237182281107L197,8.439411238176952L197.25,8.367866556209623L197.5,8.296602074068659L197.75,8.225616692290604L198,8.15490926287097L198.25,8.084478687008012L198.5,8.01432388391361L198.75,7.944443781992372L199,7.874837315038485L199.25,7.805503436298977L199.5,7.736441043389508L199.75,7.667649075629024L200,7.599125983949828\" stroke=\"#4c78a8\" stroke-width=\"2\"/></g></g><path class=\"foreground\" aria-hidden=\"true\" d=\"\" display=\"none\"/></g><g transform=\"translate(0,0)\"><path class=\"background\" aria-hidden=\"true\" d=\"M0,0h200v200h-200Z\"/><g><g class=\"mark-line role-mark marks\" role=\"graphics-object\" aria-roledescription=\"line mark container\"><path aria-label=\"Year: 1765; value: 0.00506084984256; variable: FUNDFAIR\" role=\"graphics-symbol\" aria-roledescription=\"line mark\" d=\"M16.25,181.72616636649894L16.5,181.6497772711463L16.75,181.57038155399786L17,181.42273461260808L17.25,181.25120787624658L17.5,181.06581134315974L17.75,180.96322063290197L18,180.9672285759868L18.25,180.9722230718454L18.5,180.98823729792275L18.75,181.05503303659512L19,181.11729601623992L19.25,181.15086021873194L19.5,181.1659169369033L19.75,181.26588046584473L20,181.34107765532477L20.25,181.3640467605649L20.5,181.330745018217L20.75,190.3160277813535L21,189.01639060509353L21.25,187.52155295938203L21.5,186.20382218972594L21.75,185.10787556083267L22,184.3401263937428L22.25,183.74354081184725L22.5,183.28023197465987L22.75,182.90417209095526L23,182.59937725922623L23.25,182.382714370328L23.5,182.3892910184129L23.75,182.15429366439628L24,182.86861331992804L24.25,182.6374738944189L24.5,182.3959585780329L24.75,182.1927704020389L25,182.04304720077934L25.25,182.0437806017362L25.5,181.90430881470334L25.75,181.7889954875503L26,181.9583916024886L26.25,181.9171366898802L26.5,181.80516687432407L26.75,181.73454235055692L27,181.68842364310115L27.250000000000004,189.56546937812416L27.500000000000004,190.42198086952604L27.750000000000004,189.4873288939596L28.000000000000004,188.15453525818197L28.249999999999996,186.8776100371184L28.499999999999996,185.74286556461016L28.749999999999996,198.09741753401173L28.999999999999996,199.74067290454036L29.25,198.6050150928679L29.5,196.0163606786485L29.75,193.3318817313724L30,190.89561731873894L30.25,188.94937801891624L30.5,187.42310070833176L30.75,186.22746132165403L31,185.2727466036477L31.25,184.51000159213277L31.5,183.89594728793034L31.75,183.3686908230948L32,182.93559504109643L32.25,182.58935529083735L32.5,182.30121527739172L32.75,183.82396939087405L33,184.70328721840224L33.25,184.70698785210834L33.5,184.27826551933325L33.75,189.29981483326364L34,189.190717195752L34.25,187.99362498407802L34.5,186.682673346355L34.75,185.54936942667877L35,184.63362471883195L35.25,183.90568461655045L35.5,183.34050129056286L35.75,182.96006810238418L36,182.6320149053108L36.25,182.36088970436128L36.5,182.21784878767954L36.75,182.10571148809635L37,181.92387646186617L37.25,181.6716909220872L37.5,181.50408360535232L37.75,181.38525030807793L38,181.35757248372028L38.25,181.28364292440213L38.5,181.24789120166915L38.75,181.234254007718L39,181.22413751240828L39.25,181.19702562065984L39.5,181.13221199714275L39.75,181.04437702876683L40,180.94625629526124L40.25,181.4382388881321L40.5,182.01350801791395L40.75,182.00397486564748L41,181.8057544373592L41.25,181.59683391424963L41.5,181.43436456671225L41.75,181.312456754027L42,181.19023714794912L42.25,181.04956438142656L42.5,180.93127335927713L42.75,180.81129937404822L43,180.73259939338584L43.25,180.79141288668063L43.5,180.74716418118024L43.75,180.73663342187686L44,180.73954442943904L44.25,180.74739558064667L44.5,180.76180231561113L44.75,180.76740144653704L45,180.77143440987615L45.25,180.72623372391612L45.5,180.65925172450855L45.75,181.32463703823723L46,183.6243017770781L46.25,183.9042444172588L46.5,183.35846190063862L46.75,183.0782823910749L47,182.61187026062535L47.25,182.18502669335362L47.5,182.0100059833027L47.75,181.9540941689332L48,181.66522881126545L48.25,181.2782817586107L48.5,180.9216172600047L48.75,180.68129851509045L49,180.54776187718704L49.25,180.47589102249208L49.5,180.4328970791863L49.75,180.4150059427175L50,180.40762690653577L50.24999999999999,180.41760003264628L50.5,180.7687532242463L50.74999999999999,182.03362875388726L51,182.24299343581637L51.24999999999999,181.91180877827716L51.5,181.44995742833075L51.74999999999999,181.15567871501173L52,180.8532225422562L52.25,180.6211301899254L52.5,180.4577424024731L52.75,180.35487238312183L53,181.14453223405928L53.25,181.57798555393293L53.5,181.42570810796755L53.75,180.9769609155159L54,180.50195989736474L54.25,180.06488971540543L54.50000000000001,179.69525592807216L54.75,179.46407399590925L55.00000000000001,179.33375292234314L55.25,179.26920507036832L55.50000000000001,179.3176304499551L55.75,179.320225459373L56.00000000000001,179.25342501769387L56.25,179.13935029586005L56.49999999999999,178.97429754268273L56.75,178.77942138970235L56.99999999999999,178.67456600488626L57.25,178.6724442866416L57.49999999999999,178.56043012361224L57.75,178.512419781826L57.99999999999999,178.59538674678296L58.25,178.58970627130324L58.5,178.53559923254028L58.75,178.42146187145045L59,178.1896275292664L59.25,177.9874495613619L59.5,177.8413807706248L59.75,177.72103827170338L60,177.65672869618288L60.25,177.6252155142793L60.5,177.6259104447231L60.75000000000001,177.6518857528538L61,177.6433430401965L61.25000000000001,177.54316706778346L61.5,177.41047157948623L61.75000000000001,177.18337984446572L62,176.94912896326858L62.25000000000001,176.7802285495899L62.5,176.699175033124L62.74999999999999,176.73725360730717L63,176.77156617795438L63.24999999999999,176.82593508216934L63.5,176.86577239487087L63.74999999999999,176.8321549326258L64,176.6659133376281L64.25,176.40258090532956L64.5,176.17161061058786L64.75,176.0516773821819L65,175.99603547014826L65.25,176.05329318018934L65.5,176.2550174918354L65.75,177.93013801720167L66,178.8383621884325L66.25,179.04810676240018L66.5,178.47734518985692L66.75,178.01297563457524L67,177.53263437259454L67.25,177.07042722088576L67.5,176.67546346036397L67.75,176.46956709112266L68,176.6946085053721L68.25,176.31196221757813L68.5,176.1597969551532L68.75,176.3124478180128L69,176.00070425017225L69.25,175.5032035798854L69.5,174.90521905465872L69.75,174.29403696350653L70,173.82498386377367L70.25,173.42412523681222L70.5,173.65501797179869L70.75,174.4220818974858L71,174.36402426669423L71.25,173.95266384137292L71.5,173.55802357955895L71.75,173.0485905826967L72,172.40258200799067L72.25,171.63719851399293L72.5,171.00049164481354L72.75,171.60668096471508L73,173.79604618967173L73.25,174.09744288652692L73.5,173.20882292157197L73.75,172.21772768539734L74,171.31320181031631L74.25,170.47053318299623L74.5,169.62884706145095L74.75,168.8176887883736L75,168.0580378991802L75.25,167.4455471971588L75.5,166.89609468639915L75.75,166.57297410507758L76,166.32171483955105L76.25,166.18283823447874L76.5,166.05094248995633L76.75,165.89216857491783L77,165.6823163148205L77.25,165.47417035145685L77.5,165.12276794204723L77.75,164.75134172428076L78,164.29522378519206L78.25,163.81663008647357L78.5,163.37579494624669L78.75,163.13591851800018L79,162.94786240991363L79.25,162.73907876738062L79.5,162.49960632971388L79.75,162.22712766179185L80,161.9141868974978L80.25,161.49618552903186L80.5,160.98720019411644L80.75,160.4437140248287L81,159.90238454569385L81.25,159.43203071394728L81.5,159.02353254369444L81.75,158.66267849153084L82,158.30474630060348L82.25,157.96316265477384L82.5,157.6161903377352L82.75,157.2586107097833L83,156.8665395882419L83.25,156.40142195058158L83.5,155.84075484129886L83.75,155.27949120282892L84,154.68734731156655L84.25,154.14954341601836L84.5,153.6131899159931L84.75,153.1320790714394L85,152.69078318512513L85.25,152.27618473433233L85.5,151.84877482878198L85.75,151.3916989478278L86,150.88845527757223L86.25,150.29457969658333L86.5,149.6538648760144L86.75,148.96897705811307L87,148.3026018960528L87.25,147.70778125781197L87.5,147.19364324069505L87.75,146.7086573968457L88,146.2434220564651L88.25,145.78377300650968L88.5,145.29312791075006L88.75,144.74062031791567L89,144.1273325765779L89.25,143.52233012254888L89.5,142.91471003917567L89.75,142.30780794745542L90,141.7551462730864L90.25,141.2393885098779L90.5,140.74542070778116L90.75,140.24655360845966L91,139.73622180619353L91.25,139.19794578528754L91.5,138.58789472049176L91.75,137.92751996539755L92,137.25166439680035L92.25,136.60861358591254L92.5,136.01290085720174L92.75,135.470211222756L93,134.94226525108925L93.25,134.4184107980332L93.5,133.90523083222718L93.75,133.38391478865486L94,132.85546113847562L94.25,132.29496122359382L94.5,131.682066371473L94.75,131.0238188123509L95,130.3418471183577L95.25,129.66336209715558L95.5,128.9909047977471L95.75,128.35247867357194L96,127.72312378963129L96.25,127.13274214161916L96.5,126.55034285367543L96.75,125.94866082869558L97,125.32493587602485L97.25,124.64905059164906L97.5,123.90646215719319L97.75,123.13181988153632L98,122.31743580769216L98.25,121.55626124624712L98.5,120.86199489333045L98.75,120.2100370208284L99,119.59855505577166L99.25,118.98736359532353L99.5,118.37553792466011L99.75,117.72678598600504L100,117.0214366190259L100.25,116.26433770598172L100.49999999999999,115.52807126780893L100.75,114.80877338344939L101,114.12450368828134L101.25,113.49184830135883L101.49999999999999,112.87950098051911L101.75,112.27872384436863L102,111.66749567745235L102.25,111.03192158207742L102.49999999999999,110.34545872598112L102.75000000000001,109.5687404708352L103,108.814967909679L103.25,108.07845689837148L103.49999999999999,107.41671419722172L103.75000000000001,106.77609229261111L104,106.18409319364179L104.25,105.60777038362698L104.5,105.03635978939786L104.75000000000001,104.45331582473986L105,103.8178728166499L105.25,103.11741975316919L105.5,102.36290569959922L105.75000000000001,101.68250168462696L106,101.00807188609377L106.25,100.4102315424932L106.5,99.86806008196135L106.74999999999999,99.34221869973221L107,98.82689197363877L107.25,98.29367016147843L107.5,97.70857868768235L107.74999999999999,97.01293934928188L108,96.32875971284463L108.25,95.65059891766998L108.5,95.03995014382092L108.74999999999999,94.50292804733247L109.00000000000001,94.03607705842177L109.25,93.57831059590357L109.5,93.12908380525558L109.74999999999999,92.67718809951396L110.00000000000001,92.20737614688986L110.25,91.68619517072271L110.5,91.1248323529868L110.75,90.57401064510535L111.00000000000001,90.02889816995365L111.25,89.50897473787344L111.5,89.04360648181672L111.75,88.58629157454033L112.00000000000001,88.15950130342036L112.25,87.74555810347933L112.5,87.33534850697708L112.75,86.92157953271185L112.99999999999999,86.46673185084899L113.25,85.94321429184957L113.5,85.38492889164937L113.75,84.86424371504025L113.99999999999999,84.38280586757526L114.25,83.9588086368174L114.5,83.5990711739906L114.75,83.28115675241644L114.99999999999999,82.97753280213863L115.25000000000001,82.65972441387488L115.5,82.29475859847963L115.75,81.85217413788321L115.99999999999999,81.35323483178807L116.25000000000001,80.91452224647182L116.5,80.48857542383716L116.75,80.16003015315995L117,79.88865588793497L117.25000000000001,79.64785108263636L117.5,79.41540641215656L117.75,79.17454646122191L118,78.8995664963852L118.25000000000001,78.55184641635798L118.5,78.17693396795593L118.75,77.78716840321036L119,77.41963209930158L119.24999999999999,77.11011809269166L119.5,76.86201159388526L119.75,76.64383679934643L120,76.4529665646086L120.24999999999999,76.27032019949279L120.5,76.09318390142943L120.75,75.90991144835664L121,75.7069560632955L121.24999999999999,75.46627612052772L121.50000000000001,75.15387014184243L121.75,74.84873622470096L122,74.53962444632892L122.24999999999999,74.2346105729313L122.50000000000001,74.00017687521911L122.75,73.81617384989248L123,73.65641608597086L123.25,73.497260262449L123.50000000000001,73.3336330884818L123.75,73.14418810375298L124,72.8874545537665L124.25,72.574834316182L124.50000000000001,72.24875807720078L124.75,71.96969049031236L125,71.74370490999202L125.25,71.58487464596377L125.49999999999999,71.44583087853118L125.75,71.31752173359746L126,71.21091991100657L126.25,71.10216190762524L126.49999999999999,70.99454068839437L126.75,70.86070604117336L127,70.67897272218255L127.25,70.4555044705267L127.49999999999999,70.21091219762914L127.75000000000001,69.98555066988953L128,69.77852067011638L128.25,69.61664483414563L128.5,69.47638707352198L128.75,69.38512987569061L129,69.31053556974149L129.25,69.22254467398572L129.5,69.11645227560166L129.75,68.96156838437142L130,68.74640514557755L130.25,68.50011967950577L130.5,68.20815636306212L130.75,67.9767275733619L131,67.81477322433551L131.25,67.70068735438342L131.5,67.63474652922919L131.75,67.56675358786852L132,67.50593077459615L132.25,67.40549235838118L132.5,67.24127523732805L132.75,67.04541127855452L133,66.85367428631766L133.25,66.65291272009092L133.5,66.49341987067655L133.75,66.3640331585678L134,66.28728777713818L134.25,66.22033068426451L134.5,66.15359523569563L134.75,66.07083817681973L135,65.95037822240235L135.25,65.75903455089565L135.5,65.51945635672374L135.75,65.2973932466352L136,65.10386860935506L136.25,64.97158139913799L136.5,64.88803585400795L136.75,64.81693948624783L137,64.76682383039274L137.25,64.72108047706446L137.5,64.6740819779498L137.75,64.61337528944762L138,64.51789949478149L138.25,64.37071177469511L138.5,64.1764455976334L138.75,63.99016840590941L139,63.80447608827502L139.25,63.643883736950954L139.5,63.528067810614665L139.75,63.43575730149817L140,63.3867743457261L140.25,63.34691744221412L140.5,63.28976106355337L140.75,63.21138970386691L141,63.07804933831675L141.25,62.88186129599496L141.5,62.65271891537887L141.75,62.40168371380863L142,62.231368914460596L142.25,62.11380298844185L142.5,62.05073392449674L142.75,62.009477377310574L143,61.984359407751775L143.25,61.941680695721146L143.5,61.84860569288233L143.75,61.69893150520069L144,61.51972794484175L144.25,61.35703625180502L144.5,61.213453177377765L144.75,61.10710043976917L145,61.0526745853341L145.25,61.01420276843974L145.5,60.97185503089677L145.75,60.92163938607407L146,60.83393675131259L146.25,60.67892778420785L146.5,60.467041163576795L146.75,60.255822446566754L147,60.06969664077189L147.25,59.978543659501746L147.5,59.90297105572024L147.75,59.86122666437568L148,59.84163054218834L148.25,59.823872251145275L148.5,59.773634261002464L148.75,59.65347011639619L149,59.48549449041272L149.25,59.27566233609174L149.5,59.087401729339284L149.75,58.9613799350351L150,58.916747920001434L150.25,58.8604541051633L150.5,58.79510298288129L150.75,58.722733552621634L151,58.64494208771311L151.25,58.56297816157412L151.5,58.477819878055556L151.75,58.39023278068423L152,58.300815972369605L152.25,58.210038189714844L152.5,58.11826618214943L152.75,58.025786823564744L153,57.932824439274896L153.25,57.83955438939521L153.5,57.746113659016075L153.75,57.652609268227195L154,57.559124738458166L154.25,57.465725161729075L154.5,57.372461301143595L154.75,57.27937272486976L155,57.18649009421777L155.25,57.093837193108385L155.5,57.00143240776645L155.75,56.90928987091104L156,56.817420463825584L156.25,56.72583246828076L156.5,56.63453215199967L156.75,56.54352422751041L157,56.45281215997253L157.25,56.36239843613937L157.5,56.27228475108457L157.75,56.182472266609466L158,56.0929616897075L158.25,56.003753355181416L158.5,55.914847308923335L158.75,55.82624334358288L159,55.73794112555128L159.25,55.649940182961835L159.5,55.562239960685744L159.75,55.4748398183994L160,55.38773903718144L160.25,55.30093685303474L160.5,55.21443241327093L160.75,55.12822487430038L161,55.04231342656725L161.25,54.956697164454106L161.5,54.871375151963896L161.75,54.78634651664089L162,54.70161035265595L162.25,54.617165693753854L162.5,54.53301160412196L162.75,54.4491492595224L163,54.36558126304738L163.25,54.282309052924994L163.5,54.1993332086409L163.75,54.11665366834333L164,54.034269847326776L164.25,53.95218087781919L164.5,53.87038570568543L164.75,53.788883007399924L165,53.70767139459429L165.25,53.62674940097109L165.5,53.546115469386436L165.75,53.46576814928532L166,53.3857059554586L166.25,53.30592734565178L166.5,53.22643085113214L166.75,53.14721503885698L167,53.06827849640607L167.25,52.98961984171782L167.5,52.9112377195827L167.75,52.83313081595187L168,52.75529779853878L168.25,52.677737393404044L168.5,52.60044841696876L168.75,52.523429615270544L169,52.44667978862147L169.25,52.37019777583938L169.5,52.29398243320533L169.75,52.21803264022957L170,52.14234724522812L170.25,52.06692514902036L170.5,51.991765337734684L170.75,51.916866757646794L171,51.842228308668716L171.25,51.76784895105983L171.5,51.69372765072906L171.75,51.61986339914326L172,51.5462551875167L172.25,51.4729020143156L172.5,51.39980284427856L172.75,51.32695668110379L173,51.25436259407663L173.25,51.18201956551067L173.5,51.109926628094506L173.75,51.038082872619974L174,50.96648730231203L174.25,50.8951389110482L174.5,50.824036783235215L174.75,50.75317998077011L175,50.682567560679125L175.25,50.61219997393573L175.5,50.54207857182895L175.75,50.472203985329855L176,50.402576296695536L176.25,50.33319516311971L176.5,50.26405994435341L176.75,50.195169768812335L177,50.12652360756027L177.25,50.0581203322978L177.5,49.989958742870314L177.75,49.92203759411906L178,49.85435561991905L178.25,49.78691149942547L178.5,49.71970394723868L178.75,49.652731752692404L179,49.585993631922285L179.25,49.51948835739495L179.5,49.45321477843534L179.75,49.38717168439324L180,49.321357872014325L180.25,49.2557722572772L180.5,49.190413747299864L180.75,49.12528125199884L181,49.0603736998112L181.25,48.99568999940842L181.5,48.93122911821661L181.75,48.86699008692952L182,48.8029719228227L182.25,48.73917359816788L182.5,48.675594139007636L182.75,48.61223259200862L183,48.54908800348681L183.25,48.486159432738994L183.5,48.42344596525543L183.75,48.360946640507116L184,48.298660548318686L184.25,48.23658685128316L184.5,48.17472467536889L184.75,48.113073141023555L185,48.0516313247572L185.25,47.99039834242451L185.5,47.929373376479575L185.75,47.86855553484186L186,47.80794396233014L186.25,47.747537816081675L186.5,47.6873362572833L186.75,47.62733845249949L187,47.56754352424786L187.25,47.507950682262255L187.5,47.44855909956334L187.75,47.38936950970918L188,47.330383860344206L188.25,47.2716032019747L188.5,47.2130278813198L188.75,47.15465780497068L189,47.09649253399264L189.25,47.03853142291577L189.5,46.980773599186264L189.75,46.92321799002619L190,46.86586348346531L190.25,46.80870894236202L190.5,46.75175320318892L190.75,46.69499508950634L191,46.63843337713365L191.25,46.58206688725699L191.5,46.525894513367305L191.75,46.4699151351166L192,46.41412764176953L192.25,46.35853088128798L192.5,46.303123771364966L192.75,46.247905325996385L193,46.1928744936136L193.25,46.13803028820842L193.5,46.08337173808914L193.75,46.028897893067565L194,45.9746078203223L194.25,45.92050060607393L194.5,45.866575344479024L194.75,45.812831146675826L195,45.759267147687034L195.25,45.705882493939164L195.5,45.65267634567638L195.75,45.599647820658994L196,45.546796092439855L196.25,45.494120409876416L196.5,45.44161998697442L196.75,45.389293989540235L197,45.33714163583824L197.25,45.285162149310466L197.5,45.23335481944271L197.75,45.181718896760124L198,45.130253581456124L198.25,45.07895812115088L198.5,45.02783177971603L198.75,44.976873828472485L199,44.926083542402814L199.25,44.87546021422864L199.5,44.82500307934296L199.75,44.77471141315632L200,44.72458400102115\" stroke=\"#e45756\" stroke-width=\"2\"/></g></g><path class=\"foreground\" aria-hidden=\"true\" d=\"\" display=\"none\"/></g></g><g class=\"mark-group role-legend\" role=\"graphics-symbol\" aria-roledescription=\"legend\" aria-label=\"Symbol legend titled 'variable' for stroke color with 3 values: FAIR, FUND, FUNDFAIR\"><g transform=\"translate(220,0)\"><path class=\"background\" aria-hidden=\"true\" d=\"M0,0h65v53h-65Z\" pointer-events=\"none\"/><g><g class=\"mark-group role-legend-entry\"><g transform=\"translate(0,16)\"><path class=\"background\" aria-hidden=\"true\" d=\"M0,0h0v0h0Z\" pointer-events=\"none\"/><g><g class=\"mark-group role-scope\" role=\"graphics-object\" aria-roledescription=\"group mark container\"><g transform=\"translate(0,0)\"><path class=\"background\" aria-hidden=\"true\" d=\"M0,0h65v11h-65Z\" pointer-events=\"none\" opacity=\"1\"/><g><g class=\"mark-symbol role-legend-symbol\" pointer-events=\"none\"><path transform=\"translate(6,6)\" d=\"M-5,0L5,0\" stroke=\"#4c78a8\" stroke-width=\"1.5\" opacity=\"1\"/></g><g class=\"mark-text role-legend-label\" pointer-events=\"none\"><text text-anchor=\"start\" transform=\"translate(16,9)\" font-family=\"sans-serif\" font-size=\"10px\" fill=\"#000\" opacity=\"1\">FAIR</text></g></g><path class=\"foreground\" aria-hidden=\"true\" d=\"\" pointer-events=\"none\" display=\"none\"/></g><g transform=\"translate(0,13)\"><path class=\"background\" aria-hidden=\"true\" d=\"M0,0h65v11h-65Z\" pointer-events=\"none\" opacity=\"1\"/><g><g class=\"mark-symbol role-legend-symbol\" pointer-events=\"none\"><path transform=\"translate(6,6)\" d=\"M-5,0L5,0\" stroke=\"#f58518\" stroke-width=\"1.5\" opacity=\"1\"/></g><g class=\"mark-text role-legend-label\" pointer-events=\"none\"><text text-anchor=\"start\" transform=\"translate(16,9)\" font-family=\"sans-serif\" font-size=\"10px\" fill=\"#000\" opacity=\"1\">FUND</text></g></g><path class=\"foreground\" aria-hidden=\"true\" d=\"\" pointer-events=\"none\" display=\"none\"/></g><g transform=\"translate(0,26)\"><path class=\"background\" aria-hidden=\"true\" d=\"M0,0h65v11h-65Z\" pointer-events=\"none\" opacity=\"1\"/><g><g class=\"mark-symbol role-legend-symbol\" pointer-events=\"none\"><path transform=\"translate(6,6)\" d=\"M-5,0L5,0\" stroke=\"#e45756\" stroke-width=\"1.5\" opacity=\"1\"/></g><g class=\"mark-text role-legend-label\" pointer-events=\"none\"><text text-anchor=\"start\" transform=\"translate(16,9)\" font-family=\"sans-serif\" font-size=\"10px\" fill=\"#000\" opacity=\"1\">FUNDFAIR</text></g></g><path class=\"foreground\" aria-hidden=\"true\" d=\"\" pointer-events=\"none\" display=\"none\"/></g></g></g><path class=\"foreground\" aria-hidden=\"true\" d=\"\" pointer-events=\"none\" display=\"none\"/></g></g><g class=\"mark-text role-legend-title\" pointer-events=\"none\"><text text-anchor=\"start\" transform=\"translate(0,9)\" font-family=\"sans-serif\" font-size=\"11px\" font-weight=\"bold\" fill=\"#000\" opacity=\"1\">variable</text></g></g><path class=\"foreground\" aria-hidden=\"true\" d=\"\" pointer-events=\"none\" display=\"none\"/></g></g></g><path class=\"foreground\" aria-hidden=\"true\" d=\"\" display=\"none\"/></g></g></g></svg>\n"
      ],
      "text/plain": [
       "@vlplot(\n",
       "    mark=\"line\",\n",
       "    encoding={\n",
       "        x={\n",
       "            field=\"Year\"\n",
       "        },\n",
       "        y={\n",
       "            field=\"value\"\n",
       "        },\n",
       "        color={\n",
       "            field=\"variable\"\n",
       "        }\n",
       "    },\n",
       "    data={\n",
       "        values=...\n",
       "    }\n",
       ")"
      ]
     },
     "execution_count": 29,
     "metadata": {},
     "output_type": "execute_result"
    }
   ],
   "source": [
    "df = DataFrame(\n",
    "    :Year => Mimi.time_labels(m),\n",
    "    :FUND => fundvals,\n",
    "    :FAIR => fairvals,\n",
    "    :FUNDFAIR => fundfairvals\n",
    ")\n",
    "\n",
    "stack(df, [:FUND, :FAIR, :FUNDFAIR]) |> \n",
    "\n",
    "@vlplot(\n",
    "    :line, \n",
    "    x = :Year,\n",
    "    y = :value,\n",
    "    color = :variable\n",
    ")\n",
    "    "
   ]
  },
  {
   "cell_type": "markdown",
   "metadata": {},
   "source": [
    "Loss"
   ]
  },
  {
   "cell_type": "code",
   "execution_count": 30,
   "metadata": {},
   "outputs": [],
   "source": [
    "fundfairvals = sum(m[:impactaggregation, :loss], dims = 2)[:,1];\n",
    "\n",
    "fundvals = vcat(\n",
    "    fill(missing, length(FAIR_first:FUND_first)-1),\n",
    "    sum(mfund[:impactaggregation, :loss][1:length(FUND_first:FAIR_last),:], dims = 2)\n",
    ")\n",
    "fundvals = fundvals[:,1]; # make a vector"
   ]
  },
  {
   "cell_type": "code",
   "execution_count": 31,
   "metadata": {},
   "outputs": [
    {
     "data": {
      "application/vnd.vegalite.v4+json": {
       "data": {
        "values": [
         {
          "Year": 1765,
          "value": null,
          "variable": "FUND"
         },
         {
          "Year": 1766,
          "value": null,
          "variable": "FUND"
         },
         {
          "Year": 1767,
          "value": null,
          "variable": "FUND"
         },
         {
          "Year": 1768,
          "value": null,
          "variable": "FUND"
         },
         {
          "Year": 1769,
          "value": null,
          "variable": "FUND"
         },
         {
          "Year": 1770,
          "value": null,
          "variable": "FUND"
         },
         {
          "Year": 1771,
          "value": null,
          "variable": "FUND"
         },
         {
          "Year": 1772,
          "value": null,
          "variable": "FUND"
         },
         {
          "Year": 1773,
          "value": null,
          "variable": "FUND"
         },
         {
          "Year": 1774,
          "value": null,
          "variable": "FUND"
         },
         {
          "Year": 1775,
          "value": null,
          "variable": "FUND"
         },
         {
          "Year": 1776,
          "value": null,
          "variable": "FUND"
         },
         {
          "Year": 1777,
          "value": null,
          "variable": "FUND"
         },
         {
          "Year": 1778,
          "value": null,
          "variable": "FUND"
         },
         {
          "Year": 1779,
          "value": null,
          "variable": "FUND"
         },
         {
          "Year": 1780,
          "value": null,
          "variable": "FUND"
         },
         {
          "Year": 1781,
          "value": null,
          "variable": "FUND"
         },
         {
          "Year": 1782,
          "value": null,
          "variable": "FUND"
         },
         {
          "Year": 1783,
          "value": null,
          "variable": "FUND"
         },
         {
          "Year": 1784,
          "value": null,
          "variable": "FUND"
         },
         {
          "Year": 1785,
          "value": null,
          "variable": "FUND"
         },
         {
          "Year": 1786,
          "value": null,
          "variable": "FUND"
         },
         {
          "Year": 1787,
          "value": null,
          "variable": "FUND"
         },
         {
          "Year": 1788,
          "value": null,
          "variable": "FUND"
         },
         {
          "Year": 1789,
          "value": null,
          "variable": "FUND"
         },
         {
          "Year": 1790,
          "value": null,
          "variable": "FUND"
         },
         {
          "Year": 1791,
          "value": null,
          "variable": "FUND"
         },
         {
          "Year": 1792,
          "value": null,
          "variable": "FUND"
         },
         {
          "Year": 1793,
          "value": null,
          "variable": "FUND"
         },
         {
          "Year": 1794,
          "value": null,
          "variable": "FUND"
         },
         {
          "Year": 1795,
          "value": null,
          "variable": "FUND"
         },
         {
          "Year": 1796,
          "value": null,
          "variable": "FUND"
         },
         {
          "Year": 1797,
          "value": null,
          "variable": "FUND"
         },
         {
          "Year": 1798,
          "value": null,
          "variable": "FUND"
         },
         {
          "Year": 1799,
          "value": null,
          "variable": "FUND"
         },
         {
          "Year": 1800,
          "value": null,
          "variable": "FUND"
         },
         {
          "Year": 1801,
          "value": null,
          "variable": "FUND"
         },
         {
          "Year": 1802,
          "value": null,
          "variable": "FUND"
         },
         {
          "Year": 1803,
          "value": null,
          "variable": "FUND"
         },
         {
          "Year": 1804,
          "value": null,
          "variable": "FUND"
         },
         {
          "Year": 1805,
          "value": null,
          "variable": "FUND"
         },
         {
          "Year": 1806,
          "value": null,
          "variable": "FUND"
         },
         {
          "Year": 1807,
          "value": null,
          "variable": "FUND"
         },
         {
          "Year": 1808,
          "value": null,
          "variable": "FUND"
         },
         {
          "Year": 1809,
          "value": null,
          "variable": "FUND"
         },
         {
          "Year": 1810,
          "value": null,
          "variable": "FUND"
         },
         {
          "Year": 1811,
          "value": null,
          "variable": "FUND"
         },
         {
          "Year": 1812,
          "value": null,
          "variable": "FUND"
         },
         {
          "Year": 1813,
          "value": null,
          "variable": "FUND"
         },
         {
          "Year": 1814,
          "value": null,
          "variable": "FUND"
         },
         {
          "Year": 1815,
          "value": null,
          "variable": "FUND"
         },
         {
          "Year": 1816,
          "value": null,
          "variable": "FUND"
         },
         {
          "Year": 1817,
          "value": null,
          "variable": "FUND"
         },
         {
          "Year": 1818,
          "value": null,
          "variable": "FUND"
         },
         {
          "Year": 1819,
          "value": null,
          "variable": "FUND"
         },
         {
          "Year": 1820,
          "value": null,
          "variable": "FUND"
         },
         {
          "Year": 1821,
          "value": null,
          "variable": "FUND"
         },
         {
          "Year": 1822,
          "value": null,
          "variable": "FUND"
         },
         {
          "Year": 1823,
          "value": null,
          "variable": "FUND"
         },
         {
          "Year": 1824,
          "value": null,
          "variable": "FUND"
         },
         {
          "Year": 1825,
          "value": null,
          "variable": "FUND"
         },
         {
          "Year": 1826,
          "value": null,
          "variable": "FUND"
         },
         {
          "Year": 1827,
          "value": null,
          "variable": "FUND"
         },
         {
          "Year": 1828,
          "value": null,
          "variable": "FUND"
         },
         {
          "Year": 1829,
          "value": null,
          "variable": "FUND"
         },
         {
          "Year": 1830,
          "value": null,
          "variable": "FUND"
         },
         {
          "Year": 1831,
          "value": null,
          "variable": "FUND"
         },
         {
          "Year": 1832,
          "value": null,
          "variable": "FUND"
         },
         {
          "Year": 1833,
          "value": null,
          "variable": "FUND"
         },
         {
          "Year": 1834,
          "value": null,
          "variable": "FUND"
         },
         {
          "Year": 1835,
          "value": null,
          "variable": "FUND"
         },
         {
          "Year": 1836,
          "value": null,
          "variable": "FUND"
         },
         {
          "Year": 1837,
          "value": null,
          "variable": "FUND"
         },
         {
          "Year": 1838,
          "value": null,
          "variable": "FUND"
         },
         {
          "Year": 1839,
          "value": null,
          "variable": "FUND"
         },
         {
          "Year": 1840,
          "value": null,
          "variable": "FUND"
         },
         {
          "Year": 1841,
          "value": null,
          "variable": "FUND"
         },
         {
          "Year": 1842,
          "value": null,
          "variable": "FUND"
         },
         {
          "Year": 1843,
          "value": null,
          "variable": "FUND"
         },
         {
          "Year": 1844,
          "value": null,
          "variable": "FUND"
         },
         {
          "Year": 1845,
          "value": null,
          "variable": "FUND"
         },
         {
          "Year": 1846,
          "value": null,
          "variable": "FUND"
         },
         {
          "Year": 1847,
          "value": null,
          "variable": "FUND"
         },
         {
          "Year": 1848,
          "value": null,
          "variable": "FUND"
         },
         {
          "Year": 1849,
          "value": null,
          "variable": "FUND"
         },
         {
          "Year": 1850,
          "value": null,
          "variable": "FUND"
         },
         {
          "Year": 1851,
          "value": null,
          "variable": "FUND"
         },
         {
          "Year": 1852,
          "value": null,
          "variable": "FUND"
         },
         {
          "Year": 1853,
          "value": null,
          "variable": "FUND"
         },
         {
          "Year": 1854,
          "value": null,
          "variable": "FUND"
         },
         {
          "Year": 1855,
          "value": null,
          "variable": "FUND"
         },
         {
          "Year": 1856,
          "value": null,
          "variable": "FUND"
         },
         {
          "Year": 1857,
          "value": null,
          "variable": "FUND"
         },
         {
          "Year": 1858,
          "value": null,
          "variable": "FUND"
         },
         {
          "Year": 1859,
          "value": null,
          "variable": "FUND"
         },
         {
          "Year": 1860,
          "value": null,
          "variable": "FUND"
         },
         {
          "Year": 1861,
          "value": null,
          "variable": "FUND"
         },
         {
          "Year": 1862,
          "value": null,
          "variable": "FUND"
         },
         {
          "Year": 1863,
          "value": null,
          "variable": "FUND"
         },
         {
          "Year": 1864,
          "value": null,
          "variable": "FUND"
         },
         {
          "Year": 1865,
          "value": null,
          "variable": "FUND"
         },
         {
          "Year": 1866,
          "value": null,
          "variable": "FUND"
         },
         {
          "Year": 1867,
          "value": null,
          "variable": "FUND"
         },
         {
          "Year": 1868,
          "value": null,
          "variable": "FUND"
         },
         {
          "Year": 1869,
          "value": null,
          "variable": "FUND"
         },
         {
          "Year": 1870,
          "value": null,
          "variable": "FUND"
         },
         {
          "Year": 1871,
          "value": null,
          "variable": "FUND"
         },
         {
          "Year": 1872,
          "value": null,
          "variable": "FUND"
         },
         {
          "Year": 1873,
          "value": null,
          "variable": "FUND"
         },
         {
          "Year": 1874,
          "value": null,
          "variable": "FUND"
         },
         {
          "Year": 1875,
          "value": null,
          "variable": "FUND"
         },
         {
          "Year": 1876,
          "value": null,
          "variable": "FUND"
         },
         {
          "Year": 1877,
          "value": null,
          "variable": "FUND"
         },
         {
          "Year": 1878,
          "value": null,
          "variable": "FUND"
         },
         {
          "Year": 1879,
          "value": null,
          "variable": "FUND"
         },
         {
          "Year": 1880,
          "value": null,
          "variable": "FUND"
         },
         {
          "Year": 1881,
          "value": null,
          "variable": "FUND"
         },
         {
          "Year": 1882,
          "value": null,
          "variable": "FUND"
         },
         {
          "Year": 1883,
          "value": null,
          "variable": "FUND"
         },
         {
          "Year": 1884,
          "value": null,
          "variable": "FUND"
         },
         {
          "Year": 1885,
          "value": null,
          "variable": "FUND"
         },
         {
          "Year": 1886,
          "value": null,
          "variable": "FUND"
         },
         {
          "Year": 1887,
          "value": null,
          "variable": "FUND"
         },
         {
          "Year": 1888,
          "value": null,
          "variable": "FUND"
         },
         {
          "Year": 1889,
          "value": null,
          "variable": "FUND"
         },
         {
          "Year": 1890,
          "value": null,
          "variable": "FUND"
         },
         {
          "Year": 1891,
          "value": null,
          "variable": "FUND"
         },
         {
          "Year": 1892,
          "value": null,
          "variable": "FUND"
         },
         {
          "Year": 1893,
          "value": null,
          "variable": "FUND"
         },
         {
          "Year": 1894,
          "value": null,
          "variable": "FUND"
         },
         {
          "Year": 1895,
          "value": null,
          "variable": "FUND"
         },
         {
          "Year": 1896,
          "value": null,
          "variable": "FUND"
         },
         {
          "Year": 1897,
          "value": null,
          "variable": "FUND"
         },
         {
          "Year": 1898,
          "value": null,
          "variable": "FUND"
         },
         {
          "Year": 1899,
          "value": null,
          "variable": "FUND"
         },
         {
          "Year": 1900,
          "value": null,
          "variable": "FUND"
         },
         {
          "Year": 1901,
          "value": null,
          "variable": "FUND"
         },
         {
          "Year": 1902,
          "value": null,
          "variable": "FUND"
         },
         {
          "Year": 1903,
          "value": null,
          "variable": "FUND"
         },
         {
          "Year": 1904,
          "value": null,
          "variable": "FUND"
         },
         {
          "Year": 1905,
          "value": null,
          "variable": "FUND"
         },
         {
          "Year": 1906,
          "value": null,
          "variable": "FUND"
         },
         {
          "Year": 1907,
          "value": null,
          "variable": "FUND"
         },
         {
          "Year": 1908,
          "value": null,
          "variable": "FUND"
         },
         {
          "Year": 1909,
          "value": null,
          "variable": "FUND"
         },
         {
          "Year": 1910,
          "value": null,
          "variable": "FUND"
         },
         {
          "Year": 1911,
          "value": null,
          "variable": "FUND"
         },
         {
          "Year": 1912,
          "value": null,
          "variable": "FUND"
         },
         {
          "Year": 1913,
          "value": null,
          "variable": "FUND"
         },
         {
          "Year": 1914,
          "value": null,
          "variable": "FUND"
         },
         {
          "Year": 1915,
          "value": null,
          "variable": "FUND"
         },
         {
          "Year": 1916,
          "value": null,
          "variable": "FUND"
         },
         {
          "Year": 1917,
          "value": null,
          "variable": "FUND"
         },
         {
          "Year": 1918,
          "value": null,
          "variable": "FUND"
         },
         {
          "Year": 1919,
          "value": null,
          "variable": "FUND"
         },
         {
          "Year": 1920,
          "value": null,
          "variable": "FUND"
         },
         {
          "Year": 1921,
          "value": null,
          "variable": "FUND"
         },
         {
          "Year": 1922,
          "value": null,
          "variable": "FUND"
         },
         {
          "Year": 1923,
          "value": null,
          "variable": "FUND"
         },
         {
          "Year": 1924,
          "value": null,
          "variable": "FUND"
         },
         {
          "Year": 1925,
          "value": null,
          "variable": "FUND"
         },
         {
          "Year": 1926,
          "value": null,
          "variable": "FUND"
         },
         {
          "Year": 1927,
          "value": null,
          "variable": "FUND"
         },
         {
          "Year": 1928,
          "value": null,
          "variable": "FUND"
         },
         {
          "Year": 1929,
          "value": null,
          "variable": "FUND"
         },
         {
          "Year": 1930,
          "value": null,
          "variable": "FUND"
         },
         {
          "Year": 1931,
          "value": null,
          "variable": "FUND"
         },
         {
          "Year": 1932,
          "value": null,
          "variable": "FUND"
         },
         {
          "Year": 1933,
          "value": null,
          "variable": "FUND"
         },
         {
          "Year": 1934,
          "value": null,
          "variable": "FUND"
         },
         {
          "Year": 1935,
          "value": null,
          "variable": "FUND"
         },
         {
          "Year": 1936,
          "value": null,
          "variable": "FUND"
         },
         {
          "Year": 1937,
          "value": null,
          "variable": "FUND"
         },
         {
          "Year": 1938,
          "value": null,
          "variable": "FUND"
         },
         {
          "Year": 1939,
          "value": null,
          "variable": "FUND"
         },
         {
          "Year": 1940,
          "value": null,
          "variable": "FUND"
         },
         {
          "Year": 1941,
          "value": null,
          "variable": "FUND"
         },
         {
          "Year": 1942,
          "value": null,
          "variable": "FUND"
         },
         {
          "Year": 1943,
          "value": null,
          "variable": "FUND"
         },
         {
          "Year": 1944,
          "value": null,
          "variable": "FUND"
         },
         {
          "Year": 1945,
          "value": null,
          "variable": "FUND"
         },
         {
          "Year": 1946,
          "value": null,
          "variable": "FUND"
         },
         {
          "Year": 1947,
          "value": null,
          "variable": "FUND"
         },
         {
          "Year": 1948,
          "value": null,
          "variable": "FUND"
         },
         {
          "Year": 1949,
          "value": null,
          "variable": "FUND"
         },
         {
          "Year": 1950,
          "value": null,
          "variable": "FUND"
         },
         {
          "Year": 1951,
          "value": -4269488936.7738442,
          "variable": "FUND"
         },
         {
          "Year": 1952,
          "value": -4898961731.11659,
          "variable": "FUND"
         },
         {
          "Year": 1953,
          "value": -5599344757.452444,
          "variable": "FUND"
         },
         {
          "Year": 1954,
          "value": -6287562786.800857,
          "variable": "FUND"
         },
         {
          "Year": 1955,
          "value": -7018465468.305371,
          "variable": "FUND"
         },
         {
          "Year": 1956,
          "value": -7798578740.65406,
          "variable": "FUND"
         },
         {
          "Year": 1957,
          "value": -8633014100.44929,
          "variable": "FUND"
         },
         {
          "Year": 1958,
          "value": -9501378025.977509,
          "variable": "FUND"
         },
         {
          "Year": 1959,
          "value": -10407562156.213524,
          "variable": "FUND"
         },
         {
          "Year": 1960,
          "value": -11336094815.243977,
          "variable": "FUND"
         },
         {
          "Year": 1961,
          "value": -12363524825.637825,
          "variable": "FUND"
         },
         {
          "Year": 1962,
          "value": -13437473973.16039,
          "variable": "FUND"
         },
         {
          "Year": 1963,
          "value": -14559394161.83854,
          "variable": "FUND"
         },
         {
          "Year": 1964,
          "value": -15746966853.463776,
          "variable": "FUND"
         },
         {
          "Year": 1965,
          "value": -17000325213.767809,
          "variable": "FUND"
         },
         {
          "Year": 1966,
          "value": -18325920789.32839,
          "variable": "FUND"
         },
         {
          "Year": 1967,
          "value": -19741726738.879242,
          "variable": "FUND"
         },
         {
          "Year": 1968,
          "value": -21242298327.11398,
          "variable": "FUND"
         },
         {
          "Year": 1969,
          "value": -22811245514.779564,
          "variable": "FUND"
         },
         {
          "Year": 1970,
          "value": -24437565773.763298,
          "variable": "FUND"
         },
         {
          "Year": 1971,
          "value": -26066855572.055374,
          "variable": "FUND"
         },
         {
          "Year": 1972,
          "value": -27868838685.18123,
          "variable": "FUND"
         },
         {
          "Year": 1973,
          "value": -29771267364.173943,
          "variable": "FUND"
         },
         {
          "Year": 1974,
          "value": -31761047441.531933,
          "variable": "FUND"
         },
         {
          "Year": 1975,
          "value": -33859665143.443825,
          "variable": "FUND"
         },
         {
          "Year": 1976,
          "value": -36071862458.85372,
          "variable": "FUND"
         },
         {
          "Year": 1977,
          "value": -38393373611.93863,
          "variable": "FUND"
         },
         {
          "Year": 1978,
          "value": -40801469411.00194,
          "variable": "FUND"
         },
         {
          "Year": 1979,
          "value": -43306734740.49733,
          "variable": "FUND"
         },
         {
          "Year": 1980,
          "value": -45989667615.15862,
          "variable": "FUND"
         },
         {
          "Year": 1981,
          "value": -49304497248.852196,
          "variable": "FUND"
         },
         {
          "Year": 1982,
          "value": -53085682235.166084,
          "variable": "FUND"
         },
         {
          "Year": 1983,
          "value": -57116723334.459,
          "variable": "FUND"
         },
         {
          "Year": 1984,
          "value": -61398588311.511314,
          "variable": "FUND"
         },
         {
          "Year": 1985,
          "value": -65953626643.13713,
          "variable": "FUND"
         },
         {
          "Year": 1986,
          "value": -70841375355.82968,
          "variable": "FUND"
         },
         {
          "Year": 1987,
          "value": -76119085948.4198,
          "variable": "FUND"
         },
         {
          "Year": 1988,
          "value": -81804891810.88132,
          "variable": "FUND"
         },
         {
          "Year": 1989,
          "value": -87976099155.43994,
          "variable": "FUND"
         },
         {
          "Year": 1990,
          "value": -94524558950.44792,
          "variable": "FUND"
         },
         {
          "Year": 1991,
          "value": -98175067072.30229,
          "variable": "FUND"
         },
         {
          "Year": 1992,
          "value": -102414945680.41068,
          "variable": "FUND"
         },
         {
          "Year": 1993,
          "value": -106869145189.92331,
          "variable": "FUND"
         },
         {
          "Year": 1994,
          "value": -111547761980.53091,
          "variable": "FUND"
         },
         {
          "Year": 1995,
          "value": -116486810825.00821,
          "variable": "FUND"
         },
         {
          "Year": 1996,
          "value": -122906344861.55655,
          "variable": "FUND"
         },
         {
          "Year": 1997,
          "value": -129276511673.07646,
          "variable": "FUND"
         },
         {
          "Year": 1998,
          "value": -136544814613.9002,
          "variable": "FUND"
         },
         {
          "Year": 1999,
          "value": -110479081335.52911,
          "variable": "FUND"
         },
         {
          "Year": 2000,
          "value": -147421492444.2596,
          "variable": "FUND"
         },
         {
          "Year": 2001,
          "value": -156227924236.07462,
          "variable": "FUND"
         },
         {
          "Year": 2002,
          "value": -161906578840.05737,
          "variable": "FUND"
         },
         {
          "Year": 2003,
          "value": -167973493758.88095,
          "variable": "FUND"
         },
         {
          "Year": 2004,
          "value": -174182913934.91022,
          "variable": "FUND"
         },
         {
          "Year": 2005,
          "value": -180412977895.47623,
          "variable": "FUND"
         },
         {
          "Year": 2006,
          "value": -186584295207.38577,
          "variable": "FUND"
         },
         {
          "Year": 2007,
          "value": -192724313984.0817,
          "variable": "FUND"
         },
         {
          "Year": 2008,
          "value": -198952974444.75296,
          "variable": "FUND"
         },
         {
          "Year": 2009,
          "value": -205260101728.13672,
          "variable": "FUND"
         },
         {
          "Year": 2010,
          "value": -211723444106.50668,
          "variable": "FUND"
         },
         {
          "Year": 2011,
          "value": -218421643624.35355,
          "variable": "FUND"
         },
         {
          "Year": 2012,
          "value": -225238029574.32938,
          "variable": "FUND"
         },
         {
          "Year": 2013,
          "value": -232143932237.01947,
          "variable": "FUND"
         },
         {
          "Year": 2014,
          "value": -239573197471.72903,
          "variable": "FUND"
         },
         {
          "Year": 2015,
          "value": -246571482999.76367,
          "variable": "FUND"
         },
         {
          "Year": 2016,
          "value": -253650692444.74576,
          "variable": "FUND"
         },
         {
          "Year": 2017,
          "value": -260797195436.33768,
          "variable": "FUND"
         },
         {
          "Year": 2018,
          "value": -268197972902.63544,
          "variable": "FUND"
         },
         {
          "Year": 2019,
          "value": -275310311100.09015,
          "variable": "FUND"
         },
         {
          "Year": 2020,
          "value": -282390172344.27594,
          "variable": "FUND"
         },
         {
          "Year": 2021,
          "value": -289390398284.8916,
          "variable": "FUND"
         },
         {
          "Year": 2022,
          "value": -296337862152.2896,
          "variable": "FUND"
         },
         {
          "Year": 2023,
          "value": -303246161843.11536,
          "variable": "FUND"
         },
         {
          "Year": 2024,
          "value": -310096744256.5997,
          "variable": "FUND"
         },
         {
          "Year": 2025,
          "value": -316876542574.7882,
          "variable": "FUND"
         },
         {
          "Year": 2026,
          "value": -323562542407.7073,
          "variable": "FUND"
         },
         {
          "Year": 2027,
          "value": -330126494180.9564,
          "variable": "FUND"
         },
         {
          "Year": 2028,
          "value": -336551708491.733,
          "variable": "FUND"
         },
         {
          "Year": 2029,
          "value": -342815327964.44543,
          "variable": "FUND"
         },
         {
          "Year": 2030,
          "value": -348845992873.7225,
          "variable": "FUND"
         },
         {
          "Year": 2031,
          "value": -354541374673.37604,
          "variable": "FUND"
         },
         {
          "Year": 2032,
          "value": -360037458845.4674,
          "variable": "FUND"
         },
         {
          "Year": 2033,
          "value": -365315375289.8936,
          "variable": "FUND"
         },
         {
          "Year": 2034,
          "value": -370365622521.7213,
          "variable": "FUND"
         },
         {
          "Year": 2035,
          "value": -375175503889.7831,
          "variable": "FUND"
         },
         {
          "Year": 2036,
          "value": -379724370031.8671,
          "variable": "FUND"
         },
         {
          "Year": 2037,
          "value": -383985207852.0342,
          "variable": "FUND"
         },
         {
          "Year": 2038,
          "value": -387926519837.67444,
          "variable": "FUND"
         },
         {
          "Year": 2039,
          "value": -391519960945.0744,
          "variable": "FUND"
         },
         {
          "Year": 2040,
          "value": -394764758910.0275,
          "variable": "FUND"
         },
         {
          "Year": 2041,
          "value": -397640648089.9154,
          "variable": "FUND"
         },
         {
          "Year": 2042,
          "value": -400022133255.2803,
          "variable": "FUND"
         },
         {
          "Year": 2043,
          "value": -401887295383.6199,
          "variable": "FUND"
         },
         {
          "Year": 2044,
          "value": -403197565330.45856,
          "variable": "FUND"
         },
         {
          "Year": 2045,
          "value": -403924149456.3336,
          "variable": "FUND"
         },
         {
          "Year": 2046,
          "value": -404024903051.21423,
          "variable": "FUND"
         },
         {
          "Year": 2047,
          "value": -403476215145.78394,
          "variable": "FUND"
         },
         {
          "Year": 2048,
          "value": -402243321755.2561,
          "variable": "FUND"
         },
         {
          "Year": 2049,
          "value": -400287559586.8376,
          "variable": "FUND"
         },
         {
          "Year": 2050,
          "value": -397639345242.0446,
          "variable": "FUND"
         },
         {
          "Year": 2051,
          "value": -394310963515.4089,
          "variable": "FUND"
         },
         {
          "Year": 2052,
          "value": -390242272534.4708,
          "variable": "FUND"
         },
         {
          "Year": 2053,
          "value": -385533858661.6515,
          "variable": "FUND"
         },
         {
          "Year": 2054,
          "value": -380023117398.1218,
          "variable": "FUND"
         },
         {
          "Year": 2055,
          "value": -373670308063.4546,
          "variable": "FUND"
         },
         {
          "Year": 2056,
          "value": -366434292107.53076,
          "variable": "FUND"
         },
         {
          "Year": 2057,
          "value": -358276547772.4104,
          "variable": "FUND"
         },
         {
          "Year": 2058,
          "value": -349153207820.6729,
          "variable": "FUND"
         },
         {
          "Year": 2059,
          "value": -339009015857.9313,
          "variable": "FUND"
         },
         {
          "Year": 2060,
          "value": -327822035741.0658,
          "variable": "FUND"
         },
         {
          "Year": 2061,
          "value": -315548916414.1379,
          "variable": "FUND"
         },
         {
          "Year": 2062,
          "value": -302137418901.009,
          "variable": "FUND"
         },
         {
          "Year": 2063,
          "value": -287524128520.22736,
          "variable": "FUND"
         },
         {
          "Year": 2064,
          "value": -271649149220.5476,
          "variable": "FUND"
         },
         {
          "Year": 2065,
          "value": -254465364701.24103,
          "variable": "FUND"
         },
         {
          "Year": 2066,
          "value": -235892206742.44794,
          "variable": "FUND"
         },
         {
          "Year": 2067,
          "value": -215861381819.56888,
          "variable": "FUND"
         },
         {
          "Year": 2068,
          "value": -194304318533.70502,
          "variable": "FUND"
         },
         {
          "Year": 2069,
          "value": -171143772991.50778,
          "variable": "FUND"
         },
         {
          "Year": 2070,
          "value": -146323153123.07855,
          "variable": "FUND"
         },
         {
          "Year": 2071,
          "value": -119776474493.50351,
          "variable": "FUND"
         },
         {
          "Year": 2072,
          "value": -91352429405.75066,
          "variable": "FUND"
         },
         {
          "Year": 2073,
          "value": -61011211394.57288,
          "variable": "FUND"
         },
         {
          "Year": 2074,
          "value": -28670834190.065582,
          "variable": "FUND"
         },
         {
          "Year": 2075,
          "value": 5741032895.0882435,
          "variable": "FUND"
         },
         {
          "Year": 2076,
          "value": 42323730239.889694,
          "variable": "FUND"
         },
         {
          "Year": 2077,
          "value": 81133070214.44362,
          "variable": "FUND"
         },
         {
          "Year": 2078,
          "value": 122187627453.35428,
          "variable": "FUND"
         },
         {
          "Year": 2079,
          "value": 165543523142.39185,
          "variable": "FUND"
         },
         {
          "Year": 2080,
          "value": 211295060086.953,
          "variable": "FUND"
         },
         {
          "Year": 2081,
          "value": 259644858335.66718,
          "variable": "FUND"
         },
         {
          "Year": 2082,
          "value": 310570998804.04584,
          "variable": "FUND"
         },
         {
          "Year": 2083,
          "value": 364121328250.07196,
          "variable": "FUND"
         },
         {
          "Year": 2084,
          "value": 420336192310.46594,
          "variable": "FUND"
         },
         {
          "Year": 2085,
          "value": 479263672755.6589,
          "variable": "FUND"
         },
         {
          "Year": 2086,
          "value": 540992297863.0891,
          "variable": "FUND"
         },
         {
          "Year": 2087,
          "value": 605558836256.1995,
          "variable": "FUND"
         },
         {
          "Year": 2088,
          "value": 673004104108.177,
          "variable": "FUND"
         },
         {
          "Year": 2089,
          "value": 743382305241.0021,
          "variable": "FUND"
         },
         {
          "Year": 2090,
          "value": 816627995764.0876,
          "variable": "FUND"
         },
         {
          "Year": 2091,
          "value": 892709963264.2834,
          "variable": "FUND"
         },
         {
          "Year": 2092,
          "value": 971694989714.9474,
          "variable": "FUND"
         },
         {
          "Year": 2093,
          "value": 1053672304078.3556,
          "variable": "FUND"
         },
         {
          "Year": 2094,
          "value": 1138678352965.5144,
          "variable": "FUND"
         },
         {
          "Year": 2095,
          "value": 1226712207575.1572,
          "variable": "FUND"
         },
         {
          "Year": 2096,
          "value": 1317850008620.1812,
          "variable": "FUND"
         },
         {
          "Year": 2097,
          "value": 1412086601694.3965,
          "variable": "FUND"
         },
         {
          "Year": 2098,
          "value": 1509431726041.9814,
          "variable": "FUND"
         },
         {
          "Year": 2099,
          "value": 1609898744102.9587,
          "variable": "FUND"
         },
         {
          "Year": 2100,
          "value": 1713372180564.2913,
          "variable": "FUND"
         },
         {
          "Year": 2101,
          "value": 1819543759880.43,
          "variable": "FUND"
         },
         {
          "Year": 2102,
          "value": 1928578707003.1025,
          "variable": "FUND"
         },
         {
          "Year": 2103,
          "value": 2040576383994.1958,
          "variable": "FUND"
         },
         {
          "Year": 2104,
          "value": 2155551046473.3674,
          "variable": "FUND"
         },
         {
          "Year": 2105,
          "value": 2273511297297.787,
          "variable": "FUND"
         },
         {
          "Year": 2106,
          "value": 2394461619652.865,
          "variable": "FUND"
         },
         {
          "Year": 2107,
          "value": 2518403759597.8516,
          "variable": "FUND"
         },
         {
          "Year": 2108,
          "value": 2645343919007.6724,
          "variable": "FUND"
         },
         {
          "Year": 2109,
          "value": 2775261589218.7007,
          "variable": "FUND"
         },
         {
          "Year": 2110,
          "value": 2908144947245.8716,
          "variable": "FUND"
         },
         {
          "Year": 2111,
          "value": 3043963375529.409,
          "variable": "FUND"
         },
         {
          "Year": 2112,
          "value": 3182710878848.605,
          "variable": "FUND"
         },
         {
          "Year": 2113,
          "value": 3324359123701.377,
          "variable": "FUND"
         },
         {
          "Year": 2114,
          "value": 3468876375826.7954,
          "variable": "FUND"
         },
         {
          "Year": 2115,
          "value": 3616222324089.4263,
          "variable": "FUND"
         },
         {
          "Year": 2116,
          "value": 3766372393984.0317,
          "variable": "FUND"
         },
         {
          "Year": 2117,
          "value": 3919236766957.5537,
          "variable": "FUND"
         },
         {
          "Year": 2118,
          "value": 4074782354938.308,
          "variable": "FUND"
         },
         {
          "Year": 2119,
          "value": 4232945734297.3247,
          "variable": "FUND"
         },
         {
          "Year": 2120,
          "value": 4393661243709.5186,
          "variable": "FUND"
         },
         {
          "Year": 2121,
          "value": 4556866086131.109,
          "variable": "FUND"
         },
         {
          "Year": 2122,
          "value": 4722519012001.995,
          "variable": "FUND"
         },
         {
          "Year": 2123,
          "value": 4890556400620.214,
          "variable": "FUND"
         },
         {
          "Year": 2124,
          "value": 5060893150024.567,
          "variable": "FUND"
         },
         {
          "Year": 2125,
          "value": 5233446332767.832,
          "variable": "FUND"
         },
         {
          "Year": 2126,
          "value": 5408124837747.282,
          "variable": "FUND"
         },
         {
          "Year": 2127,
          "value": 5584837953666.97,
          "variable": "FUND"
         },
         {
          "Year": 2128,
          "value": 5763487596616.694,
          "variable": "FUND"
         },
         {
          "Year": 2129,
          "value": 5943971450846.703,
          "variable": "FUND"
         },
         {
          "Year": 2130,
          "value": 6126187187573.982,
          "variable": "FUND"
         },
         {
          "Year": 2131,
          "value": 6310022272077.732,
          "variable": "FUND"
         },
         {
          "Year": 2132,
          "value": 6495363418329.478,
          "variable": "FUND"
         },
         {
          "Year": 2133,
          "value": 6682097757479.93,
          "variable": "FUND"
         },
         {
          "Year": 2134,
          "value": 6870102151613.744,
          "variable": "FUND"
         },
         {
          "Year": 2135,
          "value": 7059258079477.901,
          "variable": "FUND"
         },
         {
          "Year": 2136,
          "value": 7249444336956.1875,
          "variable": "FUND"
         },
         {
          "Year": 2137,
          "value": 7440530220143.657,
          "variable": "FUND"
         },
         {
          "Year": 2138,
          "value": 7632385455055.6045,
          "variable": "FUND"
         },
         {
          "Year": 2139,
          "value": 7824873001301.121,
          "variable": "FUND"
         },
         {
          "Year": 2140,
          "value": 8017864907663.466,
          "variable": "FUND"
         },
         {
          "Year": 2141,
          "value": 8211230553976.586,
          "variable": "FUND"
         },
         {
          "Year": 2142,
          "value": 8404825660607.814,
          "variable": "FUND"
         },
         {
          "Year": 2143,
          "value": 8598516714961.346,
          "variable": "FUND"
         },
         {
          "Year": 2144,
          "value": 8792166719452.468,
          "variable": "FUND"
         },
         {
          "Year": 2145,
          "value": 8985630057512.094,
          "variable": "FUND"
         },
         {
          "Year": 2146,
          "value": 9178778012043.84,
          "variable": "FUND"
         },
         {
          "Year": 2147,
          "value": 9371449546473.576,
          "variable": "FUND"
         },
         {
          "Year": 2148,
          "value": 9563515636051.486,
          "variable": "FUND"
         },
         {
          "Year": 2149,
          "value": 9754839553131.443,
          "variable": "FUND"
         },
         {
          "Year": 2150,
          "value": 9945283548403.668,
          "variable": "FUND"
         },
         {
          "Year": 2151,
          "value": 10134697382346.59,
          "variable": "FUND"
         },
         {
          "Year": 2152,
          "value": 10324057250550.031,
          "variable": "FUND"
         },
         {
          "Year": 2153,
          "value": 10513385537665.828,
          "variable": "FUND"
         },
         {
          "Year": 2154,
          "value": 10702609740880.188,
          "variable": "FUND"
         },
         {
          "Year": 2155,
          "value": 10891663881381.082,
          "variable": "FUND"
         },
         {
          "Year": 2156,
          "value": 11080468824675.92,
          "variable": "FUND"
         },
         {
          "Year": 2157,
          "value": 11268961560349.016,
          "variable": "FUND"
         },
         {
          "Year": 2158,
          "value": 11457079066668.41,
          "variable": "FUND"
         },
         {
          "Year": 2159,
          "value": 11644735570559.611,
          "variable": "FUND"
         },
         {
          "Year": 2160,
          "value": 11831889354040.402,
          "variable": "FUND"
         },
         {
          "Year": 2161,
          "value": 12018468570914.58,
          "variable": "FUND"
         },
         {
          "Year": 2162,
          "value": 12204411434808.18,
          "variable": "FUND"
         },
         {
          "Year": 2163,
          "value": 12389662525790.389,
          "variable": "FUND"
         },
         {
          "Year": 2164,
          "value": 12574164652660.928,
          "variable": "FUND"
         },
         {
          "Year": 2165,
          "value": 12757855000385.174,
          "variable": "FUND"
         },
         {
          "Year": 2166,
          "value": 12940687930681.006,
          "variable": "FUND"
         },
         {
          "Year": 2167,
          "value": 13122602194873.41,
          "variable": "FUND"
         },
         {
          "Year": 2168,
          "value": 13303554131894.592,
          "variable": "FUND"
         },
         {
          "Year": 2169,
          "value": 13483491407339.342,
          "variable": "FUND"
         },
         {
          "Year": 2170,
          "value": 13662366618646.068,
          "variable": "FUND"
         },
         {
          "Year": 2171,
          "value": 13840120653497.092,
          "variable": "FUND"
         },
         {
          "Year": 2172,
          "value": 14016740762862.486,
          "variable": "FUND"
         },
         {
          "Year": 2173,
          "value": 14192167319163.203,
          "variable": "FUND"
         },
         {
          "Year": 2174,
          "value": 14366367159307.541,
          "variable": "FUND"
         },
         {
          "Year": 2175,
          "value": 14539290989821.273,
          "variable": "FUND"
         },
         {
          "Year": 2176,
          "value": 14710913541884.697,
          "variable": "FUND"
         },
         {
          "Year": 2177,
          "value": 14881196728916.91,
          "variable": "FUND"
         },
         {
          "Year": 2178,
          "value": 15050107805895.59,
          "variable": "FUND"
         },
         {
          "Year": 2179,
          "value": 15217622213216.469,
          "variable": "FUND"
         },
         {
          "Year": 2180,
          "value": 15383709725171.2,
          "variable": "FUND"
         },
         {
          "Year": 2181,
          "value": 15548352784656.96,
          "variable": "FUND"
         },
         {
          "Year": 2182,
          "value": 15711511951151.88,
          "variable": "FUND"
         },
         {
          "Year": 2183,
          "value": 15873182363546.516,
          "variable": "FUND"
         },
         {
          "Year": 2184,
          "value": 16033332097929.646,
          "variable": "FUND"
         },
         {
          "Year": 2185,
          "value": 16191926364757.754,
          "variable": "FUND"
         },
         {
          "Year": 2186,
          "value": 16348972345223.824,
          "variable": "FUND"
         },
         {
          "Year": 2187,
          "value": 16504438054374.41,
          "variable": "FUND"
         },
         {
          "Year": 2188,
          "value": 16658324016624.396,
          "variable": "FUND"
         },
         {
          "Year": 2189,
          "value": 16810613531160.775,
          "variable": "FUND"
         },
         {
          "Year": 2190,
          "value": 16961296839931.031,
          "variable": "FUND"
         },
         {
          "Year": 2191,
          "value": 17104718449675.896,
          "variable": "FUND"
         },
         {
          "Year": 2192,
          "value": 17244496623421.684,
          "variable": "FUND"
         },
         {
          "Year": 2193,
          "value": 17372512181542.844,
          "variable": "FUND"
         },
         {
          "Year": 2194,
          "value": 17516247212813.14,
          "variable": "FUND"
         },
         {
          "Year": 2195,
          "value": 17658444042697.71,
          "variable": "FUND"
         },
         {
          "Year": 2196,
          "value": 17798994590445.797,
          "variable": "FUND"
         },
         {
          "Year": 2197,
          "value": 17937913740150.895,
          "variable": "FUND"
         },
         {
          "Year": 2198,
          "value": 18075181117209.914,
          "variable": "FUND"
         },
         {
          "Year": 2199,
          "value": 18210830298849.78,
          "variable": "FUND"
         },
         {
          "Year": 2200,
          "value": 18344860686658.348,
          "variable": "FUND"
         },
         {
          "Year": 2201,
          "value": 18478735728507.793,
          "variable": "FUND"
         },
         {
          "Year": 2202,
          "value": 18612032309166.95,
          "variable": "FUND"
         },
         {
          "Year": 2203,
          "value": 18744762587659.25,
          "variable": "FUND"
         },
         {
          "Year": 2204,
          "value": 18876927027911.312,
          "variable": "FUND"
         },
         {
          "Year": 2205,
          "value": 19008538682204.44,
          "variable": "FUND"
         },
         {
          "Year": 2206,
          "value": 19139583801099.383,
          "variable": "FUND"
         },
         {
          "Year": 2207,
          "value": 19270123116880.387,
          "variable": "FUND"
         },
         {
          "Year": 2208,
          "value": 19400097734132.03,
          "variable": "FUND"
         },
         {
          "Year": 2209,
          "value": 19529562966061.832,
          "variable": "FUND"
         },
         {
          "Year": 2210,
          "value": 19658510157541.82,
          "variable": "FUND"
         },
         {
          "Year": 2211,
          "value": 19786647697905.11,
          "variable": "FUND"
         },
         {
          "Year": 2212,
          "value": 19913470024490.43,
          "variable": "FUND"
         },
         {
          "Year": 2213,
          "value": 20040958266016.195,
          "variable": "FUND"
         },
         {
          "Year": 2214,
          "value": 20167961658639.918,
          "variable": "FUND"
         },
         {
          "Year": 2215,
          "value": 20294494654456.31,
          "variable": "FUND"
         },
         {
          "Year": 2216,
          "value": 20420618974296.676,
          "variable": "FUND"
         },
         {
          "Year": 2217,
          "value": 20546304060887.88,
          "variable": "FUND"
         },
         {
          "Year": 2218,
          "value": 20671566229795.14,
          "variable": "FUND"
         },
         {
          "Year": 2219,
          "value": 20796423385251.63,
          "variable": "FUND"
         },
         {
          "Year": 2220,
          "value": 20920862719673.562,
          "variable": "FUND"
         },
         {
          "Year": 2221,
          "value": 21044950556004.918,
          "variable": "FUND"
         },
         {
          "Year": 2222,
          "value": 21168682953088.457,
          "variable": "FUND"
         },
         {
          "Year": 2223,
          "value": 21292020685232.14,
          "variable": "FUND"
         },
         {
          "Year": 2224,
          "value": 21411374441359.152,
          "variable": "FUND"
         },
         {
          "Year": 2225,
          "value": 21531932712518.51,
          "variable": "FUND"
         },
         {
          "Year": 2226,
          "value": 21652228765215.965,
          "variable": "FUND"
         },
         {
          "Year": 2227,
          "value": 21772965471632.91,
          "variable": "FUND"
         },
         {
          "Year": 2228,
          "value": 21892849008880.58,
          "variable": "FUND"
         },
         {
          "Year": 2229,
          "value": 22011855722490.887,
          "variable": "FUND"
         },
         {
          "Year": 2230,
          "value": 22129976322392.12,
          "variable": "FUND"
         },
         {
          "Year": 2231,
          "value": 22247260219805.918,
          "variable": "FUND"
         },
         {
          "Year": 2232,
          "value": 22363660228961.547,
          "variable": "FUND"
         },
         {
          "Year": 2233,
          "value": 22479232636336.52,
          "variable": "FUND"
         },
         {
          "Year": 2234,
          "value": 22594036969193.58,
          "variable": "FUND"
         },
         {
          "Year": 2235,
          "value": 22708041507366.203,
          "variable": "FUND"
         },
         {
          "Year": 2236,
          "value": 22821258152160.445,
          "variable": "FUND"
         },
         {
          "Year": 2237,
          "value": 22933675352818.32,
          "variable": "FUND"
         },
         {
          "Year": 2238,
          "value": 23028525423533.117,
          "variable": "FUND"
         },
         {
          "Year": 2239,
          "value": 23123959134333.97,
          "variable": "FUND"
         },
         {
          "Year": 2240,
          "value": 23233781019570.84,
          "variable": "FUND"
         },
         {
          "Year": 2241,
          "value": 23342865500881.457,
          "variable": "FUND"
         },
         {
          "Year": 2242,
          "value": 23451221059312.82,
          "variable": "FUND"
         },
         {
          "Year": 2243,
          "value": 23558859072462.58,
          "variable": "FUND"
         },
         {
          "Year": 2244,
          "value": 23665836358866.105,
          "variable": "FUND"
         },
         {
          "Year": 2245,
          "value": 23772109236412.39,
          "variable": "FUND"
         },
         {
          "Year": 2246,
          "value": 23877687422555.7,
          "variable": "FUND"
         },
         {
          "Year": 2247,
          "value": 23982618818131.31,
          "variable": "FUND"
         },
         {
          "Year": 2248,
          "value": 24086906212086.734,
          "variable": "FUND"
         },
         {
          "Year": 2249,
          "value": 24190641331926.133,
          "variable": "FUND"
         },
         {
          "Year": 2250,
          "value": 24293687796424.75,
          "variable": "FUND"
         },
         {
          "Year": 2251,
          "value": 24396084630213.69,
          "variable": "FUND"
         },
         {
          "Year": 2252,
          "value": 24497915096913.54,
          "variable": "FUND"
         },
         {
          "Year": 2253,
          "value": 24599199107909.64,
          "variable": "FUND"
         },
         {
          "Year": 2254,
          "value": 24699904957220.547,
          "variable": "FUND"
         },
         {
          "Year": 2255,
          "value": 24800094539902.47,
          "variable": "FUND"
         },
         {
          "Year": 2256,
          "value": 24899691122923.047,
          "variable": "FUND"
         },
         {
          "Year": 2257,
          "value": 24998767391302.09,
          "variable": "FUND"
         },
         {
          "Year": 2258,
          "value": 25097431086990.312,
          "variable": "FUND"
         },
         {
          "Year": 2259,
          "value": 25195547512396.758,
          "variable": "FUND"
         },
         {
          "Year": 2260,
          "value": 25293147096635.188,
          "variable": "FUND"
         },
         {
          "Year": 2261,
          "value": 25390284131549.168,
          "variable": "FUND"
         },
         {
          "Year": 2262,
          "value": 25486920900689.17,
          "variable": "FUND"
         },
         {
          "Year": 2263,
          "value": 25583135793413.45,
          "variable": "FUND"
         },
         {
          "Year": 2264,
          "value": 25678865382883.02,
          "variable": "FUND"
         },
         {
          "Year": 2265,
          "value": 25774092516449.477,
          "variable": "FUND"
         },
         {
          "Year": 2266,
          "value": 25868884643009.54,
          "variable": "FUND"
         },
         {
          "Year": 2267,
          "value": 25963261253877.523,
          "variable": "FUND"
         },
         {
          "Year": 2268,
          "value": 26057129929287.883,
          "variable": "FUND"
         },
         {
          "Year": 2269,
          "value": 26150609867246.105,
          "variable": "FUND"
         },
         {
          "Year": 2270,
          "value": 26243632453238.637,
          "variable": "FUND"
         },
         {
          "Year": 2271,
          "value": 26336306959970,
          "variable": "FUND"
         },
         {
          "Year": 2272,
          "value": 26428576150595.836,
          "variable": "FUND"
         },
         {
          "Year": 2273,
          "value": 26520446573700.402,
          "variable": "FUND"
         },
         {
          "Year": 2274,
          "value": 26611950025378.348,
          "variable": "FUND"
         },
         {
          "Year": 2275,
          "value": 26702972347351.125,
          "variable": "FUND"
         },
         {
          "Year": 2276,
          "value": 26793694623092.656,
          "variable": "FUND"
         },
         {
          "Year": 2277,
          "value": 26883958172603.984,
          "variable": "FUND"
         },
         {
          "Year": 2278,
          "value": 26973865282930.68,
          "variable": "FUND"
         },
         {
          "Year": 2279,
          "value": 27063393995062.508,
          "variable": "FUND"
         },
         {
          "Year": 2280,
          "value": 27152606221263.113,
          "variable": "FUND"
         },
         {
          "Year": 2281,
          "value": 27230870101013.555,
          "variable": "FUND"
         },
         {
          "Year": 2282,
          "value": 27318375279956.645,
          "variable": "FUND"
         },
         {
          "Year": 2283,
          "value": 27406404910785.348,
          "variable": "FUND"
         },
         {
          "Year": 2284,
          "value": 27494108783417.957,
          "variable": "FUND"
         },
         {
          "Year": 2285,
          "value": 27581388025065.86,
          "variable": "FUND"
         },
         {
          "Year": 2286,
          "value": 27668484613061.76,
          "variable": "FUND"
         },
         {
          "Year": 2287,
          "value": 27755130758973.69,
          "variable": "FUND"
         },
         {
          "Year": 2288,
          "value": 27841482635621.254,
          "variable": "FUND"
         },
         {
          "Year": 2289,
          "value": 27927484219156.023,
          "variable": "FUND"
         },
         {
          "Year": 2290,
          "value": 28013186838314.117,
          "variable": "FUND"
         },
         {
          "Year": 2291,
          "value": 28098625563166.863,
          "variable": "FUND"
         },
         {
          "Year": 2292,
          "value": 28183724632634.977,
          "variable": "FUND"
         },
         {
          "Year": 2293,
          "value": 28268424554038.9,
          "variable": "FUND"
         },
         {
          "Year": 2294,
          "value": 28352952361035.977,
          "variable": "FUND"
         },
         {
          "Year": 2295,
          "value": 28437148006920.527,
          "variable": "FUND"
         },
         {
          "Year": 2296,
          "value": 28520982605554.594,
          "variable": "FUND"
         },
         {
          "Year": 2297,
          "value": 28604525307207.785,
          "variable": "FUND"
         },
         {
          "Year": 2298,
          "value": 28687680236024.223,
          "variable": "FUND"
         },
         {
          "Year": 2299,
          "value": 28770584444342.26,
          "variable": "FUND"
         },
         {
          "Year": 2300,
          "value": 28853242188616.035,
          "variable": "FUND"
         },
         {
          "Year": 2301,
          "value": 28933875911461.164,
          "variable": "FUND"
         },
         {
          "Year": 2302,
          "value": 29013129884628.91,
          "variable": "FUND"
         },
         {
          "Year": 2303,
          "value": 29091064251758.41,
          "variable": "FUND"
         },
         {
          "Year": 2304,
          "value": 29167717619044.73,
          "variable": "FUND"
         },
         {
          "Year": 2305,
          "value": 29243126786514.543,
          "variable": "FUND"
         },
         {
          "Year": 2306,
          "value": 29317327109499.43,
          "variable": "FUND"
         },
         {
          "Year": 2307,
          "value": 29390352783470.824,
          "variable": "FUND"
         },
         {
          "Year": 2308,
          "value": 29462237065760.004,
          "variable": "FUND"
         },
         {
          "Year": 2309,
          "value": 29533012447558.99,
          "variable": "FUND"
         },
         {
          "Year": 2310,
          "value": 29602710786945.527,
          "variable": "FUND"
         },
         {
          "Year": 2311,
          "value": 29671363411581.152,
          "variable": "FUND"
         },
         {
          "Year": 2312,
          "value": 29739001198080.39,
          "variable": "FUND"
         },
         {
          "Year": 2313,
          "value": 29805654633748.68,
          "variable": "FUND"
         },
         {
          "Year": 2314,
          "value": 29871353865371.19,
          "variable": "FUND"
         },
         {
          "Year": 2315,
          "value": 29936128738947.234,
          "variable": "FUND"
         },
         {
          "Year": 2316,
          "value": 30000008833669.055,
          "variable": "FUND"
         },
         {
          "Year": 2317,
          "value": 30063023493024.367,
          "variable": "FUND"
         },
         {
          "Year": 2318,
          "value": 30125201855618.19,
          "variable": "FUND"
         },
         {
          "Year": 2319,
          "value": 30186572888180.24,
          "variable": "FUND"
         },
         {
          "Year": 2320,
          "value": 30247165423238.55,
          "variable": "FUND"
         },
         {
          "Year": 2321,
          "value": 30313809532422.457,
          "variable": "FUND"
         },
         {
          "Year": 2322,
          "value": 30410853618114.13,
          "variable": "FUND"
         },
         {
          "Year": 2323,
          "value": 30507340771116.742,
          "variable": "FUND"
         },
         {
          "Year": 2324,
          "value": 30603262061402.902,
          "variable": "FUND"
         },
         {
          "Year": 2325,
          "value": 30698612344689.793,
          "variable": "FUND"
         },
         {
          "Year": 2326,
          "value": 30793390096798.06,
          "variable": "FUND"
         },
         {
          "Year": 2327,
          "value": 30887597320084.582,
          "variable": "FUND"
         },
         {
          "Year": 2328,
          "value": 30981239535742.637,
          "variable": "FUND"
         },
         {
          "Year": 2329,
          "value": 31074325883330.89,
          "variable": "FUND"
         },
         {
          "Year": 2330,
          "value": 31166869360630.188,
          "variable": "FUND"
         },
         {
          "Year": 2331,
          "value": 31258887255591.945,
          "variable": "FUND"
         },
         {
          "Year": 2332,
          "value": 31350401852901.582,
          "variable": "FUND"
         },
         {
          "Year": 2333,
          "value": 31437376547445.863,
          "variable": "FUND"
         },
         {
          "Year": 2334,
          "value": 31363762555303,
          "variable": "FUND"
         },
         {
          "Year": 2335,
          "value": 31451315621240.87,
          "variable": "FUND"
         },
         {
          "Year": 2336,
          "value": 31538272119058.65,
          "variable": "FUND"
         },
         {
          "Year": 2337,
          "value": 31624634322089.094,
          "variable": "FUND"
         },
         {
          "Year": 2338,
          "value": 31710412035146.273,
          "variable": "FUND"
         },
         {
          "Year": 2339,
          "value": 31795615628130.004,
          "variable": "FUND"
         },
         {
          "Year": 2340,
          "value": 31880255956995.223,
          "variable": "FUND"
         },
         {
          "Year": 2341,
          "value": 31964344292069.168,
          "variable": "FUND"
         },
         {
          "Year": 2342,
          "value": 32047892253434.71,
          "variable": "FUND"
         },
         {
          "Year": 2343,
          "value": 32130911752736.832,
          "variable": "FUND"
         },
         {
          "Year": 2344,
          "value": 32213414940812.49,
          "variable": "FUND"
         },
         {
          "Year": 2345,
          "value": 32295414160610.645,
          "variable": "FUND"
         },
         {
          "Year": 2346,
          "value": 32376921904910.656,
          "variable": "FUND"
         },
         {
          "Year": 2347,
          "value": 32457950778390.285,
          "variable": "FUND"
         },
         {
          "Year": 2348,
          "value": 32538513463643.555,
          "variable": "FUND"
         },
         {
          "Year": 2349,
          "value": 32618622690775.195,
          "variable": "FUND"
         },
         {
          "Year": 2350,
          "value": 32698291210238.367,
          "variable": "FUND"
         },
         {
          "Year": 2351,
          "value": 32777531768611.496,
          "variable": "FUND"
         },
         {
          "Year": 2352,
          "value": 32856357087038.273,
          "variable": "FUND"
         },
         {
          "Year": 2353,
          "value": 32934779842076.008,
          "variable": "FUND"
         },
         {
          "Year": 2354,
          "value": 33012812648729.027,
          "variable": "FUND"
         },
         {
          "Year": 2355,
          "value": 33090468045453.684,
          "variable": "FUND"
         },
         {
          "Year": 2356,
          "value": 33167758480950.67,
          "variable": "FUND"
         },
         {
          "Year": 2357,
          "value": 33244696302569.992,
          "variable": "FUND"
         },
         {
          "Year": 2358,
          "value": 33321293746175.336,
          "variable": "FUND"
         },
         {
          "Year": 2359,
          "value": 33397562927322.723,
          "variable": "FUND"
         },
         {
          "Year": 2360,
          "value": 33473515833626.797,
          "variable": "FUND"
         },
         {
          "Year": 2361,
          "value": 33549164318195.46,
          "variable": "FUND"
         },
         {
          "Year": 2362,
          "value": 33624520094027.29,
          "variable": "FUND"
         },
         {
          "Year": 2363,
          "value": 33699594729273.477,
          "variable": "FUND"
         },
         {
          "Year": 2364,
          "value": 33774399643273.973,
          "variable": "FUND"
         },
         {
          "Year": 2365,
          "value": 33848946103288.99,
          "variable": "FUND"
         },
         {
          "Year": 2366,
          "value": 33923245221849.965,
          "variable": "FUND"
         },
         {
          "Year": 2367,
          "value": 33997307954659.527,
          "variable": "FUND"
         },
         {
          "Year": 2368,
          "value": 34071145098981.703,
          "variable": "FUND"
         },
         {
          "Year": 2369,
          "value": 34144767292461.12,
          "variable": "FUND"
         },
         {
          "Year": 2370,
          "value": 34218185012316.7,
          "variable": "FUND"
         },
         {
          "Year": 2371,
          "value": 34291408574860.06,
          "variable": "FUND"
         },
         {
          "Year": 2372,
          "value": 34364448135291.65,
          "variable": "FUND"
         },
         {
          "Year": 2373,
          "value": 34437313687722.992,
          "variable": "FUND"
         },
         {
          "Year": 2374,
          "value": 34510015065389.23,
          "variable": "FUND"
         },
         {
          "Year": 2375,
          "value": 34582561940995.883,
          "variable": "FUND"
         },
         {
          "Year": 2376,
          "value": 34644647773670.16,
          "variable": "FUND"
         },
         {
          "Year": 2377,
          "value": 34713994668813.223,
          "variable": "FUND"
         },
         {
          "Year": 2378,
          "value": 34786061717670.43,
          "variable": "FUND"
         },
         {
          "Year": 2379,
          "value": 34858012163517.3,
          "variable": "FUND"
         },
         {
          "Year": 2380,
          "value": 34929853573253.223,
          "variable": "FUND"
         },
         {
          "Year": 2381,
          "value": 35001594655676.02,
          "variable": "FUND"
         },
         {
          "Year": 2382,
          "value": 35073243960818.73,
          "variable": "FUND"
         },
         {
          "Year": 2383,
          "value": 35144809879375.23,
          "variable": "FUND"
         },
         {
          "Year": 2384,
          "value": 35216300641566.9,
          "variable": "FUND"
         },
         {
          "Year": 2385,
          "value": 35287724315289.85,
          "variable": "FUND"
         },
         {
          "Year": 2386,
          "value": 35359088803313.31,
          "variable": "FUND"
         },
         {
          "Year": 2387,
          "value": 35430401839219.26,
          "variable": "FUND"
         },
         {
          "Year": 2388,
          "value": 35501670981665.586,
          "variable": "FUND"
         },
         {
          "Year": 2389,
          "value": 35572903606401.28,
          "variable": "FUND"
         },
         {
          "Year": 2390,
          "value": 35644106895238.68,
          "variable": "FUND"
         },
         {
          "Year": 2391,
          "value": 35715287820855.75,
          "variable": "FUND"
         },
         {
          "Year": 2392,
          "value": 35786453125805.79,
          "variable": "FUND"
         },
         {
          "Year": 2393,
          "value": 35857609293363.88,
          "variable": "FUND"
         },
         {
          "Year": 2394,
          "value": 35928762506643.52,
          "variable": "FUND"
         },
         {
          "Year": 2395,
          "value": 35999918590549.92,
          "variable": "FUND"
         },
         {
          "Year": 2396,
          "value": 36071082928039.69,
          "variable": "FUND"
         },
         {
          "Year": 2397,
          "value": 36142260336944.66,
          "variable": "FUND"
         },
         {
          "Year": 2398,
          "value": 36213454884527.414,
          "variable": "FUND"
         },
         {
          "Year": 2399,
          "value": 36284669600452.27,
          "variable": "FUND"
         },
         {
          "Year": 2400,
          "value": 36355906017677.93,
          "variable": "FUND"
         },
         {
          "Year": 2401,
          "value": 36427163408687.516,
          "variable": "FUND"
         },
         {
          "Year": 2402,
          "value": 36498437453291.8,
          "variable": "FUND"
         },
         {
          "Year": 2403,
          "value": 36569717776371.34,
          "variable": "FUND"
         },
         {
          "Year": 2404,
          "value": 36640983055484.48,
          "variable": "FUND"
         },
         {
          "Year": 2405,
          "value": 36712190352628.88,
          "variable": "FUND"
         },
         {
          "Year": 2406,
          "value": 36783248771060.695,
          "variable": "FUND"
         },
         {
          "Year": 2407,
          "value": 36853941860727.83,
          "variable": "FUND"
         },
         {
          "Year": 2408,
          "value": 36923626628253.625,
          "variable": "FUND"
         },
         {
          "Year": 2409,
          "value": 36988824453425.305,
          "variable": "FUND"
         },
         {
          "Year": 2410,
          "value": 37057126999593.09,
          "variable": "FUND"
         },
         {
          "Year": 2411,
          "value": 37129320813655.91,
          "variable": "FUND"
         },
         {
          "Year": 2412,
          "value": 37201627218325.89,
          "variable": "FUND"
         },
         {
          "Year": 2413,
          "value": 37274051459191.26,
          "variable": "FUND"
         },
         {
          "Year": 2414,
          "value": 37346598703539.17,
          "variable": "FUND"
         },
         {
          "Year": 2415,
          "value": 37419274042044.61,
          "variable": "FUND"
         },
         {
          "Year": 2416,
          "value": 37492082490419.29,
          "variable": "FUND"
         },
         {
          "Year": 2417,
          "value": 37565028991034.97,
          "variable": "FUND"
         },
         {
          "Year": 2418,
          "value": 37638118414513.26,
          "variable": "FUND"
         },
         {
          "Year": 2419,
          "value": 37711355561283.76,
          "variable": "FUND"
         },
         {
          "Year": 2420,
          "value": 37784745163115.21,
          "variable": "FUND"
         },
         {
          "Year": 2421,
          "value": 37858291884614.78,
          "variable": "FUND"
         },
         {
          "Year": 2422,
          "value": 37932000324699.06,
          "variable": "FUND"
         },
         {
          "Year": 2423,
          "value": 38005875018034.44,
          "variable": "FUND"
         },
         {
          "Year": 2424,
          "value": 38079920436450.37,
          "variable": "FUND"
         },
         {
          "Year": 2425,
          "value": 38154140990324.336,
          "variable": "FUND"
         },
         {
          "Year": 2426,
          "value": 38228541029940.32,
          "variable": "FUND"
         },
         {
          "Year": 2427,
          "value": 38303124846816.625,
          "variable": "FUND"
         },
         {
          "Year": 2428,
          "value": 38377896675011.33,
          "variable": "FUND"
         },
         {
          "Year": 2429,
          "value": 38452860692397.11,
          "variable": "FUND"
         },
         {
          "Year": 2430,
          "value": 38528021021916.44,
          "variable": "FUND"
         },
         {
          "Year": 2431,
          "value": 38603381732801.49,
          "variable": "FUND"
         },
         {
          "Year": 2432,
          "value": 38678946841783.36,
          "variable": "FUND"
         },
         {
          "Year": 2433,
          "value": 38754720314261.31,
          "variable": "FUND"
         },
         {
          "Year": 2434,
          "value": 38830706065460.65,
          "variable": "FUND"
         },
         {
          "Year": 2435,
          "value": 38906907961560.45,
          "variable": "FUND"
         },
         {
          "Year": 2436,
          "value": 38983329820799.95,
          "variable": "FUND"
         },
         {
          "Year": 2437,
          "value": 39059975414563.336,
          "variable": "FUND"
         },
         {
          "Year": 2438,
          "value": 39136848468441.8,
          "variable": "FUND"
         },
         {
          "Year": 2439,
          "value": 39213952663273.16,
          "variable": "FUND"
         },
         {
          "Year": 2440,
          "value": 39291291636161.65,
          "variable": "FUND"
         },
         {
          "Year": 2441,
          "value": 39368868981476.28,
          "variable": "FUND"
         },
         {
          "Year": 2442,
          "value": 39446688251829.836,
          "variable": "FUND"
         },
         {
          "Year": 2443,
          "value": 39524752959035.734,
          "variable": "FUND"
         },
         {
          "Year": 2444,
          "value": 39603066575048.695,
          "variable": "FUND"
         },
         {
          "Year": 2445,
          "value": 39681632532883.03,
          "variable": "FUND"
         },
         {
          "Year": 2446,
          "value": 39760454227515.14,
          "variable": "FUND"
         },
         {
          "Year": 2447,
          "value": 39839535016766.52,
          "variable": "FUND"
         },
         {
          "Year": 2448,
          "value": 39918878222168.24,
          "variable": "FUND"
         },
         {
          "Year": 2449,
          "value": 39998487129808.78,
          "variable": "FUND"
         },
         {
          "Year": 2450,
          "value": 40078364991166.84,
          "variable": "FUND"
         },
         {
          "Year": 2451,
          "value": 40158515023920.95,
          "variable": "FUND"
         },
         {
          "Year": 2452,
          "value": 40238940412752.88,
          "variable": "FUND"
         },
         {
          "Year": 2453,
          "value": 40319644627372.91,
          "variable": "FUND"
         },
         {
          "Year": 2454,
          "value": 40400632080709.984,
          "variable": "FUND"
         },
         {
          "Year": 2455,
          "value": 40481907071641.94,
          "variable": "FUND"
         },
         {
          "Year": 2456,
          "value": 40563472526835.8,
          "variable": "FUND"
         },
         {
          "Year": 2457,
          "value": 40645331288263.57,
          "variable": "FUND"
         },
         {
          "Year": 2458,
          "value": 40727486122638.08,
          "variable": "FUND"
         },
         {
          "Year": 2459,
          "value": 40809939732909.9,
          "variable": "FUND"
         },
         {
          "Year": 2460,
          "value": 40892694770824.1,
          "variable": "FUND"
         },
         {
          "Year": 2461,
          "value": 40975753849584.34,
          "variable": "FUND"
         },
         {
          "Year": 2462,
          "value": 41059119555787.96,
          "variable": "FUND"
         },
         {
          "Year": 2463,
          "value": 41142794459975.74,
          "variable": "FUND"
         },
         {
          "Year": 2464,
          "value": 41226781125358.35,
          "variable": "FUND"
         },
         {
          "Year": 2465,
          "value": 41311082114521.69,
          "variable": "FUND"
         },
         {
          "Year": 2466,
          "value": 41395699994109.68,
          "variable": "FUND"
         },
         {
          "Year": 2467,
          "value": 41480637337635.02,
          "variable": "FUND"
         },
         {
          "Year": 2468,
          "value": 41565896726682.93,
          "variable": "FUND"
         },
         {
          "Year": 2469,
          "value": 41651480750818.055,
          "variable": "FUND"
         },
         {
          "Year": 2470,
          "value": 41737392006520.086,
          "variable": "FUND"
         },
         {
          "Year": 2471,
          "value": 41823633095450.57,
          "variable": "FUND"
         },
         {
          "Year": 2472,
          "value": 41910206622317.36,
          "variable": "FUND"
         },
         {
          "Year": 2473,
          "value": 41997115192556.875,
          "variable": "FUND"
         },
         {
          "Year": 2474,
          "value": 42084361409998.87,
          "variable": "FUND"
         },
         {
          "Year": 2475,
          "value": 42171947874639.086,
          "variable": "FUND"
         },
         {
          "Year": 2476,
          "value": 42259877180592.65,
          "variable": "FUND"
         },
         {
          "Year": 2477,
          "value": 42348151914284.74,
          "variable": "FUND"
         },
         {
          "Year": 2478,
          "value": 42436774652897.75,
          "variable": "FUND"
         },
         {
          "Year": 2479,
          "value": 42525747963073.73,
          "variable": "FUND"
         },
         {
          "Year": 2480,
          "value": 42615074399866.44,
          "variable": "FUND"
         },
         {
          "Year": 2481,
          "value": 42704756505927.02,
          "variable": "FUND"
         },
         {
          "Year": 2482,
          "value": 42794796810898.836,
          "variable": "FUND"
         },
         {
          "Year": 2483,
          "value": 42885197830987.96,
          "variable": "FUND"
         },
         {
          "Year": 2484,
          "value": 42975962068706.12,
          "variable": "FUND"
         },
         {
          "Year": 2485,
          "value": 43067092012735.52,
          "variable": "FUND"
         },
         {
          "Year": 2486,
          "value": 43158590137918.695,
          "variable": "FUND"
         },
         {
          "Year": 2487,
          "value": 43250458905334.53,
          "variable": "FUND"
         },
         {
          "Year": 2488,
          "value": 43342700762453.445,
          "variable": "FUND"
         },
         {
          "Year": 2489,
          "value": 43435318143354.5,
          "variable": "FUND"
         },
         {
          "Year": 2490,
          "value": 43528313468991.44,
          "variable": "FUND"
         },
         {
          "Year": 2491,
          "value": 43621689147493.82,
          "variable": "FUND"
         },
         {
          "Year": 2492,
          "value": 43715447574499.63,
          "variable": "FUND"
         },
         {
          "Year": 2493,
          "value": 43809591133507.51,
          "variable": "FUND"
         },
         {
          "Year": 2494,
          "value": 43904122196241.99,
          "variable": "FUND"
         },
         {
          "Year": 2495,
          "value": 43999043123034.53,
          "variable": "FUND"
         },
         {
          "Year": 2496,
          "value": 44094356263201.05,
          "variable": "FUND"
         },
         {
          "Year": 2497,
          "value": 44190063955432.125,
          "variable": "FUND"
         },
         {
          "Year": 2498,
          "value": 44286168528174.055,
          "variable": "FUND"
         },
         {
          "Year": 2499,
          "value": 44382672300011.72,
          "variable": "FUND"
         },
         {
          "Year": 2500,
          "value": 44479577580051.09,
          "variable": "FUND"
         },
         {
          "Year": 1765,
          "value": null,
          "variable": "FUNDFAIR"
         },
         {
          "Year": 1766,
          "value": null,
          "variable": "FUNDFAIR"
         },
         {
          "Year": 1767,
          "value": null,
          "variable": "FUNDFAIR"
         },
         {
          "Year": 1768,
          "value": null,
          "variable": "FUNDFAIR"
         },
         {
          "Year": 1769,
          "value": null,
          "variable": "FUNDFAIR"
         },
         {
          "Year": 1770,
          "value": null,
          "variable": "FUNDFAIR"
         },
         {
          "Year": 1771,
          "value": null,
          "variable": "FUNDFAIR"
         },
         {
          "Year": 1772,
          "value": null,
          "variable": "FUNDFAIR"
         },
         {
          "Year": 1773,
          "value": null,
          "variable": "FUNDFAIR"
         },
         {
          "Year": 1774,
          "value": null,
          "variable": "FUNDFAIR"
         },
         {
          "Year": 1775,
          "value": null,
          "variable": "FUNDFAIR"
         },
         {
          "Year": 1776,
          "value": null,
          "variable": "FUNDFAIR"
         },
         {
          "Year": 1777,
          "value": null,
          "variable": "FUNDFAIR"
         },
         {
          "Year": 1778,
          "value": null,
          "variable": "FUNDFAIR"
         },
         {
          "Year": 1779,
          "value": null,
          "variable": "FUNDFAIR"
         },
         {
          "Year": 1780,
          "value": null,
          "variable": "FUNDFAIR"
         },
         {
          "Year": 1781,
          "value": null,
          "variable": "FUNDFAIR"
         },
         {
          "Year": 1782,
          "value": null,
          "variable": "FUNDFAIR"
         },
         {
          "Year": 1783,
          "value": null,
          "variable": "FUNDFAIR"
         },
         {
          "Year": 1784,
          "value": null,
          "variable": "FUNDFAIR"
         },
         {
          "Year": 1785,
          "value": null,
          "variable": "FUNDFAIR"
         },
         {
          "Year": 1786,
          "value": null,
          "variable": "FUNDFAIR"
         },
         {
          "Year": 1787,
          "value": null,
          "variable": "FUNDFAIR"
         },
         {
          "Year": 1788,
          "value": null,
          "variable": "FUNDFAIR"
         },
         {
          "Year": 1789,
          "value": null,
          "variable": "FUNDFAIR"
         },
         {
          "Year": 1790,
          "value": null,
          "variable": "FUNDFAIR"
         },
         {
          "Year": 1791,
          "value": null,
          "variable": "FUNDFAIR"
         },
         {
          "Year": 1792,
          "value": null,
          "variable": "FUNDFAIR"
         },
         {
          "Year": 1793,
          "value": null,
          "variable": "FUNDFAIR"
         },
         {
          "Year": 1794,
          "value": null,
          "variable": "FUNDFAIR"
         },
         {
          "Year": 1795,
          "value": null,
          "variable": "FUNDFAIR"
         },
         {
          "Year": 1796,
          "value": null,
          "variable": "FUNDFAIR"
         },
         {
          "Year": 1797,
          "value": null,
          "variable": "FUNDFAIR"
         },
         {
          "Year": 1798,
          "value": null,
          "variable": "FUNDFAIR"
         },
         {
          "Year": 1799,
          "value": null,
          "variable": "FUNDFAIR"
         },
         {
          "Year": 1800,
          "value": null,
          "variable": "FUNDFAIR"
         },
         {
          "Year": 1801,
          "value": null,
          "variable": "FUNDFAIR"
         },
         {
          "Year": 1802,
          "value": null,
          "variable": "FUNDFAIR"
         },
         {
          "Year": 1803,
          "value": null,
          "variable": "FUNDFAIR"
         },
         {
          "Year": 1804,
          "value": null,
          "variable": "FUNDFAIR"
         },
         {
          "Year": 1805,
          "value": null,
          "variable": "FUNDFAIR"
         },
         {
          "Year": 1806,
          "value": null,
          "variable": "FUNDFAIR"
         },
         {
          "Year": 1807,
          "value": null,
          "variable": "FUNDFAIR"
         },
         {
          "Year": 1808,
          "value": null,
          "variable": "FUNDFAIR"
         },
         {
          "Year": 1809,
          "value": null,
          "variable": "FUNDFAIR"
         },
         {
          "Year": 1810,
          "value": null,
          "variable": "FUNDFAIR"
         },
         {
          "Year": 1811,
          "value": null,
          "variable": "FUNDFAIR"
         },
         {
          "Year": 1812,
          "value": null,
          "variable": "FUNDFAIR"
         },
         {
          "Year": 1813,
          "value": null,
          "variable": "FUNDFAIR"
         },
         {
          "Year": 1814,
          "value": null,
          "variable": "FUNDFAIR"
         },
         {
          "Year": 1815,
          "value": null,
          "variable": "FUNDFAIR"
         },
         {
          "Year": 1816,
          "value": null,
          "variable": "FUNDFAIR"
         },
         {
          "Year": 1817,
          "value": null,
          "variable": "FUNDFAIR"
         },
         {
          "Year": 1818,
          "value": null,
          "variable": "FUNDFAIR"
         },
         {
          "Year": 1819,
          "value": null,
          "variable": "FUNDFAIR"
         },
         {
          "Year": 1820,
          "value": null,
          "variable": "FUNDFAIR"
         },
         {
          "Year": 1821,
          "value": null,
          "variable": "FUNDFAIR"
         },
         {
          "Year": 1822,
          "value": null,
          "variable": "FUNDFAIR"
         },
         {
          "Year": 1823,
          "value": null,
          "variable": "FUNDFAIR"
         },
         {
          "Year": 1824,
          "value": null,
          "variable": "FUNDFAIR"
         },
         {
          "Year": 1825,
          "value": null,
          "variable": "FUNDFAIR"
         },
         {
          "Year": 1826,
          "value": null,
          "variable": "FUNDFAIR"
         },
         {
          "Year": 1827,
          "value": null,
          "variable": "FUNDFAIR"
         },
         {
          "Year": 1828,
          "value": null,
          "variable": "FUNDFAIR"
         },
         {
          "Year": 1829,
          "value": null,
          "variable": "FUNDFAIR"
         },
         {
          "Year": 1830,
          "value": null,
          "variable": "FUNDFAIR"
         },
         {
          "Year": 1831,
          "value": null,
          "variable": "FUNDFAIR"
         },
         {
          "Year": 1832,
          "value": null,
          "variable": "FUNDFAIR"
         },
         {
          "Year": 1833,
          "value": null,
          "variable": "FUNDFAIR"
         },
         {
          "Year": 1834,
          "value": null,
          "variable": "FUNDFAIR"
         },
         {
          "Year": 1835,
          "value": null,
          "variable": "FUNDFAIR"
         },
         {
          "Year": 1836,
          "value": null,
          "variable": "FUNDFAIR"
         },
         {
          "Year": 1837,
          "value": null,
          "variable": "FUNDFAIR"
         },
         {
          "Year": 1838,
          "value": null,
          "variable": "FUNDFAIR"
         },
         {
          "Year": 1839,
          "value": null,
          "variable": "FUNDFAIR"
         },
         {
          "Year": 1840,
          "value": null,
          "variable": "FUNDFAIR"
         },
         {
          "Year": 1841,
          "value": null,
          "variable": "FUNDFAIR"
         },
         {
          "Year": 1842,
          "value": null,
          "variable": "FUNDFAIR"
         },
         {
          "Year": 1843,
          "value": null,
          "variable": "FUNDFAIR"
         },
         {
          "Year": 1844,
          "value": null,
          "variable": "FUNDFAIR"
         },
         {
          "Year": 1845,
          "value": null,
          "variable": "FUNDFAIR"
         },
         {
          "Year": 1846,
          "value": null,
          "variable": "FUNDFAIR"
         },
         {
          "Year": 1847,
          "value": null,
          "variable": "FUNDFAIR"
         },
         {
          "Year": 1848,
          "value": null,
          "variable": "FUNDFAIR"
         },
         {
          "Year": 1849,
          "value": null,
          "variable": "FUNDFAIR"
         },
         {
          "Year": 1850,
          "value": null,
          "variable": "FUNDFAIR"
         },
         {
          "Year": 1851,
          "value": null,
          "variable": "FUNDFAIR"
         },
         {
          "Year": 1852,
          "value": null,
          "variable": "FUNDFAIR"
         },
         {
          "Year": 1853,
          "value": null,
          "variable": "FUNDFAIR"
         },
         {
          "Year": 1854,
          "value": null,
          "variable": "FUNDFAIR"
         },
         {
          "Year": 1855,
          "value": null,
          "variable": "FUNDFAIR"
         },
         {
          "Year": 1856,
          "value": null,
          "variable": "FUNDFAIR"
         },
         {
          "Year": 1857,
          "value": null,
          "variable": "FUNDFAIR"
         },
         {
          "Year": 1858,
          "value": null,
          "variable": "FUNDFAIR"
         },
         {
          "Year": 1859,
          "value": null,
          "variable": "FUNDFAIR"
         },
         {
          "Year": 1860,
          "value": null,
          "variable": "FUNDFAIR"
         },
         {
          "Year": 1861,
          "value": null,
          "variable": "FUNDFAIR"
         },
         {
          "Year": 1862,
          "value": null,
          "variable": "FUNDFAIR"
         },
         {
          "Year": 1863,
          "value": null,
          "variable": "FUNDFAIR"
         },
         {
          "Year": 1864,
          "value": null,
          "variable": "FUNDFAIR"
         },
         {
          "Year": 1865,
          "value": null,
          "variable": "FUNDFAIR"
         },
         {
          "Year": 1866,
          "value": null,
          "variable": "FUNDFAIR"
         },
         {
          "Year": 1867,
          "value": null,
          "variable": "FUNDFAIR"
         },
         {
          "Year": 1868,
          "value": null,
          "variable": "FUNDFAIR"
         },
         {
          "Year": 1869,
          "value": null,
          "variable": "FUNDFAIR"
         },
         {
          "Year": 1870,
          "value": null,
          "variable": "FUNDFAIR"
         },
         {
          "Year": 1871,
          "value": null,
          "variable": "FUNDFAIR"
         },
         {
          "Year": 1872,
          "value": null,
          "variable": "FUNDFAIR"
         },
         {
          "Year": 1873,
          "value": null,
          "variable": "FUNDFAIR"
         },
         {
          "Year": 1874,
          "value": null,
          "variable": "FUNDFAIR"
         },
         {
          "Year": 1875,
          "value": null,
          "variable": "FUNDFAIR"
         },
         {
          "Year": 1876,
          "value": null,
          "variable": "FUNDFAIR"
         },
         {
          "Year": 1877,
          "value": null,
          "variable": "FUNDFAIR"
         },
         {
          "Year": 1878,
          "value": null,
          "variable": "FUNDFAIR"
         },
         {
          "Year": 1879,
          "value": null,
          "variable": "FUNDFAIR"
         },
         {
          "Year": 1880,
          "value": null,
          "variable": "FUNDFAIR"
         },
         {
          "Year": 1881,
          "value": null,
          "variable": "FUNDFAIR"
         },
         {
          "Year": 1882,
          "value": null,
          "variable": "FUNDFAIR"
         },
         {
          "Year": 1883,
          "value": null,
          "variable": "FUNDFAIR"
         },
         {
          "Year": 1884,
          "value": null,
          "variable": "FUNDFAIR"
         },
         {
          "Year": 1885,
          "value": null,
          "variable": "FUNDFAIR"
         },
         {
          "Year": 1886,
          "value": null,
          "variable": "FUNDFAIR"
         },
         {
          "Year": 1887,
          "value": null,
          "variable": "FUNDFAIR"
         },
         {
          "Year": 1888,
          "value": null,
          "variable": "FUNDFAIR"
         },
         {
          "Year": 1889,
          "value": null,
          "variable": "FUNDFAIR"
         },
         {
          "Year": 1890,
          "value": null,
          "variable": "FUNDFAIR"
         },
         {
          "Year": 1891,
          "value": null,
          "variable": "FUNDFAIR"
         },
         {
          "Year": 1892,
          "value": null,
          "variable": "FUNDFAIR"
         },
         {
          "Year": 1893,
          "value": null,
          "variable": "FUNDFAIR"
         },
         {
          "Year": 1894,
          "value": null,
          "variable": "FUNDFAIR"
         },
         {
          "Year": 1895,
          "value": null,
          "variable": "FUNDFAIR"
         },
         {
          "Year": 1896,
          "value": null,
          "variable": "FUNDFAIR"
         },
         {
          "Year": 1897,
          "value": null,
          "variable": "FUNDFAIR"
         },
         {
          "Year": 1898,
          "value": null,
          "variable": "FUNDFAIR"
         },
         {
          "Year": 1899,
          "value": null,
          "variable": "FUNDFAIR"
         },
         {
          "Year": 1900,
          "value": null,
          "variable": "FUNDFAIR"
         },
         {
          "Year": 1901,
          "value": null,
          "variable": "FUNDFAIR"
         },
         {
          "Year": 1902,
          "value": null,
          "variable": "FUNDFAIR"
         },
         {
          "Year": 1903,
          "value": null,
          "variable": "FUNDFAIR"
         },
         {
          "Year": 1904,
          "value": null,
          "variable": "FUNDFAIR"
         },
         {
          "Year": 1905,
          "value": null,
          "variable": "FUNDFAIR"
         },
         {
          "Year": 1906,
          "value": null,
          "variable": "FUNDFAIR"
         },
         {
          "Year": 1907,
          "value": null,
          "variable": "FUNDFAIR"
         },
         {
          "Year": 1908,
          "value": null,
          "variable": "FUNDFAIR"
         },
         {
          "Year": 1909,
          "value": null,
          "variable": "FUNDFAIR"
         },
         {
          "Year": 1910,
          "value": null,
          "variable": "FUNDFAIR"
         },
         {
          "Year": 1911,
          "value": null,
          "variable": "FUNDFAIR"
         },
         {
          "Year": 1912,
          "value": null,
          "variable": "FUNDFAIR"
         },
         {
          "Year": 1913,
          "value": null,
          "variable": "FUNDFAIR"
         },
         {
          "Year": 1914,
          "value": null,
          "variable": "FUNDFAIR"
         },
         {
          "Year": 1915,
          "value": null,
          "variable": "FUNDFAIR"
         },
         {
          "Year": 1916,
          "value": null,
          "variable": "FUNDFAIR"
         },
         {
          "Year": 1917,
          "value": null,
          "variable": "FUNDFAIR"
         },
         {
          "Year": 1918,
          "value": null,
          "variable": "FUNDFAIR"
         },
         {
          "Year": 1919,
          "value": null,
          "variable": "FUNDFAIR"
         },
         {
          "Year": 1920,
          "value": null,
          "variable": "FUNDFAIR"
         },
         {
          "Year": 1921,
          "value": null,
          "variable": "FUNDFAIR"
         },
         {
          "Year": 1922,
          "value": null,
          "variable": "FUNDFAIR"
         },
         {
          "Year": 1923,
          "value": null,
          "variable": "FUNDFAIR"
         },
         {
          "Year": 1924,
          "value": null,
          "variable": "FUNDFAIR"
         },
         {
          "Year": 1925,
          "value": null,
          "variable": "FUNDFAIR"
         },
         {
          "Year": 1926,
          "value": null,
          "variable": "FUNDFAIR"
         },
         {
          "Year": 1927,
          "value": null,
          "variable": "FUNDFAIR"
         },
         {
          "Year": 1928,
          "value": null,
          "variable": "FUNDFAIR"
         },
         {
          "Year": 1929,
          "value": null,
          "variable": "FUNDFAIR"
         },
         {
          "Year": 1930,
          "value": null,
          "variable": "FUNDFAIR"
         },
         {
          "Year": 1931,
          "value": null,
          "variable": "FUNDFAIR"
         },
         {
          "Year": 1932,
          "value": null,
          "variable": "FUNDFAIR"
         },
         {
          "Year": 1933,
          "value": null,
          "variable": "FUNDFAIR"
         },
         {
          "Year": 1934,
          "value": null,
          "variable": "FUNDFAIR"
         },
         {
          "Year": 1935,
          "value": null,
          "variable": "FUNDFAIR"
         },
         {
          "Year": 1936,
          "value": null,
          "variable": "FUNDFAIR"
         },
         {
          "Year": 1937,
          "value": null,
          "variable": "FUNDFAIR"
         },
         {
          "Year": 1938,
          "value": null,
          "variable": "FUNDFAIR"
         },
         {
          "Year": 1939,
          "value": null,
          "variable": "FUNDFAIR"
         },
         {
          "Year": 1940,
          "value": null,
          "variable": "FUNDFAIR"
         },
         {
          "Year": 1941,
          "value": null,
          "variable": "FUNDFAIR"
         },
         {
          "Year": 1942,
          "value": null,
          "variable": "FUNDFAIR"
         },
         {
          "Year": 1943,
          "value": null,
          "variable": "FUNDFAIR"
         },
         {
          "Year": 1944,
          "value": null,
          "variable": "FUNDFAIR"
         },
         {
          "Year": 1945,
          "value": null,
          "variable": "FUNDFAIR"
         },
         {
          "Year": 1946,
          "value": null,
          "variable": "FUNDFAIR"
         },
         {
          "Year": 1947,
          "value": null,
          "variable": "FUNDFAIR"
         },
         {
          "Year": 1948,
          "value": null,
          "variable": "FUNDFAIR"
         },
         {
          "Year": 1949,
          "value": null,
          "variable": "FUNDFAIR"
         },
         {
          "Year": 1950,
          "value": null,
          "variable": "FUNDFAIR"
         },
         {
          "Year": 1951,
          "value": -1923848039.5443916,
          "variable": "FUNDFAIR"
         },
         {
          "Year": 1952,
          "value": -2938107696.59767,
          "variable": "FUNDFAIR"
         },
         {
          "Year": 1953,
          "value": -3837852109.2305083,
          "variable": "FUNDFAIR"
         },
         {
          "Year": 1954,
          "value": -4985077525.457685,
          "variable": "FUNDFAIR"
         },
         {
          "Year": 1955,
          "value": -5965810385.129713,
          "variable": "FUNDFAIR"
         },
         {
          "Year": 1956,
          "value": -5509133103.66406,
          "variable": "FUNDFAIR"
         },
         {
          "Year": 1957,
          "value": -5398561263.323602,
          "variable": "FUNDFAIR"
         },
         {
          "Year": 1958,
          "value": -6180721724.75727,
          "variable": "FUNDFAIR"
         },
         {
          "Year": 1959,
          "value": -7935436462.307686,
          "variable": "FUNDFAIR"
         },
         {
          "Year": 1960,
          "value": -9755514082.825966,
          "variable": "FUNDFAIR"
         },
         {
          "Year": 1961,
          "value": -11141590029.595041,
          "variable": "FUNDFAIR"
         },
         {
          "Year": 1962,
          "value": -11202804980.234903,
          "variable": "FUNDFAIR"
         },
         {
          "Year": 1963,
          "value": -9652894641.928331,
          "variable": "FUNDFAIR"
         },
         {
          "Year": 1964,
          "value": -12399150710.266102,
          "variable": "FUNDFAIR"
         },
         {
          "Year": 1965,
          "value": -17054466328.97527,
          "variable": "FUNDFAIR"
         },
         {
          "Year": 1966,
          "value": -15504700903.198318,
          "variable": "FUNDFAIR"
         },
         {
          "Year": 1967,
          "value": -16994787447.824461,
          "variable": "FUNDFAIR"
         },
         {
          "Year": 1968,
          "value": -17925646756.969044,
          "variable": "FUNDFAIR"
         },
         {
          "Year": 1969,
          "value": -19158769218.19578,
          "variable": "FUNDFAIR"
         },
         {
          "Year": 1970,
          "value": -20948194533.64849,
          "variable": "FUNDFAIR"
         },
         {
          "Year": 1971,
          "value": -24536237559.848244,
          "variable": "FUNDFAIR"
         },
         {
          "Year": 1972,
          "value": -26473583552.964855,
          "variable": "FUNDFAIR"
         },
         {
          "Year": 1973,
          "value": -26295652849.142216,
          "variable": "FUNDFAIR"
         },
         {
          "Year": 1974,
          "value": -31362832169.01341,
          "variable": "FUNDFAIR"
         },
         {
          "Year": 1975,
          "value": -33803037152.79076,
          "variable": "FUNDFAIR"
         },
         {
          "Year": 1976,
          "value": -33300260665.26474,
          "variable": "FUNDFAIR"
         },
         {
          "Year": 1977,
          "value": -33080853648.21107,
          "variable": "FUNDFAIR"
         },
         {
          "Year": 1978,
          "value": -33850358710.558422,
          "variable": "FUNDFAIR"
         },
         {
          "Year": 1979,
          "value": -35320602262.12859,
          "variable": "FUNDFAIR"
         },
         {
          "Year": 1980,
          "value": -38575896894.48925,
          "variable": "FUNDFAIR"
         },
         {
          "Year": 1981,
          "value": -41960605824.80864,
          "variable": "FUNDFAIR"
         },
         {
          "Year": 1982,
          "value": -49311720811.66715,
          "variable": "FUNDFAIR"
         },
         {
          "Year": 1983,
          "value": -46683609465.95935,
          "variable": "FUNDFAIR"
         },
         {
          "Year": 1984,
          "value": -64887622338.46706,
          "variable": "FUNDFAIR"
         },
         {
          "Year": 1985,
          "value": -58775917706.34592,
          "variable": "FUNDFAIR"
         },
         {
          "Year": 1986,
          "value": -63389582877.5013,
          "variable": "FUNDFAIR"
         },
         {
          "Year": 1987,
          "value": -65533738057.60169,
          "variable": "FUNDFAIR"
         },
         {
          "Year": 1988,
          "value": -67484410778.256676,
          "variable": "FUNDFAIR"
         },
         {
          "Year": 1989,
          "value": -69750965446.4297,
          "variable": "FUNDFAIR"
         },
         {
          "Year": 1990,
          "value": -75957902735.8575,
          "variable": "FUNDFAIR"
         },
         {
          "Year": 1991,
          "value": -81830037827.26726,
          "variable": "FUNDFAIR"
         },
         {
          "Year": 1992,
          "value": -73402437529.61708,
          "variable": "FUNDFAIR"
         },
         {
          "Year": 1993,
          "value": -98614997716.58276,
          "variable": "FUNDFAIR"
         },
         {
          "Year": 1994,
          "value": -90402360467.41164,
          "variable": "FUNDFAIR"
         },
         {
          "Year": 1995,
          "value": -92919284907.29857,
          "variable": "FUNDFAIR"
         },
         {
          "Year": 1996,
          "value": -98434232547.56688,
          "variable": "FUNDFAIR"
         },
         {
          "Year": 1997,
          "value": -103106126858.80309,
          "variable": "FUNDFAIR"
         },
         {
          "Year": 1998,
          "value": -107235417472.58528,
          "variable": "FUNDFAIR"
         },
         {
          "Year": 1999,
          "value": -78544107965.55188,
          "variable": "FUNDFAIR"
         },
         {
          "Year": 2000,
          "value": -112529604442.39388,
          "variable": "FUNDFAIR"
         },
         {
          "Year": 2001,
          "value": -121398725374.31917,
          "variable": "FUNDFAIR"
         },
         {
          "Year": 2002,
          "value": -126666736774.01834,
          "variable": "FUNDFAIR"
         },
         {
          "Year": 2003,
          "value": -140796890035.92645,
          "variable": "FUNDFAIR"
         },
         {
          "Year": 2004,
          "value": -150972533974.88248,
          "variable": "FUNDFAIR"
         },
         {
          "Year": 2005,
          "value": -166932964971.50955,
          "variable": "FUNDFAIR"
         },
         {
          "Year": 2006,
          "value": -175127298670.75375,
          "variable": "FUNDFAIR"
         },
         {
          "Year": 2007,
          "value": -179894522936.44626,
          "variable": "FUNDFAIR"
         },
         {
          "Year": 2008,
          "value": -182596953284.9736,
          "variable": "FUNDFAIR"
         },
         {
          "Year": 2009,
          "value": -189878049413.33008,
          "variable": "FUNDFAIR"
         },
         {
          "Year": 2010,
          "value": -185311134121.41165,
          "variable": "FUNDFAIR"
         },
         {
          "Year": 2011,
          "value": -189632548630.90555,
          "variable": "FUNDFAIR"
         },
         {
          "Year": 2012,
          "value": -189540440632.8175,
          "variable": "FUNDFAIR"
         },
         {
          "Year": 2013,
          "value": -192604921519.17947,
          "variable": "FUNDFAIR"
         },
         {
          "Year": 2014,
          "value": -199175194874.9984,
          "variable": "FUNDFAIR"
         },
         {
          "Year": 2015,
          "value": -221015031195.13074,
          "variable": "FUNDFAIR"
         },
         {
          "Year": 2016,
          "value": -234623199751.52213,
          "variable": "FUNDFAIR"
         },
         {
          "Year": 2017,
          "value": -240387410632.4246,
          "variable": "FUNDFAIR"
         },
         {
          "Year": 2018,
          "value": -244863958328.1629,
          "variable": "FUNDFAIR"
         },
         {
          "Year": 2019,
          "value": -248908956747.03613,
          "variable": "FUNDFAIR"
         },
         {
          "Year": 2020,
          "value": -251940513608.77087,
          "variable": "FUNDFAIR"
         },
         {
          "Year": 2021,
          "value": -248704139628.25925,
          "variable": "FUNDFAIR"
         },
         {
          "Year": 2022,
          "value": -246336013074.49133,
          "variable": "FUNDFAIR"
         },
         {
          "Year": 2023,
          "value": -247134806127.061,
          "variable": "FUNDFAIR"
         },
         {
          "Year": 2024,
          "value": -249936942152.69565,
          "variable": "FUNDFAIR"
         },
         {
          "Year": 2025,
          "value": -258390511908.95102,
          "variable": "FUNDFAIR"
         },
         {
          "Year": 2026,
          "value": -268140224955.77072,
          "variable": "FUNDFAIR"
         },
         {
          "Year": 2027,
          "value": -278349600207.0672,
          "variable": "FUNDFAIR"
         },
         {
          "Year": 2028,
          "value": -284663854418.68835,
          "variable": "FUNDFAIR"
         },
         {
          "Year": 2029,
          "value": -292715882738.4842,
          "variable": "FUNDFAIR"
         },
         {
          "Year": 2030,
          "value": -298418005859.63794,
          "variable": "FUNDFAIR"
         },
         {
          "Year": 2031,
          "value": -303307527506.46857,
          "variable": "FUNDFAIR"
         },
         {
          "Year": 2032,
          "value": -305025415497.4435,
          "variable": "FUNDFAIR"
         },
         {
          "Year": 2033,
          "value": -301678599731.6051,
          "variable": "FUNDFAIR"
         },
         {
          "Year": 2034,
          "value": -294966707056.20337,
          "variable": "FUNDFAIR"
         },
         {
          "Year": 2035,
          "value": -295537346808.4573,
          "variable": "FUNDFAIR"
         },
         {
          "Year": 2036,
          "value": -292790204172.69684,
          "variable": "FUNDFAIR"
         },
         {
          "Year": 2037,
          "value": -297753802014.2292,
          "variable": "FUNDFAIR"
         },
         {
          "Year": 2038,
          "value": -298538501559.90137,
          "variable": "FUNDFAIR"
         },
         {
          "Year": 2039,
          "value": -305661744309.7357,
          "variable": "FUNDFAIR"
         },
         {
          "Year": 2040,
          "value": -313016817782.64465,
          "variable": "FUNDFAIR"
         },
         {
          "Year": 2041,
          "value": -320118584309.1008,
          "variable": "FUNDFAIR"
         },
         {
          "Year": 2042,
          "value": -322197746710.46783,
          "variable": "FUNDFAIR"
         },
         {
          "Year": 2043,
          "value": -321253121548.45056,
          "variable": "FUNDFAIR"
         },
         {
          "Year": 2044,
          "value": -316916684191.8867,
          "variable": "FUNDFAIR"
         },
         {
          "Year": 2045,
          "value": -305310792629.6581,
          "variable": "FUNDFAIR"
         },
         {
          "Year": 2046,
          "value": -295945702077.7923,
          "variable": "FUNDFAIR"
         },
         {
          "Year": 2047,
          "value": -284822528328.2698,
          "variable": "FUNDFAIR"
         },
         {
          "Year": 2048,
          "value": -278749889516.81726,
          "variable": "FUNDFAIR"
         },
         {
          "Year": 2049,
          "value": -279863432962.7949,
          "variable": "FUNDFAIR"
         },
         {
          "Year": 2050,
          "value": -286051746582.1403,
          "variable": "FUNDFAIR"
         },
         {
          "Year": 2051,
          "value": -288294779493.037,
          "variable": "FUNDFAIR"
         },
         {
          "Year": 2052,
          "value": -290290466051.03723,
          "variable": "FUNDFAIR"
         },
         {
          "Year": 2053,
          "value": -290551991413.1451,
          "variable": "FUNDFAIR"
         },
         {
          "Year": 2054,
          "value": -284289187875.3038,
          "variable": "FUNDFAIR"
         },
         {
          "Year": 2055,
          "value": -271223131886.1391,
          "variable": "FUNDFAIR"
         },
         {
          "Year": 2056,
          "value": -255442628197.73126,
          "variable": "FUNDFAIR"
         },
         {
          "Year": 2057,
          "value": -246979806177.16724,
          "variable": "FUNDFAIR"
         },
         {
          "Year": 2058,
          "value": -236595982572.08347,
          "variable": "FUNDFAIR"
         },
         {
          "Year": 2059,
          "value": -225958185246.71948,
          "variable": "FUNDFAIR"
         },
         {
          "Year": 2060,
          "value": -224094749820.76727,
          "variable": "FUNDFAIR"
         },
         {
          "Year": 2061,
          "value": -222273936559.14566,
          "variable": "FUNDFAIR"
         },
         {
          "Year": 2062,
          "value": -219501966386.09967,
          "variable": "FUNDFAIR"
         },
         {
          "Year": 2063,
          "value": -212116885776.2684,
          "variable": "FUNDFAIR"
         },
         {
          "Year": 2064,
          "value": -202535549879.73608,
          "variable": "FUNDFAIR"
         },
         {
          "Year": 2065,
          "value": -188236431337.58813,
          "variable": "FUNDFAIR"
         },
         {
          "Year": 2066,
          "value": -162906785374.5235,
          "variable": "FUNDFAIR"
         },
         {
          "Year": 2067,
          "value": -136784728792.62561,
          "variable": "FUNDFAIR"
         },
         {
          "Year": 2068,
          "value": -112872169369.76474,
          "variable": "FUNDFAIR"
         },
         {
          "Year": 2069,
          "value": -96039993108.21803,
          "variable": "FUNDFAIR"
         },
         {
          "Year": 2070,
          "value": -84003063915.68103,
          "variable": "FUNDFAIR"
         },
         {
          "Year": 2071,
          "value": -76686923051.31252,
          "variable": "FUNDFAIR"
         },
         {
          "Year": 2072,
          "value": -64015346616.371925,
          "variable": "FUNDFAIR"
         },
         {
          "Year": 2073,
          "value": -49087873765.3746,
          "variable": "FUNDFAIR"
         },
         {
          "Year": 2074,
          "value": -35372729710.97627,
          "variable": "FUNDFAIR"
         },
         {
          "Year": 2075,
          "value": -16723811651.798958,
          "variable": "FUNDFAIR"
         },
         {
          "Year": 2076,
          "value": 3278200924.0967636,
          "variable": "FUNDFAIR"
         },
         {
          "Year": 2077,
          "value": 31565985125.563454,
          "variable": "FUNDFAIR"
         },
         {
          "Year": 2078,
          "value": 68786428637.91074,
          "variable": "FUNDFAIR"
         },
         {
          "Year": 2079,
          "value": 109782186096.73495,
          "variable": "FUNDFAIR"
         },
         {
          "Year": 2080,
          "value": 150942178150.4201,
          "variable": "FUNDFAIR"
         },
         {
          "Year": 2081,
          "value": 189226188093.8555,
          "variable": "FUNDFAIR"
         },
         {
          "Year": 2082,
          "value": 228051982668.69427,
          "variable": "FUNDFAIR"
         },
         {
          "Year": 2083,
          "value": 260246063546.02554,
          "variable": "FUNDFAIR"
         },
         {
          "Year": 2084,
          "value": 297023440694.5962,
          "variable": "FUNDFAIR"
         },
         {
          "Year": 2085,
          "value": 325334427271.2131,
          "variable": "FUNDFAIR"
         },
         {
          "Year": 2086,
          "value": 359834455346.53705,
          "variable": "FUNDFAIR"
         },
         {
          "Year": 2087,
          "value": 403335406014.75116,
          "variable": "FUNDFAIR"
         },
         {
          "Year": 2088,
          "value": 451240184856.251,
          "variable": "FUNDFAIR"
         },
         {
          "Year": 2089,
          "value": 512289034170.0048,
          "variable": "FUNDFAIR"
         },
         {
          "Year": 2090,
          "value": 584826735412,
          "variable": "FUNDFAIR"
         },
         {
          "Year": 2091,
          "value": 656970296422.7517,
          "variable": "FUNDFAIR"
         },
         {
          "Year": 2092,
          "value": 737412193605.3953,
          "variable": "FUNDFAIR"
         },
         {
          "Year": 2093,
          "value": 798575249163.3452,
          "variable": "FUNDFAIR"
         },
         {
          "Year": 2094,
          "value": 849632181224.5835,
          "variable": "FUNDFAIR"
         },
         {
          "Year": 2095,
          "value": 900607227868.7179,
          "variable": "FUNDFAIR"
         },
         {
          "Year": 2096,
          "value": 947463060402.0012,
          "variable": "FUNDFAIR"
         },
         {
          "Year": 2097,
          "value": 1004996029946.2842,
          "variable": "FUNDFAIR"
         },
         {
          "Year": 2098,
          "value": 1064516921071.5392,
          "variable": "FUNDFAIR"
         },
         {
          "Year": 2099,
          "value": 1139697135209.1023,
          "variable": "FUNDFAIR"
         },
         {
          "Year": 2100,
          "value": 1228873154439.9402,
          "variable": "FUNDFAIR"
         },
         {
          "Year": 2101,
          "value": 1325801460645.4028,
          "variable": "FUNDFAIR"
         },
         {
          "Year": 2102,
          "value": 1406828735009.029,
          "variable": "FUNDFAIR"
         },
         {
          "Year": 2103,
          "value": 1488070227454.601,
          "variable": "FUNDFAIR"
         },
         {
          "Year": 2104,
          "value": 1561571407447.735,
          "variable": "FUNDFAIR"
         },
         {
          "Year": 2105,
          "value": 1623833656034.9463,
          "variable": "FUNDFAIR"
         },
         {
          "Year": 2106,
          "value": 1692054316222.761,
          "variable": "FUNDFAIR"
         },
         {
          "Year": 2107,
          "value": 1762359668400.8496,
          "variable": "FUNDFAIR"
         },
         {
          "Year": 2108,
          "value": 1842543902434.2913,
          "variable": "FUNDFAIR"
         },
         {
          "Year": 2109,
          "value": 1932661135335.2954,
          "variable": "FUNDFAIR"
         },
         {
          "Year": 2110,
          "value": 2040498229467.2197,
          "variable": "FUNDFAIR"
         },
         {
          "Year": 2111,
          "value": 2174894467632.2375,
          "variable": "FUNDFAIR"
         },
         {
          "Year": 2112,
          "value": 2280168243631.054,
          "variable": "FUNDFAIR"
         },
         {
          "Year": 2113,
          "value": 2385933559263.789,
          "variable": "FUNDFAIR"
         },
         {
          "Year": 2114,
          "value": 2464048799397.7466,
          "variable": "FUNDFAIR"
         },
         {
          "Year": 2115,
          "value": 2554310897593.2363,
          "variable": "FUNDFAIR"
         },
         {
          "Year": 2116,
          "value": 2627725397123.0596,
          "variable": "FUNDFAIR"
         },
         {
          "Year": 2117,
          "value": 2710264658277.1577,
          "variable": "FUNDFAIR"
         },
         {
          "Year": 2118,
          "value": 2797322783387.662,
          "variable": "FUNDFAIR"
         },
         {
          "Year": 2119,
          "value": 2894537287668.71,
          "variable": "FUNDFAIR"
         },
         {
          "Year": 2120,
          "value": 3018393583790.9146,
          "variable": "FUNDFAIR"
         },
         {
          "Year": 2121,
          "value": 3160154096469.0703,
          "variable": "FUNDFAIR"
         },
         {
          "Year": 2122,
          "value": 3310650107467.516,
          "variable": "FUNDFAIR"
         },
         {
          "Year": 2123,
          "value": 3409486365772.5625,
          "variable": "FUNDFAIR"
         },
         {
          "Year": 2124,
          "value": 3529905646126.408,
          "variable": "FUNDFAIR"
         },
         {
          "Year": 2125,
          "value": 3610034211149.169,
          "variable": "FUNDFAIR"
         },
         {
          "Year": 2126,
          "value": 3684304034264.3784,
          "variable": "FUNDFAIR"
         },
         {
          "Year": 2127,
          "value": 3772336812781.1064,
          "variable": "FUNDFAIR"
         },
         {
          "Year": 2128,
          "value": 3861986365859.0938,
          "variable": "FUNDFAIR"
         },
         {
          "Year": 2129,
          "value": 3970725280306.3057,
          "variable": "FUNDFAIR"
         },
         {
          "Year": 2130,
          "value": 4107882998385.2393,
          "variable": "FUNDFAIR"
         },
         {
          "Year": 2131,
          "value": 4292766375069.7437,
          "variable": "FUNDFAIR"
         },
         {
          "Year": 2132,
          "value": 4429652308386.269,
          "variable": "FUNDFAIR"
         },
         {
          "Year": 2133,
          "value": 4569189403000.245,
          "variable": "FUNDFAIR"
         },
         {
          "Year": 2134,
          "value": 4669323243883.368,
          "variable": "FUNDFAIR"
         },
         {
          "Year": 2135,
          "value": 4745994638389.476,
          "variable": "FUNDFAIR"
         },
         {
          "Year": 2136,
          "value": 4802729321176.242,
          "variable": "FUNDFAIR"
         },
         {
          "Year": 2137,
          "value": 4891463631783.078,
          "variable": "FUNDFAIR"
         },
         {
          "Year": 2138,
          "value": 4979352540858.361,
          "variable": "FUNDFAIR"
         },
         {
          "Year": 2139,
          "value": 5076054547711.19,
          "variable": "FUNDFAIR"
         },
         {
          "Year": 2140,
          "value": 5188046600198.104,
          "variable": "FUNDFAIR"
         },
         {
          "Year": 2141,
          "value": 5333674057246.546,
          "variable": "FUNDFAIR"
         },
         {
          "Year": 2142,
          "value": 5482607783891.616,
          "variable": "FUNDFAIR"
         },
         {
          "Year": 2143,
          "value": 5602540087270.316,
          "variable": "FUNDFAIR"
         },
         {
          "Year": 2144,
          "value": 5724790995425.828,
          "variable": "FUNDFAIR"
         },
         {
          "Year": 2145,
          "value": 5830171432515.768,
          "variable": "FUNDFAIR"
         },
         {
          "Year": 2146,
          "value": 5901834892033.36,
          "variable": "FUNDFAIR"
         },
         {
          "Year": 2147,
          "value": 6001294214141.074,
          "variable": "FUNDFAIR"
         },
         {
          "Year": 2148,
          "value": 6076664293533.547,
          "variable": "FUNDFAIR"
         },
         {
          "Year": 2149,
          "value": 6161434298603.4795,
          "variable": "FUNDFAIR"
         },
         {
          "Year": 2150,
          "value": 6252760178382.946,
          "variable": "FUNDFAIR"
         },
         {
          "Year": 2151,
          "value": 6351538405494.017,
          "variable": "FUNDFAIR"
         },
         {
          "Year": 2152,
          "value": 6492015560851.635,
          "variable": "FUNDFAIR"
         },
         {
          "Year": 2153,
          "value": 6669457694146.464,
          "variable": "FUNDFAIR"
         },
         {
          "Year": 2154,
          "value": 6833108777219.25,
          "variable": "FUNDFAIR"
         },
         {
          "Year": 2155,
          "value": 6942086076917.585,
          "variable": "FUNDFAIR"
         },
         {
          "Year": 2156,
          "value": 7037924884086.49,
          "variable": "FUNDFAIR"
         },
         {
          "Year": 2157,
          "value": 7100932847190.642,
          "variable": "FUNDFAIR"
         },
         {
          "Year": 2158,
          "value": 7132853208208.113,
          "variable": "FUNDFAIR"
         },
         {
          "Year": 2159,
          "value": 7168104869311.422,
          "variable": "FUNDFAIR"
         },
         {
          "Year": 2160,
          "value": 7227500844106.139,
          "variable": "FUNDFAIR"
         },
         {
          "Year": 2161,
          "value": 7324572084640.28,
          "variable": "FUNDFAIR"
         },
         {
          "Year": 2162,
          "value": 7471259550932.368,
          "variable": "FUNDFAIR"
         },
         {
          "Year": 2163,
          "value": 7664774544590.871,
          "variable": "FUNDFAIR"
         },
         {
          "Year": 2164,
          "value": 7850663865583.457,
          "variable": "FUNDFAIR"
         },
         {
          "Year": 2165,
          "value": 7924822123792.598,
          "variable": "FUNDFAIR"
         },
         {
          "Year": 2166,
          "value": 8034269675366.1045,
          "variable": "FUNDFAIR"
         },
         {
          "Year": 2167,
          "value": 8025278070446.191,
          "variable": "FUNDFAIR"
         },
         {
          "Year": 2168,
          "value": 8027345383369.245,
          "variable": "FUNDFAIR"
         },
         {
          "Year": 2169,
          "value": 8048839991397.688,
          "variable": "FUNDFAIR"
         },
         {
          "Year": 2170,
          "value": 8099651553899.624,
          "variable": "FUNDFAIR"
         },
         {
          "Year": 2171,
          "value": 8179975882742.023,
          "variable": "FUNDFAIR"
         },
         {
          "Year": 2172,
          "value": 8309689214189.336,
          "variable": "FUNDFAIR"
         },
         {
          "Year": 2173,
          "value": 8507982016863.028,
          "variable": "FUNDFAIR"
         },
         {
          "Year": 2174,
          "value": 8653594296172.999,
          "variable": "FUNDFAIR"
         },
         {
          "Year": 2175,
          "value": 8790547580892.526,
          "variable": "FUNDFAIR"
         },
         {
          "Year": 2176,
          "value": 8879968520860.691,
          "variable": "FUNDFAIR"
         },
         {
          "Year": 2177,
          "value": 8903176316302.447,
          "variable": "FUNDFAIR"
         },
         {
          "Year": 2178,
          "value": 8888259973837.043,
          "variable": "FUNDFAIR"
         },
         {
          "Year": 2179,
          "value": 8904195870907.904,
          "variable": "FUNDFAIR"
         },
         {
          "Year": 2180,
          "value": 8911324791811.338,
          "variable": "FUNDFAIR"
         },
         {
          "Year": 2181,
          "value": 8951105971535.342,
          "variable": "FUNDFAIR"
         },
         {
          "Year": 2182,
          "value": 8994740683697.46,
          "variable": "FUNDFAIR"
         },
         {
          "Year": 2183,
          "value": 9065420251265.883,
          "variable": "FUNDFAIR"
         },
         {
          "Year": 2184,
          "value": 9170825304115.482,
          "variable": "FUNDFAIR"
         },
         {
          "Year": 2185,
          "value": 9321314331530.148,
          "variable": "FUNDFAIR"
         },
         {
          "Year": 2186,
          "value": 9543937028349.463,
          "variable": "FUNDFAIR"
         },
         {
          "Year": 2187,
          "value": 9637406344896.393,
          "variable": "FUNDFAIR"
         },
         {
          "Year": 2188,
          "value": 9750381524869.48,
          "variable": "FUNDFAIR"
         },
         {
          "Year": 2189,
          "value": 9850565818549.158,
          "variable": "FUNDFAIR"
         },
         {
          "Year": 2190,
          "value": 9810492524278.55,
          "variable": "FUNDFAIR"
         },
         {
          "Year": 2191,
          "value": 9769973173762.932,
          "variable": "FUNDFAIR"
         },
         {
          "Year": 2192,
          "value": 9768865629231.822,
          "variable": "FUNDFAIR"
         },
         {
          "Year": 2193,
          "value": 9823782561834.22,
          "variable": "FUNDFAIR"
         },
         {
          "Year": 2194,
          "value": 9893625584189.06,
          "variable": "FUNDFAIR"
         },
         {
          "Year": 2195,
          "value": 10024528803339.922,
          "variable": "FUNDFAIR"
         },
         {
          "Year": 2196,
          "value": 10261132037521.637,
          "variable": "FUNDFAIR"
         },
         {
          "Year": 2197,
          "value": 10477904026913.574,
          "variable": "FUNDFAIR"
         },
         {
          "Year": 2198,
          "value": 10623323970798.512,
          "variable": "FUNDFAIR"
         },
         {
          "Year": 2199,
          "value": 10648380431840.703,
          "variable": "FUNDFAIR"
         },
         {
          "Year": 2200,
          "value": 10628431046529.959,
          "variable": "FUNDFAIR"
         },
         {
          "Year": 2201,
          "value": 10522843169915.33,
          "variable": "FUNDFAIR"
         },
         {
          "Year": 2202,
          "value": 10521407127943.986,
          "variable": "FUNDFAIR"
         },
         {
          "Year": 2203,
          "value": 10523088702111.389,
          "variable": "FUNDFAIR"
         },
         {
          "Year": 2204,
          "value": 10499638742545.104,
          "variable": "FUNDFAIR"
         },
         {
          "Year": 2205,
          "value": 10555024017477.46,
          "variable": "FUNDFAIR"
         },
         {
          "Year": 2206,
          "value": 10600094019613.14,
          "variable": "FUNDFAIR"
         },
         {
          "Year": 2207,
          "value": 10746324434093.62,
          "variable": "FUNDFAIR"
         },
         {
          "Year": 2208,
          "value": 10967102980964.357,
          "variable": "FUNDFAIR"
         },
         {
          "Year": 2209,
          "value": 11173131868263.057,
          "variable": "FUNDFAIR"
         },
         {
          "Year": 2210,
          "value": 11332219153141.951,
          "variable": "FUNDFAIR"
         },
         {
          "Year": 2211,
          "value": 11390005322407.467,
          "variable": "FUNDFAIR"
         },
         {
          "Year": 2212,
          "value": 11441003054431.889,
          "variable": "FUNDFAIR"
         },
         {
          "Year": 2213,
          "value": 11394062370185.7,
          "variable": "FUNDFAIR"
         },
         {
          "Year": 2214,
          "value": 11398077635413.588,
          "variable": "FUNDFAIR"
         },
         {
          "Year": 2215,
          "value": 11274272970717.412,
          "variable": "FUNDFAIR"
         },
         {
          "Year": 2216,
          "value": 11252813171508.42,
          "variable": "FUNDFAIR"
         },
         {
          "Year": 2217,
          "value": 11361992404492.357,
          "variable": "FUNDFAIR"
         },
         {
          "Year": 2218,
          "value": 11496013625072.54,
          "variable": "FUNDFAIR"
         },
         {
          "Year": 2219,
          "value": 11754137697269.521,
          "variable": "FUNDFAIR"
         },
         {
          "Year": 2220,
          "value": 12046951399321.064,
          "variable": "FUNDFAIR"
         },
         {
          "Year": 2221,
          "value": 12255242899635.303,
          "variable": "FUNDFAIR"
         },
         {
          "Year": 2222,
          "value": 12511774771097.99,
          "variable": "FUNDFAIR"
         },
         {
          "Year": 2223,
          "value": 12484885715370.656,
          "variable": "FUNDFAIR"
         },
         {
          "Year": 2224,
          "value": 12368837292364.031,
          "variable": "FUNDFAIR"
         },
         {
          "Year": 2225,
          "value": 12266580586682.023,
          "variable": "FUNDFAIR"
         },
         {
          "Year": 2226,
          "value": 12106276447624.838,
          "variable": "FUNDFAIR"
         },
         {
          "Year": 2227,
          "value": 12170289975888.195,
          "variable": "FUNDFAIR"
         },
         {
          "Year": 2228,
          "value": 12186373947599.729,
          "variable": "FUNDFAIR"
         },
         {
          "Year": 2229,
          "value": 12442058842687.627,
          "variable": "FUNDFAIR"
         },
         {
          "Year": 2230,
          "value": 12792914670445.338,
          "variable": "FUNDFAIR"
         },
         {
          "Year": 2231,
          "value": 13014943235742.586,
          "variable": "FUNDFAIR"
         },
         {
          "Year": 2232,
          "value": 13115035193374.691,
          "variable": "FUNDFAIR"
         },
         {
          "Year": 2233,
          "value": 13263329290017.42,
          "variable": "FUNDFAIR"
         },
         {
          "Year": 2234,
          "value": 13219818880053.932,
          "variable": "FUNDFAIR"
         },
         {
          "Year": 2235,
          "value": 13188103877480.58,
          "variable": "FUNDFAIR"
         },
         {
          "Year": 2236,
          "value": 13008431204302.4,
          "variable": "FUNDFAIR"
         },
         {
          "Year": 2237,
          "value": 13016366084514.701,
          "variable": "FUNDFAIR"
         },
         {
          "Year": 2238,
          "value": 13074460016135.486,
          "variable": "FUNDFAIR"
         },
         {
          "Year": 2239,
          "value": 13226026290366.465,
          "variable": "FUNDFAIR"
         },
         {
          "Year": 2240,
          "value": 13493172829057.629,
          "variable": "FUNDFAIR"
         },
         {
          "Year": 2241,
          "value": 13896801255458.25,
          "variable": "FUNDFAIR"
         },
         {
          "Year": 2242,
          "value": 14201136169967.35,
          "variable": "FUNDFAIR"
         },
         {
          "Year": 2243,
          "value": 14279818460645.342,
          "variable": "FUNDFAIR"
         },
         {
          "Year": 2244,
          "value": 14303041852515.771,
          "variable": "FUNDFAIR"
         },
         {
          "Year": 2245,
          "value": 14148175993777.408,
          "variable": "FUNDFAIR"
         },
         {
          "Year": 2246,
          "value": 13978086428273.205,
          "variable": "FUNDFAIR"
         },
         {
          "Year": 2247,
          "value": 13974487778992.768,
          "variable": "FUNDFAIR"
         },
         {
          "Year": 2248,
          "value": 13904158341849.717,
          "variable": "FUNDFAIR"
         },
         {
          "Year": 2249,
          "value": 13930197002214.547,
          "variable": "FUNDFAIR"
         },
         {
          "Year": 2250,
          "value": 13993173767722.58,
          "variable": "FUNDFAIR"
         },
         {
          "Year": 2251,
          "value": 14142203308509.037,
          "variable": "FUNDFAIR"
         },
         {
          "Year": 2252,
          "value": 14425124134838.906,
          "variable": "FUNDFAIR"
         },
         {
          "Year": 2253,
          "value": 14792439853501.059,
          "variable": "FUNDFAIR"
         },
         {
          "Year": 2254,
          "value": 15126587087089.969,
          "variable": "FUNDFAIR"
         },
         {
          "Year": 2255,
          "value": 15222497235221.496,
          "variable": "FUNDFAIR"
         },
         {
          "Year": 2256,
          "value": 15349094459656.264,
          "variable": "FUNDFAIR"
         },
         {
          "Year": 2257,
          "value": 15356309491823.379,
          "variable": "FUNDFAIR"
         },
         {
          "Year": 2258,
          "value": 15227081982427.24,
          "variable": "FUNDFAIR"
         },
         {
          "Year": 2259,
          "value": 15147326276505.44,
          "variable": "FUNDFAIR"
         },
         {
          "Year": 2260,
          "value": 14929267054467.031,
          "variable": "FUNDFAIR"
         },
         {
          "Year": 2261,
          "value": 14919408101025.912,
          "variable": "FUNDFAIR"
         },
         {
          "Year": 2262,
          "value": 15107401091206.21,
          "variable": "FUNDFAIR"
         },
         {
          "Year": 2263,
          "value": 15325257633618.133,
          "variable": "FUNDFAIR"
         },
         {
          "Year": 2264,
          "value": 15752513785473.635,
          "variable": "FUNDFAIR"
         },
         {
          "Year": 2265,
          "value": 16195815307026.336,
          "variable": "FUNDFAIR"
         },
         {
          "Year": 2266,
          "value": 16492414260952.11,
          "variable": "FUNDFAIR"
         },
         {
          "Year": 2267,
          "value": 16749083194320.006,
          "variable": "FUNDFAIR"
         },
         {
          "Year": 2268,
          "value": 16533108358647.395,
          "variable": "FUNDFAIR"
         },
         {
          "Year": 2269,
          "value": 16354063783884.664,
          "variable": "FUNDFAIR"
         },
         {
          "Year": 2270,
          "value": 16073237308039.629,
          "variable": "FUNDFAIR"
         },
         {
          "Year": 2271,
          "value": 15969204129861.965,
          "variable": "FUNDFAIR"
         },
         {
          "Year": 2272,
          "value": 15888384186806.963,
          "variable": "FUNDFAIR"
         },
         {
          "Year": 2273,
          "value": 16094730899572.043,
          "variable": "FUNDFAIR"
         },
         {
          "Year": 2274,
          "value": 16551682091013.715,
          "variable": "FUNDFAIR"
         },
         {
          "Year": 2275,
          "value": 17015631359306.836,
          "variable": "FUNDFAIR"
         },
         {
          "Year": 2276,
          "value": 17310424535742.285,
          "variable": "FUNDFAIR"
         },
         {
          "Year": 2277,
          "value": 17356098139247.87,
          "variable": "FUNDFAIR"
         },
         {
          "Year": 2278,
          "value": 17371572027069.613,
          "variable": "FUNDFAIR"
         },
         {
          "Year": 2279,
          "value": 17243782745694.586,
          "variable": "FUNDFAIR"
         },
         {
          "Year": 2280,
          "value": 16937587987883.045,
          "variable": "FUNDFAIR"
         },
         {
          "Year": 2281,
          "value": 16866825001803.303,
          "variable": "FUNDFAIR"
         },
         {
          "Year": 2282,
          "value": 16964863424349.021,
          "variable": "FUNDFAIR"
         },
         {
          "Year": 2283,
          "value": 17101064644903.982,
          "variable": "FUNDFAIR"
         },
         {
          "Year": 2284,
          "value": 17485945120703.898,
          "variable": "FUNDFAIR"
         },
         {
          "Year": 2285,
          "value": 18056311323916.305,
          "variable": "FUNDFAIR"
         },
         {
          "Year": 2286,
          "value": 18525400680555.402,
          "variable": "FUNDFAIR"
         },
         {
          "Year": 2287,
          "value": 18687715310945.273,
          "variable": "FUNDFAIR"
         },
         {
          "Year": 2288,
          "value": 18709967051731.08,
          "variable": "FUNDFAIR"
         },
         {
          "Year": 2289,
          "value": 18203398154390.41,
          "variable": "FUNDFAIR"
         },
         {
          "Year": 2290,
          "value": 18170567975044.85,
          "variable": "FUNDFAIR"
         },
         {
          "Year": 2291,
          "value": 17948301369013.14,
          "variable": "FUNDFAIR"
         },
         {
          "Year": 2292,
          "value": 17788705123674.812,
          "variable": "FUNDFAIR"
         },
         {
          "Year": 2293,
          "value": 17822972624776.516,
          "variable": "FUNDFAIR"
         },
         {
          "Year": 2294,
          "value": 18209940321317.55,
          "variable": "FUNDFAIR"
         },
         {
          "Year": 2295,
          "value": 18885192118485.496,
          "variable": "FUNDFAIR"
         },
         {
          "Year": 2296,
          "value": 19343018051727.45,
          "variable": "FUNDFAIR"
         },
         {
          "Year": 2297,
          "value": 19752715002913.06,
          "variable": "FUNDFAIR"
         },
         {
          "Year": 2298,
          "value": 19792477536956.32,
          "variable": "FUNDFAIR"
         },
         {
          "Year": 2299,
          "value": 19516681183385.836,
          "variable": "FUNDFAIR"
         },
         {
          "Year": 2300,
          "value": 18913713806033.555,
          "variable": "FUNDFAIR"
         },
         {
          "Year": 2301,
          "value": 19103648783045.47,
          "variable": "FUNDFAIR"
         },
         {
          "Year": 2302,
          "value": 19272237324086.945,
          "variable": "FUNDFAIR"
         },
         {
          "Year": 2303,
          "value": 19425574189572.44,
          "variable": "FUNDFAIR"
         },
         {
          "Year": 2304,
          "value": 19567818009499.645,
          "variable": "FUNDFAIR"
         },
         {
          "Year": 2305,
          "value": 19701894652757.902,
          "variable": "FUNDFAIR"
         },
         {
          "Year": 2306,
          "value": 19829909939846.152,
          "variable": "FUNDFAIR"
         },
         {
          "Year": 2307,
          "value": 19953408121909.145,
          "variable": "FUNDFAIR"
         },
         {
          "Year": 2308,
          "value": 20073539188904.05,
          "variable": "FUNDFAIR"
         },
         {
          "Year": 2309,
          "value": 20191170665810.797,
          "variable": "FUNDFAIR"
         },
         {
          "Year": 2310,
          "value": 20306962584218.27,
          "variable": "FUNDFAIR"
         },
         {
          "Year": 2311,
          "value": 20409811589657.164,
          "variable": "FUNDFAIR"
         },
         {
          "Year": 2312,
          "value": 20522533906909.113,
          "variable": "FUNDFAIR"
         },
         {
          "Year": 2313,
          "value": 20635307589806.695,
          "variable": "FUNDFAIR"
         },
         {
          "Year": 2314,
          "value": 20747681783643.215,
          "variable": "FUNDFAIR"
         },
         {
          "Year": 2315,
          "value": 20859842536709.52,
          "variable": "FUNDFAIR"
         },
         {
          "Year": 2316,
          "value": 20971936499035.637,
          "variable": "FUNDFAIR"
         },
         {
          "Year": 2317,
          "value": 21084079653604.22,
          "variable": "FUNDFAIR"
         },
         {
          "Year": 2318,
          "value": 21196362800369.477,
          "variable": "FUNDFAIR"
         },
         {
          "Year": 2319,
          "value": 21308857689007.32,
          "variable": "FUNDFAIR"
         },
         {
          "Year": 2320,
          "value": 21421622744953.496,
          "variable": "FUNDFAIR"
         },
         {
          "Year": 2321,
          "value": 21534703691076.508,
          "variable": "FUNDFAIR"
         },
         {
          "Year": 2322,
          "value": 21648137267721.18,
          "variable": "FUNDFAIR"
         },
         {
          "Year": 2323,
          "value": 21761953301768.746,
          "variable": "FUNDFAIR"
         },
         {
          "Year": 2324,
          "value": 21876175118294.895,
          "variable": "FUNDFAIR"
         },
         {
          "Year": 2325,
          "value": 21990822206651.875,
          "variable": "FUNDFAIR"
         },
         {
          "Year": 2326,
          "value": 22105910307298.52,
          "variable": "FUNDFAIR"
         },
         {
          "Year": 2327,
          "value": 22221452181023.234,
          "variable": "FUNDFAIR"
         },
         {
          "Year": 2328,
          "value": 22337458760121.395,
          "variable": "FUNDFAIR"
         },
         {
          "Year": 2329,
          "value": 22453939269499.402,
          "variable": "FUNDFAIR"
         },
         {
          "Year": 2330,
          "value": 22570901846734.61,
          "variable": "FUNDFAIR"
         },
         {
          "Year": 2331,
          "value": 22688352593747.543,
          "variable": "FUNDFAIR"
         },
         {
          "Year": 2332,
          "value": 22806297269195.156,
          "variable": "FUNDFAIR"
         },
         {
          "Year": 2333,
          "value": 22924741170575.742,
          "variable": "FUNDFAIR"
         },
         {
          "Year": 2334,
          "value": 23043689048247.516,
          "variable": "FUNDFAIR"
         },
         {
          "Year": 2335,
          "value": 23163145552340.11,
          "variable": "FUNDFAIR"
         },
         {
          "Year": 2336,
          "value": 23283114180439.266,
          "variable": "FUNDFAIR"
         },
         {
          "Year": 2337,
          "value": 23403598711881.32,
          "variable": "FUNDFAIR"
         },
         {
          "Year": 2338,
          "value": 23524602464665.812,
          "variable": "FUNDFAIR"
         },
         {
          "Year": 2339,
          "value": 23646128891264.14,
          "variable": "FUNDFAIR"
         },
         {
          "Year": 2340,
          "value": 23768181486487.64,
          "variable": "FUNDFAIR"
         },
         {
          "Year": 2341,
          "value": 23890763471737.598,
          "variable": "FUNDFAIR"
         },
         {
          "Year": 2342,
          "value": 24013878665467.152,
          "variable": "FUNDFAIR"
         },
         {
          "Year": 2343,
          "value": 24137529867802.355,
          "variable": "FUNDFAIR"
         },
         {
          "Year": 2344,
          "value": 24261719622328.332,
          "variable": "FUNDFAIR"
         },
         {
          "Year": 2345,
          "value": 24386452049876.06,
          "variable": "FUNDFAIR"
         },
         {
          "Year": 2346,
          "value": 24511730636539.855,
          "variable": "FUNDFAIR"
         },
         {
          "Year": 2347,
          "value": 24637557822184.227,
          "variable": "FUNDFAIR"
         },
         {
          "Year": 2348,
          "value": 24763937239645.973,
          "variable": "FUNDFAIR"
         },
         {
          "Year": 2349,
          "value": 24890872969172.062,
          "variable": "FUNDFAIR"
         },
         {
          "Year": 2350,
          "value": 25018368109818.742,
          "variable": "FUNDFAIR"
         },
         {
          "Year": 2351,
          "value": 25146399703692.527,
          "variable": "FUNDFAIR"
         },
         {
          "Year": 2352,
          "value": 25274951276318.41,
          "variable": "FUNDFAIR"
         },
         {
          "Year": 2353,
          "value": 25404037933107.434,
          "variable": "FUNDFAIR"
         },
         {
          "Year": 2354,
          "value": 25533672196962.49,
          "variable": "FUNDFAIR"
         },
         {
          "Year": 2355,
          "value": 25663864830273.598,
          "variable": "FUNDFAIR"
         },
         {
          "Year": 2356,
          "value": 25794625899962.957,
          "variable": "FUNDFAIR"
         },
         {
          "Year": 2357,
          "value": 25925963074409.242,
          "variable": "FUNDFAIR"
         },
         {
          "Year": 2358,
          "value": 26057883263996.992,
          "variable": "FUNDFAIR"
         },
         {
          "Year": 2359,
          "value": 26190394938841.105,
          "variable": "FUNDFAIR"
         },
         {
          "Year": 2360,
          "value": 26323504402031.3,
          "variable": "FUNDFAIR"
         },
         {
          "Year": 2361,
          "value": 26457218537097.945,
          "variable": "FUNDFAIR"
         },
         {
          "Year": 2362,
          "value": 26591544876228.69,
          "variable": "FUNDFAIR"
         },
         {
          "Year": 2363,
          "value": 26726488786275.94,
          "variable": "FUNDFAIR"
         },
         {
          "Year": 2364,
          "value": 26862058001118.59,
          "variable": "FUNDFAIR"
         },
         {
          "Year": 2365,
          "value": 26998261233697.6,
          "variable": "FUNDFAIR"
         },
         {
          "Year": 2366,
          "value": 27135106172463.61,
          "variable": "FUNDFAIR"
         },
         {
          "Year": 2367,
          "value": 27272601861715.594,
          "variable": "FUNDFAIR"
         },
         {
          "Year": 2368,
          "value": 27410758620332.453,
          "variable": "FUNDFAIR"
         },
         {
          "Year": 2369,
          "value": 27549587958428.24,
          "variable": "FUNDFAIR"
         },
         {
          "Year": 2370,
          "value": 27689103692222.707,
          "variable": "FUNDFAIR"
         },
         {
          "Year": 2371,
          "value": 27829322360089.164,
          "variable": "FUNDFAIR"
         },
         {
          "Year": 2372,
          "value": 27970263362471.05,
          "variable": "FUNDFAIR"
         },
         {
          "Year": 2373,
          "value": 28111947738298.543,
          "variable": "FUNDFAIR"
         },
         {
          "Year": 2374,
          "value": 28081595164367.305,
          "variable": "FUNDFAIR"
         },
         {
          "Year": 2375,
          "value": 28195047014372.477,
          "variable": "FUNDFAIR"
         },
         {
          "Year": 2376,
          "value": 28335851350957.89,
          "variable": "FUNDFAIR"
         },
         {
          "Year": 2377,
          "value": 28477262693088.207,
          "variable": "FUNDFAIR"
         },
         {
          "Year": 2378,
          "value": 28619282691091.023,
          "variable": "FUNDFAIR"
         },
         {
          "Year": 2379,
          "value": 28761913621729.56,
          "variable": "FUNDFAIR"
         },
         {
          "Year": 2380,
          "value": 28905158603473.938,
          "variable": "FUNDFAIR"
         },
         {
          "Year": 2381,
          "value": 29049019495545.832,
          "variable": "FUNDFAIR"
         },
         {
          "Year": 2382,
          "value": 29193497599208.168,
          "variable": "FUNDFAIR"
         },
         {
          "Year": 2383,
          "value": 29338596149141.203,
          "variable": "FUNDFAIR"
         },
         {
          "Year": 2384,
          "value": 29484318571038.207,
          "variable": "FUNDFAIR"
         },
         {
          "Year": 2385,
          "value": 29630666649766.17,
          "variable": "FUNDFAIR"
         },
         {
          "Year": 2386,
          "value": 29777643029738.82,
          "variable": "FUNDFAIR"
         },
         {
          "Year": 2387,
          "value": 29925250057240.11,
          "variable": "FUNDFAIR"
         },
         {
          "Year": 2388,
          "value": 30073490512913.926,
          "variable": "FUNDFAIR"
         },
         {
          "Year": 2389,
          "value": 30222367087546.59,
          "variable": "FUNDFAIR"
         },
         {
          "Year": 2390,
          "value": 30371883189753.367,
          "variable": "FUNDFAIR"
         },
         {
          "Year": 2391,
          "value": 30522041066065.79,
          "variable": "FUNDFAIR"
         },
         {
          "Year": 2392,
          "value": 30672842485362.52,
          "variable": "FUNDFAIR"
         },
         {
          "Year": 2393,
          "value": 30824291797486.754,
          "variable": "FUNDFAIR"
         },
         {
          "Year": 2394,
          "value": 30976391099637.477,
          "variable": "FUNDFAIR"
         },
         {
          "Year": 2395,
          "value": 31129142311171.188,
          "variable": "FUNDFAIR"
         },
         {
          "Year": 2396,
          "value": 31282549874352.574,
          "variable": "FUNDFAIR"
         },
         {
          "Year": 2397,
          "value": 31436616976064.215,
          "variable": "FUNDFAIR"
         },
         {
          "Year": 2398,
          "value": 31591345042510.824,
          "variable": "FUNDFAIR"
         },
         {
          "Year": 2399,
          "value": 31746737442656.83,
          "variable": "FUNDFAIR"
         },
         {
          "Year": 2400,
          "value": 31902797272574.86,
          "variable": "FUNDFAIR"
         },
         {
          "Year": 2401,
          "value": 32059501943668.605,
          "variable": "FUNDFAIR"
         },
         {
          "Year": 2402,
          "value": 32216836085480.793,
          "variable": "FUNDFAIR"
         },
         {
          "Year": 2403,
          "value": 32374813296882.51,
          "variable": "FUNDFAIR"
         },
         {
          "Year": 2404,
          "value": 32533444937387.805,
          "variable": "FUNDFAIR"
         },
         {
          "Year": 2405,
          "value": 32692740786664.836,
          "variable": "FUNDFAIR"
         },
         {
          "Year": 2406,
          "value": 32852708789138.473,
          "variable": "FUNDFAIR"
         },
         {
          "Year": 2407,
          "value": 33013356046887.82,
          "variable": "FUNDFAIR"
         },
         {
          "Year": 2408,
          "value": 33174688570068.492,
          "variable": "FUNDFAIR"
         },
         {
          "Year": 2409,
          "value": 33336711477476.29,
          "variable": "FUNDFAIR"
         },
         {
          "Year": 2410,
          "value": 33499429507536.49,
          "variable": "FUNDFAIR"
         },
         {
          "Year": 2411,
          "value": 33662846989812.42,
          "variable": "FUNDFAIR"
         },
         {
          "Year": 2412,
          "value": 33826967859824.48,
          "variable": "FUNDFAIR"
         },
         {
          "Year": 2413,
          "value": 33991796784112.785,
          "variable": "FUNDFAIR"
         },
         {
          "Year": 2414,
          "value": 34157336704140.574,
          "variable": "FUNDFAIR"
         },
         {
          "Year": 2415,
          "value": 34323589728989.54,
          "variable": "FUNDFAIR"
         },
         {
          "Year": 2416,
          "value": 34490560922455.92,
          "variable": "FUNDFAIR"
         },
         {
          "Year": 2417,
          "value": 34658252794187.34,
          "variable": "FUNDFAIR"
         },
         {
          "Year": 2418,
          "value": 34826667362685.53,
          "variable": "FUNDFAIR"
         },
         {
          "Year": 2419,
          "value": 34995809431497.977,
          "variable": "FUNDFAIR"
         },
         {
          "Year": 2420,
          "value": 35165682488060.62,
          "variable": "FUNDFAIR"
         },
         {
          "Year": 2421,
          "value": 35336287641318.016,
          "variable": "FUNDFAIR"
         },
         {
          "Year": 2422,
          "value": 35494625039148.664,
          "variable": "FUNDFAIR"
         },
         {
          "Year": 2423,
          "value": 35662705268061.516,
          "variable": "FUNDFAIR"
         },
         {
          "Year": 2424,
          "value": 35835409626117.61,
          "variable": "FUNDFAIR"
         },
         {
          "Year": 2425,
          "value": 36008861040654.53,
          "variable": "FUNDFAIR"
         },
         {
          "Year": 2426,
          "value": 36183060195133.65,
          "variable": "FUNDFAIR"
         },
         {
          "Year": 2427,
          "value": 36358009204664.1,
          "variable": "FUNDFAIR"
         },
         {
          "Year": 2428,
          "value": 36533711829566.37,
          "variable": "FUNDFAIR"
         },
         {
          "Year": 2429,
          "value": 36710172586619.38,
          "variable": "FUNDFAIR"
         },
         {
          "Year": 2430,
          "value": 36887393827103.71,
          "variable": "FUNDFAIR"
         },
         {
          "Year": 2431,
          "value": 37065378598439.21,
          "variable": "FUNDFAIR"
         },
         {
          "Year": 2432,
          "value": 37244130420099.23,
          "variable": "FUNDFAIR"
         },
         {
          "Year": 2433,
          "value": 37423652519459.26,
          "variable": "FUNDFAIR"
         },
         {
          "Year": 2434,
          "value": 37603947810484.63,
          "variable": "FUNDFAIR"
         },
         {
          "Year": 2435,
          "value": 37785020895305.59,
          "variable": "FUNDFAIR"
         },
         {
          "Year": 2436,
          "value": 37966874168154.05,
          "variable": "FUNDFAIR"
         },
         {
          "Year": 2437,
          "value": 38149509418997.07,
          "variable": "FUNDFAIR"
         },
         {
          "Year": 2438,
          "value": 38332930987001.61,
          "variable": "FUNDFAIR"
         },
         {
          "Year": 2439,
          "value": 38517142530096.95,
          "variable": "FUNDFAIR"
         },
         {
          "Year": 2440,
          "value": 38702148678928.36,
          "variable": "FUNDFAIR"
         },
         {
          "Year": 2441,
          "value": 38887952091708.11,
          "variable": "FUNDFAIR"
         },
         {
          "Year": 2442,
          "value": 39074554697096.516,
          "variable": "FUNDFAIR"
         },
         {
          "Year": 2443,
          "value": 39261961879073.27,
          "variable": "FUNDFAIR"
         },
         {
          "Year": 2444,
          "value": 39450176341640.43,
          "variable": "FUNDFAIR"
         },
         {
          "Year": 2445,
          "value": 39639201370407.12,
          "variable": "FUNDFAIR"
         },
         {
          "Year": 2446,
          "value": 39829040459221.34,
          "variable": "FUNDFAIR"
         },
         {
          "Year": 2447,
          "value": 40019697076945.336,
          "variable": "FUNDFAIR"
         },
         {
          "Year": 2448,
          "value": 40211175990097.03,
          "variable": "FUNDFAIR"
         },
         {
          "Year": 2449,
          "value": 40403478605490.195,
          "variable": "FUNDFAIR"
         },
         {
          "Year": 2450,
          "value": 40596609475601.52,
          "variable": "FUNDFAIR"
         },
         {
          "Year": 2451,
          "value": 40790530577740.52,
          "variable": "FUNDFAIR"
         },
         {
          "Year": 2452,
          "value": 40985210401349.555,
          "variable": "FUNDFAIR"
         },
         {
          "Year": 2453,
          "value": 41180672425381.95,
          "variable": "FUNDFAIR"
         },
         {
          "Year": 2454,
          "value": 41376936435963.67,
          "variable": "FUNDFAIR"
         },
         {
          "Year": 2455,
          "value": 41574016226832.39,
          "variable": "FUNDFAIR"
         },
         {
          "Year": 2456,
          "value": 41771923765471.445,
          "variable": "FUNDFAIR"
         },
         {
          "Year": 2457,
          "value": 41970667771712.65,
          "variable": "FUNDFAIR"
         },
         {
          "Year": 2458,
          "value": 42170257926390.88,
          "variable": "FUNDFAIR"
         },
         {
          "Year": 2459,
          "value": 42370703575713.266,
          "variable": "FUNDFAIR"
         },
         {
          "Year": 2460,
          "value": 42572009849641.234,
          "variable": "FUNDFAIR"
         },
         {
          "Year": 2461,
          "value": 42774181553421.305,
          "variable": "FUNDFAIR"
         },
         {
          "Year": 2462,
          "value": 42977223576603.94,
          "variable": "FUNDFAIR"
         },
         {
          "Year": 2463,
          "value": 43181140462804.164,
          "variable": "FUNDFAIR"
         },
         {
          "Year": 2464,
          "value": 43385937795752.414,
          "variable": "FUNDFAIR"
         },
         {
          "Year": 2465,
          "value": 43591618477142.125,
          "variable": "FUNDFAIR"
         },
         {
          "Year": 2466,
          "value": 43798184490786.01,
          "variable": "FUNDFAIR"
         },
         {
          "Year": 2467,
          "value": 44005640228777.96,
          "variable": "FUNDFAIR"
         },
         {
          "Year": 2468,
          "value": 44213989341746.805,
          "variable": "FUNDFAIR"
         },
         {
          "Year": 2469,
          "value": 44423236934197.93,
          "variable": "FUNDFAIR"
         },
         {
          "Year": 2470,
          "value": 44633384669849.25,
          "variable": "FUNDFAIR"
         },
         {
          "Year": 2471,
          "value": 44844433100673.44,
          "variable": "FUNDFAIR"
         },
         {
          "Year": 2472,
          "value": 45056387427733.06,
          "variable": "FUNDFAIR"
         },
         {
          "Year": 2473,
          "value": 45269248580150.87,
          "variable": "FUNDFAIR"
         },
         {
          "Year": 2474,
          "value": 45483018585008.21,
          "variable": "FUNDFAIR"
         },
         {
          "Year": 2475,
          "value": 45697698662303.07,
          "variable": "FUNDFAIR"
         },
         {
          "Year": 2476,
          "value": 45913289339886.19,
          "variable": "FUNDFAIR"
         },
         {
          "Year": 2477,
          "value": 46129789920486.26,
          "variable": "FUNDFAIR"
         },
         {
          "Year": 2478,
          "value": 46347198336510.39,
          "variable": "FUNDFAIR"
         },
         {
          "Year": 2479,
          "value": 46565509601263.32,
          "variable": "FUNDFAIR"
         },
         {
          "Year": 2480,
          "value": 46784714296425.87,
          "variable": "FUNDFAIR"
         },
         {
          "Year": 2481,
          "value": 47004796376900.945,
          "variable": "FUNDFAIR"
         },
         {
          "Year": 2482,
          "value": 47225727238040,
          "variable": "FUNDFAIR"
         },
         {
          "Year": 2483,
          "value": 47447456193545.1,
          "variable": "FUNDFAIR"
         },
         {
          "Year": 2484,
          "value": 47669878249192.13,
          "variable": "FUNDFAIR"
         },
         {
          "Year": 2485,
          "value": 47892762014016.484,
          "variable": "FUNDFAIR"
         },
         {
          "Year": 2486,
          "value": 48115495121675.32,
          "variable": "FUNDFAIR"
         },
         {
          "Year": 2487,
          "value": 48334819877092.36,
          "variable": "FUNDFAIR"
         },
         {
          "Year": 2488,
          "value": 48551758593756.516,
          "variable": "FUNDFAIR"
         },
         {
          "Year": 2489,
          "value": 48779768710059.53,
          "variable": "FUNDFAIR"
         },
         {
          "Year": 2490,
          "value": 49008759938159.25,
          "variable": "FUNDFAIR"
         },
         {
          "Year": 2491,
          "value": 49238738016738.23,
          "variable": "FUNDFAIR"
         },
         {
          "Year": 2492,
          "value": 49469709206453.12,
          "variable": "FUNDFAIR"
         },
         {
          "Year": 2493,
          "value": 49701676350038.73,
          "variable": "FUNDFAIR"
         },
         {
          "Year": 2494,
          "value": 49934643352346.414,
          "variable": "FUNDFAIR"
         },
         {
          "Year": 2495,
          "value": 50168614431998.09,
          "variable": "FUNDFAIR"
         },
         {
          "Year": 2496,
          "value": 50403593956930.99,
          "variable": "FUNDFAIR"
         },
         {
          "Year": 2497,
          "value": 50639585784832.305,
          "variable": "FUNDFAIR"
         },
         {
          "Year": 2498,
          "value": 50876596590536.02,
          "variable": "FUNDFAIR"
         },
         {
          "Year": 2499,
          "value": 51114629507334.73,
          "variable": "FUNDFAIR"
         },
         {
          "Year": 2500,
          "value": 51353707897900.33,
          "variable": "FUNDFAIR"
         }
        ]
       },
       "encoding": {
        "color": {
         "field": "variable",
         "type": "nominal"
        },
        "x": {
         "field": "Year",
         "type": "quantitative"
        },
        "y": {
         "field": "value",
         "type": "quantitative"
        }
       },
       "mark": "line"
      },
      "image/png": "[encoded data removed]",
      "image/svg+xml": [
       "<?xml version=\"1.0\" encoding=\"utf-8\"?>\n",
       "<!DOCTYPE svg PUBLIC \"-//W3C//DTD SVG 1.1//EN\" \"http://www.w3.org/Graphics/SVG/1.1/DTD/svg11.dtd\">\n",
       "<svg xmlns=\"http://www.w3.org/2000/svg\" xmlns:xlink=\"http://www.w3.org/1999/xlink\" version=\"1.1\" class=\"marks\" width=\"413\" height=\"242\" viewBox=\"0 0 413 242\"><rect width=\"413\" height=\"242\" fill=\"white\"/><g fill=\"none\" stroke-miterlimit=\"10\" transform=\"translate(123,5)\"><g class=\"mark-group role-frame root\" role=\"graphics-object\" aria-roledescription=\"group mark container\"><g transform=\"translate(0,0)\"><path class=\"background\" aria-hidden=\"true\" d=\"M0.5,0.5h200v200h-200Z\" stroke=\"#ddd\"/><g><g class=\"mark-group role-axis\" aria-hidden=\"true\"><g transform=\"translate(0.5,200.5)\"><path class=\"background\" aria-hidden=\"true\" d=\"M0,0h0v0h0Z\" pointer-events=\"none\"/><g><g class=\"mark-rule role-axis-grid\" pointer-events=\"none\"><line transform=\"translate(25,-200)\" x2=\"0\" y2=\"200\" stroke=\"#ddd\" stroke-width=\"1\" opacity=\"1\"/><line transform=\"translate(75,-200)\" x2=\"0\" y2=\"200\" stroke=\"#ddd\" stroke-width=\"1\" opacity=\"1\"/><line transform=\"translate(125,-200)\" x2=\"0\" y2=\"200\" stroke=\"#ddd\" stroke-width=\"1\" opacity=\"1\"/><line transform=\"translate(175,-200)\" x2=\"0\" y2=\"200\" stroke=\"#ddd\" stroke-width=\"1\" opacity=\"1\"/></g></g><path class=\"foreground\" aria-hidden=\"true\" d=\"\" pointer-events=\"none\" display=\"none\"/></g></g><g class=\"mark-group role-axis\" aria-hidden=\"true\"><g transform=\"translate(0.5,0.5)\"><path class=\"background\" aria-hidden=\"true\" d=\"M0,0h0v0h0Z\" pointer-events=\"none\"/><g><g class=\"mark-rule role-axis-grid\" pointer-events=\"none\"><line transform=\"translate(0,183)\" x2=\"200\" y2=\"0\" stroke=\"#ddd\" stroke-width=\"1\" opacity=\"1\"/><line transform=\"translate(0,150)\" x2=\"200\" y2=\"0\" stroke=\"#ddd\" stroke-width=\"1\" opacity=\"1\"/><line transform=\"translate(0,117)\" x2=\"200\" y2=\"0\" stroke=\"#ddd\" stroke-width=\"1\" opacity=\"1\"/><line transform=\"translate(0,83)\" x2=\"200\" y2=\"0\" stroke=\"#ddd\" stroke-width=\"1\" opacity=\"1\"/><line transform=\"translate(0,50)\" x2=\"200\" y2=\"0\" stroke=\"#ddd\" stroke-width=\"1\" opacity=\"1\"/><line transform=\"translate(0,17)\" x2=\"200\" y2=\"0\" stroke=\"#ddd\" stroke-width=\"1\" opacity=\"1\"/></g></g><path class=\"foreground\" aria-hidden=\"true\" d=\"\" pointer-events=\"none\" display=\"none\"/></g></g><g class=\"mark-group role-axis\" role=\"graphics-symbol\" aria-roledescription=\"axis\" aria-label=\"X-axis titled 'Year' for a linear scale with values from 1,700 to 2,500\"><g transform=\"translate(0.5,200.5)\"><path class=\"background\" aria-hidden=\"true\" d=\"M0,0h0v0h0Z\" pointer-events=\"none\"/><g><g class=\"mark-rule role-axis-tick\" pointer-events=\"none\"><line transform=\"translate(25,0)\" x2=\"0\" y2=\"5\" stroke=\"#888\" stroke-width=\"1\" opacity=\"1\"/><line transform=\"translate(75,0)\" x2=\"0\" y2=\"5\" stroke=\"#888\" stroke-width=\"1\" opacity=\"1\"/><line transform=\"translate(125,0)\" x2=\"0\" y2=\"5\" stroke=\"#888\" stroke-width=\"1\" opacity=\"1\"/><line transform=\"translate(175,0)\" x2=\"0\" y2=\"5\" stroke=\"#888\" stroke-width=\"1\" opacity=\"1\"/></g><g class=\"mark-text role-axis-label\" pointer-events=\"none\"><text text-anchor=\"middle\" transform=\"translate(25,15)\" font-family=\"sans-serif\" font-size=\"10px\" fill=\"#000\" opacity=\"1\">1,800</text><text text-anchor=\"middle\" transform=\"translate(75,15)\" font-family=\"sans-serif\" font-size=\"10px\" fill=\"#000\" opacity=\"1\">2,000</text><text text-anchor=\"middle\" transform=\"translate(125,15)\" font-family=\"sans-serif\" font-size=\"10px\" fill=\"#000\" opacity=\"1\">2,200</text><text text-anchor=\"middle\" transform=\"translate(175,15)\" font-family=\"sans-serif\" font-size=\"10px\" fill=\"#000\" opacity=\"1\">2,400</text></g><g class=\"mark-rule role-axis-domain\" pointer-events=\"none\"><line transform=\"translate(0,0)\" x2=\"200\" y2=\"0\" stroke=\"#888\" stroke-width=\"1\" opacity=\"1\"/></g><g class=\"mark-text role-axis-title\" pointer-events=\"none\"><text text-anchor=\"middle\" transform=\"translate(100,30)\" font-family=\"sans-serif\" font-size=\"11px\" font-weight=\"bold\" fill=\"#000\" opacity=\"1\">Year</text></g></g><path class=\"foreground\" aria-hidden=\"true\" d=\"\" pointer-events=\"none\" display=\"none\"/></g></g><g class=\"mark-group role-axis\" role=\"graphics-symbol\" aria-roledescription=\"axis\" aria-label=\"Y-axis titled 'value' for a linear scale with values from −5,000,000,000,000 to 55,000,000,000,000\"><g transform=\"translate(0.5,0.5)\"><path class=\"background\" aria-hidden=\"true\" d=\"M0,0h0v0h0Z\" pointer-events=\"none\"/><g><g class=\"mark-rule role-axis-tick\" pointer-events=\"none\"><line transform=\"translate(0,183)\" x2=\"-5\" y2=\"0\" stroke=\"#888\" stroke-width=\"1\" opacity=\"1\"/><line transform=\"translate(0,150)\" x2=\"-5\" y2=\"0\" stroke=\"#888\" stroke-width=\"1\" opacity=\"1\"/><line transform=\"translate(0,117)\" x2=\"-5\" y2=\"0\" stroke=\"#888\" stroke-width=\"1\" opacity=\"1\"/><line transform=\"translate(0,83)\" x2=\"-5\" y2=\"0\" stroke=\"#888\" stroke-width=\"1\" opacity=\"1\"/><line transform=\"translate(0,50)\" x2=\"-5\" y2=\"0\" stroke=\"#888\" stroke-width=\"1\" opacity=\"1\"/><line transform=\"translate(0,17)\" x2=\"-5\" y2=\"0\" stroke=\"#888\" stroke-width=\"1\" opacity=\"1\"/></g><g class=\"mark-text role-axis-label\" pointer-events=\"none\"><text text-anchor=\"end\" transform=\"translate(-7,186.33333333333331)\" font-family=\"sans-serif\" font-size=\"10px\" fill=\"#000\" opacity=\"1\">0</text><text text-anchor=\"end\" transform=\"translate(-7,153)\" font-family=\"sans-serif\" font-size=\"10px\" fill=\"#000\" opacity=\"1\">10,000,000,000,000</text><text text-anchor=\"end\" transform=\"translate(-7,119.66666666666666)\" font-family=\"sans-serif\" font-size=\"10px\" fill=\"#000\" opacity=\"1\">20,000,000,000,000</text><text text-anchor=\"end\" transform=\"translate(-7,86.33333333333333)\" font-family=\"sans-serif\" font-size=\"10px\" fill=\"#000\" opacity=\"1\">30,000,000,000,000</text><text text-anchor=\"end\" transform=\"translate(-7,53)\" font-family=\"sans-serif\" font-size=\"10px\" fill=\"#000\" opacity=\"1\">40,000,000,000,000</text><text text-anchor=\"end\" transform=\"translate(-7,19.666666666666675)\" font-family=\"sans-serif\" font-size=\"10px\" fill=\"#000\" opacity=\"1\">50,000,000,000,000</text></g><g class=\"mark-rule role-axis-domain\" pointer-events=\"none\"><line transform=\"translate(0,200)\" x2=\"0\" y2=\"-200\" stroke=\"#888\" stroke-width=\"1\" opacity=\"1\"/></g><g class=\"mark-text role-axis-title\" pointer-events=\"none\"><text text-anchor=\"middle\" transform=\"translate(-107,100) rotate(-90) translate(0,-2)\" font-family=\"sans-serif\" font-size=\"11px\" font-weight=\"bold\" fill=\"#000\" opacity=\"1\">value</text></g></g><path class=\"foreground\" aria-hidden=\"true\" d=\"\" pointer-events=\"none\" display=\"none\"/></g></g><g class=\"mark-group role-scope pathgroup\" role=\"graphics-object\" aria-roledescription=\"group mark container\"><g transform=\"translate(0,0)\"><path class=\"background\" aria-hidden=\"true\" d=\"M0,0h200v200h-200Z\"/><g><g class=\"mark-line role-mark marks\" role=\"graphics-object\" aria-roledescription=\"line mark container\"><path aria-label=\"Year: 1765; value: 0; variable: FUND\" role=\"graphics-symbol\" aria-roledescription=\"line mark\" d=\"M62.74999999999999,183.34756496312258L63,183.34966320577038L63.24999999999999,183.35199781585817L63.5,183.354291875956L63.74999999999999,183.3567282182277L64,183.35932859580217L64.25,183.3621100470015L64.5,183.36500459341994L64.75,183.36802520718737L65,183.3711203160508L65.25,183.37454508275212L65.5,183.37812491324388L65.75,183.38186464720613L66,183.38582322284486L66.25,183.39000108404588L66.5,183.39441973596442L66.75,183.3991390891296L67,183.40414099442373L67.25,183.4093708183826L67.5,183.41479188591254L67.75,183.42022285190686L68,183.42622946228394L68.25,183.4325708912139L68.5,183.43920349147177L68.75,183.4461988838115L69,183.45357287486283L69.25,183.46131124537314L69.5,183.46933823137002L69.75,183.47768911580164L70,183.48663222538386L70.25,183.49768165749617L70.5,183.51028560745056L70.75,183.52372241111485L71,183.5379952943717L71.25,183.55317875547712L71.5,183.5694712511861L71.75,183.58706361982806L72,183.60601630603628L72.25,183.6265869971848L72.5,183.6484151965015L72.75,183.66058355690765L73,183.67471648560135L73.25,183.68956381729976L73.5,183.70515920660176L73.75,183.72162270275004L74,183.74302114953852L74.25,183.76425503891025L74.5,183.78848271537967L74.75,183.7015969377851L75,183.82473830814754L75.25,183.8540930807869L75.5,183.87302192946686L75.75,183.89324497919625L76,183.9139430464497L76.25,183.93470992631825L76.5,183.95528098402463L76.75,183.97574771328027L77,183.99650991481585L77.25,184.01753367242713L77.5,184.03907814702168L77.75,184.06140547874784L78,184.08412676524776L78.25,184.10714644079007L78.5,184.1319106582391L78.75,184.1552382766659L79,184.1788356414825L79.25,184.20265731812114L79.5,184.2273265763421L79.75,184.25103437033363L80,184.27463390781423L80.25,184.29796799428297L80.5,184.3211262071743L80.75,184.34415387281038L81,184.36698914752202L81.25,184.3895884752493L81.5,184.41187514135902L81.75,184.4337549806032L82,184.45517236163911L82.25,184.4760510932148L82.5,184.49615330957906L82.75,184.51513791557792L83,184.53345819615157L83.25,184.5510512509663L83.5,184.56788540840574L83.75,184.58391834629927L84,184.59908123343956L84.25,184.61328402617346L84.5,184.62642173279224L84.75,184.6383998698169L85,184.64921586303342L85.25,184.65880216029973L85.5,184.66674044418428L85.75,184.67295765127872L86,184.6773252177682L86.25,184.67974716485443L86.5,184.6800830101707L86.75,184.67825405048595L87,184.67414440585085L87.25,184.66762519862277L87.5,184.65879781747347L87.75,184.64770321171804L88,184.63414090844822L88.25,184.61844619553884L88.5,184.60007705799373L88.75,184.57890102687819L89,184.55478097369178L89.25,184.5275884925747L89.5,184.49717735940223L89.75,184.46336338619312L90,184.4260734524702L90.25,184.3851630547138L90.5,184.34045806300335L90.75,184.29174709506745L91,184.2388304974018L91.25,184.18155121567082L91.5,184.11964068914148L91.75,184.0528712727319L92,183.98101439511234L92.25,183.90381257663836L92.5,183.82107717707692L92.75,183.73258824831166L93,183.6378414313525L93.25,183.5367040379819L93.5,183.42890278063356L93.75,183.31419655701637L94,183.1922542325337L94.25,183.06288976595187L94.5,182.92604124182213L94.75,182.78152158952537L95,182.6290164663768L95.25,182.46785047221445L95.5,182.29809667065317L95.75,182.11959557249978L96,181.93221269229844L96.25,181.73578775748115L96.5,181.5300256737897L96.75,181.314803879146L97,181.08998631963942L97.25,180.85539231586333L97.5,180.6112400141197L97.75,180.35763345578573L98,180.0943500342835L98.25,179.82109231973882L98.5,179.53773882344828L98.75,179.24429264141614L99,178.94049997126606L99.25,178.62637799435203L99.5,178.30189424652673L99.75,177.96700418632346L100,177.62209273145237L100.25,177.26818746706522L100.49999999999999,176.904737643323L100.75,176.53141205335268L101,176.1481631784221L101.25,175.75496234234072L101.49999999999999,175.3517946011571L101.75,174.9386541346738L102,174.51552026997445L102.25,174.082461369271L102.49999999999999,173.63951684251379L102.75000000000001,173.1867887482353L103,172.72429707050466L103.25,172.25213625432875L103.49999999999999,171.77041208057736L103.75000000000001,171.2792589197019L104,170.7787586867199L104.25,170.26921077680814L104.5,169.750725483539L104.75000000000001,169.2235142190089L105,168.6877958543016L105.25,168.1437797128963L105.5,167.59160329332667L105.75000000000001,167.0314786645993L106,166.46368949991813L106.25,165.88851222410725L106.5,165.3062505408424L106.74999999999999,164.7172068211101L107,164.1217080112777L107.25,163.52009516384433L107.5,162.9127093747534L107.74999999999999,162.2999257597409L108,161.68212193890176L108.25,161.05967414173358L108.5,160.43299282795417L108.74999999999999,159.80247306840698L109.00000000000001,159.16851887681273L109.25,158.53156593285448L109.5,157.892048483148L109.74999999999999,157.25042332899625L110.00000000000001,156.60711697445512L110.25,155.96256482007803L110.5,155.31724779797395L110.75,154.67161095012884L111.00000000000001,154.02611093515844L111.25,153.38123314162635L111.5,152.73740662652054L111.75,152.0951681784214L112.00000000000001,151.45494787982838L112.25,150.81720148956185L112.5,150.18238817198778L112.75,149.55100872551137L112.99999999999999,148.91980916483323L113.25,148.28871487444724L113.5,147.65796753039936L113.75,147.02778706206306L113.99999999999999,146.39843725108025L114.25,145.77012813216993L114.5,145.14306977777198L114.75,144.51754809813463L114.99999999999999,143.89370215319866L115.25000000000001,143.27177143028473L115.5,142.65196188397275L115.75,142.0344582473654L115.99999999999999,141.4194511577969L116.25000000000001,140.8071499987161L116.5,140.19770689773L116.75,139.59132601708865L117,138.98815289368468L117.25000000000001,138.38836197553553L117.5,137.79211127117975L117.75,137.19959782167638L118,136.6108641237917L118.25000000000001,136.02610893612265L118.5,135.44544280230818L118.75,134.8690300339291L119,134.29695486038435L119.24999999999999,133.72934423694366L119.5,133.1663073136814L119.75,132.6079259559451L120,132.054300916096L120.24999999999999,131.50549071781012L120.5,130.96162682949372L120.75,130.42272545484494L121,129.88889300690118L121.24999999999999,129.3602454508075L121.50000000000001,128.83675884925393L121.75,128.31853981875196L122,127.80558661125201L122.24999999999999,127.29795489613076L122.50000000000001,126.79567720022989L122.75,126.31760516774699L123,125.85167792192773L123.25,125.42495939485718L123.50000000000001,124.94584262395621L123.75,124.47185319100763L124,124.00335136518068L124.25,123.54028753283035L124.50000000000001,123.08272960930029L124.75,122.63056567050073L125,122.18379771113885L125.25,121.73754757164068L125.49999999999999,121.29322563611015L125.75,120.85079137446917L126,120.41024324029563L126.25,119.97153772598521L126.49999999999999,119.53472066300206L126.75,119.09958961039871L127,118.66634088622656L127.25,118.23479011312723L127.49999999999999,117.80496614152727L127.75000000000001,117.37784100698296L128,116.95509991836524L128.25,116.53013911327936L128.5,116.10679447120027L128.75,115.68501781847897L129,115.26460341901108L129.25,114.84565313037373L129.5,114.42811256734953L129.75,114.01192204916124L130,113.5971242677548L130.25,113.18349814665028L130.5,112.77105682303848L130.75,112.35993104922622L131,111.96208519546951L131.25,111.56022429160495L131.5,111.15923744928011L131.75,110.75678176122364L132,110.35716997039806L132.25,109.9604809250304L132.5,109.56674559202627L132.75,109.17579926731361L133,108.78779923679485L133.25,108.40255787887827L133.5,108.01987676935474L133.75,107.63986164211265L134,107.26247282613186L134.25,106.88774882393895L134.5,106.57158192155629L134.75,106.25346955222011L135,105.88739660143054L135.25,105.52378166372849L135.5,105.16259646895728L135.75,104.80380309179141L136,104.44721213711298L136.25,104.0929692119587L136.5,103.74104192481433L136.75,103.39127060622897L137,103.04364595971087L137.25,102.69786222691289L137.5,102.35437401191749L137.75,102.01305123262104L138,101.67361634362153L138.25,101.33600297363455L138.5,101.00031680926485L138.75,100.66635153365844L139,100.33436292358986L139.25,100.0041086956597L139.5,99.67522971003228L139.75,99.34817495867748L140,99.02284301121604L140.25,98.69905289483611L140.5,98.37693033103609L140.75,98.05621402195517L141,97.73711539038995L141.25,97.41969161183508L141.5,97.10371785663487L141.75,96.78912915374158L142,96.47623356904037L142.25,96.16463377584633L142.5,95.85455848920455L142.75,95.54564346676666L143,95.23807949801389L143.25,94.93184475433199L143.5,94.62683324873883L143.75,94.32342550882957L144,94.02101792302449L144.25,93.72013942465338L144.5,93.42044905689772L144.75,93.12202001645831L145,92.82464592912297L145.25,92.56376632995482L145.5,92.27208240014453L145.75,91.97865029738217L146,91.68630405527347L146.25,91.39537324978046L146.5,91.10505128979413L146.75,90.81623080342102L147,90.52839121459581L147.25,90.24171926947993L147.5,89.95604387228629L147.75,89.67124812277711L148,89.3875845578834L148.25,89.10525148653701L148.5,88.82349212988008L148.75,88.54283997693157L149,88.26339131481802L149.25,87.98491564264073L149.5,87.70773254658593L149.75,87.4313851855258L150,87.15585937127987L150.25,86.88708029512946L150.5,86.6229003845703L150.75,86.3631191608053L151,86.10760793651757L151.25,85.85624404495151L151.5,85.6089096350019L151.75,85.36549072176392L152,85.12587644746665L152.25,84.8899585081367L152.5,84.65763071018158L152.75,84.42878862806282L153,84.20332933973202L153.25,83.98115122083773L153.5,83.76215378209604L153.75,83.54623753684255L154,83.33330388776983L154.25,83.12325502325211L154.5,82.91599381460604L154.75,82.71142370606587L155,82.50944858920484L155.25,82.28730155859184L155.5,81.96382127295291L155.75,81.64219742961085L156,81.32245979532364L156.25,81.00462551770067L156.5,80.68869967733978L156.75,80.37467559971807L157,80.06253488085787L157.25,79.7522470555637L157.5,79.44376879789938L157.75,79.13704248136017L158,78.83199382366142L158.25,78.54207817518046L158.5,78.78745814899L158.75,78.49561459586376L159,78.20575960313785L159.25,77.91788559303636L159.5,77.63195988284575L159.75,77.34794790623334L160,77.06581347668259L160.25,76.78551902643609L160.5,76.50702582188428L160.75,76.2302941575439L161,75.95528353062507L161.25,75.68195279796453L161.5,75.41026031696447L161.75,75.14016407203239L162,74.87162178785482L162.25,74.60459103074935L162.5,74.33902929920544L162.75,74.07489410462833L163,73.81214304320577L163.25,73.55073385974664L163.5,73.29062450423656L163.75,73.03177318182104L164,72.77413839683109L164.25,72.51767899143336L164.5,72.26235417941555L164.75,72.00812357559094L165,71.75494722124401L165.25,71.50278560601512L165.5,71.2515996865757L165.75,71.00135090242175L166,70.75200118908678L166.25,70.50351298903672L166.5,70.2558492605001L166.75,70.00897348446824L167,69.76284967006099L167.25,69.51744235846292L167.5,69.27271662561098L167.75,69.02863808379979L168,68.78517288236117L168.25,68.54228770759003L168.5,68.29994978203588L168.75,68.05812686334707L169,67.85117408776615L169.25,67.62001777062261L169.5,67.3797942744319L169.75,67.13995945494233L170,66.90048808915594L170.25,66.6613511477466L170.5,66.42252013060421L170.75,66.18396706874923L171,65.94566452811034L171.25,65.7075856157005L171.5,65.46970398895562L171.75,65.23199386926915L172,64.99443006111471L172.25,64.75698797866241L172.5,64.51964368253773L172.75,64.28237393048084L173,64.04515624731404L173.25,63.80796902212038L173.5,63.5707916445216L173.75,63.33360469816694L174,63.0963902398677L174.25,62.859132210184484L174.5,62.62181705157528L174.75,62.384434665159084L175,62.14697994107357L175.25,61.90945530437495L175.5,61.67187515569401L175.75,61.434274078762186L176,61.19672314838507L176.25,60.95936549123706L176.5,60.722504096464355L176.75,60.486860464240564L177,60.25457790582125L177.25,60.03725182191566L177.5,59.80957666802303L177.75,59.56893062114699L178,59.32790927224703L178.25,59.08649513602915L178.5,58.844670988202765L178.75,58.60241985985131L179,58.359725031935696L179.25,58.11657002988344L179.5,57.87293861828915L179.75,57.628814795720814L180,57.38418278961597L180.25,57.13902705128406L180.5,56.89333225100312L180.75,56.64708327321855L181,56.4002652118321L181.25,56.15286336558554L181.5,55.904863233532275L181.75,55.65625051061125L182,55.40701108329558L182.25,55.15713102534296L182.5,54.90659659361188L182.75,54.65539422399503L183,54.40351052738881L183.25,54.15093228579562L183.5,53.897646448464506L183.75,53.64364012813183L184,53.3889005973335L184.25,53.133415284788875L184.5,52.87717177186069L184.75,52.62015778908948L185,52.3623612127945L185.25,52.103770061745735L185.5,51.84437249390055L185.75,51.58415680321422L186,51.32311141650434L186.25,51.06122489038989L186.5,50.79848590828286L186.75,50.53488327744493L187,50.27040592610585L187.25,50.005042900637385L187.5,49.7387833627772L187.75,49.47161658693015L188,49.203531957490384L188.25,48.93451790875698L188.5,48.66455973096673L188.75,48.39364309452687L189,48.12175824388068L189.25,47.848895705788095L189.5,47.575046257873076L189.75,47.30020089030034L190,47.024350763919664L190.25,46.747487168052196L190.5,46.4696014807068L190.75,46.1906851334142L191,45.91072958213882L191.25,45.62972628492772L191.5,45.34766668630106L191.75,45.06454220788325L192,44.780344244390236L192.25,44.49506416393982L192.5,44.20869331159971L192.75,43.92122301516477L193,43.63264459227547L193.25,43.342949358143755L193.5,43.05212863333712L193.75,42.76017375120305L194,42.46707606469118L194.25,42.1728269523842L194.5,41.87741782367416L194.75,41.58084012308758L195,41.28308533377854L195.25,40.98414498024325L195.5,40.68401063033722L195.75,40.3826738967068L196,40.08012643764627L196.25,39.776359957548244L196.5,39.471366206937674L196.75,39.165136982218215L197,38.85766412515519L197.25,38.548939522151656L197.5,38.23895510336188L197.75,37.92770284168727L198,37.615174751667894L198.25,37.3013628883083L198.5,36.98625934586002L198.75,36.66985625655157L199,36.35214578932984L199.25,36.0331201485596L199.5,35.71277157275314L199.75,35.391092333294274L200,35.06807473316302\" stroke=\"#4c78a8\" stroke-width=\"2\"/></g></g><path class=\"foreground\" aria-hidden=\"true\" d=\"\" display=\"none\"/></g><g transform=\"translate(0,0)\"><path class=\"background\" aria-hidden=\"true\" d=\"M0,0h200v200h-200Z\"/><g><g class=\"mark-line role-mark marks\" role=\"graphics-object\" aria-roledescription=\"line mark container\"><path aria-label=\"Year: 1765; value: 0; variable: FUNDFAIR\" role=\"graphics-symbol\" aria-roledescription=\"line mark\" d=\"M62.74999999999999,183.33974616013182L63,183.34312702565532L63.24999999999999,183.34612617369743L63.5,183.3499502584182L63.74999999999999,183.35321936795043L64,183.35169711034553L64.25,183.35132853754442L64.5,183.35393573908252L64.75,183.3597847882077L65,183.36585171360943L65.25,183.37047196676534L65.5,183.37067601660078L65.75,183.36550964880644L66,183.3746638357009L66.25,183.39018155442992L66.5,183.38501566967733L66.75,183.38998262482608L67,183.3930854891899L67.25,183.39719589739397L67.5,183.40316064844552L67.75,183.41512079186617L68,183.42157861184322L68.25,183.42098550949714L68.5,183.43787610723004L68.75,183.44601012384263L69,183.44433420221756L69.25,183.44360284549404L69.5,183.44616786236853L69.75,183.4510686742071L70,183.461919656315L70.25,183.47320201941605L70.5,183.4977057360389L70.75,183.48894536488655L71,183.5496254077949L71.25,183.52925305902116L71.5,183.544631942925L71.75,183.55177912685866L72,183.55828136926084L72.25,183.5658365514881L72.5,183.58652634245286L72.75,183.6061001260909L73,183.57800812509873L73.25,183.66204999238863L73.5,183.63467453489136L73.75,183.64306428302433L74,183.66144744182523L74.25,183.67702042286268L74.5,183.6907847249086L74.75,183.59514702655184L75,183.70843201480798L75.25,183.73799575124775L75.5,183.75555578924673L75.75,183.80265630011976L76,183.8365751132496L76.25,183.88977654990504L76.5,183.9170909955692L76.75,183.9329817431215L77,183.94198984428326L77.25,183.9662601647111L77.5,183.95103711373804L77.75,183.96544182876968L78,183.9651348021094L78.25,183.97534973839726L78.5,183.99725064958332L78.75,184.07005010398376L79,184.1154106658384L79.25,184.13462470210808L79.5,184.14954652776055L79.75,184.16302985582345L80,184.17313504536256L80.25,184.1623471320942L80.5,184.15445337691497L80.75,184.15711602042353L81,184.16645647384232L81.25,184.19463503969652L81.5,184.2271340831859L81.75,184.26116533402356L82,184.2822128480623L82.25,184.30905294246162L82.5,184.32806001953213L82.75,184.34435842502157L83,184.3500847183248L83.25,184.33892866577202L83.5,184.31655569018736L83.75,184.31845782269485L84,184.30930068057566L84.25,184.3258460067141L84.5,184.32846167186634L84.75,184.3522058143658L85,184.37672272594213L85.25,184.40039528103034L85.5,184.40732582236822L85.75,184.40417707182817L86,184.3897222806396L86.25,184.35103597543218L86.5,184.31981900692597L86.75,184.28274176109423L87,184.26249963172273L87.25,184.26621144320933L87.5,184.2868391552738L87.75,184.29431593164344L88,184.30096822017012L88.25,184.30183997137715L88.5,184.28096395958434L88.75,184.23741043962045L89,184.1848087606591L89.25,184.1565993539239L89.5,184.12198660857362L89.75,184.08652728415572L90,184.0803158327359L90.25,184.07424645519714L90.5,184.0650065546203L90.75,184.04038961925423L91,184.00845183293245L91.25,183.96078810445863L91.5,183.8763559512484L91.75,183.78928242930877L92,183.70957389789922L92.25,183.65346664369406L92.5,183.6133435463856L92.75,183.58895641017102L93,183.54671782205457L93.25,183.49695957921793L93.5,183.45124243236992L93.75,183.38907937217266L94,183.32240599691966L94.25,183.22811338291478L94.5,183.10404523787363L94.75,182.96739271301087L95,182.8301927394986L95.25,182.70257937302048L95.5,182.57316005777102L95.75,182.46584645484657L96,182.3432551976847L96.25,182.24888524242928L96.5,182.13388514884488L96.75,181.98888197995083L97,181.8291993838125L97.25,181.62570321943332L97.5,181.38391088196L97.75,181.14343234525748L98,180.875292687982L98.25,180.67141583612218L98.5,180.50122606258472L98.75,180.3313092404376L99,180.17512313199333L99.25,179.9833465668457L99.5,179.7849435964282L99.75,179.5343428826363L100,179.23708948520022L100.25,178.913995131182L100.49999999999999,178.64390421663657L100.75,178.37309924181798L101,178.12809530850754L101.25,177.92055447988352L101.49999999999999,177.69315227925745L101.75,177.4588011053305L102,177.19152032521905L102.25,176.89112954888236L102.49999999999999,176.5316725684426L102.75000000000001,176.08368510789253L103,175.73277252122983L103.25,175.3802214691207L103.49999999999999,175.11983733534083L103.75000000000001,174.8189636746892L104,174.57424867625647L104.25,174.2991178057428L104.5,174.00892405537448L104.75000000000001,173.68487570777097L105,173.27202138736362L105.25,172.7994863451031L105.5,172.2978329751083L105.75000000000001,171.96837878075812L106,171.56698117957862L106.25,171.2998859628361L106.5,171.0523198857854L106.74999999999999,170.75887729072966L107,170.46004544713637L107.25,170.097582398979L107.5,169.64039000538253L107.74999999999999,169.02411208310087L108,168.56782563871243L108.25,168.10270198999916L108.5,167.76892252038877L108.74999999999999,167.51335120536842L109.00000000000001,167.32423559607918L109.25,167.02845456072305L109.5,166.73549153047213L109.74999999999999,166.41315150762935L110.00000000000001,166.03984466600633L110.25,165.55441980917817L110.5,165.0579740536946L110.75,164.65819970909894L111.00000000000001,164.2506966819139L111.25,163.89942855828076L111.5,163.6605503598888L111.75,163.32901928619643L112.00000000000001,163.07778568822152L112.25,162.79521900465505L112.5,162.49079940539016L112.75,162.1615386483533L112.99999999999999,161.69328146382787L113.25,161.10180768617846L113.5,160.55630407593583L113.75,160.19304641027472L113.99999999999999,159.8735837197117L114.25,159.6635571760312L114.5,159.5571559726396L114.75,159.4396504356286L114.99999999999999,159.24166385297954L115.25000000000001,158.91809305119907L115.5,158.42913483022545L115.75,157.78408485136376L115.99999999999999,157.1644537813885L116.25000000000001,156.91725958735802L116.5,156.5524344154463L116.75,156.582406431846L117,156.57551538876916L117.25000000000001,156.50386669534103L117.5,156.33449482033458L117.75,156.06674705752658L118,155.63436928603554L118.25000000000001,154.97339327712325L118.5,154.48801901275667L118.75,154.03150806369158L119,153.7334382637977L119.24999999999999,153.65607894565852L119.5,153.70580008720987L119.75,153.652680430307L120,153.62891736062886L120.24999999999999,153.49631342821553L120.5,153.35086438767513L120.75,153.11526582911372L121,152.76391565294838L121.24999999999999,152.2622855615662L121.50000000000001,151.5202099055018L121.75,151.20864551701203L122,150.8320615837684L122.24999999999999,150.49811393816947L122.50000000000001,150.63169158573817L122.75,150.76675608745688L123,150.7704479025606L123.25,150.5873914605526L123.50000000000001,150.35458138603644L123.75,149.91823732220027L124,149.12955987492785L124.25,148.40698657695475L124.50000000000001,147.92225343067162L124.75,147.83873189386432L125,147.90522984490013L125.25,148.25718943361557L125.49999999999999,148.2619762401867L125.75,148.25637099296202L126,148.33453752484965L126.25,148.1499199417418L126.49999999999999,147.99968660128954L126.75,147.51225188635462L127,146.77632339678547L127.25,146.08956043912315L127.49999999999999,145.55926948952683L127.75000000000001,145.36664892530843L128,145.19665648522704L128.25,145.35312543271434L128.5,145.33974121528806L128.75,145.75242343094197L129,145.82395609497195L129.25,145.4600253183588L129.5,145.01328791642487L129.75,144.15287434243493L130,143.1768286689298L130.25,142.48252366788233L130.5,141.62741742967336L130.75,141.71704761543117L131,142.10387569211989L131.25,142.44473137772658L131.5,142.9790785079172L131.75,142.76570008037268L132,142.71208684133424L132.25,141.8598038577079L132.5,140.69028443184888L132.75,139.95018921419137L133,139.6165493554177L133.25,139.12223569994194L133.5,139.26727039982023L133.75,139.37298707506474L134,139.97189598565868L134.25,139.945446384951L134.5,139.75179994621504L134.75,139.24657903211178L135,138.3560905698079L135.25,137.01066248180584L135.5,135.9962127667755L135.75,135.73393846451555L136,135.65652715828077L136.25,136.17274668740865L136.5,136.73971190575597L136.75,136.75170740335744L137,136.98613886050092L137.25,136.89934332595152L137.5,136.68942077425808L137.75,136.1926556383032L138,135.24958621720364L138.25,134.02520048832983L138.5,132.91137637636677L138.75,132.591675882595L139,132.1696851344791L139.25,132.1456350272554L139.5,132.57639339190922L139.75,132.84224574498188L140,133.56910981844322L140.25,133.6019729965803L140.5,132.9753296959793L140.75,132.24914122127288L141,130.82495404842123L141.25,129.3472823099122L141.5,128.35861913015964L141.75,127.50305601893331L142,128.22297213784202L142.25,128.81978738705112L142.5,129.7558756398679L142.75,130.10265290046013L143,130.37205271064346L143.25,129.68423033475983L143.5,128.16105969662095L143.75,126.61456213564388L144,125.63191821419237L144.25,125.47967286917378L144.5,125.42809324310129L144.75,125.85405751435137L145,126.87470670705649L145.25,127.11058332732233L145.5,126.78378858550326L145.75,126.3297845169867L146,125.04684959765369L146.25,123.14562892027898L146.5,121.58199773148199L146.75,121.04094896351576L147,120.96677649422975L147.25,122.65533948536529L147.5,122.76477341651714L147.75,123.50566210328952L148,124.03764958775061L148.25,123.92342458407828L148.5,122.63353226227483L148.75,120.38269293838168L149,118.85660649424183L149.25,117.49094999028982L149.5,117.3584082101456L149.75,118.27772938871388L150,120.2876206465548L150.25,119.65450405651512L150.5,119.0925422530435L150.75,118.58141936809186L151,118.10727330166783L151.25,117.66035115747367L151.5,117.23363353384615L151.75,116.82197292696952L152,116.42153603698651L152.25,116.02943111396402L152.5,115.64345805260577L152.75,115.30062803447612L153,114.92488697696963L153.25,114.54897470064434L153.5,114.17439405452261L153.75,113.80052487763494L154,113.42687833654787L154.25,113.05306782131927L154.5,112.67879066543509L154.75,112.30380770330895L155,111.92792418348833L155.25,111.55098769641162L155.5,111.17287577426274L155.75,110.7934889941042L156,110.41274960568369L156.25,110.03059264449375L156.5,109.64696564233827L156.75,109.2618260632559L157,108.87513746626203L157.25,108.48686910166867L157.5,108.09699384421796L157.75,107.70549135417484L158,107.31234243601615L158.25,106.9175294314142L158.5,106.52103650584162L158.75,106.1228481588663L159,105.72295273186911L159.25,105.32133762706226L159.5,104.9179917844473L159.75,104.51290369578618L160,104.10606171170787L160.25,103.69745509420802L160.5,103.28707111510948L160.75,102.8749004406588L161,102.46093459223889L161.25,102.04515983374647L161.5,101.62756454486714L161.75,101.20814059271925L162,100.78687586784676L162.25,100.36375676942646L162.5,99.93877296727085L162.75,99.51200098769158L163,99.0834957456053L163.25,98.6532068896419L163.5,98.22109267679171L163.75,97.78711723242135L164,97.35124700012348L164.25,96.91345641863587L164.5,96.47372245334336L164.75,96.03201687052965L165,95.58831865989565L165.25,95.14260487634019L165.5,94.69485041257101L165.75,94.24503737908019L166,93.79313999627136L166.25,93.339129221008L166.5,92.88297942512129L166.75,92.42466046094802L167,91.96413793222516L167.25,91.50137347190588L167.5,91.03632102592431L167.75,90.56892546636945L168,90.0991221250965L168.25,89.62684087233819L168.5,89.72801611877566L168.75,89.34984328542508L169,88.88049549680703L169.25,88.40912435637264L169.5,87.93572436302992L169.75,87.46028792756815L170,86.98280465508688L170.25,86.50326834818057L170.5,86.02167466930611L170.75,85.538012836196L171,85.05227142987263L171.25,84.56444450077942L171.5,84.07452323420392L171.75,83.58249980919963L172,83.08836495695357L172.25,82.59210970817803L172.5,82.09372270082211L172.75,81.59319644644738L173,81.09052504879162L173.25,80.5856940083775L173.5,80.07869633454175L173.75,79.56952562942938L174,79.0581670854914L174.25,78.54461007978595L174.5,78.02884985829724L174.75,77.5108751911439L175,76.99067575808381L175.25,76.46832685443796L175.5,75.943879715064L175.75,75.41728901039161L176,74.888516875374L176.25,74.35753071111722L176.5,73.8243040362051L176.75,73.2888131770406L177,72.7510380997717L177.25,72.2109617417457L177.5,71.66856830821172L177.75,71.12384336729191L178,70.57677380058504L178.25,70.02734405295739L178.5,69.4755443195314L178.75,68.92136757003486L179,68.36479692514692L179.25,67.80582401937552L179.5,67.24444212438156L179.75,66.68063522834007L180,66.11439170646459L180.25,65.54570786227328L180.5,65.01791653617113L180.75,64.45764910646162L181,63.88196791294129L181.25,63.30379653115157L181.5,62.72313268288783L181.75,62.13996931778634L182,61.55429390144545L182.25,60.966091377935385L182.5,60.375353909654294L182.75,59.78207133853597L183,59.18623193300259L183.25,58.587824935135814L183.5,57.98684063171788L183.75,57.38326368231468L184,56.77708610615318L184.25,56.168301936676436L184.5,55.55689670999464L184.75,54.94285823301015L185,54.32617107023881L185.25,53.70682636097297L185.5,53.08481767634494L185.75,52.46012706975576L186,51.83274552786523L186.25,51.202662098642946L186.5,50.56986513592885L186.75,49.934343076848876L187,49.29608003300989L187.25,48.655071315032686L187.5,48.01130174799493L187.75,47.36489807419826L188,46.71596532883482L188.25,46.06442524872683L188.5,45.41021188012109L188.75,44.75327924389203L189,44.09358744842851L189.25,43.431107427624504L189.5,42.76580691203038L189.75,42.097654747622435L190,41.42663383452923L190.25,40.75272815526232L190.5,40.075921411320216L190.75,39.39619845731946L191,38.71354068082529L191.25,38.02793840952625L191.5,37.3393850307133L191.75,36.64786590407347L192,35.953368860843995L192.25,35.25587688600691L192.5,34.55538443383583L192.75,33.851889664421876L193,33.145375240889784L193.25,32.43583806616377L193.5,31.723271383305974L193.75,31.007671125656433L194,30.289035533712717L194.25,29.56736693171247L194.5,28.842672211632035L194.75,28.11496799578894L195,27.384285678580444L195.25,26.650678743663512L195.5,25.91424253986667L195.75,25.175146021516337L196,24.43373916935956L196.25,23.690793286611722L196.5,22.948349594415607L196.75,22.217267076358805L197,21.494138020811615L197.25,20.734104299801558L197.5,19.97080020613584L197.75,19.20420661087259L198,18.434302645156286L198.25,17.661078833204247L198.5,16.884522158845282L198.75,16.104618560006358L199,15.321353476896693L199.25,14.534714050558994L199.5,13.744678031546599L199.75,12.951234975550907L200,12.15430700699891\" stroke=\"#f58518\" stroke-width=\"2\"/></g></g><path class=\"foreground\" aria-hidden=\"true\" d=\"\" display=\"none\"/></g></g><g class=\"mark-group role-legend\" role=\"graphics-symbol\" aria-roledescription=\"legend\" aria-label=\"Symbol legend titled 'variable' for stroke color with 2 values: FUND, FUNDFAIR\"><g transform=\"translate(220,0)\"><path class=\"background\" aria-hidden=\"true\" d=\"M0,0h65v40h-65Z\" pointer-events=\"none\"/><g><g class=\"mark-group role-legend-entry\"><g transform=\"translate(0,16)\"><path class=\"background\" aria-hidden=\"true\" d=\"M0,0h0v0h0Z\" pointer-events=\"none\"/><g><g class=\"mark-group role-scope\" role=\"graphics-object\" aria-roledescription=\"group mark container\"><g transform=\"translate(0,0)\"><path class=\"background\" aria-hidden=\"true\" d=\"M0,0h65v11h-65Z\" pointer-events=\"none\" opacity=\"1\"/><g><g class=\"mark-symbol role-legend-symbol\" pointer-events=\"none\"><path transform=\"translate(6,6)\" d=\"M-5,0L5,0\" stroke=\"#4c78a8\" stroke-width=\"1.5\" opacity=\"1\"/></g><g class=\"mark-text role-legend-label\" pointer-events=\"none\"><text text-anchor=\"start\" transform=\"translate(16,9)\" font-family=\"sans-serif\" font-size=\"10px\" fill=\"#000\" opacity=\"1\">FUND</text></g></g><path class=\"foreground\" aria-hidden=\"true\" d=\"\" pointer-events=\"none\" display=\"none\"/></g><g transform=\"translate(0,13)\"><path class=\"background\" aria-hidden=\"true\" d=\"M0,0h65v11h-65Z\" pointer-events=\"none\" opacity=\"1\"/><g><g class=\"mark-symbol role-legend-symbol\" pointer-events=\"none\"><path transform=\"translate(6,6)\" d=\"M-5,0L5,0\" stroke=\"#f58518\" stroke-width=\"1.5\" opacity=\"1\"/></g><g class=\"mark-text role-legend-label\" pointer-events=\"none\"><text text-anchor=\"start\" transform=\"translate(16,9)\" font-family=\"sans-serif\" font-size=\"10px\" fill=\"#000\" opacity=\"1\">FUNDFAIR</text></g></g><path class=\"foreground\" aria-hidden=\"true\" d=\"\" pointer-events=\"none\" display=\"none\"/></g></g></g><path class=\"foreground\" aria-hidden=\"true\" d=\"\" pointer-events=\"none\" display=\"none\"/></g></g><g class=\"mark-text role-legend-title\" pointer-events=\"none\"><text text-anchor=\"start\" transform=\"translate(0,9)\" font-family=\"sans-serif\" font-size=\"11px\" font-weight=\"bold\" fill=\"#000\" opacity=\"1\">variable</text></g></g><path class=\"foreground\" aria-hidden=\"true\" d=\"\" pointer-events=\"none\" display=\"none\"/></g></g></g><path class=\"foreground\" aria-hidden=\"true\" d=\"\" display=\"none\"/></g></g></g></svg>\n"
      ],
      "text/plain": [
       "@vlplot(\n",
       "    mark=\"line\",\n",
       "    encoding={\n",
       "        x={\n",
       "            field=\"Year\"\n",
       "        },\n",
       "        y={\n",
       "            field=\"value\"\n",
       "        },\n",
       "        color={\n",
       "            field=\"variable\"\n",
       "        }\n",
       "    },\n",
       "    data={\n",
       "        values=...\n",
       "    }\n",
       ")"
      ]
     },
     "execution_count": 31,
     "metadata": {},
     "output_type": "execute_result"
    }
   ],
   "source": [
    "df = DataFrame(\n",
    "    :Year => Mimi.time_labels(m),\n",
    "    :FUND => fundvals, \n",
    "    :FUNDFAIR => fundfairvals)\n",
    "\n",
    "stack(df, [:FUND, :FUNDFAIR]) |> \n",
    "\n",
    "@vlplot(\n",
    "    :line, \n",
    "    x = :Year,\n",
    "    y = :value,\n",
    "    color = :variable\n",
    ")"
   ]
  }
 ],
 "metadata": {
  "kernelspec": {
   "display_name": "Julia 1.6.0",
   "language": "julia",
   "name": "julia-1.6"
  },
  "language_info": {
   "file_extension": ".jl",
   "mimetype": "application/julia",
   "name": "julia",
   "version": "1.6.0"
  }
 },
 "nbformat": 4,
 "nbformat_minor": 4
}
