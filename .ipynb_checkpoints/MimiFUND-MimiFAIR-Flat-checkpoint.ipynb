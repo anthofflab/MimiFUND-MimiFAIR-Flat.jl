{
 "cells": [
  {
   "cell_type": "markdown",
   "metadata": {},
   "source": [
    "## Implementation of MimiFAIR-MimiFUND"
   ]
  },
  {
   "cell_type": "markdown",
   "metadata": {},
   "source": [
    "This notebook implements a coupling of the MimiFAIR model and the MimiFUND model."
   ]
  },
  {
   "cell_type": "markdown",
   "metadata": {},
   "source": [
    "### Set up the Environment"
   ]
  },
  {
   "cell_type": "markdown",
   "metadata": {},
   "source": [
    "The first step is to set up the environment with the required packages and versions for this exercise as indicated in the `Manifest.toml` and `Project.toml` files. As you can see from the call to `Pkg.status()`, this work requires a few packages including the `master` branch of `Mimi`, the default (latest tagged) versions of `MimiFAIR` and `MimiFUND` model implementations, and some supporting packages `CSVFiles`, `DataFrames`, and `Vegalite`."
   ]
  },
  {
   "cell_type": "code",
   "execution_count": 43,
   "metadata": {},
   "outputs": [
    {
     "name": "stderr",
     "output_type": "stream",
     "text": [
      "\u001b[32m\u001b[1m  Activating\u001b[22m\u001b[39m environment at `~/JuliaProjects/MimiFUND-MimiFAIR-Flat.jl/Project.toml`\n"
     ]
    },
    {
     "name": "stdout",
     "output_type": "stream",
     "text": [
      "\u001b[32m\u001b[1m      Status\u001b[22m\u001b[39m `~/JuliaProjects/MimiFUND-MimiFAIR-Flat.jl/Project.toml`\n",
      " \u001b[90m [5d742f6a] \u001b[39m\u001b[37mCSVFiles v1.0.0\u001b[39m\n",
      " \u001b[90m [a93c6f00] \u001b[39m\u001b[37mDataFrames v0.22.7\u001b[39m\n",
      " \u001b[90m [e4e893b0] \u001b[39m\u001b[37mMimi v1.2.2-DEV `https://github.com/mimiframework/Mimi.jl.git#master`\u001b[39m\n",
      " \u001b[90m [73d86c50] \u001b[39m\u001b[37mMimiFAIR v1.0.1\u001b[39m\n",
      " \u001b[90m [b3ba11de] \u001b[39m\u001b[37mMimiFUND v3.12.0\u001b[39m\n",
      " \u001b[90m [112f6efa] \u001b[39m\u001b[37mVegaLite v2.4.0\u001b[39m\n"
     ]
    }
   ],
   "source": [
    "using Pkg\n",
    "Pkg.activate(@__DIR__)\n",
    "Pkg.status()"
   ]
  },
  {
   "cell_type": "markdown",
   "metadata": {},
   "source": [
    "Next we load the packages whose APIs we will be directly using as well as set some constants to be used in the script."
   ]
  },
  {
   "cell_type": "code",
   "execution_count": 4,
   "metadata": {},
   "outputs": [],
   "source": [
    "using MimiFAIR\n",
    "using MimiFUND\n",
    "using Mimi"
   ]
  },
  {
   "cell_type": "markdown",
   "metadata": {},
   "source": [
    "### Load Helpers and Set Constants"
   ]
  },
  {
   "cell_type": "markdown",
   "metadata": {},
   "source": [
    "We will now load some helper functions and set some constants, most of which have to do with the difference in time dimensions between FAIR and FUND, which will drive much of our coupling work.\n",
    "\n",
    "\n",
    "The `helper.jl` file defines the `set_MimiFAIR_params!` function with the following signature.  This is copied directly from the source code of `MimiFAIR.jl` and takes care of the calls to `set_param!` and `connect_param!` that build up the stand alone MimiFAIR model.\n",
    "\n",
    "\n",
    "```\n",
    "function set_MimiFAIR_params!(m; rcp_scenario::String=\"RCP85\", start_year::Int=1765, end_year::Int=2500, F2x::Float64=3.71, TCR::Float64=1.6, ECS::Float64=2.75, d::Array{Float64,1}=[239.0, 4.1])\n",
    "```\n",
    "\n",
    "In the future we can likely shorten this function by adding `default` values to the scalar parameters of FAIR."
   ]
  },
  {
   "cell_type": "code",
   "execution_count": 7,
   "metadata": {},
   "outputs": [],
   "source": [
    "include(\"src/helper.jl\");"
   ]
  },
  {
   "cell_type": "code",
   "execution_count": 8,
   "metadata": {},
   "outputs": [],
   "source": [
    "rcp = \"RCP85\"\n",
    "\n",
    "FAIR_first = 1765\n",
    "FAIR_last = 2500\n",
    "FAIR_len = length(FAIR_first:FAIR_last)\n",
    "\n",
    "FUND_first = 1950\n",
    "FUND_last = 2500\n",
    "FUND_len = length(FUND_first:FUND_last);"
   ]
  },
  {
   "cell_type": "markdown",
   "metadata": {},
   "source": [
    "### Load Independent (Default) FUND and FAIR Models"
   ]
  },
  {
   "cell_type": "markdown",
   "metadata": {},
   "source": [
    "We begin with the default FUND model as implemented in `MimiFUND.jl`."
   ]
  },
  {
   "cell_type": "code",
   "execution_count": 19,
   "metadata": {},
   "outputs": [
    {
     "data": {
      "text/plain": [
       "Mimi.Model\n",
       "  Module: Mimi\n",
       "  Components:\n",
       "    ComponentId(MimiFUND.scenariouncertainty)\n",
       "    ComponentId(MimiFUND.population)\n",
       "    ComponentId(MimiFUND.geography)\n",
       "    ComponentId(MimiFUND.socioeconomic)\n",
       "    ComponentId(MimiFUND.emissions)\n",
       "    ComponentId(MimiFUND.climateco2cycle)\n",
       "    ComponentId(MimiFUND.climatech4cycle)\n",
       "    ComponentId(MimiFUND.climaten2ocycle)\n",
       "    ComponentId(MimiFUND.climatesf6cycle)\n",
       "    ComponentId(MimiFUND.climateforcing)\n",
       "    ComponentId(MimiFUND.climatedynamics)\n",
       "    ComponentId(MimiFUND.biodiversity)\n",
       "    ComponentId(MimiFUND.climateregional)\n",
       "    ComponentId(MimiFUND.ocean)\n",
       "    ComponentId(MimiFUND.impactagriculture)\n",
       "    ComponentId(MimiFUND.impactbiodiversity)\n",
       "    ComponentId(MimiFUND.impactcardiovascularrespiratory)\n",
       "    ComponentId(MimiFUND.impactcooling)\n",
       "    ComponentId(MimiFUND.impactdiarrhoea)\n",
       "    ComponentId(MimiFUND.impactextratropicalstorms)\n",
       "    ComponentId(MimiFUND.impactforests)\n",
       "    ComponentId(MimiFUND.impactheating)\n",
       "    ComponentId(MimiFUND.impactvectorbornediseases)\n",
       "    ComponentId(MimiFUND.impacttropicalstorms)\n",
       "    ComponentId(MimiFUND.vslvmorb)\n",
       "    ComponentId(MimiFUND.impactdeathmorbidity)\n",
       "    ComponentId(MimiFUND.impactwaterresources)\n",
       "    ComponentId(MimiFUND.impactsealevelrise)\n",
       "    ComponentId(MimiFUND.impactaggregation)\n",
       "  Built: false\n"
      ]
     },
     "execution_count": 19,
     "metadata": {},
     "output_type": "execute_result"
    }
   ],
   "source": [
    "m = MimiFUND.get_model()"
   ]
  },
  {
   "cell_type": "markdown",
   "metadata": {},
   "source": [
    "We will now import each of the individual FAIR components."
   ]
  },
  {
   "cell_type": "code",
   "execution_count": 20,
   "metadata": {},
   "outputs": [],
   "source": [
    "import MimiFAIR: ch4_cycle, n2o_cycle, other_ghg_cycles, co2_cycle, ch4_rf, \n",
    "    n2o_rf, other_ghg_rf, co2_rf, trop_o3_rf, strat_o3_rf, aerosol_direct_rf, \n",
    "    aerosol_indirect_rf, bc_snow_rf, landuse_rf, contrails_rf, total_rf, temperature;"
   ]
  },
  {
   "cell_type": "markdown",
   "metadata": {},
   "source": [
    "### Add and Update Dimensions"
   ]
  },
  {
   "cell_type": "markdown",
   "metadata": {},
   "source": [
    "The first step in building out our coupled model, starting with our default FUND model, is to handle dimensions. Currently the model `m` has two dimensions, `time` and `regions`. "
   ]
  },
  {
   "cell_type": "code",
   "execution_count": 21,
   "metadata": {},
   "outputs": [
    {
     "data": {
      "text/plain": [
       "OrderedCollections.OrderedDict{Symbol, Union{Nothing, Mimi.Dimension}} with 3 entries:\n",
       "  :time       => [1950, 1951, 1952, 1953, 1954, 1955, 1956, 1957, 1958, 1959  ……\n",
       "  :regions    => [\"USA\", \"CAN\", \"WEU\", \"JPK\", \"ANZ\", \"EEU\", \"FSU\", \"MDE\", \"CAM\"…\n",
       "  Symbol(\"5\") => [1, 2, 3, 4, 5]"
      ]
     },
     "execution_count": 21,
     "metadata": {},
     "output_type": "execute_result"
    }
   ],
   "source": [
    "m.md.dim_dict # display the dimensions of the default FUND model"
   ]
  },
  {
   "cell_type": "markdown",
   "metadata": {},
   "source": [
    "We now add two new dimensions to our model `m` that are used by FAIR."
   ]
  },
  {
   "cell_type": "code",
   "execution_count": 22,
   "metadata": {},
   "outputs": [
    {
     "data": {
      "text/plain": [
       "OrderedCollections.OrderedDict{Symbol, Union{Nothing, Mimi.Dimension}} with 5 entries:\n",
       "  :time                       => [1950, 1951, 1952, 1953, 1954, 1955, 1956, 195…\n",
       "  :regions                    => [\"USA\", \"CAN\", \"WEU\", \"JPK\", \"ANZ\", \"EEU\", \"FS…\n",
       "  Symbol(\"5\")                 => [1, 2, 3, 4, 5]\n",
       "  :other_ghg                  => [\"CF4\", \"C2F6\", \"C6F14\", \"HFC23\", \"HFC32\", \"HF…\n",
       "  :ozone_depleting_substances => [\"CFC_11\", \"CFC_12\", \"CFC_113\", \"CFC_114\", \"CF…"
      ]
     },
     "execution_count": 22,
     "metadata": {},
     "output_type": "execute_result"
    }
   ],
   "source": [
    "other_ghg_names = [\"CF4\", \"C2F6\", \"C6F14\", \"HFC23\", \"HFC32\", \"HFC43_10\", \"HFC125\", \"HFC134a\", \"HFC143a\", \"HFC227ea\", \"HFC245fa\", \"SF6\", \"CFC_11\", \"CFC_12\", \"CFC_113\", \"CFC_114\", \"CFC_115\", \"CARB_TET\", \"MCF\", \"HCFC_22\", \"HCFC_141B\", \"HCFC_142B\", \"HALON1211\", \"HALON1202\", \"HALON1301\", \"HALON2402\", \"CH3BR\", \"CH3CL\"]\n",
    "ods_names = [\"CFC_11\", \"CFC_12\", \"CFC_113\", \"CFC_114\", \"CFC_115\", \"CARB_TET\", \"MCF\", \"HCFC_22\", \"HCFC_141B\", \"HCFC_142B\", \"HALON1211\", \"HALON1202\", \"HALON1301\", \"HALON2402\", \"CH3BR\", \"CH3CL\"]\n",
    "\n",
    "set_dimension!(m, :other_ghg, other_ghg_names) # FAIR dims - Set index for Kyoto and ozone ozone-depleting gases.\n",
    "set_dimension!(m, :ozone_depleting_substances, ods_names) # FAIR dims - Set index for Kyoto and ozone ozone-depleting gases.\n",
    "\n",
    "m.md.dim_dict  # display the (augmented) dimensions of the default FUND model's Model Definition"
   ]
  },
  {
   "cell_type": "markdown",
   "metadata": {},
   "source": [
    "The final dimensions-related is to expand the time dimension of the model.  At this stage, our model runs on FUND's default time dimension 1950 to 3000 (`FUND_first` to `FUND_last`).  FAIR, however, runs from 1765 to 2500 (`FAIR_first` to `FAIR_last`) so we are going to set our model to run from 1765 to 2500.\n",
    "\n",
    "FUND will not start running until 1950, and will not produce an `emissions` value until 1951, so up until 1951 FAIR will use `backup` values pulled from default FUND as we will describe in detail below.\n",
    "\n",
    "**For further details on the effects and restrictions around updating the `time` dimension of a model see the documentation [here](https://www.mimiframework.org/Mimi.jl/dev/howto/howto_5/).**"
   ]
  },
  {
   "cell_type": "code",
   "execution_count": 23,
   "metadata": {},
   "outputs": [
    {
     "data": {
      "text/plain": [
       "OrderedCollections.OrderedDict{Symbol, Union{Nothing, Mimi.Dimension}} with 5 entries:\n",
       "  :time                       => [1765, 1766, 1767, 1768, 1769, 1770, 1771, 177…\n",
       "  :regions                    => [\"USA\", \"CAN\", \"WEU\", \"JPK\", \"ANZ\", \"EEU\", \"FS…\n",
       "  Symbol(\"5\")                 => [1, 2, 3, 4, 5]\n",
       "  :other_ghg                  => [\"CF4\", \"C2F6\", \"C6F14\", \"HFC23\", \"HFC32\", \"HF…\n",
       "  :ozone_depleting_substances => [\"CFC_11\", \"CFC_12\", \"CFC_113\", \"CFC_114\", \"CF…"
      ]
     },
     "execution_count": 23,
     "metadata": {},
     "output_type": "execute_result"
    }
   ],
   "source": [
    "set_dimension!(m, :time, collect(FAIR_first:FAIR_last))\n",
    "\n",
    "m.md.dim_dict # display the (udpated) dimensions of the model"
   ]
  },
  {
   "cell_type": "markdown",
   "metadata": {},
   "source": [
    "### Augment FUND with FAIR Components"
   ]
  },
  {
   "cell_type": "markdown",
   "metadata": {},
   "source": [
    "We now add the FAIR components to our model.  We place them in a contiguous block starting after the FUND `emissions` component, which will feed results into the FAIR components before FAIR feeds back into FUND from its `temperature` component.\n",
    "\n",
    "Also note that since we have updated the time dimension to run from `FAIR_first` to `FAIR_last`, or 1765 to 2500, each of these new components will be set to run from 1765 to 2500, the full model time period, by default."
   ]
  },
  {
   "cell_type": "code",
   "execution_count": 24,
   "metadata": {},
   "outputs": [],
   "source": [
    "add_comp!(m, ch4_cycle; after = :emissions);\n",
    "add_comp!(m, n2o_cycle; after = :ch4_cycle);\n",
    "add_comp!(m, other_ghg_cycles; after = :n2o_cycle);\n",
    "add_comp!(m, co2_cycle; after = :other_ghg_cycles);\n",
    "add_comp!(m, ch4_rf; after = :co2_cycle);\n",
    "add_comp!(m, n2o_rf; after = :ch4_rf);\n",
    "add_comp!(m, other_ghg_rf; after = :n2o_rf);\n",
    "add_comp!(m, co2_rf; after = :other_ghg_rf);\n",
    "add_comp!(m, trop_o3_rf; after = :co2_rf);\n",
    "add_comp!(m, strat_o3_rf; after = :trop_o3_rf);\n",
    "add_comp!(m, aerosol_direct_rf; after = :strat_o3_rf);\n",
    "add_comp!(m, aerosol_indirect_rf; after = :aerosol_direct_rf);\n",
    "add_comp!(m, bc_snow_rf; after = :aerosol_indirect_rf);\n",
    "add_comp!(m, landuse_rf; after = :bc_snow_rf);\n",
    "add_comp!(m, contrails_rf; after = :landuse_rf);\n",
    "add_comp!(m, total_rf; after = :contrails_rf);\n",
    "add_comp!(m, temperature; after = :total_rf);"
   ]
  },
  {
   "cell_type": "markdown",
   "metadata": {},
   "source": [
    "Next we run our helper function to set all the FAIR component parameters and make their internal connections, such that we have added  a fully functional and runnable FAIR model into our FUND model.\n"
   ]
  },
  {
   "cell_type": "code",
   "execution_count": 25,
   "metadata": {},
   "outputs": [],
   "source": [
    "set_MimiFAIR_params!(m)"
   ]
  },
  {
   "cell_type": "markdown",
   "metadata": {},
   "source": [
    "At this point the model `m` is runnable (and in fact none of the steps in this notebook thus far have made an invalid, unrunnable model), but currently `m` will run FUND and FAIR in their default modes and completely disconnected.  The next section describes the steps to couple them together."
   ]
  },
  {
   "cell_type": "markdown",
   "metadata": {},
   "source": [
    "### Couple FUND and FAIR"
   ]
  },
  {
   "cell_type": "markdown",
   "metadata": {},
   "source": [
    "#### FUND Emissions --> Convert Mtons to Gtons --> FAIR CO₂ Cycle"
   ]
  },
  {
   "cell_type": "markdown",
   "metadata": {},
   "source": [
    "We want to connect the FUND `emissions` component's `mco2` variable the FAIR `co2_cycle` component's `E_CO₂` parameter.  In the stand-alone version of FAIR, the `E_CO₂` is exogenously forced by the summation of all `CO₂` sources, as shown in it's source code (and the `helper.jl` file):\n",
    "\n",
    "```\n",
    "rcp_emissions, volcano_forcing, solar_forcing, gas_data, gas_fractions, conversions = MimiFAIR.load_fair_data(start_year, end_year, rcp_scenario)\n",
    "\n",
    "set_param!(m, :co2_cycle, :E_CO₂, rcp_emissions.FossilCO2 .+ rcp_emissions.OtherCO2)\n",
    "```"
   ]
  },
  {
   "cell_type": "markdown",
   "metadata": {},
   "source": [
    "First we need to add a `multiplier` component between FUND's `emissions` component and the FAIR components because FUND outputs Mtons of CO₂ but FAIR expects Gtons of CO₂.\n",
    "\n",
    "Mimi has a few built in components for this type of situation, including `Mimi.multiplier`, as decribed [here](https://www.mimiframework.org/Mimi.jl/stable/tutorials/tutorial_3/#Component-and-Structural-Modifications:-The-API-1).  \n",
    "\n",
    "This small component just needs a connected `input` parameter and a `multiply` parameter to produce an `output` variable. In this case, we connect the `multiplier` component's `input` parameter to the `emissions` component's `mco2` variable and set `multiply` parameter to our unit conversion value of 1/1000. We also set the `multiplier` component to run only while FUND runs by setting `first = FUND_first` and `last = FUND_last`."
   ]
  },
  {
   "cell_type": "code",
   "execution_count": 27,
   "metadata": {},
   "outputs": [],
   "source": [
    "add_comp!(m, Mimi.multiplier; after = :emissions, first = FUND_first, last = FUND_last);\n",
    "set_param!(m, :multiplier, :multiply, fill(1/1000, FAIR_len))\n",
    "connect_param!(m, :multiplier, :input, :emissions, :mco2)"
   ]
  },
  {
   "cell_type": "markdown",
   "metadata": {},
   "source": [
    "Now that we have taken care of unit conversion, we can connect the FAIR `co2_cycle` component's `E_CO₂` parameter to the `multiplier` component's `output` variable.  A few notes on the arguments having to do with backup data are:\n",
    "\n",
    "- Since FAIR runs from 1765 to 1950, but FUND (and the multiplier) only runs from 1950 to 2500, we need to include backup data `FAIR_CO₂_backup` for FAIR to use until FUND can provide a value.  We use the same data that previously exogenously forced FAIR.\n",
    "\n",
    "\n",
    "- We also need to include the `backup_offset` optional argument for the `connect_param!` function, because FUND does not actually produce a value for `mco2` until it's *second* timestep, or in this case 1951, and thus we set `backup_offset = 1`."
   ]
  },
  {
   "cell_type": "code",
   "execution_count": 28,
   "metadata": {},
   "outputs": [],
   "source": [
    "# destination: FAIR component :co2_cycle parameter :E_CO₂\n",
    "# previous source: exogenous parameter\n",
    "# new source: FUND :emissions variable :mco2 (which first runs through the multiplier component)\n",
    "\n",
    "rcp_emissions, volcano_forcing, solar_forcing, gas_data, gas_fractions, conversions = MimiFAIR.load_fair_data(FAIR_first, FAIR_last, rcp);\n",
    "FAIR_CO₂_backup = (rcp_emissions.FossilCO2 .+ rcp_emissions.OtherCO2)\n",
    "connect_param!(m, :co2_cycle, :E_CO₂, :multiplier, :output, FAIR_CO₂_backup, backup_offset = 1)"
   ]
  },
  {
   "cell_type": "markdown",
   "metadata": {},
   "source": [
    "#### FAIR Temperature --> FUND CO₂ Cycle, Biodiversity, Ocean and Regional Climate Components"
   ]
  },
  {
   "cell_type": "markdown",
   "metadata": {},
   "source": [
    "Now we want to connect FAIR's output temperature variable `T` from component `temperature` back into FUND, both to the `temp` parameter of the `climateco2cycle`, `biodiversity`, and `ocean` components and into the `inputtemp` parameter of the `climateregional` component."
   ]
  },
  {
   "cell_type": "code",
   "execution_count": 114,
   "metadata": {},
   "outputs": [],
   "source": [
    "# destination: FUND components :climateco2cycle, :biodiversity, :ocean --> parameter :temp\n",
    "# previous source: FUND component :climatedynamics --> variable :temp\n",
    "# new source: FAIR :temperature --> variable :T\n",
    "\n",
    "connect_param!(m, :climateco2cycle, :temp, :temperature, :T)\n",
    "connect_param!(m, :biodiversity, :temp, :temperature, :T)\n",
    "connect_param!(m, :ocean, :temp, :temperature, :T)"
   ]
  },
  {
   "cell_type": "code",
   "execution_count": 115,
   "metadata": {},
   "outputs": [],
   "source": [
    "# destination: FUND component :climateregional, parameter :inputtemp\n",
    "# previous source: FUND component :climatedynamics --> variable :temp\n",
    "# new source: FAIR component :temperature --> variable :T\n",
    "\n",
    "connect_param!(m, :climateregional, :inputtemp, :temperature, :T)"
   ]
  },
  {
   "cell_type": "markdown",
   "metadata": {},
   "source": [
    "### Run and Visualize"
   ]
  },
  {
   "cell_type": "markdown",
   "metadata": {},
   "source": [
    "Now we can run our coupled model and visualize the results with the `explore`, `plot`, and indexing functions. We will also grab the default FUND and FAIR models for comparisons."
   ]
  },
  {
   "cell_type": "code",
   "execution_count": 29,
   "metadata": {},
   "outputs": [],
   "source": [
    "run(m) # coupled model\n",
    "\n",
    "mfund = MimiFUND.get_model()\n",
    "run(mfund)\n",
    "\n",
    "mfair = MimiFAIR.get_model()\n",
    "run(mfair)"
   ]
  },
  {
   "cell_type": "code",
   "execution_count": 80,
   "metadata": {},
   "outputs": [
    {
     "data": {
      "text/plain": [
       "Electron.Window(Application(Base.PipeEndpoint(RawFD(53) paused, 0 bytes waiting), Process(`\u001b[4m/Users/lisarennels/.julia/artifacts/3ba739a4ed073587d96415faecef10a5ccea63ba/Julia.app/Contents/MacOS/Julia\u001b[24m \u001b[4m/Users/lisarennels/.julia/packages/Electron/ILvWR/src/main.js\u001b[24m \u001b[4m/var/folders/1w/jm1h6fwj0t536vld2gxj7kzr0000gn/T/jlel-672db64aa79611eb1323db24a74f8b26\u001b[24m \u001b[4m/var/folders/1w/jm1h6fwj0t536vld2gxj7kzr0000gn/T/jlel-sn-672dfbc6a79611eb2c524d8af36e052a\u001b[24m \u001b[4mkr0Go8Ms3yR3GOU9MKB6QtBlNnI2ikQknUAhNAwYcGFyJyeZu6d7f9rAJWuFUCTqJWl5zDtFUoVnr4kJVjyNqDyakUrUkT/yocnIojA9ugsewJu9EY971lik12xXf72rb4WIREYqV/a881AeD0icOAxlJVq8abGOxZqfXxLDnQk=\u001b[24m`, ProcessRunning), [1 window]), 2, true, Channel{Any}(128))"
      ]
     },
     "execution_count": 80,
     "metadata": {},
     "output_type": "execute_result"
    }
   ],
   "source": [
    "explore(m)"
   ]
  },
  {
   "cell_type": "markdown",
   "metadata": {},
   "source": [
    "#### Compare Temperature Time Series"
   ]
  },
  {
   "cell_type": "markdown",
   "metadata": {},
   "source": [
    "One interesting step might be to compare the temperature time series between the different models.  We could use the `Mimi.plot` function (ie. `Mimi.plot(m, :temperature, :T`) but here we will use some custom written plot code with the `VegaLite` package."
   ]
  },
  {
   "cell_type": "code",
   "execution_count": 58,
   "metadata": {},
   "outputs": [],
   "source": [
    "using VegaLite\n",
    "using DataFrames"
   ]
  },
  {
   "cell_type": "code",
   "execution_count": 59,
   "metadata": {},
   "outputs": [
    {
     "data": {
      "application/vnd.vegalite.v4+json": {
       "data": {
        "values": [
         {
          "Year": 1765,
          "value": 0.2,
          "variable": "FUND"
         },
         {
          "Year": 1766,
          "value": 0.20462523478679887,
          "variable": "FUND"
         },
         {
          "Year": 1767,
          "value": 0.20934819414064887,
          "variable": "FUND"
         },
         {
          "Year": 1768,
          "value": 0.2141801414042669,
          "variable": "FUND"
         },
         {
          "Year": 1769,
          "value": 0.21909736778398906,
          "variable": "FUND"
         },
         {
          "Year": 1770,
          "value": 0.22408520911070826,
          "variable": "FUND"
         },
         {
          "Year": 1771,
          "value": 0.2291199325171179,
          "variable": "FUND"
         },
         {
          "Year": 1772,
          "value": 0.23418549221634344,
          "variable": "FUND"
         },
         {
          "Year": 1773,
          "value": 0.23932391432650915,
          "variable": "FUND"
         },
         {
          "Year": 1774,
          "value": 0.244589579735204,
          "variable": "FUND"
         },
         {
          "Year": 1775,
          "value": 0.2501074079624818,
          "variable": "FUND"
         },
         {
          "Year": 1776,
          "value": 0.25575732560250636,
          "variable": "FUND"
         },
         {
          "Year": 1777,
          "value": 0.261501837433261,
          "variable": "FUND"
         },
         {
          "Year": 1778,
          "value": 0.26740927775621104,
          "variable": "FUND"
         },
         {
          "Year": 1779,
          "value": 0.2734818758491422,
          "variable": "FUND"
         },
         {
          "Year": 1780,
          "value": 0.27973770715175417,
          "variable": "FUND"
         },
         {
          "Year": 1781,
          "value": 0.28618578827251845,
          "variable": "FUND"
         },
         {
          "Year": 1782,
          "value": 0.29278982819960836,
          "variable": "FUND"
         },
         {
          "Year": 1783,
          "value": 0.2995574151235826,
          "variable": "FUND"
         },
         {
          "Year": 1784,
          "value": 0.30656677626845763,
          "variable": "FUND"
         },
         {
          "Year": 1785,
          "value": 0.3139376016399533,
          "variable": "FUND"
         },
         {
          "Year": 1786,
          "value": 0.3216409819792173,
          "variable": "FUND"
         },
         {
          "Year": 1787,
          "value": 0.32948555222866494,
          "variable": "FUND"
         },
         {
          "Year": 1788,
          "value": 0.33741055029039857,
          "variable": "FUND"
         },
         {
          "Year": 1789,
          "value": 0.3454328896266767,
          "variable": "FUND"
         },
         {
          "Year": 1790,
          "value": 0.35353968117280454,
          "variable": "FUND"
         },
         {
          "Year": 1791,
          "value": 0.36172258671009133,
          "variable": "FUND"
         },
         {
          "Year": 1792,
          "value": 0.3699988666778146,
          "variable": "FUND"
         },
         {
          "Year": 1793,
          "value": 0.37844838484609955,
          "variable": "FUND"
         },
         {
          "Year": 1794,
          "value": 0.3871203352760954,
          "variable": "FUND"
         },
         {
          "Year": 1795,
          "value": 0.3958964778638662,
          "variable": "FUND"
         },
         {
          "Year": 1796,
          "value": 0.4047260464928718,
          "variable": "FUND"
         },
         {
          "Year": 1797,
          "value": 0.4136791514220727,
          "variable": "FUND"
         },
         {
          "Year": 1798,
          "value": 0.4227552814272567,
          "variable": "FUND"
         },
         {
          "Year": 1799,
          "value": 0.43199326379795544,
          "variable": "FUND"
         },
         {
          "Year": 1800,
          "value": 0.4414380714813698,
          "variable": "FUND"
         },
         {
          "Year": 1801,
          "value": 0.4510864936820819,
          "variable": "FUND"
         },
         {
          "Year": 1802,
          "value": 0.46090964525801825,
          "variable": "FUND"
         },
         {
          "Year": 1803,
          "value": 0.4709297106607092,
          "variable": "FUND"
         },
         {
          "Year": 1804,
          "value": 0.4811997890753507,
          "variable": "FUND"
         },
         {
          "Year": 1805,
          "value": 0.49177351570476363,
          "variable": "FUND"
         },
         {
          "Year": 1806,
          "value": 0.5026491272505454,
          "variable": "FUND"
         },
         {
          "Year": 1807,
          "value": 0.5137741075424875,
          "variable": "FUND"
         },
         {
          "Year": 1808,
          "value": 0.5251826007958377,
          "variable": "FUND"
         },
         {
          "Year": 1809,
          "value": 0.5369211187740764,
          "variable": "FUND"
         },
         {
          "Year": 1810,
          "value": 0.5490056043273003,
          "variable": "FUND"
         },
         {
          "Year": 1811,
          "value": 0.5614105252495422,
          "variable": "FUND"
         },
         {
          "Year": 1812,
          "value": 0.5738972627695862,
          "variable": "FUND"
         },
         {
          "Year": 1813,
          "value": 0.58630641335356,
          "variable": "FUND"
         },
         {
          "Year": 1814,
          "value": 0.598671242530932,
          "variable": "FUND"
         },
         {
          "Year": 1815,
          "value": 0.610967074138926,
          "variable": "FUND"
         },
         {
          "Year": 1816,
          "value": 0.6233143205493502,
          "variable": "FUND"
         },
         {
          "Year": 1817,
          "value": 0.6358635224614222,
          "variable": "FUND"
         },
         {
          "Year": 1818,
          "value": 0.648618481837006,
          "variable": "FUND"
         },
         {
          "Year": 1819,
          "value": 0.6615883312194372,
          "variable": "FUND"
         },
         {
          "Year": 1820,
          "value": 0.6748692739072023,
          "variable": "FUND"
         },
         {
          "Year": 1821,
          "value": 0.6886268014673141,
          "variable": "FUND"
         },
         {
          "Year": 1822,
          "value": 0.7029340615259811,
          "variable": "FUND"
         },
         {
          "Year": 1823,
          "value": 0.7177887725753266,
          "variable": "FUND"
         },
         {
          "Year": 1824,
          "value": 0.7331867620951575,
          "variable": "FUND"
         },
         {
          "Year": 1825,
          "value": 0.7490586505066515,
          "variable": "FUND"
         },
         {
          "Year": 1826,
          "value": 0.765284834553005,
          "variable": "FUND"
         },
         {
          "Year": 1827,
          "value": 0.7818156445773201,
          "variable": "FUND"
         },
         {
          "Year": 1828,
          "value": 0.7986608399992982,
          "variable": "FUND"
         },
         {
          "Year": 1829,
          "value": 0.8158289590671062,
          "variable": "FUND"
         },
         {
          "Year": 1830,
          "value": 0.8333297562857421,
          "variable": "FUND"
         },
         {
          "Year": 1831,
          "value": 0.8511685759934732,
          "variable": "FUND"
         },
         {
          "Year": 1832,
          "value": 0.8693505114813437,
          "variable": "FUND"
         },
         {
          "Year": 1833,
          "value": 0.8878800002637,
          "variable": "FUND"
         },
         {
          "Year": 1834,
          "value": 0.9067614411448488,
          "variable": "FUND"
         },
         {
          "Year": 1835,
          "value": 0.926016354295343,
          "variable": "FUND"
         },
         {
          "Year": 1836,
          "value": 0.9456827288702244,
          "variable": "FUND"
         },
         {
          "Year": 1837,
          "value": 0.9657814496503231,
          "variable": "FUND"
         },
         {
          "Year": 1838,
          "value": 0.9863131506693547,
          "variable": "FUND"
         },
         {
          "Year": 1839,
          "value": 1.0072788356845246,
          "variable": "FUND"
         },
         {
          "Year": 1840,
          "value": 1.0286788617228486,
          "variable": "FUND"
         },
         {
          "Year": 1841,
          "value": 1.050513888503641,
          "variable": "FUND"
         },
         {
          "Year": 1842,
          "value": 1.0727824308861373,
          "variable": "FUND"
         },
         {
          "Year": 1843,
          "value": 1.0954817969177912,
          "variable": "FUND"
         },
         {
          "Year": 1844,
          "value": 1.1186095100244955,
          "variable": "FUND"
         },
         {
          "Year": 1845,
          "value": 1.1421901649865103,
          "variable": "FUND"
         },
         {
          "Year": 1846,
          "value": 1.1662835028796263,
          "variable": "FUND"
         },
         {
          "Year": 1847,
          "value": 1.190915218367738,
          "variable": "FUND"
         },
         {
          "Year": 1848,
          "value": 1.2160807205001865,
          "variable": "FUND"
         },
         {
          "Year": 1849,
          "value": 1.2417751978537497,
          "variable": "FUND"
         },
         {
          "Year": 1850,
          "value": 1.2679907739943017,
          "variable": "FUND"
         },
         {
          "Year": 1851,
          "value": 1.2947265454032373,
          "variable": "FUND"
         },
         {
          "Year": 1852,
          "value": 1.3219775807112273,
          "variable": "FUND"
         },
         {
          "Year": 1853,
          "value": 1.3497396377311224,
          "variable": "FUND"
         },
         {
          "Year": 1854,
          "value": 1.3780082235435471,
          "variable": "FUND"
         },
         {
          "Year": 1855,
          "value": 1.406767342601891,
          "variable": "FUND"
         },
         {
          "Year": 1856,
          "value": 1.4359990882582692,
          "variable": "FUND"
         },
         {
          "Year": 1857,
          "value": 1.465692598388298,
          "variable": "FUND"
         },
         {
          "Year": 1858,
          "value": 1.4958444486866762,
          "variable": "FUND"
         },
         {
          "Year": 1859,
          "value": 1.5264522237162088,
          "variable": "FUND"
         },
         {
          "Year": 1860,
          "value": 1.5575117016612943,
          "variable": "FUND"
         },
         {
          "Year": 1861,
          "value": 1.5890206531527804,
          "variable": "FUND"
         },
         {
          "Year": 1862,
          "value": 1.620971181335436,
          "variable": "FUND"
         },
         {
          "Year": 1863,
          "value": 1.6533568365058526,
          "variable": "FUND"
         },
         {
          "Year": 1864,
          "value": 1.6861716540461567,
          "variable": "FUND"
         },
         {
          "Year": 1865,
          "value": 1.7193832770350876,
          "variable": "FUND"
         },
         {
          "Year": 1866,
          "value": 1.7529469968950602,
          "variable": "FUND"
         },
         {
          "Year": 1867,
          "value": 1.7868420411416663,
          "variable": "FUND"
         },
         {
          "Year": 1868,
          "value": 1.821070637217023,
          "variable": "FUND"
         },
         {
          "Year": 1869,
          "value": 1.8556349155071905,
          "variable": "FUND"
         },
         {
          "Year": 1870,
          "value": 1.8905369094730344,
          "variable": "FUND"
         },
         {
          "Year": 1871,
          "value": 1.9257751735390507,
          "variable": "FUND"
         },
         {
          "Year": 1872,
          "value": 1.9613455533651136,
          "variable": "FUND"
         },
         {
          "Year": 1873,
          "value": 1.9972443006891274,
          "variable": "FUND"
         },
         {
          "Year": 1874,
          "value": 2.0334690484944913,
          "variable": "FUND"
         },
         {
          "Year": 1875,
          "value": 2.0700089609253425,
          "variable": "FUND"
         },
         {
          "Year": 1876,
          "value": 2.1068518769546456,
          "variable": "FUND"
         },
         {
          "Year": 1877,
          "value": 2.1439887504210655,
          "variable": "FUND"
         },
         {
          "Year": 1878,
          "value": 2.181416614070919,
          "variable": "FUND"
         },
         {
          "Year": 1879,
          "value": 2.21913221397785,
          "variable": "FUND"
         },
         {
          "Year": 1880,
          "value": 2.2571301369234558,
          "variable": "FUND"
         },
         {
          "Year": 1881,
          "value": 2.295410784639326,
          "variable": "FUND"
         },
         {
          "Year": 1882,
          "value": 2.333974609889446,
          "variable": "FUND"
         },
         {
          "Year": 1883,
          "value": 2.3728221039377786,
          "variable": "FUND"
         },
         {
          "Year": 1884,
          "value": 2.4119534439946846,
          "variable": "FUND"
         },
         {
          "Year": 1885,
          "value": 2.4513641166222166,
          "variable": "FUND"
         },
         {
          "Year": 1886,
          "value": 2.4910461248856883,
          "variable": "FUND"
         },
         {
          "Year": 1887,
          "value": 2.530992577171774,
          "variable": "FUND"
         },
         {
          "Year": 1888,
          "value": 2.5712003973402844,
          "variable": "FUND"
         },
         {
          "Year": 1889,
          "value": 2.611666575559193,
          "variable": "FUND"
         },
         {
          "Year": 1890,
          "value": 2.6523871285688174,
          "variable": "FUND"
         },
         {
          "Year": 1891,
          "value": 2.693361726909218,
          "variable": "FUND"
         },
         {
          "Year": 1892,
          "value": 2.734583054594858,
          "variable": "FUND"
         },
         {
          "Year": 1893,
          "value": 2.7760444216347344,
          "variable": "FUND"
         },
         {
          "Year": 1894,
          "value": 2.8177388712980003,
          "variable": "FUND"
         },
         {
          "Year": 1895,
          "value": 2.859669655316074,
          "variable": "FUND"
         },
         {
          "Year": 1896,
          "value": 2.90187086482542,
          "variable": "FUND"
         },
         {
          "Year": 1897,
          "value": 2.9443547312813787,
          "variable": "FUND"
         },
         {
          "Year": 1898,
          "value": 2.987117080201035,
          "variable": "FUND"
         },
         {
          "Year": 1899,
          "value": 3.0301532127814284,
          "variable": "FUND"
         },
         {
          "Year": 1900,
          "value": 3.0734536183456282,
          "variable": "FUND"
         },
         {
          "Year": 1901,
          "value": 3.1170171923486834,
          "variable": "FUND"
         },
         {
          "Year": 1902,
          "value": 3.16083658705907,
          "variable": "FUND"
         },
         {
          "Year": 1903,
          "value": 3.2049029419402553,
          "variable": "FUND"
         },
         {
          "Year": 1904,
          "value": 3.2492091342294196,
          "variable": "FUND"
         },
         {
          "Year": 1905,
          "value": 3.2937260566429556,
          "variable": "FUND"
         },
         {
          "Year": 1906,
          "value": 3.338420578722644,
          "variable": "FUND"
         },
         {
          "Year": 1907,
          "value": 3.3832712855991773,
          "variable": "FUND"
         },
         {
          "Year": 1908,
          "value": 3.428272149113503,
          "variable": "FUND"
         },
         {
          "Year": 1909,
          "value": 3.47341750508177,
          "variable": "FUND"
         },
         {
          "Year": 1910,
          "value": 3.5186962807085322,
          "variable": "FUND"
         },
         {
          "Year": 1911,
          "value": 3.5641085697997044,
          "variable": "FUND"
         },
         {
          "Year": 1912,
          "value": 3.609646310715452,
          "variable": "FUND"
         },
         {
          "Year": 1913,
          "value": 3.655301145587281,
          "variable": "FUND"
         },
         {
          "Year": 1914,
          "value": 3.7010650300798686,
          "variable": "FUND"
         },
         {
          "Year": 1915,
          "value": 3.7469098874027345,
          "variable": "FUND"
         },
         {
          "Year": 1916,
          "value": 3.7928035779128133,
          "variable": "FUND"
         },
         {
          "Year": 1917,
          "value": 3.838727916239025,
          "variable": "FUND"
         },
         {
          "Year": 1918,
          "value": 3.8846773004049897,
          "variable": "FUND"
         },
         {
          "Year": 1919,
          "value": 3.9306457224426574,
          "variable": "FUND"
         },
         {
          "Year": 1920,
          "value": 3.976626655070105,
          "variable": "FUND"
         },
         {
          "Year": 1921,
          "value": 4.022613225000141,
          "variable": "FUND"
         },
         {
          "Year": 1922,
          "value": 4.06859716710797,
          "variable": "FUND"
         },
         {
          "Year": 1923,
          "value": 4.114570493459141,
          "variable": "FUND"
         },
         {
          "Year": 1924,
          "value": 4.160523777169647,
          "variable": "FUND"
         },
         {
          "Year": 1925,
          "value": 4.206448658730107,
          "variable": "FUND"
         },
         {
          "Year": 1926,
          "value": 4.25233525839509,
          "variable": "FUND"
         },
         {
          "Year": 1927,
          "value": 4.298174444183933,
          "variable": "FUND"
         },
         {
          "Year": 1928,
          "value": 4.343955997324282,
          "variable": "FUND"
         },
         {
          "Year": 1929,
          "value": 4.389670151483329,
          "variable": "FUND"
         },
         {
          "Year": 1930,
          "value": 4.435306818975203,
          "variable": "FUND"
         },
         {
          "Year": 1931,
          "value": 4.480855995881325,
          "variable": "FUND"
         },
         {
          "Year": 1932,
          "value": 4.5263069672926886,
          "variable": "FUND"
         },
         {
          "Year": 1933,
          "value": 4.571649507378602,
          "variable": "FUND"
         },
         {
          "Year": 1934,
          "value": 4.616872723697717,
          "variable": "FUND"
         },
         {
          "Year": 1935,
          "value": 4.661965693834251,
          "variable": "FUND"
         },
         {
          "Year": 1936,
          "value": 4.7069183703050905,
          "variable": "FUND"
         },
         {
          "Year": 1937,
          "value": 4.751719846687394,
          "variable": "FUND"
         },
         {
          "Year": 1938,
          "value": 4.796359824920216,
          "variable": "FUND"
         },
         {
          "Year": 1939,
          "value": 4.840827297863936,
          "variable": "FUND"
         },
         {
          "Year": 1940,
          "value": 4.88511165494147,
          "variable": "FUND"
         },
         {
          "Year": 1941,
          "value": 4.929202113859846,
          "variable": "FUND"
         },
         {
          "Year": 1942,
          "value": 4.973088338199881,
          "variable": "FUND"
         },
         {
          "Year": 1943,
          "value": 5.016759929502105,
          "variable": "FUND"
         },
         {
          "Year": 1944,
          "value": 5.060206489537359,
          "variable": "FUND"
         },
         {
          "Year": 1945,
          "value": 5.103418064426247,
          "variable": "FUND"
         },
         {
          "Year": 1946,
          "value": 5.146384356247687,
          "variable": "FUND"
         },
         {
          "Year": 1947,
          "value": 5.189095236523305,
          "variable": "FUND"
         },
         {
          "Year": 1948,
          "value": 5.231541102775193,
          "variable": "FUND"
         },
         {
          "Year": 1949,
          "value": 5.273712049729827,
          "variable": "FUND"
         },
         {
          "Year": 1950,
          "value": 5.315598802185477,
          "variable": "FUND"
         },
         {
          "Year": 1951,
          "value": 5.357192512803146,
          "variable": "FUND"
         },
         {
          "Year": 1952,
          "value": 5.398484042158963,
          "variable": "FUND"
         },
         {
          "Year": 1953,
          "value": 5.439464444751493,
          "variable": "FUND"
         },
         {
          "Year": 1954,
          "value": 5.480124595594422,
          "variable": "FUND"
         },
         {
          "Year": 1955,
          "value": 5.520456311897376,
          "variable": "FUND"
         },
         {
          "Year": 1956,
          "value": 5.560451941065838,
          "variable": "FUND"
         },
         {
          "Year": 1957,
          "value": 5.600103241448274,
          "variable": "FUND"
         },
         {
          "Year": 1958,
          "value": 5.639402729104261,
          "variable": "FUND"
         },
         {
          "Year": 1959,
          "value": 5.678343253057694,
          "variable": "FUND"
         },
         {
          "Year": 1960,
          "value": 5.716917362580153,
          "variable": "FUND"
         },
         {
          "Year": 1961,
          "value": 5.755118879214934,
          "variable": "FUND"
         },
         {
          "Year": 1962,
          "value": 5.792940076564213,
          "variable": "FUND"
         },
         {
          "Year": 1963,
          "value": 5.830374841445317,
          "variable": "FUND"
         },
         {
          "Year": 1964,
          "value": 5.867417514223313,
          "variable": "FUND"
         },
         {
          "Year": 1965,
          "value": 5.904062708593876,
          "variable": "FUND"
         },
         {
          "Year": 1966,
          "value": 5.940304412081585,
          "variable": "FUND"
         },
         {
          "Year": 1967,
          "value": 5.97613727539784,
          "variable": "FUND"
         },
         {
          "Year": 1968,
          "value": 6.011556569571168,
          "variable": "FUND"
         },
         {
          "Year": 1969,
          "value": 6.046558012381597,
          "variable": "FUND"
         },
         {
          "Year": 1970,
          "value": 6.081138042405617,
          "variable": "FUND"
         },
         {
          "Year": 1971,
          "value": 6.115292731327325,
          "variable": "FUND"
         },
         {
          "Year": 1972,
          "value": 6.149018980388554,
          "variable": "FUND"
         },
         {
          "Year": 1973,
          "value": 6.182314210046208,
          "variable": "FUND"
         },
         {
          "Year": 1974,
          "value": 6.215174829093779,
          "variable": "FUND"
         },
         {
          "Year": 1975,
          "value": 6.247599257054738,
          "variable": "FUND"
         },
         {
          "Year": 1976,
          "value": 6.279585401892452,
          "variable": "FUND"
         },
         {
          "Year": 1977,
          "value": 6.3111314563461045,
          "variable": "FUND"
         },
         {
          "Year": 1978,
          "value": 6.3422361538105045,
          "variable": "FUND"
         },
         {
          "Year": 1979,
          "value": 6.372898472236284,
          "variable": "FUND"
         },
         {
          "Year": 1980,
          "value": 6.403117253487319,
          "variable": "FUND"
         },
         {
          "Year": 1981,
          "value": 6.432892157344088,
          "variable": "FUND"
         },
         {
          "Year": 1982,
          "value": 6.46222255777562,
          "variable": "FUND"
         },
         {
          "Year": 1983,
          "value": 6.491108532895891,
          "variable": "FUND"
         },
         {
          "Year": 1984,
          "value": 6.519550174633916,
          "variable": "FUND"
         },
         {
          "Year": 1985,
          "value": 6.547547818361907,
          "variable": "FUND"
         },
         {
          "Year": 1986,
          "value": 6.575101403863795,
          "variable": "FUND"
         },
         {
          "Year": 1987,
          "value": 6.602212739654217,
          "variable": "FUND"
         },
         {
          "Year": 1988,
          "value": 6.628882704359136,
          "variable": "FUND"
         },
         {
          "Year": 1989,
          "value": 6.655112736184142,
          "variable": "FUND"
         },
         {
          "Year": 1990,
          "value": 6.68090392833348,
          "variable": "FUND"
         },
         {
          "Year": 1991,
          "value": 6.706258150544199,
          "variable": "FUND"
         },
         {
          "Year": 1992,
          "value": 6.731177233562627,
          "variable": "FUND"
         },
         {
          "Year": 1993,
          "value": 6.755663182564879,
          "variable": "FUND"
         },
         {
          "Year": 1994,
          "value": 6.779718422449215,
          "variable": "FUND"
         },
         {
          "Year": 1995,
          "value": 6.803345417403866,
          "variable": "FUND"
         },
         {
          "Year": 1996,
          "value": 6.826547114765055,
          "variable": "FUND"
         },
         {
          "Year": 1997,
          "value": 6.849325956161861,
          "variable": "FUND"
         },
         {
          "Year": 1998,
          "value": 6.871685270472842,
          "variable": "FUND"
         },
         {
          "Year": 1999,
          "value": 6.893628006865318,
          "variable": "FUND"
         },
         {
          "Year": 2000,
          "value": 6.915156738303896,
          "variable": "FUND"
         },
         {
          "Year": 2001,
          "value": 6.936275175537805,
          "variable": "FUND"
         },
         {
          "Year": 2002,
          "value": 6.956986493273043,
          "variable": "FUND"
         },
         {
          "Year": 2003,
          "value": 6.977294521376057,
          "variable": "FUND"
         },
         {
          "Year": 2004,
          "value": 6.997202975088083,
          "variable": "FUND"
         },
         {
          "Year": 2005,
          "value": 7.016715678871821,
          "variable": "FUND"
         },
         {
          "Year": 2006,
          "value": 7.035836872996458,
          "variable": "FUND"
         },
         {
          "Year": 2007,
          "value": 7.054569723458843,
          "variable": "FUND"
         },
         {
          "Year": 2008,
          "value": 7.072918709154498,
          "variable": "FUND"
         },
         {
          "Year": 2009,
          "value": 7.09088783339452,
          "variable": "FUND"
         },
         {
          "Year": 2010,
          "value": 7.108481715533686,
          "variable": "FUND"
         },
         {
          "Year": 2011,
          "value": 7.125704395612666,
          "variable": "FUND"
         },
         {
          "Year": 2012,
          "value": 7.142560415508435,
          "variable": "FUND"
         },
         {
          "Year": 2013,
          "value": 7.15905375272802,
          "variable": "FUND"
         },
         {
          "Year": 2014,
          "value": 7.175189301358065,
          "variable": "FUND"
         },
         {
          "Year": 2015,
          "value": 7.190971762004987,
          "variable": "FUND"
         },
         {
          "Year": 2016,
          "value": 7.206408624376984,
          "variable": "FUND"
         },
         {
          "Year": 2017,
          "value": 7.221506816628437,
          "variable": "FUND"
         },
         {
          "Year": 2018,
          "value": 7.236273757302533,
          "variable": "FUND"
         },
         {
          "Year": 2019,
          "value": 7.250716482526928,
          "variable": "FUND"
         },
         {
          "Year": 2020,
          "value": 7.264841970467174,
          "variable": "FUND"
         },
         {
          "Year": 2021,
          "value": 7.278656540932946,
          "variable": "FUND"
         },
         {
          "Year": 2022,
          "value": 7.292167531411467,
          "variable": "FUND"
         },
         {
          "Year": 2023,
          "value": 7.305380568366607,
          "variable": "FUND"
         },
         {
          "Year": 2024,
          "value": 7.318302225019525,
          "variable": "FUND"
         },
         {
          "Year": 2025,
          "value": 7.330938512214868,
          "variable": "FUND"
         },
         {
          "Year": 2026,
          "value": 7.3432953265074605,
          "variable": "FUND"
         },
         {
          "Year": 2027,
          "value": 7.355379238135111,
          "variable": "FUND"
         },
         {
          "Year": 2028,
          "value": 7.36719604729641,
          "variable": "FUND"
         },
         {
          "Year": 2029,
          "value": 7.378751033961166,
          "variable": "FUND"
         },
         {
          "Year": 2030,
          "value": 7.390049495640983,
          "variable": "FUND"
         },
         {
          "Year": 2031,
          "value": 7.40109753115042,
          "variable": "FUND"
         },
         {
          "Year": 2032,
          "value": 7.411900285604442,
          "variable": "FUND"
         },
         {
          "Year": 2033,
          "value": 7.422462905635743,
          "variable": "FUND"
         },
         {
          "Year": 2034,
          "value": 7.432790542454396,
          "variable": "FUND"
         },
         {
          "Year": 2035,
          "value": 7.442887842559555,
          "variable": "FUND"
         },
         {
          "Year": 2036,
          "value": 7.45276026152692,
          "variable": "FUND"
         },
         {
          "Year": 2037,
          "value": 7.462412806900645,
          "variable": "FUND"
         },
         {
          "Year": 2038,
          "value": 7.471849581883025,
          "variable": "FUND"
         },
         {
          "Year": 2039,
          "value": 7.481075617653474,
          "variable": "FUND"
         },
         {
          "Year": 2040,
          "value": 7.490095061506811,
          "variable": "FUND"
         },
         {
          "Year": 2041,
          "value": 7.498912580003138,
          "variable": "FUND"
         },
         {
          "Year": 2042,
          "value": 7.507532808397436,
          "variable": "FUND"
         },
         {
          "Year": 2043,
          "value": 7.515959777179311,
          "variable": "FUND"
         },
         {
          "Year": 2044,
          "value": 7.524197636191766,
          "variable": "FUND"
         },
         {
          "Year": 2045,
          "value": 7.532250152026642,
          "variable": "FUND"
         },
         {
          "Year": 2046,
          "value": 7.540121520416781,
          "variable": "FUND"
         },
         {
          "Year": 2047,
          "value": 7.5478150575346845,
          "variable": "FUND"
         },
         {
          "Year": 2048,
          "value": 7.555334629233222,
          "variable": "FUND"
         },
         {
          "Year": 2049,
          "value": 7.562684581818985,
          "variable": "FUND"
         },
         {
          "Year": 2050,
          "value": 7.569868554763106,
          "variable": "FUND"
         },
         {
          "Year": 2051,
          "value": 7.5768901054233915,
          "variable": "FUND"
         },
         {
          "Year": 2052,
          "value": 7.583752442559996,
          "variable": "FUND"
         },
         {
          "Year": 2053,
          "value": 7.590458640733128,
          "variable": "FUND"
         },
         {
          "Year": 2054,
          "value": 7.597012682496539,
          "variable": "FUND"
         },
         {
          "Year": 2055,
          "value": 7.603417461746791,
          "variable": "FUND"
         },
         {
          "Year": 2056,
          "value": 7.6096760296873995,
          "variable": "FUND"
         },
         {
          "Year": 2057,
          "value": 7.6157914780750495,
          "variable": "FUND"
         },
         {
          "Year": 2058,
          "value": 7.62176684207322,
          "variable": "FUND"
         },
         {
          "Year": 2059,
          "value": 7.627605569171424,
          "variable": "FUND"
         },
         {
          "Year": 2060,
          "value": 7.633310430220983,
          "variable": "FUND"
         },
         {
          "Year": 2061,
          "value": 7.638884149669004,
          "variable": "FUND"
         },
         {
          "Year": 2062,
          "value": 7.644329780872297,
          "variable": "FUND"
         },
         {
          "Year": 2063,
          "value": 7.64965021436897,
          "variable": "FUND"
         },
         {
          "Year": 2064,
          "value": 7.654849041400311,
          "variable": "FUND"
         },
         {
          "Year": 2065,
          "value": 7.659928307808399,
          "variable": "FUND"
         },
         {
          "Year": 2066,
          "value": 7.664890435496482,
          "variable": "FUND"
         },
         {
          "Year": 2067,
          "value": 7.669737991754069,
          "variable": "FUND"
         },
         {
          "Year": 2068,
          "value": 7.674473577790631,
          "variable": "FUND"
         },
         {
          "Year": 2069,
          "value": 7.679099364605515,
          "variable": "FUND"
         },
         {
          "Year": 2070,
          "value": 7.683617963182156,
          "variable": "FUND"
         },
         {
          "Year": 2071,
          "value": 7.688031170582525,
          "variable": "FUND"
         },
         {
          "Year": 2072,
          "value": 7.6923413412929715,
          "variable": "FUND"
         },
         {
          "Year": 2073,
          "value": 7.69655159881741,
          "variable": "FUND"
         },
         {
          "Year": 2074,
          "value": 7.7006637350257,
          "variable": "FUND"
         },
         {
          "Year": 2075,
          "value": 7.704679723381423,
          "variable": "FUND"
         },
         {
          "Year": 2076,
          "value": 7.708601882219818,
          "variable": "FUND"
         },
         {
          "Year": 2077,
          "value": 7.712432100265355,
          "variable": "FUND"
         },
         {
          "Year": 2078,
          "value": 7.716172792756886,
          "variable": "FUND"
         },
         {
          "Year": 2079,
          "value": 7.719825741122546,
          "variable": "FUND"
         },
         {
          "Year": 2080,
          "value": 7.723392521788144,
          "variable": "FUND"
         },
         {
          "Year": 2081,
          "value": 7.726875162386723,
          "variable": "FUND"
         },
         {
          "Year": 2082,
          "value": 7.730275728080363,
          "variable": "FUND"
         },
         {
          "Year": 2083,
          "value": 7.7335954981122725,
          "variable": "FUND"
         },
         {
          "Year": 2084,
          "value": 7.73683658387749,
          "variable": "FUND"
         },
         {
          "Year": 2085,
          "value": 7.740000489335858,
          "variable": "FUND"
         },
         {
          "Year": 2086,
          "value": 7.743089431291942,
          "variable": "FUND"
         },
         {
          "Year": 2087,
          "value": 7.746105096176537,
          "variable": "FUND"
         },
         {
          "Year": 2088,
          "value": 7.749049137790792,
          "variable": "FUND"
         },
         {
          "Year": 2089,
          "value": 7.751923349880195,
          "variable": "FUND"
         },
         {
          "Year": 2090,
          "value": 7.754728670892837,
          "variable": "FUND"
         },
         {
          "Year": 2091,
          "value": 7.757467233812097,
          "variable": "FUND"
         },
         {
          "Year": 2092,
          "value": 7.760140005922925,
          "variable": "FUND"
         },
         {
          "Year": 2093,
          "value": 7.762748606008356,
          "variable": "FUND"
         },
         {
          "Year": 2094,
          "value": 7.765294435300882,
          "variable": "FUND"
         },
         {
          "Year": 2095,
          "value": 7.767779229746011,
          "variable": "FUND"
         },
         {
          "Year": 2096,
          "value": 7.770204313392159,
          "variable": "FUND"
         },
         {
          "Year": 2097,
          "value": 7.772571077253237,
          "variable": "FUND"
         },
         {
          "Year": 2098,
          "value": 7.77488079621828,
          "variable": "FUND"
         },
         {
          "Year": 2099,
          "value": 7.777134905627906,
          "variable": "FUND"
         },
         {
          "Year": 2100,
          "value": 7.779334185637353,
          "variable": "FUND"
         },
         {
          "Year": 2101,
          "value": 7.781480846300726,
          "variable": "FUND"
         },
         {
          "Year": 2102,
          "value": 7.783575390604311,
          "variable": "FUND"
         },
         {
          "Year": 2103,
          "value": 7.7856192481375555,
          "variable": "FUND"
         },
         {
          "Year": 2104,
          "value": 7.787613460930341,
          "variable": "FUND"
         },
         {
          "Year": 2105,
          "value": 7.789559331420212,
          "variable": "FUND"
         },
         {
          "Year": 2106,
          "value": 7.791458303252158,
          "variable": "FUND"
         },
         {
          "Year": 2107,
          "value": 7.793311329054896,
          "variable": "FUND"
         },
         {
          "Year": 2108,
          "value": 7.795119008213035,
          "variable": "FUND"
         },
         {
          "Year": 2109,
          "value": 7.796883184024116,
          "variable": "FUND"
         },
         {
          "Year": 2110,
          "value": 7.798604728514279,
          "variable": "FUND"
         },
         {
          "Year": 2111,
          "value": 7.800284338249128,
          "variable": "FUND"
         },
         {
          "Year": 2112,
          "value": 7.801923070087477,
          "variable": "FUND"
         },
         {
          "Year": 2113,
          "value": 7.803521439115258,
          "variable": "FUND"
         },
         {
          "Year": 2114,
          "value": 7.8050806811422335,
          "variable": "FUND"
         },
         {
          "Year": 2115,
          "value": 7.806601998850255,
          "variable": "FUND"
         },
         {
          "Year": 2116,
          "value": 7.808078463360976,
          "variable": "FUND"
         },
         {
          "Year": 2117,
          "value": 7.809503982453182,
          "variable": "FUND"
         },
         {
          "Year": 2118,
          "value": 7.810873221556565,
          "variable": "FUND"
         },
         {
          "Year": 2119,
          "value": 7.812181532132273,
          "variable": "FUND"
         },
         {
          "Year": 2120,
          "value": 7.813424886698227,
          "variable": "FUND"
         },
         {
          "Year": 2121,
          "value": 7.814599819844153,
          "variable": "FUND"
         },
         {
          "Year": 2122,
          "value": 7.815703374655058,
          "variable": "FUND"
         },
         {
          "Year": 2123,
          "value": 7.81673305402523,
          "variable": "FUND"
         },
         {
          "Year": 2124,
          "value": 7.817686776399774,
          "variable": "FUND"
         },
         {
          "Year": 2125,
          "value": 7.818562835528714,
          "variable": "FUND"
         },
         {
          "Year": 2126,
          "value": 7.819359863860843,
          "variable": "FUND"
         },
         {
          "Year": 2127,
          "value": 7.820076799241794,
          "variable": "FUND"
         },
         {
          "Year": 2128,
          "value": 7.820712854613815,
          "variable": "FUND"
         },
         {
          "Year": 2129,
          "value": 7.821267490444137,
          "variable": "FUND"
         },
         {
          "Year": 2130,
          "value": 7.821740389635044,
          "variable": "FUND"
         },
         {
          "Year": 2131,
          "value": 7.822131434692203,
          "variable": "FUND"
         },
         {
          "Year": 2132,
          "value": 7.822440686948817,
          "variable": "FUND"
         },
         {
          "Year": 2133,
          "value": 7.822668367662073,
          "variable": "FUND"
         },
         {
          "Year": 2134,
          "value": 7.822814840815282,
          "variable": "FUND"
         },
         {
          "Year": 2135,
          "value": 7.822880597474426,
          "variable": "FUND"
         },
         {
          "Year": 2136,
          "value": 7.822866241561636,
          "variable": "FUND"
         },
         {
          "Year": 2137,
          "value": 7.8227724769205205,
          "variable": "FUND"
         },
         {
          "Year": 2138,
          "value": 7.822600095559602,
          "variable": "FUND"
         },
         {
          "Year": 2139,
          "value": 7.822349966970251,
          "variable": "FUND"
         },
         {
          "Year": 2140,
          "value": 7.822023028424791,
          "variable": "FUND"
         },
         {
          "Year": 2141,
          "value": 7.821620276168779,
          "variable": "FUND"
         },
         {
          "Year": 2142,
          "value": 7.8211427574291195,
          "variable": "FUND"
         },
         {
          "Year": 2143,
          "value": 7.820591563166528,
          "variable": "FUND"
         },
         {
          "Year": 2144,
          "value": 7.819967821507163,
          "variable": "FUND"
         },
         {
          "Year": 2145,
          "value": 7.819272691793944,
          "variable": "FUND"
         },
         {
          "Year": 2146,
          "value": 7.818507359203274,
          "variable": "FUND"
         },
         {
          "Year": 2147,
          "value": 7.817673029877601,
          "variable": "FUND"
         },
         {
          "Year": 2148,
          "value": 7.816770926528581,
          "variable": "FUND"
         },
         {
          "Year": 2149,
          "value": 7.815802284469505,
          "variable": "FUND"
         },
         {
          "Year": 2150,
          "value": 7.814768348039268,
          "variable": "FUND"
         },
         {
          "Year": 2151,
          "value": 7.813670367383375,
          "variable": "FUND"
         },
         {
          "Year": 2152,
          "value": 7.812509595560519,
          "variable": "FUND"
         },
         {
          "Year": 2153,
          "value": 7.811287285945912,
          "variable": "FUND"
         },
         {
          "Year": 2154,
          "value": 7.8100046899051145,
          "variable": "FUND"
         },
         {
          "Year": 2155,
          "value": 7.808663054714292,
          "variable": "FUND"
         },
         {
          "Year": 2156,
          "value": 7.807263621704974,
          "variable": "FUND"
         },
         {
          "Year": 2157,
          "value": 7.8058076246132195,
          "variable": "FUND"
         },
         {
          "Year": 2158,
          "value": 7.804296288114869,
          "variable": "FUND"
         },
         {
          "Year": 2159,
          "value": 7.802730826530106,
          "variable": "FUND"
         },
         {
          "Year": 2160,
          "value": 7.80111244268203,
          "variable": "FUND"
         },
         {
          "Year": 2161,
          "value": 7.799442326895225,
          "variable": "FUND"
         },
         {
          "Year": 2162,
          "value": 7.797721656121549,
          "variable": "FUND"
         },
         {
          "Year": 2163,
          "value": 7.79595159318146,
          "variable": "FUND"
         },
         {
          "Year": 2164,
          "value": 7.794133286110182,
          "variable": "FUND"
         },
         {
          "Year": 2165,
          "value": 7.792267867598987,
          "variable": "FUND"
         },
         {
          "Year": 2166,
          "value": 7.7903564545226605,
          "variable": "FUND"
         },
         {
          "Year": 2167,
          "value": 7.788400147545023,
          "variable": "FUND"
         },
         {
          "Year": 2168,
          "value": 7.78640003079508,
          "variable": "FUND"
         },
         {
          "Year": 2169,
          "value": 7.784357171607008,
          "variable": "FUND"
         },
         {
          "Year": 2170,
          "value": 7.782272620317787,
          "variable": "FUND"
         },
         {
          "Year": 2171,
          "value": 7.7801474101168315,
          "variable": "FUND"
         },
         {
          "Year": 2172,
          "value": 7.77798255694245,
          "variable": "FUND"
         },
         {
          "Year": 2173,
          "value": 7.77577905942044,
          "variable": "FUND"
         },
         {
          "Year": 2174,
          "value": 7.773537898840516,
          "variable": "FUND"
         },
         {
          "Year": 2175,
          "value": 7.77126003916666,
          "variable": "FUND"
         },
         {
          "Year": 2176,
          "value": 7.768946427077834,
          "variable": "FUND"
         },
         {
          "Year": 2177,
          "value": 7.766597992035793,
          "variable": "FUND"
         },
         {
          "Year": 2178,
          "value": 7.76421564637704,
          "variable": "FUND"
         },
         {
          "Year": 2179,
          "value": 7.761800285426234,
          "variable": "FUND"
         },
         {
          "Year": 2180,
          "value": 7.759352787628589,
          "variable": "FUND"
         },
         {
          "Year": 2181,
          "value": 7.756874014699031,
          "variable": "FUND"
         },
         {
          "Year": 2182,
          "value": 7.754364811786091,
          "variable": "FUND"
         },
         {
          "Year": 2183,
          "value": 7.751826007648675,
          "variable": "FUND"
         },
         {
          "Year": 2184,
          "value": 7.7492584148440535,
          "variable": "FUND"
         },
         {
          "Year": 2185,
          "value": 7.746662829925529,
          "variable": "FUND"
         },
         {
          "Year": 2186,
          "value": 7.7440400336484165,
          "variable": "FUND"
         },
         {
          "Year": 2187,
          "value": 7.74139079118308,
          "variable": "FUND"
         },
         {
          "Year": 2188,
          "value": 7.738715852333892,
          "variable": "FUND"
         },
         {
          "Year": 2189,
          "value": 7.736015951763092,
          "variable": "FUND"
         },
         {
          "Year": 2190,
          "value": 7.733291809218614,
          "variable": "FUND"
         },
         {
          "Year": 2191,
          "value": 7.730544129765052,
          "variable": "FUND"
         },
         {
          "Year": 2192,
          "value": 7.727773604017003,
          "variable": "FUND"
         },
         {
          "Year": 2193,
          "value": 7.724980908374107,
          "variable": "FUND"
         },
         {
          "Year": 2194,
          "value": 7.72216670525718,
          "variable": "FUND"
         },
         {
          "Year": 2195,
          "value": 7.719331643344877,
          "variable": "FUND"
         },
         {
          "Year": 2196,
          "value": 7.716476357810403,
          "variable": "FUND"
         },
         {
          "Year": 2197,
          "value": 7.7136014705578235,
          "variable": "FUND"
         },
         {
          "Year": 2198,
          "value": 7.710707590457593,
          "variable": "FUND"
         },
         {
          "Year": 2199,
          "value": 7.70779531358093,
          "variable": "FUND"
         },
         {
          "Year": 2200,
          "value": 7.704865223432744,
          "variable": "FUND"
         },
         {
          "Year": 2201,
          "value": 7.701917891182833,
          "variable": "FUND"
         },
         {
          "Year": 2202,
          "value": 7.698953875895103,
          "variable": "FUND"
         },
         {
          "Year": 2203,
          "value": 7.695973724754598,
          "variable": "FUND"
         },
         {
          "Year": 2204,
          "value": 7.69297797329216,
          "variable": "FUND"
         },
         {
          "Year": 2205,
          "value": 7.689967145606536,
          "variable": "FUND"
         },
         {
          "Year": 2206,
          "value": 7.686941754583817,
          "variable": "FUND"
         },
         {
          "Year": 2207,
          "value": 7.683902302114063,
          "variable": "FUND"
         },
         {
          "Year": 2208,
          "value": 7.680849279305028,
          "variable": "FUND"
         },
         {
          "Year": 2209,
          "value": 7.677783166692885,
          "variable": "FUND"
         },
         {
          "Year": 2210,
          "value": 7.67470443444989,
          "variable": "FUND"
         },
         {
          "Year": 2211,
          "value": 7.671613542588919,
          "variable": "FUND"
         },
         {
          "Year": 2212,
          "value": 7.66851094116484,
          "variable": "FUND"
         },
         {
          "Year": 2213,
          "value": 7.665397070472664,
          "variable": "FUND"
         },
         {
          "Year": 2214,
          "value": 7.66227236124248,
          "variable": "FUND"
         },
         {
          "Year": 2215,
          "value": 7.659137234831133,
          "variable": "FUND"
         },
         {
          "Year": 2216,
          "value": 7.655992103410639,
          "variable": "FUND"
         },
         {
          "Year": 2217,
          "value": 7.65283737015335,
          "variable": "FUND"
         },
         {
          "Year": 2218,
          "value": 7.649673429413856,
          "variable": "FUND"
         },
         {
          "Year": 2219,
          "value": 7.646500666907649,
          "variable": "FUND"
         },
         {
          "Year": 2220,
          "value": 7.643319459886545,
          "variable": "FUND"
         },
         {
          "Year": 2221,
          "value": 7.640130177310914,
          "variable": "FUND"
         },
         {
          "Year": 2222,
          "value": 7.636933180018715,
          "variable": "FUND"
         },
         {
          "Year": 2223,
          "value": 7.633728820891388,
          "variable": "FUND"
         },
         {
          "Year": 2224,
          "value": 7.630517445016649,
          "variable": "FUND"
         },
         {
          "Year": 2225,
          "value": 7.6272993898484245,
          "variable": "FUND"
         },
         {
          "Year": 2226,
          "value": 7.624074985363244,
          "variable": "FUND"
         },
         {
          "Year": 2227,
          "value": 7.620844554213536,
          "variable": "FUND"
         },
         {
          "Year": 2228,
          "value": 7.6176084118782175,
          "variable": "FUND"
         },
         {
          "Year": 2229,
          "value": 7.614366866810324,
          "variable": "FUND"
         },
         {
          "Year": 2230,
          "value": 7.611120220581749,
          "variable": "FUND"
         },
         {
          "Year": 2231,
          "value": 7.607868768025113,
          "variable": "FUND"
         },
         {
          "Year": 2232,
          "value": 7.604612797372824,
          "variable": "FUND"
         },
         {
          "Year": 2233,
          "value": 7.601352590393366,
          "variable": "FUND"
         },
         {
          "Year": 2234,
          "value": 7.598088422524856,
          "variable": "FUND"
         },
         {
          "Year": 2235,
          "value": 7.59482056300593,
          "variable": "FUND"
         },
         {
          "Year": 2236,
          "value": 7.591549275003988,
          "variable": "FUND"
         },
         {
          "Year": 2237,
          "value": 7.588274815740847,
          "variable": "FUND"
         },
         {
          "Year": 2238,
          "value": 7.584997436615856,
          "variable": "FUND"
         },
         {
          "Year": 2239,
          "value": 7.581717383326516,
          "variable": "FUND"
         },
         {
          "Year": 2240,
          "value": 7.5784348959866366,
          "variable": "FUND"
         },
         {
          "Year": 2241,
          "value": 7.575150209242096,
          "variable": "FUND"
         },
         {
          "Year": 2242,
          "value": 7.571863552384235,
          "variable": "FUND"
         },
         {
          "Year": 2243,
          "value": 7.568575149460928,
          "variable": "FUND"
         },
         {
          "Year": 2244,
          "value": 7.565285219385394,
          "variable": "FUND"
         },
         {
          "Year": 2245,
          "value": 7.5619939760427615,
          "variable": "FUND"
         },
         {
          "Year": 2246,
          "value": 7.558701628394464,
          "variable": "FUND"
         },
         {
          "Year": 2247,
          "value": 7.555408380580475,
          "variable": "FUND"
         },
         {
          "Year": 2248,
          "value": 7.552114432019455,
          "variable": "FUND"
         },
         {
          "Year": 2249,
          "value": 7.5488199775068345,
          "variable": "FUND"
         },
         {
          "Year": 2250,
          "value": 7.545525207310874,
          "variable": "FUND"
         },
         {
          "Year": 2251,
          "value": 7.542230307266753,
          "variable": "FUND"
         },
         {
          "Year": 2252,
          "value": 7.5389354588687185,
          "variable": "FUND"
         },
         {
          "Year": 2253,
          "value": 7.535640839360329,
          "variable": "FUND"
         },
         {
          "Year": 2254,
          "value": 7.532346621822845,
          "variable": "FUND"
         },
         {
          "Year": 2255,
          "value": 7.5290529752617985,
          "variable": "FUND"
         },
         {
          "Year": 2256,
          "value": 7.525760064691768,
          "variable": "FUND"
         },
         {
          "Year": 2257,
          "value": 7.522468051219414,
          "variable": "FUND"
         },
         {
          "Year": 2258,
          "value": 7.519177092124797,
          "variable": "FUND"
         },
         {
          "Year": 2259,
          "value": 7.515887340941019,
          "variable": "FUND"
         },
         {
          "Year": 2260,
          "value": 7.512598947532227,
          "variable": "FUND"
         },
         {
          "Year": 2261,
          "value": 7.509312058170001,
          "variable": "FUND"
         },
         {
          "Year": 2262,
          "value": 7.506026815608172,
          "variable": "FUND"
         },
         {
          "Year": 2263,
          "value": 7.502743359156097,
          "variable": "FUND"
         },
         {
          "Year": 2264,
          "value": 7.4994618247504174,
          "variable": "FUND"
         },
         {
          "Year": 2265,
          "value": 7.4961823450253515,
          "variable": "FUND"
         },
         {
          "Year": 2266,
          "value": 7.492905049381527,
          "variable": "FUND"
         },
         {
          "Year": 2267,
          "value": 7.489630064053401,
          "variable": "FUND"
         },
         {
          "Year": 2268,
          "value": 7.486357512175291,
          "variable": "FUND"
         },
         {
          "Year": 2269,
          "value": 7.483087513846051,
          "variable": "FUND"
         },
         {
          "Year": 2270,
          "value": 7.479820186192404,
          "variable": "FUND"
         },
         {
          "Year": 2271,
          "value": 7.47655564343098,
          "variable": "FUND"
         },
         {
          "Year": 2272,
          "value": 7.473293996929081,
          "variable": "FUND"
         },
         {
          "Year": 2273,
          "value": 7.470035355264185,
          "variable": "FUND"
         },
         {
          "Year": 2274,
          "value": 7.466779824282245,
          "variable": "FUND"
         },
         {
          "Year": 2275,
          "value": 7.463527507154776,
          "variable": "FUND"
         },
         {
          "Year": 2276,
          "value": 7.460278504434781,
          "variable": "FUND"
         },
         {
          "Year": 2277,
          "value": 7.457032914111526,
          "variable": "FUND"
         },
         {
          "Year": 2278,
          "value": 7.453790831664191,
          "variable": "FUND"
         },
         {
          "Year": 2279,
          "value": 7.450552350114427,
          "variable": "FUND"
         },
         {
          "Year": 2280,
          "value": 7.447317560077829,
          "variable": "FUND"
         },
         {
          "Year": 2281,
          "value": 7.444086549814362,
          "variable": "FUND"
         },
         {
          "Year": 2282,
          "value": 7.440859405277748,
          "variable": "FUND"
         },
         {
          "Year": 2283,
          "value": 7.437636210163852,
          "variable": "FUND"
         },
         {
          "Year": 2284,
          "value": 7.43441704595807,
          "variable": "FUND"
         },
         {
          "Year": 2285,
          "value": 7.4312019919817525,
          "variable": "FUND"
         },
         {
          "Year": 2286,
          "value": 7.427991125437676,
          "variable": "FUND"
         },
         {
          "Year": 2287,
          "value": 7.424784521454591,
          "variable": "FUND"
         },
         {
          "Year": 2288,
          "value": 7.421582253130858,
          "variable": "FUND"
         },
         {
          "Year": 2289,
          "value": 7.418384391577192,
          "variable": "FUND"
         },
         {
          "Year": 2290,
          "value": 7.4151910059585315,
          "variable": "FUND"
         },
         {
          "Year": 2291,
          "value": 7.412002163535066,
          "variable": "FUND"
         },
         {
          "Year": 2292,
          "value": 7.408817929702412,
          "variable": "FUND"
         },
         {
          "Year": 2293,
          "value": 7.405638368030982,
          "variable": "FUND"
         },
         {
          "Year": 2294,
          "value": 7.402463540304545,
          "variable": "FUND"
         },
         {
          "Year": 2295,
          "value": 7.3992935065580046,
          "variable": "FUND"
         },
         {
          "Year": 2296,
          "value": 7.396128325114408,
          "variable": "FUND"
         },
         {
          "Year": 2297,
          "value": 7.392968052621203,
          "variable": "FUND"
         },
         {
          "Year": 2298,
          "value": 7.389812744085754,
          "variable": "FUND"
         },
         {
          "Year": 2299,
          "value": 7.38666245291014,
          "variable": "FUND"
         },
         {
          "Year": 2300,
          "value": 7.383517230925245,
          "variable": "FUND"
         },
         {
          "Year": 2301,
          "value": 7.380377128424153,
          "variable": "FUND"
         },
         {
          "Year": 2302,
          "value": 7.377242194194869,
          "variable": "FUND"
         },
         {
          "Year": 2303,
          "value": 7.374112475552369,
          "variable": "FUND"
         },
         {
          "Year": 2304,
          "value": 7.370988018370011,
          "variable": "FUND"
         },
         {
          "Year": 2305,
          "value": 7.367868867110293,
          "variable": "FUND"
         },
         {
          "Year": 2306,
          "value": 7.364755064855005,
          "variable": "FUND"
         },
         {
          "Year": 2307,
          "value": 7.361646653334751,
          "variable": "FUND"
         },
         {
          "Year": 2308,
          "value": 7.3585436729578895,
          "variable": "FUND"
         },
         {
          "Year": 2309,
          "value": 7.355446162838876,
          "variable": "FUND"
         },
         {
          "Year": 2310,
          "value": 7.352354160826037,
          "variable": "FUND"
         },
         {
          "Year": 2311,
          "value": 7.349267703528777,
          "variable": "FUND"
         },
         {
          "Year": 2312,
          "value": 7.346186826344239,
          "variable": "FUND"
         },
         {
          "Year": 2313,
          "value": 7.343111563483421,
          "variable": "FUND"
         },
         {
          "Year": 2314,
          "value": 7.340041947996771,
          "variable": "FUND"
         },
         {
          "Year": 2315,
          "value": 7.3369780117992525,
          "variable": "FUND"
         },
         {
          "Year": 2316,
          "value": 7.333919785694912,
          "variable": "FUND"
         },
         {
          "Year": 2317,
          "value": 7.330867299400946,
          "variable": "FUND"
         },
         {
          "Year": 2318,
          "value": 7.327820581571284,
          "variable": "FUND"
         },
         {
          "Year": 2319,
          "value": 7.324779659819685,
          "variable": "FUND"
         },
         {
          "Year": 2320,
          "value": 7.321744560742382,
          "variable": "FUND"
         },
         {
          "Year": 2321,
          "value": 7.318715309940255,
          "variable": "FUND"
         },
         {
          "Year": 2322,
          "value": 7.315691932040562,
          "variable": "FUND"
         },
         {
          "Year": 2323,
          "value": 7.312674450718231,
          "variable": "FUND"
         },
         {
          "Year": 2324,
          "value": 7.309662888716716,
          "variable": "FUND"
         },
         {
          "Year": 2325,
          "value": 7.306657267868438,
          "variable": "FUND"
         },
         {
          "Year": 2326,
          "value": 7.30365760911481,
          "variable": "FUND"
         },
         {
          "Year": 2327,
          "value": 7.300663932525855,
          "variable": "FUND"
         },
         {
          "Year": 2328,
          "value": 7.297676257319428,
          "variable": "FUND"
         },
         {
          "Year": 2329,
          "value": 7.294694601880053,
          "variable": "FUND"
         },
         {
          "Year": 2330,
          "value": 7.291718983777376,
          "variable": "FUND"
         },
         {
          "Year": 2331,
          "value": 7.288749419784245,
          "variable": "FUND"
         },
         {
          "Year": 2332,
          "value": 7.28578592589442,
          "variable": "FUND"
         },
         {
          "Year": 2333,
          "value": 7.282828517339937,
          "variable": "FUND"
         },
         {
          "Year": 2334,
          "value": 7.2798772086081085,
          "variable": "FUND"
         },
         {
          "Year": 2335,
          "value": 7.276932013458182,
          "variable": "FUND"
         },
         {
          "Year": 2336,
          "value": 7.273992944937668,
          "variable": "FUND"
         },
         {
          "Year": 2337,
          "value": 7.271060015398335,
          "variable": "FUND"
         },
         {
          "Year": 2338,
          "value": 7.268133236511872,
          "variable": "FUND"
         },
         {
          "Year": 2339,
          "value": 7.265212619285247,
          "variable": "FUND"
         },
         {
          "Year": 2340,
          "value": 7.262298174075747,
          "variable": "FUND"
         },
         {
          "Year": 2341,
          "value": 7.259389910605712,
          "variable": "FUND"
         },
         {
          "Year": 2342,
          "value": 7.2564878379769775,
          "variable": "FUND"
         },
         {
          "Year": 2343,
          "value": 7.253591964685016,
          "variable": "FUND"
         },
         {
          "Year": 2344,
          "value": 7.2507022986328,
          "variable": "FUND"
         },
         {
          "Year": 2345,
          "value": 7.247818847144374,
          "variable": "FUND"
         },
         {
          "Year": 2346,
          "value": 7.2449416169781635,
          "variable": "FUND"
         },
         {
          "Year": 2347,
          "value": 7.242070614340018,
          "variable": "FUND"
         },
         {
          "Year": 2348,
          "value": 7.239205844895964,
          "variable": "FUND"
         },
         {
          "Year": 2349,
          "value": 7.236347313784713,
          "variable": "FUND"
         },
         {
          "Year": 2350,
          "value": 7.233495025629916,
          "variable": "FUND"
         },
         {
          "Year": 2351,
          "value": 7.230648984552171,
          "variable": "FUND"
         },
         {
          "Year": 2352,
          "value": 7.227809194180779,
          "variable": "FUND"
         },
         {
          "Year": 2353,
          "value": 7.22497565766527,
          "variable": "FUND"
         },
         {
          "Year": 2354,
          "value": 7.222148377686691,
          "variable": "FUND"
         },
         {
          "Year": 2355,
          "value": 7.219327356468657,
          "variable": "FUND"
         },
         {
          "Year": 2356,
          "value": 7.216512595788193,
          "variable": "FUND"
         },
         {
          "Year": 2357,
          "value": 7.213704096986336,
          "variable": "FUND"
         },
         {
          "Year": 2358,
          "value": 7.210901860978537,
          "variable": "FUND"
         },
         {
          "Year": 2359,
          "value": 7.2081058882648374,
          "variable": "FUND"
         },
         {
          "Year": 2360,
          "value": 7.205316178939848,
          "variable": "FUND"
         },
         {
          "Year": 2361,
          "value": 7.202532732702518,
          "variable": "FUND"
         },
         {
          "Year": 2362,
          "value": 7.199755548865708,
          "variable": "FUND"
         },
         {
          "Year": 2363,
          "value": 7.1969846263655635,
          "variable": "FUND"
         },
         {
          "Year": 2364,
          "value": 7.1942199637706965,
          "variable": "FUND"
         },
         {
          "Year": 2365,
          "value": 7.191461559291185,
          "variable": "FUND"
         },
         {
          "Year": 2366,
          "value": 7.18870941078738,
          "variable": "FUND"
         },
         {
          "Year": 2367,
          "value": 7.185963515778537,
          "variable": "FUND"
         },
         {
          "Year": 2368,
          "value": 7.1832238714512675,
          "variable": "FUND"
         },
         {
          "Year": 2369,
          "value": 7.180490474667817,
          "variable": "FUND"
         },
         {
          "Year": 2370,
          "value": 7.177763321974177,
          "variable": "FUND"
         },
         {
          "Year": 2371,
          "value": 7.1750424096080225,
          "variable": "FUND"
         },
         {
          "Year": 2372,
          "value": 7.172327733506493,
          "variable": "FUND"
         },
         {
          "Year": 2373,
          "value": 7.1696192893138075,
          "variable": "FUND"
         },
         {
          "Year": 2374,
          "value": 7.166917072388725,
          "variable": "FUND"
         },
         {
          "Year": 2375,
          "value": 7.1642210778118525,
          "variable": "FUND"
         },
         {
          "Year": 2376,
          "value": 7.161531300392799,
          "variable": "FUND"
         },
         {
          "Year": 2377,
          "value": 7.158847734677178,
          "variable": "FUND"
         },
         {
          "Year": 2378,
          "value": 7.156170374953478,
          "variable": "FUND"
         },
         {
          "Year": 2379,
          "value": 7.153499215259773,
          "variable": "FUND"
         },
         {
          "Year": 2380,
          "value": 7.1508342493903045,
          "variable": "FUND"
         },
         {
          "Year": 2381,
          "value": 7.148175470901927,
          "variable": "FUND"
         },
         {
          "Year": 2382,
          "value": 7.145522873120414,
          "variable": "FUND"
         },
         {
          "Year": 2383,
          "value": 7.142876449146635,
          "variable": "FUND"
         },
         {
          "Year": 2384,
          "value": 7.140236191862604,
          "variable": "FUND"
         },
         {
          "Year": 2385,
          "value": 7.137602093937403,
          "variable": "FUND"
         },
         {
          "Year": 2386,
          "value": 7.134974147832978,
          "variable": "FUND"
         },
         {
          "Year": 2387,
          "value": 7.132352345809815,
          "variable": "FUND"
         },
         {
          "Year": 2388,
          "value": 7.129736679932499,
          "variable": "FUND"
         },
         {
          "Year": 2389,
          "value": 7.127127142075156,
          "variable": "FUND"
         },
         {
          "Year": 2390,
          "value": 7.1245237239267745,
          "variable": "FUND"
         },
         {
          "Year": 2391,
          "value": 7.121926416996424,
          "variable": "FUND"
         },
         {
          "Year": 2392,
          "value": 7.11933521261836,
          "variable": "FUND"
         },
         {
          "Year": 2393,
          "value": 7.116750101957015,
          "variable": "FUND"
         },
         {
          "Year": 2394,
          "value": 7.114171076011894,
          "variable": "FUND"
         },
         {
          "Year": 2395,
          "value": 7.111598125622361,
          "variable": "FUND"
         },
         {
          "Year": 2396,
          "value": 7.109031241472323,
          "variable": "FUND"
         },
         {
          "Year": 2397,
          "value": 7.106470414094816,
          "variable": "FUND"
         },
         {
          "Year": 2398,
          "value": 7.103915633876496,
          "variable": "FUND"
         },
         {
          "Year": 2399,
          "value": 7.10136689106203,
          "variable": "FUND"
         },
         {
          "Year": 2400,
          "value": 7.098824175758394,
          "variable": "FUND"
         },
         {
          "Year": 2401,
          "value": 7.096287477939082,
          "variable": "FUND"
         },
         {
          "Year": 2402,
          "value": 7.093756787448223,
          "variable": "FUND"
         },
         {
          "Year": 2403,
          "value": 7.0912320940046065,
          "variable": "FUND"
         },
         {
          "Year": 2404,
          "value": 7.088713387205628,
          "variable": "FUND"
         },
         {
          "Year": 2405,
          "value": 7.086200656531144,
          "variable": "FUND"
         },
         {
          "Year": 2406,
          "value": 7.083693891347247,
          "variable": "FUND"
         },
         {
          "Year": 2407,
          "value": 7.081193080909956,
          "variable": "FUND"
         },
         {
          "Year": 2408,
          "value": 7.078698214368831,
          "variable": "FUND"
         },
         {
          "Year": 2409,
          "value": 7.076209280770506,
          "variable": "FUND"
         },
         {
          "Year": 2410,
          "value": 7.073726269062144,
          "variable": "FUND"
         },
         {
          "Year": 2411,
          "value": 7.071249168094821,
          "variable": "FUND"
         },
         {
          "Year": 2412,
          "value": 7.068777966626833,
          "variable": "FUND"
         },
         {
          "Year": 2413,
          "value": 7.066312653326929,
          "variable": "FUND"
         },
         {
          "Year": 2414,
          "value": 7.063853216777482,
          "variable": "FUND"
         },
         {
          "Year": 2415,
          "value": 7.061399645477575,
          "variable": "FUND"
         },
         {
          "Year": 2416,
          "value": 7.058951927846034,
          "variable": "FUND"
         },
         {
          "Year": 2417,
          "value": 7.056510052224385,
          "variable": "FUND"
         },
         {
          "Year": 2418,
          "value": 7.05407400687975,
          "variable": "FUND"
         },
         {
          "Year": 2419,
          "value": 7.051643780007674,
          "variable": "FUND"
         },
         {
          "Year": 2420,
          "value": 7.049219359734895,
          "variable": "FUND"
         },
         {
          "Year": 2421,
          "value": 7.0468007341220495,
          "variable": "FUND"
         },
         {
          "Year": 2422,
          "value": 7.0443878911663145,
          "variable": "FUND"
         },
         {
          "Year": 2423,
          "value": 7.041980818803995,
          "variable": "FUND"
         },
         {
          "Year": 2424,
          "value": 7.0395795049130525,
          "variable": "FUND"
         },
         {
          "Year": 2425,
          "value": 7.037183937315573,
          "variable": "FUND"
         },
         {
          "Year": 2426,
          "value": 7.034794103780185,
          "variable": "FUND"
         },
         {
          "Year": 2427,
          "value": 7.032409992024416,
          "variable": "FUND"
         },
         {
          "Year": 2428,
          "value": 7.030031589717,
          "variable": "FUND"
         },
         {
          "Year": 2429,
          "value": 7.027658884480133,
          "variable": "FUND"
         },
         {
          "Year": 2430,
          "value": 7.025291863891676,
          "variable": "FUND"
         },
         {
          "Year": 2431,
          "value": 7.0229305154873005,
          "variable": "FUND"
         },
         {
          "Year": 2432,
          "value": 7.0205748267626005,
          "variable": "FUND"
         },
         {
          "Year": 2433,
          "value": 7.018224785175138,
          "variable": "FUND"
         },
         {
          "Year": 2434,
          "value": 7.015880378146455,
          "variable": "FUND"
         },
         {
          "Year": 2435,
          "value": 7.013541593064029,
          "variable": "FUND"
         },
         {
          "Year": 2436,
          "value": 7.011208417283192,
          "variable": "FUND"
         },
         {
          "Year": 2437,
          "value": 7.008880838128996,
          "variable": "FUND"
         },
         {
          "Year": 2438,
          "value": 7.00655884289804,
          "variable": "FUND"
         },
         {
          "Year": 2439,
          "value": 7.004242418860254,
          "variable": "FUND"
         },
         {
          "Year": 2440,
          "value": 7.001931553260636,
          "variable": "FUND"
         },
         {
          "Year": 2441,
          "value": 6.999626233320957,
          "variable": "FUND"
         },
         {
          "Year": 2442,
          "value": 6.997326446241415,
          "variable": "FUND"
         },
         {
          "Year": 2443,
          "value": 6.995032179202256,
          "variable": "FUND"
         },
         {
          "Year": 2444,
          "value": 6.992743419365357,
          "variable": "FUND"
         },
         {
          "Year": 2445,
          "value": 6.990460153875764,
          "variable": "FUND"
         },
         {
          "Year": 2446,
          "value": 6.988182369863202,
          "variable": "FUND"
         },
         {
          "Year": 2447,
          "value": 6.985910054443542,
          "variable": "FUND"
         },
         {
          "Year": 2448,
          "value": 6.983643194720232,
          "variable": "FUND"
         },
         {
          "Year": 2449,
          "value": 6.981381777785699,
          "variable": "FUND"
         },
         {
          "Year": 2450,
          "value": 6.97912579072271,
          "variable": "FUND"
         },
         {
          "Year": 2451,
          "value": 6.976875220605704,
          "variable": "FUND"
         },
         {
          "Year": 2452,
          "value": 6.974630054502088,
          "variable": "FUND"
         },
         {
          "Year": 2453,
          "value": 6.9723902794735,
          "variable": "FUND"
         },
         {
          "Year": 2454,
          "value": 6.970155882577049,
          "variable": "FUND"
         },
         {
          "Year": 2455,
          "value": 6.96792685086651,
          "variable": "FUND"
         },
         {
          "Year": 2456,
          "value": 6.9657031713935,
          "variable": "FUND"
         },
         {
          "Year": 2457,
          "value": 6.9634848312086195,
          "variable": "FUND"
         },
         {
          "Year": 2458,
          "value": 6.961271817362567,
          "variable": "FUND"
         },
         {
          "Year": 2459,
          "value": 6.959064116907221,
          "variable": "FUND"
         },
         {
          "Year": 2460,
          "value": 6.956861716896699,
          "variable": "FUND"
         },
         {
          "Year": 2461,
          "value": 6.954664604388387,
          "variable": "FUND"
         },
         {
          "Year": 2462,
          "value": 6.95247276644394,
          "variable": "FUND"
         },
         {
          "Year": 2463,
          "value": 6.950286190130262,
          "variable": "FUND"
         },
         {
          "Year": 2464,
          "value": 6.948104862520454,
          "variable": "FUND"
         },
         {
          "Year": 2465,
          "value": 6.945928770694741,
          "variable": "FUND"
         },
         {
          "Year": 2466,
          "value": 6.943757901741373,
          "variable": "FUND"
         },
         {
          "Year": 2467,
          "value": 6.9415922427575,
          "variable": "FUND"
         },
         {
          "Year": 2468,
          "value": 6.939431780850029,
          "variable": "FUND"
         },
         {
          "Year": 2469,
          "value": 6.93727650313645,
          "variable": "FUND"
         },
         {
          "Year": 2470,
          "value": 6.935126396745646,
          "variable": "FUND"
         },
         {
          "Year": 2471,
          "value": 6.932981448818678,
          "variable": "FUND"
         },
         {
          "Year": 2472,
          "value": 6.930841646509549,
          "variable": "FUND"
         },
         {
          "Year": 2473,
          "value": 6.928706976985944,
          "variable": "FUND"
         },
         {
          "Year": 2474,
          "value": 6.9265774274299545,
          "variable": "FUND"
         },
         {
          "Year": 2475,
          "value": 6.924452985038778,
          "variable": "FUND"
         },
         {
          "Year": 2476,
          "value": 6.9223336370254005,
          "variable": "FUND"
         },
         {
          "Year": 2477,
          "value": 6.9202193706192565,
          "variable": "FUND"
         },
         {
          "Year": 2478,
          "value": 6.918110173066872,
          "variable": "FUND"
         },
         {
          "Year": 2479,
          "value": 6.916006031632491,
          "variable": "FUND"
         },
         {
          "Year": 2480,
          "value": 6.913906933598676,
          "variable": "FUND"
         },
         {
          "Year": 2481,
          "value": 6.911812866266899,
          "variable": "FUND"
         },
         {
          "Year": 2482,
          "value": 6.909723816958115,
          "variable": "FUND"
         },
         {
          "Year": 2483,
          "value": 6.907639773013307,
          "variable": "FUND"
         },
         {
          "Year": 2484,
          "value": 6.905560721794029,
          "variable": "FUND"
         },
         {
          "Year": 2485,
          "value": 6.903486650682922,
          "variable": "FUND"
         },
         {
          "Year": 2486,
          "value": 6.901417547084219,
          "variable": "FUND"
         },
         {
          "Year": 2487,
          "value": 6.899353398424234,
          "variable": "FUND"
         },
         {
          "Year": 2488,
          "value": 6.897294192151831,
          "variable": "FUND"
         },
         {
          "Year": 2489,
          "value": 6.895239915738886,
          "variable": "FUND"
         },
         {
          "Year": 2490,
          "value": 6.893190556680727,
          "variable": "FUND"
         },
         {
          "Year": 2491,
          "value": 6.891146102496564,
          "variable": "FUND"
         },
         {
          "Year": 2492,
          "value": 6.889106540729901,
          "variable": "FUND"
         },
         {
          "Year": 2493,
          "value": 6.887071858948937,
          "variable": "FUND"
         },
         {
          "Year": 2494,
          "value": 6.885042044746956,
          "variable": "FUND"
         },
         {
          "Year": 2495,
          "value": 6.883017085742696,
          "variable": "FUND"
         },
         {
          "Year": 2496,
          "value": 6.880996969580716,
          "variable": "FUND"
         },
         {
          "Year": 2497,
          "value": 6.878981683931737,
          "variable": "FUND"
         },
         {
          "Year": 2498,
          "value": 6.876971216492983,
          "variable": "FUND"
         },
         {
          "Year": 2499,
          "value": 6.8749655549885045,
          "variable": "FUND"
         },
         {
          "Year": 2500,
          "value": 6.872964687169489,
          "variable": "FUND"
         },
         {
          "Year": 1765,
          "value": 0.005060849842558356,
          "variable": "FAIR"
         },
         {
          "Year": 1766,
          "value": 0.009262250086953876,
          "variable": "FAIR"
         },
         {
          "Year": 1767,
          "value": 0.013629014530117767,
          "variable": "FAIR"
         },
         {
          "Year": 1768,
          "value": 0.02174959630655503,
          "variable": "FAIR"
         },
         {
          "Year": 1769,
          "value": 0.03118356680643865,
          "variable": "FAIR"
         },
         {
          "Year": 1770,
          "value": 0.041380376126215083,
          "variable": "FAIR"
         },
         {
          "Year": 1771,
          "value": 0.04702286519039267,
          "variable": "FAIR"
         },
         {
          "Year": 1772,
          "value": 0.04680242832072563,
          "variable": "FAIR"
         },
         {
          "Year": 1773,
          "value": 0.04652773104850302,
          "variable": "FAIR"
         },
         {
          "Year": 1774,
          "value": 0.04564694861424956,
          "variable": "FAIR"
         },
         {
          "Year": 1775,
          "value": 0.041973182987268466,
          "variable": "FAIR"
         },
         {
          "Year": 1776,
          "value": 0.038548719106804484,
          "variable": "FAIR"
         },
         {
          "Year": 1777,
          "value": 0.03670268796974257,
          "variable": "FAIR"
         },
         {
          "Year": 1778,
          "value": 0.03587456847031851,
          "variable": "FAIR"
         },
         {
          "Year": 1779,
          "value": 0.03037657437853946,
          "variable": "FAIR"
         },
         {
          "Year": 1780,
          "value": 0.026240728957137378,
          "variable": "FAIR"
         },
         {
          "Year": 1781,
          "value": 0.02497742816893158,
          "variable": "FAIR"
         },
         {
          "Year": 1782,
          "value": 0.026809023998066693,
          "variable": "FAIR"
         },
         {
          "Year": 1783,
          "value": -0.4673815279744426,
          "variable": "FAIR"
         },
         {
          "Year": 1784,
          "value": -0.39590148328014485,
          "variable": "FAIR"
         },
         {
          "Year": 1785,
          "value": -0.31368541276601186,
          "variable": "FAIR"
         },
         {
          "Year": 1786,
          "value": -0.2412102204349267,
          "variable": "FAIR"
         },
         {
          "Year": 1787,
          "value": -0.18093315584579625,
          "variable": "FAIR"
         },
         {
          "Year": 1788,
          "value": -0.13870695165585423,
          "variable": "FAIR"
         },
         {
          "Year": 1789,
          "value": -0.10589474465159922,
          "variable": "FAIR"
         },
         {
          "Year": 1790,
          "value": -0.08041275860629343,
          "variable": "FAIR"
         },
         {
          "Year": 1791,
          "value": -0.059729465002539395,
          "variable": "FAIR"
         },
         {
          "Year": 1792,
          "value": -0.04296574925744332,
          "variable": "FAIR"
         },
         {
          "Year": 1793,
          "value": -0.031049290368038863,
          "variable": "FAIR"
         },
         {
          "Year": 1794,
          "value": -0.031411006012709373,
          "variable": "FAIR"
         },
         {
          "Year": 1795,
          "value": -0.018486151541795226,
          "variable": "FAIR"
         },
         {
          "Year": 1796,
          "value": -0.05777373259604311,
          "variable": "FAIR"
         },
         {
          "Year": 1797,
          "value": -0.04506106419303892,
          "variable": "FAIR"
         },
         {
          "Year": 1798,
          "value": -0.031777721791808766,
          "variable": "FAIR"
         },
         {
          "Year": 1799,
          "value": -0.020602372112138913,
          "variable": "FAIR"
         },
         {
          "Year": 1800,
          "value": -0.012367596042862538,
          "variable": "FAIR"
         },
         {
          "Year": 1801,
          "value": -0.01240793309549049,
          "variable": "FAIR"
         },
         {
          "Year": 1802,
          "value": -0.0047369848086844055,
          "variable": "FAIR"
         },
         {
          "Year": 1803,
          "value": 0.0016052481847335072,
          "variable": "FAIR"
         },
         {
          "Year": 1804,
          "value": -0.007711538136873603,
          "variable": "FAIR"
         },
         {
          "Year": 1805,
          "value": -0.005442517943411778,
          "variable": "FAIR"
         },
         {
          "Year": 1806,
          "value": 0.0007158219121761187,
          "variable": "FAIR"
         },
         {
          "Year": 1807,
          "value": 0.004600170719369283,
          "variable": "FAIR"
         },
         {
          "Year": 1808,
          "value": 0.0071366996294354714,
          "variable": "FAIR"
         },
         {
          "Year": 1809,
          "value": -0.4261008157968298,
          "variable": "FAIR"
         },
         {
          "Year": 1810,
          "value": -0.4732089478239319,
          "variable": "FAIR"
         },
         {
          "Year": 1811,
          "value": -0.42180308916777937,
          "variable": "FAIR"
         },
         {
          "Year": 1812,
          "value": -0.3484994392000069,
          "variable": "FAIR"
         },
         {
          "Year": 1813,
          "value": -0.27826855204151085,
          "variable": "FAIR"
         },
         {
          "Year": 1814,
          "value": -0.21585760605355767,
          "variable": "FAIR"
         },
         {
          "Year": 1815,
          "value": -0.8953579643706454,
          "variable": "FAIR"
         },
         {
          "Year": 1816,
          "value": -0.9857370097497197,
          "variable": "FAIR"
         },
         {
          "Year": 1817,
          "value": -0.923275830107733,
          "variable": "FAIR"
         },
         {
          "Year": 1818,
          "value": -0.7808998373256684,
          "variable": "FAIR"
         },
         {
          "Year": 1819,
          "value": -0.6332534952254815,
          "variable": "FAIR"
         },
         {
          "Year": 1820,
          "value": -0.499258952530642,
          "variable": "FAIR"
         },
         {
          "Year": 1821,
          "value": -0.3922157910403927,
          "variable": "FAIR"
         },
         {
          "Year": 1822,
          "value": -0.30827053895824735,
          "variable": "FAIR"
         },
         {
          "Year": 1823,
          "value": -0.24251037269097175,
          "variable": "FAIR"
         },
         {
          "Year": 1824,
          "value": -0.19000106320062318,
          "variable": "FAIR"
         },
         {
          "Year": 1825,
          "value": -0.14805008756730254,
          "variable": "FAIR"
         },
         {
          "Year": 1826,
          "value": -0.11427710083616739,
          "variable": "FAIR"
         },
         {
          "Year": 1827,
          "value": -0.08527799527021396,
          "variable": "FAIR"
         },
         {
          "Year": 1828,
          "value": -0.06145772726030399,
          "variable": "FAIR"
         },
         {
          "Year": 1829,
          "value": -0.042414540996054226,
          "variable": "FAIR"
         },
         {
          "Year": 1830,
          "value": -0.026566840256544433,
          "variable": "FAIR"
         },
         {
          "Year": 1831,
          "value": -0.11031831649807321,
          "variable": "FAIR"
         },
         {
          "Year": 1832,
          "value": -0.1586807970121226,
          "variable": "FAIR"
         },
         {
          "Year": 1833,
          "value": -0.15888433186595924,
          "variable": "FAIR"
         },
         {
          "Year": 1834,
          "value": -0.1353046035633279,
          "variable": "FAIR"
         },
         {
          "Year": 1835,
          "value": -0.41148981582949995,
          "variable": "FAIR"
         },
         {
          "Year": 1836,
          "value": -0.4054894457663605,
          "variable": "FAIR"
         },
         {
          "Year": 1837,
          "value": -0.3396493741242902,
          "variable": "FAIR"
         },
         {
          "Year": 1838,
          "value": -0.2675470340495245,
          "variable": "FAIR"
         },
         {
          "Year": 1839,
          "value": -0.20521531846733218,
          "variable": "FAIR"
         },
         {
          "Year": 1840,
          "value": -0.1548493595357578,
          "variable": "FAIR"
         },
         {
          "Year": 1841,
          "value": -0.11481265391027426,
          "variable": "FAIR"
         },
         {
          "Year": 1842,
          "value": -0.08372757098095625,
          "variable": "FAIR"
         },
         {
          "Year": 1843,
          "value": -0.06280374563112996,
          "variable": "FAIR"
         },
         {
          "Year": 1844,
          "value": -0.04476081979209465,
          "variable": "FAIR"
         },
         {
          "Year": 1845,
          "value": -0.029848933739870877,
          "variable": "FAIR"
         },
         {
          "Year": 1846,
          "value": -0.021981683322374854,
          "variable": "FAIR"
         },
         {
          "Year": 1847,
          "value": -0.01581413184529993,
          "variable": "FAIR"
         },
         {
          "Year": 1848,
          "value": -0.005813205402638445,
          "variable": "FAIR"
         },
         {
          "Year": 1849,
          "value": 0.008056999285203224,
          "variable": "FAIR"
         },
         {
          "Year": 1850,
          "value": 0.017275401705622015,
          "variable": "FAIR"
         },
         {
          "Year": 1851,
          "value": 0.023811233055713837,
          "variable": "FAIR"
         },
         {
          "Year": 1852,
          "value": 0.02533351339538386,
          "variable": "FAIR"
         },
         {
          "Year": 1853,
          "value": 0.029399639157883038,
          "variable": "FAIR"
         },
         {
          "Year": 1854,
          "value": 0.03136598390819651,
          "variable": "FAIR"
         },
         {
          "Year": 1855,
          "value": 0.03211602957551046,
          "variable": "FAIR"
         },
         {
          "Year": 1856,
          "value": 0.03267243681754452,
          "variable": "FAIR"
         },
         {
          "Year": 1857,
          "value": 0.03416359086370847,
          "variable": "FAIR"
         },
         {
          "Year": 1858,
          "value": 0.03772834015714864,
          "variable": "FAIR"
         },
         {
          "Year": 1859,
          "value": 0.042559263417823914,
          "variable": "FAIR"
         },
         {
          "Year": 1860,
          "value": 0.04795590376063235,
          "variable": "FAIR"
         },
         {
          "Year": 1861,
          "value": 0.0208968611527341,
          "variable": "FAIR"
         },
         {
          "Year": 1862,
          "value": -0.010742940985266406,
          "variable": "FAIR"
         },
         {
          "Year": 1863,
          "value": -0.01021861761061097,
          "variable": "FAIR"
         },
         {
          "Year": 1864,
          "value": 0.0006835059452428988,
          "variable": "FAIR"
         },
         {
          "Year": 1865,
          "value": 0.012174134716270157,
          "variable": "FAIR"
         },
         {
          "Year": 1866,
          "value": 0.021109948830825766,
          "variable": "FAIR"
         },
         {
          "Year": 1867,
          "value": 0.02781487852851473,
          "variable": "FAIR"
         },
         {
          "Year": 1868,
          "value": 0.03453695686279974,
          "variable": "FAIR"
         },
         {
          "Year": 1869,
          "value": 0.04227395902153884,
          "variable": "FAIR"
         },
         {
          "Year": 1870,
          "value": 0.04877996523975826,
          "variable": "FAIR"
         },
         {
          "Year": 1871,
          "value": 0.0553785344273469,
          "variable": "FAIR"
         },
         {
          "Year": 1872,
          "value": 0.05970703336377922,
          "variable": "FAIR"
         },
         {
          "Year": 1873,
          "value": 0.056472291232564774,
          "variable": "FAIR"
         },
         {
          "Year": 1874,
          "value": 0.0589059700350866,
          "variable": "FAIR"
         },
         {
          "Year": 1875,
          "value": 0.059485161796773135,
          "variable": "FAIR"
         },
         {
          "Year": 1876,
          "value": 0.059325056380853045,
          "variable": "FAIR"
         },
         {
          "Year": 1877,
          "value": 0.05889324306443343,
          "variable": "FAIR"
         },
         {
          "Year": 1878,
          "value": 0.05810087264138772,
          "variable": "FAIR"
         },
         {
          "Year": 1879,
          "value": 0.05779292044046298,
          "variable": "FAIR"
         },
         {
          "Year": 1880,
          "value": 0.057571107456811876,
          "variable": "FAIR"
         },
         {
          "Year": 1881,
          "value": 0.06005714518461301,
          "variable": "FAIR"
         },
         {
          "Year": 1882,
          "value": 0.0637411551520291,
          "variable": "FAIR"
         },
         {
          "Year": 1883,
          "value": 0.027144962896952212,
          "variable": "FAIR"
         },
         {
          "Year": 1884,
          "value": -0.09933659773929487,
          "variable": "FAIR"
         },
         {
          "Year": 1885,
          "value": -0.11473344294923511,
          "variable": "FAIR"
         },
         {
          "Year": 1886,
          "value": -0.08471540453512272,
          "variable": "FAIR"
         },
         {
          "Year": 1887,
          "value": -0.06930553150911976,
          "variable": "FAIR"
         },
         {
          "Year": 1888,
          "value": -0.04365286433439475,
          "variable": "FAIR"
         },
         {
          "Year": 1889,
          "value": -0.020176468134449427,
          "variable": "FAIR"
         },
         {
          "Year": 1890,
          "value": -0.01055032908164934,
          "variable": "FAIR"
         },
         {
          "Year": 1891,
          "value": -0.007475179291325783,
          "variable": "FAIR"
         },
         {
          "Year": 1892,
          "value": 0.00841241538039951,
          "variable": "FAIR"
         },
         {
          "Year": 1893,
          "value": 0.02969450327641181,
          "variable": "FAIR"
         },
         {
          "Year": 1894,
          "value": 0.04931105069974063,
          "variable": "FAIR"
         },
         {
          "Year": 1895,
          "value": 0.06252858167002515,
          "variable": "FAIR"
         },
         {
          "Year": 1896,
          "value": 0.06987309675471316,
          "variable": "FAIR"
         },
         {
          "Year": 1897,
          "value": 0.07382599376293537,
          "variable": "FAIR"
         },
         {
          "Year": 1898,
          "value": 0.0761906606447552,
          "variable": "FAIR"
         },
         {
          "Year": 1899,
          "value": 0.07717467315053744,
          "variable": "FAIR"
         },
         {
          "Year": 1900,
          "value": 0.0775805201405333,
          "variable": "FAIR"
         },
         {
          "Year": 1901,
          "value": 0.0770319982044544,
          "variable": "FAIR"
         },
         {
          "Year": 1902,
          "value": 0.05771857266645271,
          "variable": "FAIR"
         },
         {
          "Year": 1903,
          "value": -0.011849581463798997,
          "variable": "FAIR"
         },
         {
          "Year": 1904,
          "value": -0.023364638969901173,
          "variable": "FAIR"
         },
         {
          "Year": 1905,
          "value": -0.005149482805243702,
          "variable": "FAIR"
         },
         {
          "Year": 1906,
          "value": 0.02025234144180951,
          "variable": "FAIR"
         },
         {
          "Year": 1907,
          "value": 0.03643767067435524,
          "variable": "FAIR"
         },
         {
          "Year": 1908,
          "value": 0.05307276017590844,
          "variable": "FAIR"
         },
         {
          "Year": 1909,
          "value": 0.06583783955410275,
          "variable": "FAIR"
         },
         {
          "Year": 1910,
          "value": 0.07482416786397941,
          "variable": "FAIR"
         },
         {
          "Year": 1911,
          "value": 0.08048201892829913,
          "variable": "FAIR"
         },
         {
          "Year": 1912,
          "value": 0.037050727126738785,
          "variable": "FAIR"
         },
         {
          "Year": 1913,
          "value": 0.013210794533689832,
          "variable": "FAIR"
         },
         {
          "Year": 1914,
          "value": 0.021586054061785667,
          "variable": "FAIR"
         },
         {
          "Year": 1915,
          "value": 0.046267149646625365,
          "variable": "FAIR"
         },
         {
          "Year": 1916,
          "value": 0.07239220564493881,
          "variable": "FAIR"
         },
         {
          "Year": 1917,
          "value": 0.0964310656527012,
          "variable": "FAIR"
         },
         {
          "Year": 1918,
          "value": 0.11676092395603148,
          "variable": "FAIR"
         },
         {
          "Year": 1919,
          "value": 0.12947593022499085,
          "variable": "FAIR"
         },
         {
          "Year": 1920,
          "value": 0.13664358927112846,
          "variable": "FAIR"
         },
         {
          "Year": 1921,
          "value": 0.1401937211297418,
          "variable": "FAIR"
         },
         {
          "Year": 1922,
          "value": 0.13753032525247016,
          "variable": "FAIR"
         },
         {
          "Year": 1923,
          "value": 0.1373875997344846,
          "variable": "FAIR"
         },
         {
          "Year": 1924,
          "value": 0.14106162402683667,
          "variable": "FAIR"
         },
         {
          "Year": 1925,
          "value": 0.14733573372769726,
          "variable": "FAIR"
         },
         {
          "Year": 1926,
          "value": 0.1564136351524494,
          "variable": "FAIR"
         },
         {
          "Year": 1927,
          "value": 0.16713182356637118,
          "variable": "FAIR"
         },
         {
          "Year": 1928,
          "value": 0.17289886973125496,
          "variable": "FAIR"
         },
         {
          "Year": 1929,
          "value": 0.17301556423471262,
          "variable": "FAIR"
         },
         {
          "Year": 1930,
          "value": 0.1791763432013271,
          "variable": "FAIR"
         },
         {
          "Year": 1931,
          "value": 0.18181691199957065,
          "variable": "FAIR"
         },
         {
          "Year": 1932,
          "value": 0.17725372892693664,
          "variable": "FAIR"
         },
         {
          "Year": 1933,
          "value": 0.17756615507832121,
          "variable": "FAIR"
         },
         {
          "Year": 1934,
          "value": 0.1805420422102841,
          "variable": "FAIR"
         },
         {
          "Year": 1935,
          "value": 0.18681959707022577,
          "variable": "FAIR"
         },
         {
          "Year": 1936,
          "value": 0.19957048589034818,
          "variable": "FAIR"
         },
         {
          "Year": 1937,
          "value": 0.21069027412509506,
          "variable": "FAIR"
         },
         {
          "Year": 1938,
          "value": 0.21872405761563637,
          "variable": "FAIR"
         },
         {
          "Year": 1939,
          "value": 0.22534289505631427,
          "variable": "FAIR"
         },
         {
          "Year": 1940,
          "value": 0.2288799217099415,
          "variable": "FAIR"
         },
         {
          "Year": 1941,
          "value": 0.2306131467146384,
          "variable": "FAIR"
         },
         {
          "Year": 1942,
          "value": 0.23057492554022996,
          "variable": "FAIR"
         },
         {
          "Year": 1943,
          "value": 0.22914628359304184,
          "variable": "FAIR"
         },
         {
          "Year": 1944,
          "value": 0.2296161327891918,
          "variable": "FAIR"
         },
         {
          "Year": 1945,
          "value": 0.2351258112719096,
          "variable": "FAIR"
         },
         {
          "Year": 1946,
          "value": 0.24242406312825804,
          "variable": "FAIR"
         },
         {
          "Year": 1947,
          "value": 0.2549141085543848,
          "variable": "FAIR"
         },
         {
          "Year": 1948,
          "value": 0.2677979070202285,
          "variable": "FAIR"
         },
         {
          "Year": 1949,
          "value": 0.27708742977255557,
          "variable": "FAIR"
         },
         {
          "Year": 1950,
          "value": 0.28154537317817974,
          "variable": "FAIR"
         },
         {
          "Year": 1951,
          "value": 0.2798660236587981,
          "variable": "FAIR"
         },
         {
          "Year": 1952,
          "value": 0.27862849532177686,
          "variable": "FAIR"
         },
         {
          "Year": 1953,
          "value": 0.2764223526657951,
          "variable": "FAIR"
         },
         {
          "Year": 1954,
          "value": 0.2751120924624984,
          "variable": "FAIR"
         },
         {
          "Year": 1955,
          "value": 0.27801442873200133,
          "variable": "FAIR"
         },
         {
          "Year": 1956,
          "value": 0.28839974909218336,
          "variable": "FAIR"
         },
         {
          "Year": 1957,
          "value": 0.3042701377432247,
          "variable": "FAIR"
         },
         {
          "Year": 1958,
          "value": 0.31846881533622445,
          "variable": "FAIR"
         },
         {
          "Year": 1959,
          "value": 0.3265754757883484,
          "variable": "FAIR"
         },
         {
          "Year": 1960,
          "value": 0.33116501512070146,
          "variable": "FAIR"
         },
         {
          "Year": 1961,
          "value": 0.32953759907499897,
          "variable": "FAIR"
         },
         {
          "Year": 1962,
          "value": 0.31995616457435344,
          "variable": "FAIR"
         },
         {
          "Year": 1963,
          "value": 0.229365171473656,
          "variable": "FAIR"
         },
         {
          "Year": 1964,
          "value": 0.1809914619088806,
          "variable": "FAIR"
         },
         {
          "Year": 1965,
          "value": 0.17107262238743332,
          "variable": "FAIR"
         },
         {
          "Year": 1966,
          "value": 0.2041506194302709,
          "variable": "FAIR"
         },
         {
          "Year": 1967,
          "value": 0.23141048245004933,
          "variable": "FAIR"
         },
         {
          "Year": 1968,
          "value": 0.25955717143986856,
          "variable": "FAIR"
         },
         {
          "Year": 1969,
          "value": 0.2867644701323593,
          "variable": "FAIR"
         },
         {
          "Year": 1970,
          "value": 0.3104100777888771,
          "variable": "FAIR"
         },
         {
          "Year": 1971,
          "value": 0.3237008242163769,
          "variable": "FAIR"
         },
         {
          "Year": 1972,
          "value": 0.31335734771412177,
          "variable": "FAIR"
         },
         {
          "Year": 1973,
          "value": 0.3365620300131723,
          "variable": "FAIR"
         },
         {
          "Year": 1974,
          "value": 0.34711653887971755,
          "variable": "FAIR"
         },
         {
          "Year": 1975,
          "value": 0.34083303623273337,
          "variable": "FAIR"
         },
         {
          "Year": 1976,
          "value": 0.36019758467780294,
          "variable": "FAIR"
         },
         {
          "Year": 1977,
          "value": 0.389873510297612,
          "variable": "FAIR"
         },
         {
          "Year": 1978,
          "value": 0.42511296703959,
          "variable": "FAIR"
         },
         {
          "Year": 1979,
          "value": 0.461202509300426,
          "variable": "FAIR"
         },
         {
          "Year": 1980,
          "value": 0.4894877524170749,
          "variable": "FAIR"
         },
         {
          "Year": 1981,
          "value": 0.5139103927094429,
          "variable": "FAIR"
         },
         {
          "Year": 1982,
          "value": 0.5035598871598926,
          "variable": "FAIR"
         },
         {
          "Year": 1983,
          "value": 0.46367058396616473,
          "variable": "FAIR"
         },
         {
          "Year": 1984,
          "value": 0.46922063613618703,
          "variable": "FAIR"
         },
         {
          "Year": 1985,
          "value": 0.4943105036670707,
          "variable": "FAIR"
         },
         {
          "Year": 1986,
          "value": 0.5186246805339841,
          "variable": "FAIR"
         },
         {
          "Year": 1987,
          "value": 0.5493942520025769,
          "variable": "FAIR"
         },
         {
          "Year": 1988,
          "value": 0.5878689197986597,
          "variable": "FAIR"
         },
         {
          "Year": 1989,
          "value": 0.6330656772043771,
          "variable": "FAIR"
         },
         {
          "Year": 1990,
          "value": 0.6711668969383143,
          "variable": "FAIR"
         },
         {
          "Year": 1991,
          "value": 0.6409769382372059,
          "variable": "FAIR"
         },
         {
          "Year": 1992,
          "value": 0.5235786784833988,
          "variable": "FAIR"
         },
         {
          "Year": 1993,
          "value": 0.5098519216577546,
          "variable": "FAIR"
         },
         {
          "Year": 1994,
          "value": 0.561509449700629,
          "variable": "FAIR"
         },
         {
          "Year": 1995,
          "value": 0.6188104541617376,
          "variable": "FAIR"
         },
         {
          "Year": 1996,
          "value": 0.6713340408551773,
          "variable": "FAIR"
         },
         {
          "Year": 1997,
          "value": 0.7203631455670478,
          "variable": "FAIR"
         },
         {
          "Year": 1998,
          "value": 0.7691409479865292,
          "variable": "FAIR"
         },
         {
          "Year": 1999,
          "value": 0.8160273992725366,
          "variable": "FAIR"
         },
         {
          "Year": 2000,
          "value": 0.8599351324828205,
          "variable": "FAIR"
         },
         {
          "Year": 2001,
          "value": 0.8955912677176359,
          "variable": "FAIR"
         },
         {
          "Year": 2002,
          "value": 0.9277005815442882,
          "variable": "FAIR"
         },
         {
          "Year": 2003,
          "value": 0.9474410067967811,
          "variable": "FAIR"
         },
         {
          "Year": 2004,
          "value": 0.9634530486202842,
          "variable": "FAIR"
         },
         {
          "Year": 2005,
          "value": 0.9735143273778387,
          "variable": "FAIR"
         },
         {
          "Year": 2006,
          "value": 0.9833742746088752,
          "variable": "FAIR"
         },
         {
          "Year": 2007,
          "value": 0.9948689700373211,
          "variable": "FAIR"
         },
         {
          "Year": 2008,
          "value": 1.009315696811124,
          "variable": "FAIR"
         },
         {
          "Year": 2009,
          "value": 1.0238056706661383,
          "variable": "FAIR"
         },
         {
          "Year": 2010,
          "value": 1.046310264214147,
          "variable": "FAIR"
         },
         {
          "Year": 2011,
          "value": 1.0700986658830678,
          "variable": "FAIR"
         },
         {
          "Year": 2012,
          "value": 1.0987543644376176,
          "variable": "FAIR"
         },
         {
          "Year": 2013,
          "value": 1.128871518637771,
          "variable": "FAIR"
         },
         {
          "Year": 2014,
          "value": 1.1571445314177642,
          "variable": "FAIR"
         },
         {
          "Year": 2015,
          "value": 1.1745981954837053,
          "variable": "FAIR"
         },
         {
          "Year": 2016,
          "value": 1.18942903644716,
          "variable": "FAIR"
         },
         {
          "Year": 2017,
          "value": 1.2056204890848703,
          "variable": "FAIR"
         },
         {
          "Year": 2018,
          "value": 1.2237135090303106,
          "variable": "FAIR"
         },
         {
          "Year": 2019,
          "value": 1.2438281066874257,
          "variable": "FAIR"
         },
         {
          "Year": 2020,
          "value": 1.2663664479218768,
          "variable": "FAIR"
         },
         {
          "Year": 2021,
          "value": 1.2948535786878972,
          "variable": "FAIR"
         },
         {
          "Year": 2022,
          "value": 1.3284949276486895,
          "variable": "FAIR"
         },
         {
          "Year": 2023,
          "value": 1.3641675997002276,
          "variable": "FAIR"
         },
         {
          "Year": 2024,
          "value": 1.3998406966741765,
          "variable": "FAIR"
         },
         {
          "Year": 2025,
          "value": 1.4317152473957622,
          "variable": "FAIR"
         },
         {
          "Year": 2026,
          "value": 1.4602815784642174,
          "variable": "FAIR"
         },
         {
          "Year": 2027,
          "value": 1.4863114698430742,
          "variable": "FAIR"
         },
         {
          "Year": 2028,
          "value": 1.5122560310835997,
          "variable": "FAIR"
         },
         {
          "Year": 2029,
          "value": 1.537369932118044,
          "variable": "FAIR"
         },
         {
          "Year": 2030,
          "value": 1.5628424874865987,
          "variable": "FAIR"
         },
         {
          "Year": 2031,
          "value": 1.588994768410093,
          "variable": "FAIR"
         },
         {
          "Year": 2032,
          "value": 1.6171621946139472,
          "variable": "FAIR"
         },
         {
          "Year": 2033,
          "value": 1.6494791887063374,
          "variable": "FAIR"
         },
         {
          "Year": 2034,
          "value": 1.6871923197494523,
          "variable": "FAIR"
         },
         {
          "Year": 2035,
          "value": 1.7250845677822346,
          "variable": "FAIR"
         },
         {
          "Year": 2036,
          "value": 1.7648225687974053,
          "variable": "FAIR"
         },
         {
          "Year": 2037,
          "value": 1.8017185156810627,
          "variable": "FAIR"
         },
         {
          "Year": 2038,
          "value": 1.838677669944837,
          "variable": "FAIR"
         },
         {
          "Year": 2039,
          "value": 1.872737352051126,
          "variable": "FAIR"
         },
         {
          "Year": 2040,
          "value": 1.9047403349770229,
          "variable": "FAIR"
         },
         {
          "Year": 2041,
          "value": 1.9354238135635482,
          "variable": "FAIR"
         },
         {
          "Year": 2042,
          "value": 1.9669701809279856,
          "variable": "FAIR"
         },
         {
          "Year": 2043,
          "value": 2.0003119809330805,
          "variable": "FAIR"
         },
         {
          "Year": 2044,
          "value": 2.036359656141244,
          "variable": "FAIR"
         },
         {
          "Year": 2045,
          "value": 2.0775598070237864,
          "variable": "FAIR"
         },
         {
          "Year": 2046,
          "value": 2.121504288432837,
          "variable": "FAIR"
         },
         {
          "Year": 2047,
          "value": 2.1680454758526695,
          "variable": "FAIR"
         },
         {
          "Year": 2048,
          "value": 2.213733916526609,
          "variable": "FAIR"
         },
         {
          "Year": 2049,
          "value": 2.2556491669641683,
          "variable": "FAIR"
         },
         {
          "Year": 2050,
          "value": 2.2932846748518765,
          "variable": "FAIR"
         },
         {
          "Year": 2051,
          "value": 2.32947071717845,
          "variable": "FAIR"
         },
         {
          "Year": 2052,
          "value": 2.3647188611799863,
          "variable": "FAIR"
         },
         {
          "Year": 2053,
          "value": 2.3998013313463034,
          "variable": "FAIR"
         },
         {
          "Year": 2054,
          "value": 2.43672262852091,
          "variable": "FAIR"
         },
         {
          "Year": 2055,
          "value": 2.477172855982049,
          "variable": "FAIR"
         },
         {
          "Year": 2056,
          "value": 2.5210851262606733,
          "variable": "FAIR"
         },
         {
          "Year": 2057,
          "value": 2.5646534875437768,
          "variable": "FAIR"
         },
         {
          "Year": 2058,
          "value": 2.6084693753908086,
          "variable": "FAIR"
         },
         {
          "Year": 2059,
          "value": 2.6523410048412774,
          "variable": "FAIR"
         },
         {
          "Year": 2060,
          "value": 2.693316121010458,
          "variable": "FAIR"
         },
         {
          "Year": 2061,
          "value": 2.732299310306975,
          "variable": "FAIR"
         },
         {
          "Year": 2062,
          "value": 2.7700843648668774,
          "variable": "FAIR"
         },
         {
          "Year": 2063,
          "value": 2.808110065892435,
          "variable": "FAIR"
         },
         {
          "Year": 2064,
          "value": 2.846714853643651,
          "variable": "FAIR"
         },
         {
          "Year": 2065,
          "value": 2.886787202213956,
          "variable": "FAIR"
         },
         {
          "Year": 2066,
          "value": 2.9307235439526096,
          "variable": "FAIR"
         },
         {
          "Year": 2067,
          "value": 2.977332849519156,
          "variable": "FAIR"
         },
         {
          "Year": 2068,
          "value": 3.024689376410992,
          "variable": "FAIR"
         },
         {
          "Year": 2069,
          "value": 3.0701290901085176,
          "variable": "FAIR"
         },
         {
          "Year": 2070,
          "value": 3.1128447870034752,
          "variable": "FAIR"
         },
         {
          "Year": 2071,
          "value": 3.1524840363681452,
          "variable": "FAIR"
         },
         {
          "Year": 2072,
          "value": 3.191122289983171,
          "variable": "FAIR"
         },
         {
          "Year": 2073,
          "value": 3.2293229768011487,
          "variable": "FAIR"
         },
         {
          "Year": 2074,
          "value": 3.266707155708333,
          "variable": "FAIR"
         },
         {
          "Year": 2075,
          "value": 3.3042965962742534,
          "variable": "FAIR"
         },
         {
          "Year": 2076,
          "value": 3.3420267247406374,
          "variable": "FAIR"
         },
         {
          "Year": 2077,
          "value": 3.3812621785299615,
          "variable": "FAIR"
         },
         {
          "Year": 2078,
          "value": 3.4231201519403753,
          "variable": "FAIR"
         },
         {
          "Year": 2079,
          "value": 3.467213828998504,
          "variable": "FAIR"
         },
         {
          "Year": 2080,
          "value": 3.5123558992526474,
          "variable": "FAIR"
         },
         {
          "Year": 2081,
          "value": 3.557036882259504,
          "variable": "FAIR"
         },
         {
          "Year": 2082,
          "value": 3.6011091988103,
          "variable": "FAIR"
         },
         {
          "Year": 2083,
          "value": 3.643028606146019,
          "variable": "FAIR"
         },
         {
          "Year": 2084,
          "value": 3.684166644103886,
          "variable": "FAIR"
         },
         {
          "Year": 2085,
          "value": 3.7228796112165483,
          "variable": "FAIR"
         },
         {
          "Year": 2086,
          "value": 3.7608744671429717,
          "variable": "FAIR"
         },
         {
          "Year": 2087,
          "value": 3.799654468075113,
          "variable": "FAIR"
         },
         {
          "Year": 2088,
          "value": 3.8393759324230583,
          "variable": "FAIR"
         },
         {
          "Year": 2089,
          "value": 3.8817003841801667,
          "variable": "FAIR"
         },
         {
          "Year": 2090,
          "value": 3.927433110651901,
          "variable": "FAIR"
         },
         {
          "Year": 2091,
          "value": 3.974659081009511,
          "variable": "FAIR"
         },
         {
          "Year": 2092,
          "value": 4.023795799534681,
          "variable": "FAIR"
         },
         {
          "Year": 2093,
          "value": 4.069728560593064,
          "variable": "FAIR"
         },
         {
          "Year": 2094,
          "value": 4.111704129160028,
          "variable": "FAIR"
         },
         {
          "Year": 2095,
          "value": 4.151077824512331,
          "variable": "FAIR"
         },
         {
          "Year": 2096,
          "value": 4.1879542807137895,
          "variable": "FAIR"
         },
         {
          "Year": 2097,
          "value": 4.224548615584207,
          "variable": "FAIR"
         },
         {
          "Year": 2098,
          "value": 4.260917190024994,
          "variable": "FAIR"
         },
         {
          "Year": 2099,
          "value": 4.2990619628913045,
          "variable": "FAIR"
         },
         {
          "Year": 2100,
          "value": 4.340070811786901,
          "variable": "FAIR"
         },
         {
          "Year": 2101,
          "value": 4.383670515898828,
          "variable": "FAIR"
         },
         {
          "Year": 2102,
          "value": 4.425868612924217,
          "variable": "FAIR"
         },
         {
          "Year": 2103,
          "value": 4.466882286456121,
          "variable": "FAIR"
         },
         {
          "Year": 2104,
          "value": 4.505726826146757,
          "variable": "FAIR"
         },
         {
          "Year": 2105,
          "value": 4.541501634535953,
          "variable": "FAIR"
         },
         {
          "Year": 2106,
          "value": 4.575944377376394,
          "variable": "FAIR"
         },
         {
          "Year": 2107,
          "value": 4.609554652754745,
          "variable": "FAIR"
         },
         {
          "Year": 2108,
          "value": 4.643562686032893,
          "variable": "FAIR"
         },
         {
          "Year": 2109,
          "value": 4.678751521856015,
          "variable": "FAIR"
         },
         {
          "Year": 2110,
          "value": 4.716599458227829,
          "variable": "FAIR"
         },
         {
          "Year": 2111,
          "value": 4.759289499931999,
          "variable": "FAIR"
         },
         {
          "Year": 2112,
          "value": 4.800612426476257,
          "variable": "FAIR"
         },
         {
          "Year": 2113,
          "value": 4.840898008623933,
          "variable": "FAIR"
         },
         {
          "Year": 2114,
          "value": 4.8770006587458195,
          "variable": "FAIR"
         },
         {
          "Year": 2115,
          "value": 4.91188882450948,
          "variable": "FAIR"
         },
         {
          "Year": 2116,
          "value": 4.944067490703073,
          "variable": "FAIR"
         },
         {
          "Year": 2117,
          "value": 4.9753662495298,
          "variable": "FAIR"
         },
         {
          "Year": 2118,
          "value": 5.006394160985974,
          "variable": "FAIR"
         },
         {
          "Year": 2119,
          "value": 5.038077655755014,
          "variable": "FAIR"
         },
         {
          "Year": 2120,
          "value": 5.07267453595763,
          "variable": "FAIR"
         },
         {
          "Year": 2121,
          "value": 5.110893054775109,
          "variable": "FAIR"
         },
         {
          "Year": 2122,
          "value": 5.152144667969225,
          "variable": "FAIR"
         },
         {
          "Year": 2123,
          "value": 5.189392936545358,
          "variable": "FAIR"
         },
         {
          "Year": 2124,
          "value": 5.226398914284394,
          "variable": "FAIR"
         },
         {
          "Year": 2125,
          "value": 5.259292038081219,
          "variable": "FAIR"
         },
         {
          "Year": 2126,
          "value": 5.289237094787971,
          "variable": "FAIR"
         },
         {
          "Year": 2127,
          "value": 5.31841153271246,
          "variable": "FAIR"
         },
         {
          "Year": 2128,
          "value": 5.34714822572476,
          "variable": "FAIR"
         },
         {
          "Year": 2129,
          "value": 5.377021936604471,
          "variable": "FAIR"
         },
         {
          "Year": 2130,
          "value": 5.4099125173160125,
          "variable": "FAIR"
         },
         {
          "Year": 2131,
          "value": 5.449057391388913,
          "variable": "FAIR"
         },
         {
          "Year": 2132,
          "value": 5.4877548672379195,
          "variable": "FAIR"
         },
         {
          "Year": 2133,
          "value": 5.5263127991806344,
          "variable": "FAIR"
         },
         {
          "Year": 2134,
          "value": 5.561357432795877,
          "variable": "FAIR"
         },
         {
          "Year": 2135,
          "value": 5.592560974529701,
          "variable": "FAIR"
         },
         {
          "Year": 2136,
          "value": 5.620121963537419,
          "variable": "FAIR"
         },
         {
          "Year": 2137,
          "value": 5.647408403408847,
          "variable": "FAIR"
         },
         {
          "Year": 2138,
          "value": 5.674457711772789,
          "variable": "FAIR"
         },
         {
          "Year": 2139,
          "value": 5.701893071010966,
          "variable": "FAIR"
         },
         {
          "Year": 2140,
          "value": 5.730559038362614,
          "variable": "FAIR"
         },
         {
          "Year": 2141,
          "value": 5.762300688813837,
          "variable": "FAIR"
         },
         {
          "Year": 2142,
          "value": 5.7965070023416665,
          "variable": "FAIR"
         },
         {
          "Year": 2143,
          "value": 5.830391809891288,
          "variable": "FAIR"
         },
         {
          "Year": 2144,
          "value": 5.864224167566798,
          "variable": "FAIR"
         },
         {
          "Year": 2145,
          "value": 5.896935634783661,
          "variable": "FAIR"
         },
         {
          "Year": 2146,
          "value": 5.926913751802124,
          "variable": "FAIR"
         },
         {
          "Year": 2147,
          "value": 5.956718628403747,
          "variable": "FAIR"
         },
         {
          "Year": 2148,
          "value": 5.985116350892916,
          "variable": "FAIR"
         },
         {
          "Year": 2149,
          "value": 6.013080815803552,
          "variable": "FAIR"
         },
         {
          "Year": 2150,
          "value": 6.0411144133935215,
          "variable": "FAIR"
         },
         {
          "Year": 2151,
          "value": 6.069573930191616,
          "variable": "FAIR"
         },
         {
          "Year": 2152,
          "value": 6.100488716523814,
          "variable": "FAIR"
         },
         {
          "Year": 2153,
          "value": 6.135349519943292,
          "variable": "FAIR"
         },
         {
          "Year": 2154,
          "value": 6.1722706312407665,
          "variable": "FAIR"
         },
         {
          "Year": 2155,
          "value": 6.207255267403147,
          "variable": "FAIR"
         },
         {
          "Year": 2156,
          "value": 6.240200115354505,
          "variable": "FAIR"
         },
         {
          "Year": 2157,
          "value": 6.270094739188961,
          "variable": "FAIR"
         },
         {
          "Year": 2158,
          "value": 6.2965565513511805,
          "variable": "FAIR"
         },
         {
          "Year": 2159,
          "value": 6.320813758370242,
          "variable": "FAIR"
         },
         {
          "Year": 2160,
          "value": 6.344376029486285,
          "variable": "FAIR"
         },
         {
          "Year": 2161,
          "value": 6.368805639942332,
          "variable": "FAIR"
         },
         {
          "Year": 2162,
          "value": 6.395912729783897,
          "variable": "FAIR"
         },
         {
          "Year": 2163,
          "value": 6.427369526710176,
          "variable": "FAIR"
         },
         {
          "Year": 2164,
          "value": 6.46200346123889,
          "variable": "FAIR"
         },
         {
          "Year": 2165,
          "value": 6.4933996130162415,
          "variable": "FAIR"
         },
         {
          "Year": 2166,
          "value": 6.524165821449163,
          "variable": "FAIR"
         },
         {
          "Year": 2167,
          "value": 6.549644758631182,
          "variable": "FAIR"
         },
         {
          "Year": 2168,
          "value": 6.572047047685869,
          "variable": "FAIR"
         },
         {
          "Year": 2169,
          "value": 6.592833797030936,
          "variable": "FAIR"
         },
         {
          "Year": 2170,
          "value": 6.6132244965125135,
          "variable": "FAIR"
         },
         {
          "Year": 2171,
          "value": 6.634139651909818,
          "variable": "FAIR"
         },
         {
          "Year": 2172,
          "value": 6.656990729847313,
          "variable": "FAIR"
         },
         {
          "Year": 2173,
          "value": 6.683899354124736,
          "variable": "FAIR"
         },
         {
          "Year": 2174,
          "value": 6.712357683955829,
          "variable": "FAIR"
         },
         {
          "Year": 2175,
          "value": 6.7416842633435605,
          "variable": "FAIR"
         },
         {
          "Year": 2176,
          "value": 6.769836722856543,
          "variable": "FAIR"
         },
         {
          "Year": 2177,
          "value": 6.7948436363921765,
          "variable": "FAIR"
         },
         {
          "Year": 2178,
          "value": 6.81651607985675,
          "variable": "FAIR"
         },
         {
          "Year": 2179,
          "value": 6.836582524197324,
          "variable": "FAIR"
         },
         {
          "Year": 2180,
          "value": 6.855184721477324,
          "variable": "FAIR"
         },
         {
          "Year": 2181,
          "value": 6.873369317322064,
          "variable": "FAIR"
         },
         {
          "Year": 2182,
          "value": 6.891282700108426,
          "variable": "FAIR"
         },
         {
          "Year": 2183,
          "value": 6.909562471070264,
          "variable": "FAIR"
         },
         {
          "Year": 2184,
          "value": 6.928950688827722,
          "variable": "FAIR"
         },
         {
          "Year": 2185,
          "value": 6.950436554456937,
          "variable": "FAIR"
         },
         {
          "Year": 2186,
          "value": 6.975886984215188,
          "variable": "FAIR"
         },
         {
          "Year": 2187,
          "value": 7.000953826100645,
          "variable": "FAIR"
         },
         {
          "Year": 2188,
          "value": 7.0262525998487195,
          "variable": "FAIR"
         },
         {
          "Year": 2189,
          "value": 7.05133592988724,
          "variable": "FAIR"
         },
         {
          "Year": 2190,
          "value": 7.072544107427615,
          "variable": "FAIR"
         },
         {
          "Year": 2191,
          "value": 7.090982254162764,
          "variable": "FAIR"
         },
         {
          "Year": 2192,
          "value": 7.108087509999922,
          "variable": "FAIR"
         },
         {
          "Year": 2193,
          "value": 7.125157208983997,
          "variable": "FAIR"
         },
         {
          "Year": 2194,
          "value": 7.142467324369472,
          "variable": "FAIR"
         },
         {
          "Year": 2195,
          "value": 7.161188849208572,
          "variable": "FAIR"
         },
         {
          "Year": 2196,
          "value": 7.183599603683468,
          "variable": "FAIR"
         },
         {
          "Year": 2197,
          "value": 7.209069393353961,
          "variable": "FAIR"
         },
         {
          "Year": 2198,
          "value": 7.235261446765696,
          "variable": "FAIR"
         },
         {
          "Year": 2199,
          "value": 7.258847167943642,
          "variable": "FAIR"
         },
         {
          "Year": 2200,
          "value": 7.2794895540086255,
          "variable": "FAIR"
         },
         {
          "Year": 2201,
          "value": 7.296410976140436,
          "variable": "FAIR"
         },
         {
          "Year": 2202,
          "value": 7.31221274875014,
          "variable": "FAIR"
         },
         {
          "Year": 2203,
          "value": 7.327388529741854,
          "variable": "FAIR"
         },
         {
          "Year": 2204,
          "value": 7.34133052472371,
          "variable": "FAIR"
         },
         {
          "Year": 2205,
          "value": 7.355346926679005,
          "variable": "FAIR"
         },
         {
          "Year": 2206,
          "value": 7.369252384872234,
          "variable": "FAIR"
         },
         {
          "Year": 2207,
          "value": 7.384547035373434,
          "variable": "FAIR"
         },
         {
          "Year": 2208,
          "value": 7.40241958736391,
          "variable": "FAIR"
         },
         {
          "Year": 2209,
          "value": 7.422527227308519,
          "variable": "FAIR"
         },
         {
          "Year": 2210,
          "value": 7.443732735651594,
          "variable": "FAIR"
         },
         {
          "Year": 2211,
          "value": 7.463813177362606,
          "variable": "FAIR"
         },
         {
          "Year": 2212,
          "value": 7.4828147797592734,
          "variable": "FAIR"
         },
         {
          "Year": 2213,
          "value": 7.499259258835897,
          "variable": "FAIR"
         },
         {
          "Year": 2214,
          "value": 7.514438237297007,
          "variable": "FAIR"
         },
         {
          "Year": 2215,
          "value": 7.526842991617388,
          "variable": "FAIR"
         },
         {
          "Year": 2216,
          "value": 7.5382495631248965,
          "variable": "FAIR"
         },
         {
          "Year": 2217,
          "value": 7.550308852350517,
          "variable": "FAIR"
         },
         {
          "Year": 2218,
          "value": 7.56327741923225,
          "variable": "FAIR"
         },
         {
          "Year": 2219,
          "value": 7.578841154790603,
          "variable": "FAIR"
         },
         {
          "Year": 2220,
          "value": 7.597629989872129,
          "variable": "FAIR"
         },
         {
          "Year": 2221,
          "value": 7.618038534134568,
          "variable": "FAIR"
         },
         {
          "Year": 2222,
          "value": 7.6408657243295925,
          "variable": "FAIR"
         },
         {
          "Year": 2223,
          "value": 7.660268385882976,
          "variable": "FAIR"
         },
         {
          "Year": 2224,
          "value": 7.675753380035022,
          "variable": "FAIR"
         },
         {
          "Year": 2225,
          "value": 7.688507637113714,
          "variable": "FAIR"
         },
         {
          "Year": 2226,
          "value": 7.698514627498797,
          "variable": "FAIR"
         },
         {
          "Year": 2227,
          "value": 7.708533943092666,
          "variable": "FAIR"
         },
         {
          "Year": 2228,
          "value": 7.718057205330993,
          "variable": "FAIR"
         },
         {
          "Year": 2229,
          "value": 7.729656548233418,
          "variable": "FAIR"
         },
         {
          "Year": 2230,
          "value": 7.744659965801274,
          "variable": "FAIR"
         },
         {
          "Year": 2231,
          "value": 7.761299339271748,
          "variable": "FAIR"
         },
         {
          "Year": 2232,
          "value": 7.777606309171018,
          "variable": "FAIR"
         },
         {
          "Year": 2233,
          "value": 7.794303435137687,
          "variable": "FAIR"
         },
         {
          "Year": 2234,
          "value": 7.808623848649866,
          "variable": "FAIR"
         },
         {
          "Year": 2235,
          "value": 7.8211807347393325,
          "variable": "FAIR"
         },
         {
          "Year": 2236,
          "value": 7.830731445197603,
          "variable": "FAIR"
         },
         {
          "Year": 2237,
          "value": 7.839629662887217,
          "variable": "FAIR"
         },
         {
          "Year": 2238,
          "value": 7.848399031206446,
          "variable": "FAIR"
         },
         {
          "Year": 2239,
          "value": 7.85793087236125,
          "variable": "FAIR"
         },
         {
          "Year": 2240,
          "value": 7.869415814797891,
          "variable": "FAIR"
         },
         {
          "Year": 2241,
          "value": 7.8846769349616945,
          "variable": "FAIR"
         },
         {
          "Year": 2242,
          "value": 7.9024663466495415,
          "variable": "FAIR"
         },
         {
          "Year": 2243,
          "value": 7.919165613452238,
          "variable": "FAIR"
         },
         {
          "Year": 2244,
          "value": 7.934166809127591,
          "variable": "FAIR"
         },
         {
          "Year": 2245,
          "value": 7.94567038531358,
          "variable": "FAIR"
         },
         {
          "Year": 2246,
          "value": 7.9543631928201695,
          "variable": "FAIR"
         },
         {
          "Year": 2247,
          "value": 7.962241316286898,
          "variable": "FAIR"
         },
         {
          "Year": 2248,
          "value": 7.96883551634061,
          "variable": "FAIR"
         },
         {
          "Year": 2249,
          "value": 7.975065157855015,
          "variable": "FAIR"
         },
         {
          "Year": 2250,
          "value": 7.981261571154098,
          "variable": "FAIR"
         },
         {
          "Year": 2251,
          "value": 7.988131402991836,
          "variable": "FAIR"
         },
         {
          "Year": 2252,
          "value": 7.996849835206369,
          "variable": "FAIR"
         },
         {
          "Year": 2253,
          "value": 8.008361547391543,
          "variable": "FAIR"
         },
         {
          "Year": 2254,
          "value": 8.022421254387869,
          "variable": "FAIR"
         },
         {
          "Year": 2255,
          "value": 8.036007293282987,
          "variable": "FAIR"
         },
         {
          "Year": 2256,
          "value": 8.04953317097618,
          "variable": "FAIR"
         },
         {
          "Year": 2257,
          "value": 8.061655442430373,
          "variable": "FAIR"
         },
         {
          "Year": 2258,
          "value": 8.071295891858421,
          "variable": "FAIR"
         },
         {
          "Year": 2259,
          "value": 8.079627866477898,
          "variable": "FAIR"
         },
         {
          "Year": 2260,
          "value": 8.085563987442097,
          "variable": "FAIR"
         },
         {
          "Year": 2261,
          "value": 8.0909863978331,
          "variable": "FAIR"
         },
         {
          "Year": 2262,
          "value": 8.097349353847328,
          "variable": "FAIR"
         },
         {
          "Year": 2263,
          "value": 8.104868691667358,
          "variable": "FAIR"
         },
         {
          "Year": 2264,
          "value": 8.115401051134231,
          "variable": "FAIR"
         },
         {
          "Year": 2265,
          "value": 8.129379427226194,
          "variable": "FAIR"
         },
         {
          "Year": 2266,
          "value": 8.145158913281062,
          "variable": "FAIR"
         },
         {
          "Year": 2267,
          "value": 8.162130247084374,
          "variable": "FAIR"
         },
         {
          "Year": 2268,
          "value": 8.17464883151984,
          "variable": "FAIR"
         },
         {
          "Year": 2269,
          "value": 8.184253008695233,
          "variable": "FAIR"
         },
         {
          "Year": 2270,
          "value": 8.190846938172523,
          "variable": "FAIR"
         },
         {
          "Year": 2271,
          "value": 8.196228868680425,
          "variable": "FAIR"
         },
         {
          "Year": 2272,
          "value": 8.200711473265965,
          "variable": "FAIR"
         },
         {
          "Year": 2273,
          "value": 8.206148774166415,
          "variable": "FAIR"
         },
         {
          "Year": 2274,
          "value": 8.214347003326955,
          "variable": "FAIR"
         },
         {
          "Year": 2275,
          "value": 8.225647140318088,
          "variable": "FAIR"
         },
         {
          "Year": 2276,
          "value": 8.238559708704623,
          "variable": "FAIR"
         },
         {
          "Year": 2277,
          "value": 8.25055171101975,
          "variable": "FAIR"
         },
         {
          "Year": 2278,
          "value": 8.26147985717983,
          "variable": "FAIR"
         },
         {
          "Year": 2279,
          "value": 8.270347205377846,
          "variable": "FAIR"
         },
         {
          "Year": 2280,
          "value": 8.276345496618394,
          "variable": "FAIR"
         },
         {
          "Year": 2281,
          "value": 8.281453620627925,
          "variable": "FAIR"
         },
         {
          "Year": 2282,
          "value": 8.286762612657295,
          "variable": "FAIR"
         },
         {
          "Year": 2283,
          "value": 8.292492283388086,
          "variable": "FAIR"
         },
         {
          "Year": 2284,
          "value": 8.300271800172379,
          "variable": "FAIR"
         },
         {
          "Year": 2285,
          "value": 8.311741038145161,
          "variable": "FAIR"
         },
         {
          "Year": 2286,
          "value": 8.326325792240764,
          "variable": "FAIR"
         },
         {
          "Year": 2287,
          "value": 8.34086016488026,
          "variable": "FAIR"
         },
         {
          "Year": 2288,
          "value": 8.354000078144388,
          "variable": "FAIR"
         },
         {
          "Year": 2289,
          "value": 8.361901747387414,
          "variable": "FAIR"
         },
         {
          "Year": 2290,
          "value": 8.368932075437357,
          "variable": "FAIR"
         },
         {
          "Year": 2291,
          "value": 8.37408776748272,
          "variable": "FAIR"
         },
         {
          "Year": 2292,
          "value": 8.37801168757683,
          "variable": "FAIR"
         },
         {
          "Year": 2293,
          "value": 8.381821399791235,
          "variable": "FAIR"
         },
         {
          "Year": 2294,
          "value": 8.387404740651187,
          "variable": "FAIR"
         },
         {
          "Year": 2295,
          "value": 8.396821320776096,
          "variable": "FAIR"
         },
         {
          "Year": 2296,
          "value": 8.408854399785461,
          "variable": "FAIR"
         },
         {
          "Year": 2297,
          "value": 8.423175788963345,
          "variable": "FAIR"
         },
         {
          "Year": 2298,
          "value": 8.436296139839321,
          "variable": "FAIR"
         },
         {
          "Year": 2299,
          "value": 8.445978250845156,
          "variable": "FAIR"
         },
         {
          "Year": 2300,
          "value": 8.451168810396375,
          "variable": "FAIR"
         },
         {
          "Year": 2301,
          "value": 8.456986419056813,
          "variable": "FAIR"
         },
         {
          "Year": 2302,
          "value": 8.46328837031813,
          "variable": "FAIR"
         },
         {
          "Year": 2303,
          "value": 8.469962900388188,
          "variable": "FAIR"
         },
         {
          "Year": 2304,
          "value": 8.476922483996724,
          "variable": "FAIR"
         },
         {
          "Year": 2305,
          "value": 8.484098587522775,
          "variable": "FAIR"
         },
         {
          "Year": 2306,
          "value": 8.49143755605325,
          "variable": "FAIR"
         },
         {
          "Year": 2307,
          "value": 8.49889739090892,
          "variable": "FAIR"
         },
         {
          "Year": 2308,
          "value": 8.506445225364624,
          "variable": "FAIR"
         },
         {
          "Year": 2309,
          "value": 8.51405534908484,
          "variable": "FAIR"
         },
         {
          "Year": 2310,
          "value": 8.52170765307839,
          "variable": "FAIR"
         },
         {
          "Year": 2311,
          "value": 8.529386417431228,
          "variable": "FAIR"
         },
         {
          "Year": 2312,
          "value": 8.53707936083105,
          "variable": "FAIR"
         },
         {
          "Year": 2313,
          "value": 8.544776895036488,
          "variable": "FAIR"
         },
         {
          "Year": 2314,
          "value": 8.552471543317825,
          "variable": "FAIR"
         },
         {
          "Year": 2315,
          "value": 8.560157478363916,
          "variable": "FAIR"
         },
         {
          "Year": 2316,
          "value": 8.56783016680146,
          "variable": "FAIR"
         },
         {
          "Year": 2317,
          "value": 8.575486090369784,
          "variable": "FAIR"
         },
         {
          "Year": 2318,
          "value": 8.583122520266176,
          "variable": "FAIR"
         },
         {
          "Year": 2319,
          "value": 8.590737344589252,
          "variable": "FAIR"
         },
         {
          "Year": 2320,
          "value": 8.5983289422803,
          "variable": "FAIR"
         },
         {
          "Year": 2321,
          "value": 8.605896071282183,
          "variable": "FAIR"
         },
         {
          "Year": 2322,
          "value": 8.613437786944164,
          "variable": "FAIR"
         },
         {
          "Year": 2323,
          "value": 8.620953378895425,
          "variable": "FAIR"
         },
         {
          "Year": 2324,
          "value": 8.62844231575498,
          "variable": "FAIR"
         },
         {
          "Year": 2325,
          "value": 8.63590420912153,
          "variable": "FAIR"
         },
         {
          "Year": 2326,
          "value": 8.643338781239654,
          "variable": "FAIR"
         },
         {
          "Year": 2327,
          "value": 8.650745839649893,
          "variable": "FAIR"
         },
         {
          "Year": 2328,
          "value": 8.658125260163875,
          "variable": "FAIR"
         },
         {
          "Year": 2329,
          "value": 8.66547697199341,
          "variable": "FAIR"
         },
         {
          "Year": 2330,
          "value": 8.672800947417059,
          "variable": "FAIR"
         },
         {
          "Year": 2331,
          "value": 8.680097187516617,
          "variable": "FAIR"
         },
         {
          "Year": 2332,
          "value": 8.687365717821791,
          "variable": "FAIR"
         },
         {
          "Year": 2333,
          "value": 8.694606583735535,
          "variable": "FAIR"
         },
         {
          "Year": 2334,
          "value": 8.70181984593071,
          "variable": "FAIR"
         },
         {
          "Year": 2335,
          "value": 8.709005578371691,
          "variable": "FAIR"
         },
         {
          "Year": 2336,
          "value": 8.716163861318826,
          "variable": "FAIR"
         },
         {
          "Year": 2337,
          "value": 8.723294781981735,
          "variable": "FAIR"
         },
         {
          "Year": 2338,
          "value": 8.730398431491421,
          "variable": "FAIR"
         },
         {
          "Year": 2339,
          "value": 8.737474905006426,
          "variable": "FAIR"
         },
         {
          "Year": 2340,
          "value": 8.74452430135225,
          "variable": "FAIR"
         },
         {
          "Year": 2341,
          "value": 8.751546721181619,
          "variable": "FAIR"
         },
         {
          "Year": 2342,
          "value": 8.758542269378854,
          "variable": "FAIR"
         },
         {
          "Year": 2343,
          "value": 8.765511049687849,
          "variable": "FAIR"
         },
         {
          "Year": 2344,
          "value": 8.772453163348239,
          "variable": "FAIR"
         },
         {
          "Year": 2345,
          "value": 8.779368716259189,
          "variable": "FAIR"
         },
         {
          "Year": 2346,
          "value": 8.786257815375563,
          "variable": "FAIR"
         },
         {
          "Year": 2347,
          "value": 8.793120563551122,
          "variable": "FAIR"
         },
         {
          "Year": 2348,
          "value": 8.799957064878468,
          "variable": "FAIR"
         },
         {
          "Year": 2349,
          "value": 8.806767426186516,
          "variable": "FAIR"
         },
         {
          "Year": 2350,
          "value": 8.813551752052078,
          "variable": "FAIR"
         },
         {
          "Year": 2351,
          "value": 8.820309991923162,
          "variable": "FAIR"
         },
         {
          "Year": 2352,
          "value": 8.827042024470021,
          "variable": "FAIR"
         },
         {
          "Year": 2353,
          "value": 8.833747798400978,
          "variable": "FAIR"
         },
         {
          "Year": 2354,
          "value": 8.840427314234862,
          "variable": "FAIR"
         },
         {
          "Year": 2355,
          "value": 8.847080611251375,
          "variable": "FAIR"
         },
         {
          "Year": 2356,
          "value": 8.853707760117139,
          "variable": "FAIR"
         },
         {
          "Year": 2357,
          "value": 8.860308849024834,
          "variable": "FAIR"
         },
         {
          "Year": 2358,
          "value": 8.866883977847953,
          "variable": "FAIR"
         },
         {
          "Year": 2359,
          "value": 8.873433262295674,
          "variable": "FAIR"
         },
         {
          "Year": 2360,
          "value": 8.879956822340574,
          "variable": "FAIR"
         },
         {
          "Year": 2361,
          "value": 8.88645478268753,
          "variable": "FAIR"
         },
         {
          "Year": 2362,
          "value": 8.89292727328888,
          "variable": "FAIR"
         },
         {
          "Year": 2363,
          "value": 8.899374418333732,
          "variable": "FAIR"
         },
         {
          "Year": 2364,
          "value": 8.905796343899723,
          "variable": "FAIR"
         },
         {
          "Year": 2365,
          "value": 8.91219317909459,
          "variable": "FAIR"
         },
         {
          "Year": 2366,
          "value": 8.918565048805752,
          "variable": "FAIR"
         },
         {
          "Year": 2367,
          "value": 8.924912075728797,
          "variable": "FAIR"
         },
         {
          "Year": 2368,
          "value": 8.931234381156916,
          "variable": "FAIR"
         },
         {
          "Year": 2369,
          "value": 8.93753208441628,
          "variable": "FAIR"
         },
         {
          "Year": 2370,
          "value": 8.943805303037546,
          "variable": "FAIR"
         },
         {
          "Year": 2371,
          "value": 8.950054151953799,
          "variable": "FAIR"
         },
         {
          "Year": 2372,
          "value": 8.956278746757135,
          "variable": "FAIR"
         },
         {
          "Year": 2373,
          "value": 8.962479199479716,
          "variable": "FAIR"
         },
         {
          "Year": 2374,
          "value": 8.968655616829246,
          "variable": "FAIR"
         },
         {
          "Year": 2375,
          "value": 8.974808109028718,
          "variable": "FAIR"
         },
         {
          "Year": 2376,
          "value": 8.980936782960093,
          "variable": "FAIR"
         },
         {
          "Year": 2377,
          "value": 8.987041743032986,
          "variable": "FAIR"
         },
         {
          "Year": 2378,
          "value": 8.993123092344481,
          "variable": "FAIR"
         },
         {
          "Year": 2379,
          "value": 8.999180932365181,
          "variable": "FAIR"
         },
         {
          "Year": 2380,
          "value": 9.005215365936143,
          "variable": "FAIR"
         },
         {
          "Year": 2381,
          "value": 9.011226492669426,
          "variable": "FAIR"
         },
         {
          "Year": 2382,
          "value": 9.017214407148014,
          "variable": "FAIR"
         },
         {
          "Year": 2383,
          "value": 9.023179205814625,
          "variable": "FAIR"
         },
         {
          "Year": 2384,
          "value": 9.02912098733441,
          "variable": "FAIR"
         },
         {
          "Year": 2385,
          "value": 9.035039846730275,
          "variable": "FAIR"
         },
         {
          "Year": 2386,
          "value": 9.040935878395935,
          "variable": "FAIR"
         },
         {
          "Year": 2387,
          "value": 9.046809175005613,
          "variable": "FAIR"
         },
         {
          "Year": 2388,
          "value": 9.052659828938344,
          "variable": "FAIR"
         },
         {
          "Year": 2389,
          "value": 9.05848793186983,
          "variable": "FAIR"
         },
         {
          "Year": 2390,
          "value": 9.064293577030822,
          "variable": "FAIR"
         },
         {
          "Year": 2391,
          "value": 9.070076855213605,
          "variable": "FAIR"
         },
         {
          "Year": 2392,
          "value": 9.075837853311873,
          "variable": "FAIR"
         },
         {
          "Year": 2393,
          "value": 9.081576662716023,
          "variable": "FAIR"
         },
         {
          "Year": 2394,
          "value": 9.087293371763092,
          "variable": "FAIR"
         },
         {
          "Year": 2395,
          "value": 9.092988065315865,
          "variable": "FAIR"
         },
         {
          "Year": 2396,
          "value": 9.09866083277908,
          "variable": "FAIR"
         },
         {
          "Year": 2397,
          "value": 9.104311763801082,
          "variable": "FAIR"
         },
         {
          "Year": 2398,
          "value": 9.109940942784252,
          "variable": "FAIR"
         },
         {
          "Year": 2399,
          "value": 9.115548455106152,
          "variable": "FAIR"
         },
         {
          "Year": 2400,
          "value": 9.121134386153186,
          "variable": "FAIR"
         },
         {
          "Year": 2401,
          "value": 9.12669870457104,
          "variable": "FAIR"
         },
         {
          "Year": 2402,
          "value": 9.13224133780697,
          "variable": "FAIR"
         },
         {
          "Year": 2403,
          "value": 9.137762259410684,
          "variable": "FAIR"
         },
         {
          "Year": 2404,
          "value": 9.143261478148574,
          "variable": "FAIR"
         },
         {
          "Year": 2405,
          "value": 9.148739030066789,
          "variable": "FAIR"
         },
         {
          "Year": 2406,
          "value": 9.154194970580633,
          "variable": "FAIR"
         },
         {
          "Year": 2407,
          "value": 9.159629370139422,
          "variable": "FAIR"
         },
         {
          "Year": 2408,
          "value": 9.165042309609088,
          "variable": "FAIR"
         },
         {
          "Year": 2409,
          "value": 9.170433876653217,
          "variable": "FAIR"
         },
         {
          "Year": 2410,
          "value": 9.175804163883651,
          "variable": "FAIR"
         },
         {
          "Year": 2411,
          "value": 9.181153267120342,
          "variable": "FAIR"
         },
         {
          "Year": 2412,
          "value": 9.186481283863435,
          "variable": "FAIR"
         },
         {
          "Year": 2413,
          "value": 9.19178831498885,
          "variable": "FAIR"
         },
         {
          "Year": 2414,
          "value": 9.197074459663686,
          "variable": "FAIR"
         },
         {
          "Year": 2415,
          "value": 9.202339813087631,
          "variable": "FAIR"
         },
         {
          "Year": 2416,
          "value": 9.207584474553592,
          "variable": "FAIR"
         },
         {
          "Year": 2417,
          "value": 9.212808540264538,
          "variable": "FAIR"
         },
         {
          "Year": 2418,
          "value": 9.218012102159106,
          "variable": "FAIR"
         },
         {
          "Year": 2419,
          "value": 9.223195255402741,
          "variable": "FAIR"
         },
         {
          "Year": 2420,
          "value": 9.228358094655308,
          "variable": "FAIR"
         },
         {
          "Year": 2421,
          "value": 9.233500707899507,
          "variable": "FAIR"
         },
         {
          "Year": 2422,
          "value": 9.238623183470967,
          "variable": "FAIR"
         },
         {
          "Year": 2423,
          "value": 9.243725609405573,
          "variable": "FAIR"
         },
         {
          "Year": 2424,
          "value": 9.248808072566375,
          "variable": "FAIR"
         },
         {
          "Year": 2425,
          "value": 9.253870660743274,
          "variable": "FAIR"
         },
         {
          "Year": 2426,
          "value": 9.258913458330055,
          "variable": "FAIR"
         },
         {
          "Year": 2427,
          "value": 9.263936546073408,
          "variable": "FAIR"
         },
         {
          "Year": 2428,
          "value": 9.268940005289338,
          "variable": "FAIR"
         },
         {
          "Year": 2429,
          "value": 9.273923919599525,
          "variable": "FAIR"
         },
         {
          "Year": 2430,
          "value": 9.278888369498443,
          "variable": "FAIR"
         },
         {
          "Year": 2431,
          "value": 9.283833434176756,
          "variable": "FAIR"
         },
         {
          "Year": 2432,
          "value": 9.288759192675721,
          "variable": "FAIR"
         },
         {
          "Year": 2433,
          "value": 9.293665723154938,
          "variable": "FAIR"
         },
         {
          "Year": 2434,
          "value": 9.298553102166922,
          "variable": "FAIR"
         },
         {
          "Year": 2435,
          "value": 9.303421408630205,
          "variable": "FAIR"
         },
         {
          "Year": 2436,
          "value": 9.308270718530183,
          "variable": "FAIR"
         },
         {
          "Year": 2437,
          "value": 9.313101103687883,
          "variable": "FAIR"
         },
         {
          "Year": 2438,
          "value": 9.317912637778516,
          "variable": "FAIR"
         },
         {
          "Year": 2439,
          "value": 9.32270539462249,
          "variable": "FAIR"
         },
         {
          "Year": 2440,
          "value": 9.3274794503,
          "variable": "FAIR"
         },
         {
          "Year": 2441,
          "value": 9.332234878571882,
          "variable": "FAIR"
         },
         {
          "Year": 2442,
          "value": 9.336971749382252,
          "variable": "FAIR"
         },
         {
          "Year": 2443,
          "value": 9.34169013662281,
          "variable": "FAIR"
         },
         {
          "Year": 2444,
          "value": 9.34639011200539,
          "variable": "FAIR"
         },
         {
          "Year": 2445,
          "value": 9.35107174641559,
          "variable": "FAIR"
         },
         {
          "Year": 2446,
          "value": 9.35573511036918,
          "variable": "FAIR"
         },
         {
          "Year": 2447,
          "value": 9.360380273940624,
          "variable": "FAIR"
         },
         {
          "Year": 2448,
          "value": 9.365007309483016,
          "variable": "FAIR"
         },
         {
          "Year": 2449,
          "value": 9.369616284409984,
          "variable": "FAIR"
         },
         {
          "Year": 2450,
          "value": 9.374207268013459,
          "variable": "FAIR"
         },
         {
          "Year": 2451,
          "value": 9.378780269228997,
          "variable": "FAIR"
         },
         {
          "Year": 2452,
          "value": 9.383335224592011,
          "variable": "FAIR"
         },
         {
          "Year": 2453,
          "value": 9.387872115561388,
          "variable": "FAIR"
         },
         {
          "Year": 2454,
          "value": 9.392390958820297,
          "variable": "FAIR"
         },
         {
          "Year": 2455,
          "value": 9.396891792504777,
          "variable": "FAIR"
         },
         {
          "Year": 2456,
          "value": 9.401374671570979,
          "variable": "FAIR"
         },
         {
          "Year": 2457,
          "value": 9.405839660596373,
          "variable": "FAIR"
         },
         {
          "Year": 2458,
          "value": 9.410286835258637,
          "variable": "FAIR"
         },
         {
          "Year": 2459,
          "value": 9.414716281130936,
          "variable": "FAIR"
         },
         {
          "Year": 2460,
          "value": 9.419128085038125,
          "variable": "FAIR"
         },
         {
          "Year": 2461,
          "value": 9.423522334452649,
          "variable": "FAIR"
         },
         {
          "Year": 2462,
          "value": 9.427899117692377,
          "variable": "FAIR"
         },
         {
          "Year": 2463,
          "value": 9.432258523282437,
          "variable": "FAIR"
         },
         {
          "Year": 2464,
          "value": 9.436600641951687,
          "variable": "FAIR"
         },
         {
          "Year": 2465,
          "value": 9.440925561575158,
          "variable": "FAIR"
         },
         {
          "Year": 2466,
          "value": 9.445233365742576,
          "variable": "FAIR"
         },
         {
          "Year": 2467,
          "value": 9.449524138536127,
          "variable": "FAIR"
         },
         {
          "Year": 2468,
          "value": 9.453797963272123,
          "variable": "FAIR"
         },
         {
          "Year": 2469,
          "value": 9.458054925326195,
          "variable": "FAIR"
         },
         {
          "Year": 2470,
          "value": 9.462295106046035,
          "variable": "FAIR"
         },
         {
          "Year": 2471,
          "value": 9.466518581305824,
          "variable": "FAIR"
         },
         {
          "Year": 2472,
          "value": 9.470725430421968,
          "variable": "FAIR"
         },
         {
          "Year": 2473,
          "value": 9.474915728951483,
          "variable": "FAIR"
         },
         {
          "Year": 2474,
          "value": 9.479089551518797,
          "variable": "FAIR"
         },
         {
          "Year": 2475,
          "value": 9.48324697142749,
          "variable": "FAIR"
         },
         {
          "Year": 2476,
          "value": 9.487388060893469,
          "variable": "FAIR"
         },
         {
          "Year": 2477,
          "value": 9.491512890957619,
          "variable": "FAIR"
         },
         {
          "Year": 2478,
          "value": 9.495621532100564,
          "variable": "FAIR"
         },
         {
          "Year": 2479,
          "value": 9.499714053748594,
          "variable": "FAIR"
         },
         {
          "Year": 2480,
          "value": 9.503790523896852,
          "variable": "FAIR"
         },
         {
          "Year": 2481,
          "value": 9.507851009798356,
          "variable": "FAIR"
         },
         {
          "Year": 2482,
          "value": 9.511895577833435,
          "variable": "FAIR"
         },
         {
          "Year": 2483,
          "value": 9.51592429660836,
          "variable": "FAIR"
         },
         {
          "Year": 2484,
          "value": 9.519937231551662,
          "variable": "FAIR"
         },
         {
          "Year": 2485,
          "value": 9.523934443842533,
          "variable": "FAIR"
         },
         {
          "Year": 2486,
          "value": 9.527915996471233,
          "variable": "FAIR"
         },
         {
          "Year": 2487,
          "value": 9.531881954974539,
          "variable": "FAIR"
         },
         {
          "Year": 2488,
          "value": 9.535832381900267,
          "variable": "FAIR"
         },
         {
          "Year": 2489,
          "value": 9.53976733940847,
          "variable": "FAIR"
         },
         {
          "Year": 2490,
          "value": 9.543686885926224,
          "variable": "FAIR"
         },
         {
          "Year": 2491,
          "value": 9.547591081924017,
          "variable": "FAIR"
         },
         {
          "Year": 2492,
          "value": 9.551479990542097,
          "variable": "FAIR"
         },
         {
          "Year": 2493,
          "value": 9.55535367221456,
          "variable": "FAIR"
         },
         {
          "Year": 2494,
          "value": 9.559212186384752,
          "variable": "FAIR"
         },
         {
          "Year": 2495,
          "value": 9.56305559199042,
          "variable": "FAIR"
         },
         {
          "Year": 2496,
          "value": 9.566883947672883,
          "variable": "FAIR"
         },
         {
          "Year": 2497,
          "value": 9.570697311003556,
          "variable": "FAIR"
         },
         {
          "Year": 2498,
          "value": 9.574495742613577,
          "variable": "FAIR"
         },
         {
          "Year": 2499,
          "value": 9.578279300840403,
          "variable": "FAIR"
         },
         {
          "Year": 2500,
          "value": 9.58204807088276,
          "variable": "FAIR"
         },
         {
          "Year": 1765,
          "value": 0.005060849842558356,
          "variable": "FUNDFAIR"
         },
         {
          "Year": 1766,
          "value": 0.009262250086953876,
          "variable": "FUNDFAIR"
         },
         {
          "Year": 1767,
          "value": 0.013629014530117767,
          "variable": "FUNDFAIR"
         },
         {
          "Year": 1768,
          "value": 0.02174959630655503,
          "variable": "FUNDFAIR"
         },
         {
          "Year": 1769,
          "value": 0.03118356680643865,
          "variable": "FUNDFAIR"
         },
         {
          "Year": 1770,
          "value": 0.041380376126215083,
          "variable": "FUNDFAIR"
         },
         {
          "Year": 1771,
          "value": 0.04702286519039267,
          "variable": "FUNDFAIR"
         },
         {
          "Year": 1772,
          "value": 0.04680242832072563,
          "variable": "FUNDFAIR"
         },
         {
          "Year": 1773,
          "value": 0.04652773104850302,
          "variable": "FUNDFAIR"
         },
         {
          "Year": 1774,
          "value": 0.04564694861424956,
          "variable": "FUNDFAIR"
         },
         {
          "Year": 1775,
          "value": 0.041973182987268466,
          "variable": "FUNDFAIR"
         },
         {
          "Year": 1776,
          "value": 0.038548719106804484,
          "variable": "FUNDFAIR"
         },
         {
          "Year": 1777,
          "value": 0.03670268796974257,
          "variable": "FUNDFAIR"
         },
         {
          "Year": 1778,
          "value": 0.03587456847031851,
          "variable": "FUNDFAIR"
         },
         {
          "Year": 1779,
          "value": 0.03037657437853946,
          "variable": "FUNDFAIR"
         },
         {
          "Year": 1780,
          "value": 0.026240728957137378,
          "variable": "FUNDFAIR"
         },
         {
          "Year": 1781,
          "value": 0.02497742816893158,
          "variable": "FUNDFAIR"
         },
         {
          "Year": 1782,
          "value": 0.026809023998066693,
          "variable": "FUNDFAIR"
         },
         {
          "Year": 1783,
          "value": -0.4673815279744426,
          "variable": "FUNDFAIR"
         },
         {
          "Year": 1784,
          "value": -0.39590148328014485,
          "variable": "FUNDFAIR"
         },
         {
          "Year": 1785,
          "value": -0.31368541276601186,
          "variable": "FUNDFAIR"
         },
         {
          "Year": 1786,
          "value": -0.2412102204349267,
          "variable": "FUNDFAIR"
         },
         {
          "Year": 1787,
          "value": -0.18093315584579625,
          "variable": "FUNDFAIR"
         },
         {
          "Year": 1788,
          "value": -0.13870695165585423,
          "variable": "FUNDFAIR"
         },
         {
          "Year": 1789,
          "value": -0.10589474465159922,
          "variable": "FUNDFAIR"
         },
         {
          "Year": 1790,
          "value": -0.08041275860629343,
          "variable": "FUNDFAIR"
         },
         {
          "Year": 1791,
          "value": -0.059729465002539395,
          "variable": "FUNDFAIR"
         },
         {
          "Year": 1792,
          "value": -0.04296574925744332,
          "variable": "FUNDFAIR"
         },
         {
          "Year": 1793,
          "value": -0.031049290368038863,
          "variable": "FUNDFAIR"
         },
         {
          "Year": 1794,
          "value": -0.031411006012709373,
          "variable": "FUNDFAIR"
         },
         {
          "Year": 1795,
          "value": -0.018486151541795226,
          "variable": "FUNDFAIR"
         },
         {
          "Year": 1796,
          "value": -0.05777373259604311,
          "variable": "FUNDFAIR"
         },
         {
          "Year": 1797,
          "value": -0.04506106419303892,
          "variable": "FUNDFAIR"
         },
         {
          "Year": 1798,
          "value": -0.031777721791808766,
          "variable": "FUNDFAIR"
         },
         {
          "Year": 1799,
          "value": -0.020602372112138913,
          "variable": "FUNDFAIR"
         },
         {
          "Year": 1800,
          "value": -0.012367596042862538,
          "variable": "FUNDFAIR"
         },
         {
          "Year": 1801,
          "value": -0.01240793309549049,
          "variable": "FUNDFAIR"
         },
         {
          "Year": 1802,
          "value": -0.0047369848086844055,
          "variable": "FUNDFAIR"
         },
         {
          "Year": 1803,
          "value": 0.0016052481847335072,
          "variable": "FUNDFAIR"
         },
         {
          "Year": 1804,
          "value": -0.007711538136873603,
          "variable": "FUNDFAIR"
         },
         {
          "Year": 1805,
          "value": -0.005442517943411778,
          "variable": "FUNDFAIR"
         },
         {
          "Year": 1806,
          "value": 0.0007158219121761187,
          "variable": "FUNDFAIR"
         },
         {
          "Year": 1807,
          "value": 0.004600170719369283,
          "variable": "FUNDFAIR"
         },
         {
          "Year": 1808,
          "value": 0.0071366996294354714,
          "variable": "FUNDFAIR"
         },
         {
          "Year": 1809,
          "value": -0.4261008157968298,
          "variable": "FUNDFAIR"
         },
         {
          "Year": 1810,
          "value": -0.4732089478239319,
          "variable": "FUNDFAIR"
         },
         {
          "Year": 1811,
          "value": -0.42180308916777937,
          "variable": "FUNDFAIR"
         },
         {
          "Year": 1812,
          "value": -0.3484994392000069,
          "variable": "FUNDFAIR"
         },
         {
          "Year": 1813,
          "value": -0.27826855204151085,
          "variable": "FUNDFAIR"
         },
         {
          "Year": 1814,
          "value": -0.21585760605355767,
          "variable": "FUNDFAIR"
         },
         {
          "Year": 1815,
          "value": -0.8953579643706454,
          "variable": "FUNDFAIR"
         },
         {
          "Year": 1816,
          "value": -0.9857370097497197,
          "variable": "FUNDFAIR"
         },
         {
          "Year": 1817,
          "value": -0.923275830107733,
          "variable": "FUNDFAIR"
         },
         {
          "Year": 1818,
          "value": -0.7808998373256684,
          "variable": "FUNDFAIR"
         },
         {
          "Year": 1819,
          "value": -0.6332534952254815,
          "variable": "FUNDFAIR"
         },
         {
          "Year": 1820,
          "value": -0.499258952530642,
          "variable": "FUNDFAIR"
         },
         {
          "Year": 1821,
          "value": -0.3922157910403927,
          "variable": "FUNDFAIR"
         },
         {
          "Year": 1822,
          "value": -0.30827053895824735,
          "variable": "FUNDFAIR"
         },
         {
          "Year": 1823,
          "value": -0.24251037269097175,
          "variable": "FUNDFAIR"
         },
         {
          "Year": 1824,
          "value": -0.19000106320062318,
          "variable": "FUNDFAIR"
         },
         {
          "Year": 1825,
          "value": -0.14805008756730254,
          "variable": "FUNDFAIR"
         },
         {
          "Year": 1826,
          "value": -0.11427710083616739,
          "variable": "FUNDFAIR"
         },
         {
          "Year": 1827,
          "value": -0.08527799527021396,
          "variable": "FUNDFAIR"
         },
         {
          "Year": 1828,
          "value": -0.06145772726030399,
          "variable": "FUNDFAIR"
         },
         {
          "Year": 1829,
          "value": -0.042414540996054226,
          "variable": "FUNDFAIR"
         },
         {
          "Year": 1830,
          "value": -0.026566840256544433,
          "variable": "FUNDFAIR"
         },
         {
          "Year": 1831,
          "value": -0.11031831649807321,
          "variable": "FUNDFAIR"
         },
         {
          "Year": 1832,
          "value": -0.1586807970121226,
          "variable": "FUNDFAIR"
         },
         {
          "Year": 1833,
          "value": -0.15888433186595924,
          "variable": "FUNDFAIR"
         },
         {
          "Year": 1834,
          "value": -0.1353046035633279,
          "variable": "FUNDFAIR"
         },
         {
          "Year": 1835,
          "value": -0.41148981582949995,
          "variable": "FUNDFAIR"
         },
         {
          "Year": 1836,
          "value": -0.4054894457663605,
          "variable": "FUNDFAIR"
         },
         {
          "Year": 1837,
          "value": -0.3396493741242902,
          "variable": "FUNDFAIR"
         },
         {
          "Year": 1838,
          "value": -0.2675470340495245,
          "variable": "FUNDFAIR"
         },
         {
          "Year": 1839,
          "value": -0.20521531846733218,
          "variable": "FUNDFAIR"
         },
         {
          "Year": 1840,
          "value": -0.1548493595357578,
          "variable": "FUNDFAIR"
         },
         {
          "Year": 1841,
          "value": -0.11481265391027426,
          "variable": "FUNDFAIR"
         },
         {
          "Year": 1842,
          "value": -0.08372757098095625,
          "variable": "FUNDFAIR"
         },
         {
          "Year": 1843,
          "value": -0.06280374563112996,
          "variable": "FUNDFAIR"
         },
         {
          "Year": 1844,
          "value": -0.04476081979209465,
          "variable": "FUNDFAIR"
         },
         {
          "Year": 1845,
          "value": -0.029848933739870877,
          "variable": "FUNDFAIR"
         },
         {
          "Year": 1846,
          "value": -0.021981683322374854,
          "variable": "FUNDFAIR"
         },
         {
          "Year": 1847,
          "value": -0.01581413184529993,
          "variable": "FUNDFAIR"
         },
         {
          "Year": 1848,
          "value": -0.005813205402638445,
          "variable": "FUNDFAIR"
         },
         {
          "Year": 1849,
          "value": 0.008056999285203224,
          "variable": "FUNDFAIR"
         },
         {
          "Year": 1850,
          "value": 0.017275401705622015,
          "variable": "FUNDFAIR"
         },
         {
          "Year": 1851,
          "value": 0.023811233055713837,
          "variable": "FUNDFAIR"
         },
         {
          "Year": 1852,
          "value": 0.02533351339538386,
          "variable": "FUNDFAIR"
         },
         {
          "Year": 1853,
          "value": 0.029399639157883038,
          "variable": "FUNDFAIR"
         },
         {
          "Year": 1854,
          "value": 0.03136598390819651,
          "variable": "FUNDFAIR"
         },
         {
          "Year": 1855,
          "value": 0.03211602957551046,
          "variable": "FUNDFAIR"
         },
         {
          "Year": 1856,
          "value": 0.03267243681754452,
          "variable": "FUNDFAIR"
         },
         {
          "Year": 1857,
          "value": 0.03416359086370847,
          "variable": "FUNDFAIR"
         },
         {
          "Year": 1858,
          "value": 0.03772834015714864,
          "variable": "FUNDFAIR"
         },
         {
          "Year": 1859,
          "value": 0.042559263417823914,
          "variable": "FUNDFAIR"
         },
         {
          "Year": 1860,
          "value": 0.04795590376063235,
          "variable": "FUNDFAIR"
         },
         {
          "Year": 1861,
          "value": 0.0208968611527341,
          "variable": "FUNDFAIR"
         },
         {
          "Year": 1862,
          "value": -0.010742940985266406,
          "variable": "FUNDFAIR"
         },
         {
          "Year": 1863,
          "value": -0.01021861761061097,
          "variable": "FUNDFAIR"
         },
         {
          "Year": 1864,
          "value": 0.0006835059452428988,
          "variable": "FUNDFAIR"
         },
         {
          "Year": 1865,
          "value": 0.012174134716270157,
          "variable": "FUNDFAIR"
         },
         {
          "Year": 1866,
          "value": 0.021109948830825766,
          "variable": "FUNDFAIR"
         },
         {
          "Year": 1867,
          "value": 0.02781487852851473,
          "variable": "FUNDFAIR"
         },
         {
          "Year": 1868,
          "value": 0.03453695686279974,
          "variable": "FUNDFAIR"
         },
         {
          "Year": 1869,
          "value": 0.04227395902153884,
          "variable": "FUNDFAIR"
         },
         {
          "Year": 1870,
          "value": 0.04877996523975826,
          "variable": "FUNDFAIR"
         },
         {
          "Year": 1871,
          "value": 0.0553785344273469,
          "variable": "FUNDFAIR"
         },
         {
          "Year": 1872,
          "value": 0.05970703336377922,
          "variable": "FUNDFAIR"
         },
         {
          "Year": 1873,
          "value": 0.056472291232564774,
          "variable": "FUNDFAIR"
         },
         {
          "Year": 1874,
          "value": 0.0589059700350866,
          "variable": "FUNDFAIR"
         },
         {
          "Year": 1875,
          "value": 0.059485161796773135,
          "variable": "FUNDFAIR"
         },
         {
          "Year": 1876,
          "value": 0.059325056380853045,
          "variable": "FUNDFAIR"
         },
         {
          "Year": 1877,
          "value": 0.05889324306443343,
          "variable": "FUNDFAIR"
         },
         {
          "Year": 1878,
          "value": 0.05810087264138772,
          "variable": "FUNDFAIR"
         },
         {
          "Year": 1879,
          "value": 0.05779292044046298,
          "variable": "FUNDFAIR"
         },
         {
          "Year": 1880,
          "value": 0.057571107456811876,
          "variable": "FUNDFAIR"
         },
         {
          "Year": 1881,
          "value": 0.06005714518461301,
          "variable": "FUNDFAIR"
         },
         {
          "Year": 1882,
          "value": 0.0637411551520291,
          "variable": "FUNDFAIR"
         },
         {
          "Year": 1883,
          "value": 0.027144962896952212,
          "variable": "FUNDFAIR"
         },
         {
          "Year": 1884,
          "value": -0.09933659773929487,
          "variable": "FUNDFAIR"
         },
         {
          "Year": 1885,
          "value": -0.11473344294923511,
          "variable": "FUNDFAIR"
         },
         {
          "Year": 1886,
          "value": -0.08471540453512272,
          "variable": "FUNDFAIR"
         },
         {
          "Year": 1887,
          "value": -0.06930553150911976,
          "variable": "FUNDFAIR"
         },
         {
          "Year": 1888,
          "value": -0.04365286433439475,
          "variable": "FUNDFAIR"
         },
         {
          "Year": 1889,
          "value": -0.020176468134449427,
          "variable": "FUNDFAIR"
         },
         {
          "Year": 1890,
          "value": -0.01055032908164934,
          "variable": "FUNDFAIR"
         },
         {
          "Year": 1891,
          "value": -0.007475179291325783,
          "variable": "FUNDFAIR"
         },
         {
          "Year": 1892,
          "value": 0.00841241538039951,
          "variable": "FUNDFAIR"
         },
         {
          "Year": 1893,
          "value": 0.02969450327641181,
          "variable": "FUNDFAIR"
         },
         {
          "Year": 1894,
          "value": 0.04931105069974063,
          "variable": "FUNDFAIR"
         },
         {
          "Year": 1895,
          "value": 0.06252858167002515,
          "variable": "FUNDFAIR"
         },
         {
          "Year": 1896,
          "value": 0.06987309675471316,
          "variable": "FUNDFAIR"
         },
         {
          "Year": 1897,
          "value": 0.07382599376293537,
          "variable": "FUNDFAIR"
         },
         {
          "Year": 1898,
          "value": 0.0761906606447552,
          "variable": "FUNDFAIR"
         },
         {
          "Year": 1899,
          "value": 0.07717467315053744,
          "variable": "FUNDFAIR"
         },
         {
          "Year": 1900,
          "value": 0.0775805201405333,
          "variable": "FUNDFAIR"
         },
         {
          "Year": 1901,
          "value": 0.0770319982044544,
          "variable": "FUNDFAIR"
         },
         {
          "Year": 1902,
          "value": 0.05771857266645271,
          "variable": "FUNDFAIR"
         },
         {
          "Year": 1903,
          "value": -0.011849581463798997,
          "variable": "FUNDFAIR"
         },
         {
          "Year": 1904,
          "value": -0.023364638969901173,
          "variable": "FUNDFAIR"
         },
         {
          "Year": 1905,
          "value": -0.005149482805243702,
          "variable": "FUNDFAIR"
         },
         {
          "Year": 1906,
          "value": 0.02025234144180951,
          "variable": "FUNDFAIR"
         },
         {
          "Year": 1907,
          "value": 0.03643767067435524,
          "variable": "FUNDFAIR"
         },
         {
          "Year": 1908,
          "value": 0.05307276017590844,
          "variable": "FUNDFAIR"
         },
         {
          "Year": 1909,
          "value": 0.06583783955410275,
          "variable": "FUNDFAIR"
         },
         {
          "Year": 1910,
          "value": 0.07482416786397941,
          "variable": "FUNDFAIR"
         },
         {
          "Year": 1911,
          "value": 0.08048201892829913,
          "variable": "FUNDFAIR"
         },
         {
          "Year": 1912,
          "value": 0.037050727126738785,
          "variable": "FUNDFAIR"
         },
         {
          "Year": 1913,
          "value": 0.013210794533689832,
          "variable": "FUNDFAIR"
         },
         {
          "Year": 1914,
          "value": 0.021586054061785667,
          "variable": "FUNDFAIR"
         },
         {
          "Year": 1915,
          "value": 0.046267149646625365,
          "variable": "FUNDFAIR"
         },
         {
          "Year": 1916,
          "value": 0.07239220564493881,
          "variable": "FUNDFAIR"
         },
         {
          "Year": 1917,
          "value": 0.0964310656527012,
          "variable": "FUNDFAIR"
         },
         {
          "Year": 1918,
          "value": 0.11676092395603148,
          "variable": "FUNDFAIR"
         },
         {
          "Year": 1919,
          "value": 0.12947593022499085,
          "variable": "FUNDFAIR"
         },
         {
          "Year": 1920,
          "value": 0.13664358927112846,
          "variable": "FUNDFAIR"
         },
         {
          "Year": 1921,
          "value": 0.1401937211297418,
          "variable": "FUNDFAIR"
         },
         {
          "Year": 1922,
          "value": 0.13753032525247016,
          "variable": "FUNDFAIR"
         },
         {
          "Year": 1923,
          "value": 0.1373875997344846,
          "variable": "FUNDFAIR"
         },
         {
          "Year": 1924,
          "value": 0.14106162402683667,
          "variable": "FUNDFAIR"
         },
         {
          "Year": 1925,
          "value": 0.14733573372769726,
          "variable": "FUNDFAIR"
         },
         {
          "Year": 1926,
          "value": 0.1564136351524494,
          "variable": "FUNDFAIR"
         },
         {
          "Year": 1927,
          "value": 0.16713182356637118,
          "variable": "FUNDFAIR"
         },
         {
          "Year": 1928,
          "value": 0.17289886973125496,
          "variable": "FUNDFAIR"
         },
         {
          "Year": 1929,
          "value": 0.17301556423471262,
          "variable": "FUNDFAIR"
         },
         {
          "Year": 1930,
          "value": 0.1791763432013271,
          "variable": "FUNDFAIR"
         },
         {
          "Year": 1931,
          "value": 0.18181691199957065,
          "variable": "FUNDFAIR"
         },
         {
          "Year": 1932,
          "value": 0.17725372892693664,
          "variable": "FUNDFAIR"
         },
         {
          "Year": 1933,
          "value": 0.17756615507832121,
          "variable": "FUNDFAIR"
         },
         {
          "Year": 1934,
          "value": 0.1805420422102841,
          "variable": "FUNDFAIR"
         },
         {
          "Year": 1935,
          "value": 0.18681959707022577,
          "variable": "FUNDFAIR"
         },
         {
          "Year": 1936,
          "value": 0.19957048589034818,
          "variable": "FUNDFAIR"
         },
         {
          "Year": 1937,
          "value": 0.21069027412509506,
          "variable": "FUNDFAIR"
         },
         {
          "Year": 1938,
          "value": 0.21872405761563637,
          "variable": "FUNDFAIR"
         },
         {
          "Year": 1939,
          "value": 0.22534289505631427,
          "variable": "FUNDFAIR"
         },
         {
          "Year": 1940,
          "value": 0.2288799217099415,
          "variable": "FUNDFAIR"
         },
         {
          "Year": 1941,
          "value": 0.2306131467146384,
          "variable": "FUNDFAIR"
         },
         {
          "Year": 1942,
          "value": 0.23057492554022996,
          "variable": "FUNDFAIR"
         },
         {
          "Year": 1943,
          "value": 0.22914628359304184,
          "variable": "FUNDFAIR"
         },
         {
          "Year": 1944,
          "value": 0.2296161327891918,
          "variable": "FUNDFAIR"
         },
         {
          "Year": 1945,
          "value": 0.2351258112719096,
          "variable": "FUNDFAIR"
         },
         {
          "Year": 1946,
          "value": 0.24242406312825804,
          "variable": "FUNDFAIR"
         },
         {
          "Year": 1947,
          "value": 0.2549141085543848,
          "variable": "FUNDFAIR"
         },
         {
          "Year": 1948,
          "value": 0.2677979070202285,
          "variable": "FUNDFAIR"
         },
         {
          "Year": 1949,
          "value": 0.27708742977255557,
          "variable": "FUNDFAIR"
         },
         {
          "Year": 1950,
          "value": 0.28154537317817974,
          "variable": "FUNDFAIR"
         },
         {
          "Year": 1951,
          "value": 0.2794510515981058,
          "variable": "FUNDFAIR"
         },
         {
          "Year": 1952,
          "value": 0.2775638602125095,
          "variable": "FUNDFAIR"
         },
         {
          "Year": 1953,
          "value": 0.2745735704806852,
          "variable": "FUNDFAIR"
         },
         {
          "Year": 1954,
          "value": 0.2723825182821025,
          "variable": "FUNDFAIR"
         },
         {
          "Year": 1955,
          "value": 0.2742314787055805,
          "variable": "FUNDFAIR"
         },
         {
          "Year": 1956,
          "value": 0.2833747664304537,
          "variable": "FUNDFAIR"
         },
         {
          "Year": 1957,
          "value": 0.2978580502068741,
          "variable": "FUNDFAIR"
         },
         {
          "Year": 1958,
          "value": 0.3105614164176684,
          "variable": "FUNDFAIR"
         },
         {
          "Year": 1959,
          "value": 0.317157743979996,
          "variable": "FUNDFAIR"
         },
         {
          "Year": 1960,
          "value": 0.32021804914184576,
          "variable": "FUNDFAIR"
         },
         {
          "Year": 1961,
          "value": 0.31706887508958703,
          "variable": "FUNDFAIR"
         },
         {
          "Year": 1962,
          "value": 0.3059740379490535,
          "variable": "FUNDFAIR"
         },
         {
          "Year": 1963,
          "value": 0.21384240905390756,
          "variable": "FUNDFAIR"
         },
         {
          "Year": 1964,
          "value": 0.16389007963621122,
          "variable": "FUNDFAIR"
         },
         {
          "Year": 1965,
          "value": 0.15235412806798962,
          "variable": "FUNDFAIR"
         },
         {
          "Year": 1966,
          "value": 0.18374601455786943,
          "variable": "FUNDFAIR"
         },
         {
          "Year": 1967,
          "value": 0.20928634009836256,
          "variable": "FUNDFAIR"
         },
         {
          "Year": 1968,
          "value": 0.23570510950730006,
          "variable": "FUNDFAIR"
         },
         {
          "Year": 1969,
          "value": 0.2611265028512838,
          "variable": "FUNDFAIR"
         },
         {
          "Year": 1970,
          "value": 0.2828495096799824,
          "variable": "FUNDFAIR"
         },
         {
          "Year": 1971,
          "value": 0.29417380998825415,
          "variable": "FUNDFAIR"
         },
         {
          "Year": 1972,
          "value": 0.28179653220453493,
          "variable": "FUNDFAIR"
         },
         {
          "Year": 1973,
          "value": 0.30284207803320323,
          "variable": "FUNDFAIR"
         },
         {
          "Year": 1974,
          "value": 0.31121116746657257,
          "variable": "FUNDFAIR"
         },
         {
          "Year": 1975,
          "value": 0.30281537000929704,
          "variable": "FUNDFAIR"
         },
         {
          "Year": 1976,
          "value": 0.3199612662405269,
          "variable": "FUNDFAIR"
         },
         {
          "Year": 1977,
          "value": 0.34732380310630384,
          "variable": "FUNDFAIR"
         },
         {
          "Year": 1978,
          "value": 0.3802129519937702,
          "variable": "FUNDFAIR"
         },
         {
          "Year": 1979,
          "value": 0.41382796700714036,
          "variable": "FUNDFAIR"
         },
         {
          "Year": 1980,
          "value": 0.4396258874924476,
          "variable": "FUNDFAIR"
         },
         {
          "Year": 1981,
          "value": 0.46167311197532845,
          "variable": "FUNDFAIR"
         },
         {
          "Year": 1982,
          "value": 0.4489740115510724,
          "variable": "FUNDFAIR"
         },
         {
          "Year": 1983,
          "value": 0.4067854956382802,
          "variable": "FUNDFAIR"
         },
         {
          "Year": 1984,
          "value": 0.40997866533181754,
          "variable": "FUNDFAIR"
         },
         {
          "Year": 1985,
          "value": 0.4326034887244901,
          "variable": "FUNDFAIR"
         },
         {
          "Year": 1986,
          "value": 0.4543087031242569,
          "variable": "FUNDFAIR"
         },
         {
          "Year": 1987,
          "value": 0.482327517951681,
          "variable": "FUNDFAIR"
         },
         {
          "Year": 1988,
          "value": 0.5178579895605125,
          "variable": "FUNDFAIR"
         },
         {
          "Year": 1989,
          "value": 0.559954081730389,
          "variable": "FUNDFAIR"
         },
         {
          "Year": 1990,
          "value": 0.5949729672734548,
          "variable": "FUNDFAIR"
         },
         {
          "Year": 1991,
          "value": 0.5616325741321418,
          "variable": "FUNDFAIR"
         },
         {
          "Year": 1992,
          "value": 0.44121751710699053,
          "variable": "FUNDFAIR"
         },
         {
          "Year": 1993,
          "value": 0.4246407681117363,
          "variable": "FUNDFAIR"
         },
         {
          "Year": 1994,
          "value": 0.47351499709843625,
          "variable": "FUNDFAIR"
         },
         {
          "Year": 1995,
          "value": 0.5280254377025804,
          "variable": "FUNDFAIR"
         },
         {
          "Year": 1996,
          "value": 0.5777746419524133,
          "variable": "FUNDFAIR"
         },
         {
          "Year": 1997,
          "value": 0.6241217811778276,
          "variable": "FUNDFAIR"
         },
         {
          "Year": 1998,
          "value": 0.6704149711485046,
          "variable": "FUNDFAIR"
         },
         {
          "Year": 1999,
          "value": 0.7150292189971906,
          "variable": "FUNDFAIR"
         },
         {
          "Year": 2000,
          "value": 0.7568106630712128,
          "variable": "FUNDFAIR"
         },
         {
          "Year": 2001,
          "value": 0.790498425265474,
          "variable": "FUNDFAIR"
         },
         {
          "Year": 2002,
          "value": 0.8207192313402456,
          "variable": "FUNDFAIR"
         },
         {
          "Year": 2003,
          "value": 0.8384919446106747,
          "variable": "FUNDFAIR"
         },
         {
          "Year": 2004,
          "value": 0.8523124645798439,
          "variable": "FUNDFAIR"
         },
         {
          "Year": 2005,
          "value": 0.8599521298613446,
          "variable": "FUNDFAIR"
         },
         {
          "Year": 2006,
          "value": 0.8672080468652467,
          "variable": "FUNDFAIR"
         },
         {
          "Year": 2007,
          "value": 0.8759424661315041,
          "variable": "FUNDFAIR"
         },
         {
          "Year": 2008,
          "value": 0.887486398864641,
          "variable": "FUNDFAIR"
         },
         {
          "Year": 2009,
          "value": 0.8989366906777557,
          "variable": "FUNDFAIR"
         },
         {
          "Year": 2010,
          "value": 0.9182662918500457,
          "variable": "FUNDFAIR"
         },
         {
          "Year": 2011,
          "value": 0.9386974140783322,
          "variable": "FUNDFAIR"
         },
         {
          "Year": 2012,
          "value": 0.9637868030845054,
          "variable": "FUNDFAIR"
         },
         {
          "Year": 2013,
          "value": 0.9901125978882102,
          "variable": "FUNDFAIR"
         },
         {
          "Year": 2014,
          "value": 1.0143619329685374,
          "variable": "FUNDFAIR"
         },
         {
          "Year": 2015,
          "value": 1.0275588240555682,
          "variable": "FUNDFAIR"
         },
         {
          "Year": 2016,
          "value": 1.0379058996159327,
          "variable": "FUNDFAIR"
         },
         {
          "Year": 2017,
          "value": 1.0493933038768848,
          "variable": "FUNDFAIR"
         },
         {
          "Year": 2018,
          "value": 1.0625689166028447,
          "variable": "FUNDFAIR"
         },
         {
          "Year": 2019,
          "value": 1.0775602069594095,
          "variable": "FUNDFAIR"
         },
         {
          "Year": 2020,
          "value": 1.0947772588764344,
          "variable": "FUNDFAIR"
         },
         {
          "Year": 2021,
          "value": 1.1177730040245366,
          "variable": "FUNDFAIR"
         },
         {
          "Year": 2022,
          "value": 1.1457732483892458,
          "variable": "FUNDFAIR"
         },
         {
          "Year": 2023,
          "value": 1.175671449851021,
          "variable": "FUNDFAIR"
         },
         {
          "Year": 2024,
          "value": 1.2054514822311744,
          "variable": "FUNDFAIR"
         },
         {
          "Year": 2025,
          "value": 1.231328345763521,
          "variable": "FUNDFAIR"
         },
         {
          "Year": 2026,
          "value": 1.2538036800305024,
          "variable": "FUNDFAIR"
         },
         {
          "Year": 2027,
          "value": 1.2736591548903053,
          "variable": "FUNDFAIR"
         },
         {
          "Year": 2028,
          "value": 1.293354523057519,
          "variable": "FUNDFAIR"
         },
         {
          "Year": 2029,
          "value": 1.3121513414316235,
          "variable": "FUNDFAIR"
         },
         {
          "Year": 2030,
          "value": 1.3312451765109503,
          "variable": "FUNDFAIR"
         },
         {
          "Year": 2031,
          "value": 1.3509230696291854,
          "variable": "FUNDFAIR"
         },
         {
          "Year": 2032,
          "value": 1.3724986648141466,
          "variable": "FUNDFAIR"
         },
         {
          "Year": 2033,
          "value": 1.3980925028517448,
          "variable": "FUNDFAIR"
         },
         {
          "Year": 2034,
          "value": 1.428942266320284,
          "variable": "FUNDFAIR"
         },
         {
          "Year": 2035,
          "value": 1.4598255737626673,
          "variable": "FUNDFAIR"
         },
         {
          "Year": 2036,
          "value": 1.4924080638586288,
          "variable": "FUNDFAIR"
         },
         {
          "Year": 2037,
          "value": 1.5220026629312902,
          "variable": "FUNDFAIR"
         },
         {
          "Year": 2038,
          "value": 1.5515183355809734,
          "variable": "FUNDFAIR"
         },
         {
          "Year": 2039,
          "value": 1.577996543644924,
          "variable": "FUNDFAIR"
         },
         {
          "Year": 2040,
          "value": 1.6022858388754928,
          "variable": "FUNDFAIR"
         },
         {
          "Year": 2041,
          "value": 1.6251077049448035,
          "variable": "FUNDFAIR"
         },
         {
          "Year": 2042,
          "value": 1.6486351414056104,
          "variable": "FUNDFAIR"
         },
         {
          "Year": 2043,
          "value": 1.6737951524313364,
          "variable": "FUNDFAIR"
         },
         {
          "Year": 2044,
          "value": 1.7014953414351557,
          "variable": "FUNDFAIR"
         },
         {
          "Year": 2045,
          "value": 1.734181240923715,
          "variable": "FUNDFAIR"
         },
         {
          "Year": 2046,
          "value": 1.7694442702472981,
          "variable": "FUNDFAIR"
         },
         {
          "Year": 2047,
          "value": 1.8071378106712501,
          "variable": "FUNDFAIR"
         },
         {
          "Year": 2048,
          "value": 1.8438141856104207,
          "variable": "FUNDFAIR"
         },
         {
          "Year": 2049,
          "value": 1.8765561280710594,
          "variable": "FUNDFAIR"
         },
         {
          "Year": 2050,
          "value": 1.9048616197905384,
          "variable": "FUNDFAIR"
         },
         {
          "Year": 2051,
          "value": 1.9315648470422224,
          "variable": "FUNDFAIR"
         },
         {
          "Year": 2052,
          "value": 1.957182905310955,
          "variable": "FUNDFAIR"
         },
         {
          "Year": 2053,
          "value": 1.9824948213289049,
          "variable": "FUNDFAIR"
         },
         {
          "Year": 2054,
          "value": 2.009512611633964,
          "variable": "FUNDFAIR"
         },
         {
          "Year": 2055,
          "value": 2.039933918200668,
          "variable": "FUNDFAIR"
         },
         {
          "Year": 2056,
          "value": 2.0736992053153274,
          "variable": "FUNDFAIR"
         },
         {
          "Year": 2057,
          "value": 2.107009877238891,
          "variable": "FUNDFAIR"
         },
         {
          "Year": 2058,
          "value": 2.140465598860274,
          "variable": "FUNDFAIR"
         },
         {
          "Year": 2059,
          "value": 2.1738829173867167,
          "variable": "FUNDFAIR"
         },
         {
          "Year": 2060,
          "value": 2.204318105915083,
          "variable": "FUNDFAIR"
         },
         {
          "Year": 2061,
          "value": 2.232724668780885,
          "variable": "FUNDFAIR"
         },
         {
          "Year": 2062,
          "value": 2.259933858977774,
          "variable": "FUNDFAIR"
         },
         {
          "Year": 2063,
          "value": 2.2874135607728445,
          "variable": "FUNDFAIR"
         },
         {
          "Year": 2064,
          "value": 2.3155248397674026,
          "variable": "FUNDFAIR"
         },
         {
          "Year": 2065,
          "value": 2.3451740329773543,
          "variable": "FUNDFAIR"
         },
         {
          "Year": 2066,
          "value": 2.3787717992914503,
          "variable": "FUNDFAIR"
         },
         {
          "Year": 2067,
          "value": 2.415138287907376,
          "variable": "FUNDFAIR"
         },
         {
          "Year": 2068,
          "value": 2.4523571249034113,
          "variable": "FUNDFAIR"
         },
         {
          "Year": 2069,
          "value": 2.4877725950176584,
          "variable": "FUNDFAIR"
         },
         {
          "Year": 2070,
          "value": 2.520585353791871,
          "variable": "FUNDFAIR"
         },
         {
          "Year": 2071,
          "value": 2.5504827044705354,
          "variable": "FUNDFAIR"
         },
         {
          "Year": 2072,
          "value": 2.5795699792590963,
          "variable": "FUNDFAIR"
         },
         {
          "Year": 2073,
          "value": 2.60843299752954,
          "variable": "FUNDFAIR"
         },
         {
          "Year": 2074,
          "value": 2.6367096370077836,
          "variable": "FUNDFAIR"
         },
         {
          "Year": 2075,
          "value": 2.6654344087444573,
          "variable": "FUNDFAIR"
         },
         {
          "Year": 2076,
          "value": 2.694552319734883,
          "variable": "FUNDFAIR"
         },
         {
          "Year": 2077,
          "value": 2.7254332583333563,
          "variable": "FUNDFAIR"
         },
         {
          "Year": 2078,
          "value": 2.759196310385104,
          "variable": "FUNDFAIR"
         },
         {
          "Year": 2079,
          "value": 2.7954540665246164,
          "variable": "FUNDFAIR"
         },
         {
          "Year": 2080,
          "value": 2.833016876493442,
          "variable": "FUNDFAIR"
         },
         {
          "Year": 2081,
          "value": 2.8703880738774847,
          "variable": "FUNDFAIR"
         },
         {
          "Year": 2082,
          "value": 2.9074278309272747,
          "variable": "FUNDFAIR"
         },
         {
          "Year": 2083,
          "value": 2.942595887258613,
          "variable": "FUNDFAIR"
         },
         {
          "Year": 2084,
          "value": 2.9772649608184354,
          "variable": "FUNDFAIR"
         },
         {
          "Year": 2085,
          "value": 3.0097903567228235,
          "variable": "FUNDFAIR"
         },
         {
          "Year": 2086,
          "value": 3.041876474342268,
          "variable": "FUNDFAIR"
         },
         {
          "Year": 2087,
          "value": 3.07502278474159,
          "variable": "FUNDFAIR"
         },
         {
          "Year": 2088,
          "value": 3.1093809842769993,
          "variable": "FUNDFAIR"
         },
         {
          "Year": 2089,
          "value": 3.1466074145486402,
          "variable": "FUNDFAIR"
         },
         {
          "Year": 2090,
          "value": 3.1875018223507454,
          "variable": "FUNDFAIR"
         },
         {
          "Year": 2091,
          "value": 3.23015840291263,
          "variable": "FUNDFAIR"
         },
         {
          "Year": 2092,
          "value": 3.2749999152229234,
          "variable": "FUNDFAIR"
         },
         {
          "Year": 2093,
          "value": 3.316913975382104,
          "variable": "FUNDFAIR"
         },
         {
          "Year": 2094,
          "value": 3.3551470931497898,
          "variable": "FUNDFAIR"
         },
         {
          "Year": 2095,
          "value": 3.3910521809251764,
          "variable": "FUNDFAIR"
         },
         {
          "Year": 2096,
          "value": 3.4247299434940275,
          "variable": "FUNDFAIR"
         },
         {
          "Year": 2097,
          "value": 3.4583904738385582,
          "variable": "FUNDFAIR"
         },
         {
          "Year": 2098,
          "value": 3.4920845148844295,
          "variable": "FUNDFAIR"
         },
         {
          "Year": 2099,
          "value": 3.5278080038000628,
          "variable": "FUNDFAIR"
         },
         {
          "Year": 2100,
          "value": 3.566642727866825,
          "variable": "FUNDFAIR"
         },
         {
          "Year": 2101,
          "value": 3.6083219254041796,
          "variable": "FUNDFAIR"
         },
         {
          "Year": 2102,
          "value": 3.648853474955387,
          "variable": "FUNDFAIR"
         },
         {
          "Year": 2103,
          "value": 3.6884497913075416,
          "variable": "FUNDFAIR"
         },
         {
          "Year": 2104,
          "value": 3.726117499329477,
          "variable": "FUNDFAIR"
         },
         {
          "Year": 2105,
          "value": 3.7609442666075474,
          "variable": "FUNDFAIR"
         },
         {
          "Year": 2106,
          "value": 3.7946518346127585,
          "variable": "FUNDFAIR"
         },
         {
          "Year": 2107,
          "value": 3.827720679069062,
          "variable": "FUNDFAIR"
         },
         {
          "Year": 2108,
          "value": 3.861361851770058,
          "variable": "FUNDFAIR"
         },
         {
          "Year": 2109,
          "value": 3.8963394546712835,
          "variable": "FUNDFAIR"
         },
         {
          "Year": 2110,
          "value": 3.9341132296570382,
          "variable": "FUNDFAIR"
         },
         {
          "Year": 2111,
          "value": 3.976848240015762,
          "variable": "FUNDFAIR"
         },
         {
          "Year": 2112,
          "value": 4.018318348001957,
          "variable": "FUNDFAIR"
         },
         {
          "Year": 2113,
          "value": 4.058836121129179,
          "variable": "FUNDFAIR"
         },
         {
          "Year": 2114,
          "value": 4.095238639345895,
          "variable": "FUNDFAIR"
         },
         {
          "Year": 2115,
          "value": 4.13047646783281,
          "variable": "FUNDFAIR"
         },
         {
          "Year": 2116,
          "value": 4.163036945842486,
          "variable": "FUNDFAIR"
         },
         {
          "Year": 2117,
          "value": 4.194732074901217,
          "variable": "FUNDFAIR"
         },
         {
          "Year": 2118,
          "value": 4.226153816231705,
          "variable": "FUNDFAIR"
         },
         {
          "Year": 2119,
          "value": 4.258212111016417,
          "variable": "FUNDFAIR"
         },
         {
          "Year": 2120,
          "value": 4.293149006379947,
          "variable": "FUNDFAIR"
         },
         {
          "Year": 2121,
          "value": 4.331658052718151,
          "variable": "FUNDFAIR"
         },
         {
          "Year": 2122,
          "value": 4.373137014638084,
          "variable": "FUNDFAIR"
         },
         {
          "Year": 2123,
          "value": 4.410536472862285,
          "variable": "FUNDFAIR"
         },
         {
          "Year": 2124,
          "value": 4.447603899086545,
          "variable": "FUNDFAIR"
         },
         {
          "Year": 2125,
          "value": 4.480455466009688,
          "variable": "FUNDFAIR"
         },
         {
          "Year": 2126,
          "value": 4.510241816873257,
          "variable": "FUNDFAIR"
         },
         {
          "Year": 2127,
          "value": 4.539126592255531,
          "variable": "FUNDFAIR"
         },
         {
          "Year": 2128,
          "value": 4.567429641014501,
          "variable": "FUNDFAIR"
         },
         {
          "Year": 2129,
          "value": 4.596713496139952,
          "variable": "FUNDFAIR"
         },
         {
          "Year": 2130,
          "value": 4.628846757479366,
          "variable": "FUNDFAIR"
         },
         {
          "Year": 2131,
          "value": 4.667056732747597,
          "variable": "FUNDFAIR"
         },
         {
          "Year": 2132,
          "value": 4.704633032188337,
          "variable": "FUNDFAIR"
         },
         {
          "Year": 2133,
          "value": 4.741874950596988,
          "variable": "FUNDFAIR"
         },
         {
          "Year": 2134,
          "value": 4.7754004270529995,
          "variable": "FUNDFAIR"
         },
         {
          "Year": 2135,
          "value": 4.804873228049636,
          "variable": "FUNDFAIR"
         },
         {
          "Year": 2136,
          "value": 4.8304834820639115,
          "variable": "FUNDFAIR"
         },
         {
          "Year": 2137,
          "value": 4.855591016309023,
          "variable": "FUNDFAIR"
         },
         {
          "Year": 2138,
          "value": 4.880225855840368,
          "variable": "FUNDFAIR"
         },
         {
          "Year": 2139,
          "value": 4.9050045267422195,
          "variable": "FUNDFAIR"
         },
         {
          "Year": 2140,
          "value": 4.930765684806933,
          "variable": "FUNDFAIR"
         },
         {
          "Year": 2141,
          "value": 4.959349287647402,
          "variable": "FUNDFAIR"
         },
         {
          "Year": 2142,
          "value": 4.9901401026095,
          "variable": "FUNDFAIR"
         },
         {
          "Year": 2143,
          "value": 5.02034844171537,
          "variable": "FUNDFAIR"
         },
         {
          "Year": 2144,
          "value": 5.050240144463896,
          "variable": "FUNDFAIR"
         },
         {
          "Year": 2145,
          "value": 5.078743916900106,
          "variable": "FUNDFAIR"
         },
         {
          "Year": 2146,
          "value": 5.104244723976032,
          "variable": "FUNDFAIR"
         },
         {
          "Year": 2147,
          "value": 5.129300270853346,
          "variable": "FUNDFAIR"
         },
         {
          "Year": 2148,
          "value": 5.1526747412659475,
          "variable": "FUNDFAIR"
         },
         {
          "Year": 2149,
          "value": 5.175340505258948,
          "variable": "FUNDFAIR"
         },
         {
          "Year": 2150,
          "value": 5.197798906282242,
          "variable": "FUNDFAIR"
         },
         {
          "Year": 2151,
          "value": 5.22045116047162,
          "variable": "FUNDFAIR"
         },
         {
          "Year": 2152,
          "value": 5.245360929916148,
          "variable": "FUNDFAIR"
         },
         {
          "Year": 2153,
          "value": 5.274045827785564,
          "variable": "FUNDFAIR"
         },
         {
          "Year": 2154,
          "value": 5.304641345513195,
          "variable": "FUNDFAIR"
         },
         {
          "Year": 2155,
          "value": 5.333167350969299,
          "variable": "FUNDFAIR"
         },
         {
          "Year": 2156,
          "value": 5.359533371535209,
          "variable": "FUNDFAIR"
         },
         {
          "Year": 2157,
          "value": 5.38273889686612,
          "variable": "FUNDFAIR"
         },
         {
          "Year": 2158,
          "value": 5.402408992712282,
          "variable": "FUNDFAIR"
         },
         {
          "Year": 2159,
          "value": 5.4197777932186515,
          "variable": "FUNDFAIR"
         },
         {
          "Year": 2160,
          "value": 5.436359696823008,
          "variable": "FUNDFAIR"
         },
         {
          "Year": 2161,
          "value": 5.453720923611665,
          "variable": "FUNDFAIR"
         },
         {
          "Year": 2162,
          "value": 5.473675082858847,
          "variable": "FUNDFAIR"
         },
         {
          "Year": 2163,
          "value": 5.497897634211037,
          "variable": "FUNDFAIR"
         },
         {
          "Year": 2164,
          "value": 5.525219162938218,
          "variable": "FUNDFAIR"
         },
         {
          "Year": 2165,
          "value": 5.549227782387727,
          "variable": "FUNDFAIR"
         },
         {
          "Year": 2166,
          "value": 5.572533950396126,
          "variable": "FUNDFAIR"
         },
         {
          "Year": 2167,
          "value": 5.590482804665511,
          "variable": "FUNDFAIR"
         },
         {
          "Year": 2168,
          "value": 5.605287130656073,
          "variable": "FUNDFAIR"
         },
         {
          "Year": 2169,
          "value": 5.618410113439712,
          "variable": "FUNDFAIR"
         },
         {
          "Year": 2170,
          "value": 5.631073359309096,
          "variable": "FUNDFAIR"
         },
         {
          "Year": 2171,
          "value": 5.644199603197329,
          "variable": "FUNDFAIR"
         },
         {
          "Year": 2172,
          "value": 5.659202687460953,
          "variable": "FUNDFAIR"
         },
         {
          "Year": 2173,
          "value": 5.678206796139113,
          "variable": "FUNDFAIR"
         },
         {
          "Year": 2174,
          "value": 5.698706880014137,
          "variable": "FUNDFAIR"
         },
         {
          "Year": 2175,
          "value": 5.720024358597887,
          "variable": "FUNDFAIR"
         },
         {
          "Year": 2176,
          "value": 5.740119781203097,
          "variable": "FUNDFAIR"
         },
         {
          "Year": 2177,
          "value": 5.757024612314067,
          "variable": "FUNDFAIR"
         },
         {
          "Year": 2178,
          "value": 5.770552746781734,
          "variable": "FUNDFAIR"
         },
         {
          "Year": 2179,
          "value": 5.7824354326684615,
          "variable": "FUNDFAIR"
         },
         {
          "Year": 2180,
          "value": 5.7928172370290785,
          "variable": "FUNDFAIR"
         },
         {
          "Year": 2181,
          "value": 5.802747666991095,
          "variable": "FUNDFAIR"
         },
         {
          "Year": 2182,
          "value": 5.812376045693538,
          "variable": "FUNDFAIR"
         },
         {
          "Year": 2183,
          "value": 5.822342974823969,
          "variable": "FUNDFAIR"
         },
         {
          "Year": 2184,
          "value": 5.833393582466135,
          "variable": "FUNDFAIR"
         },
         {
          "Year": 2185,
          "value": 5.8465202097869025,
          "variable": "FUNDFAIR"
         },
         {
          "Year": 2186,
          "value": 5.863592986804444,
          "variable": "FUNDFAIR"
         },
         {
          "Year": 2187,
          "value": 5.880267064237642,
          "variable": "FUNDFAIR"
         },
         {
          "Year": 2188,
          "value": 5.897161234506851,
          "variable": "FUNDFAIR"
         },
         {
          "Year": 2189,
          "value": 5.913831376372418,
          "variable": "FUNDFAIR"
         },
         {
          "Year": 2190,
          "value": 5.926621009728654,
          "variable": "FUNDFAIR"
         },
         {
          "Year": 2191,
          "value": 5.936638401852534,
          "variable": "FUNDFAIR"
         },
         {
          "Year": 2192,
          "value": 5.945323792214852,
          "variable": "FUNDFAIR"
         },
         {
          "Year": 2193,
          "value": 5.953977601076341,
          "variable": "FUNDFAIR"
         },
         {
          "Year": 2194,
          "value": 5.962878892211779,
          "variable": "FUNDFAIR"
         },
         {
          "Year": 2195,
          "value": 5.973201749368044,
          "variable": "FUNDFAIR"
         },
         {
          "Year": 2196,
          "value": 5.987227088099723,
          "variable": "FUNDFAIR"
         },
         {
          "Year": 2197,
          "value": 6.004327824518683,
          "variable": "FUNDFAIR"
         },
         {
          "Year": 2198,
          "value": 6.022170287378791,
          "variable": "FUNDFAIR"
         },
         {
          "Year": 2199,
          "value": 6.037428936316556,
          "variable": "FUNDFAIR"
         },
         {
          "Year": 2200,
          "value": 6.049769752911918,
          "variable": "FUNDFAIR"
         },
         {
          "Year": 2201,
          "value": 6.058418705032064,
          "variable": "FUNDFAIR"
         },
         {
          "Year": 2202,
          "value": 6.065981066023102,
          "variable": "FUNDFAIR"
         },
         {
          "Year": 2203,
          "value": 6.0729546664579495,
          "variable": "FUNDFAIR"
         },
         {
          "Year": 2204,
          "value": 6.078735977099123,
          "variable": "FUNDFAIR"
         },
         {
          "Year": 2205,
          "value": 6.084637454320956,
          "variable": "FUNDFAIR"
         },
         {
          "Year": 2206,
          "value": 6.090477944023441,
          "variable": "FUNDFAIR"
         },
         {
          "Year": 2207,
          "value": 6.097761663890093,
          "variable": "FUNDFAIR"
         },
         {
          "Year": 2208,
          "value": 6.107681255655528,
          "variable": "FUNDFAIR"
         },
         {
          "Year": 2209,
          "value": 6.119897664918868,
          "variable": "FUNDFAIR"
         },
         {
          "Year": 2210,
          "value": 6.133277242273931,
          "variable": "FUNDFAIR"
         },
         {
          "Year": 2211,
          "value": 6.145600427327257,
          "variable": "FUNDFAIR"
         },
         {
          "Year": 2212,
          "value": 6.156916631492886,
          "variable": "FUNDFAIR"
         },
         {
          "Year": 2213,
          "value": 6.165750566483874,
          "variable": "FUNDFAIR"
         },
         {
          "Year": 2214,
          "value": 6.173396676693465,
          "variable": "FUNDFAIR"
         },
         {
          "Year": 2215,
          "value": 6.178348886191614,
          "variable": "FUNDFAIR"
         },
         {
          "Year": 2216,
          "value": 6.182385729981167,
          "variable": "FUNDFAIR"
         },
         {
          "Year": 2217,
          "value": 6.187160443214653,
          "variable": "FUNDFAIR"
         },
         {
          "Year": 2218,
          "value": 6.1929317593416755,
          "variable": "FUNDFAIR"
         },
         {
          "Year": 2219,
          "value": 6.201387590995209,
          "variable": "FUNDFAIR"
         },
         {
          "Year": 2220,
          "value": 6.213159732581438,
          "variable": "FUNDFAIR"
         },
         {
          "Year": 2221,
          "value": 6.226644504424892,
          "variable": "FUNDFAIR"
         },
         {
          "Year": 2222,
          "value": 6.242642429041698,
          "variable": "FUNDFAIR"
         },
         {
          "Year": 2223,
          "value": 6.255311789770233,
          "variable": "FUNDFAIR"
         },
         {
          "Year": 2224,
          "value": 6.264160860440185,
          "variable": "FUNDFAIR"
         },
         {
          "Year": 2225,
          "value": 6.270377942066309,
          "variable": "FUNDFAIR"
         },
         {
          "Year": 2226,
          "value": 6.273947799440541,
          "variable": "FUNDFAIR"
         },
         {
          "Year": 2227,
          "value": 6.277631254440342,
          "variable": "FUNDFAIR"
         },
         {
          "Year": 2228,
          "value": 6.280921061359227,
          "variable": "FUNDFAIR"
         },
         {
          "Year": 2229,
          "value": 6.286390413462695,
          "variable": "FUNDFAIR"
         },
         {
          "Year": 2230,
          "value": 6.295368258031561,
          "variable": "FUNDFAIR"
         },
         {
          "Year": 2231,
          "value": 6.306087317404786,
          "variable": "FUNDFAIR"
         },
         {
          "Year": 2232,
          "value": 6.3165800077387875,
          "variable": "FUNDFAIR"
         },
         {
          "Year": 2233,
          "value": 6.327569641032499,
          "variable": "FUNDFAIR"
         },
         {
          "Year": 2234,
          "value": 6.336290064598658,
          "variable": "FUNDFAIR"
         },
         {
          "Year": 2235,
          "value": 6.343355201486576,
          "variable": "FUNDFAIR"
         },
         {
          "Year": 2236,
          "value": 6.347525598967826,
          "variable": "FUNDFAIR"
         },
         {
          "Year": 2237,
          "value": 6.351158159478408,
          "variable": "FUNDFAIR"
         },
         {
          "Year": 2238,
          "value": 6.354779033562167,
          "variable": "FUNDFAIR"
         },
         {
          "Year": 2239,
          "value": 6.359281585053585,
          "variable": "FUNDFAIR"
         },
         {
          "Year": 2240,
          "value": 6.365858268740186,
          "variable": "FUNDFAIR"
         },
         {
          "Year": 2241,
          "value": 6.376334012662374,
          "variable": "FUNDFAIR"
         },
         {
          "Year": 2242,
          "value": 6.3894630919558235,
          "variable": "FUNDFAIR"
         },
         {
          "Year": 2243,
          "value": 6.401629258698691,
          "variable": "FUNDFAIR"
         },
         {
          "Year": 2244,
          "value": 6.412226209416363,
          "variable": "FUNDFAIR"
         },
         {
          "Year": 2245,
          "value": 6.4194554868492775,
          "variable": "FUNDFAIR"
         },
         {
          "Year": 2246,
          "value": 6.424004346171187,
          "variable": "FUNDFAIR"
         },
         {
          "Year": 2247,
          "value": 6.42786886423466,
          "variable": "FUNDFAIR"
         },
         {
          "Year": 2248,
          "value": 6.430579796574121,
          "variable": "FUNDFAIR"
         },
         {
          "Year": 2249,
          "value": 6.433050596102043,
          "variable": "FUNDFAIR"
         },
         {
          "Year": 2250,
          "value": 6.435590762582029,
          "variable": "FUNDFAIR"
         },
         {
          "Year": 2251,
          "value": 6.438885203058435,
          "variable": "FUNDFAIR"
         },
         {
          "Year": 2252,
          "value": 6.444092256773828,
          "variable": "FUNDFAIR"
         },
         {
          "Year": 2253,
          "value": 6.452143766247021,
          "variable": "FUNDFAIR"
         },
         {
          "Year": 2254,
          "value": 6.462784876604249,
          "variable": "FUNDFAIR"
         },
         {
          "Year": 2255,
          "value": 6.472986863552176,
          "variable": "FUNDFAIR"
         },
         {
          "Year": 2256,
          "value": 6.483156939878371,
          "variable": "FUNDFAIR"
         },
         {
          "Year": 2257,
          "value": 6.491946763165539,
          "variable": "FUNDFAIR"
         },
         {
          "Year": 2258,
          "value": 6.498274117602912,
          "variable": "FUNDFAIR"
         },
         {
          "Year": 2259,
          "value": 6.503308900143539,
          "variable": "FUNDFAIR"
         },
         {
          "Year": 2260,
          "value": 6.505960885572415,
          "variable": "FUNDFAIR"
         },
         {
          "Year": 2261,
          "value": 6.508111150070772,
          "variable": "FUNDFAIR"
         },
         {
          "Year": 2262,
          "value": 6.511213090925764,
          "variable": "FUNDFAIR"
         },
         {
          "Year": 2263,
          "value": 6.5154820529716115,
          "variable": "FUNDFAIR"
         },
         {
          "Year": 2264,
          "value": 6.522774498522641,
          "variable": "FUNDFAIR"
         },
         {
          "Year": 2265,
          "value": 6.533523743354239,
          "variable": "FUNDFAIR"
         },
         {
          "Year": 2266,
          "value": 6.54608564095296,
          "variable": "FUNDFAIR"
         },
         {
          "Year": 2267,
          "value": 6.559851794908434,
          "variable": "FUNDFAIR"
         },
         {
          "Year": 2268,
          "value": 6.569178465450519,
          "variable": "FUNDFAIR"
         },
         {
          "Year": 2269,
          "value": 6.575604078588729,
          "variable": "FUNDFAIR"
         },
         {
          "Year": 2270,
          "value": 6.579032489039692,
          "variable": "FUNDFAIR"
         },
         {
          "Year": 2271,
          "value": 6.5812613315881325,
          "variable": "FUNDFAIR"
         },
         {
          "Year": 2272,
          "value": 6.582602668643739,
          "variable": "FUNDFAIR"
         },
         {
          "Year": 2273,
          "value": 6.58490995831076,
          "variable": "FUNDFAIR"
         },
         {
          "Year": 2274,
          "value": 6.589989149715979,
          "variable": "FUNDFAIR"
         },
         {
          "Year": 2275,
          "value": 6.598181393574403,
          "variable": "FUNDFAIR"
         },
         {
          "Year": 2276,
          "value": 6.607997839734603,
          "variable": "FUNDFAIR"
         },
         {
          "Year": 2277,
          "value": 6.616906209104285,
          "variable": "FUNDFAIR"
         },
         {
          "Year": 2278,
          "value": 6.624763671001902,
          "variable": "FUNDFAIR"
         },
         {
          "Year": 2279,
          "value": 6.630573522823037,
          "variable": "FUNDFAIR"
         },
         {
          "Year": 2280,
          "value": 6.633527448076968,
          "variable": "FUNDFAIR"
         },
         {
          "Year": 2281,
          "value": 6.635603948641831,
          "variable": "FUNDFAIR"
         },
         {
          "Year": 2282,
          "value": 6.63789366750362,
          "variable": "FUNDFAIR"
         },
         {
          "Year": 2283,
          "value": 6.640616158357128,
          "variable": "FUNDFAIR"
         },
         {
          "Year": 2284,
          "value": 6.64540046436557,
          "variable": "FUNDFAIR"
         },
         {
          "Year": 2285,
          "value": 6.653886641188909,
          "variable": "FUNDFAIR"
         },
         {
          "Year": 2286,
          "value": 6.665501100812409,
          "variable": "FUNDFAIR"
         },
         {
          "Year": 2287,
          "value": 6.677078825475216,
          "variable": "FUNDFAIR"
         },
         {
          "Year": 2288,
          "value": 6.687276428860053,
          "variable": "FUNDFAIR"
         },
         {
          "Year": 2289,
          "value": 6.692250506715544,
          "variable": "FUNDFAIR"
         },
         {
          "Year": 2290,
          "value": 6.696367638765352,
          "variable": "FUNDFAIR"
         },
         {
          "Year": 2291,
          "value": 6.698624189170621,
          "variable": "FUNDFAIR"
         },
         {
          "Year": 2292,
          "value": 6.69966255055987,
          "variable": "FUNDFAIR"
         },
         {
          "Year": 2293,
          "value": 6.700599792761796,
          "variable": "FUNDFAIR"
         },
         {
          "Year": 2294,
          "value": 6.703323374822867,
          "variable": "FUNDFAIR"
         },
         {
          "Year": 2295,
          "value": 6.709892844629005,
          "variable": "FUNDFAIR"
         },
         {
          "Year": 2296,
          "value": 6.71909188495642,
          "variable": "FUNDFAIR"
         },
         {
          "Year": 2297,
          "value": 6.730592961769029,
          "variable": "FUNDFAIR"
         },
         {
          "Year": 2298,
          "value": 6.740907518441743,
          "variable": "FUNDFAIR"
         },
         {
          "Year": 2299,
          "value": 6.747798844850857,
          "variable": "FUNDFAIR"
         },
         {
          "Year": 2300,
          "value": 6.750213630277811,
          "variable": "FUNDFAIR"
         },
         {
          "Year": 2301,
          "value": 6.753269714345274,
          "variable": "FUNDFAIR"
         },
         {
          "Year": 2302,
          "value": 6.756823851774476,
          "variable": "FUNDFAIR"
         },
         {
          "Year": 2303,
          "value": 6.760763898789303,
          "variable": "FUNDFAIR"
         },
         {
          "Year": 2304,
          "value": 6.765002061168914,
          "variable": "FUNDFAIR"
         },
         {
          "Year": 2305,
          "value": 6.769469612960762,
          "variable": "FUNDFAIR"
         },
         {
          "Year": 2306,
          "value": 6.774112758917564,
          "variable": "FUNDFAIR"
         },
         {
          "Year": 2307,
          "value": 6.7788893945594735,
          "variable": "FUNDFAIR"
         },
         {
          "Year": 2308,
          "value": 6.7837665696357075,
          "variable": "FUNDFAIR"
         },
         {
          "Year": 2309,
          "value": 6.788718504065482,
          "variable": "FUNDFAIR"
         },
         {
          "Year": 2310,
          "value": 6.793725027101667,
          "variable": "FUNDFAIR"
         },
         {
          "Year": 2311,
          "value": 6.798770361198798,
          "variable": "FUNDFAIR"
         },
         {
          "Year": 2312,
          "value": 6.803842169032711,
          "variable": "FUNDFAIR"
         },
         {
          "Year": 2313,
          "value": 6.808930806413845,
          "variable": "FUNDFAIR"
         },
         {
          "Year": 2314,
          "value": 6.814028739824801,
          "variable": "FUNDFAIR"
         },
         {
          "Year": 2315,
          "value": 6.819130083865007,
          "variable": "FUNDFAIR"
         },
         {
          "Year": 2316,
          "value": 6.824230245597445,
          "variable": "FUNDFAIR"
         },
         {
          "Year": 2317,
          "value": 6.829325645735292,
          "variable": "FUNDFAIR"
         },
         {
          "Year": 2318,
          "value": 6.8344134931103655,
          "variable": "FUNDFAIR"
         },
         {
          "Year": 2319,
          "value": 6.839491612300024,
          "variable": "FUNDFAIR"
         },
         {
          "Year": 2320,
          "value": 6.844558317779137,
          "variable": "FUNDFAIR"
         },
         {
          "Year": 2321,
          "value": 6.84961230229599,
          "variable": "FUNDFAIR"
         },
         {
          "Year": 2322,
          "value": 6.854652555486188,
          "variable": "FUNDFAIR"
         },
         {
          "Year": 2323,
          "value": 6.859678300939689,
          "variable": "FUNDFAIR"
         },
         {
          "Year": 2324,
          "value": 6.864688941084665,
          "variable": "FUNDFAIR"
         },
         {
          "Year": 2325,
          "value": 6.869684021329908,
          "variable": "FUNDFAIR"
         },
         {
          "Year": 2326,
          "value": 6.874663197862642,
          "variable": "FUNDFAIR"
         },
         {
          "Year": 2327,
          "value": 6.879626212410231,
          "variable": "FUNDFAIR"
         },
         {
          "Year": 2328,
          "value": 6.884572875308624,
          "variable": "FUNDFAIR"
         },
         {
          "Year": 2329,
          "value": 6.889503050708436,
          "variable": "FUNDFAIR"
         },
         {
          "Year": 2330,
          "value": 6.894416646304148,
          "variable": "FUNDFAIR"
         },
         {
          "Year": 2331,
          "value": 6.899313599120974,
          "variable": "FUNDFAIR"
         },
         {
          "Year": 2332,
          "value": 6.904193871198817,
          "variable": "FUNDFAIR"
         },
         {
          "Year": 2333,
          "value": 6.909057445047756,
          "variable": "FUNDFAIR"
         },
         {
          "Year": 2334,
          "value": 6.913904319067305,
          "variable": "FUNDFAIR"
         },
         {
          "Year": 2335,
          "value": 6.918734505584194,
          "variable": "FUNDFAIR"
         },
         {
          "Year": 2336,
          "value": 6.923548023868004,
          "variable": "FUNDFAIR"
         },
         {
          "Year": 2337,
          "value": 6.928344900790837,
          "variable": "FUNDFAIR"
         },
         {
          "Year": 2338,
          "value": 6.93312516780238,
          "variable": "FUNDFAIR"
         },
         {
          "Year": 2339,
          "value": 6.93788886103591,
          "variable": "FUNDFAIR"
         },
         {
          "Year": 2340,
          "value": 6.942636020945349,
          "variable": "FUNDFAIR"
         },
         {
          "Year": 2341,
          "value": 6.947366690461341,
          "variable": "FUNDFAIR"
         },
         {
          "Year": 2342,
          "value": 6.952080917389985,
          "variable": "FUNDFAIR"
         },
         {
          "Year": 2343,
          "value": 6.956778749034251,
          "variable": "FUNDFAIR"
         },
         {
          "Year": 2344,
          "value": 6.9614602308224525,
          "variable": "FUNDFAIR"
         },
         {
          "Year": 2345,
          "value": 6.966125413463331,
          "variable": "FUNDFAIR"
         },
         {
          "Year": 2346,
          "value": 6.9707743493335,
          "variable": "FUNDFAIR"
         },
         {
          "Year": 2347,
          "value": 6.975407087311657,
          "variable": "FUNDFAIR"
         },
         {
          "Year": 2348,
          "value": 6.980023678108811,
          "variable": "FUNDFAIR"
         },
         {
          "Year": 2349,
          "value": 6.984624175756107,
          "variable": "FUNDFAIR"
         },
         {
          "Year": 2350,
          "value": 6.989208632606968,
          "variable": "FUNDFAIR"
         },
         {
          "Year": 2351,
          "value": 6.993776984874746,
          "variable": "FUNDFAIR"
         },
         {
          "Year": 2352,
          "value": 6.998329090266098,
          "variable": "FUNDFAIR"
         },
         {
          "Year": 2353,
          "value": 7.002864870551726,
          "variable": "FUNDFAIR"
         },
         {
          "Year": 2354,
          "value": 7.007384294729656,
          "variable": "FUNDFAIR"
         },
         {
          "Year": 2355,
          "value": 7.011887367067988,
          "variable": "FUNDFAIR"
         },
         {
          "Year": 2356,
          "value": 7.016374120588166,
          "variable": "FUNDFAIR"
         },
         {
          "Year": 2357,
          "value": 7.020844603876641,
          "variable": "FUNDFAIR"
         },
         {
          "Year": 2358,
          "value": 7.025298875766051,
          "variable": "FUNDFAIR"
         },
         {
          "Year": 2359,
          "value": 7.029737009901673,
          "variable": "FUNDFAIR"
         },
         {
          "Year": 2360,
          "value": 7.034159083491139,
          "variable": "FUNDFAIR"
         },
         {
          "Year": 2361,
          "value": 7.0385651780241965,
          "variable": "FUNDFAIR"
         },
         {
          "Year": 2362,
          "value": 7.042955379983023,
          "variable": "FUNDFAIR"
         },
         {
          "Year": 2363,
          "value": 7.047329769983167,
          "variable": "FUNDFAIR"
         },
         {
          "Year": 2364,
          "value": 7.051688430541964,
          "variable": "FUNDFAIR"
         },
         {
          "Year": 2365,
          "value": 7.056031447309941,
          "variable": "FUNDFAIR"
         },
         {
          "Year": 2366,
          "value": 7.060358901889529,
          "variable": "FUNDFAIR"
         },
         {
          "Year": 2367,
          "value": 7.064670873915837,
          "variable": "FUNDFAIR"
         },
         {
          "Year": 2368,
          "value": 7.068967441885269,
          "variable": "FUNDFAIR"
         },
         {
          "Year": 2369,
          "value": 7.073248682620061,
          "variable": "FUNDFAIR"
         },
         {
          "Year": 2370,
          "value": 7.077514671461056,
          "variable": "FUNDFAIR"
         },
         {
          "Year": 2371,
          "value": 7.081765481480737,
          "variable": "FUNDFAIR"
         },
         {
          "Year": 2372,
          "value": 7.086001186750144,
          "variable": "FUNDFAIR"
         },
         {
          "Year": 2373,
          "value": 7.090221858126645,
          "variable": "FUNDFAIR"
         },
         {
          "Year": 2374,
          "value": 7.094427561493266,
          "variable": "FUNDFAIR"
         },
         {
          "Year": 2375,
          "value": 7.098618366599577,
          "variable": "FUNDFAIR"
         },
         {
          "Year": 2376,
          "value": 7.1027943402054765,
          "variable": "FUNDFAIR"
         },
         {
          "Year": 2377,
          "value": 7.106955546948479,
          "variable": "FUNDFAIR"
         },
         {
          "Year": 2378,
          "value": 7.11110205050101,
          "variable": "FUNDFAIR"
         },
         {
          "Year": 2379,
          "value": 7.115233913253334,
          "variable": "FUNDFAIR"
         },
         {
          "Year": 2380,
          "value": 7.119351199306708,
          "variable": "FUNDFAIR"
         },
         {
          "Year": 2381,
          "value": 7.123453969870143,
          "variable": "FUNDFAIR"
         },
         {
          "Year": 2382,
          "value": 7.127542281455941,
          "variable": "FUNDFAIR"
         },
         {
          "Year": 2383,
          "value": 7.131616192763657,
          "variable": "FUNDFAIR"
         },
         {
          "Year": 2384,
          "value": 7.135675765038151,
          "variable": "FUNDFAIR"
         },
         {
          "Year": 2385,
          "value": 7.139721056200528,
          "variable": "FUNDFAIR"
         },
         {
          "Year": 2386,
          "value": 7.14375212385643,
          "variable": "FUNDFAIR"
         },
         {
          "Year": 2387,
          "value": 7.1477690242011,
          "variable": "FUNDFAIR"
         },
         {
          "Year": 2388,
          "value": 7.15177181343895,
          "variable": "FUNDFAIR"
         },
         {
          "Year": 2389,
          "value": 7.155760547370792,
          "variable": "FUNDFAIR"
         },
         {
          "Year": 2390,
          "value": 7.159735283647706,
          "variable": "FUNDFAIR"
         },
         {
          "Year": 2391,
          "value": 7.163696077773242,
          "variable": "FUNDFAIR"
         },
         {
          "Year": 2392,
          "value": 7.167642981638977,
          "variable": "FUNDFAIR"
         },
         {
          "Year": 2393,
          "value": 7.171576051915125,
          "variable": "FUNDFAIR"
         },
         {
          "Year": 2394,
          "value": 7.175495342496557,
          "variable": "FUNDFAIR"
         },
         {
          "Year": 2395,
          "value": 7.179400904077744,
          "variable": "FUNDFAIR"
         },
         {
          "Year": 2396,
          "value": 7.1832927921645595,
          "variable": "FUNDFAIR"
         },
         {
          "Year": 2397,
          "value": 7.187171062772302,
          "variable": "FUNDFAIR"
         },
         {
          "Year": 2398,
          "value": 7.191035766932387,
          "variable": "FUNDFAIR"
         },
         {
          "Year": 2399,
          "value": 7.194886956909537,
          "variable": "FUNDFAIR"
         },
         {
          "Year": 2400,
          "value": 7.198724685231667,
          "variable": "FUNDFAIR"
         },
         {
          "Year": 2401,
          "value": 7.202548927754938,
          "variable": "FUNDFAIR"
         },
         {
          "Year": 2402,
          "value": 7.206359610813438,
          "variable": "FUNDFAIR"
         },
         {
          "Year": 2403,
          "value": 7.210156700354121,
          "variable": "FUNDFAIR"
         },
         {
          "Year": 2404,
          "value": 7.213940192498738,
          "variable": "FUNDFAIR"
         },
         {
          "Year": 2405,
          "value": 7.217710106742995,
          "variable": "FUNDFAIR"
         },
         {
          "Year": 2406,
          "value": 7.221466478937561,
          "variable": "FUNDFAIR"
         },
         {
          "Year": 2407,
          "value": 7.225209357652093,
          "variable": "FUNDFAIR"
         },
         {
          "Year": 2408,
          "value": 7.2289388001061425,
          "variable": "FUNDFAIR"
         },
         {
          "Year": 2409,
          "value": 7.232654868980021,
          "variable": "FUNDFAIR"
         },
         {
          "Year": 2410,
          "value": 7.236357630902495,
          "variable": "FUNDFAIR"
         },
         {
          "Year": 2411,
          "value": 7.240047154973347,
          "variable": "FUNDFAIR"
         },
         {
          "Year": 2412,
          "value": 7.243723511440534,
          "variable": "FUNDFAIR"
         },
         {
          "Year": 2413,
          "value": 7.247386773556641,
          "variable": "FUNDFAIR"
         },
         {
          "Year": 2414,
          "value": 7.251037012620021,
          "variable": "FUNDFAIR"
         },
         {
          "Year": 2415,
          "value": 7.254674295813896,
          "variable": "FUNDFAIR"
         },
         {
          "Year": 2416,
          "value": 7.258298694342721,
          "variable": "FUNDFAIR"
         },
         {
          "Year": 2417,
          "value": 7.261910276308031,
          "variable": "FUNDFAIR"
         },
         {
          "Year": 2418,
          "value": 7.265509105579536,
          "variable": "FUNDFAIR"
         },
         {
          "Year": 2419,
          "value": 7.269095249321023,
          "variable": "FUNDFAIR"
         },
         {
          "Year": 2420,
          "value": 7.272668774284902,
          "variable": "FUNDFAIR"
         },
         {
          "Year": 2421,
          "value": 7.276229740661288,
          "variable": "FUNDFAIR"
         },
         {
          "Year": 2422,
          "value": 7.279778209123155,
          "variable": "FUNDFAIR"
         },
         {
          "Year": 2423,
          "value": 7.283314240185076,
          "variable": "FUNDFAIR"
         },
         {
          "Year": 2424,
          "value": 7.2868378933385705,
          "variable": "FUNDFAIR"
         },
         {
          "Year": 2425,
          "value": 7.290349229157833,
          "variable": "FUNDFAIR"
         },
         {
          "Year": 2426,
          "value": 7.293848304981195,
          "variable": "FUNDFAIR"
         },
         {
          "Year": 2427,
          "value": 7.29733517466291,
          "variable": "FUNDFAIR"
         },
         {
          "Year": 2428,
          "value": 7.300809892790907,
          "variable": "FUNDFAIR"
         },
         {
          "Year": 2429,
          "value": 7.304272516424019,
          "variable": "FUNDFAIR"
         },
         {
          "Year": 2430,
          "value": 7.307723099659395,
          "variable": "FUNDFAIR"
         },
         {
          "Year": 2431,
          "value": 7.311161695455609,
          "variable": "FUNDFAIR"
         },
         {
          "Year": 2432,
          "value": 7.314588356786319,
          "variable": "FUNDFAIR"
         },
         {
          "Year": 2433,
          "value": 7.318003135906986,
          "variable": "FUNDFAIR"
         },
         {
          "Year": 2434,
          "value": 7.3214060836283155,
          "variable": "FUNDFAIR"
         },
         {
          "Year": 2435,
          "value": 7.324797253287837,
          "variable": "FUNDFAIR"
         },
         {
          "Year": 2436,
          "value": 7.328176695449554,
          "variable": "FUNDFAIR"
         },
         {
          "Year": 2437,
          "value": 7.331544456671086,
          "variable": "FUNDFAIR"
         },
         {
          "Year": 2438,
          "value": 7.334900585520303,
          "variable": "FUNDFAIR"
         },
         {
          "Year": 2439,
          "value": 7.338245130864696,
          "variable": "FUNDFAIR"
         },
         {
          "Year": 2440,
          "value": 7.341578143984284,
          "variable": "FUNDFAIR"
         },
         {
          "Year": 2441,
          "value": 7.344899673991101,
          "variable": "FUNDFAIR"
         },
         {
          "Year": 2442,
          "value": 7.348209766330194,
          "variable": "FUNDFAIR"
         },
         {
          "Year": 2443,
          "value": 7.351508470542086,
          "variable": "FUNDFAIR"
         },
         {
          "Year": 2444,
          "value": 7.354795834133859,
          "variable": "FUNDFAIR"
         },
         {
          "Year": 2445,
          "value": 7.358071903931192,
          "variable": "FUNDFAIR"
         },
         {
          "Year": 2446,
          "value": 7.361336726533128,
          "variable": "FUNDFAIR"
         },
         {
          "Year": 2447,
          "value": 7.364590348239059,
          "variable": "FUNDFAIR"
         },
         {
          "Year": 2448,
          "value": 7.367832817767082,
          "variable": "FUNDFAIR"
         },
         {
          "Year": 2449,
          "value": 7.371064179034641,
          "variable": "FUNDFAIR"
         },
         {
          "Year": 2450,
          "value": 7.374284477974506,
          "variable": "FUNDFAIR"
         },
         {
          "Year": 2451,
          "value": 7.3774936746861135,
          "variable": "FUNDFAIR"
         },
         {
          "Year": 2452,
          "value": 7.380691662490501,
          "variable": "FUNDFAIR"
         },
         {
          "Year": 2453,
          "value": 7.383878384047606,
          "variable": "FUNDFAIR"
         },
         {
          "Year": 2454,
          "value": 7.387053820722251,
          "variable": "FUNDFAIR"
         },
         {
          "Year": 2455,
          "value": 7.390217978082773,
          "variable": "FUNDFAIR"
         },
         {
          "Year": 2456,
          "value": 7.393370880697963,
          "variable": "FUNDFAIR"
         },
         {
          "Year": 2457,
          "value": 7.396512564492564,
          "variable": "FUNDFAIR"
         },
         {
          "Year": 2458,
          "value": 7.39964307787745,
          "variable": "FUNDFAIR"
         },
         {
          "Year": 2459,
          "value": 7.40276248027234,
          "variable": "FUNDFAIR"
         },
         {
          "Year": 2460,
          "value": 7.4058708332489775,
          "variable": "FUNDFAIR"
         },
         {
          "Year": 2461,
          "value": 7.408968199759952,
          "variable": "FUNDFAIR"
         },
         {
          "Year": 2462,
          "value": 7.412054644205542,
          "variable": "FUNDFAIR"
         },
         {
          "Year": 2463,
          "value": 7.415130231692641,
          "variable": "FUNDFAIR"
         },
         {
          "Year": 2464,
          "value": 7.418195029950386,
          "variable": "FUNDFAIR"
         },
         {
          "Year": 2465,
          "value": 7.421249104209188,
          "variable": "FUNDFAIR"
         },
         {
          "Year": 2466,
          "value": 7.424292515719122,
          "variable": "FUNDFAIR"
         },
         {
          "Year": 2467,
          "value": 7.4273253264879155,
          "variable": "FUNDFAIR"
         },
         {
          "Year": 2468,
          "value": 7.430347597991123,
          "variable": "FUNDFAIR"
         },
         {
          "Year": 2469,
          "value": 7.433359393972462,
          "variable": "FUNDFAIR"
         },
         {
          "Year": 2470,
          "value": 7.436360774337061,
          "variable": "FUNDFAIR"
         },
         {
          "Year": 2471,
          "value": 7.4393517936899105,
          "variable": "FUNDFAIR"
         },
         {
          "Year": 2472,
          "value": 7.442332510238677,
          "variable": "FUNDFAIR"
         },
         {
          "Year": 2473,
          "value": 7.445302978581886,
          "variable": "FUNDFAIR"
         },
         {
          "Year": 2474,
          "value": 7.448263252527225,
          "variable": "FUNDFAIR"
         },
         {
          "Year": 2475,
          "value": 7.451213384696411,
          "variable": "FUNDFAIR"
         },
         {
          "Year": 2476,
          "value": 7.454153426752742,
          "variable": "FUNDFAIR"
         },
         {
          "Year": 2477,
          "value": 7.4570834293089385,
          "variable": "FUNDFAIR"
         },
         {
          "Year": 2478,
          "value": 7.46000344253796,
          "variable": "FUNDFAIR"
         },
         {
          "Year": 2479,
          "value": 7.4629135156756075,
          "variable": "FUNDFAIR"
         },
         {
          "Year": 2480,
          "value": 7.465813696640786,
          "variable": "FUNDFAIR"
         },
         {
          "Year": 2481,
          "value": 7.46870403272209,
          "variable": "FUNDFAIR"
         },
         {
          "Year": 2482,
          "value": 7.471584570444967,
          "variable": "FUNDFAIR"
         },
         {
          "Year": 2483,
          "value": 7.474455358668369,
          "variable": "FUNDFAIR"
         },
         {
          "Year": 2484,
          "value": 7.4773164431795704,
          "variable": "FUNDFAIR"
         },
         {
          "Year": 2485,
          "value": 7.480167865620912,
          "variable": "FUNDFAIR"
         },
         {
          "Year": 2486,
          "value": 7.4830096695485775,
          "variable": "FUNDFAIR"
         },
         {
          "Year": 2487,
          "value": 7.485841901166636,
          "variable": "FUNDFAIR"
         },
         {
          "Year": 2488,
          "value": 7.488664603790442,
          "variable": "FUNDFAIR"
         },
         {
          "Year": 2489,
          "value": 7.491477820446768,
          "variable": "FUNDFAIR"
         },
         {
          "Year": 2490,
          "value": 7.494281590527386,
          "variable": "FUNDFAIR"
         },
         {
          "Year": 2491,
          "value": 7.497075955564252,
          "variable": "FUNDFAIR"
         },
         {
          "Year": 2492,
          "value": 7.499860959854768,
          "variable": "FUNDFAIR"
         },
         {
          "Year": 2493,
          "value": 7.502636645085221,
          "variable": "FUNDFAIR"
         },
         {
          "Year": 2494,
          "value": 7.50540305204526,
          "variable": "FUNDFAIR"
         },
         {
          "Year": 2495,
          "value": 7.508160221112131,
          "variable": "FUNDFAIR"
         },
         {
          "Year": 2496,
          "value": 7.510908192458936,
          "variable": "FUNDFAIR"
         },
         {
          "Year": 2497,
          "value": 7.513647005280326,
          "variable": "FUNDFAIR"
         },
         {
          "Year": 2498,
          "value": 7.516376701921292,
          "variable": "FUNDFAIR"
         },
         {
          "Year": 2499,
          "value": 7.519097322523143,
          "variable": "FUNDFAIR"
         },
         {
          "Year": 2500,
          "value": 7.5218089341776775,
          "variable": "FUNDFAIR"
         }
        ]
       },
       "encoding": {
        "color": {
         "field": "variable",
         "type": "nominal"
        },
        "x": {
         "field": "Year",
         "type": "temporal"
        },
        "y": {
         "field": "value",
         "type": "quantitative"
        }
       },
       "mark": "line"
      },
      "image/png": "",
      "image/svg+xml": [
       "<?xml version=\"1.0\" encoding=\"utf-8\"?>\n",
       "<!DOCTYPE svg PUBLIC \"-//W3C//DTD SVG 1.1//EN\" \"http://www.w3.org/Graphics/SVG/1.1/DTD/svg11.dtd\">\n",
       "<svg xmlns=\"http://www.w3.org/2000/svg\" xmlns:xlink=\"http://www.w3.org/1999/xlink\" version=\"1.1\" class=\"marks\" width=\"348\" height=\"247\" viewBox=\"0 0 348 247\"><rect width=\"348\" height=\"247\" fill=\"white\"/><g fill=\"none\" stroke-miterlimit=\"10\" transform=\"translate(43,10)\"><g class=\"mark-group role-frame root\" role=\"graphics-object\" aria-roledescription=\"group mark container\"><g transform=\"translate(0,0)\"><path class=\"background\" aria-hidden=\"true\" d=\"M0.5,0.5h200v200h-200Z\" stroke=\"#ddd\"/><g><g class=\"mark-group role-axis\" aria-hidden=\"true\"><g transform=\"translate(0.5,200.5)\"><path class=\"background\" aria-hidden=\"true\" d=\"M0,0h0v0h0Z\" pointer-events=\"none\"/><g><g class=\"mark-rule role-axis-grid\" pointer-events=\"none\"><line transform=\"translate(10,-200)\" x2=\"0\" y2=\"200\" stroke=\"#ddd\" stroke-width=\"1\" opacity=\"1\"/><line transform=\"translate(173,-200)\" x2=\"0\" y2=\"200\" stroke=\"#ddd\" stroke-width=\"1\" opacity=\"1\"/></g></g><path class=\"foreground\" aria-hidden=\"true\" d=\"\" pointer-events=\"none\" display=\"none\"/></g></g><g class=\"mark-group role-axis\" aria-hidden=\"true\"><g transform=\"translate(0.5,0.5)\"><path class=\"background\" aria-hidden=\"true\" d=\"M0,0h0v0h0Z\" pointer-events=\"none\"/><g><g class=\"mark-rule role-axis-grid\" pointer-events=\"none\"><line transform=\"translate(0,182)\" x2=\"200\" y2=\"0\" stroke=\"#ddd\" stroke-width=\"1\" opacity=\"1\"/><line transform=\"translate(0,145)\" x2=\"200\" y2=\"0\" stroke=\"#ddd\" stroke-width=\"1\" opacity=\"1\"/><line transform=\"translate(0,109)\" x2=\"200\" y2=\"0\" stroke=\"#ddd\" stroke-width=\"1\" opacity=\"1\"/><line transform=\"translate(0,73)\" x2=\"200\" y2=\"0\" stroke=\"#ddd\" stroke-width=\"1\" opacity=\"1\"/><line transform=\"translate(0,36)\" x2=\"200\" y2=\"0\" stroke=\"#ddd\" stroke-width=\"1\" opacity=\"1\"/><line transform=\"translate(0,0)\" x2=\"200\" y2=\"0\" stroke=\"#ddd\" stroke-width=\"1\" opacity=\"1\"/></g></g><path class=\"foreground\" aria-hidden=\"true\" d=\"\" pointer-events=\"none\" display=\"none\"/></g></g><g class=\"mark-group role-axis\" role=\"graphics-symbol\" aria-roledescription=\"axis\" aria-label=\"X-axis titled 'Year' for a time scale with values from Wednesday, 31 December 1969, 4:00:01 PM to Wednesday, 31 December 1969, 4:00:02 PM\"><g transform=\"translate(0.5,200.5)\"><path class=\"background\" aria-hidden=\"true\" d=\"M0,0h0v0h0Z\" pointer-events=\"none\"/><g><g class=\"mark-rule role-axis-tick\" pointer-events=\"none\"><line transform=\"translate(10,0)\" x2=\"0\" y2=\"5\" stroke=\"#888\" stroke-width=\"1\" opacity=\"1\"/><line transform=\"translate(173,0)\" x2=\"0\" y2=\"5\" stroke=\"#888\" stroke-width=\"1\" opacity=\"1\"/></g><g class=\"mark-text role-axis-label\" pointer-events=\"none\"><text text-anchor=\"middle\" transform=\"translate(9.523809523809524,15)\" font-family=\"sans-serif\" font-size=\"10px\" fill=\"#000\" opacity=\"1\">.800</text><text text-anchor=\"middle\" transform=\"translate(172.7891156462585,15)\" font-family=\"sans-serif\" font-size=\"10px\" fill=\"#000\" opacity=\"1\">.400</text></g><g class=\"mark-rule role-axis-domain\" pointer-events=\"none\"><line transform=\"translate(0,0)\" x2=\"200\" y2=\"0\" stroke=\"#888\" stroke-width=\"1\" opacity=\"1\"/></g><g class=\"mark-text role-axis-title\" pointer-events=\"none\"><text text-anchor=\"middle\" transform=\"translate(100,30)\" font-family=\"sans-serif\" font-size=\"11px\" font-weight=\"bold\" fill=\"#000\" opacity=\"1\">Year</text></g></g><path class=\"foreground\" aria-hidden=\"true\" d=\"\" pointer-events=\"none\" display=\"none\"/></g></g><g class=\"mark-group role-axis\" role=\"graphics-symbol\" aria-roledescription=\"axis\" aria-label=\"Y-axis titled 'value' for a linear scale with values from −1 to 10\"><g transform=\"translate(0.5,0.5)\"><path class=\"background\" aria-hidden=\"true\" d=\"M0,0h0v0h0Z\" pointer-events=\"none\"/><g><g class=\"mark-rule role-axis-tick\" pointer-events=\"none\"><line transform=\"translate(0,182)\" x2=\"-5\" y2=\"0\" stroke=\"#888\" stroke-width=\"1\" opacity=\"1\"/><line transform=\"translate(0,145)\" x2=\"-5\" y2=\"0\" stroke=\"#888\" stroke-width=\"1\" opacity=\"1\"/><line transform=\"translate(0,109)\" x2=\"-5\" y2=\"0\" stroke=\"#888\" stroke-width=\"1\" opacity=\"1\"/><line transform=\"translate(0,73)\" x2=\"-5\" y2=\"0\" stroke=\"#888\" stroke-width=\"1\" opacity=\"1\"/><line transform=\"translate(0,36)\" x2=\"-5\" y2=\"0\" stroke=\"#888\" stroke-width=\"1\" opacity=\"1\"/><line transform=\"translate(0,0)\" x2=\"-5\" y2=\"0\" stroke=\"#888\" stroke-width=\"1\" opacity=\"1\"/></g><g class=\"mark-text role-axis-label\" pointer-events=\"none\"><text text-anchor=\"end\" transform=\"translate(-7,184.8181818181818)\" font-family=\"sans-serif\" font-size=\"10px\" fill=\"#000\" opacity=\"1\">0</text><text text-anchor=\"end\" transform=\"translate(-7,148.45454545454547)\" font-family=\"sans-serif\" font-size=\"10px\" fill=\"#000\" opacity=\"1\">2</text><text text-anchor=\"end\" transform=\"translate(-7,112.09090909090908)\" font-family=\"sans-serif\" font-size=\"10px\" fill=\"#000\" opacity=\"1\">4</text><text text-anchor=\"end\" transform=\"translate(-7,75.72727272727273)\" font-family=\"sans-serif\" font-size=\"10px\" fill=\"#000\" opacity=\"1\">6</text><text text-anchor=\"end\" transform=\"translate(-7,39.36363636363635)\" font-family=\"sans-serif\" font-size=\"10px\" fill=\"#000\" opacity=\"1\">8</text><text text-anchor=\"end\" transform=\"translate(-7,3)\" font-family=\"sans-serif\" font-size=\"10px\" fill=\"#000\" opacity=\"1\">10</text></g><g class=\"mark-rule role-axis-domain\" pointer-events=\"none\"><line transform=\"translate(0,200)\" x2=\"0\" y2=\"-200\" stroke=\"#888\" stroke-width=\"1\" opacity=\"1\"/></g><g class=\"mark-text role-axis-title\" pointer-events=\"none\"><text text-anchor=\"middle\" transform=\"translate(-27,100) rotate(-90) translate(0,-2)\" font-family=\"sans-serif\" font-size=\"11px\" font-weight=\"bold\" fill=\"#000\" opacity=\"1\">value</text></g></g><path class=\"foreground\" aria-hidden=\"true\" d=\"\" pointer-events=\"none\" display=\"none\"/></g></g><g class=\"mark-group role-scope pathgroup\" role=\"graphics-object\" aria-roledescription=\"group mark container\"><g transform=\"translate(0,0)\"><path class=\"background\" aria-hidden=\"true\" d=\"M0,0h200v200h-200Z\"/><g><g class=\"mark-line role-mark marks\" role=\"graphics-object\" aria-roledescription=\"line mark container\"><path aria-label=\"Year: Dec 31, 1969; value: 0.2; variable: FUND\" role=\"graphics-symbol\" aria-roledescription=\"line mark\" d=\"M0,178.1818181818182L0.27210884353741494,178.09772300387638L0.5442176870748299,178.01185101562456L0.8163265306122449,177.92399742901333L1.0884353741496597,177.8345933130184L1.3605442176870748,177.7439052888962L1.6326530612244898,177.65236486332512L1.9047619047619049,177.56026377788467L2.1768707482993195,177.4668379213362L2.4489795918367347,177.371098550269L2.7210884353741496,177.27077440068214L2.9931972789115644,177.16804862540897L3.2653061224489797,177.06360295575888L3.537414965986395,176.95619494988705L3.8095238095238098,176.84578407547014L4.081632653061225,176.73204168814993L4.353741496598639,176.61480384959057L4.625850340136054,176.49473039637076L4.8979591836734695,176.3716833613894L5.170068027210884,176.24424043148258L5.442176870748299,176.11022542472813L5.714285714285714,175.97016396401423L5.986394557823129,175.82753541402428L6.258503401360545,175.68344454017458L6.530612244897959,175.53758382496952L6.802721088435375,175.39018761503993L7.07482993197279,175.24140751436198L7.346938775510205,175.090929696767L7.6190476190476195,174.93730209370727L7.891156462585033,174.77963026770735L8.16326530612245,174.62006403883882L8.435374149659863,174.45952642740232L8.707482993197278,174.29674270141686L8.979591836734693,174.13172215586806L9.251700680272108,173.96375884003717L9.523809523809524,173.7920350639751L9.795918367346939,173.61660920578032L10.068027210884352,173.4380064498542L10.340136054421768,173.25582344253257L10.612244897959183,173.06909474408454L10.884353741496598,172.8768451690043L11.156462585034014,172.6791067772628L11.428571428571429,172.4768344083184L11.700680272108844,172.2694072582575L11.972789115646258,172.05597965865314L12.244897959183673,171.83626173950364L12.51700680272109,171.6107177227356L12.789115646258503,171.38368613146207L13.061224489795919,171.15806521175344L13.333333333333334,170.93325013580122L13.60544217687075,170.70968956111042L13.877551020408163,170.48519417183L14.14965986394558,170.2570268643378L14.421768707482993,170.02511851205443L14.69387755102041,169.7893030687375L14.965986394557824,169.5478313835054L15.238095238095239,169.29769451877613L15.510204081632653,169.03756251770943L15.782312925170066,168.7674768622668L16.054421768707485,168.48751341645166L16.3265306122449,168.1989336271518L16.598639455782312,167.9039120990363L16.870748299319725,167.603351916776L17.142857142857142,167.2970756363764L17.414965986394556,166.9849280169617L17.687074829931973,166.66673170389558L17.959183673469386,166.3423895273914L18.231292517006803,166.0118088821574L18.503401360544217,165.67490908611455L18.775510204081634,165.33161016100274L19.047619047619047,164.98152083099376L19.319727891156464,164.62395038417773L19.591836734693878,164.25851909726686L19.86394557823129,163.88521544237537L20.136054421768705,163.5040211693723L20.408163265306122,163.1149297868573L20.680272108843536,162.71792929993381L20.952380952380953,162.31304671116112L21.224489795918366,161.90033096513105L21.496598639455783,161.47982709046371L21.768707482993197,161.0510879093362L22.040816326530614,160.61302722037044L22.312925170068027,160.1651778478593L22.585034013605444,159.70762326363297L22.857142857142858,159.24045094811362L23.12925170068027,158.7638041091945L23.401360544217688,158.2776991744866L23.6734693877551,157.78222580525042L23.945578231292515,157.27746113216142L24.217687074829932,156.7634868446628L24.489795918367346,156.2405937708747L24.761904761904763,155.7091074862133L25.03401360544218,155.16922548384912L25.30612244897959,154.6210100238786L25.578231292517007,154.06450502334167L25.850340136054424,153.49978724252193L26.122448979591837,152.926897215404L26.39455782312925,152.3459785211739L26.666666666666668,151.75714842716633L26.93877551020408,151.16051538097898L27.2108843537415,150.55666769027113L27.48299319727891,149.9464182382716L27.755102040816325,149.33014470651517L28.027210884353742,148.70780659605413L28.29931972789116,148.07936517259654L28.57142857142857,147.44478346412663L28.843537414965986,146.80408775383543L29.115646258503403,146.15735357517977L29.38775510204082,145.50464907837952L29.65986394557823,144.84601730010016L29.931972789115648,144.18165525590285L30.20408163265306,143.51178405537007L30.476190476190478,142.83656817416244L30.74829931972789,142.15606156234693L31.020408163265305,141.4703233822209L31.292517006802722,140.77945205593716L31.564625850340132,140.08344027928499L31.83673469387755,139.38227982019188L32.10884353741497,138.67596174658584L32.38095238095238,137.9644828364603L32.6530612244898,137.24792515232335L32.92517006802721,136.52643409298747L33.197278911564624,135.80013496051322L33.46938775510204,135.0690836847221L33.74149659863945,134.33333498983285L34.01360544217687,133.59296129874875L34.285714285714285,132.8479686016506L34.5578231292517,132.09848991645714L34.82993197278911,131.34464687936847L35.10204081632653,130.58656597639998L35.374149659863946,129.82418808516226L35.64625850340136,129.05689336681056L35.91836734693877,128.28445943124765L36.19047619047619,127.506962178163L36.46258503401361,126.72448704033768L36.734693877551024,125.93720693917038L37.006802721088434,125.14514195729667L37.27891156462585,124.34842568983511L37.55102040816327,123.54721923744991L37.823129251700685,122.74165210491965L38.095238095238095,121.93225351558263L38.36734693877551,121.11962584140645L38.63945578231293,120.30415844365132L38.91156462585034,119.48596092520903L39.183673469387756,118.66513627124053L39.455782312925166,117.84188580529941L39.72789115646258,117.01620782182356L40,116.18824889608268L40.27210884353741,115.35816098932217L40.54421768707483,114.52609036218419L40.816326530612244,113.69254750176844L41.08843537414966,112.85811676522157L41.36054421768707,112.02312879565409L41.63265306122449,111.187685447182L41.904761904761905,110.35189595558805L42.17687074829932,109.51587899872538L42.44897959183673,108.67975954545197L42.72108843537415,107.84368787076417L42.993197278911566,107.0078092098338L43.26530612244898,106.17229496055187L43.53741496598639,105.33729711399803L43.80952380952381,104.50299530190748L44.08163265306123,103.66955556029214L44.353741496598644,102.83716368501305L44.625850340136054,102.00599724575765L44.89795918367347,101.17623965499631L45.17006802721089,100.34807280215774L45.442176870748305,99.5216915037693L45.714285714285715,98.69728168402541L45.98639455782313,97.87504138731424L46.25850340136054,97.05516920301362L46.53061224489796,96.23784781263471L46.802721088435376,95.42327551477466L47.074829931972786,94.61163954690515L47.3469387755102,93.80314003883751L47.61904761904761,92.99796991015509L47.89115646258503,92.19632520254825L48.16326530612245,91.39839385091125L48.435374149659864,90.60436491814355L48.707482993197274,89.81442746295711L48.97959183673469,89.02876246497733L49.25170068027211,88.24755715913297L49.523809523809526,87.47099569957628L49.795918367346935,86.69925267681468L50.06802721088436,85.93250818673042L50.34013605442177,85.17093086935496L50.61224489795918,84.41468158539733L50.884353741496604,83.66392650620067L51.156462585034014,82.9188282772456L51.42857142857142,82.17955280737415L51.70068027210885,81.44624887459318L51.97278911564626,80.71905561698476L52.244897959183675,79.99812288275866L52.51700680272109,79.28358674355889L52.7891156462585,78.57557721713285L53.06122448979592,77.87422977126994L53.333333333333336,77.17965674154665L53.605442176870746,76.49199860792339L53.87755102040816,75.81136651917606L54.14965986394557,75.13786337775794L54.421768707483,74.47158711647499L54.69387755102041,73.8126470530621L54.96598639455782,73.161140447312L55.23809523809524,72.51715328052421L55.51020408163265,71.88076341124369L55.78231292517006,71.25203559262513L56.054421768707485,70.6310412485941L56.326530612244895,70.01783672020811L56.59863945578232,69.41246890825077L56.87074829931973,68.81500310738585L57.14285714285714,68.22546805355023L57.41496598639456,67.6439017837736L57.68707482993197,67.07033715734356L57.95918367346938,66.50479720344538L58.23129251700681,65.94730050479482L58.50340136054422,65.39786811841238L58.77551020408164,64.8565062301075L59.04761904761905,64.32322622226145L59.31972789115646,63.798026674620175L59.591836734693885,63.28090591574698L59.863945578231295,62.77185784796533L60.136054421768705,62.270883566112815L60.40816326530612,61.777950188105144L60.68027210884354,61.2930417389248L60.952380952380956,60.816132069379236L61.224489795918366,60.347201303027646L61.49659863945578,59.886215444650915L61.7687074829932,59.43314120795225L62.04081632653061,58.987942135184014L62.31292517006802,58.55057413728699L62.585034013605444,58.12099241083879L62.857142857142854,57.69914336790809L63.129251700680264,57.28498261523889L63.40136054421769,56.878449627766514L63.6734693877551,56.47949078426695L63.94557823129252,56.08805930356553L64.21768707482994,55.70408771749447L64.48979591836735,55.32751830412648L64.76190476190476,54.95828142952624L65.03401360544217,54.59630954385304L65.3061224489796,54.24153311142143L65.578231292517,53.89387503642802L65.85034013605441,53.55327775529375L66.12244897959184,53.219659833554566L66.39455782312925,52.892948483736L66.66666666666666,52.57305971756936L66.93877551020408,52.259920079769714L67.21088435374149,51.95344699075575L67.4829931972789,51.65356813221782L67.75510204081633,51.36019452076246L68.02721088435374,51.0732406908184L68.29931972789116,50.79257046587302L68.57142857142857,50.51805787948296L68.84353741496598,50.24956804904483L69.1156462585034,49.986973044964934L69.38775510204081,49.730145991505935L69.65986394557822,49.47897198303735L69.93197278911565,49.2333176107006L70.20408163265306,48.99308057515262L70.47619047619048,48.75814136328136L70.74829931972789,48.52839068700241L71.0204081632653,48.303721336228L71.29251700680273,48.084013852088894L71.56462585034014,47.869162776428894L71.83673469387755,47.65907210979699L72.10884353741497,47.45364553380029L72.38095238095238,47.25277216090147L72.6530612244898,47.0563584435556L72.92517006802721,46.86431080662283L73.19727891156462,46.67653559173828L73.46938775510205,46.49294831709901L73.74149659863946,46.31344979041965L74.01360544217687,46.13794896544283L74.28571428571429,45.96637123849048L74.5578231292517,45.7986251335732L74.82993197278913,45.63463524533071L75.10204081632654,45.474316727215665L75.37414965986395,45.3175853018648L75.64625850340137,45.16436768764889L75.91836734693878,45.014588432877L76.19047619047619,44.868179054061066L76.46258503401361,44.725063265149444L76.73469387755102,44.585180772096656L77.00680272108843,44.44846128666868L77.27891156462586,44.31482578510937L77.55102040816327,44.18420809521626L77.82312925170068,44.05654353775652L78.0952380952381,43.93177377163644L78.36734693877551,43.809842895761285L78.63945578231292,43.690678500062944L78.91156462585033,43.57422796824017L79.18367346938776,43.460435823865474L79.45578231292517,43.34924585318092L79.72789115646258,43.24060287139597L80,43.134444196883216L80.27210884353741,43.03071945052756L80.54421768707482,42.9293790969272L80.81632653061224,42.83036762050367L81.08843537414965,42.73363246601873L81.36054421768706,42.63910833817617L81.63265306122449,42.54675803984726L81.9047619047619,42.45653753642762L82.17687074829932,42.368400149926025L82.44897959183673,42.282298585624865L82.72108843537414,42.19819337080884L82.99319727891157,42.11603703305171L83.26530612244898,42.03579689849954L83.53741496598639,41.95743015830962L83.80952380952381,41.88088002150161L84.08163265306122,41.80611390862366L84.35374149659864,41.7330959385196L84.62585034013605,41.661783959639685L84.89795918367346,41.592143631539L85.17006802721089,41.5241310407839L85.4421768707483,41.45771379777192L85.71428571428571,41.39286324021556L85.98639455782313,41.3295425020596L86.25850340136054,41.267714034902504L86.53061224489797,41.20735457977687L86.80272108843538,41.14842574768198L87.07482993197279,41.090900193893475L87.34693877551021,41.03473761287377L87.61904761904762,40.97990734224479L87.89115646258503,40.92637931289469L88.16326530612245,40.87412091126921L88.43537414965986,40.82311507467566L88.70748299319729,40.77332302159824L88.9795918367347,40.72472716503774L89.25170068027211,40.67729807257536L89.52380952380953,40.631010267256684L89.79591836734694,40.58583218643614L90.06802721088435,40.54173975650619L90.34013605442178,40.49870768630479L90.61224489795919,40.45671279603127L90.88435374149661,40.415728988583496L91.15646258503402,40.375742079320865L91.42857142857143,40.336711885441346L91.70068027210885,40.29862926173982L91.97278911564626,40.26146821568082L92.24489795918367,40.225209801266516L92.51700680272108,40.189830337814335L92.78911564625851,40.15530357723349L93.06122448979592,40.12161219900187L93.33333333333333,40.08874530521753L93.60544217687075,40.056669381379706L93.87755102040816,40.025368572467656L94.14965986394557,39.99483021365222L94.42176870748298,39.96503508931861L94.6938775510204,39.93597383426803L94.96598639455782,39.907623979232135L95.23809523809523,39.87996365726809L95.51020408163265,39.85311884798224L95.78231292517006,39.82720031903304L96.05442176870748,39.80230506260789L96.3265306122449,39.778517597595034L96.5986394557823,39.75591115094132L96.87074829931973,39.73454873010631L97.14285714285714,39.71448409718077L97.41496598639455,39.69576265408674L97.68707482993197,39.67842224727682L97.95918367346938,39.66249389947796L98.2312925170068,39.64800247525739L98.50340136054422,39.634967286512854L98.77551020408163,39.6234026433852L99.04761904761905,39.61331835556117L99.31972789115646,39.60472018845373L99.59183673469387,39.59761027832358L99.8639455782313,39.59198751002153L100.13605442176872,39.587847860689585L100.40816326530613,39.585184712449426L100.68027210884354,39.58398913682861L100.95238095238095,39.58425015342479L101.22448979591836,39.58595496508146L101.4965986394558,39.589089171643636L101.76870748299321,39.59363696417726L102.04081632653062,39.59958130136742L102.31292517006803,39.60690406965854L102.58503401360544,39.61558622856147L102.85714285714285,39.625607942426775L103.12925170068029,39.636948699869755L103.4013605442177,39.64958742192828L103.6734693877551,39.66350255994049L103.94557823129252,39.67867218404364L104.21768707482993,39.69507406311672L104.48979591836735,39.71268573691808L104.76190476190477,39.731484581104226L105.03401360544218,39.751447865756816L105.3061224489796,39.77255280799057L105.578231292517,39.79477661916524L105.85034013605443,39.81809654717976L106.12244897959184,39.84248991428563L106.39455782312925,39.867934150818684L106.66666666666667,39.89440682521419L106.93877551020408,39.92188567063872L107.21088435374149,39.95034860854354L107.48299319727892,39.97977376941763L107.75510204081633,40.01013951099593L108.02721088435374,40.04142443415366L108.29931972789115,40.073607396700716L108.57142857142857,40.10666752526944L108.843537414966,40.14058422547295L109.1156462585034,40.17533719049708L109.38775510204081,40.210906408272315L109.65986394557822,40.24727216736219L109.93197278911563,40.28441506169076L110.20408163265304,40.322315994222045L110.47619047619048,40.36095617969395L110.74829931972789,40.400317146500896L111.0204081632653,40.44038073781018L111.29251700680271,40.48112911199062L111.56462585034012,40.52254474242438L111.83673469387756,40.56461041676664L112.10884353741497,40.607309235712854L112.38095238095238,40.650624611326556L112.65306122448979,40.69454026497758L112.9251700680272,40.73904022493473L113.19727891156464,40.78410882365397L113.46938775510205,40.82973069479836L113.74149659863946,40.875890770024114L114.01360544217687,40.922574275562674L114.28571428571428,40.96976672862673L114.55782312925169,41.01745393366514L114.82993197278913,41.06562197848946L115.10204081632654,41.11425723029285L115.37414965986395,41.16334633158012L115.64625850340136,41.212876196025206L115.91836734693877,41.262834004271774L116.1904761904762,41.31320719969087L116.46258503401361,41.363983484107145L116.73469387755102,41.41515081350582L117.00680272108843,41.466697393729525L117.27891156462584,41.51861167617448L117.55102040816328,41.570882353494135L117.82312925170069,41.62349835531649L118.0952380952381,41.676448843983074L118.36734693877551,41.72972321031374L118.63945578231292,41.783311069403005L118.91156462585033,41.83720225645266L119.18367346938777,41.89138682264366L119.45578231292518,41.94585503105166L119.72789115646259,42.00059735260844L120,42.05560446211243L120.27210884353741,42.11086723428976L120.54421768707483,42.16637673990855L120.81632653061224,42.22212424194753L121.08843537414967,42.278101191820184L121.36054421768708,42.33429922565604L121.63265306122449,42.390710160639266L121.90476190476191,42.4473259914061L122.17687074829932,42.50413888650038L122.44897959183673,42.56114118488852L122.72108843537414,42.618325392533826L122.99319727891157,42.67568417903001L123.26530612244898,42.73321037429354L123.5374149659864,42.79089696531548L123.80952380952381,42.84873709297192L124.08163265306122,42.906724048892485L124.35374149659863,42.96485127238698L124.62585034013604,43.023112347429304L124.89795918367348,43.0815009996973L125.17006802721089,43.14001109366501L125.4421768707483,43.1986366297592L125.71428571428571,43.25737174157205L125.98639455782312,43.316210693123324L126.25850340136053,43.375147876175916L126.53061224489797,43.43417780760455L126.80272108843538,43.49329512681612L127.07482993197279,43.55249459322139L127.3469387755102,43.611771083757L127.6190476190476,43.67111959045715L127.89115646258504,43.730535218073996L128.16326530612244,43.79001318174567L128.43537414965988,43.8495488047119L128.7074829931973,43.90913751607535L128.9795918367347,43.968774848608795L129.2517006802721,44.028456436606625L129.52380952380952,44.088178013780066L129.79591836734693,44.147935411195725L130.06802721088434,44.20772455525586L130.34013605442175,44.26754146572009L130.6122448979592,44.327382253768L130.8843537414966,44.38724312010067L131.156462585034,44.44712035308229L131.42857142857142,44.507010326919016L131.70068027210883,44.56690949987574L131.97278911564624,44.626814412529555L132.24489795918367,44.68672168605905L132.51700680272108,44.74662802056877L132.7891156462585,44.80653019344856L133.0612244897959,44.866425057766435L133.33333333333331,44.92630954069456L133.60544217687075,44.98618064196784L133.87755102040816,45.04603543237429L134.14965986394557,45.105871052276434L134.42176870748298,45.16568471016329L134.6938775510204,45.225473681232266L134.9659863945578,45.28523530599999L135.23809523809524,45.3449669889423L135.51020408163265,45.4046661971619L135.78231292517006,45.464330459083314L136.05442176870747,45.52395736317543L136.32653061224488,45.58354455669951L136.59863945578232,45.64308974448361L136.87074829931973,45.70259068772196L137.14285714285714,45.76204520279907L137.41496598639455,45.82145116013812L137.68707482993196,45.880806483073066L137.9591836734694,45.940109146744L138.2312925170068,45.99935717701482L138.50340136054422,46.05854864941372L138.77551020408163,46.11768168809498L139.04761904761904,46.17675446482217L139.31972789115645,46.235765197972256L139.59183673469389,46.294712151560155L139.8639455782313,46.35359363428313L140.1360544217687,46.412407998584925L140.40816326530611,46.47115363973888L140.68027210884352,46.529828994950016L140.95238095238096,46.588432542475424L141.22448979591837,46.646962800762346L141.49659863945578,46.705418327604505L141.7687074829932,46.763797719315L142.0408163265306,46.82209960991655L142.312925170068,46.88032267034805L142.58503401360545,46.93846560768742L142.85714285714286,46.996527164390336L143.12925170068027,47.05450611754427L143.40136054421768,47.11240127813796L143.6734693877551,47.17021149034579L143.94557823129253,47.22793563082646L144.21768707482994,47.285572608036276L144.48979591836735,47.34312136155623L144.76190476190476,47.40058086143266L145.03401360544217,47.45795010753176L145.3061224489796,47.51522812890654L145.57823129251702,47.57241398317738L145.85034013605443,47.62950675592448L146.12244897959184,47.68650556009328L146.39455782312925,47.74340953541147L146.66666666666666,47.800217847818004L146.9387755102041,47.85692968890378L147.2108843537415,47.91354427536356L147.48299319727892,47.97006084845905L147.75510204081633,48.026478673492925L148.02721088435374,48.08279703929315L148.29931972789117,48.13901525770843L148.57142857142858,48.19513266311313L148.843537414966,48.25114861192292L149.1156462585034,48.3070624821196L149.3877551020408,48.362873672786L149.65986394557825,48.41858160364993L149.93197278911566,48.474185714637976L150.20408163265307,48.529685465437346L150.47619047619048,48.585080335067566L150.7482993197279,48.64036982146027L151.0204081632653,48.695553441047615L151.29251700680274,48.75063072835899L151.56462585034015,48.80560123562616L151.83673469387756,48.86046453239581L152.10884353741497,48.915220205150625L152.38095238095238,48.96986785693749L152.65306122448982,49.02440710700342L152.92517006802723,49.07883759043903L153.19727891156464,49.13315895782859L153.46938775510205,49.18737087490812L153.74149659863946,49.24147302222954L154.01360544217687,49.29546509483189L154.2857142857143,49.349346801919644L154.55782312925172,49.40311786654661L154.82993197278913,49.4567780253071L155.10204081632654,49.51032702803304L155.37414965986395,49.563764637496966L155.64625850340136,49.617090629121186L155.9183673469388,49.67030479069323L156.1904761904762,49.72340692208641L156.4625850340136,49.77639683498643L156.73469387755102,49.82927435262341L157.00680272108843,49.882039309509516L157.27891156462584,49.93469155118151L157.55102040816325,49.9872309339491L157.82312925170066,50.03965732464777L158.0952380952381,50.091970600397026L158.3673469387755,50.14417064836329L158.63945578231292,50.196257365527956L158.91156462585033,50.24823065845978L159.18367346938774,50.3000904430924L159.45578231292515,50.35183664450598L159.7278911564626,50.403469196713125L160,50.454988042449635L160.2721088435374,50.50639313296927L160.54421768707482,50.55768442784261L160.81632653061223,50.608861894760146L161.08843537414964,50.65992550933933L161.36054421768708,50.71087525493567L161.6326530612245,50.76171112245751L161.9047619047619,50.8124331101846L162.1768707482993,50.86304122359058L162.44897959183672,50.91353547516895L162.72108843537413,50.9639158842625L162.99319727891157,51.014182476896444L163.26530612244898,51.064335285614824L163.5374149659864,51.11437434932036L163.8095238095238,51.164299713117515L164.0816326530612,51.214111428158745L164.35374149659864,51.263809551494234L164.62585034013605,51.313394145924086L164.89795918367346,51.36286527985414L165.17006802721087,51.41222302715469L165.44217687074828,51.46146746702167L165.71428571428572,51.51059868384138L165.98639455782313,51.55961676705723L166.25850340136054,51.608521811040035L166.53061224489795,51.6573139149604L166.80272108843536,51.705993182664024L167.07482993197277,51.75455972254959L167.3469387755102,51.80301364744901L167.61904761904762,51.85135507451042L167.89115646258503,51.8995841250834L168.16326530612244,51.94770092460666L168.43537414965985,51.99570560249811L168.7074829931973,52.04359829204721L168.9795918367347,52.0913791303095L169.2517006802721,52.1390482580034L169.52380952380952,52.1866058194091L169.79591836734693,52.23405196226987L170.06802721088434,52.28138683769501L170.34013605442178,52.32861060006504L170.6122448979592,52.375723406938924L170.8843537414966,52.42272541896335L171.156462585034,52.46961679978375L171.42857142857142,52.51639771595706L171.70068027210885,52.563068336866856L171.97278911564626,52.609628834639736L172.24489795918367,52.656079384063695L172.51700680272108,52.702420162508545L172.7891156462585,52.748651349847364L173.06122448979593,52.79477312838032L173.33333333333334,52.84078568275958L173.60544217687075,52.88668919991623L173.87755102040816,52.93248386898859L174.14965986394557,52.97816988125192L174.42176870748298,53.02374743005005L174.69387755102042,53.069216710728085L174.96598639455783,53.11457792056671L175.23809523809524,53.159831258718086L175.51020408163265,53.204976926142834L175.78231292517006,53.25001512554872L176.0544217687075,53.294946061330315L176.3265306122449,53.3397699395104L176.59863945578232,53.384486967682165L176.87074829931973,53.42909735495318L177.14285714285714,53.47360131189027L177.41496598639458,53.517999050465704L177.687074829932,53.56229078400454L177.9591836734694,53.60647672713321L178.2312925170068,53.65055709572919L178.50340136054422,53.694532106871826L178.77551020408163,53.73840197879429L179.04761904761907,53.78216693083644L179.31972789115648,53.825827183399035L179.59183673469389,53.86938295789867L179.8639455782313,53.91283447672388L180.1360544217687,53.95618196319243L180.40816326530614,53.999425641509106L180.68027210884355,54.04256573672485L180.95238095238096,54.085602474696806L181.22448979591837,54.12853608204911L181.49659863945578,54.17136678613452L181.76870748299322,54.21409481499746L182.04081632653063,54.256720397337176L182.31292517006804,54.299243762472194L182.58503401360545,54.34166514030559L182.85714285714286,54.383984761291L183.12925170068027,54.42620285639925L183.4013605442177,54.46831965708627L183.67346938775512,54.51033539526116L183.94557823129253,54.55225030325532L184.21768707482994,54.59406461379246L184.48979591836735,54.63577855995898L184.76190476190476,54.67739237517533L185.03401360544217,54.71890629316791L185.30612244897958,54.760320547941774L185.57823129251702,54.801635373753776L185.85034013605443,54.8428510050867L186.12244897959184,54.88396767662367L186.39455782312925,54.924985623223456L186.66666666666666,54.965905079896295L186.93877551020407,55.006726281780224L187.2108843537415,55.04744946411817L187.48299319727892,55.08807486223548L187.75510204081633,55.128602711518006L188.02721088435374,55.16903324739091L188.29931972789115,55.20936670529784L188.57142857142856,55.249603320680606L188.84353741496597,55.28974332895962L189.1156462585034,55.32978696551456L189.3877551020408,55.36973446566569L189.65986394557822,55.40958606465565L189.93197278911563,55.449341997631606L190.20408163265304,55.489002499628114L190.47619047619045,55.52856780555015L190.7482993197279,55.56803815015685L191.0204081632653,55.607413768045454L191.2925170068027,55.646694893635825L191.56462585034012,55.68588176115546L191.83673469387753,55.72497460462462L192.10884353741497,55.76397365784223L192.38095238095238,55.80287915437183L192.6530612244898,55.841691327528295L192.9251700680272,55.88041041036447L193.1972789115646,55.91903663565858L193.46938775510205,55.9575702359018L193.74149659863946,55.99601144328625L194.01360544217687,56.034360489693235L194.28571428571428,56.07261760668199L194.5578231292517,56.110783025478625L194.8299319727891,56.148856976965455L195.10204081632654,56.18683969167064L195.37414965986395,56.224731399758056L195.64625850340136,56.26253233101765L195.91836734693877,56.30024271485596L196.19047619047618,56.33786278028692L196.4625850340136,56.37539275592302L196.73469387755102,56.4128328699667L197.00680272108843,56.45018335020209L197.27891156462584,56.48744442398679L197.55102040816325,56.524616318244284L197.8231292517007,56.561699259456354L198.0952380952381,56.59869347365569L198.3673469387755,56.635599186418986L198.63945578231292,56.67241662286007L198.91156462585033,56.70914600762336L199.18367346938774,56.74578756487752L199.45578231292518,56.78234151830941L199.7278911564626,56.8188080911181L200,56.85518750600929\" stroke=\"#f58518\" stroke-width=\"2\"/></g></g><path class=\"foreground\" aria-hidden=\"true\" d=\"\" display=\"none\"/></g><g transform=\"translate(0,0)\"><path class=\"background\" aria-hidden=\"true\" d=\"M0,0h200v200h-200Z\"/><g><g class=\"mark-line role-mark marks\" role=\"graphics-object\" aria-roledescription=\"line mark container\"><path aria-label=\"Year: Dec 31, 1969; value: 0.00506084984256; variable: FAIR\" role=\"graphics-symbol\" aria-roledescription=\"line mark\" d=\"M0,181.72616636649894L0.27210884353741494,181.6497772711463L0.5442176870748299,181.57038155399786L0.8163265306122449,181.42273461260808L1.0884353741496597,181.25120787624658L1.3605442176870748,181.06581134315974L1.6326530612244898,180.96322063290197L1.9047619047619049,180.9672285759868L2.1768707482993195,180.9722230718454L2.4489795918367347,180.98823729792275L2.7210884353741496,181.05503303659512L2.9931972789115644,181.11729601623992L3.2653061224489797,181.15086021873194L3.537414965986395,181.1659169369033L3.8095238095238098,181.26588046584473L4.081632653061225,181.34107765532477L4.353741496598639,181.3640467605649L4.625850340136054,181.330745018217L4.8979591836734695,190.3160277813535L5.170068027210884,189.01639060509353L5.442176870748299,187.52155295938203L5.714285714285714,186.20382218972594L5.986394557823129,185.10787556083267L6.258503401360545,184.3401263937428L6.530612244897959,183.74354081184725L6.802721088435375,183.28023197465987L7.07482993197279,182.90417209095526L7.346938775510205,182.59937725922623L7.6190476190476195,182.382714370328L7.891156462585033,182.3892910184129L8.16326530612245,182.15429366439628L8.435374149659863,182.86861331992804L8.707482993197278,182.6374738944189L8.979591836734693,182.3959585780329L9.251700680272108,182.1927704020389L9.523809523809524,182.04304720077934L9.795918367346939,182.0437806017362L10.068027210884352,181.90430881470334L10.340136054421768,181.7889954875503L10.612244897959183,181.9583916024886L10.884353741496598,181.9171366898802L11.156462585034014,181.80516687432407L11.428571428571429,181.73454235055692L11.700680272108844,181.68842364310115L11.972789115646258,189.56546937812416L12.244897959183673,190.42198086952604L12.51700680272109,189.4873288939596L12.789115646258503,188.15453525818197L13.061224489795919,186.8776100371184L13.333333333333334,185.74286556461016L13.60544217687075,198.09741753401173L13.877551020408163,199.74067290454036L14.14965986394558,198.6050150928679L14.421768707482993,196.0163606786485L14.69387755102041,193.3318817313724L14.965986394557824,190.89561731873894L15.238095238095239,188.94937801891624L15.510204081632653,187.42310070833176L15.782312925170066,186.22746132165403L16.054421768707485,185.2727466036477L16.3265306122449,184.51000159213277L16.598639455782312,183.89594728793034L16.870748299319725,183.3686908230948L17.142857142857142,182.93559504109643L17.414965986394556,182.58935529083735L17.687074829931973,182.30121527739172L17.959183673469386,183.82396939087405L18.231292517006803,184.70328721840224L18.503401360544217,184.70698785210834L18.775510204081634,184.27826551933325L19.047619047619047,189.29981483326364L19.319727891156464,189.190717195752L19.591836734693878,187.99362498407802L19.86394557823129,186.682673346355L20.136054421768705,185.54936942667877L20.408163265306122,184.63362471883195L20.680272108843536,183.90568461655045L20.952380952380953,183.34050129056286L21.224489795918366,182.96006810238418L21.496598639455783,182.6320149053108L21.768707482993197,182.36088970436128L22.040816326530614,182.21784878767954L22.312925170068027,182.10571148809635L22.585034013605444,181.92387646186617L22.857142857142858,181.6716909220872L23.12925170068027,181.50408360535232L23.401360544217688,181.38525030807793L23.6734693877551,181.35757248372028L23.945578231292515,181.28364292440213L24.217687074829932,181.24789120166915L24.489795918367346,181.234254007718L24.761904761904763,181.22413751240828L25.03401360544218,181.19702562065984L25.30612244897959,181.13221199714275L25.578231292517007,181.04437702876683L25.850340136054424,180.94625629526124L26.122448979591837,181.4382388881321L26.39455782312925,182.01350801791395L26.666666666666668,182.00397486564748L26.93877551020408,181.8057544373592L27.2108843537415,181.59683391424963L27.48299319727891,181.43436456671225L27.755102040816325,181.312456754027L28.027210884353742,181.19023714794912L28.29931972789116,181.04956438142656L28.57142857142857,180.93127335927713L28.843537414965986,180.81129937404822L29.115646258503403,180.73259939338584L29.38775510204082,180.79141288668063L29.65986394557823,180.74716418118024L29.931972789115648,180.73663342187686L30.20408163265306,180.73954442943904L30.476190476190478,180.74739558064667L30.74829931972789,180.76180231561113L31.020408163265305,180.76740144653704L31.292517006802722,180.77143440987615L31.564625850340132,180.72623372391612L31.83673469387755,180.65925172450855L32.10884353741497,181.32463703823723L32.38095238095238,183.6243017770781L32.6530612244898,183.9042444172588L32.92517006802721,183.35846190063862L33.197278911564624,183.0782823910749L33.46938775510204,182.61187026062535L33.74149659863945,182.18502669335362L34.01360544217687,182.0100059833027L34.285714285714285,181.9540941689332L34.5578231292517,181.66522881126545L34.82993197278911,181.2782817586107L35.10204081632653,180.9216172600047L35.374149659863946,180.68129851509045L35.64625850340136,180.54776187718704L35.91836734693877,180.47589102249208L36.19047619047619,180.4328970791863L36.46258503401361,180.4150059427175L36.734693877551024,180.40762690653577L37.006802721088434,180.41760003264628L37.27891156462585,180.7687532242463L37.55102040816327,182.03362875388726L37.823129251700685,182.24299343581637L38.095238095238095,181.91180877827716L38.36734693877551,181.44995742833075L38.63945578231293,181.15567871501173L38.91156462585034,180.8532225422562L39.183673469387756,180.6211301899254L39.455782312925166,180.4577424024731L39.72789115646258,180.35487238312183L40,181.14453223405928L40.27210884353741,181.57798555393293L40.54421768707483,181.42570810796755L40.816326530612244,180.9769609155159L41.08843537414966,180.50195989736474L41.36054421768707,180.06488971540543L41.63265306122449,179.69525592807216L41.904761904761905,179.46407399590925L42.17687074829932,179.33375292234314L42.44897959183673,179.26920507036832L42.72108843537415,179.3176304499551L42.993197278911566,179.320225459373L43.26530612244898,179.25342501769387L43.53741496598639,179.13935029586005L43.80952380952381,178.97429754268273L44.08163265306123,178.77942138970235L44.353741496598644,178.67456600488626L44.625850340136054,178.6724442866416L44.89795918367347,178.56043012361224L45.17006802721089,178.512419781826L45.442176870748305,178.59538674678296L45.714285714285715,178.58970627130324L45.98639455782313,178.53559923254028L46.25850340136054,178.42146187145045L46.53061224489796,178.1896275292664L46.802721088435376,177.9874495613619L47.074829931972786,177.8413807706248L47.3469387755102,177.72103827170338L47.61904761904761,177.65672869618288L47.89115646258503,177.6252155142793L48.16326530612245,177.6259104447231L48.435374149659864,177.6518857528538L48.707482993197274,177.6433430401965L48.97959183673469,177.54316706778346L49.25170068027211,177.41047157948623L49.523809523809526,177.18337984446572L49.795918367346935,176.94912896326858L50.06802721088436,176.7802285495899L50.34013605442177,176.699175033124L50.61224489795918,176.72970866074914L50.884353741496604,176.7522091759677L51.156462585034014,176.7923208606219L51.42857142857142,176.81614377340912L51.70068027210885,176.76337402305452L51.97278911564626,176.57455001650575L52.244897959183675,176.28599749557773L52.51700680272109,176.02783972115955L52.7891156462585,175.88044589475732L53.06122448979592,175.79699972507817L53.333333333333336,175.8265891077273L53.605442176870746,176.00079700773904L53.87755102040816,177.64790597320626L54.14965986394557,178.52742796529307L54.421768707483,178.70777050204666L54.69387755102041,178.1063523739951L54.96598639455782,177.6107185009082L55.23809523809524,177.09896051927512L55.51020408163265,176.60428236122982L55.78231292517006,176.17436222202042L56.054421768707485,175.93271228697495L56.326530612244895,176.1207754961069L56.59863945578232,175.69887218157868L56.87074829931973,175.50697202036878L57.14285714285714,175.6212175230412L57.41496598639456,175.26913482403995L57.68707482993197,174.72957254004342L57.95918367346938,174.08885514473474L58.23129251700681,173.43268164908318L58.50340136054422,172.91840450150772L58.77551020408164,172.47435649619197L59.04761904761905,172.66254750618378L59.31972789115646,173.38780756425157L59.591836734693885,173.28689752479661L59.863945578231295,172.83071811514418L60.136054421768705,172.38864217210937L60.40816326530612,171.829195418135L60.68027210884354,171.12965600366073L60.952380952380956,170.30789677810222L61.224489795918366,169.6151473283943L61.49659863945578,170.16405566841445L61.7687074829932,172.29856948212L62.04081632653061,172.5481468789499L62.31292517006802,171.6089190963522L62.585034013605444,170.56708265160475L62.857142857142854,169.61210834808767L63.129251700680264,168.72067008059912L63.40136054421769,167.83380094569947L63.6734693877551,166.98132001322662L63.94557823129252,166.18299759122146L64.21768707482994,165.5347042233157L64.48979591836735,164.95089851737657L64.76190476190476,164.591981694604L65.03401360544217,164.30085366144937L65.3061224489796,164.11792132040293L65.578231292517,163.93864955256592L65.85034013605441,163.72965509023052L66.12244897959184,163.46698733070684L66.39455782312925,163.20353326061567L66.66666666666666,162.79435883247007L66.93877551020408,162.36184243848967L67.21088435374149,161.84082973749787L67.4829931972789,161.29324511567688L67.75510204081633,160.77919033785884L68.02721088435374,160.46185099120535L68.29931972789116,160.19219933732435L68.57142857142857,159.89780928936602L68.84353741496598,159.56884529035798L69.1156462585034,159.20312533295592L69.38775510204081,158.79333731051133L69.65986394557822,158.27538947840188L69.93197278911565,157.66372858820566L70.20408163265306,157.01513455090495L70.47619047619048,156.36653278774224L70.74829931972789,155.78699550189523L71.0204081632653,155.26760766428694L71.29251700680273,154.7943369119441L71.56462585034014,154.32261761666183L71.83673469387755,153.86600123421738L72.10884353741497,153.40286386388001L72.38095238095238,152.92736784708922L72.6530612244898,152.41523282520095L72.92517006802721,151.82765111443024L73.19727891156462,151.14195782273723L73.46938775510205,150.4530078585048L73.74149659863946,149.7304987491381L74.01360544217687,149.0596633512534L74.28571428571429,148.38767872827566L74.5578231292517,147.7684117808886L74.82993197278913,147.1865393640541L75.10204081632654,146.6286579352082L75.37414965986395,146.0550876194912L75.64625850340137,145.44887307394401L75.91836734693878,144.79346079743195L76.19047619047619,144.04436714502208L76.46258503401361,143.2453765739484L76.73469387755102,142.3991731663151L77.00680272108843,141.56847424497076L77.27891156462586,140.80637878246966L77.55102040816327,140.122096820875L77.82312925170068,139.46416877857365L78.0952380952381,138.82329343309118L78.36734693877551,138.18543033915813L78.63945578231292,137.51413402689255L78.91156462585033,136.77867534578093L79.18367346938776,135.9802704316241L79.45578231292517,135.18811840829497L79.72789115646258,134.3914659019853L80,133.59379991197676L80.27210884353741,132.84879779980986L80.54421768707482,132.1400125398732L80.81632653061224,131.45301154787495L81.08843537414965,130.76163516559208L81.36054421768706,130.0597299337518L81.63265306122449,129.33114177792805L81.9047619047619,128.53229920086164L82.17687074829932,127.6848572814699L82.44897959183673,126.82382951980014L82.72108843537414,125.99765290711787L82.99319727891157,125.22100387266408L83.26530612244898,124.5002902478519L83.53741496598639,123.79777654576051L83.80952380952381,123.10321860361549L84.08163265306122,122.42350625984848L84.35374149659864,121.74006188592266L84.62585034013605,121.05405955017021L84.89795918367346,120.3406876630916L85.17006802721089,119.57963360108408L85.4421768707483,118.77793038184538L85.71428571428571,117.95716546813368L85.98639455782313,117.1447839589181L86.25850340136054,116.34346911254L86.53061224489797,115.58129807007238L86.80272108843538,114.83333374356573L87.07482993197279,114.12946161424458L87.34693877551021,113.43864605194595L87.61904761904762,112.73355512590703L87.89115646258503,112.01134668321711L88.16326530612245,111.24181119672426L88.43537414965986,110.41030707905635L88.70748299319729,109.55165307255434L88.9795918367347,108.65825819027854L89.25170068027211,107.82311708012611L89.52380952380953,107.05992492436312L89.79591836734694,106.34403955432123L90.06802721088435,105.67355853247655L90.34013605442178,105.00820698937805L90.61224489795919,104.34696018136376L90.88435374149661,103.65341885652172L91.15646258503402,102.90780342205635L91.42857142857143,102.11508152911222L91.70068027210885,101.34784340137787L91.97278911564626,100.60214024625233L92.24489795918367,99.89587588824078L92.51700680272108,99.24542482661904L92.78911564625851,98.61919313861102L93.06122448979592,98.00809722264101L93.33333333333333,97.3897693448565L93.60544217687075,96.74997232989062L93.87755102040816,96.0618280322213L94.14965986394557,95.28564545578185L94.42176870748298,94.5343195186135L94.6938775510204,93.80185438865576L94.96598639455782,93.14544256825783L95.23809523809523,92.51111228164584L95.51020408163265,91.92604562358049L95.78231292517006,91.35697728127636L96.05442176870748,90.79283343661866L96.3265306122449,90.21676989536338L96.5986394557823,89.58773570986128L96.87074829931973,88.89285354954349L97.14285714285714,88.14282421874138L97.41496598639455,87.46558297190256L97.68707482993197,86.79274701301102L97.95918367346938,86.1946902167051L98.2312925170068,85.6502346402187L98.50340136054422,85.1197903143189L98.77551020408163,84.59730498682256L99.04761904761905,84.05414660719144L99.31972789115646,83.45613604879978L99.59183673469387,82.74441106565614L99.8639455782313,82.04082059567419L100.13605442176872,81.33976728762482L100.40816326530613,80.70259213098406L100.68027210884354,80.1352550085509L100.95238095238095,79.63414611750149L101.22448979591836,79.13802902893006L101.4965986394558,78.64622342231293L101.76870748299321,78.14739870889153L102.04081632653062,77.62619930249792L102.31292517006803,77.04907838520296L102.58503401360544,76.4271454119697L102.85714285714285,75.81105800197659L103.12925170068029,75.19592422605822L103.4013605442177,74.60117027666071L103.6734693877551,74.05611360359774L103.94557823129252,73.5142067562955L104.21768707482993,72.99788452921972L104.48979591836735,72.48943971266269L104.76190476190477,71.97973793829962L105.03401360544218,71.46229217833424L105.3061224489796,70.90020515411248L105.578231292517,70.26637236466742L105.85034013605443,69.59507943198606L106.12244897959184,68.9589951381246L106.39455782312925,68.35999790264535L106.66666666666667,67.81645928747344L106.93877551020408,67.33533542997854L107.21088435374149,66.89429530235923L107.48299319727892,66.46589037297663L107.75510204081633,66.02171563741214L108.02721088435374,65.5288594584746L108.29931972789115,64.95691769617862L108.57142857142857,64.32720979565654L108.843537414966,63.756370672431984L109.1156462585034,63.196985064560685L109.38775510204081,62.73373166125125L109.65986394557822,62.32641731480237L109.93197278911563,61.94847641761933L110.20408163265304,61.5777364270452L110.47619047619048,61.197460874366946L110.74829931972789,60.781986730048864L111.0204081632653,60.292739015913895L111.29251700680271,59.77531483716676L111.56462585034012,59.24210430284435L111.83673469387756,58.7302414026083L112.10884353741497,58.27557024741496L112.38095238095238,57.881525820786365L112.65306122448979,57.51668137823047L112.9251700680272,57.17845960950321L113.19727891156464,56.84783059414429L113.46938775510205,56.522132725301354L113.74149659863946,56.18977325326793L114.01360544217687,55.83726020313231L114.28571428571428,55.44660810078297L114.55782312925169,54.98387301426932L114.82993197278913,54.528112252715545L115.10204081632654,54.068134548205094L115.37414965986395,53.61207400205017L115.64625850340136,53.22647077404339L115.91836734693877,52.891231742495194L116.1904761904762,52.580227090910505L116.46258503401361,52.269868927563714L116.73469387755102,51.95513955691871L117.00680272108843,51.61474819620779L117.27891156462584,51.20727993302785L117.55102040816328,50.744192848109805L117.82312925170069,50.267973695169154L118.0952380952381,49.839142401024695L118.36734693877551,49.46382629075225L118.63945578231292,49.156164070173894L118.91156462585033,48.86885911363381L119.18367346938777,48.592935822875404L119.45578231292518,48.33944500502347L119.72789115646259,48.08460133310901L120,47.83177482050485L120.27210884353741,47.55369026593756L120.54421768707483,47.228734775201666L120.81632653061224,46.86314132166329L121.08843537414967,46.47758662451649L121.36054421768708,46.112487684316235L121.63265306122449,45.76700400437686L121.90476190476191,45.46801347571097L122.17687074829932,45.192032049145325L122.44897959183673,44.96649106150203L122.72108843537414,44.759098852274604L122.99319727891157,44.539839048172425L123.26530612244898,44.30404692304999L123.5374149659864,44.021069912898135L123.80952380952381,43.679454729597666L124.08163265306122,43.308390288462405L124.35374149659863,42.89335046673466L124.62585034013604,42.540574802127715L124.89795918367348,42.259029453908695L125.17006802721089,42.02713387065975L125.4421768707483,41.84518859093096L125.71428571428571,41.66301921649698L125.98639455782312,41.48986899398195L126.25850340136053,41.278971850301495L126.53061224489797,41.00618243997685L126.80272108843538,40.703648376877325L127.07482993197279,40.4071580150724L127.3469387755102,40.10357390658752L127.6190476190476,39.84320275182063L127.89115646258504,39.61489573201214L128.16326530612244,39.44124645095266L128.43537414965988,39.2794606747779L128.7074829931973,39.12001761442825L128.9795918367347,38.94671141161361L129.2517006802721,38.737894276401974L129.52380952380952,38.46041936433282L129.79591836734693,38.13697551546289L130.06802721088434,37.83335248268658L130.34013605442175,37.560603470407436L130.6122448979592,37.3514475397531L130.8843537414966,37.19339649417874L131.156462585034,37.05015788569277L131.42857142857142,36.930263339261636L131.70068027210883,36.81699712990883L131.97278911564624,36.7043350699255L132.24489795918367,36.57942903651205L132.51700680272108,36.42091208715692L132.7891156462585,36.211608229244675L133.0612244897959,35.955977192947856L133.33333333333331,35.70895830394569L133.60544217687075,35.46303325497855L133.87755102040816,35.24262831944775L134.14965986394557,35.06734742075599L134.42176870748298,34.91585697312913L134.6938775510204,34.807927501052795L134.9659863945578,34.709338221216356L135.23809523809524,34.593648111866756L135.51020408163265,34.45693287877531L135.78231292517006,34.26543543392307L136.05442176870747,34.01128314134192L136.32653061224488,33.72438339488979L136.59863945578232,33.41581368937503L136.87074829931973,33.18820306327566L137.14285714285714,33.01358166008668L137.41496598639455,32.89369203322685L137.68707482993196,32.795838751264995L137.9591836734694,32.714336849709724L138.2312925170068,32.615476833337894L138.50340136054422,32.46641812132809L138.77551020408163,32.26096108512566L139.04761904761904,32.026187114461415L139.31972789115645,31.80815070873182L139.59183673469389,31.609457142184905L139.8639455782313,31.448232629493724L140.1360544217687,31.339172788756485L140.40816326530611,31.246297806765L140.68027210884352,31.149770678958276L140.95238095238096,31.045594847489344L141.22448979591837,30.904149087774947L141.49659863945578,30.69561748826979L141.7687074829932,30.430440141077007L142.0408163265306,30.1661788203589L142.312925170068,29.927271306465663L142.58503401360545,29.783604592956102L142.85714285714286,29.655780446593518L143.12925170068027,29.562040591223273L143.40136054421768,29.490696589512176L143.6734693877551,29.42142909470482L143.94557823129253,29.31991380634207L144.21768707482994,29.148703258616425L144.48979591836735,28.929920003900712L144.76190476190476,28.66953110975736L145.03401360544217,28.430979275648703L145.3061224489796,28.254940893724424L145.57823129251702,28.16056708370227L145.85034013605443,28.05479238078521L146.12244897959184,27.940211448761264L146.39455782312925,27.818856356578415L146.66666666666666,27.692318472786837L146.9387755102041,27.56184386322227L147.2108843537415,27.4284080717591L147.48299319727892,27.29277471074689L147.75510204081633,27.15554135700684L148.02721088435374,27.017175471184718L148.29931972789117,26.878042671301984L148.57142857142858,26.738428773977674L148.843537414966,26.59855707579908L149.1156462585034,26.458601908427482L149.3877551020408,26.318699212403175L149.65986394557825,26.178954938837883L149.93197278911566,26.03945151270073L150.20408163265307,25.900252902367548L150.47619047619048,25.761408722433153L150.7482993197279,25.622957371104516L151.0204081632653,25.484928322176348L151.29251700680274,25.34734415850577L151.56462585034015,25.21022205556065L151.83673469387756,25.07357492917408L152.10884353741497,24.93741244081855L152.38095238095238,24.801741652335796L152.65306122448982,24.666567613824462L152.92517006802723,24.53189382454739L153.19727891156464,24.39772254247501L153.46938775510205,24.264055054665267L153.74149659863946,24.130891865144388L154.01360544217687,23.998232954243328L154.2857142857143,23.866077857785605L154.55782312925172,23.73442575026301L154.82993197278913,23.603275528532542L155.10204081632654,23.47262584778742L155.37414965986395,23.342475248748617L155.64625850340136,23.21282214578664L155.9183673469388,23.08366488197415L156.1904761904762,22.9550017271559L156.4625850340136,22.826830884504545L156.73469387755102,22.69915052397058L157.00680272108843,22.571958738566302L157.27891156462584,22.44525364203911L157.55102040816325,22.319033393668384L157.82312925170066,22.193296068014746L158.0952380952381,22.06803972044431L158.3673469387755,21.94326248088869L158.63945578231292,21.81896245675512L158.91156462585033,21.695137705699707L159.18367346938774,21.57178632632586L159.45578231292515,21.44890923776068L159.7278911564626,21.32650864599961L160,21.204585483618587L160.2721088435374,21.08313974118432L160.54421768707482,20.962170704520467L160.81632653061223,20.841677088779285L161.08843537414964,20.721657290457564L161.36054421768708,20.60210949367358L161.6326530612245,20.483031594624123L161.9047619047619,20.364421411989554L162.1768707482993,20.24627667840855L162.44897959183672,20.128595031111285L162.72108843537413,20.011374212113964L162.99319727891157,19.89461192909594L163.26530612244898,19.778305834643817L163.5374149659864,19.66245365807724L163.8095238095238,19.54705316856733L164.0816326530612,19.432102160783348L164.35374149659864,19.317598465158547L164.62585034013605,19.203539944771887L164.89795918367346,19.089924509930945L165.17006802721087,18.97675005896118L165.44217687074828,18.86401455491424L165.71428571428572,18.751716057650093L165.98639455782313,18.639852563114225L166.25850340136054,18.5284221279983L166.53061224489795,18.41742285394572L166.80272108843536,18.306852866463984L167.07482993197277,18.19671032063306L167.3469387755102,18.086993346615564L167.61904761904762,17.97770013328317L167.89115646258503,17.868828960945194L168.16326530612244,17.760378076097737L168.43537414965985,17.652345684828894L168.7074829931973,17.54473005944954L168.9795918367347,17.437529483710268L169.2517006802721,17.33074227262521L169.52380952380952,17.22436674657557L169.79591836734693,17.118401238730364L170.06802721088434,17.01284405398504L170.34013605442178,16.907693541570822L170.6122448979592,16.802948121602324L170.8843537414966,16.698606132435945L171.156462585034,16.59466596794379L171.42857142857142,16.491126085166098L171.70068027210885,16.387984858562188L171.97278911564626,16.28524065816215L172.24489795918367,16.182891949377233L172.51700680272108,16.080937179888146L172.7891156462585,15.979374797214806L173.06122448979593,15.878205371435627L173.33333333333334,15.777430221691446L173.60544217687075,15.67704982889666L173.87755102040816,15.577064033662303L174.14965986394557,15.477472180603847L174.42176870748298,15.378273262170318L174.69387755102042,15.279465997465058L174.96598639455783,15.181048916198403L175.23809523809524,15.083020424486971L175.51020408163265,14.985378838479079L175.78231292517006,14.888122415993777L176.0544217687075,14.791249384301185L176.3265306122449,14.694757909293642L176.59863945578232,14.598646187932985L176.87074829931973,14.50291248931579L177.14285714285714,14.407555008116525L177.41496598639458,14.312571995190225L177.687074829932,14.217961778925336L177.9591836734694,14.123722629041069L178.2312925170068,14.029852824448952L178.50340136054422,13.936350765463512L178.77551020408163,13.84321484598241L179.04761904761907,13.750443465353236L179.31972789115648,13.65803504424774L179.59183673469389,13.565987986485917L179.8639455782313,13.474300757635383L180.1360544217687,13.382971889574403L180.40816326530614,13.29199990383023L180.68027210884355,13.201383280008638L180.95238095238096,13.111120554573773L181.22448979591837,13.02121028769534L181.49659863945578,12.931651042259617L181.76870748299322,12.842441397182958L182.04081632653063,12.753579960601424L182.31292517006804,12.665065297632626L182.58503401360545,12.576896026723938L182.85714285714286,12.489070842038497L183.12925170068027,12.401588404026986L183.4013605442177,12.314447370500181L183.67346938775512,12.22764635818181L183.94557823129253,12.141184025965778L184.21768707482994,12.055059102140863L184.48979591836735,11.96927024322163L184.76190476190476,11.883816145356562L185.03401360544217,11.798695519716551L185.30612244897958,11.713907084196729L185.57823129251702,11.629449564715921L185.85034013605443,11.545321645763362L186.12244897959184,11.461522101636646L186.39455782312925,11.378049672482572L186.66666666666666,11.29490419583641L186.93877551020407,11.212086825599798L187.2108843537415,11.129597898883858L187.48299319727892,11.04743711235825L187.75510204081633,10.96560377264042L188.02721088435374,10.88409688052765L188.29931972789115,10.802915261884127L188.57142857142856,10.722057540752061L188.84353741496597,10.641522161255711L189.1156462585034,10.561307544761366L189.3877551020408,10.481412100860933L189.65986394557822,10.401834223774964L189.93197278911563,10.322572303955702L190.20408163265304,10.243624691787524L190.47619047619045,10.164989789542588L190.7482993197279,10.086666077407713L191.0204081632653,10.008652026615872L191.2925170068027,9.930946122325036L191.56462585034012,9.85354681225099L191.83673469387753,9.77645261734481L192.10884353741497,9.699662158075938L192.38095238095238,9.62317399232786L192.6530612244898,9.546986746336671L192.9251700680272,9.471099063294597L193.1972789115646,9.39550961040927L193.46938775510205,9.320217074664194L193.74149659863946,9.24522016440692L194.01360544217687,9.170517598171557L194.28571428571428,9.096108113661927L194.5578231292517,9.021990474602703L194.8299319727891,8.948163458211699L195.10204081632654,8.874625857573903L195.37414965986395,8.801376425302564L195.64625850340136,8.728413971787962L195.91836734693877,8.655737384681217L196.19047619047618,8.583345518704855L196.4625850340136,8.511237182281107L196.73469387755102,8.439411238176952L197.00680272108843,8.367866556209623L197.27891156462584,8.296602074068659L197.55102040816325,8.225616692290604L197.8231292517007,8.15490926287097L198.0952380952381,8.084478687008012L198.3673469387755,8.01432388391361L198.63945578231292,7.944443781992372L198.91156462585033,7.874837315038485L199.18367346938774,7.805503436298977L199.45578231292518,7.736441043389508L199.7278911564626,7.667649075629024L200,7.599125983949828\" stroke=\"#4c78a8\" stroke-width=\"2\"/></g></g><path class=\"foreground\" aria-hidden=\"true\" d=\"\" display=\"none\"/></g><g transform=\"translate(0,0)\"><path class=\"background\" aria-hidden=\"true\" d=\"M0,0h200v200h-200Z\"/><g><g class=\"mark-line role-mark marks\" role=\"graphics-object\" aria-roledescription=\"line mark container\"><path aria-label=\"Year: Dec 31, 1969; value: 0.00506084984256; variable: FUNDFAIR\" role=\"graphics-symbol\" aria-roledescription=\"line mark\" d=\"M0,181.72616636649894L0.27210884353741494,181.6497772711463L0.5442176870748299,181.57038155399786L0.8163265306122449,181.42273461260808L1.0884353741496597,181.25120787624658L1.3605442176870748,181.06581134315974L1.6326530612244898,180.96322063290197L1.9047619047619049,180.9672285759868L2.1768707482993195,180.9722230718454L2.4489795918367347,180.98823729792275L2.7210884353741496,181.05503303659512L2.9931972789115644,181.11729601623992L3.2653061224489797,181.15086021873194L3.537414965986395,181.1659169369033L3.8095238095238098,181.26588046584473L4.081632653061225,181.34107765532477L4.353741496598639,181.3640467605649L4.625850340136054,181.330745018217L4.8979591836734695,190.3160277813535L5.170068027210884,189.01639060509353L5.442176870748299,187.52155295938203L5.714285714285714,186.20382218972594L5.986394557823129,185.10787556083267L6.258503401360545,184.3401263937428L6.530612244897959,183.74354081184725L6.802721088435375,183.28023197465987L7.07482993197279,182.90417209095526L7.346938775510205,182.59937725922623L7.6190476190476195,182.382714370328L7.891156462585033,182.3892910184129L8.16326530612245,182.15429366439628L8.435374149659863,182.86861331992804L8.707482993197278,182.6374738944189L8.979591836734693,182.3959585780329L9.251700680272108,182.1927704020389L9.523809523809524,182.04304720077934L9.795918367346939,182.0437806017362L10.068027210884352,181.90430881470334L10.340136054421768,181.7889954875503L10.612244897959183,181.9583916024886L10.884353741496598,181.9171366898802L11.156462585034014,181.80516687432407L11.428571428571429,181.73454235055692L11.700680272108844,181.68842364310115L11.972789115646258,189.56546937812416L12.244897959183673,190.42198086952604L12.51700680272109,189.4873288939596L12.789115646258503,188.15453525818197L13.061224489795919,186.8776100371184L13.333333333333334,185.74286556461016L13.60544217687075,198.09741753401173L13.877551020408163,199.74067290454036L14.14965986394558,198.6050150928679L14.421768707482993,196.0163606786485L14.69387755102041,193.3318817313724L14.965986394557824,190.89561731873894L15.238095238095239,188.94937801891624L15.510204081632653,187.42310070833176L15.782312925170066,186.22746132165403L16.054421768707485,185.2727466036477L16.3265306122449,184.51000159213277L16.598639455782312,183.89594728793034L16.870748299319725,183.3686908230948L17.142857142857142,182.93559504109643L17.414965986394556,182.58935529083735L17.687074829931973,182.30121527739172L17.959183673469386,183.82396939087405L18.231292517006803,184.70328721840224L18.503401360544217,184.70698785210834L18.775510204081634,184.27826551933325L19.047619047619047,189.29981483326364L19.319727891156464,189.190717195752L19.591836734693878,187.99362498407802L19.86394557823129,186.682673346355L20.136054421768705,185.54936942667877L20.408163265306122,184.63362471883195L20.680272108843536,183.90568461655045L20.952380952380953,183.34050129056286L21.224489795918366,182.96006810238418L21.496598639455783,182.6320149053108L21.768707482993197,182.36088970436128L22.040816326530614,182.21784878767954L22.312925170068027,182.10571148809635L22.585034013605444,181.92387646186617L22.857142857142858,181.6716909220872L23.12925170068027,181.50408360535232L23.401360544217688,181.38525030807793L23.6734693877551,181.35757248372028L23.945578231292515,181.28364292440213L24.217687074829932,181.24789120166915L24.489795918367346,181.234254007718L24.761904761904763,181.22413751240828L25.03401360544218,181.19702562065984L25.30612244897959,181.13221199714275L25.578231292517007,181.04437702876683L25.850340136054424,180.94625629526124L26.122448979591837,181.4382388881321L26.39455782312925,182.01350801791395L26.666666666666668,182.00397486564748L26.93877551020408,181.8057544373592L27.2108843537415,181.59683391424963L27.48299319727891,181.43436456671225L27.755102040816325,181.312456754027L28.027210884353742,181.19023714794912L28.29931972789116,181.04956438142656L28.57142857142857,180.93127335927713L28.843537414965986,180.81129937404822L29.115646258503403,180.73259939338584L29.38775510204082,180.79141288668063L29.65986394557823,180.74716418118024L29.931972789115648,180.73663342187686L30.20408163265306,180.73954442943904L30.476190476190478,180.74739558064667L30.74829931972789,180.76180231561113L31.020408163265305,180.76740144653704L31.292517006802722,180.77143440987615L31.564625850340132,180.72623372391612L31.83673469387755,180.65925172450855L32.10884353741497,181.32463703823723L32.38095238095238,183.6243017770781L32.6530612244898,183.9042444172588L32.92517006802721,183.35846190063862L33.197278911564624,183.0782823910749L33.46938775510204,182.61187026062535L33.74149659863945,182.18502669335362L34.01360544217687,182.0100059833027L34.285714285714285,181.9540941689332L34.5578231292517,181.66522881126545L34.82993197278911,181.2782817586107L35.10204081632653,180.9216172600047L35.374149659863946,180.68129851509045L35.64625850340136,180.54776187718704L35.91836734693877,180.47589102249208L36.19047619047619,180.4328970791863L36.46258503401361,180.4150059427175L36.734693877551024,180.40762690653577L37.006802721088434,180.41760003264628L37.27891156462585,180.7687532242463L37.55102040816327,182.03362875388726L37.823129251700685,182.24299343581637L38.095238095238095,181.91180877827716L38.36734693877551,181.44995742833075L38.63945578231293,181.15567871501173L38.91156462585034,180.8532225422562L39.183673469387756,180.6211301899254L39.455782312925166,180.4577424024731L39.72789115646258,180.35487238312183L40,181.14453223405928L40.27210884353741,181.57798555393293L40.54421768707483,181.42570810796755L40.816326530612244,180.9769609155159L41.08843537414966,180.50195989736474L41.36054421768707,180.06488971540543L41.63265306122449,179.69525592807216L41.904761904761905,179.46407399590925L42.17687074829932,179.33375292234314L42.44897959183673,179.26920507036832L42.72108843537415,179.3176304499551L42.993197278911566,179.320225459373L43.26530612244898,179.25342501769387L43.53741496598639,179.13935029586005L43.80952380952381,178.97429754268273L44.08163265306123,178.77942138970235L44.353741496598644,178.67456600488626L44.625850340136054,178.6724442866416L44.89795918367347,178.56043012361224L45.17006802721089,178.512419781826L45.442176870748305,178.59538674678296L45.714285714285715,178.58970627130324L45.98639455782313,178.53559923254028L46.25850340136054,178.42146187145045L46.53061224489796,178.1896275292664L46.802721088435376,177.9874495613619L47.074829931972786,177.8413807706248L47.3469387755102,177.72103827170338L47.61904761904761,177.65672869618288L47.89115646258503,177.6252155142793L48.16326530612245,177.6259104447231L48.435374149659864,177.6518857528538L48.707482993197274,177.6433430401965L48.97959183673469,177.54316706778346L49.25170068027211,177.41047157948623L49.523809523809526,177.18337984446572L49.795918367346935,176.94912896326858L50.06802721088436,176.7802285495899L50.34013605442177,176.699175033124L50.61224489795918,176.73725360730717L50.884353741496604,176.77156617795438L51.156462585034014,176.82593508216934L51.42857142857142,176.86577239487087L51.70068027210885,176.8321549326258L51.97278911564626,176.6659133376281L52.244897959183675,176.40258090532956L52.51700680272109,176.17161061058786L52.7891156462585,176.0516773821819L53.06122448979592,175.99603547014826L53.333333333333336,176.05329318018934L53.605442176870746,176.2550174918354L53.87755102040816,177.93013801720167L54.14965986394557,178.8383621884325L54.421768707483,179.04810676240018L54.69387755102041,178.47734518985692L54.96598639455782,178.01297563457524L55.23809523809524,177.53263437259454L55.51020408163265,177.07042722088576L55.78231292517006,176.67546346036397L56.054421768707485,176.46956709112266L56.326530612244895,176.6946085053721L56.59863945578232,176.31196221757813L56.87074829931973,176.1597969551532L57.14285714285714,176.3124478180128L57.41496598639456,176.00070425017225L57.68707482993197,175.5032035798854L57.95918367346938,174.90521905465872L58.23129251700681,174.29403696350653L58.50340136054422,173.82498386377367L58.77551020408164,173.42412523681222L59.04761904761905,173.65501797179869L59.31972789115646,174.4220818974858L59.591836734693885,174.36402426669423L59.863945578231295,173.95266384137292L60.136054421768705,173.55802357955895L60.40816326530612,173.0485905826967L60.68027210884354,172.40258200799067L60.952380952380956,171.63719851399293L61.224489795918366,171.000491504119L61.49659863945578,171.6066804703247L61.7687074829932,173.79604514350925L62.04081632653061,174.0974405797866L62.31292517006802,173.20881823457387L62.585034013605444,172.21771931449854L62.857142857142854,171.31318832813793L63.129251700680264,170.47051306949405L63.40136054421769,169.62881870639083L63.6734693877551,168.81765056368744L63.94557823129252,168.05798794415975L64.21768707482994,167.44548317699136L64.48979591836735,166.8960139756319L64.76190476190476,166.57287373435136L65.03401360544217,166.32159155309375L65.3061224489796,166.18268854797554L65.578231292517,166.05076278426824L65.85034013605441,165.89195516124536L66.12244897959184,165.68206547518835L66.39455782312925,165.47387835131354L66.66666666666666,165.12243105727188L66.93877551020408,164.75095610766667L67.21088435374149,164.29478539846355L67.4829931972789,163.81613458385073L67.75510204081633,163.37523758239024L68.02721088435374,163.1352941080806L68.29931972789116,162.9471654615285L68.57142857142857,162.73830356587482L68.84353741496598,162.49874697085738L69.1156462585034,162.22617805528344L69.38775510204081,161.9131407477012L69.65986394557822,161.495036290463L69.93197278911565,160.98594093837735L70.20408163265306,160.442337275436L70.47619047619048,159.90088214125137L70.74829931972789,159.43039371339052L71.0204081632653,159.02175127217268L71.29251700680273,158.66074263835807L71.56462585034014,158.30264503531782L71.83673469387755,157.9608847012432L72.10884353741497,157.61372406343725L72.38095238095238,157.25594418856025L72.6530612244898,156.8636606397428L72.92517006802721,156.39831812996826L73.19727891156462,155.83741333963118L73.46938775510205,155.2758986588606L73.74149659863946,154.68348974802493L74.01360544217687,154.14540612852198L74.28571428571429,153.6087575348914L74.5578231292517,153.1273355700923L74.82993197278913,152.68571202044558L75.10204081632654,152.27076900100357L75.37414965986395,151.8429974289889L75.64625850340137,151.3855426830666L75.91836734693878,150.88190288299717L76.19047619047619,150.287613801387L76.46258503401361,149.64646781368546L76.73469387755102,148.96113071506818L77.00680272108843,148.294287534356L77.27891156462586,147.6989794896171L77.55102040816327,147.18433418562657L77.82312925170068,146.6988209628687L78.0952380952381,146.23303808525537L78.36734693877551,145.77282143038354L78.63945578231292,145.28158887938247L78.91156462585033,144.7284742145333L79.18367346938776,144.11455990335767L79.45578231292517,143.50891132292926L79.72789115646258,142.90062547526773L80,142.29303786569605L80.27210884353741,141.73967080154392L80.54421768707482,141.22318784034755L80.81632653061224,140.7284752913132L81.08843537414965,140.22884434958465L81.36054421768706,139.71773018604722L81.63265306122449,139.17865394586627L81.9047619047619,138.5677854674282L82.17687074829932,137.90657658350227L82.44897959183673,137.22987045630163L82.72108843537414,136.58595281786074L82.99319727891157,135.98935720378415L83.26530612244898,135.44576900962664L83.53741496598639,134.91690946801646L83.80952380952381,134.3921273176447L84.08163265306122,133.87800659985848L84.35374149659864,133.35573802282806L84.62585034013605,132.82632145936577L84.89795918367346,132.26484984848443L85.17006802721089,131.6509761748163L85.4421768707483,130.991744245007L85.71428571428571,130.3087840637556L85.98639455782313,129.62930774768208L86.25850340136054,128.9558576195041L86.53061224489797,128.31643841347974L86.80272108843538,127.68609162148299L87.07482993197279,127.09472078685775L87.34693877551021,126.51133683014058L87.61904761904762,125.90867664106202L87.89115646258503,125.28398210405456L88.16326530612245,124.60713791729745L88.43537414965986,123.86360322998647L88.70748299319729,123.08802903795217L88.9795918367347,122.27272881412867L89.25170068027211,121.51065499305264L89.52380952380953,120.81550739727653L89.79591836734694,120.16268761954225L90.06802721088435,119.55036466374497L90.34013605442178,118.93835502111712L90.61224489795919,118.32573609301038L90.88435374149661,117.67621811272613L91.15646258503402,116.97013222060319L91.42857142857143,116.21232862901492L91.70068027210885,115.47539136444752L91.97278911564626,114.7554583398629L92.24489795918367,114.07059092128225L92.51700680272108,113.43737697077188L92.78911564625851,112.82451209794986L93.06122448979592,112.22326038056252L93.33333333333333,111.61160269508987L93.60544217687075,110.97564627870393L93.87755102040816,110.28885036987202L94.14965986394557,109.51185018153157L94.42176870748298,108.75784821814625L94.6938775510204,108.02116143401493L94.96598639455782,107.35929746643826L95.23809523809523,106.7186096757671L95.51020408163265,106.12660098468207L95.78231292517006,105.55032591088698L96.05442176870748,104.97902152305988L96.3265306122449,104.39614343606513L96.5986394557823,103.76092715672823L96.87074829931973,103.0607626778518L97.14285714285714,102.306599733853L97.41496598639455,101.62660958432208L97.68707482993197,100.95265638024465L97.95918367346938,100.35535516346022L98.2312925170068,99.81378514775896L98.50340136054422,99.2886074135358L98.77551020408163,98.77400652700908L99.04761904761905,98.24157279745542L99.31972789115646,97.65733168219334L99.59183673469387,96.96260485913459L99.8639455782313,96.27939941475752L100.13605442176872,95.6022736255093L100.40816326530613,94.9927195081273L100.68027210884354,94.45685039909752L100.95238095238095,93.99120941701979L101.22448979591836,93.53470879438139L101.4965986394558,93.08680262108422L101.76870748299321,92.63628133195965L102.04081632653062,92.16789663987394L102.31292517006803,91.64819477004723L102.58503401360544,91.08836177073636L102.85714285714285,90.53911924153873L103.12925170068029,89.99563373702009L103.4013605442177,89.47738332908897L103.6734693877551,89.01373229134488L103.94557823129252,88.55817689357552L104.21768707482993,88.13318652243731L104.48979591836735,87.72108172256459L104.76190476190477,87.3127471585047L105.03401360544218,86.90088799142511L105.3061224489796,86.44798309243367L105.578231292517,85.92643949480794L105.85034013605443,85.37015735430555L106.12244897959184,84.8515027096491L106.39455782312925,84.37212051754166L106.66666666666667,83.95020187516147L106.93877551020408,83.5925637688676L107.21088435374149,83.27676739602452L107.48299319727892,82.97527823958168L107.75510204081633,82.659619570697L108.02721088435374,82.2968166752937L108.29931972789115,81.85640665070844L108.57142857142857,81.3596515829415L108.843537414966,80.92313122931405L109.1156462585034,80.49938272007043L109.38775510204081,80.17303991517252L109.65986394557822,79.90387035170777L109.93197278911563,79.66527066473252L110.20408163265304,79.4350298307437L110.47619047619048,79.19637085095765L110.74829931972789,78.92358750070996L111.0204081632653,78.57805825201612L111.29251700680271,78.20532945428842L111.56462585034012,77.81773893458389L111.83673469387756,77.45236761448915L112.10884353741497,77.14500704883514L112.38095238095238,76.89904096760485L112.65306122448979,76.6829921333007L112.9251700680272,76.49423205401675L113.19727891156464,76.31367878198007L113.46938775510205,76.13861735102658L113.74149659863946,75.95740045774602L114.01360544217687,75.75648031879754L114.28571428571428,75.51781436751087L114.55782312925169,75.20740023991921L114.82993197278913,74.90423519567923L115.10204081632654,74.59706846351179L115.37414965986395,74.29397497504695L115.64625850340136,74.06143618675173L115.91836734693877,73.87930178449939L116.1904761904762,73.7213855960936L116.46258503401361,73.56404361679381L116.73469387755102,73.40220195978584L117.00680272108843,73.21451364785376L117.27891156462584,72.95950748909594L117.55102040816328,72.64858500875123L117.82312925170069,72.3241765931129L118.0952380952381,72.04674661242625L118.36734693877551,71.82236812887422L118.63945578231292,71.66511445396246L118.91156462585033,71.52761698139814L119.18367346938777,71.4008242462191L119.45578231292518,71.29570950728868L119.72789115646259,71.18840992143716L120,71.0822191995738L120.27210884353741,70.94978792927103L120.54421768707483,70.76943171535403L120.81632653061224,70.5473151832933L121.08843537414967,70.30405014047399L121.36054421768708,70.0799922304135L121.63265306122449,69.8742430637657L121.90476190476191,69.71362606392957L122.17687074829932,69.57460587830064L122.44897959183673,69.48456570560701L122.72108843537414,69.41116854579697L122.99319727891157,69.32435557791541L123.26530612244898,69.21942255742408L123.5374149659864,69.06568016372347L123.80952380952381,68.85164122579204L124.08163265306122,68.60646355591105L124.35374149659863,68.31559219924186L124.62585034013604,68.08524018599576L124.89795918367348,67.92434799199663L125.17006802721089,67.81131014424892L125.4421768707483,67.74640364653561L125.71428571428571,67.67943173744833L125.98639455782312,67.61961706619586L126.25850340136053,67.52017430067826L126.53061224489797,67.35694076306251L126.80272108843538,67.16204877445844L127.07482993197279,66.9712725865675L127.3469387755102,66.77146107213639L127.6190476190476,66.61290791638802L127.89115646258504,66.48445088206225L128.16326530612244,66.40862547331226L128.43537414965988,66.3425789185744L128.7074829931973,66.27674484432424L128.9795918367347,66.194880271753L129.2517006802721,66.07530420472389L129.52380952380952,65.88483613341138L129.79591836734693,65.6461256008032L130.06802721088434,65.42492256911471L130.34013605442175,65.2322507378843L130.6122448979592,65.10080933001315L130.8843537414966,65.01810279688752L131.156462585034,64.94783883209709L131.42857142857142,64.89854915319779L131.70068027210883,64.8536255254174L131.97278911564624,64.80744068032675L132.24489795918367,64.74754176257392L132.51700680272108,64.65286805865766L132.7891156462585,64.5064769773269L133.0612244897959,64.31300224355911L133.33333333333331,64.12751157177861L133.60544217687075,63.94260109312053L133.87755102040816,63.78278612426291L134.14965986394557,63.66774331631069L134.42176870748298,63.57620181557202L134.6938775510204,63.527983898683345L134.9659863945578,63.48888818053142L135.23809523809524,63.4324892558952L135.51020408163265,63.354871764152506L135.78231292517006,63.222281845042886L136.05442176870747,63.026841029922934L136.32653061224488,62.798442891764374L136.59863945578232,62.54814918348301L136.87074829931973,62.3785733554451L137.14285714285714,62.26174402565947L137.41496598639455,62.19940929018741L137.68707482993196,62.15888488021577L137.9591836734694,62.13449693375019L138.2312925170068,62.092546212531644L138.50340136054422,62.000197277891274L138.77551020408163,61.85124738955632L139.04761904761904,61.67276655027996L139.31972789115645,61.51079619810391L139.59183673469389,61.36793325451089L139.8639455782313,61.262299585035684L140.1360544217687,61.20859185314602L140.40816326530611,61.17083729742126L140.68027210884352,61.12920604538872L140.95238095238096,61.07970621168859L141.22448979591837,60.99271882971691L141.49659863945578,60.838424705656195L141.7687074829932,60.627252712501644L142.0408163265306,60.41674862772335L142.312925170068,60.231337657089945L142.58503401360545,60.140899877899216L142.85714285714286,60.06604293153905L143.12925170068027,60.02501474235233L143.40136054421768,60.006135444366016L143.6734693877551,59.98909467705824L143.94557823129253,59.939575003220604L144.21768707482994,59.820130097654456L144.48979591836735,59.65287481897419L144.76190476190476,59.44376433147218L145.03401360544217,59.25622693742285L145.3061224489796,59.13093009362078L145.57823129251702,59.08702490403981L145.85034013605443,59.031459739176825L146.12244897959184,58.9668390586459L146.39455782312925,58.895201840194474L146.66666666666666,58.81814434238337L146.9387755102041,58.73691612798615L147.2108843537415,58.65249529240793L147.48299319727892,58.56564737164594L147.75510204081633,58.476971461168944L148.02721088435374,58.38693628971852L148.29931972789117,58.2959085981515L148.57142857142858,58.20417525093093L148.843537414966,58.11196056304162L149.1156462585034,58.01943988338463L149.3877551020408,57.92675018500362L149.65986394557825,57.833998475181694L149.93197278911566,57.741268261864654L150.20408163265307,57.648624622994696L150.47619047619048,57.55611830708427L150.7482993197279,57.4637888672723L151.0204081632653,57.371666949470224L151.29251700680274,57.2797763218911L151.56462585034015,57.188135354796565L151.83673469387756,57.09675816473292L152.10884353741497,57.005655616642436L152.38095238095238,56.914835975819855L152.65306122448982,56.82430549340651L152.92517006802723,56.734068865268526L153.19727891156464,56.64412953984319L153.46938775510205,56.55448998711934L153.74149659863946,56.46515188537913L154.01360544217687,56.37611637961866L154.2857142857143,56.2873841600215L154.55782312925172,56.19895554458625L154.82993197278913,56.11083056241264L155.10204081632654,56.02300898937828L155.37414965986395,55.9354904751272L155.64625850340136,55.8482745310757L155.9183673469388,55.76136058541125L156.1904761904762,55.674747981165275L156.4625850340136,55.588435982811845L156.73469387755102,55.5024238097938L157.00680272108843,55.416710592909354L157.27891156462584,55.331295472104514L157.55102040816325,55.246177621409956L157.82312925170066,55.16135611884854L158.0952380952381,55.07683001211818L158.3673469387755,54.992598412515314L158.63945578231292,54.908660398021624L158.91156462585033,54.825014986252604L159.18367346938774,54.741661225327846L159.45578231292515,54.65860027500462L159.7278911564626,54.57583472243459L160,54.49336598996864L160.2721088435374,54.411194641278996L160.54421768707482,54.32932059876385L160.81632653061223,54.247743262033346L161.08843537414964,54.16646174769744L161.36054421768708,54.08547498607179L161.6326530612245,54.004781638151385L161.9047619047619,53.92438030016109L162.1768707482993,53.844269490469166L162.44897959183672,53.764447636672294L162.72108843537413,53.68491327303331L162.99319727891157,53.60566489923699L163.26530612244898,53.52670095800107L163.5374149659864,53.448019965644924L163.8095238095238,53.36962047425751L164.0816326530612,53.291501056631475L164.35374149659864,53.21366031599888L164.62585034013605,53.13609688252625L164.89795918367346,53.058809427622954L165.17006802721087,52.98179660454283L165.44217687074828,52.90505712497009L165.71428571428572,52.82858979103153L165.98639455782313,52.752393334553126L166.25850340136054,52.676466541718604L166.53061224489795,52.60080823730038L166.80272108843536,52.52541726361799L167.07482993197277,52.45029248630302L167.3469387755102,52.375432739878036L167.61904761904762,52.30083691145195L167.89115646258503,52.22650397352835L168.16326530612244,52.152432858842616L168.43537414965985,52.0786224538518L168.7074829931973,52.00507170544493L168.9795918367347,51.931779566246725L169.2517006802721,51.858745014525454L169.52380952380952,51.785967028382714L169.79591836734693,51.71344459325831L170.06802721088434,51.641176660950805L170.34013605442178,51.5691622223047L170.6122448979592,51.49740033383679L170.8843537414966,51.425889965179564L171.156462585034,51.35463013642622L171.42857142857142,51.28361992585921L171.70068027210885,51.21285832428073L171.97278911564626,51.14234431323086L172.24489795918367,51.07207696486569L172.51700680272108,51.00205532891751L172.7891156462585,50.93227845033332L173.06122448979593,50.86274676809204L173.33333333333334,50.793461621573854L173.60544217687075,50.72442362992506L173.87755102040816,50.65563286365931L174.14965986394557,50.58708896830917L174.42176870748298,50.518791292044355L174.69387755102042,50.45073895178012L174.96598639455783,50.38293090716104L175.23809523809524,50.31536601854507L175.51020408163265,50.2480430745001L175.78231292517006,50.180960818666435L176.0544217687075,50.11411797380847L176.3265306122449,50.04751320806107L176.59863945578232,49.98114522509054L176.87074829931973,49.9150128033837L177.14285714285714,49.849114648314185L177.41496598639458,49.783449521672175L177.687074829932,49.718016262190254L177.9591836734694,49.65281364870868L178.2312925170068,49.58784046754723L178.50340136054422,49.52309562434023L178.77551020408163,49.45857801594264L179.04761904761907,49.394286542089525L179.31972789115648,49.330220121116874L179.59183673469389,49.26637765167576L179.8639455782313,49.202758091251006L180.1360544217687,49.139360460674354L180.40816326530614,49.07618376743805L180.68027210884355,49.01322697410875L180.95238095238096,48.950489097101915L181.22448979591837,48.88796917353437L181.49659863945578,48.82566624024874L181.76870748299322,48.7635793471457L182.04081632653063,48.70170757039427L182.31292517006804,48.640049940221154L182.58503401360545,48.578605537280865L182.85714285714286,48.51737351507117L183.12925170068027,48.45635299053996L183.4013605442177,48.39554307518734L183.67346938775512,48.33494283664939L183.94557823129253,48.27455138197998L184.21768707482994,48.214367884905585L184.48979591836735,48.15439144468934L184.76190476190476,48.09462119756618L185.03401360544217,48.035056292160135L185.30612244897958,47.97569588121584L185.57823129251702,47.91653912292622L185.85034013605443,47.8575851315076L186.12244897959184,47.79883310846109L186.39455782312925,47.74028221864535L186.66666666666666,47.68193318752518L186.93877551020407,47.62378795471813L187.2108843537415,47.5658475627708L187.48299319727892,47.50811235050454L187.75510204081633,47.45058221667684L188.02721088435374,47.39325671458248L188.29931972789115,47.33613519104429L188.57142857142856,47.279216765864554L188.84353741496597,47.22250035868471L189.1156462585034,47.165984850018596L189.3877551020408,47.10966909527359L189.65986394557822,47.05355192353559L189.93197278911563,46.997632151042914L190.20408163265304,46.94190854635663L190.47619047619045,46.88637992346931L190.7482993197279,46.83104516874324L191.0204081632653,46.77590315476516L191.2925170068027,46.720952763797776L191.56462585034012,46.666192836864305L191.83673469387753,46.61162228478071L192.10884353741497,46.557240114728906L192.38095238095238,46.50304526838769L192.6530612244898,46.449036753056625L192.9251700680272,46.395213590414095L193.1972789115646,46.34157482370163L193.46938775510205,46.28811951358649L193.74149659863946,46.23484673983749L194.01360544217687,46.18175559021891L194.28571428571428,46.128845169534415L194.5578231292517,46.07611460653116L194.8299319727891,46.02356304141652L195.10204081632654,45.971189628273315L195.37414965986395,45.918993478756946L195.64625850340136,45.86697376037143L195.91836734693877,45.815129715983424L196.19047619047618,45.76346055366223L196.4625850340136,45.711965433333866L196.73469387755102,45.66064356744653L197.00680272108843,45.60949417369513L197.27891156462584,45.558516535865714L197.55102040816325,45.50770989883177L197.8231292517007,45.457073457186034L198.0952380952381,45.406606452995966L198.3673469387755,45.356308144631626L198.63945578231292,45.30617779796125L198.91156462585033,45.256214682564824L199.18367346938774,45.20641808581225L199.45578231292518,45.15678723779468L199.7278911564626,45.10732140867013L200,45.05801937858769\" stroke=\"#e45756\" stroke-width=\"2\"/></g></g><path class=\"foreground\" aria-hidden=\"true\" d=\"\" display=\"none\"/></g></g><g class=\"mark-group role-legend\" role=\"graphics-symbol\" aria-roledescription=\"legend\" aria-label=\"Symbol legend titled 'variable' for stroke color with 3 values: FAIR, FUND, FUNDFAIR\"><g transform=\"translate(220,0)\"><path class=\"background\" aria-hidden=\"true\" d=\"M0,0h80v53h-80Z\" pointer-events=\"none\"/><g><g class=\"mark-group role-legend-entry\"><g transform=\"translate(0,16)\"><path class=\"background\" aria-hidden=\"true\" d=\"M0,0h0v0h0Z\" pointer-events=\"none\"/><g><g class=\"mark-group role-scope\" role=\"graphics-object\" aria-roledescription=\"group mark container\"><g transform=\"translate(0,0)\"><path class=\"background\" aria-hidden=\"true\" d=\"M0,0h80v11h-80Z\" pointer-events=\"none\" opacity=\"1\"/><g><g class=\"mark-symbol role-legend-symbol\" pointer-events=\"none\"><path transform=\"translate(6,6)\" d=\"M-5,0L5,0\" stroke=\"#4c78a8\" stroke-width=\"1.5\" opacity=\"1\"/></g><g class=\"mark-text role-legend-label\" pointer-events=\"none\"><text text-anchor=\"start\" transform=\"translate(16,9)\" font-family=\"sans-serif\" font-size=\"10px\" fill=\"#000\" opacity=\"1\">FAIR</text></g></g><path class=\"foreground\" aria-hidden=\"true\" d=\"\" pointer-events=\"none\" display=\"none\"/></g><g transform=\"translate(0,13)\"><path class=\"background\" aria-hidden=\"true\" d=\"M0,0h80v11h-80Z\" pointer-events=\"none\" opacity=\"1\"/><g><g class=\"mark-symbol role-legend-symbol\" pointer-events=\"none\"><path transform=\"translate(6,6)\" d=\"M-5,0L5,0\" stroke=\"#f58518\" stroke-width=\"1.5\" opacity=\"1\"/></g><g class=\"mark-text role-legend-label\" pointer-events=\"none\"><text text-anchor=\"start\" transform=\"translate(16,9)\" font-family=\"sans-serif\" font-size=\"10px\" fill=\"#000\" opacity=\"1\">FUND</text></g></g><path class=\"foreground\" aria-hidden=\"true\" d=\"\" pointer-events=\"none\" display=\"none\"/></g><g transform=\"translate(0,26)\"><path class=\"background\" aria-hidden=\"true\" d=\"M0,0h80v11h-80Z\" pointer-events=\"none\" opacity=\"1\"/><g><g class=\"mark-symbol role-legend-symbol\" pointer-events=\"none\"><path transform=\"translate(6,6)\" d=\"M-5,0L5,0\" stroke=\"#e45756\" stroke-width=\"1.5\" opacity=\"1\"/></g><g class=\"mark-text role-legend-label\" pointer-events=\"none\"><text text-anchor=\"start\" transform=\"translate(16,9)\" font-family=\"sans-serif\" font-size=\"10px\" fill=\"#000\" opacity=\"1\">FUNDFAIR</text></g></g><path class=\"foreground\" aria-hidden=\"true\" d=\"\" pointer-events=\"none\" display=\"none\"/></g></g></g><path class=\"foreground\" aria-hidden=\"true\" d=\"\" pointer-events=\"none\" display=\"none\"/></g></g><g class=\"mark-text role-legend-title\" pointer-events=\"none\"><text text-anchor=\"start\" transform=\"translate(0,9)\" font-family=\"sans-serif\" font-size=\"11px\" font-weight=\"bold\" fill=\"#000\" opacity=\"1\">variable</text></g></g><path class=\"foreground\" aria-hidden=\"true\" d=\"\" pointer-events=\"none\" display=\"none\"/></g></g></g><path class=\"foreground\" aria-hidden=\"true\" d=\"\" display=\"none\"/></g></g></g></svg>\n"
      ],
      "text/plain": [
       "@vlplot(\n",
       "    mark=\"line\",\n",
       "    encoding={\n",
       "        x={\n",
       "            field=\"Year\",\n",
       "            type=\"temporal\"\n",
       "        },\n",
       "        y={\n",
       "            field=\"value\"\n",
       "        },\n",
       "        color={\n",
       "            field=\"variable\"\n",
       "        }\n",
       "    },\n",
       "    data={\n",
       "        values=...\n",
       "    }\n",
       ")"
      ]
     },
     "execution_count": 59,
     "metadata": {},
     "output_type": "execute_result"
    },
    {
     "name": "stderr",
     "output_type": "stream",
     "text": [
      "Error: CanvasRenderer is missing a valid canvas or context\n",
      "    at Object.error (/Users/lisarennels/.julia/artifacts/2f940e09ca056ec979279f3a2bd1f8991fc6a680/node_modules/vega-scenegraph/node_modules/vega-util/build/vega-util.js:39:11)\n",
      "    at CanvasRenderer.resize (/Users/lisarennels/.julia/artifacts/2f940e09ca056ec979279f3a2bd1f8991fc6a680/node_modules/vega-scenegraph/build/vega-scenegraph.js:3633:28)\n",
      "    at CanvasRenderer.initialize (/Users/lisarennels/.julia/artifacts/2f940e09ca056ec979279f3a2bd1f8991fc6a680/node_modules/vega-scenegraph/build/vega-scenegraph.js:3190:19)\n",
      "    at CanvasRenderer.initialize (/Users/lisarennels/.julia/artifacts/2f940e09ca056ec979279f3a2bd1f8991fc6a680/node_modules/vega-scenegraph/build/vega-scenegraph.js:3621:30)\n",
      "    at initializeRenderer (/Users/lisarennels/.julia/artifacts/2f940e09ca056ec979279f3a2bd1f8991fc6a680/node_modules/vega-view/build/vega-view.js:639:14)\n",
      "    at renderHeadless (/Users/lisarennels/.julia/artifacts/2f940e09ca056ec979279f3a2bd1f8991fc6a680/node_modules/vega-view/build/vega-view.js:758:12)\n",
      "    at processTicksAndRejections (internal/process/task_queues.js:93:5)\n",
      "    at async View.renderToCanvas [as toCanvas] (/Users/lisarennels/.julia/artifacts/2f940e09ca056ec979279f3a2bd1f8991fc6a680/node_modules/vega-view/build/vega-view.js:794:15)\n"
     ]
    }
   ],
   "source": [
    "df = DataFrame(\n",
    "    :Year => Mimi.time_labels(m),\n",
    "    :FUND => mfund[:climateco2cycle, :temp][1:736], \n",
    "    :FAIR => mfair[:temperature, :T], \n",
    "    :FUNDFAIR => m[:temperature, :T])\n",
    "\n",
    "stack(df, [:FUND, :FAIR, :FUNDFAIR]) |> \n",
    "\n",
    "@vlplot(\n",
    "    :line, \n",
    "    x=\"Year:t\",\n",
    "    y = :value,\n",
    "    color = :variable\n",
    ")\n",
    "    "
   ]
  },
  {
   "cell_type": "markdown",
   "metadata": {},
   "source": [
    "#### Compare FUND Damages"
   ]
  },
  {
   "cell_type": "code",
   "execution_count": null,
   "metadata": {},
   "outputs": [],
   "source": [
    "using VegaLite\n",
    "using DataFrames"
   ]
  },
  {
   "cell_type": "code",
   "execution_count": null,
   "metadata": {},
   "outputs": [],
   "source": []
  }
 ],
 "metadata": {
  "kernelspec": {
   "display_name": "Julia 1.6.0",
   "language": "julia",
   "name": "julia-1.6"
  },
  "language_info": {
   "file_extension": ".jl",
   "mimetype": "application/julia",
   "name": "julia",
   "version": "1.6.0"
  }
 },
 "nbformat": 4,
 "nbformat_minor": 4
}
