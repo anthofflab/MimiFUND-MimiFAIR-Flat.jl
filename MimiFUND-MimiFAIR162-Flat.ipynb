{
 "cells": [
  {
   "cell_type": "markdown",
   "metadata": {},
   "source": [
    "## Implementation of MimiFAIR162-MimiFUND"
   ]
  },
  {
   "cell_type": "markdown",
   "metadata": {},
   "source": [
    "This notebook implements a coupling of the MimiFAIR model and the MimiFUND model. At a high-level, the goal here is to use the MimiFAIR model as the climate module, and the MimiFUND model as the socioeconomic and damages modules, although in this case we still allow MimiFUND's climate module to take care of the modeling of non-CO₂ gases like methane.  \n",
    "\n",
    "This is meant to be an instructional example for the use-case of Mimi where a user wishes to couple together existing models.\n",
    "\n",
    "Resources for further inquiries include:\n",
    "\n",
    "- The Mimi framework [website](https://www.mimiframework.org)\n",
    "- The Mimi [forum](https://forum.mimiframework.org) for technical and Mimi-related questions\n",
    "- The model-specific repositories, [MimiFUND](https://github.com/fund-model/MimiFUND.jl) and [MimiFAIR](https://github.com/anthofflab/mimi-fair.jl/) for model-specific inquiries\n",
    "\n",
    "If you wish to follow alone, feel free to download or clone the Github repository, or create a new project on your own machine. If you are new to Mimi, you will probably want to start with our basic Mimi installation process as described in our documentation [here](https://www.mimiframework.org/Mimi.jl/stable/tutorials/tutorial_1/#Tutorial-1:-Install-Mimi-1)."
   ]
  },
  {
   "cell_type": "markdown",
   "metadata": {},
   "source": [
    "### Set up the Environment"
   ]
  },
  {
   "cell_type": "markdown",
   "metadata": {},
   "source": [
    "The first step is to set up the environment with the required packages and versions for this exercise as indicated in the `Manifest.toml` and `Project.toml` files. As you can see from the call to `Pkg.status()`, this work requires a few packages including the `master` branch of `Mimi`, the default (latest tagged) versions of `MimiFAIR` and `MimiFUND` model implementations, and some supporting packages `CSVFiles`, `DataFrames`, and `Vegalite`."
   ]
  },
  {
   "cell_type": "code",
   "execution_count": 1,
   "metadata": {},
   "outputs": [
    {
     "name": "stderr",
     "output_type": "stream",
     "text": [
      "\u001b[32m\u001b[1m  Activating\u001b[22m\u001b[39m environment at `~/JuliaProjects/MimiModels/MimiFUND-MimiFAIR-Flat.jl/Project.toml`\n"
     ]
    },
    {
     "name": "stdout",
     "output_type": "stream",
     "text": [
      "\u001b[32m\u001b[1m      Status\u001b[22m\u001b[39m `~/JuliaProjects/MimiModels/MimiFUND-MimiFAIR-Flat.jl/Project.toml`\n",
      " \u001b[90m [5d742f6a] \u001b[39m\u001b[37mCSVFiles v1.0.1\u001b[39m\n",
      " \u001b[90m [a93c6f00] \u001b[39m\u001b[37mDataFrames v1.2.2\u001b[39m\n",
      " \u001b[90m [e4e893b0] \u001b[39m\u001b[37mMimi v1.3.3\u001b[39m\n",
      " \u001b[90m [73d86c50] \u001b[39m\u001b[37mMimiFAIR v1.0.2\u001b[39m\n",
      " \u001b[90m [02cc1f66] \u001b[39m\u001b[37mMimiFAIRv1_6_2 v0.1.0 `https://github.com/FrankErrickson/MimiFAIRv1_6_2.jl.git#main`\u001b[39m\n",
      " \u001b[90m [b3ba11de] \u001b[39m\u001b[37mMimiFUND v3.13.0\u001b[39m\n",
      " \u001b[90m [91a5bcdd] \u001b[39m\u001b[37mPlots v1.22.6\u001b[39m\n",
      " \u001b[90m [112f6efa] \u001b[39m\u001b[37mVegaLite v2.6.0\u001b[39m\n"
     ]
    }
   ],
   "source": [
    "using Pkg\n",
    "Pkg.activate(@__DIR__)\n",
    "Pkg.status()"
   ]
  },
  {
   "cell_type": "markdown",
   "metadata": {},
   "source": [
    "Note that if you are following along on your own machine without downloading this repository, you can recreate this environment by adding each of the packages listed above with `Pkg.add()`, or using the `Pkg` REPL entered with `]`."
   ]
  },
  {
   "cell_type": "code",
   "execution_count": 2,
   "metadata": {},
   "outputs": [],
   "source": [
    "# using Pkg\n",
    "# Pkg.add(\"CSVFiles\")\n",
    "# Pkg.add(\"DataFrames\")\n",
    "# Pkg.add(\"Mimi\")\n",
    "# Pkg.add(\"MimiFAIR\")\n",
    "# Pkg.add(\"MimiFUND\")\n",
    "# Pkg.add(\"VegaLite\")\n",
    "\n",
    "# Pkg.status()"
   ]
  },
  {
   "cell_type": "markdown",
   "metadata": {},
   "source": [
    "Next we load the packages whose APIs we will be directly using as well as set some constants to be used in the script."
   ]
  },
  {
   "cell_type": "code",
   "execution_count": 3,
   "metadata": {},
   "outputs": [],
   "source": [
    "using MimiFAIRv1_6_2\n",
    "using MimiFUND\n",
    "using Mimi\n"
   ]
  },
  {
   "cell_type": "markdown",
   "metadata": {},
   "source": [
    "### Load Helpers and Set Constants"
   ]
  },
  {
   "cell_type": "markdown",
   "metadata": {},
   "source": [
    "We will now load some helper functions and set some constants, most of which have to do with the difference in time dimensions between FAIR and FUND, which will drive much of our coupling work.\n",
    "\n",
    "\n",
    "The `helper.jl` file defines the `update_MimiFAIR_params!` function with the following signature.  This is copied directly from the source code of `MimiFAIR.jl` and takes care of the calls to `update_param!`, `add_shared_param!`, and `connect_param!` that build up the stand alone MimiFAIR model.\n",
    "\n",
    "\n",
    "```\n",
    "function update_MimiFAIR_params!(m; rcp_scenario::String=\"RCP85\", start_year::Int=1765, end_year::Int=2500, F2x::Float64=3.71, TCR::Float64=1.6, ECS::Float64=2.75, d::Array{Float64,1}=[239.0, 4.1])\n",
    "```\n",
    "\n",
    "In the future we can likely shorten this function by adding `default` values to the scalar parameters of FAIR."
   ]
  },
  {
   "cell_type": "code",
   "execution_count": 4,
   "metadata": {},
   "outputs": [],
   "source": [
    "include(\"src/helper.jl\");"
   ]
  },
  {
   "cell_type": "code",
   "execution_count": 5,
   "metadata": {},
   "outputs": [
    {
     "data": {
      "text/plain": [
       "351"
      ]
     },
     "execution_count": 5,
     "metadata": {},
     "output_type": "execute_result"
    }
   ],
   "source": [
    "# set some constants\n",
    "ar6_scenario = \"ssp585\"\n",
    "\n",
    "FAIR_first = 1750\n",
    "FAIR_last = 2300\n",
    "FAIR_len = length(FAIR_first:FAIR_last)\n",
    "\n",
    "FUND_first = 1950\n",
    "FUND_last = 2300\n",
    "FUND_len = length(FUND_first:FUND_last)"
   ]
  },
  {
   "cell_type": "markdown",
   "metadata": {},
   "source": [
    "### Load Independent (Default) FUND and FAIR Models"
   ]
  },
  {
   "cell_type": "markdown",
   "metadata": {},
   "source": [
    "We begin with the default FUND model as implemented in `MimiFUND.jl`."
   ]
  },
  {
   "cell_type": "code",
   "execution_count": 6,
   "metadata": {},
   "outputs": [
    {
     "data": {
      "text/plain": [
       "Mimi.Model\n",
       "  Module: Mimi\n",
       "  Components:\n",
       "    ComponentId(MimiFUND.scenariouncertainty)\n",
       "    ComponentId(MimiFUND.population)\n",
       "    ComponentId(MimiFUND.geography)\n",
       "    ComponentId(MimiFUND.socioeconomic)\n",
       "    ComponentId(MimiFUND.emissions)\n",
       "    ComponentId(MimiFUND.climateco2cycle)\n",
       "    ComponentId(MimiFUND.climatech4cycle)\n",
       "    ComponentId(MimiFUND.climaten2ocycle)\n",
       "    ComponentId(MimiFUND.climatesf6cycle)\n",
       "    ComponentId(MimiFUND.climateforcing)\n",
       "    ComponentId(MimiFUND.climatedynamics)\n",
       "    ComponentId(MimiFUND.biodiversity)\n",
       "    ComponentId(MimiFUND.climateregional)\n",
       "    ComponentId(MimiFUND.ocean)\n",
       "    ComponentId(MimiFUND.impactagriculture)\n",
       "    ComponentId(MimiFUND.impactbiodiversity)\n",
       "    ComponentId(MimiFUND.impactcardiovascularrespiratory)\n",
       "    ComponentId(MimiFUND.impactcooling)\n",
       "    ComponentId(MimiFUND.impactdiarrhoea)\n",
       "    ComponentId(MimiFUND.impactextratropicalstorms)\n",
       "    ComponentId(MimiFUND.impactforests)\n",
       "    ComponentId(MimiFUND.impactheating)\n",
       "    ComponentId(MimiFUND.impactvectorbornediseases)\n",
       "    ComponentId(MimiFUND.impacttropicalstorms)\n",
       "    ComponentId(MimiFUND.vslvmorb)\n",
       "    ComponentId(MimiFUND.impactdeathmorbidity)\n",
       "    ComponentId(MimiFUND.impactwaterresources)\n",
       "    ComponentId(MimiFUND.impactsealevelrise)\n",
       "    ComponentId(MimiFUND.impactaggregation)\n",
       "  Built: false\n"
      ]
     },
     "execution_count": 6,
     "metadata": {},
     "output_type": "execute_result"
    }
   ],
   "source": [
    "m = MimiFUND.get_model()"
   ]
  },
  {
   "cell_type": "markdown",
   "metadata": {},
   "source": [
    "We will now import each of the individual FAIR components."
   ]
  },
  {
   "cell_type": "code",
   "execution_count": 7,
   "metadata": {},
   "outputs": [],
   "source": [
    "# import MimiFAIRv1_6_2 components \n",
    "import MimiFAIRv1_6_2: ch4_cycle, n2o_cycle, other_ghg_cycles, co2_cycle, ch4_forcing, o3_forcing,\n",
    "    n2o_forcing, other_ghg_forcing, other_ghg_cycles, co2_forcing, o3_depleting_substance_cycles, o3_depleting_substance_forcing, aerosol_direct_forcing, \n",
    "    aerosol_indirect_forcing, bc_snow_forcing, landuse_forcing, contrails_forcing, total_forcing, temperature \n"
   ]
  },
  {
   "cell_type": "markdown",
   "metadata": {},
   "source": [
    "### Add and Update Dimensions"
   ]
  },
  {
   "cell_type": "markdown",
   "metadata": {},
   "source": [
    "The first step in building out our coupled model, starting with our default FUND model, is to handle dimensions. Currently the model `m` has two dimensions, `time` and `regions`. "
   ]
  },
  {
   "cell_type": "code",
   "execution_count": 8,
   "metadata": {},
   "outputs": [
    {
     "data": {
      "text/plain": [
       "OrderedCollections.OrderedDict{Symbol, Union{Nothing, Mimi.Dimension}} with 3 entries:\n",
       "  :time       => [1950, 1951, 1952, 1953, 1954, 1955, 1956, 1957, 1958, 1959  ……\n",
       "  :regions    => [\"USA\", \"CAN\", \"WEU\", \"JPK\", \"ANZ\", \"EEU\", \"FSU\", \"MDE\", \"CAM\"…\n",
       "  Symbol(\"5\") => [1, 2, 3, 4, 5]"
      ]
     },
     "execution_count": 8,
     "metadata": {},
     "output_type": "execute_result"
    }
   ],
   "source": [
    "m.md.dim_dict # display the dimensions of the default FUND model"
   ]
  },
  {
   "cell_type": "markdown",
   "metadata": {},
   "source": [
    "We now add two new dimensions to our model `m` that are used by FAIR."
   ]
  },
  {
   "cell_type": "code",
   "execution_count": 9,
   "metadata": {},
   "outputs": [
    {
     "data": {
      "text/plain": [
       "OrderedCollections.OrderedDict{Symbol, Union{Nothing, Mimi.Dimension}} with 5 entries:\n",
       "  :time                       => [1950, 1951, 1952, 1953, 1954, 1955, 1956, 195…\n",
       "  :regions                    => [\"USA\", \"CAN\", \"WEU\", \"JPK\", \"ANZ\", \"EEU\", \"FS…\n",
       "  Symbol(\"5\")                 => [1, 2, 3, 4, 5]\n",
       "  :other_ghg                  => [\"CF4\", \"C2F6\", \"C6F14\", \"HFC23\", \"HFC32\", \"HF…\n",
       "  :ozone_depleting_substances => [\"CFC_11\", \"CFC_12\", \"CFC_113\", \"CFC_114\", \"CF…"
      ]
     },
     "execution_count": 9,
     "metadata": {},
     "output_type": "execute_result"
    }
   ],
   "source": [
    "# add new dimensions relevant to FAIR (1) minor greenhouse gases and \n",
    "# (2) ozone-depleting substances\n",
    "other_ghg_names = [\"CF4\", \"C2F6\", \"C6F14\", \"HFC23\", \"HFC32\", \"HFC43_10\", \"HFC125\", \"HFC134a\", \"HFC143a\", \"HFC227ea\", \"HFC245fa\", \"SF6\"]\n",
    "ods_names       = [\"CFC_11\", \"CFC_12\", \"CFC_113\", \"CFC_114\", \"CFC_115\", \"CARB_TET\", \"MCF\", \"HCFC_22\", \"HCFC_141B\", \"HCFC_142B\", \"HALON1211\", \"HALON1202\", \"HALON1301\", \"HALON2402\", \"CH3BR\", \"CH3CL\"]\n",
    "\n",
    "set_dimension!(m, :other_ghg, other_ghg_names) # FAIR dims - Set index for Kyoto and ozone ozone-depleting gases.\n",
    "set_dimension!(m, :ozone_depleting_substances, ods_names) # FAIR dims - Set index for Kyoto and ozone ozone-depleting gases.\n",
    "\n",
    "m.md.dim_dict  # display the (augmented) dimensions of the default FUND model's Model Definition"
   ]
  },
  {
   "cell_type": "markdown",
   "metadata": {},
   "source": [
    "The final dimensions-related step is to expand the time dimension of the model.  At this stage, our model runs on FUND's default time dimension 1950 to 3000 (`FUND_first` to `FUND_last`).  FAIR, however, runs from 1765 to 2500 (`FAIR_first` to `FAIR_last`) so we are going to set our model to run from 1765 to 2500.\n",
    "\n",
    "FUND will not start running until 1950, and will not produce an `emissions` value until 1951, so up until 1951 FAIR will use `backup` values pulled from default FUND as we will describe in detail below.\n",
    "\n",
    "**For further details on the effects and restrictions around updating the `time` dimension of a model see the documentation [here](https://www.mimiframework.org/Mimi.jl/dev/howto/howto_5/).**"
   ]
  },
  {
   "cell_type": "code",
   "execution_count": 10,
   "metadata": {},
   "outputs": [
    {
     "data": {
      "text/plain": [
       "OrderedCollections.OrderedDict{Symbol, Union{Nothing, Mimi.Dimension}} with 5 entries:\n",
       "  :time                       => [1750, 1751, 1752, 1753, 1754, 1755, 1756, 175…\n",
       "  :regions                    => [\"USA\", \"CAN\", \"WEU\", \"JPK\", \"ANZ\", \"EEU\", \"FS…\n",
       "  Symbol(\"5\")                 => [1, 2, 3, 4, 5]\n",
       "  :other_ghg                  => [\"CF4\", \"C2F6\", \"C6F14\", \"HFC23\", \"HFC32\", \"HF…\n",
       "  :ozone_depleting_substances => [\"CFC_11\", \"CFC_12\", \"CFC_113\", \"CFC_114\", \"CF…"
      ]
     },
     "execution_count": 10,
     "metadata": {},
     "output_type": "execute_result"
    }
   ],
   "source": [
    "set_dimension!(m, :time, collect(FAIR_first:FAIR_last))\n",
    "\n",
    "m.md.dim_dict # display the (udpated) dimensions of the model"
   ]
  },
  {
   "cell_type": "markdown",
   "metadata": {},
   "source": [
    "### Augment FUND with FAIR Components"
   ]
  },
  {
   "cell_type": "markdown",
   "metadata": {},
   "source": [
    "We now add the FAIR components to our model.  We place them in a contiguous block starting after the FUND `emissions` component, which will feed results into the FAIR components before FAIR feeds back into FUND from its `temperature` component.\n",
    "\n",
    "Also note that since we have updated the time dimension to run from `FAIR_first` to `FAIR_last`, or 1765 to 2500, each of these new components will be set to run from 1765 to 2500, the full model time period, by default."
   ]
  },
  {
   "cell_type": "code",
   "execution_count": 11,
   "metadata": {},
   "outputs": [],
   "source": [
    "add_comp!(m, ch4_cycle; after = :emissions);\n",
    "add_comp!(m, n2o_cycle; after = :ch4_cycle);\n",
    "add_comp!(m, co2_cycle; after = :n2o_cycle);\n",
    "add_comp!(m, other_ghg_cycles; after = :co2_cycle);\n",
    "add_comp!(m, o3_depleting_substance_cycles; after = :other_ghg_cycles);\n",
    "add_comp!(m, co2_forcing; after = :o3_depleting_substance_cycles);\n",
    "add_comp!(m, ch4_forcing; after = :co2_forcing);\n",
    "add_comp!(m, n2o_forcing; after = :ch4_forcing);\n",
    "add_comp!(m, o3_forcing; after = :n2o_forcing);\n",
    "add_comp!(m, aerosol_direct_forcing; after = :o3_forcing);\n",
    "add_comp!(m, aerosol_indirect_forcing; after = :aerosol_direct_forcing);\n",
    "add_comp!(m, other_ghg_forcing; after = :aerosol_indirect_forcing);\n",
    "add_comp!(m, o3_depleting_substance_forcing; after = :other_ghg_forcing);\n",
    "add_comp!(m, contrails_forcing; after = :o3_depleting_substance_forcing);\n",
    "add_comp!(m, bc_snow_forcing; after = :contrails_forcing);\n",
    "add_comp!(m, landuse_forcing; after = :bc_snow_forcing);\n",
    "add_comp!(m, total_forcing; after = :landuse_forcing);\n",
    "add_comp!(m, temperature; after = :total_forcing);"
   ]
  },
  {
   "cell_type": "markdown",
   "metadata": {},
   "source": [
    "Next we run our helper function to update all the FAIR component parameters and make their internal connections, such that we have added  a fully functional and runnable FAIR model into our FUND model.\n"
   ]
  },
  {
   "cell_type": "code",
   "execution_count": 12,
   "metadata": {},
   "outputs": [
    {
     "name": "stdout",
     "output_type": "stream",
     "text": [
      "ssp585\n"
     ]
    }
   ],
   "source": [
    "update_MimiFAIR162_params!(m; start_year = FAIR_first, end_year = FAIR_last, ar6_scenario = ar6_scenario)"
   ]
  },
  {
   "cell_type": "markdown",
   "metadata": {},
   "source": [
    "At this point the model `m` is runnable (and in fact none of the steps in this notebook thus far have made an invalid, unrunnable model), but currently `m` will run FUND and FAIR in their default modes and completely disconnected.  The next section describes the steps to couple them together."
   ]
  },
  {
   "cell_type": "markdown",
   "metadata": {},
   "source": [
    "### Couple FUND and FAIR"
   ]
  },
  {
   "cell_type": "markdown",
   "metadata": {},
   "source": [
    "#### FUND Emissions --> Convert Mtons to Gtons --> FAIR CO₂ Cycle"
   ]
  },
  {
   "cell_type": "markdown",
   "metadata": {},
   "source": [
    "We want to connect the FUND `emissions` component's `mco2` variable the FAIR `co2_cycle` component's `E_CO₂` parameter.  In the stand-alone version of FAIR, the `E_CO₂` is exogenously forced by the summation of all `CO₂` sources, as shown in it's source code (and the `helper.jl` file):\n",
    "\n",
    "```\n",
    "rcp_emissions, volcano_forcing, solar_forcing, gas_data, gas_fractions, conversions = MimiFAIR.load_fair_data(start_year, end_year, rcp_scenario)\n",
    "\n",
    "update_param!(m, :co2_cycle, :E_CO₂, rcp_emissions.FossilCO2 .+ rcp_emissions.OtherCO2)\n",
    "```"
   ]
  },
  {
   "cell_type": "markdown",
   "metadata": {},
   "source": [
    "First we need to add a `multiplier` component between FUND's `emissions` component and the FAIR components because FUND outputs Mtons of C but FAIR expects Gtons of C. **Note that these models expect C instead of CO₂, which is endogenous to the model so we must align with those**.\n",
    "\n",
    "Mimi has a few built in components for this type of situation, including `Mimi.multiplier`, as decribed [here](https://www.mimiframework.org/Mimi.jl/stable/tutorials/tutorial_3/#Component-and-Structural-Modifications:-The-API-1).  \n",
    "\n",
    "This small component just needs a connected `input` parameter and a `multiply` parameter to produce an `output` variable. In this case, we connect the `multiplier` component's `input` parameter to the `emissions` component's `mco2` variable and set `multiply` parameter to our unit conversion value of 1/1000. We also set the `multiplier` component to run only while FUND runs by setting `first = FUND_first` and `last = FUND_last`."
   ]
  },
  {
   "cell_type": "code",
   "execution_count": 13,
   "metadata": {},
   "outputs": [],
   "source": [
    "add_comp!(m, Mimi.multiplier; after = :emissions, first = FUND_first, last = FUND_last);\n",
    "set_param!(m, :multiplier, :multiply, fill(1/1000, FAIR_len)) # convert Mtons C coming out of FUND to Gtons C going into FAIR\n",
    "connect_param!(m, :multiplier, :input, :emissions, :mco2)"
   ]
  },
  {
   "cell_type": "markdown",
   "metadata": {},
   "source": [
    "Now that we have taken care of unit conversion, we can connect the FAIR `co2_cycle` component's `E_CO₂` parameter to the `multiplier` component's `output` variable.  A few notes on the arguments having to do with backup data are:\n",
    "\n",
    "- Since FAIR runs from 1765 to 1950, but FUND (and the multiplier) only runs from 1950 to 2500, we need to include backup data `FAIR_CO₂_backup` for FAIR to use until FUND can provide a value.  We use the same data that previously exogenously forced FAIR.\n",
    "\n",
    "\n",
    "- We also need to include the `backup_offset` optional argument for the `connect_param!` function, because FUND does not actually produce a value for `mco2` until it's *second* timestep, or in this case 1951, and thus we set `backup_offset = 1`."
   ]
  },
  {
   "cell_type": "code",
   "execution_count": 15,
   "metadata": {},
   "outputs": [],
   "source": [
    "# destination: FAIR component :co2_cycle parameter :E_CO₂\n",
    "# previous source: exogenous parameter\n",
    "# new source: FUND :emissions variable :mco2 (which first runs through the multiplier component)\n",
    "\n",
    "# Subset AR6 emissions to proper years.\n",
    "ar6_emissions_raw = DataFrame(load(joinpath(@__DIR__, \"data\", \"model_data\", \"AR6_emissions_\"*ar6_scenario*\"_1750_2300.csv\")))\n",
    "emission_indices = indexin(collect(FAIR_first:FAIR_last), ar6_emissions_raw.Year)\n",
    "ar6_emissions = ar6_emissions_raw[emission_indices, :]\n",
    "\n",
    "FAIR_CO₂_backup = (ar6_emissions.FossilCO2 .+ ar6_emissions.OtherCO2)\n",
    "connect_param!(m, :co2_cycle, :E_co2, :multiplier, :output, FAIR_CO₂_backup, backup_offset = 1)"
   ]
  },
  {
   "cell_type": "markdown",
   "metadata": {},
   "source": [
    "#### FAIR Temperature --> FUND CO₂ Cycle, Biodiversity, Ocean and Regional Climate Components"
   ]
  },
  {
   "cell_type": "markdown",
   "metadata": {},
   "source": [
    "Now we want to connect FAIR's output temperature variable `T` from component `temperature` back into FUND, both to the `temp` parameter of the `climateco2cycle`, `biodiversity`, and `ocean` components and into the `inputtemp` parameter of the `climateregional` component."
   ]
  },
  {
   "cell_type": "code",
   "execution_count": 16,
   "metadata": {},
   "outputs": [],
   "source": [
    "# destination: FUND components :climateco2cycle, :biodiversity, :ocean --> parameter :temp\n",
    "# previous source: FUND component :climatedynamics --> variable :temp\n",
    "# new source: FAIR :temperature --> variable :T\n",
    "\n",
    "connect_param!(m, :climateco2cycle, :temp, :temperature, :T)\n",
    "connect_param!(m, :biodiversity, :temp, :temperature, :T)\n",
    "connect_param!(m, :ocean, :temp, :temperature, :T)"
   ]
  },
  {
   "cell_type": "code",
   "execution_count": 17,
   "metadata": {},
   "outputs": [],
   "source": [
    "# destination: FUND component :climateregional, parameter :inputtemp\n",
    "# previous source: FUND component :climatedynamics --> variable :temp\n",
    "# new source: FAIR component :temperature --> variable :T\n",
    "\n",
    "connect_param!(m, :climateregional, :inputtemp, :temperature, :T)"
   ]
  },
  {
   "cell_type": "markdown",
   "metadata": {},
   "source": [
    "### Run and Visualize"
   ]
  },
  {
   "cell_type": "markdown",
   "metadata": {},
   "source": [
    "Now we can run our coupled model and visualize the results with the `explore`, `plot`, and indexing functions. We will also grab the default FUND and FAIR models for comparisons."
   ]
  },
  {
   "cell_type": "code",
   "execution_count": 20,
   "metadata": {
    "scrolled": false
   },
   "outputs": [],
   "source": [
    "run(m) # coupled model\n",
    "\n",
    "mfund = MimiFUND.get_model()\n",
    "run(mfund)\n",
    "\n",
    "mfair = MimiFAIRv1_6_2.get_model(;start_year = FAIR_first, end_year = FAIR_last, ar6_scenario = ar6_scenario)\n",
    "run(mfair)"
   ]
  },
  {
   "cell_type": "code",
   "execution_count": 18,
   "metadata": {},
   "outputs": [
    {
     "data": {
      "text/plain": [
       "Electron.Window(Application(Base.PipeEndpoint(RawFD(53) paused, 0 bytes waiting), Process(`\u001b[4m/Users/lisarennels/.julia/artifacts/3ba739a4ed073587d96415faecef10a5ccea63ba/Julia.app/Contents/MacOS/Julia\u001b[24m \u001b[4m/Users/lisarennels/.julia/packages/Electron/ILvWR/src/main.js\u001b[24m \u001b[4m/var/folders/1w/jm1h6fwj0t536vld2gxj7kzr0000gn/T/jlel-9b9b29d2deb511eb1d5aff9fefbabc00\u001b[24m \u001b[4m/var/folders/1w/jm1h6fwj0t536vld2gxj7kzr0000gn/T/jlel-sn-9b9b79dadeb511eb15d77db571017392\u001b[24m \u001b[4mVXek2G18giFo1CtUdUXGHM2NAsIB3vQu6W5tu9wvbA6quVOCz515TO0Aaxr2CPyxFp9O2OY8z3kQHoEI/TVJOvy5DpTkmq45grLuqqORQlj/67i5QDz6KzCKyQqG/1FDfNEqm4RZ5vhGSu2jk0uDTUsVFrD8NamvTPi4vcItqls=\u001b[24m`, ProcessRunning), [1 window]), 1, true, Channel{Any}(128))"
      ]
     },
     "execution_count": 18,
     "metadata": {},
     "output_type": "execute_result"
    }
   ],
   "source": [
    "explore(m)"
   ]
  },
  {
   "cell_type": "markdown",
   "metadata": {},
   "source": [
    "#### Compare Some Time Series"
   ]
  },
  {
   "cell_type": "markdown",
   "metadata": {},
   "source": [
    "One interesting step might be to compare some time series between the different models.  We could use the `Mimi.plot` function (ie. `Mimi.plot(m, :temperature, :T`) but here we will use some custom written plot code with the `VegaLite` package."
   ]
  },
  {
   "cell_type": "code",
   "execution_count": 21,
   "metadata": {},
   "outputs": [],
   "source": [
    "using VegaLite\n",
    "using DataFrames"
   ]
  },
  {
   "cell_type": "markdown",
   "metadata": {},
   "source": [
    "##### Temperature\n",
    "\n",
    "Here we compare the delta temperature trajectory between FAIR, FUND, and FUNDFAIR. Noting that from 1765 to 1950 our results in FUNDFAIR will match FAIR, and then in 1950 FUND will kick in as our driver of CO2 emissions calculations while FAIR will continue to drive temperature calculations for which it recieves CO2 emissions inputs from FUND."
   ]
  },
  {
   "cell_type": "code",
   "execution_count": 22,
   "metadata": {},
   "outputs": [],
   "source": [
    "fairvals = mfair[:temperature, :T]\n",
    "fundfairvals =  m[:temperature, :T]\n",
    "fundvals = vcat(\n",
    "    fill(missing, length(FAIR_first:FUND_first)-1),\n",
    "    mfund[:climateco2cycle, :temp][1:length(FUND_first:FAIR_last),:]\n",
    ")\n",
    "fundvals = fundvals[:,1]; # make a vector"
   ]
  },
  {
   "cell_type": "code",
   "execution_count": 23,
   "metadata": {},
   "outputs": [
    {
     "data": {
      "application/vnd.vegalite.v4+json": {
       "data": {
        "values": [
         {
          "Year": 1750,
          "value": null,
          "variable": "FUND"
         },
         {
          "Year": 1751,
          "value": null,
          "variable": "FUND"
         },
         {
          "Year": 1752,
          "value": null,
          "variable": "FUND"
         },
         {
          "Year": 1753,
          "value": null,
          "variable": "FUND"
         },
         {
          "Year": 1754,
          "value": null,
          "variable": "FUND"
         },
         {
          "Year": 1755,
          "value": null,
          "variable": "FUND"
         },
         {
          "Year": 1756,
          "value": null,
          "variable": "FUND"
         },
         {
          "Year": 1757,
          "value": null,
          "variable": "FUND"
         },
         {
          "Year": 1758,
          "value": null,
          "variable": "FUND"
         },
         {
          "Year": 1759,
          "value": null,
          "variable": "FUND"
         },
         {
          "Year": 1760,
          "value": null,
          "variable": "FUND"
         },
         {
          "Year": 1761,
          "value": null,
          "variable": "FUND"
         },
         {
          "Year": 1762,
          "value": null,
          "variable": "FUND"
         },
         {
          "Year": 1763,
          "value": null,
          "variable": "FUND"
         },
         {
          "Year": 1764,
          "value": null,
          "variable": "FUND"
         },
         {
          "Year": 1765,
          "value": null,
          "variable": "FUND"
         },
         {
          "Year": 1766,
          "value": null,
          "variable": "FUND"
         },
         {
          "Year": 1767,
          "value": null,
          "variable": "FUND"
         },
         {
          "Year": 1768,
          "value": null,
          "variable": "FUND"
         },
         {
          "Year": 1769,
          "value": null,
          "variable": "FUND"
         },
         {
          "Year": 1770,
          "value": null,
          "variable": "FUND"
         },
         {
          "Year": 1771,
          "value": null,
          "variable": "FUND"
         },
         {
          "Year": 1772,
          "value": null,
          "variable": "FUND"
         },
         {
          "Year": 1773,
          "value": null,
          "variable": "FUND"
         },
         {
          "Year": 1774,
          "value": null,
          "variable": "FUND"
         },
         {
          "Year": 1775,
          "value": null,
          "variable": "FUND"
         },
         {
          "Year": 1776,
          "value": null,
          "variable": "FUND"
         },
         {
          "Year": 1777,
          "value": null,
          "variable": "FUND"
         },
         {
          "Year": 1778,
          "value": null,
          "variable": "FUND"
         },
         {
          "Year": 1779,
          "value": null,
          "variable": "FUND"
         },
         {
          "Year": 1780,
          "value": null,
          "variable": "FUND"
         },
         {
          "Year": 1781,
          "value": null,
          "variable": "FUND"
         },
         {
          "Year": 1782,
          "value": null,
          "variable": "FUND"
         },
         {
          "Year": 1783,
          "value": null,
          "variable": "FUND"
         },
         {
          "Year": 1784,
          "value": null,
          "variable": "FUND"
         },
         {
          "Year": 1785,
          "value": null,
          "variable": "FUND"
         },
         {
          "Year": 1786,
          "value": null,
          "variable": "FUND"
         },
         {
          "Year": 1787,
          "value": null,
          "variable": "FUND"
         },
         {
          "Year": 1788,
          "value": null,
          "variable": "FUND"
         },
         {
          "Year": 1789,
          "value": null,
          "variable": "FUND"
         },
         {
          "Year": 1790,
          "value": null,
          "variable": "FUND"
         },
         {
          "Year": 1791,
          "value": null,
          "variable": "FUND"
         },
         {
          "Year": 1792,
          "value": null,
          "variable": "FUND"
         },
         {
          "Year": 1793,
          "value": null,
          "variable": "FUND"
         },
         {
          "Year": 1794,
          "value": null,
          "variable": "FUND"
         },
         {
          "Year": 1795,
          "value": null,
          "variable": "FUND"
         },
         {
          "Year": 1796,
          "value": null,
          "variable": "FUND"
         },
         {
          "Year": 1797,
          "value": null,
          "variable": "FUND"
         },
         {
          "Year": 1798,
          "value": null,
          "variable": "FUND"
         },
         {
          "Year": 1799,
          "value": null,
          "variable": "FUND"
         },
         {
          "Year": 1800,
          "value": null,
          "variable": "FUND"
         },
         {
          "Year": 1801,
          "value": null,
          "variable": "FUND"
         },
         {
          "Year": 1802,
          "value": null,
          "variable": "FUND"
         },
         {
          "Year": 1803,
          "value": null,
          "variable": "FUND"
         },
         {
          "Year": 1804,
          "value": null,
          "variable": "FUND"
         },
         {
          "Year": 1805,
          "value": null,
          "variable": "FUND"
         },
         {
          "Year": 1806,
          "value": null,
          "variable": "FUND"
         },
         {
          "Year": 1807,
          "value": null,
          "variable": "FUND"
         },
         {
          "Year": 1808,
          "value": null,
          "variable": "FUND"
         },
         {
          "Year": 1809,
          "value": null,
          "variable": "FUND"
         },
         {
          "Year": 1810,
          "value": null,
          "variable": "FUND"
         },
         {
          "Year": 1811,
          "value": null,
          "variable": "FUND"
         },
         {
          "Year": 1812,
          "value": null,
          "variable": "FUND"
         },
         {
          "Year": 1813,
          "value": null,
          "variable": "FUND"
         },
         {
          "Year": 1814,
          "value": null,
          "variable": "FUND"
         },
         {
          "Year": 1815,
          "value": null,
          "variable": "FUND"
         },
         {
          "Year": 1816,
          "value": null,
          "variable": "FUND"
         },
         {
          "Year": 1817,
          "value": null,
          "variable": "FUND"
         },
         {
          "Year": 1818,
          "value": null,
          "variable": "FUND"
         },
         {
          "Year": 1819,
          "value": null,
          "variable": "FUND"
         },
         {
          "Year": 1820,
          "value": null,
          "variable": "FUND"
         },
         {
          "Year": 1821,
          "value": null,
          "variable": "FUND"
         },
         {
          "Year": 1822,
          "value": null,
          "variable": "FUND"
         },
         {
          "Year": 1823,
          "value": null,
          "variable": "FUND"
         },
         {
          "Year": 1824,
          "value": null,
          "variable": "FUND"
         },
         {
          "Year": 1825,
          "value": null,
          "variable": "FUND"
         },
         {
          "Year": 1826,
          "value": null,
          "variable": "FUND"
         },
         {
          "Year": 1827,
          "value": null,
          "variable": "FUND"
         },
         {
          "Year": 1828,
          "value": null,
          "variable": "FUND"
         },
         {
          "Year": 1829,
          "value": null,
          "variable": "FUND"
         },
         {
          "Year": 1830,
          "value": null,
          "variable": "FUND"
         },
         {
          "Year": 1831,
          "value": null,
          "variable": "FUND"
         },
         {
          "Year": 1832,
          "value": null,
          "variable": "FUND"
         },
         {
          "Year": 1833,
          "value": null,
          "variable": "FUND"
         },
         {
          "Year": 1834,
          "value": null,
          "variable": "FUND"
         },
         {
          "Year": 1835,
          "value": null,
          "variable": "FUND"
         },
         {
          "Year": 1836,
          "value": null,
          "variable": "FUND"
         },
         {
          "Year": 1837,
          "value": null,
          "variable": "FUND"
         },
         {
          "Year": 1838,
          "value": null,
          "variable": "FUND"
         },
         {
          "Year": 1839,
          "value": null,
          "variable": "FUND"
         },
         {
          "Year": 1840,
          "value": null,
          "variable": "FUND"
         },
         {
          "Year": 1841,
          "value": null,
          "variable": "FUND"
         },
         {
          "Year": 1842,
          "value": null,
          "variable": "FUND"
         },
         {
          "Year": 1843,
          "value": null,
          "variable": "FUND"
         },
         {
          "Year": 1844,
          "value": null,
          "variable": "FUND"
         },
         {
          "Year": 1845,
          "value": null,
          "variable": "FUND"
         },
         {
          "Year": 1846,
          "value": null,
          "variable": "FUND"
         },
         {
          "Year": 1847,
          "value": null,
          "variable": "FUND"
         },
         {
          "Year": 1848,
          "value": null,
          "variable": "FUND"
         },
         {
          "Year": 1849,
          "value": null,
          "variable": "FUND"
         },
         {
          "Year": 1850,
          "value": null,
          "variable": "FUND"
         },
         {
          "Year": 1851,
          "value": null,
          "variable": "FUND"
         },
         {
          "Year": 1852,
          "value": null,
          "variable": "FUND"
         },
         {
          "Year": 1853,
          "value": null,
          "variable": "FUND"
         },
         {
          "Year": 1854,
          "value": null,
          "variable": "FUND"
         },
         {
          "Year": 1855,
          "value": null,
          "variable": "FUND"
         },
         {
          "Year": 1856,
          "value": null,
          "variable": "FUND"
         },
         {
          "Year": 1857,
          "value": null,
          "variable": "FUND"
         },
         {
          "Year": 1858,
          "value": null,
          "variable": "FUND"
         },
         {
          "Year": 1859,
          "value": null,
          "variable": "FUND"
         },
         {
          "Year": 1860,
          "value": null,
          "variable": "FUND"
         },
         {
          "Year": 1861,
          "value": null,
          "variable": "FUND"
         },
         {
          "Year": 1862,
          "value": null,
          "variable": "FUND"
         },
         {
          "Year": 1863,
          "value": null,
          "variable": "FUND"
         },
         {
          "Year": 1864,
          "value": null,
          "variable": "FUND"
         },
         {
          "Year": 1865,
          "value": null,
          "variable": "FUND"
         },
         {
          "Year": 1866,
          "value": null,
          "variable": "FUND"
         },
         {
          "Year": 1867,
          "value": null,
          "variable": "FUND"
         },
         {
          "Year": 1868,
          "value": null,
          "variable": "FUND"
         },
         {
          "Year": 1869,
          "value": null,
          "variable": "FUND"
         },
         {
          "Year": 1870,
          "value": null,
          "variable": "FUND"
         },
         {
          "Year": 1871,
          "value": null,
          "variable": "FUND"
         },
         {
          "Year": 1872,
          "value": null,
          "variable": "FUND"
         },
         {
          "Year": 1873,
          "value": null,
          "variable": "FUND"
         },
         {
          "Year": 1874,
          "value": null,
          "variable": "FUND"
         },
         {
          "Year": 1875,
          "value": null,
          "variable": "FUND"
         },
         {
          "Year": 1876,
          "value": null,
          "variable": "FUND"
         },
         {
          "Year": 1877,
          "value": null,
          "variable": "FUND"
         },
         {
          "Year": 1878,
          "value": null,
          "variable": "FUND"
         },
         {
          "Year": 1879,
          "value": null,
          "variable": "FUND"
         },
         {
          "Year": 1880,
          "value": null,
          "variable": "FUND"
         },
         {
          "Year": 1881,
          "value": null,
          "variable": "FUND"
         },
         {
          "Year": 1882,
          "value": null,
          "variable": "FUND"
         },
         {
          "Year": 1883,
          "value": null,
          "variable": "FUND"
         },
         {
          "Year": 1884,
          "value": null,
          "variable": "FUND"
         },
         {
          "Year": 1885,
          "value": null,
          "variable": "FUND"
         },
         {
          "Year": 1886,
          "value": null,
          "variable": "FUND"
         },
         {
          "Year": 1887,
          "value": null,
          "variable": "FUND"
         },
         {
          "Year": 1888,
          "value": null,
          "variable": "FUND"
         },
         {
          "Year": 1889,
          "value": null,
          "variable": "FUND"
         },
         {
          "Year": 1890,
          "value": null,
          "variable": "FUND"
         },
         {
          "Year": 1891,
          "value": null,
          "variable": "FUND"
         },
         {
          "Year": 1892,
          "value": null,
          "variable": "FUND"
         },
         {
          "Year": 1893,
          "value": null,
          "variable": "FUND"
         },
         {
          "Year": 1894,
          "value": null,
          "variable": "FUND"
         },
         {
          "Year": 1895,
          "value": null,
          "variable": "FUND"
         },
         {
          "Year": 1896,
          "value": null,
          "variable": "FUND"
         },
         {
          "Year": 1897,
          "value": null,
          "variable": "FUND"
         },
         {
          "Year": 1898,
          "value": null,
          "variable": "FUND"
         },
         {
          "Year": 1899,
          "value": null,
          "variable": "FUND"
         },
         {
          "Year": 1900,
          "value": null,
          "variable": "FUND"
         },
         {
          "Year": 1901,
          "value": null,
          "variable": "FUND"
         },
         {
          "Year": 1902,
          "value": null,
          "variable": "FUND"
         },
         {
          "Year": 1903,
          "value": null,
          "variable": "FUND"
         },
         {
          "Year": 1904,
          "value": null,
          "variable": "FUND"
         },
         {
          "Year": 1905,
          "value": null,
          "variable": "FUND"
         },
         {
          "Year": 1906,
          "value": null,
          "variable": "FUND"
         },
         {
          "Year": 1907,
          "value": null,
          "variable": "FUND"
         },
         {
          "Year": 1908,
          "value": null,
          "variable": "FUND"
         },
         {
          "Year": 1909,
          "value": null,
          "variable": "FUND"
         },
         {
          "Year": 1910,
          "value": null,
          "variable": "FUND"
         },
         {
          "Year": 1911,
          "value": null,
          "variable": "FUND"
         },
         {
          "Year": 1912,
          "value": null,
          "variable": "FUND"
         },
         {
          "Year": 1913,
          "value": null,
          "variable": "FUND"
         },
         {
          "Year": 1914,
          "value": null,
          "variable": "FUND"
         },
         {
          "Year": 1915,
          "value": null,
          "variable": "FUND"
         },
         {
          "Year": 1916,
          "value": null,
          "variable": "FUND"
         },
         {
          "Year": 1917,
          "value": null,
          "variable": "FUND"
         },
         {
          "Year": 1918,
          "value": null,
          "variable": "FUND"
         },
         {
          "Year": 1919,
          "value": null,
          "variable": "FUND"
         },
         {
          "Year": 1920,
          "value": null,
          "variable": "FUND"
         },
         {
          "Year": 1921,
          "value": null,
          "variable": "FUND"
         },
         {
          "Year": 1922,
          "value": null,
          "variable": "FUND"
         },
         {
          "Year": 1923,
          "value": null,
          "variable": "FUND"
         },
         {
          "Year": 1924,
          "value": null,
          "variable": "FUND"
         },
         {
          "Year": 1925,
          "value": null,
          "variable": "FUND"
         },
         {
          "Year": 1926,
          "value": null,
          "variable": "FUND"
         },
         {
          "Year": 1927,
          "value": null,
          "variable": "FUND"
         },
         {
          "Year": 1928,
          "value": null,
          "variable": "FUND"
         },
         {
          "Year": 1929,
          "value": null,
          "variable": "FUND"
         },
         {
          "Year": 1930,
          "value": null,
          "variable": "FUND"
         },
         {
          "Year": 1931,
          "value": null,
          "variable": "FUND"
         },
         {
          "Year": 1932,
          "value": null,
          "variable": "FUND"
         },
         {
          "Year": 1933,
          "value": null,
          "variable": "FUND"
         },
         {
          "Year": 1934,
          "value": null,
          "variable": "FUND"
         },
         {
          "Year": 1935,
          "value": null,
          "variable": "FUND"
         },
         {
          "Year": 1936,
          "value": null,
          "variable": "FUND"
         },
         {
          "Year": 1937,
          "value": null,
          "variable": "FUND"
         },
         {
          "Year": 1938,
          "value": null,
          "variable": "FUND"
         },
         {
          "Year": 1939,
          "value": null,
          "variable": "FUND"
         },
         {
          "Year": 1940,
          "value": null,
          "variable": "FUND"
         },
         {
          "Year": 1941,
          "value": null,
          "variable": "FUND"
         },
         {
          "Year": 1942,
          "value": null,
          "variable": "FUND"
         },
         {
          "Year": 1943,
          "value": null,
          "variable": "FUND"
         },
         {
          "Year": 1944,
          "value": null,
          "variable": "FUND"
         },
         {
          "Year": 1945,
          "value": null,
          "variable": "FUND"
         },
         {
          "Year": 1946,
          "value": null,
          "variable": "FUND"
         },
         {
          "Year": 1947,
          "value": null,
          "variable": "FUND"
         },
         {
          "Year": 1948,
          "value": null,
          "variable": "FUND"
         },
         {
          "Year": 1949,
          "value": null,
          "variable": "FUND"
         },
         {
          "Year": 1950,
          "value": 0.2,
          "variable": "FUND"
         },
         {
          "Year": 1951,
          "value": 0.20462523478679887,
          "variable": "FUND"
         },
         {
          "Year": 1952,
          "value": 0.20934819414064887,
          "variable": "FUND"
         },
         {
          "Year": 1953,
          "value": 0.2141801414042669,
          "variable": "FUND"
         },
         {
          "Year": 1954,
          "value": 0.21909736778398906,
          "variable": "FUND"
         },
         {
          "Year": 1955,
          "value": 0.22408520911070826,
          "variable": "FUND"
         },
         {
          "Year": 1956,
          "value": 0.2291199325171179,
          "variable": "FUND"
         },
         {
          "Year": 1957,
          "value": 0.23418549221634344,
          "variable": "FUND"
         },
         {
          "Year": 1958,
          "value": 0.23932391432650915,
          "variable": "FUND"
         },
         {
          "Year": 1959,
          "value": 0.244589579735204,
          "variable": "FUND"
         },
         {
          "Year": 1960,
          "value": 0.2501074079624818,
          "variable": "FUND"
         },
         {
          "Year": 1961,
          "value": 0.25575732560250636,
          "variable": "FUND"
         },
         {
          "Year": 1962,
          "value": 0.261501837433261,
          "variable": "FUND"
         },
         {
          "Year": 1963,
          "value": 0.26740927775621104,
          "variable": "FUND"
         },
         {
          "Year": 1964,
          "value": 0.2734818758491422,
          "variable": "FUND"
         },
         {
          "Year": 1965,
          "value": 0.27973770715175417,
          "variable": "FUND"
         },
         {
          "Year": 1966,
          "value": 0.28618578827251845,
          "variable": "FUND"
         },
         {
          "Year": 1967,
          "value": 0.29278982819960836,
          "variable": "FUND"
         },
         {
          "Year": 1968,
          "value": 0.2995574151235826,
          "variable": "FUND"
         },
         {
          "Year": 1969,
          "value": 0.30656677626845763,
          "variable": "FUND"
         },
         {
          "Year": 1970,
          "value": 0.3139376016399533,
          "variable": "FUND"
         },
         {
          "Year": 1971,
          "value": 0.3216409819792173,
          "variable": "FUND"
         },
         {
          "Year": 1972,
          "value": 0.32948555222866494,
          "variable": "FUND"
         },
         {
          "Year": 1973,
          "value": 0.33741055029039857,
          "variable": "FUND"
         },
         {
          "Year": 1974,
          "value": 0.3454328896266767,
          "variable": "FUND"
         },
         {
          "Year": 1975,
          "value": 0.35353968117280454,
          "variable": "FUND"
         },
         {
          "Year": 1976,
          "value": 0.36172258671009133,
          "variable": "FUND"
         },
         {
          "Year": 1977,
          "value": 0.3699988666778146,
          "variable": "FUND"
         },
         {
          "Year": 1978,
          "value": 0.37844838484609955,
          "variable": "FUND"
         },
         {
          "Year": 1979,
          "value": 0.3871203352760954,
          "variable": "FUND"
         },
         {
          "Year": 1980,
          "value": 0.3958964778638662,
          "variable": "FUND"
         },
         {
          "Year": 1981,
          "value": 0.4047260464928718,
          "variable": "FUND"
         },
         {
          "Year": 1982,
          "value": 0.4136791514220727,
          "variable": "FUND"
         },
         {
          "Year": 1983,
          "value": 0.4227552814272567,
          "variable": "FUND"
         },
         {
          "Year": 1984,
          "value": 0.43199326379795544,
          "variable": "FUND"
         },
         {
          "Year": 1985,
          "value": 0.4414380714813698,
          "variable": "FUND"
         },
         {
          "Year": 1986,
          "value": 0.4510864936820819,
          "variable": "FUND"
         },
         {
          "Year": 1987,
          "value": 0.46090964525801825,
          "variable": "FUND"
         },
         {
          "Year": 1988,
          "value": 0.4709297106607092,
          "variable": "FUND"
         },
         {
          "Year": 1989,
          "value": 0.4811997890753507,
          "variable": "FUND"
         },
         {
          "Year": 1990,
          "value": 0.49177351570476363,
          "variable": "FUND"
         },
         {
          "Year": 1991,
          "value": 0.5026491272505454,
          "variable": "FUND"
         },
         {
          "Year": 1992,
          "value": 0.5137741075424875,
          "variable": "FUND"
         },
         {
          "Year": 1993,
          "value": 0.5251826007958377,
          "variable": "FUND"
         },
         {
          "Year": 1994,
          "value": 0.5369211187740764,
          "variable": "FUND"
         },
         {
          "Year": 1995,
          "value": 0.5490056043273003,
          "variable": "FUND"
         },
         {
          "Year": 1996,
          "value": 0.5614105252495422,
          "variable": "FUND"
         },
         {
          "Year": 1997,
          "value": 0.5738972627695862,
          "variable": "FUND"
         },
         {
          "Year": 1998,
          "value": 0.58630641335356,
          "variable": "FUND"
         },
         {
          "Year": 1999,
          "value": 0.598671242530932,
          "variable": "FUND"
         },
         {
          "Year": 2000,
          "value": 0.610967074138926,
          "variable": "FUND"
         },
         {
          "Year": 2001,
          "value": 0.6233143205493502,
          "variable": "FUND"
         },
         {
          "Year": 2002,
          "value": 0.6358635224614222,
          "variable": "FUND"
         },
         {
          "Year": 2003,
          "value": 0.648618481837006,
          "variable": "FUND"
         },
         {
          "Year": 2004,
          "value": 0.6615883312194372,
          "variable": "FUND"
         },
         {
          "Year": 2005,
          "value": 0.6748692739072023,
          "variable": "FUND"
         },
         {
          "Year": 2006,
          "value": 0.6886268014673141,
          "variable": "FUND"
         },
         {
          "Year": 2007,
          "value": 0.7029340615259811,
          "variable": "FUND"
         },
         {
          "Year": 2008,
          "value": 0.7177887725753266,
          "variable": "FUND"
         },
         {
          "Year": 2009,
          "value": 0.7331867620951575,
          "variable": "FUND"
         },
         {
          "Year": 2010,
          "value": 0.7490586505066515,
          "variable": "FUND"
         },
         {
          "Year": 2011,
          "value": 0.765284834553005,
          "variable": "FUND"
         },
         {
          "Year": 2012,
          "value": 0.7818156445773201,
          "variable": "FUND"
         },
         {
          "Year": 2013,
          "value": 0.7986608399992982,
          "variable": "FUND"
         },
         {
          "Year": 2014,
          "value": 0.8158289590671062,
          "variable": "FUND"
         },
         {
          "Year": 2015,
          "value": 0.8333297562857421,
          "variable": "FUND"
         },
         {
          "Year": 2016,
          "value": 0.8511685759934732,
          "variable": "FUND"
         },
         {
          "Year": 2017,
          "value": 0.8693505114813437,
          "variable": "FUND"
         },
         {
          "Year": 2018,
          "value": 0.8878800002637,
          "variable": "FUND"
         },
         {
          "Year": 2019,
          "value": 0.9067614411448488,
          "variable": "FUND"
         },
         {
          "Year": 2020,
          "value": 0.926016354295343,
          "variable": "FUND"
         },
         {
          "Year": 2021,
          "value": 0.9456827288702244,
          "variable": "FUND"
         },
         {
          "Year": 2022,
          "value": 0.9657814496503231,
          "variable": "FUND"
         },
         {
          "Year": 2023,
          "value": 0.9863131506693547,
          "variable": "FUND"
         },
         {
          "Year": 2024,
          "value": 1.0072788356845246,
          "variable": "FUND"
         },
         {
          "Year": 2025,
          "value": 1.0286788617228486,
          "variable": "FUND"
         },
         {
          "Year": 2026,
          "value": 1.050513888503641,
          "variable": "FUND"
         },
         {
          "Year": 2027,
          "value": 1.0727824308861373,
          "variable": "FUND"
         },
         {
          "Year": 2028,
          "value": 1.0954817969177912,
          "variable": "FUND"
         },
         {
          "Year": 2029,
          "value": 1.1186095100244955,
          "variable": "FUND"
         },
         {
          "Year": 2030,
          "value": 1.1421901649865103,
          "variable": "FUND"
         },
         {
          "Year": 2031,
          "value": 1.1662835028796263,
          "variable": "FUND"
         },
         {
          "Year": 2032,
          "value": 1.190915218367738,
          "variable": "FUND"
         },
         {
          "Year": 2033,
          "value": 1.2160807205001865,
          "variable": "FUND"
         },
         {
          "Year": 2034,
          "value": 1.2417751978537497,
          "variable": "FUND"
         },
         {
          "Year": 2035,
          "value": 1.2679907739943017,
          "variable": "FUND"
         },
         {
          "Year": 2036,
          "value": 1.2947265454032373,
          "variable": "FUND"
         },
         {
          "Year": 2037,
          "value": 1.3219775807112273,
          "variable": "FUND"
         },
         {
          "Year": 2038,
          "value": 1.3497396377311224,
          "variable": "FUND"
         },
         {
          "Year": 2039,
          "value": 1.3780082235435471,
          "variable": "FUND"
         },
         {
          "Year": 2040,
          "value": 1.406767342601891,
          "variable": "FUND"
         },
         {
          "Year": 2041,
          "value": 1.4359990882582692,
          "variable": "FUND"
         },
         {
          "Year": 2042,
          "value": 1.465692598388298,
          "variable": "FUND"
         },
         {
          "Year": 2043,
          "value": 1.4958444486866762,
          "variable": "FUND"
         },
         {
          "Year": 2044,
          "value": 1.5264522237162088,
          "variable": "FUND"
         },
         {
          "Year": 2045,
          "value": 1.5575117016612943,
          "variable": "FUND"
         },
         {
          "Year": 2046,
          "value": 1.5890206531527804,
          "variable": "FUND"
         },
         {
          "Year": 2047,
          "value": 1.620971181335436,
          "variable": "FUND"
         },
         {
          "Year": 2048,
          "value": 1.6533568365058526,
          "variable": "FUND"
         },
         {
          "Year": 2049,
          "value": 1.6861716540461567,
          "variable": "FUND"
         },
         {
          "Year": 2050,
          "value": 1.7193832770350876,
          "variable": "FUND"
         },
         {
          "Year": 2051,
          "value": 1.7529469968950602,
          "variable": "FUND"
         },
         {
          "Year": 2052,
          "value": 1.7868420411416663,
          "variable": "FUND"
         },
         {
          "Year": 2053,
          "value": 1.821070637217023,
          "variable": "FUND"
         },
         {
          "Year": 2054,
          "value": 1.8556349155071905,
          "variable": "FUND"
         },
         {
          "Year": 2055,
          "value": 1.8905369094730344,
          "variable": "FUND"
         },
         {
          "Year": 2056,
          "value": 1.9257751735390507,
          "variable": "FUND"
         },
         {
          "Year": 2057,
          "value": 1.9613455533651136,
          "variable": "FUND"
         },
         {
          "Year": 2058,
          "value": 1.9972443006891274,
          "variable": "FUND"
         },
         {
          "Year": 2059,
          "value": 2.0334690484944913,
          "variable": "FUND"
         },
         {
          "Year": 2060,
          "value": 2.0700089609253425,
          "variable": "FUND"
         },
         {
          "Year": 2061,
          "value": 2.1068518769546456,
          "variable": "FUND"
         },
         {
          "Year": 2062,
          "value": 2.1439887504210655,
          "variable": "FUND"
         },
         {
          "Year": 2063,
          "value": 2.181416614070919,
          "variable": "FUND"
         },
         {
          "Year": 2064,
          "value": 2.21913221397785,
          "variable": "FUND"
         },
         {
          "Year": 2065,
          "value": 2.2571301369234558,
          "variable": "FUND"
         },
         {
          "Year": 2066,
          "value": 2.295410784639326,
          "variable": "FUND"
         },
         {
          "Year": 2067,
          "value": 2.333974609889446,
          "variable": "FUND"
         },
         {
          "Year": 2068,
          "value": 2.3728221039377786,
          "variable": "FUND"
         },
         {
          "Year": 2069,
          "value": 2.4119534439946846,
          "variable": "FUND"
         },
         {
          "Year": 2070,
          "value": 2.4513641166222166,
          "variable": "FUND"
         },
         {
          "Year": 2071,
          "value": 2.4910461248856883,
          "variable": "FUND"
         },
         {
          "Year": 2072,
          "value": 2.530992577171774,
          "variable": "FUND"
         },
         {
          "Year": 2073,
          "value": 2.5712003973402844,
          "variable": "FUND"
         },
         {
          "Year": 2074,
          "value": 2.611666575559193,
          "variable": "FUND"
         },
         {
          "Year": 2075,
          "value": 2.6523871285688174,
          "variable": "FUND"
         },
         {
          "Year": 2076,
          "value": 2.693361726909218,
          "variable": "FUND"
         },
         {
          "Year": 2077,
          "value": 2.734583054594858,
          "variable": "FUND"
         },
         {
          "Year": 2078,
          "value": 2.7760444216347344,
          "variable": "FUND"
         },
         {
          "Year": 2079,
          "value": 2.8177388712980003,
          "variable": "FUND"
         },
         {
          "Year": 2080,
          "value": 2.859669655316074,
          "variable": "FUND"
         },
         {
          "Year": 2081,
          "value": 2.90187086482542,
          "variable": "FUND"
         },
         {
          "Year": 2082,
          "value": 2.9443547312813787,
          "variable": "FUND"
         },
         {
          "Year": 2083,
          "value": 2.987117080201035,
          "variable": "FUND"
         },
         {
          "Year": 2084,
          "value": 3.0301532127814284,
          "variable": "FUND"
         },
         {
          "Year": 2085,
          "value": 3.0734536183456282,
          "variable": "FUND"
         },
         {
          "Year": 2086,
          "value": 3.1170171923486834,
          "variable": "FUND"
         },
         {
          "Year": 2087,
          "value": 3.16083658705907,
          "variable": "FUND"
         },
         {
          "Year": 2088,
          "value": 3.2049029419402553,
          "variable": "FUND"
         },
         {
          "Year": 2089,
          "value": 3.2492091342294196,
          "variable": "FUND"
         },
         {
          "Year": 2090,
          "value": 3.2937260566429556,
          "variable": "FUND"
         },
         {
          "Year": 2091,
          "value": 3.338420578722644,
          "variable": "FUND"
         },
         {
          "Year": 2092,
          "value": 3.3832712855991773,
          "variable": "FUND"
         },
         {
          "Year": 2093,
          "value": 3.428272149113503,
          "variable": "FUND"
         },
         {
          "Year": 2094,
          "value": 3.47341750508177,
          "variable": "FUND"
         },
         {
          "Year": 2095,
          "value": 3.5186962807085322,
          "variable": "FUND"
         },
         {
          "Year": 2096,
          "value": 3.5641085697997044,
          "variable": "FUND"
         },
         {
          "Year": 2097,
          "value": 3.609646310715452,
          "variable": "FUND"
         },
         {
          "Year": 2098,
          "value": 3.655301145587281,
          "variable": "FUND"
         },
         {
          "Year": 2099,
          "value": 3.7010650300798686,
          "variable": "FUND"
         },
         {
          "Year": 2100,
          "value": 3.7469098874027345,
          "variable": "FUND"
         },
         {
          "Year": 2101,
          "value": 3.7928035779128133,
          "variable": "FUND"
         },
         {
          "Year": 2102,
          "value": 3.838727916239025,
          "variable": "FUND"
         },
         {
          "Year": 2103,
          "value": 3.8846773004049897,
          "variable": "FUND"
         },
         {
          "Year": 2104,
          "value": 3.9306457224426574,
          "variable": "FUND"
         },
         {
          "Year": 2105,
          "value": 3.976626655070105,
          "variable": "FUND"
         },
         {
          "Year": 2106,
          "value": 4.022613225000141,
          "variable": "FUND"
         },
         {
          "Year": 2107,
          "value": 4.06859716710797,
          "variable": "FUND"
         },
         {
          "Year": 2108,
          "value": 4.114570493459141,
          "variable": "FUND"
         },
         {
          "Year": 2109,
          "value": 4.160523777169647,
          "variable": "FUND"
         },
         {
          "Year": 2110,
          "value": 4.206448658730107,
          "variable": "FUND"
         },
         {
          "Year": 2111,
          "value": 4.25233525839509,
          "variable": "FUND"
         },
         {
          "Year": 2112,
          "value": 4.298174444183933,
          "variable": "FUND"
         },
         {
          "Year": 2113,
          "value": 4.343955997324282,
          "variable": "FUND"
         },
         {
          "Year": 2114,
          "value": 4.389670151483329,
          "variable": "FUND"
         },
         {
          "Year": 2115,
          "value": 4.435306818975203,
          "variable": "FUND"
         },
         {
          "Year": 2116,
          "value": 4.480855995881325,
          "variable": "FUND"
         },
         {
          "Year": 2117,
          "value": 4.5263069672926886,
          "variable": "FUND"
         },
         {
          "Year": 2118,
          "value": 4.571649507378602,
          "variable": "FUND"
         },
         {
          "Year": 2119,
          "value": 4.616872723697717,
          "variable": "FUND"
         },
         {
          "Year": 2120,
          "value": 4.661965693834251,
          "variable": "FUND"
         },
         {
          "Year": 2121,
          "value": 4.7069183703050905,
          "variable": "FUND"
         },
         {
          "Year": 2122,
          "value": 4.751719846687394,
          "variable": "FUND"
         },
         {
          "Year": 2123,
          "value": 4.796359824920216,
          "variable": "FUND"
         },
         {
          "Year": 2124,
          "value": 4.840827297863936,
          "variable": "FUND"
         },
         {
          "Year": 2125,
          "value": 4.88511165494147,
          "variable": "FUND"
         },
         {
          "Year": 2126,
          "value": 4.929202113859846,
          "variable": "FUND"
         },
         {
          "Year": 2127,
          "value": 4.973088338199881,
          "variable": "FUND"
         },
         {
          "Year": 2128,
          "value": 5.016759929502105,
          "variable": "FUND"
         },
         {
          "Year": 2129,
          "value": 5.060206489537359,
          "variable": "FUND"
         },
         {
          "Year": 2130,
          "value": 5.103418064426247,
          "variable": "FUND"
         },
         {
          "Year": 2131,
          "value": 5.146384356247687,
          "variable": "FUND"
         },
         {
          "Year": 2132,
          "value": 5.189095236523305,
          "variable": "FUND"
         },
         {
          "Year": 2133,
          "value": 5.231541102775193,
          "variable": "FUND"
         },
         {
          "Year": 2134,
          "value": 5.273712049729827,
          "variable": "FUND"
         },
         {
          "Year": 2135,
          "value": 5.315598802185477,
          "variable": "FUND"
         },
         {
          "Year": 2136,
          "value": 5.357192512803146,
          "variable": "FUND"
         },
         {
          "Year": 2137,
          "value": 5.398484042158963,
          "variable": "FUND"
         },
         {
          "Year": 2138,
          "value": 5.439464444751493,
          "variable": "FUND"
         },
         {
          "Year": 2139,
          "value": 5.480124595594422,
          "variable": "FUND"
         },
         {
          "Year": 2140,
          "value": 5.520456311897376,
          "variable": "FUND"
         },
         {
          "Year": 2141,
          "value": 5.560451941065838,
          "variable": "FUND"
         },
         {
          "Year": 2142,
          "value": 5.600103241448274,
          "variable": "FUND"
         },
         {
          "Year": 2143,
          "value": 5.639402729104261,
          "variable": "FUND"
         },
         {
          "Year": 2144,
          "value": 5.678343253057694,
          "variable": "FUND"
         },
         {
          "Year": 2145,
          "value": 5.716917362580153,
          "variable": "FUND"
         },
         {
          "Year": 2146,
          "value": 5.755118879214934,
          "variable": "FUND"
         },
         {
          "Year": 2147,
          "value": 5.792940076564213,
          "variable": "FUND"
         },
         {
          "Year": 2148,
          "value": 5.830374841445317,
          "variable": "FUND"
         },
         {
          "Year": 2149,
          "value": 5.867417514223313,
          "variable": "FUND"
         },
         {
          "Year": 2150,
          "value": 5.904062708593876,
          "variable": "FUND"
         },
         {
          "Year": 2151,
          "value": 5.940304412081585,
          "variable": "FUND"
         },
         {
          "Year": 2152,
          "value": 5.97613727539784,
          "variable": "FUND"
         },
         {
          "Year": 2153,
          "value": 6.011556569571168,
          "variable": "FUND"
         },
         {
          "Year": 2154,
          "value": 6.046558012381597,
          "variable": "FUND"
         },
         {
          "Year": 2155,
          "value": 6.081138042405617,
          "variable": "FUND"
         },
         {
          "Year": 2156,
          "value": 6.115292731327325,
          "variable": "FUND"
         },
         {
          "Year": 2157,
          "value": 6.149018980388554,
          "variable": "FUND"
         },
         {
          "Year": 2158,
          "value": 6.182314210046208,
          "variable": "FUND"
         },
         {
          "Year": 2159,
          "value": 6.215174829093779,
          "variable": "FUND"
         },
         {
          "Year": 2160,
          "value": 6.247599257054738,
          "variable": "FUND"
         },
         {
          "Year": 2161,
          "value": 6.279585401892452,
          "variable": "FUND"
         },
         {
          "Year": 2162,
          "value": 6.3111314563461045,
          "variable": "FUND"
         },
         {
          "Year": 2163,
          "value": 6.3422361538105045,
          "variable": "FUND"
         },
         {
          "Year": 2164,
          "value": 6.372898472236284,
          "variable": "FUND"
         },
         {
          "Year": 2165,
          "value": 6.403117253487319,
          "variable": "FUND"
         },
         {
          "Year": 2166,
          "value": 6.432892157344088,
          "variable": "FUND"
         },
         {
          "Year": 2167,
          "value": 6.46222255777562,
          "variable": "FUND"
         },
         {
          "Year": 2168,
          "value": 6.491108532895891,
          "variable": "FUND"
         },
         {
          "Year": 2169,
          "value": 6.519550174633916,
          "variable": "FUND"
         },
         {
          "Year": 2170,
          "value": 6.547547818361907,
          "variable": "FUND"
         },
         {
          "Year": 2171,
          "value": 6.575101403863795,
          "variable": "FUND"
         },
         {
          "Year": 2172,
          "value": 6.602212739654217,
          "variable": "FUND"
         },
         {
          "Year": 2173,
          "value": 6.628882704359136,
          "variable": "FUND"
         },
         {
          "Year": 2174,
          "value": 6.655112736184142,
          "variable": "FUND"
         },
         {
          "Year": 2175,
          "value": 6.68090392833348,
          "variable": "FUND"
         },
         {
          "Year": 2176,
          "value": 6.706258150544199,
          "variable": "FUND"
         },
         {
          "Year": 2177,
          "value": 6.731177233562627,
          "variable": "FUND"
         },
         {
          "Year": 2178,
          "value": 6.755663182564879,
          "variable": "FUND"
         },
         {
          "Year": 2179,
          "value": 6.779718422449215,
          "variable": "FUND"
         },
         {
          "Year": 2180,
          "value": 6.803345417403866,
          "variable": "FUND"
         },
         {
          "Year": 2181,
          "value": 6.826547114765055,
          "variable": "FUND"
         },
         {
          "Year": 2182,
          "value": 6.849325956161861,
          "variable": "FUND"
         },
         {
          "Year": 2183,
          "value": 6.871685270472842,
          "variable": "FUND"
         },
         {
          "Year": 2184,
          "value": 6.893628006865318,
          "variable": "FUND"
         },
         {
          "Year": 2185,
          "value": 6.915156738303896,
          "variable": "FUND"
         },
         {
          "Year": 2186,
          "value": 6.936275175537805,
          "variable": "FUND"
         },
         {
          "Year": 2187,
          "value": 6.956986493273043,
          "variable": "FUND"
         },
         {
          "Year": 2188,
          "value": 6.977294521376057,
          "variable": "FUND"
         },
         {
          "Year": 2189,
          "value": 6.997202975088083,
          "variable": "FUND"
         },
         {
          "Year": 2190,
          "value": 7.016715678871821,
          "variable": "FUND"
         },
         {
          "Year": 2191,
          "value": 7.035836872996458,
          "variable": "FUND"
         },
         {
          "Year": 2192,
          "value": 7.054569723458843,
          "variable": "FUND"
         },
         {
          "Year": 2193,
          "value": 7.072918709154498,
          "variable": "FUND"
         },
         {
          "Year": 2194,
          "value": 7.09088783339452,
          "variable": "FUND"
         },
         {
          "Year": 2195,
          "value": 7.108481715533686,
          "variable": "FUND"
         },
         {
          "Year": 2196,
          "value": 7.125704395612666,
          "variable": "FUND"
         },
         {
          "Year": 2197,
          "value": 7.142560415508435,
          "variable": "FUND"
         },
         {
          "Year": 2198,
          "value": 7.15905375272802,
          "variable": "FUND"
         },
         {
          "Year": 2199,
          "value": 7.175189301358065,
          "variable": "FUND"
         },
         {
          "Year": 2200,
          "value": 7.190971762004987,
          "variable": "FUND"
         },
         {
          "Year": 2201,
          "value": 7.206408624376984,
          "variable": "FUND"
         },
         {
          "Year": 2202,
          "value": 7.221506816628437,
          "variable": "FUND"
         },
         {
          "Year": 2203,
          "value": 7.236273757302533,
          "variable": "FUND"
         },
         {
          "Year": 2204,
          "value": 7.250716482526928,
          "variable": "FUND"
         },
         {
          "Year": 2205,
          "value": 7.264841970467174,
          "variable": "FUND"
         },
         {
          "Year": 2206,
          "value": 7.278656540932946,
          "variable": "FUND"
         },
         {
          "Year": 2207,
          "value": 7.292167531411467,
          "variable": "FUND"
         },
         {
          "Year": 2208,
          "value": 7.305380568366607,
          "variable": "FUND"
         },
         {
          "Year": 2209,
          "value": 7.318302225019525,
          "variable": "FUND"
         },
         {
          "Year": 2210,
          "value": 7.330938512214868,
          "variable": "FUND"
         },
         {
          "Year": 2211,
          "value": 7.3432953265074605,
          "variable": "FUND"
         },
         {
          "Year": 2212,
          "value": 7.355379238135111,
          "variable": "FUND"
         },
         {
          "Year": 2213,
          "value": 7.36719604729641,
          "variable": "FUND"
         },
         {
          "Year": 2214,
          "value": 7.378751033961166,
          "variable": "FUND"
         },
         {
          "Year": 2215,
          "value": 7.390049495640983,
          "variable": "FUND"
         },
         {
          "Year": 2216,
          "value": 7.40109753115042,
          "variable": "FUND"
         },
         {
          "Year": 2217,
          "value": 7.411900285604442,
          "variable": "FUND"
         },
         {
          "Year": 2218,
          "value": 7.422462905635743,
          "variable": "FUND"
         },
         {
          "Year": 2219,
          "value": 7.432790542454396,
          "variable": "FUND"
         },
         {
          "Year": 2220,
          "value": 7.442887842559555,
          "variable": "FUND"
         },
         {
          "Year": 2221,
          "value": 7.45276026152692,
          "variable": "FUND"
         },
         {
          "Year": 2222,
          "value": 7.462412806900645,
          "variable": "FUND"
         },
         {
          "Year": 2223,
          "value": 7.471849581883025,
          "variable": "FUND"
         },
         {
          "Year": 2224,
          "value": 7.481075617653474,
          "variable": "FUND"
         },
         {
          "Year": 2225,
          "value": 7.490095061506811,
          "variable": "FUND"
         },
         {
          "Year": 2226,
          "value": 7.498912580003138,
          "variable": "FUND"
         },
         {
          "Year": 2227,
          "value": 7.507532808397436,
          "variable": "FUND"
         },
         {
          "Year": 2228,
          "value": 7.515959777179311,
          "variable": "FUND"
         },
         {
          "Year": 2229,
          "value": 7.524197636191766,
          "variable": "FUND"
         },
         {
          "Year": 2230,
          "value": 7.532250152026642,
          "variable": "FUND"
         },
         {
          "Year": 2231,
          "value": 7.540121520416781,
          "variable": "FUND"
         },
         {
          "Year": 2232,
          "value": 7.5478150575346845,
          "variable": "FUND"
         },
         {
          "Year": 2233,
          "value": 7.555334629233222,
          "variable": "FUND"
         },
         {
          "Year": 2234,
          "value": 7.562684581818985,
          "variable": "FUND"
         },
         {
          "Year": 2235,
          "value": 7.569868554763106,
          "variable": "FUND"
         },
         {
          "Year": 2236,
          "value": 7.5768901054233915,
          "variable": "FUND"
         },
         {
          "Year": 2237,
          "value": 7.583752442559996,
          "variable": "FUND"
         },
         {
          "Year": 2238,
          "value": 7.590458640733128,
          "variable": "FUND"
         },
         {
          "Year": 2239,
          "value": 7.597012682496539,
          "variable": "FUND"
         },
         {
          "Year": 2240,
          "value": 7.603417461746791,
          "variable": "FUND"
         },
         {
          "Year": 2241,
          "value": 7.6096760296873995,
          "variable": "FUND"
         },
         {
          "Year": 2242,
          "value": 7.6157914780750495,
          "variable": "FUND"
         },
         {
          "Year": 2243,
          "value": 7.62176684207322,
          "variable": "FUND"
         },
         {
          "Year": 2244,
          "value": 7.627605569171424,
          "variable": "FUND"
         },
         {
          "Year": 2245,
          "value": 7.633310430220983,
          "variable": "FUND"
         },
         {
          "Year": 2246,
          "value": 7.638884149669004,
          "variable": "FUND"
         },
         {
          "Year": 2247,
          "value": 7.644329780872297,
          "variable": "FUND"
         },
         {
          "Year": 2248,
          "value": 7.64965021436897,
          "variable": "FUND"
         },
         {
          "Year": 2249,
          "value": 7.654849041400311,
          "variable": "FUND"
         },
         {
          "Year": 2250,
          "value": 7.659928307808399,
          "variable": "FUND"
         },
         {
          "Year": 2251,
          "value": 7.664890435496482,
          "variable": "FUND"
         },
         {
          "Year": 2252,
          "value": 7.669737991754069,
          "variable": "FUND"
         },
         {
          "Year": 2253,
          "value": 7.674473577790631,
          "variable": "FUND"
         },
         {
          "Year": 2254,
          "value": 7.679099364605515,
          "variable": "FUND"
         },
         {
          "Year": 2255,
          "value": 7.683617963182156,
          "variable": "FUND"
         },
         {
          "Year": 2256,
          "value": 7.688031170582525,
          "variable": "FUND"
         },
         {
          "Year": 2257,
          "value": 7.6923413412929715,
          "variable": "FUND"
         },
         {
          "Year": 2258,
          "value": 7.69655159881741,
          "variable": "FUND"
         },
         {
          "Year": 2259,
          "value": 7.7006637350257,
          "variable": "FUND"
         },
         {
          "Year": 2260,
          "value": 7.704679723381423,
          "variable": "FUND"
         },
         {
          "Year": 2261,
          "value": 7.708601882219818,
          "variable": "FUND"
         },
         {
          "Year": 2262,
          "value": 7.712432100265355,
          "variable": "FUND"
         },
         {
          "Year": 2263,
          "value": 7.716172792756886,
          "variable": "FUND"
         },
         {
          "Year": 2264,
          "value": 7.719825741122546,
          "variable": "FUND"
         },
         {
          "Year": 2265,
          "value": 7.723392521788144,
          "variable": "FUND"
         },
         {
          "Year": 2266,
          "value": 7.726875162386723,
          "variable": "FUND"
         },
         {
          "Year": 2267,
          "value": 7.730275728080363,
          "variable": "FUND"
         },
         {
          "Year": 2268,
          "value": 7.7335954981122725,
          "variable": "FUND"
         },
         {
          "Year": 2269,
          "value": 7.73683658387749,
          "variable": "FUND"
         },
         {
          "Year": 2270,
          "value": 7.740000489335858,
          "variable": "FUND"
         },
         {
          "Year": 2271,
          "value": 7.743089431291942,
          "variable": "FUND"
         },
         {
          "Year": 2272,
          "value": 7.746105096176537,
          "variable": "FUND"
         },
         {
          "Year": 2273,
          "value": 7.749049137790792,
          "variable": "FUND"
         },
         {
          "Year": 2274,
          "value": 7.751923349880195,
          "variable": "FUND"
         },
         {
          "Year": 2275,
          "value": 7.754728670892837,
          "variable": "FUND"
         },
         {
          "Year": 2276,
          "value": 7.757467233812097,
          "variable": "FUND"
         },
         {
          "Year": 2277,
          "value": 7.760140005922925,
          "variable": "FUND"
         },
         {
          "Year": 2278,
          "value": 7.762748606008356,
          "variable": "FUND"
         },
         {
          "Year": 2279,
          "value": 7.765294435300882,
          "variable": "FUND"
         },
         {
          "Year": 2280,
          "value": 7.767779229746011,
          "variable": "FUND"
         },
         {
          "Year": 2281,
          "value": 7.770204313392159,
          "variable": "FUND"
         },
         {
          "Year": 2282,
          "value": 7.772571077253237,
          "variable": "FUND"
         },
         {
          "Year": 2283,
          "value": 7.77488079621828,
          "variable": "FUND"
         },
         {
          "Year": 2284,
          "value": 7.777134905627906,
          "variable": "FUND"
         },
         {
          "Year": 2285,
          "value": 7.779334185637353,
          "variable": "FUND"
         },
         {
          "Year": 2286,
          "value": 7.781480846300726,
          "variable": "FUND"
         },
         {
          "Year": 2287,
          "value": 7.783575390604311,
          "variable": "FUND"
         },
         {
          "Year": 2288,
          "value": 7.7856192481375555,
          "variable": "FUND"
         },
         {
          "Year": 2289,
          "value": 7.787613460930341,
          "variable": "FUND"
         },
         {
          "Year": 2290,
          "value": 7.789559331420212,
          "variable": "FUND"
         },
         {
          "Year": 2291,
          "value": 7.791458303252158,
          "variable": "FUND"
         },
         {
          "Year": 2292,
          "value": 7.793311329054896,
          "variable": "FUND"
         },
         {
          "Year": 2293,
          "value": 7.795119008213035,
          "variable": "FUND"
         },
         {
          "Year": 2294,
          "value": 7.796883184024116,
          "variable": "FUND"
         },
         {
          "Year": 2295,
          "value": 7.798604728514279,
          "variable": "FUND"
         },
         {
          "Year": 2296,
          "value": 7.800284338249128,
          "variable": "FUND"
         },
         {
          "Year": 2297,
          "value": 7.801923070087477,
          "variable": "FUND"
         },
         {
          "Year": 2298,
          "value": 7.803521439115258,
          "variable": "FUND"
         },
         {
          "Year": 2299,
          "value": 7.8050806811422335,
          "variable": "FUND"
         },
         {
          "Year": 2300,
          "value": 7.806601998850255,
          "variable": "FUND"
         },
         {
          "Year": 1750,
          "value": 0.0053671258205,
          "variable": "FAIR"
         },
         {
          "Year": 1751,
          "value": 0.034542956270567825,
          "variable": "FAIR"
         },
         {
          "Year": 1752,
          "value": 0.05476786166582169,
          "variable": "FAIR"
         },
         {
          "Year": 1753,
          "value": 0.06704750086607812,
          "variable": "FAIR"
         },
         {
          "Year": 1754,
          "value": 0.07287957676225716,
          "variable": "FAIR"
         },
         {
          "Year": 1755,
          "value": 0.07290366012638262,
          "variable": "FAIR"
         },
         {
          "Year": 1756,
          "value": 0.05589980750762523,
          "variable": "FAIR"
         },
         {
          "Year": 1757,
          "value": 0.038647141377643496,
          "variable": "FAIR"
         },
         {
          "Year": 1758,
          "value": 0.0416357973020786,
          "variable": "FAIR"
         },
         {
          "Year": 1759,
          "value": 0.055778857812696245,
          "variable": "FAIR"
         },
         {
          "Year": 1760,
          "value": 0.07295987765618639,
          "variable": "FAIR"
         },
         {
          "Year": 1761,
          "value": 0.08807027658926928,
          "variable": "FAIR"
         },
         {
          "Year": 1762,
          "value": 0.04207856365382741,
          "variable": "FAIR"
         },
         {
          "Year": 1763,
          "value": -0.03112148160115757,
          "variable": "FAIR"
         },
         {
          "Year": 1764,
          "value": -0.050419180613399554,
          "variable": "FAIR"
         },
         {
          "Year": 1765,
          "value": -0.036406321751331745,
          "variable": "FAIR"
         },
         {
          "Year": 1766,
          "value": -0.03714605656351233,
          "variable": "FAIR"
         },
         {
          "Year": 1767,
          "value": -0.05737220691105032,
          "variable": "FAIR"
         },
         {
          "Year": 1768,
          "value": -0.055920505181146975,
          "variable": "FAIR"
         },
         {
          "Year": 1769,
          "value": -0.026725248708034992,
          "variable": "FAIR"
         },
         {
          "Year": 1770,
          "value": 0.001164546447229218,
          "variable": "FAIR"
         },
         {
          "Year": 1771,
          "value": 0.021909371841444404,
          "variable": "FAIR"
         },
         {
          "Year": 1772,
          "value": 0.04341475744730887,
          "variable": "FAIR"
         },
         {
          "Year": 1773,
          "value": 0.06207511981561462,
          "variable": "FAIR"
         },
         {
          "Year": 1774,
          "value": 0.07429498029668975,
          "variable": "FAIR"
         },
         {
          "Year": 1775,
          "value": 0.08041912723196393,
          "variable": "FAIR"
         },
         {
          "Year": 1776,
          "value": 0.08248959711815129,
          "variable": "FAIR"
         },
         {
          "Year": 1777,
          "value": 0.0834613867038548,
          "variable": "FAIR"
         },
         {
          "Year": 1778,
          "value": 0.08713706755567549,
          "variable": "FAIR"
         },
         {
          "Year": 1779,
          "value": 0.09641016537298604,
          "variable": "FAIR"
         },
         {
          "Year": 1780,
          "value": 0.10978652043414185,
          "variable": "FAIR"
         },
         {
          "Year": 1781,
          "value": 0.12254642112792194,
          "variable": "FAIR"
         },
         {
          "Year": 1782,
          "value": 0.13123596171929308,
          "variable": "FAIR"
         },
         {
          "Year": 1783,
          "value": 0.022755276358688816,
          "variable": "FAIR"
         },
         {
          "Year": 1784,
          "value": -0.2864310655984604,
          "variable": "FAIR"
         },
         {
          "Year": 1785,
          "value": -0.5040412416225398,
          "variable": "FAIR"
         },
         {
          "Year": 1786,
          "value": -0.4992591118897915,
          "variable": "FAIR"
         },
         {
          "Year": 1787,
          "value": -0.4230620399783186,
          "variable": "FAIR"
         },
         {
          "Year": 1788,
          "value": -0.3253547207897556,
          "variable": "FAIR"
         },
         {
          "Year": 1789,
          "value": -0.226899604037633,
          "variable": "FAIR"
         },
         {
          "Year": 1790,
          "value": -0.13980327790749122,
          "variable": "FAIR"
         },
         {
          "Year": 1791,
          "value": -0.06988569890990032,
          "variable": "FAIR"
         },
         {
          "Year": 1792,
          "value": -0.016757722838850523,
          "variable": "FAIR"
         },
         {
          "Year": 1793,
          "value": 0.022039047186107358,
          "variable": "FAIR"
         },
         {
          "Year": 1794,
          "value": 0.048636780962570986,
          "variable": "FAIR"
         },
         {
          "Year": 1795,
          "value": 0.0654501580789129,
          "variable": "FAIR"
         },
         {
          "Year": 1796,
          "value": 0.06666071491017962,
          "variable": "FAIR"
         },
         {
          "Year": 1797,
          "value": 0.050949388446170765,
          "variable": "FAIR"
         },
         {
          "Year": 1798,
          "value": 0.03754832997285932,
          "variable": "FAIR"
         },
         {
          "Year": 1799,
          "value": 0.037725418065312426,
          "variable": "FAIR"
         },
         {
          "Year": 1800,
          "value": 0.045762264125991554,
          "variable": "FAIR"
         },
         {
          "Year": 1801,
          "value": 0.05718261946927761,
          "variable": "FAIR"
         },
         {
          "Year": 1802,
          "value": 0.07013692227200541,
          "variable": "FAIR"
         },
         {
          "Year": 1803,
          "value": 0.08303237936600469,
          "variable": "FAIR"
         },
         {
          "Year": 1804,
          "value": 0.09443943875622547,
          "variable": "FAIR"
         },
         {
          "Year": 1805,
          "value": 0.10318645008308384,
          "variable": "FAIR"
         },
         {
          "Year": 1806,
          "value": 0.10894393490854187,
          "variable": "FAIR"
         },
         {
          "Year": 1807,
          "value": 0.11180558336886015,
          "variable": "FAIR"
         },
         {
          "Year": 1808,
          "value": 0.11204780317836893,
          "variable": "FAIR"
         },
         {
          "Year": 1809,
          "value": -0.11160925753566786,
          "variable": "FAIR"
         },
         {
          "Year": 1810,
          "value": -0.4257773231786864,
          "variable": "FAIR"
         },
         {
          "Year": 1811,
          "value": -0.5101695479509801,
          "variable": "FAIR"
         },
         {
          "Year": 1812,
          "value": -0.44604262710901554,
          "variable": "FAIR"
         },
         {
          "Year": 1813,
          "value": -0.3481556698534854,
          "variable": "FAIR"
         },
         {
          "Year": 1814,
          "value": -0.25434167108098216,
          "variable": "FAIR"
         },
         {
          "Year": 1815,
          "value": -0.3936691509811455,
          "variable": "FAIR"
         },
         {
          "Year": 1816,
          "value": -0.7632074090084969,
          "variable": "FAIR"
         },
         {
          "Year": 1817,
          "value": -0.9311960789405753,
          "variable": "FAIR"
         },
         {
          "Year": 1818,
          "value": -0.8299668230872352,
          "variable": "FAIR"
         },
         {
          "Year": 1819,
          "value": -0.6636056904561468,
          "variable": "FAIR"
         },
         {
          "Year": 1820,
          "value": -0.5060347959119981,
          "variable": "FAIR"
         },
         {
          "Year": 1821,
          "value": -0.3819543640845773,
          "variable": "FAIR"
         },
         {
          "Year": 1822,
          "value": -0.29037808032249074,
          "variable": "FAIR"
         },
         {
          "Year": 1823,
          "value": -0.24077378782272155,
          "variable": "FAIR"
         },
         {
          "Year": 1824,
          "value": -0.20595113104822718,
          "variable": "FAIR"
         },
         {
          "Year": 1825,
          "value": -0.15398159122710461,
          "variable": "FAIR"
         },
         {
          "Year": 1826,
          "value": -0.09892259519215252,
          "variable": "FAIR"
         },
         {
          "Year": 1827,
          "value": -0.049002113827500283,
          "variable": "FAIR"
         },
         {
          "Year": 1828,
          "value": -0.007077780514113917,
          "variable": "FAIR"
         },
         {
          "Year": 1829,
          "value": 0.02595049966869421,
          "variable": "FAIR"
         },
         {
          "Year": 1830,
          "value": 0.050264442695522306,
          "variable": "FAIR"
         },
         {
          "Year": 1831,
          "value": -0.08499875868106228,
          "variable": "FAIR"
         },
         {
          "Year": 1832,
          "value": -0.28604882726814423,
          "variable": "FAIR"
         },
         {
          "Year": 1833,
          "value": -0.33406640631147205,
          "variable": "FAIR"
         },
         {
          "Year": 1834,
          "value": -0.28473190488922184,
          "variable": "FAIR"
         },
         {
          "Year": 1835,
          "value": -0.32395927015569786,
          "variable": "FAIR"
         },
         {
          "Year": 1836,
          "value": -0.40698502841459433,
          "variable": "FAIR"
         },
         {
          "Year": 1837,
          "value": -0.3816734348681609,
          "variable": "FAIR"
         },
         {
          "Year": 1838,
          "value": -0.29414948234787297,
          "variable": "FAIR"
         },
         {
          "Year": 1839,
          "value": -0.20294128537959852,
          "variable": "FAIR"
         },
         {
          "Year": 1840,
          "value": -0.12626981598169465,
          "variable": "FAIR"
         },
         {
          "Year": 1841,
          "value": -0.06705235904399845,
          "variable": "FAIR"
         },
         {
          "Year": 1842,
          "value": -0.02378596576564028,
          "variable": "FAIR"
         },
         {
          "Year": 1843,
          "value": 0.006698338422565772,
          "variable": "FAIR"
         },
         {
          "Year": 1844,
          "value": 0.02820816409954643,
          "variable": "FAIR"
         },
         {
          "Year": 1845,
          "value": 0.044240105457910094,
          "variable": "FAIR"
         },
         {
          "Year": 1846,
          "value": 0.04628833753077356,
          "variable": "FAIR"
         },
         {
          "Year": 1847,
          "value": 0.04260207330479067,
          "variable": "FAIR"
         },
         {
          "Year": 1848,
          "value": 0.04960752523123739,
          "variable": "FAIR"
         },
         {
          "Year": 1849,
          "value": 0.0631189339764432,
          "variable": "FAIR"
         },
         {
          "Year": 1850,
          "value": 0.07749513663757268,
          "variable": "FAIR"
         },
         {
          "Year": 1851,
          "value": 0.09000765493948741,
          "variable": "FAIR"
         },
         {
          "Year": 1852,
          "value": 0.09949908377843866,
          "variable": "FAIR"
         },
         {
          "Year": 1853,
          "value": 0.09610351765535771,
          "variable": "FAIR"
         },
         {
          "Year": 1854,
          "value": 0.08118930696869439,
          "variable": "FAIR"
         },
         {
          "Year": 1855,
          "value": 0.07494721477711669,
          "variable": "FAIR"
         },
         {
          "Year": 1856,
          "value": 0.07777679145871058,
          "variable": "FAIR"
         },
         {
          "Year": 1857,
          "value": 0.07069855554352525,
          "variable": "FAIR"
         },
         {
          "Year": 1858,
          "value": 0.06553716634816385,
          "variable": "FAIR"
         },
         {
          "Year": 1859,
          "value": 0.07531702507957845,
          "variable": "FAIR"
         },
         {
          "Year": 1860,
          "value": 0.0898559950788444,
          "variable": "FAIR"
         },
         {
          "Year": 1861,
          "value": 0.0988266536123597,
          "variable": "FAIR"
         },
         {
          "Year": 1862,
          "value": 0.05592418581508797,
          "variable": "FAIR"
         },
         {
          "Year": 1863,
          "value": 0.0029183104822709076,
          "variable": "FAIR"
         },
         {
          "Year": 1864,
          "value": 0.0009857988912118643,
          "variable": "FAIR"
         },
         {
          "Year": 1865,
          "value": 0.022971627317214475,
          "variable": "FAIR"
         },
         {
          "Year": 1866,
          "value": 0.048078577691147054,
          "variable": "FAIR"
         },
         {
          "Year": 1867,
          "value": 0.07012091265111677,
          "variable": "FAIR"
         },
         {
          "Year": 1868,
          "value": 0.0889003060946104,
          "variable": "FAIR"
         },
         {
          "Year": 1869,
          "value": 0.10572292786016368,
          "variable": "FAIR"
         },
         {
          "Year": 1870,
          "value": 0.1203019773188915,
          "variable": "FAIR"
         },
         {
          "Year": 1871,
          "value": 0.13272146078859093,
          "variable": "FAIR"
         },
         {
          "Year": 1872,
          "value": 0.1424526187284897,
          "variable": "FAIR"
         },
         {
          "Year": 1873,
          "value": 0.13560882149413223,
          "variable": "FAIR"
         },
         {
          "Year": 1874,
          "value": 0.12592443118786595,
          "variable": "FAIR"
         },
         {
          "Year": 1875,
          "value": 0.12622994266759271,
          "variable": "FAIR"
         },
         {
          "Year": 1876,
          "value": 0.12705148938445537,
          "variable": "FAIR"
         },
         {
          "Year": 1877,
          "value": 0.13059531940359423,
          "variable": "FAIR"
         },
         {
          "Year": 1878,
          "value": 0.13653025276571296,
          "variable": "FAIR"
         },
         {
          "Year": 1879,
          "value": 0.14231282718480234,
          "variable": "FAIR"
         },
         {
          "Year": 1880,
          "value": 0.14524346867464144,
          "variable": "FAIR"
         },
         {
          "Year": 1881,
          "value": 0.14711479857776782,
          "variable": "FAIR"
         },
         {
          "Year": 1882,
          "value": 0.1525656569442245,
          "variable": "FAIR"
         },
         {
          "Year": 1883,
          "value": 0.11920350982058214,
          "variable": "FAIR"
         },
         {
          "Year": 1884,
          "value": -0.023360721341699465,
          "variable": "FAIR"
         },
         {
          "Year": 1885,
          "value": -0.13593389300936085,
          "variable": "FAIR"
         },
         {
          "Year": 1886,
          "value": -0.12648580754726832,
          "variable": "FAIR"
         },
         {
          "Year": 1887,
          "value": -0.08624062054060497,
          "variable": "FAIR"
         },
         {
          "Year": 1888,
          "value": -0.041510593556193236,
          "variable": "FAIR"
         },
         {
          "Year": 1889,
          "value": 0.005276450931666253,
          "variable": "FAIR"
         },
         {
          "Year": 1890,
          "value": 0.03465982036539465,
          "variable": "FAIR"
         },
         {
          "Year": 1891,
          "value": 0.041777180737673794,
          "variable": "FAIR"
         },
         {
          "Year": 1892,
          "value": 0.05391055383189564,
          "variable": "FAIR"
         },
         {
          "Year": 1893,
          "value": 0.08375061990302372,
          "variable": "FAIR"
         },
         {
          "Year": 1894,
          "value": 0.11649233554545899,
          "variable": "FAIR"
         },
         {
          "Year": 1895,
          "value": 0.14233843292271126,
          "variable": "FAIR"
         },
         {
          "Year": 1896,
          "value": 0.16019307760728585,
          "variable": "FAIR"
         },
         {
          "Year": 1897,
          "value": 0.17207820734379536,
          "variable": "FAIR"
         },
         {
          "Year": 1898,
          "value": 0.18036672078372912,
          "variable": "FAIR"
         },
         {
          "Year": 1899,
          "value": 0.18599749054287437,
          "variable": "FAIR"
         },
         {
          "Year": 1900,
          "value": 0.18972056472335802,
          "variable": "FAIR"
         },
         {
          "Year": 1901,
          "value": 0.19222993173137712,
          "variable": "FAIR"
         },
         {
          "Year": 1902,
          "value": 0.1811469158601081,
          "variable": "FAIR"
         },
         {
          "Year": 1903,
          "value": 0.12197956308433698,
          "variable": "FAIR"
         },
         {
          "Year": 1904,
          "value": 0.06829940128791061,
          "variable": "FAIR"
         },
         {
          "Year": 1905,
          "value": 0.07246448783305455,
          "variable": "FAIR"
         },
         {
          "Year": 1906,
          "value": 0.10181287130390752,
          "variable": "FAIR"
         },
         {
          "Year": 1907,
          "value": 0.12182395706221126,
          "variable": "FAIR"
         },
         {
          "Year": 1908,
          "value": 0.136141859940687,
          "variable": "FAIR"
         },
         {
          "Year": 1909,
          "value": 0.15748758963661094,
          "variable": "FAIR"
         },
         {
          "Year": 1910,
          "value": 0.1765824084011955,
          "variable": "FAIR"
         },
         {
          "Year": 1911,
          "value": 0.19069491909880493,
          "variable": "FAIR"
         },
         {
          "Year": 1912,
          "value": 0.16834818175014885,
          "variable": "FAIR"
         },
         {
          "Year": 1913,
          "value": 0.12602820320461933,
          "variable": "FAIR"
         },
         {
          "Year": 1914,
          "value": 0.11698191675283225,
          "variable": "FAIR"
         },
         {
          "Year": 1915,
          "value": 0.13923252234288908,
          "variable": "FAIR"
         },
         {
          "Year": 1916,
          "value": 0.17064585281978617,
          "variable": "FAIR"
         },
         {
          "Year": 1917,
          "value": 0.19955923745113954,
          "variable": "FAIR"
         },
         {
          "Year": 1918,
          "value": 0.2244114710528615,
          "variable": "FAIR"
         },
         {
          "Year": 1919,
          "value": 0.24463211643710453,
          "variable": "FAIR"
         },
         {
          "Year": 1920,
          "value": 0.25858091695167035,
          "variable": "FAIR"
         },
         {
          "Year": 1921,
          "value": 0.2685650806087585,
          "variable": "FAIR"
         },
         {
          "Year": 1922,
          "value": 0.26852913683753393,
          "variable": "FAIR"
         },
         {
          "Year": 1923,
          "value": 0.2637003573112012,
          "variable": "FAIR"
         },
         {
          "Year": 1924,
          "value": 0.26788016460391934,
          "variable": "FAIR"
         },
         {
          "Year": 1925,
          "value": 0.27745644687985666,
          "variable": "FAIR"
         },
         {
          "Year": 1926,
          "value": 0.28823578550733214,
          "variable": "FAIR"
         },
         {
          "Year": 1927,
          "value": 0.2997146495412186,
          "variable": "FAIR"
         },
         {
          "Year": 1928,
          "value": 0.3075047967753593,
          "variable": "FAIR"
         },
         {
          "Year": 1929,
          "value": 0.3004540122132891,
          "variable": "FAIR"
         },
         {
          "Year": 1930,
          "value": 0.2991546056199093,
          "variable": "FAIR"
         },
         {
          "Year": 1931,
          "value": 0.3115478787587414,
          "variable": "FAIR"
         },
         {
          "Year": 1932,
          "value": 0.3118678250181792,
          "variable": "FAIR"
         },
         {
          "Year": 1933,
          "value": 0.31122031059959526,
          "variable": "FAIR"
         },
         {
          "Year": 1934,
          "value": 0.3205995523607633,
          "variable": "FAIR"
         },
         {
          "Year": 1935,
          "value": 0.33169741122691776,
          "variable": "FAIR"
         },
         {
          "Year": 1936,
          "value": 0.34503728536421224,
          "variable": "FAIR"
         },
         {
          "Year": 1937,
          "value": 0.3586075589367356,
          "variable": "FAIR"
         },
         {
          "Year": 1938,
          "value": 0.36995659098793693,
          "variable": "FAIR"
         },
         {
          "Year": 1939,
          "value": 0.3795272558322438,
          "variable": "FAIR"
         },
         {
          "Year": 1940,
          "value": 0.38563796475873713,
          "variable": "FAIR"
         },
         {
          "Year": 1941,
          "value": 0.38846191948172604,
          "variable": "FAIR"
         },
         {
          "Year": 1942,
          "value": 0.3895815838059978,
          "variable": "FAIR"
         },
         {
          "Year": 1943,
          "value": 0.38961980683372477,
          "variable": "FAIR"
         },
         {
          "Year": 1944,
          "value": 0.39053660132462337,
          "variable": "FAIR"
         },
         {
          "Year": 1945,
          "value": 0.3962689062895488,
          "variable": "FAIR"
         },
         {
          "Year": 1946,
          "value": 0.40603093958379033,
          "variable": "FAIR"
         },
         {
          "Year": 1947,
          "value": 0.4172634290931791,
          "variable": "FAIR"
         },
         {
          "Year": 1948,
          "value": 0.42925503831612016,
          "variable": "FAIR"
         },
         {
          "Year": 1949,
          "value": 0.4400188698462344,
          "variable": "FAIR"
         },
         {
          "Year": 1950,
          "value": 0.4465166870589208,
          "variable": "FAIR"
         },
         {
          "Year": 1951,
          "value": 0.44732321466908287,
          "variable": "FAIR"
         },
         {
          "Year": 1952,
          "value": 0.4464759196531096,
          "variable": "FAIR"
         },
         {
          "Year": 1953,
          "value": 0.4468440858986982,
          "variable": "FAIR"
         },
         {
          "Year": 1954,
          "value": 0.4487810985661662,
          "variable": "FAIR"
         },
         {
          "Year": 1955,
          "value": 0.45335528098573163,
          "variable": "FAIR"
         },
         {
          "Year": 1956,
          "value": 0.46286682103755106,
          "variable": "FAIR"
         },
         {
          "Year": 1957,
          "value": 0.4784965884400472,
          "variable": "FAIR"
         },
         {
          "Year": 1958,
          "value": 0.4963101093844325,
          "variable": "FAIR"
         },
         {
          "Year": 1959,
          "value": 0.510695912217569,
          "variable": "FAIR"
         },
         {
          "Year": 1960,
          "value": 0.5205567775642247,
          "variable": "FAIR"
         },
         {
          "Year": 1961,
          "value": 0.5233899475788982,
          "variable": "FAIR"
         },
         {
          "Year": 1962,
          "value": 0.510215784611902,
          "variable": "FAIR"
         },
         {
          "Year": 1963,
          "value": 0.44055692315935924,
          "variable": "FAIR"
         },
         {
          "Year": 1964,
          "value": 0.3558823893345607,
          "variable": "FAIR"
         },
         {
          "Year": 1965,
          "value": 0.3230683539029071,
          "variable": "FAIR"
         },
         {
          "Year": 1966,
          "value": 0.3437629412619973,
          "variable": "FAIR"
         },
         {
          "Year": 1967,
          "value": 0.37522020793736555,
          "variable": "FAIR"
         },
         {
          "Year": 1968,
          "value": 0.3987557158431192,
          "variable": "FAIR"
         },
         {
          "Year": 1969,
          "value": 0.431925796645889,
          "variable": "FAIR"
         },
         {
          "Year": 1970,
          "value": 0.46527365853873276,
          "variable": "FAIR"
         },
         {
          "Year": 1971,
          "value": 0.4858776260988694,
          "variable": "FAIR"
         },
         {
          "Year": 1972,
          "value": 0.5045792646438065,
          "variable": "FAIR"
         },
         {
          "Year": 1973,
          "value": 0.5342176762196373,
          "variable": "FAIR"
         },
         {
          "Year": 1974,
          "value": 0.5584425285271772,
          "variable": "FAIR"
         },
         {
          "Year": 1975,
          "value": 0.561559545609632,
          "variable": "FAIR"
         },
         {
          "Year": 1976,
          "value": 0.5701995506636635,
          "variable": "FAIR"
         },
         {
          "Year": 1977,
          "value": 0.6009055718690918,
          "variable": "FAIR"
         },
         {
          "Year": 1978,
          "value": 0.6402597646836676,
          "variable": "FAIR"
         },
         {
          "Year": 1979,
          "value": 0.6811465472239879,
          "variable": "FAIR"
         },
         {
          "Year": 1980,
          "value": 0.716087137066097,
          "variable": "FAIR"
         },
         {
          "Year": 1981,
          "value": 0.7447509280175179,
          "variable": "FAIR"
         },
         {
          "Year": 1982,
          "value": 0.7502379573500906,
          "variable": "FAIR"
         },
         {
          "Year": 1983,
          "value": 0.7139120958871134,
          "variable": "FAIR"
         },
         {
          "Year": 1984,
          "value": 0.689570996273421,
          "variable": "FAIR"
         },
         {
          "Year": 1985,
          "value": 0.7108834322219004,
          "variable": "FAIR"
         },
         {
          "Year": 1986,
          "value": 0.7454945357274183,
          "variable": "FAIR"
         },
         {
          "Year": 1987,
          "value": 0.7825341243482449,
          "variable": "FAIR"
         },
         {
          "Year": 1988,
          "value": 0.8267434152788591,
          "variable": "FAIR"
         },
         {
          "Year": 1989,
          "value": 0.8769978234870596,
          "variable": "FAIR"
         },
         {
          "Year": 1990,
          "value": 0.9255415955920812,
          "variable": "FAIR"
         },
         {
          "Year": 1991,
          "value": 0.9282468174809777,
          "variable": "FAIR"
         },
         {
          "Year": 1992,
          "value": 0.8295349380060659,
          "variable": "FAIR"
         },
         {
          "Year": 1993,
          "value": 0.7469978975735373,
          "variable": "FAIR"
         },
         {
          "Year": 1994,
          "value": 0.7752842621168803,
          "variable": "FAIR"
         },
         {
          "Year": 1995,
          "value": 0.8471983429078073,
          "variable": "FAIR"
         },
         {
          "Year": 1996,
          "value": 0.9192307861291122,
          "variable": "FAIR"
         },
         {
          "Year": 1997,
          "value": 0.9842849968199224,
          "variable": "FAIR"
         },
         {
          "Year": 1998,
          "value": 1.0448262813514146,
          "variable": "FAIR"
         },
         {
          "Year": 1999,
          "value": 1.1022421321657287,
          "variable": "FAIR"
         },
         {
          "Year": 2000,
          "value": 1.1546221876304157,
          "variable": "FAIR"
         },
         {
          "Year": 2001,
          "value": 1.1992974213946475,
          "variable": "FAIR"
         },
         {
          "Year": 2002,
          "value": 1.2379665054067193,
          "variable": "FAIR"
         },
         {
          "Year": 2003,
          "value": 1.2679960479437633,
          "variable": "FAIR"
         },
         {
          "Year": 2004,
          "value": 1.289664625484666,
          "variable": "FAIR"
         },
         {
          "Year": 2005,
          "value": 1.3060195525718992,
          "variable": "FAIR"
         },
         {
          "Year": 2006,
          "value": 1.3184188401763737,
          "variable": "FAIR"
         },
         {
          "Year": 2007,
          "value": 1.3309957334382239,
          "variable": "FAIR"
         },
         {
          "Year": 2008,
          "value": 1.3465848801210472,
          "variable": "FAIR"
         },
         {
          "Year": 2009,
          "value": 1.3640094825659657,
          "variable": "FAIR"
         },
         {
          "Year": 2010,
          "value": 1.3857403812279288,
          "variable": "FAIR"
         },
         {
          "Year": 2011,
          "value": 1.4106884291120547,
          "variable": "FAIR"
         },
         {
          "Year": 2012,
          "value": 1.4376146417186275,
          "variable": "FAIR"
         },
         {
          "Year": 2013,
          "value": 1.4683940590645277,
          "variable": "FAIR"
         },
         {
          "Year": 2014,
          "value": 1.4991464612642393,
          "variable": "FAIR"
         },
         {
          "Year": 2015,
          "value": 1.527868050851642,
          "variable": "FAIR"
         },
         {
          "Year": 2016,
          "value": 1.5550373693722768,
          "variable": "FAIR"
         },
         {
          "Year": 2017,
          "value": 1.5829823158902552,
          "variable": "FAIR"
         },
         {
          "Year": 2018,
          "value": 1.6116935247031672,
          "variable": "FAIR"
         },
         {
          "Year": 2019,
          "value": 1.640439636885801,
          "variable": "FAIR"
         },
         {
          "Year": 2020,
          "value": 1.6695959836731948,
          "variable": "FAIR"
         },
         {
          "Year": 2021,
          "value": 1.6997370762434112,
          "variable": "FAIR"
         },
         {
          "Year": 2022,
          "value": 1.731894647524442,
          "variable": "FAIR"
         },
         {
          "Year": 2023,
          "value": 1.7650408012280872,
          "variable": "FAIR"
         },
         {
          "Year": 2024,
          "value": 1.7974925155567447,
          "variable": "FAIR"
         },
         {
          "Year": 2025,
          "value": 1.827142904670239,
          "variable": "FAIR"
         },
         {
          "Year": 2026,
          "value": 1.8530250452715622,
          "variable": "FAIR"
         },
         {
          "Year": 2027,
          "value": 1.8759631117573812,
          "variable": "FAIR"
         },
         {
          "Year": 2028,
          "value": 1.8975970952757117,
          "variable": "FAIR"
         },
         {
          "Year": 2029,
          "value": 1.918765573075794,
          "variable": "FAIR"
         },
         {
          "Year": 2030,
          "value": 1.9405831488913408,
          "variable": "FAIR"
         },
         {
          "Year": 2031,
          "value": 1.9641811990705855,
          "variable": "FAIR"
         },
         {
          "Year": 2032,
          "value": 1.9899567036203527,
          "variable": "FAIR"
         },
         {
          "Year": 2033,
          "value": 2.019307580042063,
          "variable": "FAIR"
         },
         {
          "Year": 2034,
          "value": 2.0535915677915804,
          "variable": "FAIR"
         },
         {
          "Year": 2035,
          "value": 2.0908605158230262,
          "variable": "FAIR"
         },
         {
          "Year": 2036,
          "value": 2.129592555680862,
          "variable": "FAIR"
         },
         {
          "Year": 2037,
          "value": 2.168366472394126,
          "variable": "FAIR"
         },
         {
          "Year": 2038,
          "value": 2.2065008306262315,
          "variable": "FAIR"
         },
         {
          "Year": 2039,
          "value": 2.2438135668290564,
          "variable": "FAIR"
         },
         {
          "Year": 2040,
          "value": 2.2794887437273332,
          "variable": "FAIR"
         },
         {
          "Year": 2041,
          "value": 2.3143123149005467,
          "variable": "FAIR"
         },
         {
          "Year": 2042,
          "value": 2.349589154478741,
          "variable": "FAIR"
         },
         {
          "Year": 2043,
          "value": 2.3865153374519554,
          "variable": "FAIR"
         },
         {
          "Year": 2044,
          "value": 2.4257794773459285,
          "variable": "FAIR"
         },
         {
          "Year": 2045,
          "value": 2.4687837984335834,
          "variable": "FAIR"
         },
         {
          "Year": 2046,
          "value": 2.515361563624542,
          "variable": "FAIR"
         },
         {
          "Year": 2047,
          "value": 2.5643752882469104,
          "variable": "FAIR"
         },
         {
          "Year": 2048,
          "value": 2.614136245077657,
          "variable": "FAIR"
         },
         {
          "Year": 2049,
          "value": 2.6618934022616854,
          "variable": "FAIR"
         },
         {
          "Year": 2050,
          "value": 2.706216563059931,
          "variable": "FAIR"
         },
         {
          "Year": 2051,
          "value": 2.748137903206782,
          "variable": "FAIR"
         },
         {
          "Year": 2052,
          "value": 2.7890683712153965,
          "variable": "FAIR"
         },
         {
          "Year": 2053,
          "value": 2.8295877546955457,
          "variable": "FAIR"
         },
         {
          "Year": 2054,
          "value": 2.8709421446540735,
          "variable": "FAIR"
         },
         {
          "Year": 2055,
          "value": 2.9147401704079363,
          "variable": "FAIR"
         },
         {
          "Year": 2056,
          "value": 2.961638959375225,
          "variable": "FAIR"
         },
         {
          "Year": 2057,
          "value": 3.009860412939053,
          "variable": "FAIR"
         },
         {
          "Year": 2058,
          "value": 3.0580792018762875,
          "variable": "FAIR"
         },
         {
          "Year": 2059,
          "value": 3.1064961678566574,
          "variable": "FAIR"
         },
         {
          "Year": 2060,
          "value": 3.1537026844175595,
          "variable": "FAIR"
         },
         {
          "Year": 2061,
          "value": 3.1990151267012887,
          "variable": "FAIR"
         },
         {
          "Year": 2062,
          "value": 3.243333209199427,
          "variable": "FAIR"
         },
         {
          "Year": 2063,
          "value": 3.2876471050768754,
          "variable": "FAIR"
         },
         {
          "Year": 2064,
          "value": 3.332702322255354,
          "variable": "FAIR"
         },
         {
          "Year": 2065,
          "value": 3.3790343149566873,
          "variable": "FAIR"
         },
         {
          "Year": 2066,
          "value": 3.4280958581514094,
          "variable": "FAIR"
         },
         {
          "Year": 2067,
          "value": 3.480316079482171,
          "variable": "FAIR"
         },
         {
          "Year": 2068,
          "value": 3.5342583898910194,
          "variable": "FAIR"
         },
         {
          "Year": 2069,
          "value": 3.587898537065858,
          "variable": "FAIR"
         },
         {
          "Year": 2070,
          "value": 3.6397788292952105,
          "variable": "FAIR"
         },
         {
          "Year": 2071,
          "value": 3.6895399456421907,
          "variable": "FAIR"
         },
         {
          "Year": 2072,
          "value": 3.7380480426148615,
          "variable": "FAIR"
         },
         {
          "Year": 2073,
          "value": 3.786303825047963,
          "variable": "FAIR"
         },
         {
          "Year": 2074,
          "value": 3.834258329801919,
          "variable": "FAIR"
         },
         {
          "Year": 2075,
          "value": 3.882144758692208,
          "variable": "FAIR"
         },
         {
          "Year": 2076,
          "value": 3.930310303758347,
          "variable": "FAIR"
         },
         {
          "Year": 2077,
          "value": 3.979296659609448,
          "variable": "FAIR"
         },
         {
          "Year": 2078,
          "value": 4.030129837528912,
          "variable": "FAIR"
         },
         {
          "Year": 2079,
          "value": 4.083063904266464,
          "variable": "FAIR"
         },
         {
          "Year": 2080,
          "value": 4.137373373896379,
          "variable": "FAIR"
         },
         {
          "Year": 2081,
          "value": 4.1917348493218745,
          "variable": "FAIR"
         },
         {
          "Year": 2082,
          "value": 4.245247380631581,
          "variable": "FAIR"
         },
         {
          "Year": 2083,
          "value": 4.297045566864546,
          "variable": "FAIR"
         },
         {
          "Year": 2084,
          "value": 4.34708356073938,
          "variable": "FAIR"
         },
         {
          "Year": 2085,
          "value": 4.395150821716734,
          "variable": "FAIR"
         },
         {
          "Year": 2086,
          "value": 4.441303612829361,
          "variable": "FAIR"
         },
         {
          "Year": 2087,
          "value": 4.486942139781626,
          "variable": "FAIR"
         },
         {
          "Year": 2088,
          "value": 4.532761849394193,
          "variable": "FAIR"
         },
         {
          "Year": 2089,
          "value": 4.57957248626147,
          "variable": "FAIR"
         },
         {
          "Year": 2090,
          "value": 4.628427262133014,
          "variable": "FAIR"
         },
         {
          "Year": 2091,
          "value": 4.678986327049643,
          "variable": "FAIR"
         },
         {
          "Year": 2092,
          "value": 4.730805061007922,
          "variable": "FAIR"
         },
         {
          "Year": 2093,
          "value": 4.781726242901092,
          "variable": "FAIR"
         },
         {
          "Year": 2094,
          "value": 4.829281457927216,
          "variable": "FAIR"
         },
         {
          "Year": 2095,
          "value": 4.873803030314527,
          "variable": "FAIR"
         },
         {
          "Year": 2096,
          "value": 4.915949290037856,
          "variable": "FAIR"
         },
         {
          "Year": 2097,
          "value": 4.956771225944168,
          "variable": "FAIR"
         },
         {
          "Year": 2098,
          "value": 4.9972069868345885,
          "variable": "FAIR"
         },
         {
          "Year": 2099,
          "value": 5.038182258526022,
          "variable": "FAIR"
         },
         {
          "Year": 2100,
          "value": 5.081017507281503,
          "variable": "FAIR"
         },
         {
          "Year": 2101,
          "value": 5.125990247035747,
          "variable": "FAIR"
         },
         {
          "Year": 2102,
          "value": 5.17113619364933,
          "variable": "FAIR"
         },
         {
          "Year": 2103,
          "value": 5.214941393916888,
          "variable": "FAIR"
         },
         {
          "Year": 2104,
          "value": 5.257059971627724,
          "variable": "FAIR"
         },
         {
          "Year": 2105,
          "value": 5.296681871332185,
          "variable": "FAIR"
         },
         {
          "Year": 2106,
          "value": 5.334258631428494,
          "variable": "FAIR"
         },
         {
          "Year": 2107,
          "value": 5.370743279842843,
          "variable": "FAIR"
         },
         {
          "Year": 2108,
          "value": 5.406892766167945,
          "variable": "FAIR"
         },
         {
          "Year": 2109,
          "value": 5.443562853177258,
          "variable": "FAIR"
         },
         {
          "Year": 2110,
          "value": 5.48172861450595,
          "variable": "FAIR"
         },
         {
          "Year": 2111,
          "value": 5.522966880005314,
          "variable": "FAIR"
         },
         {
          "Year": 2112,
          "value": 5.565345859658232,
          "variable": "FAIR"
         },
         {
          "Year": 2113,
          "value": 5.606411591174117,
          "variable": "FAIR"
         },
         {
          "Year": 2114,
          "value": 5.644856496777389,
          "variable": "FAIR"
         },
         {
          "Year": 2115,
          "value": 5.680746323077228,
          "variable": "FAIR"
         },
         {
          "Year": 2116,
          "value": 5.71469218285283,
          "variable": "FAIR"
         },
         {
          "Year": 2117,
          "value": 5.746889901633323,
          "variable": "FAIR"
         },
         {
          "Year": 2118,
          "value": 5.7783838054553165,
          "variable": "FAIR"
         },
         {
          "Year": 2119,
          "value": 5.8098608511180965,
          "variable": "FAIR"
         },
         {
          "Year": 2120,
          "value": 5.842714980450209,
          "variable": "FAIR"
         },
         {
          "Year": 2121,
          "value": 5.87817950636301,
          "variable": "FAIR"
         },
         {
          "Year": 2122,
          "value": 5.916266290620081,
          "variable": "FAIR"
         },
         {
          "Year": 2123,
          "value": 5.953510770513553,
          "variable": "FAIR"
         },
         {
          "Year": 2124,
          "value": 5.988653903869206,
          "variable": "FAIR"
         },
         {
          "Year": 2125,
          "value": 6.021533526522478,
          "variable": "FAIR"
         },
         {
          "Year": 2126,
          "value": 6.051147945391248,
          "variable": "FAIR"
         },
         {
          "Year": 2127,
          "value": 6.0789681257287596,
          "variable": "FAIR"
         },
         {
          "Year": 2128,
          "value": 6.106036888322698,
          "variable": "FAIR"
         },
         {
          "Year": 2129,
          "value": 6.133242686096896,
          "variable": "FAIR"
         },
         {
          "Year": 2130,
          "value": 6.162085304380505,
          "variable": "FAIR"
         },
         {
          "Year": 2131,
          "value": 6.194798280413446,
          "variable": "FAIR"
         },
         {
          "Year": 2132,
          "value": 6.22964006254648,
          "variable": "FAIR"
         },
         {
          "Year": 2133,
          "value": 6.26390091140214,
          "variable": "FAIR"
         },
         {
          "Year": 2134,
          "value": 6.296222336932571,
          "variable": "FAIR"
         },
         {
          "Year": 2135,
          "value": 6.325103359754706,
          "variable": "FAIR"
         },
         {
          "Year": 2136,
          "value": 6.350513264039758,
          "variable": "FAIR"
         },
         {
          "Year": 2137,
          "value": 6.374086698647779,
          "variable": "FAIR"
         },
         {
          "Year": 2138,
          "value": 6.397267547762439,
          "variable": "FAIR"
         },
         {
          "Year": 2139,
          "value": 6.420347953468608,
          "variable": "FAIR"
         },
         {
          "Year": 2140,
          "value": 6.4439582826164505,
          "variable": "FAIR"
         },
         {
          "Year": 2141,
          "value": 6.469279477611399,
          "variable": "FAIR"
         },
         {
          "Year": 2142,
          "value": 6.496798897346264,
          "variable": "FAIR"
         },
         {
          "Year": 2143,
          "value": 6.524949256500319,
          "variable": "FAIR"
         },
         {
          "Year": 2144,
          "value": 6.552646382349337,
          "variable": "FAIR"
         },
         {
          "Year": 2145,
          "value": 6.5795437697773504,
          "variable": "FAIR"
         },
         {
          "Year": 2146,
          "value": 6.604489440952783,
          "variable": "FAIR"
         },
         {
          "Year": 2147,
          "value": 6.628003397860409,
          "variable": "FAIR"
         },
         {
          "Year": 2148,
          "value": 6.650606694951022,
          "variable": "FAIR"
         },
         {
          "Year": 2149,
          "value": 6.672225153597502,
          "variable": "FAIR"
         },
         {
          "Year": 2150,
          "value": 6.693512119977318,
          "variable": "FAIR"
         },
         {
          "Year": 2151,
          "value": 6.714867287662303,
          "variable": "FAIR"
         },
         {
          "Year": 2152,
          "value": 6.737395383260195,
          "variable": "FAIR"
         },
         {
          "Year": 2153,
          "value": 6.762634983833058,
          "variable": "FAIR"
         },
         {
          "Year": 2154,
          "value": 6.79032376945767,
          "variable": "FAIR"
         },
         {
          "Year": 2155,
          "value": 6.817867533820008,
          "variable": "FAIR"
         },
         {
          "Year": 2156,
          "value": 6.843584132703496,
          "variable": "FAIR"
         },
         {
          "Year": 2157,
          "value": 6.866971193070067,
          "variable": "FAIR"
         },
         {
          "Year": 2158,
          "value": 6.887480995750579,
          "variable": "FAIR"
         },
         {
          "Year": 2159,
          "value": 6.905557038245291,
          "variable": "FAIR"
         },
         {
          "Year": 2160,
          "value": 6.922409909553909,
          "variable": "FAIR"
         },
         {
          "Year": 2161,
          "value": 6.939384673831539,
          "variable": "FAIR"
         },
         {
          "Year": 2162,
          "value": 6.957951033765946,
          "variable": "FAIR"
         },
         {
          "Year": 2163,
          "value": 6.979586355324273,
          "variable": "FAIR"
         },
         {
          "Year": 2164,
          "value": 7.004430938620672,
          "variable": "FAIR"
         },
         {
          "Year": 2165,
          "value": 7.029066716973825,
          "variable": "FAIR"
         },
         {
          "Year": 2166,
          "value": 7.052021175519953,
          "variable": "FAIR"
         },
         {
          "Year": 2167,
          "value": 7.072266344120784,
          "variable": "FAIR"
         },
         {
          "Year": 2168,
          "value": 7.08887357571767,
          "variable": "FAIR"
         },
         {
          "Year": 2169,
          "value": 7.103490209129429,
          "variable": "FAIR"
         },
         {
          "Year": 2170,
          "value": 7.1172850723420344,
          "variable": "FAIR"
         },
         {
          "Year": 2171,
          "value": 7.131179549584427,
          "variable": "FAIR"
         },
         {
          "Year": 2172,
          "value": 7.146194363368384,
          "variable": "FAIR"
         },
         {
          "Year": 2173,
          "value": 7.163867696810397,
          "variable": "FAIR"
         },
         {
          "Year": 2174,
          "value": 7.183913408300102,
          "variable": "FAIR"
         },
         {
          "Year": 2175,
          "value": 7.204969924781487,
          "variable": "FAIR"
         },
         {
          "Year": 2176,
          "value": 7.225790631855312,
          "variable": "FAIR"
         },
         {
          "Year": 2177,
          "value": 7.244631088163436,
          "variable": "FAIR"
         },
         {
          "Year": 2178,
          "value": 7.260613880047746,
          "variable": "FAIR"
         },
         {
          "Year": 2179,
          "value": 7.274487069739913,
          "variable": "FAIR"
         },
         {
          "Year": 2180,
          "value": 7.287072177063313,
          "variable": "FAIR"
         },
         {
          "Year": 2181,
          "value": 7.298884290688065,
          "variable": "FAIR"
         },
         {
          "Year": 2182,
          "value": 7.310435480832214,
          "variable": "FAIR"
         },
         {
          "Year": 2183,
          "value": 7.322073255931578,
          "variable": "FAIR"
         },
         {
          "Year": 2184,
          "value": 7.334383796165044,
          "variable": "FAIR"
         },
         {
          "Year": 2185,
          "value": 7.348116793522089,
          "variable": "FAIR"
         },
         {
          "Year": 2186,
          "value": 7.3645078786504286,
          "variable": "FAIR"
         },
         {
          "Year": 2187,
          "value": 7.382346023288381,
          "variable": "FAIR"
         },
         {
          "Year": 2188,
          "value": 7.400070473236364,
          "variable": "FAIR"
         },
         {
          "Year": 2189,
          "value": 7.417731612536464,
          "variable": "FAIR"
         },
         {
          "Year": 2190,
          "value": 7.433501698482819,
          "variable": "FAIR"
         },
         {
          "Year": 2191,
          "value": 7.446389949650418,
          "variable": "FAIR"
         },
         {
          "Year": 2192,
          "value": 7.457532506143208,
          "variable": "FAIR"
         },
         {
          "Year": 2193,
          "value": 7.468115090221146,
          "variable": "FAIR"
         },
         {
          "Year": 2194,
          "value": 7.478802938665418,
          "variable": "FAIR"
         },
         {
          "Year": 2195,
          "value": 7.490240385001506,
          "variable": "FAIR"
         },
         {
          "Year": 2196,
          "value": 7.50394911371172,
          "variable": "FAIR"
         },
         {
          "Year": 2197,
          "value": 7.520560959497389,
          "variable": "FAIR"
         },
         {
          "Year": 2198,
          "value": 7.538703527071094,
          "variable": "FAIR"
         },
         {
          "Year": 2199,
          "value": 7.555884747668387,
          "variable": "FAIR"
         },
         {
          "Year": 2200,
          "value": 7.570580439172836,
          "variable": "FAIR"
         },
         {
          "Year": 2201,
          "value": 7.582328586015704,
          "variable": "FAIR"
         },
         {
          "Year": 2202,
          "value": 7.592031935565862,
          "variable": "FAIR"
         },
         {
          "Year": 2203,
          "value": 7.601002861458472,
          "variable": "FAIR"
         },
         {
          "Year": 2204,
          "value": 7.609163245520508,
          "variable": "FAIR"
         },
         {
          "Year": 2205,
          "value": 7.61686080901078,
          "variable": "FAIR"
         },
         {
          "Year": 2206,
          "value": 7.6245544866818555,
          "variable": "FAIR"
         },
         {
          "Year": 2207,
          "value": 7.632835013162234,
          "variable": "FAIR"
         },
         {
          "Year": 2208,
          "value": 7.642846955643432,
          "variable": "FAIR"
         },
         {
          "Year": 2209,
          "value": 7.654912820785336,
          "variable": "FAIR"
         },
         {
          "Year": 2210,
          "value": 7.668358895700757,
          "variable": "FAIR"
         },
         {
          "Year": 2211,
          "value": 7.6817203268716945,
          "variable": "FAIR"
         },
         {
          "Year": 2212,
          "value": 7.694069165130987,
          "variable": "FAIR"
         },
         {
          "Year": 2213,
          "value": 7.704725063227308,
          "variable": "FAIR"
         },
         {
          "Year": 2214,
          "value": 7.71371319189209,
          "variable": "FAIR"
         },
         {
          "Year": 2215,
          "value": 7.720911732775051,
          "variable": "FAIR"
         },
         {
          "Year": 2216,
          "value": 7.726491391020232,
          "variable": "FAIR"
         },
         {
          "Year": 2217,
          "value": 7.731959624812588,
          "variable": "FAIR"
         },
         {
          "Year": 2218,
          "value": 7.738120282441842,
          "variable": "FAIR"
         },
         {
          "Year": 2219,
          "value": 7.745829836892588,
          "variable": "FAIR"
         },
         {
          "Year": 2220,
          "value": 7.756052820600942,
          "variable": "FAIR"
         },
         {
          "Year": 2221,
          "value": 7.7683057187865385,
          "variable": "FAIR"
         },
         {
          "Year": 2222,
          "value": 7.78225780689817,
          "variable": "FAIR"
         },
         {
          "Year": 2223,
          "value": 7.795566560219772,
          "variable": "FAIR"
         },
         {
          "Year": 2224,
          "value": 7.805584015371048,
          "variable": "FAIR"
         },
         {
          "Year": 2225,
          "value": 7.812684812061255,
          "variable": "FAIR"
         },
         {
          "Year": 2226,
          "value": 7.817400010669553,
          "variable": "FAIR"
         },
         {
          "Year": 2227,
          "value": 7.820989700585304,
          "variable": "FAIR"
         },
         {
          "Year": 2228,
          "value": 7.824367277463635,
          "variable": "FAIR"
         },
         {
          "Year": 2229,
          "value": 7.82848642992801,
          "variable": "FAIR"
         },
         {
          "Year": 2230,
          "value": 7.835013444974065,
          "variable": "FAIR"
         },
         {
          "Year": 2231,
          "value": 7.843653738564919,
          "variable": "FAIR"
         },
         {
          "Year": 2232,
          "value": 7.852743633311252,
          "variable": "FAIR"
         },
         {
          "Year": 2233,
          "value": 7.8617974060384235,
          "variable": "FAIR"
         },
         {
          "Year": 2234,
          "value": 7.86986095883233,
          "variable": "FAIR"
         },
         {
          "Year": 2235,
          "value": 7.876077597499511,
          "variable": "FAIR"
         },
         {
          "Year": 2236,
          "value": 7.880164800887146,
          "variable": "FAIR"
         },
         {
          "Year": 2237,
          "value": 7.882683470924959,
          "variable": "FAIR"
         },
         {
          "Year": 2238,
          "value": 7.884863779754033,
          "variable": "FAIR"
         },
         {
          "Year": 2239,
          "value": 7.887329323225337,
          "variable": "FAIR"
         },
         {
          "Year": 2240,
          "value": 7.8909883860529195,
          "variable": "FAIR"
         },
         {
          "Year": 2241,
          "value": 7.897135127653877,
          "variable": "FAIR"
         },
         {
          "Year": 2242,
          "value": 7.905929947597381,
          "variable": "FAIR"
         },
         {
          "Year": 2243,
          "value": 7.915230184368777,
          "variable": "FAIR"
         },
         {
          "Year": 2244,
          "value": 7.923231700111131,
          "variable": "FAIR"
         },
         {
          "Year": 2245,
          "value": 7.9288575400224275,
          "variable": "FAIR"
         },
         {
          "Year": 2246,
          "value": 7.931694097511558,
          "variable": "FAIR"
         },
         {
          "Year": 2247,
          "value": 7.932977469803511,
          "variable": "FAIR"
         },
         {
          "Year": 2248,
          "value": 7.933349899925846,
          "variable": "FAIR"
         },
         {
          "Year": 2249,
          "value": 7.9330110364816875,
          "variable": "FAIR"
         },
         {
          "Year": 2250,
          "value": 7.932482594876484,
          "variable": "FAIR"
         },
         {
          "Year": 2251,
          "value": 7.9321498288614976,
          "variable": "FAIR"
         },
         {
          "Year": 2252,
          "value": 7.932831602022839,
          "variable": "FAIR"
         },
         {
          "Year": 2253,
          "value": 7.935522368908105,
          "variable": "FAIR"
         },
         {
          "Year": 2254,
          "value": 7.940557227129342,
          "variable": "FAIR"
         },
         {
          "Year": 2255,
          "value": 7.946501502699377,
          "variable": "FAIR"
         },
         {
          "Year": 2256,
          "value": 7.952290139529483,
          "variable": "FAIR"
         },
         {
          "Year": 2257,
          "value": 7.957531316163484,
          "variable": "FAIR"
         },
         {
          "Year": 2258,
          "value": 7.961221722826977,
          "variable": "FAIR"
         },
         {
          "Year": 2259,
          "value": 7.963416506851152,
          "variable": "FAIR"
         },
         {
          "Year": 2260,
          "value": 7.964139498912941,
          "variable": "FAIR"
         },
         {
          "Year": 2261,
          "value": 7.963827377483913,
          "variable": "FAIR"
         },
         {
          "Year": 2262,
          "value": 7.963917314224352,
          "variable": "FAIR"
         },
         {
          "Year": 2263,
          "value": 7.96510209056933,
          "variable": "FAIR"
         },
         {
          "Year": 2264,
          "value": 7.968291755084175,
          "variable": "FAIR"
         },
         {
          "Year": 2265,
          "value": 7.97442559751193,
          "variable": "FAIR"
         },
         {
          "Year": 2266,
          "value": 7.982908138069019,
          "variable": "FAIR"
         },
         {
          "Year": 2267,
          "value": 7.992781401668763,
          "variable": "FAIR"
         },
         {
          "Year": 2268,
          "value": 8.001181176343682,
          "variable": "FAIR"
         },
         {
          "Year": 2269,
          "value": 8.006447960328948,
          "variable": "FAIR"
         },
         {
          "Year": 2270,
          "value": 8.009231414902041,
          "variable": "FAIR"
         },
         {
          "Year": 2271,
          "value": 8.01031778121547,
          "variable": "FAIR"
         },
         {
          "Year": 2272,
          "value": 8.01061945638443,
          "variable": "FAIR"
         },
         {
          "Year": 2273,
          "value": 8.011107164580984,
          "variable": "FAIR"
         },
         {
          "Year": 2274,
          "value": 8.013362084208424,
          "variable": "FAIR"
         },
         {
          "Year": 2275,
          "value": 8.018255591800587,
          "variable": "FAIR"
         },
         {
          "Year": 2276,
          "value": 8.025216781147249,
          "variable": "FAIR"
         },
         {
          "Year": 2277,
          "value": 8.032468901101161,
          "variable": "FAIR"
         },
         {
          "Year": 2278,
          "value": 8.038861190074432,
          "variable": "FAIR"
         },
         {
          "Year": 2279,
          "value": 8.043903727345247,
          "variable": "FAIR"
         },
         {
          "Year": 2280,
          "value": 8.046852021196615,
          "variable": "FAIR"
         },
         {
          "Year": 2281,
          "value": 8.048263472375664,
          "variable": "FAIR"
         },
         {
          "Year": 2282,
          "value": 8.04946674392179,
          "variable": "FAIR"
         },
         {
          "Year": 2283,
          "value": 8.051020383145374,
          "variable": "FAIR"
         },
         {
          "Year": 2284,
          "value": 8.053743955492248,
          "variable": "FAIR"
         },
         {
          "Year": 2285,
          "value": 8.059041062178546,
          "variable": "FAIR"
         },
         {
          "Year": 2286,
          "value": 8.06729608712197,
          "variable": "FAIR"
         },
         {
          "Year": 2287,
          "value": 8.076803502486033,
          "variable": "FAIR"
         },
         {
          "Year": 2288,
          "value": 8.085640375799807,
          "variable": "FAIR"
         },
         {
          "Year": 2289,
          "value": 8.091541269345406,
          "variable": "FAIR"
         },
         {
          "Year": 2290,
          "value": 8.094914577066252,
          "variable": "FAIR"
         },
         {
          "Year": 2291,
          "value": 8.097092977300976,
          "variable": "FAIR"
         },
         {
          "Year": 2292,
          "value": 8.097968487873388,
          "variable": "FAIR"
         },
         {
          "Year": 2293,
          "value": 8.09835390778608,
          "variable": "FAIR"
         },
         {
          "Year": 2294,
          "value": 8.099562195040278,
          "variable": "FAIR"
         },
         {
          "Year": 2295,
          "value": 8.103295348547332,
          "variable": "FAIR"
         },
         {
          "Year": 2296,
          "value": 8.109838574500523,
          "variable": "FAIR"
         },
         {
          "Year": 2297,
          "value": 8.11851076922185,
          "variable": "FAIR"
         },
         {
          "Year": 2298,
          "value": 8.127552319982499,
          "variable": "FAIR"
         },
         {
          "Year": 2299,
          "value": 8.134505801345046,
          "variable": "FAIR"
         },
         {
          "Year": 2300,
          "value": 8.138811983628521,
          "variable": "FAIR"
         },
         {
          "Year": 1750,
          "value": 0.0053671258205,
          "variable": "FUNDFAIR"
         },
         {
          "Year": 1751,
          "value": 0.034542956270567825,
          "variable": "FUNDFAIR"
         },
         {
          "Year": 1752,
          "value": 0.05476786166582169,
          "variable": "FUNDFAIR"
         },
         {
          "Year": 1753,
          "value": 0.06704750086607812,
          "variable": "FUNDFAIR"
         },
         {
          "Year": 1754,
          "value": 0.07287957676225716,
          "variable": "FUNDFAIR"
         },
         {
          "Year": 1755,
          "value": 0.07290366012638262,
          "variable": "FUNDFAIR"
         },
         {
          "Year": 1756,
          "value": 0.05589980750762523,
          "variable": "FUNDFAIR"
         },
         {
          "Year": 1757,
          "value": 0.038647141377643496,
          "variable": "FUNDFAIR"
         },
         {
          "Year": 1758,
          "value": 0.0416357973020786,
          "variable": "FUNDFAIR"
         },
         {
          "Year": 1759,
          "value": 0.055778857812696245,
          "variable": "FUNDFAIR"
         },
         {
          "Year": 1760,
          "value": 0.07295987765618639,
          "variable": "FUNDFAIR"
         },
         {
          "Year": 1761,
          "value": 0.08807027658926928,
          "variable": "FUNDFAIR"
         },
         {
          "Year": 1762,
          "value": 0.04207856365382741,
          "variable": "FUNDFAIR"
         },
         {
          "Year": 1763,
          "value": -0.03112148160115757,
          "variable": "FUNDFAIR"
         },
         {
          "Year": 1764,
          "value": -0.050419180613399554,
          "variable": "FUNDFAIR"
         },
         {
          "Year": 1765,
          "value": -0.036406321751331745,
          "variable": "FUNDFAIR"
         },
         {
          "Year": 1766,
          "value": -0.03714605656351233,
          "variable": "FUNDFAIR"
         },
         {
          "Year": 1767,
          "value": -0.05737220691105032,
          "variable": "FUNDFAIR"
         },
         {
          "Year": 1768,
          "value": -0.055920505181146975,
          "variable": "FUNDFAIR"
         },
         {
          "Year": 1769,
          "value": -0.026725248708034992,
          "variable": "FUNDFAIR"
         },
         {
          "Year": 1770,
          "value": 0.001164546447229218,
          "variable": "FUNDFAIR"
         },
         {
          "Year": 1771,
          "value": 0.021909371841444404,
          "variable": "FUNDFAIR"
         },
         {
          "Year": 1772,
          "value": 0.04341475744730887,
          "variable": "FUNDFAIR"
         },
         {
          "Year": 1773,
          "value": 0.06207511981561462,
          "variable": "FUNDFAIR"
         },
         {
          "Year": 1774,
          "value": 0.07429498029668975,
          "variable": "FUNDFAIR"
         },
         {
          "Year": 1775,
          "value": 0.08041912723196393,
          "variable": "FUNDFAIR"
         },
         {
          "Year": 1776,
          "value": 0.08248959711815129,
          "variable": "FUNDFAIR"
         },
         {
          "Year": 1777,
          "value": 0.0834613867038548,
          "variable": "FUNDFAIR"
         },
         {
          "Year": 1778,
          "value": 0.08713706755567549,
          "variable": "FUNDFAIR"
         },
         {
          "Year": 1779,
          "value": 0.09641016537298604,
          "variable": "FUNDFAIR"
         },
         {
          "Year": 1780,
          "value": 0.10978652043414185,
          "variable": "FUNDFAIR"
         },
         {
          "Year": 1781,
          "value": 0.12254642112792194,
          "variable": "FUNDFAIR"
         },
         {
          "Year": 1782,
          "value": 0.13123596171929308,
          "variable": "FUNDFAIR"
         },
         {
          "Year": 1783,
          "value": 0.022755276358688816,
          "variable": "FUNDFAIR"
         },
         {
          "Year": 1784,
          "value": -0.2864310655984604,
          "variable": "FUNDFAIR"
         },
         {
          "Year": 1785,
          "value": -0.5040412416225398,
          "variable": "FUNDFAIR"
         },
         {
          "Year": 1786,
          "value": -0.4992591118897915,
          "variable": "FUNDFAIR"
         },
         {
          "Year": 1787,
          "value": -0.4230620399783186,
          "variable": "FUNDFAIR"
         },
         {
          "Year": 1788,
          "value": -0.3253547207897556,
          "variable": "FUNDFAIR"
         },
         {
          "Year": 1789,
          "value": -0.226899604037633,
          "variable": "FUNDFAIR"
         },
         {
          "Year": 1790,
          "value": -0.13980327790749122,
          "variable": "FUNDFAIR"
         },
         {
          "Year": 1791,
          "value": -0.06988569890990032,
          "variable": "FUNDFAIR"
         },
         {
          "Year": 1792,
          "value": -0.016757722838850523,
          "variable": "FUNDFAIR"
         },
         {
          "Year": 1793,
          "value": 0.022039047186107358,
          "variable": "FUNDFAIR"
         },
         {
          "Year": 1794,
          "value": 0.048636780962570986,
          "variable": "FUNDFAIR"
         },
         {
          "Year": 1795,
          "value": 0.0654501580789129,
          "variable": "FUNDFAIR"
         },
         {
          "Year": 1796,
          "value": 0.06666071491017962,
          "variable": "FUNDFAIR"
         },
         {
          "Year": 1797,
          "value": 0.050949388446170765,
          "variable": "FUNDFAIR"
         },
         {
          "Year": 1798,
          "value": 0.03754832997285932,
          "variable": "FUNDFAIR"
         },
         {
          "Year": 1799,
          "value": 0.037725418065312426,
          "variable": "FUNDFAIR"
         },
         {
          "Year": 1800,
          "value": 0.045762264125991554,
          "variable": "FUNDFAIR"
         },
         {
          "Year": 1801,
          "value": 0.05718261946927761,
          "variable": "FUNDFAIR"
         },
         {
          "Year": 1802,
          "value": 0.07013692227200541,
          "variable": "FUNDFAIR"
         },
         {
          "Year": 1803,
          "value": 0.08303237936600469,
          "variable": "FUNDFAIR"
         },
         {
          "Year": 1804,
          "value": 0.09443943875622547,
          "variable": "FUNDFAIR"
         },
         {
          "Year": 1805,
          "value": 0.10318645008308384,
          "variable": "FUNDFAIR"
         },
         {
          "Year": 1806,
          "value": 0.10894393490854187,
          "variable": "FUNDFAIR"
         },
         {
          "Year": 1807,
          "value": 0.11180558336886015,
          "variable": "FUNDFAIR"
         },
         {
          "Year": 1808,
          "value": 0.11204780317836893,
          "variable": "FUNDFAIR"
         },
         {
          "Year": 1809,
          "value": -0.11160925753566786,
          "variable": "FUNDFAIR"
         },
         {
          "Year": 1810,
          "value": -0.4257773231786864,
          "variable": "FUNDFAIR"
         },
         {
          "Year": 1811,
          "value": -0.5101695479509801,
          "variable": "FUNDFAIR"
         },
         {
          "Year": 1812,
          "value": -0.44604262710901554,
          "variable": "FUNDFAIR"
         },
         {
          "Year": 1813,
          "value": -0.3481556698534854,
          "variable": "FUNDFAIR"
         },
         {
          "Year": 1814,
          "value": -0.25434167108098216,
          "variable": "FUNDFAIR"
         },
         {
          "Year": 1815,
          "value": -0.3936691509811455,
          "variable": "FUNDFAIR"
         },
         {
          "Year": 1816,
          "value": -0.7632074090084969,
          "variable": "FUNDFAIR"
         },
         {
          "Year": 1817,
          "value": -0.9311960789405753,
          "variable": "FUNDFAIR"
         },
         {
          "Year": 1818,
          "value": -0.8299668230872352,
          "variable": "FUNDFAIR"
         },
         {
          "Year": 1819,
          "value": -0.6636056904561468,
          "variable": "FUNDFAIR"
         },
         {
          "Year": 1820,
          "value": -0.5060347959119981,
          "variable": "FUNDFAIR"
         },
         {
          "Year": 1821,
          "value": -0.3819543640845773,
          "variable": "FUNDFAIR"
         },
         {
          "Year": 1822,
          "value": -0.29037808032249074,
          "variable": "FUNDFAIR"
         },
         {
          "Year": 1823,
          "value": -0.24077378782272155,
          "variable": "FUNDFAIR"
         },
         {
          "Year": 1824,
          "value": -0.20595113104822718,
          "variable": "FUNDFAIR"
         },
         {
          "Year": 1825,
          "value": -0.15398159122710461,
          "variable": "FUNDFAIR"
         },
         {
          "Year": 1826,
          "value": -0.09892259519215252,
          "variable": "FUNDFAIR"
         },
         {
          "Year": 1827,
          "value": -0.049002113827500283,
          "variable": "FUNDFAIR"
         },
         {
          "Year": 1828,
          "value": -0.007077780514113917,
          "variable": "FUNDFAIR"
         },
         {
          "Year": 1829,
          "value": 0.02595049966869421,
          "variable": "FUNDFAIR"
         },
         {
          "Year": 1830,
          "value": 0.050264442695522306,
          "variable": "FUNDFAIR"
         },
         {
          "Year": 1831,
          "value": -0.08499875868106228,
          "variable": "FUNDFAIR"
         },
         {
          "Year": 1832,
          "value": -0.28604882726814423,
          "variable": "FUNDFAIR"
         },
         {
          "Year": 1833,
          "value": -0.33406640631147205,
          "variable": "FUNDFAIR"
         },
         {
          "Year": 1834,
          "value": -0.28473190488922184,
          "variable": "FUNDFAIR"
         },
         {
          "Year": 1835,
          "value": -0.32395927015569786,
          "variable": "FUNDFAIR"
         },
         {
          "Year": 1836,
          "value": -0.40698502841459433,
          "variable": "FUNDFAIR"
         },
         {
          "Year": 1837,
          "value": -0.3816734348681609,
          "variable": "FUNDFAIR"
         },
         {
          "Year": 1838,
          "value": -0.29414948234787297,
          "variable": "FUNDFAIR"
         },
         {
          "Year": 1839,
          "value": -0.20294128537959852,
          "variable": "FUNDFAIR"
         },
         {
          "Year": 1840,
          "value": -0.12626981598169465,
          "variable": "FUNDFAIR"
         },
         {
          "Year": 1841,
          "value": -0.06705235904399845,
          "variable": "FUNDFAIR"
         },
         {
          "Year": 1842,
          "value": -0.02378596576564028,
          "variable": "FUNDFAIR"
         },
         {
          "Year": 1843,
          "value": 0.006698338422565772,
          "variable": "FUNDFAIR"
         },
         {
          "Year": 1844,
          "value": 0.02820816409954643,
          "variable": "FUNDFAIR"
         },
         {
          "Year": 1845,
          "value": 0.044240105457910094,
          "variable": "FUNDFAIR"
         },
         {
          "Year": 1846,
          "value": 0.04628833753077356,
          "variable": "FUNDFAIR"
         },
         {
          "Year": 1847,
          "value": 0.04260207330479067,
          "variable": "FUNDFAIR"
         },
         {
          "Year": 1848,
          "value": 0.04960752523123739,
          "variable": "FUNDFAIR"
         },
         {
          "Year": 1849,
          "value": 0.0631189339764432,
          "variable": "FUNDFAIR"
         },
         {
          "Year": 1850,
          "value": 0.07749513663757268,
          "variable": "FUNDFAIR"
         },
         {
          "Year": 1851,
          "value": 0.09000765493948741,
          "variable": "FUNDFAIR"
         },
         {
          "Year": 1852,
          "value": 0.09949908377843866,
          "variable": "FUNDFAIR"
         },
         {
          "Year": 1853,
          "value": 0.09610351765535771,
          "variable": "FUNDFAIR"
         },
         {
          "Year": 1854,
          "value": 0.08118930696869439,
          "variable": "FUNDFAIR"
         },
         {
          "Year": 1855,
          "value": 0.07494721477711669,
          "variable": "FUNDFAIR"
         },
         {
          "Year": 1856,
          "value": 0.07777679145871058,
          "variable": "FUNDFAIR"
         },
         {
          "Year": 1857,
          "value": 0.07069855554352525,
          "variable": "FUNDFAIR"
         },
         {
          "Year": 1858,
          "value": 0.06553716634816385,
          "variable": "FUNDFAIR"
         },
         {
          "Year": 1859,
          "value": 0.07531702507957845,
          "variable": "FUNDFAIR"
         },
         {
          "Year": 1860,
          "value": 0.0898559950788444,
          "variable": "FUNDFAIR"
         },
         {
          "Year": 1861,
          "value": 0.0988266536123597,
          "variable": "FUNDFAIR"
         },
         {
          "Year": 1862,
          "value": 0.05592418581508797,
          "variable": "FUNDFAIR"
         },
         {
          "Year": 1863,
          "value": 0.0029183104822709076,
          "variable": "FUNDFAIR"
         },
         {
          "Year": 1864,
          "value": 0.0009857988912118643,
          "variable": "FUNDFAIR"
         },
         {
          "Year": 1865,
          "value": 0.022971627317214475,
          "variable": "FUNDFAIR"
         },
         {
          "Year": 1866,
          "value": 0.048078577691147054,
          "variable": "FUNDFAIR"
         },
         {
          "Year": 1867,
          "value": 0.07012091265111677,
          "variable": "FUNDFAIR"
         },
         {
          "Year": 1868,
          "value": 0.0889003060946104,
          "variable": "FUNDFAIR"
         },
         {
          "Year": 1869,
          "value": 0.10572292786016368,
          "variable": "FUNDFAIR"
         },
         {
          "Year": 1870,
          "value": 0.1203019773188915,
          "variable": "FUNDFAIR"
         },
         {
          "Year": 1871,
          "value": 0.13272146078859093,
          "variable": "FUNDFAIR"
         },
         {
          "Year": 1872,
          "value": 0.1424526187284897,
          "variable": "FUNDFAIR"
         },
         {
          "Year": 1873,
          "value": 0.13560882149413223,
          "variable": "FUNDFAIR"
         },
         {
          "Year": 1874,
          "value": 0.12592443118786595,
          "variable": "FUNDFAIR"
         },
         {
          "Year": 1875,
          "value": 0.12622994266759271,
          "variable": "FUNDFAIR"
         },
         {
          "Year": 1876,
          "value": 0.12705148938445537,
          "variable": "FUNDFAIR"
         },
         {
          "Year": 1877,
          "value": 0.13059531940359423,
          "variable": "FUNDFAIR"
         },
         {
          "Year": 1878,
          "value": 0.13653025276571296,
          "variable": "FUNDFAIR"
         },
         {
          "Year": 1879,
          "value": 0.14231282718480234,
          "variable": "FUNDFAIR"
         },
         {
          "Year": 1880,
          "value": 0.14524346867464144,
          "variable": "FUNDFAIR"
         },
         {
          "Year": 1881,
          "value": 0.14711479857776782,
          "variable": "FUNDFAIR"
         },
         {
          "Year": 1882,
          "value": 0.1525656569442245,
          "variable": "FUNDFAIR"
         },
         {
          "Year": 1883,
          "value": 0.11920350982058214,
          "variable": "FUNDFAIR"
         },
         {
          "Year": 1884,
          "value": -0.023360721341699465,
          "variable": "FUNDFAIR"
         },
         {
          "Year": 1885,
          "value": -0.13593389300936085,
          "variable": "FUNDFAIR"
         },
         {
          "Year": 1886,
          "value": -0.12648580754726832,
          "variable": "FUNDFAIR"
         },
         {
          "Year": 1887,
          "value": -0.08624062054060497,
          "variable": "FUNDFAIR"
         },
         {
          "Year": 1888,
          "value": -0.041510593556193236,
          "variable": "FUNDFAIR"
         },
         {
          "Year": 1889,
          "value": 0.005276450931666253,
          "variable": "FUNDFAIR"
         },
         {
          "Year": 1890,
          "value": 0.03465982036539465,
          "variable": "FUNDFAIR"
         },
         {
          "Year": 1891,
          "value": 0.041777180737673794,
          "variable": "FUNDFAIR"
         },
         {
          "Year": 1892,
          "value": 0.05391055383189564,
          "variable": "FUNDFAIR"
         },
         {
          "Year": 1893,
          "value": 0.08375061990302372,
          "variable": "FUNDFAIR"
         },
         {
          "Year": 1894,
          "value": 0.11649233554545899,
          "variable": "FUNDFAIR"
         },
         {
          "Year": 1895,
          "value": 0.14233843292271126,
          "variable": "FUNDFAIR"
         },
         {
          "Year": 1896,
          "value": 0.16019307760728585,
          "variable": "FUNDFAIR"
         },
         {
          "Year": 1897,
          "value": 0.17207820734379536,
          "variable": "FUNDFAIR"
         },
         {
          "Year": 1898,
          "value": 0.18036672078372912,
          "variable": "FUNDFAIR"
         },
         {
          "Year": 1899,
          "value": 0.18599749054287437,
          "variable": "FUNDFAIR"
         },
         {
          "Year": 1900,
          "value": 0.18972056472335802,
          "variable": "FUNDFAIR"
         },
         {
          "Year": 1901,
          "value": 0.19222993173137712,
          "variable": "FUNDFAIR"
         },
         {
          "Year": 1902,
          "value": 0.1811469158601081,
          "variable": "FUNDFAIR"
         },
         {
          "Year": 1903,
          "value": 0.12197956308433698,
          "variable": "FUNDFAIR"
         },
         {
          "Year": 1904,
          "value": 0.06829940128791061,
          "variable": "FUNDFAIR"
         },
         {
          "Year": 1905,
          "value": 0.07246448783305455,
          "variable": "FUNDFAIR"
         },
         {
          "Year": 1906,
          "value": 0.10181287130390752,
          "variable": "FUNDFAIR"
         },
         {
          "Year": 1907,
          "value": 0.12182395706221126,
          "variable": "FUNDFAIR"
         },
         {
          "Year": 1908,
          "value": 0.136141859940687,
          "variable": "FUNDFAIR"
         },
         {
          "Year": 1909,
          "value": 0.15748758963661094,
          "variable": "FUNDFAIR"
         },
         {
          "Year": 1910,
          "value": 0.1765824084011955,
          "variable": "FUNDFAIR"
         },
         {
          "Year": 1911,
          "value": 0.19069491909880493,
          "variable": "FUNDFAIR"
         },
         {
          "Year": 1912,
          "value": 0.16834818175014885,
          "variable": "FUNDFAIR"
         },
         {
          "Year": 1913,
          "value": 0.12602820320461933,
          "variable": "FUNDFAIR"
         },
         {
          "Year": 1914,
          "value": 0.11698191675283225,
          "variable": "FUNDFAIR"
         },
         {
          "Year": 1915,
          "value": 0.13923252234288908,
          "variable": "FUNDFAIR"
         },
         {
          "Year": 1916,
          "value": 0.17064585281978617,
          "variable": "FUNDFAIR"
         },
         {
          "Year": 1917,
          "value": 0.19955923745113954,
          "variable": "FUNDFAIR"
         },
         {
          "Year": 1918,
          "value": 0.2244114710528615,
          "variable": "FUNDFAIR"
         },
         {
          "Year": 1919,
          "value": 0.24463211643710453,
          "variable": "FUNDFAIR"
         },
         {
          "Year": 1920,
          "value": 0.25858091695167035,
          "variable": "FUNDFAIR"
         },
         {
          "Year": 1921,
          "value": 0.2685650806087585,
          "variable": "FUNDFAIR"
         },
         {
          "Year": 1922,
          "value": 0.26852913683753393,
          "variable": "FUNDFAIR"
         },
         {
          "Year": 1923,
          "value": 0.2637003573112012,
          "variable": "FUNDFAIR"
         },
         {
          "Year": 1924,
          "value": 0.26788016460391934,
          "variable": "FUNDFAIR"
         },
         {
          "Year": 1925,
          "value": 0.27745644687985666,
          "variable": "FUNDFAIR"
         },
         {
          "Year": 1926,
          "value": 0.28823578550733214,
          "variable": "FUNDFAIR"
         },
         {
          "Year": 1927,
          "value": 0.2997146495412186,
          "variable": "FUNDFAIR"
         },
         {
          "Year": 1928,
          "value": 0.3075047967753593,
          "variable": "FUNDFAIR"
         },
         {
          "Year": 1929,
          "value": 0.3004540122132891,
          "variable": "FUNDFAIR"
         },
         {
          "Year": 1930,
          "value": 0.2991546056199093,
          "variable": "FUNDFAIR"
         },
         {
          "Year": 1931,
          "value": 0.3115478787587414,
          "variable": "FUNDFAIR"
         },
         {
          "Year": 1932,
          "value": 0.3118678250181792,
          "variable": "FUNDFAIR"
         },
         {
          "Year": 1933,
          "value": 0.31122031059959526,
          "variable": "FUNDFAIR"
         },
         {
          "Year": 1934,
          "value": 0.3205995523607633,
          "variable": "FUNDFAIR"
         },
         {
          "Year": 1935,
          "value": 0.33169741122691776,
          "variable": "FUNDFAIR"
         },
         {
          "Year": 1936,
          "value": 0.34503728536421224,
          "variable": "FUNDFAIR"
         },
         {
          "Year": 1937,
          "value": 0.3586075589367356,
          "variable": "FUNDFAIR"
         },
         {
          "Year": 1938,
          "value": 0.36995659098793693,
          "variable": "FUNDFAIR"
         },
         {
          "Year": 1939,
          "value": 0.3795272558322438,
          "variable": "FUNDFAIR"
         },
         {
          "Year": 1940,
          "value": 0.38563796475873713,
          "variable": "FUNDFAIR"
         },
         {
          "Year": 1941,
          "value": 0.38846191948172604,
          "variable": "FUNDFAIR"
         },
         {
          "Year": 1942,
          "value": 0.3895815838059978,
          "variable": "FUNDFAIR"
         },
         {
          "Year": 1943,
          "value": 0.38961980683372477,
          "variable": "FUNDFAIR"
         },
         {
          "Year": 1944,
          "value": 0.39053660132462337,
          "variable": "FUNDFAIR"
         },
         {
          "Year": 1945,
          "value": 0.3962689062895488,
          "variable": "FUNDFAIR"
         },
         {
          "Year": 1946,
          "value": 0.40603093958379033,
          "variable": "FUNDFAIR"
         },
         {
          "Year": 1947,
          "value": 0.4172634290931791,
          "variable": "FUNDFAIR"
         },
         {
          "Year": 1948,
          "value": 0.42925503831612016,
          "variable": "FUNDFAIR"
         },
         {
          "Year": 1949,
          "value": 0.4400188698462344,
          "variable": "FUNDFAIR"
         },
         {
          "Year": 1950,
          "value": 0.4465166870589208,
          "variable": "FUNDFAIR"
         },
         {
          "Year": 1951,
          "value": 0.44732321466908287,
          "variable": "FUNDFAIR"
         },
         {
          "Year": 1952,
          "value": 0.4463180695402418,
          "variable": "FUNDFAIR"
         },
         {
          "Year": 1953,
          "value": 0.44612336672252995,
          "variable": "FUNDFAIR"
         },
         {
          "Year": 1954,
          "value": 0.44709089102885663,
          "variable": "FUNDFAIR"
         },
         {
          "Year": 1955,
          "value": 0.45042378179613846,
          "variable": "FUNDFAIR"
         },
         {
          "Year": 1956,
          "value": 0.4584671383727772,
          "variable": "FUNDFAIR"
         },
         {
          "Year": 1957,
          "value": 0.4723821406643098,
          "variable": "FUNDFAIR"
         },
         {
          "Year": 1958,
          "value": 0.48822850958924124,
          "variable": "FUNDFAIR"
         },
         {
          "Year": 1959,
          "value": 0.5004303849685683,
          "variable": "FUNDFAIR"
         },
         {
          "Year": 1960,
          "value": 0.5079414746269646,
          "variable": "FUNDFAIR"
         },
         {
          "Year": 1961,
          "value": 0.508309449977082,
          "variable": "FUNDFAIR"
         },
         {
          "Year": 1962,
          "value": 0.49259298848902394,
          "variable": "FUNDFAIR"
         },
         {
          "Year": 1963,
          "value": 0.4203426522613522,
          "variable": "FUNDFAIR"
         },
         {
          "Year": 1964,
          "value": 0.3330381523667612,
          "variable": "FUNDFAIR"
         },
         {
          "Year": 1965,
          "value": 0.29754931930623485,
          "variable": "FUNDFAIR"
         },
         {
          "Year": 1966,
          "value": 0.31551679168985464,
          "variable": "FUNDFAIR"
         },
         {
          "Year": 1967,
          "value": 0.34418508139414183,
          "variable": "FUNDFAIR"
         },
         {
          "Year": 1968,
          "value": 0.3648620558362801,
          "variable": "FUNDFAIR"
         },
         {
          "Year": 1969,
          "value": 0.39510484892561615,
          "variable": "FUNDFAIR"
         },
         {
          "Year": 1970,
          "value": 0.425452811765883,
          "variable": "FUNDFAIR"
         },
         {
          "Year": 1971,
          "value": 0.4429484580890024,
          "variable": "FUNDFAIR"
         },
         {
          "Year": 1972,
          "value": 0.4584064751423883,
          "variable": "FUNDFAIR"
         },
         {
          "Year": 1973,
          "value": 0.4846925992069831,
          "variable": "FUNDFAIR"
         },
         {
          "Year": 1974,
          "value": 0.5054594843026533,
          "variable": "FUNDFAIR"
         },
         {
          "Year": 1975,
          "value": 0.5050143430468098,
          "variable": "FUNDFAIR"
         },
         {
          "Year": 1976,
          "value": 0.5100728846603761,
          "variable": "FUNDFAIR"
         },
         {
          "Year": 1977,
          "value": 0.5372201602987277,
          "variable": "FUNDFAIR"
         },
         {
          "Year": 1978,
          "value": 0.5729707269795821,
          "variable": "FUNDFAIR"
         },
         {
          "Year": 1979,
          "value": 0.6101523914447821,
          "variable": "FUNDFAIR"
         },
         {
          "Year": 1980,
          "value": 0.6412897484693982,
          "variable": "FUNDFAIR"
         },
         {
          "Year": 1981,
          "value": 0.666099733614766,
          "variable": "FUNDFAIR"
         },
         {
          "Year": 1982,
          "value": 0.6677634428817861,
          "variable": "FUNDFAIR"
         },
         {
          "Year": 1983,
          "value": 0.6277237408886788,
          "variable": "FUNDFAIR"
         },
         {
          "Year": 1984,
          "value": 0.5997861027510394,
          "variable": "FUNDFAIR"
         },
         {
          "Year": 1985,
          "value": 0.6175443890068246,
          "variable": "FUNDFAIR"
         },
         {
          "Year": 1986,
          "value": 0.6485740207288897,
          "variable": "FUNDFAIR"
         },
         {
          "Year": 1987,
          "value": 0.6819749086508635,
          "variable": "FUNDFAIR"
         },
         {
          "Year": 1988,
          "value": 0.7224649284835933,
          "variable": "FUNDFAIR"
         },
         {
          "Year": 1989,
          "value": 0.7688899344277411,
          "variable": "FUNDFAIR"
         },
         {
          "Year": 1990,
          "value": 0.8134778651943513,
          "variable": "FUNDFAIR"
         },
         {
          "Year": 1991,
          "value": 0.8121836183593717,
          "variable": "FUNDFAIR"
         },
         {
          "Year": 1992,
          "value": 0.709536751669178,
          "variable": "FUNDFAIR"
         },
         {
          "Year": 1993,
          "value": 0.623131645991728,
          "variable": "FUNDFAIR"
         },
         {
          "Year": 1994,
          "value": 0.6476335983606236,
          "variable": "FUNDFAIR"
         },
         {
          "Year": 1995,
          "value": 0.7159055256818381,
          "variable": "FUNDFAIR"
         },
         {
          "Year": 1996,
          "value": 0.7844277297893165,
          "variable": "FUNDFAIR"
         },
         {
          "Year": 1997,
          "value": 0.8460515487797533,
          "variable": "FUNDFAIR"
         },
         {
          "Year": 1998,
          "value": 0.9031153682138492,
          "variable": "FUNDFAIR"
         },
         {
          "Year": 1999,
          "value": 0.9569791742994949,
          "variable": "FUNDFAIR"
         },
         {
          "Year": 2000,
          "value": 1.0059838928856686,
          "variable": "FUNDFAIR"
         },
         {
          "Year": 2001,
          "value": 1.0476208096273003,
          "variable": "FUNDFAIR"
         },
         {
          "Year": 2002,
          "value": 1.0835964361227204,
          "variable": "FUNDFAIR"
         },
         {
          "Year": 2003,
          "value": 1.1112826813226864,
          "variable": "FUNDFAIR"
         },
         {
          "Year": 2004,
          "value": 1.1308570461608332,
          "variable": "FUNDFAIR"
         },
         {
          "Year": 2005,
          "value": 1.1451774838230884,
          "variable": "FUNDFAIR"
         },
         {
          "Year": 2006,
          "value": 1.155411171147821,
          "variable": "FUNDFAIR"
         },
         {
          "Year": 2007,
          "value": 1.1655765221682137,
          "variable": "FUNDFAIR"
         },
         {
          "Year": 2008,
          "value": 1.1784712939024469,
          "variable": "FUNDFAIR"
         },
         {
          "Year": 2009,
          "value": 1.1929993068313223,
          "variable": "FUNDFAIR"
         },
         {
          "Year": 2010,
          "value": 1.2118149341404223,
          "variable": "FUNDFAIR"
         },
         {
          "Year": 2011,
          "value": 1.2338615214831496,
          "variable": "FUNDFAIR"
         },
         {
          "Year": 2012,
          "value": 1.2577410703664103,
          "variable": "FUNDFAIR"
         },
         {
          "Year": 2013,
          "value": 1.285221317073204,
          "variable": "FUNDFAIR"
         },
         {
          "Year": 2014,
          "value": 1.3124179632684165,
          "variable": "FUNDFAIR"
         },
         {
          "Year": 2015,
          "value": 1.3373327411542801,
          "variable": "FUNDFAIR"
         },
         {
          "Year": 2016,
          "value": 1.3605007816688315,
          "variable": "FUNDFAIR"
         },
         {
          "Year": 2017,
          "value": 1.3843425998356738,
          "variable": "FUNDFAIR"
         },
         {
          "Year": 2018,
          "value": 1.4088523414181504,
          "variable": "FUNDFAIR"
         },
         {
          "Year": 2019,
          "value": 1.4332476531930434,
          "variable": "FUNDFAIR"
         },
         {
          "Year": 2020,
          "value": 1.4578720116299566,
          "variable": "FUNDFAIR"
         },
         {
          "Year": 2021,
          "value": 1.4832814582727658,
          "variable": "FUNDFAIR"
         },
         {
          "Year": 2022,
          "value": 1.5104879166297982,
          "variable": "FUNDFAIR"
         },
         {
          "Year": 2023,
          "value": 1.5384331570818799,
          "variable": "FUNDFAIR"
         },
         {
          "Year": 2024,
          "value": 1.5654074245298548,
          "variable": "FUNDFAIR"
         },
         {
          "Year": 2025,
          "value": 1.5892896790781648,
          "variable": "FUNDFAIR"
         },
         {
          "Year": 2026,
          "value": 1.609107999915976,
          "variable": "FUNDFAIR"
         },
         {
          "Year": 2027,
          "value": 1.6256874458056898,
          "variable": "FUNDFAIR"
         },
         {
          "Year": 2028,
          "value": 1.6406718295528648,
          "variable": "FUNDFAIR"
         },
         {
          "Year": 2029,
          "value": 1.6549053654512975,
          "variable": "FUNDFAIR"
         },
         {
          "Year": 2030,
          "value": 1.6695096151403592,
          "variable": "FUNDFAIR"
         },
         {
          "Year": 2031,
          "value": 1.6856235255251706,
          "variable": "FUNDFAIR"
         },
         {
          "Year": 2032,
          "value": 1.7036439631090292,
          "variable": "FUNDFAIR"
         },
         {
          "Year": 2033,
          "value": 1.7249560779064592,
          "variable": "FUNDFAIR"
         },
         {
          "Year": 2034,
          "value": 1.7509038075558343,
          "variable": "FUNDFAIR"
         },
         {
          "Year": 2035,
          "value": 1.7795314898574839,
          "variable": "FUNDFAIR"
         },
         {
          "Year": 2036,
          "value": 1.809314074503548,
          "variable": "FUNDFAIR"
         },
         {
          "Year": 2037,
          "value": 1.8388304721649829,
          "variable": "FUNDFAIR"
         },
         {
          "Year": 2038,
          "value": 1.8674020726810898,
          "variable": "FUNDFAIR"
         },
         {
          "Year": 2039,
          "value": 1.8948518264668062,
          "variable": "FUNDFAIR"
         },
         {
          "Year": 2040,
          "value": 1.9203705196808523,
          "variable": "FUNDFAIR"
         },
         {
          "Year": 2041,
          "value": 1.9447521169629618,
          "variable": "FUNDFAIR"
         },
         {
          "Year": 2042,
          "value": 1.9693065428613896,
          "variable": "FUNDFAIR"
         },
         {
          "Year": 2043,
          "value": 1.9952289527817877,
          "variable": "FUNDFAIR"
         },
         {
          "Year": 2044,
          "value": 2.0232061108268766,
          "variable": "FUNDFAIR"
         },
         {
          "Year": 2045,
          "value": 2.0546408863921237,
          "variable": "FUNDFAIR"
         },
         {
          "Year": 2046,
          "value": 2.089368693397545,
          "variable": "FUNDFAIR"
         },
         {
          "Year": 2047,
          "value": 2.1262550267294293,
          "variable": "FUNDFAIR"
         },
         {
          "Year": 2048,
          "value": 2.1636147017584317,
          "variable": "FUNDFAIR"
         },
         {
          "Year": 2049,
          "value": 2.1987008683040328,
          "variable": "FUNDFAIR"
         },
         {
          "Year": 2050,
          "value": 2.2300883929008832,
          "variable": "FUNDFAIR"
         },
         {
          "Year": 2051,
          "value": 2.258815628122118,
          "variable": "FUNDFAIR"
         },
         {
          "Year": 2052,
          "value": 2.2862913891728676,
          "variable": "FUNDFAIR"
         },
         {
          "Year": 2053,
          "value": 2.3130792403442717,
          "variable": "FUNDFAIR"
         },
         {
          "Year": 2054,
          "value": 2.3404090861566553,
          "variable": "FUNDFAIR"
         },
         {
          "Year": 2055,
          "value": 2.369882314964742,
          "variable": "FUNDFAIR"
         },
         {
          "Year": 2056,
          "value": 2.402155063385433,
          "variable": "FUNDFAIR"
         },
         {
          "Year": 2057,
          "value": 2.4354524876532935,
          "variable": "FUNDFAIR"
         },
         {
          "Year": 2058,
          "value": 2.4684555310801777,
          "variable": "FUNDFAIR"
         },
         {
          "Year": 2059,
          "value": 2.5013736998265057,
          "variable": "FUNDFAIR"
         },
         {
          "Year": 2060,
          "value": 2.532808956374285,
          "variable": "FUNDFAIR"
         },
         {
          "Year": 2061,
          "value": 2.5620897595817973,
          "variable": "FUNDFAIR"
         },
         {
          "Year": 2062,
          "value": 2.590130890829581,
          "variable": "FUNDFAIR"
         },
         {
          "Year": 2063,
          "value": 2.6179413934787163,
          "variable": "FUNDFAIR"
         },
         {
          "Year": 2064,
          "value": 2.6462864696042887,
          "variable": "FUNDFAIR"
         },
         {
          "Year": 2065,
          "value": 2.675720018342214,
          "variable": "FUNDFAIR"
         },
         {
          "Year": 2066,
          "value": 2.7077121547728566,
          "variable": "FUNDFAIR"
         },
         {
          "Year": 2067,
          "value": 2.7427083776652714,
          "variable": "FUNDFAIR"
         },
         {
          "Year": 2068,
          "value": 2.7792876157026623,
          "variable": "FUNDFAIR"
         },
         {
          "Year": 2069,
          "value": 2.8154404824055788,
          "variable": "FUNDFAIR"
         },
         {
          "Year": 2070,
          "value": 2.84972382964066,
          "variable": "FUNDFAIR"
         },
         {
          "Year": 2071,
          "value": 2.8817928695608597,
          "variable": "FUNDFAIR"
         },
         {
          "Year": 2072,
          "value": 2.9125383064648256,
          "variable": "FUNDFAIR"
         },
         {
          "Year": 2073,
          "value": 2.943001432796737,
          "variable": "FUNDFAIR"
         },
         {
          "Year": 2074,
          "value": 2.973175060837556,
          "variable": "FUNDFAIR"
         },
         {
          "Year": 2075,
          "value": 3.00332552134771,
          "variable": "FUNDFAIR"
         },
         {
          "Year": 2076,
          "value": 3.0338265802463917,
          "variable": "FUNDFAIR"
         },
         {
          "Year": 2077,
          "value": 3.065241583186056,
          "variable": "FUNDFAIR"
         },
         {
          "Year": 2078,
          "value": 3.0986138883723515,
          "variable": "FUNDFAIR"
         },
         {
          "Year": 2079,
          "value": 3.1342104965080138,
          "variable": "FUNDFAIR"
         },
         {
          "Year": 2080,
          "value": 3.17131497592859,
          "variable": "FUNDFAIR"
         },
         {
          "Year": 2081,
          "value": 3.2086100781114633,
          "variable": "FUNDFAIR"
         },
         {
          "Year": 2082,
          "value": 3.2452275551047185,
          "variable": "FUNDFAIR"
         },
         {
          "Year": 2083,
          "value": 3.2803800936487,
          "variable": "FUNDFAIR"
         },
         {
          "Year": 2084,
          "value": 3.3141039620474757,
          "variable": "FUNDFAIR"
         },
         {
          "Year": 2085,
          "value": 3.3462468170182476,
          "variable": "FUNDFAIR"
         },
         {
          "Year": 2086,
          "value": 3.376905032233326,
          "variable": "FUNDFAIR"
         },
         {
          "Year": 2087,
          "value": 3.4075053386810508,
          "variable": "FUNDFAIR"
         },
         {
          "Year": 2088,
          "value": 3.438759558733883,
          "variable": "FUNDFAIR"
         },
         {
          "Year": 2089,
          "value": 3.471486306715254,
          "variable": "FUNDFAIR"
         },
         {
          "Year": 2090,
          "value": 3.506742158293302,
          "variable": "FUNDFAIR"
         },
         {
          "Year": 2091,
          "value": 3.544186629805643,
          "variable": "FUNDFAIR"
         },
         {
          "Year": 2092,
          "value": 3.5833827979625354,
          "variable": "FUNDFAIR"
         },
         {
          "Year": 2093,
          "value": 3.6221974906802696,
          "variable": "FUNDFAIR"
         },
         {
          "Year": 2094,
          "value": 3.658187027724885,
          "variable": "FUNDFAIR"
         },
         {
          "Year": 2095,
          "value": 3.6916983243963895,
          "variable": "FUNDFAIR"
         },
         {
          "Year": 2096,
          "value": 3.7233964204574495,
          "variable": "FUNDFAIR"
         },
         {
          "Year": 2097,
          "value": 3.754333110146483,
          "variable": "FUNDFAIR"
         },
         {
          "Year": 2098,
          "value": 3.7854430978402713,
          "variable": "FUNDFAIR"
         },
         {
          "Year": 2099,
          "value": 3.8176456694752066,
          "variable": "FUNDFAIR"
         },
         {
          "Year": 2100,
          "value": 3.8522529144544944,
          "variable": "FUNDFAIR"
         },
         {
          "Year": 2101,
          "value": 3.8895327495626697,
          "variable": "FUNDFAIR"
         },
         {
          "Year": 2102,
          "value": 3.927519535712234,
          "variable": "FUNDFAIR"
         },
         {
          "Year": 2103,
          "value": 3.964711278759551,
          "variable": "FUNDFAIR"
         },
         {
          "Year": 2104,
          "value": 4.000772944730525,
          "variable": "FUNDFAIR"
         },
         {
          "Year": 2105,
          "value": 4.034895121987175,
          "variable": "FUNDFAIR"
         },
         {
          "Year": 2106,
          "value": 4.067522180179793,
          "variable": "FUNDFAIR"
         },
         {
          "Year": 2107,
          "value": 4.099593561619649,
          "variable": "FUNDFAIR"
         },
         {
          "Year": 2108,
          "value": 4.131846837200948,
          "variable": "FUNDFAIR"
         },
         {
          "Year": 2109,
          "value": 4.165114314506955,
          "variable": "FUNDFAIR"
         },
         {
          "Year": 2110,
          "value": 4.200346066605806,
          "variable": "FUNDFAIR"
         },
         {
          "Year": 2111,
          "value": 4.2390937192515885,
          "variable": "FUNDFAIR"
         },
         {
          "Year": 2112,
          "value": 4.279400521844639,
          "variable": "FUNDFAIR"
         },
         {
          "Year": 2113,
          "value": 4.318787998623677,
          "variable": "FUNDFAIR"
         },
         {
          "Year": 2114,
          "value": 4.3559242302821035,
          "variable": "FUNDFAIR"
         },
         {
          "Year": 2115,
          "value": 4.3908503681924484,
          "variable": "FUNDFAIR"
         },
         {
          "Year": 2116,
          "value": 4.424152576512281,
          "variable": "FUNDFAIR"
         },
         {
          "Year": 2117,
          "value": 4.45600161996781,
          "variable": "FUNDFAIR"
         },
         {
          "Year": 2118,
          "value": 4.487416966039129,
          "variable": "FUNDFAIR"
         },
         {
          "Year": 2119,
          "value": 4.519061183367468,
          "variable": "FUNDFAIR"
         },
         {
          "Year": 2120,
          "value": 4.552304550377725,
          "variable": "FUNDFAIR"
         },
         {
          "Year": 2121,
          "value": 4.588357675054778,
          "variable": "FUNDFAIR"
         },
         {
          "Year": 2122,
          "value": 4.627210891298872,
          "variable": "FUNDFAIR"
         },
         {
          "Year": 2123,
          "value": 4.665379371442595,
          "variable": "FUNDFAIR"
         },
         {
          "Year": 2124,
          "value": 4.701584708486247,
          "variable": "FUNDFAIR"
         },
         {
          "Year": 2125,
          "value": 4.735645624209985,
          "variable": "FUNDFAIR"
         },
         {
          "Year": 2126,
          "value": 4.7665412638108835,
          "variable": "FUNDFAIR"
         },
         {
          "Year": 2127,
          "value": 4.795723420046058,
          "variable": "FUNDFAIR"
         },
         {
          "Year": 2128,
          "value": 4.824215898801393,
          "variable": "FUNDFAIR"
         },
         {
          "Year": 2129,
          "value": 4.852888663807201,
          "variable": "FUNDFAIR"
         },
         {
          "Year": 2130,
          "value": 4.883223883779487,
          "variable": "FUNDFAIR"
         },
         {
          "Year": 2131,
          "value": 4.91743858266441,
          "variable": "FUNDFAIR"
         },
         {
          "Year": 2132,
          "value": 4.9537760650263545,
          "variable": "FUNDFAIR"
         },
         {
          "Year": 2133,
          "value": 4.9895128525930454,
          "variable": "FUNDFAIR"
         },
         {
          "Year": 2134,
          "value": 5.023277608726795,
          "variable": "FUNDFAIR"
         },
         {
          "Year": 2135,
          "value": 5.053556767320751,
          "variable": "FUNDFAIR"
         },
         {
          "Year": 2136,
          "value": 5.080306958612264,
          "variable": "FUNDFAIR"
         },
         {
          "Year": 2137,
          "value": 5.105150055948728,
          "variable": "FUNDFAIR"
         },
         {
          "Year": 2138,
          "value": 5.129517297101276,
          "variable": "FUNDFAIR"
         },
         {
          "Year": 2139,
          "value": 5.153688761267046,
          "variable": "FUNDFAIR"
         },
         {
          "Year": 2140,
          "value": 5.178283652694676,
          "variable": "FUNDFAIR"
         },
         {
          "Year": 2141,
          "value": 5.204472738122441,
          "variable": "FUNDFAIR"
         },
         {
          "Year": 2142,
          "value": 5.232734244321547,
          "variable": "FUNDFAIR"
         },
         {
          "Year": 2143,
          "value": 5.2614928643432135,
          "variable": "FUNDFAIR"
         },
         {
          "Year": 2144,
          "value": 5.289657377363895,
          "variable": "FUNDFAIR"
         },
         {
          "Year": 2145,
          "value": 5.316874856898034,
          "variable": "FUNDFAIR"
         },
         {
          "Year": 2146,
          "value": 5.3419872711599155,
          "variable": "FUNDFAIR"
         },
         {
          "Year": 2147,
          "value": 5.365508818642914,
          "variable": "FUNDFAIR"
         },
         {
          "Year": 2148,
          "value": 5.387954968269292,
          "variable": "FUNDFAIR"
         },
         {
          "Year": 2149,
          "value": 5.409246291283432,
          "variable": "FUNDFAIR"
         },
         {
          "Year": 2150,
          "value": 5.430031354633167,
          "variable": "FUNDFAIR"
         },
         {
          "Year": 2151,
          "value": 5.450705612383806,
          "variable": "FUNDFAIR"
         },
         {
          "Year": 2152,
          "value": 5.472370553740366,
          "variable": "FUNDFAIR"
         },
         {
          "Year": 2153,
          "value": 5.496563038290937,
          "variable": "FUNDFAIR"
         },
         {
          "Year": 2154,
          "value": 5.523020402744674,
          "variable": "FUNDFAIR"
         },
         {
          "Year": 2155,
          "value": 5.549149167468771,
          "variable": "FUNDFAIR"
         },
         {
          "Year": 2156,
          "value": 5.573268657178177,
          "variable": "FUNDFAIR"
         },
         {
          "Year": 2157,
          "value": 5.594878206359478,
          "variable": "FUNDFAIR"
         },
         {
          "Year": 2158,
          "value": 5.613431724719535,
          "variable": "FUNDFAIR"
         },
         {
          "Year": 2159,
          "value": 5.62937419158571,
          "variable": "FUNDFAIR"
         },
         {
          "Year": 2160,
          "value": 5.6439175826744545,
          "variable": "FUNDFAIR"
         },
         {
          "Year": 2161,
          "value": 5.65840841601802,
          "variable": "FUNDFAIR"
         },
         {
          "Year": 2162,
          "value": 5.674318146305838,
          "variable": "FUNDFAIR"
         },
         {
          "Year": 2163,
          "value": 5.693126397662376,
          "variable": "FUNDFAIR"
         },
         {
          "Year": 2164,
          "value": 5.714976388778142,
          "variable": "FUNDFAIR"
         },
         {
          "Year": 2165,
          "value": 5.736453674552605,
          "variable": "FUNDFAIR"
         },
         {
          "Year": 2166,
          "value": 5.756089813053818,
          "variable": "FUNDFAIR"
         },
         {
          "Year": 2167,
          "value": 5.772860904663357,
          "variable": "FUNDFAIR"
         },
         {
          "Year": 2168,
          "value": 5.785842088352126,
          "variable": "FUNDFAIR"
         },
         {
          "Year": 2169,
          "value": 5.7966841292033475,
          "variable": "FUNDFAIR"
         },
         {
          "Year": 2170,
          "value": 5.806559006097676,
          "variable": "FUNDFAIR"
         },
         {
          "Year": 2171,
          "value": 5.816391144823427,
          "variable": "FUNDFAIR"
         },
         {
          "Year": 2172,
          "value": 5.827202827752097,
          "variable": "FUNDFAIR"
         },
         {
          "Year": 2173,
          "value": 5.840532469002448,
          "variable": "FUNDFAIR"
         },
         {
          "Year": 2174,
          "value": 5.856094926373274,
          "variable": "FUNDFAIR"
         },
         {
          "Year": 2175,
          "value": 5.872530942234616,
          "variable": "FUNDFAIR"
         },
         {
          "Year": 2176,
          "value": 5.888597197425566,
          "variable": "FUNDFAIR"
         },
         {
          "Year": 2177,
          "value": 5.902553129742406,
          "variable": "FUNDFAIR"
         },
         {
          "Year": 2178,
          "value": 5.913525451602277,
          "variable": "FUNDFAIR"
         },
         {
          "Year": 2179,
          "value": 5.922266357152517,
          "variable": "FUNDFAIR"
         },
         {
          "Year": 2180,
          "value": 5.929601433813262,
          "variable": "FUNDFAIR"
         },
         {
          "Year": 2181,
          "value": 5.936049864794851,
          "variable": "FUNDFAIR"
         },
         {
          "Year": 2182,
          "value": 5.94212795136189,
          "variable": "FUNDFAIR"
         },
         {
          "Year": 2183,
          "value": 5.948187625218264,
          "variable": "FUNDFAIR"
         },
         {
          "Year": 2184,
          "value": 5.954819701219734,
          "variable": "FUNDFAIR"
         },
         {
          "Year": 2185,
          "value": 5.962778722874047,
          "variable": "FUNDFAIR"
         },
         {
          "Year": 2186,
          "value": 5.973305402560491,
          "variable": "FUNDFAIR"
         },
         {
          "Year": 2187,
          "value": 5.985194059773875,
          "variable": "FUNDFAIR"
         },
         {
          "Year": 2188,
          "value": 5.9968895308144585,
          "variable": "FUNDFAIR"
         },
         {
          "Year": 2189,
          "value": 6.008447867796372,
          "variable": "FUNDFAIR"
         },
         {
          "Year": 2190,
          "value": 6.018046911625633,
          "variable": "FUNDFAIR"
         },
         {
          "Year": 2191,
          "value": 6.024701293559258,
          "variable": "FUNDFAIR"
         },
         {
          "Year": 2192,
          "value": 6.029552299149951,
          "variable": "FUNDFAIR"
         },
         {
          "Year": 2193,
          "value": 6.033790520463775,
          "variable": "FUNDFAIR"
         },
         {
          "Year": 2194,
          "value": 6.038085926101759,
          "variable": "FUNDFAIR"
         },
         {
          "Year": 2195,
          "value": 6.043087586334345,
          "variable": "FUNDFAIR"
         },
         {
          "Year": 2196,
          "value": 6.050322000249983,
          "variable": "FUNDFAIR"
         },
         {
          "Year": 2197,
          "value": 6.060425952751897,
          "variable": "FUNDFAIR"
         },
         {
          "Year": 2198,
          "value": 6.072032192032166,
          "variable": "FUNDFAIR"
         },
         {
          "Year": 2199,
          "value": 6.082653945819633,
          "variable": "FUNDFAIR"
         },
         {
          "Year": 2200,
          "value": 6.09077229786255,
          "variable": "FUNDFAIR"
         },
         {
          "Year": 2201,
          "value": 6.0959302579875585,
          "variable": "FUNDFAIR"
         },
         {
          "Year": 2202,
          "value": 6.099035470734538,
          "variable": "FUNDFAIR"
         },
         {
          "Year": 2203,
          "value": 6.101405443814254,
          "variable": "FUNDFAIR"
         },
         {
          "Year": 2204,
          "value": 6.102967545208378,
          "variable": "FUNDFAIR"
         },
         {
          "Year": 2205,
          "value": 6.104075228168209,
          "variable": "FUNDFAIR"
         },
         {
          "Year": 2206,
          "value": 6.105193286605346,
          "variable": "FUNDFAIR"
         },
         {
          "Year": 2207,
          "value": 6.106918345631301,
          "variable": "FUNDFAIR"
         },
         {
          "Year": 2208,
          "value": 6.110400842068351,
          "variable": "FUNDFAIR"
         },
         {
          "Year": 2209,
          "value": 6.115969114665415,
          "variable": "FUNDFAIR"
         },
         {
          "Year": 2210,
          "value": 6.12295524194155,
          "variable": "FUNDFAIR"
         },
         {
          "Year": 2211,
          "value": 6.12990007432639,
          "variable": "FUNDFAIR"
         },
         {
          "Year": 2212,
          "value": 6.13588117190183,
          "variable": "FUNDFAIR"
         },
         {
          "Year": 2213,
          "value": 6.140223387383623,
          "variable": "FUNDFAIR"
         },
         {
          "Year": 2214,
          "value": 6.142956716662759,
          "variable": "FUNDFAIR"
         },
         {
          "Year": 2215,
          "value": 6.143963785688481,
          "variable": "FUNDFAIR"
         },
         {
          "Year": 2216,
          "value": 6.1434193943021045,
          "variable": "FUNDFAIR"
         },
         {
          "Year": 2217,
          "value": 6.142834787174491,
          "variable": "FUNDFAIR"
         },
         {
          "Year": 2218,
          "value": 6.143017359797933,
          "variable": "FUNDFAIR"
         },
         {
          "Year": 2219,
          "value": 6.14482698829053,
          "variable": "FUNDFAIR"
         },
         {
          "Year": 2220,
          "value": 6.149231534159036,
          "variable": "FUNDFAIR"
         },
         {
          "Year": 2221,
          "value": 6.155750780611768,
          "variable": "FUNDFAIR"
         },
         {
          "Year": 2222,
          "value": 6.164057279302805,
          "variable": "FUNDFAIR"
         },
         {
          "Year": 2223,
          "value": 6.1718117199968,
          "variable": "FUNDFAIR"
         },
         {
          "Year": 2224,
          "value": 6.176369209027582,
          "variable": "FUNDFAIR"
         },
         {
          "Year": 2225,
          "value": 6.178107182318926,
          "variable": "FUNDFAIR"
         },
         {
          "Year": 2226,
          "value": 6.177559144103346,
          "variable": "FUNDFAIR"
         },
         {
          "Year": 2227,
          "value": 6.175987316188916,
          "variable": "FUNDFAIR"
         },
         {
          "Year": 2228,
          "value": 6.17430700955752,
          "variable": "FUNDFAIR"
         },
         {
          "Year": 2229,
          "value": 6.173473887394311,
          "variable": "FUNDFAIR"
         },
         {
          "Year": 2230,
          "value": 6.1751568206726555,
          "variable": "FUNDFAIR"
         },
         {
          "Year": 2231,
          "value": 6.179064554709793,
          "variable": "FUNDFAIR"
         },
         {
          "Year": 2232,
          "value": 6.183536984755191,
          "variable": "FUNDFAIR"
         },
         {
          "Year": 2233,
          "value": 6.188091786474375,
          "variable": "FUNDFAIR"
         },
         {
          "Year": 2234,
          "value": 6.191777906125806,
          "variable": "FUNDFAIR"
         },
         {
          "Year": 2235,
          "value": 6.193741235970543,
          "variable": "FUNDFAIR"
         },
         {
          "Year": 2236,
          "value": 6.193701327340613,
          "variable": "FUNDFAIR"
         },
         {
          "Year": 2237,
          "value": 6.192220620365974,
          "variable": "FUNDFAIR"
         },
         {
          "Year": 2238,
          "value": 6.190530378318401,
          "variable": "FUNDFAIR"
         },
         {
          "Year": 2239,
          "value": 6.189255043284234,
          "variable": "FUNDFAIR"
         },
         {
          "Year": 2240,
          "value": 6.18930372266579,
          "variable": "FUNDFAIR"
         },
         {
          "Year": 2241,
          "value": 6.191971527781523,
          "variable": "FUNDFAIR"
         },
         {
          "Year": 2242,
          "value": 6.197420068617233,
          "variable": "FUNDFAIR"
         },
         {
          "Year": 2243,
          "value": 6.203508240559865,
          "variable": "FUNDFAIR"
         },
         {
          "Year": 2244,
          "value": 6.208433684846456,
          "variable": "FUNDFAIR"
         },
         {
          "Year": 2245,
          "value": 6.211121122948269,
          "variable": "FUNDFAIR"
         },
         {
          "Year": 2246,
          "value": 6.211158248596909,
          "variable": "FUNDFAIR"
         },
         {
          "Year": 2247,
          "value": 6.209781989941053,
          "variable": "FUNDFAIR"
         },
         {
          "Year": 2248,
          "value": 6.207635043263037,
          "variable": "FUNDFAIR"
         },
         {
          "Year": 2249,
          "value": 6.204917342375776,
          "variable": "FUNDFAIR"
         },
         {
          "Year": 2250,
          "value": 6.2021508752356045,
          "variable": "FUNDFAIR"
         },
         {
          "Year": 2251,
          "value": 6.19972123082642,
          "variable": "FUNDFAIR"
         },
         {
          "Year": 2252,
          "value": 6.198439305047579,
          "variable": "FUNDFAIR"
         },
         {
          "Year": 2253,
          "value": 6.199277436469851,
          "variable": "FUNDFAIR"
         },
         {
          "Year": 2254,
          "value": 6.202546131880448,
          "variable": "FUNDFAIR"
         },
         {
          "Year": 2255,
          "value": 6.20679208077705,
          "variable": "FUNDFAIR"
         },
         {
          "Year": 2256,
          "value": 6.210936203318276,
          "variable": "FUNDFAIR"
         },
         {
          "Year": 2257,
          "value": 6.214576062651342,
          "variable": "FUNDFAIR"
         },
         {
          "Year": 2258,
          "value": 6.216700206496644,
          "variable": "FUNDFAIR"
         },
         {
          "Year": 2259,
          "value": 6.217357437583596,
          "variable": "FUNDFAIR"
         },
         {
          "Year": 2260,
          "value": 6.216566542867156,
          "variable": "FUNDFAIR"
         },
         {
          "Year": 2261,
          "value": 6.214760133595969,
          "variable": "FUNDFAIR"
         },
         {
          "Year": 2262,
          "value": 6.213372092939786,
          "variable": "FUNDFAIR"
         },
         {
          "Year": 2263,
          "value": 6.2130926068030154,
          "variable": "FUNDFAIR"
         },
         {
          "Year": 2264,
          "value": 6.214829812055844,
          "variable": "FUNDFAIR"
         },
         {
          "Year": 2265,
          "value": 6.219521747786722,
          "variable": "FUNDFAIR"
         },
         {
          "Year": 2266,
          "value": 6.226572312962861,
          "variable": "FUNDFAIR"
         },
         {
          "Year": 2267,
          "value": 6.235023463921237,
          "variable": "FUNDFAIR"
         },
         {
          "Year": 2268,
          "value": 6.242011288261356,
          "variable": "FUNDFAIR"
         },
         {
          "Year": 2269,
          "value": 6.245876663571078,
          "variable": "FUNDFAIR"
         },
         {
          "Year": 2270,
          "value": 6.247269393652473,
          "variable": "FUNDFAIR"
         },
         {
          "Year": 2271,
          "value": 6.246975495002849,
          "variable": "FUNDFAIR"
         },
         {
          "Year": 2272,
          "value": 6.24590688294782,
          "variable": "FUNDFAIR"
         },
         {
          "Year": 2273,
          "value": 6.245033716635134,
          "variable": "FUNDFAIR"
         },
         {
          "Year": 2274,
          "value": 6.245936671573142,
          "variable": "FUNDFAIR"
         },
         {
          "Year": 2275,
          "value": 6.2494868210292704,
          "variable": "FUNDFAIR"
         },
         {
          "Year": 2276,
          "value": 6.255113274759465,
          "variable": "FUNDFAIR"
         },
         {
          "Year": 2277,
          "value": 6.26103962652057,
          "variable": "FUNDFAIR"
         },
         {
          "Year": 2278,
          "value": 6.266115634078934,
          "variable": "FUNDFAIR"
         },
         {
          "Year": 2279,
          "value": 6.269851850371226,
          "variable": "FUNDFAIR"
         },
         {
          "Year": 2280,
          "value": 6.271504072960947,
          "variable": "FUNDFAIR"
         },
         {
          "Year": 2281,
          "value": 6.271629759400486,
          "variable": "FUNDFAIR"
         },
         {
          "Year": 2282,
          "value": 6.271557410072506,
          "variable": "FUNDFAIR"
         },
         {
          "Year": 2283,
          "value": 6.271845301221564,
          "variable": "FUNDFAIR"
         },
         {
          "Year": 2284,
          "value": 6.273312765712395,
          "variable": "FUNDFAIR"
         },
         {
          "Year": 2285,
          "value": 6.277363304118605,
          "variable": "FUNDFAIR"
         },
         {
          "Year": 2286,
          "value": 6.284381412517369,
          "variable": "FUNDFAIR"
         },
         {
          "Year": 2287,
          "value": 6.2926619580356045,
          "variable": "FUNDFAIR"
         },
         {
          "Year": 2288,
          "value": 6.300282624730538,
          "variable": "FUNDFAIR"
         },
         {
          "Year": 2289,
          "value": 6.304978601912681,
          "variable": "FUNDFAIR"
         },
         {
          "Year": 2290,
          "value": 6.307158679399894,
          "variable": "FUNDFAIR"
         },
         {
          "Year": 2291,
          "value": 6.3081555777630065,
          "variable": "FUNDFAIR"
         },
         {
          "Year": 2292,
          "value": 6.307861091047416,
          "variable": "FUNDFAIR"
         },
         {
          "Year": 2293,
          "value": 6.307087682180738,
          "variable": "FUNDFAIR"
         },
         {
          "Year": 2294,
          "value": 6.307147946414102,
          "variable": "FUNDFAIR"
         },
         {
          "Year": 2295,
          "value": 6.309743585563922,
          "variable": "FUNDFAIR"
         },
         {
          "Year": 2296,
          "value": 6.3151597093846,
          "variable": "FUNDFAIR"
         },
         {
          "Year": 2297,
          "value": 6.322715412681806,
          "variable": "FUNDFAIR"
         },
         {
          "Year": 2298,
          "value": 6.330651546206311,
          "variable": "FUNDFAIR"
         },
         {
          "Year": 2299,
          "value": 6.336511263600717,
          "variable": "FUNDFAIR"
         },
         {
          "Year": 2300,
          "value": 6.339735810571489,
          "variable": "FUNDFAIR"
         }
        ]
       },
       "encoding": {
        "color": {
         "field": "variable",
         "type": "nominal"
        },
        "x": {
         "field": "Year",
         "type": "quantitative"
        },
        "y": {
         "field": "value",
         "type": "quantitative"
        }
       },
       "mark": "line"
      },
      "image/png": "[encoded data removed]",
      "image/svg+xml": "<?xml version=\"1.0\" encoding=\"utf-8\"?>\n<!DOCTYPE svg PUBLIC \"-//W3C//DTD SVG 1.1//EN\" \"http://www.w3.org/Graphics/SVG/1.1/DTD/svg11.dtd\">\n<svg xmlns=\"http://www.w3.org/2000/svg\" xmlns:xlink=\"http://www.w3.org/1999/xlink\" version=\"1.1\" class=\"marks\" width=\"323\" height=\"242\" viewBox=\"0 0 323 242\"><rect width=\"323\" height=\"242\" fill=\"white\"/><g fill=\"none\" stroke-miterlimit=\"10\" transform=\"translate(33,5)\"><g class=\"mark-group role-frame root\" role=\"graphics-object\" aria-roledescription=\"group mark container\"><g transform=\"translate(0,0)\"><path class=\"background\" aria-hidden=\"true\" d=\"M0.5,0.5h200v200h-200Z\" stroke=\"#ddd\"/><g><g class=\"mark-group role-axis\" aria-hidden=\"true\"><g transform=\"translate(0.5,200.5)\"><path class=\"background\" aria-hidden=\"true\" d=\"M0,0h0v0h0Z\" pointer-events=\"none\"/><g><g class=\"mark-rule role-axis-grid\" pointer-events=\"none\"><line transform=\"translate(18,-200)\" x2=\"0\" y2=\"200\" stroke=\"#ddd\" stroke-width=\"1\" opacity=\"1\"/><line transform=\"translate(55,-200)\" x2=\"0\" y2=\"200\" stroke=\"#ddd\" stroke-width=\"1\" opacity=\"1\"/><line transform=\"translate(91,-200)\" x2=\"0\" y2=\"200\" stroke=\"#ddd\" stroke-width=\"1\" opacity=\"1\"/><line transform=\"translate(127,-200)\" x2=\"0\" y2=\"200\" stroke=\"#ddd\" stroke-width=\"1\" opacity=\"1\"/><line transform=\"translate(164,-200)\" x2=\"0\" y2=\"200\" stroke=\"#ddd\" stroke-width=\"1\" opacity=\"1\"/><line transform=\"translate(200,-200)\" x2=\"0\" y2=\"200\" stroke=\"#ddd\" stroke-width=\"1\" opacity=\"1\"/></g></g><path class=\"foreground\" aria-hidden=\"true\" d=\"\" pointer-events=\"none\" display=\"none\"/></g></g><g class=\"mark-group role-axis\" aria-hidden=\"true\"><g transform=\"translate(0.5,0.5)\"><path class=\"background\" aria-hidden=\"true\" d=\"M0,0h0v0h0Z\" pointer-events=\"none\"/><g><g class=\"mark-rule role-axis-grid\" pointer-events=\"none\"><line transform=\"translate(0,180)\" x2=\"200\" y2=\"0\" stroke=\"#ddd\" stroke-width=\"1\" opacity=\"1\"/><line transform=\"translate(0,140)\" x2=\"200\" y2=\"0\" stroke=\"#ddd\" stroke-width=\"1\" opacity=\"1\"/><line transform=\"translate(0,100)\" x2=\"200\" y2=\"0\" stroke=\"#ddd\" stroke-width=\"1\" opacity=\"1\"/><line transform=\"translate(0,60)\" x2=\"200\" y2=\"0\" stroke=\"#ddd\" stroke-width=\"1\" opacity=\"1\"/><line transform=\"translate(0,20)\" x2=\"200\" y2=\"0\" stroke=\"#ddd\" stroke-width=\"1\" opacity=\"1\"/></g></g><path class=\"foreground\" aria-hidden=\"true\" d=\"\" pointer-events=\"none\" display=\"none\"/></g></g><g class=\"mark-group role-axis\" role=\"graphics-symbol\" aria-roledescription=\"axis\" aria-label=\"X-axis titled 'Year' for a linear scale with values from 1,750 to 2,300\"><g transform=\"translate(0.5,200.5)\"><path class=\"background\" aria-hidden=\"true\" d=\"M0,0h0v0h0Z\" pointer-events=\"none\"/><g><g class=\"mark-rule role-axis-tick\" pointer-events=\"none\"><line transform=\"translate(18,0)\" x2=\"0\" y2=\"5\" stroke=\"#888\" stroke-width=\"1\" opacity=\"1\"/><line transform=\"translate(55,0)\" x2=\"0\" y2=\"5\" stroke=\"#888\" stroke-width=\"1\" opacity=\"1\"/><line transform=\"translate(91,0)\" x2=\"0\" y2=\"5\" stroke=\"#888\" stroke-width=\"1\" opacity=\"1\"/><line transform=\"translate(127,0)\" x2=\"0\" y2=\"5\" stroke=\"#888\" stroke-width=\"1\" opacity=\"1\"/><line transform=\"translate(164,0)\" x2=\"0\" y2=\"5\" stroke=\"#888\" stroke-width=\"1\" opacity=\"1\"/><line transform=\"translate(200,0)\" x2=\"0\" y2=\"5\" stroke=\"#888\" stroke-width=\"1\" opacity=\"1\"/></g><g class=\"mark-text role-axis-label\" pointer-events=\"none\"><text text-anchor=\"middle\" transform=\"translate(18.181818181818183,15)\" font-family=\"sans-serif\" font-size=\"10px\" fill=\"#000\" opacity=\"1\">1,800</text><text text-anchor=\"middle\" transform=\"translate(54.54545454545454,15)\" font-family=\"sans-serif\" font-size=\"10px\" fill=\"#000\" opacity=\"0\">1,900</text><text text-anchor=\"middle\" transform=\"translate(90.9090909090909,15)\" font-family=\"sans-serif\" font-size=\"10px\" fill=\"#000\" opacity=\"1\">2,000</text><text text-anchor=\"middle\" transform=\"translate(127.27272727272727,15)\" font-family=\"sans-serif\" font-size=\"10px\" fill=\"#000\" opacity=\"0\">2,100</text><text text-anchor=\"middle\" transform=\"translate(163.63636363636365,15)\" font-family=\"sans-serif\" font-size=\"10px\" fill=\"#000\" opacity=\"1\">2,200</text><text text-anchor=\"end\" transform=\"translate(200,15)\" font-family=\"sans-serif\" font-size=\"10px\" fill=\"#000\" opacity=\"0\">2,300</text></g><g class=\"mark-rule role-axis-domain\" pointer-events=\"none\"><line transform=\"translate(0,0)\" x2=\"200\" y2=\"0\" stroke=\"#888\" stroke-width=\"1\" opacity=\"1\"/></g><g class=\"mark-text role-axis-title\" pointer-events=\"none\"><text text-anchor=\"middle\" transform=\"translate(100,30)\" font-family=\"sans-serif\" font-size=\"11px\" font-weight=\"bold\" fill=\"#000\" opacity=\"1\">Year</text></g></g><path class=\"foreground\" aria-hidden=\"true\" d=\"\" pointer-events=\"none\" display=\"none\"/></g></g><g class=\"mark-group role-axis\" role=\"graphics-symbol\" aria-roledescription=\"axis\" aria-label=\"Y-axis titled 'value' for a linear scale with values from −1 to 9\"><g transform=\"translate(0.5,0.5)\"><path class=\"background\" aria-hidden=\"true\" d=\"M0,0h0v0h0Z\" pointer-events=\"none\"/><g><g class=\"mark-rule role-axis-tick\" pointer-events=\"none\"><line transform=\"translate(0,180)\" x2=\"-5\" y2=\"0\" stroke=\"#888\" stroke-width=\"1\" opacity=\"1\"/><line transform=\"translate(0,140)\" x2=\"-5\" y2=\"0\" stroke=\"#888\" stroke-width=\"1\" opacity=\"1\"/><line transform=\"translate(0,100)\" x2=\"-5\" y2=\"0\" stroke=\"#888\" stroke-width=\"1\" opacity=\"1\"/><line transform=\"translate(0,60)\" x2=\"-5\" y2=\"0\" stroke=\"#888\" stroke-width=\"1\" opacity=\"1\"/><line transform=\"translate(0,20)\" x2=\"-5\" y2=\"0\" stroke=\"#888\" stroke-width=\"1\" opacity=\"1\"/></g><g class=\"mark-text role-axis-label\" pointer-events=\"none\"><text text-anchor=\"end\" transform=\"translate(-7,183)\" font-family=\"sans-serif\" font-size=\"10px\" fill=\"#000\" opacity=\"1\">0</text><text text-anchor=\"end\" transform=\"translate(-7,143)\" font-family=\"sans-serif\" font-size=\"10px\" fill=\"#000\" opacity=\"1\">2</text><text text-anchor=\"end\" transform=\"translate(-7,103)\" font-family=\"sans-serif\" font-size=\"10px\" fill=\"#000\" opacity=\"1\">4</text><text text-anchor=\"end\" transform=\"translate(-7,63.00000000000001)\" font-family=\"sans-serif\" font-size=\"10px\" fill=\"#000\" opacity=\"1\">6</text><text text-anchor=\"end\" transform=\"translate(-7,22.999999999999996)\" font-family=\"sans-serif\" font-size=\"10px\" fill=\"#000\" opacity=\"1\">8</text></g><g class=\"mark-rule role-axis-domain\" pointer-events=\"none\"><line transform=\"translate(0,200)\" x2=\"0\" y2=\"-200\" stroke=\"#888\" stroke-width=\"1\" opacity=\"1\"/></g><g class=\"mark-text role-axis-title\" pointer-events=\"none\"><text text-anchor=\"middle\" transform=\"translate(-17,100) rotate(-90) translate(0,-2)\" font-family=\"sans-serif\" font-size=\"11px\" font-weight=\"bold\" fill=\"#000\" opacity=\"1\">value</text></g></g><path class=\"foreground\" aria-hidden=\"true\" d=\"\" pointer-events=\"none\" display=\"none\"/></g></g><g class=\"mark-group role-scope pathgroup\" role=\"graphics-object\" aria-roledescription=\"group mark container\"><g transform=\"translate(0,0)\"><path class=\"background\" aria-hidden=\"true\" d=\"M0,0h200v200h-200Z\"/><g><g class=\"mark-line role-mark marks\" role=\"graphics-object\" aria-roledescription=\"line mark container\"><path aria-label=\"Year: 1750; value: 0; variable: FUND\" role=\"graphics-symbol\" aria-roledescription=\"line mark\" d=\"M72.72727272727273,176L73.0909090909091,175.90749530426402L73.45454545454545,175.813036117187L73.81818181818181,175.71639717191468L74.18181818181819,175.61805264432022L74.54545454545455,175.51829581778583L74.90909090909092,175.41760134965764L75.27272727272727,175.31629015567313L75.63636363636364,175.21352171346982L76,175.10820840529593L76.36363636363637,174.99785184075037L76.72727272727272,174.88485348794987L77.0909090909091,174.7699632513348L77.45454545454545,174.65181444487578L77.81818181818181,174.53036248301714L78.18181818181819,174.40524585696494L78.54545454545455,174.27628423454965L78.9090909090909,174.1442034360078L79.27272727272727,174.00885169752834L79.63636363636364,173.86866447463086L80,173.72124796720092L80.36363636363636,173.56718036041565L80.72727272727272,173.4102889554267L81.0909090909091,173.25178899419203L81.45454545454545,173.09134220746648L81.81818181818183,172.92920637654393L82.18181818181817,172.76554826579817L82.54545454545455,172.6000226664437L82.9090909090909,172.431032303078L83.27272727272728,172.25759329447808L83.63636363636363,172.08207044272268L84,171.90547907014255L84.36363636363636,171.72641697155854L84.72727272727273,171.54489437145486L85.0909090909091,171.3601347240409L85.45454545454545,171.1712385703726L85.81818181818181,170.97827012635835L86.18181818181819,170.78180709483962L86.54545454545455,170.5814057867858L86.9090909090909,170.37600421849297L87.27272727272727,170.1645296859047L87.63636363636364,169.94701745498907L88,169.72451784915026L88.36363636363636,169.49634798408323L88.72727272727273,169.26157762451848L89.0909090909091,169.019887913454L89.45454545454545,168.77178949500916L89.81818181818181,168.52205474460828L90.18181818181819,168.2738717329288L90.54545454545455,168.0265751493814L90.9090909090909,167.78065851722147L91.27272727272727,167.533713589013L91.63636363636364,167.28272955077153L92,167.0276303632599L92.36363636363636,166.76823337561126L92.72727272727272,166.50261452185595L93.0909090909091,166.2274639706537L93.45454545454545,165.94131876948038L93.81818181818183,165.64422454849347L94.18181818181817,165.33626475809683L94.54545454545455,165.01882698986697L94.9090909090909,164.6943033089399L95.27272727272728,164.3636871084536L95.63636363636364,164.02678320001405L96,163.68342081865788L96.36363636363636,163.33340487428515L96.72727272727273,162.97662848013053L97.0909090909091,162.61298977037313L97.45454545454545,162.24239999472601L97.81818181818181,161.86477117710302L98.18181818181819,161.47967291409313L98.54545454545455,161.0863454225955L98.9090909090909,160.68437100699353L99.27272727272727,160.2737369866129L99.63636363636364,159.8544232863095L100,159.426422765543L100.36363636363636,158.98972222992717L100.72727272727273,158.54435138227726L101.0909090909091,158.09036406164418L101.45454545454547,157.6278097995101L101.81818181818181,157.1561967002698L102.18181818181817,156.67432994240747L102.54545454545453,156.18169563264524L102.9090909090909,155.67838558999628L103.27272727272727,155.16449604292498L103.63636363636364,154.64018452011396L104,154.10546909193525L104.36363636363637,153.56044838577546L104.72727272727273,153.00520724537753L105.09090909090911,152.43983552912906L105.45454545454544,151.86465314796217L105.81818181818181,151.2800182348346L106.18181818181817,150.68614803223403L106.54545454545455,150.0831110262665L106.9090909090909,149.47095552567583L107.27272727272728,148.8497659667741L107.63636363636364,148.21958693694438L108,147.58057637329128L108.36363636363637,146.93286326988294L108.72727272727272,146.27656691907686L109.09090909090908,145.61233445929824L109.45454545454545,144.94106006209879L109.81818181818181,144.26315917716667L110.18181818181819,143.57858725565956L110.54545454545455,142.8873016898562L110.9090909090909,142.1892618105393L111.27272727272728,141.484496529219L111.63636363636364,140.77308893269773L112.00000000000001,140.05511398621746L112.36363636363636,139.33061903011017L112.72727272727272,138.59982078149315L113.0909090909091,137.86296246090708L113.45454545454545,137.1202249915787L113.81818181818181,136.37166771858162L114.18181818181819,135.617355720443L114.54545454545455,134.85739726153088L114.90909090909092,134.0917843072135L115.27272727272728,133.32050780221107L115.63636363636363,132.54355792124443L115.99999999999999,131.7609311201063L116.36363636363636,130.97271766755568L116.72727272727272,130.17907750228625L117.0909090909091,129.3801484565645L117.45454545454545,128.5759920531943L117.81818181818183,127.76666848881615L118.18181818181819,126.95225742862365L118.54545454545456,126.13276546181564L118.90909090909092,125.30833890810284L119.27272727272727,124.47911156730531L119.63636363636363,123.64522257404L120,122.80660689367852L120.36363636363636,121.9625827034916L120.72727272727273,121.11290537437243L121.0909090909091,120.2576583959793L121.45454545454545,119.39693574437142L121.81818181818183,118.53092763308743L122.18181818181819,117.65965615302633L122.54545454545453,116.78326825881862L122.9090909090909,115.9019411611949L123.27272727272727,115.01581731541162L123.63636363636363,114.12547886714088L124,113.23158842554713L124.36363636363636,112.33457428801646L124.72727272727273,111.43455701772993L125.0909090909091,110.53164989836462L125.45454545454547,109.62607438582937L125.81818181818183,108.71782860400592L126.18181818181817,107.80707378569096L126.54545454545453,106.89397708825439L126.9090909090909,105.97869939840261L127.27272727272727,105.0618022519453L127.63636363636364,104.14392844174371L128,103.2254416752195L128.36363636363637,102.30645399190021L128.72727272727275,101.38708555114687L129.0909090909091,100.4674668985979L129.45454545454544,99.54773549999717L129.8181818181818,98.6280566578406L130.1818181818182,97.70859013081719L130.54545454545453,96.78952445660704L130.9090909090909,95.87102682539785L131.27272727272728,94.9532948320982L131.63636363636363,94.03651111632134L132,93.12088005351436L132.36363636363637,92.20659697033342L132.72727272727275,91.29386362049594L133.0909090909091,90.38288008237349L133.45454545454544,89.47386065414622L133.8181818181818,88.56700985242796L134.1818181818182,87.66254552604566L134.54545454545453,86.76068612331498L134.9090909090909,85.86163259389818L135.27272727272728,84.96560306625211L135.63636363636365,84.07280350159567L136,83.18345404272127L136.36363636363635,82.29776690117059L136.72727272727272,81.41595772280309L137.0909090909091,80.53823323600238L137.45454545454544,79.6648014099579L137.8181818181818,78.79587020925283L138.1818181818182,77.93163871147506L138.54545454545456,77.07231287504625L138.9090909090909,76.21809526953389L139.27272727272728,75.36917794449613L139.63636363636365,74.52575900540346L140,73.68802395629046L140.36363636363635,72.85614974393708L140.72727272727272,72.03031915682074L141.0909090909091,71.21071110497014L141.45454545454547,70.39750808811156L141.8181818181818,69.59087376205248L142.1818181818182,68.79096117868325L142.54545454545456,67.99793517103451L142.9090909090909,67.21194541791478L143.27272727272725,66.43313493884612L143.63636363636363,65.66165274839695L144,64.89762241570132L144.36363636363637,64.14119846871573L144.72727272727272,63.392503171093665L145.0909090909091,62.65164971553374L145.45454545454547,61.91874582812249L145.8181818181818,61.1939117583683L146.1818181818182,60.4772544920432L146.54545454545456,59.76886860857664L146.9090909090909,59.06883975236805L147.27272727272725,58.377239151887665L147.63636363636363,57.694145373453495L148,57.01962039222892L148.36363636363637,56.35371579907584L148.72727272727272,55.69650341812442L149.0909090909091,55.04801485890525L149.45454545454547,54.408291962150955L149.81818181818184,53.7773708730779L150.18181818181816,53.15527692378992L150.54545454545453,52.54203055527431L150.9090909090909,51.937654930253615L151.27272727272728,51.34215685311825L151.63636363636363,50.755548844487606L152,50.17782934208219L152.36363636363637,49.60899650732169L152.72727272727275,49.04904363276186L153.0909090909091,48.49797192272409L153.45454545454544,47.95574520691566L153.8181818181818,47.42234591281726L154.1818181818182,46.89774527631716L154.54545454545453,46.3819214333304L154.9090909090909,45.874836989116005L155.27272727272728,45.376455328747454L155.63636363636363,44.886736348702414L156,44.40563155101569L156.36363636363637,43.93309165192267L156.72727272727275,43.46905770469891L157.0909090909091,43.01348087676278L157.45454545454544,42.56629459054317L157.8181818181818,42.12743986269365L158.1818181818182,41.69686523392209L158.54545454545453,41.27449648924391L158.9090909090909,40.86027013453912L159.27272727272728,40.454109572478856L159.63636363636365,40.05594049823835L160,39.66568642256358L160.36363636363635,39.283262540070815L160.72727272727272,38.90860553082312L161.0909090909091,38.54162581691003L161.45454545454544,38.1822433321096L161.8181818181818,37.83036568932629L162.1818181818182,37.4859120877467L162.54545454545456,37.14879168983132L162.9090909090909,36.81892494543959L163.27272727272728,36.49621397283869L163.63636363636365,36.180564759900236L164,35.87182751246032L164.36363636363635,35.56986366743124L164.72727272727272,35.27452485394931L165.0909090909091,34.98567034946141L165.45454545454547,34.70316059065652L165.8181818181818,34.42686918134108L166.1818181818182,34.156649371770655L166.54545454545456,33.89238863266786L166.9090909090909,33.63395549960948L167.27272727272725,33.381229755702655L167.63636363636363,33.13409346985079L168,32.892415237297776L168.36363636363637,32.656079054071796L168.72727272727272,32.42497932077668L169.0909090909091,32.19901008718033L169.45454545454547,31.978049376991603L169.8181818181818,31.761994287911154L170.1818181818182,31.550741887285128L170.54545454545456,31.344189150912104L170.9090909090909,31.14224314880889L171.27272727272725,30.944794769461616L171.63636363636363,30.751743861987112L172,30.563008362339517L172.36363636363637,30.37848764693052L172.72727272727272,30.19809876986379L173.0909090909091,30.021748399937252L173.45454545454547,29.84934383205129L173.8181818181818,29.680804456413767L174.18181818181816,29.516047276164702L174.54545454545453,29.354996959467172L174.9090909090909,29.197569591664376L175.27272727272728,29.04369884930631L175.63636363636363,28.893307415335556L176,28.746308363620308L176.36363636363637,28.60262890473788L176.72727272727272,28.46219789153217L177.0909090909091,28.32495114880007L177.45454545454547,28.19082718533743L177.8181818181818,28.059746350069226L178.1818181818182,27.931650765064187L178.54545454545453,27.806479406252006L178.9090909090909,27.684170438499002L179.27272727272728,27.564663158535584L179.63636363636363,27.447888616571525L180,27.33379139558032L180.36363636363637,27.222317006619924L180.72727272727275,27.11340438255405L181.0909090909091,27.006995712620597L181.45454545454544,26.90301917199378L181.8181818181818,26.801433843832L182.1818181818182,26.702191290070367L182.54545454545453,26.60524016491863L182.9090909090909,26.510528444187354L183.27272727272728,26.418012707889705L183.63636363636365,26.327640736356873L184,26.239376588349515L184.36363636363637,26.153173174140566L184.72727272727272,26.068968023651774L185.0909090909091,25.986725299486004L185.45454545454544,25.906405532371537L185.8181818181818,25.827962355603653L186.1818181818182,25.751357994692903L186.54545454545456,25.67654414486227L186.9090909090909,25.60348517754911L187.27272727272728,25.532149564237127L187.63636363636365,25.46249675226555L188,25.394485438392735L188.36363636363635,25.328090037754556L188.72727272727272,25.263268322450184L189.0909090909091,25.19999021328281L189.45454545454544,25.138211374161166L189.8181818181818,25.077898076469253L190.1818181818182,25.019017244184163L190.54545454545456,24.96153300239612L190.9090909090909,24.90542658214323L191.27272727272728,24.850655323758055L191.63636363636363,24.79719988154152L192,24.745027879832904L192.36363636363635,24.694111293982356L192.72727272727272,24.644415405079776L193.0909090909091,24.595913732156795L193.45454545454547,24.548578454935278L193.8181818181818,24.50238407563439L194.1818181818182,24.45730188744186L194.54545454545456,24.41331628725294L194.9090909090909,24.37038307398549L195.27272727272725,24.328492187913795L195.63636363636363,24.287615037248898L196,24.247730781393173L196.36363636363637,24.208813371595774L196.72727272727272,24.170833934956846L197.0909090909091,24.13377341890208L197.45454545454547,24.0976198357393L197.8181818181818,24.062336319517684L198.1818181818182,24.027905429714423L198.54545454545453,23.99431323501744L198.9090909090909,23.961538598250478L199.27272727272728,23.929571217694836L199.63636363636363,23.898386377155354L200,23.867960022994914\" stroke=\"#f58518\" stroke-width=\"2\"/></g></g><path class=\"foreground\" aria-hidden=\"true\" d=\"\" display=\"none\"/></g><g transform=\"translate(0,0)\"><path class=\"background\" aria-hidden=\"true\" d=\"M0,0h200v200h-200Z\"/><g><g class=\"mark-line role-mark marks\" role=\"graphics-object\" aria-roledescription=\"line mark container\"><path aria-label=\"Year: 1750; value: 0.0053671258205; variable: FAIR\" role=\"graphics-symbol\" aria-roledescription=\"line mark\" d=\"M0,179.89265748359L0.36363636363636365,179.30914087458865L0.7272727272727273,178.90464276668357L1.090909090909091,178.65904998267843L1.4545454545454546,178.54240846475486L1.8181818181818181,178.54192679747234L2.181818181818182,178.88200384984748L2.5454545454545454,179.22705717244713L2.909090909090909,179.16728405395844L3.272727272727273,178.88442284374608L3.6363636363636362,178.54080244687626L4,178.23859446821461L4.363636363636364,179.15842872692343L4.7272727272727275,180.62242963202314L5.090909090909091,181.00838361226798L5.454545454545454,180.72812643502664L5.818181818181818,180.74292113127024L6.181818181818182,181.147444138221L6.545454545454546,181.11841010362295L6.909090909090909,180.5345049741607L7.2727272727272725,179.9767090710554L7.636363636363637,179.56181256317112L8,179.13170485105383L8.363636363636363,178.75849760368772L8.727272727272728,178.51410039406622L9.090909090909092,178.39161745536072L9.454545454545455,178.35020805763696L9.818181818181818,178.33077226592292L10.181818181818182,178.25725864888648L10.545454545454545,178.07179669254026L10.909090909090908,177.80426959131717L11.272727272727273,177.54907157744157L11.636363636363637,177.37528076561412L12,179.54489447282623L12.363636363636363,185.72862131196922L12.727272727272727,190.0808248324508L13.090909090909092,189.98518223779584L13.454545454545455,188.46124079956635L13.818181818181818,186.5070944157951L14.181818181818182,184.53799208075264L14.545454545454545,182.79606555814982L14.909090909090908,181.39771397819803L15.272727272727273,180.33515445677702L15.636363636363637,179.55921905627784L16,179.0272643807486L16.363636363636363,178.69099683842174L16.727272727272727,178.6667857017964L17.09090909090909,178.9810122310766L17.454545454545457,179.2490334005428L17.81818181818182,179.24549163869375L18.181818181818183,179.08475471748017L18.545454545454547,178.85634761061445L18.90909090909091,178.59726155455988L19.272727272727273,178.33935241267992L19.636363636363637,178.1112112248755L20,177.93627099833833L20.363636363636363,177.82112130182918L20.727272727272727,177.7638883326228L21.09090909090909,177.75904393643262L21.454545454545453,182.23218515071335L21.818181818181817,188.51554646357374L22.181818181818183,190.2033909590196L22.545454545454547,188.9208525421803L22.90909090909091,186.9631133970697L23.272727272727273,185.08683342161964L23.636363636363637,187.8733830196229L24,195.26414818016994L24.363636363636363,198.6239215788115L24.727272727272727,196.5993364617447L25.09090909090909,193.27211380912294L25.454545454545453,190.12069591823996L25.818181818181817,187.63908728169153L26.181818181818183,185.8075616064498L26.545454545454543,184.81547575645442L26.90909090909091,184.11902262096453L27.27272727272727,183.0796318245421L27.636363636363637,181.97845190384305L28.000000000000004,180.98004227655L28.363636363636363,180.1415556102823L28.72727272727273,179.48099000662612L29.09090909090909,178.99471114608957L29.454545454545457,181.69997517362125L29.818181818181817,185.72097654536287L30.181818181818183,186.68132812622943L30.545454545454547,185.69463809778443L30.909090909090907,186.47918540311397L31.272727272727273,188.1397005682919L31.636363636363633,187.6334686973632L32,185.88298964695747L32.36363636363636,184.05882570759198L32.72727272727273,182.5253963196339L33.09090909090909,181.34104718087997L33.45454545454545,180.4757193153128L33.81818181818182,179.86603323154867L34.18181818181818,179.43583671800906L34.54545454545455,179.1151978908418L34.909090909090914,179.07423324938452L35.27272727272727,179.1479585339042L35.63636363636364,179.00784949537524L36,178.73762132047113L36.36363636363637,178.45009726724854L36.72727272727273,178.19984690121024L37.09090909090909,178.01001832443123L37.45454545454546,178.07792964689284L37.81818181818182,178.3762138606261L38.18181818181819,178.50105570445766L38.54545454545455,178.44446417082577L38.90909090909091,178.5860288891295L39.27272727272727,178.6892566730367L39.63636363636363,178.49365949840842L40,178.20288009842312L40.36363636363636,178.02346692775282L40.72727272727273,178.88151628369823L41.090909090909086,179.94163379035456L41.45454545454545,179.98028402217577L41.81818181818181,179.5405674536557L42.18181818181818,179.03842844617705L42.54545454545455,178.59758174697765L42.90909090909091,178.2219938781078L43.27272727272727,177.88554144279672L43.63636363636363,177.59396045362217L44,177.3455707842282L44.36363636363637,177.1509476254302L44.72727272727273,177.28782357011735L45.09090909090909,177.48151137624268L45.45454545454545,177.47540114664815L45.81818181818182,177.4589702123109L46.18181818181818,177.3880936119281L46.54545454545455,177.26939494468576L46.909090909090914,177.15374345630394L47.27272727272727,177.09513062650717L47.63636363636364,177.05770402844465L48,176.9486868611155L48.36363636363637,177.61592980358836L48.72727272727273,180.467214426834L49.09090909090909,182.7186778601872L49.45454545454545,182.52971615094538L49.81818181818182,181.72481241081212L50.18181818181818,180.83021187112388L50.54545454545455,179.89447098136668L50.90909090909091,179.30680359269212L51.272727272727266,179.16445638524652L51.63636363636363,178.92178892336207L52,178.32498760193954L52.36363636363637,177.67015328909082L52.72727272727272,177.15323134154576L53.090909090909086,176.79613844785428L53.45454545454545,176.5584358531241L53.81818181818182,176.3926655843254L54.18181818181819,176.28005018914251L54.54545454545454,176.20558870553285L54.90909090909091,176.15540136537246L55.27272727272727,176.37706168279783L55.63636363636364,177.56040873831327L56.00000000000001,178.6340119742418L56.36363636363636,178.5507102433389L56.72727272727273,177.96374257392185L57.09090909090909,177.56352085875577L57.45454545454546,177.27716280118625L57.81818181818181,176.85024820726778L58.18181818181818,176.4683518319761L58.54545454545455,176.1861016180239L58.909090909090914,176.63303636499703L59.27272727272728,177.47943593590762L59.63636363636363,177.66036166494334L60,177.21534955314223L60.36363636363637,176.5870829436043L60.72727272727273,176.0088152509772L61.09090909090909,175.51177057894276L61.45454545454545,175.10735767125792L61.81818181818181,174.82838166096658L62.18181818181818,174.6286983878248L62.54545454545455,174.6294172632493L62.909090909090914,174.72599285377598L63.272727272727266,174.64239670792162L63.63636363636363,174.45087106240288L64,174.23528428985335L64.36363636363637,174.0057070091756L64.72727272727272,173.84990406449282L65.0909090909091,173.9909197557342L65.45454545454545,174.0169078876018L65.81818181818181,173.7690424248252L66.18181818181819,173.76264349963643L66.54545454545455,173.7755937880081L66.9090909090909,173.58800895278472L67.27272727272727,173.36605177546164L67.63636363636364,173.09925429271576L68,172.8278488212653L68.36363636363636,172.60086818024126L68.72727272727272,172.40945488335512L69.0909090909091,172.28724070482525L69.45454545454545,172.23076161036548L69.81818181818183,172.20836832388005L70.18181818181817,172.2076038633255L70.54545454545455,172.18926797350753L70.9090909090909,172.07462187420904L71.27272727272728,171.8793812083242L71.63636363636363,171.65473141813644L72,171.4148992336776L72.36363636363636,171.1996226030753L72.72727272727273,171.0696662588216L73.0909090909091,171.05353570661833L73.45454545454545,171.07048160693782L73.81818181818181,171.06311828202604L74.18181818181819,171.02437802867667L74.54545454545455,170.93289438028535L74.90909090909092,170.74266357924895L75.27272727272727,170.43006823119907L75.63636363636364,170.07379781231137L76,169.7860817556486L76.36363636363637,169.5888644487155L76.72727272727272,169.53220104842202L77.0909090909091,169.79568430776197L77.45454545454545,171.1888615368128L77.81818181818181,172.8823522133088L78.18181818181819,173.53863292194185L78.54545454545455,173.12474117476006L78.9090909090909,172.49559584125268L79.27272727272727,172.02488568313763L79.63636363636364,171.36148406708222L80,170.69452682922534L80.36363636363636,170.28244747802262L80.72727272727272,169.90841470712388L81.0909090909091,169.31564647560725L81.45454545454545,168.83114942945645L81.81818181818183,168.76880908780737L82.18181818181817,168.59600898672673L82.54545454545455,167.98188856261817L82.9090909090909,167.19480470632666L83.27272727272728,166.37706905552022L83.63636363636363,165.67825725867806L84,165.10498143964963L84.36363636363636,164.9952408529982L84.72727272727273,165.72175808225774L85.0909090909091,166.2085800745316L85.45454545454545,165.782331355562L85.81818181818181,165.09010928545163L86.18181818181819,164.3493175130351L86.54545454545455,163.4651316944228L86.9090909090909,162.46004353025882L87.27272727272727,161.48916808815835L87.63636363636364,161.43506365038044L88,163.4093012398787L88.36363636363636,165.06004204852925L88.72727272727273,164.49431475766238L89.0909090909091,163.05603314184384L89.45454545454545,161.61538427741775L89.81818181818181,160.31430006360154L90.18181818181819,159.1034743729717L90.54545454545455,157.95515735668545L90.9090909090909,156.90755624739168L91.27272727272727,156.01405157210704L91.63636363636364,155.24066989186562L92,154.64007904112472L92.36363636363636,154.20670749030668L92.72727272727272,153.879608948562L93.0909090909091,153.63162319647253L93.45454545454545,153.38008533123553L93.81818181818183,153.06830239757906L94.18181818181817,152.7198103486807L94.54545454545455,152.28519237544143L94.9090909090909,151.7862314177589L95.27272727272728,151.24770716562745L95.63636363636364,150.63211881870947L96,150.01707077471522L96.36363636363636,149.44263898296717L96.72727272727273,148.89925261255445L97.0909090909091,148.3403536821949L97.45454545454545,147.76612950593665L97.81818181818181,147.191207262284L98.18181818181819,146.6080803265361L98.54545454545455,146.00525847513177L98.9090909090909,145.36210704951117L99.27272727272727,144.69918397543827L99.63636363636364,144.0501496888651L100,143.4571419065952L100.36363636363636,142.93949909456876L100.72727272727273,142.48073776485236L101.0909090909091,142.04805809448575L101.45454545454547,141.62468853848412L101.81818181818181,141.1883370221732L102.18181818181817,140.71637601858828L102.54545454545453,140.20086592759296L102.9090909090909,139.61384839915874L103.27272727272727,138.92816864416838L103.63636363636364,138.18278968353948L104,137.40814888638275L104.36363636363637,136.63267055211747L104.72727272727273,135.86998338747537L105.09090909090911,135.12372866341886L105.45454545454544,134.41022512545334L105.81818181818181,133.71375370198905L106.18181818181817,133.0082169104252L106.54545454545455,132.2696932509609L106.9090909090909,131.48441045308144L107.27272727272728,130.62432403132834L107.63636363636364,129.69276872750916L108,128.7124942350618L108.36363636363637,127.71727509844686L108.72727272727272,126.76213195476629L109.09090909090908,125.87566873880138L109.45454545454545,125.03724193586436L109.81818181818181,124.21863257569208L110.18181818181819,123.40824490608908L110.54545454545455,122.58115710691852L110.9090909090909,121.70519659184127L111.27272727272728,120.76722081249551L111.63636363636364,119.80279174121893L112.00000000000001,118.83841596247424L112.36363636363636,117.87007664286686L112.72727272727272,116.92594631164881L113.0909090909091,116.01969746597422L113.45454545454545,115.13333581601147L113.81818181818181,114.2470578984625L114.18181818181819,113.34595355489292L114.54545454545455,112.41931370086627L114.90909090909092,111.4380828369718L115.27272727272728,110.39367841035659L115.63636363636363,109.31483220217962L115.99999999999999,108.24202925868285L116.36363636363636,107.2044234140958L116.72727272727272,106.20920108715619L117.0909090909091,105.23903914770275L117.45454545454545,104.27392349904075L117.81818181818183,103.31483340396161L118.18181818181819,102.35710482615583L118.54545454545456,101.39379392483305L118.90909090909092,100.41406680781104L119.27272727272727,99.39740324942177L119.63636363636363,98.33872191467073L120,97.25253252207241L120.36363636363636,96.16530301356252L120.72727272727273,95.09505238736837L121.0909090909091,94.05908866270907L121.45454545454545,93.05832878521241L121.81818181818183,92.09698356566531L122.18181818181819,91.17392774341278L122.54545454545453,90.26115720436746L122.9090909090909,89.34476301211613L123.27272727272727,88.40855027477059L123.63636363636363,87.43145475733971L124,86.42027345900716L124.36363636363636,85.38389877984156L124.72727272727273,84.36547514197817L125.0909090909091,83.41437084145569L125.45454545454547,82.52393939370945L125.81818181818183,81.68101419924287L126.18181818181817,80.86457548111663L126.54545454545453,80.05586026330822L126.9090909090909,79.23635482947957L127.27272727272727,78.37964985436994L127.63636363636364,77.48019505928505L128,76.57727612701339L128.36363636363637,75.70117212166222L128.72727272727275,74.85880056744551L129.0909090909091,74.0663625733563L129.45454545454544,73.31482737143014L129.8181818181818,72.58513440314314L130.1818181818182,71.8621446766411L130.54545454545453,71.12874293645484L130.9090909090909,70.36542770988102L131.27272727272728,69.54066239989372L131.63636363636363,68.69308280683535L132,67.87176817651766L132.36363636363637,67.10287006445222L132.72727272727275,66.38507353845544L133.0909090909091,65.70615634294339L133.45454545454544,65.06220196733355L133.8181818181818,64.43232389089366L134.1818181818182,63.80278297763806L134.54545454545453,63.14570039099583L134.9090909090909,62.436409872739816L135.27272727272728,61.67467418759838L135.63636363636365,60.92978458972893L136,60.22692192261587L136.36363636363635,59.569329469550446L136.72727272727272,58.97704109217503L137.0909090909091,58.420637485424805L137.45454545454544,57.879262233546044L137.8181818181818,57.33514627806209L138.1818181818182,56.75829391238989L138.54545454545456,56.10403439173108L138.9090909090909,55.40719874907041L139.27272727272728,54.721981771957196L139.63636363636365,54.07555326134859L140,53.497932804905865L140.36363636363635,52.989734719204826L140.72727272727272,52.51826602704441L141.0909090909091,52.05464904475121L141.45454545454547,51.59304093062784L141.8181818181818,51.120834347670986L142.1818181818182,50.614410447772016L142.54545454545456,50.06402205307472L142.9090909090909,49.50101486999361L143.27272727272725,48.947072353013255L143.63636363636363,48.40912460445299L144,47.91021118094434L144.36363636363637,47.439932042791824L144.72727272727272,46.98786610097956L145.0909090909091,46.55549692804997L145.45454545454547,46.12975760045364L145.8181818181818,45.70265424675395L146.1818181818182,45.2520923347961L146.54545454545456,44.74730032333885L146.9090909090909,44.1935246108466L147.27272727272725,43.64264932359983L147.63636363636363,43.12831734593008L148,42.66057613859866L148.36363636363637,42.25038008498843L148.72727272727272,41.88885923509418L149.0909090909091,41.551801808921816L149.45454545454547,41.21230652336922L149.81818181818184,40.84097932468107L150.18181818181816,40.40827289351454L150.54545454545453,39.91138122758655L150.9090909090909,39.4186656605235L151.27272727272728,38.95957648960091L151.63636363636363,38.554673117584315L152,38.2225284856466L152.36363636363637,37.930195817411416L152.72727272727275,37.65429855315929L153.0909090909091,37.37640900831145L153.45454545454544,37.07611273263232L153.8181818181818,36.72264606379208L154.1818181818182,36.32173183399796L154.54545454545453,35.900601504370265L154.9090909090909,35.484187362893785L155.27272727272728,35.10737823673129L155.63636363636363,34.78772239904509L156,34.51025860520176L156.36363636363637,34.25855645873377L156.72727272727275,34.02231418623871L157.0909090909091,33.79129038335571L157.45454545454544,33.55853488136844L157.8181818181818,33.31232407669913L158.1818181818182,33.037664129558244L158.54545454545453,32.70984242699142L158.9090909090909,32.353079534232386L159.27272727272728,31.998590535272697L159.63636363636365,31.645367749270715L160,31.329966030343638L160.36363636363635,31.072201006991662L160.72727272727272,30.849349877135836L161.0909090909091,30.637698195577066L161.45454545454544,30.423941226691653L161.8181818181818,30.195192299969875L162.1818181818182,29.92101772576561L162.54545454545456,29.58878081005225L162.9090909090909,29.225929458578115L163.27272727272728,28.882305046632272L163.63636363636365,28.588391216543265L164,28.35342827968592L164.36363636363635,28.15936128868277L164.72727272727272,27.979942770830558L165.0909090909091,27.81673508958984L165.45454545454547,27.662783819784377L165.8181818181818,27.508910266362886L166.1818181818182,27.343299736755313L166.54545454545456,27.143060887131366L166.9090909090909,26.90174358429327L167.27272727272725,26.632822085984877L167.63636363636363,26.365593462566107L168,26.11861669738027L168.36363636363637,25.905498735453847L168.72727272727272,25.725736162158206L169.0909090909091,25.581765344498987L169.45454545454547,25.47017217959535L169.8181818181818,25.360807503748227L170.1818181818182,25.237594351163175L170.54545454545456,25.08340326214824L170.9090909090909,24.87894358798115L171.27272727272725,24.633885624269205L171.63636363636363,24.354843862036613L172,24.088668795604562L172.36363636363637,23.88831969257903L172.72727272727272,23.74630375877491L173.0909090909091,23.651999786608926L173.45454545454547,23.580205988293912L173.8181818181818,23.5126544507273L174.18181818181816,23.430271401439807L174.54545454545453,23.299731100518706L174.9090909090909,23.126925228701612L175.27272727272728,22.94512733377494L175.63636363636363,22.764051879231538L176,22.602780823353406L176.36363636363637,22.478448050009803L176.72727272727272,22.396703982257083L177.0909090909091,22.346330581500816L177.45454545454547,22.30272440491934L177.8181818181818,22.25341353549326L178.1818181818182,22.180232278941613L178.54545454545453,22.057297446922462L178.9090909090909,21.88140104805236L179.27272727272728,21.69539631262445L179.63636363636363,21.53536599777737L180,21.422849199551443L180.36363636363637,21.366118049768843L180.72727272727275,21.340450603929774L181.0909090909091,21.33300200148309L181.45454545454544,21.339779270366254L181.8181818181818,21.350348102470317L182.1818181818182,21.35700342277005L182.54545454545453,21.343367959543215L182.9090909090909,21.289552621837913L183.27272727272728,21.188855457413137L183.63636363636365,21.069969946012467L184,20.954197209410342L184.36363636363637,20.84937367673032L184.72727272727272,20.775565543460452L185.0909090909091,20.731669862976965L185.45454545454544,20.717210021741185L185.8181818181818,20.723452450321744L186.1818181818182,20.721653715512957L186.54545454545456,20.6979581886134L186.9090909090909,20.634164898316488L187.27272727272728,20.511488049761397L187.63636363636365,20.34183723861962L188,20.144371966624732L188.36363636363635,19.976376473126358L188.72727272727272,19.871040793421034L189.0909090909091,19.815371701959172L189.45454545454544,19.7936443756906L189.8181818181818,19.78761087231138L190.1818181818182,19.777856708380305L190.54545454545456,19.73275831583152L190.9090909090909,19.63488816398826L191.27272727272728,19.495664377055032L191.63636363636363,19.35062197797677L192,19.22277619851136L192.36363636363635,19.121925453095056L192.72727272727272,19.062959576067694L193.0909090909091,19.03473055248672L193.45454545454547,19.010665121564195L193.8181818181818,18.97959233709252L194.1818181818182,18.925120890155036L194.54545454545456,18.81917875642909L194.9090909090909,18.65407825756058L195.27272727272725,18.463929950279343L195.63636363636363,18.287192484003857L196,18.169174613091887L196.36363636363637,18.10170845867496L196.72727272727272,18.058140453980485L197.0909090909091,18.04063024253224L197.45454545454547,18.032921844278384L197.8181818181818,18.008756099194436L198.1818181818182,17.934093029053354L198.54545454545453,17.803228509989523L198.9090909090909,17.629784615563015L199.27272727272728,17.448953600350016L199.63636363636363,17.309883973099073L200,17.22376032742958\" stroke=\"#4c78a8\" stroke-width=\"2\"/></g></g><path class=\"foreground\" aria-hidden=\"true\" d=\"\" display=\"none\"/></g><g transform=\"translate(0,0)\"><path class=\"background\" aria-hidden=\"true\" d=\"M0,0h200v200h-200Z\"/><g><g class=\"mark-line role-mark marks\" role=\"graphics-object\" aria-roledescription=\"line mark container\"><path aria-label=\"Year: 1750; value: 0.0053671258205; variable: FUNDFAIR\" role=\"graphics-symbol\" aria-roledescription=\"line mark\" d=\"M0,179.89265748359L0.36363636363636365,179.30914087458865L0.7272727272727273,178.90464276668357L1.090909090909091,178.65904998267843L1.4545454545454546,178.54240846475486L1.8181818181818181,178.54192679747234L2.181818181818182,178.88200384984748L2.5454545454545454,179.22705717244713L2.909090909090909,179.16728405395844L3.272727272727273,178.88442284374608L3.6363636363636362,178.54080244687626L4,178.23859446821461L4.363636363636364,179.15842872692343L4.7272727272727275,180.62242963202314L5.090909090909091,181.00838361226798L5.454545454545454,180.72812643502664L5.818181818181818,180.74292113127024L6.181818181818182,181.147444138221L6.545454545454546,181.11841010362295L6.909090909090909,180.5345049741607L7.2727272727272725,179.9767090710554L7.636363636363637,179.56181256317112L8,179.13170485105383L8.363636363636363,178.75849760368772L8.727272727272728,178.51410039406622L9.090909090909092,178.39161745536072L9.454545454545455,178.35020805763696L9.818181818181818,178.33077226592292L10.181818181818182,178.25725864888648L10.545454545454545,178.07179669254026L10.909090909090908,177.80426959131717L11.272727272727273,177.54907157744157L11.636363636363637,177.37528076561412L12,179.54489447282623L12.363636363636363,185.72862131196922L12.727272727272727,190.0808248324508L13.090909090909092,189.98518223779584L13.454545454545455,188.46124079956635L13.818181818181818,186.5070944157951L14.181818181818182,184.53799208075264L14.545454545454545,182.79606555814982L14.909090909090908,181.39771397819803L15.272727272727273,180.33515445677702L15.636363636363637,179.55921905627784L16,179.0272643807486L16.363636363636363,178.69099683842174L16.727272727272727,178.6667857017964L17.09090909090909,178.9810122310766L17.454545454545457,179.2490334005428L17.81818181818182,179.24549163869375L18.181818181818183,179.08475471748017L18.545454545454547,178.85634761061445L18.90909090909091,178.59726155455988L19.272727272727273,178.33935241267992L19.636363636363637,178.1112112248755L20,177.93627099833833L20.363636363636363,177.82112130182918L20.727272727272727,177.7638883326228L21.09090909090909,177.75904393643262L21.454545454545453,182.23218515071335L21.818181818181817,188.51554646357374L22.181818181818183,190.2033909590196L22.545454545454547,188.9208525421803L22.90909090909091,186.9631133970697L23.272727272727273,185.08683342161964L23.636363636363637,187.8733830196229L24,195.26414818016994L24.363636363636363,198.6239215788115L24.727272727272727,196.5993364617447L25.09090909090909,193.27211380912294L25.454545454545453,190.12069591823996L25.818181818181817,187.63908728169153L26.181818181818183,185.8075616064498L26.545454545454543,184.81547575645442L26.90909090909091,184.11902262096453L27.27272727272727,183.0796318245421L27.636363636363637,181.97845190384305L28.000000000000004,180.98004227655L28.363636363636363,180.1415556102823L28.72727272727273,179.48099000662612L29.09090909090909,178.99471114608957L29.454545454545457,181.69997517362125L29.818181818181817,185.72097654536287L30.181818181818183,186.68132812622943L30.545454545454547,185.69463809778443L30.909090909090907,186.47918540311397L31.272727272727273,188.1397005682919L31.636363636363633,187.6334686973632L32,185.88298964695747L32.36363636363636,184.05882570759198L32.72727272727273,182.5253963196339L33.09090909090909,181.34104718087997L33.45454545454545,180.4757193153128L33.81818181818182,179.86603323154867L34.18181818181818,179.43583671800906L34.54545454545455,179.1151978908418L34.909090909090914,179.07423324938452L35.27272727272727,179.1479585339042L35.63636363636364,179.00784949537524L36,178.73762132047113L36.36363636363637,178.45009726724854L36.72727272727273,178.19984690121024L37.09090909090909,178.01001832443123L37.45454545454546,178.07792964689284L37.81818181818182,178.3762138606261L38.18181818181819,178.50105570445766L38.54545454545455,178.44446417082577L38.90909090909091,178.5860288891295L39.27272727272727,178.6892566730367L39.63636363636363,178.49365949840842L40,178.20288009842312L40.36363636363636,178.02346692775282L40.72727272727273,178.88151628369823L41.090909090909086,179.94163379035456L41.45454545454545,179.98028402217577L41.81818181818181,179.5405674536557L42.18181818181818,179.03842844617705L42.54545454545455,178.59758174697765L42.90909090909091,178.2219938781078L43.27272727272727,177.88554144279672L43.63636363636363,177.59396045362217L44,177.3455707842282L44.36363636363637,177.1509476254302L44.72727272727273,177.28782357011735L45.09090909090909,177.48151137624268L45.45454545454545,177.47540114664815L45.81818181818182,177.4589702123109L46.18181818181818,177.3880936119281L46.54545454545455,177.26939494468576L46.909090909090914,177.15374345630394L47.27272727272727,177.09513062650717L47.63636363636364,177.05770402844465L48,176.9486868611155L48.36363636363637,177.61592980358836L48.72727272727273,180.467214426834L49.09090909090909,182.7186778601872L49.45454545454545,182.52971615094538L49.81818181818182,181.72481241081212L50.18181818181818,180.83021187112388L50.54545454545455,179.89447098136668L50.90909090909091,179.30680359269212L51.272727272727266,179.16445638524652L51.63636363636363,178.92178892336207L52,178.32498760193954L52.36363636363637,177.67015328909082L52.72727272727272,177.15323134154576L53.090909090909086,176.79613844785428L53.45454545454545,176.5584358531241L53.81818181818182,176.3926655843254L54.18181818181819,176.28005018914251L54.54545454545454,176.20558870553285L54.90909090909091,176.15540136537246L55.27272727272727,176.37706168279783L55.63636363636364,177.56040873831327L56.00000000000001,178.6340119742418L56.36363636363636,178.5507102433389L56.72727272727273,177.96374257392185L57.09090909090909,177.56352085875577L57.45454545454546,177.27716280118625L57.81818181818181,176.85024820726778L58.18181818181818,176.4683518319761L58.54545454545455,176.1861016180239L58.909090909090914,176.63303636499703L59.27272727272728,177.47943593590762L59.63636363636363,177.66036166494334L60,177.21534955314223L60.36363636363637,176.5870829436043L60.72727272727273,176.0088152509772L61.09090909090909,175.51177057894276L61.45454545454545,175.10735767125792L61.81818181818181,174.82838166096658L62.18181818181818,174.6286983878248L62.54545454545455,174.6294172632493L62.909090909090914,174.72599285377598L63.272727272727266,174.64239670792162L63.63636363636363,174.45087106240288L64,174.23528428985335L64.36363636363637,174.0057070091756L64.72727272727272,173.84990406449282L65.0909090909091,173.9909197557342L65.45454545454545,174.0169078876018L65.81818181818181,173.7690424248252L66.18181818181819,173.76264349963643L66.54545454545455,173.7755937880081L66.9090909090909,173.58800895278472L67.27272727272727,173.36605177546164L67.63636363636364,173.09925429271576L68,172.8278488212653L68.36363636363636,172.60086818024126L68.72727272727272,172.40945488335512L69.0909090909091,172.28724070482525L69.45454545454545,172.23076161036548L69.81818181818183,172.20836832388005L70.18181818181817,172.2076038633255L70.54545454545455,172.18926797350753L70.9090909090909,172.07462187420904L71.27272727272728,171.8793812083242L71.63636363636363,171.65473141813644L72,171.4148992336776L72.36363636363636,171.1996226030753L72.72727272727273,171.0696662588216L73.0909090909091,171.05353570661833L73.45454545454545,171.07363860919514L73.81818181818181,171.07753266554943L74.18181818181819,171.05818217942286L74.54545454545455,170.99152436407724L74.90909090909092,170.83065723254447L75.27272727272727,170.5523571867138L75.63636363636364,170.23542980821517L76,169.99139230062863L76.36363636363637,169.8411705074607L76.72727272727272,169.83381100045835L77.0909090909091,170.14814023021952L77.45454545454545,171.59314695477295L77.81818181818181,173.33923695266478L78.18181818181819,174.0490136138753L78.54545454545455,173.6896641662029L78.9090909090909,173.11629837211714L79.27272727272727,172.70275888327438L79.63636363636364,172.09790302148767L80,171.49094376468236L80.36363636363636,171.14103083821996L80.72727272727272,170.83187049715224L81.0909090909091,170.30614801586034L81.45454545454545,169.89081031394693L81.81818181818183,169.8997131390638L82.18181818181817,169.79854230679248L82.54545454545455,169.25559679402545L82.9090909090909,168.54058546040835L83.27272727272728,167.79695217110435L83.63636363636363,167.17420503061203L84,166.67800532770468L84.36363636363636,166.64473114236426L84.72727272727273,167.44552518222642L85.0909090909091,168.0042779449792L85.45454545454545,167.64911221986353L85.81818181818181,167.0285195854222L86.18181818181819,166.36050182698276L86.54545454545455,165.55070143032813L86.9090909090909,164.6222013114452L87.27272727272727,163.730442696113L87.63636363636364,163.75632763281257L88,165.80926496661644L88.36363636363636,167.53736708016544L88.72727272727273,167.04732803278753L89.0909090909091,165.68188948636325L89.45454545454545,164.31144540421369L89.81818181818181,163.07896902440493L90.18181818181819,161.937692635723L90.54545454545455,160.8604165140101L90.9090909090909,159.88032214228662L91.27272727272727,159.04758380745398L91.63636363636364,158.3280712775456L92,157.77434637354628L92.36363636363636,157.38285907678332L92.72727272727272,157.09645032353822L93.0909090909091,156.89177657704357L93.45454545454545,156.68846955663574L93.81818181818183,156.43057412195108L94.18181818181817,156.14001386337355L94.54545454545455,155.76370131719156L94.9090909090909,155.32276957033702L95.27272727272728,154.8451785926718L95.63636363636364,154.29557365853591L96,153.75164073463168L96.36363636363636,153.2533451769144L96.72727272727273,152.78998436662337L97.0909090909091,152.31314800328653L97.45454545454545,151.82295317163698L97.81818181818181,151.33504693613912L98.18181818181819,150.84255976740087L98.54545454545455,150.33437083454467L98.9090909090909,149.79024166740405L99.27272727272727,149.2313368583624L99.63636363636364,148.6918515094029L100,148.2142064184367L100.36363636363636,147.81784000168048L100.72727272727273,147.4862510838862L101.0909090909091,147.1865634089427L101.45454545454547,146.90189269097405L101.81818181818181,146.60980769719282L102.18181818181817,146.2875294894966L102.54545454545453,145.92712073781942L102.9090909090909,145.5008784418708L103.27272727272727,144.9819238488833L103.63636363636364,144.4093702028503L104,143.81371850992903L104.36363636363637,143.22339055670034L104.72727272727273,142.6519585463782L105.09090909090911,142.10296347066387L105.45454545454544,141.59258960638294L105.81818181818181,141.10495766074075L106.18181818181817,140.61386914277222L106.54545454545455,140.09542094436424L106.9090909090909,139.53587778346247L107.27272727272728,138.9071822721575L107.63636363636364,138.2126261320491L108,137.4748994654114L108.36363636363637,136.72770596483136L108.72727272727272,136.02598263391934L109.09090909090908,135.39823214198233L109.45454545454545,134.82368743755762L109.81818181818181,134.27417221654267L110.18181818181819,133.73841519311455L110.54545454545455,133.1918182768669L110.9090909090909,132.60235370070518L111.27272727272728,131.95689873229134L111.63636363636364,131.29095024693413L112.00000000000001,130.63088937839643L112.36363636363636,129.97252600346988L112.72727272727272,129.3438208725143L113.0909090909091,128.75820480836407L113.45454545454545,128.19738218340837L113.81818181818181,127.64117213042567L114.18181818181819,127.07427060791423L114.54545454545455,126.48559963315572L114.90909090909092,125.84575690454287L115.27272727272728,125.14583244669457L115.63636363636363,124.41424768594675L115.99999999999999,123.69119035188842L116.36363636363636,123.0055234071868L116.72727272727272,122.36414260878281L117.0909090909091,121.74923387070349L117.45454545454545,121.13997134406527L117.81818181818183,120.53649878324887L118.18181818181819,119.93348957304579L118.54545454545456,119.32346839507217L118.90909090909092,118.69516833627887L119.27272727272727,118.02772223255296L119.63636363636363,117.31579006983972L120,116.57370048142819L120.36363636363636,115.82779843777074L120.72727272727273,115.09544889790564L121.0909090909091,114.392398127026L121.45454545454545,113.7179207590505L121.81818181818183,113.07506365963505L122.18181818181819,112.46189935533349L122.54545454545453,111.849893226379L122.9090909090909,111.22480882532233L123.27272727272727,110.57027386569492L123.63636363636363,109.86515683413396L124,109.11626740388714L124.36363636363636,108.33234404074929L124.72727272727273,107.5560501863946L125.0909090909091,106.83625944550231L125.45454545454547,106.1660335120722L125.81818181818183,105.532071590851L126.18181818181817,104.91333779707035L126.54545454545453,104.29113804319456L126.9090909090909,103.64708661049586L127.27272727272727,102.9549417109101L127.63636363636364,102.20934500874661L128,101.44960928575533L128.36363636363637,100.705774424809L128.72727272727275,99.9845411053895L129.0909090909091,99.3020975602565L129.45454545454544,98.64955639640414L129.8181818181818,98.00812876760703L130.1818181818182,97.36306325598103L130.54545454545453,96.6977137098609L130.9090909090909,95.99307866788389L131.27272727272728,95.21812561496823L131.63636363636363,94.41198956310721L132,93.62424002752647L132.36363636363637,92.88151539435793L132.72727272727275,92.18299263615104L133.0909090909091,91.51694846975438L133.45454545454544,90.87996760064381L133.8181818181818,90.25166067921742L134.1818181818182,89.61877633265065L134.54545454545453,88.9539089924455L134.9090909090909,88.23284649890444L135.27272727272728,87.45578217402257L135.63636363636365,86.6924125711481L136,85.96830583027506L136.36363636363635,85.2870875158003L136.72727272727272,84.66917472378232L137.0909090909091,84.08553159907883L137.45454545454544,83.51568202397215L137.8181818181818,82.94222672385598L138.1818181818182,82.33552232441026L138.54545454545456,81.65122834671182L138.9090909090909,80.9244786994729L139.27272727272728,80.2097429481391L139.63636363636365,79.53444782546408L140,78.92886465358498L140.36363636363635,78.39386082775472L140.72727272727272,77.89699888102544L141.0909090909091,77.40965405797449L141.45454545454547,76.92622477465909L141.8181818181818,76.43432694610648L142.1818181818182,75.91054523755116L142.54545454545456,75.34531511356906L142.9090909090909,74.77014271313574L143.27272727272725,74.20685245272209L143.63636363636363,73.66250286203933L144,73.16025457680169L144.36363636363637,72.68982362714173L144.72727272727272,72.24090063461416L145.0909090909091,71.81507417433137L145.45454545454547,71.39937290733667L145.8181818181818,70.98588775232389L146.1818181818182,70.55258892519267L146.54545454545456,70.06873923418127L146.9090909090909,69.53959194510652L147.27272727272725,69.01701665062458L147.63636363636363,68.53462685643646L148,68.10243587281045L148.36363636363637,67.7313655056093L148.72727272727272,67.41251616828579L149.0909090909091,67.12164834651091L149.45454545454547,66.83183167963959L149.81818181818184,66.51363707388325L150.18181818181816,66.13747204675246L150.54545454545453,65.70047222443716L150.9090909090909,65.2709265089479L151.27272727272728,64.87820373892363L151.63636363636363,64.54278190673286L152,64.28315823295748L152.36363636363637,64.06631741593304L152.72727272727275,63.868819878046466L153.0909090909091,63.67217710353146L153.45454545454544,63.455943444958066L153.8181818181818,63.189350619951036L154.1818181818182,62.87810147253452L154.54545454545453,62.549381155307685L154.9090909090909,62.228056051488664L155.27272727272728,61.94893740515188L155.63636363636363,61.72949096795446L156,61.554672856949665L156.36363636363637,61.40797132373477L156.72727272727275,61.27900270410298L157.0909090909091,61.15744097276221L157.45454545454544,61.03624749563472L157.8181818181818,60.903605975605316L158.1818181818182,60.74442554251907L158.54545454545453,60.5338919487902L158.9090909090909,60.2961188045225L159.27272727272728,60.06220938371083L159.63636363636365,59.831042644072554L160,59.63906176748735L160.36363636363635,59.50597412881484L160.72727272727272,59.408954017000994L161.0909090909091,59.324189590724494L161.45454545454544,59.23828147796482L161.8181818181818,59.13824827331309L162.1818181818182,58.99355999500035L162.54545454545456,58.791480944962046L162.9090909090909,58.55935615935668L163.27272727272728,58.34692108360735L163.63636363636365,58.184554042749006L164,58.081394840248834L164.36363636363635,58.019290585309236L164.72727272727272,57.971891123714904L165.0909090909091,57.940649095832455L165.45454545454547,57.91849543663583L165.8181818181818,57.89613426789306L166.1818181818182,57.861633087373974L166.54545454545456,57.791983158632966L166.9090909090909,57.680617706691706L167.27272727272725,57.540895161169004L167.63636363636363,57.40199851347221L168,57.2823765619634L168.36363636363637,57.19553225232754L168.72727272727272,57.14086566674481L169.0909090909091,57.120724286230384L169.45454545454547,57.13161211395792L169.8181818181818,57.1433042565102L170.1818181818182,57.13965280404134L170.54545454545456,57.1034602341894L170.9090909090909,57.015369316819296L171.27272727272725,56.88498438776464L171.63636363636363,56.71885441394391L172,56.563765600063995L172.36363636363637,56.47261581944836L172.72727272727272,56.437856353621484L173.0909090909091,56.44881711793308L173.45454545454547,56.48025367622167L173.8181818181818,56.513859808849595L174.18181818181816,56.53052225211377L174.54545454545453,56.49686358654689L174.9090909090909,56.41870890580414L175.27272727272728,56.32926030489618L175.63636363636363,56.23816427051249L176,56.16444187748388L176.36363636363637,56.12517528058913L176.72727272727272,56.125973453187726L177.0909090909091,56.15558759268051L177.45454545454547,56.189392433631966L177.8181818181818,56.214899134315324L178.1818181818182,56.21392554668421L178.54545454545453,56.160569444369536L178.9090909090909,56.05159862765534L179.27272727272728,55.9298351888027L179.63636363636363,55.83132630307088L180,55.77757754103463L180.36363636363637,55.77683502806183L180.72727272727275,55.80436020117894L181.0909090909091,55.847299134739245L181.45454545454544,55.90165315248448L181.8181818181818,55.95698249528791L182.1818181818182,56.005575383471616L182.54545454545453,56.03121389904842L182.9090909090909,56.01445127060298L183.27272727272728,55.94907736239105L183.63636363636365,55.864158384458996L184,55.78127593363447L184.36363636363637,55.70847874697316L184.72727272727272,55.66599587006711L185.0909090909091,55.65285124832808L185.45454545454544,55.66866914265689L185.8181818181818,55.70479732808062L186.1818181818182,55.73255814120428L186.54545454545456,55.73814786393969L186.9090909090909,55.70340375888312L187.27272727272728,55.60956504426557L187.63636363636365,55.46855374074278L188,55.29953072157525L188.36363636363635,55.159774234772875L188.72727272727272,55.08246672857844L189.0909090909091,55.05461212695055L189.45454545454544,55.060490099943L189.8181818181818,55.081862341043596L190.1818181818182,55.099325667297315L190.54545454545456,55.08126656853716L190.9090909090909,55.010263579414584L191.27272727272728,54.8977345048107L191.63636363636363,54.7792074695886L192,54.677687318421306L192.36363636363635,54.60296299257548L192.72727272727272,54.56991854078106L193.0909090909091,54.56740481199027L193.45454545454547,54.568851798549865L193.8181818181818,54.56309397556871L194.1818181818182,54.53374468575212L194.54545454545456,54.4527339176279L194.9090909090909,54.31237174965262L195.27272727272725,54.14676083928791L195.63636363636363,53.99434750538925L196,53.90042796174639L196.36363636363637,53.856826412002114L196.72727272727272,53.83688844473986L197.0909090909091,53.84277817905168L197.45454545454547,53.85824635638525L197.8181818181818,53.85704107171796L198.1818181818182,53.80512828872157L198.54545454545453,53.696805812308L198.9090909090909,53.54569174636388L199.27272727272728,53.38696907587379L199.63636363636363,53.26977472798566L200,53.20528378857021\" stroke=\"#e45756\" stroke-width=\"2\"/></g></g><path class=\"foreground\" aria-hidden=\"true\" d=\"\" display=\"none\"/></g></g><g class=\"mark-group role-legend\" role=\"graphics-symbol\" aria-roledescription=\"legend\" aria-label=\"Symbol legend titled 'variable' for stroke color with 3 values: FAIR, FUND, FUNDFAIR\"><g transform=\"translate(220,0)\"><path class=\"background\" aria-hidden=\"true\" d=\"M0,0h65v53h-65Z\" pointer-events=\"none\"/><g><g class=\"mark-group role-legend-entry\"><g transform=\"translate(0,16)\"><path class=\"background\" aria-hidden=\"true\" d=\"M0,0h0v0h0Z\" pointer-events=\"none\"/><g><g class=\"mark-group role-scope\" role=\"graphics-object\" aria-roledescription=\"group mark container\"><g transform=\"translate(0,0)\"><path class=\"background\" aria-hidden=\"true\" d=\"M0,0h65v11h-65Z\" pointer-events=\"none\" opacity=\"1\"/><g><g class=\"mark-symbol role-legend-symbol\" pointer-events=\"none\"><path transform=\"translate(6,6)\" d=\"M-5,0L5,0\" stroke=\"#4c78a8\" stroke-width=\"1.5\" opacity=\"1\"/></g><g class=\"mark-text role-legend-label\" pointer-events=\"none\"><text text-anchor=\"start\" transform=\"translate(16,9)\" font-family=\"sans-serif\" font-size=\"10px\" fill=\"#000\" opacity=\"1\">FAIR</text></g></g><path class=\"foreground\" aria-hidden=\"true\" d=\"\" pointer-events=\"none\" display=\"none\"/></g><g transform=\"translate(0,13)\"><path class=\"background\" aria-hidden=\"true\" d=\"M0,0h65v11h-65Z\" pointer-events=\"none\" opacity=\"1\"/><g><g class=\"mark-symbol role-legend-symbol\" pointer-events=\"none\"><path transform=\"translate(6,6)\" d=\"M-5,0L5,0\" stroke=\"#f58518\" stroke-width=\"1.5\" opacity=\"1\"/></g><g class=\"mark-text role-legend-label\" pointer-events=\"none\"><text text-anchor=\"start\" transform=\"translate(16,9)\" font-family=\"sans-serif\" font-size=\"10px\" fill=\"#000\" opacity=\"1\">FUND</text></g></g><path class=\"foreground\" aria-hidden=\"true\" d=\"\" pointer-events=\"none\" display=\"none\"/></g><g transform=\"translate(0,26)\"><path class=\"background\" aria-hidden=\"true\" d=\"M0,0h65v11h-65Z\" pointer-events=\"none\" opacity=\"1\"/><g><g class=\"mark-symbol role-legend-symbol\" pointer-events=\"none\"><path transform=\"translate(6,6)\" d=\"M-5,0L5,0\" stroke=\"#e45756\" stroke-width=\"1.5\" opacity=\"1\"/></g><g class=\"mark-text role-legend-label\" pointer-events=\"none\"><text text-anchor=\"start\" transform=\"translate(16,9)\" font-family=\"sans-serif\" font-size=\"10px\" fill=\"#000\" opacity=\"1\">FUNDFAIR</text></g></g><path class=\"foreground\" aria-hidden=\"true\" d=\"\" pointer-events=\"none\" display=\"none\"/></g></g></g><path class=\"foreground\" aria-hidden=\"true\" d=\"\" pointer-events=\"none\" display=\"none\"/></g></g><g class=\"mark-text role-legend-title\" pointer-events=\"none\"><text text-anchor=\"start\" transform=\"translate(0,9)\" font-family=\"sans-serif\" font-size=\"11px\" font-weight=\"bold\" fill=\"#000\" opacity=\"1\">variable</text></g></g><path class=\"foreground\" aria-hidden=\"true\" d=\"\" pointer-events=\"none\" display=\"none\"/></g></g></g><path class=\"foreground\" aria-hidden=\"true\" d=\"\" display=\"none\"/></g></g></g></svg>\n",
      "text/plain": [
       "@vlplot(\n",
       "    mark=\"line\",\n",
       "    encoding={\n",
       "        x={\n",
       "            field=\"Year\"\n",
       "        },\n",
       "        y={\n",
       "            field=\"value\"\n",
       "        },\n",
       "        color={\n",
       "            field=\"variable\"\n",
       "        }\n",
       "    },\n",
       "    data={\n",
       "        values=...\n",
       "    }\n",
       ")"
      ]
     },
     "execution_count": 23,
     "metadata": {},
     "output_type": "execute_result"
    }
   ],
   "source": [
    "df = DataFrame(\n",
    "    :Year => Mimi.time_labels(m),\n",
    "    :FUND => fundvals,\n",
    "    :FAIR => fairvals,\n",
    "    :FUNDFAIR => fundfairvals\n",
    ")\n",
    "\n",
    "stack(df, [:FUND, :FAIR, :FUNDFAIR]) |> \n",
    "\n",
    "@vlplot(\n",
    "    :line, \n",
    "    x = :Year,\n",
    "    y = :value,\n",
    "    color = :variable\n",
    ")\n",
    "    "
   ]
  },
  {
   "cell_type": "markdown",
   "metadata": {},
   "source": [
    "##### Loss\n",
    "\n",
    "Similarly, here we compare what the loss looks like when we use the FUND climate module for CO2 as compared to using the FAIR climate module for CO2."
   ]
  },
  {
   "cell_type": "code",
   "execution_count": 24,
   "metadata": {},
   "outputs": [],
   "source": [
    "fundfairvals = sum(m[:impactaggregation, :loss], dims = 2)[:,1];\n",
    "\n",
    "fundvals = vcat(\n",
    "    fill(missing, length(FAIR_first:FUND_first)-1),\n",
    "    sum(mfund[:impactaggregation, :loss][1:length(FUND_first:FAIR_last),:], dims = 2)\n",
    ")\n",
    "fundvals = fundvals[:,1]; # make a vector"
   ]
  },
  {
   "cell_type": "code",
   "execution_count": 25,
   "metadata": {},
   "outputs": [
    {
     "data": {
      "application/vnd.vegalite.v4+json": {
       "data": {
        "values": [
         {
          "Year": 1750,
          "value": null,
          "variable": "FUND"
         },
         {
          "Year": 1751,
          "value": null,
          "variable": "FUND"
         },
         {
          "Year": 1752,
          "value": null,
          "variable": "FUND"
         },
         {
          "Year": 1753,
          "value": null,
          "variable": "FUND"
         },
         {
          "Year": 1754,
          "value": null,
          "variable": "FUND"
         },
         {
          "Year": 1755,
          "value": null,
          "variable": "FUND"
         },
         {
          "Year": 1756,
          "value": null,
          "variable": "FUND"
         },
         {
          "Year": 1757,
          "value": null,
          "variable": "FUND"
         },
         {
          "Year": 1758,
          "value": null,
          "variable": "FUND"
         },
         {
          "Year": 1759,
          "value": null,
          "variable": "FUND"
         },
         {
          "Year": 1760,
          "value": null,
          "variable": "FUND"
         },
         {
          "Year": 1761,
          "value": null,
          "variable": "FUND"
         },
         {
          "Year": 1762,
          "value": null,
          "variable": "FUND"
         },
         {
          "Year": 1763,
          "value": null,
          "variable": "FUND"
         },
         {
          "Year": 1764,
          "value": null,
          "variable": "FUND"
         },
         {
          "Year": 1765,
          "value": null,
          "variable": "FUND"
         },
         {
          "Year": 1766,
          "value": null,
          "variable": "FUND"
         },
         {
          "Year": 1767,
          "value": null,
          "variable": "FUND"
         },
         {
          "Year": 1768,
          "value": null,
          "variable": "FUND"
         },
         {
          "Year": 1769,
          "value": null,
          "variable": "FUND"
         },
         {
          "Year": 1770,
          "value": null,
          "variable": "FUND"
         },
         {
          "Year": 1771,
          "value": null,
          "variable": "FUND"
         },
         {
          "Year": 1772,
          "value": null,
          "variable": "FUND"
         },
         {
          "Year": 1773,
          "value": null,
          "variable": "FUND"
         },
         {
          "Year": 1774,
          "value": null,
          "variable": "FUND"
         },
         {
          "Year": 1775,
          "value": null,
          "variable": "FUND"
         },
         {
          "Year": 1776,
          "value": null,
          "variable": "FUND"
         },
         {
          "Year": 1777,
          "value": null,
          "variable": "FUND"
         },
         {
          "Year": 1778,
          "value": null,
          "variable": "FUND"
         },
         {
          "Year": 1779,
          "value": null,
          "variable": "FUND"
         },
         {
          "Year": 1780,
          "value": null,
          "variable": "FUND"
         },
         {
          "Year": 1781,
          "value": null,
          "variable": "FUND"
         },
         {
          "Year": 1782,
          "value": null,
          "variable": "FUND"
         },
         {
          "Year": 1783,
          "value": null,
          "variable": "FUND"
         },
         {
          "Year": 1784,
          "value": null,
          "variable": "FUND"
         },
         {
          "Year": 1785,
          "value": null,
          "variable": "FUND"
         },
         {
          "Year": 1786,
          "value": null,
          "variable": "FUND"
         },
         {
          "Year": 1787,
          "value": null,
          "variable": "FUND"
         },
         {
          "Year": 1788,
          "value": null,
          "variable": "FUND"
         },
         {
          "Year": 1789,
          "value": null,
          "variable": "FUND"
         },
         {
          "Year": 1790,
          "value": null,
          "variable": "FUND"
         },
         {
          "Year": 1791,
          "value": null,
          "variable": "FUND"
         },
         {
          "Year": 1792,
          "value": null,
          "variable": "FUND"
         },
         {
          "Year": 1793,
          "value": null,
          "variable": "FUND"
         },
         {
          "Year": 1794,
          "value": null,
          "variable": "FUND"
         },
         {
          "Year": 1795,
          "value": null,
          "variable": "FUND"
         },
         {
          "Year": 1796,
          "value": null,
          "variable": "FUND"
         },
         {
          "Year": 1797,
          "value": null,
          "variable": "FUND"
         },
         {
          "Year": 1798,
          "value": null,
          "variable": "FUND"
         },
         {
          "Year": 1799,
          "value": null,
          "variable": "FUND"
         },
         {
          "Year": 1800,
          "value": null,
          "variable": "FUND"
         },
         {
          "Year": 1801,
          "value": null,
          "variable": "FUND"
         },
         {
          "Year": 1802,
          "value": null,
          "variable": "FUND"
         },
         {
          "Year": 1803,
          "value": null,
          "variable": "FUND"
         },
         {
          "Year": 1804,
          "value": null,
          "variable": "FUND"
         },
         {
          "Year": 1805,
          "value": null,
          "variable": "FUND"
         },
         {
          "Year": 1806,
          "value": null,
          "variable": "FUND"
         },
         {
          "Year": 1807,
          "value": null,
          "variable": "FUND"
         },
         {
          "Year": 1808,
          "value": null,
          "variable": "FUND"
         },
         {
          "Year": 1809,
          "value": null,
          "variable": "FUND"
         },
         {
          "Year": 1810,
          "value": null,
          "variable": "FUND"
         },
         {
          "Year": 1811,
          "value": null,
          "variable": "FUND"
         },
         {
          "Year": 1812,
          "value": null,
          "variable": "FUND"
         },
         {
          "Year": 1813,
          "value": null,
          "variable": "FUND"
         },
         {
          "Year": 1814,
          "value": null,
          "variable": "FUND"
         },
         {
          "Year": 1815,
          "value": null,
          "variable": "FUND"
         },
         {
          "Year": 1816,
          "value": null,
          "variable": "FUND"
         },
         {
          "Year": 1817,
          "value": null,
          "variable": "FUND"
         },
         {
          "Year": 1818,
          "value": null,
          "variable": "FUND"
         },
         {
          "Year": 1819,
          "value": null,
          "variable": "FUND"
         },
         {
          "Year": 1820,
          "value": null,
          "variable": "FUND"
         },
         {
          "Year": 1821,
          "value": null,
          "variable": "FUND"
         },
         {
          "Year": 1822,
          "value": null,
          "variable": "FUND"
         },
         {
          "Year": 1823,
          "value": null,
          "variable": "FUND"
         },
         {
          "Year": 1824,
          "value": null,
          "variable": "FUND"
         },
         {
          "Year": 1825,
          "value": null,
          "variable": "FUND"
         },
         {
          "Year": 1826,
          "value": null,
          "variable": "FUND"
         },
         {
          "Year": 1827,
          "value": null,
          "variable": "FUND"
         },
         {
          "Year": 1828,
          "value": null,
          "variable": "FUND"
         },
         {
          "Year": 1829,
          "value": null,
          "variable": "FUND"
         },
         {
          "Year": 1830,
          "value": null,
          "variable": "FUND"
         },
         {
          "Year": 1831,
          "value": null,
          "variable": "FUND"
         },
         {
          "Year": 1832,
          "value": null,
          "variable": "FUND"
         },
         {
          "Year": 1833,
          "value": null,
          "variable": "FUND"
         },
         {
          "Year": 1834,
          "value": null,
          "variable": "FUND"
         },
         {
          "Year": 1835,
          "value": null,
          "variable": "FUND"
         },
         {
          "Year": 1836,
          "value": null,
          "variable": "FUND"
         },
         {
          "Year": 1837,
          "value": null,
          "variable": "FUND"
         },
         {
          "Year": 1838,
          "value": null,
          "variable": "FUND"
         },
         {
          "Year": 1839,
          "value": null,
          "variable": "FUND"
         },
         {
          "Year": 1840,
          "value": null,
          "variable": "FUND"
         },
         {
          "Year": 1841,
          "value": null,
          "variable": "FUND"
         },
         {
          "Year": 1842,
          "value": null,
          "variable": "FUND"
         },
         {
          "Year": 1843,
          "value": null,
          "variable": "FUND"
         },
         {
          "Year": 1844,
          "value": null,
          "variable": "FUND"
         },
         {
          "Year": 1845,
          "value": null,
          "variable": "FUND"
         },
         {
          "Year": 1846,
          "value": null,
          "variable": "FUND"
         },
         {
          "Year": 1847,
          "value": null,
          "variable": "FUND"
         },
         {
          "Year": 1848,
          "value": null,
          "variable": "FUND"
         },
         {
          "Year": 1849,
          "value": null,
          "variable": "FUND"
         },
         {
          "Year": 1850,
          "value": null,
          "variable": "FUND"
         },
         {
          "Year": 1851,
          "value": null,
          "variable": "FUND"
         },
         {
          "Year": 1852,
          "value": null,
          "variable": "FUND"
         },
         {
          "Year": 1853,
          "value": null,
          "variable": "FUND"
         },
         {
          "Year": 1854,
          "value": null,
          "variable": "FUND"
         },
         {
          "Year": 1855,
          "value": null,
          "variable": "FUND"
         },
         {
          "Year": 1856,
          "value": null,
          "variable": "FUND"
         },
         {
          "Year": 1857,
          "value": null,
          "variable": "FUND"
         },
         {
          "Year": 1858,
          "value": null,
          "variable": "FUND"
         },
         {
          "Year": 1859,
          "value": null,
          "variable": "FUND"
         },
         {
          "Year": 1860,
          "value": null,
          "variable": "FUND"
         },
         {
          "Year": 1861,
          "value": null,
          "variable": "FUND"
         },
         {
          "Year": 1862,
          "value": null,
          "variable": "FUND"
         },
         {
          "Year": 1863,
          "value": null,
          "variable": "FUND"
         },
         {
          "Year": 1864,
          "value": null,
          "variable": "FUND"
         },
         {
          "Year": 1865,
          "value": null,
          "variable": "FUND"
         },
         {
          "Year": 1866,
          "value": null,
          "variable": "FUND"
         },
         {
          "Year": 1867,
          "value": null,
          "variable": "FUND"
         },
         {
          "Year": 1868,
          "value": null,
          "variable": "FUND"
         },
         {
          "Year": 1869,
          "value": null,
          "variable": "FUND"
         },
         {
          "Year": 1870,
          "value": null,
          "variable": "FUND"
         },
         {
          "Year": 1871,
          "value": null,
          "variable": "FUND"
         },
         {
          "Year": 1872,
          "value": null,
          "variable": "FUND"
         },
         {
          "Year": 1873,
          "value": null,
          "variable": "FUND"
         },
         {
          "Year": 1874,
          "value": null,
          "variable": "FUND"
         },
         {
          "Year": 1875,
          "value": null,
          "variable": "FUND"
         },
         {
          "Year": 1876,
          "value": null,
          "variable": "FUND"
         },
         {
          "Year": 1877,
          "value": null,
          "variable": "FUND"
         },
         {
          "Year": 1878,
          "value": null,
          "variable": "FUND"
         },
         {
          "Year": 1879,
          "value": null,
          "variable": "FUND"
         },
         {
          "Year": 1880,
          "value": null,
          "variable": "FUND"
         },
         {
          "Year": 1881,
          "value": null,
          "variable": "FUND"
         },
         {
          "Year": 1882,
          "value": null,
          "variable": "FUND"
         },
         {
          "Year": 1883,
          "value": null,
          "variable": "FUND"
         },
         {
          "Year": 1884,
          "value": null,
          "variable": "FUND"
         },
         {
          "Year": 1885,
          "value": null,
          "variable": "FUND"
         },
         {
          "Year": 1886,
          "value": null,
          "variable": "FUND"
         },
         {
          "Year": 1887,
          "value": null,
          "variable": "FUND"
         },
         {
          "Year": 1888,
          "value": null,
          "variable": "FUND"
         },
         {
          "Year": 1889,
          "value": null,
          "variable": "FUND"
         },
         {
          "Year": 1890,
          "value": null,
          "variable": "FUND"
         },
         {
          "Year": 1891,
          "value": null,
          "variable": "FUND"
         },
         {
          "Year": 1892,
          "value": null,
          "variable": "FUND"
         },
         {
          "Year": 1893,
          "value": null,
          "variable": "FUND"
         },
         {
          "Year": 1894,
          "value": null,
          "variable": "FUND"
         },
         {
          "Year": 1895,
          "value": null,
          "variable": "FUND"
         },
         {
          "Year": 1896,
          "value": null,
          "variable": "FUND"
         },
         {
          "Year": 1897,
          "value": null,
          "variable": "FUND"
         },
         {
          "Year": 1898,
          "value": null,
          "variable": "FUND"
         },
         {
          "Year": 1899,
          "value": null,
          "variable": "FUND"
         },
         {
          "Year": 1900,
          "value": null,
          "variable": "FUND"
         },
         {
          "Year": 1901,
          "value": null,
          "variable": "FUND"
         },
         {
          "Year": 1902,
          "value": null,
          "variable": "FUND"
         },
         {
          "Year": 1903,
          "value": null,
          "variable": "FUND"
         },
         {
          "Year": 1904,
          "value": null,
          "variable": "FUND"
         },
         {
          "Year": 1905,
          "value": null,
          "variable": "FUND"
         },
         {
          "Year": 1906,
          "value": null,
          "variable": "FUND"
         },
         {
          "Year": 1907,
          "value": null,
          "variable": "FUND"
         },
         {
          "Year": 1908,
          "value": null,
          "variable": "FUND"
         },
         {
          "Year": 1909,
          "value": null,
          "variable": "FUND"
         },
         {
          "Year": 1910,
          "value": null,
          "variable": "FUND"
         },
         {
          "Year": 1911,
          "value": null,
          "variable": "FUND"
         },
         {
          "Year": 1912,
          "value": null,
          "variable": "FUND"
         },
         {
          "Year": 1913,
          "value": null,
          "variable": "FUND"
         },
         {
          "Year": 1914,
          "value": null,
          "variable": "FUND"
         },
         {
          "Year": 1915,
          "value": null,
          "variable": "FUND"
         },
         {
          "Year": 1916,
          "value": null,
          "variable": "FUND"
         },
         {
          "Year": 1917,
          "value": null,
          "variable": "FUND"
         },
         {
          "Year": 1918,
          "value": null,
          "variable": "FUND"
         },
         {
          "Year": 1919,
          "value": null,
          "variable": "FUND"
         },
         {
          "Year": 1920,
          "value": null,
          "variable": "FUND"
         },
         {
          "Year": 1921,
          "value": null,
          "variable": "FUND"
         },
         {
          "Year": 1922,
          "value": null,
          "variable": "FUND"
         },
         {
          "Year": 1923,
          "value": null,
          "variable": "FUND"
         },
         {
          "Year": 1924,
          "value": null,
          "variable": "FUND"
         },
         {
          "Year": 1925,
          "value": null,
          "variable": "FUND"
         },
         {
          "Year": 1926,
          "value": null,
          "variable": "FUND"
         },
         {
          "Year": 1927,
          "value": null,
          "variable": "FUND"
         },
         {
          "Year": 1928,
          "value": null,
          "variable": "FUND"
         },
         {
          "Year": 1929,
          "value": null,
          "variable": "FUND"
         },
         {
          "Year": 1930,
          "value": null,
          "variable": "FUND"
         },
         {
          "Year": 1931,
          "value": null,
          "variable": "FUND"
         },
         {
          "Year": 1932,
          "value": null,
          "variable": "FUND"
         },
         {
          "Year": 1933,
          "value": null,
          "variable": "FUND"
         },
         {
          "Year": 1934,
          "value": null,
          "variable": "FUND"
         },
         {
          "Year": 1935,
          "value": null,
          "variable": "FUND"
         },
         {
          "Year": 1936,
          "value": null,
          "variable": "FUND"
         },
         {
          "Year": 1937,
          "value": null,
          "variable": "FUND"
         },
         {
          "Year": 1938,
          "value": null,
          "variable": "FUND"
         },
         {
          "Year": 1939,
          "value": null,
          "variable": "FUND"
         },
         {
          "Year": 1940,
          "value": null,
          "variable": "FUND"
         },
         {
          "Year": 1941,
          "value": null,
          "variable": "FUND"
         },
         {
          "Year": 1942,
          "value": null,
          "variable": "FUND"
         },
         {
          "Year": 1943,
          "value": null,
          "variable": "FUND"
         },
         {
          "Year": 1944,
          "value": null,
          "variable": "FUND"
         },
         {
          "Year": 1945,
          "value": null,
          "variable": "FUND"
         },
         {
          "Year": 1946,
          "value": null,
          "variable": "FUND"
         },
         {
          "Year": 1947,
          "value": null,
          "variable": "FUND"
         },
         {
          "Year": 1948,
          "value": null,
          "variable": "FUND"
         },
         {
          "Year": 1949,
          "value": null,
          "variable": "FUND"
         },
         {
          "Year": 1950,
          "value": null,
          "variable": "FUND"
         },
         {
          "Year": 1951,
          "value": -4269488936.7738442,
          "variable": "FUND"
         },
         {
          "Year": 1952,
          "value": -4898961731.11659,
          "variable": "FUND"
         },
         {
          "Year": 1953,
          "value": -5599344757.452444,
          "variable": "FUND"
         },
         {
          "Year": 1954,
          "value": -6287562786.800857,
          "variable": "FUND"
         },
         {
          "Year": 1955,
          "value": -7018465468.305371,
          "variable": "FUND"
         },
         {
          "Year": 1956,
          "value": -7798578740.65406,
          "variable": "FUND"
         },
         {
          "Year": 1957,
          "value": -8633014100.44929,
          "variable": "FUND"
         },
         {
          "Year": 1958,
          "value": -9501378025.977509,
          "variable": "FUND"
         },
         {
          "Year": 1959,
          "value": -10407562156.213524,
          "variable": "FUND"
         },
         {
          "Year": 1960,
          "value": -11336094815.243977,
          "variable": "FUND"
         },
         {
          "Year": 1961,
          "value": -12363524825.637825,
          "variable": "FUND"
         },
         {
          "Year": 1962,
          "value": -13437473973.16039,
          "variable": "FUND"
         },
         {
          "Year": 1963,
          "value": -14559394161.83854,
          "variable": "FUND"
         },
         {
          "Year": 1964,
          "value": -15746966853.463776,
          "variable": "FUND"
         },
         {
          "Year": 1965,
          "value": -17000325213.767809,
          "variable": "FUND"
         },
         {
          "Year": 1966,
          "value": -18325920789.32839,
          "variable": "FUND"
         },
         {
          "Year": 1967,
          "value": -19741726738.879242,
          "variable": "FUND"
         },
         {
          "Year": 1968,
          "value": -21242298327.11398,
          "variable": "FUND"
         },
         {
          "Year": 1969,
          "value": -22811245514.779564,
          "variable": "FUND"
         },
         {
          "Year": 1970,
          "value": -24437565773.763298,
          "variable": "FUND"
         },
         {
          "Year": 1971,
          "value": -26066855572.055374,
          "variable": "FUND"
         },
         {
          "Year": 1972,
          "value": -27868838685.18123,
          "variable": "FUND"
         },
         {
          "Year": 1973,
          "value": -29771267364.173943,
          "variable": "FUND"
         },
         {
          "Year": 1974,
          "value": -31761047441.531933,
          "variable": "FUND"
         },
         {
          "Year": 1975,
          "value": -33859665143.443825,
          "variable": "FUND"
         },
         {
          "Year": 1976,
          "value": -36071862458.85372,
          "variable": "FUND"
         },
         {
          "Year": 1977,
          "value": -38393373611.93863,
          "variable": "FUND"
         },
         {
          "Year": 1978,
          "value": -40801469411.00194,
          "variable": "FUND"
         },
         {
          "Year": 1979,
          "value": -43306734740.49733,
          "variable": "FUND"
         },
         {
          "Year": 1980,
          "value": -45989667615.15862,
          "variable": "FUND"
         },
         {
          "Year": 1981,
          "value": -49304497248.852196,
          "variable": "FUND"
         },
         {
          "Year": 1982,
          "value": -53085682235.166084,
          "variable": "FUND"
         },
         {
          "Year": 1983,
          "value": -57116723334.459,
          "variable": "FUND"
         },
         {
          "Year": 1984,
          "value": -61398588311.511314,
          "variable": "FUND"
         },
         {
          "Year": 1985,
          "value": -65953626643.13713,
          "variable": "FUND"
         },
         {
          "Year": 1986,
          "value": -70841375355.82968,
          "variable": "FUND"
         },
         {
          "Year": 1987,
          "value": -76119085948.4198,
          "variable": "FUND"
         },
         {
          "Year": 1988,
          "value": -81804891810.88132,
          "variable": "FUND"
         },
         {
          "Year": 1989,
          "value": -87976099155.43994,
          "variable": "FUND"
         },
         {
          "Year": 1990,
          "value": -94524558950.44792,
          "variable": "FUND"
         },
         {
          "Year": 1991,
          "value": -98175067072.30229,
          "variable": "FUND"
         },
         {
          "Year": 1992,
          "value": -102414945680.41068,
          "variable": "FUND"
         },
         {
          "Year": 1993,
          "value": -106869145189.92331,
          "variable": "FUND"
         },
         {
          "Year": 1994,
          "value": -111547761980.53091,
          "variable": "FUND"
         },
         {
          "Year": 1995,
          "value": -116486810825.00821,
          "variable": "FUND"
         },
         {
          "Year": 1996,
          "value": -122906344861.55655,
          "variable": "FUND"
         },
         {
          "Year": 1997,
          "value": -129276511673.07646,
          "variable": "FUND"
         },
         {
          "Year": 1998,
          "value": -136544814613.9002,
          "variable": "FUND"
         },
         {
          "Year": 1999,
          "value": -110479081335.52911,
          "variable": "FUND"
         },
         {
          "Year": 2000,
          "value": -147421492444.2596,
          "variable": "FUND"
         },
         {
          "Year": 2001,
          "value": -156227924236.07462,
          "variable": "FUND"
         },
         {
          "Year": 2002,
          "value": -161906578840.05737,
          "variable": "FUND"
         },
         {
          "Year": 2003,
          "value": -167973493758.88095,
          "variable": "FUND"
         },
         {
          "Year": 2004,
          "value": -174182913934.91022,
          "variable": "FUND"
         },
         {
          "Year": 2005,
          "value": -180412977895.47623,
          "variable": "FUND"
         },
         {
          "Year": 2006,
          "value": -186584295207.38577,
          "variable": "FUND"
         },
         {
          "Year": 2007,
          "value": -192724313984.0817,
          "variable": "FUND"
         },
         {
          "Year": 2008,
          "value": -198952974444.75296,
          "variable": "FUND"
         },
         {
          "Year": 2009,
          "value": -205260101728.13672,
          "variable": "FUND"
         },
         {
          "Year": 2010,
          "value": -211723444106.50668,
          "variable": "FUND"
         },
         {
          "Year": 2011,
          "value": -218421643624.35355,
          "variable": "FUND"
         },
         {
          "Year": 2012,
          "value": -225238029574.32938,
          "variable": "FUND"
         },
         {
          "Year": 2013,
          "value": -232143932237.01947,
          "variable": "FUND"
         },
         {
          "Year": 2014,
          "value": -239573197471.72903,
          "variable": "FUND"
         },
         {
          "Year": 2015,
          "value": -246571482999.76367,
          "variable": "FUND"
         },
         {
          "Year": 2016,
          "value": -253650692444.74576,
          "variable": "FUND"
         },
         {
          "Year": 2017,
          "value": -260797195436.33768,
          "variable": "FUND"
         },
         {
          "Year": 2018,
          "value": -268197972902.63544,
          "variable": "FUND"
         },
         {
          "Year": 2019,
          "value": -275310311100.09015,
          "variable": "FUND"
         },
         {
          "Year": 2020,
          "value": -282390172344.27594,
          "variable": "FUND"
         },
         {
          "Year": 2021,
          "value": -289390398284.8916,
          "variable": "FUND"
         },
         {
          "Year": 2022,
          "value": -296337862152.2896,
          "variable": "FUND"
         },
         {
          "Year": 2023,
          "value": -303246161843.11536,
          "variable": "FUND"
         },
         {
          "Year": 2024,
          "value": -310096744256.5997,
          "variable": "FUND"
         },
         {
          "Year": 2025,
          "value": -316876542574.7882,
          "variable": "FUND"
         },
         {
          "Year": 2026,
          "value": -323562542407.7073,
          "variable": "FUND"
         },
         {
          "Year": 2027,
          "value": -330126494180.9564,
          "variable": "FUND"
         },
         {
          "Year": 2028,
          "value": -336551708491.733,
          "variable": "FUND"
         },
         {
          "Year": 2029,
          "value": -342815327964.44543,
          "variable": "FUND"
         },
         {
          "Year": 2030,
          "value": -348845992873.7225,
          "variable": "FUND"
         },
         {
          "Year": 2031,
          "value": -354541374673.37604,
          "variable": "FUND"
         },
         {
          "Year": 2032,
          "value": -360037458845.4674,
          "variable": "FUND"
         },
         {
          "Year": 2033,
          "value": -365315375289.8936,
          "variable": "FUND"
         },
         {
          "Year": 2034,
          "value": -370365622521.7213,
          "variable": "FUND"
         },
         {
          "Year": 2035,
          "value": -375175503889.7831,
          "variable": "FUND"
         },
         {
          "Year": 2036,
          "value": -379724370031.8671,
          "variable": "FUND"
         },
         {
          "Year": 2037,
          "value": -383985207852.0342,
          "variable": "FUND"
         },
         {
          "Year": 2038,
          "value": -387926519837.67444,
          "variable": "FUND"
         },
         {
          "Year": 2039,
          "value": -391519960945.0744,
          "variable": "FUND"
         },
         {
          "Year": 2040,
          "value": -394764758910.0275,
          "variable": "FUND"
         },
         {
          "Year": 2041,
          "value": -397640648089.9154,
          "variable": "FUND"
         },
         {
          "Year": 2042,
          "value": -400022133255.2803,
          "variable": "FUND"
         },
         {
          "Year": 2043,
          "value": -401887295383.6199,
          "variable": "FUND"
         },
         {
          "Year": 2044,
          "value": -403197565330.45856,
          "variable": "FUND"
         },
         {
          "Year": 2045,
          "value": -403924149456.3336,
          "variable": "FUND"
         },
         {
          "Year": 2046,
          "value": -404024903051.21423,
          "variable": "FUND"
         },
         {
          "Year": 2047,
          "value": -403476215145.78394,
          "variable": "FUND"
         },
         {
          "Year": 2048,
          "value": -402243321755.2561,
          "variable": "FUND"
         },
         {
          "Year": 2049,
          "value": -400287559586.8376,
          "variable": "FUND"
         },
         {
          "Year": 2050,
          "value": -397639345242.0446,
          "variable": "FUND"
         },
         {
          "Year": 2051,
          "value": -394310963515.4089,
          "variable": "FUND"
         },
         {
          "Year": 2052,
          "value": -390242272534.4708,
          "variable": "FUND"
         },
         {
          "Year": 2053,
          "value": -385533858661.6515,
          "variable": "FUND"
         },
         {
          "Year": 2054,
          "value": -380023117398.1218,
          "variable": "FUND"
         },
         {
          "Year": 2055,
          "value": -373670308063.4546,
          "variable": "FUND"
         },
         {
          "Year": 2056,
          "value": -366434292107.53076,
          "variable": "FUND"
         },
         {
          "Year": 2057,
          "value": -358276547772.4104,
          "variable": "FUND"
         },
         {
          "Year": 2058,
          "value": -349153207820.6729,
          "variable": "FUND"
         },
         {
          "Year": 2059,
          "value": -339009015857.9313,
          "variable": "FUND"
         },
         {
          "Year": 2060,
          "value": -327822035741.0658,
          "variable": "FUND"
         },
         {
          "Year": 2061,
          "value": -315548916414.1379,
          "variable": "FUND"
         },
         {
          "Year": 2062,
          "value": -302137418901.009,
          "variable": "FUND"
         },
         {
          "Year": 2063,
          "value": -287524128520.22736,
          "variable": "FUND"
         },
         {
          "Year": 2064,
          "value": -271649149220.5476,
          "variable": "FUND"
         },
         {
          "Year": 2065,
          "value": -254465364701.24103,
          "variable": "FUND"
         },
         {
          "Year": 2066,
          "value": -235892206742.44794,
          "variable": "FUND"
         },
         {
          "Year": 2067,
          "value": -215861381819.56888,
          "variable": "FUND"
         },
         {
          "Year": 2068,
          "value": -194304318533.70502,
          "variable": "FUND"
         },
         {
          "Year": 2069,
          "value": -171143772991.50778,
          "variable": "FUND"
         },
         {
          "Year": 2070,
          "value": -146323153123.07855,
          "variable": "FUND"
         },
         {
          "Year": 2071,
          "value": -119776474493.50351,
          "variable": "FUND"
         },
         {
          "Year": 2072,
          "value": -91352429405.75066,
          "variable": "FUND"
         },
         {
          "Year": 2073,
          "value": -61011211394.57288,
          "variable": "FUND"
         },
         {
          "Year": 2074,
          "value": -28670834190.065582,
          "variable": "FUND"
         },
         {
          "Year": 2075,
          "value": 5741032895.0882435,
          "variable": "FUND"
         },
         {
          "Year": 2076,
          "value": 42323730239.889694,
          "variable": "FUND"
         },
         {
          "Year": 2077,
          "value": 81133070214.44362,
          "variable": "FUND"
         },
         {
          "Year": 2078,
          "value": 122187627453.35428,
          "variable": "FUND"
         },
         {
          "Year": 2079,
          "value": 165543523142.39185,
          "variable": "FUND"
         },
         {
          "Year": 2080,
          "value": 211295060086.953,
          "variable": "FUND"
         },
         {
          "Year": 2081,
          "value": 259644858335.66718,
          "variable": "FUND"
         },
         {
          "Year": 2082,
          "value": 310570998804.04584,
          "variable": "FUND"
         },
         {
          "Year": 2083,
          "value": 364121328250.07196,
          "variable": "FUND"
         },
         {
          "Year": 2084,
          "value": 420336192310.46594,
          "variable": "FUND"
         },
         {
          "Year": 2085,
          "value": 479263672755.6589,
          "variable": "FUND"
         },
         {
          "Year": 2086,
          "value": 540992297863.0891,
          "variable": "FUND"
         },
         {
          "Year": 2087,
          "value": 605558836256.1995,
          "variable": "FUND"
         },
         {
          "Year": 2088,
          "value": 673004104108.177,
          "variable": "FUND"
         },
         {
          "Year": 2089,
          "value": 743382305241.0021,
          "variable": "FUND"
         },
         {
          "Year": 2090,
          "value": 816627995764.0876,
          "variable": "FUND"
         },
         {
          "Year": 2091,
          "value": 892709963264.2834,
          "variable": "FUND"
         },
         {
          "Year": 2092,
          "value": 971694989714.9474,
          "variable": "FUND"
         },
         {
          "Year": 2093,
          "value": 1053672304078.3556,
          "variable": "FUND"
         },
         {
          "Year": 2094,
          "value": 1138678352965.5144,
          "variable": "FUND"
         },
         {
          "Year": 2095,
          "value": 1226712207575.1572,
          "variable": "FUND"
         },
         {
          "Year": 2096,
          "value": 1317850008620.1812,
          "variable": "FUND"
         },
         {
          "Year": 2097,
          "value": 1412086601694.3965,
          "variable": "FUND"
         },
         {
          "Year": 2098,
          "value": 1509431726041.9814,
          "variable": "FUND"
         },
         {
          "Year": 2099,
          "value": 1609898744102.9587,
          "variable": "FUND"
         },
         {
          "Year": 2100,
          "value": 1713372180564.2913,
          "variable": "FUND"
         },
         {
          "Year": 2101,
          "value": 1819543759880.43,
          "variable": "FUND"
         },
         {
          "Year": 2102,
          "value": 1928578707003.1025,
          "variable": "FUND"
         },
         {
          "Year": 2103,
          "value": 2040576383994.1958,
          "variable": "FUND"
         },
         {
          "Year": 2104,
          "value": 2155551046473.3674,
          "variable": "FUND"
         },
         {
          "Year": 2105,
          "value": 2273511297297.787,
          "variable": "FUND"
         },
         {
          "Year": 2106,
          "value": 2394461619652.865,
          "variable": "FUND"
         },
         {
          "Year": 2107,
          "value": 2518403759597.8516,
          "variable": "FUND"
         },
         {
          "Year": 2108,
          "value": 2645343919007.6724,
          "variable": "FUND"
         },
         {
          "Year": 2109,
          "value": 2775261589218.7007,
          "variable": "FUND"
         },
         {
          "Year": 2110,
          "value": 2908144947245.8716,
          "variable": "FUND"
         },
         {
          "Year": 2111,
          "value": 3043963375529.409,
          "variable": "FUND"
         },
         {
          "Year": 2112,
          "value": 3182710878848.605,
          "variable": "FUND"
         },
         {
          "Year": 2113,
          "value": 3324359123701.377,
          "variable": "FUND"
         },
         {
          "Year": 2114,
          "value": 3468876375826.7954,
          "variable": "FUND"
         },
         {
          "Year": 2115,
          "value": 3616222324089.4263,
          "variable": "FUND"
         },
         {
          "Year": 2116,
          "value": 3766372393984.0317,
          "variable": "FUND"
         },
         {
          "Year": 2117,
          "value": 3919236766957.5537,
          "variable": "FUND"
         },
         {
          "Year": 2118,
          "value": 4074782354938.308,
          "variable": "FUND"
         },
         {
          "Year": 2119,
          "value": 4232945734297.3247,
          "variable": "FUND"
         },
         {
          "Year": 2120,
          "value": 4393661243709.5186,
          "variable": "FUND"
         },
         {
          "Year": 2121,
          "value": 4556866086131.109,
          "variable": "FUND"
         },
         {
          "Year": 2122,
          "value": 4722519012001.995,
          "variable": "FUND"
         },
         {
          "Year": 2123,
          "value": 4890556400620.214,
          "variable": "FUND"
         },
         {
          "Year": 2124,
          "value": 5060893150024.567,
          "variable": "FUND"
         },
         {
          "Year": 2125,
          "value": 5233446332767.832,
          "variable": "FUND"
         },
         {
          "Year": 2126,
          "value": 5408124837747.282,
          "variable": "FUND"
         },
         {
          "Year": 2127,
          "value": 5584837953666.97,
          "variable": "FUND"
         },
         {
          "Year": 2128,
          "value": 5763487596616.694,
          "variable": "FUND"
         },
         {
          "Year": 2129,
          "value": 5943971450846.703,
          "variable": "FUND"
         },
         {
          "Year": 2130,
          "value": 6126187187573.982,
          "variable": "FUND"
         },
         {
          "Year": 2131,
          "value": 6310022272077.732,
          "variable": "FUND"
         },
         {
          "Year": 2132,
          "value": 6495363418329.478,
          "variable": "FUND"
         },
         {
          "Year": 2133,
          "value": 6682097757479.93,
          "variable": "FUND"
         },
         {
          "Year": 2134,
          "value": 6870102151613.744,
          "variable": "FUND"
         },
         {
          "Year": 2135,
          "value": 7059258079477.901,
          "variable": "FUND"
         },
         {
          "Year": 2136,
          "value": 7249444336956.1875,
          "variable": "FUND"
         },
         {
          "Year": 2137,
          "value": 7440530220143.657,
          "variable": "FUND"
         },
         {
          "Year": 2138,
          "value": 7632385455055.6045,
          "variable": "FUND"
         },
         {
          "Year": 2139,
          "value": 7824873001301.121,
          "variable": "FUND"
         },
         {
          "Year": 2140,
          "value": 8017864907663.466,
          "variable": "FUND"
         },
         {
          "Year": 2141,
          "value": 8211230553976.586,
          "variable": "FUND"
         },
         {
          "Year": 2142,
          "value": 8404825660607.814,
          "variable": "FUND"
         },
         {
          "Year": 2143,
          "value": 8598516714961.346,
          "variable": "FUND"
         },
         {
          "Year": 2144,
          "value": 8792166719452.468,
          "variable": "FUND"
         },
         {
          "Year": 2145,
          "value": 8985630057512.094,
          "variable": "FUND"
         },
         {
          "Year": 2146,
          "value": 9178778012043.84,
          "variable": "FUND"
         },
         {
          "Year": 2147,
          "value": 9371449546473.576,
          "variable": "FUND"
         },
         {
          "Year": 2148,
          "value": 9563515636051.486,
          "variable": "FUND"
         },
         {
          "Year": 2149,
          "value": 9754839553131.443,
          "variable": "FUND"
         },
         {
          "Year": 2150,
          "value": 9945283548403.668,
          "variable": "FUND"
         },
         {
          "Year": 2151,
          "value": 10134697382346.59,
          "variable": "FUND"
         },
         {
          "Year": 2152,
          "value": 10324057250550.031,
          "variable": "FUND"
         },
         {
          "Year": 2153,
          "value": 10513385537665.828,
          "variable": "FUND"
         },
         {
          "Year": 2154,
          "value": 10702609740880.188,
          "variable": "FUND"
         },
         {
          "Year": 2155,
          "value": 10891663881381.082,
          "variable": "FUND"
         },
         {
          "Year": 2156,
          "value": 11080468824675.92,
          "variable": "FUND"
         },
         {
          "Year": 2157,
          "value": 11268961560349.016,
          "variable": "FUND"
         },
         {
          "Year": 2158,
          "value": 11457079066668.41,
          "variable": "FUND"
         },
         {
          "Year": 2159,
          "value": 11644735570559.611,
          "variable": "FUND"
         },
         {
          "Year": 2160,
          "value": 11831889354040.402,
          "variable": "FUND"
         },
         {
          "Year": 2161,
          "value": 12018468570914.58,
          "variable": "FUND"
         },
         {
          "Year": 2162,
          "value": 12204411434808.18,
          "variable": "FUND"
         },
         {
          "Year": 2163,
          "value": 12389662525790.389,
          "variable": "FUND"
         },
         {
          "Year": 2164,
          "value": 12574164652660.928,
          "variable": "FUND"
         },
         {
          "Year": 2165,
          "value": 12757855000385.174,
          "variable": "FUND"
         },
         {
          "Year": 2166,
          "value": 12940687930681.006,
          "variable": "FUND"
         },
         {
          "Year": 2167,
          "value": 13122602194873.41,
          "variable": "FUND"
         },
         {
          "Year": 2168,
          "value": 13303554131894.592,
          "variable": "FUND"
         },
         {
          "Year": 2169,
          "value": 13483491407339.342,
          "variable": "FUND"
         },
         {
          "Year": 2170,
          "value": 13662366618646.068,
          "variable": "FUND"
         },
         {
          "Year": 2171,
          "value": 13840120653497.092,
          "variable": "FUND"
         },
         {
          "Year": 2172,
          "value": 14016740762862.486,
          "variable": "FUND"
         },
         {
          "Year": 2173,
          "value": 14192167319163.203,
          "variable": "FUND"
         },
         {
          "Year": 2174,
          "value": 14366367159307.541,
          "variable": "FUND"
         },
         {
          "Year": 2175,
          "value": 14539290989821.273,
          "variable": "FUND"
         },
         {
          "Year": 2176,
          "value": 14710913541884.697,
          "variable": "FUND"
         },
         {
          "Year": 2177,
          "value": 14881196728916.91,
          "variable": "FUND"
         },
         {
          "Year": 2178,
          "value": 15050107805895.59,
          "variable": "FUND"
         },
         {
          "Year": 2179,
          "value": 15217622213216.469,
          "variable": "FUND"
         },
         {
          "Year": 2180,
          "value": 15383709725171.2,
          "variable": "FUND"
         },
         {
          "Year": 2181,
          "value": 15548352784656.96,
          "variable": "FUND"
         },
         {
          "Year": 2182,
          "value": 15711511951151.88,
          "variable": "FUND"
         },
         {
          "Year": 2183,
          "value": 15873182363546.516,
          "variable": "FUND"
         },
         {
          "Year": 2184,
          "value": 16033332097929.646,
          "variable": "FUND"
         },
         {
          "Year": 2185,
          "value": 16191926364757.754,
          "variable": "FUND"
         },
         {
          "Year": 2186,
          "value": 16348972345223.824,
          "variable": "FUND"
         },
         {
          "Year": 2187,
          "value": 16504438054374.41,
          "variable": "FUND"
         },
         {
          "Year": 2188,
          "value": 16658324016624.396,
          "variable": "FUND"
         },
         {
          "Year": 2189,
          "value": 16810613531160.775,
          "variable": "FUND"
         },
         {
          "Year": 2190,
          "value": 16961296839931.031,
          "variable": "FUND"
         },
         {
          "Year": 2191,
          "value": 17104718449675.896,
          "variable": "FUND"
         },
         {
          "Year": 2192,
          "value": 17244496623421.684,
          "variable": "FUND"
         },
         {
          "Year": 2193,
          "value": 17372512181542.844,
          "variable": "FUND"
         },
         {
          "Year": 2194,
          "value": 17516247212813.14,
          "variable": "FUND"
         },
         {
          "Year": 2195,
          "value": 17658444042697.71,
          "variable": "FUND"
         },
         {
          "Year": 2196,
          "value": 17798994590445.797,
          "variable": "FUND"
         },
         {
          "Year": 2197,
          "value": 17937913740150.895,
          "variable": "FUND"
         },
         {
          "Year": 2198,
          "value": 18075181117209.914,
          "variable": "FUND"
         },
         {
          "Year": 2199,
          "value": 18210830298849.78,
          "variable": "FUND"
         },
         {
          "Year": 2200,
          "value": 18344860686658.348,
          "variable": "FUND"
         },
         {
          "Year": 2201,
          "value": 18478735728507.793,
          "variable": "FUND"
         },
         {
          "Year": 2202,
          "value": 18612032309166.95,
          "variable": "FUND"
         },
         {
          "Year": 2203,
          "value": 18744762587659.25,
          "variable": "FUND"
         },
         {
          "Year": 2204,
          "value": 18876927027911.312,
          "variable": "FUND"
         },
         {
          "Year": 2205,
          "value": 19008538682204.44,
          "variable": "FUND"
         },
         {
          "Year": 2206,
          "value": 19139583801099.383,
          "variable": "FUND"
         },
         {
          "Year": 2207,
          "value": 19270123116880.387,
          "variable": "FUND"
         },
         {
          "Year": 2208,
          "value": 19400097734132.03,
          "variable": "FUND"
         },
         {
          "Year": 2209,
          "value": 19529562966061.832,
          "variable": "FUND"
         },
         {
          "Year": 2210,
          "value": 19658510157541.82,
          "variable": "FUND"
         },
         {
          "Year": 2211,
          "value": 19786647697905.11,
          "variable": "FUND"
         },
         {
          "Year": 2212,
          "value": 19913470024490.43,
          "variable": "FUND"
         },
         {
          "Year": 2213,
          "value": 20040958266016.195,
          "variable": "FUND"
         },
         {
          "Year": 2214,
          "value": 20167961658639.918,
          "variable": "FUND"
         },
         {
          "Year": 2215,
          "value": 20294494654456.31,
          "variable": "FUND"
         },
         {
          "Year": 2216,
          "value": 20420618974296.676,
          "variable": "FUND"
         },
         {
          "Year": 2217,
          "value": 20546304060887.88,
          "variable": "FUND"
         },
         {
          "Year": 2218,
          "value": 20671566229795.14,
          "variable": "FUND"
         },
         {
          "Year": 2219,
          "value": 20796423385251.63,
          "variable": "FUND"
         },
         {
          "Year": 2220,
          "value": 20920862719673.562,
          "variable": "FUND"
         },
         {
          "Year": 2221,
          "value": 21044950556004.918,
          "variable": "FUND"
         },
         {
          "Year": 2222,
          "value": 21168682953088.457,
          "variable": "FUND"
         },
         {
          "Year": 2223,
          "value": 21292020685232.14,
          "variable": "FUND"
         },
         {
          "Year": 2224,
          "value": 21411374441359.152,
          "variable": "FUND"
         },
         {
          "Year": 2225,
          "value": 21531932712518.51,
          "variable": "FUND"
         },
         {
          "Year": 2226,
          "value": 21652228765215.965,
          "variable": "FUND"
         },
         {
          "Year": 2227,
          "value": 21772965471632.91,
          "variable": "FUND"
         },
         {
          "Year": 2228,
          "value": 21892849008880.58,
          "variable": "FUND"
         },
         {
          "Year": 2229,
          "value": 22011855722490.887,
          "variable": "FUND"
         },
         {
          "Year": 2230,
          "value": 22129976322392.12,
          "variable": "FUND"
         },
         {
          "Year": 2231,
          "value": 22247260219805.918,
          "variable": "FUND"
         },
         {
          "Year": 2232,
          "value": 22363660228961.547,
          "variable": "FUND"
         },
         {
          "Year": 2233,
          "value": 22479232636336.52,
          "variable": "FUND"
         },
         {
          "Year": 2234,
          "value": 22594036969193.58,
          "variable": "FUND"
         },
         {
          "Year": 2235,
          "value": 22708041507366.203,
          "variable": "FUND"
         },
         {
          "Year": 2236,
          "value": 22821258152160.445,
          "variable": "FUND"
         },
         {
          "Year": 2237,
          "value": 22933675352818.32,
          "variable": "FUND"
         },
         {
          "Year": 2238,
          "value": 23028525423533.117,
          "variable": "FUND"
         },
         {
          "Year": 2239,
          "value": 23123959134333.97,
          "variable": "FUND"
         },
         {
          "Year": 2240,
          "value": 23233781019570.84,
          "variable": "FUND"
         },
         {
          "Year": 2241,
          "value": 23342865500881.457,
          "variable": "FUND"
         },
         {
          "Year": 2242,
          "value": 23451221059312.82,
          "variable": "FUND"
         },
         {
          "Year": 2243,
          "value": 23558859072462.58,
          "variable": "FUND"
         },
         {
          "Year": 2244,
          "value": 23665836358866.105,
          "variable": "FUND"
         },
         {
          "Year": 2245,
          "value": 23772109236412.39,
          "variable": "FUND"
         },
         {
          "Year": 2246,
          "value": 23877687422555.7,
          "variable": "FUND"
         },
         {
          "Year": 2247,
          "value": 23982618818131.31,
          "variable": "FUND"
         },
         {
          "Year": 2248,
          "value": 24086906212086.734,
          "variable": "FUND"
         },
         {
          "Year": 2249,
          "value": 24190641331926.133,
          "variable": "FUND"
         },
         {
          "Year": 2250,
          "value": 24293687796424.75,
          "variable": "FUND"
         },
         {
          "Year": 2251,
          "value": 24396084630213.69,
          "variable": "FUND"
         },
         {
          "Year": 2252,
          "value": 24497915096913.54,
          "variable": "FUND"
         },
         {
          "Year": 2253,
          "value": 24599199107909.64,
          "variable": "FUND"
         },
         {
          "Year": 2254,
          "value": 24699904957220.547,
          "variable": "FUND"
         },
         {
          "Year": 2255,
          "value": 24800094539902.47,
          "variable": "FUND"
         },
         {
          "Year": 2256,
          "value": 24899691122923.047,
          "variable": "FUND"
         },
         {
          "Year": 2257,
          "value": 24998767391302.09,
          "variable": "FUND"
         },
         {
          "Year": 2258,
          "value": 25097431086990.312,
          "variable": "FUND"
         },
         {
          "Year": 2259,
          "value": 25195547512396.758,
          "variable": "FUND"
         },
         {
          "Year": 2260,
          "value": 25293147096635.188,
          "variable": "FUND"
         },
         {
          "Year": 2261,
          "value": 25390284131549.168,
          "variable": "FUND"
         },
         {
          "Year": 2262,
          "value": 25486920900689.17,
          "variable": "FUND"
         },
         {
          "Year": 2263,
          "value": 25583135793413.45,
          "variable": "FUND"
         },
         {
          "Year": 2264,
          "value": 25678865382883.02,
          "variable": "FUND"
         },
         {
          "Year": 2265,
          "value": 25774092516449.477,
          "variable": "FUND"
         },
         {
          "Year": 2266,
          "value": 25868884643009.54,
          "variable": "FUND"
         },
         {
          "Year": 2267,
          "value": 25963261253877.523,
          "variable": "FUND"
         },
         {
          "Year": 2268,
          "value": 26057129929287.883,
          "variable": "FUND"
         },
         {
          "Year": 2269,
          "value": 26150609867246.105,
          "variable": "FUND"
         },
         {
          "Year": 2270,
          "value": 26243632453238.637,
          "variable": "FUND"
         },
         {
          "Year": 2271,
          "value": 26336306959970,
          "variable": "FUND"
         },
         {
          "Year": 2272,
          "value": 26428576150595.836,
          "variable": "FUND"
         },
         {
          "Year": 2273,
          "value": 26520446573700.402,
          "variable": "FUND"
         },
         {
          "Year": 2274,
          "value": 26611950025378.348,
          "variable": "FUND"
         },
         {
          "Year": 2275,
          "value": 26702972347351.125,
          "variable": "FUND"
         },
         {
          "Year": 2276,
          "value": 26793694623092.656,
          "variable": "FUND"
         },
         {
          "Year": 2277,
          "value": 26883958172603.984,
          "variable": "FUND"
         },
         {
          "Year": 2278,
          "value": 26973865282930.68,
          "variable": "FUND"
         },
         {
          "Year": 2279,
          "value": 27063393995062.508,
          "variable": "FUND"
         },
         {
          "Year": 2280,
          "value": 27152606221263.113,
          "variable": "FUND"
         },
         {
          "Year": 2281,
          "value": 27230870101013.555,
          "variable": "FUND"
         },
         {
          "Year": 2282,
          "value": 27318375279956.645,
          "variable": "FUND"
         },
         {
          "Year": 2283,
          "value": 27406404910785.348,
          "variable": "FUND"
         },
         {
          "Year": 2284,
          "value": 27494108783417.957,
          "variable": "FUND"
         },
         {
          "Year": 2285,
          "value": 27581388025065.86,
          "variable": "FUND"
         },
         {
          "Year": 2286,
          "value": 27668484613061.76,
          "variable": "FUND"
         },
         {
          "Year": 2287,
          "value": 27755130758973.69,
          "variable": "FUND"
         },
         {
          "Year": 2288,
          "value": 27841482635621.254,
          "variable": "FUND"
         },
         {
          "Year": 2289,
          "value": 27927484219156.023,
          "variable": "FUND"
         },
         {
          "Year": 2290,
          "value": 28013186838314.117,
          "variable": "FUND"
         },
         {
          "Year": 2291,
          "value": 28098625563166.863,
          "variable": "FUND"
         },
         {
          "Year": 2292,
          "value": 28183724632634.977,
          "variable": "FUND"
         },
         {
          "Year": 2293,
          "value": 28268424554038.9,
          "variable": "FUND"
         },
         {
          "Year": 2294,
          "value": 28352952361035.977,
          "variable": "FUND"
         },
         {
          "Year": 2295,
          "value": 28437148006920.527,
          "variable": "FUND"
         },
         {
          "Year": 2296,
          "value": 28520982605554.594,
          "variable": "FUND"
         },
         {
          "Year": 2297,
          "value": 28604525307207.785,
          "variable": "FUND"
         },
         {
          "Year": 2298,
          "value": 28687680236024.223,
          "variable": "FUND"
         },
         {
          "Year": 2299,
          "value": 28770584444342.26,
          "variable": "FUND"
         },
         {
          "Year": 2300,
          "value": 28853242188616.035,
          "variable": "FUND"
         },
         {
          "Year": 1750,
          "value": null,
          "variable": "FUNDFAIR"
         },
         {
          "Year": 1751,
          "value": null,
          "variable": "FUNDFAIR"
         },
         {
          "Year": 1752,
          "value": null,
          "variable": "FUNDFAIR"
         },
         {
          "Year": 1753,
          "value": null,
          "variable": "FUNDFAIR"
         },
         {
          "Year": 1754,
          "value": null,
          "variable": "FUNDFAIR"
         },
         {
          "Year": 1755,
          "value": null,
          "variable": "FUNDFAIR"
         },
         {
          "Year": 1756,
          "value": null,
          "variable": "FUNDFAIR"
         },
         {
          "Year": 1757,
          "value": null,
          "variable": "FUNDFAIR"
         },
         {
          "Year": 1758,
          "value": null,
          "variable": "FUNDFAIR"
         },
         {
          "Year": 1759,
          "value": null,
          "variable": "FUNDFAIR"
         },
         {
          "Year": 1760,
          "value": null,
          "variable": "FUNDFAIR"
         },
         {
          "Year": 1761,
          "value": null,
          "variable": "FUNDFAIR"
         },
         {
          "Year": 1762,
          "value": null,
          "variable": "FUNDFAIR"
         },
         {
          "Year": 1763,
          "value": null,
          "variable": "FUNDFAIR"
         },
         {
          "Year": 1764,
          "value": null,
          "variable": "FUNDFAIR"
         },
         {
          "Year": 1765,
          "value": null,
          "variable": "FUNDFAIR"
         },
         {
          "Year": 1766,
          "value": null,
          "variable": "FUNDFAIR"
         },
         {
          "Year": 1767,
          "value": null,
          "variable": "FUNDFAIR"
         },
         {
          "Year": 1768,
          "value": null,
          "variable": "FUNDFAIR"
         },
         {
          "Year": 1769,
          "value": null,
          "variable": "FUNDFAIR"
         },
         {
          "Year": 1770,
          "value": null,
          "variable": "FUNDFAIR"
         },
         {
          "Year": 1771,
          "value": null,
          "variable": "FUNDFAIR"
         },
         {
          "Year": 1772,
          "value": null,
          "variable": "FUNDFAIR"
         },
         {
          "Year": 1773,
          "value": null,
          "variable": "FUNDFAIR"
         },
         {
          "Year": 1774,
          "value": null,
          "variable": "FUNDFAIR"
         },
         {
          "Year": 1775,
          "value": null,
          "variable": "FUNDFAIR"
         },
         {
          "Year": 1776,
          "value": null,
          "variable": "FUNDFAIR"
         },
         {
          "Year": 1777,
          "value": null,
          "variable": "FUNDFAIR"
         },
         {
          "Year": 1778,
          "value": null,
          "variable": "FUNDFAIR"
         },
         {
          "Year": 1779,
          "value": null,
          "variable": "FUNDFAIR"
         },
         {
          "Year": 1780,
          "value": null,
          "variable": "FUNDFAIR"
         },
         {
          "Year": 1781,
          "value": null,
          "variable": "FUNDFAIR"
         },
         {
          "Year": 1782,
          "value": null,
          "variable": "FUNDFAIR"
         },
         {
          "Year": 1783,
          "value": null,
          "variable": "FUNDFAIR"
         },
         {
          "Year": 1784,
          "value": null,
          "variable": "FUNDFAIR"
         },
         {
          "Year": 1785,
          "value": null,
          "variable": "FUNDFAIR"
         },
         {
          "Year": 1786,
          "value": null,
          "variable": "FUNDFAIR"
         },
         {
          "Year": 1787,
          "value": null,
          "variable": "FUNDFAIR"
         },
         {
          "Year": 1788,
          "value": null,
          "variable": "FUNDFAIR"
         },
         {
          "Year": 1789,
          "value": null,
          "variable": "FUNDFAIR"
         },
         {
          "Year": 1790,
          "value": null,
          "variable": "FUNDFAIR"
         },
         {
          "Year": 1791,
          "value": null,
          "variable": "FUNDFAIR"
         },
         {
          "Year": 1792,
          "value": null,
          "variable": "FUNDFAIR"
         },
         {
          "Year": 1793,
          "value": null,
          "variable": "FUNDFAIR"
         },
         {
          "Year": 1794,
          "value": null,
          "variable": "FUNDFAIR"
         },
         {
          "Year": 1795,
          "value": null,
          "variable": "FUNDFAIR"
         },
         {
          "Year": 1796,
          "value": null,
          "variable": "FUNDFAIR"
         },
         {
          "Year": 1797,
          "value": null,
          "variable": "FUNDFAIR"
         },
         {
          "Year": 1798,
          "value": null,
          "variable": "FUNDFAIR"
         },
         {
          "Year": 1799,
          "value": null,
          "variable": "FUNDFAIR"
         },
         {
          "Year": 1800,
          "value": null,
          "variable": "FUNDFAIR"
         },
         {
          "Year": 1801,
          "value": null,
          "variable": "FUNDFAIR"
         },
         {
          "Year": 1802,
          "value": null,
          "variable": "FUNDFAIR"
         },
         {
          "Year": 1803,
          "value": null,
          "variable": "FUNDFAIR"
         },
         {
          "Year": 1804,
          "value": null,
          "variable": "FUNDFAIR"
         },
         {
          "Year": 1805,
          "value": null,
          "variable": "FUNDFAIR"
         },
         {
          "Year": 1806,
          "value": null,
          "variable": "FUNDFAIR"
         },
         {
          "Year": 1807,
          "value": null,
          "variable": "FUNDFAIR"
         },
         {
          "Year": 1808,
          "value": null,
          "variable": "FUNDFAIR"
         },
         {
          "Year": 1809,
          "value": null,
          "variable": "FUNDFAIR"
         },
         {
          "Year": 1810,
          "value": null,
          "variable": "FUNDFAIR"
         },
         {
          "Year": 1811,
          "value": null,
          "variable": "FUNDFAIR"
         },
         {
          "Year": 1812,
          "value": null,
          "variable": "FUNDFAIR"
         },
         {
          "Year": 1813,
          "value": null,
          "variable": "FUNDFAIR"
         },
         {
          "Year": 1814,
          "value": null,
          "variable": "FUNDFAIR"
         },
         {
          "Year": 1815,
          "value": null,
          "variable": "FUNDFAIR"
         },
         {
          "Year": 1816,
          "value": null,
          "variable": "FUNDFAIR"
         },
         {
          "Year": 1817,
          "value": null,
          "variable": "FUNDFAIR"
         },
         {
          "Year": 1818,
          "value": null,
          "variable": "FUNDFAIR"
         },
         {
          "Year": 1819,
          "value": null,
          "variable": "FUNDFAIR"
         },
         {
          "Year": 1820,
          "value": null,
          "variable": "FUNDFAIR"
         },
         {
          "Year": 1821,
          "value": null,
          "variable": "FUNDFAIR"
         },
         {
          "Year": 1822,
          "value": null,
          "variable": "FUNDFAIR"
         },
         {
          "Year": 1823,
          "value": null,
          "variable": "FUNDFAIR"
         },
         {
          "Year": 1824,
          "value": null,
          "variable": "FUNDFAIR"
         },
         {
          "Year": 1825,
          "value": null,
          "variable": "FUNDFAIR"
         },
         {
          "Year": 1826,
          "value": null,
          "variable": "FUNDFAIR"
         },
         {
          "Year": 1827,
          "value": null,
          "variable": "FUNDFAIR"
         },
         {
          "Year": 1828,
          "value": null,
          "variable": "FUNDFAIR"
         },
         {
          "Year": 1829,
          "value": null,
          "variable": "FUNDFAIR"
         },
         {
          "Year": 1830,
          "value": null,
          "variable": "FUNDFAIR"
         },
         {
          "Year": 1831,
          "value": null,
          "variable": "FUNDFAIR"
         },
         {
          "Year": 1832,
          "value": null,
          "variable": "FUNDFAIR"
         },
         {
          "Year": 1833,
          "value": null,
          "variable": "FUNDFAIR"
         },
         {
          "Year": 1834,
          "value": null,
          "variable": "FUNDFAIR"
         },
         {
          "Year": 1835,
          "value": null,
          "variable": "FUNDFAIR"
         },
         {
          "Year": 1836,
          "value": null,
          "variable": "FUNDFAIR"
         },
         {
          "Year": 1837,
          "value": null,
          "variable": "FUNDFAIR"
         },
         {
          "Year": 1838,
          "value": null,
          "variable": "FUNDFAIR"
         },
         {
          "Year": 1839,
          "value": null,
          "variable": "FUNDFAIR"
         },
         {
          "Year": 1840,
          "value": null,
          "variable": "FUNDFAIR"
         },
         {
          "Year": 1841,
          "value": null,
          "variable": "FUNDFAIR"
         },
         {
          "Year": 1842,
          "value": null,
          "variable": "FUNDFAIR"
         },
         {
          "Year": 1843,
          "value": null,
          "variable": "FUNDFAIR"
         },
         {
          "Year": 1844,
          "value": null,
          "variable": "FUNDFAIR"
         },
         {
          "Year": 1845,
          "value": null,
          "variable": "FUNDFAIR"
         },
         {
          "Year": 1846,
          "value": null,
          "variable": "FUNDFAIR"
         },
         {
          "Year": 1847,
          "value": null,
          "variable": "FUNDFAIR"
         },
         {
          "Year": 1848,
          "value": null,
          "variable": "FUNDFAIR"
         },
         {
          "Year": 1849,
          "value": null,
          "variable": "FUNDFAIR"
         },
         {
          "Year": 1850,
          "value": null,
          "variable": "FUNDFAIR"
         },
         {
          "Year": 1851,
          "value": null,
          "variable": "FUNDFAIR"
         },
         {
          "Year": 1852,
          "value": null,
          "variable": "FUNDFAIR"
         },
         {
          "Year": 1853,
          "value": null,
          "variable": "FUNDFAIR"
         },
         {
          "Year": 1854,
          "value": null,
          "variable": "FUNDFAIR"
         },
         {
          "Year": 1855,
          "value": null,
          "variable": "FUNDFAIR"
         },
         {
          "Year": 1856,
          "value": null,
          "variable": "FUNDFAIR"
         },
         {
          "Year": 1857,
          "value": null,
          "variable": "FUNDFAIR"
         },
         {
          "Year": 1858,
          "value": null,
          "variable": "FUNDFAIR"
         },
         {
          "Year": 1859,
          "value": null,
          "variable": "FUNDFAIR"
         },
         {
          "Year": 1860,
          "value": null,
          "variable": "FUNDFAIR"
         },
         {
          "Year": 1861,
          "value": null,
          "variable": "FUNDFAIR"
         },
         {
          "Year": 1862,
          "value": null,
          "variable": "FUNDFAIR"
         },
         {
          "Year": 1863,
          "value": null,
          "variable": "FUNDFAIR"
         },
         {
          "Year": 1864,
          "value": null,
          "variable": "FUNDFAIR"
         },
         {
          "Year": 1865,
          "value": null,
          "variable": "FUNDFAIR"
         },
         {
          "Year": 1866,
          "value": null,
          "variable": "FUNDFAIR"
         },
         {
          "Year": 1867,
          "value": null,
          "variable": "FUNDFAIR"
         },
         {
          "Year": 1868,
          "value": null,
          "variable": "FUNDFAIR"
         },
         {
          "Year": 1869,
          "value": null,
          "variable": "FUNDFAIR"
         },
         {
          "Year": 1870,
          "value": null,
          "variable": "FUNDFAIR"
         },
         {
          "Year": 1871,
          "value": null,
          "variable": "FUNDFAIR"
         },
         {
          "Year": 1872,
          "value": null,
          "variable": "FUNDFAIR"
         },
         {
          "Year": 1873,
          "value": null,
          "variable": "FUNDFAIR"
         },
         {
          "Year": 1874,
          "value": null,
          "variable": "FUNDFAIR"
         },
         {
          "Year": 1875,
          "value": null,
          "variable": "FUNDFAIR"
         },
         {
          "Year": 1876,
          "value": null,
          "variable": "FUNDFAIR"
         },
         {
          "Year": 1877,
          "value": null,
          "variable": "FUNDFAIR"
         },
         {
          "Year": 1878,
          "value": null,
          "variable": "FUNDFAIR"
         },
         {
          "Year": 1879,
          "value": null,
          "variable": "FUNDFAIR"
         },
         {
          "Year": 1880,
          "value": null,
          "variable": "FUNDFAIR"
         },
         {
          "Year": 1881,
          "value": null,
          "variable": "FUNDFAIR"
         },
         {
          "Year": 1882,
          "value": null,
          "variable": "FUNDFAIR"
         },
         {
          "Year": 1883,
          "value": null,
          "variable": "FUNDFAIR"
         },
         {
          "Year": 1884,
          "value": null,
          "variable": "FUNDFAIR"
         },
         {
          "Year": 1885,
          "value": null,
          "variable": "FUNDFAIR"
         },
         {
          "Year": 1886,
          "value": null,
          "variable": "FUNDFAIR"
         },
         {
          "Year": 1887,
          "value": null,
          "variable": "FUNDFAIR"
         },
         {
          "Year": 1888,
          "value": null,
          "variable": "FUNDFAIR"
         },
         {
          "Year": 1889,
          "value": null,
          "variable": "FUNDFAIR"
         },
         {
          "Year": 1890,
          "value": null,
          "variable": "FUNDFAIR"
         },
         {
          "Year": 1891,
          "value": null,
          "variable": "FUNDFAIR"
         },
         {
          "Year": 1892,
          "value": null,
          "variable": "FUNDFAIR"
         },
         {
          "Year": 1893,
          "value": null,
          "variable": "FUNDFAIR"
         },
         {
          "Year": 1894,
          "value": null,
          "variable": "FUNDFAIR"
         },
         {
          "Year": 1895,
          "value": null,
          "variable": "FUNDFAIR"
         },
         {
          "Year": 1896,
          "value": null,
          "variable": "FUNDFAIR"
         },
         {
          "Year": 1897,
          "value": null,
          "variable": "FUNDFAIR"
         },
         {
          "Year": 1898,
          "value": null,
          "variable": "FUNDFAIR"
         },
         {
          "Year": 1899,
          "value": null,
          "variable": "FUNDFAIR"
         },
         {
          "Year": 1900,
          "value": null,
          "variable": "FUNDFAIR"
         },
         {
          "Year": 1901,
          "value": null,
          "variable": "FUNDFAIR"
         },
         {
          "Year": 1902,
          "value": null,
          "variable": "FUNDFAIR"
         },
         {
          "Year": 1903,
          "value": null,
          "variable": "FUNDFAIR"
         },
         {
          "Year": 1904,
          "value": null,
          "variable": "FUNDFAIR"
         },
         {
          "Year": 1905,
          "value": null,
          "variable": "FUNDFAIR"
         },
         {
          "Year": 1906,
          "value": null,
          "variable": "FUNDFAIR"
         },
         {
          "Year": 1907,
          "value": null,
          "variable": "FUNDFAIR"
         },
         {
          "Year": 1908,
          "value": null,
          "variable": "FUNDFAIR"
         },
         {
          "Year": 1909,
          "value": null,
          "variable": "FUNDFAIR"
         },
         {
          "Year": 1910,
          "value": null,
          "variable": "FUNDFAIR"
         },
         {
          "Year": 1911,
          "value": null,
          "variable": "FUNDFAIR"
         },
         {
          "Year": 1912,
          "value": null,
          "variable": "FUNDFAIR"
         },
         {
          "Year": 1913,
          "value": null,
          "variable": "FUNDFAIR"
         },
         {
          "Year": 1914,
          "value": null,
          "variable": "FUNDFAIR"
         },
         {
          "Year": 1915,
          "value": null,
          "variable": "FUNDFAIR"
         },
         {
          "Year": 1916,
          "value": null,
          "variable": "FUNDFAIR"
         },
         {
          "Year": 1917,
          "value": null,
          "variable": "FUNDFAIR"
         },
         {
          "Year": 1918,
          "value": null,
          "variable": "FUNDFAIR"
         },
         {
          "Year": 1919,
          "value": null,
          "variable": "FUNDFAIR"
         },
         {
          "Year": 1920,
          "value": null,
          "variable": "FUNDFAIR"
         },
         {
          "Year": 1921,
          "value": null,
          "variable": "FUNDFAIR"
         },
         {
          "Year": 1922,
          "value": null,
          "variable": "FUNDFAIR"
         },
         {
          "Year": 1923,
          "value": null,
          "variable": "FUNDFAIR"
         },
         {
          "Year": 1924,
          "value": null,
          "variable": "FUNDFAIR"
         },
         {
          "Year": 1925,
          "value": null,
          "variable": "FUNDFAIR"
         },
         {
          "Year": 1926,
          "value": null,
          "variable": "FUNDFAIR"
         },
         {
          "Year": 1927,
          "value": null,
          "variable": "FUNDFAIR"
         },
         {
          "Year": 1928,
          "value": null,
          "variable": "FUNDFAIR"
         },
         {
          "Year": 1929,
          "value": null,
          "variable": "FUNDFAIR"
         },
         {
          "Year": 1930,
          "value": null,
          "variable": "FUNDFAIR"
         },
         {
          "Year": 1931,
          "value": null,
          "variable": "FUNDFAIR"
         },
         {
          "Year": 1932,
          "value": null,
          "variable": "FUNDFAIR"
         },
         {
          "Year": 1933,
          "value": null,
          "variable": "FUNDFAIR"
         },
         {
          "Year": 1934,
          "value": null,
          "variable": "FUNDFAIR"
         },
         {
          "Year": 1935,
          "value": null,
          "variable": "FUNDFAIR"
         },
         {
          "Year": 1936,
          "value": null,
          "variable": "FUNDFAIR"
         },
         {
          "Year": 1937,
          "value": null,
          "variable": "FUNDFAIR"
         },
         {
          "Year": 1938,
          "value": null,
          "variable": "FUNDFAIR"
         },
         {
          "Year": 1939,
          "value": null,
          "variable": "FUNDFAIR"
         },
         {
          "Year": 1940,
          "value": null,
          "variable": "FUNDFAIR"
         },
         {
          "Year": 1941,
          "value": null,
          "variable": "FUNDFAIR"
         },
         {
          "Year": 1942,
          "value": null,
          "variable": "FUNDFAIR"
         },
         {
          "Year": 1943,
          "value": null,
          "variable": "FUNDFAIR"
         },
         {
          "Year": 1944,
          "value": null,
          "variable": "FUNDFAIR"
         },
         {
          "Year": 1945,
          "value": null,
          "variable": "FUNDFAIR"
         },
         {
          "Year": 1946,
          "value": null,
          "variable": "FUNDFAIR"
         },
         {
          "Year": 1947,
          "value": null,
          "variable": "FUNDFAIR"
         },
         {
          "Year": 1948,
          "value": null,
          "variable": "FUNDFAIR"
         },
         {
          "Year": 1949,
          "value": null,
          "variable": "FUNDFAIR"
         },
         {
          "Year": 1950,
          "value": null,
          "variable": "FUNDFAIR"
         },
         {
          "Year": 1951,
          "value": 5129250025.240781,
          "variable": "FUNDFAIR"
         },
         {
          "Year": 1952,
          "value": 4006852645.9247236,
          "variable": "FUNDFAIR"
         },
         {
          "Year": 1953,
          "value": 2693607053.3406577,
          "variable": "FUNDFAIR"
         },
         {
          "Year": 1954,
          "value": 1784747947.023832,
          "variable": "FUNDFAIR"
         },
         {
          "Year": 1955,
          "value": 1254917890.5767953,
          "variable": "FUNDFAIR"
         },
         {
          "Year": 1956,
          "value": 1230182291.8902292,
          "variable": "FUNDFAIR"
         },
         {
          "Year": 1957,
          "value": 1455511449.9026918,
          "variable": "FUNDFAIR"
         },
         {
          "Year": 1958,
          "value": 1261707068.3775456,
          "variable": "FUNDFAIR"
         },
         {
          "Year": 1959,
          "value": 239084752.5497551,
          "variable": "FUNDFAIR"
         },
         {
          "Year": 1960,
          "value": -1380833150.8061855,
          "variable": "FUNDFAIR"
         },
         {
          "Year": 1961,
          "value": -4442174084.807192,
          "variable": "FUNDFAIR"
         },
         {
          "Year": 1962,
          "value": -3628749779.509796,
          "variable": "FUNDFAIR"
         },
         {
          "Year": 1963,
          "value": -4357885765.883584,
          "variable": "FUNDFAIR"
         },
         {
          "Year": 1964,
          "value": -7387623992.553129,
          "variable": "FUNDFAIR"
         },
         {
          "Year": 1965,
          "value": -11363644617.760525,
          "variable": "FUNDFAIR"
         },
         {
          "Year": 1966,
          "value": -14022765402.399353,
          "variable": "FUNDFAIR"
         },
         {
          "Year": 1967,
          "value": -13541266479.082294,
          "variable": "FUNDFAIR"
         },
         {
          "Year": 1968,
          "value": -15480010098.142288,
          "variable": "FUNDFAIR"
         },
         {
          "Year": 1969,
          "value": -15130552497.6234,
          "variable": "FUNDFAIR"
         },
         {
          "Year": 1970,
          "value": -15862493181.83448,
          "variable": "FUNDFAIR"
         },
         {
          "Year": 1971,
          "value": -18892512254.950405,
          "variable": "FUNDFAIR"
         },
         {
          "Year": 1972,
          "value": -20808119934.02288,
          "variable": "FUNDFAIR"
         },
         {
          "Year": 1973,
          "value": -20020803555.417088,
          "variable": "FUNDFAIR"
         },
         {
          "Year": 1974,
          "value": -22231256917.235527,
          "variable": "FUNDFAIR"
         },
         {
          "Year": 1975,
          "value": -31612165946.014572,
          "variable": "FUNDFAIR"
         },
         {
          "Year": 1976,
          "value": -31681046834.198177,
          "variable": "FUNDFAIR"
         },
         {
          "Year": 1977,
          "value": -26956425718.295914,
          "variable": "FUNDFAIR"
         },
         {
          "Year": 1978,
          "value": -26414134109.879208,
          "variable": "FUNDFAIR"
         },
         {
          "Year": 1979,
          "value": -26757391300.947563,
          "variable": "FUNDFAIR"
         },
         {
          "Year": 1980,
          "value": -28519546011.292374,
          "variable": "FUNDFAIR"
         },
         {
          "Year": 1981,
          "value": -31351165671.40901,
          "variable": "FUNDFAIR"
         },
         {
          "Year": 1982,
          "value": -45651214849.01227,
          "variable": "FUNDFAIR"
         },
         {
          "Year": 1983,
          "value": -38433664668.841255,
          "variable": "FUNDFAIR"
         },
         {
          "Year": 1984,
          "value": -46407981504.34696,
          "variable": "FUNDFAIR"
         },
         {
          "Year": 1985,
          "value": -53376678840.43341,
          "variable": "FUNDFAIR"
         },
         {
          "Year": 1986,
          "value": -52040063763.23927,
          "variable": "FUNDFAIR"
         },
         {
          "Year": 1987,
          "value": -54202695155.81388,
          "variable": "FUNDFAIR"
         },
         {
          "Year": 1988,
          "value": -54798995554.299194,
          "variable": "FUNDFAIR"
         },
         {
          "Year": 1989,
          "value": -55001621684.0722,
          "variable": "FUNDFAIR"
         },
         {
          "Year": 1990,
          "value": -56705618693.46262,
          "variable": "FUNDFAIR"
         },
         {
          "Year": 1991,
          "value": -87707934128.11432,
          "variable": "FUNDFAIR"
         },
         {
          "Year": 1992,
          "value": -64151713774.377144,
          "variable": "FUNDFAIR"
         },
         {
          "Year": 1993,
          "value": -73927917347.76575,
          "variable": "FUNDFAIR"
         },
         {
          "Year": 1994,
          "value": -91496477861.86467,
          "variable": "FUNDFAIR"
         },
         {
          "Year": 1995,
          "value": -79854844412.6993,
          "variable": "FUNDFAIR"
         },
         {
          "Year": 1996,
          "value": -79700299646.68536,
          "variable": "FUNDFAIR"
         },
         {
          "Year": 1997,
          "value": -80149508402.04274,
          "variable": "FUNDFAIR"
         },
         {
          "Year": 1998,
          "value": -80854659928.38762,
          "variable": "FUNDFAIR"
         },
         {
          "Year": 1999,
          "value": -37245204206.92708,
          "variable": "FUNDFAIR"
         },
         {
          "Year": 2000,
          "value": -77764366336.40433,
          "variable": "FUNDFAIR"
         },
         {
          "Year": 2001,
          "value": -81530145331.55283,
          "variable": "FUNDFAIR"
         },
         {
          "Year": 2002,
          "value": -83381931278.33458,
          "variable": "FUNDFAIR"
         },
         {
          "Year": 2003,
          "value": -89292200779.90399,
          "variable": "FUNDFAIR"
         },
         {
          "Year": 2004,
          "value": -98647740704.11914,
          "variable": "FUNDFAIR"
         },
         {
          "Year": 2005,
          "value": -108695588877.38637,
          "variable": "FUNDFAIR"
         },
         {
          "Year": 2006,
          "value": -119969007425.18515,
          "variable": "FUNDFAIR"
         },
         {
          "Year": 2007,
          "value": -126020776227.72485,
          "variable": "FUNDFAIR"
         },
         {
          "Year": 2008,
          "value": -127268384500.69003,
          "variable": "FUNDFAIR"
         },
         {
          "Year": 2009,
          "value": -129929930855.33986,
          "variable": "FUNDFAIR"
         },
         {
          "Year": 2010,
          "value": -128404678136.09383,
          "variable": "FUNDFAIR"
         },
         {
          "Year": 2011,
          "value": -127714092207.51459,
          "variable": "FUNDFAIR"
         },
         {
          "Year": 2012,
          "value": -127979412874.90918,
          "variable": "FUNDFAIR"
         },
         {
          "Year": 2013,
          "value": -125548958568.9313,
          "variable": "FUNDFAIR"
         },
         {
          "Year": 2014,
          "value": -126543853523.51581,
          "variable": "FUNDFAIR"
         },
         {
          "Year": 2015,
          "value": -130069352261.76015,
          "variable": "FUNDFAIR"
         },
         {
          "Year": 2016,
          "value": -133777937383.40582,
          "variable": "FUNDFAIR"
         },
         {
          "Year": 2017,
          "value": -134546239789.32031,
          "variable": "FUNDFAIR"
         },
         {
          "Year": 2018,
          "value": -134946417851.983,
          "variable": "FUNDFAIR"
         },
         {
          "Year": 2019,
          "value": -136124661769.06421,
          "variable": "FUNDFAIR"
         },
         {
          "Year": 2020,
          "value": -136670753194.4046,
          "variable": "FUNDFAIR"
         },
         {
          "Year": 2021,
          "value": -136078465350.9715,
          "variable": "FUNDFAIR"
         },
         {
          "Year": 2022,
          "value": -133411710374.08609,
          "variable": "FUNDFAIR"
         },
         {
          "Year": 2023,
          "value": -131433037484.69348,
          "variable": "FUNDFAIR"
         },
         {
          "Year": 2024,
          "value": -131610547361.26651,
          "variable": "FUNDFAIR"
         },
         {
          "Year": 2025,
          "value": -135885976266.79742,
          "variable": "FUNDFAIR"
         },
         {
          "Year": 2026,
          "value": -144244505581.6802,
          "variable": "FUNDFAIR"
         },
         {
          "Year": 2027,
          "value": -153923144093.27136,
          "variable": "FUNDFAIR"
         },
         {
          "Year": 2028,
          "value": -161825221230.75232,
          "variable": "FUNDFAIR"
         },
         {
          "Year": 2029,
          "value": -168491078451.1108,
          "variable": "FUNDFAIR"
         },
         {
          "Year": 2030,
          "value": -172374122865.16235,
          "variable": "FUNDFAIR"
         },
         {
          "Year": 2031,
          "value": -172810643625.15488,
          "variable": "FUNDFAIR"
         },
         {
          "Year": 2032,
          "value": -171599208117.998,
          "variable": "FUNDFAIR"
         },
         {
          "Year": 2033,
          "value": -166124728330.18268,
          "variable": "FUNDFAIR"
         },
         {
          "Year": 2034,
          "value": -156428443637.38672,
          "variable": "FUNDFAIR"
         },
         {
          "Year": 2035,
          "value": -148755210455.1436,
          "variable": "FUNDFAIR"
         },
         {
          "Year": 2036,
          "value": -142602658511.8115,
          "variable": "FUNDFAIR"
         },
         {
          "Year": 2037,
          "value": -138390286813.1294,
          "variable": "FUNDFAIR"
         },
         {
          "Year": 2038,
          "value": -135539726631.73091,
          "variable": "FUNDFAIR"
         },
         {
          "Year": 2039,
          "value": -133540681791.46516,
          "variable": "FUNDFAIR"
         },
         {
          "Year": 2040,
          "value": -134235419147.55922,
          "variable": "FUNDFAIR"
         },
         {
          "Year": 2041,
          "value": -134340485534.80653,
          "variable": "FUNDFAIR"
         },
         {
          "Year": 2042,
          "value": -131555591213.86984,
          "variable": "FUNDFAIR"
         },
         {
          "Year": 2043,
          "value": -125155219385.58467,
          "variable": "FUNDFAIR"
         },
         {
          "Year": 2044,
          "value": -115710226314.06677,
          "variable": "FUNDFAIR"
         },
         {
          "Year": 2045,
          "value": -101026640771.22629,
          "variable": "FUNDFAIR"
         },
         {
          "Year": 2046,
          "value": -83982731269.6178,
          "variable": "FUNDFAIR"
         },
         {
          "Year": 2047,
          "value": -66513709514.408264,
          "variable": "FUNDFAIR"
         },
         {
          "Year": 2048,
          "value": -50401136572.04049,
          "variable": "FUNDFAIR"
         },
         {
          "Year": 2049,
          "value": -39673606813.12083,
          "variable": "FUNDFAIR"
         },
         {
          "Year": 2050,
          "value": -34524023980.98208,
          "variable": "FUNDFAIR"
         },
         {
          "Year": 2051,
          "value": -30200593470.52291,
          "variable": "FUNDFAIR"
         },
         {
          "Year": 2052,
          "value": -24171755985.683025,
          "variable": "FUNDFAIR"
         },
         {
          "Year": 2053,
          "value": -17255199608.770954,
          "variable": "FUNDFAIR"
         },
         {
          "Year": 2054,
          "value": -6568772870.430529,
          "variable": "FUNDFAIR"
         },
         {
          "Year": 2055,
          "value": 10316414894.06675,
          "variable": "FUNDFAIR"
         },
         {
          "Year": 2056,
          "value": 31780085210.747295,
          "variable": "FUNDFAIR"
         },
         {
          "Year": 2057,
          "value": 51323434479.739296,
          "variable": "FUNDFAIR"
         },
         {
          "Year": 2058,
          "value": 68737579799.93176,
          "variable": "FUNDFAIR"
         },
         {
          "Year": 2059,
          "value": 87278226045.70712,
          "variable": "FUNDFAIR"
         },
         {
          "Year": 2060,
          "value": 101930560743.08273,
          "variable": "FUNDFAIR"
         },
         {
          "Year": 2061,
          "value": 112958118257.3386,
          "variable": "FUNDFAIR"
         },
         {
          "Year": 2062,
          "value": 125058345275.08435,
          "variable": "FUNDFAIR"
         },
         {
          "Year": 2063,
          "value": 140063283589.83984,
          "variable": "FUNDFAIR"
         },
         {
          "Year": 2064,
          "value": 158494951458.62036,
          "variable": "FUNDFAIR"
         },
         {
          "Year": 2065,
          "value": 180561899513.22333,
          "variable": "FUNDFAIR"
         },
         {
          "Year": 2066,
          "value": 210511014629.64658,
          "variable": "FUNDFAIR"
         },
         {
          "Year": 2067,
          "value": 246200430204.70203,
          "variable": "FUNDFAIR"
         },
         {
          "Year": 2068,
          "value": 281831194120.07043,
          "variable": "FUNDFAIR"
         },
         {
          "Year": 2069,
          "value": 313749717705.08716,
          "variable": "FUNDFAIR"
         },
         {
          "Year": 2070,
          "value": 340791138102.0992,
          "variable": "FUNDFAIR"
         },
         {
          "Year": 2071,
          "value": 364441990184.7243,
          "variable": "FUNDFAIR"
         },
         {
          "Year": 2072,
          "value": 389270731729.4781,
          "variable": "FUNDFAIR"
         },
         {
          "Year": 2073,
          "value": 417681343781.137,
          "variable": "FUNDFAIR"
         },
         {
          "Year": 2074,
          "value": 446753685656.79755,
          "variable": "FUNDFAIR"
         },
         {
          "Year": 2075,
          "value": 477801587405.6897,
          "variable": "FUNDFAIR"
         },
         {
          "Year": 2076,
          "value": 511865753336.9206,
          "variable": "FUNDFAIR"
         },
         {
          "Year": 2077,
          "value": 550533222717.1151,
          "variable": "FUNDFAIR"
         },
         {
          "Year": 2078,
          "value": 597109284145.5507,
          "variable": "FUNDFAIR"
         },
         {
          "Year": 2079,
          "value": 649700563800.0409,
          "variable": "FUNDFAIR"
         },
         {
          "Year": 2080,
          "value": 704474251064.0135,
          "variable": "FUNDFAIR"
         },
         {
          "Year": 2081,
          "value": 757640656157.7195,
          "variable": "FUNDFAIR"
         },
         {
          "Year": 2082,
          "value": 808690206841.8934,
          "variable": "FUNDFAIR"
         },
         {
          "Year": 2083,
          "value": 855949568335.7649,
          "variable": "FUNDFAIR"
         },
         {
          "Year": 2084,
          "value": 901641434502.6166,
          "variable": "FUNDFAIR"
         },
         {
          "Year": 2085,
          "value": 944610832762.8768,
          "variable": "FUNDFAIR"
         },
         {
          "Year": 2086,
          "value": 985712038511.7274,
          "variable": "FUNDFAIR"
         },
         {
          "Year": 2087,
          "value": 1033347579642.6044,
          "variable": "FUNDFAIR"
         },
         {
          "Year": 2088,
          "value": 1086602740946.3876,
          "variable": "FUNDFAIR"
         },
         {
          "Year": 2089,
          "value": 1147773321098.8083,
          "variable": "FUNDFAIR"
         },
         {
          "Year": 2090,
          "value": 1220032301114.0923,
          "variable": "FUNDFAIR"
         },
         {
          "Year": 2091,
          "value": 1297511240489.174,
          "variable": "FUNDFAIR"
         },
         {
          "Year": 2092,
          "value": 1379417226000.392,
          "variable": "FUNDFAIR"
         },
         {
          "Year": 2093,
          "value": 1455312518295.9631,
          "variable": "FUNDFAIR"
         },
         {
          "Year": 2094,
          "value": 1517214104728.69,
          "variable": "FUNDFAIR"
         },
         {
          "Year": 2095,
          "value": 1574798811877.5884,
          "variable": "FUNDFAIR"
         },
         {
          "Year": 2096,
          "value": 1631231125097.043,
          "variable": "FUNDFAIR"
         },
         {
          "Year": 2097,
          "value": 1691541105689.4175,
          "variable": "FUNDFAIR"
         },
         {
          "Year": 2098,
          "value": 1758184417027.1353,
          "variable": "FUNDFAIR"
         },
         {
          "Year": 2099,
          "value": 1833745817448.3066,
          "variable": "FUNDFAIR"
         },
         {
          "Year": 2100,
          "value": 1923473773081.4407,
          "variable": "FUNDFAIR"
         },
         {
          "Year": 2101,
          "value": 2022867759871.6772,
          "variable": "FUNDFAIR"
         },
         {
          "Year": 2102,
          "value": 2117748928291.8848,
          "variable": "FUNDFAIR"
         },
         {
          "Year": 2103,
          "value": 2206056938895.314,
          "variable": "FUNDFAIR"
         },
         {
          "Year": 2104,
          "value": 2291297066879.984,
          "variable": "FUNDFAIR"
         },
         {
          "Year": 2105,
          "value": 2368314554116.649,
          "variable": "FUNDFAIR"
         },
         {
          "Year": 2106,
          "value": 2443976469406.8013,
          "variable": "FUNDFAIR"
         },
         {
          "Year": 2107,
          "value": 2524177426194.0737,
          "variable": "FUNDFAIR"
         },
         {
          "Year": 2108,
          "value": 2610599730315.968,
          "variable": "FUNDFAIR"
         },
         {
          "Year": 2109,
          "value": 2706574032151.8047,
          "variable": "FUNDFAIR"
         },
         {
          "Year": 2110,
          "value": 2815700601369.1445,
          "variable": "FUNDFAIR"
         },
         {
          "Year": 2111,
          "value": 2945575906296.734,
          "variable": "FUNDFAIR"
         },
         {
          "Year": 2112,
          "value": 3073042489685.8135,
          "variable": "FUNDFAIR"
         },
         {
          "Year": 2113,
          "value": 3188297901583.7695,
          "variable": "FUNDFAIR"
         },
         {
          "Year": 2114,
          "value": 3291027019466.5767,
          "variable": "FUNDFAIR"
         },
         {
          "Year": 2115,
          "value": 3387150549722.787,
          "variable": "FUNDFAIR"
         },
         {
          "Year": 2116,
          "value": 3481758764280.6064,
          "variable": "FUNDFAIR"
         },
         {
          "Year": 2117,
          "value": 3573249740182.406,
          "variable": "FUNDFAIR"
         },
         {
          "Year": 2118,
          "value": 3671073069649.3438,
          "variable": "FUNDFAIR"
         },
         {
          "Year": 2119,
          "value": 3775847079940.399,
          "variable": "FUNDFAIR"
         },
         {
          "Year": 2120,
          "value": 3897503080567.2896,
          "variable": "FUNDFAIR"
         },
         {
          "Year": 2121,
          "value": 4038896623350.5596,
          "variable": "FUNDFAIR"
         },
         {
          "Year": 2122,
          "value": 4192180641499.2954,
          "variable": "FUNDFAIR"
         },
         {
          "Year": 2123,
          "value": 4325114076507.912,
          "variable": "FUNDFAIR"
         },
         {
          "Year": 2124,
          "value": 4444464532865.123,
          "variable": "FUNDFAIR"
         },
         {
          "Year": 2125,
          "value": 4554896122932.111,
          "variable": "FUNDFAIR"
         },
         {
          "Year": 2126,
          "value": 4645136095589.389,
          "variable": "FUNDFAIR"
         },
         {
          "Year": 2127,
          "value": 4738948507787.307,
          "variable": "FUNDFAIR"
         },
         {
          "Year": 2128,
          "value": 4839157548642.197,
          "variable": "FUNDFAIR"
         },
         {
          "Year": 2129,
          "value": 4948975675187.807,
          "variable": "FUNDFAIR"
         },
         {
          "Year": 2130,
          "value": 5080028008538.203,
          "variable": "FUNDFAIR"
         },
         {
          "Year": 2131,
          "value": 5245907097029.462,
          "variable": "FUNDFAIR"
         },
         {
          "Year": 2132,
          "value": 5408048113491.099,
          "variable": "FUNDFAIR"
         },
         {
          "Year": 2133,
          "value": 5550123569481.995,
          "variable": "FUNDFAIR"
         },
         {
          "Year": 2134,
          "value": 5674642947823.091,
          "variable": "FUNDFAIR"
         },
         {
          "Year": 2135,
          "value": 5770579124339.114,
          "variable": "FUNDFAIR"
         },
         {
          "Year": 2136,
          "value": 5846744937004.562,
          "variable": "FUNDFAIR"
         },
         {
          "Year": 2137,
          "value": 5928344324336.554,
          "variable": "FUNDFAIR"
         },
         {
          "Year": 2138,
          "value": 6023742621070.688,
          "variable": "FUNDFAIR"
         },
         {
          "Year": 2139,
          "value": 6122305560279.472,
          "variable": "FUNDFAIR"
         },
         {
          "Year": 2140,
          "value": 6231121446597.979,
          "variable": "FUNDFAIR"
         },
         {
          "Year": 2141,
          "value": 6361909882436.469,
          "variable": "FUNDFAIR"
         },
         {
          "Year": 2142,
          "value": 6508010920676.24,
          "variable": "FUNDFAIR"
         },
         {
          "Year": 2143,
          "value": 6640498551680.217,
          "variable": "FUNDFAIR"
         },
         {
          "Year": 2144,
          "value": 6759695379571.449,
          "variable": "FUNDFAIR"
         },
         {
          "Year": 2145,
          "value": 6871023104010.535,
          "variable": "FUNDFAIR"
         },
         {
          "Year": 2146,
          "value": 6958186119474.365,
          "variable": "FUNDFAIR"
         },
         {
          "Year": 2147,
          "value": 7042392010190.284,
          "variable": "FUNDFAIR"
         },
         {
          "Year": 2148,
          "value": 7127390726991.853,
          "variable": "FUNDFAIR"
         },
         {
          "Year": 2149,
          "value": 7204930109307.785,
          "variable": "FUNDFAIR"
         },
         {
          "Year": 2150,
          "value": 7289372720475.217,
          "variable": "FUNDFAIR"
         },
         {
          "Year": 2151,
          "value": 7379632416583.024,
          "variable": "FUNDFAIR"
         },
         {
          "Year": 2152,
          "value": 7493356944525.116,
          "variable": "FUNDFAIR"
         },
         {
          "Year": 2153,
          "value": 7643222991108.855,
          "variable": "FUNDFAIR"
         },
         {
          "Year": 2154,
          "value": 7800177345780.7705,
          "variable": "FUNDFAIR"
         },
         {
          "Year": 2155,
          "value": 7922612832957.895,
          "variable": "FUNDFAIR"
         },
         {
          "Year": 2156,
          "value": 8012424454644.271,
          "variable": "FUNDFAIR"
         },
         {
          "Year": 2157,
          "value": 8079326372813.445,
          "variable": "FUNDFAIR"
         },
         {
          "Year": 2158,
          "value": 8115877068152.471,
          "variable": "FUNDFAIR"
         },
         {
          "Year": 2159,
          "value": 8139919457415.966,
          "variable": "FUNDFAIR"
         },
         {
          "Year": 2160,
          "value": 8178064633745.158,
          "variable": "FUNDFAIR"
         },
         {
          "Year": 2161,
          "value": 8246588433856.236,
          "variable": "FUNDFAIR"
         },
         {
          "Year": 2162,
          "value": 8357450326121.983,
          "variable": "FUNDFAIR"
         },
         {
          "Year": 2163,
          "value": 8513510448543.867,
          "variable": "FUNDFAIR"
         },
         {
          "Year": 2164,
          "value": 8683756861918.271,
          "variable": "FUNDFAIR"
         },
         {
          "Year": 2165,
          "value": 8791382171305.258,
          "variable": "FUNDFAIR"
         },
         {
          "Year": 2166,
          "value": 8862222133029.324,
          "variable": "FUNDFAIR"
         },
         {
          "Year": 2167,
          "value": 8892110618186.902,
          "variable": "FUNDFAIR"
         },
         {
          "Year": 2168,
          "value": 8866852739019.979,
          "variable": "FUNDFAIR"
         },
         {
          "Year": 2169,
          "value": 8860874781082.15,
          "variable": "FUNDFAIR"
         },
         {
          "Year": 2170,
          "value": 8880891873671.615,
          "variable": "FUNDFAIR"
         },
         {
          "Year": 2171,
          "value": 8930691896055.453,
          "variable": "FUNDFAIR"
         },
         {
          "Year": 2172,
          "value": 9020411536109.041,
          "variable": "FUNDFAIR"
         },
         {
          "Year": 2173,
          "value": 9169533627528.516,
          "variable": "FUNDFAIR"
         },
         {
          "Year": 2174,
          "value": 9317405942290.908,
          "variable": "FUNDFAIR"
         },
         {
          "Year": 2175,
          "value": 9433846700277.9,
          "variable": "FUNDFAIR"
         },
         {
          "Year": 2176,
          "value": 9518067572581.697,
          "variable": "FUNDFAIR"
         },
         {
          "Year": 2177,
          "value": 9542993646885.002,
          "variable": "FUNDFAIR"
         },
         {
          "Year": 2178,
          "value": 9514552844976.195,
          "variable": "FUNDFAIR"
         },
         {
          "Year": 2179,
          "value": 9484464901694.973,
          "variable": "FUNDFAIR"
         },
         {
          "Year": 2180,
          "value": 9469446560231.785,
          "variable": "FUNDFAIR"
         },
         {
          "Year": 2181,
          "value": 9467254513712.334,
          "variable": "FUNDFAIR"
         },
         {
          "Year": 2182,
          "value": 9484969246415.908,
          "variable": "FUNDFAIR"
         },
         {
          "Year": 2183,
          "value": 9519248908535.73,
          "variable": "FUNDFAIR"
         },
         {
          "Year": 2184,
          "value": 9585404266482.98,
          "variable": "FUNDFAIR"
         },
         {
          "Year": 2185,
          "value": 9693085653082.873,
          "variable": "FUNDFAIR"
         },
         {
          "Year": 2186,
          "value": 9861918805153.785,
          "variable": "FUNDFAIR"
         },
         {
          "Year": 2187,
          "value": 9986718573835.457,
          "variable": "FUNDFAIR"
         },
         {
          "Year": 2188,
          "value": 10054885729352.473,
          "variable": "FUNDFAIR"
         },
         {
          "Year": 2189,
          "value": 10124789087804.225,
          "variable": "FUNDFAIR"
         },
         {
          "Year": 2190,
          "value": 10111565043866.459,
          "variable": "FUNDFAIR"
         },
         {
          "Year": 2191,
          "value": 10017868184736.56,
          "variable": "FUNDFAIR"
         },
         {
          "Year": 2192,
          "value": 9949198243714.729,
          "variable": "FUNDFAIR"
         },
         {
          "Year": 2193,
          "value": 9925070329374.26,
          "variable": "FUNDFAIR"
         },
         {
          "Year": 2194,
          "value": 9956757440438.53,
          "variable": "FUNDFAIR"
         },
         {
          "Year": 2195,
          "value": 10031802362804.723,
          "variable": "FUNDFAIR"
         },
         {
          "Year": 2196,
          "value": 10201534070608.793,
          "variable": "FUNDFAIR"
         },
         {
          "Year": 2197,
          "value": 10404792749675.355,
          "variable": "FUNDFAIR"
         },
         {
          "Year": 2198,
          "value": 10547815599686.975,
          "variable": "FUNDFAIR"
         },
         {
          "Year": 2199,
          "value": 10582079936847.848,
          "variable": "FUNDFAIR"
         },
         {
          "Year": 2200,
          "value": 10524927500077.625,
          "variable": "FUNDFAIR"
         },
         {
          "Year": 2201,
          "value": 10400984403222.229,
          "variable": "FUNDFAIR"
         },
         {
          "Year": 2202,
          "value": 10291784137006.29,
          "variable": "FUNDFAIR"
         },
         {
          "Year": 2203,
          "value": 10258966716698.527,
          "variable": "FUNDFAIR"
         },
         {
          "Year": 2204,
          "value": 10211856826924.775,
          "variable": "FUNDFAIR"
         },
         {
          "Year": 2205,
          "value": 10187728157619.102,
          "variable": "FUNDFAIR"
         },
         {
          "Year": 2206,
          "value": 10202911681673.62,
          "variable": "FUNDFAIR"
         },
         {
          "Year": 2207,
          "value": 10273372082548.758,
          "variable": "FUNDFAIR"
         },
         {
          "Year": 2208,
          "value": 10443151512529.947,
          "variable": "FUNDFAIR"
         },
         {
          "Year": 2209,
          "value": 10635884266447.01,
          "variable": "FUNDFAIR"
         },
         {
          "Year": 2210,
          "value": 10784716355974.27,
          "variable": "FUNDFAIR"
         },
         {
          "Year": 2211,
          "value": 10844710330083.418,
          "variable": "FUNDFAIR"
         },
         {
          "Year": 2212,
          "value": 10841359516684.162,
          "variable": "FUNDFAIR"
         },
         {
          "Year": 2213,
          "value": 10774763753039.75,
          "variable": "FUNDFAIR"
         },
         {
          "Year": 2214,
          "value": 10684847512928.484,
          "variable": "FUNDFAIR"
         },
         {
          "Year": 2215,
          "value": 10554891596172.037,
          "variable": "FUNDFAIR"
         },
         {
          "Year": 2216,
          "value": 10520749595243.37,
          "variable": "FUNDFAIR"
         },
         {
          "Year": 2217,
          "value": 10535714183883.367,
          "variable": "FUNDFAIR"
         },
         {
          "Year": 2218,
          "value": 10512120117842.547,
          "variable": "FUNDFAIR"
         },
         {
          "Year": 2219,
          "value": 10701252250157.533,
          "variable": "FUNDFAIR"
         },
         {
          "Year": 2220,
          "value": 10971570558262.154,
          "variable": "FUNDFAIR"
         },
         {
          "Year": 2221,
          "value": 11193583876832.762,
          "variable": "FUNDFAIR"
         },
         {
          "Year": 2222,
          "value": 11392690391396.785,
          "variable": "FUNDFAIR"
         },
         {
          "Year": 2223,
          "value": 11438723791467.11,
          "variable": "FUNDFAIR"
         },
         {
          "Year": 2224,
          "value": 11267329541987.496,
          "variable": "FUNDFAIR"
         },
         {
          "Year": 2225,
          "value": 11053525080850.209,
          "variable": "FUNDFAIR"
         },
         {
          "Year": 2226,
          "value": 10948587164889.232,
          "variable": "FUNDFAIR"
         },
         {
          "Year": 2227,
          "value": 11067324353171.621,
          "variable": "FUNDFAIR"
         },
         {
          "Year": 2228,
          "value": 11089300931135.705,
          "variable": "FUNDFAIR"
         },
         {
          "Year": 2229,
          "value": 11016647023661.781,
          "variable": "FUNDFAIR"
         },
         {
          "Year": 2230,
          "value": 11142470066683.756,
          "variable": "FUNDFAIR"
         },
         {
          "Year": 2231,
          "value": 11409620333481.984,
          "variable": "FUNDFAIR"
         },
         {
          "Year": 2232,
          "value": 11515242468004.445,
          "variable": "FUNDFAIR"
         },
         {
          "Year": 2233,
          "value": 11581320734811.555,
          "variable": "FUNDFAIR"
         },
         {
          "Year": 2234,
          "value": 11557015512426.861,
          "variable": "FUNDFAIR"
         },
         {
          "Year": 2235,
          "value": 11424267482994.07,
          "variable": "FUNDFAIR"
         },
         {
          "Year": 2236,
          "value": 11226691898379.46,
          "variable": "FUNDFAIR"
         },
         {
          "Year": 2237,
          "value": 11410087405251.21,
          "variable": "FUNDFAIR"
         },
         {
          "Year": 2238,
          "value": 11445958755632.25,
          "variable": "FUNDFAIR"
         },
         {
          "Year": 2239,
          "value": 11414203047142.512,
          "variable": "FUNDFAIR"
         },
         {
          "Year": 2240,
          "value": 11288666261985.357,
          "variable": "FUNDFAIR"
         },
         {
          "Year": 2241,
          "value": 11641455595338.553,
          "variable": "FUNDFAIR"
         },
         {
          "Year": 2242,
          "value": 11981950206923.668,
          "variable": "FUNDFAIR"
         },
         {
          "Year": 2243,
          "value": 12114370436441.51,
          "variable": "FUNDFAIR"
         },
         {
          "Year": 2244,
          "value": 12077697342566.379,
          "variable": "FUNDFAIR"
         },
         {
          "Year": 2245,
          "value": 11899335371160.639,
          "variable": "FUNDFAIR"
         },
         {
          "Year": 2246,
          "value": 11600765002679.451,
          "variable": "FUNDFAIR"
         },
         {
          "Year": 2247,
          "value": 11789921359085.84,
          "variable": "FUNDFAIR"
         },
         {
          "Year": 2248,
          "value": 11893497402072.863,
          "variable": "FUNDFAIR"
         },
         {
          "Year": 2249,
          "value": 11966426872257.72,
          "variable": "FUNDFAIR"
         },
         {
          "Year": 2250,
          "value": 11971443204888.176,
          "variable": "FUNDFAIR"
         },
         {
          "Year": 2251,
          "value": 11920360225830.172,
          "variable": "FUNDFAIR"
         },
         {
          "Year": 2252,
          "value": 11794788380937.52,
          "variable": "FUNDFAIR"
         },
         {
          "Year": 2253,
          "value": 11768851659994.352,
          "variable": "FUNDFAIR"
         },
         {
          "Year": 2254,
          "value": 12126181225085.264,
          "variable": "FUNDFAIR"
         },
         {
          "Year": 2255,
          "value": 12298649977743.273,
          "variable": "FUNDFAIR"
         },
         {
          "Year": 2256,
          "value": 12351261169092.934,
          "variable": "FUNDFAIR"
         },
         {
          "Year": 2257,
          "value": 12354432091754.146,
          "variable": "FUNDFAIR"
         },
         {
          "Year": 2258,
          "value": 12217014068545.215,
          "variable": "FUNDFAIR"
         },
         {
          "Year": 2259,
          "value": 12049831584476.525,
          "variable": "FUNDFAIR"
         },
         {
          "Year": 2260,
          "value": 12090323620653.766,
          "variable": "FUNDFAIR"
         },
         {
          "Year": 2261,
          "value": 12246118906055.34,
          "variable": "FUNDFAIR"
         },
         {
          "Year": 2262,
          "value": 12205790494785.176,
          "variable": "FUNDFAIR"
         },
         {
          "Year": 2263,
          "value": 12067850204212.408,
          "variable": "FUNDFAIR"
         },
         {
          "Year": 2264,
          "value": 12324514056097.36,
          "variable": "FUNDFAIR"
         },
         {
          "Year": 2265,
          "value": 12766784796346.05,
          "variable": "FUNDFAIR"
         },
         {
          "Year": 2266,
          "value": 13109379170917.67,
          "variable": "FUNDFAIR"
         },
         {
          "Year": 2267,
          "value": 13348725068166.445,
          "variable": "FUNDFAIR"
         },
         {
          "Year": 2268,
          "value": 13303119573981.873,
          "variable": "FUNDFAIR"
         },
         {
          "Year": 2269,
          "value": 13020155755044.646,
          "variable": "FUNDFAIR"
         },
         {
          "Year": 2270,
          "value": 12725109301226.639,
          "variable": "FUNDFAIR"
         },
         {
          "Year": 2271,
          "value": 12579239613236.473,
          "variable": "FUNDFAIR"
         },
         {
          "Year": 2272,
          "value": 12724121801026.105,
          "variable": "FUNDFAIR"
         },
         {
          "Year": 2273,
          "value": 12715693311512.828,
          "variable": "FUNDFAIR"
         },
         {
          "Year": 2274,
          "value": 12758174346784.695,
          "variable": "FUNDFAIR"
         },
         {
          "Year": 2275,
          "value": 13208771078145.057,
          "variable": "FUNDFAIR"
         },
         {
          "Year": 2276,
          "value": 13551588159410.646,
          "variable": "FUNDFAIR"
         },
         {
          "Year": 2277,
          "value": 13673865357227.354,
          "variable": "FUNDFAIR"
         },
         {
          "Year": 2278,
          "value": 13652437942521.908,
          "variable": "FUNDFAIR"
         },
         {
          "Year": 2279,
          "value": 13546566303858.418,
          "variable": "FUNDFAIR"
         },
         {
          "Year": 2280,
          "value": 13287347583914.736,
          "variable": "FUNDFAIR"
         },
         {
          "Year": 2281,
          "value": 13060475917403.979,
          "variable": "FUNDFAIR"
         },
         {
          "Year": 2282,
          "value": 13080379500230.615,
          "variable": "FUNDFAIR"
         },
         {
          "Year": 2283,
          "value": 13152618688100.637,
          "variable": "FUNDFAIR"
         },
         {
          "Year": 2284,
          "value": 13402159313575.076,
          "variable": "FUNDFAIR"
         },
         {
          "Year": 2285,
          "value": 13866038920867.336,
          "variable": "FUNDFAIR"
         },
         {
          "Year": 2286,
          "value": 14342974117659.105,
          "variable": "FUNDFAIR"
         },
         {
          "Year": 2287,
          "value": 14598045230464.453,
          "variable": "FUNDFAIR"
         },
         {
          "Year": 2288,
          "value": 14634098006462.227,
          "variable": "FUNDFAIR"
         },
         {
          "Year": 2289,
          "value": 14350486162082.52,
          "variable": "FUNDFAIR"
         },
         {
          "Year": 2290,
          "value": 14026795669100.28,
          "variable": "FUNDFAIR"
         },
         {
          "Year": 2291,
          "value": 13864320209722.914,
          "variable": "FUNDFAIR"
         },
         {
          "Year": 2292,
          "value": 13762224762350.557,
          "variable": "FUNDFAIR"
         },
         {
          "Year": 2293,
          "value": 13878906962566.531,
          "variable": "FUNDFAIR"
         },
         {
          "Year": 2294,
          "value": 13773413437906.21,
          "variable": "FUNDFAIR"
         },
         {
          "Year": 2295,
          "value": 14293747555402.938,
          "variable": "FUNDFAIR"
         },
         {
          "Year": 2296,
          "value": 14808338722782.553,
          "variable": "FUNDFAIR"
         },
         {
          "Year": 2297,
          "value": 15195487469782.268,
          "variable": "FUNDFAIR"
         },
         {
          "Year": 2298,
          "value": 15357023934258.322,
          "variable": "FUNDFAIR"
         },
         {
          "Year": 2299,
          "value": 15187500059774.344,
          "variable": "FUNDFAIR"
         },
         {
          "Year": 2300,
          "value": 14860560845775.137,
          "variable": "FUNDFAIR"
         }
        ]
       },
       "encoding": {
        "color": {
         "field": "variable",
         "type": "nominal"
        },
        "x": {
         "field": "Year",
         "type": "quantitative"
        },
        "y": {
         "field": "value",
         "type": "quantitative"
        }
       },
       "mark": "line"
      },
      "image/png": "[encoded data removed]",
      "image/svg+xml": "<?xml version=\"1.0\" encoding=\"utf-8\"?>\n<!DOCTYPE svg PUBLIC \"-//W3C//DTD SVG 1.1//EN\" \"http://www.w3.org/Graphics/SVG/1.1/DTD/svg11.dtd\">\n<svg xmlns=\"http://www.w3.org/2000/svg\" xmlns:xlink=\"http://www.w3.org/1999/xlink\" version=\"1.1\" class=\"marks\" width=\"413\" height=\"247\" viewBox=\"0 0 413 247\"><rect width=\"413\" height=\"247\" fill=\"white\"/><g fill=\"none\" stroke-miterlimit=\"10\" transform=\"translate(123,10)\"><g class=\"mark-group role-frame root\" role=\"graphics-object\" aria-roledescription=\"group mark container\"><g transform=\"translate(0,0)\"><path class=\"background\" aria-hidden=\"true\" d=\"M0.5,0.5h200v200h-200Z\" stroke=\"#ddd\"/><g><g class=\"mark-group role-axis\" aria-hidden=\"true\"><g transform=\"translate(0.5,200.5)\"><path class=\"background\" aria-hidden=\"true\" d=\"M0,0h0v0h0Z\" pointer-events=\"none\"/><g><g class=\"mark-rule role-axis-grid\" pointer-events=\"none\"><line transform=\"translate(18,-200)\" x2=\"0\" y2=\"200\" stroke=\"#ddd\" stroke-width=\"1\" opacity=\"1\"/><line transform=\"translate(55,-200)\" x2=\"0\" y2=\"200\" stroke=\"#ddd\" stroke-width=\"1\" opacity=\"1\"/><line transform=\"translate(91,-200)\" x2=\"0\" y2=\"200\" stroke=\"#ddd\" stroke-width=\"1\" opacity=\"1\"/><line transform=\"translate(127,-200)\" x2=\"0\" y2=\"200\" stroke=\"#ddd\" stroke-width=\"1\" opacity=\"1\"/><line transform=\"translate(164,-200)\" x2=\"0\" y2=\"200\" stroke=\"#ddd\" stroke-width=\"1\" opacity=\"1\"/><line transform=\"translate(200,-200)\" x2=\"0\" y2=\"200\" stroke=\"#ddd\" stroke-width=\"1\" opacity=\"1\"/></g></g><path class=\"foreground\" aria-hidden=\"true\" d=\"\" pointer-events=\"none\" display=\"none\"/></g></g><g class=\"mark-group role-axis\" aria-hidden=\"true\"><g transform=\"translate(0.5,0.5)\"><path class=\"background\" aria-hidden=\"true\" d=\"M0,0h0v0h0Z\" pointer-events=\"none\"/><g><g class=\"mark-rule role-axis-grid\" pointer-events=\"none\"><line transform=\"translate(0,200)\" x2=\"200\" y2=\"0\" stroke=\"#ddd\" stroke-width=\"1\" opacity=\"1\"/><line transform=\"translate(0,171)\" x2=\"200\" y2=\"0\" stroke=\"#ddd\" stroke-width=\"1\" opacity=\"1\"/><line transform=\"translate(0,143)\" x2=\"200\" y2=\"0\" stroke=\"#ddd\" stroke-width=\"1\" opacity=\"1\"/><line transform=\"translate(0,114)\" x2=\"200\" y2=\"0\" stroke=\"#ddd\" stroke-width=\"1\" opacity=\"1\"/><line transform=\"translate(0,86)\" x2=\"200\" y2=\"0\" stroke=\"#ddd\" stroke-width=\"1\" opacity=\"1\"/><line transform=\"translate(0,57)\" x2=\"200\" y2=\"0\" stroke=\"#ddd\" stroke-width=\"1\" opacity=\"1\"/><line transform=\"translate(0,29)\" x2=\"200\" y2=\"0\" stroke=\"#ddd\" stroke-width=\"1\" opacity=\"1\"/><line transform=\"translate(0,0)\" x2=\"200\" y2=\"0\" stroke=\"#ddd\" stroke-width=\"1\" opacity=\"1\"/></g></g><path class=\"foreground\" aria-hidden=\"true\" d=\"\" pointer-events=\"none\" display=\"none\"/></g></g><g class=\"mark-group role-axis\" role=\"graphics-symbol\" aria-roledescription=\"axis\" aria-label=\"X-axis titled 'Year' for a linear scale with values from 1,750 to 2,300\"><g transform=\"translate(0.5,200.5)\"><path class=\"background\" aria-hidden=\"true\" d=\"M0,0h0v0h0Z\" pointer-events=\"none\"/><g><g class=\"mark-rule role-axis-tick\" pointer-events=\"none\"><line transform=\"translate(18,0)\" x2=\"0\" y2=\"5\" stroke=\"#888\" stroke-width=\"1\" opacity=\"1\"/><line transform=\"translate(55,0)\" x2=\"0\" y2=\"5\" stroke=\"#888\" stroke-width=\"1\" opacity=\"1\"/><line transform=\"translate(91,0)\" x2=\"0\" y2=\"5\" stroke=\"#888\" stroke-width=\"1\" opacity=\"1\"/><line transform=\"translate(127,0)\" x2=\"0\" y2=\"5\" stroke=\"#888\" stroke-width=\"1\" opacity=\"1\"/><line transform=\"translate(164,0)\" x2=\"0\" y2=\"5\" stroke=\"#888\" stroke-width=\"1\" opacity=\"1\"/><line transform=\"translate(200,0)\" x2=\"0\" y2=\"5\" stroke=\"#888\" stroke-width=\"1\" opacity=\"1\"/></g><g class=\"mark-text role-axis-label\" pointer-events=\"none\"><text text-anchor=\"middle\" transform=\"translate(18.181818181818183,15)\" font-family=\"sans-serif\" font-size=\"10px\" fill=\"#000\" opacity=\"1\">1,800</text><text text-anchor=\"middle\" transform=\"translate(54.54545454545454,15)\" font-family=\"sans-serif\" font-size=\"10px\" fill=\"#000\" opacity=\"0\">1,900</text><text text-anchor=\"middle\" transform=\"translate(90.9090909090909,15)\" font-family=\"sans-serif\" font-size=\"10px\" fill=\"#000\" opacity=\"1\">2,000</text><text text-anchor=\"middle\" transform=\"translate(127.27272727272727,15)\" font-family=\"sans-serif\" font-size=\"10px\" fill=\"#000\" opacity=\"0\">2,100</text><text text-anchor=\"middle\" transform=\"translate(163.63636363636365,15)\" font-family=\"sans-serif\" font-size=\"10px\" fill=\"#000\" opacity=\"1\">2,200</text><text text-anchor=\"end\" transform=\"translate(200,15)\" font-family=\"sans-serif\" font-size=\"10px\" fill=\"#000\" opacity=\"0\">2,300</text></g><g class=\"mark-rule role-axis-domain\" pointer-events=\"none\"><line transform=\"translate(0,0)\" x2=\"200\" y2=\"0\" stroke=\"#888\" stroke-width=\"1\" opacity=\"1\"/></g><g class=\"mark-text role-axis-title\" pointer-events=\"none\"><text text-anchor=\"middle\" transform=\"translate(100,30)\" font-family=\"sans-serif\" font-size=\"11px\" font-weight=\"bold\" fill=\"#000\" opacity=\"1\">Year</text></g></g><path class=\"foreground\" aria-hidden=\"true\" d=\"\" pointer-events=\"none\" display=\"none\"/></g></g><g class=\"mark-group role-axis\" role=\"graphics-symbol\" aria-roledescription=\"axis\" aria-label=\"Y-axis titled 'value' for a linear scale with values from −5,000,000,000,000 to 30,000,000,000,000\"><g transform=\"translate(0.5,0.5)\"><path class=\"background\" aria-hidden=\"true\" d=\"M0,0h0v0h0Z\" pointer-events=\"none\"/><g><g class=\"mark-rule role-axis-tick\" pointer-events=\"none\"><line transform=\"translate(0,200)\" x2=\"-5\" y2=\"0\" stroke=\"#888\" stroke-width=\"1\" opacity=\"1\"/><line transform=\"translate(0,171)\" x2=\"-5\" y2=\"0\" stroke=\"#888\" stroke-width=\"1\" opacity=\"1\"/><line transform=\"translate(0,143)\" x2=\"-5\" y2=\"0\" stroke=\"#888\" stroke-width=\"1\" opacity=\"1\"/><line transform=\"translate(0,114)\" x2=\"-5\" y2=\"0\" stroke=\"#888\" stroke-width=\"1\" opacity=\"1\"/><line transform=\"translate(0,86)\" x2=\"-5\" y2=\"0\" stroke=\"#888\" stroke-width=\"1\" opacity=\"1\"/><line transform=\"translate(0,57)\" x2=\"-5\" y2=\"0\" stroke=\"#888\" stroke-width=\"1\" opacity=\"1\"/><line transform=\"translate(0,29)\" x2=\"-5\" y2=\"0\" stroke=\"#888\" stroke-width=\"1\" opacity=\"1\"/><line transform=\"translate(0,0)\" x2=\"-5\" y2=\"0\" stroke=\"#888\" stroke-width=\"1\" opacity=\"1\"/></g><g class=\"mark-text role-axis-label\" pointer-events=\"none\"><text text-anchor=\"end\" transform=\"translate(-7,203)\" font-family=\"sans-serif\" font-size=\"10px\" fill=\"#000\" opacity=\"1\">−5,000,000,000,000</text><text text-anchor=\"end\" transform=\"translate(-7,174.42857142857144)\" font-family=\"sans-serif\" font-size=\"10px\" fill=\"#000\" opacity=\"1\">0</text><text text-anchor=\"end\" transform=\"translate(-7,145.85714285714286)\" font-family=\"sans-serif\" font-size=\"10px\" fill=\"#000\" opacity=\"1\">5,000,000,000,000</text><text text-anchor=\"end\" transform=\"translate(-7,117.28571428571428)\" font-family=\"sans-serif\" font-size=\"10px\" fill=\"#000\" opacity=\"1\">10,000,000,000,000</text><text text-anchor=\"end\" transform=\"translate(-7,88.71428571428572)\" font-family=\"sans-serif\" font-size=\"10px\" fill=\"#000\" opacity=\"1\">15,000,000,000,000</text><text text-anchor=\"end\" transform=\"translate(-7,60.14285714285714)\" font-family=\"sans-serif\" font-size=\"10px\" fill=\"#000\" opacity=\"1\">20,000,000,000,000</text><text text-anchor=\"end\" transform=\"translate(-7,31.57142857142858)\" font-family=\"sans-serif\" font-size=\"10px\" fill=\"#000\" opacity=\"1\">25,000,000,000,000</text><text text-anchor=\"end\" transform=\"translate(-7,3)\" font-family=\"sans-serif\" font-size=\"10px\" fill=\"#000\" opacity=\"1\">30,000,000,000,000</text></g><g class=\"mark-rule role-axis-domain\" pointer-events=\"none\"><line transform=\"translate(0,200)\" x2=\"0\" y2=\"-200\" stroke=\"#888\" stroke-width=\"1\" opacity=\"1\"/></g><g class=\"mark-text role-axis-title\" pointer-events=\"none\"><text text-anchor=\"middle\" transform=\"translate(-107,100) rotate(-90) translate(0,-2)\" font-family=\"sans-serif\" font-size=\"11px\" font-weight=\"bold\" fill=\"#000\" opacity=\"1\">value</text></g></g><path class=\"foreground\" aria-hidden=\"true\" d=\"\" pointer-events=\"none\" display=\"none\"/></g></g><g class=\"mark-group role-scope pathgroup\" role=\"graphics-object\" aria-roledescription=\"group mark container\"><g transform=\"translate(0,0)\"><path class=\"background\" aria-hidden=\"true\" d=\"M0,0h200v200h-200Z\"/><g><g class=\"mark-line role-mark marks\" role=\"graphics-object\" aria-roledescription=\"line mark container\"><path aria-label=\"Year: 1750; value: 0; variable: FUND\" role=\"graphics-symbol\" aria-roledescription=\"line mark\" d=\"M73.0909090909091,171.45296850821015L73.45454545454545,171.45656549560638L73.81818181818181,171.46056768432828L74.18181818181819,171.46450035878172L74.54545454545455,171.4686769455332L74.90909090909092,171.4731347356609L75.27272727272727,171.47790293771686L75.63636363636364,171.48286501729132L76,171.48804321232123L76.36363636363637,171.49334911322995L76.72727272727272,171.49922014186077L77.0909090909091,171.50535699413234L77.45454545454545,171.51176796663907L77.81818181818181,171.5185540963055L78.18181818181819,171.52571614407867L78.54545454545455,171.53329097593902L78.9090909090909,171.54138129565072L79.27272727272727,171.54995599044065L79.63636363636364,171.5589214029416L80,171.56821466156435L80.36363636363636,171.57752488898316L80.72727272727272,171.5878219353439L81.0909090909091,171.5986929563667L81.45454545454545,171.61006312823733L81.81818181818183,171.62205522939112L82.18181818181817,171.63469635690774L82.54545454545455,171.64796213492536L82.9090909090909,171.6617226823486L83.27272727272728,171.6760384842314L83.63636363636363,171.69136952922946L84,171.7103114128506L84.36363636363636,171.73191818420094L84.72727272727273,171.75495270476833L85.0909090909091,171.77942050463722L85.45454545454545,171.80544929510364L85.81818181818181,171.8333792877476L86.18181818181819,171.86353763399097L86.54545454545455,171.89602795320505L86.9090909090909,171.93129199517395L87.27272727272727,171.96871176543112L87.63636363636364,171.98957181184173L88,172.01379968960237L88.36363636363636,172.03925225822815L88.72727272727273,172.06598721131732L89.0909090909091,172.09421034757148L89.45454545454545,172.1308933992089L89.81818181818181,172.16729435241757L90.18181818181819,172.20882751207944L90.54545454545455,172.05988046477444L90.9090909090909,172.27097995682433L91.27272727272727,172.32130242420612L91.63636363636364,172.35375187908605L92,172.38841996433646L92.36363636363636,172.42390236534234L92.72727272727272,172.45950273083128L93.0909090909091,172.49476740118504L93.45454545454545,172.5298532227662L93.81818181818183,172.56544556825574L94.18181818181817,172.60148629558935L94.54545454545455,172.6384196806086L94.9090909090909,172.67669510642486L95.27272727272728,172.71564588328187L95.63636363636364,172.75510818421154L96,172.79756112840988L96.36363636363636,172.83755133142722L96.72727272727273,172.87800395682714L97.0909090909091,172.91884111677908L97.45454545454545,172.96113127372934L97.81818181818181,173.00177320628623L98.18181818181819,173.042229556253L98.54545454545455,173.08223084734223L98.9090909090909,173.12193064087023L99.27272727272727,173.16140663910352L99.63636363636364,173.20055282432344L100,173.2392945289988L100.36363636363636,173.27750024232975L100.72727272727273,173.3150085381769L101.0909090909091,173.3517240485242L101.45454545454547,173.3875161597968L101.81818181818181,173.42197710213557L102.18181818181817,173.45452214099072L102.54545454545453,173.48592833625983L102.9090909090909,173.51608785879938L103.27272727272727,173.54494641440982L103.63636363636364,173.57243145079875L104,173.59842497161065L104.36363636363637,173.62277261629734L104.72727272727273,173.6452943990724L105.09090909090911,173.66582834825758L105.45454545454544,173.68437005091442L105.81818181818181,173.70080370337092L106.18181818181817,173.71441219003017L106.54545454545455,173.72507025933496L106.9090909090909,173.73255751617404L107.27272727272728,173.73670942546477L107.63636363636364,173.73728516029266L108,173.73414980083305L108.36363636363637,173.72710469574432L108.72727272727272,173.71592891192478L109.09090909090908,173.70079625852597L109.45454545454545,173.68177693437377L109.81818181818181,173.65852727162553L110.18181818181819,173.63162204949515L110.54545454545455,173.60013209941783L110.9090909090909,173.56383033179117L111.27272727272728,173.52248166918588L111.63636363636364,173.4758659872709L112.00000000000001,173.42373261611814L112.36363636363636,173.36576580490245L112.72727272727272,173.30184020423465L113.0909090909091,173.23170809379508L113.45454545454545,173.1550709651486L113.81818181818181,173.071566448687L114.18181818181819,172.98085228126027L114.54545454545455,172.88265922686423L114.90909090909092,172.77652689567114L115.27272727272728,172.66206503896896L115.63636363636363,172.5388818201926L115.99999999999999,172.40653584566576L116.36363636363636,172.26470373213186L116.72727272727272,172.11300842567715L117.0909090909091,171.95058531089L117.45454545454545,171.77720692225472L117.81818181818183,171.59240476680037L118.18181818181819,171.39576552631377L118.54545454545456,171.18672154148635L118.90909090909092,170.9649538844889L119.27272727272727,170.73035641455226L119.63636363636363,170.48260843918635L120,170.2211710852174L120.36363636363636,169.9448865237962L120.72727272727273,169.65388000683404L121.0909090909091,169.3478781242853L121.45454545454545,169.02665032965447L121.81818181818183,168.68992186996766L122.18181818181819,168.3371868693538L122.54545454545453,167.96823522139314L122.9090909090909,167.58283369081042L123.27272727272727,167.18067254148L123.63636363636363,166.7621257384909L124,166.3273716384898L124.36363636363636,165.8760286302003L124.72727272727273,165.40758683383797L125.0909090909091,164.9218379830542L125.45454545454547,164.41878738528482L125.81818181818183,163.89799995074182L126.18181818181817,163.35950513317488L126.54545454545453,162.8032472797601L126.9090909090909,162.22915003369738L127.27272727272727,161.63787325391834L127.63636363636364,161.03117851496899L128,160.408121674268L128.36363636363637,159.7681349486046L128.72727272727275,159.11113687729505L129.0909090909091,158.4370783011555L129.45454545454544,157.74593360198364L129.8181818181818,157.03769280229798L130.1818181818182,156.31232046281332L130.54545454545453,155.56993377589313L130.9090909090909,154.81060030145218L131.27272727272728,154.0344949969748L131.63636363636363,153.24165212086513L132,152.43223357884926L132.36363636363637,151.60642070956118L132.72727272727275,150.76444386234613L133.0909090909091,149.9064434629484L133.45454545454544,149.03293276024255L133.8181818181818,148.14410082892394L134.1818181818182,147.24031008972958L134.54545454545453,146.32193575023132L134.9090909090909,145.38933665067935L135.27272727272728,144.44274850284575L135.63636363636365,143.48253485359876L136,142.50918199985963L136.36363636363635,141.52316381275526L136.72727272727272,140.5250009271584L137.0909090909091,139.51521169333162L137.45454545454544,138.49435659076175L137.8181818181818,137.46302028087598L138.1818181818182,136.42178749957722L138.54545454545456,135.37130130241297L138.9090909090909,134.3122090381173L139.27272727272728,133.24515567154327L139.63636363636365,132.17084484792147L140,131.08995383155485L140.36363636363635,130.00317521739322L140.72727272727272,128.9112558848934L141.0909090909091,127.81494025682511L141.45454545454547,126.71501142113644L141.8181818181818,125.61220052763736L142.1818181818182,124.50725397727665L142.54545454545456,123.4009962250982L142.9090909090909,122.2941902002209L143.27272727272725,121.18761874598589L143.63636363636363,120.08211395707376L144,118.97841135974949L144.36363636363637,117.87743116300815L144.72727272727272,116.77991065113437L145.0909090909091,115.68663112496318L145.45454545454547,114.5983797234076L145.8181818181818,113.51601495801948L146.1818181818182,112.43395856828553L146.54545454545456,111.35208264190956L146.9090909090909,110.27080148068464L147.27272727272725,109.19049210639382L147.63636363636363,108.1116067161376L148,107.0345053694342L148.36363636363637,105.95954819046622L148.72727272727272,104.88722531108795L149.0909090909091,103.81777511976912L149.45454545454547,102.75160816620242L149.81818181818184,101.68907751538183L150.18181818181816,100.63049985262636L150.54545454545453,99.5762019847947L150.9090909090909,98.52654285494187L151.27272727272728,97.4817832532514L151.63636363636363,96.44227317215194L152,95.40826210345948L152.36363636363637,94.38004910091804L152.72727272727275,93.35790503630817L153.0909090909091,92.34216769430232L153.45454545454544,91.3329099265001L153.8181818181818,90.33047246192456L154.1818181818182,89.3350448039569L154.54545454545453,88.34690862959272L154.9090909090909,87.36620833208745L155.27272727272728,86.39316154904624L155.63636363636363,85.42795539488235L156,84.4707302101916L156.36363636363637,83.52165871330743L156.72727272727275,82.58084123053165L157.0909090909091,81.64850313627497L157.45454545454544,80.72467220830562L157.8181818181818,79.80953086897344L158.1818181818182,78.90327791566997L158.54545454545453,78.0058723130067L158.9090909090909,77.11749683214623L159.27272727272728,76.238148476432L159.63636363636365,75.3679226790813L160,74.50687520039412L160.36363636363635,73.68732314470915L160.72727272727272,72.88859072330467L161.0909090909091,72.15707324832661L161.45454545454544,71.33573021249633L161.8181818181818,70.52317689887022L162.1818181818182,69.7200309117383L162.54545454545456,68.92620719913774L162.9090909090909,68.14182218737193L163.27272727272728,67.36668400657268L163.63636363636365,66.60079607623801L164,65.83579583709833L164.36363636363635,65.07410109047458L164.72727272727272,64.31564235623286L165.0909090909091,63.56041698336392L165.45454545454547,62.8083503874032L165.8181818181818,62.05952113657496L166.1818181818182,61.31358218925493L166.54545454545456,60.5708700906741L166.9090909090909,59.83106876536095L167.27272727272725,59.09422767118959L167.63636363636363,58.36201315482794L168,57.63731414576898L168.36363636363637,56.90880990847889L168.72727272727272,56.18307623634333L169.0909090909091,55.46003054596396L169.45454545454547,54.739320146876146L169.8181818181818,54.02111965206926L170.1818181818182,53.30533582974206L170.54545454545456,52.59186636999069L170.9090909090909,51.88078445900821L171.27272727272725,51.17171110854333L171.63636363636363,50.46466883949454L172,49.759881798673476L172.36363636363637,49.07786033509056L172.72727272727272,48.388955928465634L173.0909090909091,47.70154991305162L173.45454545454547,47.01162587638337L173.8181818181818,46.32657709211099L174.18181818181816,45.6465387286235L174.54545454545453,44.97156387204502L174.9090909090909,44.30137017253762L175.27272727272728,43.636227263076876L175.63636363636363,42.97581350664845L176,42.31978874746527L176.36363636363637,41.66833424362171L176.72727272727272,41.02138198765459L177.0909090909091,40.3789979838953L177.45454545454547,39.83699757981076L177.8181818181818,39.29166208952017L178.1818181818182,38.664108459595205L178.54545454545453,38.04076856639167L178.9090909090909,37.42159394678388L179.27272727272728,36.80651958592813L179.63636363636363,36.19522080647939L180,35.587947220500624L180.36363636363637,34.984643299681714L180.72727272727275,34.38503532496395L181.0909090909091,33.78910735950438L181.45454545454544,33.196335246136385L181.8181818181818,32.60749830614429L182.1818181818182,32.02237354163604L182.54545454545453,31.44048516049407L182.9090909090909,30.861719383373476L183.27272727272728,30.286257387311167L183.63636363636365,29.713745486271613L184,29.14462215472544L184.36363636363637,28.57847204970234L184.72727272727272,28.0146795029125L185.0909090909091,27.454014214875677L185.45454545454544,26.896302304941777L185.8181818181818,26.34123353400475L186.1818181818182,25.789023424633296L186.54545454545456,25.23922403763743L186.9090909090909,24.69219781209704L187.27272727272728,24.14804276314584L187.63636363636365,23.606373468516928L188,23.0670785492713L188.36363636363635,22.530686118354957L188.72727272727272,21.996515044307973L189.0909090909091,21.464957410064933L189.45454545454544,20.935388800171427L189.8181818181818,20.408136282309506L190.1818181818182,19.883162435997704L190.54545454545456,19.360285569266587L190.9090909090909,18.84015801513643L191.27272727272728,18.321745010899114L191.63636363636363,17.805953299405797L192,17.292198383253265L192.36363636363635,16.780605742499954L192.72727272727272,16.270821592782212L193.0909090909091,15.823599422779688L193.45454545454547,15.323569828819172L193.8181818181818,14.820543366940875L194.1818181818182,14.319378380468816L194.54545454545456,13.820639856766515L194.9090909090909,13.322945068218495L195.27272727272725,12.827824234436047L195.63636363636363,12.33438493930712L196,11.842947319108443L196.36363636363637,11.35321806677647L196.72727272727272,10.864996781903645L197.0909090909091,10.378716384942987L197.45454545454547,9.894716834063445L197.8181818181818,9.411700794080136L198.1818181818182,8.930582817596978L198.54545454545453,8.451527968259454L198.9090909090909,7.974141101669807L199.27272727272728,7.498970079861578L199.63636363636363,7.0252317466156455L200,6.552901779336939\" stroke=\"#4c78a8\" stroke-width=\"2\"/></g></g><path class=\"foreground\" aria-hidden=\"true\" d=\"\" display=\"none\"/></g><g transform=\"translate(0,0)\"><path class=\"background\" aria-hidden=\"true\" d=\"M0,0h200v200h-200Z\"/><g><g class=\"mark-line role-mark marks\" role=\"graphics-object\" aria-roledescription=\"line mark container\"><path aria-label=\"Year: 1750; value: 0; variable: FUNDFAIR\" role=\"graphics-symbol\" aria-roledescription=\"line mark\" d=\"M73.0909090909091,171.3992614284272L73.45454545454545,171.40567512773757L73.81818181818181,171.41317938826663L74.18181818181819,171.41837286887414L74.54545454545455,171.4214004691967L74.90909090909092,171.4215418154749L75.27272727272727,171.4202542202863L75.63636363636364,171.42136167389498L76,171.42720522998542L76.36363636363637,171.43646190371888L76.72727272727272,171.45395528048462L77.0909090909091,171.44930714159722L77.45454545454545,171.45347363294792L77.81818181818181,171.4707864228146L78.18181818181819,171.4935065406729L78.54545454545455,171.50870151658512L78.9090909090909,171.5059500941662L79.27272727272727,171.51702862913226L79.63636363636364,171.51503172855783L80,171.51921424675334L80.36363636363636,171.53652864145684L80.72727272727272,171.54747497105157L81.0909090909091,171.54297602031667L81.45454545454545,171.5556071823842L81.81818181818183,171.60921237683436L82.18181818181817,171.6096059819097L82.54545454545455,171.5826081469617L82.9090909090909,171.57950933777073L83.27272727272728,171.581470807434L83.63636363636363,171.59154026292168L84,171.60772094669377L84.36363636363636,171.68943551342292L84.72727272727273,171.64819236953625L85.0909090909091,171.69375989431055L85.45454545454545,171.73358102194533L85.81818181818181,171.72594322150422L86.18181818181819,171.73830111517609L86.54545454545455,171.74170854602457L86.9090909090909,171.74286640962328L87.27272727272727,171.75260353539122L87.63636363636364,171.92975962358923L88,171.7951526501393L88.36363636363636,171.85101667055866L88.72727272727273,171.95140844492494L89.0909090909091,171.8848848252154L89.45454545454545,171.88400171226678L89.81818181818181,171.88656861944025L90.18181818181819,171.89059805673367L90.54545454545455,171.6414011668967L90.9090909090909,171.87293923620803L91.27272727272727,171.89445797332317L91.63636363636364,171.90503960730476L92,171.93881257588518L92.36363636363636,171.99227280402354L92.72727272727272,172.04968907929933L93.0909090909091,172.1141086138582L93.45454545454545,172.14869014987272L93.81818181818183,172.15581934000394L94.18181818181817,172.1710281763162L94.54545454545455,172.16231244649197L94.9090909090909,172.1583662411858L95.27272727272728,172.15988235928518L95.63636363636364,172.14599404896532L96,172.1516791629915L96.36363636363636,172.17182487006718L96.72727272727273,172.19301678504803L97.0909090909091,172.1974070845104L97.45454545454545,172.19969381629704L97.81818181818181,172.20642663868037L98.18181818181819,172.2095471611109L98.54545454545455,172.20616265914842L98.9090909090909,172.1909240592805L99.27272727272727,172.17961735705538L99.63636363636364,172.18063169920723L100,172.20506272152457L100.36363636363636,172.25282574618103L100.72727272727273,172.30813225196155L101.0909090909091,172.35328697846143L101.45454545454547,172.3913775911492L101.81818181818181,172.41356641637236L102.18181818181817,172.41606082071516L102.54545454545453,172.40913833210286L102.9090909090909,172.37785559045818L103.27272727272727,172.32244824935648L103.63636363636364,172.27860120260084L104,172.24344376292464L104.36363636363637,172.2193730675036L104.72727272727273,172.20308415218133L105.09090909090911,172.19166103880838L105.45454545454544,172.19563096655747L105.81818181818181,172.19623134591316L106.18181818181817,172.18031766407927L106.54545454545455,172.14374411077478L106.9090909090909,172.08977272179467L107.27272727272728,172.00586651869273L107.63636363636364,171.90847275011208L108,171.80864976865377L108.36363636363637,171.7165779232688L108.72727272727272,171.65527775321783L109.09090909090908,171.62585156560561L109.45454545454545,171.60114624840298L109.81818181818181,171.56669574848962L110.18181818181819,171.52717256919297L110.54545454545455,171.46610727354533L110.9090909090909,171.36962048631963L111.27272727272728,171.24697094165288L111.63636363636364,171.13529466011576L112.00000000000001,171.0357852582861L112.36363636363636,170.92983870831026L112.72727272727272,170.8461110814681L113.0909090909091,170.78309646710093L113.45454545454545,170.71395231271381L113.81818181818181,170.62820980805807L114.18181818181819,170.52288599166502L114.54545454545455,170.3967891456387L114.90909090909092,170.22565134497344L115.27272727272728,170.0217118274017L115.63636363636363,169.81810746217104L115.99999999999999,169.63571589882807L116.36363636363636,169.48119349655943L116.72727272727272,169.346045770373L117.0909090909091,169.20416724726013L117.45454545454545,169.0418208926792L117.81818181818183,168.8756932248183L118.18181818181819,168.69827664339607L118.54545454545456,168.50362426664617L118.90909090909092,168.28266729875935L119.27272727272727,168.01651837631113L119.63636363636363,167.71599677828547L120,167.40300427963422L120.36363636363636,167.0991962505273L120.72727272727273,166.80748453233204L121.0909090909091,166.53743103808134L121.45454545454545,166.27633465998505L121.81818181818183,166.03079524135498L122.18181818181819,165.7959312085044L122.54545454545453,165.523728116328L122.9090909090909,165.21941290887779L123.27272727272727,164.86986673657825L123.63636363636363,164.45695827934804L124,164.014221482919L124.36363636363636,163.54618727999775L124.72727272727273,163.11249989545163L125.0909090909091,162.75877654440748L125.45454545454547,162.42972107498522L125.81818181818183,162.1072507137312L126.18181818181817,161.76262225320332L126.54545454545453,161.38180333127352L126.9090909090909,160.9500239002954L127.27272727272727,160.4372927252489L127.63636363636364,159.86932708644756L128,159.32714898118923L128.36363636363637,158.82253177774106L128.72727272727275,158.33544533211438L129.0909090909091,157.89534540504772L129.45454545454544,157.4629916033897L129.8181818181818,157.00470042174814L130.1818181818182,156.51085868390874L130.54545454545453,155.9624341019897L130.9090909090909,155.33885370646203L131.27272727272728,154.5967091068758L131.63636363636363,153.86832863036676L132,153.20972627666418L132.36363636363637,152.6227027459053L132.72727272727275,152.0734254301555L133.0909090909091,151.53280706125366L133.45454545454544,151.01000148467196L133.8181818181818,150.4510110305752L134.1818181818182,149.85230240034056L134.54545454545453,149.1571252539012L134.9090909090909,148.3491621522825L135.27272727272728,147.47325347714687L135.63636363636365,146.7136338485262L136,146.0316312407707L136.36363636363635,145.40059358324507L136.72727272727272,144.88493659663206L137.0909090909091,144.34886566978682L137.45454545454544,143.77624257918745L137.8181818181818,143.14871042749826L138.1818181818182,142.39983995121025L138.54545454545456,141.45195944554592L138.9090909090909,140.52543935147943L139.27272727272728,139.71357960296004L139.63636363636365,139.00204029815376L140,138.45383357520507L140.36363636363635,138.01860035997393L140.72727272727272,137.55231814664825L141.0909090909091,137.00718502245323L141.45454545454547,136.44396822697445L141.8181818181818,135.82216316229724L142.1818181818182,135.0748006717916L142.54545454545456,134.23993759613577L142.9090909090909,133.4828654189702L143.27272727272725,132.80174068816314L143.63636363636363,132.16558226279696L144,131.6675078887179L144.36363636363637,131.18633137034124L144.72727272727272,130.7006244171894L145.0909090909091,130.25754223252696L145.45454545454547,129.7750130258559L145.8181818181818,129.2592433338113L146.1818181818182,128.6093888884279L146.54545454545456,127.75301147937796L146.9090909090909,126.85612945268132L147.27272727272725,126.15649809738345L147.63636363636363,125.64328883060416L148,125.26099215535173L148.36363636363637,125.05213103912874L148.72727272727272,124.91474595762307L149.0909090909091,124.69677352145622L149.45454545454547,124.30520894939292L149.81818181818184,123.67171242216008L150.18181818181816,122.77994029403504L150.54545454545453,121.8071036461813L150.9090909090909,121.19210187825567L151.27272727272728,120.78730209697528L151.63636363636363,120.61651075321768L152,120.76084149131441L152.36363636363637,120.79500125095915L152.72727272727275,120.68061786473363L153.0909090909091,120.39604630825455L153.45454545454544,119.88336265080548L153.8181818181818,119.03123641412276L154.1818181818182,118.18625175833768L154.54545454545453,117.52087599841201L154.9090909090909,117.03961387096173L155.27272727272728,116.89717916065715L155.63636363636363,117.05969802870746L156,117.2316291331716L156.36363636363637,117.31744822724694L156.72727272727275,117.32997420735809L157.0909090909091,117.22874716333766L157.45454545454544,117.03286337979581L157.8181818181818,116.65483276295441L158.1818181818182,116.03951055381216L158.54545454545453,115.07474968483551L158.9090909090909,114.36160814951167L159.27272727272728,113.97208154655729L159.63636363636365,113.57263378397586L160,113.64819974933451L160.36363636363635,114.18361037293394L160.72727272727272,114.57601003591584L161.0909090909091,114.71388383214709L161.45454545454544,114.53281462606554L161.8181818181818,114.10398649825872L162.1818181818182,113.1340910250926L162.54545454545456,111.97261285899796L162.9090909090909,111.15533943036016L163.27272727272728,110.95954321801229L163.63636363636365,111.28612857098501L164,111.99437483873011L164.36363636363635,112.61837635996406L164.72727272727272,112.80590447600841L165.0909090909091,113.07510384614415L165.45454545454547,113.21298195646227L165.8181818181818,113.12621896186504L166.1818181818182,112.72358809972138L166.54545454545456,111.7534199284003L166.9090909090909,110.6520899060171L167.27272727272725,109.80162082300417L167.63636363636363,109.45879811380905L168,109.47794561894764L168.36363636363637,109.85849283977286L168.72727272727272,110.37229992612293L169.0909090909091,111.11490516473121L169.45454545454547,111.31000231289502L169.8181818181818,111.22449037780933L170.1818181818182,111.35931361232832L170.54545454545456,110.27855857052838L170.9090909090909,108.73388252421626L171.27272727272725,107.46523498952709L171.63636363636363,106.32748347773267L172,106.0644354773308L172.36363636363637,107.04383118864288L172.72727272727272,108.26557096657024L173.0909090909091,108.86521620063294L173.45454545454547,108.18671798187644L173.8181818181818,108.06113753636741L174.18181818181816,108.4763027219327L174.54545454545453,107.75731390466426L174.9090909090909,106.23074095153152L175.27272727272728,105.62718589711746L175.63636363636363,105.24959580107685L176,105.38848278613222L176.36363636363637,106.1470429543196L176.72727272727272,107.27604629497452L177.0909090909091,106.22807196999307L177.45454545454547,106.02309282495858L177.8181818181818,106.20455401632852L178.1818181818182,106.92190707436939L178.54545454545453,104.90596802663683L178.9090909090909,102.96028453186477L179.27272727272728,102.20359750604851L179.63636363636363,102.41315804247783L180,103.43236930765349L180.36363636363637,105.13848569897455L180.72727272727275,104.0575922337952L181.0909090909091,103.4657291310122L181.45454545454544,103.04898930138444L181.8181818181818,103.02032454349614L182.1818181818182,103.31222728097045L182.54545454545453,104.02978068035705L182.9090909090909,104.177990514318L183.27272727272728,102.13610728522707L183.63636363636365,101.1505715557527L184,100.8499361766118L184.36363636363637,100.83181661854775L184.72727272727272,101.61706246545592L185.0909090909091,102.57239094584843L185.45454545454544,102.34100788197848L185.8181818181818,101.4507491082552L186.1818181818182,101.68119717265614L186.54545454545456,102.46942740450051L186.9090909090909,101.00277682230079L187.27272727272728,98.47551544945115L187.63636363636365,96.51783330904186L188,95.1501424676203L188.36363636363635,95.41074529153215L188.72727272727272,97.02768139974486L189.0909090909091,98.71366113584776L189.45454545454544,99.54720221007729L189.8181818181818,98.71930399413654L190.1818181818182,98.76746679135526L190.54545454545456,98.52471801837316L190.9090909090909,95.94987955345684L191.27272727272728,93.99092480336773L191.63636363636363,93.29219795870085L192,93.41464032844624L192.36363636363635,94.01962112080903L192.72727272727272,95.50087094905865L193.0909090909091,96.79728047197729L193.45454545454547,96.68354571296791L193.8181818181818,96.27075035371064L194.1818181818182,94.84480392242813L194.54545454545456,92.19406330932951L194.9090909090909,89.46871932766226L195.27272727272725,88.01117011163169L195.63636363636363,87.80515424878728L196,89.42579335952846L196.36363636363637,91.27545331942697L196.72727272727272,92.20388451586908L197.0909090909091,92.78728707228254L197.45454545454547,92.12053164247695L197.8181818181818,92.72335178339308L198.1818181818182,89.75001396912607L198.54545454545453,86.80949301267111L198.9090909090909,84.59721445838706L199.27272727272728,83.6741489470953L199.63636363636363,84.64285680128947L200,86.51108088128494\" stroke=\"#f58518\" stroke-width=\"2\"/></g></g><path class=\"foreground\" aria-hidden=\"true\" d=\"\" display=\"none\"/></g></g><g class=\"mark-group role-legend\" role=\"graphics-symbol\" aria-roledescription=\"legend\" aria-label=\"Symbol legend titled 'variable' for stroke color with 2 values: FUND, FUNDFAIR\"><g transform=\"translate(220,0)\"><path class=\"background\" aria-hidden=\"true\" d=\"M0,0h65v40h-65Z\" pointer-events=\"none\"/><g><g class=\"mark-group role-legend-entry\"><g transform=\"translate(0,16)\"><path class=\"background\" aria-hidden=\"true\" d=\"M0,0h0v0h0Z\" pointer-events=\"none\"/><g><g class=\"mark-group role-scope\" role=\"graphics-object\" aria-roledescription=\"group mark container\"><g transform=\"translate(0,0)\"><path class=\"background\" aria-hidden=\"true\" d=\"M0,0h65v11h-65Z\" pointer-events=\"none\" opacity=\"1\"/><g><g class=\"mark-symbol role-legend-symbol\" pointer-events=\"none\"><path transform=\"translate(6,6)\" d=\"M-5,0L5,0\" stroke=\"#4c78a8\" stroke-width=\"1.5\" opacity=\"1\"/></g><g class=\"mark-text role-legend-label\" pointer-events=\"none\"><text text-anchor=\"start\" transform=\"translate(16,9)\" font-family=\"sans-serif\" font-size=\"10px\" fill=\"#000\" opacity=\"1\">FUND</text></g></g><path class=\"foreground\" aria-hidden=\"true\" d=\"\" pointer-events=\"none\" display=\"none\"/></g><g transform=\"translate(0,13)\"><path class=\"background\" aria-hidden=\"true\" d=\"M0,0h65v11h-65Z\" pointer-events=\"none\" opacity=\"1\"/><g><g class=\"mark-symbol role-legend-symbol\" pointer-events=\"none\"><path transform=\"translate(6,6)\" d=\"M-5,0L5,0\" stroke=\"#f58518\" stroke-width=\"1.5\" opacity=\"1\"/></g><g class=\"mark-text role-legend-label\" pointer-events=\"none\"><text text-anchor=\"start\" transform=\"translate(16,9)\" font-family=\"sans-serif\" font-size=\"10px\" fill=\"#000\" opacity=\"1\">FUNDFAIR</text></g></g><path class=\"foreground\" aria-hidden=\"true\" d=\"\" pointer-events=\"none\" display=\"none\"/></g></g></g><path class=\"foreground\" aria-hidden=\"true\" d=\"\" pointer-events=\"none\" display=\"none\"/></g></g><g class=\"mark-text role-legend-title\" pointer-events=\"none\"><text text-anchor=\"start\" transform=\"translate(0,9)\" font-family=\"sans-serif\" font-size=\"11px\" font-weight=\"bold\" fill=\"#000\" opacity=\"1\">variable</text></g></g><path class=\"foreground\" aria-hidden=\"true\" d=\"\" pointer-events=\"none\" display=\"none\"/></g></g></g><path class=\"foreground\" aria-hidden=\"true\" d=\"\" display=\"none\"/></g></g></g></svg>\n",
      "text/plain": [
       "@vlplot(\n",
       "    mark=\"line\",\n",
       "    encoding={\n",
       "        x={\n",
       "            field=\"Year\"\n",
       "        },\n",
       "        y={\n",
       "            field=\"value\"\n",
       "        },\n",
       "        color={\n",
       "            field=\"variable\"\n",
       "        }\n",
       "    },\n",
       "    data={\n",
       "        values=...\n",
       "    }\n",
       ")"
      ]
     },
     "execution_count": 25,
     "metadata": {},
     "output_type": "execute_result"
    }
   ],
   "source": [
    "df = DataFrame(\n",
    "    :Year => Mimi.time_labels(m),\n",
    "    :FUND => fundvals, \n",
    "    :FUNDFAIR => fundfairvals)\n",
    "\n",
    "stack(df, [:FUND, :FUNDFAIR]) |> \n",
    "\n",
    "@vlplot(\n",
    "    :line, \n",
    "    x = :Year,\n",
    "    y = :value,\n",
    "    color = :variable\n",
    ")"
   ]
  },
  {
   "cell_type": "markdown",
   "metadata": {},
   "source": [
    "#### Quality Checking\n",
    "\n",
    "We want to make sure that values are being passed between FUND and FAIR in the right units etc. so let's take a closer look at emissions."
   ]
  },
  {
   "cell_type": "markdown",
   "metadata": {},
   "source": [
    "##### Annual Carbon Dioxide Emissions (GtC yr⁻¹)"
   ]
  },
  {
   "cell_type": "code",
   "execution_count": 26,
   "metadata": {},
   "outputs": [
    {
     "data": {
      "application/vnd.vegalite.v4+json": {
       "data": {
        "values": [
         {
          "Year": 1750,
          "value": 0.083719153,
          "variable": "FAIR"
         },
         {
          "Year": 1751,
          "value": 0.085211744,
          "variable": "FAIR"
         },
         {
          "Year": 1752,
          "value": 0.086732801,
          "variable": "FAIR"
         },
         {
          "Year": 1753,
          "value": 0.088280813,
          "variable": "FAIR"
         },
         {
          "Year": 1754,
          "value": 0.08985831000000001,
          "variable": "FAIR"
         },
         {
          "Year": 1755,
          "value": 0.091464809,
          "variable": "FAIR"
         },
         {
          "Year": 1756,
          "value": 0.09327721600000001,
          "variable": "FAIR"
         },
         {
          "Year": 1757,
          "value": 0.094943327,
          "variable": "FAIR"
         },
         {
          "Year": 1758,
          "value": 0.096640069,
          "variable": "FAIR"
         },
         {
          "Year": 1759,
          "value": 0.098368006,
          "variable": "FAIR"
         },
         {
          "Year": 1760,
          "value": 0.10012670400000001,
          "variable": "FAIR"
         },
         {
          "Year": 1761,
          "value": 0.102180812,
          "variable": "FAIR"
         },
         {
          "Year": 1762,
          "value": 0.104005824,
          "variable": "FAIR"
         },
         {
          "Year": 1763,
          "value": 0.105864392,
          "variable": "FAIR"
         },
         {
          "Year": 1764,
          "value": 0.10775713199999999,
          "variable": "FAIR"
         },
         {
          "Year": 1765,
          "value": 0.109684672,
          "variable": "FAIR"
         },
         {
          "Year": 1766,
          "value": 0.111996371,
          "variable": "FAIR"
         },
         {
          "Year": 1767,
          "value": 0.113995445,
          "variable": "FAIR"
         },
         {
          "Year": 1768,
          "value": 0.11603127599999999,
          "variable": "FAIR"
         },
         {
          "Year": 1769,
          "value": 0.118104539,
          "variable": "FAIR"
         },
         {
          "Year": 1770,
          "value": 0.120215924,
          "variable": "FAIR"
         },
         {
          "Year": 1771,
          "value": 0.12273299900000001,
          "variable": "FAIR"
         },
         {
          "Year": 1772,
          "value": 0.12492275,
          "variable": "FAIR"
         },
         {
          "Year": 1773,
          "value": 0.127152765,
          "variable": "FAIR"
         },
         {
          "Year": 1774,
          "value": 0.12942378699999998,
          "variable": "FAIR"
         },
         {
          "Year": 1775,
          "value": 0.131736568,
          "variable": "FAIR"
         },
         {
          "Year": 1776,
          "value": 0.13447889500000001,
          "variable": "FAIR"
         },
         {
          "Year": 1777,
          "value": 0.136877514,
          "variable": "FAIR"
         },
         {
          "Year": 1778,
          "value": 0.139320241,
          "variable": "FAIR"
         },
         {
          "Year": 1779,
          "value": 0.141807887,
          "variable": "FAIR"
         },
         {
          "Year": 1780,
          "value": 0.144342285,
          "variable": "FAIR"
         },
         {
          "Year": 1781,
          "value": 0.147413095,
          "variable": "FAIR"
         },
         {
          "Year": 1782,
          "value": 0.150040522,
          "variable": "FAIR"
         },
         {
          "Year": 1783,
          "value": 0.152717274,
          "variable": "FAIR"
         },
         {
          "Year": 1784,
          "value": 0.155442224,
          "variable": "FAIR"
         },
         {
          "Year": 1785,
          "value": 0.158219376,
          "variable": "FAIR"
         },
         {
          "Year": 1786,
          "value": 0.16167235500000002,
          "variable": "FAIR"
         },
         {
          "Year": 1787,
          "value": 0.164551427,
          "variable": "FAIR"
         },
         {
          "Year": 1788,
          "value": 0.167482419,
          "variable": "FAIR"
         },
         {
          "Year": 1789,
          "value": 0.17046831799999998,
          "variable": "FAIR"
         },
         {
          "Year": 1790,
          "value": 0.173509112,
          "variable": "FAIR"
         },
         {
          "Year": 1791,
          "value": 0.177220607,
          "variable": "FAIR"
         },
         {
          "Year": 1792,
          "value": 0.18055062700000002,
          "variable": "FAIR"
         },
         {
          "Year": 1793,
          "value": 0.18376637299999998,
          "variable": "FAIR"
         },
         {
          "Year": 1794,
          "value": 0.18702224199999998,
          "variable": "FAIR"
         },
         {
          "Year": 1795,
          "value": 0.190354409,
          "variable": "FAIR"
         },
         {
          "Year": 1796,
          "value": 0.194044574,
          "variable": "FAIR"
         },
         {
          "Year": 1797,
          "value": 0.19781288,
          "variable": "FAIR"
         },
         {
          "Year": 1798,
          "value": 0.201606504,
          "variable": "FAIR"
         },
         {
          "Year": 1799,
          "value": 0.20555911200000002,
          "variable": "FAIR"
         },
         {
          "Year": 1800,
          "value": 0.209695348,
          "variable": "FAIR"
         },
         {
          "Year": 1801,
          "value": 0.2133479,
          "variable": "FAIR"
         },
         {
          "Year": 1802,
          "value": 0.21945262299999999,
          "variable": "FAIR"
         },
         {
          "Year": 1803,
          "value": 0.221951913,
          "variable": "FAIR"
         },
         {
          "Year": 1804,
          "value": 0.22667520200000002,
          "variable": "FAIR"
         },
         {
          "Year": 1805,
          "value": 0.23045560399999998,
          "variable": "FAIR"
         },
         {
          "Year": 1806,
          "value": 0.23495804,
          "variable": "FAIR"
         },
         {
          "Year": 1807,
          "value": 0.239783899,
          "variable": "FAIR"
         },
         {
          "Year": 1808,
          "value": 0.243318093,
          "variable": "FAIR"
         },
         {
          "Year": 1809,
          "value": 0.247623148,
          "variable": "FAIR"
         },
         {
          "Year": 1810,
          "value": 0.25261724,
          "variable": "FAIR"
         },
         {
          "Year": 1811,
          "value": 0.257675074,
          "variable": "FAIR"
         },
         {
          "Year": 1812,
          "value": 0.262593813,
          "variable": "FAIR"
         },
         {
          "Year": 1813,
          "value": 0.267268395,
          "variable": "FAIR"
         },
         {
          "Year": 1814,
          "value": 0.272229341,
          "variable": "FAIR"
         },
         {
          "Year": 1815,
          "value": 0.277412558,
          "variable": "FAIR"
         },
         {
          "Year": 1816,
          "value": 0.283581453,
          "variable": "FAIR"
         },
         {
          "Year": 1817,
          "value": 0.289139671,
          "variable": "FAIR"
         },
         {
          "Year": 1818,
          "value": 0.294286844,
          "variable": "FAIR"
         },
         {
          "Year": 1819,
          "value": 0.29950858500000005,
          "variable": "FAIR"
         },
         {
          "Year": 1820,
          "value": 0.304974644,
          "variable": "FAIR"
         },
         {
          "Year": 1821,
          "value": 0.310546904,
          "variable": "FAIR"
         },
         {
          "Year": 1822,
          "value": 0.316563299,
          "variable": "FAIR"
         },
         {
          "Year": 1823,
          "value": 0.323013132,
          "variable": "FAIR"
         },
         {
          "Year": 1824,
          "value": 0.329123346,
          "variable": "FAIR"
         },
         {
          "Year": 1825,
          "value": 0.335596097,
          "variable": "FAIR"
         },
         {
          "Year": 1826,
          "value": 0.341612914,
          "variable": "FAIR"
         },
         {
          "Year": 1827,
          "value": 0.348834904,
          "variable": "FAIR"
         },
         {
          "Year": 1828,
          "value": 0.355094505,
          "variable": "FAIR"
         },
         {
          "Year": 1829,
          "value": 0.361120658,
          "variable": "FAIR"
         },
         {
          "Year": 1830,
          "value": 0.373686819,
          "variable": "FAIR"
         },
         {
          "Year": 1831,
          "value": 0.37883036400000003,
          "variable": "FAIR"
         },
         {
          "Year": 1832,
          "value": 0.38539046800000004,
          "variable": "FAIR"
         },
         {
          "Year": 1833,
          "value": 0.39258549499999995,
          "variable": "FAIR"
         },
         {
          "Year": 1834,
          "value": 0.39983810999999997,
          "variable": "FAIR"
         },
         {
          "Year": 1835,
          "value": 0.407310504,
          "variable": "FAIR"
         },
         {
          "Year": 1836,
          "value": 0.418284206,
          "variable": "FAIR"
         },
         {
          "Year": 1837,
          "value": 0.425481477,
          "variable": "FAIR"
         },
         {
          "Year": 1838,
          "value": 0.433798801,
          "variable": "FAIR"
         },
         {
          "Year": 1839,
          "value": 0.442243807,
          "variable": "FAIR"
         },
         {
          "Year": 1840,
          "value": 0.45203520999999997,
          "variable": "FAIR"
         },
         {
          "Year": 1841,
          "value": 0.46079225,
          "variable": "FAIR"
         },
         {
          "Year": 1842,
          "value": 0.470670839,
          "variable": "FAIR"
         },
         {
          "Year": 1843,
          "value": 0.479466081,
          "variable": "FAIR"
         },
         {
          "Year": 1844,
          "value": 0.489993448,
          "variable": "FAIR"
         },
         {
          "Year": 1845,
          "value": 0.502218058,
          "variable": "FAIR"
         },
         {
          "Year": 1846,
          "value": 0.511057263,
          "variable": "FAIR"
         },
         {
          "Year": 1847,
          "value": 0.522911899,
          "variable": "FAIR"
         },
         {
          "Year": 1848,
          "value": 0.531312687,
          "variable": "FAIR"
         },
         {
          "Year": 1849,
          "value": 0.541953588,
          "variable": "FAIR"
         },
         {
          "Year": 1850,
          "value": 0.5535577100000001,
          "variable": "FAIR"
         },
         {
          "Year": 1851,
          "value": 0.54588791,
          "variable": "FAIR"
         },
         {
          "Year": 1852,
          "value": 0.603962295,
          "variable": "FAIR"
         },
         {
          "Year": 1853,
          "value": 0.604217326,
          "variable": "FAIR"
         },
         {
          "Year": 1854,
          "value": 0.6122644439999999,
          "variable": "FAIR"
         },
         {
          "Year": 1855,
          "value": 0.609949299,
          "variable": "FAIR"
         },
         {
          "Year": 1856,
          "value": 0.62054498,
          "variable": "FAIR"
         },
         {
          "Year": 1857,
          "value": 0.626575204,
          "variable": "FAIR"
         },
         {
          "Year": 1858,
          "value": 0.632381895,
          "variable": "FAIR"
         },
         {
          "Year": 1859,
          "value": 0.644846755,
          "variable": "FAIR"
         },
         {
          "Year": 1860,
          "value": 0.6573132190000001,
          "variable": "FAIR"
         },
         {
          "Year": 1861,
          "value": 0.673125056,
          "variable": "FAIR"
         },
         {
          "Year": 1862,
          "value": 0.614449845,
          "variable": "FAIR"
         },
         {
          "Year": 1863,
          "value": 0.62024703,
          "variable": "FAIR"
         },
         {
          "Year": 1864,
          "value": 0.627826107,
          "variable": "FAIR"
         },
         {
          "Year": 1865,
          "value": 0.634802062,
          "variable": "FAIR"
         },
         {
          "Year": 1866,
          "value": 0.638737846,
          "variable": "FAIR"
         },
         {
          "Year": 1867,
          "value": 0.645067634,
          "variable": "FAIR"
         },
         {
          "Year": 1868,
          "value": 0.6466330299999999,
          "variable": "FAIR"
         },
         {
          "Year": 1869,
          "value": 0.652666954,
          "variable": "FAIR"
         },
         {
          "Year": 1870,
          "value": 0.654949395,
          "variable": "FAIR"
         },
         {
          "Year": 1871,
          "value": 0.683650138,
          "variable": "FAIR"
         },
         {
          "Year": 1872,
          "value": 0.784109205,
          "variable": "FAIR"
         },
         {
          "Year": 1873,
          "value": 0.804805608,
          "variable": "FAIR"
         },
         {
          "Year": 1874,
          "value": 0.8029850169999999,
          "variable": "FAIR"
         },
         {
          "Year": 1875,
          "value": 0.823081853,
          "variable": "FAIR"
         },
         {
          "Year": 1876,
          "value": 0.8334736020000001,
          "variable": "FAIR"
         },
         {
          "Year": 1877,
          "value": 0.844008031,
          "variable": "FAIR"
         },
         {
          "Year": 1878,
          "value": 0.851846592,
          "variable": "FAIR"
         },
         {
          "Year": 1879,
          "value": 0.8712628149999999,
          "variable": "FAIR"
         },
         {
          "Year": 1880,
          "value": 0.903649886,
          "variable": "FAIR"
         },
         {
          "Year": 1881,
          "value": 0.9472754080000001,
          "variable": "FAIR"
         },
         {
          "Year": 1882,
          "value": 0.910775745,
          "variable": "FAIR"
         },
         {
          "Year": 1883,
          "value": 0.931784115,
          "variable": "FAIR"
         },
         {
          "Year": 1884,
          "value": 0.936965715,
          "variable": "FAIR"
         },
         {
          "Year": 1885,
          "value": 0.9447343369999999,
          "variable": "FAIR"
         },
         {
          "Year": 1886,
          "value": 0.949685603,
          "variable": "FAIR"
         },
         {
          "Year": 1887,
          "value": 0.9622757239999999,
          "variable": "FAIR"
         },
         {
          "Year": 1888,
          "value": 0.9899640110000001,
          "variable": "FAIR"
         },
         {
          "Year": 1889,
          "value": 0.989845328,
          "variable": "FAIR"
         },
         {
          "Year": 1890,
          "value": 1.012435452,
          "variable": "FAIR"
         },
         {
          "Year": 1891,
          "value": 1.0242447019999998,
          "variable": "FAIR"
         },
         {
          "Year": 1892,
          "value": 1.041246497,
          "variable": "FAIR"
         },
         {
          "Year": 1893,
          "value": 1.036955199,
          "variable": "FAIR"
         },
         {
          "Year": 1894,
          "value": 1.066059949,
          "variable": "FAIR"
         },
         {
          "Year": 1895,
          "value": 1.091995468,
          "variable": "FAIR"
         },
         {
          "Year": 1896,
          "value": 1.106445186,
          "variable": "FAIR"
         },
         {
          "Year": 1897,
          "value": 1.1271764530000001,
          "variable": "FAIR"
         },
         {
          "Year": 1898,
          "value": 1.150983373,
          "variable": "FAIR"
         },
         {
          "Year": 1899,
          "value": 1.191151603,
          "variable": "FAIR"
         },
         {
          "Year": 1900,
          "value": 1.217990214,
          "variable": "FAIR"
         },
         {
          "Year": 1901,
          "value": 1.3006039660000002,
          "variable": "FAIR"
         },
         {
          "Year": 1902,
          "value": 1.318824648,
          "variable": "FAIR"
         },
         {
          "Year": 1903,
          "value": 1.3951803950000001,
          "variable": "FAIR"
         },
         {
          "Year": 1904,
          "value": 1.430385504,
          "variable": "FAIR"
         },
         {
          "Year": 1905,
          "value": 1.494481124,
          "variable": "FAIR"
         },
         {
          "Year": 1906,
          "value": 1.5572786619999999,
          "variable": "FAIR"
         },
         {
          "Year": 1907,
          "value": 1.64891389,
          "variable": "FAIR"
         },
         {
          "Year": 1908,
          "value": 1.634620602,
          "variable": "FAIR"
         },
         {
          "Year": 1909,
          "value": 1.667806525,
          "variable": "FAIR"
         },
         {
          "Year": 1910,
          "value": 1.710282183,
          "variable": "FAIR"
         },
         {
          "Year": 1911,
          "value": 1.667408008,
          "variable": "FAIR"
         },
         {
          "Year": 1912,
          "value": 1.669794295,
          "variable": "FAIR"
         },
         {
          "Year": 1913,
          "value": 1.7088470199999999,
          "variable": "FAIR"
         },
         {
          "Year": 1914,
          "value": 1.619714452,
          "variable": "FAIR"
         },
         {
          "Year": 1915,
          "value": 1.59942449,
          "variable": "FAIR"
         },
         {
          "Year": 1916,
          "value": 1.6640327400000001,
          "variable": "FAIR"
         },
         {
          "Year": 1917,
          "value": 1.698338097,
          "variable": "FAIR"
         },
         {
          "Year": 1918,
          "value": 1.692405941,
          "variable": "FAIR"
         },
         {
          "Year": 1919,
          "value": 1.5910554929999998,
          "variable": "FAIR"
         },
         {
          "Year": 1920,
          "value": 1.715539071,
          "variable": "FAIR"
         },
         {
          "Year": 1921,
          "value": 1.654132921,
          "variable": "FAIR"
         },
         {
          "Year": 1922,
          "value": 1.696238077,
          "variable": "FAIR"
         },
         {
          "Year": 1923,
          "value": 1.819940667,
          "variable": "FAIR"
         },
         {
          "Year": 1924,
          "value": 1.836909746,
          "variable": "FAIR"
         },
         {
          "Year": 1925,
          "value": 1.853423261,
          "variable": "FAIR"
         },
         {
          "Year": 1926,
          "value": 1.845363677,
          "variable": "FAIR"
         },
         {
          "Year": 1927,
          "value": 1.985594424,
          "variable": "FAIR"
         },
         {
          "Year": 1928,
          "value": 1.993228462,
          "variable": "FAIR"
         },
         {
          "Year": 1929,
          "value": 2.101214691,
          "variable": "FAIR"
         },
         {
          "Year": 1930,
          "value": 2.094418305,
          "variable": "FAIR"
         },
         {
          "Year": 1931,
          "value": 2.000589813,
          "variable": "FAIR"
         },
         {
          "Year": 1932,
          "value": 1.814160213,
          "variable": "FAIR"
         },
         {
          "Year": 1933,
          "value": 1.854130491,
          "variable": "FAIR"
         },
         {
          "Year": 1934,
          "value": 1.9195546270000001,
          "variable": "FAIR"
         },
         {
          "Year": 1935,
          "value": 1.968088673,
          "variable": "FAIR"
         },
         {
          "Year": 1936,
          "value": 2.076178107,
          "variable": "FAIR"
         },
         {
          "Year": 1937,
          "value": 2.134326359,
          "variable": "FAIR"
         },
         {
          "Year": 1938,
          "value": 2.0674907730000003,
          "variable": "FAIR"
         },
         {
          "Year": 1939,
          "value": 2.137198754,
          "variable": "FAIR"
         },
         {
          "Year": 1940,
          "value": 2.224610165,
          "variable": "FAIR"
         },
         {
          "Year": 1941,
          "value": 2.232061336,
          "variable": "FAIR"
         },
         {
          "Year": 1942,
          "value": 2.254997487,
          "variable": "FAIR"
         },
         {
          "Year": 1943,
          "value": 2.293680873,
          "variable": "FAIR"
         },
         {
          "Year": 1944,
          "value": 2.28484763,
          "variable": "FAIR"
         },
         {
          "Year": 1945,
          "value": 2.078479256,
          "variable": "FAIR"
         },
         {
          "Year": 1946,
          "value": 2.2757791259999998,
          "variable": "FAIR"
         },
         {
          "Year": 1947,
          "value": 2.4620383969999997,
          "variable": "FAIR"
         },
         {
          "Year": 1948,
          "value": 2.56198336,
          "variable": "FAIR"
         },
         {
          "Year": 1949,
          "value": 2.5457206780000003,
          "variable": "FAIR"
         },
         {
          "Year": 1950,
          "value": 2.7394552780000003,
          "variable": "FAIR"
         },
         {
          "Year": 1951,
          "value": 3.07927936,
          "variable": "FAIR"
         },
         {
          "Year": 1952,
          "value": 3.1414810930000003,
          "variable": "FAIR"
         },
         {
          "Year": 1953,
          "value": 3.1926152959999996,
          "variable": "FAIR"
         },
         {
          "Year": 1954,
          "value": 3.296011945,
          "variable": "FAIR"
         },
         {
          "Year": 1955,
          "value": 3.524471942,
          "variable": "FAIR"
         },
         {
          "Year": 1956,
          "value": 3.7350599530000004,
          "variable": "FAIR"
         },
         {
          "Year": 1957,
          "value": 3.85992876,
          "variable": "FAIR"
         },
         {
          "Year": 1958,
          "value": 3.9932732,
          "variable": "FAIR"
         },
         {
          "Year": 1959,
          "value": 4.074872144,
          "variable": "FAIR"
         },
         {
          "Year": 1960,
          "value": 4.187429122,
          "variable": "FAIR"
         },
         {
          "Year": 1961,
          "value": 4.280666299,
          "variable": "FAIR"
         },
         {
          "Year": 1962,
          "value": 4.386459406,
          "variable": "FAIR"
         },
         {
          "Year": 1963,
          "value": 4.5606320799999995,
          "variable": "FAIR"
         },
         {
          "Year": 1964,
          "value": 4.708985532,
          "variable": "FAIR"
         },
         {
          "Year": 1965,
          "value": 4.888494918,
          "variable": "FAIR"
         },
         {
          "Year": 1966,
          "value": 5.050425663,
          "variable": "FAIR"
         },
         {
          "Year": 1967,
          "value": 5.218669289,
          "variable": "FAIR"
         },
         {
          "Year": 1968,
          "value": 5.378329504,
          "variable": "FAIR"
         },
         {
          "Year": 1969,
          "value": 5.60188232,
          "variable": "FAIR"
         },
         {
          "Year": 1970,
          "value": 5.851897314,
          "variable": "FAIR"
         },
         {
          "Year": 1971,
          "value": 5.912216764,
          "variable": "FAIR"
         },
         {
          "Year": 1972,
          "value": 6.029777866,
          "variable": "FAIR"
         },
         {
          "Year": 1973,
          "value": 6.290226049999999,
          "variable": "FAIR"
         },
         {
          "Year": 1974,
          "value": 6.234920317,
          "variable": "FAIR"
         },
         {
          "Year": 1975,
          "value": 6.228053642999999,
          "variable": "FAIR"
         },
         {
          "Year": 1976,
          "value": 6.510921264,
          "variable": "FAIR"
         },
         {
          "Year": 1977,
          "value": 6.712459378,
          "variable": "FAIR"
         },
         {
          "Year": 1978,
          "value": 6.876937908,
          "variable": "FAIR"
         },
         {
          "Year": 1979,
          "value": 6.978821161,
          "variable": "FAIR"
         },
         {
          "Year": 1980,
          "value": 6.890908402,
          "variable": "FAIR"
         },
         {
          "Year": 1981,
          "value": 6.788036503,
          "variable": "FAIR"
         },
         {
          "Year": 1982,
          "value": 6.731316327,
          "variable": "FAIR"
         },
         {
          "Year": 1983,
          "value": 6.911898292,
          "variable": "FAIR"
         },
         {
          "Year": 1984,
          "value": 7.075942468999999,
          "variable": "FAIR"
         },
         {
          "Year": 1985,
          "value": 7.174291714000001,
          "variable": "FAIR"
         },
         {
          "Year": 1986,
          "value": 7.310018629,
          "variable": "FAIR"
         },
         {
          "Year": 1987,
          "value": 7.453228126,
          "variable": "FAIR"
         },
         {
          "Year": 1988,
          "value": 7.643826002,
          "variable": "FAIR"
         },
         {
          "Year": 1989,
          "value": 7.738562067999999,
          "variable": "FAIR"
         },
         {
          "Year": 1990,
          "value": 7.6272870390000005,
          "variable": "FAIR"
         },
         {
          "Year": 1991,
          "value": 7.822251581000001,
          "variable": "FAIR"
         },
         {
          "Year": 1992,
          "value": 7.8242291790000005,
          "variable": "FAIR"
         },
         {
          "Year": 1993,
          "value": 7.7354351679999995,
          "variable": "FAIR"
         },
         {
          "Year": 1994,
          "value": 7.739095145,
          "variable": "FAIR"
         },
         {
          "Year": 1995,
          "value": 7.858705189,
          "variable": "FAIR"
         },
         {
          "Year": 1996,
          "value": 7.976739974,
          "variable": "FAIR"
         },
         {
          "Year": 1997,
          "value": 8.752584477,
          "variable": "FAIR"
         },
         {
          "Year": 1998,
          "value": 8.126780949,
          "variable": "FAIR"
         },
         {
          "Year": 1999,
          "value": 7.959936417000001,
          "variable": "FAIR"
         },
         {
          "Year": 2000,
          "value": 8.089603676,
          "variable": "FAIR"
         },
         {
          "Year": 2001,
          "value": 7.914093694,
          "variable": "FAIR"
         },
         {
          "Year": 2002,
          "value": 8.163653262,
          "variable": "FAIR"
         },
         {
          "Year": 2003,
          "value": 8.320688554,
          "variable": "FAIR"
         },
         {
          "Year": 2004,
          "value": 8.845497794,
          "variable": "FAIR"
         },
         {
          "Year": 2005,
          "value": 9.113626325,
          "variable": "FAIR"
         },
         {
          "Year": 2006,
          "value": 9.445054262000001,
          "variable": "FAIR"
         },
         {
          "Year": 2007,
          "value": 9.641518036999999,
          "variable": "FAIR"
         },
         {
          "Year": 2008,
          "value": 9.395784672000001,
          "variable": "FAIR"
         },
         {
          "Year": 2009,
          "value": 9.334197586,
          "variable": "FAIR"
         },
         {
          "Year": 2010,
          "value": 9.854682560999999,
          "variable": "FAIR"
         },
         {
          "Year": 2011,
          "value": 10.163462525,
          "variable": "FAIR"
         },
         {
          "Year": 2012,
          "value": 10.351066874,
          "variable": "FAIR"
         },
         {
          "Year": 2013,
          "value": 10.571648461999999,
          "variable": "FAIR"
         },
         {
          "Year": 2014,
          "value": 10.808440378,
          "variable": "FAIR"
         },
         {
          "Year": 2015,
          "value": 10.678016263,
          "variable": "FAIR"
         },
         {
          "Year": 2016,
          "value": 10.926722931999999,
          "variable": "FAIR"
         },
         {
          "Year": 2017,
          "value": 11.175429600000001,
          "variable": "FAIR"
         },
         {
          "Year": 2018,
          "value": 11.424136271,
          "variable": "FAIR"
         },
         {
          "Year": 2019,
          "value": 11.672842942,
          "variable": "FAIR"
         },
         {
          "Year": 2020,
          "value": 11.921549612,
          "variable": "FAIR"
         },
         {
          "Year": 2021,
          "value": 12.237483279,
          "variable": "FAIR"
         },
         {
          "Year": 2022,
          "value": 12.553416956000001,
          "variable": "FAIR"
         },
         {
          "Year": 2023,
          "value": 12.869350622,
          "variable": "FAIR"
         },
         {
          "Year": 2024,
          "value": 13.185284299,
          "variable": "FAIR"
         },
         {
          "Year": 2025,
          "value": 13.501217975,
          "variable": "FAIR"
         },
         {
          "Year": 2026,
          "value": 13.817151642,
          "variable": "FAIR"
         },
         {
          "Year": 2027,
          "value": 14.133085319000001,
          "variable": "FAIR"
         },
         {
          "Year": 2028,
          "value": 14.449018985,
          "variable": "FAIR"
         },
         {
          "Year": 2029,
          "value": 14.764952661999999,
          "variable": "FAIR"
         },
         {
          "Year": 2030,
          "value": 15.080886338000001,
          "variable": "FAIR"
         },
         {
          "Year": 2031,
          "value": 15.448498559,
          "variable": "FAIR"
         },
         {
          "Year": 2032,
          "value": 15.81611079,
          "variable": "FAIR"
         },
         {
          "Year": 2033,
          "value": 16.18372301,
          "variable": "FAIR"
         },
         {
          "Year": 2034,
          "value": 16.551335241,
          "variable": "FAIR"
         },
         {
          "Year": 2035,
          "value": 16.918947472,
          "variable": "FAIR"
         },
         {
          "Year": 2036,
          "value": 17.286559691999997,
          "variable": "FAIR"
         },
         {
          "Year": 2037,
          "value": 17.654171923,
          "variable": "FAIR"
         },
         {
          "Year": 2038,
          "value": 18.021784143999998,
          "variable": "FAIR"
         },
         {
          "Year": 2039,
          "value": 18.389396374,
          "variable": "FAIR"
         },
         {
          "Year": 2040,
          "value": 18.757008605,
          "variable": "FAIR"
         },
         {
          "Year": 2041,
          "value": 19.153077381000003,
          "variable": "FAIR"
         },
         {
          "Year": 2042,
          "value": 19.549146146000002,
          "variable": "FAIR"
         },
         {
          "Year": 2043,
          "value": 19.945214921999998,
          "variable": "FAIR"
         },
         {
          "Year": 2044,
          "value": 20.341283697,
          "variable": "FAIR"
         },
         {
          "Year": 2045,
          "value": 20.737352473,
          "variable": "FAIR"
         },
         {
          "Year": 2046,
          "value": 21.133421248,
          "variable": "FAIR"
         },
         {
          "Year": 2047,
          "value": 21.529490023999998,
          "variable": "FAIR"
         },
         {
          "Year": 2048,
          "value": 21.925558799,
          "variable": "FAIR"
         },
         {
          "Year": 2049,
          "value": 22.321627575,
          "variable": "FAIR"
         },
         {
          "Year": 2050,
          "value": 22.717696349999997,
          "variable": "FAIR"
         },
         {
          "Year": 2051,
          "value": 23.182434154,
          "variable": "FAIR"
         },
         {
          "Year": 2052,
          "value": 23.647171957999998,
          "variable": "FAIR"
         },
         {
          "Year": 2053,
          "value": 24.111909772,
          "variable": "FAIR"
         },
         {
          "Year": 2054,
          "value": 24.576647575,
          "variable": "FAIR"
         },
         {
          "Year": 2055,
          "value": 25.041385379,
          "variable": "FAIR"
         },
         {
          "Year": 2056,
          "value": 25.506123183,
          "variable": "FAIR"
         },
         {
          "Year": 2057,
          "value": 25.970860997000003,
          "variable": "FAIR"
         },
         {
          "Year": 2058,
          "value": 26.435598801,
          "variable": "FAIR"
         },
         {
          "Year": 2059,
          "value": 26.900336605,
          "variable": "FAIR"
         },
         {
          "Year": 2060,
          "value": 27.365074408,
          "variable": "FAIR"
         },
         {
          "Year": 2061,
          "value": 27.814164681,
          "variable": "FAIR"
         },
         {
          "Year": 2062,
          "value": 28.263254943,
          "variable": "FAIR"
         },
         {
          "Year": 2063,
          "value": 28.712345216,
          "variable": "FAIR"
         },
         {
          "Year": 2064,
          "value": 29.161435478,
          "variable": "FAIR"
         },
         {
          "Year": 2065,
          "value": 29.610525751,
          "variable": "FAIR"
         },
         {
          "Year": 2066,
          "value": 30.059616013,
          "variable": "FAIR"
         },
         {
          "Year": 2067,
          "value": 30.508706286,
          "variable": "FAIR"
         },
         {
          "Year": 2068,
          "value": 30.957796548,
          "variable": "FAIR"
         },
         {
          "Year": 2069,
          "value": 31.406886811,
          "variable": "FAIR"
         },
         {
          "Year": 2070,
          "value": 31.855977083,
          "variable": "FAIR"
         },
         {
          "Year": 2071,
          "value": 32.206207598999995,
          "variable": "FAIR"
         },
         {
          "Year": 2072,
          "value": 32.556438125,
          "variable": "FAIR"
         },
         {
          "Year": 2073,
          "value": 32.906668640999996,
          "variable": "FAIR"
         },
         {
          "Year": 2074,
          "value": 33.256899157,
          "variable": "FAIR"
         },
         {
          "Year": 2075,
          "value": 33.607129683000004,
          "variable": "FAIR"
         },
         {
          "Year": 2076,
          "value": 33.957360199,
          "variable": "FAIR"
         },
         {
          "Year": 2077,
          "value": 34.307590714999996,
          "variable": "FAIR"
         },
         {
          "Year": 2078,
          "value": 34.657821241,
          "variable": "FAIR"
         },
         {
          "Year": 2079,
          "value": 35.008051757,
          "variable": "FAIR"
         },
         {
          "Year": 2080,
          "value": 35.358282282999994,
          "variable": "FAIR"
         },
         {
          "Year": 2081,
          "value": 35.383624204,
          "variable": "FAIR"
         },
         {
          "Year": 2082,
          "value": 35.408966125,
          "variable": "FAIR"
         },
         {
          "Year": 2083,
          "value": 35.434308045,
          "variable": "FAIR"
         },
         {
          "Year": 2084,
          "value": 35.459649966,
          "variable": "FAIR"
         },
         {
          "Year": 2085,
          "value": 35.484991887,
          "variable": "FAIR"
         },
         {
          "Year": 2086,
          "value": 35.510333808,
          "variable": "FAIR"
         },
         {
          "Year": 2087,
          "value": 35.535675729,
          "variable": "FAIR"
         },
         {
          "Year": 2088,
          "value": 35.56101765,
          "variable": "FAIR"
         },
         {
          "Year": 2089,
          "value": 35.586359571,
          "variable": "FAIR"
         },
         {
          "Year": 2090,
          "value": 35.611701492,
          "variable": "FAIR"
         },
         {
          "Year": 2091,
          "value": 35.494730707,
          "variable": "FAIR"
         },
         {
          "Year": 2092,
          "value": 35.377759913,
          "variable": "FAIR"
         },
         {
          "Year": 2093,
          "value": 35.260789118000005,
          "variable": "FAIR"
         },
         {
          "Year": 2094,
          "value": 35.143818324,
          "variable": "FAIR"
         },
         {
          "Year": 2095,
          "value": 35.026847528999994,
          "variable": "FAIR"
         },
         {
          "Year": 2096,
          "value": 34.909876735000005,
          "variable": "FAIR"
         },
         {
          "Year": 2097,
          "value": 34.79290594,
          "variable": "FAIR"
         },
         {
          "Year": 2098,
          "value": 34.675935145000004,
          "variable": "FAIR"
         },
         {
          "Year": 2099,
          "value": 34.558964351,
          "variable": "FAIR"
         },
         {
          "Year": 2100,
          "value": 34.441993556,
          "variable": "FAIR"
         },
         {
          "Year": 2101,
          "value": 34.217945062,
          "variable": "FAIR"
         },
         {
          "Year": 2102,
          "value": 33.993896557,
          "variable": "FAIR"
         },
         {
          "Year": 2103,
          "value": 33.769848062,
          "variable": "FAIR"
         },
         {
          "Year": 2104,
          "value": 33.545799556999995,
          "variable": "FAIR"
         },
         {
          "Year": 2105,
          "value": 33.321751063,
          "variable": "FAIR"
         },
         {
          "Year": 2106,
          "value": 33.097702557999995,
          "variable": "FAIR"
         },
         {
          "Year": 2107,
          "value": 32.873654063000004,
          "variable": "FAIR"
         },
         {
          "Year": 2108,
          "value": 32.649605558999994,
          "variable": "FAIR"
         },
         {
          "Year": 2109,
          "value": 32.425557054,
          "variable": "FAIR"
         },
         {
          "Year": 2110,
          "value": 32.201508559000004,
          "variable": "FAIR"
         },
         {
          "Year": 2111,
          "value": 31.977460053999998,
          "variable": "FAIR"
         },
         {
          "Year": 2112,
          "value": 31.753411560000004,
          "variable": "FAIR"
         },
         {
          "Year": 2113,
          "value": 31.529363054999997,
          "variable": "FAIR"
         },
         {
          "Year": 2114,
          "value": 31.30531456,
          "variable": "FAIR"
         },
         {
          "Year": 2115,
          "value": 31.081266054999997,
          "variable": "FAIR"
         },
         {
          "Year": 2116,
          "value": 30.857217561,
          "variable": "FAIR"
         },
         {
          "Year": 2117,
          "value": 30.633169056,
          "variable": "FAIR"
         },
         {
          "Year": 2118,
          "value": 30.409120551,
          "variable": "FAIR"
         },
         {
          "Year": 2119,
          "value": 30.185072057000003,
          "variable": "FAIR"
         },
         {
          "Year": 2120,
          "value": 29.961023552,
          "variable": "FAIR"
         },
         {
          "Year": 2121,
          "value": 29.736975057000002,
          "variable": "FAIR"
         },
         {
          "Year": 2122,
          "value": 29.512926552,
          "variable": "FAIR"
         },
         {
          "Year": 2123,
          "value": 29.288878058,
          "variable": "FAIR"
         },
         {
          "Year": 2124,
          "value": 29.064829553,
          "variable": "FAIR"
         },
         {
          "Year": 2125,
          "value": 28.840781058,
          "variable": "FAIR"
         },
         {
          "Year": 2126,
          "value": 28.616732553,
          "variable": "FAIR"
         },
         {
          "Year": 2127,
          "value": 28.392684059,
          "variable": "FAIR"
         },
         {
          "Year": 2128,
          "value": 28.168635553999998,
          "variable": "FAIR"
         },
         {
          "Year": 2129,
          "value": 27.944587049,
          "variable": "FAIR"
         },
         {
          "Year": 2130,
          "value": 27.720538554999997,
          "variable": "FAIR"
         },
         {
          "Year": 2131,
          "value": 27.496490050000002,
          "variable": "FAIR"
         },
         {
          "Year": 2132,
          "value": 27.272441554999997,
          "variable": "FAIR"
         },
         {
          "Year": 2133,
          "value": 27.04839305,
          "variable": "FAIR"
         },
         {
          "Year": 2134,
          "value": 26.824344556,
          "variable": "FAIR"
         },
         {
          "Year": 2135,
          "value": 26.600296051,
          "variable": "FAIR"
         },
         {
          "Year": 2136,
          "value": 26.376247556000003,
          "variable": "FAIR"
         },
         {
          "Year": 2137,
          "value": 26.152199051,
          "variable": "FAIR"
         },
         {
          "Year": 2138,
          "value": 25.928150547,
          "variable": "FAIR"
         },
         {
          "Year": 2139,
          "value": 25.704102052,
          "variable": "FAIR"
         },
         {
          "Year": 2140,
          "value": 25.480053547,
          "variable": "FAIR"
         },
         {
          "Year": 2141,
          "value": 25.256005053,
          "variable": "FAIR"
         },
         {
          "Year": 2142,
          "value": 25.031956548,
          "variable": "FAIR"
         },
         {
          "Year": 2143,
          "value": 24.807908053,
          "variable": "FAIR"
         },
         {
          "Year": 2144,
          "value": 24.583859548,
          "variable": "FAIR"
         },
         {
          "Year": 2145,
          "value": 24.359811053999998,
          "variable": "FAIR"
         },
         {
          "Year": 2146,
          "value": 24.135762549,
          "variable": "FAIR"
         },
         {
          "Year": 2147,
          "value": 23.911714053999997,
          "variable": "FAIR"
         },
         {
          "Year": 2148,
          "value": 23.687665549000002,
          "variable": "FAIR"
         },
         {
          "Year": 2149,
          "value": 23.463617045,
          "variable": "FAIR"
         },
         {
          "Year": 2150,
          "value": 23.23956855,
          "variable": "FAIR"
         },
         {
          "Year": 2151,
          "value": 23.00717286,
          "variable": "FAIR"
         },
         {
          "Year": 2152,
          "value": 22.77477718,
          "variable": "FAIR"
         },
         {
          "Year": 2153,
          "value": 22.54238149,
          "variable": "FAIR"
         },
         {
          "Year": 2154,
          "value": 22.30998581,
          "variable": "FAIR"
         },
         {
          "Year": 2155,
          "value": 22.07759012,
          "variable": "FAIR"
         },
         {
          "Year": 2156,
          "value": 21.84519444,
          "variable": "FAIR"
         },
         {
          "Year": 2157,
          "value": 21.61279875,
          "variable": "FAIR"
         },
         {
          "Year": 2158,
          "value": 21.38040307,
          "variable": "FAIR"
         },
         {
          "Year": 2159,
          "value": 21.14800738,
          "variable": "FAIR"
         },
         {
          "Year": 2160,
          "value": 20.91561169,
          "variable": "FAIR"
         },
         {
          "Year": 2161,
          "value": 20.68321601,
          "variable": "FAIR"
         },
         {
          "Year": 2162,
          "value": 20.45082032,
          "variable": "FAIR"
         },
         {
          "Year": 2163,
          "value": 20.21842464,
          "variable": "FAIR"
         },
         {
          "Year": 2164,
          "value": 19.98602895,
          "variable": "FAIR"
         },
         {
          "Year": 2165,
          "value": 19.75363327,
          "variable": "FAIR"
         },
         {
          "Year": 2166,
          "value": 19.52123758,
          "variable": "FAIR"
         },
         {
          "Year": 2167,
          "value": 19.2888419,
          "variable": "FAIR"
         },
         {
          "Year": 2168,
          "value": 19.05644621,
          "variable": "FAIR"
         },
         {
          "Year": 2169,
          "value": 18.82405052,
          "variable": "FAIR"
         },
         {
          "Year": 2170,
          "value": 18.59165484,
          "variable": "FAIR"
         },
         {
          "Year": 2171,
          "value": 18.35925915,
          "variable": "FAIR"
         },
         {
          "Year": 2172,
          "value": 18.12686347,
          "variable": "FAIR"
         },
         {
          "Year": 2173,
          "value": 17.89446778,
          "variable": "FAIR"
         },
         {
          "Year": 2174,
          "value": 17.6620721,
          "variable": "FAIR"
         },
         {
          "Year": 2175,
          "value": 17.42967641,
          "variable": "FAIR"
         },
         {
          "Year": 2176,
          "value": 17.19728073,
          "variable": "FAIR"
         },
         {
          "Year": 2177,
          "value": 16.96488504,
          "variable": "FAIR"
         },
         {
          "Year": 2178,
          "value": 16.73248936,
          "variable": "FAIR"
         },
         {
          "Year": 2179,
          "value": 16.50009367,
          "variable": "FAIR"
         },
         {
          "Year": 2180,
          "value": 16.26769798,
          "variable": "FAIR"
         },
         {
          "Year": 2181,
          "value": 16.0353023,
          "variable": "FAIR"
         },
         {
          "Year": 2182,
          "value": 15.80290661,
          "variable": "FAIR"
         },
         {
          "Year": 2183,
          "value": 15.57051093,
          "variable": "FAIR"
         },
         {
          "Year": 2184,
          "value": 15.33811524,
          "variable": "FAIR"
         },
         {
          "Year": 2185,
          "value": 15.10571956,
          "variable": "FAIR"
         },
         {
          "Year": 2186,
          "value": 14.87332387,
          "variable": "FAIR"
         },
         {
          "Year": 2187,
          "value": 14.64092819,
          "variable": "FAIR"
         },
         {
          "Year": 2188,
          "value": 14.4085325,
          "variable": "FAIR"
         },
         {
          "Year": 2189,
          "value": 14.17613681,
          "variable": "FAIR"
         },
         {
          "Year": 2190,
          "value": 13.94374113,
          "variable": "FAIR"
         },
         {
          "Year": 2191,
          "value": 13.71134544,
          "variable": "FAIR"
         },
         {
          "Year": 2192,
          "value": 13.47894976,
          "variable": "FAIR"
         },
         {
          "Year": 2193,
          "value": 13.24655407,
          "variable": "FAIR"
         },
         {
          "Year": 2194,
          "value": 13.01415839,
          "variable": "FAIR"
         },
         {
          "Year": 2195,
          "value": 12.7817627,
          "variable": "FAIR"
         },
         {
          "Year": 2196,
          "value": 12.54936702,
          "variable": "FAIR"
         },
         {
          "Year": 2197,
          "value": 12.31697133,
          "variable": "FAIR"
         },
         {
          "Year": 2198,
          "value": 12.08457565,
          "variable": "FAIR"
         },
         {
          "Year": 2199,
          "value": 11.85217996,
          "variable": "FAIR"
         },
         {
          "Year": 2200,
          "value": 11.61978427,
          "variable": "FAIR"
         },
         {
          "Year": 2201,
          "value": 11.38738859,
          "variable": "FAIR"
         },
         {
          "Year": 2202,
          "value": 11.1549929,
          "variable": "FAIR"
         },
         {
          "Year": 2203,
          "value": 10.92259722,
          "variable": "FAIR"
         },
         {
          "Year": 2204,
          "value": 10.69020153,
          "variable": "FAIR"
         },
         {
          "Year": 2205,
          "value": 10.45780585,
          "variable": "FAIR"
         },
         {
          "Year": 2206,
          "value": 10.22541016,
          "variable": "FAIR"
         },
         {
          "Year": 2207,
          "value": 9.993014476,
          "variable": "FAIR"
         },
         {
          "Year": 2208,
          "value": 9.760618791,
          "variable": "FAIR"
         },
         {
          "Year": 2209,
          "value": 9.528223105,
          "variable": "FAIR"
         },
         {
          "Year": 2210,
          "value": 9.29582742,
          "variable": "FAIR"
         },
         {
          "Year": 2211,
          "value": 9.063431734,
          "variable": "FAIR"
         },
         {
          "Year": 2212,
          "value": 8.831036049,
          "variable": "FAIR"
         },
         {
          "Year": 2213,
          "value": 8.598640363,
          "variable": "FAIR"
         },
         {
          "Year": 2214,
          "value": 8.366244678,
          "variable": "FAIR"
         },
         {
          "Year": 2215,
          "value": 8.133848992,
          "variable": "FAIR"
         },
         {
          "Year": 2216,
          "value": 7.901453307,
          "variable": "FAIR"
         },
         {
          "Year": 2217,
          "value": 7.669057621,
          "variable": "FAIR"
         },
         {
          "Year": 2218,
          "value": 7.436661936,
          "variable": "FAIR"
         },
         {
          "Year": 2219,
          "value": 7.20426625,
          "variable": "FAIR"
         },
         {
          "Year": 2220,
          "value": 6.971870565,
          "variable": "FAIR"
         },
         {
          "Year": 2221,
          "value": 6.739474879,
          "variable": "FAIR"
         },
         {
          "Year": 2222,
          "value": 6.507079194,
          "variable": "FAIR"
         },
         {
          "Year": 2223,
          "value": 6.274683508,
          "variable": "FAIR"
         },
         {
          "Year": 2224,
          "value": 6.042287823,
          "variable": "FAIR"
         },
         {
          "Year": 2225,
          "value": 5.809892137,
          "variable": "FAIR"
         },
         {
          "Year": 2226,
          "value": 5.577496452,
          "variable": "FAIR"
         },
         {
          "Year": 2227,
          "value": 5.345100766,
          "variable": "FAIR"
         },
         {
          "Year": 2228,
          "value": 5.112705081,
          "variable": "FAIR"
         },
         {
          "Year": 2229,
          "value": 4.880309395,
          "variable": "FAIR"
         },
         {
          "Year": 2230,
          "value": 4.64791371,
          "variable": "FAIR"
         },
         {
          "Year": 2231,
          "value": 4.415518024,
          "variable": "FAIR"
         },
         {
          "Year": 2232,
          "value": 4.183122339,
          "variable": "FAIR"
         },
         {
          "Year": 2233,
          "value": 3.950726653,
          "variable": "FAIR"
         },
         {
          "Year": 2234,
          "value": 3.718330968,
          "variable": "FAIR"
         },
         {
          "Year": 2235,
          "value": 3.485935282,
          "variable": "FAIR"
         },
         {
          "Year": 2236,
          "value": 3.253539597,
          "variable": "FAIR"
         },
         {
          "Year": 2237,
          "value": 3.021143911,
          "variable": "FAIR"
         },
         {
          "Year": 2238,
          "value": 2.788748226,
          "variable": "FAIR"
         },
         {
          "Year": 2239,
          "value": 2.55635254,
          "variable": "FAIR"
         },
         {
          "Year": 2240,
          "value": 2.323956855,
          "variable": "FAIR"
         },
         {
          "Year": 2241,
          "value": 2.091561169,
          "variable": "FAIR"
         },
         {
          "Year": 2242,
          "value": 1.859165484,
          "variable": "FAIR"
         },
         {
          "Year": 2243,
          "value": 1.626769798,
          "variable": "FAIR"
         },
         {
          "Year": 2244,
          "value": 1.394374113,
          "variable": "FAIR"
         },
         {
          "Year": 2245,
          "value": 1.161978427,
          "variable": "FAIR"
         },
         {
          "Year": 2246,
          "value": 0.929582742,
          "variable": "FAIR"
         },
         {
          "Year": 2247,
          "value": 0.697187056,
          "variable": "FAIR"
         },
         {
          "Year": 2248,
          "value": 0.464791371,
          "variable": "FAIR"
         },
         {
          "Year": 2249,
          "value": 0.232395685,
          "variable": "FAIR"
         },
         {
          "Year": 2250,
          "value": 0,
          "variable": "FAIR"
         },
         {
          "Year": 2251,
          "value": 0,
          "variable": "FAIR"
         },
         {
          "Year": 2252,
          "value": 0,
          "variable": "FAIR"
         },
         {
          "Year": 2253,
          "value": 0,
          "variable": "FAIR"
         },
         {
          "Year": 2254,
          "value": 0,
          "variable": "FAIR"
         },
         {
          "Year": 2255,
          "value": 0,
          "variable": "FAIR"
         },
         {
          "Year": 2256,
          "value": 0,
          "variable": "FAIR"
         },
         {
          "Year": 2257,
          "value": 0,
          "variable": "FAIR"
         },
         {
          "Year": 2258,
          "value": 0,
          "variable": "FAIR"
         },
         {
          "Year": 2259,
          "value": 0,
          "variable": "FAIR"
         },
         {
          "Year": 2260,
          "value": 0,
          "variable": "FAIR"
         },
         {
          "Year": 2261,
          "value": 0,
          "variable": "FAIR"
         },
         {
          "Year": 2262,
          "value": 0,
          "variable": "FAIR"
         },
         {
          "Year": 2263,
          "value": 0,
          "variable": "FAIR"
         },
         {
          "Year": 2264,
          "value": 0,
          "variable": "FAIR"
         },
         {
          "Year": 2265,
          "value": 0,
          "variable": "FAIR"
         },
         {
          "Year": 2266,
          "value": 0,
          "variable": "FAIR"
         },
         {
          "Year": 2267,
          "value": 0,
          "variable": "FAIR"
         },
         {
          "Year": 2268,
          "value": 0,
          "variable": "FAIR"
         },
         {
          "Year": 2269,
          "value": 0,
          "variable": "FAIR"
         },
         {
          "Year": 2270,
          "value": 0,
          "variable": "FAIR"
         },
         {
          "Year": 2271,
          "value": 0,
          "variable": "FAIR"
         },
         {
          "Year": 2272,
          "value": 0,
          "variable": "FAIR"
         },
         {
          "Year": 2273,
          "value": 0,
          "variable": "FAIR"
         },
         {
          "Year": 2274,
          "value": 0,
          "variable": "FAIR"
         },
         {
          "Year": 2275,
          "value": 0,
          "variable": "FAIR"
         },
         {
          "Year": 2276,
          "value": 0,
          "variable": "FAIR"
         },
         {
          "Year": 2277,
          "value": 0,
          "variable": "FAIR"
         },
         {
          "Year": 2278,
          "value": 0,
          "variable": "FAIR"
         },
         {
          "Year": 2279,
          "value": 0,
          "variable": "FAIR"
         },
         {
          "Year": 2280,
          "value": 0,
          "variable": "FAIR"
         },
         {
          "Year": 2281,
          "value": 0,
          "variable": "FAIR"
         },
         {
          "Year": 2282,
          "value": 0,
          "variable": "FAIR"
         },
         {
          "Year": 2283,
          "value": 0,
          "variable": "FAIR"
         },
         {
          "Year": 2284,
          "value": 0,
          "variable": "FAIR"
         },
         {
          "Year": 2285,
          "value": 0,
          "variable": "FAIR"
         },
         {
          "Year": 2286,
          "value": 0,
          "variable": "FAIR"
         },
         {
          "Year": 2287,
          "value": 0,
          "variable": "FAIR"
         },
         {
          "Year": 2288,
          "value": 0,
          "variable": "FAIR"
         },
         {
          "Year": 2289,
          "value": 0,
          "variable": "FAIR"
         },
         {
          "Year": 2290,
          "value": 0,
          "variable": "FAIR"
         },
         {
          "Year": 2291,
          "value": 0,
          "variable": "FAIR"
         },
         {
          "Year": 2292,
          "value": 0,
          "variable": "FAIR"
         },
         {
          "Year": 2293,
          "value": 0,
          "variable": "FAIR"
         },
         {
          "Year": 2294,
          "value": 0,
          "variable": "FAIR"
         },
         {
          "Year": 2295,
          "value": 0,
          "variable": "FAIR"
         },
         {
          "Year": 2296,
          "value": 0,
          "variable": "FAIR"
         },
         {
          "Year": 2297,
          "value": 0,
          "variable": "FAIR"
         },
         {
          "Year": 2298,
          "value": 0,
          "variable": "FAIR"
         },
         {
          "Year": 2299,
          "value": 0,
          "variable": "FAIR"
         },
         {
          "Year": 2300,
          "value": 0,
          "variable": "FAIR"
         },
         {
          "Year": 1750,
          "value": 0.083719153,
          "variable": "FUNDFAIR"
         },
         {
          "Year": 1751,
          "value": 0.085211744,
          "variable": "FUNDFAIR"
         },
         {
          "Year": 1752,
          "value": 0.086732801,
          "variable": "FUNDFAIR"
         },
         {
          "Year": 1753,
          "value": 0.088280813,
          "variable": "FUNDFAIR"
         },
         {
          "Year": 1754,
          "value": 0.08985831000000001,
          "variable": "FUNDFAIR"
         },
         {
          "Year": 1755,
          "value": 0.091464809,
          "variable": "FUNDFAIR"
         },
         {
          "Year": 1756,
          "value": 0.09327721600000001,
          "variable": "FUNDFAIR"
         },
         {
          "Year": 1757,
          "value": 0.094943327,
          "variable": "FUNDFAIR"
         },
         {
          "Year": 1758,
          "value": 0.096640069,
          "variable": "FUNDFAIR"
         },
         {
          "Year": 1759,
          "value": 0.098368006,
          "variable": "FUNDFAIR"
         },
         {
          "Year": 1760,
          "value": 0.10012670400000001,
          "variable": "FUNDFAIR"
         },
         {
          "Year": 1761,
          "value": 0.102180812,
          "variable": "FUNDFAIR"
         },
         {
          "Year": 1762,
          "value": 0.104005824,
          "variable": "FUNDFAIR"
         },
         {
          "Year": 1763,
          "value": 0.105864392,
          "variable": "FUNDFAIR"
         },
         {
          "Year": 1764,
          "value": 0.10775713199999999,
          "variable": "FUNDFAIR"
         },
         {
          "Year": 1765,
          "value": 0.109684672,
          "variable": "FUNDFAIR"
         },
         {
          "Year": 1766,
          "value": 0.111996371,
          "variable": "FUNDFAIR"
         },
         {
          "Year": 1767,
          "value": 0.113995445,
          "variable": "FUNDFAIR"
         },
         {
          "Year": 1768,
          "value": 0.11603127599999999,
          "variable": "FUNDFAIR"
         },
         {
          "Year": 1769,
          "value": 0.118104539,
          "variable": "FUNDFAIR"
         },
         {
          "Year": 1770,
          "value": 0.120215924,
          "variable": "FUNDFAIR"
         },
         {
          "Year": 1771,
          "value": 0.12273299900000001,
          "variable": "FUNDFAIR"
         },
         {
          "Year": 1772,
          "value": 0.12492275,
          "variable": "FUNDFAIR"
         },
         {
          "Year": 1773,
          "value": 0.127152765,
          "variable": "FUNDFAIR"
         },
         {
          "Year": 1774,
          "value": 0.12942378699999998,
          "variable": "FUNDFAIR"
         },
         {
          "Year": 1775,
          "value": 0.131736568,
          "variable": "FUNDFAIR"
         },
         {
          "Year": 1776,
          "value": 0.13447889500000001,
          "variable": "FUNDFAIR"
         },
         {
          "Year": 1777,
          "value": 0.136877514,
          "variable": "FUNDFAIR"
         },
         {
          "Year": 1778,
          "value": 0.139320241,
          "variable": "FUNDFAIR"
         },
         {
          "Year": 1779,
          "value": 0.141807887,
          "variable": "FUNDFAIR"
         },
         {
          "Year": 1780,
          "value": 0.144342285,
          "variable": "FUNDFAIR"
         },
         {
          "Year": 1781,
          "value": 0.147413095,
          "variable": "FUNDFAIR"
         },
         {
          "Year": 1782,
          "value": 0.150040522,
          "variable": "FUNDFAIR"
         },
         {
          "Year": 1783,
          "value": 0.152717274,
          "variable": "FUNDFAIR"
         },
         {
          "Year": 1784,
          "value": 0.155442224,
          "variable": "FUNDFAIR"
         },
         {
          "Year": 1785,
          "value": 0.158219376,
          "variable": "FUNDFAIR"
         },
         {
          "Year": 1786,
          "value": 0.16167235500000002,
          "variable": "FUNDFAIR"
         },
         {
          "Year": 1787,
          "value": 0.164551427,
          "variable": "FUNDFAIR"
         },
         {
          "Year": 1788,
          "value": 0.167482419,
          "variable": "FUNDFAIR"
         },
         {
          "Year": 1789,
          "value": 0.17046831799999998,
          "variable": "FUNDFAIR"
         },
         {
          "Year": 1790,
          "value": 0.173509112,
          "variable": "FUNDFAIR"
         },
         {
          "Year": 1791,
          "value": 0.177220607,
          "variable": "FUNDFAIR"
         },
         {
          "Year": 1792,
          "value": 0.18055062700000002,
          "variable": "FUNDFAIR"
         },
         {
          "Year": 1793,
          "value": 0.18376637299999998,
          "variable": "FUNDFAIR"
         },
         {
          "Year": 1794,
          "value": 0.18702224199999998,
          "variable": "FUNDFAIR"
         },
         {
          "Year": 1795,
          "value": 0.190354409,
          "variable": "FUNDFAIR"
         },
         {
          "Year": 1796,
          "value": 0.194044574,
          "variable": "FUNDFAIR"
         },
         {
          "Year": 1797,
          "value": 0.19781288,
          "variable": "FUNDFAIR"
         },
         {
          "Year": 1798,
          "value": 0.201606504,
          "variable": "FUNDFAIR"
         },
         {
          "Year": 1799,
          "value": 0.20555911200000002,
          "variable": "FUNDFAIR"
         },
         {
          "Year": 1800,
          "value": 0.209695348,
          "variable": "FUNDFAIR"
         },
         {
          "Year": 1801,
          "value": 0.2133479,
          "variable": "FUNDFAIR"
         },
         {
          "Year": 1802,
          "value": 0.21945262299999999,
          "variable": "FUNDFAIR"
         },
         {
          "Year": 1803,
          "value": 0.221951913,
          "variable": "FUNDFAIR"
         },
         {
          "Year": 1804,
          "value": 0.22667520200000002,
          "variable": "FUNDFAIR"
         },
         {
          "Year": 1805,
          "value": 0.23045560399999998,
          "variable": "FUNDFAIR"
         },
         {
          "Year": 1806,
          "value": 0.23495804,
          "variable": "FUNDFAIR"
         },
         {
          "Year": 1807,
          "value": 0.239783899,
          "variable": "FUNDFAIR"
         },
         {
          "Year": 1808,
          "value": 0.243318093,
          "variable": "FUNDFAIR"
         },
         {
          "Year": 1809,
          "value": 0.247623148,
          "variable": "FUNDFAIR"
         },
         {
          "Year": 1810,
          "value": 0.25261724,
          "variable": "FUNDFAIR"
         },
         {
          "Year": 1811,
          "value": 0.257675074,
          "variable": "FUNDFAIR"
         },
         {
          "Year": 1812,
          "value": 0.262593813,
          "variable": "FUNDFAIR"
         },
         {
          "Year": 1813,
          "value": 0.267268395,
          "variable": "FUNDFAIR"
         },
         {
          "Year": 1814,
          "value": 0.272229341,
          "variable": "FUNDFAIR"
         },
         {
          "Year": 1815,
          "value": 0.277412558,
          "variable": "FUNDFAIR"
         },
         {
          "Year": 1816,
          "value": 0.283581453,
          "variable": "FUNDFAIR"
         },
         {
          "Year": 1817,
          "value": 0.289139671,
          "variable": "FUNDFAIR"
         },
         {
          "Year": 1818,
          "value": 0.294286844,
          "variable": "FUNDFAIR"
         },
         {
          "Year": 1819,
          "value": 0.29950858500000005,
          "variable": "FUNDFAIR"
         },
         {
          "Year": 1820,
          "value": 0.304974644,
          "variable": "FUNDFAIR"
         },
         {
          "Year": 1821,
          "value": 0.310546904,
          "variable": "FUNDFAIR"
         },
         {
          "Year": 1822,
          "value": 0.316563299,
          "variable": "FUNDFAIR"
         },
         {
          "Year": 1823,
          "value": 0.323013132,
          "variable": "FUNDFAIR"
         },
         {
          "Year": 1824,
          "value": 0.329123346,
          "variable": "FUNDFAIR"
         },
         {
          "Year": 1825,
          "value": 0.335596097,
          "variable": "FUNDFAIR"
         },
         {
          "Year": 1826,
          "value": 0.341612914,
          "variable": "FUNDFAIR"
         },
         {
          "Year": 1827,
          "value": 0.348834904,
          "variable": "FUNDFAIR"
         },
         {
          "Year": 1828,
          "value": 0.355094505,
          "variable": "FUNDFAIR"
         },
         {
          "Year": 1829,
          "value": 0.361120658,
          "variable": "FUNDFAIR"
         },
         {
          "Year": 1830,
          "value": 0.373686819,
          "variable": "FUNDFAIR"
         },
         {
          "Year": 1831,
          "value": 0.37883036400000003,
          "variable": "FUNDFAIR"
         },
         {
          "Year": 1832,
          "value": 0.38539046800000004,
          "variable": "FUNDFAIR"
         },
         {
          "Year": 1833,
          "value": 0.39258549499999995,
          "variable": "FUNDFAIR"
         },
         {
          "Year": 1834,
          "value": 0.39983810999999997,
          "variable": "FUNDFAIR"
         },
         {
          "Year": 1835,
          "value": 0.407310504,
          "variable": "FUNDFAIR"
         },
         {
          "Year": 1836,
          "value": 0.418284206,
          "variable": "FUNDFAIR"
         },
         {
          "Year": 1837,
          "value": 0.425481477,
          "variable": "FUNDFAIR"
         },
         {
          "Year": 1838,
          "value": 0.433798801,
          "variable": "FUNDFAIR"
         },
         {
          "Year": 1839,
          "value": 0.442243807,
          "variable": "FUNDFAIR"
         },
         {
          "Year": 1840,
          "value": 0.45203520999999997,
          "variable": "FUNDFAIR"
         },
         {
          "Year": 1841,
          "value": 0.46079225,
          "variable": "FUNDFAIR"
         },
         {
          "Year": 1842,
          "value": 0.470670839,
          "variable": "FUNDFAIR"
         },
         {
          "Year": 1843,
          "value": 0.479466081,
          "variable": "FUNDFAIR"
         },
         {
          "Year": 1844,
          "value": 0.489993448,
          "variable": "FUNDFAIR"
         },
         {
          "Year": 1845,
          "value": 0.502218058,
          "variable": "FUNDFAIR"
         },
         {
          "Year": 1846,
          "value": 0.511057263,
          "variable": "FUNDFAIR"
         },
         {
          "Year": 1847,
          "value": 0.522911899,
          "variable": "FUNDFAIR"
         },
         {
          "Year": 1848,
          "value": 0.531312687,
          "variable": "FUNDFAIR"
         },
         {
          "Year": 1849,
          "value": 0.541953588,
          "variable": "FUNDFAIR"
         },
         {
          "Year": 1850,
          "value": 0.5535577100000001,
          "variable": "FUNDFAIR"
         },
         {
          "Year": 1851,
          "value": 0.54588791,
          "variable": "FUNDFAIR"
         },
         {
          "Year": 1852,
          "value": 0.603962295,
          "variable": "FUNDFAIR"
         },
         {
          "Year": 1853,
          "value": 0.604217326,
          "variable": "FUNDFAIR"
         },
         {
          "Year": 1854,
          "value": 0.6122644439999999,
          "variable": "FUNDFAIR"
         },
         {
          "Year": 1855,
          "value": 0.609949299,
          "variable": "FUNDFAIR"
         },
         {
          "Year": 1856,
          "value": 0.62054498,
          "variable": "FUNDFAIR"
         },
         {
          "Year": 1857,
          "value": 0.626575204,
          "variable": "FUNDFAIR"
         },
         {
          "Year": 1858,
          "value": 0.632381895,
          "variable": "FUNDFAIR"
         },
         {
          "Year": 1859,
          "value": 0.644846755,
          "variable": "FUNDFAIR"
         },
         {
          "Year": 1860,
          "value": 0.6573132190000001,
          "variable": "FUNDFAIR"
         },
         {
          "Year": 1861,
          "value": 0.673125056,
          "variable": "FUNDFAIR"
         },
         {
          "Year": 1862,
          "value": 0.614449845,
          "variable": "FUNDFAIR"
         },
         {
          "Year": 1863,
          "value": 0.62024703,
          "variable": "FUNDFAIR"
         },
         {
          "Year": 1864,
          "value": 0.627826107,
          "variable": "FUNDFAIR"
         },
         {
          "Year": 1865,
          "value": 0.634802062,
          "variable": "FUNDFAIR"
         },
         {
          "Year": 1866,
          "value": 0.638737846,
          "variable": "FUNDFAIR"
         },
         {
          "Year": 1867,
          "value": 0.645067634,
          "variable": "FUNDFAIR"
         },
         {
          "Year": 1868,
          "value": 0.6466330299999999,
          "variable": "FUNDFAIR"
         },
         {
          "Year": 1869,
          "value": 0.652666954,
          "variable": "FUNDFAIR"
         },
         {
          "Year": 1870,
          "value": 0.654949395,
          "variable": "FUNDFAIR"
         },
         {
          "Year": 1871,
          "value": 0.683650138,
          "variable": "FUNDFAIR"
         },
         {
          "Year": 1872,
          "value": 0.784109205,
          "variable": "FUNDFAIR"
         },
         {
          "Year": 1873,
          "value": 0.804805608,
          "variable": "FUNDFAIR"
         },
         {
          "Year": 1874,
          "value": 0.8029850169999999,
          "variable": "FUNDFAIR"
         },
         {
          "Year": 1875,
          "value": 0.823081853,
          "variable": "FUNDFAIR"
         },
         {
          "Year": 1876,
          "value": 0.8334736020000001,
          "variable": "FUNDFAIR"
         },
         {
          "Year": 1877,
          "value": 0.844008031,
          "variable": "FUNDFAIR"
         },
         {
          "Year": 1878,
          "value": 0.851846592,
          "variable": "FUNDFAIR"
         },
         {
          "Year": 1879,
          "value": 0.8712628149999999,
          "variable": "FUNDFAIR"
         },
         {
          "Year": 1880,
          "value": 0.903649886,
          "variable": "FUNDFAIR"
         },
         {
          "Year": 1881,
          "value": 0.9472754080000001,
          "variable": "FUNDFAIR"
         },
         {
          "Year": 1882,
          "value": 0.910775745,
          "variable": "FUNDFAIR"
         },
         {
          "Year": 1883,
          "value": 0.931784115,
          "variable": "FUNDFAIR"
         },
         {
          "Year": 1884,
          "value": 0.936965715,
          "variable": "FUNDFAIR"
         },
         {
          "Year": 1885,
          "value": 0.9447343369999999,
          "variable": "FUNDFAIR"
         },
         {
          "Year": 1886,
          "value": 0.949685603,
          "variable": "FUNDFAIR"
         },
         {
          "Year": 1887,
          "value": 0.9622757239999999,
          "variable": "FUNDFAIR"
         },
         {
          "Year": 1888,
          "value": 0.9899640110000001,
          "variable": "FUNDFAIR"
         },
         {
          "Year": 1889,
          "value": 0.989845328,
          "variable": "FUNDFAIR"
         },
         {
          "Year": 1890,
          "value": 1.012435452,
          "variable": "FUNDFAIR"
         },
         {
          "Year": 1891,
          "value": 1.0242447019999998,
          "variable": "FUNDFAIR"
         },
         {
          "Year": 1892,
          "value": 1.041246497,
          "variable": "FUNDFAIR"
         },
         {
          "Year": 1893,
          "value": 1.036955199,
          "variable": "FUNDFAIR"
         },
         {
          "Year": 1894,
          "value": 1.066059949,
          "variable": "FUNDFAIR"
         },
         {
          "Year": 1895,
          "value": 1.091995468,
          "variable": "FUNDFAIR"
         },
         {
          "Year": 1896,
          "value": 1.106445186,
          "variable": "FUNDFAIR"
         },
         {
          "Year": 1897,
          "value": 1.1271764530000001,
          "variable": "FUNDFAIR"
         },
         {
          "Year": 1898,
          "value": 1.150983373,
          "variable": "FUNDFAIR"
         },
         {
          "Year": 1899,
          "value": 1.191151603,
          "variable": "FUNDFAIR"
         },
         {
          "Year": 1900,
          "value": 1.217990214,
          "variable": "FUNDFAIR"
         },
         {
          "Year": 1901,
          "value": 1.3006039660000002,
          "variable": "FUNDFAIR"
         },
         {
          "Year": 1902,
          "value": 1.318824648,
          "variable": "FUNDFAIR"
         },
         {
          "Year": 1903,
          "value": 1.3951803950000001,
          "variable": "FUNDFAIR"
         },
         {
          "Year": 1904,
          "value": 1.430385504,
          "variable": "FUNDFAIR"
         },
         {
          "Year": 1905,
          "value": 1.494481124,
          "variable": "FUNDFAIR"
         },
         {
          "Year": 1906,
          "value": 1.5572786619999999,
          "variable": "FUNDFAIR"
         },
         {
          "Year": 1907,
          "value": 1.64891389,
          "variable": "FUNDFAIR"
         },
         {
          "Year": 1908,
          "value": 1.634620602,
          "variable": "FUNDFAIR"
         },
         {
          "Year": 1909,
          "value": 1.667806525,
          "variable": "FUNDFAIR"
         },
         {
          "Year": 1910,
          "value": 1.710282183,
          "variable": "FUNDFAIR"
         },
         {
          "Year": 1911,
          "value": 1.667408008,
          "variable": "FUNDFAIR"
         },
         {
          "Year": 1912,
          "value": 1.669794295,
          "variable": "FUNDFAIR"
         },
         {
          "Year": 1913,
          "value": 1.7088470199999999,
          "variable": "FUNDFAIR"
         },
         {
          "Year": 1914,
          "value": 1.619714452,
          "variable": "FUNDFAIR"
         },
         {
          "Year": 1915,
          "value": 1.59942449,
          "variable": "FUNDFAIR"
         },
         {
          "Year": 1916,
          "value": 1.6640327400000001,
          "variable": "FUNDFAIR"
         },
         {
          "Year": 1917,
          "value": 1.698338097,
          "variable": "FUNDFAIR"
         },
         {
          "Year": 1918,
          "value": 1.692405941,
          "variable": "FUNDFAIR"
         },
         {
          "Year": 1919,
          "value": 1.5910554929999998,
          "variable": "FUNDFAIR"
         },
         {
          "Year": 1920,
          "value": 1.715539071,
          "variable": "FUNDFAIR"
         },
         {
          "Year": 1921,
          "value": 1.654132921,
          "variable": "FUNDFAIR"
         },
         {
          "Year": 1922,
          "value": 1.696238077,
          "variable": "FUNDFAIR"
         },
         {
          "Year": 1923,
          "value": 1.819940667,
          "variable": "FUNDFAIR"
         },
         {
          "Year": 1924,
          "value": 1.836909746,
          "variable": "FUNDFAIR"
         },
         {
          "Year": 1925,
          "value": 1.853423261,
          "variable": "FUNDFAIR"
         },
         {
          "Year": 1926,
          "value": 1.845363677,
          "variable": "FUNDFAIR"
         },
         {
          "Year": 1927,
          "value": 1.985594424,
          "variable": "FUNDFAIR"
         },
         {
          "Year": 1928,
          "value": 1.993228462,
          "variable": "FUNDFAIR"
         },
         {
          "Year": 1929,
          "value": 2.101214691,
          "variable": "FUNDFAIR"
         },
         {
          "Year": 1930,
          "value": 2.094418305,
          "variable": "FUNDFAIR"
         },
         {
          "Year": 1931,
          "value": 2.000589813,
          "variable": "FUNDFAIR"
         },
         {
          "Year": 1932,
          "value": 1.814160213,
          "variable": "FUNDFAIR"
         },
         {
          "Year": 1933,
          "value": 1.854130491,
          "variable": "FUNDFAIR"
         },
         {
          "Year": 1934,
          "value": 1.9195546270000001,
          "variable": "FUNDFAIR"
         },
         {
          "Year": 1935,
          "value": 1.968088673,
          "variable": "FUNDFAIR"
         },
         {
          "Year": 1936,
          "value": 2.076178107,
          "variable": "FUNDFAIR"
         },
         {
          "Year": 1937,
          "value": 2.134326359,
          "variable": "FUNDFAIR"
         },
         {
          "Year": 1938,
          "value": 2.0674907730000003,
          "variable": "FUNDFAIR"
         },
         {
          "Year": 1939,
          "value": 2.137198754,
          "variable": "FUNDFAIR"
         },
         {
          "Year": 1940,
          "value": 2.224610165,
          "variable": "FUNDFAIR"
         },
         {
          "Year": 1941,
          "value": 2.232061336,
          "variable": "FUNDFAIR"
         },
         {
          "Year": 1942,
          "value": 2.254997487,
          "variable": "FUNDFAIR"
         },
         {
          "Year": 1943,
          "value": 2.293680873,
          "variable": "FUNDFAIR"
         },
         {
          "Year": 1944,
          "value": 2.28484763,
          "variable": "FUNDFAIR"
         },
         {
          "Year": 1945,
          "value": 2.078479256,
          "variable": "FUNDFAIR"
         },
         {
          "Year": 1946,
          "value": 2.2757791259999998,
          "variable": "FUNDFAIR"
         },
         {
          "Year": 1947,
          "value": 2.4620383969999997,
          "variable": "FUNDFAIR"
         },
         {
          "Year": 1948,
          "value": 2.56198336,
          "variable": "FUNDFAIR"
         },
         {
          "Year": 1949,
          "value": 2.5457206780000003,
          "variable": "FUNDFAIR"
         },
         {
          "Year": 1950,
          "value": 2.7394552780000003,
          "variable": "FUNDFAIR"
         },
         {
          "Year": 1951,
          "value": 2.283619714179199,
          "variable": "FUNDFAIR"
         },
         {
          "Year": 1952,
          "value": 2.3352207164242498,
          "variable": "FUNDFAIR"
         },
         {
          "Year": 1953,
          "value": 2.390131278185784,
          "variable": "FUNDFAIR"
         },
         {
          "Year": 1954,
          "value": 2.448707934381516,
          "variable": "FUNDFAIR"
         },
         {
          "Year": 1955,
          "value": 2.511368107275782,
          "variable": "FUNDFAIR"
         },
         {
          "Year": 1956,
          "value": 2.5786038152332327,
          "variable": "FUNDFAIR"
         },
         {
          "Year": 1957,
          "value": 2.650998840146379,
          "variable": "FUNDFAIR"
         },
         {
          "Year": 1958,
          "value": 2.7292502612228007,
          "variable": "FUNDFAIR"
         },
         {
          "Year": 1959,
          "value": 2.81419550419824,
          "variable": "FUNDFAIR"
         },
         {
          "Year": 1960,
          "value": 2.9019834947374124,
          "variable": "FUNDFAIR"
         },
         {
          "Year": 1961,
          "value": 2.9897695249019867,
          "variable": "FUNDFAIR"
         },
         {
          "Year": 1962,
          "value": 3.0822058485147013,
          "variable": "FUNDFAIR"
         },
         {
          "Year": 1963,
          "value": 3.1796065991161404,
          "variable": "FUNDFAIR"
         },
         {
          "Year": 1964,
          "value": 3.2823132437892037,
          "variable": "FUNDFAIR"
         },
         {
          "Year": 1965,
          "value": 3.3906974278817223,
          "variable": "FUNDFAIR"
         },
         {
          "Year": 1966,
          "value": 3.5051641450004265,
          "variable": "FUNDFAIR"
         },
         {
          "Year": 1967,
          "value": 3.6261552710894853,
          "variable": "FUNDFAIR"
         },
         {
          "Year": 1968,
          "value": 3.754153506126183,
          "variable": "FUNDFAIR"
         },
         {
          "Year": 1969,
          "value": 3.889686772264509,
          "variable": "FUNDFAIR"
         },
         {
          "Year": 1970,
          "value": 3.9706944235871524,
          "variable": "FUNDFAIR"
         },
         {
          "Year": 1971,
          "value": 4.046708733920731,
          "variable": "FUNDFAIR"
         },
         {
          "Year": 1972,
          "value": 4.125746480885365,
          "variable": "FUNDFAIR"
         },
         {
          "Year": 1973,
          "value": 4.207962373957124,
          "variable": "FUNDFAIR"
         },
         {
          "Year": 1974,
          "value": 4.293520243754683,
          "variable": "FUNDFAIR"
         },
         {
          "Year": 1975,
          "value": 4.3825936343370095,
          "variable": "FUNDFAIR"
         },
         {
          "Year": 1976,
          "value": 4.475366436748138,
          "variable": "FUNDFAIR"
         },
         {
          "Year": 1977,
          "value": 4.572033566830799,
          "variable": "FUNDFAIR"
         },
         {
          "Year": 1978,
          "value": 4.672801690560319,
          "variable": "FUNDFAIR"
         },
         {
          "Year": 1979,
          "value": 4.7778900003979725,
          "variable": "FUNDFAIR"
         },
         {
          "Year": 1980,
          "value": 4.776996986581498,
          "variable": "FUNDFAIR"
         },
         {
          "Year": 1981,
          "value": 4.811143286985623,
          "variable": "FUNDFAIR"
         },
         {
          "Year": 1982,
          "value": 4.849613293123655,
          "variable": "FUNDFAIR"
         },
         {
          "Year": 1983,
          "value": 4.892705989620176,
          "variable": "FUNDFAIR"
         },
         {
          "Year": 1984,
          "value": 4.940750510968051,
          "variable": "FUNDFAIR"
         },
         {
          "Year": 1985,
          "value": 4.99410911157431,
          "variable": "FUNDFAIR"
         },
         {
          "Year": 1986,
          "value": 5.053180448801704,
          "variable": "FUNDFAIR"
         },
         {
          "Year": 1987,
          "value": 5.118403212713319,
          "variable": "FUNDFAIR"
         },
         {
          "Year": 1988,
          "value": 5.190260139947036,
          "variable": "FUNDFAIR"
         },
         {
          "Year": 1989,
          "value": 5.2692824532828,
          "variable": "FUNDFAIR"
         },
         {
          "Year": 1990,
          "value": 5.503249983659162,
          "variable": "FUNDFAIR"
         },
         {
          "Year": 1991,
          "value": 5.53637303004027,
          "variable": "FUNDFAIR"
         },
         {
          "Year": 1992,
          "value": 5.57844863421986,
          "variable": "FUNDFAIR"
         },
         {
          "Year": 1993,
          "value": 5.629573826170201,
          "variable": "FUNDFAIR"
         },
         {
          "Year": 1994,
          "value": 5.689845644839098,
          "variable": "FUNDFAIR"
         },
         {
          "Year": 1995,
          "value": 5.753745588659252,
          "variable": "FUNDFAIR"
         },
         {
          "Year": 1996,
          "value": 5.905520806381663,
          "variable": "FUNDFAIR"
         },
         {
          "Year": 1997,
          "value": 6.111788394533811,
          "variable": "FUNDFAIR"
         },
         {
          "Year": 1998,
          "value": 6.3001485967765145,
          "variable": "FUNDFAIR"
         },
         {
          "Year": 1999,
          "value": 6.39248146948836,
          "variable": "FUNDFAIR"
         },
         {
          "Year": 2000,
          "value": 6.536377720133574,
          "variable": "FUNDFAIR"
         },
         {
          "Year": 2001,
          "value": 6.773991140668119,
          "variable": "FUNDFAIR"
         },
         {
          "Year": 2002,
          "value": 6.883654108636289,
          "variable": "FUNDFAIR"
         },
         {
          "Year": 2003,
          "value": 6.990866842986304,
          "variable": "FUNDFAIR"
         },
         {
          "Year": 2004,
          "value": 7.09502164226438,
          "variable": "FUNDFAIR"
         },
         {
          "Year": 2005,
          "value": 7.195556149154442,
          "variable": "FUNDFAIR"
         },
         {
          "Year": 2006,
          "value": 7.292072168356793,
          "variable": "FUNDFAIR"
         },
         {
          "Year": 2007,
          "value": 7.384148901272955,
          "variable": "FUNDFAIR"
         },
         {
          "Year": 2008,
          "value": 7.471466720891759,
          "variable": "FUNDFAIR"
         },
         {
          "Year": 2009,
          "value": 7.55359639581736,
          "variable": "FUNDFAIR"
         },
         {
          "Year": 2010,
          "value": 7.6303252713594105,
          "variable": "FUNDFAIR"
         },
         {
          "Year": 2011,
          "value": 7.713409460777483,
          "variable": "FUNDFAIR"
         },
         {
          "Year": 2012,
          "value": 7.799630998849551,
          "variable": "FUNDFAIR"
         },
         {
          "Year": 2013,
          "value": 7.889000330673667,
          "variable": "FUNDFAIR"
         },
         {
          "Year": 2014,
          "value": 7.981555550539861,
          "variable": "FUNDFAIR"
         },
         {
          "Year": 2015,
          "value": 8.077407422962896,
          "variable": "FUNDFAIR"
         },
         {
          "Year": 2016,
          "value": 8.176552347721715,
          "variable": "FUNDFAIR"
         },
         {
          "Year": 2017,
          "value": 8.279120525232287,
          "variable": "FUNDFAIR"
         },
         {
          "Year": 2018,
          "value": 8.385153860343504,
          "variable": "FUNDFAIR"
         },
         {
          "Year": 2019,
          "value": 8.494703340227282,
          "variable": "FUNDFAIR"
         },
         {
          "Year": 2020,
          "value": 8.607902375959688,
          "variable": "FUNDFAIR"
         },
         {
          "Year": 2021,
          "value": 8.72481693356336,
          "variable": "FUNDFAIR"
         },
         {
          "Year": 2022,
          "value": 8.845985988511716,
          "variable": "FUNDFAIR"
         },
         {
          "Year": 2023,
          "value": 8.971457054002252,
          "variable": "FUNDFAIR"
         },
         {
          "Year": 2024,
          "value": 9.101394565042224,
          "variable": "FUNDFAIR"
         },
         {
          "Year": 2025,
          "value": 9.235928809871897,
          "variable": "FUNDFAIR"
         },
         {
          "Year": 2026,
          "value": 9.36972842826846,
          "variable": "FUNDFAIR"
         },
         {
          "Year": 2027,
          "value": 9.504968922835864,
          "variable": "FUNDFAIR"
         },
         {
          "Year": 2028,
          "value": 9.64175218279469,
          "variable": "FUNDFAIR"
         },
         {
          "Year": 2029,
          "value": 9.779978862943382,
          "variable": "FUNDFAIR"
         },
         {
          "Year": 2030,
          "value": 9.919684631465461,
          "variable": "FUNDFAIR"
         },
         {
          "Year": 2031,
          "value": 10.059749368331588,
          "variable": "FUNDFAIR"
         },
         {
          "Year": 2032,
          "value": 10.201571625667109,
          "variable": "FUNDFAIR"
         },
         {
          "Year": 2033,
          "value": 10.345130162081126,
          "variable": "FUNDFAIR"
         },
         {
          "Year": 2034,
          "value": 10.49036265183803,
          "variable": "FUNDFAIR"
         },
         {
          "Year": 2035,
          "value": 10.637371384501174,
          "variable": "FUNDFAIR"
         },
         {
          "Year": 2036,
          "value": 10.786093571579762,
          "variable": "FUNDFAIR"
         },
         {
          "Year": 2037,
          "value": 10.936475435116508,
          "variable": "FUNDFAIR"
         },
         {
          "Year": 2038,
          "value": 11.088597466111775,
          "variable": "FUNDFAIR"
         },
         {
          "Year": 2039,
          "value": 11.242395446590113,
          "variable": "FUNDFAIR"
         },
         {
          "Year": 2040,
          "value": 11.397978085084317,
          "variable": "FUNDFAIR"
         },
         {
          "Year": 2041,
          "value": 11.555256650147392,
          "variable": "FUNDFAIR"
         },
         {
          "Year": 2042,
          "value": 11.713101066155001,
          "variable": "FUNDFAIR"
         },
         {
          "Year": 2043,
          "value": 11.871555904787698,
          "variable": "FUNDFAIR"
         },
         {
          "Year": 2044,
          "value": 12.030511745255083,
          "variable": "FUNDFAIR"
         },
         {
          "Year": 2045,
          "value": 12.189950398553837,
          "variable": "FUNDFAIR"
         },
         {
          "Year": 2046,
          "value": 12.349754234015931,
          "variable": "FUNDFAIR"
         },
         {
          "Year": 2047,
          "value": 12.509880134563335,
          "variable": "FUNDFAIR"
         },
         {
          "Year": 2048,
          "value": 12.670319305461714,
          "variable": "FUNDFAIR"
         },
         {
          "Year": 2049,
          "value": 12.830937912514395,
          "variable": "FUNDFAIR"
         },
         {
          "Year": 2050,
          "value": 12.991771940925135,
          "variable": "FUNDFAIR"
         },
         {
          "Year": 2051,
          "value": 13.147259134484134,
          "variable": "FUNDFAIR"
         },
         {
          "Year": 2052,
          "value": 13.306005496744417,
          "variable": "FUNDFAIR"
         },
         {
          "Year": 2053,
          "value": 13.468086965545412,
          "variable": "FUNDFAIR"
         },
         {
          "Year": 2054,
          "value": 13.633589162227908,
          "variable": "FUNDFAIR"
         },
         {
          "Year": 2055,
          "value": 13.802555805622214,
          "variable": "FUNDFAIR"
         },
         {
          "Year": 2056,
          "value": 13.975156554162874,
          "variable": "FUNDFAIR"
         },
         {
          "Year": 2057,
          "value": 14.151419500947588,
          "variable": "FUNDFAIR"
         },
         {
          "Year": 2058,
          "value": 14.331422868084148,
          "variable": "FUNDFAIR"
         },
         {
          "Year": 2059,
          "value": 14.515240097715397,
          "variable": "FUNDFAIR"
         },
         {
          "Year": 2060,
          "value": 14.703004806955404,
          "variable": "FUNDFAIR"
         },
         {
          "Year": 2061,
          "value": 14.894868619801922,
          "variable": "FUNDFAIR"
         },
         {
          "Year": 2062,
          "value": 15.090899941559622,
          "variable": "FUNDFAIR"
         },
         {
          "Year": 2063,
          "value": 15.29123586033521,
          "variable": "FUNDFAIR"
         },
         {
          "Year": 2064,
          "value": 15.495953566277546,
          "variable": "FUNDFAIR"
         },
         {
          "Year": 2065,
          "value": 15.705166347107536,
          "variable": "FUNDFAIR"
         },
         {
          "Year": 2066,
          "value": 15.919061465800922,
          "variable": "FUNDFAIR"
         },
         {
          "Year": 2067,
          "value": 16.13772082161594,
          "variable": "FUNDFAIR"
         },
         {
          "Year": 2068,
          "value": 16.36123639816859,
          "variable": "FUNDFAIR"
         },
         {
          "Year": 2069,
          "value": 16.589738216832227,
          "variable": "FUNDFAIR"
         },
         {
          "Year": 2070,
          "value": 16.823319024391576,
          "variable": "FUNDFAIR"
         },
         {
          "Year": 2071,
          "value": 17.062203822372574,
          "variable": "FUNDFAIR"
         },
         {
          "Year": 2072,
          "value": 17.30516537245634,
          "variable": "FUNDFAIR"
         },
         {
          "Year": 2073,
          "value": 17.552259365940245,
          "variable": "FUNDFAIR"
         },
         {
          "Year": 2074,
          "value": 17.803496000593142,
          "variable": "FUNDFAIR"
         },
         {
          "Year": 2075,
          "value": 18.05896446501871,
          "variable": "FUNDFAIR"
         },
         {
          "Year": 2076,
          "value": 18.318755293471263,
          "variable": "FUNDFAIR"
         },
         {
          "Year": 2077,
          "value": 18.577876684395502,
          "variable": "FUNDFAIR"
         },
         {
          "Year": 2078,
          "value": 18.836100689125086,
          "variable": "FUNDFAIR"
         },
         {
          "Year": 2079,
          "value": 19.093256995665225,
          "variable": "FUNDFAIR"
         },
         {
          "Year": 2080,
          "value": 19.349106151723255,
          "variable": "FUNDFAIR"
         },
         {
          "Year": 2081,
          "value": 19.60346982376532,
          "variable": "FUNDFAIR"
         },
         {
          "Year": 2082,
          "value": 19.85680258230385,
          "variable": "FUNDFAIR"
         },
         {
          "Year": 2083,
          "value": 20.108938052354922,
          "variable": "FUNDFAIR"
         },
         {
          "Year": 2084,
          "value": 20.35969249217191,
          "variable": "FUNDFAIR"
         },
         {
          "Year": 2085,
          "value": 20.608979451846178,
          "variable": "FUNDFAIR"
         },
         {
          "Year": 2086,
          "value": 20.856611653688976,
          "variable": "FUNDFAIR"
         },
         {
          "Year": 2087,
          "value": 21.102478513795813,
          "variable": "FUNDFAIR"
         },
         {
          "Year": 2088,
          "value": 21.346384999141648,
          "variable": "FUNDFAIR"
         },
         {
          "Year": 2089,
          "value": 21.588156841222577,
          "variable": "FUNDFAIR"
         },
         {
          "Year": 2090,
          "value": 21.82759216842023,
          "variable": "FUNDFAIR"
         },
         {
          "Year": 2091,
          "value": 22.0645772311038,
          "variable": "FUNDFAIR"
         },
         {
          "Year": 2092,
          "value": 22.299327290590302,
          "variable": "FUNDFAIR"
         },
         {
          "Year": 2093,
          "value": 22.531699547909138,
          "variable": "FUNDFAIR"
         },
         {
          "Year": 2094,
          "value": 22.761516981593005,
          "variable": "FUNDFAIR"
         },
         {
          "Year": 2095,
          "value": 22.988676727680346,
          "variable": "FUNDFAIR"
         },
         {
          "Year": 2096,
          "value": 23.21305206543611,
          "variable": "FUNDFAIR"
         },
         {
          "Year": 2097,
          "value": 23.434538937704154,
          "variable": "FUNDFAIR"
         },
         {
          "Year": 2098,
          "value": 23.653011923386206,
          "variable": "FUNDFAIR"
         },
         {
          "Year": 2099,
          "value": 23.868305177954674,
          "variable": "FUNDFAIR"
         },
         {
          "Year": 2100,
          "value": 24.08027755980878,
          "variable": "FUNDFAIR"
         },
         {
          "Year": 2101,
          "value": 24.302204082842934,
          "variable": "FUNDFAIR"
         },
         {
          "Year": 2102,
          "value": 24.51162211928828,
          "variable": "FUNDFAIR"
         },
         {
          "Year": 2103,
          "value": 24.708155358491602,
          "variable": "FUNDFAIR"
         },
         {
          "Year": 2104,
          "value": 24.89148194090314,
          "variable": "FUNDFAIR"
         },
         {
          "Year": 2105,
          "value": 25.061264441816142,
          "variable": "FUNDFAIR"
         },
         {
          "Year": 2106,
          "value": 25.211565716737947,
          "variable": "FUNDFAIR"
         },
         {
          "Year": 2107,
          "value": 25.340767360215224,
          "variable": "FUNDFAIR"
         },
         {
          "Year": 2108,
          "value": 25.455615412290626,
          "variable": "FUNDFAIR"
         },
         {
          "Year": 2109,
          "value": 25.555873044914478,
          "variable": "FUNDFAIR"
         },
         {
          "Year": 2110,
          "value": 25.641320287744428,
          "variable": "FUNDFAIR"
         },
         {
          "Year": 2111,
          "value": 25.711753418709126,
          "variable": "FUNDFAIR"
         },
         {
          "Year": 2112,
          "value": 25.767374572515195,
          "variable": "FUNDFAIR"
         },
         {
          "Year": 2113,
          "value": 25.80804316522706,
          "variable": "FUNDFAIR"
         },
         {
          "Year": 2114,
          "value": 25.8336708366664,
          "variable": "FUNDFAIR"
         },
         {
          "Year": 2115,
          "value": 25.844209982387582,
          "variable": "FUNDFAIR"
         },
         {
          "Year": 2116,
          "value": 25.839639561038727,
          "variable": "FUNDFAIR"
         },
         {
          "Year": 2117,
          "value": 25.81995948291497,
          "variable": "FUNDFAIR"
         },
         {
          "Year": 2118,
          "value": 25.78519497865172,
          "variable": "FUNDFAIR"
         },
         {
          "Year": 2119,
          "value": 25.735387810193146,
          "variable": "FUNDFAIR"
         },
         {
          "Year": 2120,
          "value": 25.670600003195585,
          "variable": "FUNDFAIR"
         },
         {
          "Year": 2121,
          "value": 25.590906543014437,
          "variable": "FUNDFAIR"
         },
         {
          "Year": 2122,
          "value": 25.49647112838787,
          "variable": "FUNDFAIR"
         },
         {
          "Year": 2123,
          "value": 25.387409801930687,
          "variable": "FUNDFAIR"
         },
         {
          "Year": 2124,
          "value": 25.263900876065176,
          "variable": "FUNDFAIR"
         },
         {
          "Year": 2125,
          "value": 25.12616114407336,
          "variable": "FUNDFAIR"
         },
         {
          "Year": 2126,
          "value": 24.97443370286582,
          "variable": "FUNDFAIR"
         },
         {
          "Year": 2127,
          "value": 24.80899553607682,
          "variable": "FUNDFAIR"
         },
         {
          "Year": 2128,
          "value": 24.63013172192724,
          "variable": "FUNDFAIR"
         },
         {
          "Year": 2129,
          "value": 24.43813942607524,
          "variable": "FUNDFAIR"
         },
         {
          "Year": 2130,
          "value": 24.233329014186666,
          "variable": "FUNDFAIR"
         },
         {
          "Year": 2131,
          "value": 24.01601766789838,
          "variable": "FUNDFAIR"
         },
         {
          "Year": 2132,
          "value": 23.786522075375647,
          "variable": "FUNDFAIR"
         },
         {
          "Year": 2133,
          "value": 23.545196306383286,
          "variable": "FUNDFAIR"
         },
         {
          "Year": 2134,
          "value": 23.292439233768665,
          "variable": "FUNDFAIR"
         },
         {
          "Year": 2135,
          "value": 23.028679387950156,
          "variable": "FUNDFAIR"
         },
         {
          "Year": 2136,
          "value": 22.754374190517186,
          "variable": "FUNDFAIR"
         },
         {
          "Year": 2137,
          "value": 22.469994351923397,
          "variable": "FUNDFAIR"
         },
         {
          "Year": 2138,
          "value": 22.176007732275465,
          "variable": "FUNDFAIR"
         },
         {
          "Year": 2139,
          "value": 21.872880827249155,
          "variable": "FUNDFAIR"
         },
         {
          "Year": 2140,
          "value": 21.561088359626634,
          "variable": "FUNDFAIR"
         },
         {
          "Year": 2141,
          "value": 21.2411093375135,
          "variable": "FUNDFAIR"
         },
         {
          "Year": 2142,
          "value": 20.913421611870117,
          "variable": "FUNDFAIR"
         },
         {
          "Year": 2143,
          "value": 20.578507063617277,
          "variable": "FUNDFAIR"
         },
         {
          "Year": 2144,
          "value": 20.236867225827627,
          "variable": "FUNDFAIR"
         },
         {
          "Year": 2145,
          "value": 19.88901704931095,
          "variable": "FUNDFAIR"
         },
         {
          "Year": 2146,
          "value": 19.53547704201694,
          "variable": "FUNDFAIR"
         },
         {
          "Year": 2147,
          "value": 19.17677780208523,
          "variable": "FUNDFAIR"
         },
         {
          "Year": 2148,
          "value": 18.81344536079431,
          "variable": "FUNDFAIR"
         },
         {
          "Year": 2149,
          "value": 18.44600031032755,
          "variable": "FUNDFAIR"
         },
         {
          "Year": 2150,
          "value": 18.074961207020543,
          "variable": "FUNDFAIR"
         },
         {
          "Year": 2151,
          "value": 17.70083825765703,
          "variable": "FUNDFAIR"
         },
         {
          "Year": 2152,
          "value": 17.326564227029877,
          "variable": "FUNDFAIR"
         },
         {
          "Year": 2153,
          "value": 16.95247036811806,
          "variable": "FUNDFAIR"
         },
         {
          "Year": 2154,
          "value": 16.578871291552733,
          "variable": "FUNDFAIR"
         },
         {
          "Year": 2155,
          "value": 16.20607709911167,
          "variable": "FUNDFAIR"
         },
         {
          "Year": 2156,
          "value": 15.83440720636923,
          "variable": "FUNDFAIR"
         },
         {
          "Year": 2157,
          "value": 15.464182423760242,
          "variable": "FUNDFAIR"
         },
         {
          "Year": 2158,
          "value": 15.095716319120275,
          "variable": "FUNDFAIR"
         },
         {
          "Year": 2159,
          "value": 14.729314747842755,
          "variable": "FUNDFAIR"
         },
         {
          "Year": 2160,
          "value": 14.365269656227506,
          "variable": "FUNDFAIR"
         },
         {
          "Year": 2161,
          "value": 14.003855097829664,
          "variable": "FUNDFAIR"
         },
         {
          "Year": 2162,
          "value": 13.645327277928383,
          "variable": "FUNDFAIR"
         },
         {
          "Year": 2163,
          "value": 13.289924740831461,
          "variable": "FUNDFAIR"
         },
         {
          "Year": 2164,
          "value": 12.93786918881525,
          "variable": "FUNDFAIR"
         },
         {
          "Year": 2165,
          "value": 12.589372710180271,
          "variable": "FUNDFAIR"
         },
         {
          "Year": 2166,
          "value": 12.244654302883541,
          "variable": "FUNDFAIR"
         },
         {
          "Year": 2167,
          "value": 11.90392854034294,
          "variable": "FUNDFAIR"
         },
         {
          "Year": 2168,
          "value": 11.56740250398094,
          "variable": "FUNDFAIR"
         },
         {
          "Year": 2169,
          "value": 11.235274610788304,
          "variable": "FUNDFAIR"
         },
         {
          "Year": 2170,
          "value": 10.907723519508354,
          "variable": "FUNDFAIR"
         },
         {
          "Year": 2171,
          "value": 10.584911239593989,
          "variable": "FUNDFAIR"
         },
         {
          "Year": 2172,
          "value": 10.266984931095054,
          "variable": "FUNDFAIR"
         },
         {
          "Year": 2173,
          "value": 9.954077212288402,
          "variable": "FUNDFAIR"
         },
         {
          "Year": 2174,
          "value": 9.646305024515055,
          "variable": "FUNDFAIR"
         },
         {
          "Year": 2175,
          "value": 9.34377686486286,
          "variable": "FUNDFAIR"
         },
         {
          "Year": 2176,
          "value": 9.046596245078955,
          "variable": "FUNDFAIR"
         },
         {
          "Year": 2177,
          "value": 8.754860623904452,
          "variable": "FUNDFAIR"
         },
         {
          "Year": 2178,
          "value": 8.468662365585798,
          "variable": "FUNDFAIR"
         },
         {
          "Year": 2179,
          "value": 8.18808534975096,
          "variable": "FUNDFAIR"
         },
         {
          "Year": 2180,
          "value": 7.9132000875086685,
          "variable": "FUNDFAIR"
         },
         {
          "Year": 2181,
          "value": 7.644064217585067,
          "variable": "FUNDFAIR"
         },
         {
          "Year": 2182,
          "value": 7.380724030256045,
          "variable": "FUNDFAIR"
         },
         {
          "Year": 2183,
          "value": 7.123215012938625,
          "variable": "FUNDFAIR"
         },
         {
          "Year": 2184,
          "value": 6.871562773456217,
          "variable": "FUNDFAIR"
         },
         {
          "Year": 2185,
          "value": 6.625782918793715,
          "variable": "FUNDFAIR"
         },
         {
          "Year": 2186,
          "value": 6.385881225991558,
          "variable": "FUNDFAIR"
         },
         {
          "Year": 2187,
          "value": 6.151853185693365,
          "variable": "FUNDFAIR"
         },
         {
          "Year": 2188,
          "value": 5.923689836965028,
          "variable": "FUNDFAIR"
         },
         {
          "Year": 2189,
          "value": 5.701378195532268,
          "variable": "FUNDFAIR"
         },
         {
          "Year": 2190,
          "value": 5.484897820398516,
          "variable": "FUNDFAIR"
         },
         {
          "Year": 2191,
          "value": 5.274224566911745,
          "variable": "FUNDFAIR"
         },
         {
          "Year": 2192,
          "value": 5.069328729388257,
          "variable": "FUNDFAIR"
         },
         {
          "Year": 2193,
          "value": 4.870171501878785,
          "variable": "FUNDFAIR"
         },
         {
          "Year": 2194,
          "value": 4.676705687904863,
          "variable": "FUNDFAIR"
         },
         {
          "Year": 2195,
          "value": 4.4888772838098365,
          "variable": "FUNDFAIR"
         },
         {
          "Year": 2196,
          "value": 4.306626036022769,
          "variable": "FUNDFAIR"
         },
         {
          "Year": 2197,
          "value": 4.129884772973276,
          "variable": "FUNDFAIR"
         },
         {
          "Year": 2198,
          "value": 3.9585813277793407,
          "variable": "FUNDFAIR"
         },
         {
          "Year": 2199,
          "value": 3.792641525426592,
          "variable": "FUNDFAIR"
         },
         {
          "Year": 2200,
          "value": 3.6319904014401767,
          "variable": "FUNDFAIR"
         },
         {
          "Year": 2201,
          "value": 3.4799601579750155,
          "variable": "FUNDFAIR"
         },
         {
          "Year": 2202,
          "value": 3.335934922238739,
          "variable": "FUNDFAIR"
         },
         {
          "Year": 2203,
          "value": 3.199445591447965,
          "variable": "FUNDFAIR"
         },
         {
          "Year": 2204,
          "value": 3.070051815398885,
          "variable": "FUNDFAIR"
         },
         {
          "Year": 2205,
          "value": 2.9473415458291314,
          "variable": "FUNDFAIR"
         },
         {
          "Year": 2206,
          "value": 2.8309286918231047,
          "variable": "FUNDFAIR"
         },
         {
          "Year": 2207,
          "value": 2.720451292800897,
          "variable": "FUNDFAIR"
         },
         {
          "Year": 2208,
          "value": 2.615569818610828,
          "variable": "FUNDFAIR"
         },
         {
          "Year": 2209,
          "value": 2.5159652673027475,
          "variable": "FUNDFAIR"
         },
         {
          "Year": 2210,
          "value": 2.421338518048163,
          "variable": "FUNDFAIR"
         },
         {
          "Year": 2211,
          "value": 2.331409740528704,
          "variable": "FUNDFAIR"
         },
         {
          "Year": 2212,
          "value": 2.2459175808894485,
          "variable": "FUNDFAIR"
         },
         {
          "Year": 2213,
          "value": 2.164617420513706,
          "variable": "FUNDFAIR"
         },
         {
          "Year": 2214,
          "value": 2.08728002184391,
          "variable": "FUNDFAIR"
         },
         {
          "Year": 2215,
          "value": 2.013690020063282,
          "variable": "FUNDFAIR"
         },
         {
          "Year": 2216,
          "value": 1.9436451104001131,
          "variable": "FUNDFAIR"
         },
         {
          "Year": 2217,
          "value": 1.8769550248195985,
          "variable": "FUNDFAIR"
         },
         {
          "Year": 2218,
          "value": 1.813440031759927,
          "variable": "FUNDFAIR"
         },
         {
          "Year": 2219,
          "value": 1.75293073447536,
          "variable": "FUNDFAIR"
         },
         {
          "Year": 2220,
          "value": 1.6952674258891207,
          "variable": "FUNDFAIR"
         },
         {
          "Year": 2221,
          "value": 1.6402994563045814,
          "variable": "FUNDFAIR"
         },
         {
          "Year": 2222,
          "value": 1.5878853905172585,
          "variable": "FUNDFAIR"
         },
         {
          "Year": 2223,
          "value": 1.537892316989885,
          "variable": "FUNDFAIR"
         },
         {
          "Year": 2224,
          "value": 1.4901961879298087,
          "variable": "FUNDFAIR"
         },
         {
          "Year": 2225,
          "value": 1.444681278155831,
          "variable": "FUNDFAIR"
         },
         {
          "Year": 2226,
          "value": 1.4011381943998358,
          "variable": "FUNDFAIR"
         },
         {
          "Year": 2227,
          "value": 1.3594725231644884,
          "variable": "FUNDFAIR"
         },
         {
          "Year": 2228,
          "value": 1.3195944244903575,
          "variable": "FUNDFAIR"
         },
         {
          "Year": 2229,
          "value": 1.2814185516655907,
          "variable": "FUNDFAIR"
         },
         {
          "Year": 2230,
          "value": 1.2448638118158253,
          "variable": "FUNDFAIR"
         },
         {
          "Year": 2231,
          "value": 1.2098529016988069,
          "variable": "FUNDFAIR"
         },
         {
          "Year": 2232,
          "value": 1.1763128065050377,
          "variable": "FUNDFAIR"
         },
         {
          "Year": 2233,
          "value": 1.1441749918694575,
          "variable": "FUNDFAIR"
         },
         {
          "Year": 2234,
          "value": 1.11337471589354,
          "variable": "FUNDFAIR"
         },
         {
          "Year": 2235,
          "value": 1.0838509438929584,
          "variable": "FUNDFAIR"
         },
         {
          "Year": 2236,
          "value": 1.055546082166411,
          "variable": "FUNDFAIR"
         },
         {
          "Year": 2237,
          "value": 1.0284055952214284,
          "variable": "FUNDFAIR"
         },
         {
          "Year": 2238,
          "value": 1.0023775870033975,
          "variable": "FUNDFAIR"
         },
         {
          "Year": 2239,
          "value": 0.9774124911073653,
          "variable": "FUNDFAIR"
         },
         {
          "Year": 2240,
          "value": 0.9534631324068997,
          "variable": "FUNDFAIR"
         },
         {
          "Year": 2241,
          "value": 0.9304845343008594,
          "variable": "FUNDFAIR"
         },
         {
          "Year": 2242,
          "value": 0.9084337164644208,
          "variable": "FUNDFAIR"
         },
         {
          "Year": 2243,
          "value": 0.8872698858363348,
          "variable": "FUNDFAIR"
         },
         {
          "Year": 2244,
          "value": 0.8669548728783787,
          "variable": "FUNDFAIR"
         },
         {
          "Year": 2245,
          "value": 0.8474528713091521,
          "variable": "FUNDFAIR"
         },
         {
          "Year": 2246,
          "value": 0.8287301129784324,
          "variable": "FUNDFAIR"
         },
         {
          "Year": 2247,
          "value": 0.8107545938345437,
          "variable": "FUNDFAIR"
         },
         {
          "Year": 2248,
          "value": 0.7934956186888893,
          "variable": "FUNDFAIR"
         },
         {
          "Year": 2249,
          "value": 0.7769238787435171,
          "variable": "FUNDFAIR"
         },
         {
          "Year": 2250,
          "value": 0.7610114800786518,
          "variable": "FUNDFAIR"
         },
         {
          "Year": 2251,
          "value": 0.7457275893594365,
          "variable": "FUNDFAIR"
         },
         {
          "Year": 2252,
          "value": 0.7310511843731764,
          "variable": "FUNDFAIR"
         },
         {
          "Year": 2253,
          "value": 0.7169579975755599,
          "variable": "FUNDFAIR"
         },
         {
          "Year": 2254,
          "value": 0.7034247872007796,
          "variable": "FUNDFAIR"
         },
         {
          "Year": 2255,
          "value": 0.6904294146133488,
          "variable": "FUNDFAIR"
         },
         {
          "Year": 2256,
          "value": 0.6779511074500187,
          "variable": "FUNDFAIR"
         },
         {
          "Year": 2257,
          "value": 0.6659703105594152,
          "variable": "FUNDFAIR"
         },
         {
          "Year": 2258,
          "value": 0.6544684980088111,
          "variable": "FUNDFAIR"
         },
         {
          "Year": 2259,
          "value": 0.6434282218876871,
          "variable": "FUNDFAIR"
         },
         {
          "Year": 2260,
          "value": 0.6328328750873151,
          "variable": "FUNDFAIR"
         },
         {
          "Year": 2261,
          "value": 0.6226666563611785,
          "variable": "FUNDFAIR"
         },
         {
          "Year": 2262,
          "value": 0.6129144665200656,
          "variable": "FUNDFAIR"
         },
         {
          "Year": 2263,
          "value": 0.6035617226143785,
          "variable": "FUNDFAIR"
         },
         {
          "Year": 2264,
          "value": 0.5945944569300137,
          "variable": "FUNDFAIR"
         },
         {
          "Year": 2265,
          "value": 0.5859992585076403,
          "variable": "FUNDFAIR"
         },
         {
          "Year": 2266,
          "value": 0.5777632458722473,
          "variable": "FUNDFAIR"
         },
         {
          "Year": 2267,
          "value": 0.5698742701010806,
          "variable": "FUNDFAIR"
         },
         {
          "Year": 2268,
          "value": 0.5623209301083428,
          "variable": "FUNDFAIR"
         },
         {
          "Year": 2269,
          "value": 0.555092806594491,
          "variable": "FUNDFAIR"
         },
         {
          "Year": 2270,
          "value": 0.5481802358003206,
          "variable": "FUNDFAIR"
         },
         {
          "Year": 2271,
          "value": 0.5415739506766543,
          "variable": "FUNDFAIR"
         },
         {
          "Year": 2272,
          "value": 0.5352650497173057,
          "variable": "FUNDFAIR"
         },
         {
          "Year": 2273,
          "value": 0.5292449691863967,
          "variable": "FUNDFAIR"
         },
         {
          "Year": 2274,
          "value": 0.5235054655592751,
          "variable": "FUNDFAIR"
         },
         {
          "Year": 2275,
          "value": 0.5180385265190189,
          "variable": "FUNDFAIR"
         },
         {
          "Year": 2276,
          "value": 0.5128364558626544,
          "variable": "FUNDFAIR"
         },
         {
          "Year": 2277,
          "value": 0.5078920447026347,
          "variable": "FUNDFAIR"
         },
         {
          "Year": 2278,
          "value": 0.50319870225609,
          "variable": "FUNDFAIR"
         },
         {
          "Year": 2279,
          "value": 0.4987503502502789,
          "variable": "FUNDFAIR"
         },
         {
          "Year": 2280,
          "value": 0.4945413200362158,
          "variable": "FUNDFAIR"
         },
         {
          "Year": 2281,
          "value": 0.4905663678237136,
          "variable": "FUNDFAIR"
         },
         {
          "Year": 2282,
          "value": 0.48682050257851356,
          "variable": "FUNDFAIR"
         },
         {
          "Year": 2283,
          "value": 0.4832988882814423,
          "variable": "FUNDFAIR"
         },
         {
          "Year": 2284,
          "value": 0.4799969321575012,
          "variable": "FUNDFAIR"
         },
         {
          "Year": 2285,
          "value": 0.4769102474436924,
          "variable": "FUNDFAIR"
         },
         {
          "Year": 2286,
          "value": 0.47403457997411796,
          "variable": "FUNDFAIR"
         },
         {
          "Year": 2287,
          "value": 0.47136592107500996,
          "variable": "FUNDFAIR"
         },
         {
          "Year": 2288,
          "value": 0.46890073901433144,
          "variable": "FUNDFAIR"
         },
         {
          "Year": 2289,
          "value": 0.4666359895247758,
          "variable": "FUNDFAIR"
         },
         {
          "Year": 2290,
          "value": 0.46456914001500615,
          "variable": "FUNDFAIR"
         },
         {
          "Year": 2291,
          "value": 0.4626978554679497,
          "variable": "FUNDFAIR"
         },
         {
          "Year": 2292,
          "value": 0.4610198935319186,
          "variable": "FUNDFAIR"
         },
         {
          "Year": 2293,
          "value": 0.4595332638655608,
          "variable": "FUNDFAIR"
         },
         {
          "Year": 2294,
          "value": 0.4582361233404065,
          "variable": "FUNDFAIR"
         },
         {
          "Year": 2295,
          "value": 0.4571267205552842,
          "variable": "FUNDFAIR"
         },
         {
          "Year": 2296,
          "value": 0.45620335296259756,
          "variable": "FUNDFAIR"
         },
         {
          "Year": 2297,
          "value": 0.4554645188164306,
          "variable": "FUNDFAIR"
         },
         {
          "Year": 2298,
          "value": 0.4549090181652962,
          "variable": "FUNDFAIR"
         },
         {
          "Year": 2299,
          "value": 0.45453606579159844,
          "variable": "FUNDFAIR"
         },
         {
          "Year": 2300,
          "value": 0.4543453622681122,
          "variable": "FUNDFAIR"
         }
        ]
       },
       "encoding": {
        "color": {
         "field": "variable",
         "type": "nominal"
        },
        "x": {
         "field": "Year",
         "type": "quantitative"
        },
        "y": {
         "field": "value",
         "type": "quantitative"
        }
       },
       "mark": "line"
      },
      "image/png": "[encoded data removed]",
      "image/svg+xml": "<?xml version=\"1.0\" encoding=\"utf-8\"?>\n<!DOCTYPE svg PUBLIC \"-//W3C//DTD SVG 1.1//EN\" \"http://www.w3.org/Graphics/SVG/1.1/DTD/svg11.dtd\">\n<svg xmlns=\"http://www.w3.org/2000/svg\" xmlns:xlink=\"http://www.w3.org/1999/xlink\" version=\"1.1\" class=\"marks\" width=\"329\" height=\"247\" viewBox=\"0 0 329 247\"><rect width=\"329\" height=\"247\" fill=\"white\"/><g fill=\"none\" stroke-miterlimit=\"10\" transform=\"translate(39,10)\"><g class=\"mark-group role-frame root\" role=\"graphics-object\" aria-roledescription=\"group mark container\"><g transform=\"translate(0,0)\"><path class=\"background\" aria-hidden=\"true\" d=\"M0.5,0.5h200v200h-200Z\" stroke=\"#ddd\"/><g><g class=\"mark-group role-axis\" aria-hidden=\"true\"><g transform=\"translate(0.5,200.5)\"><path class=\"background\" aria-hidden=\"true\" d=\"M0,0h0v0h0Z\" pointer-events=\"none\"/><g><g class=\"mark-rule role-axis-grid\" pointer-events=\"none\"><line transform=\"translate(18,-200)\" x2=\"0\" y2=\"200\" stroke=\"#ddd\" stroke-width=\"1\" opacity=\"1\"/><line transform=\"translate(55,-200)\" x2=\"0\" y2=\"200\" stroke=\"#ddd\" stroke-width=\"1\" opacity=\"1\"/><line transform=\"translate(91,-200)\" x2=\"0\" y2=\"200\" stroke=\"#ddd\" stroke-width=\"1\" opacity=\"1\"/><line transform=\"translate(127,-200)\" x2=\"0\" y2=\"200\" stroke=\"#ddd\" stroke-width=\"1\" opacity=\"1\"/><line transform=\"translate(164,-200)\" x2=\"0\" y2=\"200\" stroke=\"#ddd\" stroke-width=\"1\" opacity=\"1\"/><line transform=\"translate(200,-200)\" x2=\"0\" y2=\"200\" stroke=\"#ddd\" stroke-width=\"1\" opacity=\"1\"/></g></g><path class=\"foreground\" aria-hidden=\"true\" d=\"\" pointer-events=\"none\" display=\"none\"/></g></g><g class=\"mark-group role-axis\" aria-hidden=\"true\"><g transform=\"translate(0.5,0.5)\"><path class=\"background\" aria-hidden=\"true\" d=\"M0,0h0v0h0Z\" pointer-events=\"none\"/><g><g class=\"mark-rule role-axis-grid\" pointer-events=\"none\"><line transform=\"translate(0,200)\" x2=\"200\" y2=\"0\" stroke=\"#ddd\" stroke-width=\"1\" opacity=\"1\"/><line transform=\"translate(0,150)\" x2=\"200\" y2=\"0\" stroke=\"#ddd\" stroke-width=\"1\" opacity=\"1\"/><line transform=\"translate(0,100)\" x2=\"200\" y2=\"0\" stroke=\"#ddd\" stroke-width=\"1\" opacity=\"1\"/><line transform=\"translate(0,50)\" x2=\"200\" y2=\"0\" stroke=\"#ddd\" stroke-width=\"1\" opacity=\"1\"/><line transform=\"translate(0,0)\" x2=\"200\" y2=\"0\" stroke=\"#ddd\" stroke-width=\"1\" opacity=\"1\"/></g></g><path class=\"foreground\" aria-hidden=\"true\" d=\"\" pointer-events=\"none\" display=\"none\"/></g></g><g class=\"mark-group role-axis\" role=\"graphics-symbol\" aria-roledescription=\"axis\" aria-label=\"X-axis titled 'Year' for a linear scale with values from 1,750 to 2,300\"><g transform=\"translate(0.5,200.5)\"><path class=\"background\" aria-hidden=\"true\" d=\"M0,0h0v0h0Z\" pointer-events=\"none\"/><g><g class=\"mark-rule role-axis-tick\" pointer-events=\"none\"><line transform=\"translate(18,0)\" x2=\"0\" y2=\"5\" stroke=\"#888\" stroke-width=\"1\" opacity=\"1\"/><line transform=\"translate(55,0)\" x2=\"0\" y2=\"5\" stroke=\"#888\" stroke-width=\"1\" opacity=\"1\"/><line transform=\"translate(91,0)\" x2=\"0\" y2=\"5\" stroke=\"#888\" stroke-width=\"1\" opacity=\"1\"/><line transform=\"translate(127,0)\" x2=\"0\" y2=\"5\" stroke=\"#888\" stroke-width=\"1\" opacity=\"1\"/><line transform=\"translate(164,0)\" x2=\"0\" y2=\"5\" stroke=\"#888\" stroke-width=\"1\" opacity=\"1\"/><line transform=\"translate(200,0)\" x2=\"0\" y2=\"5\" stroke=\"#888\" stroke-width=\"1\" opacity=\"1\"/></g><g class=\"mark-text role-axis-label\" pointer-events=\"none\"><text text-anchor=\"middle\" transform=\"translate(18.181818181818183,15)\" font-family=\"sans-serif\" font-size=\"10px\" fill=\"#000\" opacity=\"1\">1,800</text><text text-anchor=\"middle\" transform=\"translate(54.54545454545454,15)\" font-family=\"sans-serif\" font-size=\"10px\" fill=\"#000\" opacity=\"0\">1,900</text><text text-anchor=\"middle\" transform=\"translate(90.9090909090909,15)\" font-family=\"sans-serif\" font-size=\"10px\" fill=\"#000\" opacity=\"1\">2,000</text><text text-anchor=\"middle\" transform=\"translate(127.27272727272727,15)\" font-family=\"sans-serif\" font-size=\"10px\" fill=\"#000\" opacity=\"0\">2,100</text><text text-anchor=\"middle\" transform=\"translate(163.63636363636365,15)\" font-family=\"sans-serif\" font-size=\"10px\" fill=\"#000\" opacity=\"1\">2,200</text><text text-anchor=\"end\" transform=\"translate(200,15)\" font-family=\"sans-serif\" font-size=\"10px\" fill=\"#000\" opacity=\"0\">2,300</text></g><g class=\"mark-rule role-axis-domain\" pointer-events=\"none\"><line transform=\"translate(0,0)\" x2=\"200\" y2=\"0\" stroke=\"#888\" stroke-width=\"1\" opacity=\"1\"/></g><g class=\"mark-text role-axis-title\" pointer-events=\"none\"><text text-anchor=\"middle\" transform=\"translate(100,30)\" font-family=\"sans-serif\" font-size=\"11px\" font-weight=\"bold\" fill=\"#000\" opacity=\"1\">Year</text></g></g><path class=\"foreground\" aria-hidden=\"true\" d=\"\" pointer-events=\"none\" display=\"none\"/></g></g><g class=\"mark-group role-axis\" role=\"graphics-symbol\" aria-roledescription=\"axis\" aria-label=\"Y-axis titled 'value' for a linear scale with values from 0 to 40\"><g transform=\"translate(0.5,0.5)\"><path class=\"background\" aria-hidden=\"true\" d=\"M0,0h0v0h0Z\" pointer-events=\"none\"/><g><g class=\"mark-rule role-axis-tick\" pointer-events=\"none\"><line transform=\"translate(0,200)\" x2=\"-5\" y2=\"0\" stroke=\"#888\" stroke-width=\"1\" opacity=\"1\"/><line transform=\"translate(0,150)\" x2=\"-5\" y2=\"0\" stroke=\"#888\" stroke-width=\"1\" opacity=\"1\"/><line transform=\"translate(0,100)\" x2=\"-5\" y2=\"0\" stroke=\"#888\" stroke-width=\"1\" opacity=\"1\"/><line transform=\"translate(0,50)\" x2=\"-5\" y2=\"0\" stroke=\"#888\" stroke-width=\"1\" opacity=\"1\"/><line transform=\"translate(0,0)\" x2=\"-5\" y2=\"0\" stroke=\"#888\" stroke-width=\"1\" opacity=\"1\"/></g><g class=\"mark-text role-axis-label\" pointer-events=\"none\"><text text-anchor=\"end\" transform=\"translate(-7,203)\" font-family=\"sans-serif\" font-size=\"10px\" fill=\"#000\" opacity=\"1\">0</text><text text-anchor=\"end\" transform=\"translate(-7,153)\" font-family=\"sans-serif\" font-size=\"10px\" fill=\"#000\" opacity=\"1\">10</text><text text-anchor=\"end\" transform=\"translate(-7,103)\" font-family=\"sans-serif\" font-size=\"10px\" fill=\"#000\" opacity=\"1\">20</text><text text-anchor=\"end\" transform=\"translate(-7,53)\" font-family=\"sans-serif\" font-size=\"10px\" fill=\"#000\" opacity=\"1\">30</text><text text-anchor=\"end\" transform=\"translate(-7,3)\" font-family=\"sans-serif\" font-size=\"10px\" fill=\"#000\" opacity=\"1\">40</text></g><g class=\"mark-rule role-axis-domain\" pointer-events=\"none\"><line transform=\"translate(0,200)\" x2=\"0\" y2=\"-200\" stroke=\"#888\" stroke-width=\"1\" opacity=\"1\"/></g><g class=\"mark-text role-axis-title\" pointer-events=\"none\"><text text-anchor=\"middle\" transform=\"translate(-23,100) rotate(-90) translate(0,-2)\" font-family=\"sans-serif\" font-size=\"11px\" font-weight=\"bold\" fill=\"#000\" opacity=\"1\">value</text></g></g><path class=\"foreground\" aria-hidden=\"true\" d=\"\" pointer-events=\"none\" display=\"none\"/></g></g><g class=\"mark-group role-scope pathgroup\" role=\"graphics-object\" aria-roledescription=\"group mark container\"><g transform=\"translate(0,0)\"><path class=\"background\" aria-hidden=\"true\" d=\"M0,0h200v200h-200Z\"/><g><g class=\"mark-line role-mark marks\" role=\"graphics-object\" aria-roledescription=\"line mark container\"><path aria-label=\"Year: 1750; value: 0.083719153; variable: FAIR\" role=\"graphics-symbol\" aria-roledescription=\"line mark\" d=\"M0,199.58140423499998L0.36363636363636365,199.57394127999999L0.7272727272727273,199.566335995L1.090909090909091,199.558595935L1.4545454545454546,199.55070845L1.8181818181818181,199.542675955L2.181818181818182,199.53361392L2.5454545454545454,199.525283365L2.909090909090909,199.516799655L3.272727272727273,199.50815997L3.6363636363636362,199.49936648L4,199.48909594L4.363636363636364,199.47997088L4.7272727272727275,199.47067804L5.090909090909091,199.46121434L5.454545454545454,199.45157663999998L5.818181818181818,199.440018145L6.181818181818182,199.430022775L6.545454545454546,199.41984362L6.909090909090909,199.409477305L7.2727272727272725,199.39892038L7.636363636363637,199.386335005L8,199.37538625L8.363636363636363,199.364236175L8.727272727272728,199.352881065L9.090909090909092,199.34131716000002L9.454545454545455,199.327605525L9.818181818181818,199.31561243L10.181818181818182,199.30339879500002L10.545454545454545,199.290960565L10.909090909090908,199.278288575L11.272727272727273,199.262934525L11.636363636363637,199.24979739L12,199.23641363L12.363636363636363,199.22278888L12.727272727272727,199.20890312L13.090909090909092,199.191638225L13.454545454545455,199.177242865L13.818181818181818,199.162587905L14.181818181818182,199.14765841L14.545454545454545,199.13245444L14.909090909090908,199.11389696499998L15.272727272727273,199.09724686500002L15.636363636363637,199.081168135L16,199.06488879L16.363636363636363,199.048227955L16.727272727272727,199.02977713L17.09090909090909,199.0109356L17.454545454545457,198.99196748L17.81818181818182,198.97220443999998L18.181818181818183,198.95152326000002L18.545454545454547,198.9332605L18.90909090909091,198.902736885L19.272727272727273,198.890240435L19.636363636363637,198.86662399L20,198.84772198000002L20.363636363636363,198.8252098L20.727272727272727,198.80108050500002L21.09090909090909,198.783409535L21.454545454545453,198.76188426000002L21.818181818181817,198.7369138L22.181818181818183,198.71162463000002L22.545454545454547,198.687030935L22.90909090909091,198.663658025L23.272727272727273,198.638853295L23.636363636363637,198.61293720999998L24,198.582092735L24.363636363636363,198.554301645L24.727272727272727,198.52856578L25.09090909090909,198.502457075L25.454545454545453,198.47512678L25.818181818181817,198.44726548L26.181818181818183,198.417183505L26.545454545454543,198.38493434L26.90909090909091,198.35438327L27.27272727272727,198.322019515L27.636363636363637,198.29193543000002L28.000000000000004,198.25582548L28.363636363636363,198.224527475L28.72727272727273,198.19439671L29.09090909090909,198.131565905L29.454545454545457,198.10584818L29.818181818181817,198.07304766000001L30.181818181818183,198.037072525L30.545454545454547,198.00080945L30.909090909090907,197.96344748L31.272727272727273,197.90857897L31.636363636363633,197.872592615L32,197.831005995L32.36363636363636,197.788780965L32.72727272727273,197.73982395000002L33.09090909090909,197.69603874999999L33.45454545454545,197.646645805L33.81818181818182,197.60266959499998L34.18181818181818,197.55003276L34.54545454545455,197.48890971L34.909090909090914,197.444713685L35.27272727272727,197.385440505L35.63636363636364,197.343436565L36,197.29023206L36.36363636363637,197.23221145L36.72727272727273,197.27056045L37.09090909090909,196.98018852500002L37.45454545454546,196.97891337L37.81818181818182,196.93867778L38.18181818181819,196.950253505L38.54545454545455,196.8972751L38.90909090909091,196.86712398L39.27272727272727,196.838090525L39.63636363636363,196.77576622499998L40,196.713433905L40.36363636363636,196.63437472L40.72727272727273,196.927750775L41.090909090909086,196.89876485L41.45454545454545,196.860869465L41.81818181818181,196.82598969L42.18181818181818,196.80631076999998L42.54545454545455,196.77466183L42.90909090909091,196.76683484999998L43.27272727272727,196.73666523L43.63636363636363,196.725253025L44,196.58174931000002L44.36363636363637,196.079453975L44.72727272727273,195.97597196L45.09090909090909,195.98507491499998L45.45454545454545,195.884590735L45.81818181818182,195.83263199L46.18181818181818,195.779959845L46.54545454545455,195.74076704L46.909090909090914,195.643685925L47.27272727272727,195.48175057L47.63636363636364,195.26362296L48,195.446121275L48.36363636363637,195.341079425L48.72727272727273,195.315171425L49.09090909090909,195.276328315L49.45454545454545,195.251571985L49.81818181818182,195.18862138L50.18181818181818,195.050179945L50.54545454545455,195.05077336L50.90909090909091,194.93782274L51.272727272727266,194.87877649L51.63636363636363,194.79376751499998L52,194.815224005L52.36363636363637,194.669700255L52.72727272727272,194.54002265999998L53.090909090909086,194.46777407L53.45454545454545,194.364117735L53.81818181818182,194.245083135L54.18181818181819,194.044241985L54.54545454545454,193.91004893L54.90909090909091,193.49698017L55.27272727272727,193.40587676L55.63636363636364,193.024098025L56.00000000000001,192.84807247999998L56.36363636363636,192.52759438L56.72727272727273,192.21360669L57.09090909090909,191.75543055L57.45454545454546,191.82689699L57.81818181818181,191.660967375L58.18181818181818,191.448589085L58.54545454545455,191.66295996L58.909090909090914,191.651028525L59.27272727272728,191.4557649L59.63636363636363,191.90142774L60,192.00287755L60.36363636363637,191.6798363L60.72727272727273,191.508309515L61.09090909090909,191.53797029499998L61.45454545454545,192.044722535L61.81818181818181,191.422304645L62.18181818181818,191.729335395L62.54545454545455,191.518809615L62.909090909090914,190.90029666499998L63.272727272727266,190.81545126999998L63.63636363636363,190.732883695L64,190.773181615L64.36363636363637,190.07202788L64.72727272727272,190.03385769000002L65.0909090909091,189.493926545L65.45454545454545,189.527908475L65.81818181818181,189.997050935L66.18181818181819,190.929198935L66.54545454545455,190.729347545L66.9090909090909,190.402226865L67.27272727272727,190.159556635L67.63636363636364,189.619109465L68,189.328368205L68.36363636363636,189.66254613499999L68.72727272727272,189.31400623000002L69.0909090909091,188.876949175L69.45454545454545,188.83969331999998L69.81818181818183,188.72501256500001L70.18181818181817,188.531595635L70.54545454545455,188.57576185L70.9090909090909,189.60760372000001L71.27272727272728,188.62110436999998L71.63636363636363,187.68980801499998L72,187.1900832L72.36363636363636,187.27139661L72.72727272727273,186.30272361L73.0909090909091,184.6036032L73.45454545454545,184.292594535L73.81818181818181,184.03692352000002L74.18181818181819,183.519940275L74.54545454545455,182.37764029000002L74.90909090909092,181.324700235L75.27272727272727,180.7003562L75.63636363636364,180.033634L76,179.62563928L76.36363636363637,179.06285439L76.72727272727272,178.596668505L77.0909090909091,178.06770297L77.45454545454545,177.1968396L77.81818181818181,176.45507234L78.18181818181819,175.55752541L78.54545454545455,174.74787168499998L78.9090909090909,173.90665355500002L79.27272727272727,173.10835248L79.63636363636364,171.9905884L80,170.74051343000002L80.36363636363636,170.43891618L80.72727272727272,169.85111067L81.0909090909091,168.54886975L81.45454545454545,168.825398415L81.81818181818183,168.859731785L82.18181818181817,167.44539368L82.54545454545455,166.43770311L82.9090909090909,165.61531046L83.27272727272728,165.10589419500002L83.63636363636363,165.54545799L84,166.059817485L84.36363636363636,166.343418365L84.72727272727273,165.44050854L85.0909090909091,164.620287655L85.45454545454545,164.12854142999998L85.81818181818181,163.449906855L86.18181818181819,162.73385937L86.54545454545455,161.78086998999999L86.9090909090909,161.30718966L87.27272727272727,161.86356480499998L87.63636363636364,160.888742095L88,160.87885410500002L88.36363636363636,161.32282415999998L88.72727272727273,161.304524275L89.0909090909091,160.706474055L89.45454545454545,160.11630013L89.81818181818181,156.237077615L90.18181818181819,159.366095255L90.54545454545455,160.200317915L90.9090909090909,159.55198162L91.27272727272727,160.42953153L91.63636363636364,159.18173369L92,158.39655722999998L92.36363636363636,155.77251103L92.72727272727272,154.431868375L93.0909090909091,152.77472869L93.45454545454545,151.79240981499998L93.81818181818183,153.02107664L94.18181818181817,153.32901207L94.54545454545455,150.726587195L94.9090909090909,149.182687375L95.27272727272728,148.24466563000001L95.63636363636364,147.14175769L96,145.95779811L96.36363636363636,146.609918685L96.72727272727273,145.36638534000002L97.0909090909091,144.122852L97.45454545454545,142.879318645L97.81818181818181,141.63578529L98.18181818181819,140.39225194L98.54545454545455,138.812583605L98.9090909090909,137.23291522L99.27272727272727,135.65324689L99.63636363636364,134.073578505L100,132.493910125L100.36363636363636,130.91424179L100.72727272727273,129.334573405L101.0909090909091,127.754905075L101.45454545454547,126.17523669000002L101.81818181818181,124.59556831L102.18181818181817,122.75750720500001L102.54545454545453,120.91944605L102.9090909090909,119.08138495L103.27272727272727,117.243323795L103.63636363636364,115.40526263999999L104,113.56720154000001L104.36363636363637,111.729140385L104.72727272727273,109.89107928000001L105.09090909090911,108.05301812999998L105.45454545454544,106.214956975L105.81818181818181,104.234613095L106.18181818181817,102.25426926999998L106.54545454545455,100.27392539000002L106.9090909090909,98.29358151499999L107.27272727272728,96.313237635L107.63636363636364,94.33289376L108,92.35254988000001L108.36363636363637,90.372206005L108.72727272727272,88.39186212499999L109.09090909090908,86.41151825000001L109.45454545454545,84.08782923L109.81818181818181,81.76414021000001L110.18181818181819,79.44045114000001L110.54545454545455,77.11676212500001L110.9090909090909,74.79307310499999L111.27272727272728,72.46938408500002L111.63636363636364,70.14569501499999L112.00000000000001,67.82200599499998L112.36363636363636,65.498316975L112.72727272727272,63.174627959999995L113.0909090909091,60.92917659499999L113.45454545454545,58.68372528500001L113.81818181818181,56.43827392L114.18181818181819,54.19282261L114.54545454545455,51.947371245L114.90909090909092,49.70191993499999L115.27272727272728,47.45646857000001L115.63636363636363,45.211017259999984L115.99999999999999,42.96556594500001L116.36363636363636,40.720114585L116.72727272727272,38.968962005000016L117.0909090909091,37.21780937500001L117.45454545454545,35.46665679500003L117.81818181818183,33.715504215L118.18181818181819,31.964351584999974L118.54545454545456,30.213199004999993L118.90909090909092,28.46204642500001L119.27272727272727,26.710893795L119.63636363636363,24.95974121500002L120,23.208588585000033L120.36363636363636,23.081878980000003L120.72727272727273,22.955169374999997L121.0909090909091,22.82845977499999L121.45454545454545,22.70175017L121.81818181818183,22.575040564999995L122.18181818181819,22.448330960000007L122.54545454545453,22.32162135500002L122.9090909090909,22.194911750000013L123.27272727272727,22.068202144999983L123.63636363636363,21.941492539999995L124,22.526346464999982L124.36363636363636,23.11120043500001L124.72727272727273,23.696054409999977L125.0909090909091,24.28090837999999L125.45454545454547,24.865762355000022L125.81818181818183,25.450616324999984L126.18181818181817,26.035470300000018L126.54545454545453,26.620324274999984L126.9090909090909,27.205178244999995L127.27272727272727,27.790032220000004L127.63636363636364,28.910274690000005L128,30.030517215000007L128.36363636363637,31.150759689999987L128.72727272727275,32.27100221500003L129.0909090909091,33.39124468499999L129.45454545454544,34.511487210000034L129.8181818181818,35.63172968499999L130.1818181818182,36.75197220500004L130.54545454545453,37.872214729999996L130.9090909090909,38.99245720499997L131.27272727272728,40.11269973L131.63636363636363,41.232942199999975L132,42.353184725000006L132.36363636363637,43.4734272L132.72727272727275,44.593669725000005L133.0909090909091,45.713912195000006L133.45454545454544,46.83415472000001L133.8181818181818,47.95439724499999L134.1818181818182,49.07463971499999L134.54545454545453,50.19488223999999L134.9090909090909,51.315124714999996L135.27272727272728,52.43536724L135.63636363636365,53.55560971L136,54.675852235L136.36363636363635,55.79609471L136.72727272727272,56.916337235L137.0909090909091,58.036579705L137.45454545454544,59.15682223L137.8181818181818,60.27706475500001L138.1818181818182,61.397307225000006L138.54545454545456,62.517549749999986L138.9090909090909,63.63779222500001L139.27272727272728,64.75803475L139.63636363636365,65.87827721999999L140,66.998519745L140.36363636363635,68.11876222L140.72727272727272,69.239004745L141.0909090909091,70.35924726500001L141.45454545454547,71.47948974L141.8181818181818,72.599732265L142.1818181818182,73.71997473500001L142.54545454545456,74.84021726L142.9090909090909,75.960459735L143.27272727272725,77.08070226000001L143.63636363636363,78.20094473L144,79.32118725500001L144.36363636363637,80.44142973000001L144.72727272727272,81.56167225499999L145.0909090909091,82.681914775L145.45454545454547,83.80215725L145.8181818181818,84.96413569999999L146.1818181818182,86.1261141L146.54545454545456,87.28809255L146.9090909090909,88.45007095L147.27272727272725,89.6120494L147.63636363636363,90.77402779999998L148,91.93600625L148.36363636363637,93.09798465000001L148.72727272727272,94.2599631L149.0909090909091,95.42194155000001L149.45454545454547,96.58391995L149.81818181818184,97.74589840000002L150.18181818181816,98.90787680000001L150.54545454545453,100.06985524999999L150.9090909090909,101.23183365L151.27272727272728,102.3938121L151.63636363636363,103.55579049999999L152,104.71776895L152.36363636363637,105.87974739999999L152.72727272727275,107.0417258L153.0909090909091,108.20370425000002L153.45454545454544,109.36568265L153.8181818181818,110.5276611L154.1818181818182,111.6896395L154.54545454545453,112.85161795L154.9090909090909,114.01359635000001L155.27272727272728,115.1755748L155.63636363636363,116.33755320000002L156,117.49953165L156.36363636363637,118.66151009999999L156.72727272727275,119.8234885L157.0909090909091,120.98546694999999L157.45454545454544,122.14744535L157.8181818181818,123.3094238L158.1818181818182,124.47140219999999L158.54545454545453,125.63338065L158.9090909090909,126.79535904999999L159.27272727272728,127.9573375L159.63636363636365,129.11931595000001L160,130.28129435L160.36363636363635,131.4432728L160.72727272727272,132.6052512L161.0909090909091,133.76722965000002L161.45454545454544,134.92920805L161.8181818181818,136.0911865L162.1818181818182,137.2531649L162.54545454545456,138.41514335L162.9090909090909,139.57712175L163.27272727272728,140.7391002L163.63636363636365,141.90107865L164,143.06305705L164.36363636363635,144.22503550000002L164.72727272727272,145.3870139L165.0909090909091,146.54899235000002L165.45454545454547,147.71097075L165.8181818181818,148.8729492L166.1818181818182,150.03492762L166.54545454545456,151.196906045L166.9090909090909,152.358884475L167.27272727272725,153.5208629L167.63636363636363,154.68284133L168,155.844819755L168.36363636363637,157.006798185L168.72727272727272,158.16877661L169.0909090909091,159.33075504L169.45454545454547,160.49273346500001L169.8181818181818,161.654711895L170.1818181818182,162.81669032L170.54545454545456,163.97866875L170.9090909090909,165.140647175L171.27272727272725,166.302625605L171.63636363636363,167.46460402999998L172,168.62658246L172.36363636363637,169.788560885L172.72727272727272,170.950539315L173.0909090909091,172.11251774000002L173.45454545454547,173.27449617L173.8181818181818,174.436474595L174.18181818181816,175.598453025L174.54545454545453,176.76043145L174.9090909090909,177.92240988L175.27272727272728,179.084388305L175.63636363636363,180.246366735L176,181.40834515999998L176.36363636363637,182.57032359000002L176.72727272727272,183.732302015L177.0909090909091,184.894280445L177.45454545454547,186.05625887L177.8181818181818,187.2182373L178.1818181818182,188.380215725L178.54545454545453,189.542194155L178.9090909090909,190.70417258L179.27272727272728,191.86615101L179.63636363636363,193.028129435L180,194.190107865L180.36363636363637,195.35208629000002L180.72727272727275,196.51406472L181.0909090909091,197.676043145L181.45454545454544,198.838021575L181.8181818181818,200L182.1818181818182,200L182.54545454545453,200L182.9090909090909,200L183.27272727272728,200L183.63636363636365,200L184,200L184.36363636363637,200L184.72727272727272,200L185.0909090909091,200L185.45454545454544,200L185.8181818181818,200L186.1818181818182,200L186.54545454545456,200L186.9090909090909,200L187.27272727272728,200L187.63636363636365,200L188,200L188.36363636363635,200L188.72727272727272,200L189.0909090909091,200L189.45454545454544,200L189.8181818181818,200L190.1818181818182,200L190.54545454545456,200L190.9090909090909,200L191.27272727272728,200L191.63636363636363,200L192,200L192.36363636363635,200L192.72727272727272,200L193.0909090909091,200L193.45454545454547,200L193.8181818181818,200L194.1818181818182,200L194.54545454545456,200L194.9090909090909,200L195.27272727272725,200L195.63636363636363,200L196,200L196.36363636363637,200L196.72727272727272,200L197.0909090909091,200L197.45454545454547,200L197.8181818181818,200L198.1818181818182,200L198.54545454545453,200L198.9090909090909,200L199.27272727272728,200L199.63636363636363,200L200,200\" stroke=\"#4c78a8\" stroke-width=\"2\"/></g></g><path class=\"foreground\" aria-hidden=\"true\" d=\"\" display=\"none\"/></g><g transform=\"translate(0,0)\"><path class=\"background\" aria-hidden=\"true\" d=\"M0,0h200v200h-200Z\"/><g><g class=\"mark-line role-mark marks\" role=\"graphics-object\" aria-roledescription=\"line mark container\"><path aria-label=\"Year: 1750; value: 0.083719153; variable: FUNDFAIR\" role=\"graphics-symbol\" aria-roledescription=\"line mark\" d=\"M0,199.58140423499998L0.36363636363636365,199.57394127999999L0.7272727272727273,199.566335995L1.090909090909091,199.558595935L1.4545454545454546,199.55070845L1.8181818181818181,199.542675955L2.181818181818182,199.53361392L2.5454545454545454,199.525283365L2.909090909090909,199.516799655L3.272727272727273,199.50815997L3.6363636363636362,199.49936648L4,199.48909594L4.363636363636364,199.47997088L4.7272727272727275,199.47067804L5.090909090909091,199.46121434L5.454545454545454,199.45157663999998L5.818181818181818,199.440018145L6.181818181818182,199.430022775L6.545454545454546,199.41984362L6.909090909090909,199.409477305L7.2727272727272725,199.39892038L7.636363636363637,199.386335005L8,199.37538625L8.363636363636363,199.364236175L8.727272727272728,199.352881065L9.090909090909092,199.34131716000002L9.454545454545455,199.327605525L9.818181818181818,199.31561243L10.181818181818182,199.30339879500002L10.545454545454545,199.290960565L10.909090909090908,199.278288575L11.272727272727273,199.262934525L11.636363636363637,199.24979739L12,199.23641363L12.363636363636363,199.22278888L12.727272727272727,199.20890312L13.090909090909092,199.191638225L13.454545454545455,199.177242865L13.818181818181818,199.162587905L14.181818181818182,199.14765841L14.545454545454545,199.13245444L14.909090909090908,199.11389696499998L15.272727272727273,199.09724686500002L15.636363636363637,199.081168135L16,199.06488879L16.363636363636363,199.048227955L16.727272727272727,199.02977713L17.09090909090909,199.0109356L17.454545454545457,198.99196748L17.81818181818182,198.97220443999998L18.181818181818183,198.95152326000002L18.545454545454547,198.9332605L18.90909090909091,198.902736885L19.272727272727273,198.890240435L19.636363636363637,198.86662399L20,198.84772198000002L20.363636363636363,198.8252098L20.727272727272727,198.80108050500002L21.09090909090909,198.783409535L21.454545454545453,198.76188426000002L21.818181818181817,198.7369138L22.181818181818183,198.71162463000002L22.545454545454547,198.687030935L22.90909090909091,198.663658025L23.272727272727273,198.638853295L23.636363636363637,198.61293720999998L24,198.582092735L24.363636363636363,198.554301645L24.727272727272727,198.52856578L25.09090909090909,198.502457075L25.454545454545453,198.47512678L25.818181818181817,198.44726548L26.181818181818183,198.417183505L26.545454545454543,198.38493434L26.90909090909091,198.35438327L27.27272727272727,198.322019515L27.636363636363637,198.29193543000002L28.000000000000004,198.25582548L28.363636363636363,198.224527475L28.72727272727273,198.19439671L29.09090909090909,198.131565905L29.454545454545457,198.10584818L29.818181818181817,198.07304766000001L30.181818181818183,198.037072525L30.545454545454547,198.00080945L30.909090909090907,197.96344748L31.272727272727273,197.90857897L31.636363636363633,197.872592615L32,197.831005995L32.36363636363636,197.788780965L32.72727272727273,197.73982395000002L33.09090909090909,197.69603874999999L33.45454545454545,197.646645805L33.81818181818182,197.60266959499998L34.18181818181818,197.55003276L34.54545454545455,197.48890971L34.909090909090914,197.444713685L35.27272727272727,197.385440505L35.63636363636364,197.343436565L36,197.29023206L36.36363636363637,197.23221145L36.72727272727273,197.27056045L37.09090909090909,196.98018852500002L37.45454545454546,196.97891337L37.81818181818182,196.93867778L38.18181818181819,196.950253505L38.54545454545455,196.8972751L38.90909090909091,196.86712398L39.27272727272727,196.838090525L39.63636363636363,196.77576622499998L40,196.713433905L40.36363636363636,196.63437472L40.72727272727273,196.927750775L41.090909090909086,196.89876485L41.45454545454545,196.860869465L41.81818181818181,196.82598969L42.18181818181818,196.80631076999998L42.54545454545455,196.77466183L42.90909090909091,196.76683484999998L43.27272727272727,196.73666523L43.63636363636363,196.725253025L44,196.58174931000002L44.36363636363637,196.079453975L44.72727272727273,195.97597196L45.09090909090909,195.98507491499998L45.45454545454545,195.884590735L45.81818181818182,195.83263199L46.18181818181818,195.779959845L46.54545454545455,195.74076704L46.909090909090914,195.643685925L47.27272727272727,195.48175057L47.63636363636364,195.26362296L48,195.446121275L48.36363636363637,195.341079425L48.72727272727273,195.315171425L49.09090909090909,195.276328315L49.45454545454545,195.251571985L49.81818181818182,195.18862138L50.18181818181818,195.050179945L50.54545454545455,195.05077336L50.90909090909091,194.93782274L51.272727272727266,194.87877649L51.63636363636363,194.79376751499998L52,194.815224005L52.36363636363637,194.669700255L52.72727272727272,194.54002265999998L53.090909090909086,194.46777407L53.45454545454545,194.364117735L53.81818181818182,194.245083135L54.18181818181819,194.044241985L54.54545454545454,193.91004893L54.90909090909091,193.49698017L55.27272727272727,193.40587676L55.63636363636364,193.024098025L56.00000000000001,192.84807247999998L56.36363636363636,192.52759438L56.72727272727273,192.21360669L57.09090909090909,191.75543055L57.45454545454546,191.82689699L57.81818181818181,191.660967375L58.18181818181818,191.448589085L58.54545454545455,191.66295996L58.909090909090914,191.651028525L59.27272727272728,191.4557649L59.63636363636363,191.90142774L60,192.00287755L60.36363636363637,191.6798363L60.72727272727273,191.508309515L61.09090909090909,191.53797029499998L61.45454545454545,192.044722535L61.81818181818181,191.422304645L62.18181818181818,191.729335395L62.54545454545455,191.518809615L62.909090909090914,190.90029666499998L63.272727272727266,190.81545126999998L63.63636363636363,190.732883695L64,190.773181615L64.36363636363637,190.07202788L64.72727272727272,190.03385769000002L65.0909090909091,189.493926545L65.45454545454545,189.527908475L65.81818181818181,189.997050935L66.18181818181819,190.929198935L66.54545454545455,190.729347545L66.9090909090909,190.402226865L67.27272727272727,190.159556635L67.63636363636364,189.619109465L68,189.328368205L68.36363636363636,189.66254613499999L68.72727272727272,189.31400623000002L69.0909090909091,188.876949175L69.45454545454545,188.83969331999998L69.81818181818183,188.72501256500001L70.18181818181817,188.531595635L70.54545454545455,188.57576185L70.9090909090909,189.60760372000001L71.27272727272728,188.62110436999998L71.63636363636363,187.68980801499998L72,187.1900832L72.36363636363636,187.27139661L72.72727272727273,186.30272361L73.0909090909091,188.581901429104L73.45454545454545,188.32389641787876L73.81818181818181,188.0493436090711L74.18181818181819,187.7564603280924L74.54545454545455,187.4431594636211L74.90909090909092,187.10698092383385L75.27272727272727,186.7450057992681L75.63636363636364,186.353748693886L76,185.9290224790088L76.36363636363637,185.49008252631293L76.72727272727272,185.05115237549006L77.0909090909091,184.5889707574265L77.45454545454545,184.1019670044193L77.81818181818181,183.588433781054L78.18181818181819,183.0465128605914L78.54545454545455,182.47417927499788L78.9090909090909,181.8692236445526L79.27272727272727,181.2292324693691L79.63636363636364,180.55156613867746L80,180.14652788206425L80.36363636363636,179.76645633039635L80.72727272727272,179.3712675955732L81.0909090909091,178.96018813021436L81.45454545454545,178.53239878122656L81.81818181818183,178.08703182831496L82.18181818181817,177.6231678162593L82.54545454545455,177.139832165846L82.9090909090909,176.6359915471984L83.27272727272728,176.11054999801016L83.63636363636363,176.11501506709251L84,175.94428356507188L84.36363636363636,175.75193353438172L84.72727272727273,175.53647005189913L85.0909090909091,175.29624744515974L85.45454545454545,175.02945444212844L85.81818181818181,174.73409775599146L86.18181818181819,174.40798393643342L86.54545454545455,174.04869930026484L86.9090909090909,173.653587733586L87.27272727272727,172.48375008170422L87.63636363636364,172.31813484979867L88,172.1077568289007L88.36363636363636,171.852130869149L88.72727272727273,171.55077177580452L89.0909090909091,171.23127205670374L89.45454545454545,170.4723959680917L89.81818181818181,169.44105802733094L90.18181818181819,168.49925701611744L90.54545454545455,168.0375926525582L90.9090909090909,167.31811139933214L91.27272727272727,166.1300442966594L91.63636363636364,165.58172945681855L92,165.04566578506848L92.36363636363636,164.52489178867808L92.72727272727272,164.02221925422776L93.0909090909091,163.53963915821603L93.45454545454545,163.07925549363523L93.81818181818183,162.6426663955412L94.18181818181817,162.23201802091322L94.54545454545455,161.84837364320293L94.9090909090909,161.4329526961126L95.27272727272728,161.00184500575224L95.63636363636364,160.55499834663166L96,160.0922222473007L96.36363636363636,159.6129628851855L96.72727272727273,159.1172382613914L97.0909090909091,158.60439737383857L97.45454545454545,158.0742306982825L97.81818181818181,157.52648329886358L98.18181818181819,156.96048812020155L98.54545454545455,156.3759153321832L98.9090909090909,155.77007005744142L99.27272727272727,155.14271472998874L99.63636363636364,154.49302717478886L100,153.82035595064053L100.36363636363636,153.1513578586577L100.72727272727273,152.47515538582067L101.0909090909091,151.79123908602654L101.45454545454547,151.1001056852831L101.81818181818181,150.4015768426727L102.18181818181817,149.70125315834207L102.54545454545453,148.99214187166444L102.9090909090909,148.27434918959437L103.27272727272727,147.54818674080985L103.63636363636364,146.81314307749415L104,146.0695321421012L104.36363636363637,145.31762282441747L104.72727272727273,144.55701266944112L105.09090909090911,143.78802276704943L105.45454545454544,143.01010957457842L105.81818181818181,142.22371674926305L106.18181818181817,141.434494669225L106.54545454545455,140.6422204760615L106.9090909090909,139.8474412737246L107.27272727272728,139.05024800723083L107.63636363636364,138.25122882992034L108,137.45059932718334L108.36363636363637,136.64840347269143L108.72727272727272,135.84531043742803L109.09090909090908,135.04114029537433L109.45454545454545,134.26370432757932L109.81818181818181,133.46997251627792L110.18181818181819,132.65956517227292L110.54545454545455,131.83205418886047L110.9090909090909,130.98722097188892L111.27272727272728,130.12421722918563L111.63636363636364,129.24290249526206L112.00000000000001,128.34288565957925L112.36363636363636,127.42379951142301L112.72727272727272,126.48497596522299L113.0909090909091,125.52565690099038L113.45454545454545,124.54550029220188L113.81818181818181,123.54382069832394L114.18181818181819,122.52023216861228L114.54545454545455,121.4741682644623L114.90909090909092,120.40469267099539L115.27272727272728,119.3113958919203L115.63636363636363,118.19381800915704L115.99999999999999,117.05130891583886L116.36363636363636,115.88340487804211L116.72727272727272,114.68898088813712L117.0909090909091,113.47417313771831L117.45454545454545,112.23870317029878L117.81818181818183,110.98251999703427L118.18181818181819,109.70517767490644L118.54545454545456,108.40622353264368L118.90909090909092,107.1106165780225L119.27272727272727,105.81949655437457L119.63636363636363,104.53371502167388L120,103.25446924138373L120.36363636363636,101.9826508811734L120.72727272727273,100.71598708848074L121.0909090909091,99.45530973822538L121.45454545454545,98.20153753914045L121.81818181818183,96.9551027407691L122.18181818181819,95.71694173155511L122.54545454545453,94.48760743102093L122.9090909090909,93.26807500429175L123.27272727272727,92.05921579388712L123.63636363636363,90.86203915789883L124,89.677113844481L124.36363636363636,88.50336354704848L124.72727272727273,87.34150226045432L125.0909090909091,86.19241509203496L125.45454545454547,85.05661636159827L125.81818181818183,83.93473967281946L126.18181818181817,82.82730531147924L126.54545454545453,81.73494038306896L126.9090909090909,80.65847411022662L127.27272727272727,79.5986122009561L127.63636363636364,78.48897958578533L128,77.4418894035586L128.36363636363637,76.459223207542L128.72727272727275,75.54259029548429L129.0909090909091,74.69367779091928L129.45454545454544,73.94217141631026L129.8181818181818,73.29616319892386L130.1818181818182,72.72192293854687L130.54545454545453,72.22063477542761L130.9090909090909,71.79339856127787L131.27272727272728,71.44123290645436L131.63636363636363,71.16312713742403L132,70.9597841738647L132.36363636363637,70.83164581666801L132.72727272727275,70.7789500880621L133.0909090909091,70.80180219480636L133.45454545454544,70.90020258542515L133.8181818181818,71.07402510674139L134.1818181818182,71.32306094903427L134.54545454545453,71.64699998402209L134.9090909090909,72.04546728492782L135.27272727272728,72.51764435806065L135.63636363636365,73.06295099034656L136,73.68049561967412L136.36363636363635,74.3691942796332L136.72727272727272,75.12783148567091L137.0909090909091,75.95502231961588L137.45454545454544,76.84934139036382L137.8181818181818,77.80930286962379L138.1818181818182,78.83335492906667L138.54545454545456,79.91991166050809L138.9090909090909,81.06738962312177L139.27272727272728,82.27401846808358L139.63636363636365,83.53780383115668L140,84.85660306024923L140.36363636363635,86.22812904741406L140.72727272727272,87.65002824038302L141.0909090909091,89.11996133862267L141.45454545454547,90.63559586375422L141.8181818181818,92.19455820186684L142.1818181818182,93.7944533124325L142.54545454545456,95.43289194064941L142.9090909090909,97.10746468191363L143.27272727272725,98.81566387086187L143.63636363636363,100.55491475344525L144,102.3226147899153L144.36363636363637,104.11611098957385L144.72727272727272,105.93277319602845L145.0909090909091,107.76999844836226L145.45454545454547,109.62519396489729L145.8181818181818,111.49580871171484L146.1818181818182,113.36717886485062L146.54545454545456,115.23764815940969L146.9090909090909,117.10564354223634L147.27272727272725,118.96961450444165L147.63636363636363,120.82796396815385L148,122.6790878811988L148.36363636363637,124.52141840439863L148.72727272727272,126.35342626078622L149.0909090909091,128.1736517188625L149.45454545454547,129.98072451085167L149.81818181818184,131.7733636103581L150.18181818181816,133.5503762958427L150.54545454545453,135.31065405592375L150.9090909090909,137.05313644909864L151.27272727272728,138.77672848558228L151.63636363636363,140.4803572982853L152,142.1629874800953L152.36363636363637,143.82362694605848L152.72727272727275,145.46138240245824L153.0909090909091,147.07544380203007L153.45454545454544,148.66507534452472L153.8181818181818,150.22961393855797L154.1818181818182,151.76847487742472L154.54545454545453,153.2811156756857L154.9090909090909,154.76701877460522L155.27272727272728,156.22569688047773L155.63636363636363,157.656688172071L156,159.0595732512452L156.36363636363637,160.43399956245665L156.72727272727275,161.77967891207467L157.0909090909091,163.09637984871978L157.45454545454544,164.38392493530688L157.8181818181818,165.6421861327189L158.1818181818182,166.87108540603143L158.54545454545453,168.0705938700422L158.9090909090909,169.24073407153318L159.27272727272728,170.38155081517485L159.63636363636365,171.49310902233864L160,172.57551089800742L160.36363636363635,173.62887716544128L160.72727272727272,174.6533563530587L161.0909090909091,175.64914249060607L161.45454545454544,176.61647156047567L161.8181818181818,177.55561358095082L162.1818181818182,178.46686981988614L162.54545454545456,179.35057613513362L162.9090909090909,180.2070933611033L163.27272727272728,181.03679237286704L163.63636363636365,181.8400479927991L164,182.6001992101249L164.36363636363635,183.3203253888063L164.72727272727272,184.00277204276017L165.0909090909091,184.64974092300557L165.45454545454547,185.26329227085435L165.8181818181818,185.84535654088447L166.1818181818182,186.39774353599552L166.54545454545456,186.92215090694586L166.9090909090909,187.42017366348625L167.27272727272725,187.8933074097592L167.63636363636363,188.34295129735648L168,188.77041209555276L168.36363636363637,189.1769128974315L168.72727272727272,189.56359989078044L169.0909090909091,189.9315498996836L169.45454545454547,190.28177444799942L169.8181818181818,190.61522487590202L170.1818181818182,190.93279984120036L170.54545454545456,191.2353463276232L170.9090909090909,191.5236628705544L171.27272727272725,191.7985027184771L171.63636363636363,192.0605730474137L172,192.31053841505056L172.36363636363637,192.54901906035096L172.72727272727272,192.77659360922084L173.0909090909091,192.9943090280008L173.45454545454547,193.20263738417756L173.8181818181818,193.40202787754822L174.18181818181816,193.59290724167204L174.54545454545453,193.7756809409209L174.9090909090909,193.95073549150595L175.27272727272728,194.1184359674748L175.63636363636363,194.27912504065273L176,194.4331264205323L176.36363636363637,194.5807452805352L176.72727272727272,194.72226958916795L177.0909090909091,194.85797202389284L177.45454545454547,194.988112064983L177.8181818181818,195.11293754446316L178.1818181818182,195.2326843379655L178.54545454545453,195.3475773284957L178.9090909090909,195.4578314176779L179.27272727272728,195.56365057081834L179.63636363636363,195.6652256356081L180,195.76273564345422L180.36363636363637,195.85634943510783L180.72727272727275,195.9462270308273L181.0909090909091,196.03252190655556L181.45454545454544,196.11538060628243L181.8181818181818,196.19494259960675L182.1818181818182,196.2713620532028L182.54545454545453,196.3447440781341L182.9090909090909,196.4152100121222L183.27272727272728,196.48287606399612L183.63636363636365,196.54785292693327L184,196.6102444627499L184.36363636363637,196.6701484472029L184.72727272727272,196.72765750995595L185.0909090909091,196.78285889056158L185.45454545454544,196.8358356245634L185.8181818181818,196.8866667181941L186.1818181818182,196.93542766739967L186.54545454545456,196.98219138692812L186.9090909090909,197.02702771534993L187.27272727272728,197.0700037074618L187.63636363636365,197.11118377063877L188,197.1506286494946L188.36363636363635,197.1883953494583L188.72727272727272,197.22453596702755L189.0909090909091,197.2590988209984L189.45454545454544,197.29213024661675L189.8181818181818,197.32367475141348L190.1818181818182,197.35377515406802L190.54545454545456,197.38247267220365L190.9090909090909,197.4098073674049L191.27272727272728,197.4358177206867L191.63636363636363,197.46053977648683L192,197.48400648871956L192.36363636363635,197.50624824874862L192.72727272727272,197.52729339981892L193.0909090909091,197.54716816088143L193.45454545454547,197.56589748710743L193.8181818181818,197.58350555859278L194.1818181818182,197.6000153392125L194.54545454545456,197.61544876278154L194.9090909090909,197.62982710012943L195.27272727272725,197.64317039462495L195.63636363636363,197.65549630492833L196,197.66682005237612L196.36363636363637,197.67715429992495L196.72727272727272,197.68651072266024L197.0909090909091,197.6949005323404L197.45454545454547,197.7023336806722L197.8181818181818,197.70881938329796L198.1818181818182,197.71436639722359L198.54545454545453,197.718983235187L198.9090909090909,197.72267740591784L199.27272727272728,197.72545490917352L199.63636363636363,197.727319671042L200,197.72827318865944\" stroke=\"#f58518\" stroke-width=\"2\"/></g></g><path class=\"foreground\" aria-hidden=\"true\" d=\"\" display=\"none\"/></g></g><g class=\"mark-group role-legend\" role=\"graphics-symbol\" aria-roledescription=\"legend\" aria-label=\"Symbol legend titled 'variable' for stroke color with 2 values: FAIR, FUNDFAIR\"><g transform=\"translate(220,0)\"><path class=\"background\" aria-hidden=\"true\" d=\"M0,0h65v40h-65Z\" pointer-events=\"none\"/><g><g class=\"mark-group role-legend-entry\"><g transform=\"translate(0,16)\"><path class=\"background\" aria-hidden=\"true\" d=\"M0,0h0v0h0Z\" pointer-events=\"none\"/><g><g class=\"mark-group role-scope\" role=\"graphics-object\" aria-roledescription=\"group mark container\"><g transform=\"translate(0,0)\"><path class=\"background\" aria-hidden=\"true\" d=\"M0,0h65v11h-65Z\" pointer-events=\"none\" opacity=\"1\"/><g><g class=\"mark-symbol role-legend-symbol\" pointer-events=\"none\"><path transform=\"translate(6,6)\" d=\"M-5,0L5,0\" stroke=\"#4c78a8\" stroke-width=\"1.5\" opacity=\"1\"/></g><g class=\"mark-text role-legend-label\" pointer-events=\"none\"><text text-anchor=\"start\" transform=\"translate(16,9)\" font-family=\"sans-serif\" font-size=\"10px\" fill=\"#000\" opacity=\"1\">FAIR</text></g></g><path class=\"foreground\" aria-hidden=\"true\" d=\"\" pointer-events=\"none\" display=\"none\"/></g><g transform=\"translate(0,13)\"><path class=\"background\" aria-hidden=\"true\" d=\"M0,0h65v11h-65Z\" pointer-events=\"none\" opacity=\"1\"/><g><g class=\"mark-symbol role-legend-symbol\" pointer-events=\"none\"><path transform=\"translate(6,6)\" d=\"M-5,0L5,0\" stroke=\"#f58518\" stroke-width=\"1.5\" opacity=\"1\"/></g><g class=\"mark-text role-legend-label\" pointer-events=\"none\"><text text-anchor=\"start\" transform=\"translate(16,9)\" font-family=\"sans-serif\" font-size=\"10px\" fill=\"#000\" opacity=\"1\">FUNDFAIR</text></g></g><path class=\"foreground\" aria-hidden=\"true\" d=\"\" pointer-events=\"none\" display=\"none\"/></g></g></g><path class=\"foreground\" aria-hidden=\"true\" d=\"\" pointer-events=\"none\" display=\"none\"/></g></g><g class=\"mark-text role-legend-title\" pointer-events=\"none\"><text text-anchor=\"start\" transform=\"translate(0,9)\" font-family=\"sans-serif\" font-size=\"11px\" font-weight=\"bold\" fill=\"#000\" opacity=\"1\">variable</text></g></g><path class=\"foreground\" aria-hidden=\"true\" d=\"\" pointer-events=\"none\" display=\"none\"/></g></g></g><path class=\"foreground\" aria-hidden=\"true\" d=\"\" display=\"none\"/></g></g></g></svg>\n",
      "text/plain": [
       "@vlplot(\n",
       "    mark=\"line\",\n",
       "    encoding={\n",
       "        x={\n",
       "            field=\"Year\"\n",
       "        },\n",
       "        y={\n",
       "            field=\"value\"\n",
       "        },\n",
       "        color={\n",
       "            field=\"variable\"\n",
       "        }\n",
       "    },\n",
       "    data={\n",
       "        values=...\n",
       "    }\n",
       ")"
      ]
     },
     "execution_count": 26,
     "metadata": {},
     "output_type": "execute_result"
    }
   ],
   "source": [
    "fairvals = mfair[:co2_cycle, :E_co2]\n",
    "fundfairvals =  m[:co2_cycle, :E_co2]\n",
    "\n",
    "df = DataFrame(\n",
    "    :Year => Mimi.time_labels(m),\n",
    "    :FAIR => fairvals, \n",
    "    :FUNDFAIR => fundfairvals)\n",
    "\n",
    "stack(df, [:FAIR, :FUNDFAIR]) |> \n",
    "\n",
    "@vlplot(\n",
    "    :line, \n",
    "    x = :Year,\n",
    "    y = :value,\n",
    "    color = :variable\n",
    ")"
   ]
  },
  {
   "cell_type": "code",
   "execution_count": 25,
   "metadata": {},
   "outputs": [],
   "source": [
    "##### Global Carbon Dioxide Emissions (MtC yr⁻¹)"
   ]
  },
  {
   "cell_type": "code",
   "execution_count": 27,
   "metadata": {},
   "outputs": [
    {
     "data": {
      "application/vnd.vegalite.v4+json": {
       "data": {
        "values": [
         {
          "Year": 1750,
          "value": null,
          "variable": "FUND"
         },
         {
          "Year": 1751,
          "value": null,
          "variable": "FUND"
         },
         {
          "Year": 1752,
          "value": null,
          "variable": "FUND"
         },
         {
          "Year": 1753,
          "value": null,
          "variable": "FUND"
         },
         {
          "Year": 1754,
          "value": null,
          "variable": "FUND"
         },
         {
          "Year": 1755,
          "value": null,
          "variable": "FUND"
         },
         {
          "Year": 1756,
          "value": null,
          "variable": "FUND"
         },
         {
          "Year": 1757,
          "value": null,
          "variable": "FUND"
         },
         {
          "Year": 1758,
          "value": null,
          "variable": "FUND"
         },
         {
          "Year": 1759,
          "value": null,
          "variable": "FUND"
         },
         {
          "Year": 1760,
          "value": null,
          "variable": "FUND"
         },
         {
          "Year": 1761,
          "value": null,
          "variable": "FUND"
         },
         {
          "Year": 1762,
          "value": null,
          "variable": "FUND"
         },
         {
          "Year": 1763,
          "value": null,
          "variable": "FUND"
         },
         {
          "Year": 1764,
          "value": null,
          "variable": "FUND"
         },
         {
          "Year": 1765,
          "value": null,
          "variable": "FUND"
         },
         {
          "Year": 1766,
          "value": null,
          "variable": "FUND"
         },
         {
          "Year": 1767,
          "value": null,
          "variable": "FUND"
         },
         {
          "Year": 1768,
          "value": null,
          "variable": "FUND"
         },
         {
          "Year": 1769,
          "value": null,
          "variable": "FUND"
         },
         {
          "Year": 1770,
          "value": null,
          "variable": "FUND"
         },
         {
          "Year": 1771,
          "value": null,
          "variable": "FUND"
         },
         {
          "Year": 1772,
          "value": null,
          "variable": "FUND"
         },
         {
          "Year": 1773,
          "value": null,
          "variable": "FUND"
         },
         {
          "Year": 1774,
          "value": null,
          "variable": "FUND"
         },
         {
          "Year": 1775,
          "value": null,
          "variable": "FUND"
         },
         {
          "Year": 1776,
          "value": null,
          "variable": "FUND"
         },
         {
          "Year": 1777,
          "value": null,
          "variable": "FUND"
         },
         {
          "Year": 1778,
          "value": null,
          "variable": "FUND"
         },
         {
          "Year": 1779,
          "value": null,
          "variable": "FUND"
         },
         {
          "Year": 1780,
          "value": null,
          "variable": "FUND"
         },
         {
          "Year": 1781,
          "value": null,
          "variable": "FUND"
         },
         {
          "Year": 1782,
          "value": null,
          "variable": "FUND"
         },
         {
          "Year": 1783,
          "value": null,
          "variable": "FUND"
         },
         {
          "Year": 1784,
          "value": null,
          "variable": "FUND"
         },
         {
          "Year": 1785,
          "value": null,
          "variable": "FUND"
         },
         {
          "Year": 1786,
          "value": null,
          "variable": "FUND"
         },
         {
          "Year": 1787,
          "value": null,
          "variable": "FUND"
         },
         {
          "Year": 1788,
          "value": null,
          "variable": "FUND"
         },
         {
          "Year": 1789,
          "value": null,
          "variable": "FUND"
         },
         {
          "Year": 1790,
          "value": null,
          "variable": "FUND"
         },
         {
          "Year": 1791,
          "value": null,
          "variable": "FUND"
         },
         {
          "Year": 1792,
          "value": null,
          "variable": "FUND"
         },
         {
          "Year": 1793,
          "value": null,
          "variable": "FUND"
         },
         {
          "Year": 1794,
          "value": null,
          "variable": "FUND"
         },
         {
          "Year": 1795,
          "value": null,
          "variable": "FUND"
         },
         {
          "Year": 1796,
          "value": null,
          "variable": "FUND"
         },
         {
          "Year": 1797,
          "value": null,
          "variable": "FUND"
         },
         {
          "Year": 1798,
          "value": null,
          "variable": "FUND"
         },
         {
          "Year": 1799,
          "value": null,
          "variable": "FUND"
         },
         {
          "Year": 1800,
          "value": null,
          "variable": "FUND"
         },
         {
          "Year": 1801,
          "value": null,
          "variable": "FUND"
         },
         {
          "Year": 1802,
          "value": null,
          "variable": "FUND"
         },
         {
          "Year": 1803,
          "value": null,
          "variable": "FUND"
         },
         {
          "Year": 1804,
          "value": null,
          "variable": "FUND"
         },
         {
          "Year": 1805,
          "value": null,
          "variable": "FUND"
         },
         {
          "Year": 1806,
          "value": null,
          "variable": "FUND"
         },
         {
          "Year": 1807,
          "value": null,
          "variable": "FUND"
         },
         {
          "Year": 1808,
          "value": null,
          "variable": "FUND"
         },
         {
          "Year": 1809,
          "value": null,
          "variable": "FUND"
         },
         {
          "Year": 1810,
          "value": null,
          "variable": "FUND"
         },
         {
          "Year": 1811,
          "value": null,
          "variable": "FUND"
         },
         {
          "Year": 1812,
          "value": null,
          "variable": "FUND"
         },
         {
          "Year": 1813,
          "value": null,
          "variable": "FUND"
         },
         {
          "Year": 1814,
          "value": null,
          "variable": "FUND"
         },
         {
          "Year": 1815,
          "value": null,
          "variable": "FUND"
         },
         {
          "Year": 1816,
          "value": null,
          "variable": "FUND"
         },
         {
          "Year": 1817,
          "value": null,
          "variable": "FUND"
         },
         {
          "Year": 1818,
          "value": null,
          "variable": "FUND"
         },
         {
          "Year": 1819,
          "value": null,
          "variable": "FUND"
         },
         {
          "Year": 1820,
          "value": null,
          "variable": "FUND"
         },
         {
          "Year": 1821,
          "value": null,
          "variable": "FUND"
         },
         {
          "Year": 1822,
          "value": null,
          "variable": "FUND"
         },
         {
          "Year": 1823,
          "value": null,
          "variable": "FUND"
         },
         {
          "Year": 1824,
          "value": null,
          "variable": "FUND"
         },
         {
          "Year": 1825,
          "value": null,
          "variable": "FUND"
         },
         {
          "Year": 1826,
          "value": null,
          "variable": "FUND"
         },
         {
          "Year": 1827,
          "value": null,
          "variable": "FUND"
         },
         {
          "Year": 1828,
          "value": null,
          "variable": "FUND"
         },
         {
          "Year": 1829,
          "value": null,
          "variable": "FUND"
         },
         {
          "Year": 1830,
          "value": null,
          "variable": "FUND"
         },
         {
          "Year": 1831,
          "value": null,
          "variable": "FUND"
         },
         {
          "Year": 1832,
          "value": null,
          "variable": "FUND"
         },
         {
          "Year": 1833,
          "value": null,
          "variable": "FUND"
         },
         {
          "Year": 1834,
          "value": null,
          "variable": "FUND"
         },
         {
          "Year": 1835,
          "value": null,
          "variable": "FUND"
         },
         {
          "Year": 1836,
          "value": null,
          "variable": "FUND"
         },
         {
          "Year": 1837,
          "value": null,
          "variable": "FUND"
         },
         {
          "Year": 1838,
          "value": null,
          "variable": "FUND"
         },
         {
          "Year": 1839,
          "value": null,
          "variable": "FUND"
         },
         {
          "Year": 1840,
          "value": null,
          "variable": "FUND"
         },
         {
          "Year": 1841,
          "value": null,
          "variable": "FUND"
         },
         {
          "Year": 1842,
          "value": null,
          "variable": "FUND"
         },
         {
          "Year": 1843,
          "value": null,
          "variable": "FUND"
         },
         {
          "Year": 1844,
          "value": null,
          "variable": "FUND"
         },
         {
          "Year": 1845,
          "value": null,
          "variable": "FUND"
         },
         {
          "Year": 1846,
          "value": null,
          "variable": "FUND"
         },
         {
          "Year": 1847,
          "value": null,
          "variable": "FUND"
         },
         {
          "Year": 1848,
          "value": null,
          "variable": "FUND"
         },
         {
          "Year": 1849,
          "value": null,
          "variable": "FUND"
         },
         {
          "Year": 1850,
          "value": null,
          "variable": "FUND"
         },
         {
          "Year": 1851,
          "value": null,
          "variable": "FUND"
         },
         {
          "Year": 1852,
          "value": null,
          "variable": "FUND"
         },
         {
          "Year": 1853,
          "value": null,
          "variable": "FUND"
         },
         {
          "Year": 1854,
          "value": null,
          "variable": "FUND"
         },
         {
          "Year": 1855,
          "value": null,
          "variable": "FUND"
         },
         {
          "Year": 1856,
          "value": null,
          "variable": "FUND"
         },
         {
          "Year": 1857,
          "value": null,
          "variable": "FUND"
         },
         {
          "Year": 1858,
          "value": null,
          "variable": "FUND"
         },
         {
          "Year": 1859,
          "value": null,
          "variable": "FUND"
         },
         {
          "Year": 1860,
          "value": null,
          "variable": "FUND"
         },
         {
          "Year": 1861,
          "value": null,
          "variable": "FUND"
         },
         {
          "Year": 1862,
          "value": null,
          "variable": "FUND"
         },
         {
          "Year": 1863,
          "value": null,
          "variable": "FUND"
         },
         {
          "Year": 1864,
          "value": null,
          "variable": "FUND"
         },
         {
          "Year": 1865,
          "value": null,
          "variable": "FUND"
         },
         {
          "Year": 1866,
          "value": null,
          "variable": "FUND"
         },
         {
          "Year": 1867,
          "value": null,
          "variable": "FUND"
         },
         {
          "Year": 1868,
          "value": null,
          "variable": "FUND"
         },
         {
          "Year": 1869,
          "value": null,
          "variable": "FUND"
         },
         {
          "Year": 1870,
          "value": null,
          "variable": "FUND"
         },
         {
          "Year": 1871,
          "value": null,
          "variable": "FUND"
         },
         {
          "Year": 1872,
          "value": null,
          "variable": "FUND"
         },
         {
          "Year": 1873,
          "value": null,
          "variable": "FUND"
         },
         {
          "Year": 1874,
          "value": null,
          "variable": "FUND"
         },
         {
          "Year": 1875,
          "value": null,
          "variable": "FUND"
         },
         {
          "Year": 1876,
          "value": null,
          "variable": "FUND"
         },
         {
          "Year": 1877,
          "value": null,
          "variable": "FUND"
         },
         {
          "Year": 1878,
          "value": null,
          "variable": "FUND"
         },
         {
          "Year": 1879,
          "value": null,
          "variable": "FUND"
         },
         {
          "Year": 1880,
          "value": null,
          "variable": "FUND"
         },
         {
          "Year": 1881,
          "value": null,
          "variable": "FUND"
         },
         {
          "Year": 1882,
          "value": null,
          "variable": "FUND"
         },
         {
          "Year": 1883,
          "value": null,
          "variable": "FUND"
         },
         {
          "Year": 1884,
          "value": null,
          "variable": "FUND"
         },
         {
          "Year": 1885,
          "value": null,
          "variable": "FUND"
         },
         {
          "Year": 1886,
          "value": null,
          "variable": "FUND"
         },
         {
          "Year": 1887,
          "value": null,
          "variable": "FUND"
         },
         {
          "Year": 1888,
          "value": null,
          "variable": "FUND"
         },
         {
          "Year": 1889,
          "value": null,
          "variable": "FUND"
         },
         {
          "Year": 1890,
          "value": null,
          "variable": "FUND"
         },
         {
          "Year": 1891,
          "value": null,
          "variable": "FUND"
         },
         {
          "Year": 1892,
          "value": null,
          "variable": "FUND"
         },
         {
          "Year": 1893,
          "value": null,
          "variable": "FUND"
         },
         {
          "Year": 1894,
          "value": null,
          "variable": "FUND"
         },
         {
          "Year": 1895,
          "value": null,
          "variable": "FUND"
         },
         {
          "Year": 1896,
          "value": null,
          "variable": "FUND"
         },
         {
          "Year": 1897,
          "value": null,
          "variable": "FUND"
         },
         {
          "Year": 1898,
          "value": null,
          "variable": "FUND"
         },
         {
          "Year": 1899,
          "value": null,
          "variable": "FUND"
         },
         {
          "Year": 1900,
          "value": null,
          "variable": "FUND"
         },
         {
          "Year": 1901,
          "value": null,
          "variable": "FUND"
         },
         {
          "Year": 1902,
          "value": null,
          "variable": "FUND"
         },
         {
          "Year": 1903,
          "value": null,
          "variable": "FUND"
         },
         {
          "Year": 1904,
          "value": null,
          "variable": "FUND"
         },
         {
          "Year": 1905,
          "value": null,
          "variable": "FUND"
         },
         {
          "Year": 1906,
          "value": null,
          "variable": "FUND"
         },
         {
          "Year": 1907,
          "value": null,
          "variable": "FUND"
         },
         {
          "Year": 1908,
          "value": null,
          "variable": "FUND"
         },
         {
          "Year": 1909,
          "value": null,
          "variable": "FUND"
         },
         {
          "Year": 1910,
          "value": null,
          "variable": "FUND"
         },
         {
          "Year": 1911,
          "value": null,
          "variable": "FUND"
         },
         {
          "Year": 1912,
          "value": null,
          "variable": "FUND"
         },
         {
          "Year": 1913,
          "value": null,
          "variable": "FUND"
         },
         {
          "Year": 1914,
          "value": null,
          "variable": "FUND"
         },
         {
          "Year": 1915,
          "value": null,
          "variable": "FUND"
         },
         {
          "Year": 1916,
          "value": null,
          "variable": "FUND"
         },
         {
          "Year": 1917,
          "value": null,
          "variable": "FUND"
         },
         {
          "Year": 1918,
          "value": null,
          "variable": "FUND"
         },
         {
          "Year": 1919,
          "value": null,
          "variable": "FUND"
         },
         {
          "Year": 1920,
          "value": null,
          "variable": "FUND"
         },
         {
          "Year": 1921,
          "value": null,
          "variable": "FUND"
         },
         {
          "Year": 1922,
          "value": null,
          "variable": "FUND"
         },
         {
          "Year": 1923,
          "value": null,
          "variable": "FUND"
         },
         {
          "Year": 1924,
          "value": null,
          "variable": "FUND"
         },
         {
          "Year": 1925,
          "value": null,
          "variable": "FUND"
         },
         {
          "Year": 1926,
          "value": null,
          "variable": "FUND"
         },
         {
          "Year": 1927,
          "value": null,
          "variable": "FUND"
         },
         {
          "Year": 1928,
          "value": null,
          "variable": "FUND"
         },
         {
          "Year": 1929,
          "value": null,
          "variable": "FUND"
         },
         {
          "Year": 1930,
          "value": null,
          "variable": "FUND"
         },
         {
          "Year": 1931,
          "value": null,
          "variable": "FUND"
         },
         {
          "Year": 1932,
          "value": null,
          "variable": "FUND"
         },
         {
          "Year": 1933,
          "value": null,
          "variable": "FUND"
         },
         {
          "Year": 1934,
          "value": null,
          "variable": "FUND"
         },
         {
          "Year": 1935,
          "value": null,
          "variable": "FUND"
         },
         {
          "Year": 1936,
          "value": null,
          "variable": "FUND"
         },
         {
          "Year": 1937,
          "value": null,
          "variable": "FUND"
         },
         {
          "Year": 1938,
          "value": null,
          "variable": "FUND"
         },
         {
          "Year": 1939,
          "value": null,
          "variable": "FUND"
         },
         {
          "Year": 1940,
          "value": null,
          "variable": "FUND"
         },
         {
          "Year": 1941,
          "value": null,
          "variable": "FUND"
         },
         {
          "Year": 1942,
          "value": null,
          "variable": "FUND"
         },
         {
          "Year": 1943,
          "value": null,
          "variable": "FUND"
         },
         {
          "Year": 1944,
          "value": null,
          "variable": "FUND"
         },
         {
          "Year": 1945,
          "value": null,
          "variable": "FUND"
         },
         {
          "Year": 1946,
          "value": null,
          "variable": "FUND"
         },
         {
          "Year": 1947,
          "value": null,
          "variable": "FUND"
         },
         {
          "Year": 1948,
          "value": null,
          "variable": "FUND"
         },
         {
          "Year": 1949,
          "value": null,
          "variable": "FUND"
         },
         {
          "Year": 1950,
          "value": 0,
          "variable": "FUND"
         },
         {
          "Year": 1951,
          "value": 2283.619714179199,
          "variable": "FUND"
         },
         {
          "Year": 1952,
          "value": 4618.840430603448,
          "variable": "FUND"
         },
         {
          "Year": 1953,
          "value": 7008.971708789232,
          "variable": "FUND"
         },
         {
          "Year": 1954,
          "value": 9457.679643170748,
          "variable": "FUND"
         },
         {
          "Year": 1955,
          "value": 11969.04775044653,
          "variable": "FUND"
         },
         {
          "Year": 1956,
          "value": 14547.651565679764,
          "variable": "FUND"
         },
         {
          "Year": 1957,
          "value": 17198.65040582614,
          "variable": "FUND"
         },
         {
          "Year": 1958,
          "value": 19927.900667048943,
          "variable": "FUND"
         },
         {
          "Year": 1959,
          "value": 22742.096171247184,
          "variable": "FUND"
         },
         {
          "Year": 1960,
          "value": 25644.079665984595,
          "variable": "FUND"
         },
         {
          "Year": 1961,
          "value": 28633.84919088658,
          "variable": "FUND"
         },
         {
          "Year": 1962,
          "value": 31716.055039401283,
          "variable": "FUND"
         },
         {
          "Year": 1963,
          "value": 34895.66163851742,
          "variable": "FUND"
         },
         {
          "Year": 1964,
          "value": 38177.974882306626,
          "variable": "FUND"
         },
         {
          "Year": 1965,
          "value": 41568.67231018835,
          "variable": "FUND"
         },
         {
          "Year": 1966,
          "value": 45073.83645518877,
          "variable": "FUND"
         },
         {
          "Year": 1967,
          "value": 48699.991726278255,
          "variable": "FUND"
         },
         {
          "Year": 1968,
          "value": 52454.14523240444,
          "variable": "FUND"
         },
         {
          "Year": 1969,
          "value": 56343.83200466895,
          "variable": "FUND"
         },
         {
          "Year": 1970,
          "value": 60314.5264282561,
          "variable": "FUND"
         },
         {
          "Year": 1971,
          "value": 64361.235162176825,
          "variable": "FUND"
         },
         {
          "Year": 1972,
          "value": 68486.98164306219,
          "variable": "FUND"
         },
         {
          "Year": 1973,
          "value": 72694.94401701931,
          "variable": "FUND"
         },
         {
          "Year": 1974,
          "value": 76988.464260774,
          "variable": "FUND"
         },
         {
          "Year": 1975,
          "value": 81371.05789511101,
          "variable": "FUND"
         },
         {
          "Year": 1976,
          "value": 85846.42433185915,
          "variable": "FUND"
         },
         {
          "Year": 1977,
          "value": 90418.45789868994,
          "variable": "FUND"
         },
         {
          "Year": 1978,
          "value": 95091.25958925026,
          "variable": "FUND"
         },
         {
          "Year": 1979,
          "value": 99869.14958964824,
          "variable": "FUND"
         },
         {
          "Year": 1980,
          "value": 104646.14657622973,
          "variable": "FUND"
         },
         {
          "Year": 1981,
          "value": 109457.28986321535,
          "variable": "FUND"
         },
         {
          "Year": 1982,
          "value": 114306.903156339,
          "variable": "FUND"
         },
         {
          "Year": 1983,
          "value": 119199.60914595918,
          "variable": "FUND"
         },
         {
          "Year": 1984,
          "value": 124140.35965692723,
          "variable": "FUND"
         },
         {
          "Year": 1985,
          "value": 129134.46876850154,
          "variable": "FUND"
         },
         {
          "Year": 1986,
          "value": 134187.64921730323,
          "variable": "FUND"
         },
         {
          "Year": 1987,
          "value": 139306.05243001654,
          "variable": "FUND"
         },
         {
          "Year": 1988,
          "value": 144496.31256996357,
          "variable": "FUND"
         },
         {
          "Year": 1989,
          "value": 149765.59502324637,
          "variable": "FUND"
         },
         {
          "Year": 1990,
          "value": 155268.91368511732,
          "variable": "FUND"
         },
         {
          "Year": 1991,
          "value": 160805.42976724388,
          "variable": "FUND"
         },
         {
          "Year": 1992,
          "value": 166384.07740085616,
          "variable": "FUND"
         },
         {
          "Year": 1993,
          "value": 172013.87276727785,
          "variable": "FUND"
         },
         {
          "Year": 1994,
          "value": 177703.95187168338,
          "variable": "FUND"
         },
         {
          "Year": 1995,
          "value": 183457.93683407,
          "variable": "FUND"
         },
         {
          "Year": 1996,
          "value": 189363.74954128114,
          "variable": "FUND"
         },
         {
          "Year": 1997,
          "value": 195475.92172667044,
          "variable": "FUND"
         },
         {
          "Year": 1998,
          "value": 201776.5733284695,
          "variable": "FUND"
         },
         {
          "Year": 1999,
          "value": 208169.68493562125,
          "variable": "FUND"
         },
         {
          "Year": 2000,
          "value": 214706.97439207812,
          "variable": "FUND"
         },
         {
          "Year": 2001,
          "value": 221482.19153308307,
          "variable": "FUND"
         },
         {
          "Year": 2002,
          "value": 228367.40176459745,
          "variable": "FUND"
         },
         {
          "Year": 2003,
          "value": 235360.1973584917,
          "variable": "FUND"
         },
         {
          "Year": 2004,
          "value": 242457.5544012884,
          "variable": "FUND"
         },
         {
          "Year": 2005,
          "value": 249655.87661387442,
          "variable": "FUND"
         },
         {
          "Year": 2006,
          "value": 256951.1618832607,
          "variable": "FUND"
         },
         {
          "Year": 2007,
          "value": 264338.9801709333,
          "variable": "FUND"
         },
         {
          "Year": 2008,
          "value": 271814.57948166714,
          "variable": "FUND"
         },
         {
          "Year": 2009,
          "value": 279372.7799957564,
          "variable": "FUND"
         },
         {
          "Year": 2010,
          "value": 287008.18917499913,
          "variable": "FUND"
         },
         {
          "Year": 2011,
          "value": 294727.1947470887,
          "variable": "FUND"
         },
         {
          "Year": 2012,
          "value": 302532.9692654835,
          "variable": "FUND"
         },
         {
          "Year": 2013,
          "value": 310428.7005511574,
          "variable": "FUND"
         },
         {
          "Year": 2014,
          "value": 318417.62280155485,
          "variable": "FUND"
         },
         {
          "Year": 2015,
          "value": 326503.0832236447,
          "variable": "FUND"
         },
         {
          "Year": 2016,
          "value": 334688.4238404786,
          "variable": "FUND"
         },
         {
          "Year": 2017,
          "value": 342977.11606558866,
          "variable": "FUND"
         },
         {
          "Year": 2018,
          "value": 351372.676966953,
          "variable": "FUND"
         },
         {
          "Year": 2019,
          "value": 359878.6783505126,
          "variable": "FUND"
         },
         {
          "Year": 2020,
          "value": 368498.82783634,
          "variable": "FUND"
         },
         {
          "Year": 2021,
          "value": 377236.9023588626,
          "variable": "FUND"
         },
         {
          "Year": 2022,
          "value": 386097.22223156947,
          "variable": "FUND"
         },
         {
          "Year": 2023,
          "value": 395084.1623485255,
          "variable": "FUND"
         },
         {
          "Year": 2024,
          "value": 404202.2673984928,
          "variable": "FUND"
         },
         {
          "Year": 2025,
          "value": 413456.2134481827,
          "variable": "FUND"
         },
         {
          "Year": 2026,
          "value": 422845.3310310343,
          "variable": "FUND"
         },
         {
          "Year": 2027,
          "value": 432371.1127935122,
          "variable": "FUND"
         },
         {
          "Year": 2028,
          "value": 442035.1449894105,
          "variable": "FUND"
         },
         {
          "Year": 2029,
          "value": 451838.90942028625,
          "variable": "FUND"
         },
         {
          "Year": 2030,
          "value": 461783.92062970076,
          "variable": "FUND"
         },
         {
          "Year": 2031,
          "value": 471870.5702338529,
          "variable": "FUND"
         },
         {
          "Year": 2032,
          "value": 482100.65348204144,
          "variable": "FUND"
         },
         {
          "Year": 2033,
          "value": 492475.9483460483,
          "variable": "FUND"
         },
         {
          "Year": 2034,
          "value": 502998.17818461487,
          "variable": "FUND"
         },
         {
          "Year": 2035,
          "value": 513669.181522452,
          "variable": "FUND"
         },
         {
          "Year": 2036,
          "value": 524490.7415662385,
          "variable": "FUND"
         },
         {
          "Year": 2037,
          "value": 535464.5912288565,
          "variable": "FUND"
         },
         {
          "Year": 2038,
          "value": 546592.5432997663,
          "variable": "FUND"
         },
         {
          "Year": 2039,
          "value": 557876.3426396068,
          "variable": "FUND"
         },
         {
          "Year": 2040,
          "value": 569317.8388269412,
          "variable": "FUND"
         },
         {
          "Year": 2041,
          "value": 580918.7848373267,
          "variable": "FUND"
         },
         {
          "Year": 2042,
          "value": 592679.7936912187,
          "variable": "FUND"
         },
         {
          "Year": 2043,
          "value": 604601.521724683,
          "variable": "FUND"
         },
         {
          "Year": 2044,
          "value": 616684.5180029084,
          "variable": "FUND"
         },
         {
          "Year": 2045,
          "value": 628929.3192113745,
          "variable": "FUND"
         },
         {
          "Year": 2046,
          "value": 641336.3551349184,
          "variable": "FUND"
         },
         {
          "Year": 2047,
          "value": 653906.023858352,
          "variable": "FUND"
         },
         {
          "Year": 2048,
          "value": 666638.722891955,
          "variable": "FUND"
         },
         {
          "Year": 2049,
          "value": 679534.716571405,
          "variable": "FUND"
         },
         {
          "Year": 2050,
          "value": 692594.2952265905,
          "variable": "FUND"
         },
         {
          "Year": 2051,
          "value": 705812.1617330144,
          "variable": "FUND"
         },
         {
          "Year": 2052,
          "value": 719191.6445993636,
          "variable": "FUND"
         },
         {
          "Year": 2053,
          "value": 732736.1423442409,
          "variable": "FUND"
         },
         {
          "Year": 2054,
          "value": 746449.135753474,
          "variable": "FUND"
         },
         {
          "Year": 2055,
          "value": 760334.1511379615,
          "variable": "FUND"
         },
         {
          "Year": 2056,
          "value": 774394.894298718,
          "variable": "FUND"
         },
         {
          "Year": 2057,
          "value": 788635.1124342319,
          "variable": "FUND"
         },
         {
          "Year": 2058,
          "value": 803058.6360755016,
          "variable": "FUND"
         },
         {
          "Year": 2059,
          "value": 817669.368376388,
          "variable": "FUND"
         },
         {
          "Year": 2060,
          "value": 832471.34600037,
          "variable": "FUND"
         },
         {
          "Year": 2061,
          "value": 847468.7502850248,
          "variable": "FUND"
         },
         {
          "Year": 2062,
          "value": 862665.8196689611,
          "variable": "FUND"
         },
         {
          "Year": 2063,
          "value": 878066.9222112516,
          "variable": "FUND"
         },
         {
          "Year": 2064,
          "value": 893676.5011634813,
          "variable": "FUND"
         },
         {
          "Year": 2065,
          "value": 909499.1149580551,
          "variable": "FUND"
         },
         {
          "Year": 2066,
          "value": 925539.5148992534,
          "variable": "FUND"
         },
         {
          "Year": 2067,
          "value": 941802.5481968728,
          "variable": "FUND"
         },
         {
          "Year": 2068,
          "value": 958293.1712029342,
          "variable": "FUND"
         },
         {
          "Year": 2069,
          "value": 975016.4804884042,
          "variable": "FUND"
         },
         {
          "Year": 2070,
          "value": 991977.6636346176,
          "variable": "FUND"
         },
         {
          "Year": 2071,
          "value": 1009182.1227527399,
          "variable": "FUND"
         },
         {
          "Year": 2072,
          "value": 1026634.0124331415,
          "variable": "FUND"
         },
         {
          "Year": 2073,
          "value": 1044337.5326971452,
          "variable": "FUND"
         },
         {
          "Year": 2074,
          "value": 1062296.8901325862,
          "variable": "FUND"
         },
         {
          "Year": 2075,
          "value": 1080516.376499186,
          "variable": "FUND"
         },
         {
          "Year": 2076,
          "value": 1099000.3721141946,
          "variable": "FUND"
         },
         {
          "Year": 2077,
          "value": 1117748.2089443982,
          "variable": "FUND"
         },
         {
          "Year": 2078,
          "value": 1136758.9902964039,
          "variable": "FUND"
         },
         {
          "Year": 2079,
          "value": 1156031.6554688637,
          "variable": "FUND"
         },
         {
          "Year": 2080,
          "value": 1175564.9146160344,
          "variable": "FUND"
         },
         {
          "Year": 2081,
          "value": 1195357.3047024289,
          "variable": "FUND"
         },
         {
          "Year": 2082,
          "value": 1215407.813476916,
          "variable": "FUND"
         },
         {
          "Year": 2083,
          "value": 1235715.250912528,
          "variable": "FUND"
         },
         {
          "Year": 2084,
          "value": 1256278.2245296356,
          "variable": "FUND"
         },
         {
          "Year": 2085,
          "value": 1277095.2377314675,
          "variable": "FUND"
         },
         {
          "Year": 2086,
          "value": 1298164.5864187025,
          "variable": "FUND"
         },
         {
          "Year": 2087,
          "value": 1319484.4356340468,
          "variable": "FUND"
         },
         {
          "Year": 2088,
          "value": 1341052.746061979,
          "variable": "FUND"
         },
         {
          "Year": 2089,
          "value": 1362867.299854246,
          "variable": "FUND"
         },
         {
          "Year": 2090,
          "value": 1384925.6817694586,
          "variable": "FUND"
         },
         {
          "Year": 2091,
          "value": 1407225.376323613,
          "variable": "FUND"
         },
         {
          "Year": 2092,
          "value": 1429764.0978799036,
          "variable": "FUND"
         },
         {
          "Year": 2093,
          "value": 1452539.4270063208,
          "variable": "FUND"
         },
         {
          "Year": 2094,
          "value": 1475548.7570137756,
          "variable": "FUND"
         },
         {
          "Year": 2095,
          "value": 1498789.3475838494,
          "variable": "FUND"
         },
         {
          "Year": 2096,
          "value": 1522258.3023475886,
          "variable": "FUND"
         },
         {
          "Year": 2097,
          "value": 1545952.5967661864,
          "variable": "FUND"
         },
         {
          "Year": 2098,
          "value": 1569869.0659568724,
          "variable": "FUND"
         },
         {
          "Year": 2099,
          "value": 1594004.3720490492,
          "variable": "FUND"
         },
         {
          "Year": 2100,
          "value": 1618355.039684265,
          "variable": "FUND"
         },
         {
          "Year": 2101,
          "value": 1642930.753124941,
          "variable": "FUND"
         },
         {
          "Year": 2102,
          "value": 1667718.8063642697,
          "variable": "FUND"
         },
         {
          "Year": 2103,
          "value": 1692706.116115425,
          "variable": "FUND"
         },
         {
          "Year": 2104,
          "value": 1717879.261983733,
          "variable": "FUND"
         },
         {
          "Year": 2105,
          "value": 1743224.4678266046,
          "variable": "FUND"
         },
         {
          "Year": 2106,
          "value": 1768721.994211308,
          "variable": "FUND"
         },
         {
          "Year": 2107,
          "value": 1794350.4619094734,
          "variable": "FUND"
         },
         {
          "Year": 2108,
          "value": 1820095.226346856,
          "variable": "FUND"
         },
         {
          "Year": 2109,
          "value": 1845941.4029456764,
          "variable": "FUND"
         },
         {
          "Year": 2110,
          "value": 1871873.8933398963,
          "variable": "FUND"
         },
         {
          "Year": 2111,
          "value": 1897877.412326461,
          "variable": "FUND"
         },
         {
          "Year": 2112,
          "value": 1923936.913101605,
          "variable": "FUND"
         },
         {
          "Year": 2113,
          "value": 1950037.2230381873,
          "variable": "FUND"
         },
         {
          "Year": 2114,
          "value": 1976163.0707700988,
          "variable": "FUND"
         },
         {
          "Year": 2115,
          "value": 2002299.1136558075,
          "variable": "FUND"
         },
         {
          "Year": 2116,
          "value": 2028429.9655329376,
          "variable": "FUND"
         },
         {
          "Year": 2117,
          "value": 2054540.2246752395,
          "variable": "FUND"
         },
         {
          "Year": 2118,
          "value": 2080614.5018723588,
          "variable": "FUND"
         },
         {
          "Year": 2119,
          "value": 2106637.44853355,
          "variable": "FUND"
         },
         {
          "Year": 2120,
          "value": 2132593.784738083,
          "variable": "FUND"
         },
         {
          "Year": 2121,
          "value": 2158468.327139066,
          "variable": "FUND"
         },
         {
          "Year": 2122,
          "value": 2184246.092373885,
          "variable": "FUND"
         },
         {
          "Year": 2123,
          "value": 2209912.2479448123,
          "variable": "FUND"
         },
         {
          "Year": 2124,
          "value": 2235452.138839366,
          "variable": "FUND"
         },
         {
          "Year": 2125,
          "value": 2260851.3136768057,
          "variable": "FUND"
         },
         {
          "Year": 2126,
          "value": 2286095.5502844127,
          "variable": "FUND"
         },
         {
          "Year": 2127,
          "value": 2311170.8806317016,
          "variable": "FUND"
         },
         {
          "Year": 2128,
          "value": 2336063.615040129,
          "variable": "FUND"
         },
         {
          "Year": 2129,
          "value": 2360760.365601711,
          "variable": "FUND"
         },
         {
          "Year": 2130,
          "value": 2385248.0687359273,
          "variable": "FUND"
         },
         {
          "Year": 2131,
          "value": 2409514.006815088,
          "variable": "FUND"
         },
         {
          "Year": 2132,
          "value": 2433545.828804238,
          "variable": "FUND"
         },
         {
          "Year": 2133,
          "value": 2457331.5698525608,
          "variable": "FUND"
         },
         {
          "Year": 2134,
          "value": 2480859.6697793896,
          "variable": "FUND"
         },
         {
          "Year": 2135,
          "value": 2504118.990414217,
          "variable": "FUND"
         },
         {
          "Year": 2136,
          "value": 2527098.831737178,
          "variable": "FUND"
         },
         {
          "Year": 2137,
          "value": 2549788.946783291,
          "variable": "FUND"
         },
         {
          "Year": 2138,
          "value": 2572179.5552830407,
          "variable": "FUND"
         },
         {
          "Year": 2139,
          "value": 2594261.3560058144,
          "variable": "FUND"
         },
         {
          "Year": 2140,
          "value": 2616025.537785188,
          "variable": "FUND"
         },
         {
          "Year": 2141,
          "value": 2637463.7891973904,
          "variable": "FUND"
         },
         {
          "Year": 2142,
          "value": 2658568.306883438,
          "variable": "FUND"
         },
         {
          "Year": 2143,
          "value": 2679331.8025179165,
          "variable": "FUND"
         },
         {
          "Year": 2144,
          "value": 2699747.508408323,
          "variable": "FUND"
         },
         {
          "Year": 2145,
          "value": 2719809.181732209,
          "variable": "FUND"
         },
         {
          "Year": 2146,
          "value": 2739511.1074242615,
          "variable": "FUND"
         },
         {
          "Year": 2147,
          "value": 2758848.099713191,
          "variable": "FUND"
         },
         {
          "Year": 2148,
          "value": 2777815.5023486703,
          "variable": "FUND"
         },
         {
          "Year": 2149,
          "value": 2796409.187514563,
          "variable": "FUND"
         },
         {
          "Year": 2150,
          "value": 2814625.55346404,
          "variable": "FUND"
         },
         {
          "Year": 2151,
          "value": 2832461.5209102454,
          "variable": "FUND"
         },
         {
          "Year": 2152,
          "value": 2849916.9744131463,
          "variable": "FUND"
         },
         {
          "Year": 2153,
          "value": 2866992.1489451234,
          "variable": "FUND"
         },
         {
          "Year": 2154,
          "value": 2883687.6219975217,
          "variable": "FUND"
         },
         {
          "Year": 2155,
          "value": 2900004.305269632,
          "variable": "FUND"
         },
         {
          "Year": 2156,
          "value": 2915943.435921075,
          "variable": "FUND"
         },
         {
          "Year": 2157,
          "value": 2931506.5674266177,
          "variable": "FUND"
         },
         {
          "Year": 2158,
          "value": 2946695.5600547623,
          "variable": "FUND"
         },
         {
          "Year": 2159,
          "value": 2961512.5710043274,
          "variable": "FUND"
         },
         {
          "Year": 2160,
          "value": 2975960.0442392803,
          "variable": "FUND"
         },
         {
          "Year": 2161,
          "value": 2990040.7000340573,
          "variable": "FUND"
         },
         {
          "Year": 2162,
          "value": 3003757.52427658,
          "variable": "FUND"
         },
         {
          "Year": 2163,
          "value": 3017113.7575552585,
          "variable": "FUND"
         },
         {
          "Year": 2164,
          "value": 3030112.8840591065,
          "variable": "FUND"
         },
         {
          "Year": 2165,
          "value": 3042758.6203237567,
          "variable": "FUND"
         },
         {
          "Year": 2166,
          "value": 3055054.9038551426,
          "variable": "FUND"
         },
         {
          "Year": 2167,
          "value": 3067005.8816556265,
          "variable": "FUND"
         },
         {
          "Year": 2168,
          "value": 3078615.8986874805,
          "variable": "FUND"
         },
         {
          "Year": 2169,
          "value": 3089889.4862970794,
          "variable": "FUND"
         },
         {
          "Year": 2170,
          "value": 3100831.3506311867,
          "variable": "FUND"
         },
         {
          "Year": 2171,
          "value": 3111446.361070941,
          "variable": "FUND"
         },
         {
          "Year": 2172,
          "value": 3121739.5387124736,
          "variable": "FUND"
         },
         {
          "Year": 2173,
          "value": 3131716.044909348,
          "variable": "FUND"
         },
         {
          "Year": 2174,
          "value": 3141381.1699136943,
          "variable": "FUND"
         },
         {
          "Year": 2175,
          "value": 3150740.321632598,
          "variable": "FUND"
         },
         {
          "Year": 2176,
          "value": 3159799.0145253455,
          "variable": "FUND"
         },
         {
          "Year": 2177,
          "value": 3168562.8586582104,
          "variable": "FUND"
         },
         {
          "Year": 2178,
          "value": 3177037.5489399144,
          "variable": "FUND"
         },
         {
          "Year": 2179,
          "value": 3185228.854555664,
          "variable": "FUND"
         },
         {
          "Year": 2180,
          "value": 3193142.608616546,
          "variable": "FUND"
         },
         {
          "Year": 2181,
          "value": 3200784.6980419727,
          "variable": "FUND"
         },
         {
          "Year": 2182,
          "value": 3208161.0536888395,
          "variable": "FUND"
         },
         {
          "Year": 2183,
          "value": 3215277.6407447145,
          "variable": "FUND"
         },
         {
          "Year": 2184,
          "value": 3222140.4493930554,
          "variable": "FUND"
         },
         {
          "Year": 2185,
          "value": 3228755.4857663666,
          "variable": "FUND"
         },
         {
          "Year": 2186,
          "value": 3235128.7631967776,
          "variable": "FUND"
         },
         {
          "Year": 2187,
          "value": 3241266.293769507,
          "variable": "FUND"
         },
         {
          "Year": 2188,
          "value": 3247174.0801914823,
          "variable": "FUND"
         },
         {
          "Year": 2189,
          "value": 3252858.1079790615,
          "variable": "FUND"
         },
         {
          "Year": 2190,
          "value": 3258324.3379723257,
          "variable": "FUND"
         },
         {
          "Year": 2191,
          "value": 3263578.699180051,
          "variable": "FUND"
         },
         {
          "Year": 2192,
          "value": 3268627.08195803,
          "variable": "FUND"
         },
         {
          "Year": 2193,
          "value": 3273475.3315381473,
          "variable": "FUND"
         },
         {
          "Year": 2194,
          "value": 3278129.241863992,
          "variable": "FUND"
         },
         {
          "Year": 2195,
          "value": 3282594.5497950665,
          "variable": "FUND"
         },
         {
          "Year": 2196,
          "value": 3286876.929615454,
          "variable": "FUND"
         },
         {
          "Year": 2197,
          "value": 3290981.987914551,
          "variable": "FUND"
         },
         {
          "Year": 2198,
          "value": 3294915.2587873666,
          "variable": "FUND"
         },
         {
          "Year": 2199,
          "value": 3298682.199367088,
          "variable": "FUND"
         },
         {
          "Year": 2200,
          "value": 3302288.185683556,
          "variable": "FUND"
         },
         {
          "Year": 2201,
          "value": 3305741.892413122,
          "variable": "FUND"
         },
         {
          "Year": 2202,
          "value": 3309051.3711732756,
          "variable": "FUND"
         },
         {
          "Year": 2203,
          "value": 3312224.1982853767,
          "variable": "FUND"
         },
         {
          "Year": 2204,
          "value": 3315267.505510074,
          "variable": "FUND"
         },
         {
          "Year": 2205,
          "value": 3318188.0086493734,
          "variable": "FUND"
         },
         {
          "Year": 2206,
          "value": 3320992.0341733405,
          "variable": "FUND"
         },
         {
          "Year": 2207,
          "value": 3323685.5440171245,
          "variable": "FUND"
         },
         {
          "Year": 2208,
          "value": 3326274.158680293,
          "variable": "FUND"
         },
         {
          "Year": 2209,
          "value": 3328763.1787548377,
          "variable": "FUND"
         },
         {
          "Year": 2210,
          "value": 3331157.604993081,
          "variable": "FUND"
         },
         {
          "Year": 2211,
          "value": 3333462.1570223193,
          "variable": "FUND"
         },
         {
          "Year": 2212,
          "value": 3335681.29080302,
          "variable": "FUND"
         },
         {
          "Year": 2213,
          "value": 3337819.2149198465,
          "variable": "FUND"
         },
         {
          "Year": 2214,
          "value": 3339879.9057899266,
          "variable": "FUND"
         },
         {
          "Year": 2215,
          "value": 3341867.1218648655,
          "variable": "FUND"
         },
         {
          "Year": 2216,
          "value": 3343784.416897193,
          "variable": "FUND"
         },
         {
          "Year": 2217,
          "value": 3345635.152336525,
          "variable": "FUND"
         },
         {
          "Year": 2218,
          "value": 3347422.5089176656,
          "variable": "FUND"
         },
         {
          "Year": 2219,
          "value": 3349149.497496331,
          "variable": "FUND"
         },
         {
          "Year": 2220,
          "value": 3350818.9691847255,
          "variable": "FUND"
         },
         {
          "Year": 2221,
          "value": 3352433.624835744,
          "variable": "FUND"
         },
         {
          "Year": 2222,
          "value": 3353996.023919847,
          "variable": "FUND"
         },
         {
          "Year": 2223,
          "value": 3355508.592837033,
          "variable": "FUND"
         },
         {
          "Year": 2224,
          "value": 3356973.6327027227,
          "variable": "FUND"
         },
         {
          "Year": 2225,
          "value": 3358393.326642289,
          "variable": "FUND"
         },
         {
          "Year": 2226,
          "value": 3359769.6483080927,
          "variable": "FUND"
         },
         {
          "Year": 2227,
          "value": 3361104.4754848434,
          "variable": "FUND"
         },
         {
          "Year": 2228,
          "value": 3362399.5953119085,
          "variable": "FUND"
         },
         {
          "Year": 2229,
          "value": 3363656.709196213,
          "variable": "FUND"
         },
         {
          "Year": 2230,
          "value": 3364877.4374430724,
          "variable": "FUND"
         },
         {
          "Year": 2231,
          "value": 3366063.3236158253,
          "variable": "FUND"
         },
         {
          "Year": 2232,
          "value": 3367215.838642826,
          "variable": "FUND"
         },
         {
          "Year": 2233,
          "value": 3368336.3846880565,
          "variable": "FUND"
         },
         {
          "Year": 2234,
          "value": 3369426.2987994244,
          "variable": "FUND"
         },
         {
          "Year": 2235,
          "value": 3370486.8563485206,
          "variable": "FUND"
         },
         {
          "Year": 2236,
          "value": 3371519.2742751325,
          "variable": "FUND"
         },
         {
          "Year": 2237,
          "value": 3372524.714148217,
          "variable": "FUND"
         },
         {
          "Year": 2238,
          "value": 3373504.2850546404,
          "variable": "FUND"
         },
         {
          "Year": 2239,
          "value": 3374459.0463260743,
          "variable": "FUND"
         },
         {
          "Year": 2240,
          "value": 3375390.0101137455,
          "variable": "FUND"
         },
         {
          "Year": 2241,
          "value": 3376298.1438201903,
          "variable": "FUND"
         },
         {
          "Year": 2242,
          "value": 3377184.3723967657,
          "variable": "FUND"
         },
         {
          "Year": 2243,
          "value": 3378049.580515253,
          "variable": "FUND"
         },
         {
          "Year": 2244,
          "value": 3378894.6146205897,
          "variable": "FUND"
         },
         {
          "Year": 2245,
          "value": 3379720.2848718558,
          "variable": "FUND"
         },
         {
          "Year": 2246,
          "value": 3380527.366978451,
          "variable": "FUND"
         },
         {
          "Year": 2247,
          "value": 3381316.6039374806,
          "variable": "FUND"
         },
         {
          "Year": 2248,
          "value": 3382088.7076780666,
          "variable": "FUND"
         },
         {
          "Year": 2249,
          "value": 3382844.3606181876,
          "variable": "FUND"
         },
         {
          "Year": 2250,
          "value": 3383584.217138951,
          "variable": "FUND"
         },
         {
          "Year": 2251,
          "value": 3384308.9010001854,
          "variable": "FUND"
         },
         {
          "Year": 2252,
          "value": 3385019.0147547713,
          "variable": "FUND"
         },
         {
          "Year": 2253,
          "value": 3385715.1368910405,
          "variable": "FUND"
         },
         {
          "Year": 2254,
          "value": 3386397.8230229225,
          "variable": "FUND"
         },
         {
          "Year": 2255,
          "value": 3387067.6070190887,
          "variable": "FUND"
         },
         {
          "Year": 2256,
          "value": 3387725.002074407,
          "variable": "FUND"
         },
         {
          "Year": 2257,
          "value": 3388370.5017272895,
          "variable": "FUND"
         },
         {
          "Year": 2258,
          "value": 3389004.580825733,
          "variable": "FUND"
         },
         {
          "Year": 2259,
          "value": 3389627.6964449473,
          "variable": "FUND"
         },
         {
          "Year": 2260,
          "value": 3390240.2887597675,
          "variable": "FUND"
         },
         {
          "Year": 2261,
          "value": 3390842.7818741067,
          "variable": "FUND"
         },
         {
          "Year": 2262,
          "value": 3391435.584609862,
          "variable": "FUND"
         },
         {
          "Year": 2263,
          "value": 3392019.091257727,
          "variable": "FUND"
         },
         {
          "Year": 2264,
          "value": 3392593.6822918914,
          "variable": "FUND"
         },
         {
          "Year": 2265,
          "value": 3393159.725050891,
          "variable": "FUND"
         },
         {
          "Year": 2266,
          "value": 3393717.5743864416,
          "variable": "FUND"
         },
         {
          "Year": 2267,
          "value": 3394267.5732819615,
          "variable": "FUND"
         },
         {
          "Year": 2268,
          "value": 3394810.0534425685,
          "variable": "FUND"
         },
         {
          "Year": 2269,
          "value": 3395345.3358583217,
          "variable": "FUND"
         },
         {
          "Year": 2270,
          "value": 3395873.731341948,
          "variable": "FUND"
         },
         {
          "Year": 2271,
          "value": 3396395.5410427516,
          "variable": "FUND"
         },
         {
          "Year": 2272,
          "value": 3396911.056937853,
          "variable": "FUND"
         },
         {
          "Year": 2273,
          "value": 3397420.562302258,
          "variable": "FUND"
         },
         {
          "Year": 2274,
          "value": 3397924.3321589017,
          "variable": "FUND"
         },
         {
          "Year": 2275,
          "value": 3398422.6337097953,
          "variable": "FUND"
         },
         {
          "Year": 2276,
          "value": 3398915.7267495343,
          "variable": "FUND"
         },
         {
          "Year": 2277,
          "value": 3399403.864061892,
          "variable": "FUND"
         },
         {
          "Year": 2278,
          "value": 3399887.291800858,
          "variable": "FUND"
         },
         {
          "Year": 2279,
          "value": 3400366.2498567766,
          "variable": "FUND"
         },
         {
          "Year": 2280,
          "value": 3400840.9722086247,
          "variable": "FUND"
         },
         {
          "Year": 2281,
          "value": 3401311.6872631903,
          "variable": "FUND"
         },
         {
          "Year": 2282,
          "value": 3401778.618182081,
          "variable": "FUND"
         },
         {
          "Year": 2283,
          "value": 3402241.9831972606,
          "variable": "FUND"
         },
         {
          "Year": 2284,
          "value": 3402701.9959158874,
          "variable": "FUND"
         },
         {
          "Year": 2285,
          "value": 3403158.865615111,
          "variable": "FUND"
         },
         {
          "Year": 2286,
          "value": 3403612.797527628,
          "variable": "FUND"
         },
         {
          "Year": 2287,
          "value": 3404063.9931183504,
          "variable": "FUND"
         },
         {
          "Year": 2288,
          "value": 3404512.650353246,
          "variable": "FUND"
         },
         {
          "Year": 2289,
          "value": 3404958.9639605815,
          "variable": "FUND"
         },
         {
          "Year": 2290,
          "value": 3405403.1256853295,
          "variable": "FUND"
         },
         {
          "Year": 2291,
          "value": 3405845.3245372036,
          "variable": "FUND"
         },
         {
          "Year": 2292,
          "value": 3406285.7470328743,
          "variable": "FUND"
         },
         {
          "Year": 2293,
          "value": 3406724.5774329714,
          "variable": "FUND"
         },
         {
          "Year": 2294,
          "value": 3407161.997974358,
          "variable": "FUND"
         },
         {
          "Year": 2295,
          "value": 3407598.1890979493,
          "variable": "FUND"
         },
         {
          "Year": 2296,
          "value": 3408033.3296728525,
          "variable": "FUND"
         },
         {
          "Year": 2297,
          "value": 3408467.5972171845,
          "variable": "FUND"
         },
         {
          "Year": 2298,
          "value": 3408901.1681159507,
          "variable": "FUND"
         },
         {
          "Year": 2299,
          "value": 3409334.2178365546,
          "variable": "FUND"
         },
         {
          "Year": 2300,
          "value": 3409766.92114221,
          "variable": "FUND"
         },
         {
          "Year": 1750,
          "value": null,
          "variable": "FUNDFAIR"
         },
         {
          "Year": 1751,
          "value": null,
          "variable": "FUNDFAIR"
         },
         {
          "Year": 1752,
          "value": null,
          "variable": "FUNDFAIR"
         },
         {
          "Year": 1753,
          "value": null,
          "variable": "FUNDFAIR"
         },
         {
          "Year": 1754,
          "value": null,
          "variable": "FUNDFAIR"
         },
         {
          "Year": 1755,
          "value": null,
          "variable": "FUNDFAIR"
         },
         {
          "Year": 1756,
          "value": null,
          "variable": "FUNDFAIR"
         },
         {
          "Year": 1757,
          "value": null,
          "variable": "FUNDFAIR"
         },
         {
          "Year": 1758,
          "value": null,
          "variable": "FUNDFAIR"
         },
         {
          "Year": 1759,
          "value": null,
          "variable": "FUNDFAIR"
         },
         {
          "Year": 1760,
          "value": null,
          "variable": "FUNDFAIR"
         },
         {
          "Year": 1761,
          "value": null,
          "variable": "FUNDFAIR"
         },
         {
          "Year": 1762,
          "value": null,
          "variable": "FUNDFAIR"
         },
         {
          "Year": 1763,
          "value": null,
          "variable": "FUNDFAIR"
         },
         {
          "Year": 1764,
          "value": null,
          "variable": "FUNDFAIR"
         },
         {
          "Year": 1765,
          "value": null,
          "variable": "FUNDFAIR"
         },
         {
          "Year": 1766,
          "value": null,
          "variable": "FUNDFAIR"
         },
         {
          "Year": 1767,
          "value": null,
          "variable": "FUNDFAIR"
         },
         {
          "Year": 1768,
          "value": null,
          "variable": "FUNDFAIR"
         },
         {
          "Year": 1769,
          "value": null,
          "variable": "FUNDFAIR"
         },
         {
          "Year": 1770,
          "value": null,
          "variable": "FUNDFAIR"
         },
         {
          "Year": 1771,
          "value": null,
          "variable": "FUNDFAIR"
         },
         {
          "Year": 1772,
          "value": null,
          "variable": "FUNDFAIR"
         },
         {
          "Year": 1773,
          "value": null,
          "variable": "FUNDFAIR"
         },
         {
          "Year": 1774,
          "value": null,
          "variable": "FUNDFAIR"
         },
         {
          "Year": 1775,
          "value": null,
          "variable": "FUNDFAIR"
         },
         {
          "Year": 1776,
          "value": null,
          "variable": "FUNDFAIR"
         },
         {
          "Year": 1777,
          "value": null,
          "variable": "FUNDFAIR"
         },
         {
          "Year": 1778,
          "value": null,
          "variable": "FUNDFAIR"
         },
         {
          "Year": 1779,
          "value": null,
          "variable": "FUNDFAIR"
         },
         {
          "Year": 1780,
          "value": null,
          "variable": "FUNDFAIR"
         },
         {
          "Year": 1781,
          "value": null,
          "variable": "FUNDFAIR"
         },
         {
          "Year": 1782,
          "value": null,
          "variable": "FUNDFAIR"
         },
         {
          "Year": 1783,
          "value": null,
          "variable": "FUNDFAIR"
         },
         {
          "Year": 1784,
          "value": null,
          "variable": "FUNDFAIR"
         },
         {
          "Year": 1785,
          "value": null,
          "variable": "FUNDFAIR"
         },
         {
          "Year": 1786,
          "value": null,
          "variable": "FUNDFAIR"
         },
         {
          "Year": 1787,
          "value": null,
          "variable": "FUNDFAIR"
         },
         {
          "Year": 1788,
          "value": null,
          "variable": "FUNDFAIR"
         },
         {
          "Year": 1789,
          "value": null,
          "variable": "FUNDFAIR"
         },
         {
          "Year": 1790,
          "value": null,
          "variable": "FUNDFAIR"
         },
         {
          "Year": 1791,
          "value": null,
          "variable": "FUNDFAIR"
         },
         {
          "Year": 1792,
          "value": null,
          "variable": "FUNDFAIR"
         },
         {
          "Year": 1793,
          "value": null,
          "variable": "FUNDFAIR"
         },
         {
          "Year": 1794,
          "value": null,
          "variable": "FUNDFAIR"
         },
         {
          "Year": 1795,
          "value": null,
          "variable": "FUNDFAIR"
         },
         {
          "Year": 1796,
          "value": null,
          "variable": "FUNDFAIR"
         },
         {
          "Year": 1797,
          "value": null,
          "variable": "FUNDFAIR"
         },
         {
          "Year": 1798,
          "value": null,
          "variable": "FUNDFAIR"
         },
         {
          "Year": 1799,
          "value": null,
          "variable": "FUNDFAIR"
         },
         {
          "Year": 1800,
          "value": null,
          "variable": "FUNDFAIR"
         },
         {
          "Year": 1801,
          "value": null,
          "variable": "FUNDFAIR"
         },
         {
          "Year": 1802,
          "value": null,
          "variable": "FUNDFAIR"
         },
         {
          "Year": 1803,
          "value": null,
          "variable": "FUNDFAIR"
         },
         {
          "Year": 1804,
          "value": null,
          "variable": "FUNDFAIR"
         },
         {
          "Year": 1805,
          "value": null,
          "variable": "FUNDFAIR"
         },
         {
          "Year": 1806,
          "value": null,
          "variable": "FUNDFAIR"
         },
         {
          "Year": 1807,
          "value": null,
          "variable": "FUNDFAIR"
         },
         {
          "Year": 1808,
          "value": null,
          "variable": "FUNDFAIR"
         },
         {
          "Year": 1809,
          "value": null,
          "variable": "FUNDFAIR"
         },
         {
          "Year": 1810,
          "value": null,
          "variable": "FUNDFAIR"
         },
         {
          "Year": 1811,
          "value": null,
          "variable": "FUNDFAIR"
         },
         {
          "Year": 1812,
          "value": null,
          "variable": "FUNDFAIR"
         },
         {
          "Year": 1813,
          "value": null,
          "variable": "FUNDFAIR"
         },
         {
          "Year": 1814,
          "value": null,
          "variable": "FUNDFAIR"
         },
         {
          "Year": 1815,
          "value": null,
          "variable": "FUNDFAIR"
         },
         {
          "Year": 1816,
          "value": null,
          "variable": "FUNDFAIR"
         },
         {
          "Year": 1817,
          "value": null,
          "variable": "FUNDFAIR"
         },
         {
          "Year": 1818,
          "value": null,
          "variable": "FUNDFAIR"
         },
         {
          "Year": 1819,
          "value": null,
          "variable": "FUNDFAIR"
         },
         {
          "Year": 1820,
          "value": null,
          "variable": "FUNDFAIR"
         },
         {
          "Year": 1821,
          "value": null,
          "variable": "FUNDFAIR"
         },
         {
          "Year": 1822,
          "value": null,
          "variable": "FUNDFAIR"
         },
         {
          "Year": 1823,
          "value": null,
          "variable": "FUNDFAIR"
         },
         {
          "Year": 1824,
          "value": null,
          "variable": "FUNDFAIR"
         },
         {
          "Year": 1825,
          "value": null,
          "variable": "FUNDFAIR"
         },
         {
          "Year": 1826,
          "value": null,
          "variable": "FUNDFAIR"
         },
         {
          "Year": 1827,
          "value": null,
          "variable": "FUNDFAIR"
         },
         {
          "Year": 1828,
          "value": null,
          "variable": "FUNDFAIR"
         },
         {
          "Year": 1829,
          "value": null,
          "variable": "FUNDFAIR"
         },
         {
          "Year": 1830,
          "value": null,
          "variable": "FUNDFAIR"
         },
         {
          "Year": 1831,
          "value": null,
          "variable": "FUNDFAIR"
         },
         {
          "Year": 1832,
          "value": null,
          "variable": "FUNDFAIR"
         },
         {
          "Year": 1833,
          "value": null,
          "variable": "FUNDFAIR"
         },
         {
          "Year": 1834,
          "value": null,
          "variable": "FUNDFAIR"
         },
         {
          "Year": 1835,
          "value": null,
          "variable": "FUNDFAIR"
         },
         {
          "Year": 1836,
          "value": null,
          "variable": "FUNDFAIR"
         },
         {
          "Year": 1837,
          "value": null,
          "variable": "FUNDFAIR"
         },
         {
          "Year": 1838,
          "value": null,
          "variable": "FUNDFAIR"
         },
         {
          "Year": 1839,
          "value": null,
          "variable": "FUNDFAIR"
         },
         {
          "Year": 1840,
          "value": null,
          "variable": "FUNDFAIR"
         },
         {
          "Year": 1841,
          "value": null,
          "variable": "FUNDFAIR"
         },
         {
          "Year": 1842,
          "value": null,
          "variable": "FUNDFAIR"
         },
         {
          "Year": 1843,
          "value": null,
          "variable": "FUNDFAIR"
         },
         {
          "Year": 1844,
          "value": null,
          "variable": "FUNDFAIR"
         },
         {
          "Year": 1845,
          "value": null,
          "variable": "FUNDFAIR"
         },
         {
          "Year": 1846,
          "value": null,
          "variable": "FUNDFAIR"
         },
         {
          "Year": 1847,
          "value": null,
          "variable": "FUNDFAIR"
         },
         {
          "Year": 1848,
          "value": null,
          "variable": "FUNDFAIR"
         },
         {
          "Year": 1849,
          "value": null,
          "variable": "FUNDFAIR"
         },
         {
          "Year": 1850,
          "value": null,
          "variable": "FUNDFAIR"
         },
         {
          "Year": 1851,
          "value": null,
          "variable": "FUNDFAIR"
         },
         {
          "Year": 1852,
          "value": null,
          "variable": "FUNDFAIR"
         },
         {
          "Year": 1853,
          "value": null,
          "variable": "FUNDFAIR"
         },
         {
          "Year": 1854,
          "value": null,
          "variable": "FUNDFAIR"
         },
         {
          "Year": 1855,
          "value": null,
          "variable": "FUNDFAIR"
         },
         {
          "Year": 1856,
          "value": null,
          "variable": "FUNDFAIR"
         },
         {
          "Year": 1857,
          "value": null,
          "variable": "FUNDFAIR"
         },
         {
          "Year": 1858,
          "value": null,
          "variable": "FUNDFAIR"
         },
         {
          "Year": 1859,
          "value": null,
          "variable": "FUNDFAIR"
         },
         {
          "Year": 1860,
          "value": null,
          "variable": "FUNDFAIR"
         },
         {
          "Year": 1861,
          "value": null,
          "variable": "FUNDFAIR"
         },
         {
          "Year": 1862,
          "value": null,
          "variable": "FUNDFAIR"
         },
         {
          "Year": 1863,
          "value": null,
          "variable": "FUNDFAIR"
         },
         {
          "Year": 1864,
          "value": null,
          "variable": "FUNDFAIR"
         },
         {
          "Year": 1865,
          "value": null,
          "variable": "FUNDFAIR"
         },
         {
          "Year": 1866,
          "value": null,
          "variable": "FUNDFAIR"
         },
         {
          "Year": 1867,
          "value": null,
          "variable": "FUNDFAIR"
         },
         {
          "Year": 1868,
          "value": null,
          "variable": "FUNDFAIR"
         },
         {
          "Year": 1869,
          "value": null,
          "variable": "FUNDFAIR"
         },
         {
          "Year": 1870,
          "value": null,
          "variable": "FUNDFAIR"
         },
         {
          "Year": 1871,
          "value": null,
          "variable": "FUNDFAIR"
         },
         {
          "Year": 1872,
          "value": null,
          "variable": "FUNDFAIR"
         },
         {
          "Year": 1873,
          "value": null,
          "variable": "FUNDFAIR"
         },
         {
          "Year": 1874,
          "value": null,
          "variable": "FUNDFAIR"
         },
         {
          "Year": 1875,
          "value": null,
          "variable": "FUNDFAIR"
         },
         {
          "Year": 1876,
          "value": null,
          "variable": "FUNDFAIR"
         },
         {
          "Year": 1877,
          "value": null,
          "variable": "FUNDFAIR"
         },
         {
          "Year": 1878,
          "value": null,
          "variable": "FUNDFAIR"
         },
         {
          "Year": 1879,
          "value": null,
          "variable": "FUNDFAIR"
         },
         {
          "Year": 1880,
          "value": null,
          "variable": "FUNDFAIR"
         },
         {
          "Year": 1881,
          "value": null,
          "variable": "FUNDFAIR"
         },
         {
          "Year": 1882,
          "value": null,
          "variable": "FUNDFAIR"
         },
         {
          "Year": 1883,
          "value": null,
          "variable": "FUNDFAIR"
         },
         {
          "Year": 1884,
          "value": null,
          "variable": "FUNDFAIR"
         },
         {
          "Year": 1885,
          "value": null,
          "variable": "FUNDFAIR"
         },
         {
          "Year": 1886,
          "value": null,
          "variable": "FUNDFAIR"
         },
         {
          "Year": 1887,
          "value": null,
          "variable": "FUNDFAIR"
         },
         {
          "Year": 1888,
          "value": null,
          "variable": "FUNDFAIR"
         },
         {
          "Year": 1889,
          "value": null,
          "variable": "FUNDFAIR"
         },
         {
          "Year": 1890,
          "value": null,
          "variable": "FUNDFAIR"
         },
         {
          "Year": 1891,
          "value": null,
          "variable": "FUNDFAIR"
         },
         {
          "Year": 1892,
          "value": null,
          "variable": "FUNDFAIR"
         },
         {
          "Year": 1893,
          "value": null,
          "variable": "FUNDFAIR"
         },
         {
          "Year": 1894,
          "value": null,
          "variable": "FUNDFAIR"
         },
         {
          "Year": 1895,
          "value": null,
          "variable": "FUNDFAIR"
         },
         {
          "Year": 1896,
          "value": null,
          "variable": "FUNDFAIR"
         },
         {
          "Year": 1897,
          "value": null,
          "variable": "FUNDFAIR"
         },
         {
          "Year": 1898,
          "value": null,
          "variable": "FUNDFAIR"
         },
         {
          "Year": 1899,
          "value": null,
          "variable": "FUNDFAIR"
         },
         {
          "Year": 1900,
          "value": null,
          "variable": "FUNDFAIR"
         },
         {
          "Year": 1901,
          "value": null,
          "variable": "FUNDFAIR"
         },
         {
          "Year": 1902,
          "value": null,
          "variable": "FUNDFAIR"
         },
         {
          "Year": 1903,
          "value": null,
          "variable": "FUNDFAIR"
         },
         {
          "Year": 1904,
          "value": null,
          "variable": "FUNDFAIR"
         },
         {
          "Year": 1905,
          "value": null,
          "variable": "FUNDFAIR"
         },
         {
          "Year": 1906,
          "value": null,
          "variable": "FUNDFAIR"
         },
         {
          "Year": 1907,
          "value": null,
          "variable": "FUNDFAIR"
         },
         {
          "Year": 1908,
          "value": null,
          "variable": "FUNDFAIR"
         },
         {
          "Year": 1909,
          "value": null,
          "variable": "FUNDFAIR"
         },
         {
          "Year": 1910,
          "value": null,
          "variable": "FUNDFAIR"
         },
         {
          "Year": 1911,
          "value": null,
          "variable": "FUNDFAIR"
         },
         {
          "Year": 1912,
          "value": null,
          "variable": "FUNDFAIR"
         },
         {
          "Year": 1913,
          "value": null,
          "variable": "FUNDFAIR"
         },
         {
          "Year": 1914,
          "value": null,
          "variable": "FUNDFAIR"
         },
         {
          "Year": 1915,
          "value": null,
          "variable": "FUNDFAIR"
         },
         {
          "Year": 1916,
          "value": null,
          "variable": "FUNDFAIR"
         },
         {
          "Year": 1917,
          "value": null,
          "variable": "FUNDFAIR"
         },
         {
          "Year": 1918,
          "value": null,
          "variable": "FUNDFAIR"
         },
         {
          "Year": 1919,
          "value": null,
          "variable": "FUNDFAIR"
         },
         {
          "Year": 1920,
          "value": null,
          "variable": "FUNDFAIR"
         },
         {
          "Year": 1921,
          "value": null,
          "variable": "FUNDFAIR"
         },
         {
          "Year": 1922,
          "value": null,
          "variable": "FUNDFAIR"
         },
         {
          "Year": 1923,
          "value": null,
          "variable": "FUNDFAIR"
         },
         {
          "Year": 1924,
          "value": null,
          "variable": "FUNDFAIR"
         },
         {
          "Year": 1925,
          "value": null,
          "variable": "FUNDFAIR"
         },
         {
          "Year": 1926,
          "value": null,
          "variable": "FUNDFAIR"
         },
         {
          "Year": 1927,
          "value": null,
          "variable": "FUNDFAIR"
         },
         {
          "Year": 1928,
          "value": null,
          "variable": "FUNDFAIR"
         },
         {
          "Year": 1929,
          "value": null,
          "variable": "FUNDFAIR"
         },
         {
          "Year": 1930,
          "value": null,
          "variable": "FUNDFAIR"
         },
         {
          "Year": 1931,
          "value": null,
          "variable": "FUNDFAIR"
         },
         {
          "Year": 1932,
          "value": null,
          "variable": "FUNDFAIR"
         },
         {
          "Year": 1933,
          "value": null,
          "variable": "FUNDFAIR"
         },
         {
          "Year": 1934,
          "value": null,
          "variable": "FUNDFAIR"
         },
         {
          "Year": 1935,
          "value": null,
          "variable": "FUNDFAIR"
         },
         {
          "Year": 1936,
          "value": null,
          "variable": "FUNDFAIR"
         },
         {
          "Year": 1937,
          "value": null,
          "variable": "FUNDFAIR"
         },
         {
          "Year": 1938,
          "value": null,
          "variable": "FUNDFAIR"
         },
         {
          "Year": 1939,
          "value": null,
          "variable": "FUNDFAIR"
         },
         {
          "Year": 1940,
          "value": null,
          "variable": "FUNDFAIR"
         },
         {
          "Year": 1941,
          "value": null,
          "variable": "FUNDFAIR"
         },
         {
          "Year": 1942,
          "value": null,
          "variable": "FUNDFAIR"
         },
         {
          "Year": 1943,
          "value": null,
          "variable": "FUNDFAIR"
         },
         {
          "Year": 1944,
          "value": null,
          "variable": "FUNDFAIR"
         },
         {
          "Year": 1945,
          "value": null,
          "variable": "FUNDFAIR"
         },
         {
          "Year": 1946,
          "value": null,
          "variable": "FUNDFAIR"
         },
         {
          "Year": 1947,
          "value": null,
          "variable": "FUNDFAIR"
         },
         {
          "Year": 1948,
          "value": null,
          "variable": "FUNDFAIR"
         },
         {
          "Year": 1949,
          "value": null,
          "variable": "FUNDFAIR"
         },
         {
          "Year": 1950,
          "value": 0,
          "variable": "FUNDFAIR"
         },
         {
          "Year": 1951,
          "value": 2283.619714179199,
          "variable": "FUNDFAIR"
         },
         {
          "Year": 1952,
          "value": 4618.840430603448,
          "variable": "FUNDFAIR"
         },
         {
          "Year": 1953,
          "value": 7008.971708789232,
          "variable": "FUNDFAIR"
         },
         {
          "Year": 1954,
          "value": 9457.679643170748,
          "variable": "FUNDFAIR"
         },
         {
          "Year": 1955,
          "value": 11969.04775044653,
          "variable": "FUNDFAIR"
         },
         {
          "Year": 1956,
          "value": 14547.651565679764,
          "variable": "FUNDFAIR"
         },
         {
          "Year": 1957,
          "value": 17198.65040582614,
          "variable": "FUNDFAIR"
         },
         {
          "Year": 1958,
          "value": 19927.900667048943,
          "variable": "FUNDFAIR"
         },
         {
          "Year": 1959,
          "value": 22742.096171247184,
          "variable": "FUNDFAIR"
         },
         {
          "Year": 1960,
          "value": 25644.079665984595,
          "variable": "FUNDFAIR"
         },
         {
          "Year": 1961,
          "value": 28633.84919088658,
          "variable": "FUNDFAIR"
         },
         {
          "Year": 1962,
          "value": 31716.055039401283,
          "variable": "FUNDFAIR"
         },
         {
          "Year": 1963,
          "value": 34895.66163851742,
          "variable": "FUNDFAIR"
         },
         {
          "Year": 1964,
          "value": 38177.974882306626,
          "variable": "FUNDFAIR"
         },
         {
          "Year": 1965,
          "value": 41568.67231018835,
          "variable": "FUNDFAIR"
         },
         {
          "Year": 1966,
          "value": 45073.83645518877,
          "variable": "FUNDFAIR"
         },
         {
          "Year": 1967,
          "value": 48699.991726278255,
          "variable": "FUNDFAIR"
         },
         {
          "Year": 1968,
          "value": 52454.14523240444,
          "variable": "FUNDFAIR"
         },
         {
          "Year": 1969,
          "value": 56343.83200466895,
          "variable": "FUNDFAIR"
         },
         {
          "Year": 1970,
          "value": 60314.5264282561,
          "variable": "FUNDFAIR"
         },
         {
          "Year": 1971,
          "value": 64361.235162176825,
          "variable": "FUNDFAIR"
         },
         {
          "Year": 1972,
          "value": 68486.98164306219,
          "variable": "FUNDFAIR"
         },
         {
          "Year": 1973,
          "value": 72694.94401701931,
          "variable": "FUNDFAIR"
         },
         {
          "Year": 1974,
          "value": 76988.464260774,
          "variable": "FUNDFAIR"
         },
         {
          "Year": 1975,
          "value": 81371.05789511101,
          "variable": "FUNDFAIR"
         },
         {
          "Year": 1976,
          "value": 85846.42433185915,
          "variable": "FUNDFAIR"
         },
         {
          "Year": 1977,
          "value": 90418.45789868994,
          "variable": "FUNDFAIR"
         },
         {
          "Year": 1978,
          "value": 95091.25958925026,
          "variable": "FUNDFAIR"
         },
         {
          "Year": 1979,
          "value": 99869.14958964824,
          "variable": "FUNDFAIR"
         },
         {
          "Year": 1980,
          "value": 104646.14657622973,
          "variable": "FUNDFAIR"
         },
         {
          "Year": 1981,
          "value": 109457.28986321535,
          "variable": "FUNDFAIR"
         },
         {
          "Year": 1982,
          "value": 114306.903156339,
          "variable": "FUNDFAIR"
         },
         {
          "Year": 1983,
          "value": 119199.60914595918,
          "variable": "FUNDFAIR"
         },
         {
          "Year": 1984,
          "value": 124140.35965692723,
          "variable": "FUNDFAIR"
         },
         {
          "Year": 1985,
          "value": 129134.46876850154,
          "variable": "FUNDFAIR"
         },
         {
          "Year": 1986,
          "value": 134187.64921730323,
          "variable": "FUNDFAIR"
         },
         {
          "Year": 1987,
          "value": 139306.05243001654,
          "variable": "FUNDFAIR"
         },
         {
          "Year": 1988,
          "value": 144496.31256996357,
          "variable": "FUNDFAIR"
         },
         {
          "Year": 1989,
          "value": 149765.59502324637,
          "variable": "FUNDFAIR"
         },
         {
          "Year": 1990,
          "value": 155268.84500690553,
          "variable": "FUNDFAIR"
         },
         {
          "Year": 1991,
          "value": 160805.2180369458,
          "variable": "FUNDFAIR"
         },
         {
          "Year": 1992,
          "value": 166383.66667116564,
          "variable": "FUNDFAIR"
         },
         {
          "Year": 1993,
          "value": 172013.24049733585,
          "variable": "FUNDFAIR"
         },
         {
          "Year": 1994,
          "value": 177703.08614217496,
          "variable": "FUNDFAIR"
         },
         {
          "Year": 1995,
          "value": 183456.8317308342,
          "variable": "FUNDFAIR"
         },
         {
          "Year": 1996,
          "value": 189362.35253721586,
          "variable": "FUNDFAIR"
         },
         {
          "Year": 1997,
          "value": 195474.14093174966,
          "variable": "FUNDFAIR"
         },
         {
          "Year": 1998,
          "value": 201774.28952852616,
          "variable": "FUNDFAIR"
         },
         {
          "Year": 1999,
          "value": 208166.77099801452,
          "variable": "FUNDFAIR"
         },
         {
          "Year": 2000,
          "value": 214703.1487181481,
          "variable": "FUNDFAIR"
         },
         {
          "Year": 2001,
          "value": 221477.1398588162,
          "variable": "FUNDFAIR"
         },
         {
          "Year": 2002,
          "value": 228360.79396745248,
          "variable": "FUNDFAIR"
         },
         {
          "Year": 2003,
          "value": 235351.6608104388,
          "variable": "FUNDFAIR"
         },
         {
          "Year": 2004,
          "value": 242446.6824527032,
          "variable": "FUNDFAIR"
         },
         {
          "Year": 2005,
          "value": 249642.23860185762,
          "variable": "FUNDFAIR"
         },
         {
          "Year": 2006,
          "value": 256934.31077021442,
          "variable": "FUNDFAIR"
         },
         {
          "Year": 2007,
          "value": 264318.4596714874,
          "variable": "FUNDFAIR"
         },
         {
          "Year": 2008,
          "value": 271789.92639237916,
          "variable": "FUNDFAIR"
         },
         {
          "Year": 2009,
          "value": 279343.5227881965,
          "variable": "FUNDFAIR"
         },
         {
          "Year": 2010,
          "value": 286973.8480595559,
          "variable": "FUNDFAIR"
         },
         {
          "Year": 2011,
          "value": 294687.2575203334,
          "variable": "FUNDFAIR"
         },
         {
          "Year": 2012,
          "value": 302486.888519183,
          "variable": "FUNDFAIR"
         },
         {
          "Year": 2013,
          "value": 310375.8888498566,
          "variable": "FUNDFAIR"
         },
         {
          "Year": 2014,
          "value": 318357.4444003965,
          "variable": "FUNDFAIR"
         },
         {
          "Year": 2015,
          "value": 326434.8518233594,
          "variable": "FUNDFAIR"
         },
         {
          "Year": 2016,
          "value": 334611.4041710811,
          "variable": "FUNDFAIR"
         },
         {
          "Year": 2017,
          "value": 342890.52469631337,
          "variable": "FUNDFAIR"
         },
         {
          "Year": 2018,
          "value": 351275.6785566569,
          "variable": "FUNDFAIR"
         },
         {
          "Year": 2019,
          "value": 359770.3818968842,
          "variable": "FUNDFAIR"
         },
         {
          "Year": 2020,
          "value": 368378.28427284386,
          "variable": "FUNDFAIR"
         },
         {
          "Year": 2021,
          "value": 377103.10120640724,
          "variable": "FUNDFAIR"
         },
         {
          "Year": 2022,
          "value": 385949.08719491895,
          "variable": "FUNDFAIR"
         },
         {
          "Year": 2023,
          "value": 394920.5442489212,
          "variable": "FUNDFAIR"
         },
         {
          "Year": 2024,
          "value": 404021.93881396344,
          "variable": "FUNDFAIR"
         },
         {
          "Year": 2025,
          "value": 413257.86762383534,
          "variable": "FUNDFAIR"
         },
         {
          "Year": 2026,
          "value": 422627.5960521038,
          "variable": "FUNDFAIR"
         },
         {
          "Year": 2027,
          "value": 432132.5649749397,
          "variable": "FUNDFAIR"
         },
         {
          "Year": 2028,
          "value": 441774.31715773436,
          "variable": "FUNDFAIR"
         },
         {
          "Year": 2029,
          "value": 451554.2960206777,
          "variable": "FUNDFAIR"
         },
         {
          "Year": 2030,
          "value": 461473.9806521432,
          "variable": "FUNDFAIR"
         },
         {
          "Year": 2031,
          "value": 471533.73002047476,
          "variable": "FUNDFAIR"
         },
         {
          "Year": 2032,
          "value": 481735.30164614186,
          "variable": "FUNDFAIR"
         },
         {
          "Year": 2033,
          "value": 492080.43180822296,
          "variable": "FUNDFAIR"
         },
         {
          "Year": 2034,
          "value": 502570.794460061,
          "variable": "FUNDFAIR"
         },
         {
          "Year": 2035,
          "value": 513208.1658445622,
          "variable": "FUNDFAIR"
         },
         {
          "Year": 2036,
          "value": 523994.25941614195,
          "variable": "FUNDFAIR"
         },
         {
          "Year": 2037,
          "value": 534930.7348512585,
          "variable": "FUNDFAIR"
         },
         {
          "Year": 2038,
          "value": 546019.3323173702,
          "variable": "FUNDFAIR"
         },
         {
          "Year": 2039,
          "value": 557261.7277639604,
          "variable": "FUNDFAIR"
         },
         {
          "Year": 2040,
          "value": 568659.7058490447,
          "variable": "FUNDFAIR"
         },
         {
          "Year": 2041,
          "value": 580214.9624991921,
          "variable": "FUNDFAIR"
         },
         {
          "Year": 2042,
          "value": 591928.0635653471,
          "variable": "FUNDFAIR"
         },
         {
          "Year": 2043,
          "value": 603799.6194701348,
          "variable": "FUNDFAIR"
         },
         {
          "Year": 2044,
          "value": 615830.1312153899,
          "variable": "FUNDFAIR"
         },
         {
          "Year": 2045,
          "value": 628020.0816139438,
          "variable": "FUNDFAIR"
         },
         {
          "Year": 2046,
          "value": 640369.8358479597,
          "variable": "FUNDFAIR"
         },
         {
          "Year": 2047,
          "value": 652879.715982523,
          "variable": "FUNDFAIR"
         },
         {
          "Year": 2048,
          "value": 665550.0352879848,
          "variable": "FUNDFAIR"
         },
         {
          "Year": 2049,
          "value": 678380.9732004992,
          "variable": "FUNDFAIR"
         },
         {
          "Year": 2050,
          "value": 691372.7451414244,
          "variable": "FUNDFAIR"
         },
         {
          "Year": 2051,
          "value": 704520.0042759085,
          "variable": "FUNDFAIR"
         },
         {
          "Year": 2052,
          "value": 717826.0097726529,
          "variable": "FUNDFAIR"
         },
         {
          "Year": 2053,
          "value": 731294.0967381983,
          "variable": "FUNDFAIR"
         },
         {
          "Year": 2054,
          "value": 744927.6859004262,
          "variable": "FUNDFAIR"
         },
         {
          "Year": 2055,
          "value": 758730.2417060485,
          "variable": "FUNDFAIR"
         },
         {
          "Year": 2056,
          "value": 772705.3982602113,
          "variable": "FUNDFAIR"
         },
         {
          "Year": 2057,
          "value": 786856.8177611589,
          "variable": "FUNDFAIR"
         },
         {
          "Year": 2058,
          "value": 801188.2406292431,
          "variable": "FUNDFAIR"
         },
         {
          "Year": 2059,
          "value": 815703.4807269585,
          "variable": "FUNDFAIR"
         },
         {
          "Year": 2060,
          "value": 830406.4855339138,
          "variable": "FUNDFAIR"
         },
         {
          "Year": 2061,
          "value": 845301.3541537158,
          "variable": "FUNDFAIR"
         },
         {
          "Year": 2062,
          "value": 860392.2540952754,
          "variable": "FUNDFAIR"
         },
         {
          "Year": 2063,
          "value": 875683.4899556106,
          "variable": "FUNDFAIR"
         },
         {
          "Year": 2064,
          "value": 891179.4435218881,
          "variable": "FUNDFAIR"
         },
         {
          "Year": 2065,
          "value": 906884.6098689956,
          "variable": "FUNDFAIR"
         },
         {
          "Year": 2066,
          "value": 922803.6713347966,
          "variable": "FUNDFAIR"
         },
         {
          "Year": 2067,
          "value": 938941.3921564125,
          "variable": "FUNDFAIR"
         },
         {
          "Year": 2068,
          "value": 955302.6285545811,
          "variable": "FUNDFAIR"
         },
         {
          "Year": 2069,
          "value": 971892.3667714134,
          "variable": "FUNDFAIR"
         },
         {
          "Year": 2070,
          "value": 988715.685795805,
          "variable": "FUNDFAIR"
         },
         {
          "Year": 2071,
          "value": 1005777.8896181775,
          "variable": "FUNDFAIR"
         },
         {
          "Year": 2072,
          "value": 1023083.0549906339,
          "variable": "FUNDFAIR"
         },
         {
          "Year": 2073,
          "value": 1040635.3143565741,
          "variable": "FUNDFAIR"
         },
         {
          "Year": 2074,
          "value": 1058438.8103571672,
          "variable": "FUNDFAIR"
         },
         {
          "Year": 2075,
          "value": 1076497.7748221857,
          "variable": "FUNDFAIR"
         },
         {
          "Year": 2076,
          "value": 1094816.530115657,
          "variable": "FUNDFAIR"
         },
         {
          "Year": 2077,
          "value": 1113394.4068000526,
          "variable": "FUNDFAIR"
         },
         {
          "Year": 2078,
          "value": 1132230.5074891776,
          "variable": "FUNDFAIR"
         },
         {
          "Year": 2079,
          "value": 1151323.7644848428,
          "variable": "FUNDFAIR"
         },
         {
          "Year": 2080,
          "value": 1170672.870636566,
          "variable": "FUNDFAIR"
         },
         {
          "Year": 2081,
          "value": 1190276.3404603314,
          "variable": "FUNDFAIR"
         },
         {
          "Year": 2082,
          "value": 1210133.1430426352,
          "variable": "FUNDFAIR"
         },
         {
          "Year": 2083,
          "value": 1230242.08109499,
          "variable": "FUNDFAIR"
         },
         {
          "Year": 2084,
          "value": 1250601.773587162,
          "variable": "FUNDFAIR"
         },
         {
          "Year": 2085,
          "value": 1271210.753039008,
          "variable": "FUNDFAIR"
         },
         {
          "Year": 2086,
          "value": 1292067.364692697,
          "variable": "FUNDFAIR"
         },
         {
          "Year": 2087,
          "value": 1313169.843206493,
          "variable": "FUNDFAIR"
         },
         {
          "Year": 2088,
          "value": 1334516.2282056345,
          "variable": "FUNDFAIR"
         },
         {
          "Year": 2089,
          "value": 1356104.3850468572,
          "variable": "FUNDFAIR"
         },
         {
          "Year": 2090,
          "value": 1377931.9772152775,
          "variable": "FUNDFAIR"
         },
         {
          "Year": 2091,
          "value": 1399996.5544463813,
          "variable": "FUNDFAIR"
         },
         {
          "Year": 2092,
          "value": 1422295.8817369717,
          "variable": "FUNDFAIR"
         },
         {
          "Year": 2093,
          "value": 1444827.5812848809,
          "variable": "FUNDFAIR"
         },
         {
          "Year": 2094,
          "value": 1467589.098266474,
          "variable": "FUNDFAIR"
         },
         {
          "Year": 2095,
          "value": 1490577.7749941542,
          "variable": "FUNDFAIR"
         },
         {
          "Year": 2096,
          "value": 1513790.8270595903,
          "variable": "FUNDFAIR"
         },
         {
          "Year": 2097,
          "value": 1537225.3659972944,
          "variable": "FUNDFAIR"
         },
         {
          "Year": 2098,
          "value": 1560878.3779206807,
          "variable": "FUNDFAIR"
         },
         {
          "Year": 2099,
          "value": 1584746.6830986354,
          "variable": "FUNDFAIR"
         },
         {
          "Year": 2100,
          "value": 1608826.960658444,
          "variable": "FUNDFAIR"
         },
         {
          "Year": 2101,
          "value": 1633129.164741287,
          "variable": "FUNDFAIR"
         },
         {
          "Year": 2102,
          "value": 1657640.7868605752,
          "variable": "FUNDFAIR"
         },
         {
          "Year": 2103,
          "value": 1682348.942219067,
          "variable": "FUNDFAIR"
         },
         {
          "Year": 2104,
          "value": 1707240.4241599701,
          "variable": "FUNDFAIR"
         },
         {
          "Year": 2105,
          "value": 1732301.6886017863,
          "variable": "FUNDFAIR"
         },
         {
          "Year": 2106,
          "value": 1757513.2543185242,
          "variable": "FUNDFAIR"
         },
         {
          "Year": 2107,
          "value": 1782854.0216787395,
          "variable": "FUNDFAIR"
         },
         {
          "Year": 2108,
          "value": 1808309.6370910301,
          "variable": "FUNDFAIR"
         },
         {
          "Year": 2109,
          "value": 1833865.5101359447,
          "variable": "FUNDFAIR"
         },
         {
          "Year": 2110,
          "value": 1859506.8304236892,
          "variable": "FUNDFAIR"
         },
         {
          "Year": 2111,
          "value": 1885218.5838423984,
          "variable": "FUNDFAIR"
         },
         {
          "Year": 2112,
          "value": 1910985.9584149136,
          "variable": "FUNDFAIR"
         },
         {
          "Year": 2113,
          "value": 1936794.0015801408,
          "variable": "FUNDFAIR"
         },
         {
          "Year": 2114,
          "value": 1962627.6724168072,
          "variable": "FUNDFAIR"
         },
         {
          "Year": 2115,
          "value": 1988471.8823991946,
          "variable": "FUNDFAIR"
         },
         {
          "Year": 2116,
          "value": 2014311.5219602333,
          "variable": "FUNDFAIR"
         },
         {
          "Year": 2117,
          "value": 2040131.4814431483,
          "variable": "FUNDFAIR"
         },
         {
          "Year": 2118,
          "value": 2065916.6764218002,
          "variable": "FUNDFAIR"
         },
         {
          "Year": 2119,
          "value": 2091652.0642319934,
          "variable": "FUNDFAIR"
         },
         {
          "Year": 2120,
          "value": 2117322.664235189,
          "variable": "FUNDFAIR"
         },
         {
          "Year": 2121,
          "value": 2142913.5707782037,
          "variable": "FUNDFAIR"
         },
         {
          "Year": 2122,
          "value": 2168410.0419065915,
          "variable": "FUNDFAIR"
         },
         {
          "Year": 2123,
          "value": 2193797.451708522,
          "variable": "FUNDFAIR"
         },
         {
          "Year": 2124,
          "value": 2219061.3525845874,
          "variable": "FUNDFAIR"
         },
         {
          "Year": 2125,
          "value": 2244187.513728661,
          "variable": "FUNDFAIR"
         },
         {
          "Year": 2126,
          "value": 2269161.9474315266,
          "variable": "FUNDFAIR"
         },
         {
          "Year": 2127,
          "value": 2293970.9429676034,
          "variable": "FUNDFAIR"
         },
         {
          "Year": 2128,
          "value": 2318601.074689531,
          "variable": "FUNDFAIR"
         },
         {
          "Year": 2129,
          "value": 2343039.214115606,
          "variable": "FUNDFAIR"
         },
         {
          "Year": 2130,
          "value": 2367272.543129793,
          "variable": "FUNDFAIR"
         },
         {
          "Year": 2131,
          "value": 2391288.5607976913,
          "variable": "FUNDFAIR"
         },
         {
          "Year": 2132,
          "value": 2415075.082873067,
          "variable": "FUNDFAIR"
         },
         {
          "Year": 2133,
          "value": 2438620.27917945,
          "variable": "FUNDFAIR"
         },
         {
          "Year": 2134,
          "value": 2461912.718413219,
          "variable": "FUNDFAIR"
         },
         {
          "Year": 2135,
          "value": 2484941.397801169,
          "variable": "FUNDFAIR"
         },
         {
          "Year": 2136,
          "value": 2507695.7719916864,
          "variable": "FUNDFAIR"
         },
         {
          "Year": 2137,
          "value": 2530165.76634361,
          "variable": "FUNDFAIR"
         },
         {
          "Year": 2138,
          "value": 2552341.7740758853,
          "variable": "FUNDFAIR"
         },
         {
          "Year": 2139,
          "value": 2574214.6549031343,
          "variable": "FUNDFAIR"
         },
         {
          "Year": 2140,
          "value": 2595775.743262761,
          "variable": "FUNDFAIR"
         },
         {
          "Year": 2141,
          "value": 2617016.852600274,
          "variable": "FUNDFAIR"
         },
         {
          "Year": 2142,
          "value": 2637930.2742121443,
          "variable": "FUNDFAIR"
         },
         {
          "Year": 2143,
          "value": 2658508.781275762,
          "variable": "FUNDFAIR"
         },
         {
          "Year": 2144,
          "value": 2678745.6485015894,
          "variable": "FUNDFAIR"
         },
         {
          "Year": 2145,
          "value": 2698634.6655509,
          "variable": "FUNDFAIR"
         },
         {
          "Year": 2146,
          "value": 2718170.142592917,
          "variable": "FUNDFAIR"
         },
         {
          "Year": 2147,
          "value": 2737346.9203950022,
          "variable": "FUNDFAIR"
         },
         {
          "Year": 2148,
          "value": 2756160.3657557964,
          "variable": "FUNDFAIR"
         },
         {
          "Year": 2149,
          "value": 2774606.366066124,
          "variable": "FUNDFAIR"
         },
         {
          "Year": 2150,
          "value": 2792681.3272731444,
          "variable": "FUNDFAIR"
         },
         {
          "Year": 2151,
          "value": 2810382.1655308013,
          "variable": "FUNDFAIR"
         },
         {
          "Year": 2152,
          "value": 2827708.729757831,
          "variable": "FUNDFAIR"
         },
         {
          "Year": 2153,
          "value": 2844661.200125949,
          "variable": "FUNDFAIR"
         },
         {
          "Year": 2154,
          "value": 2861240.0714175017,
          "variable": "FUNDFAIR"
         },
         {
          "Year": 2155,
          "value": 2877446.1485166135,
          "variable": "FUNDFAIR"
         },
         {
          "Year": 2156,
          "value": 2893280.5557229826,
          "variable": "FUNDFAIR"
         },
         {
          "Year": 2157,
          "value": 2908744.738146743,
          "variable": "FUNDFAIR"
         },
         {
          "Year": 2158,
          "value": 2923840.4544658633,
          "variable": "FUNDFAIR"
         },
         {
          "Year": 2159,
          "value": 2938569.7692137063,
          "variable": "FUNDFAIR"
         },
         {
          "Year": 2160,
          "value": 2952935.0388699337,
          "variable": "FUNDFAIR"
         },
         {
          "Year": 2161,
          "value": 2966938.8939677635,
          "variable": "FUNDFAIR"
         },
         {
          "Year": 2162,
          "value": 2980584.221245692,
          "variable": "FUNDFAIR"
         },
         {
          "Year": 2163,
          "value": 2993874.1459865235,
          "variable": "FUNDFAIR"
         },
         {
          "Year": 2164,
          "value": 3006812.015175339,
          "variable": "FUNDFAIR"
         },
         {
          "Year": 2165,
          "value": 3019401.3878855193,
          "variable": "FUNDFAIR"
         },
         {
          "Year": 2166,
          "value": 3031646.0421884027,
          "variable": "FUNDFAIR"
         },
         {
          "Year": 2167,
          "value": 3043549.9707287457,
          "variable": "FUNDFAIR"
         },
         {
          "Year": 2168,
          "value": 3055117.3732327265,
          "variable": "FUNDFAIR"
         },
         {
          "Year": 2169,
          "value": 3066352.6478435146,
          "variable": "FUNDFAIR"
         },
         {
          "Year": 2170,
          "value": 3077260.371363023,
          "variable": "FUNDFAIR"
         },
         {
          "Year": 2171,
          "value": 3087845.2826026166,
          "variable": "FUNDFAIR"
         },
         {
          "Year": 2172,
          "value": 3098112.2675337116,
          "variable": "FUNDFAIR"
         },
         {
          "Year": 2173,
          "value": 3108066.344746,
          "variable": "FUNDFAIR"
         },
         {
          "Year": 2174,
          "value": 3117712.649770515,
          "variable": "FUNDFAIR"
         },
         {
          "Year": 2175,
          "value": 3127056.426635378,
          "variable": "FUNDFAIR"
         },
         {
          "Year": 2176,
          "value": 3136103.022880457,
          "variable": "FUNDFAIR"
         },
         {
          "Year": 2177,
          "value": 3144857.8835043614,
          "variable": "FUNDFAIR"
         },
         {
          "Year": 2178,
          "value": 3153326.5458699474,
          "variable": "FUNDFAIR"
         },
         {
          "Year": 2179,
          "value": 3161514.6312196986,
          "variable": "FUNDFAIR"
         },
         {
          "Year": 2180,
          "value": 3169427.8313072072,
          "variable": "FUNDFAIR"
         },
         {
          "Year": 2181,
          "value": 3177071.8955247924,
          "variable": "FUNDFAIR"
         },
         {
          "Year": 2182,
          "value": 3184452.6195550486,
          "variable": "FUNDFAIR"
         },
         {
          "Year": 2183,
          "value": 3191575.8345679874,
          "variable": "FUNDFAIR"
         },
         {
          "Year": 2184,
          "value": 3198447.3973414437,
          "variable": "FUNDFAIR"
         },
         {
          "Year": 2185,
          "value": 3205073.1802602373,
          "variable": "FUNDFAIR"
         },
         {
          "Year": 2186,
          "value": 3211459.061486229,
          "variable": "FUNDFAIR"
         },
         {
          "Year": 2187,
          "value": 3217610.914671922,
          "variable": "FUNDFAIR"
         },
         {
          "Year": 2188,
          "value": 3223534.604508887,
          "variable": "FUNDFAIR"
         },
         {
          "Year": 2189,
          "value": 3229235.982704419,
          "variable": "FUNDFAIR"
         },
         {
          "Year": 2190,
          "value": 3234720.880524818,
          "variable": "FUNDFAIR"
         },
         {
          "Year": 2191,
          "value": 3239995.1050917297,
          "variable": "FUNDFAIR"
         },
         {
          "Year": 2192,
          "value": 3245064.433821118,
          "variable": "FUNDFAIR"
         },
         {
          "Year": 2193,
          "value": 3249934.6053229966,
          "variable": "FUNDFAIR"
         },
         {
          "Year": 2194,
          "value": 3254611.3110109014,
          "variable": "FUNDFAIR"
         },
         {
          "Year": 2195,
          "value": 3259100.188294711,
          "variable": "FUNDFAIR"
         },
         {
          "Year": 2196,
          "value": 3263406.814330734,
          "variable": "FUNDFAIR"
         },
         {
          "Year": 2197,
          "value": 3267536.699103707,
          "variable": "FUNDFAIR"
         },
         {
          "Year": 2198,
          "value": 3271495.280431486,
          "variable": "FUNDFAIR"
         },
         {
          "Year": 2199,
          "value": 3275287.9219569126,
          "variable": "FUNDFAIR"
         },
         {
          "Year": 2200,
          "value": 3278919.912358353,
          "variable": "FUNDFAIR"
         },
         {
          "Year": 2201,
          "value": 3282399.872516328,
          "variable": "FUNDFAIR"
         },
         {
          "Year": 2202,
          "value": 3285735.807438567,
          "variable": "FUNDFAIR"
         },
         {
          "Year": 2203,
          "value": 3288935.2530300147,
          "variable": "FUNDFAIR"
         },
         {
          "Year": 2204,
          "value": 3292005.3048454137,
          "variable": "FUNDFAIR"
         },
         {
          "Year": 2205,
          "value": 3294952.6463912427,
          "variable": "FUNDFAIR"
         },
         {
          "Year": 2206,
          "value": 3297783.575083066,
          "variable": "FUNDFAIR"
         },
         {
          "Year": 2207,
          "value": 3300504.0263758665,
          "variable": "FUNDFAIR"
         },
         {
          "Year": 2208,
          "value": 3303119.5961944773,
          "variable": "FUNDFAIR"
         },
         {
          "Year": 2209,
          "value": 3305635.56146178,
          "variable": "FUNDFAIR"
         },
         {
          "Year": 2210,
          "value": 3308056.8999798284,
          "variable": "FUNDFAIR"
         },
         {
          "Year": 2211,
          "value": 3310388.309720357,
          "variable": "FUNDFAIR"
         },
         {
          "Year": 2212,
          "value": 3312634.2273012465,
          "variable": "FUNDFAIR"
         },
         {
          "Year": 2213,
          "value": 3314798.84472176,
          "variable": "FUNDFAIR"
         },
         {
          "Year": 2214,
          "value": 3316886.124743604,
          "variable": "FUNDFAIR"
         },
         {
          "Year": 2215,
          "value": 3318899.8147636675,
          "variable": "FUNDFAIR"
         },
         {
          "Year": 2216,
          "value": 3320843.4598740675,
          "variable": "FUNDFAIR"
         },
         {
          "Year": 2217,
          "value": 3322720.4148988873,
          "variable": "FUNDFAIR"
         },
         {
          "Year": 2218,
          "value": 3324533.854930647,
          "variable": "FUNDFAIR"
         },
         {
          "Year": 2219,
          "value": 3326286.7856651223,
          "variable": "FUNDFAIR"
         },
         {
          "Year": 2220,
          "value": 3327982.0530910115,
          "variable": "FUNDFAIR"
         },
         {
          "Year": 2221,
          "value": 3329622.352547316,
          "variable": "FUNDFAIR"
         },
         {
          "Year": 2222,
          "value": 3331210.237937833,
          "variable": "FUNDFAIR"
         },
         {
          "Year": 2223,
          "value": 3332748.1302548232,
          "variable": "FUNDFAIR"
         },
         {
          "Year": 2224,
          "value": 3334238.326442753,
          "variable": "FUNDFAIR"
         },
         {
          "Year": 2225,
          "value": 3335683.0077209086,
          "variable": "FUNDFAIR"
         },
         {
          "Year": 2226,
          "value": 3337084.1459153085,
          "variable": "FUNDFAIR"
         },
         {
          "Year": 2227,
          "value": 3338443.618438473,
          "variable": "FUNDFAIR"
         },
         {
          "Year": 2228,
          "value": 3339763.2128629633,
          "variable": "FUNDFAIR"
         },
         {
          "Year": 2229,
          "value": 3341044.631414629,
          "variable": "FUNDFAIR"
         },
         {
          "Year": 2230,
          "value": 3342289.4952264447,
          "variable": "FUNDFAIR"
         },
         {
          "Year": 2231,
          "value": 3343499.3481281437,
          "variable": "FUNDFAIR"
         },
         {
          "Year": 2232,
          "value": 3344675.660934649,
          "variable": "FUNDFAIR"
         },
         {
          "Year": 2233,
          "value": 3345819.8359265183,
          "variable": "FUNDFAIR"
         },
         {
          "Year": 2234,
          "value": 3346933.210642412,
          "variable": "FUNDFAIR"
         },
         {
          "Year": 2235,
          "value": 3348017.0615863046,
          "variable": "FUNDFAIR"
         },
         {
          "Year": 2236,
          "value": 3349072.607668471,
          "variable": "FUNDFAIR"
         },
         {
          "Year": 2237,
          "value": 3350101.0132636926,
          "variable": "FUNDFAIR"
         },
         {
          "Year": 2238,
          "value": 3351103.390850696,
          "variable": "FUNDFAIR"
         },
         {
          "Year": 2239,
          "value": 3352080.803341803,
          "variable": "FUNDFAIR"
         },
         {
          "Year": 2240,
          "value": 3353034.26647421,
          "variable": "FUNDFAIR"
         },
         {
          "Year": 2241,
          "value": 3353964.751008511,
          "variable": "FUNDFAIR"
         },
         {
          "Year": 2242,
          "value": 3354873.1847249754,
          "variable": "FUNDFAIR"
         },
         {
          "Year": 2243,
          "value": 3355760.4546108115,
          "variable": "FUNDFAIR"
         },
         {
          "Year": 2244,
          "value": 3356627.40948369,
          "variable": "FUNDFAIR"
         },
         {
          "Year": 2245,
          "value": 3357474.862354999,
          "variable": "FUNDFAIR"
         },
         {
          "Year": 2246,
          "value": 3358303.592467977,
          "variable": "FUNDFAIR"
         },
         {
          "Year": 2247,
          "value": 3359114.347061812,
          "variable": "FUNDFAIR"
         },
         {
          "Year": 2248,
          "value": 3359907.842680501,
          "variable": "FUNDFAIR"
         },
         {
          "Year": 2249,
          "value": 3360684.766559244,
          "variable": "FUNDFAIR"
         },
         {
          "Year": 2250,
          "value": 3361445.7780393227,
          "variable": "FUNDFAIR"
         },
         {
          "Year": 2251,
          "value": 3362191.505628682,
          "variable": "FUNDFAIR"
         },
         {
          "Year": 2252,
          "value": 3362922.556813055,
          "variable": "FUNDFAIR"
         },
         {
          "Year": 2253,
          "value": 3363639.5148106306,
          "variable": "FUNDFAIR"
         },
         {
          "Year": 2254,
          "value": 3364342.9395978316,
          "variable": "FUNDFAIR"
         },
         {
          "Year": 2255,
          "value": 3365033.3690124447,
          "variable": "FUNDFAIR"
         },
         {
          "Year": 2256,
          "value": 3365711.3201198946,
          "variable": "FUNDFAIR"
         },
         {
          "Year": 2257,
          "value": 3366377.290430454,
          "variable": "FUNDFAIR"
         },
         {
          "Year": 2258,
          "value": 3367031.758928463,
          "variable": "FUNDFAIR"
         },
         {
          "Year": 2259,
          "value": 3367675.187150351,
          "variable": "FUNDFAIR"
         },
         {
          "Year": 2260,
          "value": 3368308.020025438,
          "variable": "FUNDFAIR"
         },
         {
          "Year": 2261,
          "value": 3368930.686681799,
          "variable": "FUNDFAIR"
         },
         {
          "Year": 2262,
          "value": 3369543.601148319,
          "variable": "FUNDFAIR"
         },
         {
          "Year": 2263,
          "value": 3370147.1628709333,
          "variable": "FUNDFAIR"
         },
         {
          "Year": 2264,
          "value": 3370741.7573278635,
          "variable": "FUNDFAIR"
         },
         {
          "Year": 2265,
          "value": 3371327.756586371,
          "variable": "FUNDFAIR"
         },
         {
          "Year": 2266,
          "value": 3371905.519832243,
          "variable": "FUNDFAIR"
         },
         {
          "Year": 2267,
          "value": 3372475.3941023443,
          "variable": "FUNDFAIR"
         },
         {
          "Year": 2268,
          "value": 3373037.7150324527,
          "variable": "FUNDFAIR"
         },
         {
          "Year": 2269,
          "value": 3373592.807839047,
          "variable": "FUNDFAIR"
         },
         {
          "Year": 2270,
          "value": 3374140.9880748475,
          "variable": "FUNDFAIR"
         },
         {
          "Year": 2271,
          "value": 3374682.562025524,
          "variable": "FUNDFAIR"
         },
         {
          "Year": 2272,
          "value": 3375217.8270752416,
          "variable": "FUNDFAIR"
         },
         {
          "Year": 2273,
          "value": 3375747.072044428,
          "variable": "FUNDFAIR"
         },
         {
          "Year": 2274,
          "value": 3376270.577509987,
          "variable": "FUNDFAIR"
         },
         {
          "Year": 2275,
          "value": 3376788.6160365064,
          "variable": "FUNDFAIR"
         },
         {
          "Year": 2276,
          "value": 3377301.452492369,
          "variable": "FUNDFAIR"
         },
         {
          "Year": 2277,
          "value": 3377809.3445370714,
          "variable": "FUNDFAIR"
         },
         {
          "Year": 2278,
          "value": 3378312.5432393276,
          "variable": "FUNDFAIR"
         },
         {
          "Year": 2279,
          "value": 3378811.293589578,
          "variable": "FUNDFAIR"
         },
         {
          "Year": 2280,
          "value": 3379305.834909614,
          "variable": "FUNDFAIR"
         },
         {
          "Year": 2281,
          "value": 3379796.401277438,
          "variable": "FUNDFAIR"
         },
         {
          "Year": 2282,
          "value": 3380283.221780016,
          "variable": "FUNDFAIR"
         },
         {
          "Year": 2283,
          "value": 3380766.5206682975,
          "variable": "FUNDFAIR"
         },
         {
          "Year": 2284,
          "value": 3381246.517600455,
          "variable": "FUNDFAIR"
         },
         {
          "Year": 2285,
          "value": 3381723.4278478986,
          "variable": "FUNDFAIR"
         },
         {
          "Year": 2286,
          "value": 3382197.4624278727,
          "variable": "FUNDFAIR"
         },
         {
          "Year": 2287,
          "value": 3382668.8283489477,
          "variable": "FUNDFAIR"
         },
         {
          "Year": 2288,
          "value": 3383137.729087962,
          "variable": "FUNDFAIR"
         },
         {
          "Year": 2289,
          "value": 3383604.3650774867,
          "variable": "FUNDFAIR"
         },
         {
          "Year": 2290,
          "value": 3384068.934217502,
          "variable": "FUNDFAIR"
         },
         {
          "Year": 2291,
          "value": 3384531.63207297,
          "variable": "FUNDFAIR"
         },
         {
          "Year": 2292,
          "value": 3384992.6519665015,
          "variable": "FUNDFAIR"
         },
         {
          "Year": 2293,
          "value": 3385452.185230367,
          "variable": "FUNDFAIR"
         },
         {
          "Year": 2294,
          "value": 3385910.421353707,
          "variable": "FUNDFAIR"
         },
         {
          "Year": 2295,
          "value": 3386367.548074262,
          "variable": "FUNDFAIR"
         },
         {
          "Year": 2296,
          "value": 3386823.751427225,
          "variable": "FUNDFAIR"
         },
         {
          "Year": 2297,
          "value": 3387279.215946041,
          "variable": "FUNDFAIR"
         },
         {
          "Year": 2298,
          "value": 3387734.1249642065,
          "variable": "FUNDFAIR"
         },
         {
          "Year": 2299,
          "value": 3388188.661029998,
          "variable": "FUNDFAIR"
         },
         {
          "Year": 2300,
          "value": 3388643.006392266,
          "variable": "FUNDFAIR"
         }
        ]
       },
       "encoding": {
        "color": {
         "field": "variable",
         "type": "nominal"
        },
        "x": {
         "field": "Year",
         "type": "quantitative"
        },
        "y": {
         "field": "value",
         "type": "quantitative"
        }
       },
       "mark": "line"
      },
      "image/png": "[encoded data removed]",
      "image/svg+xml": "<?xml version=\"1.0\" encoding=\"utf-8\"?>\n<!DOCTYPE svg PUBLIC \"-//W3C//DTD SVG 1.1//EN\" \"http://www.w3.org/Graphics/SVG/1.1/DTD/svg11.dtd\">\n<svg xmlns=\"http://www.w3.org/2000/svg\" xmlns:xlink=\"http://www.w3.org/1999/xlink\" version=\"1.1\" class=\"marks\" width=\"365\" height=\"247\" viewBox=\"0 0 365 247\"><rect width=\"365\" height=\"247\" fill=\"white\"/><g fill=\"none\" stroke-miterlimit=\"10\" transform=\"translate(75,10)\"><g class=\"mark-group role-frame root\" role=\"graphics-object\" aria-roledescription=\"group mark container\"><g transform=\"translate(0,0)\"><path class=\"background\" aria-hidden=\"true\" d=\"M0.5,0.5h200v200h-200Z\" stroke=\"#ddd\"/><g><g class=\"mark-group role-axis\" aria-hidden=\"true\"><g transform=\"translate(0.5,200.5)\"><path class=\"background\" aria-hidden=\"true\" d=\"M0,0h0v0h0Z\" pointer-events=\"none\"/><g><g class=\"mark-rule role-axis-grid\" pointer-events=\"none\"><line transform=\"translate(18,-200)\" x2=\"0\" y2=\"200\" stroke=\"#ddd\" stroke-width=\"1\" opacity=\"1\"/><line transform=\"translate(55,-200)\" x2=\"0\" y2=\"200\" stroke=\"#ddd\" stroke-width=\"1\" opacity=\"1\"/><line transform=\"translate(91,-200)\" x2=\"0\" y2=\"200\" stroke=\"#ddd\" stroke-width=\"1\" opacity=\"1\"/><line transform=\"translate(127,-200)\" x2=\"0\" y2=\"200\" stroke=\"#ddd\" stroke-width=\"1\" opacity=\"1\"/><line transform=\"translate(164,-200)\" x2=\"0\" y2=\"200\" stroke=\"#ddd\" stroke-width=\"1\" opacity=\"1\"/><line transform=\"translate(200,-200)\" x2=\"0\" y2=\"200\" stroke=\"#ddd\" stroke-width=\"1\" opacity=\"1\"/></g></g><path class=\"foreground\" aria-hidden=\"true\" d=\"\" pointer-events=\"none\" display=\"none\"/></g></g><g class=\"mark-group role-axis\" aria-hidden=\"true\"><g transform=\"translate(0.5,0.5)\"><path class=\"background\" aria-hidden=\"true\" d=\"M0,0h0v0h0Z\" pointer-events=\"none\"/><g><g class=\"mark-rule role-axis-grid\" pointer-events=\"none\"><line transform=\"translate(0,200)\" x2=\"200\" y2=\"0\" stroke=\"#ddd\" stroke-width=\"1\" opacity=\"1\"/><line transform=\"translate(0,171)\" x2=\"200\" y2=\"0\" stroke=\"#ddd\" stroke-width=\"1\" opacity=\"1\"/><line transform=\"translate(0,143)\" x2=\"200\" y2=\"0\" stroke=\"#ddd\" stroke-width=\"1\" opacity=\"1\"/><line transform=\"translate(0,114)\" x2=\"200\" y2=\"0\" stroke=\"#ddd\" stroke-width=\"1\" opacity=\"1\"/><line transform=\"translate(0,86)\" x2=\"200\" y2=\"0\" stroke=\"#ddd\" stroke-width=\"1\" opacity=\"1\"/><line transform=\"translate(0,57)\" x2=\"200\" y2=\"0\" stroke=\"#ddd\" stroke-width=\"1\" opacity=\"1\"/><line transform=\"translate(0,29)\" x2=\"200\" y2=\"0\" stroke=\"#ddd\" stroke-width=\"1\" opacity=\"1\"/><line transform=\"translate(0,0)\" x2=\"200\" y2=\"0\" stroke=\"#ddd\" stroke-width=\"1\" opacity=\"1\"/></g></g><path class=\"foreground\" aria-hidden=\"true\" d=\"\" pointer-events=\"none\" display=\"none\"/></g></g><g class=\"mark-group role-axis\" role=\"graphics-symbol\" aria-roledescription=\"axis\" aria-label=\"X-axis titled 'Year' for a linear scale with values from 1,750 to 2,300\"><g transform=\"translate(0.5,200.5)\"><path class=\"background\" aria-hidden=\"true\" d=\"M0,0h0v0h0Z\" pointer-events=\"none\"/><g><g class=\"mark-rule role-axis-tick\" pointer-events=\"none\"><line transform=\"translate(18,0)\" x2=\"0\" y2=\"5\" stroke=\"#888\" stroke-width=\"1\" opacity=\"1\"/><line transform=\"translate(55,0)\" x2=\"0\" y2=\"5\" stroke=\"#888\" stroke-width=\"1\" opacity=\"1\"/><line transform=\"translate(91,0)\" x2=\"0\" y2=\"5\" stroke=\"#888\" stroke-width=\"1\" opacity=\"1\"/><line transform=\"translate(127,0)\" x2=\"0\" y2=\"5\" stroke=\"#888\" stroke-width=\"1\" opacity=\"1\"/><line transform=\"translate(164,0)\" x2=\"0\" y2=\"5\" stroke=\"#888\" stroke-width=\"1\" opacity=\"1\"/><line transform=\"translate(200,0)\" x2=\"0\" y2=\"5\" stroke=\"#888\" stroke-width=\"1\" opacity=\"1\"/></g><g class=\"mark-text role-axis-label\" pointer-events=\"none\"><text text-anchor=\"middle\" transform=\"translate(18.181818181818183,15)\" font-family=\"sans-serif\" font-size=\"10px\" fill=\"#000\" opacity=\"1\">1,800</text><text text-anchor=\"middle\" transform=\"translate(54.54545454545454,15)\" font-family=\"sans-serif\" font-size=\"10px\" fill=\"#000\" opacity=\"0\">1,900</text><text text-anchor=\"middle\" transform=\"translate(90.9090909090909,15)\" font-family=\"sans-serif\" font-size=\"10px\" fill=\"#000\" opacity=\"1\">2,000</text><text text-anchor=\"middle\" transform=\"translate(127.27272727272727,15)\" font-family=\"sans-serif\" font-size=\"10px\" fill=\"#000\" opacity=\"0\">2,100</text><text text-anchor=\"middle\" transform=\"translate(163.63636363636365,15)\" font-family=\"sans-serif\" font-size=\"10px\" fill=\"#000\" opacity=\"1\">2,200</text><text text-anchor=\"end\" transform=\"translate(200,15)\" font-family=\"sans-serif\" font-size=\"10px\" fill=\"#000\" opacity=\"0\">2,300</text></g><g class=\"mark-rule role-axis-domain\" pointer-events=\"none\"><line transform=\"translate(0,0)\" x2=\"200\" y2=\"0\" stroke=\"#888\" stroke-width=\"1\" opacity=\"1\"/></g><g class=\"mark-text role-axis-title\" pointer-events=\"none\"><text text-anchor=\"middle\" transform=\"translate(100,30)\" font-family=\"sans-serif\" font-size=\"11px\" font-weight=\"bold\" fill=\"#000\" opacity=\"1\">Year</text></g></g><path class=\"foreground\" aria-hidden=\"true\" d=\"\" pointer-events=\"none\" display=\"none\"/></g></g><g class=\"mark-group role-axis\" role=\"graphics-symbol\" aria-roledescription=\"axis\" aria-label=\"Y-axis titled 'value' for a linear scale with values from 0 to 3,500,000\"><g transform=\"translate(0.5,0.5)\"><path class=\"background\" aria-hidden=\"true\" d=\"M0,0h0v0h0Z\" pointer-events=\"none\"/><g><g class=\"mark-rule role-axis-tick\" pointer-events=\"none\"><line transform=\"translate(0,200)\" x2=\"-5\" y2=\"0\" stroke=\"#888\" stroke-width=\"1\" opacity=\"1\"/><line transform=\"translate(0,171)\" x2=\"-5\" y2=\"0\" stroke=\"#888\" stroke-width=\"1\" opacity=\"1\"/><line transform=\"translate(0,143)\" x2=\"-5\" y2=\"0\" stroke=\"#888\" stroke-width=\"1\" opacity=\"1\"/><line transform=\"translate(0,114)\" x2=\"-5\" y2=\"0\" stroke=\"#888\" stroke-width=\"1\" opacity=\"1\"/><line transform=\"translate(0,86)\" x2=\"-5\" y2=\"0\" stroke=\"#888\" stroke-width=\"1\" opacity=\"1\"/><line transform=\"translate(0,57)\" x2=\"-5\" y2=\"0\" stroke=\"#888\" stroke-width=\"1\" opacity=\"1\"/><line transform=\"translate(0,29)\" x2=\"-5\" y2=\"0\" stroke=\"#888\" stroke-width=\"1\" opacity=\"1\"/><line transform=\"translate(0,0)\" x2=\"-5\" y2=\"0\" stroke=\"#888\" stroke-width=\"1\" opacity=\"1\"/></g><g class=\"mark-text role-axis-label\" pointer-events=\"none\"><text text-anchor=\"end\" transform=\"translate(-7,203)\" font-family=\"sans-serif\" font-size=\"10px\" fill=\"#000\" opacity=\"1\">0</text><text text-anchor=\"end\" transform=\"translate(-7,174.42857142857144)\" font-family=\"sans-serif\" font-size=\"10px\" fill=\"#000\" opacity=\"1\">500,000</text><text text-anchor=\"end\" transform=\"translate(-7,145.85714285714286)\" font-family=\"sans-serif\" font-size=\"10px\" fill=\"#000\" opacity=\"1\">1,000,000</text><text text-anchor=\"end\" transform=\"translate(-7,117.28571428571428)\" font-family=\"sans-serif\" font-size=\"10px\" fill=\"#000\" opacity=\"1\">1,500,000</text><text text-anchor=\"end\" transform=\"translate(-7,88.71428571428572)\" font-family=\"sans-serif\" font-size=\"10px\" fill=\"#000\" opacity=\"1\">2,000,000</text><text text-anchor=\"end\" transform=\"translate(-7,60.14285714285714)\" font-family=\"sans-serif\" font-size=\"10px\" fill=\"#000\" opacity=\"1\">2,500,000</text><text text-anchor=\"end\" transform=\"translate(-7,31.57142857142858)\" font-family=\"sans-serif\" font-size=\"10px\" fill=\"#000\" opacity=\"1\">3,000,000</text><text text-anchor=\"end\" transform=\"translate(-7,3)\" font-family=\"sans-serif\" font-size=\"10px\" fill=\"#000\" opacity=\"1\">3,500,000</text></g><g class=\"mark-rule role-axis-domain\" pointer-events=\"none\"><line transform=\"translate(0,200)\" x2=\"0\" y2=\"-200\" stroke=\"#888\" stroke-width=\"1\" opacity=\"1\"/></g><g class=\"mark-text role-axis-title\" pointer-events=\"none\"><text text-anchor=\"middle\" transform=\"translate(-59,100) rotate(-90) translate(0,-2)\" font-family=\"sans-serif\" font-size=\"11px\" font-weight=\"bold\" fill=\"#000\" opacity=\"1\">value</text></g></g><path class=\"foreground\" aria-hidden=\"true\" d=\"\" pointer-events=\"none\" display=\"none\"/></g></g><g class=\"mark-group role-scope pathgroup\" role=\"graphics-object\" aria-roledescription=\"group mark container\"><g transform=\"translate(0,0)\"><path class=\"background\" aria-hidden=\"true\" d=\"M0,0h200v200h-200Z\"/><g><g class=\"mark-line role-mark marks\" role=\"graphics-object\" aria-roledescription=\"line mark container\"><path aria-label=\"Year: 1750; value: 0; variable: FUND\" role=\"graphics-symbol\" aria-roledescription=\"line mark\" d=\"M72.72727272727273,200L73.0909090909091,199.86950744490403L73.45454545454545,199.7360662611084L73.81818181818181,199.59948733092634L74.18181818181819,199.4595611632474L74.54545454545455,199.31605441426018L74.90909090909092,199.1687056248183L75.27272727272727,199.01721997680994L75.63636363636364,198.8612628190258L76,198.7004516473573L76.36363636363637,198.53462401908658L76.72727272727272,198.36378004623504L77.0909090909091,198.1876539977485L77.45454545454545,198.00596219208472L77.81818181818181,197.81840143529678L78.18181818181819,197.62464729656065L78.54545454545455,197.42435220256064L78.9090909090909,197.21714332992696L79.27272727272727,197.00262027243403L79.63636363636364,196.78035245687607L80,196.55345563267107L80.36363636363636,196.3222151335899L80.72727272727272,196.08645819182502L81.0909090909091,195.84600319902748L81.45454545454545,195.60065918509864L81.81818181818183,195.35022526313654L82.18181818181817,195.09449003817946L82.54545454545455,194.8332309772177L82.9090909090909,194.56621373775712L83.27272727272728,194.2931914520201L83.63636363636363,194.02022019564401L84,193.74529772210198L84.36363636363636,193.4681769624949L84.72727272727273,193.18859376308805L85.0909090909091,192.9062651624613L85.45454545454545,192.62088749894278L85.81818181818181,192.3321343304398L86.18181818181819,192.0396541468562L86.54545454545455,191.74306785314494L86.9090909090909,191.44196599867163L87.27272727272727,191.12749064656472L87.63636363636364,190.81111829901462L88,190.49233843423679L88.36363636363636,190.17063584186985L88.72727272727273,189.84548846447524L89.0909090909091,189.51668932376742L89.45454545454545,189.17921431192678L89.81818181818181,188.82994732990454L90.18181818181819,188.46991009551604L90.54545454545455,188.1045894322502L90.9090909090909,187.73103003473838L91.27272727272727,187.3438747695381L91.63636363636364,186.95043418488015L92,186.55084586522906L92.36363636363636,186.14528260564066L92.72727272727272,185.7339499077786L93.0909090909091,185.3170764638137L93.45454545454545,184.8949154188038L93.81818181818183,184.4677383153333L94.18181818181817,184.03584114309965L94.54545454545455,183.5995320471429L94.9090909090909,183.15844601445207L95.27272727272728,182.7124017562581L95.63636363636364,182.26121711136244L96,181.80470726848256L96.36363636363636,181.34268095864888L96.72727272727273,180.8749472091155L97.0909090909091,180.40130765339492L97.45454545454545,179.92156131617412L97.81818181818181,179.4355040942564L98.18181818181819,178.94292412363774L98.54545454545455,178.44360557949358L98.9090909090909,177.93730158676746L99.27272727272727,177.42376215151282L99.63636363636364,176.90272757722897L100,176.37393066010384L100.36363636363636,175.83740965536947L100.72727272727273,175.29307926894217L101.0909090909091,174.74084885774798L101.45454545454547,174.18063374741223L101.81818181818181,173.61234739258853L102.18181818181817,173.0359674152084L102.54545454545453,172.45139122959762L102.9090909090909,171.85851723736866L103.27272727272727,171.25724696087917L103.63636363636364,170.6474753415742L104,170.02910048192922L104.36363636363637,169.40202335835107L104.72727272727273,168.7661403828705L105.09090909090911,168.12135184916534L105.45454545454544,167.46755206703193L105.81818181818181,166.80464086643846L106.18181818181817,166.13258321764465L106.54545454545455,165.45134161573242L106.9090909090909,164.7608846855481L107.27272727272728,164.06118175935003L107.63636363636364,163.35220827800467L108,162.63394149380846L108.36363636363637,161.90635869188827L108.72727272727272,161.1694447673483L109.09090909090908,160.42318312990912L109.45454545454545,159.66787647239917L109.81818181818181,158.90333459432208L110.18181818181819,158.1293632946148L110.54545454545455,157.34576367123006L110.9090909090909,156.5523342206879L111.27272727272728,155.7488631829304L111.63636363636364,154.9351364323296L112.00000000000001,154.1109350813999L112.36363636363636,153.27603609277782L112.72727272727272,152.43020879997886L113.0909090909091,151.57321426942715L113.45454545454545,150.7048103046308L113.81818181818181,149.8247473022142L114.18181818181819,148.93277136208678L114.54545454545455,148.02862200239684L114.90909090909092,147.11202772004265L115.27272727272728,146.18271153160725L115.63636363636363,145.2403902169752L115.99999999999999,144.28477254351978L116.36363636363636,143.31556207802186L116.72727272727272,142.33245012841485L117.0909090909091,141.33519928953478L117.45454545454545,140.32356956016315L117.81818181818183,139.29732056385222L118.18181818181819,138.25620705718939L118.54545454545456,137.19997873633173L118.90909090909092,136.12867377460583L119.27272727272727,135.04234341163408L119.63636363636363,133.94104825892208L120,132.8248620219409L120.36363636363636,131.69386830271836L120.72727272727273,130.54812494417624L121.0909090909091,129.38769994785554L121.45454545454545,128.2126728840208L121.81818181818183,127.02312927248758L122.18181818181819,125.81916649035985L122.54545454545453,124.60088939234018L122.9090909090909,123.36841451074405L123.27272727272727,122.12186857975738L123.63636363636363,120.86138961317378L124,119.58712135293639L124.36363636363636,118.29919440686265L124.72727272727273,116.99774702821024L125.0909090909091,115.68292817064139L125.45454545454547,114.35489442378004L125.81818181818183,113.01381129442349L126.18181818181817,111.65985161336076L126.54545454545453,110.29319623103586L126.9090909090909,108.91403588291149L127.27272727272727,107.52256916089915L127.63636363636364,106.11824267857482L128,104.7017824934703L128.36363636363637,103.27393622197572L128.72727272727275,101.83547074378669L129.0909090909091,100.38717326705115L129.45454545454544,98.93017175935384L129.8181818181818,97.46568789088724L130.1818181818182,95.99455849446537L130.54545454545453,94.51763411738992L130.9090909090909,93.0357775234345L131.27272727272728,91.54986215277366L131.63636363636363,90.06074782276544L132,88.56930154067501L132.36363636363637,87.07639595599434L132.72727272727275,85.58290779109672L133.0909090909091,84.08971625526071L133.45454545454544,82.59770144712917L133.8181818181818,81.10774275015092L134.1818181818182,79.62071722665429L134.54545454545453,78.1374980149667L134.9090909090909,76.6589527349105L135.27272727272728,75.18593757863512L135.63636363636365,73.7193001174393L136,72.25987778060767L136.36363636363635,70.80849636132538L136.72727272727272,69.36596855517642L137.0909090909091,67.93309253533133L137.45454545454544,66.51065056913548L137.8181818181818,65.09940767990223L138.1818181818182,63.700110357947004L138.54545454545456,62.313485324852124L138.9090909090909,60.940238354043565L139.27272727272728,59.581053151282234L139.63636363636365,58.2365902983206L140,56.907486262044735L140.36363636363635,55.59435247216127L140.72727272727272,54.29777446952622L141.0909090909091,53.01831112668338L141.45454545454547,51.756493942524884L141.8181818181818,50.51282641227499L142.1818181818182,49.28778347443483L142.54545454545456,48.0818110352321L142.9090909090909,46.895325570404765L143.27272727272725,45.728713805238684L143.63636363636363,44.58233247244521L144,43.45650814718505L144.36363636363637,42.35153715924622L144.72727272727272,41.267685580075984L145.0909090909091,40.2051892848821L145.45454545454547,39.16425408776914L145.8181818181818,38.14505594798598L146.1818181818182,37.14760146210592L146.54545454545456,36.17187720313579L146.9090909090909,35.2178501715702L147.27272727272725,34.28546827030674L147.63636363636363,33.374660804510015L148,32.48533900419328L148.36363636363637,31.617396568299295L148.72727272727272,30.770710228324138L149.0909090909091,29.945140329183985L149.45454545454547,29.140531426625294L149.81818181818184,28.356712898481142L150.18181818181816,27.59349956827095L150.54545454545453,26.850692339479632L150.9090909090909,26.128078838642477L151.27272727272728,25.425434065420415L151.63636363636363,24.74252104824992L152,24.07909150357255L152.36363636363637,23.43488649730976L152.72727272727275,22.80963710678934L153.0909090909091,22.2030650816605L153.45454545454544,21.614883502144377L153.8181818181818,21.04479743375156L154.1818181818182,20.49250457636034L154.54545454545453,19.957695906708683L154.9090909090909,19.440056312837406L155.27272727272728,18.939265219530842L155.63636363636363,18.454997203433464L156,17.9869225968192L156.36363636363637,17.53470807905453L156.72727272727275,17.098017254744423L157.0909090909091,16.6765112177806L157.45454545454544,16.269849100302025L157.8181818181818,15.877688606111118L158.1818181818182,15.499686527636204L158.54545454545453,15.135499245898432L158.9090909090909,14.784783213171027L159.27272727272728,14.447195417629576L159.63636363636365,14.12239382976792L160,13.810037830152822L160.36363636363635,13.50978861828278L160.72727272727272,13.22130960239829L161.0909090909091,12.944266769248735L161.45454545454544,12.678329036343317L161.8181818181818,12.423168583139056L162.1818181818182,12.178461164831212L162.54545454545456,11.943886404882797L162.9090909090909,11.719128069293339L163.27272727272728,11.50387432188069L163.63636363636365,11.297817960939671L164,11.10046329067873L164.36363636363635,10.911350218669957L164.72727272727272,10.7300458122642L165.0909090909091,10.556142542281478L165.45454545454547,10.389256648607237L165.8181818181818,10.229026618666248L166.1818181818182,10.07511177045004L166.54545454545456,9.927190932554698L166.9090909090909,9.784961214009268L167.27272727272725,9.648136857538226L167.63636363636363,9.51644817015318L168,9.38964052554172L168.36363636363637,9.267473433151618L168.72727272727272,9.14971966914704L169.0909090909091,9.036164464864838L169.45454545454547,8.926604748731815L169.8181818181818,8.820848437912865L170.1818181818182,8.718713776133402L170.54545454545456,8.620028714495366L170.9090909090909,8.524630332301397L171.27272727272725,8.432364295100347L171.63636363636363,8.343084347437312L172,8.256651837883844L172.36363636363637,8.172935274130122L172.72727272727272,8.091809906154923L173.0909090909091,8.013162953823283L173.45454545454547,7.936887115151814L173.8181818181818,7.862880267890948L174.18181818181816,7.791045188787815L174.54545454545453,7.721289288967292L174.9090909090909,7.653524364809994L175.27272727272728,7.587666363267087L175.63636363636363,7.523635160682485L176,7.461354354318606L176.36363636363637,7.400751065798827L176.72727272727272,7.341755755706725L177.0909090909091,7.284302048673319L177.45454545454547,7.228326568306254L177.8181818181818,7.1737687813671736L178.1818181818182,7.1205708506431264L178.54545454545453,7.068677495989117L178.9090909090909,7.018035863041949L179.27272727272728,6.968595399128397L179.63636363636363,6.920307735966302L180,6.873126578751099L180.36363636363637,6.827007601231361L180.72727272727275,6.781908346429688L181.0909090909091,6.73778813268191L181.45454545454544,6.694607964675003L181.8181818181818,6.652330449202792L182.1818181818182,6.610919942846549L182.54545454545453,6.570342014013075L182.9090909090909,6.530563606226258L183.27272727272728,6.491552970118719L183.63636363636365,6.453279598909223L184,6.415714167176745L184.36363636363637,6.378828472726306L184.72727272727272,6.342595381386684L185.0909090909091,6.306988774574451L185.45454545454544,6.271983499441847L185.8181818181818,6.237555321479626L186.1818181818182,6.203680879436457L186.54545454545456,6.170337642415613L186.9090909090909,6.137503869034777L187.27272727272728,6.105158568520519L187.63636363636365,6.073281463631908L188,6.041852955316496L188.36363636363635,6.010854088996087L188.72727272727272,5.9802665223816165L189.0909090909091,5.950072494745839L189.45454545454544,5.920254797557045L189.8181818181818,5.8907967464084L190.1818181818182,5.8616821541567L190.54545454545456,5.83289530520561L190.9090909090909,5.804420930868837L191.27272727272728,5.7762441857408975L191.63636363636363,5.748350625034737L192,5.720726182808122L192.36363636363635,5.693357151041334L192.72727272727272,5.666230159507157L193.0909090909091,5.639332156389121L193.45454545454547,5.612650389595375L193.8181818181818,5.586172388727961L194.1818181818182,5.559885947663568L194.54545454545456,5.533779107707959L194.9090909090909,5.507840141278408L195.27272727272725,5.482057536094254L195.63636363636363,5.45641997981452L196,5.430916345109638L196.36363636363637,5.405535675124029L196.72727272727272,5.380267169302644L197.0909090909091,5.355100169550031L197.45454545454547,5.330024146687351L197.8181818181818,5.305028687179547L198.1818181818182,5.280103480117182L198.54545454545453,5.255238304408416L198.9090909090909,5.230423016160879L199.27272727272728,5.205647536231384L199.63636363636363,5.180901837911156L200,5.156175934730878\" stroke=\"#4c78a8\" stroke-width=\"2\"/></g></g><path class=\"foreground\" aria-hidden=\"true\" d=\"\" display=\"none\"/></g><g transform=\"translate(0,0)\"><path class=\"background\" aria-hidden=\"true\" d=\"M0,0h200v200h-200Z\"/><g><g class=\"mark-line role-mark marks\" role=\"graphics-object\" aria-roledescription=\"line mark container\"><path aria-label=\"Year: 1750; value: 0; variable: FUNDFAIR\" role=\"graphics-symbol\" aria-roledescription=\"line mark\" d=\"M72.72727272727273,200L73.0909090909091,199.86950744490403L73.45454545454545,199.7360662611084L73.81818181818181,199.59948733092634L74.18181818181819,199.4595611632474L74.54545454545455,199.31605441426018L74.90909090909092,199.1687056248183L75.27272727272727,199.01721997680994L75.63636363636364,198.8612628190258L76,198.7004516473573L76.36363636363637,198.53462401908658L76.72727272727272,198.36378004623504L77.0909090909091,198.1876539977485L77.45454545454545,198.00596219208472L77.81818181818181,197.81840143529678L78.18181818181819,197.62464729656065L78.54545454545455,197.42435220256064L78.9090909090909,197.21714332992696L79.27272727272727,197.00262027243403L79.63636363636364,196.78035245687607L80,196.55345563267107L80.36363636363636,196.3222151335899L80.72727272727272,196.08645819182502L81.0909090909091,195.84600319902748L81.45454545454545,195.60065918509864L81.81818181818183,195.35022526313654L82.18181818181817,195.09449003817946L82.54545454545455,194.8332309772177L82.9090909090909,194.56621373775712L83.27272727272728,194.2931914520201L83.63636363636363,194.02022019564401L84,193.74529772210198L84.36363636363636,193.4681769624949L84.72727272727273,193.18859376308805L85.0909090909091,192.9062651624613L85.45454545454545,192.62088749894278L85.81818181818181,192.3321343304398L86.18181818181819,192.0396541468562L86.54545454545455,191.74306785314494L86.9090909090909,191.44196599867163L87.27272727272727,191.12749457103396L87.63636363636364,190.8111303978888L88,190.49236190450483L88.36363636363636,190.17067197158082L88.72727272727273,189.84553793473287L89.0909090909091,189.51675247252376L89.45454545454545,189.17929414073052L89.81818181818181,188.8300490896143L90.18181818181819,188.47004059836993L90.54545454545455,188.1047559429706L90.9090909090909,187.73124864467724L91.27272727272727,187.34416343663906L91.63636363636364,186.95081177328842L92,186.55133366797492L92.36363636363636,186.14590385984553L92.72727272727272,185.734729222751L93.0909090909091,185.31803938455917L93.45454545454545,184.89608801877216L93.81818181818183,184.46914706329264L94.18181818181817,184.03751298353163L94.54545454545455,183.60149439659682L94.9090909090909,183.16072814169524L95.27272727272728,182.715034941761L95.63636363636364,182.26423492286534L96,181.80814603426305L96.36363636363636,181.34657989580805L96.72727272727273,180.87934833308108L97.0909090909091,180.40625573163925L97.45454545454545,179.92710408247675L97.81818181818181,179.4416924630352L98.18181818181819,178.94981232726605L98.54545454545455,178.45125135963386L98.9090909090909,177.94576644600463L99.27272727272727,177.4331117572045L99.63636363636364,176.9130320677735L100,176.38526470720942L100.36363636363636,175.8498516541655L100.72727272727273,175.30671057286057L101.0909090909091,174.75575330527232L101.45454545454547,174.196897370247L101.81818181818181,173.63005824844896L102.18181818181817,173.05521542740144L102.54545454545453,172.47226847736331L102.9090909090909,171.88111818238724L103.27272727272727,171.28166888799652L103.63636363636364,170.67381909459644L104,170.05747089050618L104.36363636363637,169.43252943707094L104.72727272727273,168.79889529615028L105.09090909090911,168.15647269920225L105.45454545454544,167.50515966576887L105.81818181818181,166.84485928576044L106.18181818181817,166.1755392248373L106.54545454545455,165.49716460170657L106.9090909090909,164.809706787692L107.27272727272728,164.1131381934889L107.63636363636364,163.40743795154515L108,162.69258765814155L108.36363636363637,161.96856941211516L108.72727272727272,161.23537295997147L109.09090909090908,160.4929859919186L109.45454545454545,159.74171404137664L109.81818181818181,158.9813708701341L110.18181818181819,158.21176590067438L110.54545454545455,157.43270366283278L110.9090909090909,156.6439861882258L111.27272727272728,155.8454058137022L111.63636363636364,155.0367532707909L112.00000000000001,154.2178148211861L112.36363636363636,153.38837252988807L112.72727272727272,152.5482008266335L113.0909090909091,151.6970654769305L113.45454545454545,150.83472833741283L113.81818181818181,149.96094343110795L114.18181818181819,149.07546037017784L114.54545454545455,148.17802229320026L114.90909090909092,147.2683616380116L115.27272727272728,146.34620616249072L115.63636363636363,145.41127836830964L115.99999999999999,144.4632933273478L116.36363636363636,143.50196081166828L116.72727272727272,142.52697773610413L117.0909090909091,141.53811114339234L117.45454545454545,140.53512489391005L117.81818181818183,139.51778226530473L118.18181818181819,138.48584143873225L118.54545454545456,137.43905542196245L118.90909090909092,136.37746246856844L119.27272727272727,135.3011138577613L119.63636363636363,134.21007060086612L120,133.1044073921962L120.36363636363636,131.98420911655248L120.72727272727273,130.849534683278L121.0909090909091,129.70045250885772L121.45454545454545,128.53704150930506L121.81818181818183,127.35938554062811L122.18181818181819,126.16757916041732L122.54545454545453,124.96172324534326L122.9090909090909,123.74192981682089L123.27272727272727,122.5083208544653L123.63636363636363,121.26102987341272L124,120.0001968887782L124.36363636363636,118.72594961503017L124.72727272727273,117.43842392657824L125.0909090909091,116.13776581334434L125.45454545454547,114.82412714319119L125.81818181818183,113.49766702516627L126.18181818181817,112.15855051444032L126.54545454545453,110.80694983310396L126.9090909090909,109.44304668007798L127.27272727272727,108.06703081951747L127.63636363636364,106.67833344335503L128,105.27766932225285L128.36363636363637,103.86577473033904L128.72727272727275,102.44340433371599L129.0909090909091,101.01133207989794L129.45454545454544,99.57067118179862L129.8181818181818,98.12262733264345L130.1818181818182,96.66802073765541L130.54545454545453,95.20768513508888L130.9090909090909,93.74246683293204L131.27272727272728,92.27322378043439L131.63636363636363,90.80080237629065L132,89.32605705256339L132.36363636363637,87.84984729046816L132.72727272727275,86.3730352914746L133.0909090909091,84.89648445941525L133.45454545454544,83.42105820324868L133.8181818181818,81.94761849018283L134.1818181818182,80.47702490102895L134.54545454545453,79.0101334722749L134.9090909090909,77.54779595553123L135.27272727272728,76.09085474819477L135.63636363636365,74.64014561665589L136,73.19649413802358L136.36363636363635,71.76071350121937L136.72727272727272,70.33360300391276L137.0909090909091,68.91594611613694L137.45454545454544,67.5085100177411L137.8181818181818,66.11204490767966L138.1818181818182,64.72728324972611L138.54545454545456,63.35493938298906L138.9090909090909,61.99570955011047L139.27272727272728,60.65026976117427L139.63636363636365,59.319273233530346L140,58.00334869707604L140.36363636363635,56.70309874333221L140.72727272727272,55.419099066079426L141.0909090909091,54.15189862423513L141.45454545454547,52.90201971982089L141.8181818181818,51.66995752784225L142.1818181818182,50.456179851412905L142.54545454545456,49.26112718787748L142.9090909090909,48.08521249852791L143.27272727272725,46.92882008562347L143.63636363636363,45.79230482566285L144,44.67599185183331L144.36363636363637,43.580175977428446L144.72727272727272,42.50512195681164L145.0909090909091,41.451064796221495L145.45454545454547,40.418209870106026L145.8181818181818,39.40673339823992L146.1818181818182,38.416644013838244L146.54545454545456,37.44793142137435L146.9090909090909,36.50056734757135L147.27272727272725,35.57450579905066L147.63636363636363,34.66968253011529L148,33.78601496304328L148.36363636363637,32.92340260195068L148.72727272727272,32.08172747350251L149.0909090909091,31.260854921718085L149.45454545454547,30.46063463041351L149.81818181818184,29.680901643103308L150.18181818181816,28.921477372198655L150.54545454545453,28.182170561409215L150.9090909090909,27.462777835113172L151.27272727272728,26.763083303519842L151.63636363636363,26.082858815500252L152,25.421864386701355L152.36363636363637,24.7798486946563L152.72727272727275,24.156550207827276L153.0909090909091,23.551698136993338L153.45454545454544,22.965013283787904L153.8181818181818,22.39620887165714L154.1818181818182,21.844991441684858L154.54545454545453,21.311061335121263L154.9090909090909,20.794112978259616L155.27272727272728,20.293835228322198L155.63636363636363,19.809911664574443L156,19.342021073160076L156.36363636363637,18.88983821101673L156.72727272727275,18.453034541440427L157.0909090909091,18.031278882568657L157.45454545454544,17.624238024686445L157.8181818181818,17.231577294774645L158.1818181818182,16.852961127986443L158.54545454545453,16.488053629358348L158.9090909090909,16.136519161604458L159.27272727272728,15.798022599492167L159.63636363636365,15.472229559747475L160,15.15880682715327L160.36363636363635,14.857422566186873L160.72727272727272,14.567746638793256L161.0909090909091,14.289451124400188L161.45454545454544,14.022210799377067L161.8181818181818,13.765703526016516L162.1818181818182,13.51961060967235L162.54545454545456,13.283617194073894L162.9090909090909,13.057412546772218L163.27272727272728,12.840690173890712L163.63636363636365,12.633147865236971L164,12.434292999066976L164.36363636363635,12.243668146367614L164.72727272727272,12.060842683999162L165.0909090909091,11.88541115169064L165.45454545454547,11.716991634786122L165.8181818181818,11.555224280967668L166.1818181818182,11.399769921379054L166.54545454545456,11.25030878888702L166.9090909090909,11.106539345041133L167.27272727272725,10.968177144009816L167.63636363636363,10.834953730265307L168,10.706615582785917L168.36363636363637,10.582923158756575L168.72727272727272,10.463650014651193L169.0909090909091,10.348582013504704L169.45454545454547,10.237516578624707L169.8181818181818,10.130262005777869L170.1818181818182,10.026636861105874L170.54545454545456,9.92646939056443L170.9090909090909,9.829596966227916L171.27272727272725,9.735865568724812L171.63636363636363,9.645129260695251L172,9.55724969972438L172.36363636363637,9.47209563184268L172.72727272727272,9.389542415948071L173.0909090909091,9.309477376268083L173.45454545454547,9.231793232087249L173.8181818181818,9.156387836402091L174.18181818181816,9.083163919164061L174.54545454545453,9.012028844203158L174.9090909090909,8.942894392677502L175.27272727272728,8.87567651802006L175.63636363636363,8.810295089913245L176,8.746673677576467L176.36363636363637,8.684739337925462L176.72727272727272,8.624422418944523L177.0909090909091,8.565656384931852L177.45454545454547,8.508377665674516L177.8181818181818,8.452525523325537L178.1818181818182,8.398041915759414L178.54545454545453,8.344871370942219L178.9090909090909,8.292960872858558L179.27272727272728,8.24225973652506L179.63636363636363,8.19271945807487L180,8.144293579714358L180.36363636363637,8.096937573258444L180.72727272727275,8.050608739325039L181.0909090909091,8.005266132542822L181.45454545454544,7.960870482328897L181.8181818181818,7.917384112038706L182.1818181818182,7.874771106932443L182.54545454545453,7.8329967535397005L182.9090909090909,7.7920277251068315L183.27272727272728,7.751832022981042L183.63636363636365,7.712378913574591L184,7.673638850291731L184.36363636363637,7.6355834039740555L184.72727272727272,7.598185204087837L185.0909090909091,7.561417877122811L185.45454545454544,7.525255998546387L185.8181818181818,7.489675046754329L186.1818181818182,7.454651362953202L186.54545454545456,7.420162121660945L186.9090909090909,7.386185295550662L187.27272727272728,7.352699623635939L187.63636363636365,7.319684581014663L188,7.28712033700889L188.36363636363635,7.254987712431271L188.72727272727272,7.223268123483018L189.0909090909091,7.191943538580148L189.45454545454544,7.160996455684332L189.8181818181818,7.1304098814147565L190.1818181818182,7.100167311746963L190.54545454545456,7.0702527137150195L190.9090909090909,7.040650512199642L191.27272727272728,7.011345571864647L191.63636363636363,6.982323169310201L192,6.953568957752698L192.36363636363635,6.92506893773841L192.72727272727272,6.8968094337363395L193.0909090909091,6.868777069860688L193.45454545454547,6.840958755427651L193.8181818181818,6.813341676097284L194.1818181818182,6.7859132799739985L194.54545454545456,6.758661265834376L194.9090909090909,6.7315735755501205L195.27272727272725,6.704638380060124L195.63636363636363,6.677844052116466L196,6.6511791384293195L196.36363636363637,6.62463233042847L196.72727272727272,6.598192452973151L197.0909090909091,6.57184845905705L197.45454545454547,6.5455894154076155L197.8181818181818,6.519404494073888L198.1818181818182,6.49328296718501L198.54545454545453,6.467214204158589L198.9090909090909,6.441187660226233L199.27272727272728,6.41519285918819L199.63636363636363,6.389219369714394L200,6.363256777584803\" stroke=\"#f58518\" stroke-width=\"2\"/></g></g><path class=\"foreground\" aria-hidden=\"true\" d=\"\" display=\"none\"/></g></g><g class=\"mark-group role-legend\" role=\"graphics-symbol\" aria-roledescription=\"legend\" aria-label=\"Symbol legend titled 'variable' for stroke color with 2 values: FUND, FUNDFAIR\"><g transform=\"translate(220,0)\"><path class=\"background\" aria-hidden=\"true\" d=\"M0,0h65v40h-65Z\" pointer-events=\"none\"/><g><g class=\"mark-group role-legend-entry\"><g transform=\"translate(0,16)\"><path class=\"background\" aria-hidden=\"true\" d=\"M0,0h0v0h0Z\" pointer-events=\"none\"/><g><g class=\"mark-group role-scope\" role=\"graphics-object\" aria-roledescription=\"group mark container\"><g transform=\"translate(0,0)\"><path class=\"background\" aria-hidden=\"true\" d=\"M0,0h65v11h-65Z\" pointer-events=\"none\" opacity=\"1\"/><g><g class=\"mark-symbol role-legend-symbol\" pointer-events=\"none\"><path transform=\"translate(6,6)\" d=\"M-5,0L5,0\" stroke=\"#4c78a8\" stroke-width=\"1.5\" opacity=\"1\"/></g><g class=\"mark-text role-legend-label\" pointer-events=\"none\"><text text-anchor=\"start\" transform=\"translate(16,9)\" font-family=\"sans-serif\" font-size=\"10px\" fill=\"#000\" opacity=\"1\">FUND</text></g></g><path class=\"foreground\" aria-hidden=\"true\" d=\"\" pointer-events=\"none\" display=\"none\"/></g><g transform=\"translate(0,13)\"><path class=\"background\" aria-hidden=\"true\" d=\"M0,0h65v11h-65Z\" pointer-events=\"none\" opacity=\"1\"/><g><g class=\"mark-symbol role-legend-symbol\" pointer-events=\"none\"><path transform=\"translate(6,6)\" d=\"M-5,0L5,0\" stroke=\"#f58518\" stroke-width=\"1.5\" opacity=\"1\"/></g><g class=\"mark-text role-legend-label\" pointer-events=\"none\"><text text-anchor=\"start\" transform=\"translate(16,9)\" font-family=\"sans-serif\" font-size=\"10px\" fill=\"#000\" opacity=\"1\">FUNDFAIR</text></g></g><path class=\"foreground\" aria-hidden=\"true\" d=\"\" pointer-events=\"none\" display=\"none\"/></g></g></g><path class=\"foreground\" aria-hidden=\"true\" d=\"\" pointer-events=\"none\" display=\"none\"/></g></g><g class=\"mark-text role-legend-title\" pointer-events=\"none\"><text text-anchor=\"start\" transform=\"translate(0,9)\" font-family=\"sans-serif\" font-size=\"11px\" font-weight=\"bold\" fill=\"#000\" opacity=\"1\">variable</text></g></g><path class=\"foreground\" aria-hidden=\"true\" d=\"\" pointer-events=\"none\" display=\"none\"/></g></g></g><path class=\"foreground\" aria-hidden=\"true\" d=\"\" display=\"none\"/></g></g></g></svg>\n",
      "text/plain": [
       "@vlplot(\n",
       "    mark=\"line\",\n",
       "    encoding={\n",
       "        x={\n",
       "            field=\"Year\"\n",
       "        },\n",
       "        y={\n",
       "            field=\"value\"\n",
       "        },\n",
       "        color={\n",
       "            field=\"variable\"\n",
       "        }\n",
       "    },\n",
       "    data={\n",
       "        values=...\n",
       "    }\n",
       ")"
      ]
     },
     "execution_count": 27,
     "metadata": {},
     "output_type": "execute_result"
    }
   ],
   "source": [
    "fundfairvals =  m[:emissions, :cumglobco2]\n",
    "fundvals = vcat(\n",
    "    fill(missing, length(FAIR_first:FUND_first)-1),\n",
    "    sum(mfund[:emissions, :cumglobco2][1:length(FUND_first:FAIR_last),:], dims = 2)\n",
    ")\n",
    "fundvals = fundvals[:,1]; # make a vector\n",
    "\n",
    "df = DataFrame(\n",
    "    :Year => Mimi.time_labels(m),\n",
    "    :FUND => fundvals, \n",
    "    :FUNDFAIR => fundfairvals)\n",
    "\n",
    "stack(df, [:FUND, :FUNDFAIR]) |> \n",
    "\n",
    "@vlplot(\n",
    "    :line, \n",
    "    x = :Year,\n",
    "    y = :value,\n",
    "    color = :variable\n",
    ")"
   ]
  },
  {
   "cell_type": "code",
   "execution_count": 28,
   "metadata": {},
   "outputs": [
    {
     "data": {
      "application/vnd.vegalite.v4+json": {
       "data": {
        "values": [
         {
          "DIFF": null,
          "Year": 1750
         },
         {
          "DIFF": null,
          "Year": 1751
         },
         {
          "DIFF": null,
          "Year": 1752
         },
         {
          "DIFF": null,
          "Year": 1753
         },
         {
          "DIFF": null,
          "Year": 1754
         },
         {
          "DIFF": null,
          "Year": 1755
         },
         {
          "DIFF": null,
          "Year": 1756
         },
         {
          "DIFF": null,
          "Year": 1757
         },
         {
          "DIFF": null,
          "Year": 1758
         },
         {
          "DIFF": null,
          "Year": 1759
         },
         {
          "DIFF": null,
          "Year": 1760
         },
         {
          "DIFF": null,
          "Year": 1761
         },
         {
          "DIFF": null,
          "Year": 1762
         },
         {
          "DIFF": null,
          "Year": 1763
         },
         {
          "DIFF": null,
          "Year": 1764
         },
         {
          "DIFF": null,
          "Year": 1765
         },
         {
          "DIFF": null,
          "Year": 1766
         },
         {
          "DIFF": null,
          "Year": 1767
         },
         {
          "DIFF": null,
          "Year": 1768
         },
         {
          "DIFF": null,
          "Year": 1769
         },
         {
          "DIFF": null,
          "Year": 1770
         },
         {
          "DIFF": null,
          "Year": 1771
         },
         {
          "DIFF": null,
          "Year": 1772
         },
         {
          "DIFF": null,
          "Year": 1773
         },
         {
          "DIFF": null,
          "Year": 1774
         },
         {
          "DIFF": null,
          "Year": 1775
         },
         {
          "DIFF": null,
          "Year": 1776
         },
         {
          "DIFF": null,
          "Year": 1777
         },
         {
          "DIFF": null,
          "Year": 1778
         },
         {
          "DIFF": null,
          "Year": 1779
         },
         {
          "DIFF": null,
          "Year": 1780
         },
         {
          "DIFF": null,
          "Year": 1781
         },
         {
          "DIFF": null,
          "Year": 1782
         },
         {
          "DIFF": null,
          "Year": 1783
         },
         {
          "DIFF": null,
          "Year": 1784
         },
         {
          "DIFF": null,
          "Year": 1785
         },
         {
          "DIFF": null,
          "Year": 1786
         },
         {
          "DIFF": null,
          "Year": 1787
         },
         {
          "DIFF": null,
          "Year": 1788
         },
         {
          "DIFF": null,
          "Year": 1789
         },
         {
          "DIFF": null,
          "Year": 1790
         },
         {
          "DIFF": null,
          "Year": 1791
         },
         {
          "DIFF": null,
          "Year": 1792
         },
         {
          "DIFF": null,
          "Year": 1793
         },
         {
          "DIFF": null,
          "Year": 1794
         },
         {
          "DIFF": null,
          "Year": 1795
         },
         {
          "DIFF": null,
          "Year": 1796
         },
         {
          "DIFF": null,
          "Year": 1797
         },
         {
          "DIFF": null,
          "Year": 1798
         },
         {
          "DIFF": null,
          "Year": 1799
         },
         {
          "DIFF": null,
          "Year": 1800
         },
         {
          "DIFF": null,
          "Year": 1801
         },
         {
          "DIFF": null,
          "Year": 1802
         },
         {
          "DIFF": null,
          "Year": 1803
         },
         {
          "DIFF": null,
          "Year": 1804
         },
         {
          "DIFF": null,
          "Year": 1805
         },
         {
          "DIFF": null,
          "Year": 1806
         },
         {
          "DIFF": null,
          "Year": 1807
         },
         {
          "DIFF": null,
          "Year": 1808
         },
         {
          "DIFF": null,
          "Year": 1809
         },
         {
          "DIFF": null,
          "Year": 1810
         },
         {
          "DIFF": null,
          "Year": 1811
         },
         {
          "DIFF": null,
          "Year": 1812
         },
         {
          "DIFF": null,
          "Year": 1813
         },
         {
          "DIFF": null,
          "Year": 1814
         },
         {
          "DIFF": null,
          "Year": 1815
         },
         {
          "DIFF": null,
          "Year": 1816
         },
         {
          "DIFF": null,
          "Year": 1817
         },
         {
          "DIFF": null,
          "Year": 1818
         },
         {
          "DIFF": null,
          "Year": 1819
         },
         {
          "DIFF": null,
          "Year": 1820
         },
         {
          "DIFF": null,
          "Year": 1821
         },
         {
          "DIFF": null,
          "Year": 1822
         },
         {
          "DIFF": null,
          "Year": 1823
         },
         {
          "DIFF": null,
          "Year": 1824
         },
         {
          "DIFF": null,
          "Year": 1825
         },
         {
          "DIFF": null,
          "Year": 1826
         },
         {
          "DIFF": null,
          "Year": 1827
         },
         {
          "DIFF": null,
          "Year": 1828
         },
         {
          "DIFF": null,
          "Year": 1829
         },
         {
          "DIFF": null,
          "Year": 1830
         },
         {
          "DIFF": null,
          "Year": 1831
         },
         {
          "DIFF": null,
          "Year": 1832
         },
         {
          "DIFF": null,
          "Year": 1833
         },
         {
          "DIFF": null,
          "Year": 1834
         },
         {
          "DIFF": null,
          "Year": 1835
         },
         {
          "DIFF": null,
          "Year": 1836
         },
         {
          "DIFF": null,
          "Year": 1837
         },
         {
          "DIFF": null,
          "Year": 1838
         },
         {
          "DIFF": null,
          "Year": 1839
         },
         {
          "DIFF": null,
          "Year": 1840
         },
         {
          "DIFF": null,
          "Year": 1841
         },
         {
          "DIFF": null,
          "Year": 1842
         },
         {
          "DIFF": null,
          "Year": 1843
         },
         {
          "DIFF": null,
          "Year": 1844
         },
         {
          "DIFF": null,
          "Year": 1845
         },
         {
          "DIFF": null,
          "Year": 1846
         },
         {
          "DIFF": null,
          "Year": 1847
         },
         {
          "DIFF": null,
          "Year": 1848
         },
         {
          "DIFF": null,
          "Year": 1849
         },
         {
          "DIFF": null,
          "Year": 1850
         },
         {
          "DIFF": null,
          "Year": 1851
         },
         {
          "DIFF": null,
          "Year": 1852
         },
         {
          "DIFF": null,
          "Year": 1853
         },
         {
          "DIFF": null,
          "Year": 1854
         },
         {
          "DIFF": null,
          "Year": 1855
         },
         {
          "DIFF": null,
          "Year": 1856
         },
         {
          "DIFF": null,
          "Year": 1857
         },
         {
          "DIFF": null,
          "Year": 1858
         },
         {
          "DIFF": null,
          "Year": 1859
         },
         {
          "DIFF": null,
          "Year": 1860
         },
         {
          "DIFF": null,
          "Year": 1861
         },
         {
          "DIFF": null,
          "Year": 1862
         },
         {
          "DIFF": null,
          "Year": 1863
         },
         {
          "DIFF": null,
          "Year": 1864
         },
         {
          "DIFF": null,
          "Year": 1865
         },
         {
          "DIFF": null,
          "Year": 1866
         },
         {
          "DIFF": null,
          "Year": 1867
         },
         {
          "DIFF": null,
          "Year": 1868
         },
         {
          "DIFF": null,
          "Year": 1869
         },
         {
          "DIFF": null,
          "Year": 1870
         },
         {
          "DIFF": null,
          "Year": 1871
         },
         {
          "DIFF": null,
          "Year": 1872
         },
         {
          "DIFF": null,
          "Year": 1873
         },
         {
          "DIFF": null,
          "Year": 1874
         },
         {
          "DIFF": null,
          "Year": 1875
         },
         {
          "DIFF": null,
          "Year": 1876
         },
         {
          "DIFF": null,
          "Year": 1877
         },
         {
          "DIFF": null,
          "Year": 1878
         },
         {
          "DIFF": null,
          "Year": 1879
         },
         {
          "DIFF": null,
          "Year": 1880
         },
         {
          "DIFF": null,
          "Year": 1881
         },
         {
          "DIFF": null,
          "Year": 1882
         },
         {
          "DIFF": null,
          "Year": 1883
         },
         {
          "DIFF": null,
          "Year": 1884
         },
         {
          "DIFF": null,
          "Year": 1885
         },
         {
          "DIFF": null,
          "Year": 1886
         },
         {
          "DIFF": null,
          "Year": 1887
         },
         {
          "DIFF": null,
          "Year": 1888
         },
         {
          "DIFF": null,
          "Year": 1889
         },
         {
          "DIFF": null,
          "Year": 1890
         },
         {
          "DIFF": null,
          "Year": 1891
         },
         {
          "DIFF": null,
          "Year": 1892
         },
         {
          "DIFF": null,
          "Year": 1893
         },
         {
          "DIFF": null,
          "Year": 1894
         },
         {
          "DIFF": null,
          "Year": 1895
         },
         {
          "DIFF": null,
          "Year": 1896
         },
         {
          "DIFF": null,
          "Year": 1897
         },
         {
          "DIFF": null,
          "Year": 1898
         },
         {
          "DIFF": null,
          "Year": 1899
         },
         {
          "DIFF": null,
          "Year": 1900
         },
         {
          "DIFF": null,
          "Year": 1901
         },
         {
          "DIFF": null,
          "Year": 1902
         },
         {
          "DIFF": null,
          "Year": 1903
         },
         {
          "DIFF": null,
          "Year": 1904
         },
         {
          "DIFF": null,
          "Year": 1905
         },
         {
          "DIFF": null,
          "Year": 1906
         },
         {
          "DIFF": null,
          "Year": 1907
         },
         {
          "DIFF": null,
          "Year": 1908
         },
         {
          "DIFF": null,
          "Year": 1909
         },
         {
          "DIFF": null,
          "Year": 1910
         },
         {
          "DIFF": null,
          "Year": 1911
         },
         {
          "DIFF": null,
          "Year": 1912
         },
         {
          "DIFF": null,
          "Year": 1913
         },
         {
          "DIFF": null,
          "Year": 1914
         },
         {
          "DIFF": null,
          "Year": 1915
         },
         {
          "DIFF": null,
          "Year": 1916
         },
         {
          "DIFF": null,
          "Year": 1917
         },
         {
          "DIFF": null,
          "Year": 1918
         },
         {
          "DIFF": null,
          "Year": 1919
         },
         {
          "DIFF": null,
          "Year": 1920
         },
         {
          "DIFF": null,
          "Year": 1921
         },
         {
          "DIFF": null,
          "Year": 1922
         },
         {
          "DIFF": null,
          "Year": 1923
         },
         {
          "DIFF": null,
          "Year": 1924
         },
         {
          "DIFF": null,
          "Year": 1925
         },
         {
          "DIFF": null,
          "Year": 1926
         },
         {
          "DIFF": null,
          "Year": 1927
         },
         {
          "DIFF": null,
          "Year": 1928
         },
         {
          "DIFF": null,
          "Year": 1929
         },
         {
          "DIFF": null,
          "Year": 1930
         },
         {
          "DIFF": null,
          "Year": 1931
         },
         {
          "DIFF": null,
          "Year": 1932
         },
         {
          "DIFF": null,
          "Year": 1933
         },
         {
          "DIFF": null,
          "Year": 1934
         },
         {
          "DIFF": null,
          "Year": 1935
         },
         {
          "DIFF": null,
          "Year": 1936
         },
         {
          "DIFF": null,
          "Year": 1937
         },
         {
          "DIFF": null,
          "Year": 1938
         },
         {
          "DIFF": null,
          "Year": 1939
         },
         {
          "DIFF": null,
          "Year": 1940
         },
         {
          "DIFF": null,
          "Year": 1941
         },
         {
          "DIFF": null,
          "Year": 1942
         },
         {
          "DIFF": null,
          "Year": 1943
         },
         {
          "DIFF": null,
          "Year": 1944
         },
         {
          "DIFF": null,
          "Year": 1945
         },
         {
          "DIFF": null,
          "Year": 1946
         },
         {
          "DIFF": null,
          "Year": 1947
         },
         {
          "DIFF": null,
          "Year": 1948
         },
         {
          "DIFF": null,
          "Year": 1949
         },
         {
          "DIFF": 0,
          "Year": 1950
         },
         {
          "DIFF": 0,
          "Year": 1951
         },
         {
          "DIFF": 0,
          "Year": 1952
         },
         {
          "DIFF": 0,
          "Year": 1953
         },
         {
          "DIFF": 0,
          "Year": 1954
         },
         {
          "DIFF": 0,
          "Year": 1955
         },
         {
          "DIFF": 0,
          "Year": 1956
         },
         {
          "DIFF": 0,
          "Year": 1957
         },
         {
          "DIFF": 0,
          "Year": 1958
         },
         {
          "DIFF": 0,
          "Year": 1959
         },
         {
          "DIFF": 0,
          "Year": 1960
         },
         {
          "DIFF": 0,
          "Year": 1961
         },
         {
          "DIFF": 0,
          "Year": 1962
         },
         {
          "DIFF": 0,
          "Year": 1963
         },
         {
          "DIFF": 0,
          "Year": 1964
         },
         {
          "DIFF": 0,
          "Year": 1965
         },
         {
          "DIFF": 0,
          "Year": 1966
         },
         {
          "DIFF": 0,
          "Year": 1967
         },
         {
          "DIFF": 0,
          "Year": 1968
         },
         {
          "DIFF": 0,
          "Year": 1969
         },
         {
          "DIFF": 0,
          "Year": 1970
         },
         {
          "DIFF": 0,
          "Year": 1971
         },
         {
          "DIFF": 0,
          "Year": 1972
         },
         {
          "DIFF": 0,
          "Year": 1973
         },
         {
          "DIFF": 0,
          "Year": 1974
         },
         {
          "DIFF": 0,
          "Year": 1975
         },
         {
          "DIFF": 0,
          "Year": 1976
         },
         {
          "DIFF": 0,
          "Year": 1977
         },
         {
          "DIFF": 0,
          "Year": 1978
         },
         {
          "DIFF": 0,
          "Year": 1979
         },
         {
          "DIFF": 0,
          "Year": 1980
         },
         {
          "DIFF": 0,
          "Year": 1981
         },
         {
          "DIFF": 0,
          "Year": 1982
         },
         {
          "DIFF": 0,
          "Year": 1983
         },
         {
          "DIFF": 0,
          "Year": 1984
         },
         {
          "DIFF": 0,
          "Year": 1985
         },
         {
          "DIFF": 0,
          "Year": 1986
         },
         {
          "DIFF": 0,
          "Year": 1987
         },
         {
          "DIFF": 0,
          "Year": 1988
         },
         {
          "DIFF": 0,
          "Year": 1989
         },
         {
          "DIFF": -0.06867821179912426,
          "Year": 1990
         },
         {
          "DIFF": -0.21173029809142463,
          "Year": 1991
         },
         {
          "DIFF": -0.4107296905131079,
          "Year": 1992
         },
         {
          "DIFF": -0.6322699419979472,
          "Year": 1993
         },
         {
          "DIFF": -0.8657295084267389,
          "Year": 1994
         },
         {
          "DIFF": -1.1051032357790973,
          "Year": 1995
         },
         {
          "DIFF": -1.397004065278452,
          "Year": 1996
         },
         {
          "DIFF": -1.7807949207781348,
          "Year": 1997
         },
         {
          "DIFF": -2.2837999433395453,
          "Year": 1998
         },
         {
          "DIFF": -2.913937606732361,
          "Year": 1999
         },
         {
          "DIFF": -3.8256739300268237,
          "Year": 2000
         },
         {
          "DIFF": -5.051674266869668,
          "Year": 2001
         },
         {
          "DIFF": -6.607797144970391,
          "Year": 2002
         },
         {
          "DIFF": -8.53654805291444,
          "Year": 2003
         },
         {
          "DIFF": -10.871948585205246,
          "Year": 2004
         },
         {
          "DIFF": -13.638012016803259,
          "Year": 2005
         },
         {
          "DIFF": -16.851113046286628,
          "Year": 2006
         },
         {
          "DIFF": -20.520499445905443,
          "Year": 2007
         },
         {
          "DIFF": -24.653089287981857,
          "Year": 2008
         },
         {
          "DIFF": -29.25720755988732,
          "Year": 2009
         },
         {
          "DIFF": -34.34111544321058,
          "Year": 2010
         },
         {
          "DIFF": -39.93722675531171,
          "Year": 2011
         },
         {
          "DIFF": -46.08074630051851,
          "Year": 2012
         },
         {
          "DIFF": -52.81170130078681,
          "Year": 2013
         },
         {
          "DIFF": -60.17840115836589,
          "Year": 2014
         },
         {
          "DIFF": -68.23140028532362,
          "Year": 2015
         },
         {
          "DIFF": -77.01966939750127,
          "Year": 2016
         },
         {
          "DIFF": -86.59136927529471,
          "Year": 2017
         },
         {
          "DIFF": -96.99841029610252,
          "Year": 2018
         },
         {
          "DIFF": -108.29645362839801,
          "Year": 2019
         },
         {
          "DIFF": -120.54356349614682,
          "Year": 2020
         },
         {
          "DIFF": -133.80115245532943,
          "Year": 2021
         },
         {
          "DIFF": -148.13503665052122,
          "Year": 2022
         },
         {
          "DIFF": -163.61809960426763,
          "Year": 2023
         },
         {
          "DIFF": -180.32858452934306,
          "Year": 2024
         },
         {
          "DIFF": -198.3458243473433,
          "Year": 2025
         },
         {
          "DIFF": -217.7349789305008,
          "Year": 2026
         },
         {
          "DIFF": -238.54781857249327,
          "Year": 2027
         },
         {
          "DIFF": -260.8278316761134,
          "Year": 2028
         },
         {
          "DIFF": -284.6133996085264,
          "Year": 2029
         },
         {
          "DIFF": -309.939977557573,
          "Year": 2030
         },
         {
          "DIFF": -336.84021337813465,
          "Year": 2031
         },
         {
          "DIFF": -365.3518358995789,
          "Year": 2032
         },
         {
          "DIFF": -395.51653782534413,
          "Year": 2033
         },
         {
          "DIFF": -427.3837245538598,
          "Year": 2034
         },
         {
          "DIFF": -461.015677889809,
          "Year": 2035
         },
         {
          "DIFF": -496.4821500965045,
          "Year": 2036
         },
         {
          "DIFF": -533.8563775980147,
          "Year": 2037
         },
         {
          "DIFF": -573.2109823960345,
          "Year": 2038
         },
         {
          "DIFF": -614.6148756464245,
          "Year": 2039
         },
         {
          "DIFF": -658.1329778964864,
          "Year": 2040
         },
         {
          "DIFF": -703.8223381346324,
          "Year": 2041
         },
         {
          "DIFF": -751.7301258716034,
          "Year": 2042
         },
         {
          "DIFF": -801.9022545481566,
          "Year": 2043
         },
         {
          "DIFF": -854.3867875185097,
          "Year": 2044
         },
         {
          "DIFF": -909.237597430707,
          "Year": 2045
         },
         {
          "DIFF": -966.5192869586172,
          "Year": 2046
         },
         {
          "DIFF": -1026.307875828934,
          "Year": 2047
         },
         {
          "DIFF": -1088.687603970291,
          "Year": 2048
         },
         {
          "DIFF": -1153.7433709057514,
          "Year": 2049
         },
         {
          "DIFF": -1221.55008516612,
          "Year": 2050
         },
         {
          "DIFF": -1292.1574571059318,
          "Year": 2051
         },
         {
          "DIFF": -1365.6348267106805,
          "Year": 2052
         },
         {
          "DIFF": -1442.0456060426077,
          "Year": 2053
         },
         {
          "DIFF": -1521.4498530477285,
          "Year": 2054
         },
         {
          "DIFF": -1603.9094319130527,
          "Year": 2055
         },
         {
          "DIFF": -1689.4960385066224,
          "Year": 2056
         },
         {
          "DIFF": -1778.294673072989,
          "Year": 2057
         },
         {
          "DIFF": -1870.3954462584807,
          "Year": 2058
         },
         {
          "DIFF": -1965.8876494294964,
          "Year": 2059
         },
         {
          "DIFF": -2064.860466456157,
          "Year": 2060
         },
         {
          "DIFF": -2167.396131308982,
          "Year": 2061
         },
         {
          "DIFF": -2273.565573685686,
          "Year": 2062
         },
         {
          "DIFF": -2383.432255640975,
          "Year": 2063
         },
         {
          "DIFF": -2497.0576415931573,
          "Year": 2064
         },
         {
          "DIFF": -2614.505089059472,
          "Year": 2065
         },
         {
          "DIFF": -2735.8435644567944,
          "Year": 2066
         },
         {
          "DIFF": -2861.156040460337,
          "Year": 2067
         },
         {
          "DIFF": -2990.5426483531483,
          "Year": 2068
         },
         {
          "DIFF": -3124.1137169908034,
          "Year": 2069
         },
         {
          "DIFF": -3261.9778388126288,
          "Year": 2070
         },
         {
          "DIFF": -3404.2331345623825,
          "Year": 2071
         },
         {
          "DIFF": -3550.9574425076135,
          "Year": 2072
         },
         {
          "DIFF": -3702.218340571155,
          "Year": 2073
         },
         {
          "DIFF": -3858.079775419086,
          "Year": 2074
         },
         {
          "DIFF": -4018.60167700029,
          "Year": 2075
         },
         {
          "DIFF": -4183.841998537537,
          "Year": 2076
         },
         {
          "DIFF": -4353.802144345595,
          "Year": 2077
         },
         {
          "DIFF": -4528.482807226246,
          "Year": 2078
         },
         {
          "DIFF": -4707.890984020894,
          "Year": 2079
         },
         {
          "DIFF": -4892.04397946829,
          "Year": 2080
         },
         {
          "DIFF": -5080.964242097456,
          "Year": 2081
         },
         {
          "DIFF": -5274.670434280764,
          "Year": 2082
         },
         {
          "DIFF": -5473.169817538001,
          "Year": 2083
         },
         {
          "DIFF": -5676.450942473719,
          "Year": 2084
         },
         {
          "DIFF": -5884.48469245946,
          "Year": 2085
         },
         {
          "DIFF": -6097.221726005431,
          "Year": 2086
         },
         {
          "DIFF": -6314.592427553842,
          "Year": 2087
         },
         {
          "DIFF": -6536.517856344581,
          "Year": 2088
         },
         {
          "DIFF": -6762.914807388792,
          "Year": 2089
         },
         {
          "DIFF": -6993.70455418108,
          "Year": 2090
         },
         {
          "DIFF": -7228.821877231821,
          "Year": 2091
         },
         {
          "DIFF": -7468.216142931953,
          "Year": 2092
         },
         {
          "DIFF": -7711.845721439924,
          "Year": 2093
         },
         {
          "DIFF": -7959.65874730167,
          "Year": 2094
         },
         {
          "DIFF": -8211.57258969522,
          "Year": 2095
         },
         {
          "DIFF": -8467.475287998328,
          "Year": 2096
         },
         {
          "DIFF": -8727.230768891983,
          "Year": 2097
         },
         {
          "DIFF": -8990.688036191743,
          "Year": 2098
         },
         {
          "DIFF": -9257.688950413838,
          "Year": 2099
         },
         {
          "DIFF": -9528.079025820829,
          "Year": 2100
         },
         {
          "DIFF": -9801.5883836539,
          "Year": 2101
         },
         {
          "DIFF": -10078.019503694493,
          "Year": 2102
         },
         {
          "DIFF": -10357.173896358116,
          "Year": 2103
         },
         {
          "DIFF": -10638.837823762791,
          "Year": 2104
         },
         {
          "DIFF": -10922.77922481834,
          "Year": 2105
         },
         {
          "DIFF": -11208.739892783808,
          "Year": 2106
         },
         {
          "DIFF": -11496.440230733948,
          "Year": 2107
         },
         {
          "DIFF": -11785.58925582585,
          "Year": 2108
         },
         {
          "DIFF": -12075.892809731653,
          "Year": 2109
         },
         {
          "DIFF": -12367.062916207127,
          "Year": 2110
         },
         {
          "DIFF": -12658.828484062571,
          "Year": 2111
         },
         {
          "DIFF": -12950.954686691286,
          "Year": 2112
         },
         {
          "DIFF": -13243.221458046464,
          "Year": 2113
         },
         {
          "DIFF": -13535.398353291675,
          "Year": 2114
         },
         {
          "DIFF": -13827.23125661281,
          "Year": 2115
         },
         {
          "DIFF": -14118.443572704215,
          "Year": 2116
         },
         {
          "DIFF": -14408.74323209119,
          "Year": 2117
         },
         {
          "DIFF": -14697.825450558681,
          "Year": 2118
         },
         {
          "DIFF": -14985.384301556507,
          "Year": 2119
         },
         {
          "DIFF": -15271.120502893813,
          "Year": 2120
         },
         {
          "DIFF": -15554.756360862404,
          "Year": 2121
         },
         {
          "DIFF": -15836.05046729371,
          "Year": 2122
         },
         {
          "DIFF": -16114.79623629013,
          "Year": 2123
         },
         {
          "DIFF": -16390.786254778504,
          "Year": 2124
         },
         {
          "DIFF": -16663.799948144704,
          "Year": 2125
         },
         {
          "DIFF": -16933.602852886077,
          "Year": 2126
         },
         {
          "DIFF": -17199.937664098106,
          "Year": 2127
         },
         {
          "DIFF": -17462.540350598283,
          "Year": 2128
         },
         {
          "DIFF": -17721.15148610482,
          "Year": 2129
         },
         {
          "DIFF": -17975.52560613444,
          "Year": 2130
         },
         {
          "DIFF": -18225.446017396636,
          "Year": 2131
         },
         {
          "DIFF": -18470.74593117088,
          "Year": 2132
         },
         {
          "DIFF": -18711.290673110634,
          "Year": 2133
         },
         {
          "DIFF": -18946.951366170775,
          "Year": 2134
         },
         {
          "DIFF": -19177.59261304792,
          "Year": 2135
         },
         {
          "DIFF": -19403.059745491482,
          "Year": 2136
         },
         {
          "DIFF": -19623.18043968128,
          "Year": 2137
         },
         {
          "DIFF": -19837.781207155436,
          "Year": 2138
         },
         {
          "DIFF": -20046.70110268006,
          "Year": 2139
         },
         {
          "DIFF": -20249.794522427022,
          "Year": 2140
         },
         {
          "DIFF": -20446.93659711629,
          "Year": 2141
         },
         {
          "DIFF": -20638.03267129371,
          "Year": 2142
         },
         {
          "DIFF": -20823.021242154762,
          "Year": 2143
         },
         {
          "DIFF": -21001.8599067335,
          "Year": 2144
         },
         {
          "DIFF": -21174.516181308776,
          "Year": 2145
         },
         {
          "DIFF": -21340.964831344318,
          "Year": 2146
         },
         {
          "DIFF": -21501.17931818869,
          "Year": 2147
         },
         {
          "DIFF": -21655.136592873838,
          "Year": 2148
         },
         {
          "DIFF": -21802.821448439267,
          "Year": 2149
         },
         {
          "DIFF": -21944.226190895773,
          "Year": 2150
         },
         {
          "DIFF": -22079.35537944408,
          "Year": 2151
         },
         {
          "DIFF": -22208.2446553153,
          "Year": 2152
         },
         {
          "DIFF": -22330.94881917443,
          "Year": 2153
         },
         {
          "DIFF": -22447.550580020063,
          "Year": 2154
         },
         {
          "DIFF": -22558.1567530185,
          "Year": 2155
         },
         {
          "DIFF": -22662.8801980922,
          "Year": 2156
         },
         {
          "DIFF": -22761.829279874917,
          "Year": 2157
         },
         {
          "DIFF": -22855.105588898994,
          "Year": 2158
         },
         {
          "DIFF": -22942.80179062113,
          "Year": 2159
         },
         {
          "DIFF": -23025.00536934659,
          "Year": 2160
         },
         {
          "DIFF": -23101.806066293735,
          "Year": 2161
         },
         {
          "DIFF": -23173.303030888084,
          "Year": 2162
         },
         {
          "DIFF": -23239.61156873498,
          "Year": 2163
         },
         {
          "DIFF": -23300.86888376763,
          "Year": 2164
         },
         {
          "DIFF": -23357.232438237406,
          "Year": 2165
         },
         {
          "DIFF": -23408.86166673992,
          "Year": 2166
         },
         {
          "DIFF": -23455.91092688078,
          "Year": 2167
         },
         {
          "DIFF": -23498.52545475401,
          "Year": 2168
         },
         {
          "DIFF": -23536.838453564793,
          "Year": 2169
         },
         {
          "DIFF": -23570.97926816391,
          "Year": 2170
         },
         {
          "DIFF": -23601.078468324617,
          "Year": 2171
         },
         {
          "DIFF": -23627.271178761963,
          "Year": 2172
         },
         {
          "DIFF": -23649.700163347647,
          "Year": 2173
         },
         {
          "DIFF": -23668.520143179223,
          "Year": 2174
         },
         {
          "DIFF": -23683.89499722002,
          "Year": 2175
         },
         {
          "DIFF": -23695.99164488865,
          "Year": 2176
         },
         {
          "DIFF": -23704.975153848995,
          "Year": 2177
         },
         {
          "DIFF": -23711.00306996703,
          "Year": 2178
         },
         {
          "DIFF": -23714.223335965537,
          "Year": 2179
         },
         {
          "DIFF": -23714.777309338562,
          "Year": 2180
         },
         {
          "DIFF": -23712.80251718033,
          "Year": 2181
         },
         {
          "DIFF": -23708.4341337909,
          "Year": 2182
         },
         {
          "DIFF": -23701.806176727172,
          "Year": 2183
         },
         {
          "DIFF": -23693.05205161171,
          "Year": 2184
         },
         {
          "DIFF": -23682.305506129283,
          "Year": 2185
         },
         {
          "DIFF": -23669.701710548718,
          "Year": 2186
         },
         {
          "DIFF": -23655.3790975851,
          "Year": 2187
         },
         {
          "DIFF": -23639.47568259528,
          "Year": 2188
         },
         {
          "DIFF": -23622.12527464237,
          "Year": 2189
         },
         {
          "DIFF": -23603.457447507884,
          "Year": 2190
         },
         {
          "DIFF": -23583.59408832155,
          "Year": 2191
         },
         {
          "DIFF": -23562.648136911914,
          "Year": 2192
         },
         {
          "DIFF": -23540.726215150673,
          "Year": 2193
         },
         {
          "DIFF": -23517.930853090715,
          "Year": 2194
         },
         {
          "DIFF": -23494.361500355415,
          "Year": 2195
         },
         {
          "DIFF": -23470.11528471997,
          "Year": 2196
         },
         {
          "DIFF": -23445.288810844067,
          "Year": 2197
         },
         {
          "DIFF": -23419.97835588036,
          "Year": 2198
         },
         {
          "DIFF": -23394.277410175186,
          "Year": 2199
         },
         {
          "DIFF": -23368.273325202987,
          "Year": 2200
         },
         {
          "DIFF": -23342.01989679411,
          "Year": 2201
         },
         {
          "DIFF": -23315.56373470882,
          "Year": 2202
         },
         {
          "DIFF": -23288.945255361963,
          "Year": 2203
         },
         {
          "DIFF": -23262.200664660428,
          "Year": 2204
         },
         {
          "DIFF": -23235.362258130684,
          "Year": 2205
         },
         {
          "DIFF": -23208.45909027476,
          "Year": 2206
         },
         {
          "DIFF": -23181.51764125796,
          "Year": 2207
         },
         {
          "DIFF": -23154.56248581549,
          "Year": 2208
         },
         {
          "DIFF": -23127.617293057498,
          "Year": 2209
         },
         {
          "DIFF": -23100.705013252795,
          "Year": 2210
         },
         {
          "DIFF": -23073.84730196232,
          "Year": 2211
         },
         {
          "DIFF": -23047.063501773402,
          "Year": 2212
         },
         {
          "DIFF": -23020.37019808637,
          "Year": 2213
         },
         {
          "DIFF": -22993.781046322547,
          "Year": 2214
         },
         {
          "DIFF": -22967.307101198006,
          "Year": 2215
         },
         {
          "DIFF": -22940.957023125608,
          "Year": 2216
         },
         {
          "DIFF": -22914.737437637523,
          "Year": 2217
         },
         {
          "DIFF": -22888.65398701839,
          "Year": 2218
         },
         {
          "DIFF": -22862.711831208784,
          "Year": 2219
         },
         {
          "DIFF": -22836.91609371407,
          "Year": 2220
         },
         {
          "DIFF": -22811.272288428154,
          "Year": 2221
         },
         {
          "DIFF": -22785.78598201368,
          "Year": 2222
         },
         {
          "DIFF": -22760.462582209613,
          "Year": 2223
         },
         {
          "DIFF": -22735.306259969715,
          "Year": 2224
         },
         {
          "DIFF": -22710.31892138021,
          "Year": 2225
         },
         {
          "DIFF": -22685.502392784227,
          "Year": 2226
         },
         {
          "DIFF": -22660.857046370395,
          "Year": 2227
         },
         {
          "DIFF": -22636.382448945194,
          "Year": 2228
         },
         {
          "DIFF": -22612.077781584114,
          "Year": 2229
         },
         {
          "DIFF": -22587.942216627765,
          "Year": 2230
         },
         {
          "DIFF": -22563.97548768157,
          "Year": 2231
         },
         {
          "DIFF": -22540.177708176896,
          "Year": 2232
         },
         {
          "DIFF": -22516.54876153823,
          "Year": 2233
         },
         {
          "DIFF": -22493.088157012593,
          "Year": 2234
         },
         {
          "DIFF": -22469.794762216043,
          "Year": 2235
         },
         {
          "DIFF": -22446.666606661398,
          "Year": 2236
         },
         {
          "DIFF": -22423.700884524267,
          "Year": 2237
         },
         {
          "DIFF": -22400.894203944597,
          "Year": 2238
         },
         {
          "DIFF": -22378.242984271143,
          "Year": 2239
         },
         {
          "DIFF": -22355.74363953527,
          "Year": 2240
         },
         {
          "DIFF": -22333.39281167928,
          "Year": 2241
         },
         {
          "DIFF": -22311.187671790365,
          "Year": 2242
         },
         {
          "DIFF": -22289.125904441345,
          "Year": 2243
         },
         {
          "DIFF": -22267.205136899836,
          "Year": 2244
         },
         {
          "DIFF": -22245.42251685681,
          "Year": 2245
         },
         {
          "DIFF": -22223.774510473944,
          "Year": 2246
         },
         {
          "DIFF": -22202.256875668652,
          "Year": 2247
         },
         {
          "DIFF": -22180.864997565746,
          "Year": 2248
         },
         {
          "DIFF": -22159.594058943447,
          "Year": 2249
         },
         {
          "DIFF": -22138.43909962848,
          "Year": 2250
         },
         {
          "DIFF": -22117.395371503197,
          "Year": 2251
         },
         {
          "DIFF": -22096.45794171607,
          "Year": 2252
         },
         {
          "DIFF": -22075.6220804099,
          "Year": 2253
         },
         {
          "DIFF": -22054.883425090928,
          "Year": 2254
         },
         {
          "DIFF": -22034.23800664395,
          "Year": 2255
         },
         {
          "DIFF": -22013.681954512373,
          "Year": 2256
         },
         {
          "DIFF": -21993.21129683545,
          "Year": 2257
         },
         {
          "DIFF": -21972.821897270158,
          "Year": 2258
         },
         {
          "DIFF": -21952.5092945965,
          "Year": 2259
         },
         {
          "DIFF": -21932.26873432938,
          "Year": 2260
         },
         {
          "DIFF": -21912.095192307606,
          "Year": 2261
         },
         {
          "DIFF": -21891.983461542986,
          "Year": 2262
         },
         {
          "DIFF": -21871.928386793472,
          "Year": 2263
         },
         {
          "DIFF": -21851.924964027945,
          "Year": 2264
         },
         {
          "DIFF": -21831.96846451983,
          "Year": 2265
         },
         {
          "DIFF": -21812.054554198403,
          "Year": 2266
         },
         {
          "DIFF": -21792.179179617204,
          "Year": 2267
         },
         {
          "DIFF": -21772.3384101158,
          "Year": 2268
         },
         {
          "DIFF": -21752.528019274585,
          "Year": 2269
         },
         {
          "DIFF": -21732.743267100304,
          "Year": 2270
         },
         {
          "DIFF": -21712.979017227422,
          "Year": 2271
         },
         {
          "DIFF": -21693.229862611275,
          "Year": 2272
         },
         {
          "DIFF": -21673.490257829893,
          "Year": 2273
         },
         {
          "DIFF": -21653.75464891456,
          "Year": 2274
         },
         {
          "DIFF": -21634.017673288938,
          "Year": 2275
         },
         {
          "DIFF": -21614.27425716538,
          "Year": 2276
         },
         {
          "DIFF": -21594.519524820615,
          "Year": 2277
         },
         {
          "DIFF": -21574.748561530374,
          "Year": 2278
         },
         {
          "DIFF": -21554.956267198548,
          "Year": 2279
         },
         {
          "DIFF": -21535.13729901053,
          "Year": 2280
         },
         {
          "DIFF": -21515.285985752475,
          "Year": 2281
         },
         {
          "DIFF": -21495.39640206471,
          "Year": 2282
         },
         {
          "DIFF": -21475.462528963108,
          "Year": 2283
         },
         {
          "DIFF": -21455.478315432556,
          "Year": 2284
         },
         {
          "DIFF": -21435.43776721228,
          "Year": 2285
         },
         {
          "DIFF": -21415.33509975532,
          "Year": 2286
         },
         {
          "DIFF": -21395.164769402705,
          "Year": 2287
         },
         {
          "DIFF": -21374.921265284065,
          "Year": 2288
         },
         {
          "DIFF": -21354.59888309473,
          "Year": 2289
         },
         {
          "DIFF": -21334.19146782765,
          "Year": 2290
         },
         {
          "DIFF": -21313.69246423384,
          "Year": 2291
         },
         {
          "DIFF": -21293.09506637277,
          "Year": 2292
         },
         {
          "DIFF": -21272.392202604562,
          "Year": 2293
         },
         {
          "DIFF": -21251.576620650943,
          "Year": 2294
         },
         {
          "DIFF": -21230.641023687087,
          "Year": 2295
         },
         {
          "DIFF": -21209.578245627694,
          "Year": 2296
         },
         {
          "DIFF": -21188.381271143444,
          "Year": 2297
         },
         {
          "DIFF": -21167.043151744176,
          "Year": 2298
         },
         {
          "DIFF": -21145.556806556415,
          "Year": 2299
         },
         {
          "DIFF": -21123.91474994365,
          "Year": 2300
         }
        ]
       },
       "encoding": {
        "x": {
         "field": "Year",
         "type": "quantitative"
        },
        "y": {
         "field": "DIFF",
         "type": "quantitative"
        }
       },
       "mark": "line"
      },
      "image/png": "[encoded data removed]",
      "image/svg+xml": "<?xml version=\"1.0\" encoding=\"utf-8\"?>\n<!DOCTYPE svg PUBLIC \"-//W3C//DTD SVG 1.1//EN\" \"http://www.w3.org/Graphics/SVG/1.1/DTD/svg11.dtd\">\n<svg xmlns=\"http://www.w3.org/2000/svg\" xmlns:xlink=\"http://www.w3.org/1999/xlink\" version=\"1.1\" class=\"marks\" width=\"273\" height=\"247\" viewBox=\"0 0 273 247\"><rect width=\"273\" height=\"247\" fill=\"white\"/><g fill=\"none\" stroke-miterlimit=\"10\" transform=\"translate(66,10)\"><g class=\"mark-group role-frame root\" role=\"graphics-object\" aria-roledescription=\"group mark container\"><g transform=\"translate(0,0)\"><path class=\"background\" aria-hidden=\"true\" d=\"M0.5,0.5h200v200h-200Z\" stroke=\"#ddd\"/><g><g class=\"mark-group role-axis\" aria-hidden=\"true\"><g transform=\"translate(0.5,200.5)\"><path class=\"background\" aria-hidden=\"true\" d=\"M0,0h0v0h0Z\" pointer-events=\"none\"/><g><g class=\"mark-rule role-axis-grid\" pointer-events=\"none\"><line transform=\"translate(18,-200)\" x2=\"0\" y2=\"200\" stroke=\"#ddd\" stroke-width=\"1\" opacity=\"1\"/><line transform=\"translate(55,-200)\" x2=\"0\" y2=\"200\" stroke=\"#ddd\" stroke-width=\"1\" opacity=\"1\"/><line transform=\"translate(91,-200)\" x2=\"0\" y2=\"200\" stroke=\"#ddd\" stroke-width=\"1\" opacity=\"1\"/><line transform=\"translate(127,-200)\" x2=\"0\" y2=\"200\" stroke=\"#ddd\" stroke-width=\"1\" opacity=\"1\"/><line transform=\"translate(164,-200)\" x2=\"0\" y2=\"200\" stroke=\"#ddd\" stroke-width=\"1\" opacity=\"1\"/><line transform=\"translate(200,-200)\" x2=\"0\" y2=\"200\" stroke=\"#ddd\" stroke-width=\"1\" opacity=\"1\"/></g></g><path class=\"foreground\" aria-hidden=\"true\" d=\"\" pointer-events=\"none\" display=\"none\"/></g></g><g class=\"mark-group role-axis\" aria-hidden=\"true\"><g transform=\"translate(0.5,0.5)\"><path class=\"background\" aria-hidden=\"true\" d=\"M0,0h0v0h0Z\" pointer-events=\"none\"/><g><g class=\"mark-rule role-axis-grid\" pointer-events=\"none\"><line transform=\"translate(0,167)\" x2=\"200\" y2=\"0\" stroke=\"#ddd\" stroke-width=\"1\" opacity=\"1\"/><line transform=\"translate(0,125)\" x2=\"200\" y2=\"0\" stroke=\"#ddd\" stroke-width=\"1\" opacity=\"1\"/><line transform=\"translate(0,83)\" x2=\"200\" y2=\"0\" stroke=\"#ddd\" stroke-width=\"1\" opacity=\"1\"/><line transform=\"translate(0,42)\" x2=\"200\" y2=\"0\" stroke=\"#ddd\" stroke-width=\"1\" opacity=\"1\"/><line transform=\"translate(0,0)\" x2=\"200\" y2=\"0\" stroke=\"#ddd\" stroke-width=\"1\" opacity=\"1\"/></g></g><path class=\"foreground\" aria-hidden=\"true\" d=\"\" pointer-events=\"none\" display=\"none\"/></g></g><g class=\"mark-group role-axis\" role=\"graphics-symbol\" aria-roledescription=\"axis\" aria-label=\"X-axis titled 'Year' for a linear scale with values from 1,750 to 2,300\"><g transform=\"translate(0.5,200.5)\"><path class=\"background\" aria-hidden=\"true\" d=\"M0,0h0v0h0Z\" pointer-events=\"none\"/><g><g class=\"mark-rule role-axis-tick\" pointer-events=\"none\"><line transform=\"translate(18,0)\" x2=\"0\" y2=\"5\" stroke=\"#888\" stroke-width=\"1\" opacity=\"1\"/><line transform=\"translate(55,0)\" x2=\"0\" y2=\"5\" stroke=\"#888\" stroke-width=\"1\" opacity=\"1\"/><line transform=\"translate(91,0)\" x2=\"0\" y2=\"5\" stroke=\"#888\" stroke-width=\"1\" opacity=\"1\"/><line transform=\"translate(127,0)\" x2=\"0\" y2=\"5\" stroke=\"#888\" stroke-width=\"1\" opacity=\"1\"/><line transform=\"translate(164,0)\" x2=\"0\" y2=\"5\" stroke=\"#888\" stroke-width=\"1\" opacity=\"1\"/><line transform=\"translate(200,0)\" x2=\"0\" y2=\"5\" stroke=\"#888\" stroke-width=\"1\" opacity=\"1\"/></g><g class=\"mark-text role-axis-label\" pointer-events=\"none\"><text text-anchor=\"middle\" transform=\"translate(18.181818181818183,15)\" font-family=\"sans-serif\" font-size=\"10px\" fill=\"#000\" opacity=\"1\">1,800</text><text text-anchor=\"middle\" transform=\"translate(54.54545454545454,15)\" font-family=\"sans-serif\" font-size=\"10px\" fill=\"#000\" opacity=\"0\">1,900</text><text text-anchor=\"middle\" transform=\"translate(90.9090909090909,15)\" font-family=\"sans-serif\" font-size=\"10px\" fill=\"#000\" opacity=\"1\">2,000</text><text text-anchor=\"middle\" transform=\"translate(127.27272727272727,15)\" font-family=\"sans-serif\" font-size=\"10px\" fill=\"#000\" opacity=\"0\">2,100</text><text text-anchor=\"middle\" transform=\"translate(163.63636363636365,15)\" font-family=\"sans-serif\" font-size=\"10px\" fill=\"#000\" opacity=\"1\">2,200</text><text text-anchor=\"end\" transform=\"translate(200,15)\" font-family=\"sans-serif\" font-size=\"10px\" fill=\"#000\" opacity=\"0\">2,300</text></g><g class=\"mark-rule role-axis-domain\" pointer-events=\"none\"><line transform=\"translate(0,0)\" x2=\"200\" y2=\"0\" stroke=\"#888\" stroke-width=\"1\" opacity=\"1\"/></g><g class=\"mark-text role-axis-title\" pointer-events=\"none\"><text text-anchor=\"middle\" transform=\"translate(100,30)\" font-family=\"sans-serif\" font-size=\"11px\" font-weight=\"bold\" fill=\"#000\" opacity=\"1\">Year</text></g></g><path class=\"foreground\" aria-hidden=\"true\" d=\"\" pointer-events=\"none\" display=\"none\"/></g></g><g class=\"mark-group role-axis\" role=\"graphics-symbol\" aria-roledescription=\"axis\" aria-label=\"Y-axis titled 'DIFF' for a linear scale with values from −24,000 to 0\"><g transform=\"translate(0.5,0.5)\"><path class=\"background\" aria-hidden=\"true\" d=\"M0,0h0v0h0Z\" pointer-events=\"none\"/><g><g class=\"mark-rule role-axis-tick\" pointer-events=\"none\"><line transform=\"translate(0,167)\" x2=\"-5\" y2=\"0\" stroke=\"#888\" stroke-width=\"1\" opacity=\"1\"/><line transform=\"translate(0,125)\" x2=\"-5\" y2=\"0\" stroke=\"#888\" stroke-width=\"1\" opacity=\"1\"/><line transform=\"translate(0,83)\" x2=\"-5\" y2=\"0\" stroke=\"#888\" stroke-width=\"1\" opacity=\"1\"/><line transform=\"translate(0,42)\" x2=\"-5\" y2=\"0\" stroke=\"#888\" stroke-width=\"1\" opacity=\"1\"/><line transform=\"translate(0,0)\" x2=\"-5\" y2=\"0\" stroke=\"#888\" stroke-width=\"1\" opacity=\"1\"/></g><g class=\"mark-text role-axis-label\" pointer-events=\"none\"><text text-anchor=\"end\" transform=\"translate(-7,169.66666666666669)\" font-family=\"sans-serif\" font-size=\"10px\" fill=\"#000\" opacity=\"1\">−20,000</text><text text-anchor=\"end\" transform=\"translate(-7,128)\" font-family=\"sans-serif\" font-size=\"10px\" fill=\"#000\" opacity=\"1\">−15,000</text><text text-anchor=\"end\" transform=\"translate(-7,86.33333333333333)\" font-family=\"sans-serif\" font-size=\"10px\" fill=\"#000\" opacity=\"1\">−10,000</text><text text-anchor=\"end\" transform=\"translate(-7,44.66666666666667)\" font-family=\"sans-serif\" font-size=\"10px\" fill=\"#000\" opacity=\"1\">−5,000</text><text text-anchor=\"end\" transform=\"translate(-7,3)\" font-family=\"sans-serif\" font-size=\"10px\" fill=\"#000\" opacity=\"1\">0</text></g><g class=\"mark-rule role-axis-domain\" pointer-events=\"none\"><line transform=\"translate(0,200)\" x2=\"0\" y2=\"-200\" stroke=\"#888\" stroke-width=\"1\" opacity=\"1\"/></g><g class=\"mark-text role-axis-title\" pointer-events=\"none\"><text text-anchor=\"middle\" transform=\"translate(-50,100) rotate(-90) translate(0,-2)\" font-family=\"sans-serif\" font-size=\"11px\" font-weight=\"bold\" fill=\"#000\" opacity=\"1\">DIFF</text></g></g><path class=\"foreground\" aria-hidden=\"true\" d=\"\" pointer-events=\"none\" display=\"none\"/></g></g><g class=\"mark-line role-mark marks\" role=\"graphics-object\" aria-roledescription=\"line mark container\"><path aria-label=\"Year: 1750; DIFF: 0\" role=\"graphics-symbol\" aria-roledescription=\"line mark\" d=\"M72.72727272727273,0L73.0909090909091,0L73.45454545454545,0L73.81818181818181,0L74.18181818181819,0L74.54545454545455,0L74.90909090909092,0L75.27272727272727,0L75.63636363636364,0L76,0L76.36363636363637,0L76.72727272727272,0L77.0909090909091,0L77.45454545454545,0L77.81818181818181,0L78.18181818181819,0L78.54545454545455,0L78.9090909090909,0L79.27272727272727,0L79.63636363636364,0L80,0L80.36363636363636,0L80.72727272727272,0L81.0909090909091,0L81.45454545454545,0L81.81818181818183,0L82.18181818181817,0L82.54545454545455,0L82.9090909090909,0L83.27272727272728,0L83.63636363636363,0L84,0L84.36363636363636,0L84.72727272727273,0L85.0909090909091,0L85.45454545454545,0L85.81818181818181,0L86.18181818181819,0L86.54545454545455,0L86.9090909090909,0L87.27272727272727,0.0005723184316686059L87.63636363636364,0.0017644191507626417L88,0.003422747420933625L88.36363636363636,0.005268916183309713L88.72727272727273,0.007214412570233364L89.0909090909091,0.009209193631498636L89.45454545454545,0.011641700543996159L89.81818181818181,0.014839957673151716L90.18181818181819,0.01903166619450225L90.54545454545455,0.02428281338944238L90.9090909090909,0.03188061608354609L91.27272727272727,0.042097285557241015L91.63636363636364,0.0550649762080857L92,0.07113790044095403L92.36363636363636,0.09059957154338161L92.72727272727272,0.11365010014001697L93.0909090909091,0.14042594205239123L93.45454545454545,0.1710041620492042L93.81818181818183,0.20544241073319203L94.18181818181817,0.24381006299905028L94.54545454545455,0.2861759620267579L94.9090909090909,0.332810222960922L95.27272727272728,0.38400621917098476L95.63636363636364,0.44009751083988746L96,0.5014866763197068L96.36363636363636,0.568595002377692L96.72727272727273,0.6418305783125078L97.0909090909091,0.721594743960785L97.45454545454545,0.808320085800851L97.81818181818181,0.9024704469033251L98.18181818181819,1.0045296958012262L98.54545454545455,1.1150096037944035L98.9090909090909,1.2344586387543544L99.27272727272727,1.3634841633688888L99.63636363636364,1.5027382044112025L100,1.6528818695611847L100.36363636363636,1.814458157754184L100.72727272727273,1.9878984881041006L101.0909090909091,2.173565263967614L101.45454545454547,2.3717783300710504L101.81818181818181,2.5828331463131127L102.18181818181817,2.807001778151119L102.54545454545453,3.044598632496487L102.9090909090909,3.295971148544541L103.27272727272727,3.5615310379488285L103.63636363636364,3.8417973157484075L104,4.137351250804211L104.36363636363637,4.4488031466501265L104.72727272727273,4.776758186633612L105.09090909090911,5.121790630386869L105.45454545454544,5.484441482470714L105.81818181818181,5.865186151121926L106.18181818181817,6.264417715596693L106.54545454545455,6.682518787901315L106.9090909090909,7.1198898959875745L107.27272727272728,7.576979978589216L107.63636363636364,8.054327391321813L108,8.552565631907783L108.36363636363637,9.072396699752417L108.72727272727272,9.614528090881258L109.09090909090908,10.179584043050994L109.45454545454545,10.767978809216094L109.81818181818181,11.380290222588997L110.18181818181819,12.017046717021728L110.54545454545455,12.678748775397741L110.9090909090909,13.365911932608764L111.27272727272728,14.079133654221842L111.63636363636364,14.819122275608244L112.00000000000001,15.586628718820684L112.36363636363636,16.382397078579135L112.72727272727272,17.207170553801298L113.0909090909091,18.061634427574845L113.45454545454545,18.94637978071405L113.81818181818181,19.861935463674783L114.18181818181819,20.808813679942983L114.54545454545455,21.78754240882894L114.90909090909092,22.798696370473294L115.27272727272728,23.842967003836147L115.63636363636363,24.921188736276246L115.99999999999999,26.03428097492335L116.36363636363636,27.183148656771916L116.72727272727272,28.36860945468651L117.0909090909091,29.591312020896776L117.45454545454545,30.851819504759614L117.81818181818183,32.150664795159045L118.18181818181819,33.48834730833574L118.54545454545456,34.86534998781281L118.90909090909092,36.2816845362133L119.27272727272727,37.73735672688539L119.63636363636363,39.23242486684077L120,40.767033162235755L120.36363636363636,42.341368684145465L120.72727272727273,43.9555869523397L121.0909090909091,45.609748479483336L121.45454545454545,47.303757853947644L121.81818181818183,49.037372437162176L122.18181818181819,50.810181050045266L122.54545454545453,52.62160356294867L122.9090909090909,54.470982136204846L123.27272727272727,56.3576233949066L123.63636363636363,58.28087128484234L124,60.240182310265176L124.36363636363636,62.235134524432944L124.72727272727273,64.26538101199937L125.0909090909091,66.33048956084724L125.45454545454547,68.42977158079351L125.81818181818183,70.56229406665273L126.18181818181817,72.72692307409984L126.54545454545453,74.92240030159785L126.9090909090909,77.14740792011531L127.27272727272727,79.40065854850691L127.63636363636364,81.67990319711582L128,83.98349586412077L128.36363636363637,86.30978246965095L128.72727272727275,88.65698186468993L129.0909090909091,91.02316020681948L129.45454545454544,93.4061657731984L129.8181818181818,95.80366858944957L130.1818181818182,98.21324379854875L130.54545454545453,100.6324400810971L130.9090909090909,103.0588576350594L131.27272727272728,105.49023736718807L131.63636363636363,107.92462238909404L132,110.36017881705386L132.36363636363637,112.79498627743064L132.72727272727275,115.22692713844008L133.0909090909091,117.65369643920178L133.45454545454544,120.07286026742659L133.8181818181818,122.48187875465568L134.1818181818182,124.87820251297089L134.54545454545453,127.25933752411511L134.9090909090909,129.6229696738534L135.27272727272728,131.96708722744756L135.63636363636365,134.28996863575108L136,136.58988545648754L136.36363636363635,138.86499956787253L136.72727272727272,141.11335710738396L137.0909090909091,143.33281386748422L137.45454545454544,145.52116958831903L137.8181818181818,147.67626238420684L138.1818181818182,149.79604671778702L138.54545454545456,151.87871681163864L138.9090909090909,153.92288275975733L139.27272727272728,155.92742227592197L139.63636363636365,157.89126138475646L140,159.81327177539933L140.36363636363635,161.69216454576235L140.72727272727272,163.52650366401068L141.0909090909091,165.31484339296196L141.45454545454547,167.05584252233385L141.8181818181818,168.74828768689184L142.1818181818182,170.39113830930245L142.54545454545456,171.98360559411427L142.9090909090909,173.52517701795637L143.27272727272725,175.01549922277917L143.63636363636363,176.45430151090648L144,177.84137359453598L144.36363636363637,179.17649431823907L144.72727272727272,180.45947160728198L145.0909090909091,181.6901787369939L145.45454545454547,182.86855159079812L145.8181818181818,183.994628162034L146.1818181818182,185.0687054609608L146.54545454545456,186.09124015978693L146.9090909090909,187.0629215001672L147.27272727272725,187.98463960848747L147.63636363636363,188.85733498410167L148,189.68191066562432L148.36363636363637,190.45921324082497L148.72727272727272,191.19001492184276L149.0909090909091,191.8750447445549L149.45454545454547,192.5150505524478L149.81818181818184,193.11085859073404L150.18181818181816,193.6634297394582L150.54545454545453,194.17390736473027L150.9090909090909,194.6436036519784L151.27272727272728,195.07384722283265L151.63636363636363,195.46592439067317L152,195.8210454562834L152.36363636363637,196.1403204463733L152.72727272727275,196.42482723469922L153.0909090909091,196.67565390270514L153.45454545454544,196.89392648968303L153.8181818181818,197.08083469456372L154.1818181818182,197.23766785982687L154.54545454545453,197.36579164350016L154.9090909090909,197.46659704073875L155.27272727272728,197.5414596154083L155.63636363636363,197.59169224972527L156,197.6185277997128L156.36363636363637,197.623144244488L156.72727272727275,197.6066876431694L157.0909090909091,197.5702844482575L157.45454545454544,197.51505147272644L157.8181818181818,197.44210043009758L158.1818181818182,197.3525458844107L158.54545454545453,197.24751425457265L158.9090909090909,197.12815914654252L159.27272727272728,196.995630688294L159.63636363636365,196.85104395535308L160,196.69547872923238L160.36363636363635,196.52995073601295L160.72727272727272,196.35540114093263L161.0909090909091,196.17271845958894L161.45454545454544,195.98275710908928L161.8181818181818,195.78634583629514L162.1818181818182,195.5842940393331L162.54545454545456,195.3774067570339L162.9090909090909,195.16648629900303L163.27272727272728,194.9523117514599L163.63636363636365,194.7356110433582L164,194.51683247328427L164.36363636363635,194.29636445590683L164.72727272727272,194.07454379468302L165.0909090909091,193.85167220550358L165.45454545454547,193.6280188177557L165.8181818181818,193.40382575228966L166.1818181818182,193.17931367714968L166.54545454545456,192.95468738179576L166.9090909090909,192.73014410881248L167.27272727272725,192.50587511043994L167.63636363636363,192.282060849686L168,192.05886251477835L168.36363636363637,191.8364183173864L168.72727272727272,191.6148420526879L169.0909090909091,191.39422584331672L169.45454545454547,191.17464185938007L169.8181818181818,190.95614531364603L170.1818181818182,190.73878322515324L170.54545454545456,190.52259859340654L170.9090909090909,190.3076341142839L171.27272727272725,190.09393573690127L171.63636363636363,189.881549850114L172,189.67052151841344L172.36363636363637,189.46088549974763L172.72727272727272,189.25265767816842L173.0909090909091,189.04585327320189L173.45454545454547,188.84047538641994L173.8181818181818,188.63652040787662L174.18181818181816,188.43398151320093L174.54545454545453,188.23285180523138L174.9090909090909,188.0331290640131L175.27272727272728,187.83481423480745L175.63636363636363,187.6379063461519L176,187.44240130843826L176.36363636363637,187.2482896851337L176.72727272727272,187.05555505551166L177.0909090909091,186.86417403770224L177.45454545454547,186.67411836620497L177.8181818181818,186.4853582022595L178.1818181818182,186.29786366279393L178.54545454545453,186.11160676399402L178.9090909090909,185.92656393158637L179.27272727272728,185.74271587034454L179.63636363636363,185.56004280749866L180,185.37852097380673L180.36363636363637,185.1981209206162L180.72727272727275,185.01880729723877L181.0909090909091,184.8405416463812L181.45454545454544,184.66328382452872L181.8181818181818,184.48699249690398L182.1818181818182,184.31162809585996L182.54545454545453,184.1371495143006L182.9090909090909,183.96351733674916L183.27272727272728,183.79069520909107L183.63636363636365,183.61865005536626L184,183.44734962093642L184.36363636363637,183.27676080696207L184.72727272727272,183.10684914391797L185.0909090909091,182.93757745497084L185.45454545454544,182.7689061194115L185.8181818181818,182.60079326923005L186.1818181818182,182.43319551285822L186.54545454545456,182.2660698899456L186.9090909090909,182.0993747002329L187.27272727272728,181.93307053766523L187.63636363636365,181.7671212849867L188,181.6014931634767L188.36363636363635,181.4361534176317L188.72727272727272,181.2710668272882L189.0909090909091,181.10619389250252L189.45454545454544,180.9414918102285L189.8181818181818,180.77691552176063L190.1818181818182,180.61241881524913L190.54545454545456,180.44795540762132L190.9090909090909,180.28348061074115L191.27272727272728,180.11895214304482L191.63636363636363,179.95432937350512L192,179.78957134608643L192.36363636363635,179.6246355599879L192.72727272727272,179.45947749175443L193.0909090909091,179.2940498812706L193.45454545454547,179.12830335053926L193.8181818181818,178.96218774135923L194.1818181818182,178.79565262860464L194.54545454545456,178.62864806010234L194.9090909090909,178.46112583129434L195.27272727272725,178.29303974502255L195.63636363636363,178.1243438773672L196,177.9549906924561L196.36363636363637,177.78492889856378L196.72727272727272,177.61410386861533L197.0909090909091,177.44245888643974L197.45454545454547,177.26993502170467L197.8181818181818,177.09647183875785L198.1818181818182,176.92200853072572L198.54545454545453,176.74648538023078L198.9090909090909,176.56984392619538L199.27272727272728,176.39202626453482L199.63636363636363,176.21297338797012L200,176.0326229161971\" stroke=\"#4c78a8\" stroke-width=\"2\"/></g></g><path class=\"foreground\" aria-hidden=\"true\" d=\"\" display=\"none\"/></g></g></g></svg>\n",
      "text/plain": [
       "@vlplot(\n",
       "    mark=\"line\",\n",
       "    encoding={\n",
       "        x={\n",
       "            field=\"Year\"\n",
       "        },\n",
       "        y={\n",
       "            field=\"DIFF\"\n",
       "        }\n",
       "    },\n",
       "    data={\n",
       "        values=...\n",
       "    }\n",
       ")"
      ]
     },
     "execution_count": 28,
     "metadata": {},
     "output_type": "execute_result"
    }
   ],
   "source": [
    "# difference between fundfair and fund in cumulative emissions since the graph above masks it out due \n",
    "# to scale\n",
    "\n",
    "diffs = fundfairvals .- fundvals\n",
    "DataFrame(:Year => Mimi.time_labels(m), :DIFF => diffs) |>\n",
    "@vlplot(\n",
    "    :line, \n",
    "    x = :Year,\n",
    "    y = :DIFF,\n",
    ")"
   ]
  },
  {
   "cell_type": "code",
   "execution_count": 29,
   "metadata": {},
   "outputs": [
    {
     "data": {
      "text/plain": [
       "21-element Vector{Union{Missing, Float64}}:\n",
       " 368378.28427284386\n",
       " 377103.10120640724\n",
       " 385949.08719491895\n",
       " 394920.5442489212\n",
       " 404021.93881396344\n",
       " 413257.86762383534\n",
       " 422627.5960521038\n",
       " 432132.5649749397\n",
       " 441774.31715773436\n",
       " 451554.2960206777\n",
       " 461473.9806521432\n",
       " 471533.73002047476\n",
       " 481735.30164614186\n",
       " 492080.43180822296\n",
       " 502570.794460061\n",
       " 513208.1658445622\n",
       " 523994.25941614195\n",
       " 534930.7348512585\n",
       " 546019.3323173702\n",
       " 557261.7277639604\n",
       " 568659.7058490447"
      ]
     },
     "execution_count": 29,
     "metadata": {},
     "output_type": "execute_result"
    }
   ],
   "source": [
    "# cumulative emissions value in 2020 - 2040\n",
    "idxStart = findfirst(x -> x == 2020, Mimi.time_labels(m))\n",
    "idxEnd = findfirst(x -> x == 2040, Mimi.time_labels(m))\n",
    "fundfairvals[idxStart:idxEnd]"
   ]
  },
  {
   "cell_type": "code",
   "execution_count": null,
   "metadata": {},
   "outputs": [],
   "source": []
  }
 ],
 "metadata": {
  "kernelspec": {
   "display_name": "Julia 1.6.0",
   "language": "julia",
   "name": "julia-1.6"
  },
  "language_info": {
   "file_extension": ".jl",
   "mimetype": "application/julia",
   "name": "julia",
   "version": "1.6.0"
  }
 },
 "nbformat": 4,
 "nbformat_minor": 4
}
